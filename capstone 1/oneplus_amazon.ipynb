{
 "cells": [
  {
   "cell_type": "code",
   "execution_count": 1,
   "id": "fe5d9238",
   "metadata": {},
   "outputs": [],
   "source": [
    "import requests\n",
    "from bs4 import BeautifulSoup\n",
    "import re\n",
    "import pandas as pd"
   ]
  },
  {
   "cell_type": "code",
   "execution_count": 2,
   "id": "59d1e27f",
   "metadata": {},
   "outputs": [],
   "source": [
    "headers={\"User-Agent\": \"Mozilla/5.0 (Windows NT 10.0; Win64; x64) AppleWebKit/537.36 (KHTML, like Gecko) Chrome/106.0.0.0 Safari/537.36\"}"
   ]
  },
  {
   "cell_type": "code",
   "execution_count": 3,
   "id": "858d535b",
   "metadata": {},
   "outputs": [],
   "source": [
    "def details(baseurl,headers):\n",
    "    res1=requests.get(baseurl,headers=headers)\n",
    "    #print(res1)\n",
    "    a=BeautifulSoup(res1.content,\"html.parser\")\n",
    "    b=a.find('ul',{\"class\":\"a-unordered-list a-vertical a-spacing-mini\"})\n",
    "    c=b.text\n",
    "    #print(c)\n",
    "    d=r'[0-9]+\\s?[M][P]'\n",
    "    f=re.findall(d,c)\n",
    "    print(f)\n",
    "\n",
    "    k=r'[0-9]+\\.[0-9]+\\s?[i,I][nch,nches]+'\n",
    "    l=re.findall(k,c)\n",
    "    print(l)\n",
    "    m=r'[0-9]+\\s?[m,M][A][h,H]'\n",
    "    n=re.findall(m,c)\n",
    "    print(n)\n",
    "\n",
    "    o=a.find('span',{\"class\":\"a-price-whole\"})\n",
    "    p=o.text\n",
    "    print(p)\n",
    "    q=a.find('span',{\"class\":\"a-size-large product-title-word-break\"})\n",
    "    r=q.text\n",
    "    #print(r)\n",
    "    \n",
    "    g=r'[0-9]+\\s?[G][B]'\n",
    "    h=re.findall(g,r)\n",
    "    print(h)\n",
    "\n",
    "    s=r'[o,O][A-Za-z]+\\s?[A-Za-z0-9]+\\s?[A-Za-z0-9]+'\n",
    "    t=re.findall(s,r)\n",
    "    print(t)\n",
    "\n",
    "    u=r'[(][^R][A-Za-z]+\\s?[A-Za-z0-9]+'\n",
    "    y=re.findall(u,r)\n",
    "    print(y)\n",
    "    \n",
    "    qq=a.find('tr',{\"class\":\"a-spacing-small po-operating_system\"})\n",
    "    rr=qq.text\n",
    "    #print(rr)\n",
    "\n",
    "    os='[o,O,a,A][A-Za-z]+\\s?[0-9a-zA-Z]+'\n",
    "    red=re.findall(os,rr)\n",
    "    print(red)\n",
    "    \n",
    "    gh=a.find(\"tr\",{\"class\":\"a-spacing-small po-cellular_technology\"})\n",
    "    #print(gh.text)\n",
    "    bh=gh.text\n",
    "    g1=r'[0-9]{1}\\s?[G]'\n",
    "    h1=re.findall(g1,bh)\n",
    "    print(h1)\n",
    "    \n",
    "    hn=a.find(\"span\",{\"class\":\"a-icon-alt\"})\n",
    "    st=hn.text\n",
    "    sta=r'[0-9]+[.][0-9]*'\n",
    "    star=re.findall(sta,st)\n",
    "    print(star)\n",
    "\n",
    "    us=a.find('span',{\"id\":\"acrCustomerReviewText\",\"class\":\"a-size-base\"})\n",
    "    ui=us.text\n",
    "    use=r'[0-9]*[,]*[0-9]+'\n",
    "    uss=re.findall(use,ui)\n",
    "    print(uss)\n",
    "    \n",
    "    storage.append(h[1])\n",
    "    camera_px.append(f[0])\n",
    "    self_px.append(f[-1])\n",
    "    colour.append(y[0])\n",
    "    name.append(t[0])\n",
    "    ram.append(h[0])\n",
    "    tech.append(h1[0])\n",
    "    if n==[]:\n",
    "        battery.append(\"4500mAh\")\n",
    "    else:\n",
    "        battery.append(n[0])\n",
    "    if l==[]:\n",
    "        display.append(\"6.44 Inches\")\n",
    "    else:\n",
    "        display.append(l[0])\n",
    "    price.append(p)\n",
    "    os_sys.append(red[0])\n",
    "    star_rate.append(star[0])\n",
    "    user_rate.append(uss[0])"
   ]
  },
  {
   "cell_type": "code",
   "execution_count": 4,
   "id": "1a92f74e",
   "metadata": {},
   "outputs": [],
   "source": [
    "def details1(baseurl,headers):\n",
    "    res1=requests.get(baseurl,headers=headers)\n",
    "    #print(res1)\n",
    "    a=BeautifulSoup(res1.content,\"html.parser\")\n",
    "    b=a.find('ul',{\"class\":\"a-unordered-list a-vertical a-spacing-mini\"})\n",
    "    c=b.text\n",
    "    #print(c)\n",
    "    d=r'[0-9]+\\s?[M][P]'\n",
    "    f=re.findall(d,c)\n",
    "    print(f)\n",
    "\n",
    "    k=r'[0-9]+\\.[0-9]+\\s?[i,I][nch,nches]+'\n",
    "    l=re.findall(k,c)\n",
    "    print(l)\n",
    "    m=r'[0-9]+\\s?[m,M][A][h,H]'\n",
    "    n=re.findall(m,c)\n",
    "    print(n)\n",
    "\n",
    "    o=a.find('span',{\"class\":\"a-price-whole\"})\n",
    "    p=o.text\n",
    "    print(p)\n",
    "    q=a.find('span',{\"class\":\"a-size-large product-title-word-break\"})\n",
    "    r=q.text\n",
    "    #print(r)\n",
    "    \n",
    "    g=r'[0-9]+\\s?[G][B]'\n",
    "    h=re.findall(g,r)\n",
    "    print(h)\n",
    "\n",
    "    s=r'[o,O][A-Za-z]+\\s?[A-Za-z0-9]+\\s?[A-Za-z0-9]+'\n",
    "    t=re.findall(s,r)\n",
    "    print(t)\n",
    "\n",
    "    u=r'[(]*[^R][A-Za-z]+\\s?[A-Za-z0-9]+'\n",
    "    y=re.findall(u,r)\n",
    "    print(y)\n",
    "    \n",
    "    qq=a.find('tr',{\"class\":\"a-spacing-small po-operating_system\"})\n",
    "    rr=qq.text\n",
    "    #print(rr)\n",
    "\n",
    "    os='[o,O,a,A][A-Za-z]+\\s?[0-9a-zA-Z]+'\n",
    "    red=re.findall(os,rr)\n",
    "    print(red)\n",
    "    \n",
    "    gh=a.find(\"tr\",{\"class\":\"a-spacing-small po-cellular_technology\"})\n",
    "    #print(gh.text)\n",
    "    bh=gh.text\n",
    "    g1=r'[0-9]{1}\\s?[G]'\n",
    "    h1=re.findall(g1,bh)\n",
    "    print(h1)\n",
    "    \n",
    "    hn=a.find(\"span\",{\"class\":\"a-icon-alt\"})\n",
    "    st=hn.text\n",
    "    sta=r'[0-9]+[.][0-9]*'\n",
    "    star=re.findall(sta,st)\n",
    "    print(star)\n",
    "\n",
    "    us=a.find('span',{\"id\":\"acrCustomerReviewText\",\"class\":\"a-size-base\"})\n",
    "    ui=us.text\n",
    "    use=r'[0-9]*[,]*[0-9]+'\n",
    "    uss=re.findall(use,ui)\n",
    "    print(uss)\n",
    "    \n",
    "    storage.append(h[1])\n",
    "    camera_px.append(f[0])\n",
    "    self_px.append(f[-1])\n",
    "    colour.append(y[2])\n",
    "    name.append(t[0])\n",
    "    ram.append(h[0])\n",
    "    tech.append(h1[0])\n",
    "    if n==[]:\n",
    "        battery.append(\"4500mAh\")\n",
    "    else:\n",
    "        battery.append(n[0])\n",
    "    if l==[]:\n",
    "        display.append(\"6.44 Inches\")\n",
    "    else:\n",
    "        display.append(l[0])\n",
    "    price.append(p)\n",
    "    os_sys.append(red[0])\n",
    "    star_rate.append(star[0])\n",
    "    user_rate.append(uss[0])"
   ]
  },
  {
   "cell_type": "code",
   "execution_count": 5,
   "id": "0ecc0898",
   "metadata": {},
   "outputs": [],
   "source": [
    "storage=[]\n",
    "camera_px=[]\n",
    "self_px=[]\n",
    "colour=[]\n",
    "name=[]\n",
    "ram=[]\n",
    "tech=[]\n",
    "battery=[]\n",
    "display=[]\n",
    "price=[]\n",
    "os_sys=[]\n",
    "star_rate=[]\n",
    "user_rate=[]"
   ]
  },
  {
   "cell_type": "code",
   "execution_count": 7,
   "id": "61ac90d4",
   "metadata": {},
   "outputs": [
    {
     "name": "stdout",
     "output_type": "stream",
     "text": [
      "['64MP', '16MP']\n",
      "['6.43 inch,']\n",
      "['4500mAh']\n",
      "24,999.\n",
      "['8GB', '128GB']\n",
      "['OnePlus Nord CE', 'orage']\n",
      "['(Bahamas Blue']\n",
      "['OxygenOS']\n",
      "['5G']\n",
      "['4.3']\n",
      "['95,660']\n"
     ]
    }
   ],
   "source": [
    "b=\"https://www.amazon.in/OnePlus-Nord-Bahamas-128GB-Storage/dp/B09RG5R5FG/ref=sr_1_3?crid=35TP2UKGPPP85&keywords=oneplus+mobiles&qid=1667397757&qu=eyJxc2MiOiI1LjY1IiwicXNhIjoiNS4xNiIsInFzcCI6IjMuODgifQ%3D%3D&sprefix=one+plus+mobile%2Caps%2C541&sr=8-3\"\n",
    "details(b,headers)"
   ]
  },
  {
   "cell_type": "code",
   "execution_count": 8,
   "id": "80499ff4",
   "metadata": {},
   "outputs": [
    {
     "name": "stdout",
     "output_type": "stream",
     "text": [
      "['50MP', '8MP', '2MP', '32MP']\n",
      "['6.43 Inches']\n",
      "['4500 mAh']\n",
      "28,999.\n",
      "['8GB', '128GB']\n",
      "['OnePlus Nord 2T', 'orage']\n",
      "['(Gray Shadow']\n",
      "['OxygenOS']\n",
      "['5G', '4G']\n",
      "['4.3']\n",
      "['12,958']\n"
     ]
    }
   ],
   "source": [
    "b1=\"https://www.amazon.in/OnePlus-Nord-Shadow-128GB-Storage/dp/B0B3CQBRB4/ref=sr_1_4?crid=35TP2UKGPPP85&keywords=oneplus%2Bmobiles&qid=1667397757&qu=eyJxc2MiOiI1LjY1IiwicXNhIjoiNS4xNiIsInFzcCI6IjMuODgifQ%3D%3D&sprefix=one%2Bplus%2Bmobile%2Caps%2C541&sr=8-4&th=1\"\n",
    "details(b1,headers)"
   ]
  },
  {
   "cell_type": "code",
   "execution_count": 9,
   "id": "25011ca2",
   "metadata": {},
   "outputs": [
    {
     "name": "stdout",
     "output_type": "stream",
     "text": [
      "['64MP', '16MP']\n",
      "['6.43 inch,']\n",
      "['4500mAh']\n",
      "24,999.\n",
      "['8GB', '128GB']\n",
      "['OnePlus Nord CE', 'orage']\n",
      "['(Gray Mirror']\n",
      "['OxygenOS']\n",
      "['5G', '4G']\n",
      "['4.3']\n",
      "['95,660']\n"
     ]
    }
   ],
   "source": [
    "b2=\"https://www.amazon.in/OnePlus-Nord-Mirror-128GB-Storage/dp/B09RG132Q5/ref=sr_1_1?crid=1UPM60Y5HAK5M&keywords=oneplus+mobile+phones&qid=1668351861&qu=eyJxc2MiOiI1LjgxIiwicXNhIjoiNS4zNyIsInFzcCI6IjMuNjcifQ%3D%3D&sprefix=one+plus+mobile+phone%2Caps%2C334&sr=8-1\"\n",
    "details(b2,headers)"
   ]
  },
  {
   "cell_type": "code",
   "execution_count": 10,
   "id": "39791a3f",
   "metadata": {},
   "outputs": [
    {
     "name": "stdout",
     "output_type": "stream",
     "text": [
      "['64MP', '2MP', '2MP', '16MP']\n",
      "['6.59 Inches']\n",
      "['5000 mAh']\n",
      "18,999.\n",
      "['6GB', '128GB']\n",
      "['OnePlus Nord CE', 'orage']\n",
      "['(Blue Tide']\n",
      "['OxygenOS']\n",
      "['5G', '4G']\n",
      "['4.3']\n",
      "['95,660']\n"
     ]
    }
   ],
   "source": [
    "b3=\"https://www.amazon.in/OnePlus-Nord-Lite-128GB-Storage/dp/B09WQYFLRX/ref=sr_1_3?crid=1UPM60Y5HAK5M&keywords=oneplus%2Bmobile%2Bphones&qid=1668351861&qu=eyJxc2MiOiI1LjgxIiwicXNhIjoiNS4zNyIsInFzcCI6IjMuNjcifQ%3D%3D&sprefix=one%2Bplus%2Bmobile%2Bphone%2Caps%2C334&sr=8-3&th=1\"\n",
    "details(b3,headers)"
   ]
  },
  {
   "cell_type": "code",
   "execution_count": 11,
   "id": "eb998749",
   "metadata": {},
   "outputs": [
    {
     "name": "stdout",
     "output_type": "stream",
     "text": [
      "['50MP', '8MP', '2MP', '32MP']\n",
      "['6.43 Inches']\n",
      "['4500 mAh']\n",
      "33,999.\n",
      "['12GB', '256GB']\n",
      "['OnePlus Nord 2T', 'orage']\n",
      "['(Jade Fog']\n",
      "['OxygenOS']\n",
      "['5G']\n",
      "['4.3']\n",
      "['12,958']\n"
     ]
    }
   ],
   "source": [
    "b4=\"https://www.amazon.in/OnePlus-Nord-Jade-256GB-Storage/dp/B0B3D39RKV/ref=sr_1_5?crid=1UPM60Y5HAK5M&keywords=oneplus+mobile+phones&qid=1668351861&qu=eyJxc2MiOiI1LjgxIiwicXNhIjoiNS4zNyIsInFzcCI6IjMuNjcifQ%3D%3D&sprefix=one+plus+mobile+phone%2Caps%2C334&sr=8-5\"\n",
    "details(b4,headers)"
   ]
  },
  {
   "cell_type": "code",
   "execution_count": 12,
   "id": "260b3f9a",
   "metadata": {},
   "outputs": [
    {
     "name": "stdout",
     "output_type": "stream",
     "text": [
      "['50MP', '8MP', '2MP', '32MP']\n",
      "['6.43 Inches']\n",
      "['4500 mAh']\n",
      "28,999.\n",
      "['8GB', '128GB']\n",
      "['OnePlus Nord 2T', 'orage']\n",
      "['(Jade Fog']\n",
      "['OxygenOS']\n",
      "['5G', '4G']\n",
      "['4.3']\n",
      "['12,958']\n"
     ]
    }
   ],
   "source": [
    "b5=\"https://www.amazon.in/OnePlus-Nord-Jade-128GB-Storage/dp/B0B3CPQ5PF/ref=sr_1_6?crid=1UPM60Y5HAK5M&keywords=oneplus+mobile+phones&qid=1668351861&qu=eyJxc2MiOiI1LjgxIiwicXNhIjoiNS4zNyIsInFzcCI6IjMuNjcifQ%3D%3D&sprefix=one+plus+mobile+phone%2Caps%2C334&sr=8-6\"\n",
    "details(b5,headers)"
   ]
  },
  {
   "cell_type": "code",
   "execution_count": 13,
   "id": "8bdd720b",
   "metadata": {},
   "outputs": [
    {
     "name": "stdout",
     "output_type": "stream",
     "text": [
      "['50MP', '2MP', '16MP']\n",
      "['6.7 Inches']\n",
      "['5000 mAh']\n",
      "34,999.\n",
      "['8GB', '128GB']\n",
      "['OnePlus 10R 5G', 'orest Green', 'orage']\n",
      "['(Forest Green']\n",
      "['OxygenOS']\n",
      "['5G', '4G']\n",
      "['4.2']\n",
      "['9,128']\n"
     ]
    }
   ],
   "source": [
    "b6=\"https://www.amazon.in/OnePlus-Forest-Green-Storage-SuperVOOC/dp/B09WRMNJ9G/ref=sr_1_7?crid=1UPM60Y5HAK5M&keywords=oneplus+mobile+phones&qid=1668351861&qu=eyJxc2MiOiI1LjgxIiwicXNhIjoiNS4zNyIsInFzcCI6IjMuNjcifQ%3D%3D&sprefix=one+plus+mobile+phone%2Caps%2C334&sr=8-7\"\n",
    "details(b6,headers)"
   ]
  },
  {
   "cell_type": "code",
   "execution_count": 14,
   "id": "1237874c",
   "metadata": {},
   "outputs": [
    {
     "name": "stdout",
     "output_type": "stream",
     "text": [
      "['50MP', '2MP', '16MP']\n",
      "['6.7 Inches']\n",
      "['5000 mAh']\n",
      "38,999.\n",
      "['12GB', '256GB']\n",
      "['OnePlus 10R 5G', 'orest Green', 'orage']\n",
      "['(Forest Green']\n",
      "['OxygenOS']\n",
      "['5G']\n",
      "['4.2']\n",
      "['9,128']\n"
     ]
    }
   ],
   "source": [
    "b7=\"https://www.amazon.in/OnePlus-Forest-Green-Storage-SuperVOOC/dp/B09WRKHWP7/ref=sr_1_8?crid=1UPM60Y5HAK5M&keywords=oneplus+mobile+phones&qid=1668351861&qu=eyJxc2MiOiI1LjgxIiwicXNhIjoiNS4zNyIsInFzcCI6IjMuNjcifQ%3D%3D&sprefix=one+plus+mobile+phone%2Caps%2C334&sr=8-8\"\n",
    "details(b7,headers)"
   ]
  },
  {
   "cell_type": "code",
   "execution_count": 15,
   "id": "78196fb7",
   "metadata": {},
   "outputs": [
    {
     "name": "stdout",
     "output_type": "stream",
     "text": [
      "['50MP', '8MP', '2MP', '16MP']\n",
      "['6.7 Inches']\n",
      "['4800 mAh']\n",
      "49,999.\n",
      "['12GB', '256GB']\n",
      "['OnePlus 10T 5G', 'oonstone Black', 'orage']\n",
      "['(Moonstone Black']\n",
      "['OxygenOS']\n",
      "['5G']\n",
      "['4.2']\n",
      "['2,214']\n"
     ]
    }
   ],
   "source": [
    "b8=\"https://www.amazon.in/OnePlus-Moonstone-Black-256GB-Storage/dp/B0B5V2KDNZ/ref=sr_1_9?crid=1UPM60Y5HAK5M&keywords=oneplus+mobile+phones&qid=1668351861&qu=eyJxc2MiOiI1LjgxIiwicXNhIjoiNS4zNyIsInFzcCI6IjMuNjcifQ%3D%3D&sprefix=one+plus+mobile+phone%2Caps%2C334&sr=8-9\"\n",
    "details(b8,headers)"
   ]
  },
  {
   "cell_type": "code",
   "execution_count": 16,
   "id": "d6ec8ef1",
   "metadata": {},
   "outputs": [
    {
     "name": "stdout",
     "output_type": "stream",
     "text": [
      "['48MP', '50MP', '8MP', '32MP']\n",
      "['6.7 Inches']\n",
      "['5000 mAh']\n",
      "61,999.\n",
      "['8GB', '128GB']\n",
      "['OnePlus 10 Pro', 'orest', 'orage']\n",
      "['(Emerald Forest']\n",
      "['OxygenOS']\n",
      "['5G', '4G']\n",
      "['4.2']\n",
      "['4,624']\n"
     ]
    }
   ],
   "source": [
    "b9=\"https://www.amazon.in/OnePlus-Emerald-Forest-128GB-Storage/dp/B09V2LX1R4/ref=sr_1_10?crid=1UPM60Y5HAK5M&keywords=oneplus+mobile+phones&qid=1668351861&qu=eyJxc2MiOiI1LjgxIiwicXNhIjoiNS4zNyIsInFzcCI6IjMuNjcifQ%3D%3D&sprefix=one+plus+mobile+phone%2Caps%2C334&sr=8-10\"\n",
    "details(b9,headers)"
   ]
  },
  {
   "cell_type": "code",
   "execution_count": 17,
   "id": "4693856e",
   "metadata": {},
   "outputs": [
    {
     "name": "stdout",
     "output_type": "stream",
     "text": [
      "['50MP', '2MP', '16MP']\n",
      "['6.7 Inches']\n",
      "['5000 mAh']\n",
      "34,999.\n",
      "['8GB', '128GB']\n",
      "['OnePlus 10R 5G', 'orage']\n",
      "['(Sierra Black']\n",
      "['OxygenOS']\n",
      "['5G', '4G']\n",
      "['4.2']\n",
      "['9,128']\n"
     ]
    }
   ],
   "source": [
    "b10=\"https://www.amazon.in/OnePlus-Sierra-Black-Storage-SuperVOOC/dp/B09WRP2WXG/ref=sr_1_14?crid=1UPM60Y5HAK5M&keywords=oneplus+mobile+phones&qid=1668351861&qu=eyJxc2MiOiI1LjgxIiwicXNhIjoiNS4zNyIsInFzcCI6IjMuNjcifQ%3D%3D&sprefix=one+plus+mobile+phone%2Caps%2C334&sr=8-14\"\n",
    "details(b10,headers)"
   ]
  },
  {
   "cell_type": "code",
   "execution_count": 18,
   "id": "9f4bfc5e",
   "metadata": {},
   "outputs": [
    {
     "name": "stdout",
     "output_type": "stream",
     "text": [
      "['50MP', '8MP', '2MP', '16MP']\n",
      "['6.7 Inches']\n",
      "['4800 mAh']\n",
      "44,999.\n",
      "['8GB', '128GB']\n",
      "['OnePlus 10T 5G', 'oonstone Black', 'orage']\n",
      "['(Moonstone Black']\n",
      "['OxygenOS']\n",
      "['5G']\n",
      "['4.2']\n",
      "['2,214']\n"
     ]
    }
   ],
   "source": [
    "b11=\"https://www.amazon.in/OnePlus-Moonstone-Black-128GB-Storage/dp/B0B5V47VK4/ref=sr_1_15?crid=1UPM60Y5HAK5M&keywords=oneplus+mobile+phones&qid=1668351861&qu=eyJxc2MiOiI1LjgxIiwicXNhIjoiNS4zNyIsInFzcCI6IjMuNjcifQ%3D%3D&sprefix=one+plus+mobile+phone%2Caps%2C334&sr=8-15\"\n",
    "details(b11,headers)"
   ]
  },
  {
   "cell_type": "code",
   "execution_count": 19,
   "id": "589cebc6",
   "metadata": {},
   "outputs": [
    {
     "name": "stdout",
     "output_type": "stream",
     "text": [
      "['50MP', '8MP', '2MP', '16MP']\n",
      "['6.7 Inches']\n",
      "['4800 mAh']\n",
      "50,999.\n",
      "['16GB', '256GB']\n",
      "['OnePlus 10T 5G', 'oonstone Black', 'orage']\n",
      "['(Moonstone Black']\n",
      "['OxygenOS']\n",
      "['5G']\n",
      "['4.2']\n",
      "['2,214']\n"
     ]
    }
   ],
   "source": [
    "b12=\"https://www.amazon.in/OnePlus-Moonstone-Black-256GB-Storage/dp/B0B5V5NRMV/ref=sr_1_16?crid=1UPM60Y5HAK5M&keywords=oneplus+mobile+phones&qid=1668351861&qu=eyJxc2MiOiI1LjgxIiwicXNhIjoiNS4zNyIsInFzcCI6IjMuNjcifQ%3D%3D&sprefix=one+plus+mobile+phone%2Caps%2C334&sr=8-16\"\n",
    "details(b12,headers)"
   ]
  },
  {
   "cell_type": "code",
   "execution_count": 20,
   "id": "995fd0fb",
   "metadata": {},
   "outputs": [
    {
     "name": "stdout",
     "output_type": "stream",
     "text": [
      "['50MP', '8MP', '2MP', '16MP']\n",
      "['6.7 Inches']\n",
      "['4800 mAh']\n",
      "44,999.\n",
      "['8GB', '128GB']\n",
      "['OnePlus 10T 5G', 'orage']\n",
      "['(Jade Green']\n",
      "['OxygenOS']\n",
      "['5G']\n",
      "['4.2']\n",
      "['2,214']\n"
     ]
    }
   ],
   "source": [
    "b13=\"https://www.amazon.in/OnePlus-Jade-Green-128GB-Storage/dp/B0B5V2SHGL/ref=sr_1_20?crid=1UPM60Y5HAK5M&keywords=oneplus+mobile+phones&qid=1668352821&qu=eyJxc2MiOiI1LjgxIiwicXNhIjoiNS4zNyIsInFzcCI6IjMuNjcifQ%3D%3D&sprefix=one+plus+mobile+phone%2Caps%2C334&sr=8-20\"\n",
    "details(b13,headers)"
   ]
  },
  {
   "cell_type": "code",
   "execution_count": 21,
   "id": "9c7e9746",
   "metadata": {},
   "outputs": [
    {
     "name": "stdout",
     "output_type": "stream",
     "text": [
      "['48MP', '50MP', '8MP', '32MP']\n",
      "['6.7 Inches']\n",
      "['5000 mAh']\n",
      "66,999.\n",
      "['12GB', '256GB']\n",
      "['OnePlus 10 Pro', 'olcanic Black', 'orage']\n",
      "['(Volcanic Black']\n",
      "['OxygenOS']\n",
      "['5G']\n",
      "['4.2']\n",
      "['4,624']\n"
     ]
    }
   ],
   "source": [
    "b14=\"https://www.amazon.in/OnePlus-Volcanic-Black-256GB-Storage/dp/B09V2RSWBW/ref=sr_1_21?crid=1UPM60Y5HAK5M&keywords=oneplus+mobile+phones&qid=1668352821&qu=eyJxc2MiOiI1LjgxIiwicXNhIjoiNS4zNyIsInFzcCI6IjMuNjcifQ%3D%3D&sprefix=one+plus+mobile+phone%2Caps%2C334&sr=8-21\"\n",
    "details(b14,headers)"
   ]
  },
  {
   "cell_type": "code",
   "execution_count": 22,
   "id": "6952ebea",
   "metadata": {},
   "outputs": [
    {
     "name": "stdout",
     "output_type": "stream",
     "text": [
      "['48MP', '8MP', '5MP', '2MP', '32MP', '8MP']\n",
      "[]\n",
      "[]\n",
      "22,099.\n",
      "['8GB', '128GB']\n",
      "['OnePlus Nord 5G', 'Onyx', 'orage']\n",
      "['(Gray Onyx']\n",
      "['Android 10']\n",
      "['4G']\n",
      "['3.5']\n",
      "['1,797']\n"
     ]
    }
   ],
   "source": [
    "b15=\"https://www.amazon.in/Renewed-OnePlus-Nord-128GB-Storage/dp/B08L39LFZQ/ref=sr_1_18?crid=1UPM60Y5HAK5M&keywords=oneplus+mobile+phones&qid=1668352821&qu=eyJxc2MiOiI1LjgxIiwicXNhIjoiNS4zNyIsInFzcCI6IjMuNjcifQ%3D%3D&sprefix=one+plus+mobile+phone%2Caps%2C334&sr=8-18\"\n",
    "details(b15,headers)"
   ]
  },
  {
   "cell_type": "code",
   "execution_count": 23,
   "id": "cf813bdb",
   "metadata": {},
   "outputs": [
    {
     "name": "stdout",
     "output_type": "stream",
     "text": [
      "['16 MP', '16MP']\n",
      "[]\n",
      "['3300 mAh']\n",
      "15,999.\n",
      "['6GB', '64GB']\n",
      "['OnePlus 6', 'or Black', 'orage']\n",
      "['(Mirror Black']\n",
      "['Android 8']\n",
      "['4G']\n",
      "['3.2']\n",
      "['386']\n"
     ]
    }
   ],
   "source": [
    "b16=\"https://www.amazon.in/Certified-Refurbished-OnePlus-Mirror-Storage/dp/B07D813XWY/ref=sr_1_19?crid=1UPM60Y5HAK5M&keywords=oneplus+mobile+phones&qid=1668352821&qu=eyJxc2MiOiI1LjgxIiwicXNhIjoiNS4zNyIsInFzcCI6IjMuNjcifQ%3D%3D&sprefix=one+plus+mobile+phone%2Caps%2C334&sr=8-19\"\n",
    "details(b16,headers)"
   ]
  },
  {
   "cell_type": "code",
   "execution_count": 24,
   "id": "5aa56e68",
   "metadata": {},
   "outputs": [
    {
     "name": "stdout",
     "output_type": "stream",
     "text": [
      "['48MP', '8MP', '16MP', '16 MP']\n",
      "[]\n",
      "['4000mAH']\n",
      "33,999.\n",
      "['6GB', '128GB']\n",
      "['OnePlus 7 Pro', 'or Grey', 'orage']\n",
      "['(Mirror Grey']\n",
      "['Android']\n",
      "['4G']\n",
      "['3.4']\n",
      "['83']\n"
     ]
    }
   ],
   "source": [
    "b17=\"https://www.amazon.in/Renewed-OnePlus-Mirror-128GB-Storage/dp/B07YFJ1RMR/ref=sr_1_21?crid=1UPM60Y5HAK5M&keywords=oneplus+mobile+phones&qid=1668352821&qu=eyJxc2MiOiI1LjgxIiwicXNhIjoiNS4zNyIsInFzcCI6IjMuNjcifQ%3D%3D&sprefix=one+plus+mobile+phone%2Caps%2C334&sr=8-21\"\n",
    "details(b17,headers)"
   ]
  },
  {
   "cell_type": "code",
   "execution_count": 25,
   "id": "906b3f89",
   "metadata": {},
   "outputs": [
    {
     "name": "stdout",
     "output_type": "stream",
     "text": [
      "['48 MP', '50 MP', '8 MP', '2 MP', '16 MP']\n",
      "['6.7 Inches']\n",
      "['4500 mAh']\n",
      "47,999.\n",
      "['8GB', '128GB']\n",
      "['OnePlus 9 Pro', 'orning Mist', 'orage']\n",
      "['(Morning Mist']\n",
      "['Android 11']\n",
      "['5G']\n",
      "['3.0']\n",
      "['7']\n"
     ]
    }
   ],
   "source": [
    "b18=\"https://www.amazon.in/Renewed-OnePlus-Morning-Mist-128GB-Storage/dp/B0968Z7N5W/ref=sr_1_22?crid=1UPM60Y5HAK5M&keywords=oneplus+mobile+phones&qid=1668352821&qu=eyJxc2MiOiI1LjgxIiwicXNhIjoiNS4zNyIsInFzcCI6IjMuNjcifQ%3D%3D&sprefix=one+plus+mobile+phone%2Caps%2C334&sr=8-22\"\n",
    "details(b18,headers)"
   ]
  },
  {
   "cell_type": "code",
   "execution_count": 26,
   "id": "b8706a76",
   "metadata": {},
   "outputs": [
    {
     "name": "stdout",
     "output_type": "stream",
     "text": [
      "['48MP', '50MP', '8MP', '32MP']\n",
      "['6.7 Inches']\n",
      "['5000 mAh']\n",
      "61,999.\n",
      "['8GB', '128GB']\n",
      "['OnePlus 10 Pro', 'olcanic Black', 'orage']\n",
      "['(Volcanic Black']\n",
      "['OxygenOS']\n",
      "['5G', '4G']\n",
      "['4.2']\n",
      "['4,624']\n"
     ]
    }
   ],
   "source": [
    "b19=\"https://www.amazon.in/OnePlus-Volcanic-Black-128GB-Storage/dp/B09V2P9C3S/ref=sr_1_23?crid=1UPM60Y5HAK5M&keywords=oneplus+mobile+phones&qid=1668352821&qu=eyJxc2MiOiI1LjgxIiwicXNhIjoiNS4zNyIsInFzcCI6IjMuNjcifQ%3D%3D&sprefix=one+plus+mobile+phone%2Caps%2C334&sr=8-23\"\n",
    "details(b19,headers)"
   ]
  },
  {
   "cell_type": "code",
   "execution_count": 27,
   "id": "9803b20a",
   "metadata": {},
   "outputs": [
    {
     "name": "stdout",
     "output_type": "stream",
     "text": [
      "['64MP', '16MP']\n",
      "['6.43 inch,']\n",
      "['4500mAh']\n",
      "24,999.\n",
      "['8GB', '128GB']\n",
      "['OnePlus Nord CE', 'orage']\n",
      "['(Gray Mirror']\n",
      "['OxygenOS']\n",
      "['5G', '4G']\n",
      "['4.3']\n",
      "['95,660']\n"
     ]
    }
   ],
   "source": [
    "b20=\"https://www.amazon.in/CERTIFIED-REFURBISHED-OnePlus-Slate-memory/dp/B07CHB989V/ref=sr_1_24?crid=1UPM60Y5HAK5M&keywords=oneplus+mobile+phones&qid=1668352821&qu=eyJxc2MiOiI1LjgxIiwicXNhIjoiNS4zNyIsInFzcCI6IjMuNjcifQ%3D%3D&sprefix=one+plus+mobile+phone%2Caps%2C334&sr=8-24\"\n",
    "details(b2,headers)"
   ]
  },
  {
   "cell_type": "code",
   "execution_count": 28,
   "id": "1fdc572e",
   "metadata": {},
   "outputs": [
    {
     "name": "stdout",
     "output_type": "stream",
     "text": [
      "['48MP', '5 MP', '16MP']\n",
      "[]\n",
      "['3700mAH']\n",
      "18,799.\n",
      "['6GB', '128GB']\n",
      "['OnePlus 7', 'or Grey', 'orage']\n",
      "['(Renewed', ' OnePlus 7', '(Mirror Grey', '6GB RAM', '8GB Storage']\n",
      "['Android Oxygen']\n",
      "['4G']\n",
      "['3.4']\n",
      "['159']\n"
     ]
    }
   ],
   "source": [
    "b21=\"https://www.amazon.in/Renewed-OnePlus-Mirror-128GB-Storage/dp/B07V2LCGDL/ref=sr_1_26?crid=1UPM60Y5HAK5M&keywords=oneplus+mobile+phones&qid=1668352821&qu=eyJxc2MiOiI1LjgxIiwicXNhIjoiNS4zNyIsInFzcCI6IjMuNjcifQ%3D%3D&sprefix=one+plus+mobile+phone%2Caps%2C334&sr=8-26\"\n",
    "details1(b21,headers)"
   ]
  },
  {
   "cell_type": "code",
   "execution_count": 29,
   "id": "12448326",
   "metadata": {},
   "outputs": [
    {
     "name": "stdout",
     "output_type": "stream",
     "text": [
      "['16 MP', '16MP']\n",
      "[]\n",
      "['3300 mAh']\n",
      "12,759.\n",
      "['6GB', '64GB']\n",
      "['OnePlus 6', 'orage']\n",
      "['(Midnight Black']\n",
      "['Android 10']\n",
      "['4G']\n",
      "['3.0']\n",
      "['2']\n"
     ]
    }
   ],
   "source": [
    "b22=\"https://www.amazon.in/Renewed-OnePlus-Midnight-Black-Storage/dp/B09RZJDT45/ref=sr_1_27?crid=1UPM60Y5HAK5M&keywords=oneplus+mobile+phones&qid=1668352821&qu=eyJxc2MiOiI1LjgxIiwicXNhIjoiNS4zNyIsInFzcCI6IjMuNjcifQ%3D%3D&sprefix=one+plus+mobile+phone%2Caps%2C334&sr=8-27\"\n",
    "details(b22,headers)"
   ]
  },
  {
   "cell_type": "code",
   "execution_count": 30,
   "id": "705b0625",
   "metadata": {},
   "outputs": [
    {
     "name": "stdout",
     "output_type": "stream",
     "text": [
      "['16MP', '16MP']\n",
      "['6.55 inch']\n",
      "[]\n",
      "23,699.\n",
      "['8GB', '128GB']\n",
      "['OnePlus 7T', 'OLED Display', 'orage']\n",
      "['(Glacier Blue']\n",
      "['Android 10']\n",
      "['4G']\n",
      "['3.4']\n",
      "['448']\n"
     ]
    }
   ],
   "source": [
    "b23=\"https://www.amazon.in/Renewed-OnePlus-Glacier-Display-Storage/dp/B081Y2H9V7/ref=sr_1_28?crid=1UPM60Y5HAK5M&keywords=oneplus+mobile+phones&qid=1668352821&qu=eyJxc2MiOiI1LjgxIiwicXNhIjoiNS4zNyIsInFzcCI6IjMuNjcifQ%3D%3D&sprefix=one+plus+mobile+phone%2Caps%2C334&sr=8-28\"\n",
    "details(b23,headers)"
   ]
  },
  {
   "cell_type": "code",
   "execution_count": 31,
   "id": "263a02b8",
   "metadata": {},
   "outputs": [
    {
     "name": "stdout",
     "output_type": "stream",
     "text": [
      "['20MP', '16MP', '16MP']\n",
      "[]\n",
      "[]\n",
      "10,499.\n",
      "['6GB', '64GB']\n",
      "['OnePlus 5']\n",
      "['(Gray']\n",
      "['Android']\n",
      "['4G']\n",
      "['2.8']\n",
      "['162']\n"
     ]
    }
   ],
   "source": [
    "b24=\"https://www.amazon.in/Renewed-OnePlus-Slate-Gray-memory/dp/B07NZVX95J/ref=sr_1_29?crid=1UPM60Y5HAK5M&keywords=oneplus+mobile+phones&qid=1668352821&qu=eyJxc2MiOiI1LjgxIiwicXNhIjoiNS4zNyIsInFzcCI6IjMuNjcifQ%3D%3D&sprefix=one+plus+mobile+phone%2Caps%2C334&sr=8-29\"\n",
    "details(b24,headers)"
   ]
  },
  {
   "cell_type": "code",
   "execution_count": 32,
   "id": "4fab4e57",
   "metadata": {},
   "outputs": [
    {
     "name": "stdout",
     "output_type": "stream",
     "text": [
      "['16MP', '16MP']\n",
      "['6.55 inch']\n",
      "['3800mAH']\n",
      "25,599.\n",
      "['8GB', '256GB']\n",
      "['OnePlus 7T Glacier', 'orage']\n",
      "['(8GB RAM']\n",
      "['Android 10']\n",
      "['4G']\n",
      "['3.4']\n",
      "['448']\n"
     ]
    }
   ],
   "source": [
    "b25=\"https://www.amazon.in/Renewed-OnePlus-Glacier-Display-Storage/dp/B082K96P6W/ref=sr_1_35?crid=1UPM60Y5HAK5M&keywords=oneplus+mobile+phones&qid=1668353507&qu=eyJxc2MiOiI1LjgxIiwicXNhIjoiNS4zNyIsInFzcCI6IjMuNjcifQ%3D%3D&sprefix=one+plus+mobile+phone%2Caps%2C334&sr=8-35\"\n",
    "details(b25,headers)"
   ]
  },
  {
   "cell_type": "code",
   "execution_count": 33,
   "id": "b696bc81",
   "metadata": {},
   "outputs": [
    {
     "name": "stdout",
     "output_type": "stream",
     "text": [
      "['50MP', '8MP', '2MP', '32MP']\n",
      "[]\n",
      "['4500mAH']\n",
      "26,999.\n",
      "['8GB', '128GB']\n",
      "['OnePlus Nord 2', 'orage']\n",
      "['(Gray Sierra']\n",
      "['Android 11']\n",
      "['5G']\n",
      "['3.6']\n",
      "['465']\n"
     ]
    }
   ],
   "source": [
    "b26=\"https://www.amazon.in/Renewed-OnePlus-Sierra-128GB-Storage/dp/B09F9S8G7H/ref=sr_1_37?crid=1UPM60Y5HAK5M&keywords=oneplus+mobile+phones&qid=1668353507&qu=eyJxc2MiOiI1LjgxIiwicXNhIjoiNS4zNyIsInFzcCI6IjMuNjcifQ%3D%3D&sprefix=one+plus+mobile+phone%2Caps%2C334&sr=8-37\"\n",
    "details(b26,headers)"
   ]
  },
  {
   "cell_type": "code",
   "execution_count": 34,
   "id": "3a491eaa",
   "metadata": {},
   "outputs": [
    {
     "name": "stdout",
     "output_type": "stream",
     "text": [
      "['48 MP', '16 MP', '5 MP', '2 MP', '16 MP']\n",
      "['6.55 inch']\n",
      "['4500 mAH']\n",
      "32,999.\n",
      "['12GB', '256GB']\n",
      "['OnePlus 8T 5G', 'orage']\n",
      "['(Aquamarine Green']\n",
      "['Android']\n",
      "['5G']\n",
      "['4.4']\n",
      "['27,107']\n"
     ]
    }
   ],
   "source": [
    "b27=\"https://www.amazon.in/OnePlus-Mirror-Black-128GB-Storage/dp/B085J19V4P/ref=sr_1_34?crid=1UPM60Y5HAK5M&keywords=oneplus+mobile+phones&qid=1668353507&qu=eyJxc2MiOiI1LjgxIiwicXNhIjoiNS4zNyIsInFzcCI6IjMuNjcifQ%3D%3D&sprefix=one+plus+mobile+phone%2Caps%2C334&sr=8-34\"\n",
    "details(b27,headers)"
   ]
  },
  {
   "cell_type": "code",
   "execution_count": 35,
   "id": "acf71fd9",
   "metadata": {},
   "outputs": [
    {
     "name": "stdout",
     "output_type": "stream",
     "text": [
      "['50MP', '8MP', '2MP', '32MP']\n",
      "[]\n",
      "['4500mAH']\n",
      "26,999.\n",
      "['8GB', '128GB']\n",
      "['OnePlus Nord 2', 'orage']\n",
      "['(Blue Haze']\n",
      "['Android 11']\n",
      "['5G']\n",
      "['3.6']\n",
      "['465']\n"
     ]
    }
   ],
   "source": [
    "b28=\"https://www.amazon.in/Renewed-OnePlus-Nord-128GB-Storage/dp/B09F9RWWVC/ref=sr_1_35?crid=1UPM60Y5HAK5M&keywords=oneplus+mobile+phones&qid=1668353507&qu=eyJxc2MiOiI1LjgxIiwicXNhIjoiNS4zNyIsInFzcCI6IjMuNjcifQ%3D%3D&sprefix=one+plus+mobile+phone%2Caps%2C334&sr=8-35\"\n",
    "details(b28,headers)"
   ]
  },
  {
   "cell_type": "code",
   "execution_count": 36,
   "id": "6daa01a3",
   "metadata": {},
   "outputs": [
    {
     "name": "stdout",
     "output_type": "stream",
     "text": [
      "['50MP', '8MP', '2MP', '32MP']\n",
      "[]\n",
      "['4500mAH']\n",
      "26,999.\n",
      "['8GB', '128GB']\n",
      "['OnePlus Nord 2', 'orage']\n",
      "['(Blue Haze']\n",
      "['Android 11']\n",
      "['5G']\n",
      "['3.6']\n",
      "['465']\n"
     ]
    }
   ],
   "source": [
    "b29=\"https://www.amazon.in/Renewed-OnePlus-Nord-128GB-Storage/dp/B09F9RWWVC/ref=sr_1_35?crid=1UPM60Y5HAK5M&keywords=oneplus+mobile+phones&qid=1668353507&qu=eyJxc2MiOiI1LjgxIiwicXNhIjoiNS4zNyIsInFzcCI6IjMuNjcifQ%3D%3D&sprefix=one+plus+mobile+phone%2Caps%2C334&sr=8-35\"\n",
    "details(b29,headers)"
   ]
  },
  {
   "cell_type": "code",
   "execution_count": 37,
   "id": "800eb71a",
   "metadata": {},
   "outputs": [
    {
     "name": "stdout",
     "output_type": "stream",
     "text": [
      "['48 MP', '16 MP', '5 MP', '2 MP', '16 MP']\n",
      "['6.55 Inches']\n",
      "['4500 mAh']\n",
      "32,499.\n",
      "['8GB', '128GB']\n",
      "['OnePlus 9R 5G', 'orage']\n",
      "['(Lake Blue']\n",
      "['Android 11']\n",
      "['5G']\n",
      "['3.3']\n",
      "['378']\n"
     ]
    }
   ],
   "source": [
    "b30=\"https://www.amazon.in/Renewed-OnePlus-Lake-128GB-Storage/dp/B0968Z6894/ref=sr_1_37?crid=1UPM60Y5HAK5M&keywords=oneplus+mobile+phones&qid=1668353507&qu=eyJxc2MiOiI1LjgxIiwicXNhIjoiNS4zNyIsInFzcCI6IjMuNjcifQ%3D%3D&sprefix=one+plus+mobile+phone%2Caps%2C334&sr=8-37\"\n",
    "details(b30,headers)"
   ]
  },
  {
   "cell_type": "code",
   "execution_count": 38,
   "id": "8b6c1321",
   "metadata": {},
   "outputs": [
    {
     "name": "stdout",
     "output_type": "stream",
     "text": [
      "['16 MP', '16 MP']\n",
      "[]\n",
      "[]\n",
      "15,999.\n",
      "['8GB', '128GB']\n",
      "['OnePlus 6', 'or Black', 'orage']\n",
      "['(Mirror Black']\n",
      "['Android']\n",
      "['4G']\n",
      "['2.9']\n",
      "['190']\n"
     ]
    }
   ],
   "source": [
    "b31=\"https://www.amazon.in/CERTIFIED-REFURBISHED-OnePlus-Mirror-Storage/dp/B07JDZL7ZN/ref=sr_1_38?crid=1UPM60Y5HAK5M&keywords=oneplus+mobile+phones&qid=1668353507&qu=eyJxc2MiOiI1LjgxIiwicXNhIjoiNS4zNyIsInFzcCI6IjMuNjcifQ%3D%3D&sprefix=one+plus+mobile+phone%2Caps%2C334&sr=8-38\"\n",
    "details(b31,headers)"
   ]
  },
  {
   "cell_type": "code",
   "execution_count": 39,
   "id": "f2d28865",
   "metadata": {},
   "outputs": [
    {
     "name": "stdout",
     "output_type": "stream",
     "text": [
      "['48MP', '50MP', '8MP', '32MP']\n",
      "['6.7 Inches']\n",
      "['5000 mAh']\n",
      "60,999.\n",
      "['12GB', '256GB']\n",
      "['OnePlus 10 Pro', 'orest', 'orage']\n",
      "['(Emerald Forest']\n",
      "['Android 12']\n",
      "['5G']\n",
      "['4.4']\n",
      "['3']\n"
     ]
    }
   ],
   "source": [
    "b32=\"https://www.amazon.in/Renewed-OnePlus-10-Emerald-Storage/dp/B0B46MBY2P/ref=sr_1_39?crid=1UPM60Y5HAK5M&keywords=oneplus+mobile+phones&qid=1668353507&qu=eyJxc2MiOiI1LjgxIiwicXNhIjoiNS4zNyIsInFzcCI6IjMuNjcifQ%3D%3D&sprefix=one+plus+mobile+phone%2Caps%2C334&sr=8-39\"\n",
    "details(b32,headers)"
   ]
  },
  {
   "cell_type": "code",
   "execution_count": 40,
   "id": "7652cc80",
   "metadata": {},
   "outputs": [
    {
     "name": "stdout",
     "output_type": "stream",
     "text": [
      "['48MP', '8MP', '5MP', '2MP', '32MP', '8MP']\n",
      "[]\n",
      "[]\n",
      "22,099.\n",
      "['8GB', '128GB']\n",
      "['OnePlus Nord 5G', 'orage']\n",
      "['(Blue Marble']\n",
      "['Android 10']\n",
      "['4G']\n",
      "['3.5']\n",
      "['1,797']\n"
     ]
    }
   ],
   "source": [
    "b33=\"https://www.amazon.in/Renewed-OnePlus-Marble-128GB-Storage/dp/B08L39DNQQ/ref=sr_1_40?crid=1UPM60Y5HAK5M&keywords=oneplus+mobile+phones&qid=1668353507&qu=eyJxc2MiOiI1LjgxIiwicXNhIjoiNS4zNyIsInFzcCI6IjMuNjcifQ%3D%3D&sprefix=one+plus+mobile+phone%2Caps%2C334&sr=8-40\"\n",
    "details(b33,headers)"
   ]
  },
  {
   "cell_type": "code",
   "execution_count": 41,
   "id": "dc0dbb36",
   "metadata": {},
   "outputs": [
    {
     "name": "stdout",
     "output_type": "stream",
     "text": [
      "['48 MP', '50 MP', '2 MP', '16 MP']\n",
      "['6.55 Inches']\n",
      "['4500 mAh']\n",
      "36,899.\n",
      "['12GB', '256GB']\n",
      "['OnePlus 9 5G', 'orage']\n",
      "['(Astral Black']\n",
      "['Android 11']\n",
      "['5G']\n",
      "['3.8']\n",
      "['19']\n"
     ]
    }
   ],
   "source": [
    "b34=\"https://www.amazon.in/Renewed-OnePlus-Astral-Black-Storage/dp/B0968XMKL8/ref=sr_1_41?crid=1UPM60Y5HAK5M&keywords=oneplus+mobile+phones&qid=1668353507&qu=eyJxc2MiOiI1LjgxIiwicXNhIjoiNS4zNyIsInFzcCI6IjMuNjcifQ%3D%3D&sprefix=one+plus+mobile+phone%2Caps%2C334&sr=8-41\"\n",
    "details(b34,headers)"
   ]
  },
  {
   "cell_type": "code",
   "execution_count": 42,
   "id": "456d81a6",
   "metadata": {},
   "outputs": [
    {
     "name": "stdout",
     "output_type": "stream",
     "text": [
      "['50MP', '8MP', '2MP', '32MP']\n",
      "[]\n",
      "['4500mAH']\n",
      "30,699.\n",
      "['12GB', '256GB']\n",
      "['OnePlus Nord 2', 'orage']\n",
      "['(Blue Haze']\n",
      "['Android 11']\n",
      "['5G']\n",
      "['3.5']\n",
      "['76']\n"
     ]
    }
   ],
   "source": [
    "b35=\"https://www.amazon.in/Renewed-OnePlus-Nord-256GB-Storage/dp/B09F9RNQM7/ref=sr_1_45?crid=1UPM60Y5HAK5M&keywords=oneplus+mobile+phones&qid=1668353507&qu=eyJxc2MiOiI1LjgxIiwicXNhIjoiNS4zNyIsInFzcCI6IjMuNjcifQ%3D%3D&sprefix=one+plus+mobile+phone%2Caps%2C334&sr=8-45\"\n",
    "details(b35,headers)"
   ]
  },
  {
   "cell_type": "code",
   "execution_count": 43,
   "id": "7292aec8",
   "metadata": {},
   "outputs": [
    {
     "name": "stdout",
     "output_type": "stream",
     "text": [
      "['64MP', '8MP', '2MP', '16MP']\n",
      "[]\n",
      "[]\n",
      "18,999.\n",
      "['8GB', '128GB']\n",
      "['OnePlus Nord CE', 'orage']\n",
      "['(Blue Void']\n",
      "['Android']\n",
      "['4G']\n",
      "['3.4']\n",
      "['739']\n"
     ]
    }
   ],
   "source": [
    "b36=\"https://www.amazon.in/Renewed-OnePlus-Nord-128GB-Storage/dp/B0992DXC4P/ref=sr_1_50?crid=1UPM60Y5HAK5M&keywords=oneplus+mobile+phones&qid=1668354657&qu=eyJxc2MiOiI1LjgxIiwicXNhIjoiNS4zNyIsInFzcCI6IjMuNjcifQ%3D%3D&sprefix=one+plus+mobile+phone%2Caps%2C334&sr=8-50\"\n",
    "details(b36,headers)"
   ]
  },
  {
   "cell_type": "code",
   "execution_count": 44,
   "id": "7994dc1b",
   "metadata": {},
   "outputs": [
    {
     "name": "stdout",
     "output_type": "stream",
     "text": [
      "['50MP', '16MP', '2MP', '16MP']\n",
      "['6.62 Inches']\n",
      "['500 mAh']\n",
      "37,999.\n",
      "['8GB', '128GB']\n",
      "['OnePlus 9RT 5G', 'orage']\n",
      "['(Nano Silver']\n",
      "['Android 11']\n",
      "['5G']\n",
      "['2.7']\n",
      "['20']\n"
     ]
    }
   ],
   "source": [
    "b37=\"https://www.amazon.in/Renewed-OnePlus-Storage-hands-free-capable/dp/B09SB5WGD5/ref=sr_1_52?crid=1UPM60Y5HAK5M&keywords=oneplus%2Bmobile%2Bphones&qid=1668354657&qu=eyJxc2MiOiI1LjgxIiwicXNhIjoiNS4zNyIsInFzcCI6IjMuNjcifQ%3D%3D&sprefix=one%2Bplus%2Bmobile%2Bphone%2Caps%2C334&sr=8-52&th=1\"\n",
    "details(b37,headers)"
   ]
  },
  {
   "cell_type": "code",
   "execution_count": 45,
   "id": "f4870f8a",
   "metadata": {},
   "outputs": [
    {
     "name": "stdout",
     "output_type": "stream",
     "text": [
      "['48 MP', '50 MP', '8 MP', '2 MP', '16 MP']\n",
      "['6.7 Inches']\n",
      "['4500 mAh']\n",
      "47,999.\n",
      "['8GB', '128GB']\n",
      "['OnePlus 9 Pro', 'orage']\n",
      "['(Pine Green']\n",
      "['Android 11']\n",
      "['5G']\n",
      "['2.2']\n",
      "['8']\n"
     ]
    }
   ],
   "source": [
    "b38=\"https://www.amazon.in/Renewed-OnePlus-Pine-Green-128GB-Storage/dp/B0968YBGLP/ref=sr_1_53?crid=1UPM60Y5HAK5M&keywords=oneplus+mobile+phones&qid=1668354657&qu=eyJxc2MiOiI1LjgxIiwicXNhIjoiNS4zNyIsInFzcCI6IjMuNjcifQ%3D%3D&sprefix=one+plus+mobile+phone%2Caps%2C334&sr=8-53\"\n",
    "details(b38,headers)"
   ]
  },
  {
   "cell_type": "code",
   "execution_count": 46,
   "id": "f6a6a004",
   "metadata": {},
   "outputs": [
    {
     "name": "stdout",
     "output_type": "stream",
     "text": [
      "['48 MP', '16 MP', '5 MP', '2 MP', '16 MP']\n",
      "['6.55 inch']\n",
      "[]\n",
      "30,999.\n",
      "['8GB', '128GB']\n",
      "['OnePlus 8T 5G', 'orage']\n",
      "['(Lunar Silver']\n",
      "['Android 11']\n",
      "['5G']\n",
      "['3.3']\n",
      "['92']\n"
     ]
    }
   ],
   "source": [
    "b39=\"https://www.amazon.in/Renewed-OnePlus-Lunar-Silver-Storage/dp/B0936H71M2/ref=sr_1_56?crid=1UPM60Y5HAK5M&keywords=oneplus+mobile+phones&qid=1668354657&qu=eyJxc2MiOiI1LjgxIiwicXNhIjoiNS4zNyIsInFzcCI6IjMuNjcifQ%3D%3D&sprefix=one+plus+mobile+phone%2Caps%2C334&sr=8-56\"\n",
    "details(b39,headers)"
   ]
  },
  {
   "cell_type": "code",
   "execution_count": 47,
   "id": "c81875f5",
   "metadata": {},
   "outputs": [
    {
     "name": "stdout",
     "output_type": "stream",
     "text": [
      "['16MP', '16 MP']\n",
      "[]\n",
      "['400 mAh']\n",
      "10,394.\n",
      "['6GB', '64GB']\n",
      "['OnePlus 3T Gunmetal']\n",
      "['(6GB', '(Gunmetal']\n",
      "['Android']\n",
      "['4G']\n",
      "['2.2']\n",
      "['23']\n"
     ]
    }
   ],
   "source": [
    "b40=\"https://www.amazon.in/Renewed-OnePlus-3T-Gunmetal-64GB/dp/B0861YLTPG/ref=sr_1_55?crid=1UPM60Y5HAK5M&keywords=oneplus+mobile+phones&qid=1668354657&qu=eyJxc2MiOiI1LjgxIiwicXNhIjoiNS4zNyIsInFzcCI6IjMuNjcifQ%3D%3D&sprefix=one+plus+mobile+phone%2Caps%2C334&sr=8-55\"\n",
    "details(b40,headers)"
   ]
  },
  {
   "cell_type": "code",
   "execution_count": 48,
   "id": "7c44f3b1",
   "metadata": {},
   "outputs": [
    {
     "name": "stdout",
     "output_type": "stream",
     "text": [
      "['48 MP', '16 MP', '5 MP', '2 MP', '16 MP']\n",
      "['6.55 inch']\n",
      "['4500 mAH']\n",
      "32,999.\n",
      "['12GB', '256GB']\n",
      "['OnePlus 8T 5G', 'orage']\n",
      "['(Aquamarine Green']\n",
      "['Android']\n",
      "['5G']\n",
      "['3.2']\n",
      "['107']\n"
     ]
    }
   ],
   "source": [
    "b41=\"https://www.amazon.in/Renewed-OnePlus-Aquamarine-Green-Storage/dp/B08PVKSFHX/ref=sr_1_60?crid=1UPM60Y5HAK5M&keywords=oneplus+mobile+phones&qid=1668354657&qu=eyJxc2MiOiI1LjgxIiwicXNhIjoiNS4zNyIsInFzcCI6IjMuNjcifQ%3D%3D&sprefix=one+plus+mobile+phone%2Caps%2C334&sr=8-60\"\n",
    "details(b41,headers)"
   ]
  },
  {
   "cell_type": "code",
   "execution_count": 49,
   "id": "e06dde54",
   "metadata": {},
   "outputs": [
    {
     "name": "stdout",
     "output_type": "stream",
     "text": [
      "['50MP', '2MP', '16MP']\n",
      "['6.7 Inches']\n",
      "['5000 mAh']\n"
     ]
    },
    {
     "ename": "AttributeError",
     "evalue": "'NoneType' object has no attribute 'text'",
     "output_type": "error",
     "traceback": [
      "\u001b[1;31m---------------------------------------------------------------------------\u001b[0m",
      "\u001b[1;31mAttributeError\u001b[0m                            Traceback (most recent call last)",
      "Input \u001b[1;32mIn [49]\u001b[0m, in \u001b[0;36m<cell line: 2>\u001b[1;34m()\u001b[0m\n\u001b[0;32m      1\u001b[0m b42\u001b[38;5;241m=\u001b[39m\u001b[38;5;124m\"\u001b[39m\u001b[38;5;124mhttps://www.amazon.in/Renewed-OnePlus-Forest-Green-Storage/dp/B0B46MH8DC/ref=sr_1_65?crid=1UPM60Y5HAK5M&keywords=oneplus+mobile+phones&qid=1668355136&qu=eyJxc2MiOiI1LjgxIiwicXNhIjoiNS4zNyIsInFzcCI6IjMuNjcifQ\u001b[39m\u001b[38;5;124m%\u001b[39m\u001b[38;5;124m3D\u001b[39m\u001b[38;5;124m%\u001b[39m\u001b[38;5;124m3D&sprefix=one+plus+mobile+phone\u001b[39m\u001b[38;5;124m%\u001b[39m\u001b[38;5;124m2Caps\u001b[39m\u001b[38;5;124m%\u001b[39m\u001b[38;5;124m2C334&sr=8-65\u001b[39m\u001b[38;5;124m\"\u001b[39m\n\u001b[1;32m----> 2\u001b[0m \u001b[43mdetails\u001b[49m\u001b[43m(\u001b[49m\u001b[43mb42\u001b[49m\u001b[43m,\u001b[49m\u001b[43mheaders\u001b[49m\u001b[43m)\u001b[49m\n",
      "Input \u001b[1;32mIn [3]\u001b[0m, in \u001b[0;36mdetails\u001b[1;34m(baseurl, headers)\u001b[0m\n\u001b[0;32m     17\u001b[0m \u001b[38;5;28mprint\u001b[39m(n)\n\u001b[0;32m     19\u001b[0m o\u001b[38;5;241m=\u001b[39ma\u001b[38;5;241m.\u001b[39mfind(\u001b[38;5;124m'\u001b[39m\u001b[38;5;124mspan\u001b[39m\u001b[38;5;124m'\u001b[39m,{\u001b[38;5;124m\"\u001b[39m\u001b[38;5;124mclass\u001b[39m\u001b[38;5;124m\"\u001b[39m:\u001b[38;5;124m\"\u001b[39m\u001b[38;5;124ma-price-whole\u001b[39m\u001b[38;5;124m\"\u001b[39m})\n\u001b[1;32m---> 20\u001b[0m p\u001b[38;5;241m=\u001b[39m\u001b[43mo\u001b[49m\u001b[38;5;241;43m.\u001b[39;49m\u001b[43mtext\u001b[49m\n\u001b[0;32m     21\u001b[0m \u001b[38;5;28mprint\u001b[39m(p)\n\u001b[0;32m     22\u001b[0m q\u001b[38;5;241m=\u001b[39ma\u001b[38;5;241m.\u001b[39mfind(\u001b[38;5;124m'\u001b[39m\u001b[38;5;124mspan\u001b[39m\u001b[38;5;124m'\u001b[39m,{\u001b[38;5;124m\"\u001b[39m\u001b[38;5;124mclass\u001b[39m\u001b[38;5;124m\"\u001b[39m:\u001b[38;5;124m\"\u001b[39m\u001b[38;5;124ma-size-large product-title-word-break\u001b[39m\u001b[38;5;124m\"\u001b[39m})\n",
      "\u001b[1;31mAttributeError\u001b[0m: 'NoneType' object has no attribute 'text'"
     ]
    }
   ],
   "source": [
    "b42=\"https://www.amazon.in/Renewed-OnePlus-Forest-Green-Storage/dp/B0B46MH8DC/ref=sr_1_65?crid=1UPM60Y5HAK5M&keywords=oneplus+mobile+phones&qid=1668355136&qu=eyJxc2MiOiI1LjgxIiwicXNhIjoiNS4zNyIsInFzcCI6IjMuNjcifQ%3D%3D&sprefix=one+plus+mobile+phone%2Caps%2C334&sr=8-65\"\n",
    "details(b42,headers)"
   ]
  },
  {
   "cell_type": "code",
   "execution_count": null,
   "id": "4356bd1b",
   "metadata": {},
   "outputs": [],
   "source": [
    "b43=\"https://www.amazon.in/Renewed-OnePlus-Storage-hands-free-capable/dp/B09S9Q5435/ref=sr_1_66?crid=1UPM60Y5HAK5M&keywords=oneplus+mobile+phones&qid=1668355136&qu=eyJxc2MiOiI1LjgxIiwicXNhIjoiNS4zNyIsInFzcCI6IjMuNjcifQ%3D%3D&sprefix=one+plus+mobile+phone%2Caps%2C334&sr=8-66\"\n",
    "details(b43,headers)"
   ]
  },
  {
   "cell_type": "code",
   "execution_count": null,
   "id": "ad824239",
   "metadata": {},
   "outputs": [],
   "source": [
    "b44=\"https://www.amazon.in/Renewed-OnePlus-Storage-hands-free-capable/dp/B09SB27SFL/ref=sr_1_69?crid=1UPM60Y5HAK5M&keywords=oneplus+mobile+phones&qid=1668355136&qu=eyJxc2MiOiI1LjgxIiwicXNhIjoiNS4zNyIsInFzcCI6IjMuNjcifQ%3D%3D&sprefix=one+plus+mobile+phone%2Caps%2C334&sr=8-69\"\n",
    "details(b44,headers)"
   ]
  },
  {
   "cell_type": "code",
   "execution_count": 50,
   "id": "a688afe3",
   "metadata": {},
   "outputs": [
    {
     "name": "stdout",
     "output_type": "stream",
     "text": [
      "['128GB', '128GB', '128GB', '128GB', '256GB', '128GB', '128GB', '256GB', '256GB', '128GB', '128GB', '128GB', '256GB', '128GB', '256GB', '128GB', '64GB', '128GB', '128GB', '128GB', '128GB', '128GB', '64GB', '128GB', '64GB', '256GB', '128GB', '256GB', '128GB', '128GB', '128GB', '128GB', '256GB', '128GB', '256GB', '256GB', '128GB', '128GB', '128GB', '128GB', '64GB', '256GB']\n",
      "['64MP', '50MP', '64MP', '64MP', '50MP', '50MP', '50MP', '50MP', '50MP', '48MP', '50MP', '50MP', '50MP', '50MP', '48MP', '48MP', '16 MP', '48MP', '48 MP', '48MP', '64MP', '48MP', '16 MP', '16MP', '20MP', '16MP', '50MP', '48 MP', '50MP', '50MP', '48 MP', '16 MP', '48MP', '48MP', '48 MP', '50MP', '64MP', '50MP', '48 MP', '48 MP', '16MP', '48 MP']\n",
      "['16MP', '32MP', '16MP', '16MP', '32MP', '32MP', '16MP', '16MP', '16MP', '32MP', '16MP', '16MP', '16MP', '16MP', '32MP', '8MP', '16MP', '16 MP', '16 MP', '32MP', '16MP', '16MP', '16MP', '16MP', '16MP', '16MP', '32MP', '16 MP', '32MP', '32MP', '16 MP', '16 MP', '32MP', '8MP', '16 MP', '32MP', '16MP', '16MP', '16 MP', '16 MP', '16 MP', '16 MP']\n",
      "['(Bahamas Blue', '(Gray Shadow', '(Gray Mirror', '(Blue Tide', '(Jade Fog', '(Jade Fog', '(Forest Green', '(Forest Green', '(Moonstone Black', '(Emerald Forest', '(Sierra Black', '(Moonstone Black', '(Moonstone Black', '(Jade Green', '(Volcanic Black', '(Gray Onyx', '(Mirror Black', '(Mirror Grey', '(Morning Mist', '(Volcanic Black', '(Gray Mirror', '(Mirror Grey', '(Midnight Black', '(Glacier Blue', '(Gray', '(8GB RAM', '(Gray Sierra', '(Aquamarine Green', '(Blue Haze', '(Blue Haze', '(Lake Blue', '(Mirror Black', '(Emerald Forest', '(Blue Marble', '(Astral Black', '(Blue Haze', '(Blue Void', '(Nano Silver', '(Pine Green', '(Lunar Silver', '(6GB', '(Aquamarine Green']\n",
      "['OnePlus Nord CE', 'OnePlus Nord 2T', 'OnePlus Nord CE', 'OnePlus Nord CE', 'OnePlus Nord 2T', 'OnePlus Nord 2T', 'OnePlus 10R 5G', 'OnePlus 10R 5G', 'OnePlus 10T 5G', 'OnePlus 10 Pro', 'OnePlus 10R 5G', 'OnePlus 10T 5G', 'OnePlus 10T 5G', 'OnePlus 10T 5G', 'OnePlus 10 Pro', 'OnePlus Nord 5G', 'OnePlus 6', 'OnePlus 7 Pro', 'OnePlus 9 Pro', 'OnePlus 10 Pro', 'OnePlus Nord CE', 'OnePlus 7', 'OnePlus 6', 'OnePlus 7T', 'OnePlus 5', 'OnePlus 7T Glacier', 'OnePlus Nord 2', 'OnePlus 8T 5G', 'OnePlus Nord 2', 'OnePlus Nord 2', 'OnePlus 9R 5G', 'OnePlus 6', 'OnePlus 10 Pro', 'OnePlus Nord 5G', 'OnePlus 9 5G', 'OnePlus Nord 2', 'OnePlus Nord CE', 'OnePlus 9RT 5G', 'OnePlus 9 Pro', 'OnePlus 8T 5G', 'OnePlus 3T Gunmetal', 'OnePlus 8T 5G']\n",
      "['8GB', '8GB', '8GB', '6GB', '12GB', '8GB', '8GB', '12GB', '12GB', '8GB', '8GB', '8GB', '16GB', '8GB', '12GB', '8GB', '6GB', '6GB', '8GB', '8GB', '8GB', '6GB', '6GB', '8GB', '6GB', '8GB', '8GB', '12GB', '8GB', '8GB', '8GB', '8GB', '12GB', '8GB', '12GB', '12GB', '8GB', '8GB', '8GB', '8GB', '6GB', '12GB']\n",
      "['5G', '5G', '5G', '5G', '5G', '5G', '5G', '5G', '5G', '5G', '5G', '5G', '5G', '5G', '5G', '4G', '4G', '4G', '5G', '5G', '5G', '4G', '4G', '4G', '4G', '4G', '5G', '5G', '5G', '5G', '5G', '4G', '5G', '4G', '5G', '5G', '4G', '5G', '5G', '5G', '4G', '5G']\n",
      "['4500mAh', '4500 mAh', '4500mAh', '5000 mAh', '4500 mAh', '4500 mAh', '5000 mAh', '5000 mAh', '4800 mAh', '5000 mAh', '5000 mAh', '4800 mAh', '4800 mAh', '4800 mAh', '5000 mAh', '4500mAh', '3300 mAh', '4000mAH', '4500 mAh', '5000 mAh', '4500mAh', '3700mAH', '3300 mAh', '4500mAh', '4500mAh', '3800mAH', '4500mAH', '4500 mAH', '4500mAH', '4500mAH', '4500 mAh', '4500mAh', '5000 mAh', '4500mAh', '4500 mAh', '4500mAH', '4500mAh', '500 mAh', '4500 mAh', '4500mAh', '400 mAh', '4500 mAH']\n",
      "['6.43 inch,', '6.43 Inches', '6.43 inch,', '6.59 Inches', '6.43 Inches', '6.43 Inches', '6.7 Inches', '6.7 Inches', '6.7 Inches', '6.7 Inches', '6.7 Inches', '6.7 Inches', '6.7 Inches', '6.7 Inches', '6.7 Inches', '6.44 Inches', '6.44 Inches', '6.44 Inches', '6.7 Inches', '6.7 Inches', '6.43 inch,', '6.44 Inches', '6.44 Inches', '6.55 inch', '6.44 Inches', '6.55 inch', '6.44 Inches', '6.55 inch', '6.44 Inches', '6.44 Inches', '6.55 Inches', '6.44 Inches', '6.7 Inches', '6.44 Inches', '6.55 Inches', '6.44 Inches', '6.44 Inches', '6.62 Inches', '6.7 Inches', '6.55 inch', '6.44 Inches', '6.55 inch']\n",
      "['24,999.', '28,999.', '24,999.', '18,999.', '33,999.', '28,999.', '34,999.', '38,999.', '49,999.', '61,999.', '34,999.', '44,999.', '50,999.', '44,999.', '66,999.', '22,099.', '15,999.', '33,999.', '47,999.', '61,999.', '24,999.', '18,799.', '12,759.', '23,699.', '10,499.', '25,599.', '26,999.', '32,999.', '26,999.', '26,999.', '32,499.', '15,999.', '60,999.', '22,099.', '36,899.', '30,699.', '18,999.', '37,999.', '47,999.', '30,999.', '10,394.', '32,999.']\n",
      "['OxygenOS', 'OxygenOS', 'OxygenOS', 'OxygenOS', 'OxygenOS', 'OxygenOS', 'OxygenOS', 'OxygenOS', 'OxygenOS', 'OxygenOS', 'OxygenOS', 'OxygenOS', 'OxygenOS', 'OxygenOS', 'OxygenOS', 'Android 10', 'Android 8', 'Android', 'Android 11', 'OxygenOS', 'OxygenOS', 'Android Oxygen', 'Android 10', 'Android 10', 'Android', 'Android 10', 'Android 11', 'Android', 'Android 11', 'Android 11', 'Android 11', 'Android', 'Android 12', 'Android 10', 'Android 11', 'Android 11', 'Android', 'Android 11', 'Android 11', 'Android 11', 'Android', 'Android']\n",
      "['4.3', '4.3', '4.3', '4.3', '4.3', '4.3', '4.2', '4.2', '4.2', '4.2', '4.2', '4.2', '4.2', '4.2', '4.2', '3.5', '3.2', '3.4', '3.0', '4.2', '4.3', '3.4', '3.0', '3.4', '2.8', '3.4', '3.6', '4.4', '3.6', '3.6', '3.3', '2.9', '4.4', '3.5', '3.8', '3.5', '3.4', '2.7', '2.2', '3.3', '2.2', '3.2']\n",
      "['95,660', '12,958', '95,660', '95,660', '12,958', '12,958', '9,128', '9,128', '2,214', '4,624', '9,128', '2,214', '2,214', '2,214', '4,624', '1,797', '386', '83', '7', '4,624', '95,660', '159', '2', '448', '162', '448', '465', '27,107', '465', '465', '378', '190', '3', '1,797', '19', '76', '739', '20', '8', '92', '23', '107']\n"
     ]
    }
   ],
   "source": [
    "print(storage)\n",
    "print(camera_px)\n",
    "print(self_px)\n",
    "print(colour)\n",
    "print(name)\n",
    "print(ram)\n",
    "print(tech)\n",
    "print(battery)\n",
    "print(display)\n",
    "print(price)\n",
    "print(os_sys)\n",
    "print(star_rate)\n",
    "print(user_rate)"
   ]
  },
  {
   "cell_type": "code",
   "execution_count": 51,
   "id": "7e0f1661",
   "metadata": {},
   "outputs": [],
   "source": [
    "colour=[i.replace(\"(\",\"\") for i in colour]"
   ]
  },
  {
   "cell_type": "code",
   "execution_count": 52,
   "id": "db1882af",
   "metadata": {},
   "outputs": [],
   "source": [
    "ram=[i.replace(\"GB\",\"\") for i in ram]"
   ]
  },
  {
   "cell_type": "code",
   "execution_count": 53,
   "id": "b52314a1",
   "metadata": {},
   "outputs": [],
   "source": [
    "camera_px=[i.replace(\"MP\",\"\") for i in camera_px]"
   ]
  },
  {
   "cell_type": "code",
   "execution_count": 54,
   "id": "004e8c15",
   "metadata": {},
   "outputs": [],
   "source": [
    "self_px=[i.replace(\"MP\",\"\") for i in self_px]"
   ]
  },
  {
   "cell_type": "code",
   "execution_count": 55,
   "id": "c1c0eef8",
   "metadata": {},
   "outputs": [],
   "source": [
    "tech=[i.replace(\"G\",\"\") for i in tech]"
   ]
  },
  {
   "cell_type": "code",
   "execution_count": 56,
   "id": "4241aa19",
   "metadata": {},
   "outputs": [],
   "source": [
    "name=[i.replace(\"5G\",\"\") for i in name]"
   ]
  },
  {
   "cell_type": "code",
   "execution_count": 65,
   "id": "d1d396f6",
   "metadata": {},
   "outputs": [],
   "source": [
    "battery=[i.replace(\"mAH\",\"\") for i in battery]\n",
    "battery=[i.replace(\"mAh\",\"\") for i in battery]"
   ]
  },
  {
   "cell_type": "code",
   "execution_count": 66,
   "id": "e9e7df94",
   "metadata": {},
   "outputs": [],
   "source": [
    "price=[i.replace(\".\",\"\") for i in price]"
   ]
  },
  {
   "cell_type": "code",
   "execution_count": 67,
   "id": "93ebad57",
   "metadata": {},
   "outputs": [],
   "source": [
    "display=[i.replace(\"Inches\",\"\") for i in display]\n",
    "display=[i.replace(\"inch\",\"\") for i in display]\n",
    "display=[i.replace(\" \",\"\") for i in display]\n",
    "display=[i.replace(\",\",\"\") for i in display]"
   ]
  },
  {
   "cell_type": "code",
   "execution_count": 68,
   "id": "579075dc",
   "metadata": {},
   "outputs": [
    {
     "ename": "AttributeError",
     "evalue": "'float' object has no attribute 'replace'",
     "output_type": "error",
     "traceback": [
      "\u001b[1;31m---------------------------------------------------------------------------\u001b[0m",
      "\u001b[1;31mAttributeError\u001b[0m                            Traceback (most recent call last)",
      "Input \u001b[1;32mIn [68]\u001b[0m, in \u001b[0;36m<cell line: 1>\u001b[1;34m()\u001b[0m\n\u001b[1;32m----> 1\u001b[0m storage\u001b[38;5;241m=\u001b[39m[i\u001b[38;5;241m.\u001b[39mreplace(\u001b[38;5;124m\"\u001b[39m\u001b[38;5;124mGB\u001b[39m\u001b[38;5;124m\"\u001b[39m,\u001b[38;5;124m\"\u001b[39m\u001b[38;5;124m \u001b[39m\u001b[38;5;124m\"\u001b[39m) \u001b[38;5;28;01mfor\u001b[39;00m i \u001b[38;5;129;01min\u001b[39;00m storage]\n",
      "Input \u001b[1;32mIn [68]\u001b[0m, in \u001b[0;36m<listcomp>\u001b[1;34m(.0)\u001b[0m\n\u001b[1;32m----> 1\u001b[0m storage\u001b[38;5;241m=\u001b[39m[\u001b[43mi\u001b[49m\u001b[38;5;241;43m.\u001b[39;49m\u001b[43mreplace\u001b[49m(\u001b[38;5;124m\"\u001b[39m\u001b[38;5;124mGB\u001b[39m\u001b[38;5;124m\"\u001b[39m,\u001b[38;5;124m\"\u001b[39m\u001b[38;5;124m \u001b[39m\u001b[38;5;124m\"\u001b[39m) \u001b[38;5;28;01mfor\u001b[39;00m i \u001b[38;5;129;01min\u001b[39;00m storage]\n",
      "\u001b[1;31mAttributeError\u001b[0m: 'float' object has no attribute 'replace'"
     ]
    }
   ],
   "source": [
    "storage=[i.replace(\"GB\",\" \") for i in storage]"
   ]
  },
  {
   "cell_type": "code",
   "execution_count": 69,
   "id": "7cf50889",
   "metadata": {},
   "outputs": [],
   "source": [
    "price=[i.replace(\",\",\"\") for i in price]\n",
    "user_rate=[i.replace(\",\",\"\") for i in user_rate]"
   ]
  },
  {
   "cell_type": "code",
   "execution_count": 70,
   "id": "64468ad9",
   "metadata": {},
   "outputs": [
    {
     "name": "stdout",
     "output_type": "stream",
     "text": [
      "['6.43', '6.43', '6.43', '6.59', '6.43', '6.43', '6.7', '6.7', '6.7', '6.7', '6.7', '6.7', '6.7', '6.7', '6.7', '6.44', '6.44', '6.44', '6.7', '6.7', '6.43', '6.44', '6.44', '6.55', '6.44', '6.55', '6.44', '6.55', '6.44', '6.44', '6.55', '6.44', '6.7', '6.44', '6.55', '6.44', '6.44', '6.62', '6.7', '6.55', '6.44', '6.55']\n"
     ]
    }
   ],
   "source": [
    "print(display)"
   ]
  },
  {
   "cell_type": "code",
   "execution_count": 71,
   "id": "05c1ff6f",
   "metadata": {},
   "outputs": [],
   "source": [
    "storage=[float(i) for i in storage]\n",
    "camera_px=[int(i) for i in camera_px]\n",
    "self_px=[int(i) for i in self_px]\n",
    "ram=[float(i) for i in ram]\n",
    "tech=[float(i) for i in tech]\n",
    "battery=[float(i) for i in battery]\n",
    "display=[float(i) for i in display]\n",
    "price=[float(i) for i in price]\n",
    "star_rate=[float(i) for i in star_rate]\n",
    "user_rate=[float(i) for i in user_rate]"
   ]
  },
  {
   "cell_type": "code",
   "execution_count": 72,
   "id": "a11ffc8f",
   "metadata": {},
   "outputs": [],
   "source": [
    "display=[i*2.54 for i in display]"
   ]
  },
  {
   "cell_type": "code",
   "execution_count": 73,
   "id": "51408a5a",
   "metadata": {},
   "outputs": [],
   "source": [
    "r3=pd.DataFrame({\"Name\":name,\"Colour\":colour,\"Storage\":storage,\"Battery\":battery,\n",
    "               \"Camera_Pixel\":camera_px,\"Selfie_cam_pixel\":self_px,\"Display_size\":display,\n",
    "                \"Technology\":tech,\"RAM\":ram,\"Operating_system\":os_sys,\n",
    "               \"Star_ratings\":star_rate,\"Users_rated\":user_rate,\"Price\":price})"
   ]
  },
  {
   "cell_type": "code",
   "execution_count": 74,
   "id": "a744ef6b",
   "metadata": {},
   "outputs": [
    {
     "data": {
      "text/html": [
       "<div>\n",
       "<style scoped>\n",
       "    .dataframe tbody tr th:only-of-type {\n",
       "        vertical-align: middle;\n",
       "    }\n",
       "\n",
       "    .dataframe tbody tr th {\n",
       "        vertical-align: top;\n",
       "    }\n",
       "\n",
       "    .dataframe thead th {\n",
       "        text-align: right;\n",
       "    }\n",
       "</style>\n",
       "<table border=\"1\" class=\"dataframe\">\n",
       "  <thead>\n",
       "    <tr style=\"text-align: right;\">\n",
       "      <th></th>\n",
       "      <th>Name</th>\n",
       "      <th>Colour</th>\n",
       "      <th>Storage</th>\n",
       "      <th>Battery</th>\n",
       "      <th>Camera_Pixel</th>\n",
       "      <th>Selfie_cam_pixel</th>\n",
       "      <th>Display_size</th>\n",
       "      <th>Technology</th>\n",
       "      <th>RAM</th>\n",
       "      <th>Operating_system</th>\n",
       "      <th>Star_ratings</th>\n",
       "      <th>Users_rated</th>\n",
       "      <th>Price</th>\n",
       "    </tr>\n",
       "  </thead>\n",
       "  <tbody>\n",
       "    <tr>\n",
       "      <th>0</th>\n",
       "      <td>OnePlus Nord CE</td>\n",
       "      <td>Bahamas Blue</td>\n",
       "      <td>128.0</td>\n",
       "      <td>4500.0</td>\n",
       "      <td>64</td>\n",
       "      <td>16</td>\n",
       "      <td>16.3322</td>\n",
       "      <td>5.0</td>\n",
       "      <td>8.0</td>\n",
       "      <td>OxygenOS</td>\n",
       "      <td>4.3</td>\n",
       "      <td>95660.0</td>\n",
       "      <td>24999.0</td>\n",
       "    </tr>\n",
       "    <tr>\n",
       "      <th>1</th>\n",
       "      <td>OnePlus Nord 2T</td>\n",
       "      <td>Gray Shadow</td>\n",
       "      <td>128.0</td>\n",
       "      <td>4500.0</td>\n",
       "      <td>50</td>\n",
       "      <td>32</td>\n",
       "      <td>16.3322</td>\n",
       "      <td>5.0</td>\n",
       "      <td>8.0</td>\n",
       "      <td>OxygenOS</td>\n",
       "      <td>4.3</td>\n",
       "      <td>12958.0</td>\n",
       "      <td>28999.0</td>\n",
       "    </tr>\n",
       "    <tr>\n",
       "      <th>2</th>\n",
       "      <td>OnePlus Nord CE</td>\n",
       "      <td>Gray Mirror</td>\n",
       "      <td>128.0</td>\n",
       "      <td>4500.0</td>\n",
       "      <td>64</td>\n",
       "      <td>16</td>\n",
       "      <td>16.3322</td>\n",
       "      <td>5.0</td>\n",
       "      <td>8.0</td>\n",
       "      <td>OxygenOS</td>\n",
       "      <td>4.3</td>\n",
       "      <td>95660.0</td>\n",
       "      <td>24999.0</td>\n",
       "    </tr>\n",
       "    <tr>\n",
       "      <th>3</th>\n",
       "      <td>OnePlus Nord CE</td>\n",
       "      <td>Blue Tide</td>\n",
       "      <td>128.0</td>\n",
       "      <td>5000.0</td>\n",
       "      <td>64</td>\n",
       "      <td>16</td>\n",
       "      <td>16.7386</td>\n",
       "      <td>5.0</td>\n",
       "      <td>6.0</td>\n",
       "      <td>OxygenOS</td>\n",
       "      <td>4.3</td>\n",
       "      <td>95660.0</td>\n",
       "      <td>18999.0</td>\n",
       "    </tr>\n",
       "    <tr>\n",
       "      <th>4</th>\n",
       "      <td>OnePlus Nord 2T</td>\n",
       "      <td>Jade Fog</td>\n",
       "      <td>256.0</td>\n",
       "      <td>4500.0</td>\n",
       "      <td>50</td>\n",
       "      <td>32</td>\n",
       "      <td>16.3322</td>\n",
       "      <td>5.0</td>\n",
       "      <td>12.0</td>\n",
       "      <td>OxygenOS</td>\n",
       "      <td>4.3</td>\n",
       "      <td>12958.0</td>\n",
       "      <td>33999.0</td>\n",
       "    </tr>\n",
       "    <tr>\n",
       "      <th>5</th>\n",
       "      <td>OnePlus Nord 2T</td>\n",
       "      <td>Jade Fog</td>\n",
       "      <td>128.0</td>\n",
       "      <td>4500.0</td>\n",
       "      <td>50</td>\n",
       "      <td>32</td>\n",
       "      <td>16.3322</td>\n",
       "      <td>5.0</td>\n",
       "      <td>8.0</td>\n",
       "      <td>OxygenOS</td>\n",
       "      <td>4.3</td>\n",
       "      <td>12958.0</td>\n",
       "      <td>28999.0</td>\n",
       "    </tr>\n",
       "    <tr>\n",
       "      <th>6</th>\n",
       "      <td>OnePlus 10R</td>\n",
       "      <td>Forest Green</td>\n",
       "      <td>128.0</td>\n",
       "      <td>5000.0</td>\n",
       "      <td>50</td>\n",
       "      <td>16</td>\n",
       "      <td>17.0180</td>\n",
       "      <td>5.0</td>\n",
       "      <td>8.0</td>\n",
       "      <td>OxygenOS</td>\n",
       "      <td>4.2</td>\n",
       "      <td>9128.0</td>\n",
       "      <td>34999.0</td>\n",
       "    </tr>\n",
       "    <tr>\n",
       "      <th>7</th>\n",
       "      <td>OnePlus 10R</td>\n",
       "      <td>Forest Green</td>\n",
       "      <td>256.0</td>\n",
       "      <td>5000.0</td>\n",
       "      <td>50</td>\n",
       "      <td>16</td>\n",
       "      <td>17.0180</td>\n",
       "      <td>5.0</td>\n",
       "      <td>12.0</td>\n",
       "      <td>OxygenOS</td>\n",
       "      <td>4.2</td>\n",
       "      <td>9128.0</td>\n",
       "      <td>38999.0</td>\n",
       "    </tr>\n",
       "    <tr>\n",
       "      <th>8</th>\n",
       "      <td>OnePlus 10T</td>\n",
       "      <td>Moonstone Black</td>\n",
       "      <td>256.0</td>\n",
       "      <td>4800.0</td>\n",
       "      <td>50</td>\n",
       "      <td>16</td>\n",
       "      <td>17.0180</td>\n",
       "      <td>5.0</td>\n",
       "      <td>12.0</td>\n",
       "      <td>OxygenOS</td>\n",
       "      <td>4.2</td>\n",
       "      <td>2214.0</td>\n",
       "      <td>49999.0</td>\n",
       "    </tr>\n",
       "    <tr>\n",
       "      <th>9</th>\n",
       "      <td>OnePlus 10 Pro</td>\n",
       "      <td>Emerald Forest</td>\n",
       "      <td>128.0</td>\n",
       "      <td>5000.0</td>\n",
       "      <td>48</td>\n",
       "      <td>32</td>\n",
       "      <td>17.0180</td>\n",
       "      <td>5.0</td>\n",
       "      <td>8.0</td>\n",
       "      <td>OxygenOS</td>\n",
       "      <td>4.2</td>\n",
       "      <td>4624.0</td>\n",
       "      <td>61999.0</td>\n",
       "    </tr>\n",
       "    <tr>\n",
       "      <th>10</th>\n",
       "      <td>OnePlus 10R</td>\n",
       "      <td>Sierra Black</td>\n",
       "      <td>128.0</td>\n",
       "      <td>5000.0</td>\n",
       "      <td>50</td>\n",
       "      <td>16</td>\n",
       "      <td>17.0180</td>\n",
       "      <td>5.0</td>\n",
       "      <td>8.0</td>\n",
       "      <td>OxygenOS</td>\n",
       "      <td>4.2</td>\n",
       "      <td>9128.0</td>\n",
       "      <td>34999.0</td>\n",
       "    </tr>\n",
       "    <tr>\n",
       "      <th>11</th>\n",
       "      <td>OnePlus 10T</td>\n",
       "      <td>Moonstone Black</td>\n",
       "      <td>128.0</td>\n",
       "      <td>4800.0</td>\n",
       "      <td>50</td>\n",
       "      <td>16</td>\n",
       "      <td>17.0180</td>\n",
       "      <td>5.0</td>\n",
       "      <td>8.0</td>\n",
       "      <td>OxygenOS</td>\n",
       "      <td>4.2</td>\n",
       "      <td>2214.0</td>\n",
       "      <td>44999.0</td>\n",
       "    </tr>\n",
       "    <tr>\n",
       "      <th>12</th>\n",
       "      <td>OnePlus 10T</td>\n",
       "      <td>Moonstone Black</td>\n",
       "      <td>256.0</td>\n",
       "      <td>4800.0</td>\n",
       "      <td>50</td>\n",
       "      <td>16</td>\n",
       "      <td>17.0180</td>\n",
       "      <td>5.0</td>\n",
       "      <td>16.0</td>\n",
       "      <td>OxygenOS</td>\n",
       "      <td>4.2</td>\n",
       "      <td>2214.0</td>\n",
       "      <td>50999.0</td>\n",
       "    </tr>\n",
       "    <tr>\n",
       "      <th>13</th>\n",
       "      <td>OnePlus 10T</td>\n",
       "      <td>Jade Green</td>\n",
       "      <td>128.0</td>\n",
       "      <td>4800.0</td>\n",
       "      <td>50</td>\n",
       "      <td>16</td>\n",
       "      <td>17.0180</td>\n",
       "      <td>5.0</td>\n",
       "      <td>8.0</td>\n",
       "      <td>OxygenOS</td>\n",
       "      <td>4.2</td>\n",
       "      <td>2214.0</td>\n",
       "      <td>44999.0</td>\n",
       "    </tr>\n",
       "    <tr>\n",
       "      <th>14</th>\n",
       "      <td>OnePlus 10 Pro</td>\n",
       "      <td>Volcanic Black</td>\n",
       "      <td>256.0</td>\n",
       "      <td>5000.0</td>\n",
       "      <td>48</td>\n",
       "      <td>32</td>\n",
       "      <td>17.0180</td>\n",
       "      <td>5.0</td>\n",
       "      <td>12.0</td>\n",
       "      <td>OxygenOS</td>\n",
       "      <td>4.2</td>\n",
       "      <td>4624.0</td>\n",
       "      <td>66999.0</td>\n",
       "    </tr>\n",
       "    <tr>\n",
       "      <th>15</th>\n",
       "      <td>OnePlus Nord</td>\n",
       "      <td>Gray Onyx</td>\n",
       "      <td>128.0</td>\n",
       "      <td>4500.0</td>\n",
       "      <td>48</td>\n",
       "      <td>8</td>\n",
       "      <td>16.3576</td>\n",
       "      <td>4.0</td>\n",
       "      <td>8.0</td>\n",
       "      <td>Android 10</td>\n",
       "      <td>3.5</td>\n",
       "      <td>1797.0</td>\n",
       "      <td>22099.0</td>\n",
       "    </tr>\n",
       "    <tr>\n",
       "      <th>16</th>\n",
       "      <td>OnePlus 6</td>\n",
       "      <td>Mirror Black</td>\n",
       "      <td>64.0</td>\n",
       "      <td>3300.0</td>\n",
       "      <td>16</td>\n",
       "      <td>16</td>\n",
       "      <td>16.3576</td>\n",
       "      <td>4.0</td>\n",
       "      <td>6.0</td>\n",
       "      <td>Android 8</td>\n",
       "      <td>3.2</td>\n",
       "      <td>386.0</td>\n",
       "      <td>15999.0</td>\n",
       "    </tr>\n",
       "    <tr>\n",
       "      <th>17</th>\n",
       "      <td>OnePlus 7 Pro</td>\n",
       "      <td>Mirror Grey</td>\n",
       "      <td>128.0</td>\n",
       "      <td>4000.0</td>\n",
       "      <td>48</td>\n",
       "      <td>16</td>\n",
       "      <td>16.3576</td>\n",
       "      <td>4.0</td>\n",
       "      <td>6.0</td>\n",
       "      <td>Android</td>\n",
       "      <td>3.4</td>\n",
       "      <td>83.0</td>\n",
       "      <td>33999.0</td>\n",
       "    </tr>\n",
       "    <tr>\n",
       "      <th>18</th>\n",
       "      <td>OnePlus 9 Pro</td>\n",
       "      <td>Morning Mist</td>\n",
       "      <td>128.0</td>\n",
       "      <td>4500.0</td>\n",
       "      <td>48</td>\n",
       "      <td>16</td>\n",
       "      <td>17.0180</td>\n",
       "      <td>5.0</td>\n",
       "      <td>8.0</td>\n",
       "      <td>Android 11</td>\n",
       "      <td>3.0</td>\n",
       "      <td>7.0</td>\n",
       "      <td>47999.0</td>\n",
       "    </tr>\n",
       "    <tr>\n",
       "      <th>19</th>\n",
       "      <td>OnePlus 10 Pro</td>\n",
       "      <td>Volcanic Black</td>\n",
       "      <td>128.0</td>\n",
       "      <td>5000.0</td>\n",
       "      <td>48</td>\n",
       "      <td>32</td>\n",
       "      <td>17.0180</td>\n",
       "      <td>5.0</td>\n",
       "      <td>8.0</td>\n",
       "      <td>OxygenOS</td>\n",
       "      <td>4.2</td>\n",
       "      <td>4624.0</td>\n",
       "      <td>61999.0</td>\n",
       "    </tr>\n",
       "  </tbody>\n",
       "</table>\n",
       "</div>"
      ],
      "text/plain": [
       "               Name           Colour  Storage  Battery  Camera_Pixel  \\\n",
       "0   OnePlus Nord CE     Bahamas Blue    128.0   4500.0            64   \n",
       "1   OnePlus Nord 2T      Gray Shadow    128.0   4500.0            50   \n",
       "2   OnePlus Nord CE      Gray Mirror    128.0   4500.0            64   \n",
       "3   OnePlus Nord CE        Blue Tide    128.0   5000.0            64   \n",
       "4   OnePlus Nord 2T         Jade Fog    256.0   4500.0            50   \n",
       "5   OnePlus Nord 2T         Jade Fog    128.0   4500.0            50   \n",
       "6      OnePlus 10R      Forest Green    128.0   5000.0            50   \n",
       "7      OnePlus 10R      Forest Green    256.0   5000.0            50   \n",
       "8      OnePlus 10T   Moonstone Black    256.0   4800.0            50   \n",
       "9    OnePlus 10 Pro   Emerald Forest    128.0   5000.0            48   \n",
       "10     OnePlus 10R      Sierra Black    128.0   5000.0            50   \n",
       "11     OnePlus 10T   Moonstone Black    128.0   4800.0            50   \n",
       "12     OnePlus 10T   Moonstone Black    256.0   4800.0            50   \n",
       "13     OnePlus 10T        Jade Green    128.0   4800.0            50   \n",
       "14   OnePlus 10 Pro   Volcanic Black    256.0   5000.0            48   \n",
       "15    OnePlus Nord         Gray Onyx    128.0   4500.0            48   \n",
       "16        OnePlus 6     Mirror Black     64.0   3300.0            16   \n",
       "17    OnePlus 7 Pro      Mirror Grey    128.0   4000.0            48   \n",
       "18    OnePlus 9 Pro     Morning Mist    128.0   4500.0            48   \n",
       "19   OnePlus 10 Pro   Volcanic Black    128.0   5000.0            48   \n",
       "\n",
       "    Selfie_cam_pixel  Display_size  Technology   RAM Operating_system  \\\n",
       "0                 16       16.3322         5.0   8.0         OxygenOS   \n",
       "1                 32       16.3322         5.0   8.0         OxygenOS   \n",
       "2                 16       16.3322         5.0   8.0         OxygenOS   \n",
       "3                 16       16.7386         5.0   6.0         OxygenOS   \n",
       "4                 32       16.3322         5.0  12.0         OxygenOS   \n",
       "5                 32       16.3322         5.0   8.0         OxygenOS   \n",
       "6                 16       17.0180         5.0   8.0         OxygenOS   \n",
       "7                 16       17.0180         5.0  12.0         OxygenOS   \n",
       "8                 16       17.0180         5.0  12.0         OxygenOS   \n",
       "9                 32       17.0180         5.0   8.0         OxygenOS   \n",
       "10                16       17.0180         5.0   8.0         OxygenOS   \n",
       "11                16       17.0180         5.0   8.0         OxygenOS   \n",
       "12                16       17.0180         5.0  16.0         OxygenOS   \n",
       "13                16       17.0180         5.0   8.0         OxygenOS   \n",
       "14                32       17.0180         5.0  12.0         OxygenOS   \n",
       "15                 8       16.3576         4.0   8.0       Android 10   \n",
       "16                16       16.3576         4.0   6.0        Android 8   \n",
       "17                16       16.3576         4.0   6.0          Android   \n",
       "18                16       17.0180         5.0   8.0       Android 11   \n",
       "19                32       17.0180         5.0   8.0         OxygenOS   \n",
       "\n",
       "    Star_ratings  Users_rated    Price  \n",
       "0            4.3      95660.0  24999.0  \n",
       "1            4.3      12958.0  28999.0  \n",
       "2            4.3      95660.0  24999.0  \n",
       "3            4.3      95660.0  18999.0  \n",
       "4            4.3      12958.0  33999.0  \n",
       "5            4.3      12958.0  28999.0  \n",
       "6            4.2       9128.0  34999.0  \n",
       "7            4.2       9128.0  38999.0  \n",
       "8            4.2       2214.0  49999.0  \n",
       "9            4.2       4624.0  61999.0  \n",
       "10           4.2       9128.0  34999.0  \n",
       "11           4.2       2214.0  44999.0  \n",
       "12           4.2       2214.0  50999.0  \n",
       "13           4.2       2214.0  44999.0  \n",
       "14           4.2       4624.0  66999.0  \n",
       "15           3.5       1797.0  22099.0  \n",
       "16           3.2        386.0  15999.0  \n",
       "17           3.4         83.0  33999.0  \n",
       "18           3.0          7.0  47999.0  \n",
       "19           4.2       4624.0  61999.0  "
      ]
     },
     "execution_count": 74,
     "metadata": {},
     "output_type": "execute_result"
    }
   ],
   "source": [
    "r3.head(20)"
   ]
  },
  {
   "cell_type": "code",
   "execution_count": 75,
   "id": "e047a926",
   "metadata": {},
   "outputs": [
    {
     "data": {
      "text/plain": [
       "Name                 object\n",
       "Colour               object\n",
       "Storage             float64\n",
       "Battery             float64\n",
       "Camera_Pixel          int64\n",
       "Selfie_cam_pixel      int64\n",
       "Display_size        float64\n",
       "Technology          float64\n",
       "RAM                 float64\n",
       "Operating_system     object\n",
       "Star_ratings        float64\n",
       "Users_rated         float64\n",
       "Price               float64\n",
       "dtype: object"
      ]
     },
     "execution_count": 75,
     "metadata": {},
     "output_type": "execute_result"
    }
   ],
   "source": [
    "r3.dtypes"
   ]
  },
  {
   "cell_type": "code",
   "execution_count": null,
   "id": "fe446326",
   "metadata": {},
   "outputs": [],
   "source": []
  },
  {
   "cell_type": "code",
   "execution_count": 76,
   "id": "747a3240",
   "metadata": {},
   "outputs": [],
   "source": [
    "r3.to_csv(\"oneplus_amazon.csv\")"
   ]
  },
  {
   "cell_type": "code",
   "execution_count": null,
   "id": "ac02b8d8",
   "metadata": {},
   "outputs": [],
   "source": []
  }
 ],
 "metadata": {
  "kernelspec": {
   "display_name": "Python 3 (ipykernel)",
   "language": "python",
   "name": "python3"
  },
  "language_info": {
   "codemirror_mode": {
    "name": "ipython",
    "version": 3
   },
   "file_extension": ".py",
   "mimetype": "text/x-python",
   "name": "python",
   "nbconvert_exporter": "python",
   "pygments_lexer": "ipython3",
   "version": "3.9.12"
  }
 },
 "nbformat": 4,
 "nbformat_minor": 5
}
