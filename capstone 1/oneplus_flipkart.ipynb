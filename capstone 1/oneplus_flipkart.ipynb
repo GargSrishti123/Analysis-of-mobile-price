{
 "cells": [
  {
   "cell_type": "code",
   "execution_count": 126,
   "id": "065a3705",
   "metadata": {},
   "outputs": [],
   "source": [
    "import re\n",
    "import requests\n",
    "from bs4 import BeautifulSoup\n",
    "import pandas as pd"
   ]
  },
  {
   "cell_type": "code",
   "execution_count": 127,
   "id": "2b688f57",
   "metadata": {},
   "outputs": [],
   "source": [
    "headers={\"User-Agent\": \"Mozilla/5.0 (Windows NT 10.0; Win64; x64) AppleWebKit/537.36 (KHTML, like Gecko) Chrome/106.0.0.0 Safari/537.36\"}"
   ]
  },
  {
   "cell_type": "code",
   "execution_count": 4,
   "id": "4fdb4e6b",
   "metadata": {},
   "outputs": [
    {
     "name": "stdout",
     "output_type": "stream",
     "text": [
      "<Response [200]>\n",
      "['OnePlus Nord CE']\n",
      "['(Blue Tide']\n",
      "['64MP', '16MP']\n",
      "['6 GB', '128 GB']\n",
      "['5000 mAh']\n",
      "['16.74 cm']\n",
      "['31,678', '2,685']\n",
      "4.4\n",
      "₹19,825\n"
     ]
    }
   ],
   "source": [
    "url=\"https://www.flipkart.com/oneplus-nord-ce-2-lite-5g-blue-tide-128-gb/p/itm7acae55b999e6?pid=MOBGDWFJFBKYTEGP&lid=LSTMOBGDWFJFBKYTEGPGHG2AM&marketplace=FLIPKART&q=oneplus+mobiles&store=tyy%2F4io&srno=s_1_1&otracker=search&otracker1=search&fm=Search&iid=ff422b24-c6f7-4bcc-9a74-61a4f6aeaf8d.MOBGDWFJFBKYTEGP.SEARCH&ppt=sp&ppn=sp&ssid=mssjcqvk8w0000001668701548579&qH=e742c8ea7c6998ce\"\n",
    "res=requests.get(url,headers=headers)\n",
    "print(res)\n",
    "a=BeautifulSoup(res.content,\"html.parser\")\n",
    "b=a.find(\"span\",attrs={\"class\":\"B_NuCI\"})\n",
    "c=b.text\n",
    "d=r'[o,O][A-Za-z]+\\s?[A-Za-z0-9]+\\s?[A-Za-z0-9]+'\n",
    "e=re.findall(d,c)\n",
    "print(e)\n",
    "f=r'[(][A-Za-z]+\\s?[A-Za-z]+'\n",
    "g=re.findall(f,c)\n",
    "print(g)\n",
    "\n",
    "h=a.find(\"div\",attrs={\"class\":\"_2418kt\"})\n",
    "i=h.text\n",
    "j=r'[0-9]+\\s?[M][P]+'\n",
    "k=re.findall(j,i)\n",
    "print(k)\n",
    "l=r'[0-9]+\\s?[G][B]+'\n",
    "m=re.findall(l,i)\n",
    "print(m)\n",
    "n=r'[0-9]+\\s?[m,M][A][H,h]'\n",
    "o=re.findall(n,i)\n",
    "print(o)\n",
    "p=r'[0-9]+\\.[0-9]+\\s?[c,C][m,entimeters]+'\n",
    "q=re.findall(p,i)\n",
    "print(q)\n",
    "r=a.find(\"span\",attrs={\"class\":\"_2_R_DZ\"})\n",
    "s=r.text\n",
    "use=r'[0-9]*[,]*[0-9]+'\n",
    "uss=re.findall(use,s)\n",
    "print(uss)\n",
    "t=a.find(\"span\",attrs={\"class\":\"_1lRcqv\"})\n",
    "u=t.text\n",
    "print(u)\n",
    "v=a.find(\"div\",attrs={\"class\":\"_30jeq3 _16Jk6d\"})\n",
    "w=v.text\n",
    "print(w)\n"
   ]
  },
  {
   "cell_type": "code",
   "execution_count": 128,
   "id": "e735785c",
   "metadata": {},
   "outputs": [],
   "source": [
    "def details(url,headers):\n",
    "    res=requests.get(url,headers=headers)\n",
    "    print(res)\n",
    "    a=BeautifulSoup(res.content,\"html.parser\")\n",
    "    b=a.find(\"span\",attrs={\"class\":\"B_NuCI\"})\n",
    "    c=b.text\n",
    "    d=r'[o,O][A-Za-z]+\\s?[A-Za-z0-9]+\\s?[A-Za-z0-9]+'\n",
    "    e=re.findall(d,c)\n",
    "    print(e)\n",
    "    f=r'[(][A-Za-z]+\\s?[A-Za-z]+'\n",
    "    g=re.findall(f,c)\n",
    "    print(g)\n",
    "\n",
    "    h=a.find(\"div\",attrs={\"class\":\"_2418kt\"})\n",
    "    i=h.text\n",
    "    j=r'[0-9]+\\s?[M][P]+'\n",
    "    k=re.findall(j,i)\n",
    "    print(k)\n",
    "    l=r'[0-9]+\\s?[G][B]+'\n",
    "    m=re.findall(l,i)\n",
    "    print(m)\n",
    "    n=r'[0-9]+\\s?[m,M][A][H,h]'\n",
    "    o=re.findall(n,i)\n",
    "    print(o)\n",
    "    p=r'[0-9]+\\.[0-9]+\\s?[c,C][m,entimeters]+'\n",
    "    q=re.findall(p,i)\n",
    "    print(q)\n",
    "    r=a.find(\"span\",attrs={\"class\":\"_2_R_DZ\"})\n",
    "    s=r.text\n",
    "    use=r'[0-9]*[,]*[0-9]+'\n",
    "    uss=re.findall(use,s)\n",
    "    print(uss)\n",
    "    t=a.find(\"span\",attrs={\"class\":\"_1lRcqv\"})\n",
    "    u=t.text\n",
    "    print(u)\n",
    "    v=a.find(\"div\",attrs={\"class\":\"_30jeq3 _16Jk6d\"})\n",
    "    w=v.text\n",
    "    print(w)\n",
    "    colour.append(f[0])\n",
    "    \n",
    "    \n",
    "    name.append(e[0])\n",
    "    colour.append(g[0])\n",
    "    if k==[]:\n",
    "        camera_px.append(\"50MP\")\n",
    "    else:\n",
    "        camera_px.append(k[0])\n",
    "    if len(k)<=1:\n",
    "        self_px.append(\"16MP\")\n",
    "    else:\n",
    "        self_px.append(k[-1])\n",
    "        \n",
    "    ram.append(m[0])\n",
    "    storage.append(m[1])\n",
    "    battery.append(o[0])\n",
    "    display.append(q[0])\n",
    "    user_rate.append(uss[0])\n",
    "    star_rate.append(u)\n",
    "    price.append(w)\n",
    "    \n",
    "\n",
    "    "
   ]
  },
  {
   "cell_type": "code",
   "execution_count": 129,
   "id": "26073742",
   "metadata": {},
   "outputs": [],
   "source": [
    "name=[]\n",
    "colour=[]\n",
    "camera_px=[]\n",
    "self_px=[]\n",
    "battery=[]\n",
    "ram=[]\n",
    "storage=[]\n",
    "display=[]\n",
    "user_rate=[]\n",
    "star_rate=[]\n",
    "price=[]"
   ]
  },
  {
   "cell_type": "code",
   "execution_count": 130,
   "id": "f45d8d60",
   "metadata": {},
   "outputs": [
    {
     "name": "stdout",
     "output_type": "stream",
     "text": [
      "<Response [200]>\n",
      "['OnePlus Nord CE']\n",
      "['(Blue Tide']\n",
      "['64MP', '16MP']\n",
      "['6 GB', '128 GB']\n",
      "['5000 mAh']\n",
      "['16.74 cm']\n",
      "['31,678', '2,685']\n",
      "4.4\n",
      "₹19,825\n"
     ]
    }
   ],
   "source": [
    "b=\"https://www.flipkart.com/oneplus-nord-ce-2-lite-5g-blue-tide-128-gb/p/itm7acae55b999e6?pid=MOBGDWFJFBKYTEGP&lid=LSTMOBGDWFJFBKYTEGPGHG2AM&marketplace=FLIPKART&q=oneplus+mobiles&store=tyy%2F4io&srno=s_1_1&otracker=search&otracker1=search&fm=Search&iid=ff422b24-c6f7-4bcc-9a74-61a4f6aeaf8d.MOBGDWFJFBKYTEGP.SEARCH&ppt=sp&ppn=sp&ssid=mssjcqvk8w0000001668701548579&qH=e742c8ea7c6998ce\"\n",
    "details(b,headers)"
   ]
  },
  {
   "cell_type": "code",
   "execution_count": 131,
   "id": "611898b2",
   "metadata": {},
   "outputs": [
    {
     "name": "stdout",
     "output_type": "stream",
     "text": [
      "<Response [200]>\n",
      "['OnePlus Nord CE']\n",
      "['(Blue Tide']\n",
      "['64MP']\n",
      "['6 GB', '128 GB']\n",
      "['5000 mAh']\n",
      "['16.74 cm']\n",
      "['31,678', '2,685']\n",
      "4.4\n",
      "₹19,849\n"
     ]
    }
   ],
   "source": [
    "b1=\"https://www.flipkart.com/oneplus-nord-ce-2-lite-5g-blue-tide-128-gb/p/itm7acae55b999e6?pid=MOBGHHXQCZQVEQDG&lid=LSTMOBGHHXQCZQVEQDGNPTZOJ&marketplace=FLIPKART&q=oneplus+mobiles&store=tyy%2F4io&srno=s_1_2&otracker=search&otracker1=search&fm=Search&iid=46ab13a3-0b33-42a7-9aa4-4ffe8b6a5edb.MOBGHHXQCZQVEQDG.SEARCH&ppt=sp&ppn=sp&qH=e742c8ea7c6998ce\"\n",
    "details(b1,headers)"
   ]
  },
  {
   "cell_type": "code",
   "execution_count": 132,
   "id": "0b3fb5c7",
   "metadata": {},
   "outputs": [
    {
     "name": "stdout",
     "output_type": "stream",
     "text": [
      "<Response [200]>\n",
      "['OnePlus Nord CE']\n",
      "['(Black Dusk']\n",
      "['64MP']\n",
      "['6 GB', '128 GB']\n",
      "['5000 mAh']\n",
      "['16.74 cm']\n",
      "['31,678', '2,685']\n",
      "4.4\n",
      "₹19,999\n"
     ]
    }
   ],
   "source": [
    "b2=\"https://www.flipkart.com/oneplus-nord-ce-2-lite-5g-black-dusk-128-gb/p/itm7acae55b999e6?pid=MOBGDWF8GJTFAXVH&lid=LSTMOBGDWF8GJTFAXVHEKXBUT&marketplace=FLIPKART&q=oneplus+mobiles&store=tyy%2F4io&srno=s_1_3&otracker=search&otracker1=search&fm=Search&iid=46ab13a3-0b33-42a7-9aa4-4ffe8b6a5edb.MOBGDWF8GJTFAXVH.SEARCH&ppt=sp&ppn=sp&qH=e742c8ea7c6998ce\"\n",
    "details(b2,headers)"
   ]
  },
  {
   "cell_type": "code",
   "execution_count": 133,
   "id": "0c347762",
   "metadata": {},
   "outputs": [
    {
     "name": "stdout",
     "output_type": "stream",
     "text": [
      "<Response [200]>\n",
      "['OnePlus Nord CE']\n",
      "['(Blue Tide']\n",
      "['64MP']\n",
      "['6 GB', '128 GB']\n",
      "['5000 mAh']\n",
      "['16.74 cm']\n",
      "['31,678', '2,685']\n",
      "4.4\n",
      "₹19,804\n"
     ]
    }
   ],
   "source": [
    "b3=\"https://www.flipkart.com/oneplus-nord-ce-2-lite-5g-blue-tide-128-gb/p/itm7acae55b999e6?pid=MOBGJMUHHJE55ARU&lid=LSTMOBGJMUHHJE55ARUF941HY&marketplace=FLIPKART&q=oneplus+mobiles&store=tyy%2F4io&srno=s_1_5&otracker=search&otracker1=search&fm=Search&iid=46ab13a3-0b33-42a7-9aa4-4ffe8b6a5edb.MOBGJMUHHJE55ARU.SEARCH&ppt=sp&ppn=sp&qH=e742c8ea7c6998ce\"\n",
    "details(b3,headers)"
   ]
  },
  {
   "cell_type": "code",
   "execution_count": 134,
   "id": "160f08b3",
   "metadata": {},
   "outputs": [
    {
     "name": "stdout",
     "output_type": "stream",
     "text": [
      "<Response [200]>\n",
      "['OnePlus Nord 2T']\n",
      "['(Jade Fog']\n",
      "['50MP']\n",
      "['12 GB', '256 GB']\n",
      "['4500 mAh']\n",
      "['17.02 cm']\n",
      "['1,453', '115']\n",
      "4.4\n",
      "₹33,971\n"
     ]
    }
   ],
   "source": [
    "b4=\"https://www.flipkart.com/oneplus-nord-2t-5g-jade-fog-256-gb/p/itm97eda8b1a1566?pid=MOBGJMUH3XAHRTFF&lid=LSTMOBGJMUH3XAHRTFF2SHEDT&marketplace=FLIPKART&q=oneplus+mobiles&store=tyy%2F4io&srno=s_1_7&otracker=search&otracker1=search&fm=Search&iid=46ab13a3-0b33-42a7-9aa4-4ffe8b6a5edb.MOBGJMUH3XAHRTFF.SEARCH&ppt=sp&ppn=sp&qH=e742c8ea7c6998ce\"\n",
    "details(b4,headers)"
   ]
  },
  {
   "cell_type": "code",
   "execution_count": 135,
   "id": "85310dea",
   "metadata": {},
   "outputs": [
    {
     "name": "stdout",
     "output_type": "stream",
     "text": [
      "<Response [200]>\n",
      "['OnePlus Nord 2T']\n",
      "['(Gray Shadow']\n",
      "['50MP']\n",
      "['12 GB', '256 GB']\n",
      "['4500 mAh']\n",
      "['16.94 cm']\n",
      "['1,453', '115']\n",
      "4.4\n",
      "₹33,998\n"
     ]
    }
   ],
   "source": [
    "b5=\"https://www.flipkart.com/oneplus-nord-2t-5g-gray-shadow-256-gb/p/itm97eda8b1a1566?pid=MOBGJMUH8GJZPY97&lid=LSTMOBGJMUH8GJZPY97AR3F7I&marketplace=FLIPKART&q=oneplus+mobiles&store=tyy%2F4io&srno=s_1_8&otracker=search&otracker1=search&fm=Search&iid=46ab13a3-0b33-42a7-9aa4-4ffe8b6a5edb.MOBGJMUH8GJZPY97.SEARCH&ppt=sp&ppn=sp&qH=e742c8ea7c6998ce\"\n",
    "details(b5,headers)"
   ]
  },
  {
   "cell_type": "code",
   "execution_count": 136,
   "id": "2e57faa7",
   "metadata": {},
   "outputs": [
    {
     "name": "stdout",
     "output_type": "stream",
     "text": [
      "<Response [200]>\n",
      "['OnePlus Nord 2T']\n",
      "['(Gray Shadow']\n",
      "['50MP']\n",
      "['8 GB', '128 GB']\n",
      "['4500 mAh']\n",
      "['17.02 cm']\n",
      "['3,822', '392']\n",
      "4.4\n",
      "₹28,880\n"
     ]
    }
   ],
   "source": [
    "b6=\"https://www.flipkart.com/oneplus-nord-2t-5g-gray-shadow-128-gb/p/itm97eda8b1a1566?pid=MOBGHHYHYSZZHAGR&lid=LSTMOBGHHYHYSZZHAGRAD2AZP&marketplace=FLIPKART&q=oneplus+mobiles&store=tyy%2F4io&srno=s_1_9&otracker=search&otracker1=search&fm=Search&iid=46ab13a3-0b33-42a7-9aa4-4ffe8b6a5edb.MOBGHHYHYSZZHAGR.SEARCH&ppt=sp&ppn=sp&qH=e742c8ea7c6998ce\"\n",
    "details(b6,headers)"
   ]
  },
  {
   "cell_type": "code",
   "execution_count": 137,
   "id": "38f954e7",
   "metadata": {},
   "outputs": [
    {
     "name": "stdout",
     "output_type": "stream",
     "text": [
      "<Response [200]>\n",
      "['OnePlus Nord CE']\n",
      "['(Gray Mirror']\n",
      "['50MP']\n",
      "['6 GB', '128 GB']\n",
      "['4500 mAh']\n",
      "['16.33 cm']\n",
      "['351', '36']\n",
      "4.3\n",
      "₹23,999\n"
     ]
    }
   ],
   "source": [
    "b7=\"https://www.flipkart.com/oneplus-nord-ce-2-5g-gray-mirror-128-gb/p/itm2a9883679c57c?pid=MOBGHHZGCZHJR938&lid=LSTMOBGHHZGCZHJR938SOVHYZ&marketplace=FLIPKART&q=oneplus+mobiles&store=tyy%2F4io&srno=s_1_13&otracker=search&otracker1=search&fm=Search&iid=46ab13a3-0b33-42a7-9aa4-4ffe8b6a5edb.MOBGHHZGCZHJR938.SEARCH&ppt=sp&ppn=sp&qH=e742c8ea7c6998ce\"\n",
    "details(b7,headers)"
   ]
  },
  {
   "cell_type": "code",
   "execution_count": 138,
   "id": "7511bb01",
   "metadata": {},
   "outputs": [
    {
     "name": "stdout",
     "output_type": "stream",
     "text": [
      "<Response [200]>\n",
      "['OnePlus 10T 5G']\n",
      "['(Jade Green']\n",
      "['50MP']\n",
      "['12 GB', '256 GB']\n",
      "['4800 mAh']\n",
      "['17.02 cm']\n",
      "['37', '3']\n",
      "4.2\n",
      "₹52,675\n"
     ]
    }
   ],
   "source": [
    "b8=\"https://www.flipkart.com/oneplus-10t-5g-jade-green-256-gb/p/itm9a8677129b2bf?pid=MOBGHFMKKPXJMWES&lid=LSTMOBGHFMKKPXJMWESM4CHZV&marketplace=FLIPKART&q=oneplus+mobiles&store=tyy%2F4io&srno=s_1_15&otracker=search&otracker1=search&fm=Search&iid=46ab13a3-0b33-42a7-9aa4-4ffe8b6a5edb.MOBGHFMKKPXJMWES.SEARCH&ppt=sp&ppn=sp&qH=e742c8ea7c6998ce\"\n",
    "details(b8,headers)"
   ]
  },
  {
   "cell_type": "code",
   "execution_count": 139,
   "id": "415f37fb",
   "metadata": {},
   "outputs": [
    {
     "name": "stdout",
     "output_type": "stream",
     "text": [
      "<Response [200]>\n",
      "['OnePlus 10T 5G', 'oonstone Black']\n",
      "['(Moonstone Black']\n",
      "['50MP']\n",
      "['12 GB', '256 GB']\n",
      "['4800 mAh']\n",
      "['17.02 cm']\n",
      "['37', '3']\n",
      "4.2\n",
      "₹52,719\n"
     ]
    }
   ],
   "source": [
    "b9=\"https://www.flipkart.com/oneplus-10t-5g-moonstone-black-256-gb/p/itm9a8677129b2bf?pid=MOBGHFMZARKW2BMQ&lid=LSTMOBGHFMZARKW2BMQIALXAJ&marketplace=FLIPKART&q=oneplus+mobiles&store=tyy%2F4io&srno=s_1_16&otracker=search&otracker1=search&fm=Search&iid=46ab13a3-0b33-42a7-9aa4-4ffe8b6a5edb.MOBGHFMZARKW2BMQ.SEARCH&ppt=sp&ppn=sp&qH=e742c8ea7c6998ce\"\n",
    "details(b9,headers)"
   ]
  },
  {
   "cell_type": "code",
   "execution_count": 140,
   "id": "0128f63f",
   "metadata": {},
   "outputs": [
    {
     "name": "stdout",
     "output_type": "stream",
     "text": [
      "<Response [200]>\n",
      "['OnePlus 10R 5G']\n",
      "['(Sierra Black']\n",
      "['50MP']\n",
      "['8 GB', '128 GB']\n",
      "['5000 mAh']\n",
      "['17.02 cm']\n",
      "['1,115', '97']\n",
      "4.3\n",
      "₹35,990\n"
     ]
    }
   ],
   "source": [
    "b10=\"https://www.flipkart.com/oneplus-10r-5g-sierra-black-128-gb/p/itmccf45a394ea16?pid=MOBGEYQ5U6GJTETN&lid=LSTMOBGEYQ5U6GJTETNUNN8BV&marketplace=FLIPKART&q=oneplus+mobiles&store=tyy%2F4io&srno=s_1_17&otracker=search&otracker1=search&fm=Search&iid=46ab13a3-0b33-42a7-9aa4-4ffe8b6a5edb.MOBGEYQ5U6GJTETN.SEARCH&ppt=sp&ppn=sp&qH=e742c8ea7c6998ce\"\n",
    "details(b10,headers)"
   ]
  },
  {
   "cell_type": "code",
   "execution_count": 141,
   "id": "49f4e002",
   "metadata": {},
   "outputs": [
    {
     "name": "stdout",
     "output_type": "stream",
     "text": [
      "<Response [200]>\n",
      "['OnePlus 10R 5G', 'orest Green']\n",
      "['(Forest Green']\n",
      "['50MP']\n",
      "['12 GB', '256 GB']\n",
      "['5000 mAh']\n",
      "['17.02 cm']\n",
      "['574', '46']\n",
      "4.2\n",
      "₹42,999\n"
     ]
    }
   ],
   "source": [
    "b11=\"https://www.flipkart.com/oneplus-10r-5g-forest-green-256-gb/p/itmccf45a394ea16?pid=MOBGEYQFG2G7XJCQ&lid=LSTMOBGEYQFG2G7XJCQFS1TQU&marketplace=FLIPKART&q=oneplus+mobiles&store=tyy%2F4io&srno=s_1_18&otracker=search&otracker1=search&fm=Search&iid=46ab13a3-0b33-42a7-9aa4-4ffe8b6a5edb.MOBGEYQFG2G7XJCQ.SEARCH&ppt=sp&ppn=sp&qH=e742c8ea7c6998ce\"\n",
    "details(b11,headers)"
   ]
  },
  {
   "cell_type": "code",
   "execution_count": 142,
   "id": "ad4feef2",
   "metadata": {},
   "outputs": [
    {
     "name": "stdout",
     "output_type": "stream",
     "text": [
      "<Response [200]>\n",
      "['OnePlus 10T 5G', 'oonstone Black']\n",
      "['(Moonstone Black']\n",
      "['50MP']\n",
      "['16 GB', '256 GB']\n",
      "['4800 mAh']\n",
      "['17.02 cm']\n",
      "['6', '1']\n",
      "4.3\n",
      "₹53,749\n"
     ]
    }
   ],
   "source": [
    "b12=\"https://www.flipkart.com/oneplus-10t-5g-moonstone-black-256-gb/p/itmd7f5d93b408ac?pid=MOBGG8M2W2TUZ72K&lid=LSTMOBGG8M2W2TUZ72KO9VPF3&marketplace=FLIPKART&q=oneplus+mobiles&store=tyy%2F4io&srno=s_1_19&otracker=search&otracker1=search&fm=Search&iid=46ab13a3-0b33-42a7-9aa4-4ffe8b6a5edb.MOBGG8M2W2TUZ72K.SEARCH&ppt=sp&ppn=sp&qH=e742c8ea7c6998ce\"\n",
    "details(b12,headers)"
   ]
  },
  {
   "cell_type": "code",
   "execution_count": 143,
   "id": "3f780cd5",
   "metadata": {},
   "outputs": [
    {
     "name": "stdout",
     "output_type": "stream",
     "text": [
      "<Response [200]>\n",
      "['OnePlus Nord CE']\n",
      "['(Black Dusk']\n",
      "['64MP']\n",
      "['6 GB', '128 GB']\n",
      "['5000 mAh']\n",
      "['16.74 cm']\n",
      "['31,678', '2,685']\n",
      "4.4\n",
      "₹19,999\n"
     ]
    }
   ],
   "source": [
    "b13=\"https://www.flipkart.com/oneplus-nord-ce-2-lite-5g-black-dusk-128-gb/p/itm7acae55b999e6?pid=MOBGHH9FVUHCFHTY&lid=LSTMOBGHH9FVUHCFHTYSAAEP1&marketplace=FLIPKART&q=oneplus+mobiles&store=tyy%2F4io&srno=s_1_20&otracker=search&otracker1=search&fm=Search&iid=46ab13a3-0b33-42a7-9aa4-4ffe8b6a5edb.MOBGHH9FVUHCFHTY.SEARCH&ppt=sp&ppn=sp&qH=e742c8ea7c6998ce\"\n",
    "details(b13,headers)"
   ]
  },
  {
   "cell_type": "code",
   "execution_count": 144,
   "id": "867748af",
   "metadata": {},
   "outputs": [
    {
     "name": "stdout",
     "output_type": "stream",
     "text": [
      "<Response [200]>\n",
      "['OnePlus Nord 2']\n",
      "['(PAC']\n",
      "['50MP']\n",
      "['12 GB', '256 GB']\n",
      "['4500 mAh']\n",
      "['16.33 cm']\n",
      "['157', '15']\n",
      "4.4\n",
      "₹37,997\n"
     ]
    }
   ],
   "source": [
    "b14=\"https://www.flipkart.com/oneplus-nord-2-5g-pac-man-256-gb/p/itmc88e4a702db46?pid=MOBGEYH6EJGAWMFT&lid=LSTMOBGEYH6EJGAWMFTQWAYZF&marketplace=FLIPKART&q=oneplus+mobiles&store=tyy%2F4io&srno=s_1_21&otracker=search&otracker1=search&fm=Search&iid=46ab13a3-0b33-42a7-9aa4-4ffe8b6a5edb.MOBGEYH6EJGAWMFT.SEARCH&ppt=sp&ppn=sp&qH=e742c8ea7c6998ce\"\n",
    "details(b14,headers)"
   ]
  },
  {
   "cell_type": "code",
   "execution_count": 145,
   "id": "731d4c3b",
   "metadata": {},
   "outputs": [
    {
     "name": "stdout",
     "output_type": "stream",
     "text": [
      "<Response [200]>\n",
      "['OnePlus Nord 2T']\n",
      "['(Gray Shadow']\n",
      "['50MP']\n",
      "['12 GB', '256 GB']\n",
      "['4500 mAh']\n",
      "['17.02 cm']\n",
      "['1,453', '115']\n",
      "4.4\n",
      "₹33,999\n"
     ]
    }
   ],
   "source": [
    "b15=\"https://www.flipkart.com/oneplus-nord-2t-5g-gray-shadow-256-gb/p/itm97eda8b1a1566?pid=MOBGHHYEMNFZGE4W&lid=LSTMOBGHHYEMNFZGE4WYLFYJH&marketplace=FLIPKART&q=oneplus+mobiles&store=tyy%2F4io&srno=s_1_22&otracker=search&otracker1=search&fm=Search&iid=46ab13a3-0b33-42a7-9aa4-4ffe8b6a5edb.MOBGHHYEMNFZGE4W.SEARCH&ppt=sp&ppn=sp&qH=e742c8ea7c6998ce\"\n",
    "details(b15,headers)"
   ]
  },
  {
   "cell_type": "code",
   "execution_count": 146,
   "id": "2e5a02b6",
   "metadata": {},
   "outputs": [
    {
     "name": "stdout",
     "output_type": "stream",
     "text": [
      "<Response [200]>\n",
      "['OnePlus 9 5G']\n",
      "['(Astral Black']\n",
      "['48MP']\n",
      "['8 GB', '128 GB']\n",
      "['4500 mAh']\n",
      "['16.64 cm']\n",
      "['276', '28']\n",
      "3.9\n",
      "₹39,949\n"
     ]
    }
   ],
   "source": [
    "b16=\"https://www.flipkart.com/oneplus-9-5g-astral-black-128-gb/p/itm6e4e8a7b40c8d?pid=MOBGDH2PKQMJZFVP&lid=LSTMOBGDH2PKQMJZFVPO0AHWI&marketplace=FLIPKART&q=oneplus+mobiles&store=tyy%2F4io&srno=s_1_23&otracker=search&otracker1=search&fm=Search&iid=46ab13a3-0b33-42a7-9aa4-4ffe8b6a5edb.MOBGDH2PKQMJZFVP.SEARCH&ppt=sp&ppn=sp&qH=e742c8ea7c6998ce\"\n",
    "details(b16,headers)"
   ]
  },
  {
   "cell_type": "code",
   "execution_count": 147,
   "id": "bf106621",
   "metadata": {},
   "outputs": [
    {
     "name": "stdout",
     "output_type": "stream",
     "text": [
      "<Response [200]>\n",
      "['OnePlus 9RT 5G']\n",
      "['(Nano Silver']\n",
      "['50MP']\n",
      "['8 GB', '128 GB']\n",
      "['4500 mAh']\n",
      "['16.81 cm']\n",
      "['469', '50']\n",
      "4.3\n",
      "₹39,599\n"
     ]
    }
   ],
   "source": [
    "b17=\"https://www.flipkart.com/oneplus-9rt-5g-nano-silver-128-gb/p/itm8c866e1ebfd45?pid=MOBGDKWPYYEJUWZF&lid=LSTMOBGDKWPYYEJUWZFQKSLCI&marketplace=FLIPKART&q=oneplus+mobiles&store=tyy%2F4io&srno=s_1_24&otracker=search&otracker1=search&fm=Search&iid=46ab13a3-0b33-42a7-9aa4-4ffe8b6a5edb.MOBGDKWPYYEJUWZF.SEARCH&ppt=sp&ppn=sp&qH=e742c8ea7c6998ce\"\n",
    "details(b17,headers)"
   ]
  },
  {
   "cell_type": "code",
   "execution_count": 148,
   "id": "87905bbc",
   "metadata": {},
   "outputs": [
    {
     "name": "stdout",
     "output_type": "stream",
     "text": [
      "<Response [200]>\n",
      "['OnePlus 10R 5G']\n",
      "['(Sierra Black']\n",
      "['50MP']\n",
      "['12 GB', '256 GB']\n",
      "['4500 mAh']\n",
      "['17.02 cm']\n",
      "['574', '46']\n",
      "4.2\n",
      "₹38,999\n"
     ]
    }
   ],
   "source": [
    "b18=\"https://www.flipkart.com/oneplus-10r-5g-sierra-black-256-gb/p/itm6a2ce70a82bb0?pid=MOBGJMUHPT34Z4AP&lid=LSTMOBGJMUHPT34Z4APMVUTW9&marketplace=FLIPKART&q=oneplus+mobiles&store=tyy%2F4io&srno=s_2_25&otracker=search&otracker1=search&fm=Search&iid=5bb4d0f2-23bd-48cf-bcbe-c98951ee918e.MOBGJMUHPT34Z4AP.SEARCH&ppt=sp&ppn=sp&qH=e742c8ea7c6998ce\"\n",
    "details(b18,headers)"
   ]
  },
  {
   "cell_type": "code",
   "execution_count": 149,
   "id": "ef8818ec",
   "metadata": {},
   "outputs": [
    {
     "name": "stdout",
     "output_type": "stream",
     "text": [
      "<Response [200]>\n",
      "['OnePlus Nord CE']\n",
      "['(Blue Tide']\n",
      "['64MP']\n",
      "['6 GB', '128 GB']\n",
      "['5000 mAh']\n",
      "['16.74 cm']\n",
      "['31,678', '2,685']\n",
      "4.4\n",
      "₹19,980\n"
     ]
    }
   ],
   "source": [
    "b19=\"https://www.flipkart.com/oneplus-nord-ce-2-lite-5g-blue-tide-128-gb/p/itm853d95cf27843?pid=MOBGG6SGBYXGNYMH&lid=LSTMOBGG6SGBYXGNYMHAZPKIM&marketplace=FLIPKART&q=oneplus+mobiles&store=tyy%2F4io&srno=s_2_26&otracker=search&otracker1=search&fm=Search&iid=5bb4d0f2-23bd-48cf-bcbe-c98951ee918e.MOBGG6SGBYXGNYMH.SEARCH&ppt=sp&ppn=sp&qH=e742c8ea7c6998ce\"\n",
    "details(b19,headers)"
   ]
  },
  {
   "cell_type": "code",
   "execution_count": 150,
   "id": "f79fb1da",
   "metadata": {},
   "outputs": [
    {
     "name": "stdout",
     "output_type": "stream",
     "text": [
      "<Response [200]>\n",
      "['OnePlus Nord 2T']\n",
      "['(Jade Fog']\n",
      "['50MP']\n",
      "['8 GB', '128 GB']\n",
      "['4500 mAh']\n",
      "['17.02 cm']\n",
      "['3,822', '392']\n",
      "4.4\n",
      "₹28,999\n"
     ]
    }
   ],
   "source": [
    "b20=\"https://www.flipkart.com/oneplus-nord-2t-5g-jade-fog-128-gb/p/itm97eda8b1a1566?pid=MOBGHHYZVXCMYDSR&lid=LSTMOBGHHYZVXCMYDSRN0GOJY&marketplace=FLIPKART&q=oneplus+mobiles&store=tyy%2F4io&srno=s_2_27&otracker=search&otracker1=search&fm=Search&iid=5bb4d0f2-23bd-48cf-bcbe-c98951ee918e.MOBGHHYZVXCMYDSR.SEARCH&ppt=sp&ppn=sp&qH=e742c8ea7c6998ce\"\n",
    "details(b20,headers)"
   ]
  },
  {
   "cell_type": "code",
   "execution_count": 151,
   "id": "8a7faf8e",
   "metadata": {},
   "outputs": [
    {
     "name": "stdout",
     "output_type": "stream",
     "text": [
      "<Response [200]>\n",
      "['OnePlus Nord 2T']\n",
      "['(Jade Fog']\n",
      "['50MP']\n",
      "['12 GB', '256 GB']\n",
      "['4500 mAh']\n",
      "['17.02 cm']\n",
      "['1,453', '115']\n",
      "4.4\n",
      "₹33,799\n"
     ]
    }
   ],
   "source": [
    "b21=\"https://www.flipkart.com/oneplus-nord-2t-5g-jade-fog-256-gb/p/itm97eda8b1a1566?pid=MOBGGA29UT2G9QW3&lid=LSTMOBGGA29UT2G9QW3XMTU9M&marketplace=FLIPKART&q=oneplus+mobiles&store=tyy%2F4io&srno=s_2_28&otracker=search&otracker1=search&fm=Search&iid=5bb4d0f2-23bd-48cf-bcbe-c98951ee918e.MOBGGA29UT2G9QW3.SEARCH&ppt=sp&ppn=sp&qH=e742c8ea7c6998ce\"\n",
    "details(b21,headers)"
   ]
  },
  {
   "cell_type": "code",
   "execution_count": 152,
   "id": "6ce902b3",
   "metadata": {},
   "outputs": [
    {
     "name": "stdout",
     "output_type": "stream",
     "text": [
      "<Response [200]>\n",
      "['OnePlus 10T 5G', 'oonstone Black']\n",
      "['(Moonstone Black']\n",
      "['50MP']\n",
      "['8 GB', '128 GB']\n",
      "['4800 mAh']\n",
      "['17.02 cm']\n",
      "['80', '7']\n",
      "4.3\n",
      "₹49,400\n"
     ]
    }
   ],
   "source": [
    "b22=\"https://www.flipkart.com/oneplus-10t-5g-moonstone-black-128-gb/p/itm9a8677129b2bf?pid=MOBGHFMFG2G6RZCC&lid=LSTMOBGHFMFG2G6RZCCBUHLIN&marketplace=FLIPKART&q=oneplus+mobiles&store=tyy%2F4io&srno=s_2_29&otracker=search&otracker1=search&fm=Search&iid=5bb4d0f2-23bd-48cf-bcbe-c98951ee918e.MOBGHFMFG2G6RZCC.SEARCH&ppt=sp&ppn=sp&qH=e742c8ea7c6998ce\"\n",
    "details(b22,headers)"
   ]
  },
  {
   "cell_type": "code",
   "execution_count": 153,
   "id": "3fd9003c",
   "metadata": {},
   "outputs": [
    {
     "name": "stdout",
     "output_type": "stream",
     "text": [
      "<Response [200]>\n",
      "['OnePlus Nord N20']\n",
      "['(Celestial Black']\n",
      "['50MP']\n",
      "['4 GB', '64 GB']\n",
      "['5000 mAh']\n",
      "['16.66 cm']\n",
      "['4']\n",
      "5\n",
      "₹15,345\n"
     ]
    }
   ],
   "source": [
    "b23=\"https://www.flipkart.com/oneplus-nord-n20-se-celestial-black-64-gb/p/itme892a7e63b13a?pid=MOBGJTBYH2AAFXHV&lid=LSTMOBGJTBYH2AAFXHVQPONQX&marketplace=FLIPKART&q=oneplus+mobiles&store=tyy%2F4io&srno=s_2_31&otracker=search&otracker1=search&fm=Search&iid=5bb4d0f2-23bd-48cf-bcbe-c98951ee918e.MOBGJTBYH2AAFXHV.SEARCH&ppt=sp&ppn=sp&qH=e742c8ea7c6998ce\"\n",
    "details(b23,headers)"
   ]
  },
  {
   "cell_type": "code",
   "execution_count": 154,
   "id": "51fa029c",
   "metadata": {},
   "outputs": [
    {
     "name": "stdout",
     "output_type": "stream",
     "text": [
      "<Response [200]>\n",
      "['OnePlus 10T 5G']\n",
      "['(Jade Green']\n",
      "['50MP']\n",
      "['8 GB', '128 GB']\n",
      "['4800 mAh']\n",
      "['17.02 cm']\n",
      "['80', '7']\n",
      "4.3\n",
      "₹47,249\n"
     ]
    }
   ],
   "source": [
    "b24=\"https://www.flipkart.com/oneplus-10t-5g-jade-green-128-gb/p/itm9a8677129b2bf?pid=MOBGHFM9H66E6RSS&lid=LSTMOBGHFM9H66E6RSS5NT0RC&marketplace=FLIPKART&q=oneplus+mobiles&store=tyy%2F4io&srno=s_2_32&otracker=search&otracker1=search&fm=Search&iid=5bb4d0f2-23bd-48cf-bcbe-c98951ee918e.MOBGHFM9H66E6RSS.SEARCH&ppt=sp&ppn=sp&qH=e742c8ea7c6998ce\"\n",
    "details(b24,headers)"
   ]
  },
  {
   "cell_type": "code",
   "execution_count": 155,
   "id": "1376c690",
   "metadata": {},
   "outputs": [
    {
     "name": "stdout",
     "output_type": "stream",
     "text": [
      "<Response [200]>\n",
      "['OnePlus 10R 5G', 'orest Green']\n",
      "['(Forest Green']\n",
      "['50MP']\n",
      "['8 GB', '128 GB']\n",
      "['5000 mAh']\n",
      "['17.02 cm']\n",
      "['1,115', '97']\n",
      "4.3\n",
      "₹35,500\n"
     ]
    }
   ],
   "source": [
    "b25=\"https://www.flipkart.com/oneplus-10r-5g-forest-green-128-gb/p/itmccf45a394ea16?pid=MOBGGA2BAG6PCTQV&lid=LSTMOBGGA2BAG6PCTQV65RWUF&marketplace=FLIPKART&q=oneplus+mobiles&store=tyy%2F4io&srno=s_2_33&otracker=search&otracker1=search&fm=Search&iid=5bb4d0f2-23bd-48cf-bcbe-c98951ee918e.MOBGGA2BAG6PCTQV.SEARCH&ppt=sp&ppn=sp&qH=e742c8ea7c6998ce\"\n",
    "details(b25,headers)"
   ]
  },
  {
   "cell_type": "code",
   "execution_count": 156,
   "id": "1848a9ef",
   "metadata": {},
   "outputs": [
    {
     "name": "stdout",
     "output_type": "stream",
     "text": [
      "<Response [200]>\n",
      "['OnePlus 10R 5G']\n",
      "['(Sierra Black']\n",
      "['50MP']\n",
      "['12 GB', '256 GB']\n",
      "['5000 mAh']\n",
      "['17.02 cm']\n",
      "['574', '46']\n",
      "4.2\n",
      "₹40,000\n"
     ]
    }
   ],
   "source": [
    "b26=\"https://www.flipkart.com/oneplus-10r-5g-sierra-black-256-gb/p/itmccf45a394ea16?pid=MOBGGA29YVYE39ZM&lid=LSTMOBGGA29YVYE39ZMEKDI75&marketplace=FLIPKART&q=oneplus+mobiles&store=tyy%2F4io&srno=s_2_35&otracker=search&otracker1=search&fm=Search&iid=5bb4d0f2-23bd-48cf-bcbe-c98951ee918e.MOBGGA29YVYE39ZM.SEARCH&ppt=sp&ppn=sp&qH=e742c8ea7c6998ce\"\n",
    "details(b26,headers)"
   ]
  },
  {
   "cell_type": "code",
   "execution_count": 157,
   "id": "bb897c86",
   "metadata": {},
   "outputs": [
    {
     "name": "stdout",
     "output_type": "stream",
     "text": [
      "<Response [200]>\n",
      "['OnePlus Nord 2']\n",
      "['(Gray Sierra']\n",
      "['50MP']\n",
      "['8 GB', '128 GB']\n",
      "['4500 mAh']\n",
      "['16.33 cm']\n",
      "['1,767', '175']\n",
      "4.4\n",
      "₹29,990\n"
     ]
    }
   ],
   "source": [
    "b27=\"https://www.flipkart.com/oneplus-nord-2-5g-gray-sierra-128-gb/p/itmc88e4a702db46?pid=MOBGDBFFA5EGECHQ&lid=LSTMOBGDBFFA5EGECHQUGRLBW&marketplace=FLIPKART&q=oneplus+mobiles&store=tyy%2F4io&srno=s_2_37&otracker=search&otracker1=search&fm=Search&iid=5bb4d0f2-23bd-48cf-bcbe-c98951ee918e.MOBGDBFFA5EGECHQ.SEARCH&ppt=sp&ppn=sp&qH=e742c8ea7c6998ce\"\n",
    "details(b27,headers)"
   ]
  },
  {
   "cell_type": "code",
   "execution_count": 158,
   "id": "2b51d3a9",
   "metadata": {},
   "outputs": [
    {
     "name": "stdout",
     "output_type": "stream",
     "text": [
      "<Response [200]>\n",
      "['OnePlus 10 Pro', 'olcanic Black']\n",
      "['(Volcanic Black']\n",
      "['48MP']\n",
      "['8 GB', '128 GB']\n",
      "['5000 mAh']\n",
      "['17.02 cm']\n",
      "['80', '3']\n",
      "4.2\n",
      "₹62,999\n"
     ]
    }
   ],
   "source": [
    "b28=\"https://www.flipkart.com/oneplus-10-pro-5g-volcanic-black-128-gb/p/itmcd1af0daf0394?pid=MOBGDHVGFUH7WXRZ&lid=LSTMOBGDHVGFUH7WXRZVC6VWU&marketplace=FLIPKART&q=oneplus+mobiles&store=tyy%2F4io&srno=s_2_38&otracker=search&otracker1=search&fm=Search&iid=5bb4d0f2-23bd-48cf-bcbe-c98951ee918e.MOBGDHVGFUH7WXRZ.SEARCH&ppt=sp&ppn=sp&qH=e742c8ea7c6998ce\"\n",
    "details(b28,headers)"
   ]
  },
  {
   "cell_type": "code",
   "execution_count": 159,
   "id": "8fa66c7f",
   "metadata": {},
   "outputs": [
    {
     "name": "stdout",
     "output_type": "stream",
     "text": [
      "<Response [200]>\n",
      "['OnePlus 9 Pro']\n",
      "['(Pine Green']\n",
      "['48MP']\n",
      "['12 GB', '256 GB']\n",
      "['4500 mAh']\n",
      "['17.02 cm']\n",
      "['185', '20']\n",
      "3.9\n",
      "₹69,980\n"
     ]
    }
   ],
   "source": [
    "b29=\"https://www.flipkart.com/oneplus-9-pro-5g-pine-green-256-gb/p/itm4ea7b7c866002?pid=MOBGGA29ZCDHG9RF&lid=LSTMOBGGA29ZCDHG9RFRUSCCQ&marketplace=FLIPKART&q=oneplus+mobiles&store=tyy%2F4io&srno=s_2_40&otracker=search&otracker1=search&fm=Search&iid=5bb4d0f2-23bd-48cf-bcbe-c98951ee918e.MOBGGA29ZCDHG9RF.SEARCH&ppt=sp&ppn=sp&qH=e742c8ea7c6998ce\"\n",
    "details(b29,headers)"
   ]
  },
  {
   "cell_type": "code",
   "execution_count": 160,
   "id": "944a33bb",
   "metadata": {},
   "outputs": [
    {
     "name": "stdout",
     "output_type": "stream",
     "text": [
      "<Response [200]>\n",
      "['OnePlus 10 Pro', 'orest']\n",
      "['(Emerald Forest']\n",
      "['48MP']\n",
      "['8 GB', '128 GB']\n",
      "['5000 mAh']\n",
      "['17.02 cm']\n",
      "['80', '3']\n",
      "4.2\n",
      "₹61,999\n"
     ]
    }
   ],
   "source": [
    "b30=\"https://www.flipkart.com/oneplus-10-pro-5g-emerald-forest-128-gb/p/itmcd1af0daf0394?pid=MOBGDHWFNHSDVBAK&lid=LSTMOBGDHWFNHSDVBAKI1Z4TS&marketplace=FLIPKART&q=oneplus+mobiles&store=tyy%2F4io&srno=s_2_41&otracker=search&otracker1=search&fm=Search&iid=5bb4d0f2-23bd-48cf-bcbe-c98951ee918e.MOBGDHWFNHSDVBAK.SEARCH&ppt=sp&ppn=sp&qH=e742c8ea7c6998ce\"\n",
    "details(b30,headers)"
   ]
  },
  {
   "cell_type": "code",
   "execution_count": 161,
   "id": "71c43106",
   "metadata": {},
   "outputs": [
    {
     "name": "stdout",
     "output_type": "stream",
     "text": [
      "<Response [200]>\n",
      "['OnePlus Nord CE']\n",
      "['(Bahama Blue']\n",
      "['64MP']\n",
      "['8 GB', '128 GB']\n",
      "['4500 mAh']\n",
      "['16.33 cm']\n",
      "['2,031', '207']\n",
      "4.4\n",
      "₹24,999\n"
     ]
    }
   ],
   "source": [
    "b31=\"https://www.flipkart.com/oneplus-nord-ce-2-5g-bahama-blue-128-gb/p/itm2a9883679c57c?pid=MOBGJMUH64MTF6PK&lid=LSTMOBGJMUH64MTF6PKZOOKNL&marketplace=FLIPKART&q=oneplus+mobiles&store=tyy%2F4io&srno=s_3_49&otracker=search&otracker1=search&fm=Search&iid=cee0f3a3-3e96-4f7f-856b-0fec72b3375b.MOBGJMUH64MTF6PK.SEARCH&ppt=sp&ppn=sp&qH=e742c8ea7c6998ce\"\n",
    "details(b31,headers)"
   ]
  },
  {
   "cell_type": "code",
   "execution_count": 162,
   "id": "ea729896",
   "metadata": {},
   "outputs": [
    {
     "name": "stdout",
     "output_type": "stream",
     "text": [
      "<Response [200]>\n",
      "['OnePlus Nord CE']\n",
      "['(Gray Mirror']\n",
      "['64MP']\n",
      "['8 GB', '128 GB']\n",
      "['4500 mAh']\n",
      "['16.33 cm']\n",
      "['2,031', '207']\n",
      "4.4\n",
      "₹24,995\n"
     ]
    }
   ],
   "source": [
    "b32=\"https://www.flipkart.com/oneplus-nord-ce-2-5g-gray-mirror-128-gb/p/itm2a9883679c57c?pid=MOBGDHWMFQBKFV5F&lid=LSTMOBGDHWMFQBKFV5FBSVDDD&marketplace=FLIPKART&q=oneplus+mobiles&store=tyy%2F4io&srno=s_3_53&otracker=search&otracker1=search&fm=Search&iid=cee0f3a3-3e96-4f7f-856b-0fec72b3375b.MOBGDHWMFQBKFV5F.SEARCH&ppt=sp&ppn=sp&qH=e742c8ea7c6998ce\"\n",
    "details(b32,headers)"
   ]
  },
  {
   "cell_type": "code",
   "execution_count": 163,
   "id": "52a316a1",
   "metadata": {},
   "outputs": [
    {
     "name": "stdout",
     "output_type": "stream",
     "text": [
      "<Response [200]>\n",
      "['OnePlus Nord CE']\n",
      "['(Bahama Blue']\n",
      "['64MP']\n",
      "['6 GB', '128 GB']\n",
      "['4500 mAh']\n",
      "['16.33 cm']\n",
      "['351', '36']\n",
      "4.3\n",
      "₹23,900\n"
     ]
    }
   ],
   "source": [
    "b33=\"https://www.flipkart.com/oneplus-nord-ce-2-5g-bahama-blue-128-gb/p/itm2a9883679c57c?pid=MOBGHHZ6GTKRDZZR&lid=LSTMOBGHHZ6GTKRDZZR3GAIUV&marketplace=FLIPKART&q=oneplus+mobiles&store=tyy%2F4io&srno=s_3_54&otracker=search&otracker1=search&fm=Search&iid=cee0f3a3-3e96-4f7f-856b-0fec72b3375b.MOBGHHZ6GTKRDZZR.SEARCH&ppt=sp&ppn=sp&qH=e742c8ea7c6998ce\"\n",
    "details(b33,headers)"
   ]
  },
  {
   "cell_type": "code",
   "execution_count": 164,
   "id": "1f4a404c",
   "metadata": {},
   "outputs": [
    {
     "name": "stdout",
     "output_type": "stream",
     "text": [
      "<Response [200]>\n",
      "['OnePlus Nord CE']\n",
      "['(Gray Mirror']\n",
      "['64MP']\n",
      "['6 GB', '128 GB']\n",
      "['4500 mAh']\n",
      "['16.33 cm']\n",
      "['351', '36']\n",
      "4.3\n",
      "₹23,990\n"
     ]
    }
   ],
   "source": [
    "b34=\"https://www.flipkart.com/oneplus-nord-ce-2-5g-gray-mirror-128-gb/p/itm2a9883679c57c?pid=MOBGDBYUNZZ2ZKFM&lid=LSTMOBGDBYUNZZ2ZKFMTPCU7W&marketplace=FLIPKART&q=oneplus+mobiles&store=tyy%2F4io&srno=s_3_56&otracker=search&otracker1=search&fm=Search&iid=cee0f3a3-3e96-4f7f-856b-0fec72b3375b.MOBGDBYUNZZ2ZKFM.SEARCH&ppt=sp&ppn=sp&qH=e742c8ea7c6998ce\"\n",
    "details(b34,headers)"
   ]
  },
  {
   "cell_type": "code",
   "execution_count": 165,
   "id": "b3cb36f2",
   "metadata": {},
   "outputs": [
    {
     "name": "stdout",
     "output_type": "stream",
     "text": [
      "<Response [200]>\n",
      "['OnePlus 9 Pro', 'orning Mist']\n",
      "['(Morning Mist']\n",
      "['48MP']\n",
      "['12 GB', '256 GB']\n",
      "['4500 mAh']\n",
      "['17.02 cm']\n",
      "['185', '20']\n",
      "3.9\n",
      "₹64,998\n"
     ]
    }
   ],
   "source": [
    "b35=\"https://www.flipkart.com/oneplus-9-pro-5g-morning-mist-256-gb/p/itm3892a7120e77b?pid=MOBGDM2WXNBKYYFK&q=oneplus+mobiles&store=tyy%2F4io&srno=s_3_57&otracker=search&otracker1=search&fm=Search&iid=cee0f3a3-3e96-4f7f-856b-0fec72b3375b.MOBGDM2WXNBKYYFK.SEARCH&ppt=sp&ppn=sp&qH=e742c8ea7c6998ce\"\n",
    "details(b35,headers)"
   ]
  },
  {
   "cell_type": "code",
   "execution_count": 166,
   "id": "36672856",
   "metadata": {},
   "outputs": [
    {
     "name": "stdout",
     "output_type": "stream",
     "text": [
      "<Response [200]>\n",
      "['OnePlus 10R 5G']\n",
      "['(Prime Blue']\n",
      "[]\n",
      "['8 GB', '128 GB']\n",
      "['5000 mAh']\n",
      "['17.02 cm']\n",
      "['1,115', '97']\n",
      "4.3\n",
      "₹35,499\n"
     ]
    }
   ],
   "source": [
    "b36=\"https://www.flipkart.com/oneplus-10r-5g-prime-blue-128-gb/p/itmccf45a394ea16?pid=MOBGJMUHKDG3YSFH&lid=LSTMOBGJMUHKDG3YSFHJU69K8&marketplace=FLIPKART&q=oneplus+mobiles&store=tyy%2F4io&srno=s_3_58&otracker=search&otracker1=search&fm=Search&iid=cee0f3a3-3e96-4f7f-856b-0fec72b3375b.MOBGJMUHKDG3YSFH.SEARCH&ppt=sp&ppn=sp&qH=e742c8ea7c6998ce\"\n",
    "details(b36,headers)"
   ]
  },
  {
   "cell_type": "code",
   "execution_count": 167,
   "id": "9c855496",
   "metadata": {},
   "outputs": [
    {
     "name": "stdout",
     "output_type": "stream",
     "text": [
      "<Response [200]>\n",
      "['OnePlus 8T 5G']\n",
      "['(Lunar Silver']\n",
      "['48MP']\n",
      "['8 GB', '128 GB']\n",
      "['4500 mAh']\n",
      "['16.64 cm']\n",
      "['127', '14']\n",
      "4.4\n",
      "₹33,829\n"
     ]
    }
   ],
   "source": [
    "b37=\"https://www.flipkart.com/oneplus-8t-5g-lunar-silver-128-gb/p/itm1d675115d63ea?pid=MOBGDMFPHXPQXYPB&lid=LSTMOBGDMFPHXPQXYPB3R0ERL&marketplace=FLIPKART&q=oneplus+mobiles&store=tyy%2F4io&srno=s_3_61&otracker=search&otracker1=search&fm=Search&iid=cee0f3a3-3e96-4f7f-856b-0fec72b3375b.MOBGDMFPHXPQXYPB.SEARCH&ppt=sp&ppn=sp&qH=e742c8ea7c6998ce\"\n",
    "details(b37,headers)"
   ]
  },
  {
   "cell_type": "code",
   "execution_count": 168,
   "id": "289cf380",
   "metadata": {},
   "outputs": [
    {
     "name": "stdout",
     "output_type": "stream",
     "text": [
      "<Response [200]>\n",
      "['OnePlus Nord 2']\n",
      "['(Green Wood']\n",
      "['50MP']\n",
      "['12 GB', '256 GB']\n",
      "['4500 mAh']\n",
      "['16.33 cm']\n",
      "['157', '15']\n",
      "4.4\n",
      "₹33,999\n"
     ]
    }
   ],
   "source": [
    "b38=\"https://www.flipkart.com/oneplus-nord-2-5g-green-wood-256-gb/p/itmc88e4a702db46?pid=MOBGE7D9U2RVQPH7&lid=LSTMOBGE7D9U2RVQPH7MYCR2P&marketplace=FLIPKART&q=oneplus+mobiles&store=tyy%2F4io&srno=s_3_63&otracker=search&otracker1=search&fm=Search&iid=cee0f3a3-3e96-4f7f-856b-0fec72b3375b.MOBGE7D9U2RVQPH7.SEARCH&ppt=sp&ppn=sp&qH=e742c8ea7c6998ce\"\n",
    "details(b38,headers)"
   ]
  },
  {
   "cell_type": "code",
   "execution_count": 169,
   "id": "4bf9c7c5",
   "metadata": {},
   "outputs": [
    {
     "name": "stdout",
     "output_type": "stream",
     "text": [
      "<Response [200]>\n",
      "['OnePlus Nord 2']\n",
      "['(Blue Haze']\n",
      "['50MP']\n",
      "['8 GB', '128 GB']\n",
      "['4500 mAh']\n",
      "['16.33 cm']\n",
      "['1,767', '175']\n",
      "4.4\n",
      "₹29,799\n"
     ]
    }
   ],
   "source": [
    "b39=\"https://www.flipkart.com/oneplus-nord-2-5g-blue-haze-128-gb/p/itmc88e4a702db46?pid=MOBGDBFJXFJPVWKA&lid=LSTMOBGDBFJXFJPVWKA9WW7RD&marketplace=FLIPKART&q=oneplus+mobiles&store=tyy%2F4io&srno=s_3_64&otracker=search&otracker1=search&fm=Search&iid=cee0f3a3-3e96-4f7f-856b-0fec72b3375b.MOBGDBFJXFJPVWKA.SEARCH&ppt=sp&ppn=sp&qH=e742c8ea7c6998ce\"\n",
    "details(b39,headers)"
   ]
  },
  {
   "cell_type": "code",
   "execution_count": 170,
   "id": "949147d2",
   "metadata": {},
   "outputs": [
    {
     "name": "stdout",
     "output_type": "stream",
     "text": [
      "<Response [200]>\n",
      "['OnePlus Nord CE']\n",
      "['(Silver Ray']\n",
      "['64MP']\n",
      "['12 GB', '256 GB']\n",
      "['4500 mAh']\n",
      "['16.33 cm']\n",
      "['27', '6']\n",
      "4.4\n",
      "₹26,999\n"
     ]
    }
   ],
   "source": [
    "b40=\"https://www.flipkart.com/oneplus-nord-ce-5g-silver-ray-256-gb/p/itmd6dcbd8116ed1?pid=MOBGDM5SUVH9VMZD&lid=LSTMOBGDM5SUVH9VMZDHDNZG0&marketplace=FLIPKART&q=oneplus+mobiles&store=tyy%2F4io&srno=s_3_65&otracker=search&otracker1=search&fm=Search&iid=cee0f3a3-3e96-4f7f-856b-0fec72b3375b.MOBGDM5SUVH9VMZD.SEARCH&ppt=sp&ppn=sp&qH=e742c8ea7c6998ce\"\n",
    "details(b40,headers)"
   ]
  },
  {
   "cell_type": "code",
   "execution_count": 171,
   "id": "7b67984d",
   "metadata": {},
   "outputs": [
    {
     "name": "stdout",
     "output_type": "stream",
     "text": [
      "<Response [200]>\n",
      "['OnePlus Nord CE']\n",
      "['(Blue Void']\n",
      "['64MP']\n",
      "['12 GB', '256 GB']\n",
      "['4500 mAh']\n",
      "['16.33 cm']\n",
      "['27', '6']\n",
      "4.4\n",
      "₹27,999\n"
     ]
    }
   ],
   "source": [
    "b41=\"https://www.flipkart.com/oneplus-nord-ce-5g-blue-void-256-gb/p/itmd6dcbd8116ed1?pid=MOBGDTZ8HJVDQZSN&lid=LSTMOBGDTZ8HJVDQZSNDNEGNN&marketplace=FLIPKART&q=oneplus+mobiles&store=tyy%2F4io&srno=s_3_66&otracker=search&otracker1=search&fm=Search&iid=cee0f3a3-3e96-4f7f-856b-0fec72b3375b.MOBGDTZ8HJVDQZSN.SEARCH&ppt=sp&ppn=sp&qH=e742c8ea7c6998ce\"\n",
    "details(b41,headers)"
   ]
  },
  {
   "cell_type": "code",
   "execution_count": 172,
   "id": "bcaec104",
   "metadata": {},
   "outputs": [
    {
     "name": "stdout",
     "output_type": "stream",
     "text": [
      "<Response [200]>\n",
      "['OnePlus Nord CE2']\n",
      "['(Blue Tide']\n",
      "['64MP']\n",
      "['8 GB', '128 GB']\n",
      "['5000 mAh']\n",
      "['16.74 cm']\n",
      "['592', '44']\n",
      "4.4\n",
      "₹21,900\n"
     ]
    }
   ],
   "source": [
    "b42=\"https://www.flipkart.com/oneplus-nord-ce2-lite-5g-blue-tide-128-gb/p/itmecb4707631d8d?pid=MOBGGA2BHMFSM8AG&lid=LSTMOBGGA2BHMFSM8AGLRTRUO&marketplace=FLIPKART&q=oneplus+mobiles&store=tyy%2F4io&srno=s_3_68&otracker=search&otracker1=search&fm=Search&iid=cee0f3a3-3e96-4f7f-856b-0fec72b3375b.MOBGGA2BHMFSM8AG.SEARCH&ppt=sp&ppn=sp&qH=e742c8ea7c6998ce\"\n",
    "details(b42,headers)"
   ]
  },
  {
   "cell_type": "code",
   "execution_count": 173,
   "id": "9e90f47d",
   "metadata": {},
   "outputs": [
    {
     "name": "stdout",
     "output_type": "stream",
     "text": [
      "<Response [200]>\n",
      "['OnePlus 9RT 5G']\n",
      "['(Hacker Black']\n",
      "['50MP']\n",
      "['8 GB', '128 GB']\n",
      "['4500 mAh']\n",
      "['16.81 cm']\n",
      "['469', '50']\n",
      "4.3\n",
      "₹39,890\n"
     ]
    }
   ],
   "source": [
    "b43=\"https://www.flipkart.com/oneplus-9rt-5g-hacker-black-128-gb/p/itm8c866e1ebfd45?pid=MOBGDKXGHECPA4RR&lid=LSTMOBGDKXGHECPA4RRKIRUQ5&marketplace=FLIPKART&q=oneplus+mobiles&store=tyy%2F4io&srno=s_3_69&otracker=search&otracker1=search&fm=Search&iid=cee0f3a3-3e96-4f7f-856b-0fec72b3375b.MOBGDKXGHECPA4RR.SEARCH&ppt=sp&ppn=sp&qH=e742c8ea7c6998ce\"\n",
    "details(b43,headers)"
   ]
  },
  {
   "cell_type": "code",
   "execution_count": 174,
   "id": "2e66bd77",
   "metadata": {},
   "outputs": [
    {
     "name": "stdout",
     "output_type": "stream",
     "text": [
      "<Response [200]>\n",
      "['OnePlus Nord CE', 'oal Ink']\n",
      "['(Charcoal Ink']\n",
      "['64MP']\n",
      "['12 GB', '256 GB']\n",
      "['4500 mAh']\n",
      "['16.33 cm']\n",
      "['27', '6']\n",
      "4.4\n",
      "₹27,900\n"
     ]
    }
   ],
   "source": [
    "b44=\"https://www.flipkart.com/oneplus-nord-ce-5g-charcoal-ink-256-gb/p/itmd6dcbd8116ed1?pid=MOBGDM4JGS4AUQRN&lid=LSTMOBGDM4JGS4AUQRN4VNNUL&marketplace=FLIPKART&q=oneplus+mobiles&store=tyy%2F4io&srno=s_3_70&otracker=search&otracker1=search&fm=Search&iid=cee0f3a3-3e96-4f7f-856b-0fec72b3375b.MOBGDM4JGS4AUQRN.SEARCH&ppt=sp&ppn=sp&qH=e742c8ea7c6998ce\"\n",
    "details(b44,headers)"
   ]
  },
  {
   "cell_type": "code",
   "execution_count": 175,
   "id": "0d7ed952",
   "metadata": {},
   "outputs": [
    {
     "name": "stdout",
     "output_type": "stream",
     "text": [
      "<Response [200]>\n",
      "['OnePlus 8T 5G']\n",
      "['(Aquamarine Green']\n",
      "['48MP']\n",
      "['8 GB', '128 GB']\n",
      "['4500 mAh']\n",
      "['16.64 cm']\n",
      "['127', '14']\n",
      "4.4\n",
      "₹34,999\n"
     ]
    }
   ],
   "source": [
    "b45=\"https://www.flipkart.com/oneplus-8t-5g-aquamarine-green-128-gb/p/itm1d675115d63ea?pid=MOBGDM23SQXYDRNA&lid=LSTMOBGDM23SQXYDRNA2TRHUY&marketplace=FLIPKART&q=oneplus+mobiles&store=tyy%2F4io&srno=s_4_73&otracker=search&otracker1=search&fm=Search&iid=d98cf250-6db3-4e87-8bb2-7b3fbe571c24.MOBGDM23SQXYDRNA.SEARCH&ppt=sp&ppn=sp&qH=e742c8ea7c6998ce\"\n",
    "details(b45,headers)"
   ]
  },
  {
   "cell_type": "code",
   "execution_count": 176,
   "id": "c12e802e",
   "metadata": {},
   "outputs": [
    {
     "name": "stdout",
     "output_type": "stream",
     "text": [
      "<Response [200]>\n",
      "['OnePlus 9 5G']\n",
      "['(Winter Mist']\n",
      "['48MP']\n",
      "['12 GB', '256 GB']\n",
      "['4500 mAh']\n",
      "['16.64 cm']\n",
      "['231', '28']\n",
      "4\n",
      "₹41,490\n"
     ]
    }
   ],
   "source": [
    "b46=\"https://www.flipkart.com/oneplus-9-5g-winter-mist-256-gb/p/itm6e4e8a7b40c8d?pid=MOBGDHTNXHMZFZA9&lid=LSTMOBGDHTNXHMZFZA960FRR9&marketplace=FLIPKART&q=oneplus+mobiles&store=tyy%2F4io&srno=s_4_74&otracker=search&otracker1=search&fm=Search&iid=d98cf250-6db3-4e87-8bb2-7b3fbe571c24.MOBGDHTNXHMZFZA9.SEARCH&ppt=sp&ppn=sp&qH=e742c8ea7c6998ce\"\n",
    "details(b46,headers)"
   ]
  },
  {
   "cell_type": "code",
   "execution_count": 177,
   "id": "506d7e16",
   "metadata": {},
   "outputs": [
    {
     "name": "stdout",
     "output_type": "stream",
     "text": [
      "<Response [200]>\n",
      "['OnePlus 8T 5G']\n",
      "['(Lunar Silver']\n",
      "['48MP']\n",
      "['12 GB', '256 GB']\n",
      "['4500 mAh']\n",
      "['16.64 cm']\n",
      "['5', '1']\n",
      "3\n",
      "₹35,999\n"
     ]
    }
   ],
   "source": [
    "b47=\"https://www.flipkart.com/oneplus-8t-5g-lunar-silver-256-gb/p/itm1d675115d63ea?pid=MOBGDMFZ6AWRWQTR&lid=LSTMOBGDMFZ6AWRWQTR4GYEFN&marketplace=FLIPKART&q=oneplus+mobiles&store=tyy%2F4io&srno=s_4_75&otracker=search&otracker1=search&fm=Search&iid=d98cf250-6db3-4e87-8bb2-7b3fbe571c24.MOBGDMFZ6AWRWQTR.SEARCH&ppt=sp&ppn=sp&qH=e742c8ea7c6998ce\"\n",
    "details(b47,headers)"
   ]
  },
  {
   "cell_type": "code",
   "execution_count": 178,
   "id": "6646bd01",
   "metadata": {},
   "outputs": [
    {
     "name": "stdout",
     "output_type": "stream",
     "text": [
      "<Response [200]>\n",
      "['OnePlus Nord CE']\n",
      "['(Black Dusk']\n",
      "['64MP']\n",
      "['8 GB', '128 GB']\n",
      "['5000 mAh']\n",
      "['16.74 cm']\n",
      "['3,293', '298']\n",
      "4.3\n",
      "₹21,880\n"
     ]
    }
   ],
   "source": [
    "b48=\"https://www.flipkart.com/oneplus-nord-ce-2-lite-5g-black-dusk-128-gb/p/itm7acae55b999e6?pid=MOBGDWFEAHHTW8CF&lid=LSTMOBGDWFEAHHTW8CFSV4WG9&marketplace=FLIPKART&q=oneplus+mobiles&store=tyy%2F4io&srno=s_4_77&otracker=search&otracker1=search&fm=Search&iid=d98cf250-6db3-4e87-8bb2-7b3fbe571c24.MOBGDWFEAHHTW8CF.SEARCH&ppt=sp&ppn=sp&qH=e742c8ea7c6998ce\"\n",
    "details(b48,headers)"
   ]
  },
  {
   "cell_type": "code",
   "execution_count": 179,
   "id": "b1cda4dd",
   "metadata": {},
   "outputs": [
    {
     "name": "stdout",
     "output_type": "stream",
     "text": [
      "<Response [200]>\n",
      "['OnePlus 9RT 5G']\n",
      "['(Nano Silver']\n",
      "['50MP']\n",
      "['12 GB', '256 GB']\n",
      "['4500 mAh']\n",
      "['16.81 cm']\n",
      "['242', '23']\n",
      "4.1\n",
      "₹44,998\n"
     ]
    }
   ],
   "source": [
    "b49=\"https://www.flipkart.com/oneplus-9rt-5g-nano-silver-256-gb/p/itm8c866e1ebfd45?pid=MOBGDHFAESPBEZNG&lid=LSTMOBGDHFAESPBEZNG43UVTS&marketplace=FLIPKART&q=oneplus+mobiles&store=tyy%2F4io&srno=s_4_78&otracker=search&otracker1=search&fm=Search&iid=d98cf250-6db3-4e87-8bb2-7b3fbe571c24.MOBGDHFAESPBEZNG.SEARCH&ppt=sp&ppn=sp&qH=e742c8ea7c6998ce\"\n",
    "details(b49,headers)"
   ]
  },
  {
   "cell_type": "code",
   "execution_count": 180,
   "id": "04235f92",
   "metadata": {},
   "outputs": [
    {
     "name": "stdout",
     "output_type": "stream",
     "text": [
      "<Response [200]>\n",
      "['OnePlus 9 Pro']\n",
      "['(Stellar Black']\n",
      "['48MP']\n",
      "['8 GB', '128 GB']\n",
      "['4500 mAh']\n",
      "['17.02 cm']\n",
      "['149', '15']\n",
      "4.4\n",
      "₹48,999\n"
     ]
    }
   ],
   "source": [
    "b50=\"https://www.flipkart.com/oneplus-9-pro-5g-stellar-black-128-gb/p/itm21286ff912bcf?pid=MOBGGA29UBHRCWRY&lid=LSTMOBGGA29UBHRCWRYEC6KAB&marketplace=FLIPKART&q=oneplus+mobiles&store=tyy%2F4io&srno=s_4_87&otracker=search&otracker1=search&fm=Search&iid=d98cf250-6db3-4e87-8bb2-7b3fbe571c24.MOBGGA29UBHRCWRY.SEARCH&ppt=sp&ppn=sp&qH=e742c8ea7c6998ce\"\n",
    "details(b50,headers)"
   ]
  },
  {
   "cell_type": "code",
   "execution_count": 181,
   "id": "49c26bcc",
   "metadata": {},
   "outputs": [
    {
     "name": "stdout",
     "output_type": "stream",
     "text": [
      "<Response [200]>\n",
      "['OnePlus One']\n",
      "['(Silk White']\n",
      "['13MP', '5MP']\n",
      "['3 GB', '16 GB']\n",
      "['3100 mAh']\n",
      "['13.97 cm']\n",
      "['3,662', '418']\n",
      "4.4\n",
      "₹18,998\n"
     ]
    }
   ],
   "source": [
    "b51=\"https://www.flipkart.com/oneplus-one-silk-white-16-gb/p/itmevt8fkdg8hd6d?pid=MOBE87BTMHYBXHBJ&lid=LSTMOBE87BTMHYBXHBJNG0PMV&marketplace=FLIPKART&q=oneplus+mobiles&store=tyy%2F4io&srno=s_4_91&otracker=search&otracker1=search&fm=Search&iid=d98cf250-6db3-4e87-8bb2-7b3fbe571c24.MOBE87BTMHYBXHBJ.SEARCH&ppt=sp&ppn=sp&qH=e742c8ea7c6998ce\"\n",
    "details(b51,headers)"
   ]
  },
  {
   "cell_type": "code",
   "execution_count": 182,
   "id": "4714dfdc",
   "metadata": {},
   "outputs": [
    {
     "name": "stdout",
     "output_type": "stream",
     "text": [
      "<Response [200]>\n",
      "['OnePlus 9R 5G']\n",
      "['(Lake Blue']\n",
      "['48MP']\n",
      "['8 GB', '128 GB']\n",
      "['4500 mAh']\n",
      "['16.64 cm']\n",
      "['26', '8']\n",
      "3.8\n",
      "₹33,990\n"
     ]
    }
   ],
   "source": [
    "b52=\"https://www.flipkart.com/oneplus-9r-5g-lake-blue-128-gb/p/itm2eca55b0a518e?pid=MOBGDNATSWGFAFJD&lid=LSTMOBGDNATSWGFAFJD9LGT9G&marketplace=FLIPKART&q=oneplus+mobiles&store=tyy%2F4io&srno=s_4_96&otracker=search&otracker1=search&fm=Search&iid=d98cf250-6db3-4e87-8bb2-7b3fbe571c24.MOBGDNATSWGFAFJD.SEARCH&ppt=sp&ppn=sp&qH=e742c8ea7c6998ce\"\n",
    "details(b52,headers)"
   ]
  },
  {
   "cell_type": "code",
   "execution_count": 183,
   "id": "ab48175b",
   "metadata": {},
   "outputs": [
    {
     "name": "stdout",
     "output_type": "stream",
     "text": [
      "<Response [200]>\n",
      "['OnePlus 9R 5G', 'on Black']\n",
      "['(Carbon Black']\n",
      "['48MP']\n",
      "['8 GB', '128 GB']\n",
      "['4500 mAh']\n",
      "['16.64 cm']\n",
      "['26', '8']\n",
      "3.8\n",
      "₹33,999\n"
     ]
    }
   ],
   "source": [
    "b53=\"https://www.flipkart.com/oneplus-9r-5g-carbon-black-128-gb/p/itm2eca55b0a518e?pid=MOBGDHUH68MSEPXG&lid=LSTMOBGDHUH68MSEPXGRXIPII&marketplace=FLIPKART&q=oneplus+mobiles&store=tyy%2F4io&srno=s_5_97&otracker=search&otracker1=search&fm=Search&iid=7551f60c-913d-4435-88e9-a8c9448af76e.MOBGDHUH68MSEPXG.SEARCH&ppt=sp&ppn=sp&qH=e742c8ea7c6998ce\"\n",
    "details(b53,headers)"
   ]
  },
  {
   "cell_type": "code",
   "execution_count": 184,
   "id": "483b4878",
   "metadata": {},
   "outputs": [
    {
     "name": "stdout",
     "output_type": "stream",
     "text": [
      "<Response [200]>\n",
      "['OnePlus Nord CE']\n",
      "['(Blue Void']\n",
      "['64MP']\n",
      "['8 GB', '128 GB']\n",
      "['4500 mAh']\n",
      "['16.33 cm']\n",
      "['28', '2']\n",
      "3.4\n",
      "₹25,666\n"
     ]
    }
   ],
   "source": [
    "b54=\"https://www.flipkart.com/oneplus-nord-ce-5g-blue-void-128-gb/p/itmd6dcbd8116ed1?pid=MOBGDM4UUD2FDBPH&lid=LSTMOBGDM4UUD2FDBPHH0BYNQ&marketplace=FLIPKART&q=oneplus+mobiles&store=tyy%2F4io&srno=s_5_100&otracker=search&otracker1=search&fm=Search&iid=7551f60c-913d-4435-88e9-a8c9448af76e.MOBGDM4UUD2FDBPH.SEARCH&ppt=sp&ppn=sp&qH=e742c8ea7c6998ce\"\n",
    "details(b54,headers)"
   ]
  },
  {
   "cell_type": "code",
   "execution_count": 185,
   "id": "223f6446",
   "metadata": {},
   "outputs": [
    {
     "name": "stdout",
     "output_type": "stream",
     "text": [
      "<Response [200]>\n",
      "['OnePlus Nord CE']\n",
      "['(Blue Void']\n",
      "['64MP']\n",
      "['12 GB', '128 GB']\n",
      "['4500 mAh']\n",
      "['16.33 cm']\n",
      "['27', '6']\n",
      "4.4\n",
      "₹30,999\n"
     ]
    }
   ],
   "source": [
    "b55=\"https://www.flipkart.com/oneplus-nord-ce-5g-blue-void-128-gb/p/itmd6dcbd8116ed1?pid=MOBGDM4Z5MPJAK5P&lid=LSTMOBGDM4Z5MPJAK5PQLR35W&marketplace=FLIPKART&q=oneplus+mobiles&store=tyy%2F4io&srno=s_5_101&otracker=search&otracker1=search&fm=Search&iid=7551f60c-913d-4435-88e9-a8c9448af76e.MOBGDM4Z5MPJAK5P.SEARCH&ppt=sp&ppn=sp&qH=e742c8ea7c6998ce\"\n",
    "details(b55,headers)"
   ]
  },
  {
   "cell_type": "code",
   "execution_count": 186,
   "id": "798d255a",
   "metadata": {},
   "outputs": [
    {
     "name": "stdout",
     "output_type": "stream",
     "text": [
      "<Response [200]>\n",
      "['OnePlus Nord CE', 'oal Ink']\n",
      "['(Charcoal Ink']\n",
      "['64MP']\n",
      "['6 GB', '128 GB']\n",
      "['4500 mAh']\n",
      "['16.33 cm']\n",
      "['4', '1']\n",
      "4\n",
      "₹20,999\n"
     ]
    }
   ],
   "source": [
    "b56=\"https://www.flipkart.com/oneplus-nord-ce-5g-charcoal-ink-128-gb/p/itmd6dcbd8116ed1?pid=MOBGDM46BMYENNJN&lid=LSTMOBGDM46BMYENNJNXCWS2A&marketplace=FLIPKART&q=oneplus+mobiles&store=tyy%2F4io&srno=s_5_103&otracker=search&otracker1=search&fm=Search&iid=7551f60c-913d-4435-88e9-a8c9448af76e.MOBGDM46BMYENNJN.SEARCH&ppt=sp&ppn=sp&qH=e742c8ea7c6998ce\"\n",
    "details(b56,headers)"
   ]
  },
  {
   "cell_type": "code",
   "execution_count": 187,
   "id": "8692c7fe",
   "metadata": {},
   "outputs": [
    {
     "name": "stdout",
     "output_type": "stream",
     "text": [
      "<Response [200]>\n",
      "['OnePlus 10 Pro', 'olcanic Black']\n",
      "['(Volcanic Black']\n",
      "['48MP']\n",
      "['12 GB', '256 GB']\n",
      "['5000 mAh']\n",
      "['17.02 cm']\n",
      "['66', '2']\n",
      "3.6\n",
      "₹66,000\n"
     ]
    }
   ],
   "source": [
    "b57=\"https://www.flipkart.com/oneplus-10-pro-5g-volcanic-black-256-gb/p/itmcd1af0daf0394?pid=MOBGGA29WHUZC8ME&lid=LSTMOBGGA29WHUZC8MEOCMPEU&marketplace=FLIPKART&q=oneplus+mobiles&store=tyy%2F4io&srno=s_5_104&otracker=search&otracker1=search&fm=Search&iid=7551f60c-913d-4435-88e9-a8c9448af76e.MOBGGA29WHUZC8ME.SEARCH&ppt=sp&ppn=sp&qH=e742c8ea7c6998ce\"\n",
    "details(b57,headers)"
   ]
  },
  {
   "cell_type": "code",
   "execution_count": 188,
   "id": "992f8df8",
   "metadata": {},
   "outputs": [
    {
     "name": "stdout",
     "output_type": "stream",
     "text": [
      "<Response [200]>\n",
      "['OnePlus Nord CE']\n",
      "['(Blue Void']\n",
      "['64MP']\n",
      "['6 GB', '128 GB']\n",
      "['4500 mAh']\n",
      "['16.33 cm']\n",
      "['4', '1']\n",
      "4\n",
      "₹22,999\n"
     ]
    }
   ],
   "source": [
    "b58=\"https://www.flipkart.com/oneplus-nord-ce-5g-blue-void-128-gb/p/itmd6dcbd8116ed1?pid=MOBGDM4QYUZKNAR4&lid=LSTMOBGDM4QYUZKNAR4TI51KT&marketplace=FLIPKART&q=oneplus+mobiles&store=tyy%2F4io&srno=s_5_105&otracker=search&otracker1=search&fm=Search&iid=7551f60c-913d-4435-88e9-a8c9448af76e.MOBGDM4QYUZKNAR4.SEARCH&ppt=sp&ppn=sp&qH=e742c8ea7c6998ce\"\n",
    "details(b58,headers)"
   ]
  },
  {
   "cell_type": "code",
   "execution_count": 189,
   "id": "382ad0d8",
   "metadata": {},
   "outputs": [
    {
     "name": "stdout",
     "output_type": "stream",
     "text": [
      "<Response [200]>\n",
      "['OnePlus 8', 'Onyx Black']\n",
      "['(Onyx Black']\n",
      "['48MP', '2MP', '16MP', '16MP']\n",
      "['12 GB', '256 GB']\n",
      "['4300 mAh']\n",
      "['16.64 cm']\n",
      "['246', '36']\n",
      "4.5\n",
      "₹34,999\n"
     ]
    }
   ],
   "source": [
    "b59=\"https://www.flipkart.com/oneplus-8-onyx-black-256-gb/p/itme3e11076fa5d3?pid=MOBFRWV5G8CXPXE3&lid=LSTMOBFRWV5G8CXPXE33VWPUY&marketplace=FLIPKART&q=oneplus+mobiles&store=tyy%2F4io&srno=s_5_108&otracker=search&otracker1=search&fm=Search&iid=7551f60c-913d-4435-88e9-a8c9448af76e.MOBFRWV5G8CXPXE3.SEARCH&ppt=sp&ppn=sp&qH=e742c8ea7c6998ce\"\n",
    "details(b59,headers)"
   ]
  },
  {
   "cell_type": "code",
   "execution_count": 190,
   "id": "25016af8",
   "metadata": {},
   "outputs": [
    {
     "name": "stdout",
     "output_type": "stream",
     "text": [
      "<Response [200]>\n",
      "['OnePlus 8']\n",
      "['(Glacial Green']\n",
      "['48MP', '16MP']\n",
      "['6 GB', '128 GB']\n",
      "['4300 mAh']\n",
      "['16.64 cm']\n",
      "['23', '1']\n",
      "3.4\n",
      "₹41,999\n"
     ]
    }
   ],
   "source": [
    "b60=\"https://www.flipkart.com/oneplus-8-glacial-green-128-gb/p/itme3e11076fa5d3?pid=MOBFT3FJG3XZMWSC&lid=LSTMOBFT3FJG3XZMWSCVDVBHI&marketplace=FLIPKART&q=oneplus+mobiles&store=tyy%2F4io&srno=s_5_110&otracker=search&otracker1=search&fm=Search&iid=7551f60c-913d-4435-88e9-a8c9448af76e.MOBFT3FJG3XZMWSC.SEARCH&ppt=sp&ppn=sp&qH=e742c8ea7c6998ce\"\n",
    "details(b60,headers)"
   ]
  },
  {
   "cell_type": "code",
   "execution_count": 191,
   "id": "0b947d27",
   "metadata": {},
   "outputs": [
    {
     "name": "stdout",
     "output_type": "stream",
     "text": [
      "<Response [200]>\n",
      "['OnePlus 8']\n",
      "['(Glacial Green']\n",
      "['48MP', '16MP']\n",
      "['6 GB', '128 GB']\n",
      "['4300 mAh']\n",
      "['16.64 cm']\n",
      "['23', '1']\n",
      "3.4\n",
      "₹41,999\n"
     ]
    }
   ],
   "source": [
    "b61=\"https://www.flipkart.com/oneplus-8-glacial-green-128-gb/p/itme3e11076fa5d3?pid=MOBFT3FJG3XZMWSC&lid=LSTMOBFT3FJG3XZMWSCVDVBHI&marketplace=FLIPKART&q=oneplus+mobiles&store=tyy%2F4io&srno=s_5_110&otracker=search&otracker1=search&fm=Search&iid=7551f60c-913d-4435-88e9-a8c9448af76e.MOBFT3FJG3XZMWSC.SEARCH&ppt=sp&ppn=sp&qH=e742c8ea7c6998ce\"\n",
    "details(b61,headers)"
   ]
  },
  {
   "cell_type": "code",
   "execution_count": 192,
   "id": "1cc114c9",
   "metadata": {},
   "outputs": [
    {
     "name": "stdout",
     "output_type": "stream",
     "text": [
      "<Response [200]>\n",
      "['OnePlus 8', 'Onyx Black']\n",
      "['(Onyx Black']\n",
      "['48MP', '2MP', '16MP', '16MP']\n",
      "['8 GB', '128 GB']\n",
      "['4300 mAh']\n",
      "['16.64 cm']\n",
      "['441', '57']\n",
      "4.5\n",
      "₹44,999\n"
     ]
    }
   ],
   "source": [
    "b62=\"https://www.flipkart.com/oneplus-8-onyx-black-128-gb/p/itme3e11076fa5d3?pid=MOBFRWV5HTFDRZWT&lid=LSTMOBFRWV5HTFDRZWT2COAZU&marketplace=FLIPKART&q=oneplus+mobiles&store=tyy%2F4io&srno=s_5_111&otracker=search&otracker1=search&fm=Search&iid=7551f60c-913d-4435-88e9-a8c9448af76e.MOBFRWV5HTFDRZWT.SEARCH&ppt=sp&ppn=sp&qH=e742c8ea7c6998ce\"\n",
    "details(b62,headers)"
   ]
  },
  {
   "cell_type": "code",
   "execution_count": 193,
   "id": "cb560788",
   "metadata": {},
   "outputs": [
    {
     "name": "stdout",
     "output_type": "stream",
     "text": [
      "<Response [200]>\n",
      "['OnePlus 9RT 5G']\n",
      "['(Hacker Black']\n",
      "['50MP']\n",
      "['8 GB', '256 GB']\n",
      "['4500 mAh']\n",
      "['16.81 cm']\n",
      "['469', '50']\n",
      "4.3\n",
      "₹48,999\n"
     ]
    }
   ],
   "source": [
    "b63=\"https://www.flipkart.com/oneplus-9rt-5g-hacker-black-256-gb/p/itm00851ef055072?pid=MOBGDKXSBC5DSTDQ&lid=LSTMOBGDKXSBC5DSTDQMBOSSU&marketplace=FLIPKART&q=oneplus+mobiles&store=tyy%2F4io&srno=s_5_115&otracker=search&otracker1=search&fm=Search&iid=7551f60c-913d-4435-88e9-a8c9448af76e.MOBGDKXSBC5DSTDQ.SEARCH&ppt=sp&ppn=sp&qH=e742c8ea7c6998ce\"\n",
    "details(b63,headers)"
   ]
  },
  {
   "cell_type": "code",
   "execution_count": 194,
   "id": "2b7b1af2",
   "metadata": {},
   "outputs": [
    {
     "name": "stdout",
     "output_type": "stream",
     "text": [
      "<Response [200]>\n",
      "['OnePlus 9 5G']\n",
      "['(Arctic Sky']\n",
      "['48MP']\n",
      "['12 GB', '256 GB']\n",
      "['4500 mAh']\n",
      "['16.64 cm']\n",
      "['231', '28']\n",
      "4\n",
      "₹41,997\n"
     ]
    }
   ],
   "source": [
    "b64=\"https://www.flipkart.com/oneplus-9-5g-arctic-sky-256-gb/p/itm6e4e8a7b40c8d?pid=MOBGGA29YPYDAEFQ&lid=LSTMOBGGA29YPYDAEFQLYBEOD&marketplace=FLIPKART&q=oneplus+mobiles&store=tyy%2F4io&srno=s_5_116&otracker=search&otracker1=search&fm=Search&iid=7551f60c-913d-4435-88e9-a8c9448af76e.MOBGGA29YPYDAEFQ.SEARCH&ppt=sp&ppn=sp&qH=e742c8ea7c6998ce\"\n",
    "details(b64,headers)"
   ]
  },
  {
   "cell_type": "code",
   "execution_count": 195,
   "id": "f296a8c2",
   "metadata": {},
   "outputs": [
    {
     "name": "stdout",
     "output_type": "stream",
     "text": [
      "<Response [200]>\n",
      "['OnePlus OnePlus 5']\n",
      "['(Slate Gray']\n",
      "['16MP', '20MP', '16MP']\n",
      "['8 GB', '128 GB']\n",
      "['3300 mAh']\n",
      "['13.97 cm']\n",
      "['393', '46']\n",
      "4.5\n",
      "₹37,999\n"
     ]
    }
   ],
   "source": [
    "b65=\"https://www.flipkart.com/oneplus-5-slate-gray-128-gb/p/itmffmaqfb8uwkna?pid=MOBFFMAQQGF9CNQV&lid=LSTMOBFFMAQQGF9CNQVBBZOGA&marketplace=FLIPKART&q=oneplus+mobiles&store=tyy%2F4io&srno=s_5_119&otracker=search&otracker1=search&fm=Search&iid=7551f60c-913d-4435-88e9-a8c9448af76e.MOBFFMAQQGF9CNQV.SEARCH&ppt=sp&ppn=sp&qH=e742c8ea7c6998ce\"\n",
    "details(b65,headers)"
   ]
  },
  {
   "cell_type": "code",
   "execution_count": 196,
   "id": "c10e0d0c",
   "metadata": {},
   "outputs": [
    {
     "name": "stdout",
     "output_type": "stream",
     "text": [
      "<Response [200]>\n",
      "['OnePlus 7']\n",
      "['(Red']\n",
      "['48 MP', '5 MP', '16MP']\n",
      "['8 GB', '256 GB']\n",
      "['3700 mAh']\n",
      "['16.28 cm']\n",
      "['2,716', '226']\n",
      "4.6\n",
      "₹31,990\n"
     ]
    }
   ],
   "source": [
    "b66=\"https://www.flipkart.com/oneplus-7-red-256-gb/p/itmdbcd3dd156000?pid=MOBFKFPEM6TVYNBZ&lid=LSTMOBFKFPEM6TVYNBZMEFGMR&marketplace=FLIPKART&q=oneplus+mobiles&store=tyy%2F4io&srno=s_6_123&otracker=search&otracker1=search&fm=Search&iid=161bca58-a548-48ba-9ebe-57e0b07aaf5f.MOBFKFPEM6TVYNBZ.SEARCH&ppt=sp&ppn=sp&qH=e742c8ea7c6998ce\"\n",
    "details(b66,headers)"
   ]
  },
  {
   "cell_type": "code",
   "execution_count": 197,
   "id": "5f8cd51f",
   "metadata": {},
   "outputs": [
    {
     "name": "stdout",
     "output_type": "stream",
     "text": [
      "<Response [200]>\n",
      "['OnePlus 7', 'or Grey']\n",
      "['(Mirror Grey']\n",
      "['48 MP', '5 MP', '16MP']\n",
      "['6 GB', '128 GB']\n",
      "['3700 mAh']\n",
      "['16.28 cm']\n",
      "['3,679', '288']\n",
      "4.6\n",
      "₹32,990\n"
     ]
    }
   ],
   "source": [
    "b67=\"https://www.flipkart.com/oneplus-7-mirror-grey-128-gb/p/itmdbcd3dd156000?pid=MOBFKFRFXVZTBXFQ&lid=LSTMOBFKFRFXVZTBXFQMEHD3Q&marketplace=FLIPKART&q=oneplus+mobiles&store=tyy%2F4io&srno=s_6_124&otracker=search&otracker1=search&fm=Search&iid=161bca58-a548-48ba-9ebe-57e0b07aaf5f.MOBFKFRFXVZTBXFQ.SEARCH&ppt=sp&ppn=sp&qH=e742c8ea7c6998ce\"\n",
    "details(b67,headers)"
   ]
  },
  {
   "cell_type": "code",
   "execution_count": 198,
   "id": "807ad419",
   "metadata": {},
   "outputs": [
    {
     "name": "stdout",
     "output_type": "stream",
     "text": [
      "<Response [200]>\n",
      "['OnePlus 9 Pro']\n",
      "['(Pine Green']\n",
      "['48MP']\n",
      "['8 GB', '128 GB']\n",
      "['4500 mAh']\n",
      "['17.02 cm']\n",
      "['67', '1']\n",
      "3.9\n",
      "₹49,999\n"
     ]
    }
   ],
   "source": [
    "b68=\"https://www.flipkart.com/oneplus-9-pro-pine-green-128-gb/p/itmfce26611c05d9?pid=MOBGGA29ZMHUYPA9&lid=LSTMOBGGA29ZMHUYPA9ADOAUL&marketplace=FLIPKART&q=oneplus+mobiles&store=tyy%2F4io&srno=s_6_126&otracker=search&otracker1=search&fm=Search&iid=161bca58-a548-48ba-9ebe-57e0b07aaf5f.MOBGGA29ZMHUYPA9.SEARCH&ppt=sp&ppn=sp&qH=e742c8ea7c6998ce\"\n",
    "details(b68,headers)"
   ]
  },
  {
   "cell_type": "code",
   "execution_count": 199,
   "id": "8db86ecd",
   "metadata": {},
   "outputs": [
    {
     "name": "stdout",
     "output_type": "stream",
     "text": [
      "<Response [200]>\n",
      "['OnePlus 7T', 'osted Silver']\n",
      "['(Frosted Silver']\n",
      "['48 MP', '12 MP', '16 MP', '16MP']\n",
      "['8 GB', '256 GB']\n",
      "['3800 mAh']\n",
      "['16.64 cm']\n",
      "['9,593', '842']\n",
      "4.6\n",
      "₹38,999\n"
     ]
    }
   ],
   "source": [
    "b69=\"https://www.flipkart.com/oneplus-7t-frosted-silver-256-gb/p/itma74f3aece46b1?pid=MOBFKWSYM58EHMY6&lid=LSTMOBFKWSYM58EHMY6UCI6J2&marketplace=FLIPKART&q=oneplus+mobiles&store=tyy%2F4io&srno=s_6_127&otracker=search&otracker1=search&fm=Search&iid=161bca58-a548-48ba-9ebe-57e0b07aaf5f.MOBFKWSYM58EHMY6.SEARCH&ppt=sp&ppn=sp&qH=e742c8ea7c6998ce\"\n",
    "details(b69,headers)"
   ]
  },
  {
   "cell_type": "code",
   "execution_count": 200,
   "id": "1f6362c3",
   "metadata": {},
   "outputs": [
    {
     "name": "stdout",
     "output_type": "stream",
     "text": [
      "<Response [200]>\n",
      "['OnePlus 7 Pro']\n",
      "['(Nebula Blue']\n",
      "['48 MP', '8 MP', '16 MP', '16MP']\n",
      "['12 GB', '256 GB']\n",
      "['4000 mAh']\n",
      "['16.94 cm']\n",
      "['104', '5']\n",
      "4.6\n",
      "₹50,348\n"
     ]
    }
   ],
   "source": [
    "b70=\"https://www.flipkart.com/oneplus-7-pro-nebula-blue-256-gb/p/itmbdc9c2e788399?pid=MOBFKFPE8GPSR6G3&lid=LSTMOBFKFPE8GPSR6G34ZIY8K&marketplace=FLIPKART&q=oneplus+mobiles&store=tyy%2F4io&srno=s_6_128&otracker=search&otracker1=search&fm=Search&iid=161bca58-a548-48ba-9ebe-57e0b07aaf5f.MOBFKFPE8GPSR6G3.SEARCH&ppt=sp&ppn=sp&qH=e742c8ea7c6998ce\"\n",
    "details(b70,headers)"
   ]
  },
  {
   "cell_type": "code",
   "execution_count": 201,
   "id": "17b5256e",
   "metadata": {},
   "outputs": [
    {
     "name": "stdout",
     "output_type": "stream",
     "text": [
      "<Response [200]>\n",
      "['OnePlus 6T', 'Orange']\n",
      "['(Speed Orange']\n",
      "['16 MP', '20 MP', '16MP']\n",
      "['10 GB', '256 GB']\n",
      "['3700 mAh']\n",
      "['16.28 cm']\n",
      "['41', '1']\n",
      "4.2\n",
      "₹39,999\n"
     ]
    }
   ],
   "source": [
    "b71=\"https://www.flipkart.com/oneplus-6t-speed-orange-256-gb/p/itm481488ed3d219?pid=MOBFKFPEXZUY9VBV&lid=LSTMOBFKFPEXZUY9VBVV6WN6D&marketplace=FLIPKART&q=oneplus+mobiles&store=tyy%2F4io&srno=s_6_130&otracker=search&otracker1=search&fm=Search&iid=161bca58-a548-48ba-9ebe-57e0b07aaf5f.MOBFKFPEXZUY9VBV.SEARCH&ppt=sp&ppn=sp&qH=e742c8ea7c6998ce\"\n",
    "details(b71,headers)"
   ]
  },
  {
   "cell_type": "code",
   "execution_count": 202,
   "id": "4099d0dc",
   "metadata": {},
   "outputs": [
    {
     "name": "stdout",
     "output_type": "stream",
     "text": [
      "<Response [200]>\n",
      "['OnePlus 6T', 'or Black']\n",
      "['(Mirror Black']\n",
      "['16 MP', '20 MP', '16MP']\n",
      "['6 GB', '128 GB']\n",
      "['3700 mAh']\n",
      "['16.28 cm']\n",
      "['24', '0']\n",
      "4.5\n",
      "₹30,999\n"
     ]
    }
   ],
   "source": [
    "b72=\"https://www.flipkart.com/oneplus-6t-mirror-black-128-gb/p/itm481488ed3d219?pid=MOBFKFPZBB6JTVQD&lid=LSTMOBFKFPZBB6JTVQDL9DG4K&marketplace=FLIPKART&q=oneplus+mobiles&store=tyy%2F4io&srno=s_6_131&otracker=search&otracker1=search&fm=Search&iid=161bca58-a548-48ba-9ebe-57e0b07aaf5f.MOBFKFPZBB6JTVQD.SEARCH&ppt=sp&ppn=sp&qH=e742c8ea7c6998ce\"\n",
    "details(b72,headers)"
   ]
  },
  {
   "cell_type": "code",
   "execution_count": 203,
   "id": "83642ecf",
   "metadata": {},
   "outputs": [
    {
     "name": "stdout",
     "output_type": "stream",
     "text": [
      "<Response [200]>\n",
      "['OnePlus 6T']\n",
      "['(Midnight Black']\n",
      "['16 MP', '20 MP', '16MP']\n",
      "['8 GB', '128 GB']\n",
      "['3700 mAh']\n",
      "['16.28 cm']\n",
      "['123', '11']\n",
      "4.5\n",
      "₹31,999\n"
     ]
    }
   ],
   "source": [
    "b73=\"https://www.flipkart.com/oneplus-6t-midnight-black-128-gb/p/itm481488ed3d219?pid=MOBFKFPZZ329975G&lid=LSTMOBFKFPZZ329975GQ30DCX&marketplace=FLIPKART&q=oneplus+mobiles&store=tyy%2F4io&srno=s_6_132&otracker=search&otracker1=search&fm=Search&iid=161bca58-a548-48ba-9ebe-57e0b07aaf5f.MOBFKFPZZ329975G.SEARCH&ppt=sp&ppn=sp&qH=e742c8ea7c6998ce\"\n",
    "details(b73,headers)"
   ]
  },
  {
   "cell_type": "code",
   "execution_count": 204,
   "id": "e961b9f9",
   "metadata": {},
   "outputs": [
    {
     "name": "stdout",
     "output_type": "stream",
     "text": [
      "<Response [200]>\n",
      "['OnePlus 7 Pro', 'or Grey']\n",
      "['(Mirror Grey']\n",
      "['48 MP', '8 MP', '16 MP', '16MP']\n",
      "['6 GB', '128 GB']\n",
      "['4000 mAh']\n",
      "['16.94 cm']\n",
      "['305', '25']\n",
      "4.5\n",
      "₹41,799\n"
     ]
    }
   ],
   "source": [
    "b74=\"https://www.flipkart.com/oneplus-7-pro-mirror-grey-128-gb/p/itmbdc9c2e788399?pid=MOBFJJW3NSR3KQS4&lid=LSTMOBFJJW3NSR3KQS4V1DGV7&marketplace=FLIPKART&q=oneplus+mobiles&store=tyy%2F4io&srno=s_6_133&otracker=search&otracker1=search&fm=Search&iid=161bca58-a548-48ba-9ebe-57e0b07aaf5f.MOBFJJW3NSR3KQS4.SEARCH&ppt=sp&ppn=sp&qH=e742c8ea7c6998ce\"\n",
    "details(b74,headers)"
   ]
  },
  {
   "cell_type": "code",
   "execution_count": 205,
   "id": "70e85d05",
   "metadata": {},
   "outputs": [
    {
     "name": "stdout",
     "output_type": "stream",
     "text": [
      "<Response [200]>\n",
      "['OnePlus 7 Pro']\n",
      "['(Almond']\n",
      "['48 MP', '8 MP', '16 MP', '16MP']\n",
      "['8 GB', '256 GB']\n",
      "['4000 mAh']\n",
      "['16.94 cm']\n",
      "['1,362', '134']\n",
      "4.5\n",
      "₹44,399\n"
     ]
    }
   ],
   "source": [
    "b75=\"https://www.flipkart.com/oneplus-7-pro-almond-256-gb/p/itmbdc9c2e788399?pid=MOBFKFPEDHYDFG7U&lid=LSTMOBFKFPEDHYDFG7U1U7O7L&marketplace=FLIPKART&q=oneplus+mobiles&store=tyy%2F4io&srno=s_6_135&otracker=search&otracker1=search&fm=Search&iid=161bca58-a548-48ba-9ebe-57e0b07aaf5f.MOBFKFPEDHYDFG7U.SEARCH&ppt=sp&ppn=sp&qH=e742c8ea7c6998ce\"\n",
    "details(b75,headers)"
   ]
  },
  {
   "cell_type": "code",
   "execution_count": 206,
   "id": "c975a7ee",
   "metadata": {},
   "outputs": [
    {
     "name": "stdout",
     "output_type": "stream",
     "text": [
      "<Response [200]>\n",
      "['OnePlus 8']\n",
      "['(Interstellar Glow']\n",
      "['48MP', '2MP', '16MP']\n",
      "['12 GB', '256 GB']\n",
      "['4300 mAh']\n",
      "['16.64 cm']\n",
      "['246', '36']\n",
      "4.5\n",
      "₹49,999\n"
     ]
    }
   ],
   "source": [
    "b76=\"https://www.flipkart.com/oneplus-8-interstellar-glow-256-gb/p/itme3e11076fa5d3?pid=MOBFT8JJRKCXQHUV&lid=LSTMOBFT8JJRKCXQHUVRXVE4F&marketplace=FLIPKART&q=oneplus+mobiles&store=tyy%2F4io&srno=s_6_137&otracker=search&otracker1=search&fm=Search&iid=161bca58-a548-48ba-9ebe-57e0b07aaf5f.MOBFT8JJRKCXQHUV.SEARCH&ppt=sp&ppn=sp&qH=e742c8ea7c6998ce\"\n",
    "details(b76,headers)"
   ]
  },
  {
   "cell_type": "code",
   "execution_count": 207,
   "id": "6901e504",
   "metadata": {},
   "outputs": [
    {
     "name": "stdout",
     "output_type": "stream",
     "text": [
      "<Response [200]>\n",
      "['OnePlus 8']\n",
      "['(Glacial Green']\n",
      "['48MP', '2MP', '16MP', '16MP']\n",
      "['8 GB', '128 GB']\n",
      "['4300 mAh']\n",
      "['16.64 cm']\n",
      "['441', '57']\n",
      "4.5\n",
      "₹34,999\n"
     ]
    }
   ],
   "source": [
    "b77=\"https://www.flipkart.com/oneplus-8-glacial-green-128-gb/p/itme3e11076fa5d3?pid=MOBFRWV5CZVXJ89D&lid=LSTMOBFRWV5CZVXJ89DCIDKZU&marketplace=FLIPKART&q=oneplus+mobiles&store=tyy%2F4io&srno=s_6_143&otracker=search&otracker1=search&fm=Search&iid=161bca58-a548-48ba-9ebe-57e0b07aaf5f.MOBFRWV5CZVXJ89D.SEARCH&ppt=sp&ppn=sp&qH=e742c8ea7c6998ce\"\n",
    "details(b77,headers)"
   ]
  },
  {
   "cell_type": "code",
   "execution_count": 208,
   "id": "3a955f5a",
   "metadata": {},
   "outputs": [
    {
     "name": "stdout",
     "output_type": "stream",
     "text": [
      "<Response [200]>\n",
      "['OnePlus 8 Pro']\n",
      "['(Glacial Green']\n",
      "['48MP', '8MP', '5MP', '16MP']\n",
      "['8 GB', '128 GB']\n",
      "['4510 mAh']\n",
      "['17.22 cm']\n",
      "['16', '2']\n",
      "4.3\n",
      "₹54,999\n"
     ]
    }
   ],
   "source": [
    "b78=\"https://www.flipkart.com/oneplus-8-pro-glacial-green-128-gb/p/itmbab57a1b511c8?pid=MOBFU897ZXAH8KRN&lid=LSTMOBFU897ZXAH8KRNKJMXIS&marketplace=FLIPKART&q=oneplus+mobiles&store=tyy%2F4io&srno=s_6_144&otracker=search&otracker1=search&fm=Search&iid=161bca58-a548-48ba-9ebe-57e0b07aaf5f.MOBFU897ZXAH8KRN.SEARCH&ppt=sp&ppn=sp&qH=e742c8ea7c6998ce\"\n",
    "details(b78,headers)"
   ]
  },
  {
   "cell_type": "code",
   "execution_count": 209,
   "id": "1e1e8e04",
   "metadata": {},
   "outputs": [
    {
     "name": "stdout",
     "output_type": "stream",
     "text": [
      "['128 GB', '128 GB', '128 GB', '128 GB', '256 GB', '256 GB', '128 GB', '128 GB', '256 GB', '256 GB', '128 GB', '256 GB', '256 GB', '128 GB', '256 GB', '256 GB', '128 GB', '128 GB', '256 GB', '128 GB', '128 GB', '256 GB', '128 GB', '64 GB', '128 GB', '128 GB', '256 GB', '128 GB', '128 GB', '256 GB', '128 GB', '128 GB', '128 GB', '128 GB', '128 GB', '256 GB', '128 GB', '128 GB', '256 GB', '128 GB', '256 GB', '256 GB', '128 GB', '128 GB', '256 GB', '128 GB', '256 GB', '256 GB', '128 GB', '256 GB', '128 GB', '16 GB', '128 GB', '128 GB', '128 GB', '128 GB', '128 GB', '256 GB', '128 GB', '256 GB', '128 GB', '128 GB', '128 GB', '256 GB', '256 GB', '128 GB', '256 GB', '128 GB', '128 GB', '256 GB', '256 GB', '256 GB', '128 GB', '128 GB', '128 GB', '256 GB', '256 GB', '128 GB', '128 GB']\n",
      "['64MP', '64MP', '64MP', '64MP', '50MP', '50MP', '50MP', '50MP', '50MP', '50MP', '50MP', '50MP', '50MP', '64MP', '50MP', '50MP', '48MP', '50MP', '50MP', '64MP', '50MP', '50MP', '50MP', '50MP', '50MP', '50MP', '50MP', '50MP', '48MP', '48MP', '48MP', '64MP', '64MP', '64MP', '64MP', '48MP', '50MP', '48MP', '50MP', '50MP', '64MP', '64MP', '64MP', '50MP', '64MP', '48MP', '48MP', '48MP', '64MP', '50MP', '48MP', '13MP', '48MP', '48MP', '64MP', '64MP', '64MP', '48MP', '64MP', '48MP', '48MP', '48MP', '48MP', '50MP', '48MP', '16MP', '48 MP', '48 MP', '48MP', '48 MP', '48 MP', '16 MP', '16 MP', '16 MP', '48 MP', '48 MP', '48MP', '48MP', '48MP']\n",
      "['16MP', '16MP', '16MP', '16MP', '16MP', '16MP', '16MP', '16MP', '16MP', '16MP', '16MP', '16MP', '16MP', '16MP', '16MP', '16MP', '16MP', '16MP', '16MP', '16MP', '16MP', '16MP', '16MP', '16MP', '16MP', '16MP', '16MP', '16MP', '16MP', '16MP', '16MP', '16MP', '16MP', '16MP', '16MP', '16MP', '16MP', '16MP', '16MP', '16MP', '16MP', '16MP', '16MP', '16MP', '16MP', '16MP', '16MP', '16MP', '16MP', '16MP', '16MP', '5MP', '16MP', '16MP', '16MP', '16MP', '16MP', '16MP', '16MP', '16MP', '16MP', '16MP', '16MP', '16MP', '16MP', '16MP', '16MP', '16MP', '16MP', '16MP', '16MP', '16MP', '16MP', '16MP', '16MP', '16MP', '16MP', '16MP', '16MP']\n",
      "['[', '(Blue Tide', '[', '(Blue Tide', '[', '(Black Dusk', '[', '(Blue Tide', '[', '(Jade Fog', '[', '(Gray Shadow', '[', '(Gray Shadow', '[', '(Gray Mirror', '[', '(Jade Green', '[', '(Moonstone Black', '[', '(Sierra Black', '[', '(Forest Green', '[', '(Moonstone Black', '[', '(Black Dusk', '[', '(PAC', '[', '(Gray Shadow', '[', '(Astral Black', '[', '(Nano Silver', '[', '(Sierra Black', '[', '(Blue Tide', '[', '(Jade Fog', '[', '(Jade Fog', '[', '(Moonstone Black', '[', '(Celestial Black', '[', '(Jade Green', '[', '(Forest Green', '[', '(Sierra Black', '[', '(Gray Sierra', '[', '(Volcanic Black', '[', '(Pine Green', '[', '(Emerald Forest', '[', '(Bahama Blue', '[', '(Gray Mirror', '[', '(Bahama Blue', '[', '(Gray Mirror', '[', '(Morning Mist', '[', '(Prime Blue', '[', '(Lunar Silver', '[', '(Green Wood', '[', '(Blue Haze', '[', '(Silver Ray', '[', '(Blue Void', '[', '(Blue Tide', '[', '(Hacker Black', '[', '(Charcoal Ink', '[', '(Aquamarine Green', '[', '(Winter Mist', '[', '(Lunar Silver', '[', '(Black Dusk', '[', '(Nano Silver', '[', '(Stellar Black', '[', '(Silk White', '[', '(Lake Blue', '[', '(Carbon Black', '[', '(Blue Void', '[', '(Blue Void', '[', '(Charcoal Ink', '[', '(Volcanic Black', '[', '(Blue Void', '[', '(Onyx Black', '[', '(Glacial Green', '[', '(Glacial Green', '[', '(Onyx Black', '[', '(Hacker Black', '[', '(Arctic Sky', '[', '(Slate Gray', '[', '(Red', '[', '(Mirror Grey', '[', '(Pine Green', '[', '(Frosted Silver', '[', '(Nebula Blue', '[', '(Speed Orange', '[', '(Mirror Black', '[', '(Midnight Black', '[', '(Mirror Grey', '[', '(Almond', '[', '(Interstellar Glow', '[', '(Glacial Green', '[', '(Glacial Green']\n",
      "['OnePlus Nord CE', 'OnePlus Nord CE', 'OnePlus Nord CE', 'OnePlus Nord CE', 'OnePlus Nord 2T', 'OnePlus Nord 2T', 'OnePlus Nord 2T', 'OnePlus Nord CE', 'OnePlus 10T 5G', 'OnePlus 10T 5G', 'OnePlus 10R 5G', 'OnePlus 10R 5G', 'OnePlus 10T 5G', 'OnePlus Nord CE', 'OnePlus Nord 2', 'OnePlus Nord 2T', 'OnePlus 9 5G', 'OnePlus 9RT 5G', 'OnePlus 10R 5G', 'OnePlus Nord CE', 'OnePlus Nord 2T', 'OnePlus Nord 2T', 'OnePlus 10T 5G', 'OnePlus Nord N20', 'OnePlus 10T 5G', 'OnePlus 10R 5G', 'OnePlus 10R 5G', 'OnePlus Nord 2', 'OnePlus 10 Pro', 'OnePlus 9 Pro', 'OnePlus 10 Pro', 'OnePlus Nord CE', 'OnePlus Nord CE', 'OnePlus Nord CE', 'OnePlus Nord CE', 'OnePlus 9 Pro', 'OnePlus 10R 5G', 'OnePlus 8T 5G', 'OnePlus Nord 2', 'OnePlus Nord 2', 'OnePlus Nord CE', 'OnePlus Nord CE', 'OnePlus Nord CE2', 'OnePlus 9RT 5G', 'OnePlus Nord CE', 'OnePlus 8T 5G', 'OnePlus 9 5G', 'OnePlus 8T 5G', 'OnePlus Nord CE', 'OnePlus 9RT 5G', 'OnePlus 9 Pro', 'OnePlus One', 'OnePlus 9R 5G', 'OnePlus 9R 5G', 'OnePlus Nord CE', 'OnePlus Nord CE', 'OnePlus Nord CE', 'OnePlus 10 Pro', 'OnePlus Nord CE', 'OnePlus 8', 'OnePlus 8', 'OnePlus 8', 'OnePlus 8', 'OnePlus 9RT 5G', 'OnePlus 9 5G', 'OnePlus OnePlus 5', 'OnePlus 7', 'OnePlus 7', 'OnePlus 9 Pro', 'OnePlus 7T', 'OnePlus 7 Pro', 'OnePlus 6T', 'OnePlus 6T', 'OnePlus 6T', 'OnePlus 7 Pro', 'OnePlus 7 Pro', 'OnePlus 8', 'OnePlus 8', 'OnePlus 8 Pro']\n",
      "['6 GB', '6 GB', '6 GB', '6 GB', '12 GB', '12 GB', '8 GB', '6 GB', '12 GB', '12 GB', '8 GB', '12 GB', '16 GB', '6 GB', '12 GB', '12 GB', '8 GB', '8 GB', '12 GB', '6 GB', '8 GB', '12 GB', '8 GB', '4 GB', '8 GB', '8 GB', '12 GB', '8 GB', '8 GB', '12 GB', '8 GB', '8 GB', '8 GB', '6 GB', '6 GB', '12 GB', '8 GB', '8 GB', '12 GB', '8 GB', '12 GB', '12 GB', '8 GB', '8 GB', '12 GB', '8 GB', '12 GB', '12 GB', '8 GB', '12 GB', '8 GB', '3 GB', '8 GB', '8 GB', '8 GB', '12 GB', '6 GB', '12 GB', '6 GB', '12 GB', '6 GB', '6 GB', '8 GB', '8 GB', '12 GB', '8 GB', '8 GB', '6 GB', '8 GB', '8 GB', '12 GB', '10 GB', '6 GB', '8 GB', '6 GB', '8 GB', '12 GB', '8 GB', '8 GB']\n",
      "['5000 mAh', '5000 mAh', '5000 mAh', '5000 mAh', '4500 mAh', '4500 mAh', '4500 mAh', '4500 mAh', '4800 mAh', '4800 mAh', '5000 mAh', '5000 mAh', '4800 mAh', '5000 mAh', '4500 mAh', '4500 mAh', '4500 mAh', '4500 mAh', '4500 mAh', '5000 mAh', '4500 mAh', '4500 mAh', '4800 mAh', '5000 mAh', '4800 mAh', '5000 mAh', '5000 mAh', '4500 mAh', '5000 mAh', '4500 mAh', '5000 mAh', '4500 mAh', '4500 mAh', '4500 mAh', '4500 mAh', '4500 mAh', '5000 mAh', '4500 mAh', '4500 mAh', '4500 mAh', '4500 mAh', '4500 mAh', '5000 mAh', '4500 mAh', '4500 mAh', '4500 mAh', '4500 mAh', '4500 mAh', '5000 mAh', '4500 mAh', '4500 mAh', '3100 mAh', '4500 mAh', '4500 mAh', '4500 mAh', '4500 mAh', '4500 mAh', '5000 mAh', '4500 mAh', '4300 mAh', '4300 mAh', '4300 mAh', '4300 mAh', '4500 mAh', '4500 mAh', '3300 mAh', '3700 mAh', '3700 mAh', '4500 mAh', '3800 mAh', '4000 mAh', '3700 mAh', '3700 mAh', '3700 mAh', '4000 mAh', '4000 mAh', '4300 mAh', '4300 mAh', '4510 mAh']\n",
      "['16.74 cm', '16.74 cm', '16.74 cm', '16.74 cm', '17.02 cm', '16.94 cm', '17.02 cm', '16.33 cm', '17.02 cm', '17.02 cm', '17.02 cm', '17.02 cm', '17.02 cm', '16.74 cm', '16.33 cm', '17.02 cm', '16.64 cm', '16.81 cm', '17.02 cm', '16.74 cm', '17.02 cm', '17.02 cm', '17.02 cm', '16.66 cm', '17.02 cm', '17.02 cm', '17.02 cm', '16.33 cm', '17.02 cm', '17.02 cm', '17.02 cm', '16.33 cm', '16.33 cm', '16.33 cm', '16.33 cm', '17.02 cm', '17.02 cm', '16.64 cm', '16.33 cm', '16.33 cm', '16.33 cm', '16.33 cm', '16.74 cm', '16.81 cm', '16.33 cm', '16.64 cm', '16.64 cm', '16.64 cm', '16.74 cm', '16.81 cm', '17.02 cm', '13.97 cm', '16.64 cm', '16.64 cm', '16.33 cm', '16.33 cm', '16.33 cm', '17.02 cm', '16.33 cm', '16.64 cm', '16.64 cm', '16.64 cm', '16.64 cm', '16.81 cm', '16.64 cm', '13.97 cm', '16.28 cm', '16.28 cm', '17.02 cm', '16.64 cm', '16.94 cm', '16.28 cm', '16.28 cm', '16.28 cm', '16.94 cm', '16.94 cm', '16.64 cm', '16.64 cm', '17.22 cm']\n",
      "['₹19,825', '₹19,849', '₹19,999', '₹19,804', '₹33,971', '₹33,998', '₹28,880', '₹23,999', '₹52,675', '₹52,719', '₹35,990', '₹42,999', '₹53,749', '₹19,999', '₹37,997', '₹33,999', '₹39,949', '₹39,599', '₹38,999', '₹19,980', '₹28,999', '₹33,799', '₹49,400', '₹15,345', '₹47,249', '₹35,500', '₹40,000', '₹29,990', '₹62,999', '₹69,980', '₹61,999', '₹24,999', '₹24,995', '₹23,900', '₹23,990', '₹64,998', '₹35,499', '₹33,829', '₹33,999', '₹29,799', '₹26,999', '₹27,999', '₹21,900', '₹39,890', '₹27,900', '₹34,999', '₹41,490', '₹35,999', '₹21,880', '₹44,998', '₹48,999', '₹18,998', '₹33,990', '₹33,999', '₹25,666', '₹30,999', '₹20,999', '₹66,000', '₹22,999', '₹34,999', '₹41,999', '₹41,999', '₹44,999', '₹48,999', '₹41,997', '₹37,999', '₹31,990', '₹32,990', '₹49,999', '₹38,999', '₹50,348', '₹39,999', '₹30,999', '₹31,999', '₹41,799', '₹44,399', '₹49,999', '₹34,999', '₹54,999']\n",
      "['4.4', '4.4', '4.4', '4.4', '4.4', '4.4', '4.4', '4.3', '4.2', '4.2', '4.3', '4.2', '4.3', '4.4', '4.4', '4.4', '3.9', '4.3', '4.2', '4.4', '4.4', '4.4', '4.3', '5', '4.3', '4.3', '4.2', '4.4', '4.2', '3.9', '4.2', '4.4', '4.4', '4.3', '4.3', '3.9', '4.3', '4.4', '4.4', '4.4', '4.4', '4.4', '4.4', '4.3', '4.4', '4.4', '4', '3', '4.3', '4.1', '4.4', '4.4', '3.8', '3.8', '3.4', '4.4', '4', '3.6', '4', '4.5', '3.4', '3.4', '4.5', '4.3', '4', '4.5', '4.6', '4.6', '3.9', '4.6', '4.6', '4.2', '4.5', '4.5', '4.5', '4.5', '4.5', '4.5', '4.3']\n",
      "['31,678', '31,678', '31,678', '31,678', '1,453', '1,453', '3,822', '351', '37', '37', '1,115', '574', '6', '31,678', '157', '1,453', '276', '469', '574', '31,678', '3,822', '1,453', '80', '4', '80', '1,115', '574', '1,767', '80', '185', '80', '2,031', '2,031', '351', '351', '185', '1,115', '127', '157', '1,767', '27', '27', '592', '469', '27', '127', '231', '5', '3,293', '242', '149', '3,662', '26', '26', '28', '27', '4', '66', '4', '246', '23', '23', '441', '469', '231', '393', '2,716', '3,679', '67', '9,593', '104', '41', '24', '123', '305', '1,362', '246', '441', '16']\n"
     ]
    }
   ],
   "source": [
    "print(storage)\n",
    "print(camera_px)\n",
    "print(self_px)\n",
    "print(colour)\n",
    "print(name)\n",
    "print(ram)\n",
    "# print(tech)\n",
    "print(battery)\n",
    "print(display)\n",
    "print(price)\n",
    "# print(os_sys)\n",
    "print(star_rate)\n",
    "print(user_rate)"
   ]
  },
  {
   "cell_type": "code",
   "execution_count": 210,
   "id": "7bf53a96",
   "metadata": {},
   "outputs": [],
   "source": [
    "colour=[i for i in colour if i!='[']"
   ]
  },
  {
   "cell_type": "code",
   "execution_count": 211,
   "id": "8882e9cd",
   "metadata": {},
   "outputs": [
    {
     "data": {
      "text/plain": [
       "79"
      ]
     },
     "execution_count": 211,
     "metadata": {},
     "output_type": "execute_result"
    }
   ],
   "source": [
    "len(colour)"
   ]
  },
  {
   "cell_type": "code",
   "execution_count": 212,
   "id": "534b47e7",
   "metadata": {},
   "outputs": [],
   "source": [
    "camera_px=[i.replace(\"MP\",\"\") for i in camera_px]"
   ]
  },
  {
   "cell_type": "code",
   "execution_count": 213,
   "id": "33f8a26a",
   "metadata": {},
   "outputs": [],
   "source": [
    "self_px=[i.replace(\"MP\",\"\") for i in self_px]"
   ]
  },
  {
   "cell_type": "code",
   "execution_count": 214,
   "id": "7b27fac8",
   "metadata": {},
   "outputs": [],
   "source": [
    "storage=[i.replace(\"GB\",\" \") for i in storage]"
   ]
  },
  {
   "cell_type": "code",
   "execution_count": 215,
   "id": "f7f820eb",
   "metadata": {},
   "outputs": [],
   "source": [
    "ram=[i.replace(\"GB\",\" \") for i in ram]"
   ]
  },
  {
   "cell_type": "code",
   "execution_count": 216,
   "id": "c43b9f5e",
   "metadata": {},
   "outputs": [],
   "source": [
    "battery=[i.replace(\"mAH\",\"\") for i in battery]\n",
    "battery=[i.replace(\"mAh\",\"\") for i in battery]"
   ]
  },
  {
   "cell_type": "code",
   "execution_count": 217,
   "id": "6780990f",
   "metadata": {},
   "outputs": [],
   "source": [
    "colour=[i.replace(\"(\",\"\") for i in colour]\n"
   ]
  },
  {
   "cell_type": "code",
   "execution_count": 218,
   "id": "8838e320",
   "metadata": {},
   "outputs": [],
   "source": [
    "price=[i.replace(\"₹\",\"\") for i in price]\n",
    "price=[i.replace(\",\",\"\") for i in price]"
   ]
  },
  {
   "cell_type": "code",
   "execution_count": 219,
   "id": "0221954d",
   "metadata": {},
   "outputs": [],
   "source": [
    "display=[i.replace(\" cm\",\"\") for i in display]"
   ]
  },
  {
   "cell_type": "code",
   "execution_count": 220,
   "id": "5f9c28aa",
   "metadata": {},
   "outputs": [],
   "source": [
    "user_rate=[i.replace(\",\",\"\") for i in user_rate]"
   ]
  },
  {
   "cell_type": "code",
   "execution_count": 221,
   "id": "38ffbd57",
   "metadata": {},
   "outputs": [],
   "source": [
    "storage=[float(i) for i in storage]\n",
    "camera_px=[int(i) for i in camera_px]\n",
    "self_px=[int(i) for i in self_px]\n",
    "ram=[float(i) for i in ram]\n",
    "# tech=[float(i) for i in tech]\n",
    "battery=[float(i) for i in battery]\n",
    "display=[float(i) for i in display]\n",
    "price=[float(i) for i in price]\n",
    "star_rate=[float(i) for i in star_rate]\n",
    "user_rate=[float(i) for i in user_rate]"
   ]
  },
  {
   "cell_type": "code",
   "execution_count": 226,
   "id": "ebb42222",
   "metadata": {},
   "outputs": [],
   "source": [
    "r1=pd.DataFrame({\"Name\":name,\"Colour\":colour,\"Storage\":storage,\"Battery\":battery,\n",
    "               \"Camera_Pixel\":camera_px,\"Selfie_cam_pixel\":self_px,\"Display_size\":display,\n",
    "                \"RAM\":ram,\n",
    "               \"Star_ratings\":star_rate,\"Users_rated\":user_rate,\"Price\":price})"
   ]
  },
  {
   "cell_type": "code",
   "execution_count": 227,
   "id": "3d928a3d",
   "metadata": {},
   "outputs": [
    {
     "data": {
      "text/html": [
       "<div>\n",
       "<style scoped>\n",
       "    .dataframe tbody tr th:only-of-type {\n",
       "        vertical-align: middle;\n",
       "    }\n",
       "\n",
       "    .dataframe tbody tr th {\n",
       "        vertical-align: top;\n",
       "    }\n",
       "\n",
       "    .dataframe thead th {\n",
       "        text-align: right;\n",
       "    }\n",
       "</style>\n",
       "<table border=\"1\" class=\"dataframe\">\n",
       "  <thead>\n",
       "    <tr style=\"text-align: right;\">\n",
       "      <th></th>\n",
       "      <th>Name</th>\n",
       "      <th>Colour</th>\n",
       "      <th>Storage</th>\n",
       "      <th>Battery</th>\n",
       "      <th>Camera_Pixel</th>\n",
       "      <th>Selfie_cam_pixel</th>\n",
       "      <th>Display_size</th>\n",
       "      <th>RAM</th>\n",
       "      <th>Star_ratings</th>\n",
       "      <th>Users_rated</th>\n",
       "      <th>Price</th>\n",
       "    </tr>\n",
       "  </thead>\n",
       "  <tbody>\n",
       "    <tr>\n",
       "      <th>0</th>\n",
       "      <td>OnePlus Nord CE</td>\n",
       "      <td>Blue Tide</td>\n",
       "      <td>128.0</td>\n",
       "      <td>5000.0</td>\n",
       "      <td>64</td>\n",
       "      <td>16</td>\n",
       "      <td>16.74</td>\n",
       "      <td>6.0</td>\n",
       "      <td>4.4</td>\n",
       "      <td>31678.0</td>\n",
       "      <td>19825.0</td>\n",
       "    </tr>\n",
       "    <tr>\n",
       "      <th>1</th>\n",
       "      <td>OnePlus Nord CE</td>\n",
       "      <td>Blue Tide</td>\n",
       "      <td>128.0</td>\n",
       "      <td>5000.0</td>\n",
       "      <td>64</td>\n",
       "      <td>16</td>\n",
       "      <td>16.74</td>\n",
       "      <td>6.0</td>\n",
       "      <td>4.4</td>\n",
       "      <td>31678.0</td>\n",
       "      <td>19849.0</td>\n",
       "    </tr>\n",
       "    <tr>\n",
       "      <th>2</th>\n",
       "      <td>OnePlus Nord CE</td>\n",
       "      <td>Black Dusk</td>\n",
       "      <td>128.0</td>\n",
       "      <td>5000.0</td>\n",
       "      <td>64</td>\n",
       "      <td>16</td>\n",
       "      <td>16.74</td>\n",
       "      <td>6.0</td>\n",
       "      <td>4.4</td>\n",
       "      <td>31678.0</td>\n",
       "      <td>19999.0</td>\n",
       "    </tr>\n",
       "    <tr>\n",
       "      <th>3</th>\n",
       "      <td>OnePlus Nord CE</td>\n",
       "      <td>Blue Tide</td>\n",
       "      <td>128.0</td>\n",
       "      <td>5000.0</td>\n",
       "      <td>64</td>\n",
       "      <td>16</td>\n",
       "      <td>16.74</td>\n",
       "      <td>6.0</td>\n",
       "      <td>4.4</td>\n",
       "      <td>31678.0</td>\n",
       "      <td>19804.0</td>\n",
       "    </tr>\n",
       "    <tr>\n",
       "      <th>4</th>\n",
       "      <td>OnePlus Nord 2T</td>\n",
       "      <td>Jade Fog</td>\n",
       "      <td>256.0</td>\n",
       "      <td>4500.0</td>\n",
       "      <td>50</td>\n",
       "      <td>16</td>\n",
       "      <td>17.02</td>\n",
       "      <td>12.0</td>\n",
       "      <td>4.4</td>\n",
       "      <td>1453.0</td>\n",
       "      <td>33971.0</td>\n",
       "    </tr>\n",
       "    <tr>\n",
       "      <th>...</th>\n",
       "      <td>...</td>\n",
       "      <td>...</td>\n",
       "      <td>...</td>\n",
       "      <td>...</td>\n",
       "      <td>...</td>\n",
       "      <td>...</td>\n",
       "      <td>...</td>\n",
       "      <td>...</td>\n",
       "      <td>...</td>\n",
       "      <td>...</td>\n",
       "      <td>...</td>\n",
       "    </tr>\n",
       "    <tr>\n",
       "      <th>74</th>\n",
       "      <td>OnePlus 7 Pro</td>\n",
       "      <td>Mirror Grey</td>\n",
       "      <td>128.0</td>\n",
       "      <td>4000.0</td>\n",
       "      <td>48</td>\n",
       "      <td>16</td>\n",
       "      <td>16.94</td>\n",
       "      <td>6.0</td>\n",
       "      <td>4.5</td>\n",
       "      <td>305.0</td>\n",
       "      <td>41799.0</td>\n",
       "    </tr>\n",
       "    <tr>\n",
       "      <th>75</th>\n",
       "      <td>OnePlus 7 Pro</td>\n",
       "      <td>Almond</td>\n",
       "      <td>256.0</td>\n",
       "      <td>4000.0</td>\n",
       "      <td>48</td>\n",
       "      <td>16</td>\n",
       "      <td>16.94</td>\n",
       "      <td>8.0</td>\n",
       "      <td>4.5</td>\n",
       "      <td>1362.0</td>\n",
       "      <td>44399.0</td>\n",
       "    </tr>\n",
       "    <tr>\n",
       "      <th>76</th>\n",
       "      <td>OnePlus 8</td>\n",
       "      <td>Interstellar Glow</td>\n",
       "      <td>256.0</td>\n",
       "      <td>4300.0</td>\n",
       "      <td>48</td>\n",
       "      <td>16</td>\n",
       "      <td>16.64</td>\n",
       "      <td>12.0</td>\n",
       "      <td>4.5</td>\n",
       "      <td>246.0</td>\n",
       "      <td>49999.0</td>\n",
       "    </tr>\n",
       "    <tr>\n",
       "      <th>77</th>\n",
       "      <td>OnePlus 8</td>\n",
       "      <td>Glacial Green</td>\n",
       "      <td>128.0</td>\n",
       "      <td>4300.0</td>\n",
       "      <td>48</td>\n",
       "      <td>16</td>\n",
       "      <td>16.64</td>\n",
       "      <td>8.0</td>\n",
       "      <td>4.5</td>\n",
       "      <td>441.0</td>\n",
       "      <td>34999.0</td>\n",
       "    </tr>\n",
       "    <tr>\n",
       "      <th>78</th>\n",
       "      <td>OnePlus 8 Pro</td>\n",
       "      <td>Glacial Green</td>\n",
       "      <td>128.0</td>\n",
       "      <td>4510.0</td>\n",
       "      <td>48</td>\n",
       "      <td>16</td>\n",
       "      <td>17.22</td>\n",
       "      <td>8.0</td>\n",
       "      <td>4.3</td>\n",
       "      <td>16.0</td>\n",
       "      <td>54999.0</td>\n",
       "    </tr>\n",
       "  </tbody>\n",
       "</table>\n",
       "<p>79 rows × 11 columns</p>\n",
       "</div>"
      ],
      "text/plain": [
       "               Name             Colour  Storage  Battery  Camera_Pixel  \\\n",
       "0   OnePlus Nord CE          Blue Tide    128.0   5000.0            64   \n",
       "1   OnePlus Nord CE          Blue Tide    128.0   5000.0            64   \n",
       "2   OnePlus Nord CE         Black Dusk    128.0   5000.0            64   \n",
       "3   OnePlus Nord CE          Blue Tide    128.0   5000.0            64   \n",
       "4   OnePlus Nord 2T           Jade Fog    256.0   4500.0            50   \n",
       "..              ...                ...      ...      ...           ...   \n",
       "74    OnePlus 7 Pro        Mirror Grey    128.0   4000.0            48   \n",
       "75    OnePlus 7 Pro             Almond    256.0   4000.0            48   \n",
       "76        OnePlus 8  Interstellar Glow    256.0   4300.0            48   \n",
       "77        OnePlus 8      Glacial Green    128.0   4300.0            48   \n",
       "78    OnePlus 8 Pro      Glacial Green    128.0   4510.0            48   \n",
       "\n",
       "    Selfie_cam_pixel  Display_size   RAM  Star_ratings  Users_rated    Price  \n",
       "0                 16         16.74   6.0           4.4      31678.0  19825.0  \n",
       "1                 16         16.74   6.0           4.4      31678.0  19849.0  \n",
       "2                 16         16.74   6.0           4.4      31678.0  19999.0  \n",
       "3                 16         16.74   6.0           4.4      31678.0  19804.0  \n",
       "4                 16         17.02  12.0           4.4       1453.0  33971.0  \n",
       "..               ...           ...   ...           ...          ...      ...  \n",
       "74                16         16.94   6.0           4.5        305.0  41799.0  \n",
       "75                16         16.94   8.0           4.5       1362.0  44399.0  \n",
       "76                16         16.64  12.0           4.5        246.0  49999.0  \n",
       "77                16         16.64   8.0           4.5        441.0  34999.0  \n",
       "78                16         17.22   8.0           4.3         16.0  54999.0  \n",
       "\n",
       "[79 rows x 11 columns]"
      ]
     },
     "execution_count": 227,
     "metadata": {},
     "output_type": "execute_result"
    }
   ],
   "source": [
    "r1"
   ]
  },
  {
   "cell_type": "code",
   "execution_count": 228,
   "id": "bf6d526f",
   "metadata": {},
   "outputs": [
    {
     "data": {
      "text/plain": [
       "2"
      ]
     },
     "execution_count": 228,
     "metadata": {},
     "output_type": "execute_result"
    }
   ],
   "source": [
    "r1.duplicated().sum()"
   ]
  },
  {
   "cell_type": "code",
   "execution_count": 230,
   "id": "8844f2a0",
   "metadata": {},
   "outputs": [
    {
     "data": {
      "text/html": [
       "<div>\n",
       "<style scoped>\n",
       "    .dataframe tbody tr th:only-of-type {\n",
       "        vertical-align: middle;\n",
       "    }\n",
       "\n",
       "    .dataframe tbody tr th {\n",
       "        vertical-align: top;\n",
       "    }\n",
       "\n",
       "    .dataframe thead th {\n",
       "        text-align: right;\n",
       "    }\n",
       "</style>\n",
       "<table border=\"1\" class=\"dataframe\">\n",
       "  <thead>\n",
       "    <tr style=\"text-align: right;\">\n",
       "      <th></th>\n",
       "      <th>Name</th>\n",
       "      <th>Colour</th>\n",
       "      <th>Storage</th>\n",
       "      <th>Battery</th>\n",
       "      <th>Camera_Pixel</th>\n",
       "      <th>Selfie_cam_pixel</th>\n",
       "      <th>Display_size</th>\n",
       "      <th>RAM</th>\n",
       "      <th>Star_ratings</th>\n",
       "      <th>Users_rated</th>\n",
       "      <th>Price</th>\n",
       "    </tr>\n",
       "  </thead>\n",
       "  <tbody>\n",
       "    <tr>\n",
       "      <th>0</th>\n",
       "      <td>OnePlus Nord CE</td>\n",
       "      <td>Blue Tide</td>\n",
       "      <td>128.0</td>\n",
       "      <td>5000.0</td>\n",
       "      <td>64</td>\n",
       "      <td>16</td>\n",
       "      <td>16.74</td>\n",
       "      <td>6.0</td>\n",
       "      <td>4.4</td>\n",
       "      <td>31678.0</td>\n",
       "      <td>19825.0</td>\n",
       "    </tr>\n",
       "    <tr>\n",
       "      <th>1</th>\n",
       "      <td>OnePlus Nord CE</td>\n",
       "      <td>Blue Tide</td>\n",
       "      <td>128.0</td>\n",
       "      <td>5000.0</td>\n",
       "      <td>64</td>\n",
       "      <td>16</td>\n",
       "      <td>16.74</td>\n",
       "      <td>6.0</td>\n",
       "      <td>4.4</td>\n",
       "      <td>31678.0</td>\n",
       "      <td>19849.0</td>\n",
       "    </tr>\n",
       "    <tr>\n",
       "      <th>2</th>\n",
       "      <td>OnePlus Nord CE</td>\n",
       "      <td>Black Dusk</td>\n",
       "      <td>128.0</td>\n",
       "      <td>5000.0</td>\n",
       "      <td>64</td>\n",
       "      <td>16</td>\n",
       "      <td>16.74</td>\n",
       "      <td>6.0</td>\n",
       "      <td>4.4</td>\n",
       "      <td>31678.0</td>\n",
       "      <td>19999.0</td>\n",
       "    </tr>\n",
       "    <tr>\n",
       "      <th>3</th>\n",
       "      <td>OnePlus Nord CE</td>\n",
       "      <td>Blue Tide</td>\n",
       "      <td>128.0</td>\n",
       "      <td>5000.0</td>\n",
       "      <td>64</td>\n",
       "      <td>16</td>\n",
       "      <td>16.74</td>\n",
       "      <td>6.0</td>\n",
       "      <td>4.4</td>\n",
       "      <td>31678.0</td>\n",
       "      <td>19804.0</td>\n",
       "    </tr>\n",
       "    <tr>\n",
       "      <th>4</th>\n",
       "      <td>OnePlus Nord 2T</td>\n",
       "      <td>Jade Fog</td>\n",
       "      <td>256.0</td>\n",
       "      <td>4500.0</td>\n",
       "      <td>50</td>\n",
       "      <td>16</td>\n",
       "      <td>17.02</td>\n",
       "      <td>12.0</td>\n",
       "      <td>4.4</td>\n",
       "      <td>1453.0</td>\n",
       "      <td>33971.0</td>\n",
       "    </tr>\n",
       "    <tr>\n",
       "      <th>...</th>\n",
       "      <td>...</td>\n",
       "      <td>...</td>\n",
       "      <td>...</td>\n",
       "      <td>...</td>\n",
       "      <td>...</td>\n",
       "      <td>...</td>\n",
       "      <td>...</td>\n",
       "      <td>...</td>\n",
       "      <td>...</td>\n",
       "      <td>...</td>\n",
       "      <td>...</td>\n",
       "    </tr>\n",
       "    <tr>\n",
       "      <th>74</th>\n",
       "      <td>OnePlus 7 Pro</td>\n",
       "      <td>Mirror Grey</td>\n",
       "      <td>128.0</td>\n",
       "      <td>4000.0</td>\n",
       "      <td>48</td>\n",
       "      <td>16</td>\n",
       "      <td>16.94</td>\n",
       "      <td>6.0</td>\n",
       "      <td>4.5</td>\n",
       "      <td>305.0</td>\n",
       "      <td>41799.0</td>\n",
       "    </tr>\n",
       "    <tr>\n",
       "      <th>75</th>\n",
       "      <td>OnePlus 7 Pro</td>\n",
       "      <td>Almond</td>\n",
       "      <td>256.0</td>\n",
       "      <td>4000.0</td>\n",
       "      <td>48</td>\n",
       "      <td>16</td>\n",
       "      <td>16.94</td>\n",
       "      <td>8.0</td>\n",
       "      <td>4.5</td>\n",
       "      <td>1362.0</td>\n",
       "      <td>44399.0</td>\n",
       "    </tr>\n",
       "    <tr>\n",
       "      <th>76</th>\n",
       "      <td>OnePlus 8</td>\n",
       "      <td>Interstellar Glow</td>\n",
       "      <td>256.0</td>\n",
       "      <td>4300.0</td>\n",
       "      <td>48</td>\n",
       "      <td>16</td>\n",
       "      <td>16.64</td>\n",
       "      <td>12.0</td>\n",
       "      <td>4.5</td>\n",
       "      <td>246.0</td>\n",
       "      <td>49999.0</td>\n",
       "    </tr>\n",
       "    <tr>\n",
       "      <th>77</th>\n",
       "      <td>OnePlus 8</td>\n",
       "      <td>Glacial Green</td>\n",
       "      <td>128.0</td>\n",
       "      <td>4300.0</td>\n",
       "      <td>48</td>\n",
       "      <td>16</td>\n",
       "      <td>16.64</td>\n",
       "      <td>8.0</td>\n",
       "      <td>4.5</td>\n",
       "      <td>441.0</td>\n",
       "      <td>34999.0</td>\n",
       "    </tr>\n",
       "    <tr>\n",
       "      <th>78</th>\n",
       "      <td>OnePlus 8 Pro</td>\n",
       "      <td>Glacial Green</td>\n",
       "      <td>128.0</td>\n",
       "      <td>4510.0</td>\n",
       "      <td>48</td>\n",
       "      <td>16</td>\n",
       "      <td>17.22</td>\n",
       "      <td>8.0</td>\n",
       "      <td>4.3</td>\n",
       "      <td>16.0</td>\n",
       "      <td>54999.0</td>\n",
       "    </tr>\n",
       "  </tbody>\n",
       "</table>\n",
       "<p>77 rows × 11 columns</p>\n",
       "</div>"
      ],
      "text/plain": [
       "               Name             Colour  Storage  Battery  Camera_Pixel  \\\n",
       "0   OnePlus Nord CE          Blue Tide    128.0   5000.0            64   \n",
       "1   OnePlus Nord CE          Blue Tide    128.0   5000.0            64   \n",
       "2   OnePlus Nord CE         Black Dusk    128.0   5000.0            64   \n",
       "3   OnePlus Nord CE          Blue Tide    128.0   5000.0            64   \n",
       "4   OnePlus Nord 2T           Jade Fog    256.0   4500.0            50   \n",
       "..              ...                ...      ...      ...           ...   \n",
       "74    OnePlus 7 Pro        Mirror Grey    128.0   4000.0            48   \n",
       "75    OnePlus 7 Pro             Almond    256.0   4000.0            48   \n",
       "76        OnePlus 8  Interstellar Glow    256.0   4300.0            48   \n",
       "77        OnePlus 8      Glacial Green    128.0   4300.0            48   \n",
       "78    OnePlus 8 Pro      Glacial Green    128.0   4510.0            48   \n",
       "\n",
       "    Selfie_cam_pixel  Display_size   RAM  Star_ratings  Users_rated    Price  \n",
       "0                 16         16.74   6.0           4.4      31678.0  19825.0  \n",
       "1                 16         16.74   6.0           4.4      31678.0  19849.0  \n",
       "2                 16         16.74   6.0           4.4      31678.0  19999.0  \n",
       "3                 16         16.74   6.0           4.4      31678.0  19804.0  \n",
       "4                 16         17.02  12.0           4.4       1453.0  33971.0  \n",
       "..               ...           ...   ...           ...          ...      ...  \n",
       "74                16         16.94   6.0           4.5        305.0  41799.0  \n",
       "75                16         16.94   8.0           4.5       1362.0  44399.0  \n",
       "76                16         16.64  12.0           4.5        246.0  49999.0  \n",
       "77                16         16.64   8.0           4.5        441.0  34999.0  \n",
       "78                16         17.22   8.0           4.3         16.0  54999.0  \n",
       "\n",
       "[77 rows x 11 columns]"
      ]
     },
     "execution_count": 230,
     "metadata": {},
     "output_type": "execute_result"
    }
   ],
   "source": [
    "r1.drop_duplicates()"
   ]
  },
  {
   "cell_type": "code",
   "execution_count": 231,
   "id": "8c82cac5",
   "metadata": {},
   "outputs": [],
   "source": [
    "r1.to_csv(\"oneplus_flipkart.csv\")"
   ]
  },
  {
   "cell_type": "code",
   "execution_count": null,
   "id": "d83eeecd",
   "metadata": {},
   "outputs": [],
   "source": []
  }
 ],
 "metadata": {
  "kernelspec": {
   "display_name": "Python 3 (ipykernel)",
   "language": "python",
   "name": "python3"
  },
  "language_info": {
   "codemirror_mode": {
    "name": "ipython",
    "version": 3
   },
   "file_extension": ".py",
   "mimetype": "text/x-python",
   "name": "python",
   "nbconvert_exporter": "python",
   "pygments_lexer": "ipython3",
   "version": "3.9.12"
  }
 },
 "nbformat": 4,
 "nbformat_minor": 5
}
