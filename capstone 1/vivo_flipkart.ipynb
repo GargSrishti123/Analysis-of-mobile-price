{
 "cells": [
  {
   "cell_type": "code",
   "execution_count": 125,
   "id": "00f09d5f",
   "metadata": {},
   "outputs": [],
   "source": [
    "import re\n",
    "import requests\n",
    "from bs4 import BeautifulSoup\n",
    "import pandas as pd"
   ]
  },
  {
   "cell_type": "code",
   "execution_count": 126,
   "id": "04211fb0",
   "metadata": {},
   "outputs": [],
   "source": [
    "headers={\"User-Agent\": \"Mozilla/5.0 (Windows NT 10.0; Win64; x64) AppleWebKit/537.36 (KHTML, like Gecko) Chrome/106.0.0.0 Safari/537.36\"}"
   ]
  },
  {
   "cell_type": "code",
   "execution_count": 3,
   "id": "5865e222",
   "metadata": {},
   "outputs": [
    {
     "name": "stdout",
     "output_type": "stream",
     "text": [
      "<Response [200]>\n",
      "['vivo T1']\n",
      "['(Starlight Black']\n",
      "['50MP', '2MP', '2MP', '16MP']\n",
      "['6 GB', '128 GB']\n",
      "['5000 mAh']\n",
      "['16.71 cm']\n",
      "['1,42', ',172', '11,881']\n",
      "4.4\n",
      "₹16,990\n"
     ]
    }
   ],
   "source": [
    "url=\"https://www.flipkart.com/vivo-t1-5g-starlight-black-128-gb/p/itm594222523bd8f?pid=MOBGB9TYF7P7RNYX&lid=LSTMOBGB9TYF7P7RNYX6YSAFM&marketplace=FLIPKART&q=vivo+mobiles&store=tyy%2F4io&srno=s_1_1&otracker=search&otracker1=search&fm=Search&iid=a21115cb-9b8a-416d-862f-bc4d57054d9f.MOBGB9TYF7P7RNYX.SEARCH&ppt=sp&ppn=sp&ssid=ev6boxo4ww0000001668696133093&qH=278bf4990ddc16ab\"\n",
    "res=requests.get(url,headers=headers)\n",
    "print(res)\n",
    "a=BeautifulSoup(res.content,\"html.parser\")\n",
    "b=a.find(\"span\",attrs={\"class\":\"B_NuCI\"})\n",
    "c=b.text\n",
    "d=r'[v,V][A-Za-z]+\\s?[A-Za-z0-9]+'\n",
    "e=re.findall(d,c)\n",
    "print(e)\n",
    "f=r'[(][A-Za-z]+\\s?[A-Za-z]+'\n",
    "g=re.findall(f,c)\n",
    "print(g)\n",
    "\n",
    "h=a.find(\"div\",attrs={\"class\":\"_2418kt\"})\n",
    "i=h.text\n",
    "j=r'[0-9]+\\s?[M][P]+'\n",
    "k=re.findall(j,i)\n",
    "print(k)\n",
    "l=r'[0-9]+\\s?[G][B]+'\n",
    "m=re.findall(l,i)\n",
    "print(m)\n",
    "n=r'[0-9]+\\s?[m,M][A][H,h]'\n",
    "o=re.findall(n,i)\n",
    "print(o)\n",
    "p=r'[0-9]+\\.[0-9]+\\s?[c,C][m,entimeters]+'\n",
    "q=re.findall(p,i)\n",
    "print(q)\n",
    "r=a.find(\"span\",attrs={\"class\":\"_2_R_DZ\"})\n",
    "s=r.text\n",
    "use=r'[0-9]*[,]*[0-9]+'\n",
    "uss=re.findall(use,s)\n",
    "print(uss)\n",
    "t=a.find(\"span\",attrs={\"class\":\"_1lRcqv\"})\n",
    "u=t.text\n",
    "print(u)\n",
    "v=a.find(\"div\",attrs={\"class\":\"_30jeq3 _16Jk6d\"})\n",
    "w=v.text\n",
    "print(w)\n"
   ]
  },
  {
   "cell_type": "code",
   "execution_count": 127,
   "id": "e31e0ba3",
   "metadata": {},
   "outputs": [],
   "source": [
    "def details(url,headers):\n",
    "    res=requests.get(url,headers=headers)\n",
    "    print(res)\n",
    "    a=BeautifulSoup(res.content,\"html.parser\")\n",
    "    b=a.find(\"span\",attrs={\"class\":\"B_NuCI\"})\n",
    "    c=b.text\n",
    "    d=r'[v,V][A-Za-z]+\\s?[A-Za-z0-9]+'\n",
    "    e=re.findall(d,c)\n",
    "    print(e)\n",
    "    f=r'[(][A-Za-z]+\\s?[A-Za-z]+'\n",
    "    g=re.findall(f,c)\n",
    "    print(g)\n",
    "\n",
    "    h=a.find(\"div\",attrs={\"class\":\"_2418kt\"})\n",
    "    i=h.text\n",
    "    j=r'[0-9]+\\s?[M][P]+'\n",
    "    k=re.findall(j,i)\n",
    "    print(k)\n",
    "    l=r'[0-9]+\\s?[G][B]+'\n",
    "    m=re.findall(l,i)\n",
    "    print(m)\n",
    "    n=r'[0-9]+\\s?[m,M][A][H,h]'\n",
    "    o=re.findall(n,i)\n",
    "    print(o)\n",
    "    p=r'[0-9]+\\.[0-9]+\\s?[c,C][m,entimeters]+'\n",
    "    q=re.findall(p,i)\n",
    "    print(q)\n",
    "    r=a.find(\"span\",attrs={\"class\":\"_2_R_DZ\"})\n",
    "    s=r.text\n",
    "    use=r'[0-9]*[,]*[0-9]+'\n",
    "    uss=re.findall(use,s)\n",
    "    print(uss)\n",
    "    t=a.find(\"span\",attrs={\"class\":\"_1lRcqv\"})\n",
    "    u=t.text\n",
    "    print(u)\n",
    "    v=a.find(\"div\",attrs={\"class\":\"_30jeq3 _16Jk6d\"})\n",
    "    w=v.text\n",
    "    print(w)\n",
    "    colour.append(f[0])\n",
    "    \n",
    "    \n",
    "    name.append(e[0])\n",
    "    colour.append(g[0])\n",
    "    camera_px.append(k[0])\n",
    "    self_px.append(k[-1])\n",
    "    ram.append(m[0])\n",
    "    storage.append(m[1])\n",
    "    battery.append(o[0])\n",
    "    display.append(q[0])\n",
    "    user_rate.append(uss[0])\n",
    "    star_rate.append(u)\n",
    "    price.append(w)\n",
    "    \n",
    "\n",
    "    "
   ]
  },
  {
   "cell_type": "code",
   "execution_count": 128,
   "id": "462fbc8d",
   "metadata": {},
   "outputs": [],
   "source": [
    "name=[]\n",
    "colour=[]\n",
    "camera_px=[]\n",
    "self_px=[]\n",
    "battery=[]\n",
    "ram=[]\n",
    "storage=[]\n",
    "display=[]\n",
    "user_rate=[]\n",
    "star_rate=[]\n",
    "price=[]"
   ]
  },
  {
   "cell_type": "code",
   "execution_count": 129,
   "id": "b5a998d3",
   "metadata": {},
   "outputs": [
    {
     "name": "stdout",
     "output_type": "stream",
     "text": [
      "<Response [200]>\n",
      "['vivo T1']\n",
      "['(Starlight Black']\n",
      "['50MP', '2MP', '2MP', '16MP']\n",
      "['6 GB', '128 GB']\n",
      "['5000 mAh']\n",
      "['16.71 cm']\n",
      "['1,42', ',172', '11,881']\n",
      "4.4\n",
      "₹16,990\n"
     ]
    }
   ],
   "source": [
    "b=\"https://www.flipkart.com/vivo-t1-5g-starlight-black-128-gb/p/itm594222523bd8f?pid=MOBGB9TYF7P7RNYX&lid=LSTMOBGB9TYF7P7RNYX6YSAFM&marketplace=FLIPKART&q=vivo+mobiles&store=tyy%2F4io&srno=s_1_1&otracker=search&otracker1=search&fm=Search&iid=a21115cb-9b8a-416d-862f-bc4d57054d9f.MOBGB9TYF7P7RNYX.SEARCH&ppt=sp&ppn=sp&ssid=ev6boxo4ww0000001668696133093&qH=278bf4990ddc16ab\"\n",
    "details(b,headers)"
   ]
  },
  {
   "cell_type": "code",
   "execution_count": 130,
   "id": "c6ca93e2",
   "metadata": {},
   "outputs": [
    {
     "name": "stdout",
     "output_type": "stream",
     "text": [
      "<Response [200]>\n",
      "['vivo T1']\n",
      "['(Starry Sky']\n",
      "['50MP', '2MP', '2MP', '16MP']\n",
      "['4 GB', '128 GB']\n",
      "['5000 mAh']\n",
      "['16.36 cm']\n",
      "['63,308', '4,672']\n",
      "4.4\n",
      "₹14,499\n"
     ]
    }
   ],
   "source": [
    "b1=\"https://www.flipkart.com/vivo-t1-44w-starry-sky-128-gb/p/itm2a08ebbea3689?pid=MOBGDRHVHNBBBBP5&lid=LSTMOBGDRHVHNBBBBP5SY2MJL&marketplace=FLIPKART&q=vivo+mobiles&store=tyy%2F4io&srno=s_1_2&otracker=search&otracker1=search&fm=Search&iid=a21115cb-9b8a-416d-862f-bc4d57054d9f.MOBGDRHVHNBBBBP5.SEARCH&ppt=sp&ppn=sp&ssid=ev6boxo4ww0000001668696133093&qH=278bf4990ddc16ab\"\n",
    "details(b1,headers)"
   ]
  },
  {
   "cell_type": "code",
   "execution_count": 131,
   "id": "563a632c",
   "metadata": {},
   "outputs": [
    {
     "name": "stdout",
     "output_type": "stream",
     "text": [
      "<Response [200]>\n",
      "['vivo T1']\n",
      "['(Midnight Galaxy']\n",
      "['50MP', '2MP', '2MP', '16MP']\n",
      "['4 GB', '128 GB']\n",
      "['5000 mAh']\n",
      "['16.36 cm']\n",
      "['63,308', '4,672']\n",
      "4.4\n",
      "₹14,499\n"
     ]
    }
   ],
   "source": [
    "b2=\"https://www.flipkart.com/vivo-t1-44w-midnight-galaxy-128-gb/p/itm2a08ebbea3689?pid=MOBGDRHVZN29ZJF4&lid=LSTMOBGDRHVZN29ZJF4WEHAX7&marketplace=FLIPKART&q=vivo+mobiles&store=tyy%2F4io&srno=s_1_3&otracker=search&otracker1=search&fm=Search&iid=a21115cb-9b8a-416d-862f-bc4d57054d9f.MOBGDRHVZN29ZJF4.SEARCH&ppt=sp&ppn=sp&ssid=ev6boxo4ww0000001668696133093&qH=278bf4990ddc16ab\"\n",
    "details(b2,headers)"
   ]
  },
  {
   "cell_type": "code",
   "execution_count": 132,
   "id": "66524f94",
   "metadata": {},
   "outputs": [
    {
     "name": "stdout",
     "output_type": "stream",
     "text": [
      "<Response [200]>\n",
      "['vivo T1']\n",
      "['(Rainbow Fantasy']\n",
      "['50MP', '2MP', '2MP', '16MP']\n",
      "['4 GB', '128 GB']\n",
      "['5000 mAh']\n",
      "['16.71 cm']\n",
      "['52,996', '4,323']\n",
      "4.3\n",
      "₹15,990\n"
     ]
    }
   ],
   "source": [
    "b3=\"https://www.flipkart.com/vivo-t1-5g-rainbow-fantasy-128-gb/p/itm594222523bd8f?pid=MOBGB9TYGW5NGXVH&lid=LSTMOBGB9TYGW5NGXVHWMF5TV&marketplace=FLIPKART&q=vivo+mobiles&store=tyy%2F4io&srno=s_1_4&otracker=search&otracker1=search&fm=Search&iid=a21115cb-9b8a-416d-862f-bc4d57054d9f.MOBGB9TYGW5NGXVH.SEARCH&ppt=sp&ppn=sp&ssid=ev6boxo4ww0000001668696133093&qH=278bf4990ddc16ab\"\n",
    "details(b3,headers)"
   ]
  },
  {
   "cell_type": "code",
   "execution_count": 133,
   "id": "fb37ce30",
   "metadata": {},
   "outputs": [
    {
     "name": "stdout",
     "output_type": "stream",
     "text": [
      "<Response [200]>\n",
      "['vivo T1']\n",
      "['(Rainbow Fantasy']\n",
      "['50MP', '2MP', '2MP', '16MP']\n",
      "['6 GB', '128 GB']\n",
      "['5000 mAh']\n",
      "['16.71 cm']\n",
      "['1,42', ',172', '11,881']\n",
      "4.4\n",
      "₹16,990\n"
     ]
    }
   ],
   "source": [
    "b4=\"https://www.flipkart.com/vivo-t1-5g-rainbow-fantasy-128-gb/p/itm594222523bd8f?pid=MOBGB9TYFQR3FQZT&lid=LSTMOBGB9TYFQR3FQZTZ6EEUD&marketplace=FLIPKART&q=vivo+mobiles&store=tyy%2F4io&srno=s_1_5&otracker=search&otracker1=search&fm=Search&iid=a21115cb-9b8a-416d-862f-bc4d57054d9f.MOBGB9TYFQR3FQZT.SEARCH&ppt=sp&ppn=sp&ssid=ev6boxo4ww0000001668696133093&qH=278bf4990ddc16ab\"\n",
    "details(b4,headers)"
   ]
  },
  {
   "cell_type": "code",
   "execution_count": 134,
   "id": "4769e572",
   "metadata": {},
   "outputs": [
    {
     "name": "stdout",
     "output_type": "stream",
     "text": [
      "<Response [200]>\n",
      "['vivo T1']\n",
      "['(Starry Sky']\n",
      "['50MP', '2MP', '2MP', '16MP']\n",
      "['6 GB', '128 GB']\n",
      "['5000 mAh']\n",
      "['16.36 cm']\n",
      "['36,292', '2,864']\n",
      "4.4\n",
      "₹15,999\n"
     ]
    }
   ],
   "source": [
    "b5=\"https://www.flipkart.com/vivo-t1-44w-starry-sky-128-gb/p/itm2a08ebbea3689?pid=MOBGDRHVMW2UDXZY&lid=LSTMOBGDRHVMW2UDXZYVNQXYN&marketplace=FLIPKART&q=vivo+mobiles&store=tyy%2F4io&srno=s_1_6&otracker=search&otracker1=search&fm=Search&iid=a21115cb-9b8a-416d-862f-bc4d57054d9f.MOBGDRHVMW2UDXZY.SEARCH&ppt=sp&ppn=sp&ssid=ev6boxo4ww0000001668696133093&qH=278bf4990ddc16ab\"\n",
    "details(b5,headers)"
   ]
  },
  {
   "cell_type": "code",
   "execution_count": 135,
   "id": "0758ebea",
   "metadata": {},
   "outputs": [
    {
     "name": "stdout",
     "output_type": "stream",
     "text": [
      "<Response [200]>\n",
      "['vivo T1']\n",
      "['(Ice Dawn']\n",
      "['50MP', '2MP', '2MP', '16MP']\n",
      "['6 GB', '128 GB']\n",
      "['5000 mAh']\n",
      "['16.36 cm']\n",
      "['36,292', '2,864']\n",
      "4.4\n",
      "₹15,999\n"
     ]
    }
   ],
   "source": [
    "b6=\"https://www.flipkart.com/vivo-t1-44w-ice-dawn-128-gb/p/itm2a08ebbea3689?pid=MOBGDRHVZ2F9AAM8&lid=LSTMOBGDRHVZ2F9AAM8QZ6BGF&marketplace=FLIPKART&q=vivo+mobiles&store=tyy%2F4io&srno=s_1_7&otracker=search&otracker1=search&fm=Search&iid=a21115cb-9b8a-416d-862f-bc4d57054d9f.MOBGDRHVZ2F9AAM8.SEARCH&ppt=sp&ppn=sp&ssid=ev6boxo4ww0000001668696133093&qH=278bf4990ddc16ab\"\n",
    "details(b6,headers)"
   ]
  },
  {
   "cell_type": "code",
   "execution_count": 136,
   "id": "20d18499",
   "metadata": {},
   "outputs": [
    {
     "name": "stdout",
     "output_type": "stream",
     "text": [
      "<Response [200]>\n",
      "['vivo T1']\n",
      "['(Starlight Black']\n",
      "['50MP', '2MP', '2MP', '16MP']\n",
      "['4 GB', '128 GB']\n",
      "['5000 mAh']\n",
      "['16.71 cm']\n",
      "['52,996', '4,323']\n",
      "4.3\n",
      "₹15,990\n"
     ]
    }
   ],
   "source": [
    "b7=\"https://www.flipkart.com/vivo-t1-5g-starlight-black-128-gb/p/itm594222523bd8f?pid=MOBGB9TYNDFYKNQ6&lid=LSTMOBGB9TYNDFYKNQ6QMGH15&marketplace=FLIPKART&q=vivo+mobiles&store=tyy%2F4io&srno=s_1_8&otracker=search&otracker1=search&fm=Search&iid=a21115cb-9b8a-416d-862f-bc4d57054d9f.MOBGB9TYNDFYKNQ6.SEARCH&ppt=sp&ppn=sp&ssid=ev6boxo4ww0000001668696133093&qH=278bf4990ddc16ab\"\n",
    "details(b7,headers)"
   ]
  },
  {
   "cell_type": "code",
   "execution_count": 137,
   "id": "8a6d7d6b",
   "metadata": {},
   "outputs": [
    {
     "name": "stdout",
     "output_type": "stream",
     "text": [
      "<Response [200]>\n",
      "['vivo T1']\n",
      "['(Rainbow Fantasy']\n",
      "['50MP', '2MP', '2MP', '16MP']\n",
      "['8 GB', '128 GB']\n",
      "['5000 mAh']\n",
      "['16.71 cm']\n",
      "['13,169', '1,161']\n",
      "4.3\n",
      "₹19,990\n"
     ]
    }
   ],
   "source": [
    "b8=\"https://www.flipkart.com/vivo-t1-5g-rainbow-fantasy-128-gb/p/itm594222523bd8f?pid=MOBGB9TYUBFMRG2Y&lid=LSTMOBGB9TYUBFMRG2Y4RZEVJ&marketplace=FLIPKART&q=vivo+mobiles&store=tyy%2F4io&srno=s_1_9&otracker=search&otracker1=search&fm=Search&iid=a21115cb-9b8a-416d-862f-bc4d57054d9f.MOBGB9TYUBFMRG2Y.SEARCH&ppt=sp&ppn=sp&ssid=ev6boxo4ww0000001668696133093&qH=278bf4990ddc16ab\"\n",
    "details(b8,headers)"
   ]
  },
  {
   "cell_type": "code",
   "execution_count": 138,
   "id": "78e13b2f",
   "metadata": {},
   "outputs": [
    {
     "name": "stdout",
     "output_type": "stream",
     "text": [
      "<Response [200]>\n",
      "['vivo T1']\n",
      "['(Starlight Black']\n",
      "['50MP', '2MP', '2MP', '16MP']\n",
      "['8 GB', '128 GB']\n",
      "['5000 mAh']\n",
      "['16.71 cm']\n",
      "['13,169', '1,161']\n",
      "4.3\n",
      "₹19,990\n"
     ]
    }
   ],
   "source": [
    "b9=\"https://www.flipkart.com/vivo-t1-5g-starlight-black-128-gb/p/itm594222523bd8f?pid=MOBGB9TYEDGEXQRA&lid=LSTMOBGB9TYEDGEXQRAKBELKI&marketplace=FLIPKART&q=vivo+mobiles&store=tyy%2F4io&srno=s_1_10&otracker=search&otracker1=search&fm=Search&iid=a21115cb-9b8a-416d-862f-bc4d57054d9f.MOBGB9TYEDGEXQRA.SEARCH&ppt=sp&ppn=sp&ssid=ev6boxo4ww0000001668696133093&qH=278bf4990ddc16ab\"\n",
    "details(b9,headers)"
   ]
  },
  {
   "cell_type": "code",
   "execution_count": 139,
   "id": "fc4397de",
   "metadata": {},
   "outputs": [
    {
     "name": "stdout",
     "output_type": "stream",
     "text": [
      "<Response [200]>\n",
      "['vivo T1']\n",
      "['(Silky White']\n",
      "['50MP', '2MP', '2MP', '16MP']\n",
      "['4 GB', '128 GB']\n",
      "['5000 mAh']\n",
      "['16.71 cm']\n",
      "['52,996', '4,323']\n",
      "4.3\n",
      "₹15,990\n"
     ]
    }
   ],
   "source": [
    "b10=\"https://www.flipkart.com/vivo-t1-5g-silky-white-128-gb/p/itm594222523bd8f?pid=MOBGHNKGG77MVYBG&lid=LSTMOBGHNKGG77MVYBGQMSTRZ&marketplace=FLIPKART&q=vivo+mobiles&store=tyy%2F4io&srno=s_1_11&otracker=search&otracker1=search&fm=Search&iid=a21115cb-9b8a-416d-862f-bc4d57054d9f.MOBGHNKGG77MVYBG.SEARCH&ppt=sp&ppn=sp&ssid=ev6boxo4ww0000001668696133093&qH=278bf4990ddc16ab\"\n",
    "details(b10,headers)"
   ]
  },
  {
   "cell_type": "code",
   "execution_count": 140,
   "id": "ac120139",
   "metadata": {},
   "outputs": [
    {
     "name": "stdout",
     "output_type": "stream",
     "text": [
      "<Response [200]>\n",
      "['vivo T1X']\n",
      "['(Space Blue']\n",
      "['50MP', '2MP', '8MP']\n",
      "['4 GB', '64 GB']\n",
      "['5000 mAh']\n",
      "['16.71 cm']\n",
      "['54,626', '2,928']\n",
      "4.5\n",
      "₹11,999\n"
     ]
    }
   ],
   "source": [
    "b11=\"https://www.flipkart.com/vivo-t1x-space-blue-64-gb/p/itm9e8207e7825a9?pid=MOBGG56ZFNPMHBWE&lid=LSTMOBGG56ZFNPMHBWEB8Y2U5&marketplace=FLIPKART&q=vivo+mobiles&store=tyy%2F4io&srno=s_1_12&otracker=search&otracker1=search&fm=Search&iid=a21115cb-9b8a-416d-862f-bc4d57054d9f.MOBGG56ZFNPMHBWE.SEARCH&ppt=sp&ppn=sp&ssid=ev6boxo4ww0000001668696133093&qH=278bf4990ddc16ab\"\n",
    "details(b11,headers)"
   ]
  },
  {
   "cell_type": "code",
   "execution_count": 141,
   "id": "6b8d94a7",
   "metadata": {},
   "outputs": [
    {
     "name": "stdout",
     "output_type": "stream",
     "text": [
      "<Response [200]>\n",
      "['vivo T1X', 'vity Black']\n",
      "['(Gravity Black']\n",
      "['50MP', '2MP', '8MP']\n",
      "['4 GB', '64 GB']\n",
      "['5000 mAh']\n",
      "['16.71 cm']\n",
      "['54,626', '2,928']\n",
      "4.5\n",
      "₹11,999\n"
     ]
    }
   ],
   "source": [
    "b12=\"https://www.flipkart.com/vivo-t1x-gravity-black-64-gb/p/itm9e8207e7825a9?pid=MOBGG56ZMXMNUCYF&lid=LSTMOBGG56ZMXMNUCYFQ5HT8S&marketplace=FLIPKART&q=vivo+mobiles&store=tyy%2F4io&srno=s_1_13&otracker=search&otracker1=search&fm=Search&iid=a21115cb-9b8a-416d-862f-bc4d57054d9f.MOBGG56ZMXMNUCYF.SEARCH&ppt=sp&ppn=sp&ssid=ev6boxo4ww0000001668696133093&qH=278bf4990ddc16ab\"\n",
    "details(b12,headers)"
   ]
  },
  {
   "cell_type": "code",
   "execution_count": 142,
   "id": "f9cf1f9e",
   "metadata": {},
   "outputs": [
    {
     "name": "stdout",
     "output_type": "stream",
     "text": [
      "<Response [200]>\n",
      "['vivo T1']\n",
      "['(Midnight Galaxy']\n",
      "['50MP', '2MP', '2MP', '16MP']\n",
      "['8 GB', '128 GB']\n",
      "['5000 mAh']\n",
      "['16.36 cm']\n",
      "['4,383', '369']\n",
      "4.3\n",
      "₹17,999\n"
     ]
    }
   ],
   "source": [
    "b13=\"https://www.flipkart.com/vivo-t1-44w-midnight-galaxy-128-gb/p/itm2a08ebbea3689?pid=MOBGDRHVWJUFTYQJ&lid=LSTMOBGDRHVWJUFTYQJ2SYXAC&marketplace=FLIPKART&q=vivo+mobiles&store=tyy%2F4io&srno=s_1_14&otracker=search&otracker1=search&fm=Search&iid=a21115cb-9b8a-416d-862f-bc4d57054d9f.MOBGDRHVWJUFTYQJ.SEARCH&ppt=sp&ppn=sp&ssid=ev6boxo4ww0000001668696133093&qH=278bf4990ddc16ab\"\n",
    "details(b13,headers)"
   ]
  },
  {
   "cell_type": "code",
   "execution_count": 143,
   "id": "7390072e",
   "metadata": {},
   "outputs": [
    {
     "name": "stdout",
     "output_type": "stream",
     "text": [
      "<Response [200]>\n",
      "['vivo T1']\n",
      "['(Midnight Galaxy']\n",
      "['50MP', '2MP', '2MP', '16MP']\n",
      "['6 GB', '128 GB']\n",
      "['5000 mAh']\n",
      "['16.36 cm']\n",
      "['36,292', '2,864']\n",
      "4.4\n",
      "₹15,999\n"
     ]
    }
   ],
   "source": [
    "b14=\"https://www.flipkart.com/vivo-t1-44w-midnight-galaxy-128-gb/p/itm2a08ebbea3689?pid=MOBGDRHVXFVCGS23&lid=LSTMOBGDRHVXFVCGS23RDLBPG&marketplace=FLIPKART&q=vivo+mobiles&store=tyy%2F4io&srno=s_1_15&otracker=search&otracker1=search&fm=Search&iid=a21115cb-9b8a-416d-862f-bc4d57054d9f.MOBGDRHVXFVCGS23.SEARCH&ppt=sp&ppn=sp&ssid=ev6boxo4ww0000001668696133093&qH=278bf4990ddc16ab\"\n",
    "details(b14,headers)"
   ]
  },
  {
   "cell_type": "code",
   "execution_count": 144,
   "id": "37e52852",
   "metadata": {},
   "outputs": [
    {
     "name": "stdout",
     "output_type": "stream",
     "text": [
      "<Response [200]>\n",
      "['vivo T1X']\n",
      "['(Space Blue']\n",
      "['50MP', '2MP', '8MP']\n",
      "['4 GB', '128 GB']\n",
      "['5000 mAh']\n",
      "['16.71 cm']\n",
      "['54,626', '2,928']\n",
      "4.5\n",
      "₹12,999\n"
     ]
    }
   ],
   "source": [
    "b15=\"https://www.flipkart.com/vivo-t1x-space-blue-128-gb/p/itm9e8207e7825a9?pid=MOBGG56ZYSVXEAHC&lid=LSTMOBGG56ZYSVXEAHCCUPIEO&marketplace=FLIPKART&q=vivo+mobiles&store=tyy%2F4io&srno=s_1_16&otracker=search&otracker1=search&fm=Search&iid=a21115cb-9b8a-416d-862f-bc4d57054d9f.MOBGG56ZYSVXEAHC.SEARCH&ppt=sp&ppn=sp&ssid=ev6boxo4ww0000001668696133093&qH=278bf4990ddc16ab\"\n",
    "details(b15,headers)"
   ]
  },
  {
   "cell_type": "code",
   "execution_count": 145,
   "id": "5576fdb0",
   "metadata": {},
   "outputs": [
    {
     "name": "stdout",
     "output_type": "stream",
     "text": [
      "<Response [200]>\n",
      "['vivo T1X']\n",
      "['(Space Blue']\n",
      "['50MP', '2MP', '8MP']\n",
      "['6 GB', '128 GB']\n",
      "['5000 mAh']\n",
      "['16.71 cm']\n",
      "['2,695', '157']\n",
      "4.4\n",
      "₹14,999\n"
     ]
    }
   ],
   "source": [
    "b16=\"https://www.flipkart.com/vivo-t1x-space-blue-128-gb/p/itm9e8207e7825a9?pid=MOBGG56ZR25JKP8Y&lid=LSTMOBGG56ZR25JKP8YGTSEZ2&marketplace=FLIPKART&q=vivo+mobiles&store=tyy%2F4io&srno=s_1_17&otracker=search&otracker1=search&fm=Search&iid=a21115cb-9b8a-416d-862f-bc4d57054d9f.MOBGG56ZR25JKP8Y.SEARCH&ppt=sp&ppn=sp&ssid=ev6boxo4ww0000001668696133093&qH=278bf4990ddc16ab\"\n",
    "details(b16,headers)"
   ]
  },
  {
   "cell_type": "code",
   "execution_count": 146,
   "id": "1b858806",
   "metadata": {},
   "outputs": [
    {
     "name": "stdout",
     "output_type": "stream",
     "text": [
      "<Response [200]>\n",
      "['vivo T1']\n",
      "['(Starry Sky']\n",
      "['50MP', '2MP', '2MP', '16MP']\n",
      "['8 GB', '128 GB']\n",
      "['5000 mAh']\n",
      "['16.36 cm']\n",
      "['4,383', '369']\n",
      "4.3\n",
      "₹17,999\n"
     ]
    }
   ],
   "source": [
    "b17=\"https://www.flipkart.com/vivo-t1-44w-starry-sky-128-gb/p/itm2a08ebbea3689?pid=MOBGDRHVHYFKQP8K&lid=LSTMOBGDRHVHYFKQP8KYHDDNN&marketplace=FLIPKART&q=vivo+mobiles&store=tyy%2F4io&srno=s_1_18&otracker=search&otracker1=search&fm=Search&iid=a21115cb-9b8a-416d-862f-bc4d57054d9f.MOBGDRHVHYFKQP8K.SEARCH&ppt=sp&ppn=sp&ssid=ev6boxo4ww0000001668696133093&qH=278bf4990ddc16ab\"\n",
    "details(b17,headers)"
   ]
  },
  {
   "cell_type": "code",
   "execution_count": 147,
   "id": "ddc85cb2",
   "metadata": {},
   "outputs": [
    {
     "name": "stdout",
     "output_type": "stream",
     "text": [
      "<Response [200]>\n",
      "['vivo T1X', 'vity Black']\n",
      "['(Gravity Black']\n",
      "['50MP', '2MP', '8MP']\n",
      "['6 GB', '128 GB']\n",
      "['5000 mAh']\n",
      "['16.71 cm']\n",
      "['2,695', '157']\n",
      "4.4\n",
      "₹14,999\n"
     ]
    }
   ],
   "source": [
    "b18=\"https://www.flipkart.com/vivo-t1x-gravity-black-128-gb/p/itm9e8207e7825a9?pid=MOBGG56ZKWEHRZBV&lid=LSTMOBGG56ZKWEHRZBVUFLBUQ&marketplace=FLIPKART&q=vivo+mobiles&store=tyy%2F4io&srno=s_1_19&otracker=search&otracker1=search&fm=Search&iid=a21115cb-9b8a-416d-862f-bc4d57054d9f.MOBGG56ZKWEHRZBV.SEARCH&ppt=sp&ppn=sp&ssid=ev6boxo4ww0000001668696133093&qH=278bf4990ddc16ab\"\n",
    "details(b18,headers)"
   ]
  },
  {
   "cell_type": "code",
   "execution_count": 148,
   "id": "922da70a",
   "metadata": {},
   "outputs": [
    {
     "name": "stdout",
     "output_type": "stream",
     "text": [
      "<Response [200]>\n",
      "['vivo Y16']\n",
      "['(Drizzling Gold']\n",
      "['13MP', '2MP', '5MP']\n",
      "['3 GB', '64 GB']\n",
      "['5000 mAh']\n",
      "['16.54 cm']\n",
      "['243', '19']\n",
      "4.2\n",
      "₹10,999\n"
     ]
    }
   ],
   "source": [
    "b19=\"https://www.flipkart.com/vivo-y16-drizzling-gold-64-gb/p/itm72f3a9786718b?pid=MOBGHV2FREZH4NHQ&lid=LSTMOBGHV2FREZH4NHQ9NGASN&marketplace=FLIPKART&q=vivo+mobiles&store=tyy%2F4io&srno=s_1_20&otracker=search&otracker1=search&fm=Search&iid=a21115cb-9b8a-416d-862f-bc4d57054d9f.MOBGHV2FREZH4NHQ.SEARCH&ppt=sp&ppn=sp&ssid=ev6boxo4ww0000001668696133093&qH=278bf4990ddc16ab\"\n",
    "details(b19,headers)"
   ]
  },
  {
   "cell_type": "code",
   "execution_count": 149,
   "id": "46b3e64a",
   "metadata": {},
   "outputs": [
    {
     "name": "stdout",
     "output_type": "stream",
     "text": [
      "<Response [200]>\n",
      "['vivo T1']\n",
      "['(Turbo Cyan']\n",
      "['64MP', '8MP', '2MP', '16MP']\n",
      "['8 GB', '128 GB']\n",
      "['4700 mAh']\n",
      "['16.36 cm']\n",
      "['12,861', '1,364']\n",
      "4.3\n",
      "₹24,999\n"
     ]
    }
   ],
   "source": [
    "b20=\"https://www.flipkart.com/vivo-t1-pro-5g-turbo-cyan-128-gb/p/itmdbb5d58c3018d?pid=MOBGDRHVRHDZCJ4Q&lid=LSTMOBGDRHVRHDZCJ4QPCE6GS&marketplace=FLIPKART&q=vivo+mobiles&store=tyy%2F4io&srno=s_1_21&otracker=search&otracker1=search&fm=Search&iid=a21115cb-9b8a-416d-862f-bc4d57054d9f.MOBGDRHVRHDZCJ4Q.SEARCH&ppt=sp&ppn=sp&ssid=ev6boxo4ww0000001668696133093&qH=278bf4990ddc16ab\"\n",
    "details(b20,headers)"
   ]
  },
  {
   "cell_type": "code",
   "execution_count": 150,
   "id": "011d0cb6",
   "metadata": {},
   "outputs": [
    {
     "name": "stdout",
     "output_type": "stream",
     "text": [
      "<Response [200]>\n",
      "['vivo Y21G']\n",
      "['(Midnight Blue']\n",
      "['13MP', '2MP', '8MP']\n",
      "['4 GB', '64 GB']\n",
      "['5000 mAh']\n",
      "['16.54 cm']\n",
      "['1,798', '152']\n",
      "4.3\n",
      "₹13,499\n"
     ]
    }
   ],
   "source": [
    "b21=\"https://www.flipkart.com/vivo-y21g-midnight-blue-64-gb/p/itmcb4986f752d3d?pid=MOBGD6DG7HXHP4KP&lid=LSTMOBGD6DG7HXHP4KPDTSFLP&marketplace=FLIPKART&q=vivo+mobiles&store=tyy%2F4io&srno=s_1_22&otracker=search&otracker1=search&fm=Search&iid=a21115cb-9b8a-416d-862f-bc4d57054d9f.MOBGD6DG7HXHP4KP.SEARCH&ppt=sp&ppn=sp&ssid=ev6boxo4ww0000001668696133093&qH=278bf4990ddc16ab\"\n",
    "details(b21,headers)"
   ]
  },
  {
   "cell_type": "code",
   "execution_count": 151,
   "id": "e7393e7b",
   "metadata": {},
   "outputs": [
    {
     "name": "stdout",
     "output_type": "stream",
     "text": [
      "<Response [200]>\n",
      "['vivo V23e']\n",
      "['(Midnight Blue']\n",
      "['50MP', '8MP', '2MP', '44MP']\n",
      "['8 GB', '128 GB']\n",
      "['4050 mAh']\n",
      "['16.36 cm']\n",
      "['1,557', '149']\n",
      "4.2\n",
      "₹23,869\n"
     ]
    }
   ],
   "source": [
    "b22=\"https://www.flipkart.com/vivo-v23e-5g-midnight-blue-128-gb/p/itm90d9df020a3d3?pid=MOBGBMKTNVSSRY77&lid=LSTMOBGBMKTNVSSRY77ZCBFDO&marketplace=FLIPKART&q=vivo+mobiles&store=tyy%2F4io&srno=s_1_23&otracker=search&otracker1=search&fm=Search&iid=a21115cb-9b8a-416d-862f-bc4d57054d9f.MOBGBMKTNVSSRY77.SEARCH&ppt=sp&ppn=sp&ssid=ev6boxo4ww0000001668696133093&qH=278bf4990ddc16ab\"\n",
    "details(b22,headers)"
   ]
  },
  {
   "cell_type": "code",
   "execution_count": 152,
   "id": "db0cd196",
   "metadata": {},
   "outputs": [
    {
     "name": "stdout",
     "output_type": "stream",
     "text": [
      "<Response [200]>\n",
      "['vivo Y01']\n",
      "['(Elegant Black']\n",
      "['8MP', '5MP']\n",
      "['2 GB', '32 GB']\n",
      "['5000 mAh']\n",
      "['16.54 cm']\n",
      "['881', '57']\n",
      "4.2\n",
      "₹7,999\n"
     ]
    }
   ],
   "source": [
    "b23=\"https://www.flipkart.com/vivo-y01-elegant-black-32-gb/p/itm3dde688a51a9e?pid=MOBGE6XRMMUTEJYG&lid=LSTMOBGE6XRMMUTEJYGSPKA5Y&marketplace=FLIPKART&q=vivo+mobiles&store=tyy%2F4io&srno=s_1_24&otracker=search&otracker1=search&fm=Search&iid=a21115cb-9b8a-416d-862f-bc4d57054d9f.MOBGE6XRMMUTEJYG.SEARCH&ppt=sp&ppn=sp&ssid=ev6boxo4ww0000001668696133093&qH=278bf4990ddc16ab\"\n",
    "details(b23,headers)"
   ]
  },
  {
   "cell_type": "code",
   "execution_count": 153,
   "id": "754be29d",
   "metadata": {},
   "outputs": [
    {
     "name": "stdout",
     "output_type": "stream",
     "text": [
      "<Response [200]>\n",
      "['vivo Y01']\n",
      "['(Sapphire Blue']\n",
      "['8MP', '5MP']\n",
      "['2 GB', '32 GB']\n",
      "['5000 mAh']\n",
      "['16.54 cm']\n",
      "['881', '57']\n",
      "4.2\n",
      "₹7,999\n"
     ]
    }
   ],
   "source": [
    "b24=\"https://www.flipkart.com/vivo-y01-sapphire-blue-32-gb/p/itm3dde688a51a9e?pid=MOBGE6XRVJNZQDZC&lid=LSTMOBGE6XRVJNZQDZCW6F7PL&marketplace=FLIPKART&q=vivo+mobiles&store=tyy%2F4io&srno=s_2_25&otracker=search&otracker1=search&fm=Search&iid=ee3c26e5-c717-43ff-9e3a-629ea7f73d04.MOBGE6XRVJNZQDZC.SEARCH&ppt=sp&ppn=sp&qH=278bf4990ddc16ab\"\n",
    "details(b24,headers)"
   ]
  },
  {
   "cell_type": "code",
   "execution_count": 154,
   "id": "bc48dfb5",
   "metadata": {},
   "outputs": [
    {
     "name": "stdout",
     "output_type": "stream",
     "text": [
      "<Response [200]>\n",
      "['vivo Y22']\n",
      "['(Starlit Blue']\n",
      "['50MP', '2MP', '8MP']\n",
      "['4 GB', '64 GB']\n",
      "['5000 mAh']\n",
      "['16.64 cm']\n",
      "['204', '12']\n",
      "4.3\n",
      "₹14,499\n"
     ]
    }
   ],
   "source": [
    "b25=\"https://www.flipkart.com/vivo-y22-starlit-blue-64-gb/p/itmfb8eedc01096c?pid=MOBGHR2FMKFB5TBP&lid=LSTMOBGHR2FMKFB5TBPLE0PFN&marketplace=FLIPKART&q=vivo+mobiles&store=tyy%2F4io&srno=s_2_26&otracker=search&otracker1=search&fm=Search&iid=ee3c26e5-c717-43ff-9e3a-629ea7f73d04.MOBGHR2FMKFB5TBP.SEARCH&ppt=sp&ppn=sp&qH=278bf4990ddc16ab\"\n",
    "details(b25,headers)"
   ]
  },
  {
   "cell_type": "code",
   "execution_count": 155,
   "id": "0434a5e7",
   "metadata": {},
   "outputs": [
    {
     "name": "stdout",
     "output_type": "stream",
     "text": [
      "<Response [200]>\n",
      "['vivo Y16']\n",
      "['(Steller Black']\n",
      "['13MP', '2MP', '5MP']\n",
      "['4 GB', '64 GB']\n",
      "['5000 mAh']\n",
      "['16.54 cm']\n",
      "['312', '22']\n",
      "4.4\n",
      "₹12,999\n"
     ]
    }
   ],
   "source": [
    "b26=\"https://www.flipkart.com/vivo-y16-steller-black-64-gb/p/itm72f3a9786718b?pid=MOBGHV2FBHPEBYMC&lid=LSTMOBGHV2FBHPEBYMCSX4FKO&marketplace=FLIPKART&q=vivo+mobiles&store=tyy%2F4io&srno=s_2_27&otracker=search&otracker1=search&fm=Search&iid=ee3c26e5-c717-43ff-9e3a-629ea7f73d04.MOBGHV2FBHPEBYMC.SEARCH&ppt=sp&ppn=sp&qH=278bf4990ddc16ab\"\n",
    "details(b26,headers)"
   ]
  },
  {
   "cell_type": "code",
   "execution_count": 156,
   "id": "a6a1e475",
   "metadata": {},
   "outputs": [
    {
     "name": "stdout",
     "output_type": "stream",
     "text": [
      "<Response [200]>\n",
      "['vivo Y16']\n",
      "['(Drizzling Gold']\n",
      "['13MP', '2MP', '5MP']\n",
      "['3 GB', '32 GB']\n",
      "['5000 mAh']\n",
      "['16.54 cm']\n",
      "['243', '19']\n",
      "4.2\n",
      "₹9,999\n"
     ]
    }
   ],
   "source": [
    "b27=\"https://www.flipkart.com/vivo-y16-drizzling-gold-32-gb/p/itm72f3a9786718b?pid=MOBGHV2FEHZ4ZZRR&lid=LSTMOBGHV2FEHZ4ZZRRBCQCZM&marketplace=FLIPKART&q=vivo+mobiles&store=tyy%2F4io&srno=s_2_28&otracker=search&otracker1=search&fm=Search&iid=ee3c26e5-c717-43ff-9e3a-629ea7f73d04.MOBGHV2FEHZ4ZZRR.SEARCH&ppt=sp&ppn=sp&qH=278bf4990ddc16ab\"\n",
    "details(b27,headers)"
   ]
  },
  {
   "cell_type": "code",
   "execution_count": 157,
   "id": "5ec4f6b1",
   "metadata": {},
   "outputs": [
    {
     "name": "stdout",
     "output_type": "stream",
     "text": [
      "<Response [200]>\n",
      "['vivo Y21G']\n",
      "['(Diamond Glow']\n",
      "['13MP', '2MP', '8MP']\n",
      "['4 GB', '64 GB']\n",
      "['5000 mAh']\n",
      "['16.54 cm']\n",
      "['1,798', '152']\n",
      "4.3\n",
      "₹13,499\n"
     ]
    }
   ],
   "source": [
    "b28=\"https://www.flipkart.com/vivo-y21g-diamond-glow-64-gb/p/itmcb4986f752d3d?pid=MOBGD6DGKVFJJN6N&lid=LSTMOBGD6DGKVFJJN6NWODOCM&marketplace=FLIPKART&q=vivo+mobiles&store=tyy%2F4io&srno=s_2_29&otracker=search&otracker1=search&fm=Search&iid=ee3c26e5-c717-43ff-9e3a-629ea7f73d04.MOBGD6DGKVFJJN6N.SEARCH&ppt=sp&ppn=sp&qH=278bf4990ddc16ab\"\n",
    "details(b28,headers)"
   ]
  },
  {
   "cell_type": "code",
   "execution_count": 158,
   "id": "4ea3c243",
   "metadata": {},
   "outputs": [
    {
     "name": "stdout",
     "output_type": "stream",
     "text": [
      "<Response [200]>\n",
      "['vivo V25']\n",
      "['(Surfing Blue']\n",
      "['64MP', '8MP', '2MP', '50MP']\n",
      "['8 GB', '128 GB']\n",
      "['4500 mAh']\n",
      "['16.36 cm']\n",
      "['4,726', '480']\n",
      "4.3\n",
      "₹27,999\n"
     ]
    }
   ],
   "source": [
    "b29=\"https://www.flipkart.com/vivo-v25-5g-surfing-blue-128-gb/p/itmf9706126fbdfb?pid=MOBGHR4J7SGHMY2B&lid=LSTMOBGHR4J7SGHMY2BIYP30Z&marketplace=FLIPKART&q=vivo+mobiles&store=tyy%2F4io&srno=s_2_30&otracker=search&otracker1=search&fm=Search&iid=ee3c26e5-c717-43ff-9e3a-629ea7f73d04.MOBGHR4J7SGHMY2B.SEARCH&ppt=sp&ppn=sp&qH=278bf4990ddc16ab\"\n",
    "details(b29,headers)"
   ]
  },
  {
   "cell_type": "code",
   "execution_count": 159,
   "id": "23029502",
   "metadata": {},
   "outputs": [
    {
     "name": "stdout",
     "output_type": "stream",
     "text": [
      "<Response [200]>\n",
      "['vivo V25']\n",
      "['(Elegant Black']\n",
      "['64MP', '8MP', '2MP', '50MP']\n",
      "['8 GB', '128 GB']\n",
      "['4500 mAh']\n",
      "['16.36 cm']\n",
      "['4,726', '480']\n",
      "4.3\n",
      "₹27,999\n"
     ]
    }
   ],
   "source": [
    "b30=\"https://www.flipkart.com/vivo-v25-5g-elegant-black-128-gb/p/itmf9706126fbdfb?pid=MOBGHR4JQYC6GGMC&lid=LSTMOBGHR4JQYC6GGMCABBZEX&marketplace=FLIPKART&q=vivo+mobiles&store=tyy%2F4io&srno=s_2_31&otracker=search&otracker1=search&fm=Search&iid=ee3c26e5-c717-43ff-9e3a-629ea7f73d04.MOBGHR4JQYC6GGMC.SEARCH&ppt=sp&ppn=sp&qH=278bf4990ddc16ab\"\n",
    "details(b30,headers)"
   ]
  },
  {
   "cell_type": "code",
   "execution_count": 160,
   "id": "5c39dd63",
   "metadata": {},
   "outputs": [
    {
     "name": "stdout",
     "output_type": "stream",
     "text": [
      "<Response [200]>\n",
      "['vivo Y16']\n",
      "['(Steller Black']\n",
      "['13MP', '2MP', '5MP']\n",
      "['3 GB', '32 GB']\n",
      "['5000 mAh']\n",
      "['16.54 cm']\n",
      "['243', '19']\n",
      "4.2\n",
      "₹10,199\n"
     ]
    }
   ],
   "source": [
    "b31=\"https://www.flipkart.com/vivo-y16-steller-black-32-gb/p/itm72f3a9786718b?pid=MOBGHV2F3ZEDRKQA&lid=LSTMOBGHV2F3ZEDRKQAP8TE3A&marketplace=FLIPKART&q=vivo+mobiles&store=tyy%2F4io&srno=s_2_32&otracker=search&otracker1=search&fm=Search&iid=ee3c26e5-c717-43ff-9e3a-629ea7f73d04.MOBGHV2F3ZEDRKQA.SEARCH&ppt=sp&ppn=sp&qH=278bf4990ddc16ab\"\n",
    "details(b31,headers)"
   ]
  },
  {
   "cell_type": "code",
   "execution_count": 161,
   "id": "ae1bbb23",
   "metadata": {},
   "outputs": [
    {
     "name": "stdout",
     "output_type": "stream",
     "text": [
      "<Response [200]>\n",
      "['vivo Y15s']\n",
      "['(Mystic Blue']\n",
      "['13MP', '2MP', '8MP']\n",
      "['3 GB', '32 GB']\n",
      "['5000 mAh']\n",
      "['16.54 cm']\n",
      "['3,124', '231']\n",
      "4.3\n",
      "₹9,499\n"
     ]
    }
   ],
   "source": [
    "b32=\"https://www.flipkart.com/vivo-y15s-mystic-blue-32-gb/p/itm3a7aa95e1360b?pid=MOBGBNPZASQCAKYG&lid=LSTMOBGBNPZASQCAKYGQNSUS3&marketplace=FLIPKART&q=vivo+mobiles&store=tyy%2F4io&srno=s_2_33&otracker=search&otracker1=search&fm=Search&iid=ee3c26e5-c717-43ff-9e3a-629ea7f73d04.MOBGBNPZASQCAKYG.SEARCH&ppt=sp&ppn=sp&qH=278bf4990ddc16ab\"\n",
    "details(b32,headers)"
   ]
  },
  {
   "cell_type": "code",
   "execution_count": 162,
   "id": "0e7727d7",
   "metadata": {},
   "outputs": [
    {
     "name": "stdout",
     "output_type": "stream",
     "text": [
      "<Response [200]>\n",
      "['vivo T1']\n",
      "['(Turbo Black']\n",
      "['64MP', '8MP', '2MP', '16MP']\n",
      "['8 GB', '128 GB']\n",
      "['4700 mAh']\n",
      "['16.36 cm']\n",
      "['12,907', '1,366']\n",
      "4.3\n",
      "₹24,999\n"
     ]
    }
   ],
   "source": [
    "b33=\"https://www.flipkart.com/vivo-t1-pro-5g-turbo-black-128-gb/p/itmdbb5d58c3018d?pid=MOBGDRHV9AZEZTN7&lid=LSTMOBGDRHV9AZEZTN7KEAJAK&marketplace=FLIPKART&q=vivo+mobiles&store=tyy%2F4io&srno=s_2_34&otracker=search&otracker1=search&fm=Search&iid=ee3c26e5-c717-43ff-9e3a-629ea7f73d04.MOBGDRHV9AZEZTN7.SEARCH&ppt=sp&ppn=sp&qH=278bf4990ddc16ab\"\n",
    "details(b33,headers)"
   ]
  },
  {
   "cell_type": "code",
   "execution_count": 163,
   "id": "2ab0a26e",
   "metadata": {},
   "outputs": [
    {
     "name": "stdout",
     "output_type": "stream",
     "text": [
      "<Response [200]>\n",
      "['vivo T1']\n",
      "['(Turbo Black']\n",
      "['64MP', '8MP', '2MP', '16MP']\n",
      "['6 GB', '128 GB']\n",
      "['4700 mAh']\n",
      "['16.36 cm']\n",
      "['6,588', '636']\n",
      "4.3\n",
      "₹28,990\n"
     ]
    }
   ],
   "source": [
    "b34=\"https://www.flipkart.com/vivo-t1-pro-5g-turbo-black-128-gb/p/itmdbb5d58c3018d?pid=MOBGDRHVT8RAZDYR&lid=LSTMOBGDRHVT8RAZDYRUVR8N1&marketplace=FLIPKART&q=vivo+mobiles&store=tyy%2F4io&srno=s_2_35&otracker=search&otracker1=search&fm=Search&iid=ee3c26e5-c717-43ff-9e3a-629ea7f73d04.MOBGDRHVT8RAZDYR.SEARCH&ppt=sp&ppn=sp&qH=278bf4990ddc16ab\"\n",
    "details(b34,headers)"
   ]
  },
  {
   "cell_type": "code",
   "execution_count": 164,
   "id": "c96b367b",
   "metadata": {},
   "outputs": [
    {
     "name": "stdout",
     "output_type": "stream",
     "text": [
      "<Response [200]>\n",
      "['vivo V25']\n",
      "['(Surfing Blue']\n",
      "['64MP', '8MP', '2MP', '50MP']\n",
      "['12 GB', '256 GB']\n",
      "['4500 mAh']\n",
      "['16.36 cm']\n",
      "['918', '110']\n",
      "4.2\n",
      "₹31,999\n"
     ]
    }
   ],
   "source": [
    "b35=\"https://www.flipkart.com/vivo-v25-5g-surfing-blue-256-gb/p/itmf9706126fbdfb?pid=MOBGHR4JMT5UVZPZ&lid=LSTMOBGHR4JMT5UVZPZLODFV6&marketplace=FLIPKART&q=vivo+mobiles&store=tyy%2F4io&srno=s_2_36&otracker=search&otracker1=search&fm=Search&iid=ee3c26e5-c717-43ff-9e3a-629ea7f73d04.MOBGHR4JMT5UVZPZ.SEARCH&ppt=sp&ppn=sp&qH=278bf4990ddc16ab\"\n",
    "details(b35,headers)"
   ]
  },
  {
   "cell_type": "code",
   "execution_count": 165,
   "id": "979dd530",
   "metadata": {},
   "outputs": [
    {
     "name": "stdout",
     "output_type": "stream",
     "text": [
      "<Response [200]>\n",
      "['vivo Y22', 'verse Green']\n",
      "['(Metaverse Green']\n",
      "['50MP', '2MP', '8MP']\n",
      "['4 GB', '64 GB']\n",
      "['5000 mAh']\n",
      "['16.64 cm']\n",
      "['204', '12']\n",
      "4.3\n",
      "₹14,499\n"
     ]
    }
   ],
   "source": [
    "b36=\"https://www.flipkart.com/vivo-y22-metaverse-green-64-gb/p/itmfb8eedc01096c?pid=MOBGHR2FFBQ9YW4T&lid=LSTMOBGHR2FFBQ9YW4T7IXHLV&marketplace=FLIPKART&q=vivo+mobiles&store=tyy%2F4io&srno=s_2_37&otracker=search&otracker1=search&fm=Search&iid=ee3c26e5-c717-43ff-9e3a-629ea7f73d04.MOBGHR2FFBQ9YW4T.SEARCH&ppt=sp&ppn=sp&qH=278bf4990ddc16ab\"\n",
    "details(b36,headers)"
   ]
  },
  {
   "cell_type": "code",
   "execution_count": 166,
   "id": "d21be0e2",
   "metadata": {},
   "outputs": [
    {
     "name": "stdout",
     "output_type": "stream",
     "text": [
      "<Response [200]>\n",
      "['vivo Y53s']\n",
      "['(Deep Sea']\n",
      "['64MP', '2MP', '2MP', '16MP']\n",
      "['8 GB', '128 GB']\n",
      "['5000 mAh']\n",
      "['16.71 cm']\n",
      "['17,755', '1,522']\n",
      "4.3\n",
      "₹15,490\n"
     ]
    }
   ],
   "source": [
    "b37=\"https://www.flipkart.com/vivo-y53s-deep-sea-blue-128-gb/p/itmfec33b9946fad?pid=MOBG5GRG8YQZ6Q8G&lid=LSTMOBG5GRG8YQZ6Q8GKLD71N&marketplace=FLIPKART&q=vivo+mobiles&store=tyy%2F4io&srno=s_2_38&otracker=search&otracker1=search&fm=Search&iid=ee3c26e5-c717-43ff-9e3a-629ea7f73d04.MOBG5GRG8YQZ6Q8G.SEARCH&ppt=sp&ppn=sp&qH=278bf4990ddc16ab\"\n",
    "details(b37,headers)"
   ]
  },
  {
   "cell_type": "code",
   "execution_count": 167,
   "id": "256c358d",
   "metadata": {},
   "outputs": [
    {
     "name": "stdout",
     "output_type": "stream",
     "text": [
      "<Response [200]>\n",
      "['vivo Y21T']\n",
      "['(Midnight Blue']\n",
      "['50MP', '2MP', '2MP', '8MP']\n",
      "['4 GB', '128 GB']\n",
      "['5000 mAh']\n",
      "['16.71 cm']\n",
      "['1,449', '104']\n",
      "4.3\n",
      "₹15,499\n"
     ]
    }
   ],
   "source": [
    "b38=\"https://www.flipkart.com/vivo-y21t-midnight-blue-128-gb/p/itm78012db34f40f?pid=MOBGA9S3JZEFJZCH&lid=LSTMOBGA9S3JZEFJZCHWD1VEG&marketplace=FLIPKART&q=vivo+mobiles&store=tyy%2F4io&srno=s_2_39&otracker=search&otracker1=search&fm=Search&iid=ee3c26e5-c717-43ff-9e3a-629ea7f73d04.MOBGA9S3JZEFJZCH.SEARCH&ppt=sp&ppn=sp&qH=278bf4990ddc16ab\"\n",
    "details(b38,headers)"
   ]
  },
  {
   "cell_type": "code",
   "execution_count": 168,
   "id": "7a1624ae",
   "metadata": {},
   "outputs": [
    {
     "name": "stdout",
     "output_type": "stream",
     "text": [
      "<Response [200]>\n",
      "['vivo Y15s', 've Green']\n",
      "['(Wave Green']\n",
      "['13MP', '2MP', '8MP']\n",
      "['3 GB', '32 GB']\n",
      "['5000 mAh']\n",
      "['16.54 cm']\n",
      "['3,124', '231']\n",
      "4.3\n",
      "₹9,499\n"
     ]
    }
   ],
   "source": [
    "b39=\"https://www.flipkart.com/vivo-y15s-wave-green-32-gb/p/itm3a7aa95e1360b?pid=MOBGBNPZCFZWMYV6&lid=LSTMOBGBNPZCFZWMYV60DLU7G&marketplace=FLIPKART&q=vivo+mobiles&store=tyy%2F4io&srno=s_2_40&otracker=search&otracker1=search&fm=Search&iid=ee3c26e5-c717-43ff-9e3a-629ea7f73d04.MOBGBNPZCFZWMYV6.SEARCH&ppt=sp&ppn=sp&qH=278bf4990ddc16ab\"\n",
    "details(b39,headers)"
   ]
  },
  {
   "cell_type": "code",
   "execution_count": 169,
   "id": "4ca98ac5",
   "metadata": {},
   "outputs": [
    {
     "name": "stdout",
     "output_type": "stream",
     "text": [
      "<Response [200]>\n",
      "['vivo Y73']\n",
      "['(Roman Black']\n",
      "['64MP', '2MP', '2MP', '16MP']\n",
      "['8 GB', '128 GB']\n",
      "['4000 mAh']\n",
      "['16.36 cm']\n",
      "['9,865', '876']\n",
      "4.4\n",
      "₹18,990\n"
     ]
    }
   ],
   "source": [
    "b40=\"https://www.flipkart.com/vivo-y73-roman-black-128-gb/p/itmc43d8d9608644?pid=MOBG3H2256FDHUFZ&lid=LSTMOBG3H2256FDHUFZKWRFQH&marketplace=FLIPKART&q=vivo+mobiles&store=tyy%2F4io&srno=s_2_41&otracker=search&otracker1=search&fm=Search&iid=ee3c26e5-c717-43ff-9e3a-629ea7f73d04.MOBG3H2256FDHUFZ.SEARCH&ppt=sp&ppn=sp&qH=278bf4990ddc16ab\"\n",
    "details(b40,headers)"
   ]
  },
  {
   "cell_type": "code",
   "execution_count": 170,
   "id": "f5ac6358",
   "metadata": {},
   "outputs": [
    {
     "name": "stdout",
     "output_type": "stream",
     "text": [
      "<Response [200]>\n",
      "['vivo Y22', 'verse Green']\n",
      "['(Metaverse Green']\n",
      "['50MP', '2MP', '8MP']\n",
      "['6 GB', '128 GB']\n",
      "['5000 mAh']\n",
      "['16.64 cm']\n",
      "['162', '11']\n",
      "4.2\n",
      "₹16,499\n"
     ]
    }
   ],
   "source": [
    "b41=\"https://www.flipkart.com/vivo-y22-metaverse-green-128-gb/p/itmfb8eedc01096c?pid=MOBGHR2FQZGSSTTD&lid=LSTMOBGHR2FQZGSSTTDPWOUAQ&marketplace=FLIPKART&q=vivo+mobiles&store=tyy%2F4io&srno=s_2_42&otracker=search&otracker1=search&fm=Search&iid=ee3c26e5-c717-43ff-9e3a-629ea7f73d04.MOBGHR2FQZGSSTTD.SEARCH&ppt=sp&ppn=sp&qH=278bf4990ddc16ab\"\n",
    "details(b41,headers)"
   ]
  },
  {
   "cell_type": "code",
   "execution_count": 171,
   "id": "0f6cf2d9",
   "metadata": {},
   "outputs": [
    {
     "name": "stdout",
     "output_type": "stream",
     "text": [
      "<Response [200]>\n",
      "['vivo Y33s']\n",
      "['(Mirror Black']\n",
      "['50MP', '2MP', '2MP', '16MP']\n",
      "['8 GB', '128 GB']\n",
      "['5000 mAh']\n",
      "['16.71 cm']\n",
      "['12,012', '1,092']\n",
      "4.3\n",
      "₹17,293\n"
     ]
    }
   ],
   "source": [
    "b42=\"https://www.flipkart.com/vivo-y33s-mirror-black-128-gb/p/itm4121bc2b6ca4a?pid=MOBG5Y8CGTMKZFV6&lid=LSTMOBG5Y8CGTMKZFV6NVL0KT&marketplace=FLIPKART&q=vivo+mobiles&store=tyy%2F4io&srno=s_2_43&otracker=search&otracker1=search&fm=Search&iid=ee3c26e5-c717-43ff-9e3a-629ea7f73d04.MOBG5Y8CGTMKZFV6.SEARCH&ppt=sp&ppn=sp&qH=278bf4990ddc16ab\"\n",
    "details(b42,headers)"
   ]
  },
  {
   "cell_type": "code",
   "execution_count": 172,
   "id": "dbfe46f6",
   "metadata": {},
   "outputs": [
    {
     "name": "stdout",
     "output_type": "stream",
     "text": [
      "<Response [200]>\n",
      "['vivo y15s']\n",
      "['(MYSTIC BLUE']\n",
      "['13MP']\n",
      "['3 GB', '32 GB']\n",
      "['5000 mAh']\n",
      "['16.54 cm']\n",
      "['3,124', '231']\n",
      "4.3\n",
      "₹9,899\n"
     ]
    }
   ],
   "source": [
    "b43=\"https://www.flipkart.com/vivo-y15s-mystic-blue-32-gb/p/itmab0a94ae14bf0?pid=MOBGH3XFX5VFKHZC&lid=LSTMOBGH3XFX5VFKHZC6X0MQ3&marketplace=FLIPKART&q=vivo+mobiles&store=tyy%2F4io&srno=s_2_44&otracker=search&otracker1=search&fm=Search&iid=ee3c26e5-c717-43ff-9e3a-629ea7f73d04.MOBGH3XFX5VFKHZC.SEARCH&ppt=sp&ppn=sp&qH=278bf4990ddc16ab\"\n",
    "details(b43,headers)"
   ]
  },
  {
   "cell_type": "code",
   "execution_count": 173,
   "id": "ad3afe68",
   "metadata": {},
   "outputs": [
    {
     "name": "stdout",
     "output_type": "stream",
     "text": [
      "<Response [200]>\n",
      "['vivo Y22']\n",
      "['(Starlit Blue']\n",
      "['50MP', '2MP', '8MP']\n",
      "['6 GB', '128 GB']\n",
      "['5000 mAh']\n",
      "['16.64 cm']\n",
      "['162', '11']\n",
      "4.2\n",
      "₹16,499\n"
     ]
    }
   ],
   "source": [
    "b44=\"https://www.flipkart.com/vivo-y22-starlit-blue-128-gb/p/itmfb8eedc01096c?pid=MOBGHR2FEGEAMGPW&lid=LSTMOBGHR2FEGEAMGPWPYWMNI&marketplace=FLIPKART&q=vivo+mobiles&store=tyy%2F4io&srno=s_2_45&otracker=search&otracker1=search&fm=Search&iid=ee3c26e5-c717-43ff-9e3a-629ea7f73d04.MOBGHR2FEGEAMGPW.SEARCH&ppt=sp&ppn=sp&qH=278bf4990ddc16ab\"\n",
    "details(b44,headers)"
   ]
  },
  {
   "cell_type": "code",
   "execution_count": 174,
   "id": "62b2a0e9",
   "metadata": {},
   "outputs": [
    {
     "name": "stdout",
     "output_type": "stream",
     "text": [
      "<Response [200]>\n",
      "['vivo Y21T']\n",
      "['(Pearl White']\n",
      "['50MP', '2MP', '2MP', '8MP']\n",
      "['4 GB', '128 GB']\n",
      "['5000 mAh']\n",
      "['16.71 cm']\n",
      "['1,449', '104']\n",
      "4.3\n",
      "₹15,499\n"
     ]
    }
   ],
   "source": [
    "b45=\"https://www.flipkart.com/vivo-y21t-pearl-white-128-gb/p/itm78012db34f40f?pid=MOBGA9S3XJUZRYNG&lid=LSTMOBGA9S3XJUZRYNG1GB8AW&marketplace=FLIPKART&q=vivo+mobiles&store=tyy%2F4io&srno=s_2_46&otracker=search&otracker1=search&fm=Search&iid=ee3c26e5-c717-43ff-9e3a-629ea7f73d04.MOBGA9S3XJUZRYNG.SEARCH&ppt=sp&ppn=sp&qH=278bf4990ddc16ab\"\n",
    "details(b45,headers)"
   ]
  },
  {
   "cell_type": "code",
   "execution_count": 175,
   "id": "6374680c",
   "metadata": {},
   "outputs": [
    {
     "name": "stdout",
     "output_type": "stream",
     "text": [
      "<Response [200]>\n",
      "['vivo Y35']\n",
      "['(Dawn Gold']\n",
      "['50MP', '2MP', '2MP', '16MP']\n",
      "['8 GB', '128 GB']\n",
      "['5000 mAh']\n",
      "['16.71 cm']\n",
      "['754', '51']\n",
      "4.4\n",
      "₹18,489\n"
     ]
    }
   ],
   "source": [
    "b46=\"https://www.flipkart.com/vivo-y35-dawn-gold-128-gb/p/itm5bbe7b46aa948e?pid=MOBGHY842H4EZHZJ&lid=LSTMOBGHY842H4EZHZJ14UZNQ&marketplace=FLIPKART&q=vivo+mobiles&store=tyy%2F4io&srno=s_2_47&otracker=search&otracker1=search&fm=Search&iid=ee3c26e5-c717-43ff-9e3a-629ea7f73d04.MOBGHY842H4EZHZJ.SEARCH&ppt=sp&ppn=sp&qH=278bf4990ddc16ab\"\n",
    "details(b46,headers)"
   ]
  },
  {
   "cell_type": "code",
   "execution_count": 176,
   "id": "e8038fee",
   "metadata": {},
   "outputs": [
    {
     "name": "stdout",
     "output_type": "stream",
     "text": [
      "<Response [200]>\n",
      "['vivo V23e']\n",
      "['(Sunshine Gold']\n",
      "['50MP', '8MP', '2MP', '44MP']\n",
      "['8 GB', '128 GB']\n",
      "['4050 mAh']\n",
      "['16.36 cm']\n",
      "['1,557', '149']\n",
      "4.2\n",
      "₹22,990\n"
     ]
    }
   ],
   "source": [
    "b47=\"https://www.flipkart.com/vivo-v23e-5g-sunshine-gold-128-gb/p/itm90d9df020a3d3?pid=MOBGBMKTFKGWS3YB&lid=LSTMOBGBMKTFKGWS3YBWX4FA0&marketplace=FLIPKART&q=vivo+mobiles&store=tyy%2F4io&srno=s_2_48&otracker=search&otracker1=search&fm=Search&iid=ee3c26e5-c717-43ff-9e3a-629ea7f73d04.MOBGBMKTFKGWS3YB.SEARCH&ppt=sp&ppn=sp&qH=278bf4990ddc16ab\"\n",
    "details(b47,headers)"
   ]
  },
  {
   "cell_type": "code",
   "execution_count": 177,
   "id": "9dae704c",
   "metadata": {},
   "outputs": [
    {
     "name": "stdout",
     "output_type": "stream",
     "text": [
      "<Response [200]>\n",
      "['vivo Y21']\n",
      "['(Diamond Glow']\n",
      "['13MP', '2MP', '8MP']\n",
      "['4 GB', '64 GB']\n",
      "['5000 mAh']\n",
      "['16.54 cm']\n",
      "['14,188', '1,073']\n",
      "4.3\n",
      "₹13,499\n"
     ]
    }
   ],
   "source": [
    "b48=\"https://www.flipkart.com/vivo-y21-diamond-glow-64-gb/p/itmf123866f9d6dd?pid=MOBG5VFCHSKUZMMG&lid=LSTMOBG5VFCHSKUZMMGNGWHG6&marketplace=FLIPKART&q=vivo+mobiles&store=tyy%2F4io&srno=s_3_49&otracker=search&otracker1=search&fm=Search&iid=7e1ca54a-88a1-4b5c-806c-35fe45899148.MOBG5VFCHSKUZMMG.SEARCH&ppt=sp&ppn=sp&qH=278bf4990ddc16ab\"\n",
    "details(b48,headers)"
   ]
  },
  {
   "cell_type": "code",
   "execution_count": 178,
   "id": "fbbf6bfb",
   "metadata": {},
   "outputs": [
    {
     "name": "stdout",
     "output_type": "stream",
     "text": [
      "<Response [200]>\n",
      "['vivo Y12s']\n",
      "['(Glacier Blue']\n",
      "['13MP', '2MP', '8MP']\n",
      "['3 GB', '32 GB', '256 GB']\n",
      "['5000 mAh']\n",
      "['16.54 cm']\n",
      "['16,057', '1,124']\n",
      "4.3\n",
      "₹13,990\n"
     ]
    }
   ],
   "source": [
    "b49=\"https://www.flipkart.com/vivo-y12s-glacier-blue-32-gb/p/itmf919e62319b1e?pid=MOBFYPJHZ7USNBZV&lid=LSTMOBFYPJHZ7USNBZVSAS2UP&marketplace=FLIPKART&q=vivo+mobiles&store=tyy%2F4io&srno=s_3_50&otracker=search&otracker1=search&fm=Search&iid=7e1ca54a-88a1-4b5c-806c-35fe45899148.MOBFYPJHZ7USNBZV.SEARCH&ppt=sp&ppn=sp&qH=278bf4990ddc16ab\"\n",
    "details(b49,headers)"
   ]
  },
  {
   "cell_type": "code",
   "execution_count": 179,
   "id": "4aa7dc5b",
   "metadata": {},
   "outputs": [
    {
     "name": "stdout",
     "output_type": "stream",
     "text": [
      "<Response [200]>\n",
      "['vivo Y15c']\n",
      "['(Mystic Blue']\n",
      "['13MP', '2MP', '8MP']\n",
      "['3 GB', '32 GB']\n",
      "['5000 mAh']\n",
      "['16.54 cm']\n",
      "['864', '65']\n",
      "4.1\n",
      "₹9,833\n"
     ]
    }
   ],
   "source": [
    "b50=\"https://www.flipkart.com/vivo-y15c-mystic-blue-32-gb/p/itma66de6d33d999?pid=MOBGE2ZHJEFGHVJD&lid=LSTMOBGE2ZHJEFGHVJDTDB8CL&marketplace=FLIPKART&q=vivo+mobiles&store=tyy%2F4io&srno=s_3_51&otracker=search&otracker1=search&fm=Search&iid=7e1ca54a-88a1-4b5c-806c-35fe45899148.MOBGE2ZHJEFGHVJD.SEARCH&ppt=sp&ppn=sp&qH=278bf4990ddc16ab\"\n",
    "details(b50,headers)"
   ]
  },
  {
   "cell_type": "code",
   "execution_count": 180,
   "id": "371ce25f",
   "metadata": {},
   "outputs": [
    {
     "name": "stdout",
     "output_type": "stream",
     "text": [
      "<Response [200]>\n",
      "['vivo Y15c', 've Green']\n",
      "['(Wave Green']\n",
      "['13MP', '2MP', '8MP']\n",
      "['3 GB', '32 GB']\n",
      "['5000 mAh']\n",
      "['16.54 cm']\n",
      "['864', '65']\n",
      "4.1\n",
      "₹9,951\n"
     ]
    }
   ],
   "source": [
    "b51=\"https://www.flipkart.com/vivo-y15c-wave-green-32-gb/p/itma66de6d33d999?pid=MOBGE2ZHVSUGMCZS&lid=LSTMOBGE2ZHVSUGMCZS2917ZI&marketplace=FLIPKART&q=vivo+mobiles&store=tyy%2F4io&srno=s_3_52&otracker=search&otracker1=search&fm=Search&iid=7e1ca54a-88a1-4b5c-806c-35fe45899148.MOBGE2ZHVSUGMCZS.SEARCH&ppt=sp&ppn=sp&qH=278bf4990ddc16ab\"\n",
    "details(b51,headers)"
   ]
  },
  {
   "cell_type": "code",
   "execution_count": 181,
   "id": "ac36ff31",
   "metadata": {},
   "outputs": [
    {
     "name": "stdout",
     "output_type": "stream",
     "text": [
      "<Response [200]>\n",
      "['vivo Y75', 'ves']\n",
      "['(Dancing waves']\n",
      "['50MP', '8MP', '2MP', '44MP']\n",
      "['8 GB', '128 GB']\n",
      "['4050 mAh']\n",
      "['16.36 cm']\n",
      "['1,203', '108']\n",
      "4.2\n",
      "₹20,999\n"
     ]
    }
   ],
   "source": [
    "b52=\"https://www.flipkart.com/vivo-y75-dancing-waves-128-gb/p/itm28ded5e6b6309?pid=MOBGEESHKUUWUZNQ&lid=LSTMOBGEESHKUUWUZNQHVKAPA&marketplace=FLIPKART&q=vivo+mobiles&store=tyy%2F4io&srno=s_3_53&otracker=search&otracker1=search&fm=Search&iid=7e1ca54a-88a1-4b5c-806c-35fe45899148.MOBGEESHKUUWUZNQ.SEARCH&ppt=sp&ppn=sp&qH=278bf4990ddc16ab\"\n",
    "details(b52,headers)"
   ]
  },
  {
   "cell_type": "code",
   "execution_count": 182,
   "id": "b888b693",
   "metadata": {},
   "outputs": [
    {
     "name": "stdout",
     "output_type": "stream",
     "text": [
      "<Response [200]>\n",
      "['vivo V25']\n",
      "['(Sailing Blue']\n",
      "['64MP', '8MP', '2MP', '32MP']\n",
      "['8 GB', '128 GB']\n",
      "['4830 mAh']\n",
      "['16.66 cm']\n",
      "['4,929', '703']\n",
      "4.3\n",
      "₹35,999\n"
     ]
    }
   ],
   "source": [
    "b53=\"https://www.flipkart.com/vivo-v25-pro-5g-sailing-blue-128-gb/p/itmeccdbf93bbfc6?pid=MOBGGRB7RBZ6ESFV&lid=LSTMOBGGRB7RBZ6ESFVVWREMH&marketplace=FLIPKART&q=vivo+mobiles&store=tyy%2F4io&srno=s_3_54&otracker=search&otracker1=search&fm=Search&iid=7e1ca54a-88a1-4b5c-806c-35fe45899148.MOBGGRB7RBZ6ESFV.SEARCH&ppt=sp&ppn=sp&qH=278bf4990ddc16ab\"\n",
    "details(b53,headers)"
   ]
  },
  {
   "cell_type": "code",
   "execution_count": 183,
   "id": "849de9fe",
   "metadata": {},
   "outputs": [
    {
     "name": "stdout",
     "output_type": "stream",
     "text": [
      "<Response [200]>\n",
      "['vivo Y20G']\n",
      "['(Obsidian Black']\n",
      "['13MP', '2MP', '2MP', '8MP']\n",
      "['4 GB', '64 GB', '256 GB']\n",
      "['5000 mAh']\n",
      "['16.54 cm']\n",
      "['6,135', '429']\n",
      "4.3\n",
      "₹13,990\n"
     ]
    }
   ],
   "source": [
    "b54=\"https://www.flipkart.com/vivo-y20g-2021-obsidian-black-64-gb/p/itm2f6facd6aa7c8?pid=MOBG4FWMAPVEPF2U&lid=LSTMOBG4FWMAPVEPF2UMFJOJ7&marketplace=FLIPKART&q=vivo+mobiles&store=tyy%2F4io&srno=s_3_55&otracker=search&otracker1=search&fm=Search&iid=7e1ca54a-88a1-4b5c-806c-35fe45899148.MOBG4FWMAPVEPF2U.SEARCH&ppt=sp&ppn=sp&qH=278bf4990ddc16ab\"\n",
    "details(b54,headers)"
   ]
  },
  {
   "cell_type": "code",
   "execution_count": 184,
   "id": "b408cf80",
   "metadata": {},
   "outputs": [
    {
     "name": "stdout",
     "output_type": "stream",
     "text": [
      "<Response [200]>\n",
      "['vivo Y33s']\n",
      "['(Midday Dream']\n",
      "['50MP', '2MP', '2MP', '16MP']\n",
      "['8 GB', '128 GB']\n",
      "['5000 mAh']\n",
      "['16.71 cm']\n",
      "['12,012', '1,092']\n",
      "4.3\n",
      "₹18,990\n"
     ]
    }
   ],
   "source": [
    "b55=\"https://www.flipkart.com/vivo-y33s-midday-dream-128-gb/p/itm4121bc2b6ca4a?pid=MOBG5Y8CEPVAHUEZ&lid=LSTMOBG5Y8CEPVAHUEZRRM58J&marketplace=FLIPKART&q=vivo+mobiles&store=tyy%2F4io&srno=s_3_56&otracker=search&otracker1=search&fm=Search&iid=7e1ca54a-88a1-4b5c-806c-35fe45899148.MOBG5Y8CEPVAHUEZ.SEARCH&ppt=sp&ppn=sp&qH=278bf4990ddc16ab\"\n",
    "details(b55,headers)"
   ]
  },
  {
   "cell_type": "code",
   "execution_count": 185,
   "id": "b7509cf0",
   "metadata": {},
   "outputs": [
    {
     "name": "stdout",
     "output_type": "stream",
     "text": [
      "<Response [200]>\n",
      "['vivo Y21E']\n",
      "['(Diamond Glow']\n",
      "['13MP']\n",
      "['3 GB', '64 GB']\n",
      "['5000 mAh']\n",
      "['16.54 cm']\n",
      "['236', '16']\n",
      "4.3\n",
      "₹12,250\n"
     ]
    }
   ],
   "source": [
    "b56=\"https://www.flipkart.com/vivo-y21e-diamond-glow-64-gb/p/itm5ed9ffcd88373?pid=MOBGAZGSG7CCUD6M&lid=LSTMOBGAZGSG7CCUD6M170YBO&marketplace=FLIPKART&q=vivo+mobiles&store=tyy%2F4io&srno=s_3_57&otracker=search&otracker1=search&fm=Search&iid=7e1ca54a-88a1-4b5c-806c-35fe45899148.MOBGAZGSG7CCUD6M.SEARCH&ppt=sp&ppn=sp&qH=278bf4990ddc16ab\"\n",
    "details(b56,headers)"
   ]
  },
  {
   "cell_type": "code",
   "execution_count": 186,
   "id": "3aa6ba3f",
   "metadata": {},
   "outputs": [
    {
     "name": "stdout",
     "output_type": "stream",
     "text": [
      "<Response [200]>\n",
      "['vivo V23']\n",
      "['(Stardust Black']\n",
      "['64MP', '8MP', '2MP', '50MP', '8MP']\n",
      "['12 GB', '256 GB']\n",
      "['4200 mAh']\n",
      "['16.36 cm']\n",
      "['2,866', '315']\n",
      "4.3\n",
      "₹34,990\n"
     ]
    }
   ],
   "source": [
    "b57=\"https://www.flipkart.com/vivo-v23-5g-stardust-black-256-gb/p/itmd61cca4e5dbc8?pid=MOBGA25PKSSYSTG8&lid=LSTMOBGA25PKSSYSTG80P0OM4&marketplace=FLIPKART&q=vivo+mobiles&store=tyy%2F4io&srno=s_3_58&otracker=search&otracker1=search&fm=Search&iid=7e1ca54a-88a1-4b5c-806c-35fe45899148.MOBGA25PKSSYSTG8.SEARCH&ppt=sp&ppn=sp&qH=278bf4990ddc16ab\"\n",
    "details(b57,headers)"
   ]
  },
  {
   "cell_type": "code",
   "execution_count": 187,
   "id": "21def27c",
   "metadata": {},
   "outputs": [
    {
     "name": "stdout",
     "output_type": "stream",
     "text": [
      "<Response [200]>\n",
      "['vivo X80']\n",
      "['(Cosmic Black']\n",
      "['50MP', '48MP', '12MP', '8MP', '32MP']\n",
      "['12 GB', '256 GB']\n",
      "['4700 mAh']\n",
      "['17.22 cm']\n",
      "['640', '146']\n",
      "4.4\n",
      "₹79,999\n"
     ]
    }
   ],
   "source": [
    "b58=\"https://www.flipkart.com/vivo-x80-pro-cosmic-black-256-gb/p/itm91e0e7dd2d74d?pid=MOBGE89YSMWJV5PZ&lid=LSTMOBGE89YSMWJV5PZWPKCA5&marketplace=FLIPKART&q=vivo+mobiles&store=tyy%2F4io&srno=s_3_59&otracker=search&otracker1=search&fm=Search&iid=7e1ca54a-88a1-4b5c-806c-35fe45899148.MOBGE89YSMWJV5PZ.SEARCH&ppt=sp&ppn=sp&qH=278bf4990ddc16ab\"\n",
    "details(b58,headers)"
   ]
  },
  {
   "cell_type": "code",
   "execution_count": 188,
   "id": "add4f240",
   "metadata": {},
   "outputs": [
    {
     "name": "stdout",
     "output_type": "stream",
     "text": [
      "<Response [200]>\n",
      "['vivo Y20']\n",
      "['(Obsidian Black']\n",
      "['13MP', '2MP', '2MP', '8MP']\n",
      "['6 GB', '64 GB', '256 GB']\n",
      "['5000 mAh']\n",
      "['16.54 cm']\n",
      "['4,330', '271']\n",
      "4.4\n",
      "₹16,999\n"
     ]
    }
   ],
   "source": [
    "b59=\"https://www.flipkart.com/vivo-y20-obsidian-black-64-gb/p/itm10285cb0a8dd9?pid=MOBFUU8SHFGSBHJZ&lid=LSTMOBFUU8SHFGSBHJZ2SDPGO&marketplace=FLIPKART&q=vivo+mobiles&store=tyy%2F4io&srno=s_3_60&otracker=search&otracker1=search&fm=Search&iid=7e1ca54a-88a1-4b5c-806c-35fe45899148.MOBFUU8SHFGSBHJZ.SEARCH&ppt=sp&ppn=sp&qH=278bf4990ddc16ab\"\n",
    "details(b59,headers)"
   ]
  },
  {
   "cell_type": "code",
   "execution_count": 189,
   "id": "b7011241",
   "metadata": {},
   "outputs": [
    {
     "name": "stdout",
     "output_type": "stream",
     "text": [
      "<Response [200]>\n",
      "['vivo Y73']\n",
      "['(Roman Black']\n",
      "['64MP', '2MP', '2MP', '16MP']\n",
      "['8 GB', '128 GB']\n",
      "['4000 mAh']\n",
      "['16.36 cm']\n",
      "['9,865', '876']\n",
      "4.4\n",
      "₹18,990\n"
     ]
    }
   ],
   "source": [
    "b60=\"https://www.flipkart.com/vivo-y73-roman-black-128-gb/p/itmc43d8d9608644?pid=MOBG3H2256FDHUFZ&lid=LSTMOBG3H2256FDHUFZKWRFQH&marketplace=FLIPKART&q=vivo+mobiles&store=tyy%2F4io&srno=s_3_61&otracker=search&otracker1=search&fm=Search&iid=7e1ca54a-88a1-4b5c-806c-35fe45899148.MOBG3H2256FDHUFZ.SEARCH&ppt=sp&ppn=sp&qH=278bf4990ddc16ab\"\n",
    "details(b60,headers)"
   ]
  },
  {
   "cell_type": "code",
   "execution_count": 190,
   "id": "bb5bb40c",
   "metadata": {},
   "outputs": [
    {
     "name": "stdout",
     "output_type": "stream",
     "text": [
      "<Response [200]>\n",
      "['vivo X80']\n",
      "['(Urban Blue']\n",
      "['50MP', '12MP', '12MP', '32MP']\n",
      "['8 GB', '128 GB']\n",
      "['4500 mAh']\n",
      "['17.22 cm']\n",
      "['585', '125']\n",
      "4.5\n",
      "₹54,999\n"
     ]
    }
   ],
   "source": [
    "b61=\"https://www.flipkart.com/vivo-x80-urban-blue-128-gb/p/itmf927cc7cbbc19?pid=MOBGE87XUGZZCWU3&lid=LSTMOBGE87XUGZZCWU31QLAID&marketplace=FLIPKART&q=vivo+mobiles&store=tyy%2F4io&srno=s_3_62&otracker=search&otracker1=search&fm=Search&iid=7e1ca54a-88a1-4b5c-806c-35fe45899148.MOBGE87XUGZZCWU3.SEARCH&ppt=sp&ppn=sp&qH=278bf4990ddc16ab\"\n",
    "details(b61,headers)"
   ]
  },
  {
   "cell_type": "code",
   "execution_count": 191,
   "id": "a9c1124b",
   "metadata": {},
   "outputs": [
    {
     "name": "stdout",
     "output_type": "stream",
     "text": [
      "<Response [200]>\n",
      "['vivo V21']\n",
      "['(Sunset Dazzle']\n",
      "['64MP', '8MP', '2MP', '44MP']\n",
      "['8 GB', '128 GB']\n",
      "['4000 mAh']\n",
      "['16.36 cm']\n",
      "['17,001', '1,699']\n",
      "4.3\n",
      "₹27,990\n"
     ]
    }
   ],
   "source": [
    "b62=\"https://www.flipkart.com/vivo-v21-5g-sunset-dazzle-128-gb/p/itm9ec0280d66549?pid=MOBG2AFC7TZK9UZR&lid=LSTMOBG2AFC7TZK9UZRP2BSFI&marketplace=FLIPKART&q=vivo+mobiles&store=tyy%2F4io&srno=s_3_63&otracker=search&otracker1=search&fm=Search&iid=7e1ca54a-88a1-4b5c-806c-35fe45899148.MOBG2AFC7TZK9UZR.SEARCH&ppt=sp&ppn=sp&qH=278bf4990ddc16ab\"\n",
    "details(b62,headers)"
   ]
  },
  {
   "cell_type": "code",
   "execution_count": 192,
   "id": "72945b82",
   "metadata": {},
   "outputs": [
    {
     "name": "stdout",
     "output_type": "stream",
     "text": [
      "<Response [200]>\n",
      "['vivo X80']\n",
      "['(Cosmic Black']\n",
      "['50MP', '12MP', '12MP', '32MP']\n",
      "['8 GB', '128 GB']\n",
      "['4500 mAh']\n",
      "['17.22 cm']\n",
      "['585', '125']\n",
      "4.5\n",
      "₹54,999\n"
     ]
    }
   ],
   "source": [
    "b63=\"https://www.flipkart.com/vivo-x80-cosmic-black-128-gb/p/itmf927cc7cbbc19?pid=MOBGE87X7YAQGSZN&lid=LSTMOBGE87X7YAQGSZNOWXX7M&marketplace=FLIPKART&q=vivo+mobiles&store=tyy%2F4io&srno=s_3_64&otracker=search&otracker1=search&fm=Search&iid=7e1ca54a-88a1-4b5c-806c-35fe45899148.MOBGE87X7YAQGSZN.SEARCH&ppt=sp&ppn=sp&qH=278bf4990ddc16ab\"\n",
    "details(b63,headers)"
   ]
  },
  {
   "cell_type": "code",
   "execution_count": 193,
   "id": "c5b2a677",
   "metadata": {},
   "outputs": [
    {
     "name": "stdout",
     "output_type": "stream",
     "text": [
      "<Response [200]>\n",
      "['vivo X80']\n",
      "['(Cosmic Black']\n",
      "['50MP', '12MP', '12MP', '32MP']\n",
      "['12 GB', '256 GB']\n",
      "['4500 mAh']\n",
      "['17.22 cm']\n",
      "['339', '60']\n",
      "4.5\n",
      "₹59,999\n"
     ]
    }
   ],
   "source": [
    "b64=\"https://www.flipkart.com/vivo-x80-cosmic-black-256-gb/p/itmf927cc7cbbc19?pid=MOBGE87XHCAB8FFU&lid=LSTMOBGE87XHCAB8FFULNXH8H&marketplace=FLIPKART&q=vivo+mobiles&store=tyy%2F4io&srno=s_3_65&otracker=search&otracker1=search&fm=Search&iid=7e1ca54a-88a1-4b5c-806c-35fe45899148.MOBGE87XHCAB8FFU.SEARCH&ppt=sp&ppn=sp&qH=278bf4990ddc16ab\"\n",
    "details(b64,headers)"
   ]
  },
  {
   "cell_type": "code",
   "execution_count": 194,
   "id": "36c47333",
   "metadata": {},
   "outputs": [
    {
     "name": "stdout",
     "output_type": "stream",
     "text": [
      "<Response [200]>\n",
      "['vivo V21']\n",
      "['(Dusk Blue']\n",
      "['64MP', '8MP', '2MP', '44MP']\n",
      "['8 GB', '128 GB']\n",
      "['4000 mAh']\n",
      "['16.36 cm']\n",
      "['17,001', '1,699']\n",
      "4.3\n",
      "₹27,990\n"
     ]
    }
   ],
   "source": [
    "b65=\"https://www.flipkart.com/vivo-v21-5g-dusk-blue-128-gb/p/itm9ec0280d66549?pid=MOBG2AFC9GG6KCEP&lid=LSTMOBG2AFC9GG6KCEPTB4VIU&marketplace=FLIPKART&q=vivo+mobiles&store=tyy%2F4io&srno=s_3_66&otracker=search&otracker1=search&fm=Search&iid=7e1ca54a-88a1-4b5c-806c-35fe45899148.MOBG2AFC9GG6KCEP.SEARCH&ppt=sp&ppn=sp&qH=278bf4990ddc16ab\"\n",
    "details(b65,headers)"
   ]
  },
  {
   "cell_type": "code",
   "execution_count": 195,
   "id": "dc0cdbb2",
   "metadata": {},
   "outputs": [
    {
     "name": "stdout",
     "output_type": "stream",
     "text": [
      "<Response [200]>\n",
      "['vivo V23']\n",
      "['(Sunshine Gold']\n",
      "['64MP', '8MP', '2MP', '50MP', '8MP']\n",
      "['8 GB', '128 GB']\n",
      "['4200 mAh']\n",
      "['16.36 cm']\n",
      "['25,349', '2,920']\n",
      "4.4\n",
      "₹29,990\n"
     ]
    }
   ],
   "source": [
    "b66=\"https://www.flipkart.com/vivo-v23-5g-sunshine-gold-128-gb/p/itmd61cca4e5dbc8?pid=MOBGA25PGYUZCVTH&lid=LSTMOBGA25PGYUZCVTHU6FJNJ&marketplace=FLIPKART&q=vivo+mobiles&store=tyy%2F4io&srno=s_3_67&otracker=search&otracker1=search&fm=Search&iid=7e1ca54a-88a1-4b5c-806c-35fe45899148.MOBGA25PGYUZCVTH.SEARCH&ppt=sp&ppn=sp&qH=278bf4990ddc16ab\"\n",
    "details(b66,headers)"
   ]
  },
  {
   "cell_type": "code",
   "execution_count": 196,
   "id": "4fd39c6a",
   "metadata": {},
   "outputs": [
    {
     "name": "stdout",
     "output_type": "stream",
     "text": [
      "<Response [200]>\n",
      "['vivo Y15c', 've Green']\n",
      "['(Wave Green']\n",
      "['13MP', '2MP', '8MP']\n",
      "['3 GB', '64 GB']\n",
      "['5000 mAh']\n",
      "['16.54 cm']\n",
      "['864', '65']\n",
      "4.1\n",
      "₹10,990\n"
     ]
    }
   ],
   "source": [
    "b67=\"https://www.flipkart.com/vivo-y15c-wave-green-64-gb/p/itma66de6d33d999?pid=MOBGFX3UHPBGRZAY&lid=LSTMOBGFX3UHPBGRZAYJV2EIW&marketplace=FLIPKART&q=vivo+mobiles&store=tyy%2F4io&srno=s_3_68&otracker=search&otracker1=search&fm=Search&iid=7e1ca54a-88a1-4b5c-806c-35fe45899148.MOBGFX3UHPBGRZAY.SEARCH&ppt=sp&ppn=sp&qH=278bf4990ddc16ab\"\n",
    "details(b67,headers)"
   ]
  },
  {
   "cell_type": "code",
   "execution_count": 197,
   "id": "64bb8c1d",
   "metadata": {},
   "outputs": [
    {
     "name": "stdout",
     "output_type": "stream",
     "text": [
      "<Response [200]>\n",
      "['vivo Y35']\n",
      "['(Agate Black']\n",
      "['50MP', '2MP', '2MP', '16MP']\n",
      "['8 GB', '128 GB']\n",
      "['5000 mAh']\n",
      "['16.71 cm']\n",
      "['754', '51']\n",
      "4.4\n",
      "₹18,499\n"
     ]
    }
   ],
   "source": [
    "b68=\"https://www.flipkart.com/vivo-y35-agate-black-128-gb/p/itm5bbe7b46a948e?pid=MOBGHY84RNYCBGWR&lid=LSTMOBGHY84RNYCBGWR5ZLTZS&marketplace=FLIPKART&q=vivo+mobiles&store=tyy%2F4io&srno=s_3_70&otracker=search&otracker1=search&fm=Search&iid=7e1ca54a-88a1-4b5c-806c-35fe45899148.MOBGHY84RNYCBGWR.SEARCH&ppt=sp&ppn=sp&qH=278bf4990ddc16ab\"\n",
    "details(b68,headers)"
   ]
  },
  {
   "cell_type": "code",
   "execution_count": 198,
   "id": "66637e17",
   "metadata": {},
   "outputs": [
    {
     "name": "stdout",
     "output_type": "stream",
     "text": [
      "<Response [200]>\n",
      "['vivo V20']\n",
      "['(Midnight Jazz']\n",
      "['64MP', '8MP', '2MP', '44MP']\n",
      "['8 GB', '256 GB']\n",
      "['4000 mAh']\n",
      "['16.36 cm']\n",
      "['6,053', '585']\n",
      "4.4\n",
      "₹30,990\n"
     ]
    }
   ],
   "source": [
    "b69=\"https://www.flipkart.com/vivo-v20-2021-midnight-jazz-256-gb/p/itmeb2d487ab5550?pid=MOBGYFDHJFHQWE6T&lid=LSTMOBGYFDHJFHQWE6T9SOPHW&marketplace=FLIPKART&q=vivo+mobiles&store=tyy%2F4io&srno=s_3_71&otracker=search&otracker1=search&fm=Search&iid=7e1ca54a-88a1-4b5c-806c-35fe45899148.MOBGYFDHJFHQWE6T.SEARCH&ppt=sp&ppn=sp&qH=278bf4990ddc16ab\"\n",
    "details(b69,headers)"
   ]
  },
  {
   "cell_type": "code",
   "execution_count": 199,
   "id": "0748316f",
   "metadata": {},
   "outputs": [
    {
     "name": "stdout",
     "output_type": "stream",
     "text": [
      "<Response [200]>\n",
      "['vivo V9']\n",
      "['(Black']\n",
      "['16MP', '2MP', '16MP']\n",
      "['4 GB', '32 GB', '256 GB']\n",
      "['3260 mAh']\n",
      "['16.0 cm']\n",
      "['26,961', '2,885']\n",
      "4.4\n",
      "₹19,990\n"
     ]
    }
   ],
   "source": [
    "b70=\"https://www.flipkart.com/vivo-v9-youth-black-32-gb/p/itmf4d94cemugsug?pid=MOBF4D93ZUP926YK&lid=LSTMOBF4D93ZUP926YKCNBZXE&marketplace=FLIPKART&q=vivo+mobiles&store=tyy%2F4io&srno=s_3_72&otracker=search&otracker1=search&fm=Search&iid=7e1ca54a-88a1-4b5c-806c-35fe45899148.MOBF4D93ZUP926YK.SEARCH&ppt=sp&ppn=sp&qH=278bf4990ddc16ab\"\n",
    "details(b70,headers)"
   ]
  },
  {
   "cell_type": "code",
   "execution_count": 200,
   "id": "59d9a4ca",
   "metadata": {},
   "outputs": [
    {
     "name": "stdout",
     "output_type": "stream",
     "text": [
      "<Response [200]>\n",
      "['vivo V25']\n",
      "['(Pure Black']\n",
      "['64MP', '8MP', '2MP', '32MP']\n",
      "['12 GB', '256 GB']\n",
      "['4830 mAh']\n",
      "['16.66 cm']\n",
      "['911', '117']\n",
      "4.3\n",
      "₹45,499\n"
     ]
    }
   ],
   "source": [
    "b71=\"https://www.flipkart.com/vivo-v25-pro-5g-pure-black-256-gb/p/itmeccdbf93bbfc6?pid=MOBGGRB7HTN9R33Y&lid=LSTMOBGGRB7HTN9R33Y825J2N&marketplace=FLIPKART&q=vivo+mobiles&store=tyy%2F4io&srno=s_4_73&otracker=search&otracker1=search&fm=Search&iid=16e36582-2ecd-433c-9c6d-d107960a2b02.MOBGGRB7HTN9R33Y.SEARCH&ppt=sp&ppn=sp&qH=278bf4990ddc16ab\"\n",
    "details(b71,headers)"
   ]
  },
  {
   "cell_type": "code",
   "execution_count": 201,
   "id": "c4988442",
   "metadata": {},
   "outputs": [
    {
     "name": "stdout",
     "output_type": "stream",
     "text": [
      "<Response [200]>\n",
      "['vivo Z1Pro']\n",
      "['(Mirror Black']\n",
      "['16MP', '2MP', '8MP', '32MP']\n",
      "['4 GB', '64 GB', '256 GB']\n",
      "['5000 mAh']\n",
      "['16.59 cm']\n",
      "['3,59', ',496', '35,364']\n",
      "4.5\n",
      "₹15,990\n"
     ]
    }
   ],
   "source": [
    "b72=\"https://www.flipkart.com/vivo-z1pro-mirror-black-64-gb/p/itmfgf9fjhggcnu8?pid=MOBFHHT5FV4DGGYC&lid=LSTMOBFHHT5FV4DGGYCUMSORP&marketplace=FLIPKART&q=vivo+mobiles&store=tyy%2F4io&srno=s_4_74&otracker=search&otracker1=search&fm=Search&iid=16e36582-2ecd-433c-9c6d-d107960a2b02.MOBFHHT5FV4DGGYC.SEARCH&ppt=sp&ppn=sp&qH=278bf4990ddc16ab\"\n",
    "details(b72,headers)"
   ]
  },
  {
   "cell_type": "code",
   "execution_count": 202,
   "id": "32a0d38f",
   "metadata": {},
   "outputs": [
    {
     "name": "stdout",
     "output_type": "stream",
     "text": [
      "<Response [200]>\n",
      "['vivo V15']\n",
      "['(Topaz Blue']\n",
      "['48MP', '5MP', '8MP', '32MP']\n",
      "['6 GB', '128 GB', '256 GB']\n",
      "['3700 mAh']\n",
      "['16.23 cm']\n",
      "['31,214', '2,834']\n",
      "4.5\n",
      "₹32,990\n"
     ]
    }
   ],
   "source": [
    "b73=\"https://www.flipkart.com/vivo-v15-pro-topaz-blue-128-gb/p/itmfdhvqt5kdy2gx?pid=MOBFDHVQWZHAJTWX&lid=LSTMOBFDHVQWZHAJTWXKQT6XP&marketplace=FLIPKART&q=vivo+mobiles&store=tyy%2F4io&srno=s_4_75&otracker=search&otracker1=search&fm=Search&iid=16e36582-2ecd-433c-9c6d-d107960a2b02.MOBFDHVQWZHAJTWX.SEARCH&ppt=sp&ppn=sp&qH=278bf4990ddc16ab\"\n",
    "details(b73,headers)"
   ]
  },
  {
   "cell_type": "code",
   "execution_count": 203,
   "id": "17af992f",
   "metadata": {},
   "outputs": [
    {
     "name": "stdout",
     "output_type": "stream",
     "text": [
      "<Response [200]>\n",
      "['vivo V7']\n",
      "['(Gold']\n",
      "['16MP', '24MP']\n",
      "['4 GB', '64 GB', '256 GB']\n",
      "['3225 mAh']\n",
      "['15.21 cm']\n",
      "['17,524', '2,659']\n",
      "4.4\n",
      "₹22,221\n"
     ]
    }
   ],
   "source": [
    "b74=\"https://www.flipkart.com/vivo-v7-gold-64-gb/p/itmffy7tqqgyvgdv?pid=MOBEX3YCCYN57ZN6&lid=LSTMOBEX3YCCYN57ZN6IMGHPJ&marketplace=FLIPKART&q=vivo+mobiles&store=tyy%2F4io&srno=s_4_76&otracker=search&otracker1=search&fm=Search&iid=16e36582-2ecd-433c-9c6d-d107960a2b02.MOBEX3YCCYN57ZN6.SEARCH&ppt=sp&ppn=sp&qH=278bf4990ddc16ab\"\n",
    "details(b74,headers)"
   ]
  },
  {
   "cell_type": "code",
   "execution_count": 204,
   "id": "2b3cea5f",
   "metadata": {},
   "outputs": [
    {
     "name": "stdout",
     "output_type": "stream",
     "text": [
      "<Response [200]>\n",
      "['vivo Y21E']\n",
      "['(Midnight Blue']\n",
      "['13MP']\n",
      "['3 GB', '64 GB']\n",
      "['5000 mAh']\n",
      "['16.54 cm']\n",
      "['236', '16']\n",
      "4.3\n",
      "₹13,490\n"
     ]
    }
   ],
   "source": [
    "b75=\"https://www.flipkart.com/vivo-y21e-midnight-blue-64-gb/p/itm5ed9ffcd88373?pid=MOBGBE4SZCC2CWVM&lid=LSTMOBGBE4SZCC2CWVMVREVFP&marketplace=FLIPKART&q=vivo+mobiles&store=tyy%2F4io&srno=s_4_77&otracker=search&otracker1=search&fm=Search&iid=16e36582-2ecd-433c-9c6d-d107960a2b02.MOBGBE4SZCC2CWVM.SEARCH&ppt=sp&ppn=sp&qH=278bf4990ddc16ab\"\n",
    "details(b75,headers)"
   ]
  },
  {
   "cell_type": "code",
   "execution_count": 205,
   "id": "4de023ff",
   "metadata": {},
   "outputs": [
    {
     "name": "stdout",
     "output_type": "stream",
     "text": [
      "<Response [200]>\n",
      "['vivo Y93']\n",
      "['(Nebula Purple']\n",
      "['13MP', '2MP', '8MP']\n",
      "['3 GB', '64 GB', '256 GB']\n",
      "['4030 mAh']\n",
      "['15.8 cm']\n",
      "['9,440', '705']\n",
      "4.4\n",
      "₹14,990\n"
     ]
    }
   ],
   "source": [
    "b76=\"https://www.flipkart.com/vivo-y93-nebula-purple-64-gb/p/itmfc759hucneczs?pid=MOBFC759MWVRC7YZ&lid=LSTMOBFC759MWVRC7YZDXQHDM&marketplace=FLIPKART&q=vivo+mobiles&store=tyy%2F4io&srno=s_4_78&otracker=search&otracker1=search&fm=Search&iid=16e36582-2ecd-433c-9c6d-d107960a2b02.MOBFC759MWVRC7YZ.SEARCH&ppt=sp&ppn=sp&qH=278bf4990ddc16ab\"\n",
    "details(b76,headers)"
   ]
  },
  {
   "cell_type": "code",
   "execution_count": 206,
   "id": "8c9cfd3c",
   "metadata": {},
   "outputs": [
    {
     "name": "stdout",
     "output_type": "stream",
     "text": [
      "<Response [200]>\n",
      "['vivo Y12G']\n",
      "['(Glacier Blue']\n",
      "['13MP', '2MP', '8MP']\n",
      "['3 GB', '32 GB', '256 GB']\n",
      "['5000 mAh']\n",
      "['16.54 cm']\n",
      "['4,504', '342']\n",
      "4.3\n",
      "₹11,874\n"
     ]
    }
   ],
   "source": [
    "b77=\"https://www.flipkart.com/vivo-y12g-glacier-blue-32-gb/p/itm173a43f4ff525?pid=MOBG5KFFBPD4Q5AK&lid=LSTMOBG5KFFBPD4Q5AKEBOKYV&marketplace=FLIPKART&q=vivo+mobiles&store=tyy%2F4io&srno=s_4_79&otracker=search&otracker1=search&fm=Search&iid=16e36582-2ecd-433c-9c6d-d107960a2b02.MOBG5KFFBPD4Q5AK.SEARCH&ppt=sp&ppn=sp&qH=278bf4990ddc16ab\"\n",
    "details(b77,headers)"
   ]
  },
  {
   "cell_type": "code",
   "execution_count": 207,
   "id": "50b6efc8",
   "metadata": {},
   "outputs": [
    {
     "name": "stdout",
     "output_type": "stream",
     "text": [
      "<Response [200]>\n",
      "['vivo Y91']\n",
      "['(Starry Black']\n",
      "['13MP', '2MP', '8MP']\n",
      "['3 GB', '32 GB', '256 GB']\n",
      "['4030 mAh']\n",
      "['15.8 cm']\n",
      "['15,968', '1,149']\n",
      "4.4\n",
      "₹10,990\n"
     ]
    }
   ],
   "source": [
    "b78=\"https://www.flipkart.com/vivo-y91-starry-black-32-gb/p/itmfgpgks4fzr5z3?pid=MOBFGPGJZZHDUSN9&lid=LSTMOBFGPGJZZHDUSN9CIQVQ7&marketplace=FLIPKART&q=vivo+mobiles&store=tyy%2F4io&srno=s_4_80&otracker=search&otracker1=search&fm=Search&iid=16e36582-2ecd-433c-9c6d-d107960a2b02.MOBFGPGJZZHDUSN9.SEARCH&ppt=sp&ppn=sp&qH=278bf4990ddc16ab\"\n",
    "details(b78,headers)"
   ]
  },
  {
   "cell_type": "code",
   "execution_count": 208,
   "id": "c7994e8b",
   "metadata": {},
   "outputs": [
    {
     "name": "stdout",
     "output_type": "stream",
     "text": [
      "<Response [200]>\n",
      "['vivo U10']\n",
      "['(Electric Blue']\n",
      "['13MP', '8MP', '2MP', '8MP']\n",
      "['3 GB', '64 GB', '256 GB']\n",
      "['5000 mAh']\n",
      "['16.13 cm']\n",
      "['44,723', '3,192']\n",
      "4.4\n",
      "₹10,999\n"
     ]
    }
   ],
   "source": [
    "b79=\"https://www.flipkart.com/vivo-u10-electric-blue-64-gb/p/itm3c953aaf3c822?pid=MOBFHGPSYGHHQENF&lid=LSTMOBFHGPSYGHHQENFI3UKHS&marketplace=FLIPKART&q=vivo+mobiles&store=tyy%2F4io&srno=s_4_81&otracker=search&otracker1=search&fm=Search&iid=16e36582-2ecd-433c-9c6d-d107960a2b02.MOBFHGPSYGHHQENF.SEARCH&ppt=sp&ppn=sp&qH=278bf4990ddc16ab\"\n",
    "details(b79,headers)"
   ]
  },
  {
   "cell_type": "code",
   "execution_count": 209,
   "id": "ab39e707",
   "metadata": {},
   "outputs": [
    {
     "name": "stdout",
     "output_type": "stream",
     "text": [
      "<Response [200]>\n",
      "['vivo Y16']\n",
      "['(Steller Black']\n",
      "['13MP', '2MP', '5MP']\n",
      "['3 GB', '64 GB']\n",
      "['5000 mAh']\n",
      "['16.54 cm']\n",
      "['243', '19']\n",
      "4.2\n",
      "₹10,999\n"
     ]
    }
   ],
   "source": [
    "b80=\"https://www.flipkart.com/vivo-y16-steller-black-64-gb/p/itm72f3a9786718b?pid=MOBGHV2FHM9BVYCF&lid=LSTMOBGHV2FHM9BVYCFEOBBNQ&marketplace=FLIPKART&q=vivo+mobiles&store=tyy%2F4io&srno=s_4_82&otracker=search&otracker1=search&fm=Search&iid=16e36582-2ecd-433c-9c6d-d107960a2b02.MOBGHV2FHM9BVYCF.SEARCH&ppt=sp&ppn=sp&qH=278bf4990ddc16ab\"\n",
    "details(b80,headers)"
   ]
  },
  {
   "cell_type": "code",
   "execution_count": 210,
   "id": "b0185b2b",
   "metadata": {},
   "outputs": [
    {
     "name": "stdout",
     "output_type": "stream",
     "text": [
      "<Response [200]>\n",
      "['vivo Y95']\n",
      "['(Starry Black']\n",
      "['13MP', '2MP', '20MP']\n",
      "['4 GB', '64 GB', '256 GB']\n",
      "['4030 mAh']\n",
      "['15.8 cm']\n",
      "['16,694', '1,382']\n",
      "4.4\n",
      "₹18,990\n"
     ]
    }
   ],
   "source": [
    "b81=\"https://www.flipkart.com/vivo-y95-starry-black-64-gb/p/itmfb39tfngheyj9?pid=MOBFB39T9PHMYDZW&lid=LSTMOBFB39T9PHMYDZWMUDKMA&marketplace=FLIPKART&q=vivo+mobiles&store=tyy%2F4io&srno=s_4_83&otracker=search&otracker1=search&fm=Search&iid=16e36582-2ecd-433c-9c6d-d107960a2b02.MOBFB39T9PHMYDZW.SEARCH&ppt=sp&ppn=sp&qH=278bf4990ddc16ab\"\n",
    "details(b81,headers)"
   ]
  },
  {
   "cell_type": "code",
   "execution_count": 211,
   "id": "e59d7067",
   "metadata": {},
   "outputs": [
    {
     "name": "stdout",
     "output_type": "stream",
     "text": [
      "<Response [200]>\n",
      "['vivo U10']\n",
      "['(Thunder Black']\n",
      "['13MP', '8MP', '2MP', '8MP']\n",
      "['3 GB', '32 GB', '256 GB']\n",
      "['5000 mAh']\n",
      "['16.13 cm']\n",
      "['44,723', '3,192']\n",
      "4.4\n",
      "₹10,990\n"
     ]
    }
   ],
   "source": [
    "b82=\"https://www.flipkart.com/vivo-u10-thunder-black-32-gb/p/itm04d50e8821b20?pid=MOBFHSZXSYN8HQQU&lid=LSTMOBFHSZXSYN8HQQU3V9S3U&marketplace=FLIPKART&q=vivo+mobiles&store=tyy%2F4io&srno=s_4_84&otracker=search&otracker1=search&fm=Search&iid=16e36582-2ecd-433c-9c6d-d107960a2b02.MOBFHSZXSYN8HQQU.SEARCH&ppt=sp&ppn=sp&qH=278bf4990ddc16ab\"\n",
    "details(b82,headers)"
   ]
  },
  {
   "cell_type": "code",
   "execution_count": 212,
   "id": "2c8d4574",
   "metadata": {},
   "outputs": [
    {
     "name": "stdout",
     "output_type": "stream",
     "text": [
      "<Response [200]>\n",
      "['vivo V21e']\n",
      "['(Sunset Jazz']\n",
      "['64MP', '8MP', '32MP']\n",
      "['8 GB', '128 GB']\n",
      "['4000 mAh']\n",
      "['16.36 cm']\n",
      "['7,853', '738']\n",
      "4.3\n",
      "₹24,990\n"
     ]
    }
   ],
   "source": [
    "b83=\"https://www.flipkart.com/vivo-v21e-sunset-jazz-128-gb/p/itm68e95704bc4b8?pid=MOBG43TYJQU8ZAWH&lid=LSTMOBG43TYJQU8ZAWHPD8YR0&marketplace=FLIPKART&q=vivo+mobiles&store=tyy%2F4io&srno=s_4_85&otracker=search&otracker1=search&fm=Search&iid=16e36582-2ecd-433c-9c6d-d107960a2b02.MOBG43TYJQU8ZAWH.SEARCH&ppt=sp&ppn=sp&qH=278bf4990ddc16ab\"\n",
    "details(b83,headers)"
   ]
  },
  {
   "cell_type": "code",
   "execution_count": 213,
   "id": "48b6547d",
   "metadata": {},
   "outputs": [
    {
     "name": "stdout",
     "output_type": "stream",
     "text": [
      "<Response [200]>\n",
      "['vivo U10']\n",
      "['(Electric Blue']\n",
      "['13MP', '8MP', '2MP', '8MP']\n",
      "['3 GB', '32 GB', '256 GB']\n",
      "['5000 mAh']\n",
      "['16.13 cm']\n",
      "['44,723', '3,192']\n",
      "4.4\n",
      "₹10,990\n"
     ]
    }
   ],
   "source": [
    "b84=\"https://www.flipkart.com/vivo-u10-electric-blue-32-gb/p/itm6504d82d40e3c?pid=MOBFH6P4U8YWJSD4&lid=LSTMOBFH6P4U8YWJSD4LGBVPH&marketplace=FLIPKART&q=vivo+mobiles&store=tyy%2F4io&srno=s_4_86&otracker=search&otracker1=search&fm=Search&iid=16e36582-2ecd-433c-9c6d-d107960a2b02.MOBFH6P4U8YWJSD4.SEARCH&ppt=sp&ppn=sp&qH=278bf4990ddc16ab\"\n",
    "details(b84,headers)"
   ]
  },
  {
   "cell_type": "code",
   "execution_count": 214,
   "id": "98cbb637",
   "metadata": {},
   "outputs": [
    {
     "name": "stdout",
     "output_type": "stream",
     "text": [
      "<Response [200]>\n",
      "['vivo X80']\n",
      "['(Urban Blue']\n",
      "['50MP', '12MP', '12MP', '32MP']\n",
      "['12 GB', '256 GB']\n",
      "['4500 mAh']\n",
      "['17.22 cm']\n",
      "['339', '60']\n",
      "4.5\n",
      "₹59,999\n"
     ]
    }
   ],
   "source": [
    "b85=\"https://www.flipkart.com/vivo-x80-urban-blue-256-gb/p/itmf927cc7cbbc19?pid=MOBGE87XAJKZFDZY&lid=LSTMOBGE87XAJKZFDZYRTEUZY&marketplace=FLIPKART&q=vivo+mobiles&store=tyy%2F4io&srno=s_4_87&otracker=search&otracker1=search&fm=Search&iid=16e36582-2ecd-433c-9c6d-d107960a2b02.MOBGE87XAJKZFDZY.SEARCH&ppt=sp&ppn=sp&qH=278bf4990ddc16ab\"\n",
    "details(b85,headers)"
   ]
  },
  {
   "cell_type": "code",
   "execution_count": 215,
   "id": "d841b48d",
   "metadata": {},
   "outputs": [
    {
     "name": "stdout",
     "output_type": "stream",
     "text": [
      "<Response [200]>\n",
      "['vivo V19']\n",
      "['(Piano Black']\n",
      "['48MP', '8MP', '2MP', '2MP', '32MP', '8MP']\n",
      "['8 GB', '128 GB', '512 GB']\n",
      "['4500 mAh']\n",
      "['16.36 cm']\n",
      "['13,500', '1,342']\n",
      "4.4\n",
      "₹30,990\n"
     ]
    }
   ],
   "source": [
    "b86=\"https://www.flipkart.com/vivo-v19-piano-black-128-gb/p/itmed4ec38e1540c?pid=MOBFPZFKPRV547RJ&lid=LSTMOBFPZFKPRV547RJ7CK5DV&marketplace=FLIPKART&q=vivo+mobiles&store=tyy%2F4io&srno=s_4_88&otracker=search&otracker1=search&fm=Search&iid=16e36582-2ecd-433c-9c6d-d107960a2b02.MOBFPZFKPRV547RJ.SEARCH&ppt=sp&ppn=sp&qH=278bf4990ddc16ab\"\n",
    "details(b86,headers)"
   ]
  },
  {
   "cell_type": "code",
   "execution_count": 216,
   "id": "1759d135",
   "metadata": {},
   "outputs": [
    {
     "name": "stdout",
     "output_type": "stream",
     "text": [
      "<Response [200]>\n",
      "['vivo V25']\n",
      "['(Sailing Blue']\n",
      "['64MP', '8MP', '2MP', '32MP']\n",
      "['12 GB', '256 GB']\n",
      "['4830 mAh']\n",
      "['16.66 cm']\n",
      "['911', '117']\n",
      "4.3\n",
      "₹45,000\n"
     ]
    }
   ],
   "source": [
    "b87=\"https://www.flipkart.com/vivo-v25-pro-5g-sailing-blue-256-gb/p/itmeccdbf93bbfc6?pid=MOBGGRB7BWBAE9TJ&lid=LSTMOBGGRB7BWBAE9TJZBBFLB&marketplace=FLIPKART&q=vivo+mobiles&store=tyy%2F4io&srno=s_4_89&otracker=search&otracker1=search&fm=Search&iid=16e36582-2ecd-433c-9c6d-d107960a2b02.MOBGGRB7BWBAE9TJ.SEARCH&ppt=sp&ppn=sp&qH=278bf4990ddc16ab\"\n",
    "details(b87,headers)"
   ]
  },
  {
   "cell_type": "code",
   "execution_count": 217,
   "id": "521961e8",
   "metadata": {},
   "outputs": [
    {
     "name": "stdout",
     "output_type": "stream",
     "text": [
      "<Response [200]>\n",
      "['vivo V23']\n",
      "['(Stardust Black']\n",
      "['108MP', '8MP', '2MP', '50MP', '8MP']\n",
      "['8 GB', '128 GB', '12 GB']\n",
      "['4300 mAh']\n",
      "['16.66 cm']\n",
      "['3,670', '405']\n",
      "4.3\n",
      "₹38,990\n"
     ]
    }
   ],
   "source": [
    "b88=\"https://www.flipkart.com/vivo-v23-pro-5g-stardust-black-128-gb/p/itmf5550a0e86c82?pid=MOBGA25PHHN2GUWD&lid=LSTMOBGA25PHHN2GUWDF8BAT3&marketplace=FLIPKART&q=vivo+mobiles&store=tyy%2F4io&srno=s_4_90&otracker=search&otracker1=search&fm=Search&iid=16e36582-2ecd-433c-9c6d-d107960a2b02.MOBGA25PHHN2GUWD.SEARCH&ppt=sp&ppn=sp&qH=278bf4990ddc16ab\"\n",
    "details(b88,headers)"
   ]
  },
  {
   "cell_type": "code",
   "execution_count": 218,
   "id": "a28f16e8",
   "metadata": {},
   "outputs": [
    {
     "name": "stdout",
     "output_type": "stream",
     "text": [
      "<Response [200]>\n",
      "['vivo V15']\n",
      "['(Topaz Blue']\n",
      "['8MP', '5MP', '32MP']\n",
      "['8 GB', '128 GB', '256 GB']\n",
      "['3700 mAh']\n",
      "['16.23 cm']\n",
      "['3,055', '254']\n",
      "4.5\n",
      "₹34,990\n"
     ]
    }
   ],
   "source": [
    "b89=\"https://www.flipkart.com/vivo-v15-pro-topaz-blue-128-gb/p/itmffmh3damhbuga?pid=MOBFG8X7ZQHYHX28&lid=LSTMOBFG8X7ZQHYHX28FHKERJ&marketplace=FLIPKART&q=vivo+mobiles&store=tyy%2F4io&srno=s_4_91&otracker=search&otracker1=search&fm=Search&iid=16e36582-2ecd-433c-9c6d-d107960a2b02.MOBFG8X7ZQHYHX28.SEARCH&ppt=sp&ppn=sp&qH=278bf4990ddc16ab\"\n",
    "details(b89,headers)"
   ]
  },
  {
   "cell_type": "code",
   "execution_count": 219,
   "id": "592b8443",
   "metadata": {},
   "outputs": [
    {
     "name": "stdout",
     "output_type": "stream",
     "text": [
      "<Response [200]>\n",
      "['vivo X21']\n",
      "['(Black']\n",
      "['12MP', '5MP', '12MP']\n",
      "['6 GB', '128 GB', '256 GB']\n",
      "['3200 mAh']\n",
      "['15.95 cm']\n",
      "['1,893', '287']\n",
      "4.3\n",
      "₹36,990\n"
     ]
    }
   ],
   "source": [
    "b90=\"https://www.flipkart.com/vivo-x21-black-128-gb/p/itmf5g4jncexzfgt?pid=MOBF5G4JFCYRDQZB&lid=LSTMOBF5G4JFCYRDQZBEKRZES&marketplace=FLIPKART&q=vivo+mobiles&store=tyy%2F4io&srno=s_4_92&otracker=search&otracker1=search&fm=Search&iid=16e36582-2ecd-433c-9c6d-d107960a2b02.MOBF5G4JFCYRDQZB.SEARCH&ppt=sp&ppn=sp&qH=278bf4990ddc16ab\"\n",
    "details(b90,headers)"
   ]
  },
  {
   "cell_type": "code",
   "execution_count": 220,
   "id": "d36e0992",
   "metadata": {},
   "outputs": [
    {
     "name": "stdout",
     "output_type": "stream",
     "text": [
      "<Response [200]>\n",
      "['vivo V21']\n",
      "['(Neon Spark']\n",
      "['64MP', '8MP', '2MP', '44MP']\n",
      "['8 GB', '128 GB']\n",
      "['4000 mAh']\n",
      "['16.36 cm']\n",
      "['17,001', '1,699']\n",
      "4.3\n",
      "₹27,999\n"
     ]
    }
   ],
   "source": [
    "b91=\"https://www.flipkart.com/vivo-v21-5g-neon-spark-128-gb/p/itm9ec0280d66549?pid=MOBG7J4J3DYQKPER&lid=LSTMOBG7J4J3DYQKPERBDNGOR&marketplace=FLIPKART&q=vivo+mobiles&store=tyy%2F4io&srno=s_4_93&otracker=search&otracker1=search&fm=Search&iid=16e36582-2ecd-433c-9c6d-d107960a2b02.MOBG7J4J3DYQKPER.SEARCH&ppt=sp&ppn=sp&qH=278bf4990ddc16ab\"\n",
    "details(b91,headers)"
   ]
  },
  {
   "cell_type": "code",
   "execution_count": 221,
   "id": "a21c52a2",
   "metadata": {},
   "outputs": [
    {
     "name": "stdout",
     "output_type": "stream",
     "text": [
      "<Response [200]>\n",
      "['vivo S1']\n",
      "['(Skyline Blue']\n",
      "['16MP', '8MP', '2MP', '32MP']\n",
      "['6 GB', '64 GB', '256 GB']\n",
      "['4500 mAh']\n",
      "['16.21 cm']\n",
      "['2,739', '204']\n",
      "4.4\n",
      "₹20,990\n"
     ]
    }
   ],
   "source": [
    "b92=\"https://www.flipkart.com/vivo-s1-skyline-blue-64-gb/p/itmfgu2ks3avptzq?pid=MOBFK88FZ6764NNY&lid=LSTMOBFK88FZ6764NNYE6FCYY&marketplace=FLIPKART&q=vivo+mobiles&store=tyy%2F4io&srno=s_4_94&otracker=search&otracker1=search&fm=Search&iid=16e36582-2ecd-433c-9c6d-d107960a2b02.MOBFK88FZ6764NNY.SEARCH&ppt=sp&ppn=sp&qH=278bf4990ddc16ab\"\n",
    "details(b92,headers)"
   ]
  },
  {
   "cell_type": "code",
   "execution_count": 222,
   "id": "b99044ae",
   "metadata": {},
   "outputs": [
    {
     "name": "stdout",
     "output_type": "stream",
     "text": [
      "<Response [200]>\n",
      "['vivo U10']\n",
      "['(Electric Blue']\n",
      "['13MP', '8MP', '2MP', '8MP']\n",
      "['4 GB', '64 GB', '256 GB']\n",
      "['5000 mAh']\n",
      "['16.13 cm']\n",
      "['5,596', '358']\n",
      "4.4\n",
      "₹13,990\n"
     ]
    }
   ],
   "source": [
    "b93=\"https://www.flipkart.com/vivo-u10-electric-blue-64-gb/p/itmfd0837265720b?pid=MOBFKXHBXGHYMGPW&lid=LSTMOBFKXHBXGHYMGPWFGXOJG&marketplace=FLIPKART&q=vivo+mobiles&store=tyy%2F4io&srno=s_4_96&otracker=search&otracker1=search&fm=Search&iid=16e36582-2ecd-433c-9c6d-d107960a2b02.MOBFKXHBXGHYMGPW.SEARCH&ppt=sp&ppn=sp&qH=278bf4990ddc16ab\"\n",
    "details(b93,headers)"
   ]
  },
  {
   "cell_type": "code",
   "execution_count": 223,
   "id": "aa90281c",
   "metadata": {},
   "outputs": [
    {
     "name": "stdout",
     "output_type": "stream",
     "text": [
      "['128 GB', '128 GB', '128 GB', '128 GB', '128 GB', '128 GB', '128 GB', '128 GB', '128 GB', '128 GB', '128 GB', '64 GB', '64 GB', '128 GB', '128 GB', '128 GB', '128 GB', '128 GB', '128 GB', '64 GB', '128 GB', '64 GB', '128 GB', '32 GB', '32 GB', '64 GB', '64 GB', '32 GB', '64 GB', '128 GB', '128 GB', '32 GB', '32 GB', '128 GB', '128 GB', '256 GB', '64 GB', '128 GB', '128 GB', '32 GB', '128 GB', '128 GB', '128 GB', '32 GB', '128 GB', '128 GB', '128 GB', '128 GB', '64 GB', '32 GB', '32 GB', '32 GB', '128 GB', '128 GB', '64 GB', '128 GB', '64 GB', '256 GB', '256 GB', '64 GB', '128 GB', '128 GB', '128 GB', '128 GB', '256 GB', '128 GB', '128 GB', '64 GB', '128 GB', '256 GB', '32 GB', '256 GB', '64 GB', '128 GB', '64 GB', '64 GB', '64 GB', '32 GB', '32 GB', '64 GB', '64 GB', '64 GB', '32 GB', '128 GB', '32 GB', '256 GB', '128 GB', '256 GB', '128 GB', '128 GB', '128 GB', '128 GB', '64 GB', '64 GB']\n",
      "['50MP', '50MP', '50MP', '50MP', '50MP', '50MP', '50MP', '50MP', '50MP', '50MP', '50MP', '50MP', '50MP', '50MP', '50MP', '50MP', '50MP', '50MP', '50MP', '13MP', '64MP', '13MP', '50MP', '8MP', '8MP', '50MP', '13MP', '13MP', '13MP', '64MP', '64MP', '13MP', '13MP', '64MP', '64MP', '64MP', '50MP', '64MP', '50MP', '13MP', '64MP', '50MP', '50MP', '13MP', '50MP', '50MP', '50MP', '50MP', '13MP', '13MP', '13MP', '13MP', '50MP', '64MP', '13MP', '50MP', '13MP', '64MP', '50MP', '13MP', '64MP', '50MP', '64MP', '50MP', '50MP', '64MP', '64MP', '13MP', '50MP', '64MP', '16MP', '64MP', '16MP', '48MP', '16MP', '13MP', '13MP', '13MP', '13MP', '13MP', '13MP', '13MP', '13MP', '64MP', '13MP', '50MP', '48MP', '64MP', '108MP', '8MP', '12MP', '64MP', '16MP', '13MP']\n",
      "['16MP', '16MP', '16MP', '16MP', '16MP', '16MP', '16MP', '16MP', '16MP', '16MP', '16MP', '8MP', '8MP', '16MP', '16MP', '8MP', '8MP', '16MP', '8MP', '5MP', '16MP', '8MP', '44MP', '5MP', '5MP', '8MP', '5MP', '5MP', '8MP', '50MP', '50MP', '5MP', '8MP', '16MP', '16MP', '50MP', '8MP', '16MP', '8MP', '8MP', '16MP', '8MP', '16MP', '13MP', '8MP', '8MP', '16MP', '44MP', '8MP', '8MP', '8MP', '8MP', '44MP', '32MP', '8MP', '16MP', '13MP', '8MP', '32MP', '8MP', '16MP', '32MP', '44MP', '32MP', '32MP', '44MP', '8MP', '8MP', '16MP', '44MP', '16MP', '32MP', '32MP', '32MP', '24MP', '13MP', '8MP', '8MP', '8MP', '8MP', '5MP', '20MP', '8MP', '32MP', '8MP', '32MP', '8MP', '32MP', '8MP', '32MP', '12MP', '44MP', '32MP', '8MP']\n",
      "['[', '(Starlight Black', '[', '(Starry Sky', '[', '(Midnight Galaxy', '[', '(Rainbow Fantasy', '[', '(Rainbow Fantasy', '[', '(Starry Sky', '[', '(Ice Dawn', '[', '(Starlight Black', '[', '(Rainbow Fantasy', '[', '(Starlight Black', '[', '(Silky White', '[', '(Space Blue', '[', '(Gravity Black', '[', '(Midnight Galaxy', '[', '(Midnight Galaxy', '[', '(Space Blue', '[', '(Space Blue', '[', '(Starry Sky', '[', '(Gravity Black', '[', '(Drizzling Gold', '[', '(Turbo Cyan', '[', '(Midnight Blue', '[', '(Midnight Blue', '[', '(Elegant Black', '[', '(Sapphire Blue', '[', '(Starlit Blue', '[', '(Steller Black', '[', '(Drizzling Gold', '[', '(Diamond Glow', '[', '(Surfing Blue', '[', '(Elegant Black', '[', '(Steller Black', '[', '(Mystic Blue', '[', '(Turbo Black', '[', '(Turbo Black', '[', '(Surfing Blue', '[', '(Metaverse Green', '[', '(Deep Sea', '[', '(Midnight Blue', '[', '(Wave Green', '[', '(Roman Black', '[', '(Metaverse Green', '[', '(Mirror Black', '[', '(MYSTIC BLUE', '[', '(Starlit Blue', '[', '(Pearl White', '[', '(Dawn Gold', '[', '(Sunshine Gold', '[', '(Diamond Glow', '[', '(Glacier Blue', '[', '(Mystic Blue', '[', '(Wave Green', '[', '(Dancing waves', '[', '(Sailing Blue', '[', '(Obsidian Black', '[', '(Midday Dream', '[', '(Diamond Glow', '[', '(Stardust Black', '[', '(Cosmic Black', '[', '(Obsidian Black', '[', '(Roman Black', '[', '(Urban Blue', '[', '(Sunset Dazzle', '[', '(Cosmic Black', '[', '(Cosmic Black', '[', '(Dusk Blue', '[', '(Sunshine Gold', '[', '(Wave Green', '[', '(Agate Black', '[', '(Midnight Jazz', '[', '(Black', '[', '(Pure Black', '[', '(Mirror Black', '[', '(Topaz Blue', '[', '(Gold', '[', '(Midnight Blue', '[', '(Nebula Purple', '[', '(Glacier Blue', '[', '(Starry Black', '[', '(Electric Blue', '[', '(Steller Black', '[', '(Starry Black', '[', '(Thunder Black', '[', '(Sunset Jazz', '[', '(Electric Blue', '[', '(Urban Blue', '[', '(Piano Black', '[', '(Sailing Blue', '[', '(Stardust Black', '[', '(Topaz Blue', '[', '(Black', '[', '(Neon Spark', '[', '(Skyline Blue', '[', '(Electric Blue']\n",
      "['vivo T1', 'vivo T1', 'vivo T1', 'vivo T1', 'vivo T1', 'vivo T1', 'vivo T1', 'vivo T1', 'vivo T1', 'vivo T1', 'vivo T1', 'vivo T1X', 'vivo T1X', 'vivo T1', 'vivo T1', 'vivo T1X', 'vivo T1X', 'vivo T1', 'vivo T1X', 'vivo Y16', 'vivo T1', 'vivo Y21G', 'vivo V23e', 'vivo Y01', 'vivo Y01', 'vivo Y22', 'vivo Y16', 'vivo Y16', 'vivo Y21G', 'vivo V25', 'vivo V25', 'vivo Y16', 'vivo Y15s', 'vivo T1', 'vivo T1', 'vivo V25', 'vivo Y22', 'vivo Y53s', 'vivo Y21T', 'vivo Y15s', 'vivo Y73', 'vivo Y22', 'vivo Y33s', 'vivo y15s', 'vivo Y22', 'vivo Y21T', 'vivo Y35', 'vivo V23e', 'vivo Y21', 'vivo Y12s', 'vivo Y15c', 'vivo Y15c', 'vivo Y75', 'vivo V25', 'vivo Y20G', 'vivo Y33s', 'vivo Y21E', 'vivo V23', 'vivo X80', 'vivo Y20', 'vivo Y73', 'vivo X80', 'vivo V21', 'vivo X80', 'vivo X80', 'vivo V21', 'vivo V23', 'vivo Y15c', 'vivo Y35', 'vivo V20', 'vivo V9', 'vivo V25', 'vivo Z1Pro', 'vivo V15', 'vivo V7', 'vivo Y21E', 'vivo Y93', 'vivo Y12G', 'vivo Y91', 'vivo U10', 'vivo Y16', 'vivo Y95', 'vivo U10', 'vivo V21e', 'vivo U10', 'vivo X80', 'vivo V19', 'vivo V25', 'vivo V23', 'vivo V15', 'vivo X21', 'vivo V21', 'vivo S1', 'vivo U10']\n",
      "['6 GB', '4 GB', '4 GB', '4 GB', '6 GB', '6 GB', '6 GB', '4 GB', '8 GB', '8 GB', '4 GB', '4 GB', '4 GB', '8 GB', '6 GB', '4 GB', '6 GB', '8 GB', '6 GB', '3 GB', '8 GB', '4 GB', '8 GB', '2 GB', '2 GB', '4 GB', '4 GB', '3 GB', '4 GB', '8 GB', '8 GB', '3 GB', '3 GB', '8 GB', '6 GB', '12 GB', '4 GB', '8 GB', '4 GB', '3 GB', '8 GB', '6 GB', '8 GB', '3 GB', '6 GB', '4 GB', '8 GB', '8 GB', '4 GB', '3 GB', '3 GB', '3 GB', '8 GB', '8 GB', '4 GB', '8 GB', '3 GB', '12 GB', '12 GB', '6 GB', '8 GB', '8 GB', '8 GB', '8 GB', '12 GB', '8 GB', '8 GB', '3 GB', '8 GB', '8 GB', '4 GB', '12 GB', '4 GB', '6 GB', '4 GB', '3 GB', '3 GB', '3 GB', '3 GB', '3 GB', '3 GB', '4 GB', '3 GB', '8 GB', '3 GB', '12 GB', '8 GB', '12 GB', '8 GB', '8 GB', '6 GB', '8 GB', '6 GB', '4 GB']\n",
      "['5000 mAh', '5000 mAh', '5000 mAh', '5000 mAh', '5000 mAh', '5000 mAh', '5000 mAh', '5000 mAh', '5000 mAh', '5000 mAh', '5000 mAh', '5000 mAh', '5000 mAh', '5000 mAh', '5000 mAh', '5000 mAh', '5000 mAh', '5000 mAh', '5000 mAh', '5000 mAh', '4700 mAh', '5000 mAh', '4050 mAh', '5000 mAh', '5000 mAh', '5000 mAh', '5000 mAh', '5000 mAh', '5000 mAh', '4500 mAh', '4500 mAh', '5000 mAh', '5000 mAh', '4700 mAh', '4700 mAh', '4500 mAh', '5000 mAh', '5000 mAh', '5000 mAh', '5000 mAh', '4000 mAh', '5000 mAh', '5000 mAh', '5000 mAh', '5000 mAh', '5000 mAh', '5000 mAh', '4050 mAh', '5000 mAh', '5000 mAh', '5000 mAh', '5000 mAh', '4050 mAh', '4830 mAh', '5000 mAh', '5000 mAh', '5000 mAh', '4200 mAh', '4700 mAh', '5000 mAh', '4000 mAh', '4500 mAh', '4000 mAh', '4500 mAh', '4500 mAh', '4000 mAh', '4200 mAh', '5000 mAh', '5000 mAh', '4000 mAh', '3260 mAh', '4830 mAh', '5000 mAh', '3700 mAh', '3225 mAh', '5000 mAh', '4030 mAh', '5000 mAh', '4030 mAh', '5000 mAh', '5000 mAh', '4030 mAh', '5000 mAh', '4000 mAh', '5000 mAh', '4500 mAh', '4500 mAh', '4830 mAh', '4300 mAh', '3700 mAh', '3200 mAh', '4000 mAh', '4500 mAh', '5000 mAh']\n",
      "['16.71 cm', '16.36 cm', '16.36 cm', '16.71 cm', '16.71 cm', '16.36 cm', '16.36 cm', '16.71 cm', '16.71 cm', '16.71 cm', '16.71 cm', '16.71 cm', '16.71 cm', '16.36 cm', '16.36 cm', '16.71 cm', '16.71 cm', '16.36 cm', '16.71 cm', '16.54 cm', '16.36 cm', '16.54 cm', '16.36 cm', '16.54 cm', '16.54 cm', '16.64 cm', '16.54 cm', '16.54 cm', '16.54 cm', '16.36 cm', '16.36 cm', '16.54 cm', '16.54 cm', '16.36 cm', '16.36 cm', '16.36 cm', '16.64 cm', '16.71 cm', '16.71 cm', '16.54 cm', '16.36 cm', '16.64 cm', '16.71 cm', '16.54 cm', '16.64 cm', '16.71 cm', '16.71 cm', '16.36 cm', '16.54 cm', '16.54 cm', '16.54 cm', '16.54 cm', '16.36 cm', '16.66 cm', '16.54 cm', '16.71 cm', '16.54 cm', '16.36 cm', '17.22 cm', '16.54 cm', '16.36 cm', '17.22 cm', '16.36 cm', '17.22 cm', '17.22 cm', '16.36 cm', '16.36 cm', '16.54 cm', '16.71 cm', '16.36 cm', '16.0 cm', '16.66 cm', '16.59 cm', '16.23 cm', '15.21 cm', '16.54 cm', '15.8 cm', '16.54 cm', '15.8 cm', '16.13 cm', '16.54 cm', '15.8 cm', '16.13 cm', '16.36 cm', '16.13 cm', '17.22 cm', '16.36 cm', '16.66 cm', '16.66 cm', '16.23 cm', '15.95 cm', '16.36 cm', '16.21 cm', '16.13 cm']\n",
      "['₹16,990', '₹14,499', '₹14,499', '₹15,990', '₹16,990', '₹15,999', '₹15,999', '₹15,990', '₹19,990', '₹19,990', '₹15,990', '₹11,999', '₹11,999', '₹17,999', '₹15,999', '₹12,999', '₹14,999', '₹17,999', '₹14,999', '₹10,999', '₹24,999', '₹13,499', '₹23,869', '₹7,999', '₹7,999', '₹14,499', '₹12,999', '₹9,999', '₹13,499', '₹27,999', '₹27,999', '₹10,199', '₹9,499', '₹24,999', '₹28,990', '₹31,999', '₹14,499', '₹15,490', '₹15,499', '₹9,499', '₹18,990', '₹16,499', '₹17,293', '₹9,899', '₹16,499', '₹15,499', '₹18,489', '₹22,990', '₹13,499', '₹13,990', '₹9,833', '₹9,951', '₹20,999', '₹35,999', '₹13,990', '₹18,990', '₹12,250', '₹34,990', '₹79,999', '₹16,999', '₹18,990', '₹54,999', '₹27,990', '₹54,999', '₹59,999', '₹27,990', '₹29,990', '₹10,990', '₹18,499', '₹30,990', '₹19,990', '₹45,499', '₹15,990', '₹32,990', '₹22,221', '₹13,490', '₹14,990', '₹11,874', '₹10,990', '₹10,999', '₹10,999', '₹18,990', '₹10,990', '₹24,990', '₹10,990', '₹59,999', '₹30,990', '₹45,000', '₹38,990', '₹34,990', '₹36,990', '₹27,999', '₹20,990', '₹13,990']\n",
      "['4.4', '4.4', '4.4', '4.3', '4.4', '4.4', '4.4', '4.3', '4.3', '4.3', '4.3', '4.5', '4.5', '4.3', '4.4', '4.5', '4.4', '4.3', '4.4', '4.2', '4.3', '4.3', '4.2', '4.2', '4.2', '4.3', '4.4', '4.2', '4.3', '4.3', '4.3', '4.2', '4.3', '4.3', '4.3', '4.2', '4.3', '4.3', '4.3', '4.3', '4.4', '4.2', '4.3', '4.3', '4.2', '4.3', '4.4', '4.2', '4.3', '4.3', '4.1', '4.1', '4.2', '4.3', '4.3', '4.3', '4.3', '4.3', '4.4', '4.4', '4.4', '4.5', '4.3', '4.5', '4.5', '4.3', '4.4', '4.1', '4.4', '4.4', '4.4', '4.3', '4.5', '4.5', '4.4', '4.3', '4.4', '4.3', '4.4', '4.4', '4.2', '4.4', '4.4', '4.3', '4.4', '4.5', '4.4', '4.3', '4.3', '4.5', '4.3', '4.3', '4.4', '4.4']\n",
      "['1,42', '63,308', '63,308', '52,996', '1,42', '36,292', '36,292', '52,996', '13,169', '13,169', '52,996', '54,626', '54,626', '4,383', '36,292', '54,626', '2,695', '4,383', '2,695', '243', '12,861', '1,798', '1,557', '881', '881', '204', '312', '243', '1,798', '4,726', '4,726', '243', '3,124', '12,907', '6,588', '918', '204', '17,755', '1,449', '3,124', '9,865', '162', '12,012', '3,124', '162', '1,449', '754', '1,557', '14,188', '16,057', '864', '864', '1,203', '4,929', '6,135', '12,012', '236', '2,866', '640', '4,330', '9,865', '585', '17,001', '585', '339', '17,001', '25,349', '864', '754', '6,053', '26,961', '911', '3,59', '31,214', '17,524', '236', '9,440', '4,504', '15,968', '44,723', '243', '16,694', '44,723', '7,853', '44,723', '339', '13,500', '911', '3,670', '3,055', '1,893', '17,001', '2,739', '5,596']\n"
     ]
    }
   ],
   "source": [
    "print(storage)\n",
    "print(camera_px)\n",
    "print(self_px)\n",
    "print(colour)\n",
    "print(name)\n",
    "print(ram)\n",
    "# print(tech)\n",
    "print(battery)\n",
    "print(display)\n",
    "print(price)\n",
    "# print(os_sys)\n",
    "print(star_rate)\n",
    "print(user_rate)"
   ]
  },
  {
   "cell_type": "code",
   "execution_count": 224,
   "id": "2a08ec6b",
   "metadata": {},
   "outputs": [],
   "source": [
    "colour=[i for i in colour if i!='[']"
   ]
  },
  {
   "cell_type": "code",
   "execution_count": 225,
   "id": "6d52ebf0",
   "metadata": {},
   "outputs": [
    {
     "data": {
      "text/plain": [
       "94"
      ]
     },
     "execution_count": 225,
     "metadata": {},
     "output_type": "execute_result"
    }
   ],
   "source": [
    "len(colour)"
   ]
  },
  {
   "cell_type": "code",
   "execution_count": 226,
   "id": "cc133a58",
   "metadata": {},
   "outputs": [],
   "source": [
    "camera_px=[i.replace(\"MP\",\"\") for i in camera_px]"
   ]
  },
  {
   "cell_type": "code",
   "execution_count": 227,
   "id": "fc64c485",
   "metadata": {},
   "outputs": [],
   "source": [
    "self_px=[i.replace(\"MP\",\"\") for i in self_px]"
   ]
  },
  {
   "cell_type": "code",
   "execution_count": 228,
   "id": "cf227cd6",
   "metadata": {},
   "outputs": [],
   "source": [
    "storage=[i.replace(\"GB\",\" \") for i in storage]"
   ]
  },
  {
   "cell_type": "code",
   "execution_count": 229,
   "id": "dd1391ce",
   "metadata": {},
   "outputs": [],
   "source": [
    "ram=[i.replace(\"GB\",\" \") for i in ram]"
   ]
  },
  {
   "cell_type": "code",
   "execution_count": 230,
   "id": "38596847",
   "metadata": {},
   "outputs": [],
   "source": [
    "battery=[i.replace(\"mAH\",\"\") for i in battery]\n",
    "battery=[i.replace(\"mAh\",\"\") for i in battery]"
   ]
  },
  {
   "cell_type": "code",
   "execution_count": 231,
   "id": "aae81dc0",
   "metadata": {},
   "outputs": [],
   "source": [
    "colour=[i.replace(\"(\",\"\") for i in colour]\n"
   ]
  },
  {
   "cell_type": "code",
   "execution_count": 232,
   "id": "2b10e27c",
   "metadata": {},
   "outputs": [],
   "source": [
    "price=[i.replace(\"₹\",\"\") for i in price]\n",
    "price=[i.replace(\",\",\"\") for i in price]"
   ]
  },
  {
   "cell_type": "code",
   "execution_count": 233,
   "id": "0f96df07",
   "metadata": {},
   "outputs": [],
   "source": [
    "display=[i.replace(\" cm\",\"\") for i in display]"
   ]
  },
  {
   "cell_type": "code",
   "execution_count": 234,
   "id": "adb4a561",
   "metadata": {},
   "outputs": [],
   "source": [
    "user_rate=[i.replace(\",\",\"\") for i in user_rate]"
   ]
  },
  {
   "cell_type": "code",
   "execution_count": 235,
   "id": "d5bcd42d",
   "metadata": {},
   "outputs": [],
   "source": [
    "storage=[float(i) for i in storage]\n",
    "camera_px=[int(i) for i in camera_px]\n",
    "self_px=[int(i) for i in self_px]\n",
    "ram=[float(i) for i in ram]\n",
    "# tech=[float(i) for i in tech]\n",
    "battery=[float(i) for i in battery]\n",
    "display=[float(i) for i in display]\n",
    "price=[float(i) for i in price]\n",
    "star_rate=[float(i) for i in star_rate]\n",
    "user_rate=[float(i) for i in user_rate]"
   ]
  },
  {
   "cell_type": "code",
   "execution_count": 236,
   "id": "fe8f8f60",
   "metadata": {},
   "outputs": [
    {
     "data": {
      "text/plain": [
       "94"
      ]
     },
     "execution_count": 236,
     "metadata": {},
     "output_type": "execute_result"
    }
   ],
   "source": [
    "len(colour)"
   ]
  },
  {
   "cell_type": "code",
   "execution_count": 237,
   "id": "ceeb09dd",
   "metadata": {},
   "outputs": [],
   "source": [
    "r1=pd.DataFrame({\"Name\":name,\"Colour\":colour,\"Storage\":storage,\"Battery\":battery,\n",
    "               \"Camera_Pixel\":camera_px,\"Selfie_cam_pixel\":self_px,\"Display_size\":display,\n",
    "                \"RAM\":ram,\n",
    "               \"Star_ratings\":star_rate,\"Users_rated\":user_rate,\"Price\":price})"
   ]
  },
  {
   "cell_type": "code",
   "execution_count": 238,
   "id": "554d0c08",
   "metadata": {},
   "outputs": [
    {
     "data": {
      "text/html": [
       "<div>\n",
       "<style scoped>\n",
       "    .dataframe tbody tr th:only-of-type {\n",
       "        vertical-align: middle;\n",
       "    }\n",
       "\n",
       "    .dataframe tbody tr th {\n",
       "        vertical-align: top;\n",
       "    }\n",
       "\n",
       "    .dataframe thead th {\n",
       "        text-align: right;\n",
       "    }\n",
       "</style>\n",
       "<table border=\"1\" class=\"dataframe\">\n",
       "  <thead>\n",
       "    <tr style=\"text-align: right;\">\n",
       "      <th></th>\n",
       "      <th>Name</th>\n",
       "      <th>Colour</th>\n",
       "      <th>Storage</th>\n",
       "      <th>Battery</th>\n",
       "      <th>Camera_Pixel</th>\n",
       "      <th>Selfie_cam_pixel</th>\n",
       "      <th>Display_size</th>\n",
       "      <th>RAM</th>\n",
       "      <th>Star_ratings</th>\n",
       "      <th>Users_rated</th>\n",
       "      <th>Price</th>\n",
       "    </tr>\n",
       "  </thead>\n",
       "  <tbody>\n",
       "    <tr>\n",
       "      <th>0</th>\n",
       "      <td>vivo T1</td>\n",
       "      <td>Starlight Black</td>\n",
       "      <td>128.0</td>\n",
       "      <td>5000.0</td>\n",
       "      <td>50</td>\n",
       "      <td>16</td>\n",
       "      <td>16.71</td>\n",
       "      <td>6.0</td>\n",
       "      <td>4.4</td>\n",
       "      <td>142.0</td>\n",
       "      <td>16990.0</td>\n",
       "    </tr>\n",
       "    <tr>\n",
       "      <th>1</th>\n",
       "      <td>vivo T1</td>\n",
       "      <td>Starry Sky</td>\n",
       "      <td>128.0</td>\n",
       "      <td>5000.0</td>\n",
       "      <td>50</td>\n",
       "      <td>16</td>\n",
       "      <td>16.36</td>\n",
       "      <td>4.0</td>\n",
       "      <td>4.4</td>\n",
       "      <td>63308.0</td>\n",
       "      <td>14499.0</td>\n",
       "    </tr>\n",
       "    <tr>\n",
       "      <th>2</th>\n",
       "      <td>vivo T1</td>\n",
       "      <td>Midnight Galaxy</td>\n",
       "      <td>128.0</td>\n",
       "      <td>5000.0</td>\n",
       "      <td>50</td>\n",
       "      <td>16</td>\n",
       "      <td>16.36</td>\n",
       "      <td>4.0</td>\n",
       "      <td>4.4</td>\n",
       "      <td>63308.0</td>\n",
       "      <td>14499.0</td>\n",
       "    </tr>\n",
       "    <tr>\n",
       "      <th>3</th>\n",
       "      <td>vivo T1</td>\n",
       "      <td>Rainbow Fantasy</td>\n",
       "      <td>128.0</td>\n",
       "      <td>5000.0</td>\n",
       "      <td>50</td>\n",
       "      <td>16</td>\n",
       "      <td>16.71</td>\n",
       "      <td>4.0</td>\n",
       "      <td>4.3</td>\n",
       "      <td>52996.0</td>\n",
       "      <td>15990.0</td>\n",
       "    </tr>\n",
       "    <tr>\n",
       "      <th>4</th>\n",
       "      <td>vivo T1</td>\n",
       "      <td>Rainbow Fantasy</td>\n",
       "      <td>128.0</td>\n",
       "      <td>5000.0</td>\n",
       "      <td>50</td>\n",
       "      <td>16</td>\n",
       "      <td>16.71</td>\n",
       "      <td>6.0</td>\n",
       "      <td>4.4</td>\n",
       "      <td>142.0</td>\n",
       "      <td>16990.0</td>\n",
       "    </tr>\n",
       "    <tr>\n",
       "      <th>...</th>\n",
       "      <td>...</td>\n",
       "      <td>...</td>\n",
       "      <td>...</td>\n",
       "      <td>...</td>\n",
       "      <td>...</td>\n",
       "      <td>...</td>\n",
       "      <td>...</td>\n",
       "      <td>...</td>\n",
       "      <td>...</td>\n",
       "      <td>...</td>\n",
       "      <td>...</td>\n",
       "    </tr>\n",
       "    <tr>\n",
       "      <th>89</th>\n",
       "      <td>vivo V15</td>\n",
       "      <td>Topaz Blue</td>\n",
       "      <td>128.0</td>\n",
       "      <td>3700.0</td>\n",
       "      <td>8</td>\n",
       "      <td>32</td>\n",
       "      <td>16.23</td>\n",
       "      <td>8.0</td>\n",
       "      <td>4.5</td>\n",
       "      <td>3055.0</td>\n",
       "      <td>34990.0</td>\n",
       "    </tr>\n",
       "    <tr>\n",
       "      <th>90</th>\n",
       "      <td>vivo X21</td>\n",
       "      <td>Black</td>\n",
       "      <td>128.0</td>\n",
       "      <td>3200.0</td>\n",
       "      <td>12</td>\n",
       "      <td>12</td>\n",
       "      <td>15.95</td>\n",
       "      <td>6.0</td>\n",
       "      <td>4.3</td>\n",
       "      <td>1893.0</td>\n",
       "      <td>36990.0</td>\n",
       "    </tr>\n",
       "    <tr>\n",
       "      <th>91</th>\n",
       "      <td>vivo V21</td>\n",
       "      <td>Neon Spark</td>\n",
       "      <td>128.0</td>\n",
       "      <td>4000.0</td>\n",
       "      <td>64</td>\n",
       "      <td>44</td>\n",
       "      <td>16.36</td>\n",
       "      <td>8.0</td>\n",
       "      <td>4.3</td>\n",
       "      <td>17001.0</td>\n",
       "      <td>27999.0</td>\n",
       "    </tr>\n",
       "    <tr>\n",
       "      <th>92</th>\n",
       "      <td>vivo S1</td>\n",
       "      <td>Skyline Blue</td>\n",
       "      <td>64.0</td>\n",
       "      <td>4500.0</td>\n",
       "      <td>16</td>\n",
       "      <td>32</td>\n",
       "      <td>16.21</td>\n",
       "      <td>6.0</td>\n",
       "      <td>4.4</td>\n",
       "      <td>2739.0</td>\n",
       "      <td>20990.0</td>\n",
       "    </tr>\n",
       "    <tr>\n",
       "      <th>93</th>\n",
       "      <td>vivo U10</td>\n",
       "      <td>Electric Blue</td>\n",
       "      <td>64.0</td>\n",
       "      <td>5000.0</td>\n",
       "      <td>13</td>\n",
       "      <td>8</td>\n",
       "      <td>16.13</td>\n",
       "      <td>4.0</td>\n",
       "      <td>4.4</td>\n",
       "      <td>5596.0</td>\n",
       "      <td>13990.0</td>\n",
       "    </tr>\n",
       "  </tbody>\n",
       "</table>\n",
       "<p>94 rows × 11 columns</p>\n",
       "</div>"
      ],
      "text/plain": [
       "        Name           Colour  Storage  Battery  Camera_Pixel  \\\n",
       "0    vivo T1  Starlight Black    128.0   5000.0            50   \n",
       "1    vivo T1       Starry Sky    128.0   5000.0            50   \n",
       "2    vivo T1  Midnight Galaxy    128.0   5000.0            50   \n",
       "3    vivo T1  Rainbow Fantasy    128.0   5000.0            50   \n",
       "4    vivo T1  Rainbow Fantasy    128.0   5000.0            50   \n",
       "..       ...              ...      ...      ...           ...   \n",
       "89  vivo V15       Topaz Blue    128.0   3700.0             8   \n",
       "90  vivo X21            Black    128.0   3200.0            12   \n",
       "91  vivo V21       Neon Spark    128.0   4000.0            64   \n",
       "92   vivo S1     Skyline Blue     64.0   4500.0            16   \n",
       "93  vivo U10    Electric Blue     64.0   5000.0            13   \n",
       "\n",
       "    Selfie_cam_pixel  Display_size  RAM  Star_ratings  Users_rated    Price  \n",
       "0                 16         16.71  6.0           4.4        142.0  16990.0  \n",
       "1                 16         16.36  4.0           4.4      63308.0  14499.0  \n",
       "2                 16         16.36  4.0           4.4      63308.0  14499.0  \n",
       "3                 16         16.71  4.0           4.3      52996.0  15990.0  \n",
       "4                 16         16.71  6.0           4.4        142.0  16990.0  \n",
       "..               ...           ...  ...           ...          ...      ...  \n",
       "89                32         16.23  8.0           4.5       3055.0  34990.0  \n",
       "90                12         15.95  6.0           4.3       1893.0  36990.0  \n",
       "91                44         16.36  8.0           4.3      17001.0  27999.0  \n",
       "92                32         16.21  6.0           4.4       2739.0  20990.0  \n",
       "93                 8         16.13  4.0           4.4       5596.0  13990.0  \n",
       "\n",
       "[94 rows x 11 columns]"
      ]
     },
     "execution_count": 238,
     "metadata": {},
     "output_type": "execute_result"
    }
   ],
   "source": [
    "r1"
   ]
  },
  {
   "cell_type": "code",
   "execution_count": 239,
   "id": "e4bc74c8",
   "metadata": {},
   "outputs": [],
   "source": [
    "r1.to_csv(\"vivo_flipkart.csv\")"
   ]
  },
  {
   "cell_type": "code",
   "execution_count": 240,
   "id": "adb1aa33",
   "metadata": {},
   "outputs": [
    {
     "data": {
      "text/plain": [
       "1"
      ]
     },
     "execution_count": 240,
     "metadata": {},
     "output_type": "execute_result"
    }
   ],
   "source": [
    "r1.duplicated().sum()"
   ]
  },
  {
   "cell_type": "code",
   "execution_count": 245,
   "id": "ce29a552",
   "metadata": {},
   "outputs": [
    {
     "data": {
      "text/html": [
       "<div>\n",
       "<style scoped>\n",
       "    .dataframe tbody tr th:only-of-type {\n",
       "        vertical-align: middle;\n",
       "    }\n",
       "\n",
       "    .dataframe tbody tr th {\n",
       "        vertical-align: top;\n",
       "    }\n",
       "\n",
       "    .dataframe thead th {\n",
       "        text-align: right;\n",
       "    }\n",
       "</style>\n",
       "<table border=\"1\" class=\"dataframe\">\n",
       "  <thead>\n",
       "    <tr style=\"text-align: right;\">\n",
       "      <th></th>\n",
       "      <th>Name</th>\n",
       "      <th>Colour</th>\n",
       "      <th>Storage</th>\n",
       "      <th>Battery</th>\n",
       "      <th>Camera_Pixel</th>\n",
       "      <th>Selfie_cam_pixel</th>\n",
       "      <th>Display_size</th>\n",
       "      <th>RAM</th>\n",
       "      <th>Star_ratings</th>\n",
       "      <th>Users_rated</th>\n",
       "      <th>Price</th>\n",
       "    </tr>\n",
       "  </thead>\n",
       "  <tbody>\n",
       "    <tr>\n",
       "      <th>0</th>\n",
       "      <td>vivo T1</td>\n",
       "      <td>Starlight Black</td>\n",
       "      <td>128.0</td>\n",
       "      <td>5000.0</td>\n",
       "      <td>50</td>\n",
       "      <td>16</td>\n",
       "      <td>16.71</td>\n",
       "      <td>6.0</td>\n",
       "      <td>4.4</td>\n",
       "      <td>142.0</td>\n",
       "      <td>16990.0</td>\n",
       "    </tr>\n",
       "    <tr>\n",
       "      <th>1</th>\n",
       "      <td>vivo T1</td>\n",
       "      <td>Starry Sky</td>\n",
       "      <td>128.0</td>\n",
       "      <td>5000.0</td>\n",
       "      <td>50</td>\n",
       "      <td>16</td>\n",
       "      <td>16.36</td>\n",
       "      <td>4.0</td>\n",
       "      <td>4.4</td>\n",
       "      <td>63308.0</td>\n",
       "      <td>14499.0</td>\n",
       "    </tr>\n",
       "    <tr>\n",
       "      <th>2</th>\n",
       "      <td>vivo T1</td>\n",
       "      <td>Midnight Galaxy</td>\n",
       "      <td>128.0</td>\n",
       "      <td>5000.0</td>\n",
       "      <td>50</td>\n",
       "      <td>16</td>\n",
       "      <td>16.36</td>\n",
       "      <td>4.0</td>\n",
       "      <td>4.4</td>\n",
       "      <td>63308.0</td>\n",
       "      <td>14499.0</td>\n",
       "    </tr>\n",
       "    <tr>\n",
       "      <th>3</th>\n",
       "      <td>vivo T1</td>\n",
       "      <td>Rainbow Fantasy</td>\n",
       "      <td>128.0</td>\n",
       "      <td>5000.0</td>\n",
       "      <td>50</td>\n",
       "      <td>16</td>\n",
       "      <td>16.71</td>\n",
       "      <td>4.0</td>\n",
       "      <td>4.3</td>\n",
       "      <td>52996.0</td>\n",
       "      <td>15990.0</td>\n",
       "    </tr>\n",
       "    <tr>\n",
       "      <th>4</th>\n",
       "      <td>vivo T1</td>\n",
       "      <td>Rainbow Fantasy</td>\n",
       "      <td>128.0</td>\n",
       "      <td>5000.0</td>\n",
       "      <td>50</td>\n",
       "      <td>16</td>\n",
       "      <td>16.71</td>\n",
       "      <td>6.0</td>\n",
       "      <td>4.4</td>\n",
       "      <td>142.0</td>\n",
       "      <td>16990.0</td>\n",
       "    </tr>\n",
       "    <tr>\n",
       "      <th>...</th>\n",
       "      <td>...</td>\n",
       "      <td>...</td>\n",
       "      <td>...</td>\n",
       "      <td>...</td>\n",
       "      <td>...</td>\n",
       "      <td>...</td>\n",
       "      <td>...</td>\n",
       "      <td>...</td>\n",
       "      <td>...</td>\n",
       "      <td>...</td>\n",
       "      <td>...</td>\n",
       "    </tr>\n",
       "    <tr>\n",
       "      <th>89</th>\n",
       "      <td>vivo V15</td>\n",
       "      <td>Topaz Blue</td>\n",
       "      <td>128.0</td>\n",
       "      <td>3700.0</td>\n",
       "      <td>8</td>\n",
       "      <td>32</td>\n",
       "      <td>16.23</td>\n",
       "      <td>8.0</td>\n",
       "      <td>4.5</td>\n",
       "      <td>3055.0</td>\n",
       "      <td>34990.0</td>\n",
       "    </tr>\n",
       "    <tr>\n",
       "      <th>90</th>\n",
       "      <td>vivo X21</td>\n",
       "      <td>Black</td>\n",
       "      <td>128.0</td>\n",
       "      <td>3200.0</td>\n",
       "      <td>12</td>\n",
       "      <td>12</td>\n",
       "      <td>15.95</td>\n",
       "      <td>6.0</td>\n",
       "      <td>4.3</td>\n",
       "      <td>1893.0</td>\n",
       "      <td>36990.0</td>\n",
       "    </tr>\n",
       "    <tr>\n",
       "      <th>91</th>\n",
       "      <td>vivo V21</td>\n",
       "      <td>Neon Spark</td>\n",
       "      <td>128.0</td>\n",
       "      <td>4000.0</td>\n",
       "      <td>64</td>\n",
       "      <td>44</td>\n",
       "      <td>16.36</td>\n",
       "      <td>8.0</td>\n",
       "      <td>4.3</td>\n",
       "      <td>17001.0</td>\n",
       "      <td>27999.0</td>\n",
       "    </tr>\n",
       "    <tr>\n",
       "      <th>92</th>\n",
       "      <td>vivo S1</td>\n",
       "      <td>Skyline Blue</td>\n",
       "      <td>64.0</td>\n",
       "      <td>4500.0</td>\n",
       "      <td>16</td>\n",
       "      <td>32</td>\n",
       "      <td>16.21</td>\n",
       "      <td>6.0</td>\n",
       "      <td>4.4</td>\n",
       "      <td>2739.0</td>\n",
       "      <td>20990.0</td>\n",
       "    </tr>\n",
       "    <tr>\n",
       "      <th>93</th>\n",
       "      <td>vivo U10</td>\n",
       "      <td>Electric Blue</td>\n",
       "      <td>64.0</td>\n",
       "      <td>5000.0</td>\n",
       "      <td>13</td>\n",
       "      <td>8</td>\n",
       "      <td>16.13</td>\n",
       "      <td>4.0</td>\n",
       "      <td>4.4</td>\n",
       "      <td>5596.0</td>\n",
       "      <td>13990.0</td>\n",
       "    </tr>\n",
       "  </tbody>\n",
       "</table>\n",
       "<p>93 rows × 11 columns</p>\n",
       "</div>"
      ],
      "text/plain": [
       "        Name           Colour  Storage  Battery  Camera_Pixel  \\\n",
       "0    vivo T1  Starlight Black    128.0   5000.0            50   \n",
       "1    vivo T1       Starry Sky    128.0   5000.0            50   \n",
       "2    vivo T1  Midnight Galaxy    128.0   5000.0            50   \n",
       "3    vivo T1  Rainbow Fantasy    128.0   5000.0            50   \n",
       "4    vivo T1  Rainbow Fantasy    128.0   5000.0            50   \n",
       "..       ...              ...      ...      ...           ...   \n",
       "89  vivo V15       Topaz Blue    128.0   3700.0             8   \n",
       "90  vivo X21            Black    128.0   3200.0            12   \n",
       "91  vivo V21       Neon Spark    128.0   4000.0            64   \n",
       "92   vivo S1     Skyline Blue     64.0   4500.0            16   \n",
       "93  vivo U10    Electric Blue     64.0   5000.0            13   \n",
       "\n",
       "    Selfie_cam_pixel  Display_size  RAM  Star_ratings  Users_rated    Price  \n",
       "0                 16         16.71  6.0           4.4        142.0  16990.0  \n",
       "1                 16         16.36  4.0           4.4      63308.0  14499.0  \n",
       "2                 16         16.36  4.0           4.4      63308.0  14499.0  \n",
       "3                 16         16.71  4.0           4.3      52996.0  15990.0  \n",
       "4                 16         16.71  6.0           4.4        142.0  16990.0  \n",
       "..               ...           ...  ...           ...          ...      ...  \n",
       "89                32         16.23  8.0           4.5       3055.0  34990.0  \n",
       "90                12         15.95  6.0           4.3       1893.0  36990.0  \n",
       "91                44         16.36  8.0           4.3      17001.0  27999.0  \n",
       "92                32         16.21  6.0           4.4       2739.0  20990.0  \n",
       "93                 8         16.13  4.0           4.4       5596.0  13990.0  \n",
       "\n",
       "[93 rows x 11 columns]"
      ]
     },
     "execution_count": 245,
     "metadata": {},
     "output_type": "execute_result"
    }
   ],
   "source": [
    "r1.drop_duplicates()"
   ]
  },
  {
   "cell_type": "code",
   "execution_count": null,
   "id": "d0b0f3e0",
   "metadata": {},
   "outputs": [],
   "source": []
  }
 ],
 "metadata": {
  "kernelspec": {
   "display_name": "Python 3 (ipykernel)",
   "language": "python",
   "name": "python3"
  },
  "language_info": {
   "codemirror_mode": {
    "name": "ipython",
    "version": 3
   },
   "file_extension": ".py",
   "mimetype": "text/x-python",
   "name": "python",
   "nbconvert_exporter": "python",
   "pygments_lexer": "ipython3",
   "version": "3.9.12"
  }
 },
 "nbformat": 4,
 "nbformat_minor": 5
}
