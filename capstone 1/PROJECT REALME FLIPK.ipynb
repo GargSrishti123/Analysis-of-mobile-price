{
 "cells": [
  {
   "cell_type": "code",
   "execution_count": 1,
   "id": "2c5a222e",
   "metadata": {},
   "outputs": [],
   "source": [
    "import re\n",
    "import requests\n",
    "from bs4 import BeautifulSoup\n",
    "import pandas as pd\n"
   ]
  },
  {
   "cell_type": "code",
   "execution_count": 2,
   "id": "a96f64cd",
   "metadata": {},
   "outputs": [],
   "source": [
    "headers={\"User-Agent\": \"Mozilla/5.0 (Windows NT 10.0; Win64; x64) AppleWebKit/537.36 (KHTML, like Gecko) Chrome/106.0.0.0 Safari/537.36\"}"
   ]
  },
  {
   "cell_type": "code",
   "execution_count": 3,
   "id": "401731aa",
   "metadata": {},
   "outputs": [],
   "source": [
    "def details(url,headers):\n",
    "    res=requests.get(url,headers=headers)\n",
    "    print(res)\n",
    "    a=BeautifulSoup(res.content,\"html.parser\")\n",
    "    b=a.find(\"span\",attrs={\"class\":\"B_NuCI\"})\n",
    "    c=b.text\n",
    "    d=r'[r,R,P][A-Za-z]+\\s?[A-Za-z0-9]+'\n",
    "    e=re.findall(d,c)\n",
    "    print(e)\n",
    "    f=r'[(][A-Za-z]+\\s?[A-Za-z]+'\n",
    "    g=re.findall(f,c)\n",
    "    print(g)\n",
    "\n",
    "    h=a.find(\"div\",attrs={\"class\":\"_2418kt\"})\n",
    "    i=h.text\n",
    "    j=r'[0-9]+\\s?[M][P]+'\n",
    "    k=re.findall(j,i)\n",
    "    print(k)\n",
    "    l=r'[0-9]+\\s?[G][B]+'\n",
    "    m=re.findall(l,i)\n",
    "    print(m)\n",
    "    n=r'[0-9]+\\s?[m,M][A][H,h]'\n",
    "    o=re.findall(n,i)\n",
    "    print(o)\n",
    "    p=r'[0-9]+\\.[0-9]+\\s?[c,C][m,entimeters]+'\n",
    "    q=re.findall(p,i)\n",
    "    print(q)\n",
    "    r=a.find(\"span\",attrs={\"class\":\"_2_R_DZ\"})\n",
    "    s=r.text\n",
    "    use=r'[0-9]*[,]*[0-9]+'\n",
    "    uss=re.findall(use,s)\n",
    "    print(uss)\n",
    "    t=a.find(\"span\",attrs={\"class\":\"_1lRcqv\"})\n",
    "    u=t.text\n",
    "    print(u)\n",
    "    v=a.find(\"div\",attrs={\"class\":\"_30jeq3 _16Jk6d\"})\n",
    "    w=v.text\n",
    "    print(w)\n",
    "    colour.append(f[0])\n",
    "    \n",
    "    \n",
    "    name.append(e[0])\n",
    "    colour.append(g[0])\n",
    "    camera_px.append(k[0])\n",
    "    self_px.append(k[-1])\n",
    "    ram.append(m[0])\n",
    "    storage.append(m[-1])\n",
    "    battery.append(o[0])\n",
    "    display.append(q[0])\n",
    "    user_rate.append(uss[0])\n",
    "    star_rate.append(u)\n",
    "    price.append(w)\n",
    "    \n",
    "\n",
    "    "
   ]
  },
  {
   "cell_type": "code",
   "execution_count": 4,
   "id": "d72ef4aa",
   "metadata": {},
   "outputs": [],
   "source": [
    "name=[]\n",
    "colour=[]\n",
    "camera_px=[]\n",
    "self_px=[]\n",
    "battery=[]\n",
    "ram=[]\n",
    "storage=[]\n",
    "display=[]\n",
    "user_rate=[]\n",
    "star_rate=[]\n",
    "price=[]"
   ]
  },
  {
   "cell_type": "code",
   "execution_count": 5,
   "id": "f3b4f915",
   "metadata": {},
   "outputs": [
    {
     "name": "stdout",
     "output_type": "stream",
     "text": [
      "<Response [200]>\n",
      "['realme C30s', 'ripe Blue', 'RAM']\n",
      "['(Stripe Blue']\n",
      "['8MP', '5MP']\n",
      "['2 GB', '32 GB']\n",
      "['5000 mAh']\n",
      "['16.51 cm']\n",
      "['871', '32']\n",
      "4.4\n",
      "₹7,499\n"
     ]
    }
   ],
   "source": [
    "b=\"https://www.flipkart.com/realme-c30s-stripe-blue-32-gb/p/itmc206e2354c00f?pid=MOBGHBJGUT83KCY8&lid=LSTMOBGHBJGUT83KCY8FFJVLW&marketplace=FLIPKART&q=reALME+phones&store=tyy%2F4io&srno=s_1_5&otracker=search&otracker1=search&fm=Search&iid=3717728d-d182-465e-92de-6189de16e564.MOBGHBJGUT83KCY8.SEARCH&ppt=sp&ppn=sp&ssid=pvtmn8osb40000001668704530729&qH=4deba930fb3c1679\"\n",
    "details(b,headers)"
   ]
  },
  {
   "cell_type": "code",
   "execution_count": 6,
   "id": "8ba86997",
   "metadata": {},
   "outputs": [
    {
     "name": "stdout",
     "output_type": "stream",
     "text": [
      "<Response [200]>\n",
      "['realme C35', 'RAM']\n",
      "['(Glowing Black']\n",
      "['50MP', '2MP', '3MP', '8MP']\n",
      "['4 GB', '128 GB']\n",
      "['5000 mAh']\n",
      "['16.76 cm']\n",
      "['1,47', ',884', '8,799']\n",
      "4.4\n",
      "₹12,999\n"
     ]
    }
   ],
   "source": [
    "b1=\"https://www.flipkart.com/realme-c35-glowing-black-128-gb/p/itmafb045222b2cf?pid=MOBGBTHFZZN4ADNF&lid=LSTMOBGBTHFZZN4ADNFQJ6OXK&marketplace=FLIPKART&q=reALME+phones&store=tyy%2F4io&srno=s_1_24&otracker=search&otracker1=search&iid=a37a5453-31e3-48d4-adf3-2765f199f5c8.MOBGBTHFZZN4ADNF.SEARCH&ssid=abvvbdro5c0000001668689182817&qH=4deba930fb3c1679\"\n",
    "details(b1,headers)"
   ]
  },
  {
   "cell_type": "code",
   "execution_count": 7,
   "id": "75a6b8c0",
   "metadata": {},
   "outputs": [
    {
     "name": "stdout",
     "output_type": "stream",
     "text": [
      "<Response [200]>\n",
      "['realme C35', 'reen', 'RAM']\n",
      "['(Glowing Green']\n",
      "['50MP', '2MP', '3MP', '8MP']\n",
      "['4 GB', '64 GB']\n",
      "['5000 mAh']\n",
      "['16.76 cm']\n",
      "['1,47', ',884', '8,799']\n",
      "4.4\n",
      "₹11,999\n"
     ]
    }
   ],
   "source": [
    "b2=\"https://www.flipkart.com/realme-c35-glowing-green-64-gb/p/itmafb045222b2cf?pid=MOBGBTHFSKHF8RAU&lid=LSTMOBGBTHFSKHF8RAURAV7HE&marketplace=FLIPKART&q=reALME+phones&store=tyy%2F4io&srno=s_1_23&otracker=search&otracker1=search&iid=a37a5453-31e3-48d4-adf3-2765f199f5c8.MOBGBTHFSKHF8RAU.SEARCH&ssid=abvvbdro5c0000001668689182817&qH=4deba930fb3c1679\"\n",
    "details(b2,headers)"
   ]
  },
  {
   "cell_type": "code",
   "execution_count": 8,
   "id": "7b5123b2",
   "metadata": {},
   "outputs": [
    {
     "name": "stdout",
     "output_type": "stream",
     "text": [
      "<Response [200]>\n",
      "['realme 9i', 'Rocking Black', 'RAM']\n",
      "['(Rocking Black']\n",
      "['50MP', '2MP', '2MP', '8MP']\n",
      "['6 GB', '128 GB']\n",
      "['5000 mAh']\n",
      "['16.76 cm']\n",
      "['3,611', '245']\n",
      "4.3\n",
      "₹16,999\n"
     ]
    }
   ],
   "source": [
    "b3=\"https://www.flipkart.com/realme-9i-5g-rocking-black-128-gb/p/itm32c638d54e6b5?pid=MOBGGHPFDGSBVH6U&lid=LSTMOBGGHPFDGSBVH6UML2D7I&marketplace=FLIPKART&q=reALME+phones&store=tyy%2F4io&srno=s_1_22&otracker=search&otracker1=search&iid=a37a5453-31e3-48d4-adf3-2765f199f5c8.MOBGGHPFDGSBVH6U.SEARCH&ssid=abvvbdro5c0000001668689182817&qH=4deba930fb3c1679\"\n",
    "details(b3,headers)"
   ]
  },
  {
   "cell_type": "code",
   "execution_count": 9,
   "id": "ce3cf6b4",
   "metadata": {},
   "outputs": [
    {
     "name": "stdout",
     "output_type": "stream",
     "text": [
      "<Response [200]>\n",
      "['realme Narzo', 'RAM']\n",
      "['(Speed Blue']\n",
      "['50MP', '2MP', '2MP', '16MP']\n",
      "['6 GB', '128 GB', '256 GB']\n",
      "['5000 mAh']\n",
      "['16.76 cm']\n",
      "['5,877', '420']\n",
      "4.4\n",
      "₹15,499\n"
     ]
    }
   ],
   "source": [
    "b4=\"https://www.flipkart.com/realme-narzo-50-speed-blue-128-gb/p/itm9d47ef5d10145?pid=MOBGC2E7KHZD6MDD&lid=LSTMOBGC2E7KHZD6MDDT9RUWR&marketplace=FLIPKART&q=reALME+phones&store=tyy%2F4io&srno=s_1_21&otracker=search&otracker1=search&iid=a37a5453-31e3-48d4-adf3-2765f199f5c8.MOBGC2E7KHZD6MDD.SEARCH&ssid=abvvbdro5c0000001668689182817&qH=4deba930fb3c1679\"\n",
    "details(b4,headers)"
   ]
  },
  {
   "cell_type": "code",
   "execution_count": 10,
   "id": "31760aef",
   "metadata": {},
   "outputs": [
    {
     "name": "stdout",
     "output_type": "stream",
     "text": [
      "<Response [200]>\n",
      "['realme Narzo', 'RAM']\n",
      "['(Speed Blue']\n",
      "['50MP', '2MP', '2MP', '16MP']\n",
      "['4 GB', '64 GB', '256 GB']\n",
      "['5000 mAh']\n",
      "['16.76 cm']\n",
      "['14,026', '887']\n",
      "4.5\n",
      "₹12,999\n"
     ]
    }
   ],
   "source": [
    "b5=\"https://www.flipkart.com/realme-narzo-50-speed-blue-64-gb/p/itm9d47ef5d10145?pid=MOBGC2E72ZFW9HBY&lid=LSTMOBGC2E72ZFW9HBYXHSNSR&marketplace=FLIPKART&q=reALME+phones&store=tyy%2F4io&srno=s_1_20&otracker=search&otracker1=search&iid=a37a5453-31e3-48d4-adf3-2765f199f5c8.MOBGC2E72ZFW9HBY.SEARCH&ssid=abvvbdro5c0000001668689182817&qH=4deba930fb3c1679\"\n",
    "details(b5,headers)"
   ]
  },
  {
   "cell_type": "code",
   "execution_count": 11,
   "id": "d59ac028",
   "metadata": {},
   "outputs": [
    {
     "name": "stdout",
     "output_type": "stream",
     "text": [
      "<Response [200]>\n",
      "['realme C35', 'RAM']\n",
      "['(Glowing Black']\n",
      "['50MP', '2MP', '3MP', '8MP']\n",
      "['4 GB', '64 GB']\n",
      "['5000 mAh']\n",
      "['16.76 cm']\n",
      "['1,47', ',884', '8,799']\n",
      "4.4\n",
      "₹11,999\n"
     ]
    }
   ],
   "source": [
    "b6=\"https://www.flipkart.com/realme-c35-glowing-black-64-gb/p/itmafb045222b2cf?pid=MOBGBTHFDQXQEGNS&lid=LSTMOBGBTHFDQXQEGNSZWXHXJ&marketplace=FLIPKART&q=reALME+phones&store=tyy%2F4io&srno=s_1_19&otracker=search&otracker1=search&iid=a37a5453-31e3-48d4-adf3-2765f199f5c8.MOBGBTHFDQXQEGNS.SEARCH&ssid=abvvbdro5c0000001668689182817&qH=4deba930fb3c1679\"\n",
    "details(b6,headers)"
   ]
  },
  {
   "cell_type": "code",
   "execution_count": 12,
   "id": "fe8dd9c8",
   "metadata": {
    "scrolled": true
   },
   "outputs": [
    {
     "name": "stdout",
     "output_type": "stream",
     "text": [
      "<Response [200]>\n",
      "['realme Narzo', 'Racing Silver', 'RAM']\n",
      "['(Racing Silver']\n",
      "['48MP', '2MP', '2MP', '16MP']\n",
      "['6 GB', '128 GB']\n",
      "['5000 mAh']\n",
      "['16.51 cm']\n",
      "['83,178', '7,282']\n",
      "4.3\n",
      "₹16,999\n"
     ]
    }
   ],
   "source": [
    "b7=\"https://www.flipkart.com/realme-narzo-30-5g-racing-silver-128-gb/p/itm56837fcb0d6f3?pid=MOBG3W3GWVTBTQZQ&lid=LSTMOBG3W3GWVTBTQZQHSKLPB&marketplace=FLIPKART&q=reALME+phones&store=tyy%2F4io&srno=s_1_18&otracker=search&otracker1=search&iid=a37a5453-31e3-48d4-adf3-2765f199f5c8.MOBG3W3GWVTBTQZQ.SEARCH&ssid=abvvbdro5c0000001668689182817&qH=4deba930fb3c1679\"\n",
    "details(b7,headers)"
   ]
  },
  {
   "cell_type": "code",
   "execution_count": 13,
   "id": "32c5fde3",
   "metadata": {},
   "outputs": [
    {
     "name": "stdout",
     "output_type": "stream",
     "text": [
      "<Response [200]>\n",
      "['realme Narzo', 'RAM']\n",
      "['(Speed Black']\n",
      "['50MP', '2MP', '2MP', '16MP']\n",
      "['6 GB', '128 GB', '256 GB']\n",
      "['5000 mAh']\n",
      "['16.76 cm']\n",
      "['5,877', '420']\n",
      "4.4\n",
      "₹15,499\n"
     ]
    }
   ],
   "source": [
    "b8=\"https://www.flipkart.com/realme-narzo-50-speed-black-128-gb/p/itm9d47ef5d10145?pid=MOBGC2E7VUH9YBWT&lid=LSTMOBGC2E7VUH9YBWTOUJHTF&marketplace=FLIPKART&q=reALME+phones&store=tyy%2F4io&srno=s_1_17&otracker=search&otracker1=search&iid=a37a5453-31e3-48d4-adf3-2765f199f5c8.MOBGC2E7VUH9YBWT.SEARCH&ssid=abvvbdro5c0000001668689182817&qH=4deba930fb3c1679\"\n",
    "details(b8,headers)"
   ]
  },
  {
   "cell_type": "code",
   "execution_count": 14,
   "id": "9e5c31c5",
   "metadata": {},
   "outputs": [
    {
     "name": "stdout",
     "output_type": "stream",
     "text": [
      "<Response [200]>\n",
      "['realme C33', 'RAM']\n",
      "['(Night Sea']\n",
      "['50MP', '3MP', '5MP']\n",
      "['4 GB', '64 GB']\n",
      "['5000 mAh']\n",
      "['16.51 cm']\n",
      "['40,321', '1,646']\n",
      "4.5\n",
      "₹9,999\n"
     ]
    }
   ],
   "source": [
    "b9=\"https://www.flipkart.com/realme-c33-night-sea-64-gb/p/itma112335dbe78a?pid=MOBGHBJGZ3GYDFD2&lid=LSTMOBGHBJGZ3GYDFD2UJE1AM&marketplace=FLIPKART&q=reALME+phones&store=tyy%2F4io&srno=s_1_16&otracker=search&otracker1=search&iid=a37a5453-31e3-48d4-adf3-2765f199f5c8.MOBGHBJGZ3GYDFD2.SEARCH&ssid=abvvbdro5c0000001668689182817&qH=4deba930fb3c1679\"\n",
    "details(b9,headers)"
   ]
  },
  {
   "cell_type": "code",
   "execution_count": 15,
   "id": "ffe5b118",
   "metadata": {},
   "outputs": [
    {
     "name": "stdout",
     "output_type": "stream",
     "text": [
      "<Response [200]>\n",
      "['realme GT', 'Pro', 'RAM']\n",
      "['(Steel Black']\n",
      "['50MP', '50MP', '2MP', '32MP']\n",
      "['8 GB', '128 GB']\n",
      "['5000 mAh']\n",
      "['17.02 cm']\n",
      "['2,490', '392']\n",
      "4.2\n",
      "₹49,999\n"
     ]
    }
   ],
   "source": [
    "b10=\"https://www.flipkart.com/realme-gt-2-pro-steel-black-128-gb/p/itm125e5a8c1de92?pid=MOBGCRYZFJMG84ZE&lid=LSTMOBGCRYZFJMG84ZEGZI1HY&marketplace=FLIPKART&q=reALME+phones&store=tyy%2F4io&srno=s_8_169&otracker=search&otracker1=search&fm=Search&iid=1b370c88-fa12-47c2-afc8-1523e2508106.MOBGCRYZFJMG84ZE.SEARCH&ppt=sp&ppn=sp&qH=4deba930fb3c1679\"\n",
    "details(b10,headers)"
   ]
  },
  {
   "cell_type": "code",
   "execution_count": 16,
   "id": "ae856813",
   "metadata": {},
   "outputs": [
    {
     "name": "stdout",
     "output_type": "stream",
     "text": [
      "<Response [200]>\n",
      "['realme C33', 'RAM']\n",
      "['(Aqua Blue']\n",
      "['50MP', '3MP', '5MP']\n",
      "['4 GB', '64 GB']\n",
      "['5000 mAh']\n",
      "['16.51 cm']\n",
      "['40,321', '1,646']\n",
      "4.5\n",
      "₹9,999\n"
     ]
    }
   ],
   "source": [
    "b11=\"https://www.flipkart.com/realme-c33-aqua-blue-64-gb/p/itma112335dbe78a?pid=MOBGHBJG3M6FB35G&lid=LSTMOBGHBJG3M6FB35GOCB4ZL&marketplace=FLIPKART&q=reALME+phones&store=tyy%2F4io&srno=s_1_15&otracker=search&otracker1=search&iid=a37a5453-31e3-48d4-adf3-2765f199f5c8.MOBGHBJG3M6FB35G.SEARCH&ssid=abvvbdro5c0000001668689182817&qH=4deba930fb3c1679\"\n",
    "details(b11,headers)"
   ]
  },
  {
   "cell_type": "code",
   "execution_count": 17,
   "id": "932cf8d1",
   "metadata": {},
   "outputs": [
    {
     "name": "stdout",
     "output_type": "stream",
     "text": [
      "<Response [200]>\n",
      "['realme C33', 'RAM']\n",
      "['(Sandy Gold']\n",
      "['50MP', '3MP', '5MP']\n",
      "['4 GB', '64 GB']\n",
      "['5000 mAh']\n",
      "['16.51 cm']\n",
      "['40,321', '1,646']\n",
      "4.5\n",
      "₹9,999\n"
     ]
    }
   ],
   "source": [
    "b12=\"https://www.flipkart.com/realme-c33-sandy-gold-64-gb/p/itma112335dbe78a?pid=MOBGHBJG8NWDGK6T&lid=LSTMOBGHBJG8NWDGK6TYTLTOF&marketplace=FLIPKART&q=reALME+phones&store=tyy%2F4io&srno=s_1_14&otracker=search&otracker1=search&iid=a37a5453-31e3-48d4-adf3-2765f199f5c8.MOBGHBJG8NWDGK6T.SEARCH&ssid=abvvbdro5c0000001668689182817&qH=4deba930fb3c1679\"\n",
    "details(b12,headers)"
   ]
  },
  {
   "cell_type": "code",
   "execution_count": 18,
   "id": "714a5c9d",
   "metadata": {},
   "outputs": [
    {
     "name": "stdout",
     "output_type": "stream",
     "text": [
      "<Response [200]>\n",
      "['realme 9', 'RAM']\n",
      "['(Meteor Black']\n",
      "['108MP', '8MP', '2MP', '16MP']\n",
      "['8 GB', '128 GB', '256 GB']\n",
      "['5000 mAh']\n",
      "['16.26 cm']\n",
      "['15,580', '1,231']\n",
      "4.4\n",
      "₹17,999\n"
     ]
    }
   ],
   "source": [
    "b13=\"https://www.flipkart.com/realme-9-meteor-black-128-gb/p/itm73722a6d35d36?pid=MOBGDYSHVUMESCUV&lid=LSTMOBGDYSHVUMESCUVRIRTHR&marketplace=FLIPKART&q=reALME+phones&store=tyy%2F4io&srno=s_1_13&otracker=search&otracker1=search&iid=a37a5453-31e3-48d4-adf3-2765f199f5c8.MOBGDYSHVUMESCUV.SEARCH&ssid=abvvbdro5c0000001668689182817&qH=4deba930fb3c1679\"\n",
    "details(b13,headers)"
   ]
  },
  {
   "cell_type": "code",
   "execution_count": 19,
   "id": "a2d110ea",
   "metadata": {},
   "outputs": [
    {
     "name": "stdout",
     "output_type": "stream",
     "text": [
      "<Response [200]>\n",
      "['realme 9', 'rgaze White', 'RAM']\n",
      "['(Stargaze White']\n",
      "['108MP', '8MP', '2MP', '16MP']\n",
      "['8 GB', '128 GB', '256 GB']\n",
      "['5000 mAh']\n",
      "['16.26 cm']\n",
      "['15,580', '1,231']\n",
      "4.4\n",
      "₹17,999\n"
     ]
    }
   ],
   "source": [
    "b14=\"https://www.flipkart.com/realme-9-stargaze-white-128-gb/p/itm73722a6d35d36?pid=MOBGDYSHHURXMSH6&lid=LSTMOBGDYSHHURXMSH6QKOOH7&marketplace=FLIPKART&q=reALME+phones&store=tyy%2F4io&srno=s_1_12&otracker=search&otracker1=search&iid=a37a5453-31e3-48d4-adf3-2765f199f5c8.MOBGDYSHHURXMSH6.SEARCH&ssid=abvvbdro5c0000001668689182817&qH=4deba930fb3c1679\"\n",
    "details(b14,headers)"
   ]
  },
  {
   "cell_type": "code",
   "execution_count": 20,
   "id": "96aa0579",
   "metadata": {},
   "outputs": [
    {
     "name": "stdout",
     "output_type": "stream",
     "text": [
      "<Response [200]>\n",
      "['realme 9', 'rst Gold', 'RAM']\n",
      "['(Sunburst Gold']\n",
      "['108MP', '8MP', '2MP', '16MP']\n",
      "['8 GB', '128 GB', '256 GB']\n",
      "['5000 mAh']\n",
      "['16.26 cm']\n",
      "['15,580', '1,231']\n",
      "4.4\n",
      "₹17,999\n"
     ]
    }
   ],
   "source": [
    "b15=\"https://www.flipkart.com/realme-9-sunburst-gold-128-gb/p/itm73722a6d35d36?pid=MOBGDYSH8EWQZ4XU&lid=LSTMOBGDYSH8EWQZ4XUTALWYH&marketplace=FLIPKART&q=reALME+phones&store=tyy%2F4io&srno=s_1_11&otracker=search&otracker1=search&iid=a37a5453-31e3-48d4-adf3-2765f199f5c8.MOBGDYSH8EWQZ4XU.SEARCH&ssid=abvvbdro5c0000001668689182817&qH=4deba930fb3c1679\"\n",
    "details(b15,headers)"
   ]
  },
  {
   "cell_type": "code",
   "execution_count": 21,
   "id": "184da41a",
   "metadata": {},
   "outputs": [
    {
     "name": "stdout",
     "output_type": "stream",
     "text": [
      "<Response [200]>\n",
      "['realme C30s', 'ripe Black', 'RAM']\n",
      "['(Stripe Black']\n",
      "['8MP', '5MP']\n",
      "['2 GB', '32 GB']\n",
      "['5000 mAh']\n",
      "['16.51 cm']\n",
      "['871', '32']\n",
      "4.4\n",
      "₹7,499\n"
     ]
    }
   ],
   "source": [
    "b16=\"https://www.flipkart.com/realme-c30s-stripe-black-32-gb/p/itmc206e2354c00f?pid=MOBGHBJGCTJKDSSG&lid=LSTMOBGHBJGCTJKDSSGB9GXB3&marketplace=FLIPKART&q=reALME+phones&store=tyy%2F4io&srno=s_1_10&otracker=search&otracker1=search&iid=a37a5453-31e3-48d4-adf3-2765f199f5c8.MOBGHBJGCTJKDSSG.SEARCH&ssid=abvvbdro5c0000001668689182817&qH=4deba930fb3c1679\"\n",
    "details(b16,headers)"
   ]
  },
  {
   "cell_type": "code",
   "execution_count": 22,
   "id": "a809aeb2",
   "metadata": {},
   "outputs": [
    {
     "name": "stdout",
     "output_type": "stream",
     "text": [
      "<Response [200]>\n",
      "['realme C33', 'RAM']\n",
      "['(Aqua Blue']\n",
      "['50MP', '3MP', '5MP']\n",
      "['3 GB', '32 GB']\n",
      "['5000 mAh']\n",
      "['16.51 cm']\n",
      "['13,450', '532']\n",
      "4.5\n",
      "₹8,999\n"
     ]
    }
   ],
   "source": [
    "b17=\"https://www.flipkart.com/realme-c33-aqua-blue-32-gb/p/itma112335dbe78a?pid=MOBGHBJGFKM7MNQH&lid=LSTMOBGHBJGFKM7MNQHMLW6ZM&marketplace=FLIPKART&q=reALME+phones&store=tyy%2F4io&srno=s_1_8&otracker=search&otracker1=search&iid=a37a5453-31e3-48d4-adf3-2765f199f5c8.MOBGHBJGFKM7MNQH.SEARCH&ssid=abvvbdro5c0000001668689182817&qH=4deba930fb3c1679\"\n",
    "details(b17,headers)"
   ]
  },
  {
   "cell_type": "code",
   "execution_count": 24,
   "id": "8c785147",
   "metadata": {},
   "outputs": [
    {
     "name": "stdout",
     "output_type": "stream",
     "text": [
      "<Response [200]>\n",
      "['realme 9i', 'RAM']\n",
      "['(Soulful Blue']\n",
      "['50MP', '2MP', '2MP', '8MP']\n",
      "['4 GB', '64 GB']\n",
      "['5000 mAh']\n",
      "['16.76 cm']\n",
      "['32,349', '1,408']\n",
      "4.5\n",
      "₹14,999\n"
     ]
    }
   ],
   "source": [
    "b18=\"https://www.flipkart.com/realme-9i-5g-soulful-blue-64-gb/p/itm32c638d54e6b5?pid=MOBGGHPFGD3H4MJG&lid=LSTMOBGGHPFGD3H4MJGTOYEDA&marketplace=FLIPKART&q=reALME+phones&store=tyy%2F4io&srno=s_1_6&otracker=search&otracker1=search&iid=a37a5453-31e3-48d4-adf3-2765f199f5c8.MOBGGHPFGD3H4MJG.SEARCH&ssid=abvvbdro5c0000001668689182817&qH=4deba930fb3c1679\"\n",
    "details(b18,headers)"
   ]
  },
  {
   "cell_type": "code",
   "execution_count": 25,
   "id": "591919f5",
   "metadata": {},
   "outputs": [
    {
     "name": "stdout",
     "output_type": "stream",
     "text": [
      "<Response [200]>\n",
      "['realme 9i', 'RAM']\n",
      "['(Metallica Gold']\n",
      "['50MP', '2MP', '2MP', '8MP']\n",
      "['4 GB', '64 GB']\n",
      "['5000 mAh']\n",
      "['16.76 cm']\n",
      "['32,349', '1,408']\n",
      "4.5\n",
      "₹14,999\n"
     ]
    }
   ],
   "source": [
    "b19=\"https://www.flipkart.com/realme-9i-5g-metallica-gold-64-gb/p/itm32c638d54e6b5?pid=MOBGGHPF5X7EMY5H&lid=LSTMOBGGHPF5X7EMY5HSBWKBW&marketplace=FLIPKART&q=reALME+phones&store=tyy%2F4io&srno=s_1_5&otracker=search&otracker1=search&iid=a37a5453-31e3-48d4-adf3-2765f199f5c8.MOBGGHPF5X7EMY5H.SEARCH&ssid=abvvbdro5c0000001668689182817&qH=4deba930fb3c1679\"\n",
    "details(b19,headers)"
   ]
  },
  {
   "cell_type": "code",
   "execution_count": 26,
   "id": "a1249bc0",
   "metadata": {},
   "outputs": [
    {
     "name": "stdout",
     "output_type": "stream",
     "text": [
      "<Response [200]>\n",
      "['realme 9i', 'Rocking Black', 'RAM']\n",
      "['(Rocking Black']\n",
      "['50MP', '2MP', '2MP', '8MP']\n",
      "['4 GB', '64 GB']\n",
      "['5000 mAh']\n",
      "['16.76 cm']\n",
      "['32,349', '1,408']\n",
      "4.5\n",
      "₹14,999\n"
     ]
    }
   ],
   "source": [
    "b20=\"https://www.flipkart.com/realme-9i-5g-rocking-black-64-gb/p/itm32c638d54e6b5?pid=MOBGGHPFJK67HFGK&lid=LSTMOBGGHPFJK67HFGKNXMKLL&marketplace=FLIPKART&q=reALME+phones&store=tyy%2F4io&srno=s_1_4&otracker=search&otracker1=search&iid=a37a5453-31e3-48d4-adf3-2765f199f5c8.MOBGGHPFJK67HFGK.SEARCH&ssid=abvvbdro5c0000001668689182817&qH=4deba930fb3c1679\"\n",
    "details(b20,headers)"
   ]
  },
  {
   "cell_type": "code",
   "execution_count": 27,
   "id": "0a7fcdb3",
   "metadata": {},
   "outputs": [
    {
     "name": "stdout",
     "output_type": "stream",
     "text": [
      "<Response [200]>\n",
      "['realme 9', 'RAM']\n",
      "['(Meteor Black']\n",
      "['108MP', '8MP', '2MP', '16MP']\n",
      "['6 GB', '128 GB', '256 GB']\n",
      "['5000 mAh']\n",
      "['16.26 cm']\n",
      "['46,338', '3,315']\n",
      "4.4\n",
      "₹16,999\n"
     ]
    }
   ],
   "source": [
    "b21=\"https://www.flipkart.com/realme-9-meteor-black-128-gb/p/itm73722a6d35d36?pid=MOBGDYSHYBBS2BBF&lid=LSTMOBGDYSHYBBS2BBFVN36CV&marketplace=FLIPKART&q=reALME+phones&store=tyy%2F4io&srno=s_1_3&otracker=search&otracker1=search&iid=a37a5453-31e3-48d4-adf3-2765f199f5c8.MOBGDYSHYBBS2BBF.SEARCH&ssid=abvvbdro5c0000001668689182817&qH=4deba930fb3c1679|\"\n",
    "details(b21,headers)"
   ]
  },
  {
   "cell_type": "code",
   "execution_count": 28,
   "id": "4df9f507",
   "metadata": {},
   "outputs": [
    {
     "name": "stdout",
     "output_type": "stream",
     "text": [
      "<Response [200]>\n",
      "['realme C30', 'reen', 'RAM']\n",
      "['(Bamboo Green']\n",
      "['8MP', '5MP']\n",
      "['3 GB', '32 GB']\n",
      "['5000 mAh']\n",
      "['16.51 cm']\n",
      "['26,797', '1,681']\n",
      "4.1\n",
      "₹7,999\n"
     ]
    }
   ],
   "source": [
    "b22=\"https://www.flipkart.com/realme-c30-bamboo-green-32-gb/p/itmfcf69b2db5059?pid=MOBGF37GUWGZQYGR&lid=LSTMOBGF37GUWGZQYGRVXRDM1&marketplace=FLIPKART&q=reALME+phones&store=tyy%2F4io&srno=s_2_48&otracker=search&otracker1=search&fm=Search&iid=cb42099c-7ae7-49ed-a38d-c24a146e350b.MOBGF37GUWGZQYGR.SEARCH&ppt=sp&ppn=sp&ssid=abvvbdro5c0000001668689182817&qH=4deba930fb3c1679\"\n",
    "details(b22,headers)"
   ]
  },
  {
   "cell_type": "code",
   "execution_count": 29,
   "id": "ab8e4ebd",
   "metadata": {},
   "outputs": [
    {
     "name": "stdout",
     "output_type": "stream",
     "text": [
      "<Response [200]>\n",
      "['realme C30', 'RAM']\n",
      "['(Denim Black']\n",
      "['8MP', '5MP']\n",
      "['3 GB', '32 GB']\n",
      "['5000 mAh']\n",
      "['16.51 cm']\n",
      "['26,797', '1,681']\n",
      "4.1\n",
      "₹7,999\n"
     ]
    }
   ],
   "source": [
    "b23=\"https://www.flipkart.com/realme-c30-denim-black-32-gb/p/itmfcf69b2db5059?pid=MOBGF37GMBMYRFBK&lid=LSTMOBGF37GMBMYRFBKNVTNSG&marketplace=FLIPKART&q=reALME+phones&store=tyy%2F4io&srno=s_2_47&otracker=search&otracker1=search&fm=Search&iid=cb42099c-7ae7-49ed-a38d-c24a146e350b.MOBGF37GMBMYRFBK.SEARCH&ppt=sp&ppn=sp&ssid=abvvbdro5c0000001668689182817&qH=4deba930fb3c1679\"\n",
    "details(b23,headers)"
   ]
  },
  {
   "cell_type": "code",
   "execution_count": 30,
   "id": "1c30d4f9",
   "metadata": {},
   "outputs": [
    {
     "name": "stdout",
     "output_type": "stream",
     "text": [
      "<Response [200]>\n",
      "['realme C35', 'RAM']\n",
      "['(Glowing Black']\n",
      "['50MP', '2MP', '3MP', '8MP']\n",
      "['6 GB', '128 GB']\n",
      "['5000 mAh']\n",
      "['16.76 cm']\n",
      "['10,294', '656']\n",
      "4.2\n",
      "₹13,999\n"
     ]
    }
   ],
   "source": [
    "b24=\"https://www.flipkart.com/realme-c35-glowing-black-128-gb/p/itmafb045222b2cf?pid=MOBGFJ35DCSRJU2K&lid=LSTMOBGFJ35DCSRJU2KUTTAC1&marketplace=FLIPKART&q=reALME+phones&store=tyy%2F4io&srno=s_2_46&otracker=search&otracker1=search&fm=Search&iid=cb42099c-7ae7-49ed-a38d-c24a146e350b.MOBGFJ35DCSRJU2K.SEARCH&ppt=sp&ppn=sp&ssid=abvvbdro5c0000001668689182817&qH=4deba930fb3c1679\"\n",
    "details(b24,headers)"
   ]
  },
  {
   "cell_type": "code",
   "execution_count": 31,
   "id": "6d020fb8",
   "metadata": {},
   "outputs": [
    {
     "name": "stdout",
     "output_type": "stream",
     "text": [
      "<Response [200]>\n",
      "['realme C30', 'RAM']\n",
      "['(Lake Blue']\n",
      "['8MP', '5MP']\n",
      "['2 GB', '32 GB']\n",
      "['5000 mAh']\n",
      "['16.51 cm']\n",
      "['54,354', '2,676']\n",
      "4.3\n",
      "₹6,999\n"
     ]
    }
   ],
   "source": [
    "b25=\"https://www.flipkart.com/realme-c30-lake-blue-32-gb/p/itmfcf69b2db5059?pid=MOBGF37GTRVMRJVK&lid=LSTMOBGF37GTRVMRJVKRYAJNG&marketplace=FLIPKART&q=reALME+phones&store=tyy%2F4io&srno=s_2_45&otracker=search&otracker1=search&fm=Search&iid=cb42099c-7ae7-49ed-a38d-c24a146e350b.MOBGF37GTRVMRJVK.SEARCH&ppt=sp&ppn=sp&ssid=abvvbdro5c0000001668689182817&qH=4deba930fb3c1679\"\n",
    "details(b25,headers)"
   ]
  },
  {
   "cell_type": "code",
   "execution_count": 32,
   "id": "f1f8fe21",
   "metadata": {},
   "outputs": [
    {
     "name": "stdout",
     "output_type": "stream",
     "text": [
      "<Response [200]>\n",
      "['realme C30', 'RAM']\n",
      "['(Denim Black']\n",
      "['8MP', '5MP']\n",
      "['2 GB', '32 GB']\n",
      "['5000 mAh']\n",
      "['16.51 cm']\n",
      "['54,354', '2,676']\n",
      "4.3\n",
      "₹6,999\n"
     ]
    }
   ],
   "source": [
    "b26 =\"https://www.flipkart.com/realme-c30-denim-black-32-gb/p/itmfcf69b2db5059?pid=MOBGF37G8TGKHFWJ&lid=LSTMOBGF37G8TGKHFWJIST95C&marketplace=FLIPKART&q=reALME+phones&store=tyy%2F4io&srno=s_2_44&otracker=search&otracker1=search&fm=Search&iid=cb42099c-7ae7-49ed-a38d-c24a146e350b.MOBGF37G8TGKHFWJ.SEARCH&ppt=sp&ppn=sp&ssid=abvvbdro5c0000001668689182817&qH=4deba930fb3c1679\"\n",
    "details(b26,headers)"
   ]
  },
  {
   "cell_type": "code",
   "execution_count": 33,
   "id": "ff415e25",
   "metadata": {},
   "outputs": [
    {
     "name": "stdout",
     "output_type": "stream",
     "text": [
      "<Response [200]>\n",
      "['realme C30', 'reen', 'RAM']\n",
      "['(Bamboo Green']\n",
      "['8MP', '5MP']\n",
      "['2 GB', '32 GB']\n",
      "['5000 mAh']\n",
      "['16.51 cm']\n",
      "['54,354', '2,676']\n",
      "4.3\n",
      "₹6,999\n"
     ]
    }
   ],
   "source": [
    "b27=\"https://www.flipkart.com/realme-c30-bamboo-green-32-gb/p/itmfcf69b2db5059?pid=MOBGF37G7FRK8FBJ&lid=LSTMOBGF37G7FRK8FBJLNLFYW&marketplace=FLIPKART&q=reALME+phones&store=tyy%2F4io&srno=s_2_43&otracker=search&otracker1=search&fm=Search&iid=cb42099c-7ae7-49ed-a38d-c24a146e350b.MOBGF37G7FRK8FBJ.SEARCH&ppt=sp&ppn=sp&ssid=abvvbdro5c0000001668689182817&qH=4deba930fb3c1679\"\n",
    "details(b27,headers)"
   ]
  },
  {
   "cell_type": "code",
   "execution_count": 34,
   "id": "3e362f24",
   "metadata": {},
   "outputs": [
    {
     "name": "stdout",
     "output_type": "stream",
     "text": [
      "<Response [200]>\n",
      "['realme C31', 'rk Green', 'RAM']\n",
      "['(Dark Green']\n",
      "['13MP', '2MP', '3MP', '5MP']\n",
      "['4 GB', '64 GB']\n",
      "['5000 mAh']\n",
      "['16.56 cm']\n",
      "['49,314', '2,354']\n",
      "4.4\n",
      "₹9,999\n"
     ]
    }
   ],
   "source": [
    "b28=\"https://www.flipkart.com/realme-c31-dark-green-64-gb/p/itme0f2960da9bbb?pid=MOBGCGVAZXRCZJNE&lid=LSTMOBGCGVAZXRCZJNENAINFL&marketplace=FLIPKART&q=reALME+phones&store=tyy%2F4io&srno=s_2_42&otracker=search&otracker1=search&fm=Search&iid=cb42099c-7ae7-49ed-a38d-c24a146e350b.MOBGCGVAZXRCZJNE.SEARCH&ppt=sp&ppn=sp&ssid=abvvbdro5c0000001668689182817&qH=4deba930fb3c1679\"\n",
    "details(b28,headers)"
   ]
  },
  {
   "cell_type": "code",
   "execution_count": 35,
   "id": "64602536",
   "metadata": {},
   "outputs": [
    {
     "name": "stdout",
     "output_type": "stream",
     "text": [
      "<Response [200]>\n",
      "['realme C31', 'RAM']\n",
      "['(Light Silver']\n",
      "['13MP', '2MP', '3MP', '5MP']\n",
      "['4 GB', '64 GB']\n",
      "['5000 mAh']\n",
      "['16.56 cm']\n",
      "['49,314', '2,354']\n",
      "4.4\n",
      "₹9,999\n"
     ]
    }
   ],
   "source": [
    "b29=\"https://www.flipkart.com/realme-c31-light-silver-64-gb/p/itme0f2960da9bbb?pid=MOBGCGVAGUHQ9HNJ&lid=LSTMOBGCGVAGUHQ9HNJSTKURO&marketplace=FLIPKART&q=reALME+phones&store=tyy%2F4io&srno=s_2_41&otracker=search&otracker1=search&fm=Search&iid=cb42099c-7ae7-49ed-a38d-c24a146e350b.MOBGCGVAGUHQ9HNJ.SEARCH&ppt=sp&ppn=sp&ssid=abvvbdro5c0000001668689182817&qH=4deba930fb3c1679\"\n",
    "details(b29,headers)"
   ]
  },
  {
   "cell_type": "code",
   "execution_count": 36,
   "id": "90698183",
   "metadata": {},
   "outputs": [
    {
     "name": "stdout",
     "output_type": "stream",
     "text": [
      "<Response [200]>\n",
      "['realme 9i', 'RAM']\n",
      "['(Metallica Gold']\n",
      "['50MP', '2MP', '2MP', '8MP']\n",
      "['6 GB', '128 GB']\n",
      "['5000 mAh']\n",
      "['16.76 cm']\n",
      "['3,611', '245']\n",
      "4.3\n",
      "₹16,999\n"
     ]
    }
   ],
   "source": [
    "b30=\"https://www.flipkart.com/realme-9i-5g-metallica-gold-128-gb/p/itm32c638d54e6b5?pid=MOBGGHPF4ZJNU4HE&lid=LSTMOBGGHPF4ZJNU4HEPAAADH&marketplace=FLIPKART&q=reALME+phones&store=tyy%2F4io&srno=s_2_40&otracker=search&otracker1=search&fm=Search&iid=cb42099c-7ae7-49ed-a38d-c24a146e350b.MOBGGHPF4ZJNU4HE.SEARCH&ppt=sp&ppn=sp&ssid=abvvbdro5c0000001668689182817&qH=4deba930fb3c1679\"\n",
    "details(b30,headers)"
   ]
  },
  {
   "cell_type": "code",
   "execution_count": 37,
   "id": "fbb5311c",
   "metadata": {},
   "outputs": [
    {
     "name": "stdout",
     "output_type": "stream",
     "text": [
      "<Response [200]>\n",
      "['realme 9', 'rsonic Blue', 'RAM']\n",
      "['(Supersonic Blue']\n",
      "['48MP', '2MP', '2MP', '16MP']\n",
      "['6 GB', '128 GB']\n",
      "['5000 mAh']\n",
      "['16.51 cm']\n",
      "['39,584', '2,576']\n",
      "4.4\n",
      "₹17,499\n"
     ]
    }
   ],
   "source": [
    "b31=\"https://www.flipkart.com/realme-9-5g-supersonic-blue-128-gb/p/itm4f3814d50ff53?pid=MOBGDGZYHRYYFYYG&lid=LSTMOBGDGZYHRYYFYYGFCXP2N&marketplace=FLIPKART&q=reALME+phones&store=tyy%2F4io&srno=s_2_39&otracker=search&otracker1=search&fm=Search&iid=cb42099c-7ae7-49ed-a38d-c24a146e350b.MOBGDGZYHRYYFYYG.SEARCH&ppt=sp&ppn=sp&ssid=abvvbdro5c0000001668689182817&qH=4deba930fb3c1679\"\n",
    "details(b31,headers)"
   ]
  },
  {
   "cell_type": "code",
   "execution_count": 38,
   "id": "085bd943",
   "metadata": {},
   "outputs": [
    {
     "name": "stdout",
     "output_type": "stream",
     "text": [
      "<Response [200]>\n",
      "['realme C31', 'rk Green', 'RAM']\n",
      "['(Dark Green']\n",
      "['13MP', '2MP', '3MP', '5MP']\n",
      "['3 GB', '32 GB']\n",
      "['5000 mAh']\n",
      "['16.56 cm']\n",
      "['43,647', '1,698']\n",
      "4.5\n",
      "₹9,299\n"
     ]
    }
   ],
   "source": [
    "b32=\"https://www.flipkart.com/realme-c31-dark-green-32-gb/p/itme0f2960da9bbb?pid=MOBGCGVAXYT3EGYR&lid=LSTMOBGCGVAXYT3EGYRKW4CXL&marketplace=FLIPKART&q=reALME+phones&store=tyy%2F4io&srno=s_2_38&otracker=search&otracker1=search&fm=Search&iid=cb42099c-7ae7-49ed-a38d-c24a146e350b.MOBGCGVAXYT3EGYR.SEARCH&ppt=sp&ppn=sp&ssid=abvvbdro5c0000001668689182817&qH=4deba930fb3c1679\"\n",
    "details(b32,headers)"
   ]
  },
  {
   "cell_type": "code",
   "execution_count": 39,
   "id": "b22bdfc1",
   "metadata": {},
   "outputs": [
    {
     "name": "stdout",
     "output_type": "stream",
     "text": [
      "<Response [200]>\n",
      "['realme C31', 'RAM']\n",
      "['(Light Silver']\n",
      "['13MP', '2MP', '3MP', '5MP']\n",
      "['3 GB', '32 GB']\n",
      "['5000 mAh']\n",
      "['16.56 cm']\n",
      "['43,647', '1,698']\n",
      "4.5\n",
      "₹9,299\n"
     ]
    }
   ],
   "source": [
    "b33=\"https://www.flipkart.com/realme-c31-light-silver-32-gb/p/itme0f2960da9bbb?pid=MOBGCGVA3DANQNQH&lid=LSTMOBGCGVA3DANQNQHVUTE0C&marketplace=FLIPKART&q=reALME+phones&store=tyy%2F4io&srno=s_2_37&otracker=search&otracker1=search&fm=Search&iid=cb42099c-7ae7-49ed-a38d-c24a146e350b.MOBGCGVA3DANQNQH.SEARCH&ppt=sp&ppn=sp&ssid=abvvbdro5c0000001668689182817&qH=4deba930fb3c1679\"\n",
    "details(b33,headers)"
   ]
  },
  {
   "cell_type": "code",
   "execution_count": 40,
   "id": "67183e7d",
   "metadata": {},
   "outputs": [
    {
     "name": "stdout",
     "output_type": "stream",
     "text": [
      "<Response [200]>\n",
      "['realme 9', 'RAM']\n",
      "['(Meteor Black']\n",
      "['48MP', '2MP', '2MP', '16MP']\n",
      "['4 GB', '64 GB']\n",
      "['5000 mAh']\n",
      "['16.51 cm']\n",
      "['34,766', '1,981']\n",
      "4.5\n",
      "₹15,999\n"
     ]
    }
   ],
   "source": [
    "b34=\"https://www.flipkart.com/realme-9-5g-meteor-black-64-gb/p/itm4f3814d50ff53?pid=MOBGC2Q5TGTGRBHR&lid=LSTMOBGC2Q5TGTGRBHRMQOCCB&marketplace=FLIPKART&q=reALME+phones&store=tyy%2F4io&srno=s_2_36&otracker=search&otracker1=search&fm=Search&iid=cb42099c-7ae7-49ed-a38d-c24a146e350b.MOBGC2Q5TGTGRBHR.SEARCH&ppt=sp&ppn=sp&ssid=abvvbdro5c0000001668689182817&qH=4deba930fb3c1679\"\n",
    "details(b34,headers)"
   ]
  },
  {
   "cell_type": "code",
   "execution_count": 41,
   "id": "08e613e8",
   "metadata": {},
   "outputs": [
    {
     "name": "stdout",
     "output_type": "stream",
     "text": [
      "<Response [200]>\n",
      "['realme 9', 'rgaze White', 'RAM']\n",
      "['(Stargaze White']\n",
      "['48MP', '2MP', '2MP', '16MP']\n",
      "['6 GB', '128 GB']\n",
      "['5000 mAh']\n",
      "['16.51 cm']\n",
      "['39,584', '2,576']\n",
      "4.4\n",
      "₹17,499\n"
     ]
    }
   ],
   "source": [
    "b35=\"https://www.flipkart.com/realme-9-5g-stargaze-white-128-gb/p/itm4f3814d50ff53?pid=MOBGC2Q5JHRNRFKY&lid=LSTMOBGC2Q5JHRNRFKYVTLV63&marketplace=FLIPKART&q=reALME+phones&store=tyy%2F4io&srno=s_2_35&otracker=search&otracker1=search&fm=Search&iid=cb42099c-7ae7-49ed-a38d-c24a146e350b.MOBGC2Q5JHRNRFKY.SEARCH&ppt=sp&ppn=sp&ssid=abvvbdro5c0000001668689182817&qH=4deba930fb3c1679\"\n",
    "details(b35,headers)"
   ]
  },
  {
   "cell_type": "code",
   "execution_count": 42,
   "id": "f4818372",
   "metadata": {},
   "outputs": [
    {
     "name": "stdout",
     "output_type": "stream",
     "text": [
      "<Response [200]>\n",
      "['realme 9', 'RAM']\n",
      "['(Meteor Black']\n",
      "['48MP', '2MP', '2MP', '16MP']\n",
      "['6 GB', '128 GB']\n",
      "['5000 mAh']\n",
      "['16.51 cm']\n",
      "['39,584', '2,576']\n",
      "4.4\n",
      "₹17,499\n"
     ]
    }
   ],
   "source": [
    "b36=\"https://www.flipkart.com/realme-9-5g-meteor-black-128-gb/p/itm4f3814d50ff53?pid=MOBGC2Q58FGNXWSN&lid=LSTMOBGC2Q58FGNXWSNJ3ERYV&marketplace=FLIPKART&q=reALME+phones&store=tyy%2F4io&srno=s_2_34&otracker=search&otracker1=search&fm=Search&iid=cb42099c-7ae7-49ed-a38d-c24a146e350b.MOBGC2Q58FGNXWSN.SEARCH&ppt=sp&ppn=sp&ssid=abvvbdro5c0000001668689182817&qH=4deba930fb3c1679\"\n",
    "details(b36,headers)"
   ]
  },
  {
   "cell_type": "code",
   "execution_count": 43,
   "id": "19395752",
   "metadata": {},
   "outputs": [
    {
     "name": "stdout",
     "output_type": "stream",
     "text": [
      "<Response [200]>\n",
      "['realme 9', 'rgaze White', 'RAM']\n",
      "['(Stargaze White']\n",
      "['48MP', '2MP', '2MP', '16MP']\n",
      "['4 GB', '64 GB']\n",
      "['5000 mAh']\n",
      "['16.51 cm']\n",
      "['34,766', '1,981']\n",
      "4.5\n",
      "₹15,999\n"
     ]
    }
   ],
   "source": [
    "b37=\"https://www.flipkart.com/realme-9-5g-stargaze-white-64-gb/p/itm4f3814d50ff53?pid=MOBGC2Q5HG5RJZGW&lid=LSTMOBGC2Q5HG5RJZGWWUP6TT&marketplace=FLIPKART&q=reALME+phones&store=tyy%2F4io&srno=s_2_32&otracker=search&otracker1=search&fm=Search&iid=cb42099c-7ae7-49ed-a38d-c24a146e350b.MOBGC2Q5HG5RJZGW.SEARCH&ppt=sp&ppn=sp&ssid=abvvbdro5c0000001668689182817&qH=4deba930fb3c1679\"\n",
    "details(b37,headers)"
   ]
  },
  {
   "cell_type": "code",
   "execution_count": 44,
   "id": "8e31410f",
   "metadata": {},
   "outputs": [
    {
     "name": "stdout",
     "output_type": "stream",
     "text": [
      "<Response [200]>\n",
      "['realme 9', 'Pro 5G', 'rora Green', 'RAM']\n",
      "['(Aurora Green']\n",
      "['64MP', '8MP', '2MP', '16MP']\n",
      "['6 GB', '128 GB', '256 GB']\n",
      "['5000 mAh']\n",
      "['16.76 cm']\n",
      "['73,793', '6,261']\n",
      "4.4\n",
      "₹18,999\n"
     ]
    }
   ],
   "source": [
    "b38=\"https://www.flipkart.com/realme-9-pro-5g-aurora-green-128-gb/p/itmce357e4a0ca24?pid=MOBGB4ZYUBUYWPT4&lid=LSTMOBGB4ZYUBUYWPT4A6KTNE&marketplace=FLIPKART&q=reALME+phones&store=tyy%2F4io&srno=s_2_31&otracker=search&otracker1=search&fm=Search&iid=cb42099c-7ae7-49ed-a38d-c24a146e350b.MOBGB4ZYUBUYWPT4.SEARCH&ppt=sp&ppn=sp&ssid=abvvbdro5c0000001668689182817&qH=4deba930fb3c1679\"\n",
    "details(b38,headers)"
   ]
  },
  {
   "cell_type": "code",
   "execution_count": 45,
   "id": "10432a4a",
   "metadata": {},
   "outputs": [
    {
     "name": "stdout",
     "output_type": "stream",
     "text": [
      "<Response [200]>\n",
      "['realme 9', 'Pro 5G', 'rise Blue', 'RAM']\n",
      "['(Sunrise Blue']\n",
      "['64MP', '8MP', '2MP', '16MP']\n",
      "['8 GB', '128 GB', '256 GB']\n",
      "['5000 mAh']\n",
      "['16.76 cm']\n",
      "['12,752', '1,020']\n",
      "4.3\n",
      "₹20,999\n"
     ]
    }
   ],
   "source": [
    "b39=\"https://www.flipkart.com/realme-9-pro-5g-sunrise-blue-128-gb/p/itmce357e4a0ca24?pid=MOBGB4ZYSNJYHHQR&lid=LSTMOBGB4ZYSNJYHHQRQGLDTN&marketplace=FLIPKART&q=reALME+phones&store=tyy%2F4io&srno=s_2_30&otracker=search&otracker1=search&fm=Search&iid=cb42099c-7ae7-49ed-a38d-c24a146e350b.MOBGB4ZYSNJYHHQR.SEARCH&ppt=sp&ppn=sp&ssid=abvvbdro5c0000001668689182817&qH=4deba930fb3c1679\"\n",
    "details(b39,headers)"
   ]
  },
  {
   "cell_type": "code",
   "execution_count": 46,
   "id": "a73ef21c",
   "metadata": {},
   "outputs": [
    {
     "name": "stdout",
     "output_type": "stream",
     "text": [
      "<Response [200]>\n",
      "['realme 9', 'Pro 5G', 'RAM']\n",
      "['(Midnight Black']\n",
      "['64MP', '8MP', '2MP', '16MP']\n",
      "['6 GB', '128 GB', '256 GB']\n",
      "['5000 mAh']\n",
      "['16.76 cm']\n",
      "['73,793', '6,261']\n",
      "4.4\n",
      "₹18,999\n"
     ]
    }
   ],
   "source": [
    "b40=\"https://www.flipkart.com/realme-9-pro-5g-midnight-black-128-gb/p/itmce357e4a0ca24?pid=MOBGB4ZYFFAQNSPF&lid=LSTMOBGB4ZYFFAQNSPFHMIA5H&marketplace=FLIPKART&q=reALME+phones&store=tyy%2F4io&srno=s_2_29&otracker=search&otracker1=search&fm=Search&iid=cb42099c-7ae7-49ed-a38d-c24a146e350b.MOBGB4ZYFFAQNSPF.SEARCH&ppt=sp&ppn=sp&ssid=abvvbdro5c0000001668689182817&qH=4deba930fb3c1679\"\n",
    "details(b40,headers)"
   ]
  },
  {
   "cell_type": "code",
   "execution_count": 47,
   "id": "0427fb8b",
   "metadata": {},
   "outputs": [
    {
     "name": "stdout",
     "output_type": "stream",
     "text": [
      "<Response [200]>\n",
      "['realme C30s', 'ripe Black', 'RAM']\n",
      "['(Stripe Black']\n",
      "['8MP', '5MP']\n",
      "['4 GB', '64 GB']\n",
      "['5000 mAh']\n",
      "['16.51 cm']\n",
      "['1,077', '77']\n",
      "4.2\n",
      "₹8,999\n"
     ]
    }
   ],
   "source": [
    "b41=\"https://www.flipkart.com/realme-c30s-stripe-black-64-gb/p/itmc206e2354c00f?pid=MOBGHBJGXUPMKZEF&lid=LSTMOBGHBJGXUPMKZEFHWW85R&marketplace=FLIPKART&q=reALME+phones&store=tyy%2F4io&srno=s_2_27&otracker=search&otracker1=search&fm=Search&iid=cb42099c-7ae7-49ed-a38d-c24a146e350b.MOBGHBJGXUPMKZEF.SEARCH&ppt=sp&ppn=sp&ssid=abvvbdro5c0000001668689182817&qH=4deba930fb3c1679\"\n",
    "details(b41,headers)"
   ]
  },
  {
   "cell_type": "code",
   "execution_count": 48,
   "id": "e5fa2bf5",
   "metadata": {},
   "outputs": [
    {
     "name": "stdout",
     "output_type": "stream",
     "text": [
      "<Response [200]>\n",
      "['realme C30s', 'ripe Blue', 'RAM']\n",
      "['(Stripe Blue']\n",
      "['8MP', '5MP']\n",
      "['4 GB', '64 GB']\n",
      "['5000 mAh']\n",
      "['16.51 cm']\n",
      "['1,077', '77']\n",
      "4.2\n",
      "₹8,999\n"
     ]
    }
   ],
   "source": [
    "b42=\"https://www.flipkart.com/realme-c30s-stripe-blue-64-gb/p/itmc206e2354c00f?pid=MOBGHBJGV3HEVRZW&lid=LSTMOBGHBJGV3HEVRZWXPX5X2&marketplace=FLIPKART&q=reALME+phones&store=tyy%2F4io&srno=s_2_26&otracker=search&otracker1=search&fm=Search&iid=cb42099c-7ae7-49ed-a38d-c24a146e350b.MOBGHBJGV3HEVRZW.SEARCH&ppt=sp&ppn=sp&ssid=abvvbdro5c0000001668689182817&qH=4deba930fb3c1679\"\n",
    "details(b42,headers)"
   ]
  },
  {
   "cell_type": "code",
   "execution_count": 49,
   "id": "8501d2e6",
   "metadata": {},
   "outputs": [
    {
     "name": "stdout",
     "output_type": "stream",
     "text": [
      "<Response [200]>\n",
      "['realme C35', 'RAM']\n",
      "['(Glowing Black']\n",
      "['50MP', '2MP', '3MP', '8MP']\n",
      "['4 GB', '128 GB']\n",
      "['5000 mAh']\n",
      "['16.76 cm']\n",
      "['1,47', ',884', '8,799']\n",
      "4.4\n",
      "₹12,999\n"
     ]
    }
   ],
   "source": [
    "b43=\"https://www.flipkart.com/realme-c35-glowing-black-128-gb/p/itmafb045222b2cf?pid=MOBGBTHFZZN4ADNF&lid=LSTMOBGBTHFZZN4ADNFQJ6OXK&marketplace=FLIPKART&q=reALME+phones&store=tyy%2F4io&srno=s_2_25&otracker=search&otracker1=search&fm=Search&iid=cb42099c-7ae7-49ed-a38d-c24a146e350b.MOBGBTHFZZN4ADNF.SEARCH&ppt=sp&ppn=sp&ssid=abvvbdro5c0000001668689182817&qH=4deba930fb3c1679\"\n",
    "details(b43,headers)"
   ]
  },
  {
   "cell_type": "code",
   "execution_count": 50,
   "id": "645b0ee1",
   "metadata": {},
   "outputs": [
    {
     "name": "stdout",
     "output_type": "stream",
     "text": [
      "<Response [200]>\n",
      "['realme 9', 're Glow', 'RAM']\n",
      "['(Azure Glow']\n",
      "['48MP', '2MP', '2MP', '16MP']\n",
      "['8 GB', '128 GB']\n",
      "['5000 mAh']\n",
      "['16.76 cm']\n",
      "['1,973', '176']\n",
      "4.3\n",
      "₹22,999\n"
     ]
    }
   ],
   "source": [
    "b44=\"https://www.flipkart.com/realme-9-5g-se-azure-glow-128-gb/p/itmc13efe78f2116?pid=MOBGC2Q5HJWMYFA2&lid=LSTMOBGC2Q5HJWMYFA2XUFPGY&marketplace=FLIPKART&q=reALME+phones&store=tyy%2F4io&srno=s_3_72&otracker=search&otracker1=search&fm=Search&iid=9d36e830-5193-4943-8d48-2f5394d5b1f9.MOBGC2Q5HJWMYFA2.SEARCH&ppt=sp&ppn=sp&qH=4deba930fb3c1679\"\n",
    "details(b44,headers)"
   ]
  },
  {
   "cell_type": "code",
   "execution_count": 51,
   "id": "e15c6798",
   "metadata": {},
   "outputs": [
    {
     "name": "stdout",
     "output_type": "stream",
     "text": [
      "<Response [200]>\n",
      "['realme 9', 'rry Glow', 'RAM']\n",
      "['(Starry Glow']\n",
      "['48MP', '2MP', '2MP', '16MP']\n",
      "['8 GB', '128 GB']\n",
      "['5000 mAh']\n",
      "['16.76 cm']\n",
      "['1,973', '176']\n",
      "4.3\n",
      "₹22,999\n"
     ]
    }
   ],
   "source": [
    "b45=\"https://www.flipkart.com/realme-9-5g-se-starry-glow-128-gb/p/itmc13efe78f2116?pid=MOBGC2Q5JHAKE6CZ&lid=LSTMOBGC2Q5JHAKE6CZ8STAVD&marketplace=FLIPKART&q=reALME+phones&store=tyy%2F4io&srno=s_3_71&otracker=search&otracker1=search&fm=Search&iid=9d36e830-5193-4943-8d48-2f5394d5b1f9.MOBGC2Q5JHAKE6CZ.SEARCH&ppt=sp&ppn=sp&qH=4deba930fb3c1679\"\n",
    "details(b45,headers)"
   ]
  },
  {
   "cell_type": "code",
   "execution_count": 52,
   "id": "c406b188",
   "metadata": {},
   "outputs": [
    {
     "name": "stdout",
     "output_type": "stream",
     "text": [
      "<Response [200]>\n",
      "['realme 9', 'rry Glow', 'RAM']\n",
      "['(Starry Glow']\n",
      "['48MP', '2MP', '2MP', '16MP']\n",
      "['6 GB', '128 GB']\n",
      "['5000 mAh']\n",
      "['16.76 cm']\n",
      "['22,657', '1,871']\n",
      "4.4\n",
      "₹19,999\n"
     ]
    }
   ],
   "source": [
    "b46=\"https://www.flipkart.com/realme-9-5g-se-starry-glow-128-gb/p/itmc13efe78f2116?pid=MOBGC2Q5JDDWEH8F&lid=LSTMOBGC2Q5JDDWEH8FCPQKNW&marketplace=FLIPKART&q=reALME+phones&store=tyy%2F4io&srno=s_3_70&otracker=search&otracker1=search&fm=Search&iid=9d36e830-5193-4943-8d48-2f5394d5b1f9.MOBGC2Q5JDDWEH8F.SEARCH&ppt=sp&ppn=sp&qH=4deba930fb3c1679\"\n",
    "details(b46,headers)"
   ]
  },
  {
   "cell_type": "code",
   "execution_count": 53,
   "id": "428fa922",
   "metadata": {},
   "outputs": [
    {
     "name": "stdout",
     "output_type": "stream",
     "text": [
      "<Response [200]>\n",
      "['realme C20', 'RAM']\n",
      "['(Cool Blue']\n",
      "['8MP', '5MP']\n",
      "['2 GB', '32 GB', '256 GB']\n",
      "['5000 mAh']\n",
      "['16.51 cm']\n",
      "['2,94', ',733', '14,042']\n",
      "4.4\n",
      "₹7,499\n"
     ]
    }
   ],
   "source": [
    "b47=\"https://www.flipkart.com/realme-c20-cool-blue-32-gb/p/itmea1903897436b?pid=MOBGF4894MEWZJGV&lid=LSTMOBGF4894MEWZJGVAA1VBM&marketplace=FLIPKART&q=reALME+phones&store=tyy%2F4io&srno=s_3_69&otracker=search&otracker1=search&fm=Search&iid=9d36e830-5193-4943-8d48-2f5394d5b1f9.MOBGF4894MEWZJGV.SEARCH&ppt=sp&ppn=sp&qH=4deba930fb3c1679\"\n",
    "details(b47,headers)"
   ]
  },
  {
   "cell_type": "code",
   "execution_count": 54,
   "id": "35ef59c8",
   "metadata": {},
   "outputs": [
    {
     "name": "stdout",
     "output_type": "stream",
     "text": [
      "<Response [200]>\n",
      "['realme GT', 'RAM']\n",
      "['(Shade Black']\n",
      "['64MP', '8MP', '2MP', '16MP']\n",
      "['6 GB', '128 GB']\n",
      "['5000 mAh']\n",
      "['16.81 cm']\n",
      "['9,486', '1,153']\n",
      "4.3\n",
      "₹29,999\n"
     ]
    }
   ],
   "source": [
    "b48=\"https://www.flipkart.com/realme-gt-neo-3t-shade-black-128-gb/p/itmd1b8c6a6c8604?pid=MOBGHBJGYZAPRAHW&lid=LSTMOBGHBJGYZAPRAHW49IVJ2&marketplace=FLIPKART&q=reALME+phones&store=tyy%2F4io&srno=s_3_68&otracker=search&otracker1=search&fm=Search&iid=9d36e830-5193-4943-8d48-2f5394d5b1f9.MOBGHBJGYZAPRAHW.SEARCH&ppt=sp&ppn=sp&qH=4deba930fb3c1679\"\n",
    "details(b48,headers)"
   ]
  },
  {
   "cell_type": "code",
   "execution_count": 55,
   "id": "f63bd3dd",
   "metadata": {},
   "outputs": [
    {
     "name": "stdout",
     "output_type": "stream",
     "text": [
      "<Response [200]>\n",
      "['realme GT', 'rifting White', 'RAM']\n",
      "['(Drifting White']\n",
      "['64MP', '8MP', '2MP', '16MP']\n",
      "['8 GB', '128 GB']\n",
      "['5000 mAh']\n",
      "['16.81 cm']\n",
      "['5,299', '616']\n",
      "4.3\n",
      "₹31,999\n"
     ]
    }
   ],
   "source": [
    "b49=\"https://www.flipkart.com/realme-gt-neo-3t-drifting-white-128-gb/p/itmd1b8c6a6c8604?pid=MOBGHBJGWXXZZ5BB&lid=LSTMOBGHBJGWXXZZ5BB5ZBJ9O&marketplace=FLIPKART&q=reALME+phones&store=tyy%2F4io&srno=s_3_67&otracker=search&otracker1=search&fm=Search&iid=9d36e830-5193-4943-8d48-2f5394d5b1f9.MOBGHBJGWXXZZ5BB.SEARCH&ppt=sp&ppn=sp&qH=4deba930fb3c1679\"\n",
    "details(b49,headers)"
   ]
  },
  {
   "cell_type": "code",
   "execution_count": 56,
   "id": "766f04e0",
   "metadata": {},
   "outputs": [
    {
     "name": "stdout",
     "output_type": "stream",
     "text": [
      "<Response [200]>\n",
      "['realme GT', 'RAM']\n",
      "['(Dash Yellow']\n",
      "['64MP', '8MP', '2MP', '16MP']\n",
      "['8 GB', '128 GB']\n",
      "['5000 mAh']\n",
      "['16.81 cm']\n",
      "['5,299', '616']\n",
      "4.3\n",
      "₹31,999\n"
     ]
    }
   ],
   "source": [
    "b50=\"https://www.flipkart.com/realme-gt-neo-3t-dash-yellow-128-gb/p/itmd1b8c6a6c8604?pid=MOBGHBJGVSBANJWD&lid=LSTMOBGHBJGVSBANJWD1QORZH&marketplace=FLIPKART&q=reALME+phones&store=tyy%2F4io&srno=s_3_66&otracker=search&otracker1=search&fm=Search&iid=9d36e830-5193-4943-8d48-2f5394d5b1f9.MOBGHBJGVSBANJWD.SEARCH&ppt=sp&ppn=sp&qH=4deba930fb3c1679\"\n",
    "details(b50,headers)"
   ]
  },
  {
   "cell_type": "code",
   "execution_count": 57,
   "id": "f3a7cd73",
   "metadata": {},
   "outputs": [
    {
     "name": "stdout",
     "output_type": "stream",
     "text": [
      "<Response [200]>\n",
      "['realme GT', 'rifting White', 'RAM']\n",
      "['(Drifting White']\n",
      "['64MP', '8MP', '2MP', '16MP']\n",
      "['6 GB', '128 GB']\n",
      "['5000 mAh']\n",
      "['16.81 cm']\n",
      "['9,486', '1,153']\n",
      "4.3\n",
      "₹29,999\n"
     ]
    }
   ],
   "source": [
    "b51=\"https://www.flipkart.com/realme-gt-neo-3t-drifting-white-128-gb/p/itmd1b8c6a6c8604?pid=MOBGHBJGT9GH23W9&lid=LSTMOBGHBJGT9GH23W9XTKSY9&marketplace=FLIPKART&q=reALME+phones&store=tyy%2F4io&srno=s_3_65&otracker=search&otracker1=search&fm=Search&iid=9d36e830-5193-4943-8d48-2f5394d5b1f9.MOBGHBJGT9GH23W9.SEARCH&ppt=sp&ppn=sp&qH=4deba930fb3c1679\"\n",
    "details(b51,headers)"
   ]
  },
  {
   "cell_type": "code",
   "execution_count": 58,
   "id": "f5b89878",
   "metadata": {},
   "outputs": [
    {
     "name": "stdout",
     "output_type": "stream",
     "text": [
      "<Response [200]>\n",
      "['realme GT', 'RAM']\n",
      "['(Dash Yellow']\n",
      "['64MP', '8MP', '2MP', '16MP']\n",
      "['8 GB', '256 GB']\n",
      "['5000 mAh']\n",
      "['16.81 cm']\n",
      "['5,299', '616']\n",
      "4.3\n",
      "₹33,999\n"
     ]
    }
   ],
   "source": [
    "b52=\"https://www.flipkart.com/realme-gt-neo-3t-dash-yellow-256-gb/p/itmd1b8c6a6c8604?pid=MOBGHBJGXVMPEZNV&lid=LSTMOBGHBJGXVMPEZNVRHOJWY&marketplace=FLIPKART&q=reALME+phones&store=tyy%2F4io&srno=s_3_64&otracker=search&otracker1=search&fm=Search&iid=9d36e830-5193-4943-8d48-2f5394d5b1f9.MOBGHBJGXVMPEZNV.SEARCH&ppt=sp&ppn=sp&qH=4deba930fb3c1679\"\n",
    "details(b52,headers)"
   ]
  },
  {
   "cell_type": "code",
   "execution_count": 59,
   "id": "941ec3de",
   "metadata": {},
   "outputs": [
    {
     "name": "stdout",
     "output_type": "stream",
     "text": [
      "<Response [200]>\n",
      "['realme GT', 'RAM']\n",
      "['(Shade Black']\n",
      "['64MP', '8MP', '2MP', '16MP']\n",
      "['8 GB', '256 GB']\n",
      "['5000 mAh']\n",
      "['16.81 cm']\n",
      "['5,299', '616']\n",
      "4.3\n",
      "₹33,999\n"
     ]
    }
   ],
   "source": [
    "b53=\"https://www.flipkart.com/realme-gt-neo-3t-shade-black-256-gb/p/itmd1b8c6a6c8604?pid=MOBGHBJGX4JHBBUA&lid=LSTMOBGHBJGX4JHBBUAMFM1FY&marketplace=FLIPKART&q=reALME+phones&store=tyy%2F4io&srno=s_3_63&otracker=search&otracker1=search&fm=Search&iid=9d36e830-5193-4943-8d48-2f5394d5b1f9.MOBGHBJGX4JHBBUA.SEARCH&ppt=sp&ppn=sp&qH=4deba930fb3c1679\"\n",
    "details(b53,headers)"
   ]
  },
  {
   "cell_type": "code",
   "execution_count": 60,
   "id": "ce5dbde3",
   "metadata": {},
   "outputs": [
    {
     "name": "stdout",
     "output_type": "stream",
     "text": [
      "<Response [200]>\n",
      "['realme GT', 'rifting White', 'RAM']\n",
      "['(Drifting White']\n",
      "['64MP', '8MP', '2MP', '16MP']\n",
      "['8 GB', '256 GB']\n",
      "['5000 mAh']\n",
      "['16.81 cm']\n",
      "['5,299', '616']\n",
      "4.3\n",
      "₹33,999\n"
     ]
    }
   ],
   "source": [
    "b54=\"https://www.flipkart.com/realme-gt-neo-3t-drifting-white-256-gb/p/itmd1b8c6a6c8604?pid=MOBGHBJGVYZ4EATR&lid=LSTMOBGHBJGVYZ4EATRMCWJPR&marketplace=FLIPKART&q=reALME+phones&store=tyy%2F4io&srno=s_3_62&otracker=search&otracker1=search&fm=Search&iid=9d36e830-5193-4943-8d48-2f5394d5b1f9.MOBGHBJGVYZ4EATR.SEARCH&ppt=sp&ppn=sp&qH=4deba930fb3c1679\"\n",
    "details(b54,headers)"
   ]
  },
  {
   "cell_type": "code",
   "execution_count": 61,
   "id": "01187d86",
   "metadata": {},
   "outputs": [
    {
     "name": "stdout",
     "output_type": "stream",
     "text": [
      "<Response [200]>\n",
      "['realme GT', 'RAM']\n",
      "['(Shade Black']\n",
      "['64MP', '8MP', '2MP', '16MP']\n",
      "['8 GB', '128 GB']\n",
      "['5000 mAh']\n",
      "['16.81 cm']\n",
      "['5,299', '616']\n",
      "4.3\n",
      "₹31,999\n"
     ]
    }
   ],
   "source": [
    "b55=\"https://www.flipkart.com/realme-gt-neo-3t-shade-black-128-gb/p/itmd1b8c6a6c8604?pid=MOBGHBJG8XXGVZ6S&lid=LSTMOBGHBJG8XXGVZ6SARAMWC&marketplace=FLIPKART&q=reALME+phones&store=tyy%2F4io&srno=s_3_61&otracker=search&otracker1=search&fm=Search&iid=9d36e830-5193-4943-8d48-2f5394d5b1f9.MOBGHBJG8XXGVZ6S.SEARCH&ppt=sp&ppn=sp&qH=4deba930fb3c1679\"\n",
    "details(b55,headers)"
   ]
  },
  {
   "cell_type": "code",
   "execution_count": 62,
   "id": "dc46caa0",
   "metadata": {},
   "outputs": [
    {
     "name": "stdout",
     "output_type": "stream",
     "text": [
      "<Response [200]>\n",
      "['realme GT', 'RAM']\n",
      "['(Dash Yellow']\n",
      "['64MP', '8MP', '2MP', '16MP']\n",
      "['8 GB', '128 GB']\n",
      "['5000 mAh']\n",
      "['16.81 cm']\n",
      "['5,299', '616']\n",
      "4.3\n",
      "₹31,999\n"
     ]
    }
   ],
   "source": [
    "b56=\"https://www.flipkart.com/realme-gt-neo-3t-dash-yellow-128-gb/p/itmd1b8c6a6c8604?pid=MOBGHBJGVSBANJWD&lid=LSTMOBGHBJGVSBANJWD1QORZH&marketplace=FLIPKART&q=reALME+phones&store=tyy%2F4io&srno=s_4_85&otracker=search&otracker1=search&fm=Search&iid=867017a4-74b8-48d4-94c0-c407928ce188.MOBGHBJGVSBANJWD.SEARCH&ppt=sp&ppn=sp&qH=4deba930fb3c1679\"\n",
    "details(b56,headers)"
   ]
  },
  {
   "cell_type": "code",
   "execution_count": 63,
   "id": "dd4b823d",
   "metadata": {},
   "outputs": [
    {
     "name": "stdout",
     "output_type": "stream",
     "text": [
      "<Response [200]>\n",
      "['realme C35', 'reen', 'RAM']\n",
      "['(Glowing Green']\n",
      "['50MP', '2MP', '3MP', '8MP']\n",
      "['6 GB', '128 GB']\n",
      "['5000 mAh']\n",
      "['16.76 cm']\n",
      "['10,294', '656']\n",
      "4.2\n",
      "₹13,999\n"
     ]
    }
   ],
   "source": [
    "b57=\"https://www.flipkart.com/realme-c35-glowing-green-128-gb/p/itmafb045222b2cf?pid=MOBGFJ35ZHFDPU4Y&lid=LSTMOBGFJ35ZHFDPU4YSUHJFM&marketplace=FLIPKART&q=reALME+phones&store=tyy%2F4io&srno=s_3_60&otracker=search&otracker1=search&fm=Search&iid=9d36e830-5193-4943-8d48-2f5394d5b1f9.MOBGFJ35ZHFDPU4Y.SEARCH&ppt=sp&ppn=sp&qH=4deba930fb3c1679\"\n",
    "details(b57,headers)"
   ]
  },
  {
   "cell_type": "code",
   "execution_count": 64,
   "id": "4f4d61a9",
   "metadata": {},
   "outputs": [
    {
     "name": "stdout",
     "output_type": "stream",
     "text": [
      "<Response [200]>\n",
      "['realme 9i', 'Prism Blue', 'RAM']\n",
      "['(Prism Blue']\n",
      "['50MP', '2MP', '2MP', '16MP']\n",
      "['4 GB', '128 GB']\n",
      "['5000 mAh']\n",
      "['16.76 cm']\n",
      "['1,05', ',669', '6,142']\n",
      "4.5\n",
      "₹14,999\n"
     ]
    }
   ],
   "source": [
    "b58=\"https://www.flipkart.com/realme-9i-prism-blue-128-gb/p/itm3e9987219f652?pid=MOBGBMZHMUHYWFAE&lid=LSTMOBGBMZHMUHYWFAEOYWISO&marketplace=FLIPKART&q=reALME+phones&store=tyy%2F4io&srno=s_4_73&otracker=search&otracker1=search&fm=Search&iid=f03ad39f-a15c-4666-b002-6b4b13c21f90.MOBGBMZHMUHYWFAE.SEARCH&ppt=sp&ppn=sp&qH=4deba930fb3c1679\"\n",
    "details(b58,headers)"
   ]
  },
  {
   "cell_type": "code",
   "execution_count": 65,
   "id": "c0f33b6d",
   "metadata": {},
   "outputs": [
    {
     "name": "stdout",
     "output_type": "stream",
     "text": [
      "<Response [200]>\n",
      "['realme 9', 're Glow', 'RAM']\n",
      "['(Azure Glow']\n",
      "['48MP', '2MP', '2MP', '16MP']\n",
      "['6 GB', '128 GB']\n",
      "['5000 mAh']\n",
      "['16.76 cm']\n",
      "['22,657', '1,871']\n",
      "4.4\n",
      "₹19,999\n"
     ]
    }
   ],
   "source": [
    "b59=\"https://www.flipkart.com/realme-9-5g-se-azure-glow-128-gb/p/itmc13efe78f2116?pid=MOBGC2Q5TUYSUDYU&lid=LSTMOBGC2Q5TUYSUDYUP11X4C&marketplace=FLIPKART&q=reALME+phones&store=tyy%2F4io&srno=s_3_59&otracker=search&otracker1=search&fm=Search&iid=9d36e830-5193-4943-8d48-2f5394d5b1f9.MOBGC2Q5TUYSUDYU.SEARCH&ppt=sp&ppn=sp&qH=4deba930fb3c1679\"\n",
    "details(b59,headers)"
   ]
  },
  {
   "cell_type": "code",
   "execution_count": 66,
   "id": "53bcb9af",
   "metadata": {},
   "outputs": [
    {
     "name": "stdout",
     "output_type": "stream",
     "text": [
      "<Response [200]>\n",
      "['Realme C30', 'rtel Prepaid', 'RAM']\n",
      "['(Lake Blue']\n",
      "['8MP', '5MP']\n",
      "['2 GB', '32 GB']\n",
      "['5000 mAh']\n",
      "['16.51 cm']\n",
      "['54,354', '2,676']\n",
      "4.3\n",
      "₹6,399\n"
     ]
    }
   ],
   "source": [
    "b60=\"https://www.flipkart.com/realme-c30-locked-airtel-prepaid-lake-blue-32-gb/p/itm938b2a52e171f?pid=MOBGFCFQZGEUXH35&lid=LSTMOBGFCFQZGEUXH35331CCP&marketplace=FLIPKART&q=reALME+phones&store=tyy%2F4io&srno=s_3_58&otracker=search&otracker1=search&fm=Search&iid=9d36e830-5193-4943-8d48-2f5394d5b1f9.MOBGFCFQZGEUXH35.SEARCH&ppt=sp&ppn=sp&qH=4deba930fb3c1679\"\n",
    "details(b60,headers)"
   ]
  },
  {
   "cell_type": "code",
   "execution_count": 67,
   "id": "fd41b8c7",
   "metadata": {},
   "outputs": [
    {
     "name": "stdout",
     "output_type": "stream",
     "text": [
      "<Response [200]>\n",
      "['realme C11', 'RAM']\n",
      "['(Cool Blue']\n",
      "['8MP', '5MP']\n",
      "['4 GB', '64 GB', '256 GB']\n",
      "['5000 mAh']\n",
      "['16.51 cm']\n",
      "['2,02', ',857', '11,054']\n",
      "4.3\n",
      "₹8,999\n"
     ]
    }
   ],
   "source": [
    "b61=\"https://www.flipkart.com/realme-c11-2021-cool-blue-64-gb/p/itmbd856acb97c38?pid=MOBG5BCDBHPYMT5B&lid=LSTMOBG5BCDBHPYMT5B9SEYIT&marketplace=FLIPKART&q=reALME+phones&store=tyy%2F4io&srno=s_3_57&otracker=search&otracker1=search&fm=Search&iid=9d36e830-5193-4943-8d48-2f5394d5b1f9.MOBG5BCDBHPYMT5B.SEARCH&ppt=sp&ppn=sp&qH=4deba930fb3c1679\"\n",
    "details(b61,headers)"
   ]
  },
  {
   "cell_type": "code",
   "execution_count": 68,
   "id": "ddbb73f3",
   "metadata": {},
   "outputs": [
    {
     "name": "stdout",
     "output_type": "stream",
     "text": [
      "<Response [200]>\n",
      "['realme C11', 'rey', 'RAM']\n",
      "['(Cool Grey']\n",
      "['8MP', '5MP']\n",
      "['4 GB', '64 GB', '256 GB']\n",
      "['5000 mAh']\n",
      "['16.51 cm']\n",
      "['2,02', ',857', '11,054']\n",
      "4.3\n",
      "₹8,999\n"
     ]
    }
   ],
   "source": [
    "b62=\"https://www.flipkart.com/realme-c11-2021-cool-grey-64-gb/p/itmbd856acb97c38?pid=MOBG5BCDJ68N57TH&lid=LSTMOBG5BCDJ68N57THWJHNPW&marketplace=FLIPKART&q=reALME+phones&store=tyy%2F4io&srno=s_3_56&otracker=search&otracker1=search&fm=Search&iid=9d36e830-5193-4943-8d48-2f5394d5b1f9.MOBG5BCDJ68N57TH.SEARCH&ppt=sp&ppn=sp&qH=4deba930fb3c1679\"\n",
    "details(b62,headers)"
   ]
  },
  {
   "cell_type": "code",
   "execution_count": 69,
   "id": "819e1df5",
   "metadata": {},
   "outputs": [
    {
     "name": "stdout",
     "output_type": "stream",
     "text": [
      "<Response [200]>\n",
      "['realme 9', 'Pro 5G', 'RAM']\n",
      "['(Midnight Black']\n",
      "['64MP', '8MP', '2MP', '16MP']\n",
      "['8 GB', '128 GB', '256 GB']\n",
      "['5000 mAh']\n",
      "['16.76 cm']\n",
      "['12,752', '1,020']\n",
      "4.3\n",
      "₹20,999\n"
     ]
    }
   ],
   "source": [
    "b63=\"https://www.flipkart.com/realme-9-pro-5g-midnight-black-128-gb/p/itmce357e4a0ca24?pid=MOBGB4ZYWQBEVNGW&lid=LSTMOBGB4ZYWQBEVNGWVP5GWI&marketplace=FLIPKART&q=reALME+phones&store=tyy%2F4io&srno=s_3_55&otracker=search&otracker1=search&fm=Search&iid=9d36e830-5193-4943-8d48-2f5394d5b1f9.MOBGB4ZYWQBEVNGW.SEARCH&ppt=sp&ppn=sp&qH=4deba930fb3c1679\"\n",
    "details(b63,headers)"
   ]
  },
  {
   "cell_type": "code",
   "execution_count": 70,
   "id": "e4a59ae8",
   "metadata": {},
   "outputs": [
    {
     "name": "stdout",
     "output_type": "stream",
     "text": [
      "<Response [200]>\n",
      "['realme 9', 'Pro 5G', 'rora Green', 'RAM']\n",
      "['(Aurora Green']\n",
      "['64MP', '8MP', '2MP', '16MP']\n",
      "['8 GB', '128 GB', '256 GB']\n",
      "['5000 mAh']\n",
      "['16.76 cm']\n",
      "['12,752', '1,020']\n",
      "4.3\n",
      "₹20,999\n"
     ]
    }
   ],
   "source": [
    "b64=\"https://www.flipkart.com/realme-9-pro-5g-aurora-green-128-gb/p/itmce357e4a0ca24?pid=MOBGB4ZYWCYYA5F5&lid=LSTMOBGB4ZYWCYYA5F5MPL0JU&marketplace=FLIPKART&q=reALME+phones&store=tyy%2F4io&srno=s_3_54&otracker=search&otracker1=search&fm=Search&iid=9d36e830-5193-4943-8d48-2f5394d5b1f9.MOBGB4ZYWCYYA5F5.SEARCH&ppt=sp&ppn=sp&qH=4deba930fb3c1679\"\n",
    "details(b64,headers)"
   ]
  },
  {
   "cell_type": "code",
   "execution_count": 71,
   "id": "8becabae",
   "metadata": {},
   "outputs": [
    {
     "name": "stdout",
     "output_type": "stream",
     "text": [
      "<Response [200]>\n",
      "['realme C30', 'RAM']\n",
      "['(Lake Blue']\n",
      "['8MP', '5MP']\n",
      "['3 GB', '32 GB']\n",
      "['5000 mAh']\n",
      "['16.51 cm']\n",
      "['26,797', '1,681']\n",
      "4.1\n",
      "₹7,999\n"
     ]
    }
   ],
   "source": [
    "b65=\"https://www.flipkart.com/realme-c30-lake-blue-32-gb/p/itmfcf69b2db5059?pid=MOBGF37GWT4TGVZM&lid=LSTMOBGF37GWT4TGVZM1IFYZO&marketplace=FLIPKART&q=reALME+phones&store=tyy%2F4io&srno=s_3_52&otracker=search&otracker1=search&fm=Search&iid=9d36e830-5193-4943-8d48-2f5394d5b1f9.MOBGF37GWT4TGVZM.SEARCH&ppt=sp&ppn=sp&qH=4deba930fb3c1679\"\n",
    "details(b65,headers)"
   ]
  },
  {
   "cell_type": "code",
   "execution_count": 72,
   "id": "9a035df8",
   "metadata": {},
   "outputs": [
    {
     "name": "stdout",
     "output_type": "stream",
     "text": [
      "<Response [200]>\n",
      "['realme 9', 'rsonic Black', 'RAM']\n",
      "['(Supersonic Black']\n",
      "['48MP', '2MP', '2MP', '16MP']\n",
      "['6 GB', '128 GB']\n",
      "['5000 mAh']\n",
      "['16.51 cm']\n",
      "['39,584', '2,576']\n",
      "4.4\n",
      "₹17,499\n"
     ]
    }
   ],
   "source": [
    "b66=\"https://www.flipkart.com/realme-9-5g-supersonic-black-128-gb/p/itm4f3814d50ff53?pid=MOBGDGZYGBZW6GGK&lid=LSTMOBGDGZYGBZW6GGKBSXEDO&marketplace=FLIPKART&q=reALME+phones&store=tyy%2F4io&srno=s_3_53&otracker=search&otracker1=search&fm=Search&iid=9d36e830-5193-4943-8d48-2f5394d5b1f9.MOBGDGZYGBZW6GGK.SEARCH&ppt=sp&ppn=sp&qH=4deba930fb3c1679\"\n",
    "details(b66,headers)"
   ]
  },
  {
   "cell_type": "code",
   "execution_count": 73,
   "id": "b7dd6a7b",
   "metadata": {},
   "outputs": [
    {
     "name": "stdout",
     "output_type": "stream",
     "text": [
      "<Response [200]>\n",
      "['realme C30', 'reen', 'RAM']\n",
      "['(Bamboo Green']\n",
      "['8MP', '5MP']\n",
      "['3 GB', '32 GB']\n",
      "['5000 mAh']\n",
      "['16.51 cm']\n",
      "['26,797', '1,681']\n",
      "4.1\n",
      "₹7,999\n"
     ]
    }
   ],
   "source": [
    "b67=\"https://www.flipkart.com/realme-c30-bamboo-green-32-gb/p/itmfcf69b2db5059?pid=MOBGF37GUWGZQYGR&lid=LSTMOBGF37GUWGZQYGRVXRDM1&marketplace=FLIPKART&q=reALME+phones&store=tyy%2F4io&srno=s_3_51&otracker=search&otracker1=search&fm=Search&iid=9d36e830-5193-4943-8d48-2f5394d5b1f9.MOBGF37GUWGZQYGR.SEARCH&ppt=sp&ppn=sp&qH=4deba930fb3c1679\"\n",
    "details(b67,headers)"
   ]
  },
  {
   "cell_type": "code",
   "execution_count": 74,
   "id": "3a6d2907",
   "metadata": {},
   "outputs": [
    {
     "name": "stdout",
     "output_type": "stream",
     "text": [
      "<Response [200]>\n",
      "['realme C30', 'RAM']\n",
      "['(Denim Black']\n",
      "['8MP', '5MP']\n",
      "['3 GB', '32 GB']\n",
      "['5000 mAh']\n",
      "['16.51 cm']\n",
      "['26,797', '1,681']\n",
      "4.1\n",
      "₹7,999\n"
     ]
    }
   ],
   "source": [
    "b68=\"https://www.flipkart.com/realme-c30-denim-black-32-gb/p/itmfcf69b2db5059?pid=MOBGF37GMBMYRFBK&lid=LSTMOBGF37GMBMYRFBKNVTNSG&marketplace=FLIPKART&q=reALME+phones&store=tyy%2F4io&srno=s_3_50&otracker=search&otracker1=search&fm=Search&iid=9d36e830-5193-4943-8d48-2f5394d5b1f9.MOBGF37GMBMYRFBK.SEARCH&ppt=sp&ppn=sp&qH=4deba930fb3c1679\"\n",
    "details(b68,headers)"
   ]
  },
  {
   "cell_type": "code",
   "execution_count": 75,
   "id": "5c604e43",
   "metadata": {},
   "outputs": [
    {
     "name": "stdout",
     "output_type": "stream",
     "text": [
      "<Response [200]>\n",
      "['realme C11', 'RAM']\n",
      "['(Cool Blue']\n",
      "['8MP', '5MP']\n",
      "['2 GB', '32 GB', '256 GB']\n",
      "['5000 mAh']\n",
      "['16.51 cm']\n",
      "['2,31', ',691', '10,134']\n",
      "4.4\n",
      "₹7,499\n"
     ]
    }
   ],
   "source": [
    "b69=\"https://www.flipkart.com/realme-c11-2021-cool-blue-32-gb/p/itmbd856acb97c38?pid=MOBG4BEG3HG78BDG&lid=LSTMOBG4BEG3HG78BDGOBNGF8&marketplace=FLIPKART&q=reALME+phones&store=tyy%2F4io&srno=s_3_49&otracker=search&otracker1=search&fm=Search&iid=9d36e830-5193-4943-8d48-2f5394d5b1f9.MOBG4BEG3HG78BDG.SEARCH&ppt=sp&ppn=sp&qH=4deba930fb3c1679\"\n",
    "details(b69,headers)"
   ]
  },
  {
   "cell_type": "code",
   "execution_count": 76,
   "id": "f831601d",
   "metadata": {},
   "outputs": [
    {
     "name": "stdout",
     "output_type": "stream",
     "text": [
      "<Response [200]>\n",
      "['realme 8', 'rsonic Blue', 'RAM']\n",
      "['(Supersonic Blue']\n",
      "['48MP', '2MP', '2MP', '16MP']\n",
      "['4 GB', '64 GB']\n",
      "['5000 mAh']\n",
      "['16.51 cm']\n",
      "['75,406', '6,010']\n",
      "4.3\n",
      "₹15,499\n"
     ]
    }
   ],
   "source": [
    "b70=\"https://www.flipkart.com/realme-8-5g-supersonic-blue-64-gb/p/itm8a548578d136e?pid=MOBG2CE4NAKFGHAE&lid=LSTMOBG2CE4NAKFGHAEWC9UYX&marketplace=FLIPKART&q=reALME+phones&store=tyy%2F4io&srno=s_4_96&otracker=search&otracker1=search&fm=Search&iid=867017a4-74b8-48d4-94c0-c407928ce188.MOBG2CE4NAKFGHAE.SEARCH&ppt=sp&ppn=sp&qH=4deba930fb3c1679\"\n",
    "details(b70,headers)"
   ]
  },
  {
   "cell_type": "code",
   "execution_count": 77,
   "id": "bcf5f4c4",
   "metadata": {},
   "outputs": [
    {
     "name": "stdout",
     "output_type": "stream",
     "text": [
      "<Response [200]>\n",
      "['realme C21', 'ross Black', 'RAM']\n",
      "['(Cross Black']\n",
      "['13MP', '2MP', '2MP', '5MP']\n",
      "['4 GB', '64 GB', '256 GB']\n",
      "['5000 mAh']\n",
      "['16.51 cm']\n",
      "['1,46', ',377', '7,089']\n",
      "4.4\n",
      "₹10,499\n"
     ]
    }
   ],
   "source": [
    "b71=\"https://www.flipkart.com/realme-c21-cross-black-64-gb/p/itmf4062d3f37c1a?pid=MOBGF489G9HRWFZ9&lid=LSTMOBGF489G9HRWFZ9HDNB1X&marketplace=FLIPKART&q=reALME+phones&store=tyy%2F4io&srno=s_4_95&otracker=search&otracker1=search&fm=Search&iid=867017a4-74b8-48d4-94c0-c407928ce188.MOBGF489G9HRWFZ9.SEARCH&ppt=sp&ppn=sp&qH=4deba930fb3c1679\"\n",
    "details(b71,headers)"
   ]
  },
  {
   "cell_type": "code",
   "execution_count": 78,
   "id": "b24d1ab4",
   "metadata": {},
   "outputs": [
    {
     "name": "stdout",
     "output_type": "stream",
     "text": [
      "<Response [200]>\n",
      "['realme Narzo', 'Racing Blue', 'RAM']\n",
      "['(Racing Blue']\n",
      "['48MP', '2MP', '2MP', '16MP']\n",
      "['6 GB', '64 GB', '256 GB']\n",
      "['5000 mAh']\n",
      "['16.51 cm']\n",
      "['75,615', '6,010']\n",
      "4.3\n",
      "₹14,499\n"
     ]
    }
   ],
   "source": [
    "b72=\"https://www.flipkart.com/realme-narzo-30-racing-blue-64-gb/p/itm957dacbc8270c?pid=MOBG5D9D7GK3VR5T&lid=LSTMOBG5D9D7GK3VR5TABK618&marketplace=FLIPKART&q=reALME+phones&store=tyy%2F4io&srno=s_4_94&otracker=search&otracker1=search&fm=Search&iid=867017a4-74b8-48d4-94c0-c407928ce188.MOBG5D9D7GK3VR5T.SEARCH&ppt=sp&ppn=sp&qH=4deba930fb3c1679\"\n",
    "details(b72,headers)"
   ]
  },
  {
   "cell_type": "code",
   "execution_count": 79,
   "id": "d9770b23",
   "metadata": {},
   "outputs": [
    {
     "name": "stdout",
     "output_type": "stream",
     "text": [
      "<Response [200]>\n",
      "['realme C21Y', 'ross Black', 'RAM']\n",
      "['(Cross Black']\n",
      "['13MP', '2MP', '2MP', '5MP']\n",
      "['4 GB', '64 GB', '256 GB']\n",
      "['5000 mAh']\n",
      "['16.51 cm']\n",
      "['2,52', ',450', '9,537']\n",
      "4.5\n",
      "₹10,499\n"
     ]
    }
   ],
   "source": [
    "b73=\"https://www.flipkart.com/realme-c21y-cross-black-64-gb/p/itm2a2e4f7554a21?pid=MOBG5ZGKQVSRBYGJ&lid=LSTMOBG5ZGKQVSRBYGJZFAT5X&marketplace=FLIPKART&q=reALME+phones&store=tyy%2F4io&srno=s_4_93&otracker=search&otracker1=search&fm=Search&iid=867017a4-74b8-48d4-94c0-c407928ce188.MOBG5ZGKQVSRBYGJ.SEARCH&ppt=sp&ppn=sp&qH=4deba930fb3c1679\"\n",
    "details(b73,headers)"
   ]
  },
  {
   "cell_type": "code",
   "execution_count": 80,
   "id": "911d8352",
   "metadata": {},
   "outputs": [
    {
     "name": "stdout",
     "output_type": "stream",
     "text": [
      "<Response [200]>\n",
      "['realme Narzo', 'Racing Silver', 'RAM']\n",
      "['(Racing Silver']\n",
      "['48MP', '2MP', '2MP', '16MP']\n",
      "['6 GB', '64 GB', '256 GB']\n",
      "['5000 mAh']\n",
      "['16.51 cm']\n",
      "['75,615', '6,010']\n",
      "4.3\n",
      "₹14,499\n"
     ]
    }
   ],
   "source": [
    "b74=\"https://www.flipkart.com/realme-narzo-30-racing-silver-64-gb/p/itm957dacbc8270c?pid=MOBG5D9DNMYDP8WP&lid=LSTMOBG5D9DNMYDP8WPXIMSN4&marketplace=FLIPKART&q=reALME+phones&store=tyy%2F4io&srno=s_4_92&otracker=search&otracker1=search&fm=Search&iid=867017a4-74b8-48d4-94c0-c407928ce188.MOBG5D9DNMYDP8WP.SEARCH&ppt=sp&ppn=sp&qH=4deba930fb3c1679\"\n",
    "details(b74,headers)"
   ]
  },
  {
   "cell_type": "code",
   "execution_count": 81,
   "id": "cb7e0fdf",
   "metadata": {},
   "outputs": [
    {
     "name": "stdout",
     "output_type": "stream",
     "text": [
      "<Response [200]>\n",
      "['realme Narzo', 'Racing Silver', 'RAM']\n",
      "['(Racing Silver']\n",
      "['48MP', '2MP', '2MP', '16MP']\n",
      "['6 GB', '128 GB', '256 GB']\n",
      "['5000 mAh']\n",
      "['16.51 cm']\n",
      "['75,615', '6,010']\n",
      "4.3\n",
      "₹15,499\n"
     ]
    }
   ],
   "source": [
    "b75=\"https://www.flipkart.com/realme-narzo-30-racing-silver-128-gb/p/itm957dacbc8270c?pid=MOBG3W3GHPRGGZGH&lid=LSTMOBG3W3GHPRGGZGHYRGV4Q&marketplace=FLIPKART&q=reALME+phones&store=tyy%2F4io&srno=s_4_91&otracker=search&otracker1=search&fm=Search&iid=867017a4-74b8-48d4-94c0-c407928ce188.MOBG3W3GHPRGGZGH.SEARCH&ppt=sp&ppn=sp&qH=4deba930fb3c1679\"\n",
    "details(b75,headers)"
   ]
  },
  {
   "cell_type": "code",
   "execution_count": 82,
   "id": "93fd8e67",
   "metadata": {},
   "outputs": [
    {
     "name": "stdout",
     "output_type": "stream",
     "text": [
      "<Response [200]>\n",
      "['realme 9', 'Pro', 'rora Green', 'RAM']\n",
      "['(Aurora Green']\n",
      "['50MP', '8MP', '2MP', '16MP']\n",
      "['6 GB', '128 GB']\n",
      "['4500 mAh']\n",
      "['16.26 cm']\n",
      "['29,502', '3,616']\n",
      "4.4\n",
      "₹24,999\n"
     ]
    }
   ],
   "source": [
    "b76=\"https://www.flipkart.com/realme-9-pro-5g-aurora-green-128-gb/p/itm15e7a06fe9352?pid=MOBGB5Y3XVNYWNTH&lid=LSTMOBGB5Y3XVNYWNTHXKJXOD&marketplace=FLIPKART&q=reALME+phones&store=tyy%2F4io&srno=s_4_77&otracker=search&otracker1=search&fm=Search&iid=f03ad39f-a15c-4666-b002-6b4b13c21f90.MOBGB5Y3XVNYWNTH.SEARCH&ppt=sp&ppn=sp&qH=4deba930fb3c1679\"\n",
    "details(b76,headers)"
   ]
  },
  {
   "cell_type": "code",
   "execution_count": 83,
   "id": "3c8f565a",
   "metadata": {},
   "outputs": [
    {
     "name": "stdout",
     "output_type": "stream",
     "text": [
      "<Response [200]>\n",
      "['realme GT', 'RAM']\n",
      "['(Shade Black']\n",
      "['64MP', '8MP', '2MP', '16MP']\n",
      "['6 GB', '128 GB']\n",
      "['5000 mAh']\n",
      "['16.81 cm']\n",
      "['9,486', '1,153']\n",
      "4.3\n",
      "₹29,999\n"
     ]
    }
   ],
   "source": [
    "b77=\"https://www.flipkart.com/realme-gt-neo-3t-shade-black-128-gb/p/itmd1b8c6a6c8604?pid=MOBGHBJGYZAPRAHW&lid=LSTMOBGHBJGYZAPRAHW49IVJ2&marketplace=FLIPKART&q=reALME+phones&store=tyy%2F4io&srno=s_4_90&otracker=search&otracker1=search&fm=Search&iid=867017a4-74b8-48d4-94c0-c407928ce188.MOBGHBJGYZAPRAHW.SEARCH&ppt=sp&ppn=sp&qH=4deba930fb3c1679\"\n",
    "details(b77,headers)"
   ]
  },
  {
   "cell_type": "code",
   "execution_count": 84,
   "id": "15f249d5",
   "metadata": {},
   "outputs": [
    {
     "name": "stdout",
     "output_type": "stream",
     "text": [
      "<Response [200]>\n",
      "['realme GT', 'rifting White', 'RAM']\n",
      "['(Drifting White']\n",
      "['64MP', '8MP', '2MP', '16MP']\n",
      "['8 GB', '128 GB']\n",
      "['5000 mAh']\n",
      "['16.81 cm']\n",
      "['5,299', '616']\n",
      "4.3\n",
      "₹31,999\n"
     ]
    }
   ],
   "source": [
    "b78=\"https://www.flipkart.com/realme-gt-neo-3t-drifting-white-128-gb/p/itmd1b8c6a6c8604?pid=MOBGHBJGWXXZZ5BB&lid=LSTMOBGHBJGWXXZZ5BB5ZBJ9O&marketplace=FLIPKART&q=reALME+phones&store=tyy%2F4io&srno=s_4_89&otracker=search&otracker1=search&fm=Search&iid=867017a4-74b8-48d4-94c0-c407928ce188.MOBGHBJGWXXZZ5BB.SEARCH&ppt=sp&ppn=sp&qH=4deba930fb3c1679\"\n",
    "details(b78,headers)"
   ]
  },
  {
   "cell_type": "code",
   "execution_count": 85,
   "id": "f06386d5",
   "metadata": {},
   "outputs": [
    {
     "name": "stdout",
     "output_type": "stream",
     "text": [
      "<Response [200]>\n",
      "['realme GT', 'RAM']\n",
      "['(Dash Yellow']\n",
      "['64MP', '8MP', '2MP', '16MP']\n",
      "['8 GB', '256 GB']\n",
      "['5000 mAh']\n",
      "['16.81 cm']\n",
      "['5,299', '616']\n",
      "4.3\n",
      "₹33,999\n"
     ]
    }
   ],
   "source": [
    "b79=\"https://www.flipkart.com/realme-gt-neo-3t-dash-yellow-256-gb/p/itmd1b8c6a6c8604?pid=MOBGHBJGXVMPEZNV&lid=LSTMOBGHBJGXVMPEZNVRHOJWY&marketplace=FLIPKART&q=reALME+phones&store=tyy%2F4io&srno=s_4_88&otracker=search&otracker1=search&fm=Search&iid=867017a4-74b8-48d4-94c0-c407928ce188.MOBGHBJGXVMPEZNV.SEARCH&ppt=sp&ppn=sp&qH=4deba930fb3c1679\"\n",
    "details(b79,headers)"
   ]
  },
  {
   "cell_type": "code",
   "execution_count": 86,
   "id": "ea7a90c9",
   "metadata": {},
   "outputs": [
    {
     "name": "stdout",
     "output_type": "stream",
     "text": [
      "<Response [200]>\n",
      "['realme GT', 'RAM']\n",
      "['(Shade Black']\n",
      "['64MP', '8MP', '2MP', '16MP']\n",
      "['8 GB', '256 GB']\n",
      "['5000 mAh']\n",
      "['16.81 cm']\n",
      "['5,299', '616']\n",
      "4.3\n",
      "₹33,999\n"
     ]
    }
   ],
   "source": [
    "b80=\"https://www.flipkart.com/realme-gt-neo-3t-shade-black-256-gb/p/itmd1b8c6a6c8604?pid=MOBGHBJGX4JHBBUA&lid=LSTMOBGHBJGX4JHBBUAMFM1FY&marketplace=FLIPKART&q=reALME+phones&store=tyy%2F4io&srno=s_4_87&otracker=search&otracker1=search&fm=Search&iid=867017a4-74b8-48d4-94c0-c407928ce188.MOBGHBJGX4JHBBUA.SEARCH&ppt=sp&ppn=sp&qH=4deba930fb3c1679\"\n",
    "details(b80,headers)"
   ]
  },
  {
   "cell_type": "code",
   "execution_count": 87,
   "id": "05962455",
   "metadata": {},
   "outputs": [
    {
     "name": "stdout",
     "output_type": "stream",
     "text": [
      "['32 GB', '128 GB', '64 GB', '128 GB', '256 GB', '256 GB', '64 GB', '128 GB', '256 GB', '64 GB', '128 GB', '64 GB', '64 GB', '256 GB', '256 GB', '256 GB', '32 GB', '32 GB', '64 GB', '64 GB', '64 GB', '64 GB', '256 GB', '32 GB', '32 GB', '128 GB', '32 GB', '32 GB', '32 GB', '64 GB', '64 GB', '128 GB', '128 GB', '32 GB', '32 GB', '64 GB', '128 GB', '128 GB', '64 GB', '256 GB', '256 GB', '256 GB', '64 GB', '64 GB', '128 GB', '128 GB', '128 GB', '128 GB', '256 GB', '128 GB', '128 GB', '128 GB', '128 GB', '256 GB', '256 GB', '256 GB', '128 GB', '128 GB', '128 GB', '128 GB', '128 GB', '32 GB', '256 GB', '256 GB', '256 GB', '256 GB', '32 GB', '128 GB', '32 GB', '32 GB', '256 GB', '64 GB', '256 GB', '256 GB', '256 GB', '256 GB', '256 GB', '128 GB', '128 GB', '128 GB', '256 GB', '256 GB']\n",
      "['8MP', '50MP', '50MP', '50MP', '50MP', '50MP', '50MP', '48MP', '50MP', '50MP', '50MP', '50MP', '50MP', '108MP', '108MP', '108MP', '8MP', '50MP', '50MP', '50MP', '50MP', '50MP', '108MP', '8MP', '8MP', '50MP', '8MP', '8MP', '8MP', '13MP', '13MP', '50MP', '48MP', '13MP', '13MP', '48MP', '48MP', '48MP', '48MP', '64MP', '64MP', '64MP', '8MP', '8MP', '50MP', '48MP', '48MP', '48MP', '8MP', '64MP', '64MP', '64MP', '64MP', '64MP', '64MP', '64MP', '64MP', '64MP', '50MP', '50MP', '48MP', '8MP', '8MP', '8MP', '64MP', '64MP', '8MP', '48MP', '8MP', '8MP', '8MP', '48MP', '13MP', '48MP', '13MP', '48MP', '48MP', '50MP', '64MP', '64MP', '64MP', '64MP']\n",
      "['5MP', '8MP', '8MP', '8MP', '16MP', '16MP', '8MP', '16MP', '16MP', '5MP', '32MP', '5MP', '5MP', '16MP', '16MP', '16MP', '5MP', '5MP', '8MP', '8MP', '8MP', '8MP', '16MP', '5MP', '5MP', '8MP', '5MP', '5MP', '5MP', '5MP', '5MP', '8MP', '16MP', '5MP', '5MP', '16MP', '16MP', '16MP', '16MP', '16MP', '16MP', '16MP', '5MP', '5MP', '8MP', '16MP', '16MP', '16MP', '5MP', '16MP', '16MP', '16MP', '16MP', '16MP', '16MP', '16MP', '16MP', '16MP', '8MP', '16MP', '16MP', '5MP', '5MP', '5MP', '16MP', '16MP', '5MP', '16MP', '5MP', '5MP', '5MP', '16MP', '5MP', '16MP', '5MP', '16MP', '16MP', '16MP', '16MP', '16MP', '16MP', '16MP']\n",
      "['[', '(Stripe Blue', '[', '(Glowing Black', '[', '(Glowing Green', '[', '(Rocking Black', '[', '(Speed Blue', '[', '(Speed Blue', '[', '(Glowing Black', '[', '(Racing Silver', '[', '(Speed Black', '[', '(Night Sea', '[', '(Steel Black', '[', '(Aqua Blue', '[', '(Sandy Gold', '[', '(Meteor Black', '[', '(Stargaze White', '[', '(Sunburst Gold', '[', '(Stripe Black', '[', '(Aqua Blue', '[', '(Soulful Blue', '[', '(Soulful Blue', '[', '(Metallica Gold', '[', '(Rocking Black', '[', '(Meteor Black', '[', '(Bamboo Green', '[', '(Denim Black', '[', '(Glowing Black', '[', '(Lake Blue', '[', '(Denim Black', '[', '(Bamboo Green', '[', '(Dark Green', '[', '(Light Silver', '[', '(Metallica Gold', '[', '(Supersonic Blue', '[', '(Dark Green', '[', '(Light Silver', '[', '(Meteor Black', '[', '(Stargaze White', '[', '(Meteor Black', '[', '(Stargaze White', '[', '(Aurora Green', '[', '(Sunrise Blue', '[', '(Midnight Black', '[', '(Stripe Black', '[', '(Stripe Blue', '[', '(Glowing Black', '[', '(Azure Glow', '[', '(Starry Glow', '[', '(Starry Glow', '[', '(Cool Blue', '[', '(Shade Black', '[', '(Drifting White', '[', '(Dash Yellow', '[', '(Drifting White', '[', '(Dash Yellow', '[', '(Shade Black', '[', '(Drifting White', '[', '(Shade Black', '[', '(Dash Yellow', '[', '(Glowing Green', '[', '(Prism Blue', '[', '(Azure Glow', '[', '(Lake Blue', '[', '(Cool Blue', '[', '(Cool Grey', '[', '(Midnight Black', '[', '(Aurora Green', '[', '(Lake Blue', '[', '(Supersonic Black', '[', '(Bamboo Green', '[', '(Denim Black', '[', '(Cool Blue', '[', '(Supersonic Blue', '[', '(Cross Black', '[', '(Racing Blue', '[', '(Cross Black', '[', '(Racing Silver', '[', '(Racing Silver', '[', '(Aurora Green', '[', '(Shade Black', '[', '(Drifting White', '[', '(Dash Yellow', '[', '(Shade Black']\n",
      "['realme C30s', 'realme C35', 'realme C35', 'realme 9i', 'realme Narzo', 'realme Narzo', 'realme C35', 'realme Narzo', 'realme Narzo', 'realme C33', 'realme GT', 'realme C33', 'realme C33', 'realme 9', 'realme 9', 'realme 9', 'realme C30s', 'realme C33', 'realme 9i', 'realme 9i', 'realme 9i', 'realme 9i', 'realme 9', 'realme C30', 'realme C30', 'realme C35', 'realme C30', 'realme C30', 'realme C30', 'realme C31', 'realme C31', 'realme 9i', 'realme 9', 'realme C31', 'realme C31', 'realme 9', 'realme 9', 'realme 9', 'realme 9', 'realme 9', 'realme 9', 'realme 9', 'realme C30s', 'realme C30s', 'realme C35', 'realme 9', 'realme 9', 'realme 9', 'realme C20', 'realme GT', 'realme GT', 'realme GT', 'realme GT', 'realme GT', 'realme GT', 'realme GT', 'realme GT', 'realme GT', 'realme C35', 'realme 9i', 'realme 9', 'Realme C30', 'realme C11', 'realme C11', 'realme 9', 'realme 9', 'realme C30', 'realme 9', 'realme C30', 'realme C30', 'realme C11', 'realme 8', 'realme C21', 'realme Narzo', 'realme C21Y', 'realme Narzo', 'realme Narzo', 'realme 9', 'realme GT', 'realme GT', 'realme GT', 'realme GT']\n",
      "['2 GB', '4 GB', '4 GB', '6 GB', '6 GB', '4 GB', '4 GB', '6 GB', '6 GB', '4 GB', '8 GB', '4 GB', '4 GB', '8 GB', '8 GB', '8 GB', '2 GB', '3 GB', '4 GB', '4 GB', '4 GB', '4 GB', '6 GB', '3 GB', '3 GB', '6 GB', '2 GB', '2 GB', '2 GB', '4 GB', '4 GB', '6 GB', '6 GB', '3 GB', '3 GB', '4 GB', '6 GB', '6 GB', '4 GB', '6 GB', '8 GB', '6 GB', '4 GB', '4 GB', '4 GB', '8 GB', '8 GB', '6 GB', '2 GB', '6 GB', '8 GB', '8 GB', '6 GB', '8 GB', '8 GB', '8 GB', '8 GB', '8 GB', '6 GB', '4 GB', '6 GB', '2 GB', '4 GB', '4 GB', '8 GB', '8 GB', '3 GB', '6 GB', '3 GB', '3 GB', '2 GB', '4 GB', '4 GB', '6 GB', '4 GB', '6 GB', '6 GB', '6 GB', '6 GB', '8 GB', '8 GB', '8 GB']\n",
      "['5000 mAh', '5000 mAh', '5000 mAh', '5000 mAh', '5000 mAh', '5000 mAh', '5000 mAh', '5000 mAh', '5000 mAh', '5000 mAh', '5000 mAh', '5000 mAh', '5000 mAh', '5000 mAh', '5000 mAh', '5000 mAh', '5000 mAh', '5000 mAh', '5000 mAh', '5000 mAh', '5000 mAh', '5000 mAh', '5000 mAh', '5000 mAh', '5000 mAh', '5000 mAh', '5000 mAh', '5000 mAh', '5000 mAh', '5000 mAh', '5000 mAh', '5000 mAh', '5000 mAh', '5000 mAh', '5000 mAh', '5000 mAh', '5000 mAh', '5000 mAh', '5000 mAh', '5000 mAh', '5000 mAh', '5000 mAh', '5000 mAh', '5000 mAh', '5000 mAh', '5000 mAh', '5000 mAh', '5000 mAh', '5000 mAh', '5000 mAh', '5000 mAh', '5000 mAh', '5000 mAh', '5000 mAh', '5000 mAh', '5000 mAh', '5000 mAh', '5000 mAh', '5000 mAh', '5000 mAh', '5000 mAh', '5000 mAh', '5000 mAh', '5000 mAh', '5000 mAh', '5000 mAh', '5000 mAh', '5000 mAh', '5000 mAh', '5000 mAh', '5000 mAh', '5000 mAh', '5000 mAh', '5000 mAh', '5000 mAh', '5000 mAh', '5000 mAh', '4500 mAh', '5000 mAh', '5000 mAh', '5000 mAh', '5000 mAh']\n",
      "['16.51 cm', '16.76 cm', '16.76 cm', '16.76 cm', '16.76 cm', '16.76 cm', '16.76 cm', '16.51 cm', '16.76 cm', '16.51 cm', '17.02 cm', '16.51 cm', '16.51 cm', '16.26 cm', '16.26 cm', '16.26 cm', '16.51 cm', '16.51 cm', '16.76 cm', '16.76 cm', '16.76 cm', '16.76 cm', '16.26 cm', '16.51 cm', '16.51 cm', '16.76 cm', '16.51 cm', '16.51 cm', '16.51 cm', '16.56 cm', '16.56 cm', '16.76 cm', '16.51 cm', '16.56 cm', '16.56 cm', '16.51 cm', '16.51 cm', '16.51 cm', '16.51 cm', '16.76 cm', '16.76 cm', '16.76 cm', '16.51 cm', '16.51 cm', '16.76 cm', '16.76 cm', '16.76 cm', '16.76 cm', '16.51 cm', '16.81 cm', '16.81 cm', '16.81 cm', '16.81 cm', '16.81 cm', '16.81 cm', '16.81 cm', '16.81 cm', '16.81 cm', '16.76 cm', '16.76 cm', '16.76 cm', '16.51 cm', '16.51 cm', '16.51 cm', '16.76 cm', '16.76 cm', '16.51 cm', '16.51 cm', '16.51 cm', '16.51 cm', '16.51 cm', '16.51 cm', '16.51 cm', '16.51 cm', '16.51 cm', '16.51 cm', '16.51 cm', '16.26 cm', '16.81 cm', '16.81 cm', '16.81 cm', '16.81 cm']\n",
      "['₹7,499', '₹12,999', '₹11,999', '₹16,999', '₹15,499', '₹12,999', '₹11,999', '₹16,999', '₹15,499', '₹9,999', '₹49,999', '₹9,999', '₹9,999', '₹17,999', '₹17,999', '₹17,999', '₹7,499', '₹8,999', '₹14,999', '₹14,999', '₹14,999', '₹14,999', '₹16,999', '₹7,999', '₹7,999', '₹13,999', '₹6,999', '₹6,999', '₹6,999', '₹9,999', '₹9,999', '₹16,999', '₹17,499', '₹9,299', '₹9,299', '₹15,999', '₹17,499', '₹17,499', '₹15,999', '₹18,999', '₹20,999', '₹18,999', '₹8,999', '₹8,999', '₹12,999', '₹22,999', '₹22,999', '₹19,999', '₹7,499', '₹29,999', '₹31,999', '₹31,999', '₹29,999', '₹33,999', '₹33,999', '₹33,999', '₹31,999', '₹31,999', '₹13,999', '₹14,999', '₹19,999', '₹6,399', '₹8,999', '₹8,999', '₹20,999', '₹20,999', '₹7,999', '₹17,499', '₹7,999', '₹7,999', '₹7,499', '₹15,499', '₹10,499', '₹14,499', '₹10,499', '₹14,499', '₹15,499', '₹24,999', '₹29,999', '₹31,999', '₹33,999', '₹33,999']\n",
      "['4.4', '4.4', '4.4', '4.3', '4.4', '4.5', '4.4', '4.3', '4.4', '4.5', '4.2', '4.5', '4.5', '4.4', '4.4', '4.4', '4.4', '4.5', '4.5', '4.5', '4.5', '4.5', '4.4', '4.1', '4.1', '4.2', '4.3', '4.3', '4.3', '4.4', '4.4', '4.3', '4.4', '4.5', '4.5', '4.5', '4.4', '4.4', '4.5', '4.4', '4.3', '4.4', '4.2', '4.2', '4.4', '4.3', '4.3', '4.4', '4.4', '4.3', '4.3', '4.3', '4.3', '4.3', '4.3', '4.3', '4.3', '4.3', '4.2', '4.5', '4.4', '4.3', '4.3', '4.3', '4.3', '4.3', '4.1', '4.4', '4.1', '4.1', '4.4', '4.3', '4.4', '4.3', '4.5', '4.3', '4.3', '4.4', '4.3', '4.3', '4.3', '4.3']\n",
      "['871', '1,47', '1,47', '3,611', '5,877', '14,026', '1,47', '83,178', '5,877', '40,321', '2,490', '40,321', '40,321', '15,580', '15,580', '15,580', '871', '13,450', '32,349', '32,349', '32,349', '32,349', '46,338', '26,797', '26,797', '10,294', '54,354', '54,354', '54,354', '49,314', '49,314', '3,611', '39,584', '43,647', '43,647', '34,766', '39,584', '39,584', '34,766', '73,793', '12,752', '73,793', '1,077', '1,077', '1,47', '1,973', '1,973', '22,657', '2,94', '9,486', '5,299', '5,299', '9,486', '5,299', '5,299', '5,299', '5,299', '5,299', '10,294', '1,05', '22,657', '54,354', '2,02', '2,02', '12,752', '12,752', '26,797', '39,584', '26,797', '26,797', '2,31', '75,406', '1,46', '75,615', '2,52', '75,615', '75,615', '29,502', '9,486', '5,299', '5,299', '5,299']\n"
     ]
    }
   ],
   "source": [
    "print(storage)\n",
    "print(camera_px)\n",
    "print(self_px)\n",
    "print(colour)\n",
    "print(name)\n",
    "print(ram)\n",
    "# print(tech)\n",
    "print(battery)\n",
    "print(display)\n",
    "print(price)\n",
    "# print(os_sys)\n",
    "print(star_rate)\n",
    "print(user_rate)"
   ]
  },
  {
   "cell_type": "code",
   "execution_count": 88,
   "id": "49de60a3",
   "metadata": {},
   "outputs": [
    {
     "data": {
      "text/plain": [
       "list"
      ]
     },
     "execution_count": 88,
     "metadata": {},
     "output_type": "execute_result"
    }
   ],
   "source": [
    "type(colour)"
   ]
  },
  {
   "cell_type": "code",
   "execution_count": 89,
   "id": "3e2fd8e7",
   "metadata": {},
   "outputs": [],
   "source": [
    "colour=[i for i in colour if i!='[']"
   ]
  },
  {
   "cell_type": "code",
   "execution_count": 90,
   "id": "5ec3123d",
   "metadata": {},
   "outputs": [
    {
     "data": {
      "text/plain": [
       "82"
      ]
     },
     "execution_count": 90,
     "metadata": {},
     "output_type": "execute_result"
    }
   ],
   "source": [
    "len(colour)"
   ]
  },
  {
   "cell_type": "code",
   "execution_count": 91,
   "id": "f04bb6ca",
   "metadata": {},
   "outputs": [],
   "source": [
    "camera_px=[i.replace(\"MP\",\"\") for i in camera_px]"
   ]
  },
  {
   "cell_type": "code",
   "execution_count": 92,
   "id": "5cb7d6c9",
   "metadata": {},
   "outputs": [],
   "source": [
    "self_px=[i.replace(\"MP\",\"\") for i in self_px]"
   ]
  },
  {
   "cell_type": "code",
   "execution_count": 93,
   "id": "cfb85234",
   "metadata": {},
   "outputs": [],
   "source": [
    "storage=[i.replace(\"GB\",\" \") for i in storage]"
   ]
  },
  {
   "cell_type": "code",
   "execution_count": 94,
   "id": "c9876251",
   "metadata": {},
   "outputs": [],
   "source": [
    "ram=[i.replace(\"GB\",\" \") for i in ram]"
   ]
  },
  {
   "cell_type": "code",
   "execution_count": 95,
   "id": "842b9972",
   "metadata": {},
   "outputs": [],
   "source": [
    "battery=[i.replace(\"mAH\",\"\") for i in battery]\n",
    "battery=[i.replace(\"mAh\",\"\") for i in battery]"
   ]
  },
  {
   "cell_type": "code",
   "execution_count": 96,
   "id": "217479c1",
   "metadata": {},
   "outputs": [],
   "source": [
    "colour=[i.replace(\"(\",\"\") for i in colour]\n"
   ]
  },
  {
   "cell_type": "code",
   "execution_count": 97,
   "id": "c81f0368",
   "metadata": {},
   "outputs": [],
   "source": [
    "price=[i.replace(\"₹\",\"\") for i in price]\n",
    "price=[i.replace(\",\",\"\") for i in price]"
   ]
  },
  {
   "cell_type": "code",
   "execution_count": 98,
   "id": "c5d0418e",
   "metadata": {},
   "outputs": [],
   "source": [
    "display=[i.replace(\" cm\",\"\") for i in display]"
   ]
  },
  {
   "cell_type": "code",
   "execution_count": 99,
   "id": "4be87772",
   "metadata": {},
   "outputs": [],
   "source": [
    "user_rate=[i.replace(\",\",\"\") for i in user_rate]"
   ]
  },
  {
   "cell_type": "code",
   "execution_count": 100,
   "id": "5c9c1062",
   "metadata": {},
   "outputs": [],
   "source": [
    "storage=[float(i) for i in storage]\n",
    "camera_px=[int(i) for i in camera_px]\n",
    "self_px=[int(i) for i in self_px]\n",
    "ram=[float(i) for i in ram]\n",
    "# tech=[float(i) for i in tech]\n",
    "battery=[float(i) for i in battery]\n",
    "display=[float(i) for i in display]\n",
    "price=[float(i) for i in price]\n",
    "star_rate=[float(i) for i in star_rate]\n",
    "user_rate=[float(i) for i in user_rate]"
   ]
  },
  {
   "cell_type": "code",
   "execution_count": 101,
   "id": "acdfc259",
   "metadata": {},
   "outputs": [
    {
     "data": {
      "text/plain": [
       "82"
      ]
     },
     "execution_count": 101,
     "metadata": {},
     "output_type": "execute_result"
    }
   ],
   "source": [
    "len(colour)"
   ]
  },
  {
   "cell_type": "code",
   "execution_count": 102,
   "id": "34bcb5f7",
   "metadata": {},
   "outputs": [],
   "source": [
    "r1=pd.DataFrame({\"Name\":name,\"Colour\":colour,\"Storage\":storage,\"Battery\":battery,\n",
    "               \"Camera_Pixel\":camera_px,\"Selfie_cam_pixel\":self_px,\"Display_size\":display,\n",
    "                \"RAM\":ram,\n",
    "               \"Star_ratings\":star_rate,\"Users_rated\":user_rate,\"Price\":price})"
   ]
  },
  {
   "cell_type": "code",
   "execution_count": 103,
   "id": "0ae0404c",
   "metadata": {},
   "outputs": [
    {
     "data": {
      "text/html": [
       "<div>\n",
       "<style scoped>\n",
       "    .dataframe tbody tr th:only-of-type {\n",
       "        vertical-align: middle;\n",
       "    }\n",
       "\n",
       "    .dataframe tbody tr th {\n",
       "        vertical-align: top;\n",
       "    }\n",
       "\n",
       "    .dataframe thead th {\n",
       "        text-align: right;\n",
       "    }\n",
       "</style>\n",
       "<table border=\"1\" class=\"dataframe\">\n",
       "  <thead>\n",
       "    <tr style=\"text-align: right;\">\n",
       "      <th></th>\n",
       "      <th>Name</th>\n",
       "      <th>Colour</th>\n",
       "      <th>Storage</th>\n",
       "      <th>Battery</th>\n",
       "      <th>Camera_Pixel</th>\n",
       "      <th>Selfie_cam_pixel</th>\n",
       "      <th>Display_size</th>\n",
       "      <th>RAM</th>\n",
       "      <th>Star_ratings</th>\n",
       "      <th>Users_rated</th>\n",
       "      <th>Price</th>\n",
       "    </tr>\n",
       "  </thead>\n",
       "  <tbody>\n",
       "    <tr>\n",
       "      <th>0</th>\n",
       "      <td>realme C30s</td>\n",
       "      <td>Stripe Blue</td>\n",
       "      <td>32.0</td>\n",
       "      <td>5000.0</td>\n",
       "      <td>8</td>\n",
       "      <td>5</td>\n",
       "      <td>16.51</td>\n",
       "      <td>2.0</td>\n",
       "      <td>4.4</td>\n",
       "      <td>871.0</td>\n",
       "      <td>7499.0</td>\n",
       "    </tr>\n",
       "    <tr>\n",
       "      <th>1</th>\n",
       "      <td>realme C35</td>\n",
       "      <td>Glowing Black</td>\n",
       "      <td>128.0</td>\n",
       "      <td>5000.0</td>\n",
       "      <td>50</td>\n",
       "      <td>8</td>\n",
       "      <td>16.76</td>\n",
       "      <td>4.0</td>\n",
       "      <td>4.4</td>\n",
       "      <td>147.0</td>\n",
       "      <td>12999.0</td>\n",
       "    </tr>\n",
       "    <tr>\n",
       "      <th>2</th>\n",
       "      <td>realme C35</td>\n",
       "      <td>Glowing Green</td>\n",
       "      <td>64.0</td>\n",
       "      <td>5000.0</td>\n",
       "      <td>50</td>\n",
       "      <td>8</td>\n",
       "      <td>16.76</td>\n",
       "      <td>4.0</td>\n",
       "      <td>4.4</td>\n",
       "      <td>147.0</td>\n",
       "      <td>11999.0</td>\n",
       "    </tr>\n",
       "    <tr>\n",
       "      <th>3</th>\n",
       "      <td>realme 9i</td>\n",
       "      <td>Rocking Black</td>\n",
       "      <td>128.0</td>\n",
       "      <td>5000.0</td>\n",
       "      <td>50</td>\n",
       "      <td>8</td>\n",
       "      <td>16.76</td>\n",
       "      <td>6.0</td>\n",
       "      <td>4.3</td>\n",
       "      <td>3611.0</td>\n",
       "      <td>16999.0</td>\n",
       "    </tr>\n",
       "    <tr>\n",
       "      <th>4</th>\n",
       "      <td>realme Narzo</td>\n",
       "      <td>Speed Blue</td>\n",
       "      <td>256.0</td>\n",
       "      <td>5000.0</td>\n",
       "      <td>50</td>\n",
       "      <td>16</td>\n",
       "      <td>16.76</td>\n",
       "      <td>6.0</td>\n",
       "      <td>4.4</td>\n",
       "      <td>5877.0</td>\n",
       "      <td>15499.0</td>\n",
       "    </tr>\n",
       "    <tr>\n",
       "      <th>5</th>\n",
       "      <td>realme Narzo</td>\n",
       "      <td>Speed Blue</td>\n",
       "      <td>256.0</td>\n",
       "      <td>5000.0</td>\n",
       "      <td>50</td>\n",
       "      <td>16</td>\n",
       "      <td>16.76</td>\n",
       "      <td>4.0</td>\n",
       "      <td>4.5</td>\n",
       "      <td>14026.0</td>\n",
       "      <td>12999.0</td>\n",
       "    </tr>\n",
       "    <tr>\n",
       "      <th>6</th>\n",
       "      <td>realme C35</td>\n",
       "      <td>Glowing Black</td>\n",
       "      <td>64.0</td>\n",
       "      <td>5000.0</td>\n",
       "      <td>50</td>\n",
       "      <td>8</td>\n",
       "      <td>16.76</td>\n",
       "      <td>4.0</td>\n",
       "      <td>4.4</td>\n",
       "      <td>147.0</td>\n",
       "      <td>11999.0</td>\n",
       "    </tr>\n",
       "    <tr>\n",
       "      <th>7</th>\n",
       "      <td>realme Narzo</td>\n",
       "      <td>Racing Silver</td>\n",
       "      <td>128.0</td>\n",
       "      <td>5000.0</td>\n",
       "      <td>48</td>\n",
       "      <td>16</td>\n",
       "      <td>16.51</td>\n",
       "      <td>6.0</td>\n",
       "      <td>4.3</td>\n",
       "      <td>83178.0</td>\n",
       "      <td>16999.0</td>\n",
       "    </tr>\n",
       "    <tr>\n",
       "      <th>8</th>\n",
       "      <td>realme Narzo</td>\n",
       "      <td>Speed Black</td>\n",
       "      <td>256.0</td>\n",
       "      <td>5000.0</td>\n",
       "      <td>50</td>\n",
       "      <td>16</td>\n",
       "      <td>16.76</td>\n",
       "      <td>6.0</td>\n",
       "      <td>4.4</td>\n",
       "      <td>5877.0</td>\n",
       "      <td>15499.0</td>\n",
       "    </tr>\n",
       "    <tr>\n",
       "      <th>9</th>\n",
       "      <td>realme C33</td>\n",
       "      <td>Night Sea</td>\n",
       "      <td>64.0</td>\n",
       "      <td>5000.0</td>\n",
       "      <td>50</td>\n",
       "      <td>5</td>\n",
       "      <td>16.51</td>\n",
       "      <td>4.0</td>\n",
       "      <td>4.5</td>\n",
       "      <td>40321.0</td>\n",
       "      <td>9999.0</td>\n",
       "    </tr>\n",
       "    <tr>\n",
       "      <th>10</th>\n",
       "      <td>realme GT</td>\n",
       "      <td>Steel Black</td>\n",
       "      <td>128.0</td>\n",
       "      <td>5000.0</td>\n",
       "      <td>50</td>\n",
       "      <td>32</td>\n",
       "      <td>17.02</td>\n",
       "      <td>8.0</td>\n",
       "      <td>4.2</td>\n",
       "      <td>2490.0</td>\n",
       "      <td>49999.0</td>\n",
       "    </tr>\n",
       "    <tr>\n",
       "      <th>11</th>\n",
       "      <td>realme C33</td>\n",
       "      <td>Aqua Blue</td>\n",
       "      <td>64.0</td>\n",
       "      <td>5000.0</td>\n",
       "      <td>50</td>\n",
       "      <td>5</td>\n",
       "      <td>16.51</td>\n",
       "      <td>4.0</td>\n",
       "      <td>4.5</td>\n",
       "      <td>40321.0</td>\n",
       "      <td>9999.0</td>\n",
       "    </tr>\n",
       "    <tr>\n",
       "      <th>12</th>\n",
       "      <td>realme C33</td>\n",
       "      <td>Sandy Gold</td>\n",
       "      <td>64.0</td>\n",
       "      <td>5000.0</td>\n",
       "      <td>50</td>\n",
       "      <td>5</td>\n",
       "      <td>16.51</td>\n",
       "      <td>4.0</td>\n",
       "      <td>4.5</td>\n",
       "      <td>40321.0</td>\n",
       "      <td>9999.0</td>\n",
       "    </tr>\n",
       "    <tr>\n",
       "      <th>13</th>\n",
       "      <td>realme 9</td>\n",
       "      <td>Meteor Black</td>\n",
       "      <td>256.0</td>\n",
       "      <td>5000.0</td>\n",
       "      <td>108</td>\n",
       "      <td>16</td>\n",
       "      <td>16.26</td>\n",
       "      <td>8.0</td>\n",
       "      <td>4.4</td>\n",
       "      <td>15580.0</td>\n",
       "      <td>17999.0</td>\n",
       "    </tr>\n",
       "    <tr>\n",
       "      <th>14</th>\n",
       "      <td>realme 9</td>\n",
       "      <td>Stargaze White</td>\n",
       "      <td>256.0</td>\n",
       "      <td>5000.0</td>\n",
       "      <td>108</td>\n",
       "      <td>16</td>\n",
       "      <td>16.26</td>\n",
       "      <td>8.0</td>\n",
       "      <td>4.4</td>\n",
       "      <td>15580.0</td>\n",
       "      <td>17999.0</td>\n",
       "    </tr>\n",
       "    <tr>\n",
       "      <th>15</th>\n",
       "      <td>realme 9</td>\n",
       "      <td>Sunburst Gold</td>\n",
       "      <td>256.0</td>\n",
       "      <td>5000.0</td>\n",
       "      <td>108</td>\n",
       "      <td>16</td>\n",
       "      <td>16.26</td>\n",
       "      <td>8.0</td>\n",
       "      <td>4.4</td>\n",
       "      <td>15580.0</td>\n",
       "      <td>17999.0</td>\n",
       "    </tr>\n",
       "    <tr>\n",
       "      <th>16</th>\n",
       "      <td>realme C30s</td>\n",
       "      <td>Stripe Black</td>\n",
       "      <td>32.0</td>\n",
       "      <td>5000.0</td>\n",
       "      <td>8</td>\n",
       "      <td>5</td>\n",
       "      <td>16.51</td>\n",
       "      <td>2.0</td>\n",
       "      <td>4.4</td>\n",
       "      <td>871.0</td>\n",
       "      <td>7499.0</td>\n",
       "    </tr>\n",
       "    <tr>\n",
       "      <th>17</th>\n",
       "      <td>realme C33</td>\n",
       "      <td>Aqua Blue</td>\n",
       "      <td>32.0</td>\n",
       "      <td>5000.0</td>\n",
       "      <td>50</td>\n",
       "      <td>5</td>\n",
       "      <td>16.51</td>\n",
       "      <td>3.0</td>\n",
       "      <td>4.5</td>\n",
       "      <td>13450.0</td>\n",
       "      <td>8999.0</td>\n",
       "    </tr>\n",
       "    <tr>\n",
       "      <th>18</th>\n",
       "      <td>realme 9i</td>\n",
       "      <td>Soulful Blue</td>\n",
       "      <td>64.0</td>\n",
       "      <td>5000.0</td>\n",
       "      <td>50</td>\n",
       "      <td>8</td>\n",
       "      <td>16.76</td>\n",
       "      <td>4.0</td>\n",
       "      <td>4.5</td>\n",
       "      <td>32349.0</td>\n",
       "      <td>14999.0</td>\n",
       "    </tr>\n",
       "    <tr>\n",
       "      <th>19</th>\n",
       "      <td>realme 9i</td>\n",
       "      <td>Soulful Blue</td>\n",
       "      <td>64.0</td>\n",
       "      <td>5000.0</td>\n",
       "      <td>50</td>\n",
       "      <td>8</td>\n",
       "      <td>16.76</td>\n",
       "      <td>4.0</td>\n",
       "      <td>4.5</td>\n",
       "      <td>32349.0</td>\n",
       "      <td>14999.0</td>\n",
       "    </tr>\n",
       "    <tr>\n",
       "      <th>20</th>\n",
       "      <td>realme 9i</td>\n",
       "      <td>Metallica Gold</td>\n",
       "      <td>64.0</td>\n",
       "      <td>5000.0</td>\n",
       "      <td>50</td>\n",
       "      <td>8</td>\n",
       "      <td>16.76</td>\n",
       "      <td>4.0</td>\n",
       "      <td>4.5</td>\n",
       "      <td>32349.0</td>\n",
       "      <td>14999.0</td>\n",
       "    </tr>\n",
       "    <tr>\n",
       "      <th>21</th>\n",
       "      <td>realme 9i</td>\n",
       "      <td>Rocking Black</td>\n",
       "      <td>64.0</td>\n",
       "      <td>5000.0</td>\n",
       "      <td>50</td>\n",
       "      <td>8</td>\n",
       "      <td>16.76</td>\n",
       "      <td>4.0</td>\n",
       "      <td>4.5</td>\n",
       "      <td>32349.0</td>\n",
       "      <td>14999.0</td>\n",
       "    </tr>\n",
       "    <tr>\n",
       "      <th>22</th>\n",
       "      <td>realme 9</td>\n",
       "      <td>Meteor Black</td>\n",
       "      <td>256.0</td>\n",
       "      <td>5000.0</td>\n",
       "      <td>108</td>\n",
       "      <td>16</td>\n",
       "      <td>16.26</td>\n",
       "      <td>6.0</td>\n",
       "      <td>4.4</td>\n",
       "      <td>46338.0</td>\n",
       "      <td>16999.0</td>\n",
       "    </tr>\n",
       "    <tr>\n",
       "      <th>23</th>\n",
       "      <td>realme C30</td>\n",
       "      <td>Bamboo Green</td>\n",
       "      <td>32.0</td>\n",
       "      <td>5000.0</td>\n",
       "      <td>8</td>\n",
       "      <td>5</td>\n",
       "      <td>16.51</td>\n",
       "      <td>3.0</td>\n",
       "      <td>4.1</td>\n",
       "      <td>26797.0</td>\n",
       "      <td>7999.0</td>\n",
       "    </tr>\n",
       "    <tr>\n",
       "      <th>24</th>\n",
       "      <td>realme C30</td>\n",
       "      <td>Denim Black</td>\n",
       "      <td>32.0</td>\n",
       "      <td>5000.0</td>\n",
       "      <td>8</td>\n",
       "      <td>5</td>\n",
       "      <td>16.51</td>\n",
       "      <td>3.0</td>\n",
       "      <td>4.1</td>\n",
       "      <td>26797.0</td>\n",
       "      <td>7999.0</td>\n",
       "    </tr>\n",
       "    <tr>\n",
       "      <th>25</th>\n",
       "      <td>realme C35</td>\n",
       "      <td>Glowing Black</td>\n",
       "      <td>128.0</td>\n",
       "      <td>5000.0</td>\n",
       "      <td>50</td>\n",
       "      <td>8</td>\n",
       "      <td>16.76</td>\n",
       "      <td>6.0</td>\n",
       "      <td>4.2</td>\n",
       "      <td>10294.0</td>\n",
       "      <td>13999.0</td>\n",
       "    </tr>\n",
       "    <tr>\n",
       "      <th>26</th>\n",
       "      <td>realme C30</td>\n",
       "      <td>Lake Blue</td>\n",
       "      <td>32.0</td>\n",
       "      <td>5000.0</td>\n",
       "      <td>8</td>\n",
       "      <td>5</td>\n",
       "      <td>16.51</td>\n",
       "      <td>2.0</td>\n",
       "      <td>4.3</td>\n",
       "      <td>54354.0</td>\n",
       "      <td>6999.0</td>\n",
       "    </tr>\n",
       "    <tr>\n",
       "      <th>27</th>\n",
       "      <td>realme C30</td>\n",
       "      <td>Denim Black</td>\n",
       "      <td>32.0</td>\n",
       "      <td>5000.0</td>\n",
       "      <td>8</td>\n",
       "      <td>5</td>\n",
       "      <td>16.51</td>\n",
       "      <td>2.0</td>\n",
       "      <td>4.3</td>\n",
       "      <td>54354.0</td>\n",
       "      <td>6999.0</td>\n",
       "    </tr>\n",
       "    <tr>\n",
       "      <th>28</th>\n",
       "      <td>realme C30</td>\n",
       "      <td>Bamboo Green</td>\n",
       "      <td>32.0</td>\n",
       "      <td>5000.0</td>\n",
       "      <td>8</td>\n",
       "      <td>5</td>\n",
       "      <td>16.51</td>\n",
       "      <td>2.0</td>\n",
       "      <td>4.3</td>\n",
       "      <td>54354.0</td>\n",
       "      <td>6999.0</td>\n",
       "    </tr>\n",
       "    <tr>\n",
       "      <th>29</th>\n",
       "      <td>realme C31</td>\n",
       "      <td>Dark Green</td>\n",
       "      <td>64.0</td>\n",
       "      <td>5000.0</td>\n",
       "      <td>13</td>\n",
       "      <td>5</td>\n",
       "      <td>16.56</td>\n",
       "      <td>4.0</td>\n",
       "      <td>4.4</td>\n",
       "      <td>49314.0</td>\n",
       "      <td>9999.0</td>\n",
       "    </tr>\n",
       "    <tr>\n",
       "      <th>30</th>\n",
       "      <td>realme C31</td>\n",
       "      <td>Light Silver</td>\n",
       "      <td>64.0</td>\n",
       "      <td>5000.0</td>\n",
       "      <td>13</td>\n",
       "      <td>5</td>\n",
       "      <td>16.56</td>\n",
       "      <td>4.0</td>\n",
       "      <td>4.4</td>\n",
       "      <td>49314.0</td>\n",
       "      <td>9999.0</td>\n",
       "    </tr>\n",
       "    <tr>\n",
       "      <th>31</th>\n",
       "      <td>realme 9i</td>\n",
       "      <td>Metallica Gold</td>\n",
       "      <td>128.0</td>\n",
       "      <td>5000.0</td>\n",
       "      <td>50</td>\n",
       "      <td>8</td>\n",
       "      <td>16.76</td>\n",
       "      <td>6.0</td>\n",
       "      <td>4.3</td>\n",
       "      <td>3611.0</td>\n",
       "      <td>16999.0</td>\n",
       "    </tr>\n",
       "    <tr>\n",
       "      <th>32</th>\n",
       "      <td>realme 9</td>\n",
       "      <td>Supersonic Blue</td>\n",
       "      <td>128.0</td>\n",
       "      <td>5000.0</td>\n",
       "      <td>48</td>\n",
       "      <td>16</td>\n",
       "      <td>16.51</td>\n",
       "      <td>6.0</td>\n",
       "      <td>4.4</td>\n",
       "      <td>39584.0</td>\n",
       "      <td>17499.0</td>\n",
       "    </tr>\n",
       "    <tr>\n",
       "      <th>33</th>\n",
       "      <td>realme C31</td>\n",
       "      <td>Dark Green</td>\n",
       "      <td>32.0</td>\n",
       "      <td>5000.0</td>\n",
       "      <td>13</td>\n",
       "      <td>5</td>\n",
       "      <td>16.56</td>\n",
       "      <td>3.0</td>\n",
       "      <td>4.5</td>\n",
       "      <td>43647.0</td>\n",
       "      <td>9299.0</td>\n",
       "    </tr>\n",
       "    <tr>\n",
       "      <th>34</th>\n",
       "      <td>realme C31</td>\n",
       "      <td>Light Silver</td>\n",
       "      <td>32.0</td>\n",
       "      <td>5000.0</td>\n",
       "      <td>13</td>\n",
       "      <td>5</td>\n",
       "      <td>16.56</td>\n",
       "      <td>3.0</td>\n",
       "      <td>4.5</td>\n",
       "      <td>43647.0</td>\n",
       "      <td>9299.0</td>\n",
       "    </tr>\n",
       "    <tr>\n",
       "      <th>35</th>\n",
       "      <td>realme 9</td>\n",
       "      <td>Meteor Black</td>\n",
       "      <td>64.0</td>\n",
       "      <td>5000.0</td>\n",
       "      <td>48</td>\n",
       "      <td>16</td>\n",
       "      <td>16.51</td>\n",
       "      <td>4.0</td>\n",
       "      <td>4.5</td>\n",
       "      <td>34766.0</td>\n",
       "      <td>15999.0</td>\n",
       "    </tr>\n",
       "    <tr>\n",
       "      <th>36</th>\n",
       "      <td>realme 9</td>\n",
       "      <td>Stargaze White</td>\n",
       "      <td>128.0</td>\n",
       "      <td>5000.0</td>\n",
       "      <td>48</td>\n",
       "      <td>16</td>\n",
       "      <td>16.51</td>\n",
       "      <td>6.0</td>\n",
       "      <td>4.4</td>\n",
       "      <td>39584.0</td>\n",
       "      <td>17499.0</td>\n",
       "    </tr>\n",
       "    <tr>\n",
       "      <th>37</th>\n",
       "      <td>realme 9</td>\n",
       "      <td>Meteor Black</td>\n",
       "      <td>128.0</td>\n",
       "      <td>5000.0</td>\n",
       "      <td>48</td>\n",
       "      <td>16</td>\n",
       "      <td>16.51</td>\n",
       "      <td>6.0</td>\n",
       "      <td>4.4</td>\n",
       "      <td>39584.0</td>\n",
       "      <td>17499.0</td>\n",
       "    </tr>\n",
       "    <tr>\n",
       "      <th>38</th>\n",
       "      <td>realme 9</td>\n",
       "      <td>Stargaze White</td>\n",
       "      <td>64.0</td>\n",
       "      <td>5000.0</td>\n",
       "      <td>48</td>\n",
       "      <td>16</td>\n",
       "      <td>16.51</td>\n",
       "      <td>4.0</td>\n",
       "      <td>4.5</td>\n",
       "      <td>34766.0</td>\n",
       "      <td>15999.0</td>\n",
       "    </tr>\n",
       "    <tr>\n",
       "      <th>39</th>\n",
       "      <td>realme 9</td>\n",
       "      <td>Aurora Green</td>\n",
       "      <td>256.0</td>\n",
       "      <td>5000.0</td>\n",
       "      <td>64</td>\n",
       "      <td>16</td>\n",
       "      <td>16.76</td>\n",
       "      <td>6.0</td>\n",
       "      <td>4.4</td>\n",
       "      <td>73793.0</td>\n",
       "      <td>18999.0</td>\n",
       "    </tr>\n",
       "    <tr>\n",
       "      <th>40</th>\n",
       "      <td>realme 9</td>\n",
       "      <td>Sunrise Blue</td>\n",
       "      <td>256.0</td>\n",
       "      <td>5000.0</td>\n",
       "      <td>64</td>\n",
       "      <td>16</td>\n",
       "      <td>16.76</td>\n",
       "      <td>8.0</td>\n",
       "      <td>4.3</td>\n",
       "      <td>12752.0</td>\n",
       "      <td>20999.0</td>\n",
       "    </tr>\n",
       "    <tr>\n",
       "      <th>41</th>\n",
       "      <td>realme 9</td>\n",
       "      <td>Midnight Black</td>\n",
       "      <td>256.0</td>\n",
       "      <td>5000.0</td>\n",
       "      <td>64</td>\n",
       "      <td>16</td>\n",
       "      <td>16.76</td>\n",
       "      <td>6.0</td>\n",
       "      <td>4.4</td>\n",
       "      <td>73793.0</td>\n",
       "      <td>18999.0</td>\n",
       "    </tr>\n",
       "    <tr>\n",
       "      <th>42</th>\n",
       "      <td>realme C30s</td>\n",
       "      <td>Stripe Black</td>\n",
       "      <td>64.0</td>\n",
       "      <td>5000.0</td>\n",
       "      <td>8</td>\n",
       "      <td>5</td>\n",
       "      <td>16.51</td>\n",
       "      <td>4.0</td>\n",
       "      <td>4.2</td>\n",
       "      <td>1077.0</td>\n",
       "      <td>8999.0</td>\n",
       "    </tr>\n",
       "    <tr>\n",
       "      <th>43</th>\n",
       "      <td>realme C30s</td>\n",
       "      <td>Stripe Blue</td>\n",
       "      <td>64.0</td>\n",
       "      <td>5000.0</td>\n",
       "      <td>8</td>\n",
       "      <td>5</td>\n",
       "      <td>16.51</td>\n",
       "      <td>4.0</td>\n",
       "      <td>4.2</td>\n",
       "      <td>1077.0</td>\n",
       "      <td>8999.0</td>\n",
       "    </tr>\n",
       "    <tr>\n",
       "      <th>44</th>\n",
       "      <td>realme C35</td>\n",
       "      <td>Glowing Black</td>\n",
       "      <td>128.0</td>\n",
       "      <td>5000.0</td>\n",
       "      <td>50</td>\n",
       "      <td>8</td>\n",
       "      <td>16.76</td>\n",
       "      <td>4.0</td>\n",
       "      <td>4.4</td>\n",
       "      <td>147.0</td>\n",
       "      <td>12999.0</td>\n",
       "    </tr>\n",
       "    <tr>\n",
       "      <th>45</th>\n",
       "      <td>realme 9</td>\n",
       "      <td>Azure Glow</td>\n",
       "      <td>128.0</td>\n",
       "      <td>5000.0</td>\n",
       "      <td>48</td>\n",
       "      <td>16</td>\n",
       "      <td>16.76</td>\n",
       "      <td>8.0</td>\n",
       "      <td>4.3</td>\n",
       "      <td>1973.0</td>\n",
       "      <td>22999.0</td>\n",
       "    </tr>\n",
       "    <tr>\n",
       "      <th>46</th>\n",
       "      <td>realme 9</td>\n",
       "      <td>Starry Glow</td>\n",
       "      <td>128.0</td>\n",
       "      <td>5000.0</td>\n",
       "      <td>48</td>\n",
       "      <td>16</td>\n",
       "      <td>16.76</td>\n",
       "      <td>8.0</td>\n",
       "      <td>4.3</td>\n",
       "      <td>1973.0</td>\n",
       "      <td>22999.0</td>\n",
       "    </tr>\n",
       "    <tr>\n",
       "      <th>47</th>\n",
       "      <td>realme 9</td>\n",
       "      <td>Starry Glow</td>\n",
       "      <td>128.0</td>\n",
       "      <td>5000.0</td>\n",
       "      <td>48</td>\n",
       "      <td>16</td>\n",
       "      <td>16.76</td>\n",
       "      <td>6.0</td>\n",
       "      <td>4.4</td>\n",
       "      <td>22657.0</td>\n",
       "      <td>19999.0</td>\n",
       "    </tr>\n",
       "    <tr>\n",
       "      <th>48</th>\n",
       "      <td>realme C20</td>\n",
       "      <td>Cool Blue</td>\n",
       "      <td>256.0</td>\n",
       "      <td>5000.0</td>\n",
       "      <td>8</td>\n",
       "      <td>5</td>\n",
       "      <td>16.51</td>\n",
       "      <td>2.0</td>\n",
       "      <td>4.4</td>\n",
       "      <td>294.0</td>\n",
       "      <td>7499.0</td>\n",
       "    </tr>\n",
       "    <tr>\n",
       "      <th>49</th>\n",
       "      <td>realme GT</td>\n",
       "      <td>Shade Black</td>\n",
       "      <td>128.0</td>\n",
       "      <td>5000.0</td>\n",
       "      <td>64</td>\n",
       "      <td>16</td>\n",
       "      <td>16.81</td>\n",
       "      <td>6.0</td>\n",
       "      <td>4.3</td>\n",
       "      <td>9486.0</td>\n",
       "      <td>29999.0</td>\n",
       "    </tr>\n",
       "  </tbody>\n",
       "</table>\n",
       "</div>"
      ],
      "text/plain": [
       "            Name           Colour  Storage  Battery  Camera_Pixel  \\\n",
       "0    realme C30s      Stripe Blue     32.0   5000.0             8   \n",
       "1     realme C35    Glowing Black    128.0   5000.0            50   \n",
       "2     realme C35    Glowing Green     64.0   5000.0            50   \n",
       "3      realme 9i    Rocking Black    128.0   5000.0            50   \n",
       "4   realme Narzo       Speed Blue    256.0   5000.0            50   \n",
       "5   realme Narzo       Speed Blue    256.0   5000.0            50   \n",
       "6     realme C35    Glowing Black     64.0   5000.0            50   \n",
       "7   realme Narzo    Racing Silver    128.0   5000.0            48   \n",
       "8   realme Narzo      Speed Black    256.0   5000.0            50   \n",
       "9     realme C33        Night Sea     64.0   5000.0            50   \n",
       "10     realme GT      Steel Black    128.0   5000.0            50   \n",
       "11    realme C33        Aqua Blue     64.0   5000.0            50   \n",
       "12    realme C33       Sandy Gold     64.0   5000.0            50   \n",
       "13      realme 9     Meteor Black    256.0   5000.0           108   \n",
       "14      realme 9   Stargaze White    256.0   5000.0           108   \n",
       "15      realme 9    Sunburst Gold    256.0   5000.0           108   \n",
       "16   realme C30s     Stripe Black     32.0   5000.0             8   \n",
       "17    realme C33        Aqua Blue     32.0   5000.0            50   \n",
       "18     realme 9i     Soulful Blue     64.0   5000.0            50   \n",
       "19     realme 9i     Soulful Blue     64.0   5000.0            50   \n",
       "20     realme 9i   Metallica Gold     64.0   5000.0            50   \n",
       "21     realme 9i    Rocking Black     64.0   5000.0            50   \n",
       "22      realme 9     Meteor Black    256.0   5000.0           108   \n",
       "23    realme C30     Bamboo Green     32.0   5000.0             8   \n",
       "24    realme C30      Denim Black     32.0   5000.0             8   \n",
       "25    realme C35    Glowing Black    128.0   5000.0            50   \n",
       "26    realme C30        Lake Blue     32.0   5000.0             8   \n",
       "27    realme C30      Denim Black     32.0   5000.0             8   \n",
       "28    realme C30     Bamboo Green     32.0   5000.0             8   \n",
       "29    realme C31       Dark Green     64.0   5000.0            13   \n",
       "30    realme C31     Light Silver     64.0   5000.0            13   \n",
       "31     realme 9i   Metallica Gold    128.0   5000.0            50   \n",
       "32      realme 9  Supersonic Blue    128.0   5000.0            48   \n",
       "33    realme C31       Dark Green     32.0   5000.0            13   \n",
       "34    realme C31     Light Silver     32.0   5000.0            13   \n",
       "35      realme 9     Meteor Black     64.0   5000.0            48   \n",
       "36      realme 9   Stargaze White    128.0   5000.0            48   \n",
       "37      realme 9     Meteor Black    128.0   5000.0            48   \n",
       "38      realme 9   Stargaze White     64.0   5000.0            48   \n",
       "39      realme 9     Aurora Green    256.0   5000.0            64   \n",
       "40      realme 9     Sunrise Blue    256.0   5000.0            64   \n",
       "41      realme 9   Midnight Black    256.0   5000.0            64   \n",
       "42   realme C30s     Stripe Black     64.0   5000.0             8   \n",
       "43   realme C30s      Stripe Blue     64.0   5000.0             8   \n",
       "44    realme C35    Glowing Black    128.0   5000.0            50   \n",
       "45      realme 9       Azure Glow    128.0   5000.0            48   \n",
       "46      realme 9      Starry Glow    128.0   5000.0            48   \n",
       "47      realme 9      Starry Glow    128.0   5000.0            48   \n",
       "48    realme C20        Cool Blue    256.0   5000.0             8   \n",
       "49     realme GT      Shade Black    128.0   5000.0            64   \n",
       "\n",
       "    Selfie_cam_pixel  Display_size  RAM  Star_ratings  Users_rated    Price  \n",
       "0                  5         16.51  2.0           4.4        871.0   7499.0  \n",
       "1                  8         16.76  4.0           4.4        147.0  12999.0  \n",
       "2                  8         16.76  4.0           4.4        147.0  11999.0  \n",
       "3                  8         16.76  6.0           4.3       3611.0  16999.0  \n",
       "4                 16         16.76  6.0           4.4       5877.0  15499.0  \n",
       "5                 16         16.76  4.0           4.5      14026.0  12999.0  \n",
       "6                  8         16.76  4.0           4.4        147.0  11999.0  \n",
       "7                 16         16.51  6.0           4.3      83178.0  16999.0  \n",
       "8                 16         16.76  6.0           4.4       5877.0  15499.0  \n",
       "9                  5         16.51  4.0           4.5      40321.0   9999.0  \n",
       "10                32         17.02  8.0           4.2       2490.0  49999.0  \n",
       "11                 5         16.51  4.0           4.5      40321.0   9999.0  \n",
       "12                 5         16.51  4.0           4.5      40321.0   9999.0  \n",
       "13                16         16.26  8.0           4.4      15580.0  17999.0  \n",
       "14                16         16.26  8.0           4.4      15580.0  17999.0  \n",
       "15                16         16.26  8.0           4.4      15580.0  17999.0  \n",
       "16                 5         16.51  2.0           4.4        871.0   7499.0  \n",
       "17                 5         16.51  3.0           4.5      13450.0   8999.0  \n",
       "18                 8         16.76  4.0           4.5      32349.0  14999.0  \n",
       "19                 8         16.76  4.0           4.5      32349.0  14999.0  \n",
       "20                 8         16.76  4.0           4.5      32349.0  14999.0  \n",
       "21                 8         16.76  4.0           4.5      32349.0  14999.0  \n",
       "22                16         16.26  6.0           4.4      46338.0  16999.0  \n",
       "23                 5         16.51  3.0           4.1      26797.0   7999.0  \n",
       "24                 5         16.51  3.0           4.1      26797.0   7999.0  \n",
       "25                 8         16.76  6.0           4.2      10294.0  13999.0  \n",
       "26                 5         16.51  2.0           4.3      54354.0   6999.0  \n",
       "27                 5         16.51  2.0           4.3      54354.0   6999.0  \n",
       "28                 5         16.51  2.0           4.3      54354.0   6999.0  \n",
       "29                 5         16.56  4.0           4.4      49314.0   9999.0  \n",
       "30                 5         16.56  4.0           4.4      49314.0   9999.0  \n",
       "31                 8         16.76  6.0           4.3       3611.0  16999.0  \n",
       "32                16         16.51  6.0           4.4      39584.0  17499.0  \n",
       "33                 5         16.56  3.0           4.5      43647.0   9299.0  \n",
       "34                 5         16.56  3.0           4.5      43647.0   9299.0  \n",
       "35                16         16.51  4.0           4.5      34766.0  15999.0  \n",
       "36                16         16.51  6.0           4.4      39584.0  17499.0  \n",
       "37                16         16.51  6.0           4.4      39584.0  17499.0  \n",
       "38                16         16.51  4.0           4.5      34766.0  15999.0  \n",
       "39                16         16.76  6.0           4.4      73793.0  18999.0  \n",
       "40                16         16.76  8.0           4.3      12752.0  20999.0  \n",
       "41                16         16.76  6.0           4.4      73793.0  18999.0  \n",
       "42                 5         16.51  4.0           4.2       1077.0   8999.0  \n",
       "43                 5         16.51  4.0           4.2       1077.0   8999.0  \n",
       "44                 8         16.76  4.0           4.4        147.0  12999.0  \n",
       "45                16         16.76  8.0           4.3       1973.0  22999.0  \n",
       "46                16         16.76  8.0           4.3       1973.0  22999.0  \n",
       "47                16         16.76  6.0           4.4      22657.0  19999.0  \n",
       "48                 5         16.51  2.0           4.4        294.0   7499.0  \n",
       "49                16         16.81  6.0           4.3       9486.0  29999.0  "
      ]
     },
     "execution_count": 103,
     "metadata": {},
     "output_type": "execute_result"
    }
   ],
   "source": [
    "r1.head(50)"
   ]
  },
  {
   "cell_type": "code",
   "execution_count": 104,
   "id": "036ebec0",
   "metadata": {},
   "outputs": [
    {
     "data": {
      "text/html": [
       "<div>\n",
       "<style scoped>\n",
       "    .dataframe tbody tr th:only-of-type {\n",
       "        vertical-align: middle;\n",
       "    }\n",
       "\n",
       "    .dataframe tbody tr th {\n",
       "        vertical-align: top;\n",
       "    }\n",
       "\n",
       "    .dataframe thead th {\n",
       "        text-align: right;\n",
       "    }\n",
       "</style>\n",
       "<table border=\"1\" class=\"dataframe\">\n",
       "  <thead>\n",
       "    <tr style=\"text-align: right;\">\n",
       "      <th></th>\n",
       "      <th>Name</th>\n",
       "      <th>Colour</th>\n",
       "      <th>Storage</th>\n",
       "      <th>Battery</th>\n",
       "      <th>Camera_Pixel</th>\n",
       "      <th>Selfie_cam_pixel</th>\n",
       "      <th>Display_size</th>\n",
       "      <th>RAM</th>\n",
       "      <th>Star_ratings</th>\n",
       "      <th>Users_rated</th>\n",
       "      <th>Price</th>\n",
       "    </tr>\n",
       "  </thead>\n",
       "  <tbody>\n",
       "    <tr>\n",
       "      <th>32</th>\n",
       "      <td>realme 9</td>\n",
       "      <td>Supersonic Blue</td>\n",
       "      <td>128.0</td>\n",
       "      <td>5000.0</td>\n",
       "      <td>48</td>\n",
       "      <td>16</td>\n",
       "      <td>16.51</td>\n",
       "      <td>6.0</td>\n",
       "      <td>4.4</td>\n",
       "      <td>39584.0</td>\n",
       "      <td>17499.0</td>\n",
       "    </tr>\n",
       "    <tr>\n",
       "      <th>33</th>\n",
       "      <td>realme C31</td>\n",
       "      <td>Dark Green</td>\n",
       "      <td>32.0</td>\n",
       "      <td>5000.0</td>\n",
       "      <td>13</td>\n",
       "      <td>5</td>\n",
       "      <td>16.56</td>\n",
       "      <td>3.0</td>\n",
       "      <td>4.5</td>\n",
       "      <td>43647.0</td>\n",
       "      <td>9299.0</td>\n",
       "    </tr>\n",
       "    <tr>\n",
       "      <th>34</th>\n",
       "      <td>realme C31</td>\n",
       "      <td>Light Silver</td>\n",
       "      <td>32.0</td>\n",
       "      <td>5000.0</td>\n",
       "      <td>13</td>\n",
       "      <td>5</td>\n",
       "      <td>16.56</td>\n",
       "      <td>3.0</td>\n",
       "      <td>4.5</td>\n",
       "      <td>43647.0</td>\n",
       "      <td>9299.0</td>\n",
       "    </tr>\n",
       "    <tr>\n",
       "      <th>35</th>\n",
       "      <td>realme 9</td>\n",
       "      <td>Meteor Black</td>\n",
       "      <td>64.0</td>\n",
       "      <td>5000.0</td>\n",
       "      <td>48</td>\n",
       "      <td>16</td>\n",
       "      <td>16.51</td>\n",
       "      <td>4.0</td>\n",
       "      <td>4.5</td>\n",
       "      <td>34766.0</td>\n",
       "      <td>15999.0</td>\n",
       "    </tr>\n",
       "    <tr>\n",
       "      <th>36</th>\n",
       "      <td>realme 9</td>\n",
       "      <td>Stargaze White</td>\n",
       "      <td>128.0</td>\n",
       "      <td>5000.0</td>\n",
       "      <td>48</td>\n",
       "      <td>16</td>\n",
       "      <td>16.51</td>\n",
       "      <td>6.0</td>\n",
       "      <td>4.4</td>\n",
       "      <td>39584.0</td>\n",
       "      <td>17499.0</td>\n",
       "    </tr>\n",
       "    <tr>\n",
       "      <th>37</th>\n",
       "      <td>realme 9</td>\n",
       "      <td>Meteor Black</td>\n",
       "      <td>128.0</td>\n",
       "      <td>5000.0</td>\n",
       "      <td>48</td>\n",
       "      <td>16</td>\n",
       "      <td>16.51</td>\n",
       "      <td>6.0</td>\n",
       "      <td>4.4</td>\n",
       "      <td>39584.0</td>\n",
       "      <td>17499.0</td>\n",
       "    </tr>\n",
       "    <tr>\n",
       "      <th>38</th>\n",
       "      <td>realme 9</td>\n",
       "      <td>Stargaze White</td>\n",
       "      <td>64.0</td>\n",
       "      <td>5000.0</td>\n",
       "      <td>48</td>\n",
       "      <td>16</td>\n",
       "      <td>16.51</td>\n",
       "      <td>4.0</td>\n",
       "      <td>4.5</td>\n",
       "      <td>34766.0</td>\n",
       "      <td>15999.0</td>\n",
       "    </tr>\n",
       "    <tr>\n",
       "      <th>39</th>\n",
       "      <td>realme 9</td>\n",
       "      <td>Aurora Green</td>\n",
       "      <td>256.0</td>\n",
       "      <td>5000.0</td>\n",
       "      <td>64</td>\n",
       "      <td>16</td>\n",
       "      <td>16.76</td>\n",
       "      <td>6.0</td>\n",
       "      <td>4.4</td>\n",
       "      <td>73793.0</td>\n",
       "      <td>18999.0</td>\n",
       "    </tr>\n",
       "    <tr>\n",
       "      <th>40</th>\n",
       "      <td>realme 9</td>\n",
       "      <td>Sunrise Blue</td>\n",
       "      <td>256.0</td>\n",
       "      <td>5000.0</td>\n",
       "      <td>64</td>\n",
       "      <td>16</td>\n",
       "      <td>16.76</td>\n",
       "      <td>8.0</td>\n",
       "      <td>4.3</td>\n",
       "      <td>12752.0</td>\n",
       "      <td>20999.0</td>\n",
       "    </tr>\n",
       "    <tr>\n",
       "      <th>41</th>\n",
       "      <td>realme 9</td>\n",
       "      <td>Midnight Black</td>\n",
       "      <td>256.0</td>\n",
       "      <td>5000.0</td>\n",
       "      <td>64</td>\n",
       "      <td>16</td>\n",
       "      <td>16.76</td>\n",
       "      <td>6.0</td>\n",
       "      <td>4.4</td>\n",
       "      <td>73793.0</td>\n",
       "      <td>18999.0</td>\n",
       "    </tr>\n",
       "    <tr>\n",
       "      <th>42</th>\n",
       "      <td>realme C30s</td>\n",
       "      <td>Stripe Black</td>\n",
       "      <td>64.0</td>\n",
       "      <td>5000.0</td>\n",
       "      <td>8</td>\n",
       "      <td>5</td>\n",
       "      <td>16.51</td>\n",
       "      <td>4.0</td>\n",
       "      <td>4.2</td>\n",
       "      <td>1077.0</td>\n",
       "      <td>8999.0</td>\n",
       "    </tr>\n",
       "    <tr>\n",
       "      <th>43</th>\n",
       "      <td>realme C30s</td>\n",
       "      <td>Stripe Blue</td>\n",
       "      <td>64.0</td>\n",
       "      <td>5000.0</td>\n",
       "      <td>8</td>\n",
       "      <td>5</td>\n",
       "      <td>16.51</td>\n",
       "      <td>4.0</td>\n",
       "      <td>4.2</td>\n",
       "      <td>1077.0</td>\n",
       "      <td>8999.0</td>\n",
       "    </tr>\n",
       "    <tr>\n",
       "      <th>44</th>\n",
       "      <td>realme C35</td>\n",
       "      <td>Glowing Black</td>\n",
       "      <td>128.0</td>\n",
       "      <td>5000.0</td>\n",
       "      <td>50</td>\n",
       "      <td>8</td>\n",
       "      <td>16.76</td>\n",
       "      <td>4.0</td>\n",
       "      <td>4.4</td>\n",
       "      <td>147.0</td>\n",
       "      <td>12999.0</td>\n",
       "    </tr>\n",
       "    <tr>\n",
       "      <th>45</th>\n",
       "      <td>realme 9</td>\n",
       "      <td>Azure Glow</td>\n",
       "      <td>128.0</td>\n",
       "      <td>5000.0</td>\n",
       "      <td>48</td>\n",
       "      <td>16</td>\n",
       "      <td>16.76</td>\n",
       "      <td>8.0</td>\n",
       "      <td>4.3</td>\n",
       "      <td>1973.0</td>\n",
       "      <td>22999.0</td>\n",
       "    </tr>\n",
       "    <tr>\n",
       "      <th>46</th>\n",
       "      <td>realme 9</td>\n",
       "      <td>Starry Glow</td>\n",
       "      <td>128.0</td>\n",
       "      <td>5000.0</td>\n",
       "      <td>48</td>\n",
       "      <td>16</td>\n",
       "      <td>16.76</td>\n",
       "      <td>8.0</td>\n",
       "      <td>4.3</td>\n",
       "      <td>1973.0</td>\n",
       "      <td>22999.0</td>\n",
       "    </tr>\n",
       "    <tr>\n",
       "      <th>47</th>\n",
       "      <td>realme 9</td>\n",
       "      <td>Starry Glow</td>\n",
       "      <td>128.0</td>\n",
       "      <td>5000.0</td>\n",
       "      <td>48</td>\n",
       "      <td>16</td>\n",
       "      <td>16.76</td>\n",
       "      <td>6.0</td>\n",
       "      <td>4.4</td>\n",
       "      <td>22657.0</td>\n",
       "      <td>19999.0</td>\n",
       "    </tr>\n",
       "    <tr>\n",
       "      <th>48</th>\n",
       "      <td>realme C20</td>\n",
       "      <td>Cool Blue</td>\n",
       "      <td>256.0</td>\n",
       "      <td>5000.0</td>\n",
       "      <td>8</td>\n",
       "      <td>5</td>\n",
       "      <td>16.51</td>\n",
       "      <td>2.0</td>\n",
       "      <td>4.4</td>\n",
       "      <td>294.0</td>\n",
       "      <td>7499.0</td>\n",
       "    </tr>\n",
       "    <tr>\n",
       "      <th>49</th>\n",
       "      <td>realme GT</td>\n",
       "      <td>Shade Black</td>\n",
       "      <td>128.0</td>\n",
       "      <td>5000.0</td>\n",
       "      <td>64</td>\n",
       "      <td>16</td>\n",
       "      <td>16.81</td>\n",
       "      <td>6.0</td>\n",
       "      <td>4.3</td>\n",
       "      <td>9486.0</td>\n",
       "      <td>29999.0</td>\n",
       "    </tr>\n",
       "    <tr>\n",
       "      <th>50</th>\n",
       "      <td>realme GT</td>\n",
       "      <td>Drifting White</td>\n",
       "      <td>128.0</td>\n",
       "      <td>5000.0</td>\n",
       "      <td>64</td>\n",
       "      <td>16</td>\n",
       "      <td>16.81</td>\n",
       "      <td>8.0</td>\n",
       "      <td>4.3</td>\n",
       "      <td>5299.0</td>\n",
       "      <td>31999.0</td>\n",
       "    </tr>\n",
       "    <tr>\n",
       "      <th>51</th>\n",
       "      <td>realme GT</td>\n",
       "      <td>Dash Yellow</td>\n",
       "      <td>128.0</td>\n",
       "      <td>5000.0</td>\n",
       "      <td>64</td>\n",
       "      <td>16</td>\n",
       "      <td>16.81</td>\n",
       "      <td>8.0</td>\n",
       "      <td>4.3</td>\n",
       "      <td>5299.0</td>\n",
       "      <td>31999.0</td>\n",
       "    </tr>\n",
       "    <tr>\n",
       "      <th>52</th>\n",
       "      <td>realme GT</td>\n",
       "      <td>Drifting White</td>\n",
       "      <td>128.0</td>\n",
       "      <td>5000.0</td>\n",
       "      <td>64</td>\n",
       "      <td>16</td>\n",
       "      <td>16.81</td>\n",
       "      <td>6.0</td>\n",
       "      <td>4.3</td>\n",
       "      <td>9486.0</td>\n",
       "      <td>29999.0</td>\n",
       "    </tr>\n",
       "    <tr>\n",
       "      <th>53</th>\n",
       "      <td>realme GT</td>\n",
       "      <td>Dash Yellow</td>\n",
       "      <td>256.0</td>\n",
       "      <td>5000.0</td>\n",
       "      <td>64</td>\n",
       "      <td>16</td>\n",
       "      <td>16.81</td>\n",
       "      <td>8.0</td>\n",
       "      <td>4.3</td>\n",
       "      <td>5299.0</td>\n",
       "      <td>33999.0</td>\n",
       "    </tr>\n",
       "    <tr>\n",
       "      <th>54</th>\n",
       "      <td>realme GT</td>\n",
       "      <td>Shade Black</td>\n",
       "      <td>256.0</td>\n",
       "      <td>5000.0</td>\n",
       "      <td>64</td>\n",
       "      <td>16</td>\n",
       "      <td>16.81</td>\n",
       "      <td>8.0</td>\n",
       "      <td>4.3</td>\n",
       "      <td>5299.0</td>\n",
       "      <td>33999.0</td>\n",
       "    </tr>\n",
       "    <tr>\n",
       "      <th>55</th>\n",
       "      <td>realme GT</td>\n",
       "      <td>Drifting White</td>\n",
       "      <td>256.0</td>\n",
       "      <td>5000.0</td>\n",
       "      <td>64</td>\n",
       "      <td>16</td>\n",
       "      <td>16.81</td>\n",
       "      <td>8.0</td>\n",
       "      <td>4.3</td>\n",
       "      <td>5299.0</td>\n",
       "      <td>33999.0</td>\n",
       "    </tr>\n",
       "    <tr>\n",
       "      <th>56</th>\n",
       "      <td>realme GT</td>\n",
       "      <td>Shade Black</td>\n",
       "      <td>128.0</td>\n",
       "      <td>5000.0</td>\n",
       "      <td>64</td>\n",
       "      <td>16</td>\n",
       "      <td>16.81</td>\n",
       "      <td>8.0</td>\n",
       "      <td>4.3</td>\n",
       "      <td>5299.0</td>\n",
       "      <td>31999.0</td>\n",
       "    </tr>\n",
       "    <tr>\n",
       "      <th>57</th>\n",
       "      <td>realme GT</td>\n",
       "      <td>Dash Yellow</td>\n",
       "      <td>128.0</td>\n",
       "      <td>5000.0</td>\n",
       "      <td>64</td>\n",
       "      <td>16</td>\n",
       "      <td>16.81</td>\n",
       "      <td>8.0</td>\n",
       "      <td>4.3</td>\n",
       "      <td>5299.0</td>\n",
       "      <td>31999.0</td>\n",
       "    </tr>\n",
       "    <tr>\n",
       "      <th>58</th>\n",
       "      <td>realme C35</td>\n",
       "      <td>Glowing Green</td>\n",
       "      <td>128.0</td>\n",
       "      <td>5000.0</td>\n",
       "      <td>50</td>\n",
       "      <td>8</td>\n",
       "      <td>16.76</td>\n",
       "      <td>6.0</td>\n",
       "      <td>4.2</td>\n",
       "      <td>10294.0</td>\n",
       "      <td>13999.0</td>\n",
       "    </tr>\n",
       "    <tr>\n",
       "      <th>59</th>\n",
       "      <td>realme 9i</td>\n",
       "      <td>Prism Blue</td>\n",
       "      <td>128.0</td>\n",
       "      <td>5000.0</td>\n",
       "      <td>50</td>\n",
       "      <td>16</td>\n",
       "      <td>16.76</td>\n",
       "      <td>4.0</td>\n",
       "      <td>4.5</td>\n",
       "      <td>105.0</td>\n",
       "      <td>14999.0</td>\n",
       "    </tr>\n",
       "    <tr>\n",
       "      <th>60</th>\n",
       "      <td>realme 9</td>\n",
       "      <td>Azure Glow</td>\n",
       "      <td>128.0</td>\n",
       "      <td>5000.0</td>\n",
       "      <td>48</td>\n",
       "      <td>16</td>\n",
       "      <td>16.76</td>\n",
       "      <td>6.0</td>\n",
       "      <td>4.4</td>\n",
       "      <td>22657.0</td>\n",
       "      <td>19999.0</td>\n",
       "    </tr>\n",
       "    <tr>\n",
       "      <th>61</th>\n",
       "      <td>Realme C30</td>\n",
       "      <td>Lake Blue</td>\n",
       "      <td>32.0</td>\n",
       "      <td>5000.0</td>\n",
       "      <td>8</td>\n",
       "      <td>5</td>\n",
       "      <td>16.51</td>\n",
       "      <td>2.0</td>\n",
       "      <td>4.3</td>\n",
       "      <td>54354.0</td>\n",
       "      <td>6399.0</td>\n",
       "    </tr>\n",
       "    <tr>\n",
       "      <th>62</th>\n",
       "      <td>realme C11</td>\n",
       "      <td>Cool Blue</td>\n",
       "      <td>256.0</td>\n",
       "      <td>5000.0</td>\n",
       "      <td>8</td>\n",
       "      <td>5</td>\n",
       "      <td>16.51</td>\n",
       "      <td>4.0</td>\n",
       "      <td>4.3</td>\n",
       "      <td>202.0</td>\n",
       "      <td>8999.0</td>\n",
       "    </tr>\n",
       "    <tr>\n",
       "      <th>63</th>\n",
       "      <td>realme C11</td>\n",
       "      <td>Cool Grey</td>\n",
       "      <td>256.0</td>\n",
       "      <td>5000.0</td>\n",
       "      <td>8</td>\n",
       "      <td>5</td>\n",
       "      <td>16.51</td>\n",
       "      <td>4.0</td>\n",
       "      <td>4.3</td>\n",
       "      <td>202.0</td>\n",
       "      <td>8999.0</td>\n",
       "    </tr>\n",
       "    <tr>\n",
       "      <th>64</th>\n",
       "      <td>realme 9</td>\n",
       "      <td>Midnight Black</td>\n",
       "      <td>256.0</td>\n",
       "      <td>5000.0</td>\n",
       "      <td>64</td>\n",
       "      <td>16</td>\n",
       "      <td>16.76</td>\n",
       "      <td>8.0</td>\n",
       "      <td>4.3</td>\n",
       "      <td>12752.0</td>\n",
       "      <td>20999.0</td>\n",
       "    </tr>\n",
       "    <tr>\n",
       "      <th>65</th>\n",
       "      <td>realme 9</td>\n",
       "      <td>Aurora Green</td>\n",
       "      <td>256.0</td>\n",
       "      <td>5000.0</td>\n",
       "      <td>64</td>\n",
       "      <td>16</td>\n",
       "      <td>16.76</td>\n",
       "      <td>8.0</td>\n",
       "      <td>4.3</td>\n",
       "      <td>12752.0</td>\n",
       "      <td>20999.0</td>\n",
       "    </tr>\n",
       "    <tr>\n",
       "      <th>66</th>\n",
       "      <td>realme C30</td>\n",
       "      <td>Lake Blue</td>\n",
       "      <td>32.0</td>\n",
       "      <td>5000.0</td>\n",
       "      <td>8</td>\n",
       "      <td>5</td>\n",
       "      <td>16.51</td>\n",
       "      <td>3.0</td>\n",
       "      <td>4.1</td>\n",
       "      <td>26797.0</td>\n",
       "      <td>7999.0</td>\n",
       "    </tr>\n",
       "    <tr>\n",
       "      <th>67</th>\n",
       "      <td>realme 9</td>\n",
       "      <td>Supersonic Black</td>\n",
       "      <td>128.0</td>\n",
       "      <td>5000.0</td>\n",
       "      <td>48</td>\n",
       "      <td>16</td>\n",
       "      <td>16.51</td>\n",
       "      <td>6.0</td>\n",
       "      <td>4.4</td>\n",
       "      <td>39584.0</td>\n",
       "      <td>17499.0</td>\n",
       "    </tr>\n",
       "    <tr>\n",
       "      <th>68</th>\n",
       "      <td>realme C30</td>\n",
       "      <td>Bamboo Green</td>\n",
       "      <td>32.0</td>\n",
       "      <td>5000.0</td>\n",
       "      <td>8</td>\n",
       "      <td>5</td>\n",
       "      <td>16.51</td>\n",
       "      <td>3.0</td>\n",
       "      <td>4.1</td>\n",
       "      <td>26797.0</td>\n",
       "      <td>7999.0</td>\n",
       "    </tr>\n",
       "    <tr>\n",
       "      <th>69</th>\n",
       "      <td>realme C30</td>\n",
       "      <td>Denim Black</td>\n",
       "      <td>32.0</td>\n",
       "      <td>5000.0</td>\n",
       "      <td>8</td>\n",
       "      <td>5</td>\n",
       "      <td>16.51</td>\n",
       "      <td>3.0</td>\n",
       "      <td>4.1</td>\n",
       "      <td>26797.0</td>\n",
       "      <td>7999.0</td>\n",
       "    </tr>\n",
       "    <tr>\n",
       "      <th>70</th>\n",
       "      <td>realme C11</td>\n",
       "      <td>Cool Blue</td>\n",
       "      <td>256.0</td>\n",
       "      <td>5000.0</td>\n",
       "      <td>8</td>\n",
       "      <td>5</td>\n",
       "      <td>16.51</td>\n",
       "      <td>2.0</td>\n",
       "      <td>4.4</td>\n",
       "      <td>231.0</td>\n",
       "      <td>7499.0</td>\n",
       "    </tr>\n",
       "    <tr>\n",
       "      <th>71</th>\n",
       "      <td>realme 8</td>\n",
       "      <td>Supersonic Blue</td>\n",
       "      <td>64.0</td>\n",
       "      <td>5000.0</td>\n",
       "      <td>48</td>\n",
       "      <td>16</td>\n",
       "      <td>16.51</td>\n",
       "      <td>4.0</td>\n",
       "      <td>4.3</td>\n",
       "      <td>75406.0</td>\n",
       "      <td>15499.0</td>\n",
       "    </tr>\n",
       "    <tr>\n",
       "      <th>72</th>\n",
       "      <td>realme C21</td>\n",
       "      <td>Cross Black</td>\n",
       "      <td>256.0</td>\n",
       "      <td>5000.0</td>\n",
       "      <td>13</td>\n",
       "      <td>5</td>\n",
       "      <td>16.51</td>\n",
       "      <td>4.0</td>\n",
       "      <td>4.4</td>\n",
       "      <td>146.0</td>\n",
       "      <td>10499.0</td>\n",
       "    </tr>\n",
       "    <tr>\n",
       "      <th>73</th>\n",
       "      <td>realme Narzo</td>\n",
       "      <td>Racing Blue</td>\n",
       "      <td>256.0</td>\n",
       "      <td>5000.0</td>\n",
       "      <td>48</td>\n",
       "      <td>16</td>\n",
       "      <td>16.51</td>\n",
       "      <td>6.0</td>\n",
       "      <td>4.3</td>\n",
       "      <td>75615.0</td>\n",
       "      <td>14499.0</td>\n",
       "    </tr>\n",
       "    <tr>\n",
       "      <th>74</th>\n",
       "      <td>realme C21Y</td>\n",
       "      <td>Cross Black</td>\n",
       "      <td>256.0</td>\n",
       "      <td>5000.0</td>\n",
       "      <td>13</td>\n",
       "      <td>5</td>\n",
       "      <td>16.51</td>\n",
       "      <td>4.0</td>\n",
       "      <td>4.5</td>\n",
       "      <td>252.0</td>\n",
       "      <td>10499.0</td>\n",
       "    </tr>\n",
       "    <tr>\n",
       "      <th>75</th>\n",
       "      <td>realme Narzo</td>\n",
       "      <td>Racing Silver</td>\n",
       "      <td>256.0</td>\n",
       "      <td>5000.0</td>\n",
       "      <td>48</td>\n",
       "      <td>16</td>\n",
       "      <td>16.51</td>\n",
       "      <td>6.0</td>\n",
       "      <td>4.3</td>\n",
       "      <td>75615.0</td>\n",
       "      <td>14499.0</td>\n",
       "    </tr>\n",
       "    <tr>\n",
       "      <th>76</th>\n",
       "      <td>realme Narzo</td>\n",
       "      <td>Racing Silver</td>\n",
       "      <td>256.0</td>\n",
       "      <td>5000.0</td>\n",
       "      <td>48</td>\n",
       "      <td>16</td>\n",
       "      <td>16.51</td>\n",
       "      <td>6.0</td>\n",
       "      <td>4.3</td>\n",
       "      <td>75615.0</td>\n",
       "      <td>15499.0</td>\n",
       "    </tr>\n",
       "    <tr>\n",
       "      <th>77</th>\n",
       "      <td>realme 9</td>\n",
       "      <td>Aurora Green</td>\n",
       "      <td>128.0</td>\n",
       "      <td>4500.0</td>\n",
       "      <td>50</td>\n",
       "      <td>16</td>\n",
       "      <td>16.26</td>\n",
       "      <td>6.0</td>\n",
       "      <td>4.4</td>\n",
       "      <td>29502.0</td>\n",
       "      <td>24999.0</td>\n",
       "    </tr>\n",
       "    <tr>\n",
       "      <th>78</th>\n",
       "      <td>realme GT</td>\n",
       "      <td>Shade Black</td>\n",
       "      <td>128.0</td>\n",
       "      <td>5000.0</td>\n",
       "      <td>64</td>\n",
       "      <td>16</td>\n",
       "      <td>16.81</td>\n",
       "      <td>6.0</td>\n",
       "      <td>4.3</td>\n",
       "      <td>9486.0</td>\n",
       "      <td>29999.0</td>\n",
       "    </tr>\n",
       "    <tr>\n",
       "      <th>79</th>\n",
       "      <td>realme GT</td>\n",
       "      <td>Drifting White</td>\n",
       "      <td>128.0</td>\n",
       "      <td>5000.0</td>\n",
       "      <td>64</td>\n",
       "      <td>16</td>\n",
       "      <td>16.81</td>\n",
       "      <td>8.0</td>\n",
       "      <td>4.3</td>\n",
       "      <td>5299.0</td>\n",
       "      <td>31999.0</td>\n",
       "    </tr>\n",
       "    <tr>\n",
       "      <th>80</th>\n",
       "      <td>realme GT</td>\n",
       "      <td>Dash Yellow</td>\n",
       "      <td>256.0</td>\n",
       "      <td>5000.0</td>\n",
       "      <td>64</td>\n",
       "      <td>16</td>\n",
       "      <td>16.81</td>\n",
       "      <td>8.0</td>\n",
       "      <td>4.3</td>\n",
       "      <td>5299.0</td>\n",
       "      <td>33999.0</td>\n",
       "    </tr>\n",
       "    <tr>\n",
       "      <th>81</th>\n",
       "      <td>realme GT</td>\n",
       "      <td>Shade Black</td>\n",
       "      <td>256.0</td>\n",
       "      <td>5000.0</td>\n",
       "      <td>64</td>\n",
       "      <td>16</td>\n",
       "      <td>16.81</td>\n",
       "      <td>8.0</td>\n",
       "      <td>4.3</td>\n",
       "      <td>5299.0</td>\n",
       "      <td>33999.0</td>\n",
       "    </tr>\n",
       "  </tbody>\n",
       "</table>\n",
       "</div>"
      ],
      "text/plain": [
       "            Name            Colour  Storage  Battery  Camera_Pixel  \\\n",
       "32      realme 9   Supersonic Blue    128.0   5000.0            48   \n",
       "33    realme C31        Dark Green     32.0   5000.0            13   \n",
       "34    realme C31      Light Silver     32.0   5000.0            13   \n",
       "35      realme 9      Meteor Black     64.0   5000.0            48   \n",
       "36      realme 9    Stargaze White    128.0   5000.0            48   \n",
       "37      realme 9      Meteor Black    128.0   5000.0            48   \n",
       "38      realme 9    Stargaze White     64.0   5000.0            48   \n",
       "39      realme 9      Aurora Green    256.0   5000.0            64   \n",
       "40      realme 9      Sunrise Blue    256.0   5000.0            64   \n",
       "41      realme 9    Midnight Black    256.0   5000.0            64   \n",
       "42   realme C30s      Stripe Black     64.0   5000.0             8   \n",
       "43   realme C30s       Stripe Blue     64.0   5000.0             8   \n",
       "44    realme C35     Glowing Black    128.0   5000.0            50   \n",
       "45      realme 9        Azure Glow    128.0   5000.0            48   \n",
       "46      realme 9       Starry Glow    128.0   5000.0            48   \n",
       "47      realme 9       Starry Glow    128.0   5000.0            48   \n",
       "48    realme C20         Cool Blue    256.0   5000.0             8   \n",
       "49     realme GT       Shade Black    128.0   5000.0            64   \n",
       "50     realme GT    Drifting White    128.0   5000.0            64   \n",
       "51     realme GT       Dash Yellow    128.0   5000.0            64   \n",
       "52     realme GT    Drifting White    128.0   5000.0            64   \n",
       "53     realme GT       Dash Yellow    256.0   5000.0            64   \n",
       "54     realme GT       Shade Black    256.0   5000.0            64   \n",
       "55     realme GT    Drifting White    256.0   5000.0            64   \n",
       "56     realme GT       Shade Black    128.0   5000.0            64   \n",
       "57     realme GT       Dash Yellow    128.0   5000.0            64   \n",
       "58    realme C35     Glowing Green    128.0   5000.0            50   \n",
       "59     realme 9i        Prism Blue    128.0   5000.0            50   \n",
       "60      realme 9        Azure Glow    128.0   5000.0            48   \n",
       "61    Realme C30         Lake Blue     32.0   5000.0             8   \n",
       "62    realme C11         Cool Blue    256.0   5000.0             8   \n",
       "63    realme C11         Cool Grey    256.0   5000.0             8   \n",
       "64      realme 9    Midnight Black    256.0   5000.0            64   \n",
       "65      realme 9      Aurora Green    256.0   5000.0            64   \n",
       "66    realme C30         Lake Blue     32.0   5000.0             8   \n",
       "67      realme 9  Supersonic Black    128.0   5000.0            48   \n",
       "68    realme C30      Bamboo Green     32.0   5000.0             8   \n",
       "69    realme C30       Denim Black     32.0   5000.0             8   \n",
       "70    realme C11         Cool Blue    256.0   5000.0             8   \n",
       "71      realme 8   Supersonic Blue     64.0   5000.0            48   \n",
       "72    realme C21       Cross Black    256.0   5000.0            13   \n",
       "73  realme Narzo       Racing Blue    256.0   5000.0            48   \n",
       "74   realme C21Y       Cross Black    256.0   5000.0            13   \n",
       "75  realme Narzo     Racing Silver    256.0   5000.0            48   \n",
       "76  realme Narzo     Racing Silver    256.0   5000.0            48   \n",
       "77      realme 9      Aurora Green    128.0   4500.0            50   \n",
       "78     realme GT       Shade Black    128.0   5000.0            64   \n",
       "79     realme GT    Drifting White    128.0   5000.0            64   \n",
       "80     realme GT       Dash Yellow    256.0   5000.0            64   \n",
       "81     realme GT       Shade Black    256.0   5000.0            64   \n",
       "\n",
       "    Selfie_cam_pixel  Display_size  RAM  Star_ratings  Users_rated    Price  \n",
       "32                16         16.51  6.0           4.4      39584.0  17499.0  \n",
       "33                 5         16.56  3.0           4.5      43647.0   9299.0  \n",
       "34                 5         16.56  3.0           4.5      43647.0   9299.0  \n",
       "35                16         16.51  4.0           4.5      34766.0  15999.0  \n",
       "36                16         16.51  6.0           4.4      39584.0  17499.0  \n",
       "37                16         16.51  6.0           4.4      39584.0  17499.0  \n",
       "38                16         16.51  4.0           4.5      34766.0  15999.0  \n",
       "39                16         16.76  6.0           4.4      73793.0  18999.0  \n",
       "40                16         16.76  8.0           4.3      12752.0  20999.0  \n",
       "41                16         16.76  6.0           4.4      73793.0  18999.0  \n",
       "42                 5         16.51  4.0           4.2       1077.0   8999.0  \n",
       "43                 5         16.51  4.0           4.2       1077.0   8999.0  \n",
       "44                 8         16.76  4.0           4.4        147.0  12999.0  \n",
       "45                16         16.76  8.0           4.3       1973.0  22999.0  \n",
       "46                16         16.76  8.0           4.3       1973.0  22999.0  \n",
       "47                16         16.76  6.0           4.4      22657.0  19999.0  \n",
       "48                 5         16.51  2.0           4.4        294.0   7499.0  \n",
       "49                16         16.81  6.0           4.3       9486.0  29999.0  \n",
       "50                16         16.81  8.0           4.3       5299.0  31999.0  \n",
       "51                16         16.81  8.0           4.3       5299.0  31999.0  \n",
       "52                16         16.81  6.0           4.3       9486.0  29999.0  \n",
       "53                16         16.81  8.0           4.3       5299.0  33999.0  \n",
       "54                16         16.81  8.0           4.3       5299.0  33999.0  \n",
       "55                16         16.81  8.0           4.3       5299.0  33999.0  \n",
       "56                16         16.81  8.0           4.3       5299.0  31999.0  \n",
       "57                16         16.81  8.0           4.3       5299.0  31999.0  \n",
       "58                 8         16.76  6.0           4.2      10294.0  13999.0  \n",
       "59                16         16.76  4.0           4.5        105.0  14999.0  \n",
       "60                16         16.76  6.0           4.4      22657.0  19999.0  \n",
       "61                 5         16.51  2.0           4.3      54354.0   6399.0  \n",
       "62                 5         16.51  4.0           4.3        202.0   8999.0  \n",
       "63                 5         16.51  4.0           4.3        202.0   8999.0  \n",
       "64                16         16.76  8.0           4.3      12752.0  20999.0  \n",
       "65                16         16.76  8.0           4.3      12752.0  20999.0  \n",
       "66                 5         16.51  3.0           4.1      26797.0   7999.0  \n",
       "67                16         16.51  6.0           4.4      39584.0  17499.0  \n",
       "68                 5         16.51  3.0           4.1      26797.0   7999.0  \n",
       "69                 5         16.51  3.0           4.1      26797.0   7999.0  \n",
       "70                 5         16.51  2.0           4.4        231.0   7499.0  \n",
       "71                16         16.51  4.0           4.3      75406.0  15499.0  \n",
       "72                 5         16.51  4.0           4.4        146.0  10499.0  \n",
       "73                16         16.51  6.0           4.3      75615.0  14499.0  \n",
       "74                 5         16.51  4.0           4.5        252.0  10499.0  \n",
       "75                16         16.51  6.0           4.3      75615.0  14499.0  \n",
       "76                16         16.51  6.0           4.3      75615.0  15499.0  \n",
       "77                16         16.26  6.0           4.4      29502.0  24999.0  \n",
       "78                16         16.81  6.0           4.3       9486.0  29999.0  \n",
       "79                16         16.81  8.0           4.3       5299.0  31999.0  \n",
       "80                16         16.81  8.0           4.3       5299.0  33999.0  \n",
       "81                16         16.81  8.0           4.3       5299.0  33999.0  "
      ]
     },
     "execution_count": 104,
     "metadata": {},
     "output_type": "execute_result"
    }
   ],
   "source": [
    "r1.tail(50)"
   ]
  },
  {
   "cell_type": "code",
   "execution_count": 105,
   "id": "57045399",
   "metadata": {},
   "outputs": [],
   "source": [
    "r1.to_csv(\"PROJECT REALME_flipkart.csv\")"
   ]
  },
  {
   "cell_type": "code",
   "execution_count": null,
   "id": "f4f84228",
   "metadata": {},
   "outputs": [],
   "source": []
  },
  {
   "cell_type": "code",
   "execution_count": null,
   "id": "e1396916",
   "metadata": {},
   "outputs": [],
   "source": []
  },
  {
   "cell_type": "code",
   "execution_count": null,
   "id": "87661e75",
   "metadata": {},
   "outputs": [],
   "source": []
  },
  {
   "cell_type": "code",
   "execution_count": null,
   "id": "75ff78f5",
   "metadata": {},
   "outputs": [],
   "source": []
  }
 ],
 "metadata": {
  "kernelspec": {
   "display_name": "Python 3.9.12 ('base')",
   "language": "python",
   "name": "python3"
  },
  "language_info": {
   "codemirror_mode": {
    "name": "ipython",
    "version": 3
   },
   "file_extension": ".py",
   "mimetype": "text/x-python",
   "name": "python",
   "nbconvert_exporter": "python",
   "pygments_lexer": "ipython3",
   "version": "3.9.12"
  },
  "vscode": {
   "interpreter": {
    "hash": "71b28393b2ac083c508389b2363010f7f678fcff1223b554f5a222afbaa6083f"
   }
  }
 },
 "nbformat": 4,
 "nbformat_minor": 5
}
