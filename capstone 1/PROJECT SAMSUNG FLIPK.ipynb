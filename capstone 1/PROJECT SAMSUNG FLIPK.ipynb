{
 "cells": [
  {
   "cell_type": "code",
   "execution_count": 1,
   "id": "2c5a222e",
   "metadata": {},
   "outputs": [],
   "source": [
    "import re\n",
    "import requests\n",
    "from bs4 import BeautifulSoup\n",
    "import pandas as pd\n"
   ]
  },
  {
   "cell_type": "code",
   "execution_count": 2,
   "id": "a96f64cd",
   "metadata": {},
   "outputs": [],
   "source": [
    "headers={\"User-Agent\": \"Mozilla/5.0 (Windows NT 10.0; Win64; x64) AppleWebKit/537.36 (KHTML, like Gecko) Chrome/106.0.0.0 Safari/537.36\"}"
   ]
  },
  {
   "cell_type": "code",
   "execution_count": 3,
   "id": "401731aa",
   "metadata": {},
   "outputs": [],
   "source": [
    "def details(url,headers):\n",
    "    res=requests.get(url,headers=headers)\n",
    "    print(res)\n",
    "    a=BeautifulSoup(res.content,\"html.parser\")\n",
    "    b=a.find(\"span\",attrs={\"class\":\"B_NuCI\"})\n",
    "    c=b.text\n",
    "    d=r'[S,s][A-Za-z]+\\s?[A-Za-z0-9]+'\n",
    "    e=re.findall(d,c)\n",
    "    print(e)\n",
    "    f=r'[(][A-Za-z]+\\s?[A-Za-z]+'\n",
    "    g=re.findall(f,c)\n",
    "    print(g)\n",
    "\n",
    "    h=a.find(\"div\",attrs={\"class\":\"_2418kt\"})\n",
    "    i=h.text\n",
    "    j=r'[0-9]+\\s?[M][P]+'\n",
    "    k=re.findall(j,i)\n",
    "    print(k)\n",
    "    l=r'[0-9]+\\s?[G][B]+'\n",
    "    m=re.findall(l,i)\n",
    "    print(m)\n",
    "    n=r'[0-9]+\\s?[m,M][A][H,h]'\n",
    "    o=re.findall(n,i)\n",
    "    print(o)\n",
    "    p=r'[0-9]+\\.[0-9]+\\s?[c,C][m,entimeters]+'\n",
    "    q=re.findall(p,i)\n",
    "    print(q)\n",
    "    \n",
    "    r=a.find(\"span\",attrs={\"class\":\"_2_R_DZ\"}) \n",
    "    s=r.text\n",
    "    use=r'[0-9]*[,]*[0-9]+'\n",
    "    uss=re.findall(use,s)\n",
    "    print(uss)\n",
    "    t=a.find(\"span\",attrs={\"class\":\"_1lRcqv\"})\n",
    "    u=t.text\n",
    "    print(u)\n",
    "    v=a.find(\"div\",attrs={\"class\":\"_30jeq3 _16Jk6d\"})\n",
    "    w=v.text\n",
    "    print(w)\n",
    "    colour.append(f[0])\n",
    "    \n",
    "    \n",
    "    name.append(e[0])\n",
    "    colour.append(g[0])\n",
    "    camera_px.append(k[0])\n",
    "    self_px.append(k[-1])\n",
    "    ram.append(m[0])\n",
    "    storage.append(m[-1])\n",
    "    battery.append(o[0])\n",
    "    display.append(q[0])\n",
    "    user_rate.append(uss[0])\n",
    "    star_rate.append(u)\n",
    "    price.append(w)\n",
    "    \n",
    "\n",
    "    "
   ]
  },
  {
   "cell_type": "code",
   "execution_count": 4,
   "id": "d72ef4aa",
   "metadata": {},
   "outputs": [],
   "source": [
    "name=[]\n",
    "colour=[]\n",
    "camera_px=[]\n",
    "self_px=[]\n",
    "battery=[]\n",
    "ram=[]\n",
    "storage=[]\n",
    "display=[]\n",
    "user_rate=[]\n",
    "star_rate=[]\n",
    "price=[]"
   ]
  },
  {
   "cell_type": "code",
   "execution_count": 5,
   "id": "f3b4f915",
   "metadata": {},
   "outputs": [
    {
     "name": "stdout",
     "output_type": "stream",
     "text": [
      "<Response [200]>\n",
      "['SAMSUNG Galaxy']\n",
      "['(Denim Blue']\n",
      "['48MP', '8MP', '2MP', '2MP', '13MP']\n",
      "['4 GB', '64 GB']\n",
      "['6000 mAh']\n",
      "['16.26 cm']\n",
      "['97,409', '9,459']\n",
      "4.3\n",
      "₹11,999\n"
     ]
    }
   ],
   "source": [
    "b=\"https://www.flipkart.com/samsung-galaxy-f22-denim-blue-64-gb/p/itmce0a6baf0d54d?pid=MOBG43UGBTGGB99V&lid=LSTMOBG43UGBTGGB99VLZACSD&marketplace=FLIPKART&q=SAMSUNG+phones&store=tyy%2F4io&srno=s_1_1&otracker=search&otracker1=search&fm=Search&iid=a66f42e0-a637-4f82-9f1d-5d08a1db54e7.MOBG43UGBTGGB99V.SEARCH&ppt=sp&ppn=sp&ssid=9sipozo9uo0000001668710908176&qH=5ddb756aa1526c61\"\n",
    "details(b,headers)"
   ]
  },
  {
   "cell_type": "code",
   "execution_count": 6,
   "id": "8ba86997",
   "metadata": {},
   "outputs": [
    {
     "name": "stdout",
     "output_type": "stream",
     "text": [
      "<Response [200]>\n",
      "['SAMSUNG Galaxy', 'Sea Green']\n",
      "['(Sea Green']\n",
      "['48MP', '5MP', '2MP', '2MP', '8MP']\n",
      "['4 GB', '128 GB', '512 GB']\n",
      "['6000 mAh']\n",
      "['16.55 cm']\n",
      "['2,95', ',487', '23,453']\n",
      "4.3\n",
      "₹11,499\n"
     ]
    }
   ],
   "source": [
    "b1=\"https://www.flipkart.com/samsung-galaxy-f12-sea-green-128-gb/p/itm632faa123e085?pid=MOBGFG79ZZFRGZ7U&lid=LSTMOBGFG79ZZFRGZ7UZNFTWL&marketplace=FLIPKART&q=SAMSUNG+phones&store=tyy%2F4io&srno=s_1_22&otracker=search&otracker1=search&fm=Search&iid=a66f42e0-a637-4f82-9f1d-5d08a1db54e7.MOBGFG79ZZFRGZ7U.SEARCH&ppt=sp&ppn=sp&ssid=9sipozo9uo0000001668710908176&qH=5ddb756aa1526c61\"\n",
    "details(b1,headers)"
   ]
  },
  {
   "cell_type": "code",
   "execution_count": 8,
   "id": "75a6b8c0",
   "metadata": {},
   "outputs": [
    {
     "name": "stdout",
     "output_type": "stream",
     "text": [
      "<Response [200]>\n",
      "['SAMSUNG GALAXY']\n",
      "['(Midnight Blue']\n",
      "['50MP']\n",
      "['6 GB', '128 GB']\n",
      "['6000 mAh']\n",
      "['16.76 cm']\n",
      "['209', '15']\n",
      "4\n",
      "₹13,690\n"
     ]
    }
   ],
   "source": [
    "b2=\"https://www.flipkart.com/samsung-galaxy-m13-midnight-blue-128-gb/p/itmd630646e719e1?pid=MOBGGHC4DTZCTEQC&lid=LSTMOBGGHC4DTZCTEQC1SYM3X&marketplace=FLIPKART&q=SAMSUNG+phones&store=tyy%2F4io&srno=s_1_21&otracker=search&otracker1=search&fm=Search&iid=a66f42e0-a637-4f82-9f1d-5d08a1db54e7.MOBGGHC4DTZCTEQC.SEARCH&ppt=sp&ppn=sp&ssid=9sipozo9uo0000001668710908176&qH=5ddb756aa1526c61\"\n",
    "details(b2,headers)"
   ]
  },
  {
   "cell_type": "code",
   "execution_count": 9,
   "id": "7b5123b2",
   "metadata": {},
   "outputs": [
    {
     "name": "stdout",
     "output_type": "stream",
     "text": [
      "<Response [200]>\n",
      "['SAMSUNG Galaxy']\n",
      "['(Matte Aqua']\n",
      "['64MP', '5MP', '2MP', '8MP']\n",
      "['8 GB', '128 GB']\n",
      "['5000 mAh']\n",
      "['16.76 cm']\n",
      "['5,228', '521']\n",
      "4.1\n",
      "₹22,999\n"
     ]
    }
   ],
   "source": [
    "b3=\"https://www.flipkart.com/samsung-galaxy-f42-5g-matte-aqua-128-gb/p/itmd7243fade7a0c?pid=MOBG6WRADGXFA8FU&lid=LSTMOBG6WRADGXFA8FUXMXFMW&marketplace=FLIPKART&q=SAMSUNG+phones&store=tyy%2F4io&srno=s_1_18&otracker=search&otracker1=search&fm=Search&iid=a66f42e0-a637-4f82-9f1d-5d08a1db54e7.MOBG6WRADGXFA8FU.SEARCH&ppt=sp&ppn=sp&ssid=9sipozo9uo0000001668710908176&qH=5ddb756aa1526c61\"\n",
    "details(b3,headers)"
   ]
  },
  {
   "cell_type": "code",
   "execution_count": 10,
   "id": "ce3cf6b4",
   "metadata": {},
   "outputs": [
    {
     "name": "stdout",
     "output_type": "stream",
     "text": [
      "<Response [200]>\n",
      "['SAMSUNG Galaxy']\n",
      "['(Deep Ocean']\n",
      "['50MP']\n",
      "['6 GB', '128 GB']\n",
      "['6000 mAh']\n",
      "['16.76 cm']\n",
      "['6,001', '529']\n",
      "4.2\n",
      "₹16,373\n"
     ]
    }
   ],
   "source": [
    "b4=\"https://www.flipkart.com/samsung-galaxy-m33-5g-deep-ocean-blue-128-gb/p/itm2aa4db0a58c8a?pid=MOBGDC886NT7GAXR&lid=LSTMOBGDC886NT7GAXRUW5OTF&marketplace=FLIPKART&q=SAMSUNG+phones&store=tyy%2F4io&srno=s_1_15&otracker=search&otracker1=search&fm=Search&iid=a66f42e0-a637-4f82-9f1d-5d08a1db54e7.MOBGDC886NT7GAXR.SEARCH&ppt=sp&ppn=sp&ssid=9sipozo9uo0000001668710908176&qH=5ddb756aa1526c61\"\n",
    "details(b4,headers)"
   ]
  },
  {
   "cell_type": "code",
   "execution_count": 12,
   "id": "31760aef",
   "metadata": {},
   "outputs": [
    {
     "name": "stdout",
     "output_type": "stream",
     "text": [
      "<Response [200]>\n",
      "['SAMSUNG Galaxy']\n",
      "['(Lavender']\n",
      "['12MP', '12MP', '8MP', '32MP']\n",
      "['8 GB', '128 GB']\n",
      "['4500 mAh']\n",
      "['16.26 cm']\n",
      "['25,114', '2,570']\n",
      "4.4\n",
      "₹54,999\n"
     ]
    }
   ],
   "source": [
    "b5=\"https://www.flipkart.com/samsung-galaxy-s21-fe-5g-lavender-128-gb/p/itm3b094762fb621?pid=MOBGBNBDZJ5Q3RXK&lid=LSTMOBGBNBDZJ5Q3RXKUCNNBS&marketplace=FLIPKART&q=SAMSUNG+phones&store=tyy%2F4io&srno=s_1_13&otracker=search&otracker1=search&fm=Search&iid=a66f42e0-a637-4f82-9f1d-5d08a1db54e7.MOBGBNBDZJ5Q3RXK.SEARCH&ppt=sp&ppn=sp&ssid=9sipozo9uo0000001668710908176&qH=5ddb756aa1526c61\"\n",
    "details(b5,headers)"
   ]
  },
  {
   "cell_type": "code",
   "execution_count": 13,
   "id": "d59ac028",
   "metadata": {},
   "outputs": [
    {
     "name": "stdout",
     "output_type": "stream",
     "text": [
      "<Response [200]>\n",
      "['SAMSUNG Galaxy', 'stique Green']\n",
      "['(Mystique Green']\n",
      "['50MP']\n",
      "['6 GB', '128 GB']\n",
      "['6000 mAh']\n",
      "['16.74 cm']\n",
      "['6,001', '529']\n",
      "4.2\n",
      "₹16,959\n"
     ]
    }
   ],
   "source": [
    "b6=\"https://www.flipkart.com/samsung-galaxy-m33-5g-mystique-green-128-gb/p/itme4ec54aec3acc?pid=MOBGDC8MZMBXFZJT&lid=LSTMOBGDC8MZMBXFZJTSSLG2C&marketplace=FLIPKART&q=SAMSUNG+phones&store=tyy%2F4io&srno=s_1_12&otracker=search&otracker1=search&fm=Search&iid=a66f42e0-a637-4f82-9f1d-5d08a1db54e7.MOBGDC8MZMBXFZJT.SEARCH&ppt=sp&ppn=sp&ssid=9sipozo9uo0000001668710908176&qH=5ddb756aa1526c61\"\n",
    "details(b6,headers)"
   ]
  },
  {
   "cell_type": "code",
   "execution_count": 14,
   "id": "fe8dd9c8",
   "metadata": {
    "scrolled": true
   },
   "outputs": [
    {
     "name": "stdout",
     "output_type": "stream",
     "text": [
      "<Response [200]>\n",
      "['SAMSUNG Galaxy', 'sky Green']\n",
      "['(Nightsky Green']\n",
      "['50MP', '5MP', '2MP', '8MP']\n",
      "['4 GB', '64 GB']\n",
      "['6000 mAh']\n",
      "['16.76 cm']\n",
      "['91,390', '4,896']\n",
      "4.4\n",
      "₹11,999\n"
     ]
    }
   ],
   "source": [
    "b7=\"https://www.flipkart.com/samsung-galaxy-f13-nightsky-green-64-gb/p/itmeadfda1bd23fa?pid=MOBGENJWF4KJTPEN&lid=LSTMOBGENJWF4KJTPENAUQVSZ&marketplace=FLIPKART&q=SAMSUNG+phones&store=tyy%2F4io&srno=s_1_10&otracker=search&otracker1=search&fm=Search&iid=a66f42e0-a637-4f82-9f1d-5d08a1db54e7.MOBGENJWF4KJTPEN.SEARCH&ppt=sp&ppn=sp&ssid=9sipozo9uo0000001668710908176&qH=5ddb756aa1526c61\"\n",
    "details(b7,headers)"
   ]
  },
  {
   "cell_type": "code",
   "execution_count": 15,
   "id": "32c5fde3",
   "metadata": {},
   "outputs": [
    {
     "name": "stdout",
     "output_type": "stream",
     "text": [
      "<Response [200]>\n",
      "['SAMSUNG Galaxy', 'Sunrise Copper']\n",
      "['(Sunrise Copper']\n",
      "['50MP', '5MP', '2MP', '8MP']\n",
      "['4 GB', '64 GB']\n",
      "['6000 mAh']\n",
      "['16.76 cm']\n",
      "['91,390', '4,896']\n",
      "4.4\n",
      "₹11,999\n"
     ]
    }
   ],
   "source": [
    "b8=\"https://www.flipkart.com/samsung-galaxy-f13-sunrise-copper-64-gb/p/itm0d8c65ec17621?pid=MOBGENJWWRYSFC5P&lid=LSTMOBGENJWWRYSFC5PYXUAZH&marketplace=FLIPKART&q=SAMSUNG+phones&store=tyy%2F4io&srno=s_1_9&otracker=search&otracker1=search&fm=Search&iid=a66f42e0-a637-4f82-9f1d-5d08a1db54e7.MOBGENJWWRYSFC5P.SEARCH&ppt=sp&ppn=sp&ssid=9sipozo9uo0000001668710908176&qH=5ddb756aa1526c61\"\n",
    "details(b8,headers)"
   ]
  },
  {
   "cell_type": "code",
   "execution_count": 16,
   "id": "9e5c31c5",
   "metadata": {},
   "outputs": [
    {
     "name": "stdout",
     "output_type": "stream",
     "text": [
      "<Response [200]>\n",
      "['SAMSUNG Galaxy']\n",
      "['(Waterfall Blue']\n",
      "['50MP', '5MP', '2MP', '8MP']\n",
      "['4 GB', '64 GB']\n",
      "['6000 mAh']\n",
      "['16.76 cm']\n",
      "['91,390', '4,896']\n",
      "4.4\n",
      "₹11,999\n"
     ]
    }
   ],
   "source": [
    "b9=\"https://www.flipkart.com/samsung-galaxy-f13-waterfall-blue-64-gb/p/itm583ef432b2b0c?pid=MOBGENJWBPFYJSFT&lid=LSTMOBGENJWBPFYJSFT1ZY7B0&marketplace=FLIPKART&q=SAMSUNG+phones&store=tyy%2F4io&srno=s_1_8&otracker=search&otracker1=search&fm=Search&iid=a66f42e0-a637-4f82-9f1d-5d08a1db54e7.MOBGENJWBPFYJSFT.SEARCH&ppt=sp&ppn=sp&ssid=9sipozo9uo0000001668710908176&qH=5ddb756aa1526c61\"\n",
    "details(b9,headers)"
   ]
  },
  {
   "cell_type": "code",
   "execution_count": 17,
   "id": "ffe5b118",
   "metadata": {},
   "outputs": [
    {
     "name": "stdout",
     "output_type": "stream",
     "text": [
      "<Response [200]>\n",
      "['SAMSUNG Galaxy']\n",
      "['(Copper Blush']\n",
      "['50MP', '8MP', '2MP', '8MP']\n",
      "['6 GB', '128 GB']\n",
      "['5000 mAh']\n",
      "['16.76 cm']\n",
      "['1,20', ',098', '9,976']\n",
      "4.3\n",
      "₹18,499\n"
     ]
    }
   ],
   "source": [
    "b10=\"https://www.flipkart.com/samsung-galaxy-f23-5g-copper-blush-128-gb/p/itm59c8bf3255ef6?pid=MOBGE2ZU2YBUAEVZ&lid=LSTMOBGE2ZU2YBUAEVZJXNB2M&marketplace=FLIPKART&q=SAMSUNG+phones&store=tyy%2F4io&srno=s_1_7&otracker=search&otracker1=search&fm=Search&iid=a66f42e0-a637-4f82-9f1d-5d08a1db54e7.MOBGE2ZU2YBUAEVZ.SEARCH&ppt=sp&ppn=sp&ssid=9sipozo9uo0000001668710908176&qH=5ddb756aa1526c61\"\n",
    "details(b10,headers)"
   ]
  },
  {
   "cell_type": "code",
   "execution_count": 18,
   "id": "ae856813",
   "metadata": {},
   "outputs": [
    {
     "name": "stdout",
     "output_type": "stream",
     "text": [
      "<Response [200]>\n",
      "['SAMSUNG Galaxy', 'st Green']\n",
      "['(Forest Green']\n",
      "['50MP', '8MP', '2MP', '8MP']\n",
      "['6 GB', '128 GB']\n",
      "['5000 mAh']\n",
      "['16.76 cm']\n",
      "['1,20', ',098', '9,976']\n",
      "4.3\n",
      "₹18,499\n"
     ]
    }
   ],
   "source": [
    "b11=\"https://www.flipkart.com/samsung-galaxy-f23-5g-forest-green-128-gb/p/itm4001e68fda319?pid=MOBGBKQF3QM4GHWN&lid=LSTMOBGBKQF3QM4GHWNJ56YXY&marketplace=FLIPKART&q=SAMSUNG+phones&store=tyy%2F4io&srno=s_1_6&otracker=search&otracker1=search&fm=Search&iid=a66f42e0-a637-4f82-9f1d-5d08a1db54e7.MOBGBKQF3QM4GHWN.SEARCH&ppt=sp&ppn=sp&ssid=9sipozo9uo0000001668710908176&qH=5ddb756aa1526c61\"\n",
    "details(b11,headers)"
   ]
  },
  {
   "cell_type": "code",
   "execution_count": 19,
   "id": "932cf8d1",
   "metadata": {},
   "outputs": [
    {
     "name": "stdout",
     "output_type": "stream",
     "text": [
      "<Response [200]>\n",
      "['SAMSUNG Galaxy']\n",
      "['(Aqua Blue']\n",
      "['50MP', '8MP', '2MP', '8MP']\n",
      "['6 GB', '128 GB']\n",
      "['5000 mAh']\n",
      "['16.76 cm']\n",
      "['1,20', ',098', '9,976']\n",
      "4.3\n",
      "₹18,499\n"
     ]
    }
   ],
   "source": [
    "b12=\"https://www.flipkart.com/samsung-galaxy-f23-5g-aqua-blue-128-gb/p/itme54bc0c2292f4?pid=MOBGBKQF45XPEUHA&lid=LSTMOBGBKQF45XPEUHAYAHBJE&marketplace=FLIPKART&q=SAMSUNG+phones&store=tyy%2F4io&srno=s_1_5&otracker=search&otracker1=search&fm=Search&iid=a66f42e0-a637-4f82-9f1d-5d08a1db54e7.MOBGBKQF45XPEUHA.SEARCH&ppt=sp&ppn=sp&ssid=9sipozo9uo0000001668710908176&qH=5ddb756aa1526c61\"\n",
    "details(b12,headers)"
   ]
  },
  {
   "cell_type": "code",
   "execution_count": 20,
   "id": "714a5c9d",
   "metadata": {},
   "outputs": [
    {
     "name": "stdout",
     "output_type": "stream",
     "text": [
      "<Response [200]>\n",
      "['SAMSUNG Galaxy']\n",
      "['(Denim Blue']\n",
      "['48MP', '8MP', '2MP', '2MP', '13MP']\n",
      "['6 GB', '128 GB']\n",
      "['6000 mAh']\n",
      "['16.26 cm']\n",
      "['61,765', '5,751']\n",
      "4.3\n",
      "₹13,999\n"
     ]
    }
   ],
   "source": [
    "b13=\"https://www.flipkart.com/samsung-galaxy-f22-denim-blue-128-gb/p/itm30c755943bea0?pid=MOBG43UGRSMJXTMH&lid=LSTMOBG43UGRSMJXTMH8AUDHE&marketplace=FLIPKART&q=SAMSUNG+phones&store=tyy%2F4io&srno=s_1_4&otracker=search&otracker1=search&fm=Search&iid=a66f42e0-a637-4f82-9f1d-5d08a1db54e7.MOBG43UGRSMJXTMH.SEARCH&ppt=sp&ppn=sp&ssid=9sipozo9uo0000001668710908176&qH=5ddb756aa1526c61\"\n",
    "details(b13,headers)"
   ]
  },
  {
   "cell_type": "code",
   "execution_count": 21,
   "id": "a2d110ea",
   "metadata": {},
   "outputs": [
    {
     "name": "stdout",
     "output_type": "stream",
     "text": [
      "<Response [200]>\n",
      "['SAMSUNG Galaxy']\n",
      "['(Denim Black']\n",
      "['48MP', '8MP', '2MP', '2MP', '13MP']\n",
      "['4 GB', '64 GB']\n",
      "['6000 mAh']\n",
      "['16.26 cm']\n",
      "['97,409', '9,459']\n",
      "4.3\n",
      "₹11,999\n"
     ]
    }
   ],
   "source": [
    "b14=\"https://www.flipkart.com/samsung-galaxy-f22-denim-black-64-gb/p/itm6f47a19cb79ae?pid=MOBG43UGC3PYCBZF&lid=LSTMOBG43UGC3PYCBZFSIRYTE&marketplace=FLIPKART&q=SAMSUNG+phones&store=tyy%2F4io&srno=s_1_3&otracker=search&otracker1=search&fm=Search&iid=a66f42e0-a637-4f82-9f1d-5d08a1db54e7.MOBG43UGC3PYCBZF.SEARCH&ppt=sp&ppn=sp&ssid=9sipozo9uo0000001668710908176&qH=5ddb756aa1526c61\"\n",
    "details(b14,headers)"
   ]
  },
  {
   "cell_type": "code",
   "execution_count": 22,
   "id": "96aa0579",
   "metadata": {},
   "outputs": [
    {
     "name": "stdout",
     "output_type": "stream",
     "text": [
      "<Response [200]>\n",
      "['SAMSUNG Galaxy']\n",
      "['(Denim Black']\n",
      "['48MP', '8MP', '2MP', '2MP', '13MP']\n",
      "['6 GB', '128 GB']\n",
      "['6000 mAh']\n",
      "['16.26 cm']\n",
      "['61,765', '5,751']\n",
      "4.3\n",
      "₹13,999\n"
     ]
    }
   ],
   "source": [
    "b15=\"https://www.flipkart.com/samsung-galaxy-f22-denim-black-128-gb/p/itm9f921a1b4f96c?pid=MOBG43UGFGYU4K4B&lid=LSTMOBG43UGFGYU4K4B0FR1R0&marketplace=FLIPKART&q=SAMSUNG+phones&store=tyy%2F4io&srno=s_1_2&otracker=search&otracker1=search&fm=Search&iid=a66f42e0-a637-4f82-9f1d-5d08a1db54e7.MOBG43UGFGYU4K4B.SEARCH&ppt=sp&ppn=sp&ssid=9sipozo9uo0000001668710908176&qH=5ddb756aa1526c61\"\n",
    "details(b15,headers)"
   ]
  },
  {
   "cell_type": "code",
   "execution_count": 23,
   "id": "184da41a",
   "metadata": {},
   "outputs": [
    {
     "name": "stdout",
     "output_type": "stream",
     "text": [
      "<Response [200]>\n",
      "['SAMSUNG Galaxy']\n",
      "['(Blue']\n",
      "['50MP', '8MP']\n",
      "['8 GB', '128 GB']\n",
      "['5000 mAh']\n",
      "['16.76 cm']\n",
      "['367', '23']\n",
      "4.3\n",
      "₹20,999\n"
     ]
    }
   ],
   "source": [
    "b16=\"https://www.flipkart.com/samsung-galaxy-a23-blue-128-gb/p/itm493008f0e9f53?pid=MOBGCFVYJHGWNKSF&lid=LSTMOBGCFVYJHGWNKSFFI6SLL&marketplace=FLIPKART&q=SAMSUNG+phones&store=tyy%2F4io&srno=s_2_48&otracker=search&otracker1=search&fm=Search&iid=804d59c1-f8ab-4e14-89f7-fc51d23d69f8.MOBGCFVYJHGWNKSF.SEARCH&ppt=sp&ppn=sp&qH=5ddb756aa1526c61\"\n",
    "details(b16,headers)"
   ]
  },
  {
   "cell_type": "code",
   "execution_count": 24,
   "id": "a809aeb2",
   "metadata": {},
   "outputs": [
    {
     "name": "stdout",
     "output_type": "stream",
     "text": [
      "<Response [200]>\n",
      "['SAMSUNG Galaxy']\n",
      "['(White']\n",
      "['12MP', '12MP', '8MP', '32MP']\n",
      "['8 GB', '128 GB']\n",
      "['4500 mAh']\n",
      "['16.26 cm']\n",
      "['25,114', '2,570']\n",
      "4.4\n",
      "₹54,999\n"
     ]
    }
   ],
   "source": [
    "b17=\"https://www.flipkart.com/samsung-galaxy-s21-fe-5g-white-128-gb/p/itme7ee482a0b7f0?pid=MOBGE8DZ5VYDPUZT&lid=LSTMOBGE8DZ5VYDPUZTTAAL18&marketplace=FLIPKART&q=SAMSUNG+phones&store=tyy%2F4io&srno=s_2_47&otracker=search&otracker1=search&fm=Search&iid=804d59c1-f8ab-4e14-89f7-fc51d23d69f8.MOBGE8DZ5VYDPUZT.SEARCH&ppt=sp&ppn=sp&qH=5ddb756aa1526c61\"\n",
    "details(b17,headers)"
   ]
  },
  {
   "cell_type": "code",
   "execution_count": 25,
   "id": "8c785147",
   "metadata": {},
   "outputs": [
    {
     "name": "stdout",
     "output_type": "stream",
     "text": [
      "<Response [200]>\n",
      "['SAMSUNG Galaxy']\n",
      "['(Copper Blush']\n",
      "['50MP', '8MP', '2MP', '8MP']\n",
      "['4 GB', '128 GB']\n",
      "['5000 mAh']\n",
      "['16.76 cm']\n",
      "['29,004', '2,324']\n",
      "4.2\n",
      "₹17,499\n"
     ]
    }
   ],
   "source": [
    "b18=\"https://www.flipkart.com/samsung-galaxy-f23-5g-copper-blush-128-gb/p/itm2ba42930a4156?pid=MOBGE2ZUJMZYRAGD&lid=LSTMOBGE2ZUJMZYRAGDCPARRL&marketplace=FLIPKART&q=SAMSUNG+phones&store=tyy%2F4io&srno=s_2_46&otracker=search&otracker1=search&fm=Search&iid=804d59c1-f8ab-4e14-89f7-fc51d23d69f8.MOBGE2ZUJMZYRAGD.SEARCH&ppt=sp&ppn=sp&qH=5ddb756aa1526c61\"\n",
    "details(b18,headers)"
   ]
  },
  {
   "cell_type": "code",
   "execution_count": 26,
   "id": "591919f5",
   "metadata": {},
   "outputs": [
    {
     "name": "stdout",
     "output_type": "stream",
     "text": [
      "<Response [200]>\n",
      "['SAMSUNG Galaxy']\n",
      "['(Olive']\n",
      "['12MP', '12MP', '8MP', '32MP']\n",
      "['8 GB', '128 GB']\n",
      "['4500 mAh']\n",
      "['16.26 cm']\n",
      "['25,114', '2,570']\n",
      "4.4\n",
      "₹54,999\n"
     ]
    }
   ],
   "source": [
    "b19=\"https://www.flipkart.com/samsung-galaxy-s21-fe-5g-olive-128-gb/p/itm76e6e65136e17?pid=MOBGCKMEMZE5UJXK&lid=LSTMOBGCKMEMZE5UJXK6LPNPI&marketplace=FLIPKART&q=SAMSUNG+phones&store=tyy%2F4io&srno=s_2_44&otracker=search&otracker1=search&fm=Search&iid=804d59c1-f8ab-4e14-89f7-fc51d23d69f8.MOBGCKMEMZE5UJXK.SEARCH&ppt=sp&ppn=sp&qH=5ddb756aa1526c61\"\n",
    "details(b19,headers)"
   ]
  },
  {
   "cell_type": "code",
   "execution_count": 27,
   "id": "a1249bc0",
   "metadata": {},
   "outputs": [
    {
     "name": "stdout",
     "output_type": "stream",
     "text": [
      "<Response [200]>\n",
      "['SAMSUNG Galaxy', 'stique Green']\n",
      "['(Mystique Green']\n",
      "['50MP']\n",
      "['8 GB', '128 GB']\n",
      "['6000 mAh']\n",
      "['16.76 cm']\n",
      "['555', '38']\n",
      "4.2\n",
      "₹19,449\n"
     ]
    }
   ],
   "source": [
    "b20=\"https://www.flipkart.com/samsung-galaxy-m33-5g-mystique-green-128-gb/p/itm2aa4db0a58c8a?pid=MOBGDC8S4HQZFFHP&lid=LSTMOBGDC8S4HQZFFHPPKUVBF&marketplace=FLIPKART&q=SAMSUNG+phones&store=tyy%2F4io&srno=s_2_43&otracker=search&otracker1=search&fm=Search&iid=804d59c1-f8ab-4e14-89f7-fc51d23d69f8.MOBGDC8S4HQZFFHP.SEARCH&ppt=sp&ppn=sp&qH=5ddb756aa1526c61\"\n",
    "details(b20,headers)"
   ]
  },
  {
   "cell_type": "code",
   "execution_count": 28,
   "id": "0a7fcdb3",
   "metadata": {},
   "outputs": [
    {
     "name": "stdout",
     "output_type": "stream",
     "text": [
      "<Response [200]>\n",
      "['SAMSUNG GALAXY', 'Stardust Brown']\n",
      "['(Stardust Brown']\n",
      "['50MP']\n",
      "['4 GB', '64 GB']\n",
      "['6000 mAh']\n",
      "['16.76 cm']\n",
      "['977', '58']\n",
      "4.2\n",
      "₹10,790\n"
     ]
    }
   ],
   "source": [
    "b21=\"https://www.flipkart.com/samsung-galaxy-m13-stardust-brown-64-gb/p/itm88a344734b7e4?pid=MOBGGHEAHSZDN8ET&lid=LSTMOBGGHEAHSZDN8ETDKQELQ&marketplace=FLIPKART&q=SAMSUNG+phones&store=tyy%2F4io&srno=s_2_42&otracker=search&otracker1=search&fm=Search&iid=804d59c1-f8ab-4e14-89f7-fc51d23d69f8.MOBGGHEAHSZDN8ET.SEARCH&ppt=sp&ppn=sp&qH=5ddb756aa1526c61\"\n",
    "details(b21,headers)"
   ]
  },
  {
   "cell_type": "code",
   "execution_count": 29,
   "id": "4df9f507",
   "metadata": {},
   "outputs": [
    {
     "name": "stdout",
     "output_type": "stream",
     "text": [
      "<Response [200]>\n",
      "['SAMSUNG Galaxy']\n",
      "['(Emarld Brown']\n",
      "['50MP']\n",
      "['8 GB', '128 GB']\n",
      "['6000 mAh']\n",
      "['16.76 cm']\n",
      "['555', '38']\n",
      "4.2\n",
      "₹19,980\n"
     ]
    }
   ],
   "source": [
    "b22=\"https://www.flipkart.com/samsung-galaxy-m33-5g-emarld-brown-128-gb/p/itm20c3e8ef7880c?pid=MOBGGE7HEVPNSFEG&lid=LSTMOBGGE7HEVPNSFEGCMACAR&marketplace=FLIPKART&q=SAMSUNG+phones&store=tyy%2F4io&srno=s_2_41&otracker=search&otracker1=search&fm=Search&iid=804d59c1-f8ab-4e14-89f7-fc51d23d69f8.MOBGGE7HEVPNSFEG.SEARCH&ppt=sp&ppn=sp&qH=5ddb756aa1526c61\"\n",
    "details(b22,headers)"
   ]
  },
  {
   "cell_type": "code",
   "execution_count": 30,
   "id": "ab8e4ebd",
   "metadata": {},
   "outputs": [
    {
     "name": "stdout",
     "output_type": "stream",
     "text": [
      "<Response [200]>\n",
      "['SAMSUNG Galaxy', 'stique Green']\n",
      "['(Mystique Green']\n",
      "['50MP']\n",
      "['6 GB', '128 GB']\n",
      "['6000 mAh']\n",
      "['16.76 cm']\n",
      "['6,001', '529']\n",
      "4.2\n",
      "₹16,585\n"
     ]
    }
   ],
   "source": [
    "b23=\"https://www.flipkart.com/samsung-galaxy-m33-5g-mystique-green-128-gb/p/itme4ec54aec3acc?pid=MOBGHXQYPEYNGFHJ&lid=LSTMOBGHXQYPEYNGFHJF2YCPU&marketplace=FLIPKART&q=SAMSUNG+phones&store=tyy%2F4io&srno=s_2_40&otracker=search&otracker1=search&fm=Search&iid=804d59c1-f8ab-4e14-89f7-fc51d23d69f8.MOBGHXQYPEYNGFHJ.SEARCH&ppt=sp&ppn=sp&qH=5ddb756aa1526c61\"\n",
    "details(b23,headers)"
   ]
  },
  {
   "cell_type": "code",
   "execution_count": 31,
   "id": "1c30d4f9",
   "metadata": {},
   "outputs": [
    {
     "name": "stdout",
     "output_type": "stream",
     "text": [
      "<Response [200]>\n",
      "['SAMSUNG Galaxy']\n",
      "['(Graphite']\n",
      "['12MP', '12MP', '8MP', '32MP']\n",
      "['8 GB', '128 GB']\n",
      "['4500 mAh']\n",
      "['16.26 cm']\n",
      "['25,114', '2,570']\n",
      "4.4\n",
      "₹54,999\n"
     ]
    }
   ],
   "source": [
    "b24=\"https://www.flipkart.com/samsung-galaxy-s21-fe-5g-graphite-128-gb/p/itm7be0f72fff180?pid=MOBGBPFZSPRG8GSU&lid=LSTMOBGBPFZSPRG8GSUYZCRY0&marketplace=FLIPKART&q=SAMSUNG+phones&store=tyy%2F4io&srno=s_2_39&otracker=search&otracker1=search&fm=Search&iid=804d59c1-f8ab-4e14-89f7-fc51d23d69f8.MOBGBPFZSPRG8GSU.SEARCH&ppt=sp&ppn=sp&qH=5ddb756aa1526c61\"\n",
    "details(b24,headers)"
   ]
  },
  {
   "cell_type": "code",
   "execution_count": 32,
   "id": "6d020fb8",
   "metadata": {},
   "outputs": [
    {
     "name": "stdout",
     "output_type": "stream",
     "text": [
      "<Response [200]>\n",
      "['SAMSUNG Galaxy']\n",
      "['(Deep Ocean']\n",
      "['50MP']\n",
      "['6 GB', '128 GB']\n",
      "['6000 mAh']\n",
      "['16.76 cm']\n",
      "['6,001', '529']\n",
      "4.2\n",
      "₹16,992\n"
     ]
    }
   ],
   "source": [
    "b25=\"https://www.flipkart.com/samsung-galaxy-m33-5g-deep-ocean-blue-128-gb/p/itm6fafe6189184d?pid=MOBGHXQYSY3Q5PQK&lid=LSTMOBGHXQYSY3Q5PQKWZR6UX&marketplace=FLIPKART&q=SAMSUNG+phones&store=tyy%2F4io&srno=s_2_37&otracker=search&otracker1=search&fm=Search&iid=804d59c1-f8ab-4e14-89f7-fc51d23d69f8.MOBGHXQYSY3Q5PQK.SEARCH&ppt=sp&ppn=sp&qH=5ddb756aa1526c61\"\n",
    "details(b25,headers)"
   ]
  },
  {
   "cell_type": "code",
   "execution_count": 33,
   "id": "f1f8fe21",
   "metadata": {},
   "outputs": [
    {
     "name": "stdout",
     "output_type": "stream",
     "text": [
      "<Response [200]>\n",
      "['SAMSUNG Galaxy']\n",
      "['(Emarld Brown']\n",
      "['50MP']\n",
      "['6 GB', '128 GB']\n",
      "['6000 mAh']\n",
      "['16.76 cm']\n",
      "['6,001', '529']\n",
      "4.2\n",
      "₹16,649\n"
     ]
    }
   ],
   "source": [
    "b26 =\"https://www.flipkart.com/samsung-galaxy-m33-5g-emarld-brown-128-gb/p/itm2aa4db0a58c8a?pid=MOBGEMQSCNWJQ8EY&lid=LSTMOBGEMQSCNWJQ8EYYVX3GC&marketplace=FLIPKART&q=SAMSUNG+phones&store=tyy%2F4io&srno=s_2_36&otracker=search&otracker1=search&fm=Search&iid=804d59c1-f8ab-4e14-89f7-fc51d23d69f8.MOBGEMQSCNWJQ8EY.SEARCH&ppt=sp&ppn=sp&qH=5ddb756aa1526c61\"\n",
    "details(b26,headers)"
   ]
  },
  {
   "cell_type": "code",
   "execution_count": 34,
   "id": "ff415e25",
   "metadata": {},
   "outputs": [
    {
     "name": "stdout",
     "output_type": "stream",
     "text": [
      "<Response [200]>\n",
      "['SAMSUNG Galaxy', 'stique Green']\n",
      "['(Mystique Green']\n",
      "['50MP']\n",
      "['6 GB', '128 GB']\n",
      "['6000 mAh']\n",
      "['16.74 cm']\n",
      "['6,001', '529']\n",
      "4.2\n",
      "₹16,959\n"
     ]
    }
   ],
   "source": [
    "b27=\"https://www.flipkart.com/samsung-galaxy-m33-5g-mystique-green-128-gb/p/itme4ec54aec3acc?pid=MOBGDC8MZMBXFZJT&lid=LSTMOBGDC8MZMBXFZJTPEFSYV&marketplace=FLIPKART&q=SAMSUNG+phones&store=tyy%2F4io&srno=s_2_34&otracker=search&otracker1=search&fm=Search&iid=804d59c1-f8ab-4e14-89f7-fc51d23d69f8.MOBGDC8MZMBXFZJT.SEARCH&ppt=sp&ppn=sp&qH=5ddb756aa1526c61\"\n",
    "details(b27,headers)"
   ]
  },
  {
   "cell_type": "code",
   "execution_count": 35,
   "id": "3e362f24",
   "metadata": {},
   "outputs": [
    {
     "name": "stdout",
     "output_type": "stream",
     "text": [
      "<Response [200]>\n",
      "['SAMSUNG Galaxy', 'some Black']\n",
      "['(Awesome Black']\n",
      "['64MP', '8MP', '5MP', '5MP', '20MP']\n",
      "['8 GB', '128 GB']\n",
      "['5000 mAh']\n",
      "['16.26 cm']\n",
      "['249', '26']\n",
      "4.1\n",
      "₹18,989\n"
     ]
    }
   ],
   "source": [
    "b28=\"https://www.flipkart.com/samsung-galaxy-a32-awesome-black-128-gb/p/itm548f826769294?pid=MOBG8TZHWTGRGDZT&lid=LSTMOBG8TZHWTGRGDZTQOUCUG&marketplace=FLIPKART&q=SAMSUNG+phones&store=tyy%2F4io&srno=s_2_32&otracker=search&otracker1=search&fm=Search&iid=804d59c1-f8ab-4e14-89f7-fc51d23d69f8.MOBG8TZHWTGRGDZT.SEARCH&ppt=sp&ppn=sp&qH=5ddb756aa1526c61\"\n",
    "details(b28,headers)"
   ]
  },
  {
   "cell_type": "code",
   "execution_count": 36,
   "id": "64602536",
   "metadata": {},
   "outputs": [
    {
     "name": "stdout",
     "output_type": "stream",
     "text": [
      "<Response [200]>\n",
      "['SAMSUNG Galaxy', 'st Green']\n",
      "['(Forest Green']\n",
      "['50MP', '8MP', '2MP', '8MP']\n",
      "['4 GB', '128 GB']\n",
      "['5000 mAh']\n",
      "['16.76 cm']\n",
      "['29,004', '2,324']\n",
      "4.2\n",
      "₹17,499\n"
     ]
    }
   ],
   "source": [
    "b29=\"https://www.flipkart.com/samsung-galaxy-f23-5g-forest-green-128-gb/p/itm1fd5f52e56b16?pid=MOBGBKQFGJH8GH7M&lid=LSTMOBGBKQFGJH8GH7MAKQUSX&marketplace=FLIPKART&q=SAMSUNG+phones&store=tyy%2F4io&srno=s_2_31&otracker=search&otracker1=search&fm=Search&iid=804d59c1-f8ab-4e14-89f7-fc51d23d69f8.MOBGBKQFGJH8GH7M.SEARCH&ppt=sp&ppn=sp&qH=5ddb756aa1526c61\"\n",
    "details(b29,headers)"
   ]
  },
  {
   "cell_type": "code",
   "execution_count": 37,
   "id": "90698183",
   "metadata": {},
   "outputs": [
    {
     "name": "stdout",
     "output_type": "stream",
     "text": [
      "<Response [200]>\n",
      "['SAMSUNG GALAXY']\n",
      "['(Midnight Blue']\n",
      "['50MP']\n",
      "['4 GB', '64 GB']\n",
      "['6000 mAh']\n",
      "['16.76 cm']\n",
      "['977', '58']\n",
      "4.2\n",
      "₹10,480\n"
     ]
    }
   ],
   "source": [
    "b30=\"https://www.flipkart.com/samsung-galaxy-m13-midnight-blue-64-gb/p/itme9d85574c16d5?pid=MOBGGHC2BA4ZN3S5&lid=LSTMOBGGHC2BA4ZN3S5GKBKO5&marketplace=FLIPKART&q=SAMSUNG+phones&store=tyy%2F4io&srno=s_2_28&otracker=search&otracker1=search&fm=Search&iid=804d59c1-f8ab-4e14-89f7-fc51d23d69f8.MOBGGHC2BA4ZN3S5.SEARCH&ppt=sp&ppn=sp&qH=5ddb756aa1526c61\"\n",
    "details(b30,headers)"
   ]
  },
  {
   "cell_type": "code",
   "execution_count": 38,
   "id": "fbb5311c",
   "metadata": {},
   "outputs": [
    {
     "name": "stdout",
     "output_type": "stream",
     "text": [
      "<Response [200]>\n",
      "['SAMSUNG Galaxy', 'sky Green']\n",
      "['(Nightsky Green']\n",
      "['50MP', '5MP', '2MP', '8MP']\n",
      "['4 GB', '128 GB']\n",
      "['6000 mAh']\n",
      "['16.76 cm']\n",
      "['91,390', '4,896']\n",
      "4.4\n",
      "₹12,999\n"
     ]
    }
   ],
   "source": [
    "b31=\"https://www.flipkart.com/samsung-galaxy-f13-nightsky-green-128-gb/p/itma7ed2982bc08f?pid=MOBGENJW6YHHQDYU&lid=LSTMOBGENJW6YHHQDYUA8FLZC&marketplace=FLIPKART&q=SAMSUNG+phones&store=tyy%2F4io&srno=s_2_25&otracker=search&otracker1=search&fm=Search&iid=804d59c1-f8ab-4e14-89f7-fc51d23d69f8.MOBGENJW6YHHQDYU.SEARCH&ppt=sp&ppn=sp&qH=5ddb756aa1526c61\"\n",
    "details(b31,headers)"
   ]
  },
  {
   "cell_type": "code",
   "execution_count": 39,
   "id": "085bd943",
   "metadata": {},
   "outputs": [
    {
     "name": "stdout",
     "output_type": "stream",
     "text": [
      "<Response [200]>\n",
      "['SAMSUNG Galaxy', 'Sky Blue']\n",
      "['(Sky Blue']\n",
      "['48MP', '8MP', '5MP', '2MP', '13MP']\n",
      "['8 GB', '128 GB']\n",
      "['5000 mAh']\n",
      "['16.51 cm']\n",
      "['1,266', '74']\n",
      "4.2\n",
      "₹22,989\n"
     ]
    }
   ],
   "source": [
    "b32=\"https://www.flipkart.com/samsung-galaxy-m32-5g-sky-blue-128-gb/p/itmd9a8bb8647f12?pid=MOBG73CKDGXWGS43&lid=LSTMOBG73CKDGXWGS43ZZ4NP8&marketplace=FLIPKART&q=SAMSUNG+phones&store=tyy%2F4io&srno=s_3_72&otracker=search&otracker1=search&fm=Search&iid=77d0ac4f-6f84-43ee-a33b-11f8717b9c36.MOBG73CKDGXWGS43.SEARCH&ppt=sp&ppn=sp&qH=5ddb756aa1526c61\"\n",
    "details(b32,headers)"
   ]
  },
  {
   "cell_type": "code",
   "execution_count": 40,
   "id": "b22bdfc1",
   "metadata": {},
   "outputs": [
    {
     "name": "stdout",
     "output_type": "stream",
     "text": [
      "<Response [200]>\n",
      "['SAMSUNG Galaxy']\n",
      "['(Blue']\n",
      "['48MP', '5MP', '2MP', '2MP', '8MP']\n",
      "['6 GB', '128 GB']\n",
      "['5000 mAh']\n",
      "['16.51 cm']\n",
      "['1,271', '94']\n",
      "4.1\n",
      "₹13,700\n"
     ]
    }
   ],
   "source": [
    "b33=\"https://www.flipkart.com/samsung-galaxy-a12-blue-128-gb/p/itm0e06a0bc46170?pid=MOBG5D9XSW82BZBG&lid=LSTMOBG5D9XSW82BZBGCB0CXS&marketplace=FLIPKART&q=SAMSUNG+phones&store=tyy%2F4io&srno=s_3_71&otracker=search&otracker1=search&fm=Search&iid=77d0ac4f-6f84-43ee-a33b-11f8717b9c36.MOBG5D9XSW82BZBG.SEARCH&ppt=sp&ppn=sp&qH=5ddb756aa1526c61\"\n",
    "details(b33,headers)"
   ]
  },
  {
   "cell_type": "code",
   "execution_count": 41,
   "id": "67183e7d",
   "metadata": {},
   "outputs": [
    {
     "name": "stdout",
     "output_type": "stream",
     "text": [
      "<Response [200]>\n",
      "['SAMSUNG Galaxy']\n",
      "['(Black']\n",
      "['50MP', '8MP']\n",
      "['8 GB', '128 GB']\n",
      "['5000 mAh']\n",
      "['16.76 cm']\n",
      "['367', '23']\n",
      "4.3\n",
      "₹20,999\n"
     ]
    }
   ],
   "source": [
    "b34=\"https://www.flipkart.com/samsung-galaxy-a23-black-128-gb/p/itm7217aca85e502?pid=MOBGCFVYYDZT7HDH&lid=LSTMOBGCFVYYDZT7HDHSWVIOH&marketplace=FLIPKART&q=SAMSUNG+phones&store=tyy%2F4io&srno=s_3_70&otracker=search&otracker1=search&fm=Search&iid=77d0ac4f-6f84-43ee-a33b-11f8717b9c36.MOBGCFVYYDZT7HDH.SEARCH&ppt=sp&ppn=sp&qH=5ddb756aa1526c61\"\n",
    "details(b34,headers)"
   ]
  },
  {
   "cell_type": "code",
   "execution_count": 42,
   "id": "08e613e8",
   "metadata": {},
   "outputs": [
    {
     "name": "stdout",
     "output_type": "stream",
     "text": [
      "<Response [200]>\n",
      "['SAMSUNG Galaxy', 'some Blue']\n",
      "['(Awesome Blue']\n",
      "['64MP', '12MP', '5MP', '5MP', '32MP']\n",
      "['8 GB', '128 GB']\n",
      "['5000 mAh']\n",
      "['16.51 cm']\n",
      "['1,108', '124']\n",
      "4.1\n",
      "₹35,999\n"
     ]
    }
   ],
   "source": [
    "b35=\"https://www.flipkart.com/samsung-galaxy-a53-awesome-blue-128-gb/p/itm3ceac537b62e9?pid=MOBGCFVYUHHUJFNY&lid=LSTMOBGCFVYUHHUJFNYTXFWRY&marketplace=FLIPKART&q=SAMSUNG+phones&store=tyy%2F4io&srno=s_3_69&otracker=search&otracker1=search&fm=Search&iid=77d0ac4f-6f84-43ee-a33b-11f8717b9c36.MOBGCFVYUHHUJFNY.SEARCH&ppt=sp&ppn=sp&qH=5ddb756aa1526c61\"\n",
    "details(b35,headers)"
   ]
  },
  {
   "cell_type": "code",
   "execution_count": 43,
   "id": "f4818372",
   "metadata": {},
   "outputs": [
    {
     "name": "stdout",
     "output_type": "stream",
     "text": [
      "<Response [200]>\n",
      "['SAMSUNG Galaxy', 'some Black']\n",
      "['(Awesome Black']\n",
      "['48MP', '8MP', '5MP', '2MP', '13MP']\n",
      "['6 GB', '128 GB']\n",
      "['5000 mAh']\n",
      "['16.26 cm']\n",
      "['1,230', '127']\n",
      "4.1\n",
      "₹28,499\n"
     ]
    }
   ],
   "source": [
    "b36=\"https://www.flipkart.com/samsung-galaxy-a33-awesome-black-128-gb/p/itm2f2b38d702a04?pid=MOBGCS4JYAREFZJG&lid=LSTMOBGCS4JYAREFZJGXVBWAG&marketplace=FLIPKART&q=SAMSUNG+phones&store=tyy%2F4io&srno=s_3_68&otracker=search&otracker1=search&fm=Search&iid=77d0ac4f-6f84-43ee-a33b-11f8717b9c36.MOBGCS4JYAREFZJG.SEARCH&ppt=sp&ppn=sp&qH=5ddb756aa1526c61\"\n",
    "details(b36,headers)"
   ]
  },
  {
   "cell_type": "code",
   "execution_count": 44,
   "id": "19395752",
   "metadata": {},
   "outputs": [
    {
     "name": "stdout",
     "output_type": "stream",
     "text": [
      "<Response [200]>\n",
      "['SAMSUNG Galaxy']\n",
      "['(Phantom White']\n",
      "['50MP', '12MP', '10MP', '10MP']\n",
      "['8 GB', '128 GB']\n",
      "['4500 mAh']\n",
      "['16.76 cm']\n",
      "['1,584', '177']\n",
      "4.5\n",
      "₹84,999\n"
     ]
    }
   ],
   "source": [
    "b37=\"https://www.flipkart.com/samsung-galaxy-s22-plus-5g-phantom-white-128-gb/p/itm312d8bd3eaacf?pid=MOBGGG2YQRVKYPYH&lid=LSTMOBGGG2YQRVKYPYH72OHCM&marketplace=FLIPKART&q=SAMSUNG+phones&store=tyy%2F4io&srno=s_3_67&otracker=search&otracker1=search&fm=Search&iid=77d0ac4f-6f84-43ee-a33b-11f8717b9c36.MOBGGG2YQRVKYPYH.SEARCH&ppt=sp&ppn=sp&qH=5ddb756aa1526c61\"\n",
    "details(b37,headers)"
   ]
  },
  {
   "cell_type": "code",
   "execution_count": 45,
   "id": "8e31410f",
   "metadata": {},
   "outputs": [
    {
     "name": "stdout",
     "output_type": "stream",
     "text": [
      "<Response [200]>\n",
      "['SAMSUNG Galaxy']\n",
      "['(Black']\n",
      "['50MP', '8MP']\n",
      "['6 GB', '128 GB']\n",
      "['5000 mAh']\n",
      "['16.76 cm']\n",
      "['629', '45']\n",
      "4.2\n",
      "₹19,499\n"
     ]
    }
   ],
   "source": [
    "b38=\"https://www.flipkart.com/samsung-galaxy-a23-black-128-gb/p/itm742a1886f56eb?pid=MOBGCFVYBAHXBGYM&lid=LSTMOBGCFVYBAHXBGYMSD4FVZ&marketplace=FLIPKART&q=SAMSUNG+phones&store=tyy%2F4io&srno=s_3_66&otracker=search&otracker1=search&fm=Search&iid=77d0ac4f-6f84-43ee-a33b-11f8717b9c36.MOBGCFVYBAHXBGYM.SEARCH&ppt=sp&ppn=sp&qH=5ddb756aa1526c61\"\n",
    "details(b38,headers)"
   ]
  },
  {
   "cell_type": "code",
   "execution_count": 46,
   "id": "10432a4a",
   "metadata": {},
   "outputs": [
    {
     "name": "stdout",
     "output_type": "stream",
     "text": [
      "<Response [200]>\n",
      "['SAMSUNG M32', 'Slate Black']\n",
      "['(Slate Black']\n",
      "['48MP', '8MP', '5MP', '2MP', '13MP']\n",
      "['6 GB', '128 GB']\n",
      "['5000 mAh']\n",
      "['16.51 cm']\n",
      "['3,762', '282']\n",
      "4.1\n",
      "₹18,989\n"
     ]
    }
   ],
   "source": [
    "b39=\"https://www.flipkart.com/samsung-m32-5g-slate-black-128-gb/p/itm3a22184dd35ed?pid=MOBG6JM6RTU6RH6Q&lid=LSTMOBG6JM6RTU6RH6Q9SRDLW&marketplace=FLIPKART&q=SAMSUNG+phones&store=tyy%2F4io&srno=s_3_65&otracker=search&otracker1=search&fm=Search&iid=77d0ac4f-6f84-43ee-a33b-11f8717b9c36.MOBG6JM6RTU6RH6Q.SEARCH&ppt=sp&ppn=sp&qH=5ddb756aa1526c61\"\n",
    "details(b39,headers)"
   ]
  },
  {
   "cell_type": "code",
   "execution_count": 47,
   "id": "a73ef21c",
   "metadata": {},
   "outputs": [
    {
     "name": "stdout",
     "output_type": "stream",
     "text": [
      "<Response [200]>\n",
      "['SAMSUNG Galaxy']\n",
      "['(White']\n",
      "['13MP', '2MP', '2MP', '5MP']\n",
      "['3 GB', '32 GB']\n",
      "['5000 mAh']\n",
      "['16.51 cm']\n",
      "['299', '24']\n",
      "4\n",
      "₹11,499\n"
     ]
    }
   ],
   "source": [
    "b40=\"https://www.flipkart.com/samsung-galaxy-a03s-white-32-gb/p/itm418fde1930794?pid=MOBG5NK9VVKEGQCG&lid=LSTMOBG5NK9VVKEGQCGX0J2SO&marketplace=FLIPKART&q=SAMSUNG+phones&store=tyy%2F4io&srno=s_3_64&otracker=search&otracker1=search&fm=Search&iid=77d0ac4f-6f84-43ee-a33b-11f8717b9c36.MOBG5NK9VVKEGQCG.SEARCH&ppt=sp&ppn=sp&qH=5ddb756aa1526c61\"\n",
    "details(b40,headers)"
   ]
  },
  {
   "cell_type": "code",
   "execution_count": 48,
   "id": "0427fb8b",
   "metadata": {},
   "outputs": [
    {
     "name": "stdout",
     "output_type": "stream",
     "text": [
      "<Response [200]>\n",
      "['SAMSUNG Galaxy', 'stial Black']\n",
      "['(Celestial Black']\n",
      "['48MP', '5MP', '2MP', '2MP', '8MP']\n",
      "['4 GB', '128 GB', '512 GB']\n",
      "['6000 mAh']\n",
      "['16.55 cm']\n",
      "['2,95', ',487', '23,453']\n",
      "4.3\n",
      "₹11,499\n"
     ]
    }
   ],
   "source": [
    "b41=\"https://www.flipkart.com/samsung-galaxy-f12-celestial-black-128-gb/p/itm794cccf7936c0?pid=MOBGFG79NWFGVZRY&lid=LSTMOBGFG79NWFGVZRY2SAHUS&marketplace=FLIPKART&q=SAMSUNG+phones&store=tyy%2F4io&srno=s_3_62&otracker=search&otracker1=search&fm=Search&iid=77d0ac4f-6f84-43ee-a33b-11f8717b9c36.MOBGFG79NWFGVZRY.SEARCH&ppt=sp&ppn=sp&qH=5ddb756aa1526c61\"\n",
    "details(b41,headers)"
   ]
  },
  {
   "cell_type": "code",
   "execution_count": 49,
   "id": "e5fa2bf5",
   "metadata": {},
   "outputs": [
    {
     "name": "stdout",
     "output_type": "stream",
     "text": [
      "<Response [200]>\n",
      "['SAMSUNG M53', 'stique Green']\n",
      "['(Mystique Green']\n",
      "['108MP']\n",
      "['6 GB', '128 GB']\n",
      "['5000 mAh']\n",
      "['17.02 cm']\n",
      "['230', '24']\n",
      "4.2\n",
      "₹25,445\n"
     ]
    }
   ],
   "source": [
    "b42=\"https://www.flipkart.com/samsung-m53-5g-mystique-green-128-gb/p/itm7b5901813ad4f?pid=MOBGFZJ9UWHYFHN4&lid=LSTMOBGFZJ9UWHYFHN4INGP5I&marketplace=FLIPKART&q=SAMSUNG+phones&store=tyy%2F4io&srno=s_3_61&otracker=search&otracker1=search&fm=Search&iid=77d0ac4f-6f84-43ee-a33b-11f8717b9c36.MOBGFZJ9UWHYFHN4.SEARCH&ppt=sp&ppn=sp&qH=5ddb756aa1526c61\"\n",
    "details(b42,headers)"
   ]
  },
  {
   "cell_type": "code",
   "execution_count": 50,
   "id": "8501d2e6",
   "metadata": {},
   "outputs": [
    {
     "name": "stdout",
     "output_type": "stream",
     "text": [
      "<Response [200]>\n",
      "['SAMSUNG Galaxy']\n",
      "['(Black']\n",
      "['48MP', '2MP', '5MP']\n",
      "['4 GB', '64 GB']\n",
      "['5000 mAh']\n",
      "['16.51 cm']\n",
      "['151', '15']\n",
      "4.2\n",
      "₹11,499\n"
     ]
    }
   ],
   "source": [
    "b43=\"https://www.flipkart.com/samsung-galaxy-a03-black-64-gb/p/itm9e246ab1f3e69?pid=MOBGC2Q5EXDESZXU&lid=LSTMOBGC2Q5EXDESZXUC6CZ6D&marketplace=FLIPKART&q=SAMSUNG+phones&store=tyy%2F4io&srno=s_3_60&otracker=search&otracker1=search&fm=Search&iid=77d0ac4f-6f84-43ee-a33b-11f8717b9c36.MOBGC2Q5EXDESZXU.SEARCH&ppt=sp&ppn=sp&qH=5ddb756aa1526c61\"\n",
    "details(b43,headers)"
   ]
  },
  {
   "cell_type": "code",
   "execution_count": 51,
   "id": "645b0ee1",
   "metadata": {},
   "outputs": [
    {
     "name": "stdout",
     "output_type": "stream",
     "text": [
      "<Response [200]>\n",
      "['SAMSUNG Galaxy', 'some Blue']\n",
      "['(Awesome Blue']\n",
      "['48MP', '8MP', '5MP', '2MP', '13MP']\n",
      "['6 GB', '128 GB']\n",
      "['5000 mAh']\n",
      "['16.26 cm']\n",
      "['1,230', '127']\n",
      "4.1\n",
      "₹28,499\n"
     ]
    }
   ],
   "source": [
    "b44=\"https://www.flipkart.com/samsung-galaxy-a33-awesome-blue-128-gb/p/itm2a33243e3c9e1?pid=MOBGCS4JKQGGPT2N&lid=LSTMOBGCS4JKQGGPT2NNJUJGS&marketplace=FLIPKART&q=SAMSUNG+phones&store=tyy%2F4io&srno=s_3_57&otracker=search&otracker1=search&fm=Search&iid=77d0ac4f-6f84-43ee-a33b-11f8717b9c36.MOBGCS4JKQGGPT2N.SEARCH&ppt=sp&ppn=sp&qH=5ddb756aa1526c61\"\n",
    "details(b44,headers)"
   ]
  },
  {
   "cell_type": "code",
   "execution_count": 52,
   "id": "e15c6798",
   "metadata": {},
   "outputs": [
    {
     "name": "stdout",
     "output_type": "stream",
     "text": [
      "<Response [200]>\n",
      "['SAMSUNG Galaxy', 'Sky Blue']\n",
      "['(Sky Blue']\n",
      "['48MP', '5MP', '2MP', '2MP', '8MP']\n",
      "['4 GB', '128 GB', '512 GB']\n",
      "['6000 mAh']\n",
      "['16.55 cm']\n",
      "['2,95', ',487', '23,453']\n",
      "4.3\n",
      "₹11,499\n"
     ]
    }
   ],
   "source": [
    "b45=\"https://www.flipkart.com/samsung-galaxy-f12-sky-blue-128-gb/p/itmbe3d99dae33a0?pid=MOBGFG79BPTJWHKS&lid=LSTMOBGFG79BPTJWHKSOYSLM0&marketplace=FLIPKART&q=SAMSUNG+phones&store=tyy%2F4io&srno=s_3_56&otracker=search&otracker1=search&fm=Search&iid=77d0ac4f-6f84-43ee-a33b-11f8717b9c36.MOBGFG79BPTJWHKS.SEARCH&ppt=sp&ppn=sp&qH=5ddb756aa1526c61\"\n",
    "details(b45,headers)"
   ]
  },
  {
   "cell_type": "code",
   "execution_count": 53,
   "id": "c406b188",
   "metadata": {},
   "outputs": [
    {
     "name": "stdout",
     "output_type": "stream",
     "text": [
      "<Response [200]>\n",
      "['SAMSUNG GALAXY']\n",
      "['(Midnight Blue']\n",
      "['50MP']\n",
      "['6 GB', '128 GB']\n",
      "['6000 mAh']\n",
      "['16.76 cm']\n",
      "['209', '15']\n",
      "4\n",
      "₹13,490\n"
     ]
    }
   ],
   "source": [
    "b46=\"https://www.flipkart.com/samsung-galaxy-m13-midnight-blue-128-gb/p/itmd630646e719e1?pid=MOBGGHC4DTZCTEQC&lid=LSTMOBGGHC4DTZCTEQCE9XMJV&marketplace=FLIPKART&q=SAMSUNG+phones&store=tyy%2F4io&srno=s_3_53&otracker=search&otracker1=search&fm=Search&iid=77d0ac4f-6f84-43ee-a33b-11f8717b9c36.MOBGGHC4DTZCTEQC.SEARCH&ppt=sp&ppn=sp&qH=5ddb756aa1526c61\"\n",
    "details(b46,headers)"
   ]
  },
  {
   "cell_type": "code",
   "execution_count": 54,
   "id": "428fa922",
   "metadata": {},
   "outputs": [
    {
     "name": "stdout",
     "output_type": "stream",
     "text": [
      "<Response [200]>\n",
      "['SAMSUNG Galaxy']\n",
      "['(Black']\n",
      "['64MP', '8MP', '2MP', '2MP', '20MP']\n",
      "['6 GB', '128 GB']\n",
      "['6000 mAh']\n",
      "['16.26 cm']\n",
      "['3,877', '349']\n",
      "4.2\n",
      "₹14,990\n"
     ]
    }
   ],
   "source": [
    "b47=\"https://www.flipkart.com/samsung-galaxy-m32-black-128-gb/p/itm77d1ed8f6add7?pid=MOBG4NZWDZDD2DHA&lid=LSTMOBG4NZWDZDD2DHAQQJTQY&marketplace=FLIPKART&q=SAMSUNG+phones&store=tyy%2F4io&srno=s_3_52&otracker=search&otracker1=search&fm=Search&iid=77d0ac4f-6f84-43ee-a33b-11f8717b9c36.MOBG4NZWDZDD2DHA.SEARCH&ppt=sp&ppn=sp&qH=5ddb756aa1526c61\"\n",
    "details(b47,headers)"
   ]
  },
  {
   "cell_type": "code",
   "execution_count": 56,
   "id": "35ef59c8",
   "metadata": {},
   "outputs": [
    {
     "name": "stdout",
     "output_type": "stream",
     "text": [
      "<Response [200]>\n",
      "['SAMSUNG Galaxy']\n",
      "['(Light Blue']\n",
      "['64MP', '8MP', '2MP', '2MP', '20MP']\n",
      "['6 GB', '128 GB']\n",
      "['6000 mAh']\n",
      "['16.26 cm']\n",
      "['3,877', '349']\n",
      "4.2\n",
      "₹14,533\n"
     ]
    }
   ],
   "source": [
    "b48=\"https://www.flipkart.com/samsung-galaxy-m32-light-blue-128-gb/p/itmfb047e870a893?pid=MOBG4NZWMWHXYC6R&lid=LSTMOBG4NZWMWHXYC6RLCWMLF&marketplace=FLIPKART&q=SAMSUNG+phones&store=tyy%2F4io&srno=s_3_50&otracker=search&otracker1=search&fm=Search&iid=77d0ac4f-6f84-43ee-a33b-11f8717b9c36.MOBG4NZWMWHXYC6R.SEARCH&ppt=sp&ppn=sp&qH=5ddb756aa1526c61\"\n",
    "details(b48,headers)"
   ]
  },
  {
   "cell_type": "code",
   "execution_count": 57,
   "id": "f63bd3dd",
   "metadata": {},
   "outputs": [
    {
     "name": "stdout",
     "output_type": "stream",
     "text": [
      "<Response [200]>\n",
      "['SAMSUNG Galaxy', 'some Gray']\n",
      "['(Awesome Gray']\n",
      "['108MP', '12MP', '5MP', '5MP', '32MP']\n",
      "['8 GB', '128 GB']\n",
      "['5000 mAh']\n",
      "['17.02 cm']\n",
      "['1,129', '152']\n",
      "4.2\n",
      "₹41,999\n"
     ]
    }
   ],
   "source": [
    "b49=\"https://www.flipkart.com/samsung-galaxy-a73-5g-awesome-gray-128-gb/p/itme09eaea734554?pid=MOBGCS4JSYRGZPZR&lid=LSTMOBGCS4JSYRGZPZRGMZWXC&marketplace=FLIPKART&q=SAMSUNG+phones&store=tyy%2F4io&srno=s_4_96&otracker=search&otracker1=search&fm=Search&iid=07eaac30-ba46-4e8f-b7ab-50e97a276266.MOBGCS4JSYRGZPZR.SEARCH&ppt=sp&ppn=sp&qH=5ddb756aa1526c61\"\n",
    "details(b49,headers)"
   ]
  },
  {
   "cell_type": "code",
   "execution_count": 58,
   "id": "766f04e0",
   "metadata": {},
   "outputs": [
    {
     "name": "stdout",
     "output_type": "stream",
     "text": [
      "<Response [200]>\n",
      "['SAMSUNG Galaxy', 'some Mint']\n",
      "['(Awesome Mint']\n",
      "['108MP', '12MP', '5MP', '5MP', '32MP']\n",
      "['8 GB', '128 GB']\n",
      "['5000 mAh']\n",
      "['17.02 cm']\n",
      "['1,129', '152']\n",
      "4.2\n",
      "₹41,999\n"
     ]
    }
   ],
   "source": [
    "b50=\"https://www.flipkart.com/samsung-galaxy-a73-5g-awesome-mint-128-gb/p/itm0af51988c4c16?pid=MOBGCS4JZZCWVHPB&lid=LSTMOBGCS4JZZCWVHPBISBY02&marketplace=FLIPKART&q=SAMSUNG+phones&store=tyy%2F4io&srno=s_4_95&otracker=search&otracker1=search&fm=Search&iid=07eaac30-ba46-4e8f-b7ab-50e97a276266.MOBGCS4JZZCWVHPB.SEARCH&ppt=sp&ppn=sp&qH=5ddb756aa1526c61\"\n",
    "details(b50,headers)"
   ]
  },
  {
   "cell_type": "code",
   "execution_count": 59,
   "id": "f3a7cd73",
   "metadata": {},
   "outputs": [
    {
     "name": "stdout",
     "output_type": "stream",
     "text": [
      "<Response [200]>\n",
      "['SAMSUNG Galaxy']\n",
      "['(Phantom Black']\n",
      "['50MP', '12MP', '10MP', '10MP']\n",
      "['8 GB', '128 GB']\n",
      "['4500 mAh']\n",
      "['16.76 cm']\n",
      "['1,584', '177']\n",
      "4.5\n",
      "₹84,999\n"
     ]
    }
   ],
   "source": [
    "b51=\"https://www.flipkart.com/samsung-galaxy-s22-plus-5g-phantom-black-128-gb/p/itm7fd318a27dcd7?pid=MOBGGG2YUGAYANRQ&lid=LSTMOBGGG2YUGAYANRQQF31UI&marketplace=FLIPKART&q=SAMSUNG+phones&store=tyy%2F4io&srno=s_4_94&otracker=search&otracker1=search&fm=Search&iid=07eaac30-ba46-4e8f-b7ab-50e97a276266.MOBGGG2YUGAYANRQ.SEARCH&ppt=sp&ppn=sp&qH=5ddb756aa1526c61\"\n",
    "details(b51,headers)"
   ]
  },
  {
   "cell_type": "code",
   "execution_count": 60,
   "id": "f5b89878",
   "metadata": {},
   "outputs": [
    {
     "name": "stdout",
     "output_type": "stream",
     "text": [
      "<Response [200]>\n",
      "['SAMSUNG Galaxy']\n",
      "['(Blue']\n",
      "['13MP', '2MP', '2MP', '5MP']\n",
      "['3 GB', '32 GB']\n",
      "['5000 mAh']\n",
      "['16.51 cm']\n",
      "['299', '24']\n",
      "4\n",
      "₹11,499\n"
     ]
    }
   ],
   "source": [
    "b52=\"https://www.flipkart.com/samsung-galaxy-a03s-blue-32-gb/p/itmc7b85c75edb4d?pid=MOBG5NK9U5SJKJ4F&lid=LSTMOBG5NK9U5SJKJ4FO2RS52&marketplace=FLIPKART&q=SAMSUNG+phones&store=tyy%2F4io&srno=s_4_93&otracker=search&otracker1=search&fm=Search&iid=07eaac30-ba46-4e8f-b7ab-50e97a276266.MOBG5NK9U5SJKJ4F.SEARCH&ppt=sp&ppn=sp&qH=5ddb756aa1526c61\"\n",
    "details(b52,headers)"
   ]
  },
  {
   "cell_type": "code",
   "execution_count": 61,
   "id": "941ec3de",
   "metadata": {},
   "outputs": [
    {
     "name": "stdout",
     "output_type": "stream",
     "text": [
      "<Response [200]>\n",
      "['SAMSUNG GALAXY']\n",
      "['(Midnight Blue']\n",
      "['50MP']\n",
      "['4 GB', '64 GB']\n",
      "['5000 mAh']\n",
      "['16.51 cm']\n",
      "['113', '2']\n",
      "3.7\n",
      "₹14,598\n"
     ]
    }
   ],
   "source": [
    "b53=\"https://www.flipkart.com/samsung-galaxy-m13-5g-midnight-blue-64-gb/p/itma1c27c0ae3b7d?pid=MOBGGHE78SGVDVBY&lid=LSTMOBGGHE78SGVDVBYWOGTHK&marketplace=FLIPKART&q=SAMSUNG+phones&store=tyy%2F4io&srno=s_4_92&otracker=search&otracker1=search&fm=Search&iid=07eaac30-ba46-4e8f-b7ab-50e97a276266.MOBGGHE78SGVDVBY.SEARCH&ppt=sp&ppn=sp&qH=5ddb756aa1526c61\"\n",
    "details(b53,headers)"
   ]
  },
  {
   "cell_type": "code",
   "execution_count": 62,
   "id": "ce5dbde3",
   "metadata": {},
   "outputs": [
    {
     "name": "stdout",
     "output_type": "stream",
     "text": [
      "<Response [200]>\n",
      "['SAMSUNG Galaxy']\n",
      "['(Peach']\n",
      "['50MP', '8MP']\n",
      "['6 GB', '128 GB']\n",
      "['5000 mAh']\n",
      "['16.76 cm']\n",
      "['629', '45']\n",
      "4.2\n",
      "₹19,499\n"
     ]
    }
   ],
   "source": [
    "b54=\"https://www.flipkart.com/samsung-galaxy-a23-peach-128-gb/p/itm27c4b8bc78312?pid=MOBGCFVYBEVG5PQ3&lid=LSTMOBGCFVYBEVG5PQ3PFOZRS&marketplace=FLIPKART&q=SAMSUNG+phones&store=tyy%2F4io&srno=s_4_91&otracker=search&otracker1=search&fm=Search&iid=07eaac30-ba46-4e8f-b7ab-50e97a276266.MOBGCFVYBEVG5PQ3.SEARCH&ppt=sp&ppn=sp&qH=5ddb756aa1526c61\"\n",
    "details(b54,headers)"
   ]
  },
  {
   "cell_type": "code",
   "execution_count": 63,
   "id": "6e7976da",
   "metadata": {},
   "outputs": [
    {
     "name": "stdout",
     "output_type": "stream",
     "text": [
      "<Response [200]>\n",
      "['SAMSUNG Galaxy']\n",
      "['(Black']\n",
      "['50MP', '5MP', '2MP', '2MP', '8MP']\n",
      "['4 GB', '64 GB']\n",
      "['5000 mAh']\n",
      "['16.76 cm']\n",
      "['560', '42']\n",
      "4.1\n",
      "₹14,499\n"
     ]
    }
   ],
   "source": [
    "b55=\"https://www.flipkart.com/samsung-galaxy-a13-black-64-gb/p/itm04e182861fbb3?pid=MOBGCFVUAQC3JGDX&lid=LSTMOBGCFVUAQC3JGDXLY5WYC&marketplace=FLIPKART&q=SAMSUNG+phones&store=tyy%2F4io&srno=s_4_90&otracker=search&otracker1=search&fm=Search&iid=07eaac30-ba46-4e8f-b7ab-50e97a276266.MOBGCFVUAQC3JGDX.SEARCH&ppt=sp&ppn=sp&qH=5ddb756aa1526c61\"\n",
    "details(b55,headers)"
   ]
  },
  {
   "cell_type": "code",
   "execution_count": 64,
   "id": "f74a32ed",
   "metadata": {},
   "outputs": [
    {
     "name": "stdout",
     "output_type": "stream",
     "text": [
      "<Response [200]>\n",
      "['SAMSUNG Galaxy']\n",
      "['(Blue']\n",
      "['48MP', '2MP', '5MP']\n",
      "['3 GB', '32 GB']\n",
      "['5000 mAh']\n",
      "['16.51 cm']\n",
      "['367', '24']\n",
      "4.2\n",
      "₹9,999\n"
     ]
    }
   ],
   "source": [
    "b56=\"https://www.flipkart.com/samsung-galaxy-a03-blue-32-gb/p/itma048bf14e2228?pid=MOBGC2Q5UUUKCBSB&lid=LSTMOBGC2Q5UUUKCBSB0SJWK9&marketplace=FLIPKART&q=SAMSUNG+phones&store=tyy%2F4io&srno=s_4_89&otracker=search&otracker1=search&fm=Search&iid=07eaac30-ba46-4e8f-b7ab-50e97a276266.MOBGC2Q5UUUKCBSB.SEARCH&ppt=sp&ppn=sp&qH=5ddb756aa1526c61\"\n",
    "details(b56,headers)"
   ]
  },
  {
   "cell_type": "code",
   "execution_count": 65,
   "id": "0bd79bad",
   "metadata": {},
   "outputs": [
    {
     "name": "stdout",
     "output_type": "stream",
     "text": [
      "<Response [200]>\n",
      "['SAMSUNG Galaxy', 'some Black']\n",
      "['(Awesome Black']\n",
      "['64MP', '12MP', '5MP', '5MP', '32MP']\n",
      "['6 GB', '128 GB']\n",
      "['4500 mAh']\n",
      "['16.51 cm']\n",
      "['2,087', '259']\n",
      "4.3\n",
      "₹24,999\n"
     ]
    }
   ],
   "source": [
    "b57=\"https://www.flipkart.com/samsung-galaxy-a52-awesome-black-128-gb/p/itmddac817eb7196?pid=MOBGF8GPZFGZW2GD&lid=LSTMOBGF8GPZFGZW2GD9AROL2&marketplace=FLIPKART&q=SAMSUNG+phones&store=tyy%2F4io&srno=s_4_88&otracker=search&otracker1=search&fm=Search&iid=07eaac30-ba46-4e8f-b7ab-50e97a276266.MOBGF8GPZFGZW2GD.SEARCH&ppt=sp&ppn=sp&qH=5ddb756aa1526c61\"\n",
    "details(b57,headers)"
   ]
  },
  {
   "cell_type": "code",
   "execution_count": 66,
   "id": "153ef9a2",
   "metadata": {},
   "outputs": [
    {
     "name": "stdout",
     "output_type": "stream",
     "text": [
      "<Response [200]>\n",
      "['SAMSUNG Galaxy', 'some Violet']\n",
      "['(Awesome Violet']\n",
      "['64MP', '12MP', '5MP', '5MP', '32MP']\n",
      "['6 GB', '128 GB']\n",
      "['4500 mAh']\n",
      "['16.51 cm']\n",
      "['945', '118']\n",
      "4.2\n",
      "₹29,490\n"
     ]
    }
   ],
   "source": [
    "b58=\"https://www.flipkart.com/samsung-galaxy-a52s-5g-awesome-violet-128-gb/p/itm112329b8805a9?pid=MOBG6YPZG9SAWYM6&lid=LSTMOBG6YPZG9SAWYM6UOMB38&marketplace=FLIPKART&q=SAMSUNG+phones&store=tyy%2F4io&srno=s_4_87&otracker=search&otracker1=search&fm=Search&iid=07eaac30-ba46-4e8f-b7ab-50e97a276266.MOBG6YPZG9SAWYM6.SEARCH&ppt=sp&ppn=sp&qH=5ddb756aa1526c61\"\n",
    "details(b58,headers)"
   ]
  },
  {
   "cell_type": "code",
   "execution_count": 67,
   "id": "81986b34",
   "metadata": {},
   "outputs": [
    {
     "name": "stdout",
     "output_type": "stream",
     "text": [
      "<Response [200]>\n",
      "['SAMSUNG Galaxy']\n",
      "['(Gold']\n",
      "['8MP', '5MP']\n",
      "['2 GB', '16 GB', '256 GB']\n",
      "['2600 mAh']\n",
      "['12.7 cm']\n",
      "['7,665', '706']\n",
      "4.3\n",
      "₹7,450\n"
     ]
    }
   ],
   "source": [
    "b59=\"https://www.flipkart.com/samsung-galaxy-j2-2018-gold-16-gb/p/itmf5yh2sbgf3h8n?pid=MOBF47DRKFBAYVFX&lid=LSTMOBF47DRKFBAYVFXB3RPKC&marketplace=FLIPKART&q=SAMSUNG+phones&store=tyy%2F4io&srno=s_4_86&otracker=search&otracker1=search&fm=Search&iid=07eaac30-ba46-4e8f-b7ab-50e97a276266.MOBF47DRKFBAYVFX.SEARCH&ppt=sp&ppn=sp&qH=5ddb756aa1526c61\"\n",
    "details(b59,headers)"
   ]
  },
  {
   "cell_type": "code",
   "execution_count": 68,
   "id": "40dbf8bc",
   "metadata": {},
   "outputs": [
    {
     "name": "stdout",
     "output_type": "stream",
     "text": [
      "<Response [200]>\n",
      "['SAMSUNG Galaxy']\n",
      "['(Green']\n",
      "['50MP', '5MP', '2MP', '2MP', '8MP']\n",
      "['4 GB', '64 GB']\n",
      "['5000 mAh']\n",
      "['16.76 cm']\n",
      "['560', '42']\n",
      "4.1\n",
      "₹14,499\n"
     ]
    }
   ],
   "source": [
    "b60=\"https://www.flipkart.com/samsung-galaxy-a13-green-64-gb/p/itmd19d37d1716d8?pid=MOBGGR9KFTYDSTS8&lid=LSTMOBGGR9KFTYDSTS8QZ9CQC&marketplace=FLIPKART&q=SAMSUNG+phones&store=tyy%2F4io&srno=s_4_85&otracker=search&otracker1=search&fm=Search&iid=07eaac30-ba46-4e8f-b7ab-50e97a276266.MOBGGR9KFTYDSTS8.SEARCH&ppt=sp&ppn=sp&qH=5ddb756aa1526c61\"\n",
    "details(b60,headers)"
   ]
  },
  {
   "cell_type": "code",
   "execution_count": 69,
   "id": "6c0dbc74",
   "metadata": {},
   "outputs": [
    {
     "name": "stdout",
     "output_type": "stream",
     "text": [
      "<Response [200]>\n",
      "['SAMSUNG Galaxy']\n",
      "['(Phantom White']\n",
      "['50MP', '12MP', '10MP', '10MP']\n",
      "['8 GB', '128 GB']\n",
      "['3700 mAh']\n",
      "['15.49 cm']\n",
      "['35', '1']\n",
      "4.4\n",
      "₹66,990\n"
     ]
    }
   ],
   "source": [
    "b61=\"https://www.flipkart.com/samsung-galaxy-s22-5g-phantom-white-128-gb/p/itmd534bffac335f?pid=MOBGGG2YBHNYTAFZ&lid=LSTMOBGGG2YBHNYTAFZOXDZQQ&marketplace=FLIPKART&q=SAMSUNG+phones&store=tyy%2F4io&srno=s_4_84&otracker=search&otracker1=search&fm=Search&iid=07eaac30-ba46-4e8f-b7ab-50e97a276266.MOBGGG2YBHNYTAFZ.SEARCH&ppt=sp&ppn=sp&qH=5ddb756aa1526c61\"\n",
    "details(b61,headers)"
   ]
  },
  {
   "cell_type": "code",
   "execution_count": 70,
   "id": "0883a1e8",
   "metadata": {},
   "outputs": [
    {
     "name": "stdout",
     "output_type": "stream",
     "text": [
      "<Response [200]>\n",
      "['SAMSUNG Galaxy']\n",
      "['(White']\n",
      "['48MP']\n",
      "['4 GB', '64 GB']\n",
      "['6000 mAh']\n",
      "['16.51 cm']\n",
      "['16,328', '1,202']\n",
      "4.2\n",
      "₹11,689\n"
     ]
    }
   ],
   "source": [
    "b62=\"https://www.flipkart.com/samsung-galaxy-m12-white-64-gb/p/itmfc7abd82822b2?pid=MOBGFG8GWBRPHMKT&lid=LSTMOBGFG8GWBRPHMKTOCXY2D&marketplace=FLIPKART&q=SAMSUNG+phones&store=tyy%2F4io&srno=s_4_83&otracker=search&otracker1=search&fm=Search&iid=07eaac30-ba46-4e8f-b7ab-50e97a276266.MOBGFG8GWBRPHMKT.SEARCH&ppt=sp&ppn=sp&qH=5ddb756aa1526c61\"\n",
    "details(b62,headers)"
   ]
  },
  {
   "cell_type": "code",
   "execution_count": 71,
   "id": "fbc4a601",
   "metadata": {},
   "outputs": [
    {
     "name": "stdout",
     "output_type": "stream",
     "text": [
      "<Response [200]>\n",
      "['SAMSUNG Galaxy', 'some Peach']\n",
      "['(Awesome Peach']\n",
      "['64MP', '12MP', '5MP', '5MP', '32MP']\n",
      "['8 GB', '128 GB']\n",
      "['5000 mAh']\n",
      "['16.51 cm']\n",
      "['1,108', '124']\n",
      "4.1\n",
      "₹33,499\n"
     ]
    }
   ],
   "source": [
    "b63=\"https://www.flipkart.com/samsung-galaxy-a53-awesome-peach-128-gb/p/itm1a1d206ca83c6?pid=MOBGCFVYFYPRKZTE&lid=LSTMOBGCFVYFYPRKZTEYZ5VWH&marketplace=FLIPKART&q=SAMSUNG+phones&store=tyy%2F4io&srno=s_4_82&otracker=search&otracker1=search&fm=Search&iid=07eaac30-ba46-4e8f-b7ab-50e97a276266.MOBGCFVYFYPRKZTE.SEARCH&ppt=sp&ppn=sp&qH=5ddb756aa1526c61\"\n",
    "details(b63,headers)"
   ]
  },
  {
   "cell_type": "code",
   "execution_count": 72,
   "id": "72a869cb",
   "metadata": {},
   "outputs": [
    {
     "name": "stdout",
     "output_type": "stream",
     "text": [
      "<Response [200]>\n",
      "['SAMSUNG Galaxy', 'some White']\n",
      "['(Awesome White']\n",
      "['64MP', '12MP', '5MP', '5MP', '32MP']\n",
      "['8 GB', '128 GB']\n",
      "['5000 mAh']\n",
      "['16.51 cm']\n",
      "['1,108', '124']\n",
      "4.1\n",
      "₹33,499\n"
     ]
    }
   ],
   "source": [
    "b64=\"https://www.flipkart.com/samsung-galaxy-a53-awesome-white-128-gb/p/itmf91e6ba872690?pid=MOBGCFVYKWEB3TEH&lid=LSTMOBGCFVYKWEB3TEH3PYWAO&marketplace=FLIPKART&q=SAMSUNG+phones&store=tyy%2F4io&srno=s_4_81&otracker=search&otracker1=search&fm=Search&iid=07eaac30-ba46-4e8f-b7ab-50e97a276266.MOBGCFVYKWEB3TEH.SEARCH&ppt=sp&ppn=sp&qH=5ddb756aa1526c61\"\n",
    "details(b64,headers)"
   ]
  },
  {
   "cell_type": "code",
   "execution_count": 74,
   "id": "2bf463d2",
   "metadata": {},
   "outputs": [
    {
     "name": "stdout",
     "output_type": "stream",
     "text": [
      "<Response [200]>\n",
      "['SAMSUNG Galaxy']\n",
      "['(Mint']\n",
      "['48MP', '5MP', '2MP', '8MP']\n",
      "['6 GB', '128 GB']\n",
      "['5000 mAh']\n",
      "['16.76 cm']\n",
      "['2,372', '224']\n",
      "4.1\n",
      "₹17,599\n"
     ]
    }
   ],
   "source": [
    "b65=\"https://www.flipkart.com/samsung-galaxy-a22-5g-mint-128-gb/p/itm64dbc78aaecaf?pid=MOBG54F25TKAY7AH&lid=LSTMOBG54F25TKAY7AHAMZ8PK&marketplace=FLIPKART&q=SAMSUNG+phones&store=tyy%2F4io&srno=s_4_78&otracker=search&otracker1=search&fm=Search&iid=07eaac30-ba46-4e8f-b7ab-50e97a276266.MOBG54F25TKAY7AH.SEARCH&ppt=sp&ppn=sp&qH=5ddb756aa1526c61\"\n",
    "details(b65,headers)"
   ]
  },
  {
   "cell_type": "code",
   "execution_count": 75,
   "id": "af4256ce",
   "metadata": {},
   "outputs": [
    {
     "name": "stdout",
     "output_type": "stream",
     "text": [
      "<Response [200]>\n",
      "['SAMSUNG Galaxy']\n",
      "['(Black']\n",
      "['48MP']\n",
      "['6 GB', '128 GB']\n",
      "['6000 mAh']\n",
      "['16.51 cm']\n",
      "['7,461', '540']\n",
      "4.2\n",
      "₹13,989\n"
     ]
    }
   ],
   "source": [
    "b66=\"https://www.flipkart.com/samsung-galaxy-m12-black-128-gb/p/itmf91894ed28c1c?pid=MOBGFZUNGH22RJZT&lid=LSTMOBGFZUNGH22RJZTL5BNHE&marketplace=FLIPKART&q=SAMSUNG+phones&store=tyy%2F4io&srno=s_4_77&otracker=search&otracker1=search&fm=Search&iid=07eaac30-ba46-4e8f-b7ab-50e97a276266.MOBGFZUNGH22RJZT.SEARCH&ppt=sp&ppn=sp&qH=5ddb756aa1526c61\"\n",
    "details(b66,headers)"
   ]
  },
  {
   "cell_type": "code",
   "execution_count": 76,
   "id": "708c5881",
   "metadata": {},
   "outputs": [
    {
     "name": "stdout",
     "output_type": "stream",
     "text": [
      "<Response [200]>\n",
      "['SAMSUNG Galaxy', 'some Blue']\n",
      "['(Awesome Blue']\n",
      "['64MP', '8MP', '5MP', '5MP', '20MP']\n",
      "['8 GB', '128 GB']\n",
      "['5000 mAh']\n",
      "['16.26 cm']\n",
      "['249', '26']\n",
      "4.1\n",
      "₹18,989\n"
     ]
    }
   ],
   "source": [
    "b67=\"https://www.flipkart.com/samsung-galaxy-a32-awesome-blue-128-gb/p/itmc6020edc16c84?pid=MOBG8TZHYYQYGUBG&lid=LSTMOBG8TZHYYQYGUBGHARHML&marketplace=FLIPKART&q=SAMSUNG+phones&store=tyy%2F4io&srno=s_4_76&otracker=search&otracker1=search&fm=Search&iid=07eaac30-ba46-4e8f-b7ab-50e97a276266.MOBG8TZHYYQYGUBG.SEARCH&ppt=sp&ppn=sp&qH=5ddb756aa1526c61\"\n",
    "details(b67,headers)"
   ]
  },
  {
   "cell_type": "code",
   "execution_count": 77,
   "id": "b56289a6",
   "metadata": {},
   "outputs": [
    {
     "name": "stdout",
     "output_type": "stream",
     "text": [
      "<Response [200]>\n",
      "['SAMSUNG Galaxy']\n",
      "['(Black']\n",
      "['50MP', '5MP', '2MP', '2MP', '8MP']\n",
      "['6 GB', '128 GB']\n",
      "['5000 mAh']\n",
      "['16.76 cm']\n",
      "['215', '16']\n",
      "4.1\n",
      "₹16,999\n"
     ]
    }
   ],
   "source": [
    "b68=\"https://www.flipkart.com/samsung-galaxy-a13-black-128-gb/p/itmdb7bb7f87e4ce?pid=MOBGCFVUR7ZJ6ZBY&lid=LSTMOBGCFVUR7ZJ6ZBYSHRRFP&marketplace=FLIPKART&q=SAMSUNG+phones&store=tyy%2F4io&srno=s_4_75&otracker=search&otracker1=search&fm=Search&iid=07eaac30-ba46-4e8f-b7ab-50e97a276266.MOBGCFVUR7ZJ6ZBY.SEARCH&ppt=sp&ppn=sp&qH=5ddb756aa1526c61\"\n",
    "details(b68,headers)"
   ]
  },
  {
   "cell_type": "code",
   "execution_count": 78,
   "id": "91fc41a2",
   "metadata": {},
   "outputs": [
    {
     "name": "stdout",
     "output_type": "stream",
     "text": [
      "<Response [200]>\n",
      "['SAMSUNG Galaxy', 'some Black']\n",
      "['(Awesome Black']\n",
      "['64MP']\n",
      "['6 GB', '128 GB']\n",
      "['5000 mAh']\n",
      "['16.26 cm']\n",
      "['2,507', '202']\n",
      "4.1\n",
      "₹18,490\n"
     ]
    }
   ],
   "source": [
    "b69=\"https://www.flipkart.com/samsung-galaxy-a32-awesome-black-128-gb/p/itm3629d34759a4d?pid=MOBGYRZGHZZDAY5D&lid=LSTMOBGYRZGHZZDAY5DJBZJKB&marketplace=FLIPKART&q=SAMSUNG+phones&store=tyy%2F4io&srno=s_4_73&otracker=search&otracker1=search&fm=Search&iid=07eaac30-ba46-4e8f-b7ab-50e97a276266.MOBGYRZGHZZDAY5D.SEARCH&ppt=sp&ppn=sp&qH=5ddb756aa1526c61\"\n",
    "details(b69,headers)"
   ]
  },
  {
   "cell_type": "code",
   "execution_count": 79,
   "id": "4bcd1701",
   "metadata": {},
   "outputs": [
    {
     "name": "stdout",
     "output_type": "stream",
     "text": [
      "<Response [200]>\n",
      "['SAMSUNG Galaxy']\n",
      "['(Peach']\n",
      "['50MP', '5MP', '2MP', '2MP', '8MP']\n",
      "['6 GB', '128 GB']\n",
      "['5000 mAh']\n",
      "['16.76 cm']\n",
      "['215', '16']\n",
      "4.1\n",
      "₹16,999\n"
     ]
    }
   ],
   "source": [
    "b70=\"https://www.flipkart.com/samsung-galaxy-a13-peach-128-gb/p/itm511713a0f448c?pid=MOBGCFVUGHHY9CZK&lid=LSTMOBGCFVUGHHY9CZKTUXHVA&marketplace=FLIPKART&q=SAMSUNG+phones&store=tyy%2F4io&srno=s_6_121&otracker=search&otracker1=search&fm=Search&iid=3dc331e5-b290-45dc-baa9-e9df66a9cda5.MOBGCFVUGHHY9CZK.SEARCH&ppt=sp&ppn=sp&qH=5ddb756aa1526c61\"\n",
    "details(b70,headers)"
   ]
  },
  {
   "cell_type": "code",
   "execution_count": 80,
   "id": "38e5f7db",
   "metadata": {},
   "outputs": [
    {
     "name": "stdout",
     "output_type": "stream",
     "text": [
      "<Response [200]>\n",
      "['SAMSUNG GALAXY']\n",
      "['(Aqua Green']\n",
      "['50MP']\n",
      "['6 GB', '128 GB']\n",
      "['6000 mAh']\n",
      "['16.76 cm']\n",
      "['209', '15']\n",
      "4\n",
      "₹13,492\n"
     ]
    }
   ],
   "source": [
    "b71=\"https://www.flipkart.com/samsung-galaxy-m13-aqua-green-128-gb/p/itmb7cb0b79e9321?pid=MOBGGHE6ZBASZHZ6&lid=LSTMOBGGHE6ZBASZHZ6LRQVET&marketplace=FLIPKART&q=SAMSUNG+phones&store=tyy%2F4io&srno=s_6_122&otracker=search&otracker1=search&fm=Search&iid=3dc331e5-b290-45dc-baa9-e9df66a9cda5.MOBGGHE6ZBASZHZ6.SEARCH&ppt=sp&ppn=sp&qH=5ddb756aa1526c61\"\n",
    "details(b71,headers)"
   ]
  },
  {
   "cell_type": "code",
   "execution_count": 81,
   "id": "52182dc8",
   "metadata": {},
   "outputs": [
    {
     "name": "stdout",
     "output_type": "stream",
     "text": [
      "<Response [200]>\n",
      "['SAMSUNG Galaxy']\n",
      "['(Black']\n",
      "['48MP', '2MP', '5MP']\n",
      "['3 GB', '32 GB']\n",
      "['5000 mAh']\n",
      "['16.51 cm']\n",
      "['367', '24']\n",
      "4.2\n",
      "₹9,499\n"
     ]
    }
   ],
   "source": [
    "b72=\"https://www.flipkart.com/samsung-galaxy-a03-black-32-gb/p/itm372ccb52b0cd7?pid=MOBGC2Q5UHRZVTK8&lid=LSTMOBGC2Q5UHRZVTK8V8PPEH&marketplace=FLIPKART&q=SAMSUNG+phones&store=tyy%2F4io&srno=s_6_124&otracker=search&otracker1=search&fm=Search&iid=3dc331e5-b290-45dc-baa9-e9df66a9cda5.MOBGC2Q5UHRZVTK8.SEARCH&ppt=sp&ppn=sp&qH=5ddb756aa1526c61\"\n",
    "details(b72,headers)"
   ]
  },
  {
   "cell_type": "code",
   "execution_count": 82,
   "id": "0aa75dbc",
   "metadata": {},
   "outputs": [
    {
     "name": "stdout",
     "output_type": "stream",
     "text": [
      "<Response [200]>\n",
      "['SAMSUNG M21']\n",
      "['(Charcoal Black']\n",
      "['48MP']\n",
      "['4 GB', '64 GB']\n",
      "['6000 mAh']\n",
      "['16.26 cm']\n",
      "['1,358', '147']\n",
      "4.2\n",
      "₹12,889\n"
     ]
    }
   ],
   "source": [
    "b73=\"https://www.flipkart.com/samsung-m21-2021-charcoal-black-64-gb/p/itm43aae912ab8a1?pid=MOBG5J4AFQETQBGA&lid=LSTMOBG5J4AFQETQBGANQ5G2D&marketplace=FLIPKART&q=SAMSUNG+phones&store=tyy%2F4io&srno=s_6_123&otracker=search&otracker1=search&fm=Search&iid=3dc331e5-b290-45dc-baa9-e9df66a9cda5.MOBG5J4AFQETQBGA.SEARCH&ppt=sp&ppn=sp&qH=5ddb756aa1526c61\"\n",
    "details(b73,headers)"
   ]
  },
  {
   "cell_type": "code",
   "execution_count": 83,
   "id": "21401056",
   "metadata": {},
   "outputs": [
    {
     "name": "stdout",
     "output_type": "stream",
     "text": [
      "<Response [200]>\n",
      "['SAMSUNG GALAXY']\n",
      "['(Aqua Green']\n",
      "['50MP']\n",
      "['6 GB', '128 GB']\n",
      "['6000 mAh']\n",
      "['16.76 cm']\n",
      "['209', '15']\n",
      "4\n",
      "₹13,492\n"
     ]
    }
   ],
   "source": [
    "b74=\"https://www.flipkart.com/samsung-galaxy-m13-aqua-green-128-gb/p/itmb7cb0b79e9321?pid=MOBGGHE6ZBASZHZ6&lid=LSTMOBGGHE6ZBASZHZ6LRQVET&marketplace=FLIPKART&q=SAMSUNG+phones&store=tyy%2F4io&srno=s_6_122&otracker=search&otracker1=search&fm=Search&iid=3dc331e5-b290-45dc-baa9-e9df66a9cda5.MOBGGHE6ZBASZHZ6.SEARCH&ppt=sp&ppn=sp&qH=5ddb756aa1526c61\"\n",
    "details(b74,headers)"
   ]
  },
  {
   "cell_type": "code",
   "execution_count": 84,
   "id": "b10e3680",
   "metadata": {},
   "outputs": [
    {
     "name": "stdout",
     "output_type": "stream",
     "text": [
      "<Response [200]>\n",
      "['SAMSUNG Galaxy', 'some Mint']\n",
      "['(Awesome Mint']\n",
      "['108MP', '12MP', '5MP', '5MP', '32MP']\n",
      "['8 GB', '128 GB']\n",
      "['5000 mAh']\n",
      "['17.02 cm']\n",
      "['1,129', '152']\n",
      "4.2\n",
      "₹41,999\n"
     ]
    }
   ],
   "source": [
    "b75=\"https://www.flipkart.com/samsung-galaxy-a73-5g-awesome-mint-128-gb/p/itm0af51988c4c16?pid=MOBGCS4JZZCWVHPB&lid=LSTMOBGCS4JZZCWVHPBISBY02&marketplace=FLIPKART&q=SAMSUNG+phones&store=tyy%2F4io&srno=s_5_97&otracker=search&otracker1=search&fm=Search&iid=d3656e8c-65d4-4150-9b60-1adc19ff7218.MOBGCS4JZZCWVHPB.SEARCH&ppt=sp&ppn=sp&qH=5ddb756aa1526c61\"\n",
    "details(b75,headers)"
   ]
  },
  {
   "cell_type": "code",
   "execution_count": 86,
   "id": "e09a99b4",
   "metadata": {},
   "outputs": [
    {
     "name": "stdout",
     "output_type": "stream",
     "text": [
      "<Response [200]>\n",
      "['SAMSUNG Galaxy']\n",
      "['(Phantom Black']\n",
      "['50MP', '12MP', '10MP', '10MP']\n",
      "['8 GB', '256 GB']\n",
      "['3700 mAh']\n",
      "['15.49 cm']\n",
      "['35', '1']\n",
      "4.4\n",
      "₹69,990\n"
     ]
    }
   ],
   "source": [
    "b76=\"https://www.flipkart.com/samsung-galaxy-s22-5g-phantom-black-256-gb/p/itm8def2df7179fe?pid=MOBGGG2YDHGAG9HW&lid=LSTMOBGGG2YDHGAG9HWSDBSVY&marketplace=FLIPKART&q=SAMSUNG+phones&store=tyy%2F4io&srno=s_5_100&otracker=search&otracker1=search&fm=Search&iid=d3656e8c-65d4-4150-9b60-1adc19ff7218.MOBGGG2YDHGAG9HW.SEARCH&ppt=sp&ppn=sp&qH=5ddb756aa1526c61\"\n",
    "details(b76,headers)"
   ]
  },
  {
   "cell_type": "code",
   "execution_count": 87,
   "id": "a008b4a0",
   "metadata": {},
   "outputs": [
    {
     "name": "stdout",
     "output_type": "stream",
     "text": [
      "<Response [200]>\n",
      "['SAMSUNG Galaxy']\n",
      "['(Blue']\n",
      "['50MP', '5MP', '2MP', '2MP', '8MP']\n",
      "['6 GB', '128 GB']\n",
      "['5000 mAh']\n",
      "['16.76 cm']\n",
      "['215', '16']\n",
      "4.1\n",
      "₹16,999\n"
     ]
    }
   ],
   "source": [
    "b77=\"https://www.flipkart.com/samsung-galaxy-a13-blue-128-gb/p/itmd718d190823b4?pid=MOBGCFVUCQGRSAZ3&lid=LSTMOBGCFVUCQGRSAZ3JYSOWP&marketplace=FLIPKART&q=SAMSUNG+phones&store=tyy%2F4io&srno=s_5_101&otracker=search&otracker1=search&fm=Search&iid=d3656e8c-65d4-4150-9b60-1adc19ff7218.MOBGCFVUCQGRSAZ3.SEARCH&ppt=sp&ppn=sp&qH=5ddb756aa1526c61\"\n",
    "details(b77,headers)"
   ]
  },
  {
   "cell_type": "code",
   "execution_count": 88,
   "id": "2a7ebc6b",
   "metadata": {},
   "outputs": [
    {
     "name": "stdout",
     "output_type": "stream",
     "text": [
      "<Response [200]>\n",
      "['SAMSUNG Galaxy']\n",
      "['(Peach']\n",
      "['50MP', '5MP', '2MP', '2MP', '8MP']\n",
      "['4 GB', '64 GB']\n",
      "['5000 mAh']\n",
      "['16.76 cm']\n",
      "['560', '42']\n",
      "4.1\n",
      "₹14,499\n"
     ]
    }
   ],
   "source": [
    "b78=\"https://www.flipkart.com/samsung-galaxy-a13-peach-64-gb/p/itm4129518aecc13?pid=MOBGCFVUMBSH9NJG&lid=LSTMOBGCFVUMBSH9NJGGGHYSZ&marketplace=FLIPKART&q=SAMSUNG+phones&store=tyy%2F4io&srno=s_5_104&otracker=search&otracker1=search&fm=Search&iid=d3656e8c-65d4-4150-9b60-1adc19ff7218.MOBGCFVUMBSH9NJG.SEARCH&ppt=sp&ppn=sp&qH=5ddb756aa1526c61\"\n",
    "details(b78,headers)"
   ]
  },
  {
   "cell_type": "code",
   "execution_count": 90,
   "id": "593f36d5",
   "metadata": {},
   "outputs": [
    {
     "name": "stdout",
     "output_type": "stream",
     "text": [
      "<Response [200]>\n",
      "['SAMSUNG M53']\n",
      "['(Emerald Brown']\n",
      "['108MP']\n",
      "['6 GB', '128 GB']\n",
      "['5000 mAh']\n",
      "['17.02 cm']\n",
      "['230', '24']\n",
      "4.2\n",
      "₹25,500\n"
     ]
    }
   ],
   "source": [
    "b79=\"https://www.flipkart.com/samsung-m53-5g-emerald-brown-128-gb/p/itm921d57c384fa1?pid=MOBGFZJGQYQRAVZN&lid=LSTMOBGFZJGQYQRAVZNYV4LRH&marketplace=FLIPKART&q=SAMSUNG+phones&store=tyy%2F4io&srno=s_5_105&otracker=search&otracker1=search&fm=Search&iid=d3656e8c-65d4-4150-9b60-1adc19ff7218.MOBGFZJGQYQRAVZN.SEARCH&ppt=sp&ppn=sp&qH=5ddb756aa1526c61\"\n",
    "details(b79,headers)"
   ]
  },
  {
   "cell_type": "code",
   "execution_count": 91,
   "id": "b9fc205f",
   "metadata": {},
   "outputs": [
    {
     "name": "stdout",
     "output_type": "stream",
     "text": [
      "<Response [200]>\n",
      "['SAMSUNG Galaxy', 'ser Green']\n",
      "['(Laser Green']\n",
      "['64MP', '12MP', '5MP', '5MP', '32MP']\n",
      "['6 GB', '128 GB']\n",
      "['7000 mAh']\n",
      "['17.02 cm']\n",
      "['91,417', '11,118']\n",
      "4.2\n",
      "₹29,999\n"
     ]
    }
   ],
   "source": [
    "b80=\"https://www.flipkart.com/samsung-galaxy-f62-laser-green-128-gb/p/itm3659bc5ac2601?pid=MOBFZWSUEMTZDC7U&lid=LSTMOBFZWSUEMTZDC7UMPUYEK&marketplace=FLIPKART&q=SAMSUNG+phones&store=tyy%2F4io&srno=s_5_106&otracker=search&otracker1=search&fm=Search&iid=d3656e8c-65d4-4150-9b60-1adc19ff7218.MOBFZWSUEMTZDC7U.SEARCH&ppt=sp&ppn=sp&qH=5ddb756aa1526c61\"\n",
    "details(b80,headers)"
   ]
  },
  {
   "cell_type": "code",
   "execution_count": 92,
   "id": "05962455",
   "metadata": {},
   "outputs": [
    {
     "name": "stdout",
     "output_type": "stream",
     "text": [
      "['64 GB', '512 GB', '128 GB', '128 GB', '128 GB', '128 GB', '128 GB', '64 GB', '64 GB', '64 GB', '128 GB', '128 GB', '128 GB', '128 GB', '64 GB', '128 GB', '128 GB', '128 GB', '128 GB', '128 GB', '128 GB', '64 GB', '128 GB', '128 GB', '128 GB', '128 GB', '128 GB', '128 GB', '128 GB', '128 GB', '64 GB', '128 GB', '128 GB', '128 GB', '128 GB', '128 GB', '128 GB', '128 GB', '128 GB', '128 GB', '32 GB', '512 GB', '128 GB', '64 GB', '128 GB', '512 GB', '128 GB', '128 GB', '128 GB', '128 GB', '128 GB', '128 GB', '32 GB', '64 GB', '128 GB', '64 GB', '32 GB', '128 GB', '128 GB', '256 GB', '64 GB', '128 GB', '64 GB', '128 GB', '128 GB', '128 GB', '128 GB', '128 GB', '128 GB', '128 GB', '128 GB', '128 GB', '32 GB', '64 GB', '128 GB', '128 GB', '256 GB', '128 GB', '64 GB', '128 GB', '128 GB']\n",
      "['48MP', '48MP', '50MP', '64MP', '50MP', '12MP', '50MP', '50MP', '50MP', '50MP', '50MP', '50MP', '50MP', '48MP', '48MP', '48MP', '50MP', '12MP', '50MP', '12MP', '50MP', '50MP', '50MP', '50MP', '12MP', '50MP', '50MP', '50MP', '64MP', '50MP', '50MP', '50MP', '48MP', '48MP', '50MP', '64MP', '48MP', '50MP', '50MP', '48MP', '13MP', '48MP', '108MP', '48MP', '48MP', '48MP', '50MP', '64MP', '64MP', '108MP', '108MP', '50MP', '13MP', '50MP', '50MP', '50MP', '48MP', '64MP', '64MP', '8MP', '50MP', '50MP', '48MP', '64MP', '64MP', '48MP', '48MP', '64MP', '50MP', '64MP', '50MP', '50MP', '48MP', '48MP', '50MP', '108MP', '50MP', '50MP', '50MP', '108MP', '64MP']\n",
      "['13MP', '8MP', '50MP', '8MP', '50MP', '32MP', '50MP', '8MP', '8MP', '8MP', '8MP', '8MP', '8MP', '13MP', '13MP', '13MP', '8MP', '32MP', '8MP', '32MP', '50MP', '50MP', '50MP', '50MP', '32MP', '50MP', '50MP', '50MP', '20MP', '8MP', '50MP', '8MP', '13MP', '8MP', '8MP', '32MP', '13MP', '10MP', '8MP', '13MP', '5MP', '8MP', '108MP', '5MP', '13MP', '8MP', '50MP', '20MP', '20MP', '32MP', '32MP', '10MP', '5MP', '50MP', '8MP', '8MP', '5MP', '32MP', '32MP', '5MP', '8MP', '10MP', '48MP', '32MP', '32MP', '8MP', '48MP', '20MP', '8MP', '64MP', '8MP', '50MP', '5MP', '48MP', '50MP', '32MP', '10MP', '8MP', '8MP', '108MP', '32MP']\n",
      "['[', '(Denim Blue', '[', '(Sea Green', '[', '(Midnight Blue', '[', '(Matte Aqua', '[', '(Deep Ocean', '[', '(Lavender', '[', '(Mystique Green', '[', '(Nightsky Green', '[', '(Sunrise Copper', '[', '(Waterfall Blue', '[', '(Copper Blush', '[', '(Forest Green', '[', '(Aqua Blue', '[', '(Denim Blue', '[', '(Denim Black', '[', '(Denim Black', '[', '(Blue', '[', '(White', '[', '(Copper Blush', '[', '(Olive', '[', '(Mystique Green', '[', '(Stardust Brown', '[', '(Emarld Brown', '[', '(Mystique Green', '[', '(Graphite', '[', '(Deep Ocean', '[', '(Emarld Brown', '[', '(Mystique Green', '[', '(Awesome Black', '[', '(Forest Green', '[', '(Midnight Blue', '[', '(Nightsky Green', '[', '(Sky Blue', '[', '(Blue', '[', '(Black', '[', '(Awesome Blue', '[', '(Awesome Black', '[', '(Phantom White', '[', '(Black', '[', '(Slate Black', '[', '(White', '[', '(Celestial Black', '[', '(Mystique Green', '[', '(Black', '[', '(Awesome Blue', '[', '(Sky Blue', '[', '(Midnight Blue', '[', '(Black', '[', '(Light Blue', '[', '(Awesome Gray', '[', '(Awesome Mint', '[', '(Phantom Black', '[', '(Blue', '[', '(Midnight Blue', '[', '(Peach', '[', '(Black', '[', '(Blue', '[', '(Awesome Black', '[', '(Awesome Violet', '[', '(Gold', '[', '(Green', '[', '(Phantom White', '[', '(White', '[', '(Awesome Peach', '[', '(Awesome White', '[', '(Mint', '[', '(Black', '[', '(Awesome Blue', '[', '(Black', '[', '(Awesome Black', '[', '(Peach', '[', '(Aqua Green', '[', '(Black', '[', '(Charcoal Black', '[', '(Aqua Green', '[', '(Awesome Mint', '[', '(Phantom Black', '[', '(Blue', '[', '(Peach', '[', '(Emerald Brown', '[', '(Laser Green']\n",
      "['SAMSUNG Galaxy', 'SAMSUNG Galaxy', 'SAMSUNG GALAXY', 'SAMSUNG Galaxy', 'SAMSUNG Galaxy', 'SAMSUNG Galaxy', 'SAMSUNG Galaxy', 'SAMSUNG Galaxy', 'SAMSUNG Galaxy', 'SAMSUNG Galaxy', 'SAMSUNG Galaxy', 'SAMSUNG Galaxy', 'SAMSUNG Galaxy', 'SAMSUNG Galaxy', 'SAMSUNG Galaxy', 'SAMSUNG Galaxy', 'SAMSUNG Galaxy', 'SAMSUNG Galaxy', 'SAMSUNG Galaxy', 'SAMSUNG Galaxy', 'SAMSUNG Galaxy', 'SAMSUNG GALAXY', 'SAMSUNG Galaxy', 'SAMSUNG Galaxy', 'SAMSUNG Galaxy', 'SAMSUNG Galaxy', 'SAMSUNG Galaxy', 'SAMSUNG Galaxy', 'SAMSUNG Galaxy', 'SAMSUNG Galaxy', 'SAMSUNG GALAXY', 'SAMSUNG Galaxy', 'SAMSUNG Galaxy', 'SAMSUNG Galaxy', 'SAMSUNG Galaxy', 'SAMSUNG Galaxy', 'SAMSUNG Galaxy', 'SAMSUNG Galaxy', 'SAMSUNG Galaxy', 'SAMSUNG M32', 'SAMSUNG Galaxy', 'SAMSUNG Galaxy', 'SAMSUNG M53', 'SAMSUNG Galaxy', 'SAMSUNG Galaxy', 'SAMSUNG Galaxy', 'SAMSUNG GALAXY', 'SAMSUNG Galaxy', 'SAMSUNG Galaxy', 'SAMSUNG Galaxy', 'SAMSUNG Galaxy', 'SAMSUNG Galaxy', 'SAMSUNG Galaxy', 'SAMSUNG GALAXY', 'SAMSUNG Galaxy', 'SAMSUNG Galaxy', 'SAMSUNG Galaxy', 'SAMSUNG Galaxy', 'SAMSUNG Galaxy', 'SAMSUNG Galaxy', 'SAMSUNG Galaxy', 'SAMSUNG Galaxy', 'SAMSUNG Galaxy', 'SAMSUNG Galaxy', 'SAMSUNG Galaxy', 'SAMSUNG Galaxy', 'SAMSUNG Galaxy', 'SAMSUNG Galaxy', 'SAMSUNG Galaxy', 'SAMSUNG Galaxy', 'SAMSUNG Galaxy', 'SAMSUNG GALAXY', 'SAMSUNG Galaxy', 'SAMSUNG M21', 'SAMSUNG GALAXY', 'SAMSUNG Galaxy', 'SAMSUNG Galaxy', 'SAMSUNG Galaxy', 'SAMSUNG Galaxy', 'SAMSUNG M53', 'SAMSUNG Galaxy']\n",
      "['4 GB', '4 GB', '6 GB', '8 GB', '6 GB', '8 GB', '6 GB', '4 GB', '4 GB', '4 GB', '6 GB', '6 GB', '6 GB', '6 GB', '4 GB', '6 GB', '8 GB', '8 GB', '4 GB', '8 GB', '8 GB', '4 GB', '8 GB', '6 GB', '8 GB', '6 GB', '6 GB', '6 GB', '8 GB', '4 GB', '4 GB', '4 GB', '8 GB', '6 GB', '8 GB', '8 GB', '6 GB', '8 GB', '6 GB', '6 GB', '3 GB', '4 GB', '6 GB', '4 GB', '6 GB', '4 GB', '6 GB', '6 GB', '6 GB', '8 GB', '8 GB', '8 GB', '3 GB', '4 GB', '6 GB', '4 GB', '3 GB', '6 GB', '6 GB', '2 GB', '4 GB', '8 GB', '4 GB', '8 GB', '8 GB', '6 GB', '6 GB', '8 GB', '6 GB', '6 GB', '6 GB', '6 GB', '3 GB', '4 GB', '6 GB', '8 GB', '8 GB', '6 GB', '4 GB', '6 GB', '6 GB']\n",
      "['6000 mAh', '6000 mAh', '6000 mAh', '5000 mAh', '6000 mAh', '4500 mAh', '6000 mAh', '6000 mAh', '6000 mAh', '6000 mAh', '5000 mAh', '5000 mAh', '5000 mAh', '6000 mAh', '6000 mAh', '6000 mAh', '5000 mAh', '4500 mAh', '5000 mAh', '4500 mAh', '6000 mAh', '6000 mAh', '6000 mAh', '6000 mAh', '4500 mAh', '6000 mAh', '6000 mAh', '6000 mAh', '5000 mAh', '5000 mAh', '6000 mAh', '6000 mAh', '5000 mAh', '5000 mAh', '5000 mAh', '5000 mAh', '5000 mAh', '4500 mAh', '5000 mAh', '5000 mAh', '5000 mAh', '6000 mAh', '5000 mAh', '5000 mAh', '5000 mAh', '6000 mAh', '6000 mAh', '6000 mAh', '6000 mAh', '5000 mAh', '5000 mAh', '4500 mAh', '5000 mAh', '5000 mAh', '5000 mAh', '5000 mAh', '5000 mAh', '4500 mAh', '4500 mAh', '2600 mAh', '5000 mAh', '3700 mAh', '6000 mAh', '5000 mAh', '5000 mAh', '5000 mAh', '6000 mAh', '5000 mAh', '5000 mAh', '5000 mAh', '5000 mAh', '6000 mAh', '5000 mAh', '6000 mAh', '6000 mAh', '5000 mAh', '3700 mAh', '5000 mAh', '5000 mAh', '5000 mAh', '7000 mAh']\n",
      "['16.26 cm', '16.55 cm', '16.76 cm', '16.76 cm', '16.76 cm', '16.26 cm', '16.74 cm', '16.76 cm', '16.76 cm', '16.76 cm', '16.76 cm', '16.76 cm', '16.76 cm', '16.26 cm', '16.26 cm', '16.26 cm', '16.76 cm', '16.26 cm', '16.76 cm', '16.26 cm', '16.76 cm', '16.76 cm', '16.76 cm', '16.76 cm', '16.26 cm', '16.76 cm', '16.76 cm', '16.74 cm', '16.26 cm', '16.76 cm', '16.76 cm', '16.76 cm', '16.51 cm', '16.51 cm', '16.76 cm', '16.51 cm', '16.26 cm', '16.76 cm', '16.76 cm', '16.51 cm', '16.51 cm', '16.55 cm', '17.02 cm', '16.51 cm', '16.26 cm', '16.55 cm', '16.76 cm', '16.26 cm', '16.26 cm', '17.02 cm', '17.02 cm', '16.76 cm', '16.51 cm', '16.51 cm', '16.76 cm', '16.76 cm', '16.51 cm', '16.51 cm', '16.51 cm', '12.7 cm', '16.76 cm', '15.49 cm', '16.51 cm', '16.51 cm', '16.51 cm', '16.76 cm', '16.51 cm', '16.26 cm', '16.76 cm', '16.26 cm', '16.76 cm', '16.76 cm', '16.51 cm', '16.26 cm', '16.76 cm', '17.02 cm', '15.49 cm', '16.76 cm', '16.76 cm', '17.02 cm', '17.02 cm']\n",
      "['₹11,999', '₹11,499', '₹13,690', '₹22,999', '₹16,373', '₹54,999', '₹16,959', '₹11,999', '₹11,999', '₹11,999', '₹18,499', '₹18,499', '₹18,499', '₹13,999', '₹11,999', '₹13,999', '₹20,999', '₹54,999', '₹17,499', '₹54,999', '₹19,449', '₹10,790', '₹19,980', '₹16,585', '₹54,999', '₹16,992', '₹16,649', '₹16,959', '₹18,989', '₹17,499', '₹10,480', '₹12,999', '₹22,989', '₹13,700', '₹20,999', '₹35,999', '₹28,499', '₹84,999', '₹19,499', '₹18,989', '₹11,499', '₹11,499', '₹25,445', '₹11,499', '₹28,499', '₹11,499', '₹13,490', '₹14,990', '₹14,533', '₹41,999', '₹41,999', '₹84,999', '₹11,499', '₹14,598', '₹19,499', '₹14,499', '₹9,999', '₹24,999', '₹29,490', '₹7,450', '₹14,499', '₹66,990', '₹11,689', '₹33,499', '₹33,499', '₹17,599', '₹13,989', '₹18,989', '₹16,999', '₹18,490', '₹16,999', '₹13,492', '₹9,499', '₹12,889', '₹13,492', '₹41,999', '₹69,990', '₹16,999', '₹14,499', '₹25,500', '₹29,999']\n",
      "['4.3', '4.3', '4', '4.1', '4.2', '4.4', '4.2', '4.4', '4.4', '4.4', '4.3', '4.3', '4.3', '4.3', '4.3', '4.3', '4.3', '4.4', '4.2', '4.4', '4.2', '4.2', '4.2', '4.2', '4.4', '4.2', '4.2', '4.2', '4.1', '4.2', '4.2', '4.4', '4.2', '4.1', '4.3', '4.1', '4.1', '4.5', '4.2', '4.1', '4', '4.3', '4.2', '4.2', '4.1', '4.3', '4', '4.2', '4.2', '4.2', '4.2', '4.5', '4', '3.7', '4.2', '4.1', '4.2', '4.3', '4.2', '4.3', '4.1', '4.4', '4.2', '4.1', '4.1', '4.1', '4.2', '4.1', '4.1', '4.1', '4.1', '4', '4.2', '4.2', '4', '4.2', '4.4', '4.1', '4.1', '4.2', '4.2']\n",
      "['97,409', '2,95', '209', '5,228', '6,001', '25,114', '6,001', '91,390', '91,390', '91,390', '1,20', '1,20', '1,20', '61,765', '97,409', '61,765', '367', '25,114', '29,004', '25,114', '555', '977', '555', '6,001', '25,114', '6,001', '6,001', '6,001', '249', '29,004', '977', '91,390', '1,266', '1,271', '367', '1,108', '1,230', '1,584', '629', '3,762', '299', '2,95', '230', '151', '1,230', '2,95', '209', '3,877', '3,877', '1,129', '1,129', '1,584', '299', '113', '629', '560', '367', '2,087', '945', '7,665', '560', '35', '16,328', '1,108', '1,108', '2,372', '7,461', '249', '215', '2,507', '215', '209', '367', '1,358', '209', '1,129', '35', '215', '560', '230', '91,417']\n"
     ]
    }
   ],
   "source": [
    "print(storage)\n",
    "print(camera_px)\n",
    "print(self_px)\n",
    "print(colour)\n",
    "print(name)\n",
    "print(ram)\n",
    "# print(tech)\n",
    "print(battery)\n",
    "print(display)\n",
    "print(price)\n",
    "# print(os_sys)\n",
    "print(star_rate)\n",
    "print(user_rate)"
   ]
  },
  {
   "cell_type": "code",
   "execution_count": 93,
   "id": "49de60a3",
   "metadata": {},
   "outputs": [
    {
     "data": {
      "text/plain": [
       "list"
      ]
     },
     "execution_count": 93,
     "metadata": {},
     "output_type": "execute_result"
    }
   ],
   "source": [
    "type(colour)"
   ]
  },
  {
   "cell_type": "code",
   "execution_count": 94,
   "id": "3e2fd8e7",
   "metadata": {},
   "outputs": [],
   "source": [
    "colour=[i for i in colour if i!='[']"
   ]
  },
  {
   "cell_type": "code",
   "execution_count": 95,
   "id": "5ec3123d",
   "metadata": {},
   "outputs": [
    {
     "data": {
      "text/plain": [
       "81"
      ]
     },
     "execution_count": 95,
     "metadata": {},
     "output_type": "execute_result"
    }
   ],
   "source": [
    "len(colour)"
   ]
  },
  {
   "cell_type": "code",
   "execution_count": 96,
   "id": "f04bb6ca",
   "metadata": {},
   "outputs": [],
   "source": [
    "camera_px=[i.replace(\"MP\",\"\") for i in camera_px]"
   ]
  },
  {
   "cell_type": "code",
   "execution_count": 97,
   "id": "5cb7d6c9",
   "metadata": {},
   "outputs": [],
   "source": [
    "self_px=[i.replace(\"MP\",\"\") for i in self_px]"
   ]
  },
  {
   "cell_type": "code",
   "execution_count": 98,
   "id": "cfb85234",
   "metadata": {},
   "outputs": [],
   "source": [
    "storage=[i.replace(\"GB\",\" \") for i in storage]"
   ]
  },
  {
   "cell_type": "code",
   "execution_count": 99,
   "id": "c9876251",
   "metadata": {},
   "outputs": [],
   "source": [
    "ram=[i.replace(\"GB\",\" \") for i in ram]"
   ]
  },
  {
   "cell_type": "code",
   "execution_count": 100,
   "id": "842b9972",
   "metadata": {},
   "outputs": [],
   "source": [
    "battery=[i.replace(\"mAH\",\"\") for i in battery]\n",
    "battery=[i.replace(\"mAh\",\"\") for i in battery]"
   ]
  },
  {
   "cell_type": "code",
   "execution_count": 101,
   "id": "217479c1",
   "metadata": {},
   "outputs": [],
   "source": [
    "colour=[i.replace(\"(\",\"\") for i in colour]\n"
   ]
  },
  {
   "cell_type": "code",
   "execution_count": 102,
   "id": "c81f0368",
   "metadata": {},
   "outputs": [],
   "source": [
    "price=[i.replace(\"₹\",\"\") for i in price]\n",
    "price=[i.replace(\",\",\"\") for i in price]"
   ]
  },
  {
   "cell_type": "code",
   "execution_count": 103,
   "id": "c5d0418e",
   "metadata": {},
   "outputs": [],
   "source": [
    "display=[i.replace(\" cm\",\"\") for i in display]"
   ]
  },
  {
   "cell_type": "code",
   "execution_count": 104,
   "id": "4be87772",
   "metadata": {},
   "outputs": [],
   "source": [
    "user_rate=[i.replace(\",\",\"\") for i in user_rate]"
   ]
  },
  {
   "cell_type": "code",
   "execution_count": 105,
   "id": "5c9c1062",
   "metadata": {},
   "outputs": [],
   "source": [
    "storage=[float(i) for i in storage]\n",
    "camera_px=[int(i) for i in camera_px]\n",
    "self_px=[int(i) for i in self_px]\n",
    "ram=[float(i) for i in ram]\n",
    "# tech=[float(i) for i in tech]\n",
    "battery=[float(i) for i in battery]\n",
    "display=[float(i) for i in display]\n",
    "price=[float(i) for i in price]\n",
    "star_rate=[float(i) for i in star_rate]\n",
    "user_rate=[float(i) for i in user_rate]"
   ]
  },
  {
   "cell_type": "code",
   "execution_count": 106,
   "id": "acdfc259",
   "metadata": {},
   "outputs": [
    {
     "data": {
      "text/plain": [
       "81"
      ]
     },
     "execution_count": 106,
     "metadata": {},
     "output_type": "execute_result"
    }
   ],
   "source": [
    "len(colour)"
   ]
  },
  {
   "cell_type": "code",
   "execution_count": 107,
   "id": "34bcb5f7",
   "metadata": {},
   "outputs": [],
   "source": [
    "r1=pd.DataFrame({\"Name\":name,\"Colour\":colour,\"Storage\":storage,\"Battery\":battery,\n",
    "               \"Camera_Pixel\":camera_px,\"Selfie_cam_pixel\":self_px,\"Display_size\":display,\n",
    "                \"RAM\":ram,\n",
    "               \"Star_ratings\":star_rate,\"Users_rated\":user_rate,\"Price\":price})"
   ]
  },
  {
   "cell_type": "code",
   "execution_count": 108,
   "id": "0ae0404c",
   "metadata": {},
   "outputs": [
    {
     "data": {
      "text/html": [
       "<div>\n",
       "<style scoped>\n",
       "    .dataframe tbody tr th:only-of-type {\n",
       "        vertical-align: middle;\n",
       "    }\n",
       "\n",
       "    .dataframe tbody tr th {\n",
       "        vertical-align: top;\n",
       "    }\n",
       "\n",
       "    .dataframe thead th {\n",
       "        text-align: right;\n",
       "    }\n",
       "</style>\n",
       "<table border=\"1\" class=\"dataframe\">\n",
       "  <thead>\n",
       "    <tr style=\"text-align: right;\">\n",
       "      <th></th>\n",
       "      <th>Name</th>\n",
       "      <th>Colour</th>\n",
       "      <th>Storage</th>\n",
       "      <th>Battery</th>\n",
       "      <th>Camera_Pixel</th>\n",
       "      <th>Selfie_cam_pixel</th>\n",
       "      <th>Display_size</th>\n",
       "      <th>RAM</th>\n",
       "      <th>Star_ratings</th>\n",
       "      <th>Users_rated</th>\n",
       "      <th>Price</th>\n",
       "    </tr>\n",
       "  </thead>\n",
       "  <tbody>\n",
       "    <tr>\n",
       "      <th>0</th>\n",
       "      <td>SAMSUNG Galaxy</td>\n",
       "      <td>Denim Blue</td>\n",
       "      <td>64.0</td>\n",
       "      <td>6000.0</td>\n",
       "      <td>48</td>\n",
       "      <td>13</td>\n",
       "      <td>16.26</td>\n",
       "      <td>4.0</td>\n",
       "      <td>4.3</td>\n",
       "      <td>97409.0</td>\n",
       "      <td>11999.0</td>\n",
       "    </tr>\n",
       "    <tr>\n",
       "      <th>1</th>\n",
       "      <td>SAMSUNG Galaxy</td>\n",
       "      <td>Sea Green</td>\n",
       "      <td>512.0</td>\n",
       "      <td>6000.0</td>\n",
       "      <td>48</td>\n",
       "      <td>8</td>\n",
       "      <td>16.55</td>\n",
       "      <td>4.0</td>\n",
       "      <td>4.3</td>\n",
       "      <td>295.0</td>\n",
       "      <td>11499.0</td>\n",
       "    </tr>\n",
       "    <tr>\n",
       "      <th>2</th>\n",
       "      <td>SAMSUNG GALAXY</td>\n",
       "      <td>Midnight Blue</td>\n",
       "      <td>128.0</td>\n",
       "      <td>6000.0</td>\n",
       "      <td>50</td>\n",
       "      <td>50</td>\n",
       "      <td>16.76</td>\n",
       "      <td>6.0</td>\n",
       "      <td>4.0</td>\n",
       "      <td>209.0</td>\n",
       "      <td>13690.0</td>\n",
       "    </tr>\n",
       "    <tr>\n",
       "      <th>3</th>\n",
       "      <td>SAMSUNG Galaxy</td>\n",
       "      <td>Matte Aqua</td>\n",
       "      <td>128.0</td>\n",
       "      <td>5000.0</td>\n",
       "      <td>64</td>\n",
       "      <td>8</td>\n",
       "      <td>16.76</td>\n",
       "      <td>8.0</td>\n",
       "      <td>4.1</td>\n",
       "      <td>5228.0</td>\n",
       "      <td>22999.0</td>\n",
       "    </tr>\n",
       "    <tr>\n",
       "      <th>4</th>\n",
       "      <td>SAMSUNG Galaxy</td>\n",
       "      <td>Deep Ocean</td>\n",
       "      <td>128.0</td>\n",
       "      <td>6000.0</td>\n",
       "      <td>50</td>\n",
       "      <td>50</td>\n",
       "      <td>16.76</td>\n",
       "      <td>6.0</td>\n",
       "      <td>4.2</td>\n",
       "      <td>6001.0</td>\n",
       "      <td>16373.0</td>\n",
       "    </tr>\n",
       "    <tr>\n",
       "      <th>5</th>\n",
       "      <td>SAMSUNG Galaxy</td>\n",
       "      <td>Lavender</td>\n",
       "      <td>128.0</td>\n",
       "      <td>4500.0</td>\n",
       "      <td>12</td>\n",
       "      <td>32</td>\n",
       "      <td>16.26</td>\n",
       "      <td>8.0</td>\n",
       "      <td>4.4</td>\n",
       "      <td>25114.0</td>\n",
       "      <td>54999.0</td>\n",
       "    </tr>\n",
       "    <tr>\n",
       "      <th>6</th>\n",
       "      <td>SAMSUNG Galaxy</td>\n",
       "      <td>Mystique Green</td>\n",
       "      <td>128.0</td>\n",
       "      <td>6000.0</td>\n",
       "      <td>50</td>\n",
       "      <td>50</td>\n",
       "      <td>16.74</td>\n",
       "      <td>6.0</td>\n",
       "      <td>4.2</td>\n",
       "      <td>6001.0</td>\n",
       "      <td>16959.0</td>\n",
       "    </tr>\n",
       "    <tr>\n",
       "      <th>7</th>\n",
       "      <td>SAMSUNG Galaxy</td>\n",
       "      <td>Nightsky Green</td>\n",
       "      <td>64.0</td>\n",
       "      <td>6000.0</td>\n",
       "      <td>50</td>\n",
       "      <td>8</td>\n",
       "      <td>16.76</td>\n",
       "      <td>4.0</td>\n",
       "      <td>4.4</td>\n",
       "      <td>91390.0</td>\n",
       "      <td>11999.0</td>\n",
       "    </tr>\n",
       "    <tr>\n",
       "      <th>8</th>\n",
       "      <td>SAMSUNG Galaxy</td>\n",
       "      <td>Sunrise Copper</td>\n",
       "      <td>64.0</td>\n",
       "      <td>6000.0</td>\n",
       "      <td>50</td>\n",
       "      <td>8</td>\n",
       "      <td>16.76</td>\n",
       "      <td>4.0</td>\n",
       "      <td>4.4</td>\n",
       "      <td>91390.0</td>\n",
       "      <td>11999.0</td>\n",
       "    </tr>\n",
       "    <tr>\n",
       "      <th>9</th>\n",
       "      <td>SAMSUNG Galaxy</td>\n",
       "      <td>Waterfall Blue</td>\n",
       "      <td>64.0</td>\n",
       "      <td>6000.0</td>\n",
       "      <td>50</td>\n",
       "      <td>8</td>\n",
       "      <td>16.76</td>\n",
       "      <td>4.0</td>\n",
       "      <td>4.4</td>\n",
       "      <td>91390.0</td>\n",
       "      <td>11999.0</td>\n",
       "    </tr>\n",
       "    <tr>\n",
       "      <th>10</th>\n",
       "      <td>SAMSUNG Galaxy</td>\n",
       "      <td>Copper Blush</td>\n",
       "      <td>128.0</td>\n",
       "      <td>5000.0</td>\n",
       "      <td>50</td>\n",
       "      <td>8</td>\n",
       "      <td>16.76</td>\n",
       "      <td>6.0</td>\n",
       "      <td>4.3</td>\n",
       "      <td>120.0</td>\n",
       "      <td>18499.0</td>\n",
       "    </tr>\n",
       "    <tr>\n",
       "      <th>11</th>\n",
       "      <td>SAMSUNG Galaxy</td>\n",
       "      <td>Forest Green</td>\n",
       "      <td>128.0</td>\n",
       "      <td>5000.0</td>\n",
       "      <td>50</td>\n",
       "      <td>8</td>\n",
       "      <td>16.76</td>\n",
       "      <td>6.0</td>\n",
       "      <td>4.3</td>\n",
       "      <td>120.0</td>\n",
       "      <td>18499.0</td>\n",
       "    </tr>\n",
       "    <tr>\n",
       "      <th>12</th>\n",
       "      <td>SAMSUNG Galaxy</td>\n",
       "      <td>Aqua Blue</td>\n",
       "      <td>128.0</td>\n",
       "      <td>5000.0</td>\n",
       "      <td>50</td>\n",
       "      <td>8</td>\n",
       "      <td>16.76</td>\n",
       "      <td>6.0</td>\n",
       "      <td>4.3</td>\n",
       "      <td>120.0</td>\n",
       "      <td>18499.0</td>\n",
       "    </tr>\n",
       "    <tr>\n",
       "      <th>13</th>\n",
       "      <td>SAMSUNG Galaxy</td>\n",
       "      <td>Denim Blue</td>\n",
       "      <td>128.0</td>\n",
       "      <td>6000.0</td>\n",
       "      <td>48</td>\n",
       "      <td>13</td>\n",
       "      <td>16.26</td>\n",
       "      <td>6.0</td>\n",
       "      <td>4.3</td>\n",
       "      <td>61765.0</td>\n",
       "      <td>13999.0</td>\n",
       "    </tr>\n",
       "    <tr>\n",
       "      <th>14</th>\n",
       "      <td>SAMSUNG Galaxy</td>\n",
       "      <td>Denim Black</td>\n",
       "      <td>64.0</td>\n",
       "      <td>6000.0</td>\n",
       "      <td>48</td>\n",
       "      <td>13</td>\n",
       "      <td>16.26</td>\n",
       "      <td>4.0</td>\n",
       "      <td>4.3</td>\n",
       "      <td>97409.0</td>\n",
       "      <td>11999.0</td>\n",
       "    </tr>\n",
       "    <tr>\n",
       "      <th>15</th>\n",
       "      <td>SAMSUNG Galaxy</td>\n",
       "      <td>Denim Black</td>\n",
       "      <td>128.0</td>\n",
       "      <td>6000.0</td>\n",
       "      <td>48</td>\n",
       "      <td>13</td>\n",
       "      <td>16.26</td>\n",
       "      <td>6.0</td>\n",
       "      <td>4.3</td>\n",
       "      <td>61765.0</td>\n",
       "      <td>13999.0</td>\n",
       "    </tr>\n",
       "    <tr>\n",
       "      <th>16</th>\n",
       "      <td>SAMSUNG Galaxy</td>\n",
       "      <td>Blue</td>\n",
       "      <td>128.0</td>\n",
       "      <td>5000.0</td>\n",
       "      <td>50</td>\n",
       "      <td>8</td>\n",
       "      <td>16.76</td>\n",
       "      <td>8.0</td>\n",
       "      <td>4.3</td>\n",
       "      <td>367.0</td>\n",
       "      <td>20999.0</td>\n",
       "    </tr>\n",
       "    <tr>\n",
       "      <th>17</th>\n",
       "      <td>SAMSUNG Galaxy</td>\n",
       "      <td>White</td>\n",
       "      <td>128.0</td>\n",
       "      <td>4500.0</td>\n",
       "      <td>12</td>\n",
       "      <td>32</td>\n",
       "      <td>16.26</td>\n",
       "      <td>8.0</td>\n",
       "      <td>4.4</td>\n",
       "      <td>25114.0</td>\n",
       "      <td>54999.0</td>\n",
       "    </tr>\n",
       "    <tr>\n",
       "      <th>18</th>\n",
       "      <td>SAMSUNG Galaxy</td>\n",
       "      <td>Copper Blush</td>\n",
       "      <td>128.0</td>\n",
       "      <td>5000.0</td>\n",
       "      <td>50</td>\n",
       "      <td>8</td>\n",
       "      <td>16.76</td>\n",
       "      <td>4.0</td>\n",
       "      <td>4.2</td>\n",
       "      <td>29004.0</td>\n",
       "      <td>17499.0</td>\n",
       "    </tr>\n",
       "    <tr>\n",
       "      <th>19</th>\n",
       "      <td>SAMSUNG Galaxy</td>\n",
       "      <td>Olive</td>\n",
       "      <td>128.0</td>\n",
       "      <td>4500.0</td>\n",
       "      <td>12</td>\n",
       "      <td>32</td>\n",
       "      <td>16.26</td>\n",
       "      <td>8.0</td>\n",
       "      <td>4.4</td>\n",
       "      <td>25114.0</td>\n",
       "      <td>54999.0</td>\n",
       "    </tr>\n",
       "    <tr>\n",
       "      <th>20</th>\n",
       "      <td>SAMSUNG Galaxy</td>\n",
       "      <td>Mystique Green</td>\n",
       "      <td>128.0</td>\n",
       "      <td>6000.0</td>\n",
       "      <td>50</td>\n",
       "      <td>50</td>\n",
       "      <td>16.76</td>\n",
       "      <td>8.0</td>\n",
       "      <td>4.2</td>\n",
       "      <td>555.0</td>\n",
       "      <td>19449.0</td>\n",
       "    </tr>\n",
       "    <tr>\n",
       "      <th>21</th>\n",
       "      <td>SAMSUNG GALAXY</td>\n",
       "      <td>Stardust Brown</td>\n",
       "      <td>64.0</td>\n",
       "      <td>6000.0</td>\n",
       "      <td>50</td>\n",
       "      <td>50</td>\n",
       "      <td>16.76</td>\n",
       "      <td>4.0</td>\n",
       "      <td>4.2</td>\n",
       "      <td>977.0</td>\n",
       "      <td>10790.0</td>\n",
       "    </tr>\n",
       "    <tr>\n",
       "      <th>22</th>\n",
       "      <td>SAMSUNG Galaxy</td>\n",
       "      <td>Emarld Brown</td>\n",
       "      <td>128.0</td>\n",
       "      <td>6000.0</td>\n",
       "      <td>50</td>\n",
       "      <td>50</td>\n",
       "      <td>16.76</td>\n",
       "      <td>8.0</td>\n",
       "      <td>4.2</td>\n",
       "      <td>555.0</td>\n",
       "      <td>19980.0</td>\n",
       "    </tr>\n",
       "    <tr>\n",
       "      <th>23</th>\n",
       "      <td>SAMSUNG Galaxy</td>\n",
       "      <td>Mystique Green</td>\n",
       "      <td>128.0</td>\n",
       "      <td>6000.0</td>\n",
       "      <td>50</td>\n",
       "      <td>50</td>\n",
       "      <td>16.76</td>\n",
       "      <td>6.0</td>\n",
       "      <td>4.2</td>\n",
       "      <td>6001.0</td>\n",
       "      <td>16585.0</td>\n",
       "    </tr>\n",
       "    <tr>\n",
       "      <th>24</th>\n",
       "      <td>SAMSUNG Galaxy</td>\n",
       "      <td>Graphite</td>\n",
       "      <td>128.0</td>\n",
       "      <td>4500.0</td>\n",
       "      <td>12</td>\n",
       "      <td>32</td>\n",
       "      <td>16.26</td>\n",
       "      <td>8.0</td>\n",
       "      <td>4.4</td>\n",
       "      <td>25114.0</td>\n",
       "      <td>54999.0</td>\n",
       "    </tr>\n",
       "    <tr>\n",
       "      <th>25</th>\n",
       "      <td>SAMSUNG Galaxy</td>\n",
       "      <td>Deep Ocean</td>\n",
       "      <td>128.0</td>\n",
       "      <td>6000.0</td>\n",
       "      <td>50</td>\n",
       "      <td>50</td>\n",
       "      <td>16.76</td>\n",
       "      <td>6.0</td>\n",
       "      <td>4.2</td>\n",
       "      <td>6001.0</td>\n",
       "      <td>16992.0</td>\n",
       "    </tr>\n",
       "    <tr>\n",
       "      <th>26</th>\n",
       "      <td>SAMSUNG Galaxy</td>\n",
       "      <td>Emarld Brown</td>\n",
       "      <td>128.0</td>\n",
       "      <td>6000.0</td>\n",
       "      <td>50</td>\n",
       "      <td>50</td>\n",
       "      <td>16.76</td>\n",
       "      <td>6.0</td>\n",
       "      <td>4.2</td>\n",
       "      <td>6001.0</td>\n",
       "      <td>16649.0</td>\n",
       "    </tr>\n",
       "    <tr>\n",
       "      <th>27</th>\n",
       "      <td>SAMSUNG Galaxy</td>\n",
       "      <td>Mystique Green</td>\n",
       "      <td>128.0</td>\n",
       "      <td>6000.0</td>\n",
       "      <td>50</td>\n",
       "      <td>50</td>\n",
       "      <td>16.74</td>\n",
       "      <td>6.0</td>\n",
       "      <td>4.2</td>\n",
       "      <td>6001.0</td>\n",
       "      <td>16959.0</td>\n",
       "    </tr>\n",
       "    <tr>\n",
       "      <th>28</th>\n",
       "      <td>SAMSUNG Galaxy</td>\n",
       "      <td>Awesome Black</td>\n",
       "      <td>128.0</td>\n",
       "      <td>5000.0</td>\n",
       "      <td>64</td>\n",
       "      <td>20</td>\n",
       "      <td>16.26</td>\n",
       "      <td>8.0</td>\n",
       "      <td>4.1</td>\n",
       "      <td>249.0</td>\n",
       "      <td>18989.0</td>\n",
       "    </tr>\n",
       "    <tr>\n",
       "      <th>29</th>\n",
       "      <td>SAMSUNG Galaxy</td>\n",
       "      <td>Forest Green</td>\n",
       "      <td>128.0</td>\n",
       "      <td>5000.0</td>\n",
       "      <td>50</td>\n",
       "      <td>8</td>\n",
       "      <td>16.76</td>\n",
       "      <td>4.0</td>\n",
       "      <td>4.2</td>\n",
       "      <td>29004.0</td>\n",
       "      <td>17499.0</td>\n",
       "    </tr>\n",
       "    <tr>\n",
       "      <th>30</th>\n",
       "      <td>SAMSUNG GALAXY</td>\n",
       "      <td>Midnight Blue</td>\n",
       "      <td>64.0</td>\n",
       "      <td>6000.0</td>\n",
       "      <td>50</td>\n",
       "      <td>50</td>\n",
       "      <td>16.76</td>\n",
       "      <td>4.0</td>\n",
       "      <td>4.2</td>\n",
       "      <td>977.0</td>\n",
       "      <td>10480.0</td>\n",
       "    </tr>\n",
       "    <tr>\n",
       "      <th>31</th>\n",
       "      <td>SAMSUNG Galaxy</td>\n",
       "      <td>Nightsky Green</td>\n",
       "      <td>128.0</td>\n",
       "      <td>6000.0</td>\n",
       "      <td>50</td>\n",
       "      <td>8</td>\n",
       "      <td>16.76</td>\n",
       "      <td>4.0</td>\n",
       "      <td>4.4</td>\n",
       "      <td>91390.0</td>\n",
       "      <td>12999.0</td>\n",
       "    </tr>\n",
       "    <tr>\n",
       "      <th>32</th>\n",
       "      <td>SAMSUNG Galaxy</td>\n",
       "      <td>Sky Blue</td>\n",
       "      <td>128.0</td>\n",
       "      <td>5000.0</td>\n",
       "      <td>48</td>\n",
       "      <td>13</td>\n",
       "      <td>16.51</td>\n",
       "      <td>8.0</td>\n",
       "      <td>4.2</td>\n",
       "      <td>1266.0</td>\n",
       "      <td>22989.0</td>\n",
       "    </tr>\n",
       "    <tr>\n",
       "      <th>33</th>\n",
       "      <td>SAMSUNG Galaxy</td>\n",
       "      <td>Blue</td>\n",
       "      <td>128.0</td>\n",
       "      <td>5000.0</td>\n",
       "      <td>48</td>\n",
       "      <td>8</td>\n",
       "      <td>16.51</td>\n",
       "      <td>6.0</td>\n",
       "      <td>4.1</td>\n",
       "      <td>1271.0</td>\n",
       "      <td>13700.0</td>\n",
       "    </tr>\n",
       "    <tr>\n",
       "      <th>34</th>\n",
       "      <td>SAMSUNG Galaxy</td>\n",
       "      <td>Black</td>\n",
       "      <td>128.0</td>\n",
       "      <td>5000.0</td>\n",
       "      <td>50</td>\n",
       "      <td>8</td>\n",
       "      <td>16.76</td>\n",
       "      <td>8.0</td>\n",
       "      <td>4.3</td>\n",
       "      <td>367.0</td>\n",
       "      <td>20999.0</td>\n",
       "    </tr>\n",
       "    <tr>\n",
       "      <th>35</th>\n",
       "      <td>SAMSUNG Galaxy</td>\n",
       "      <td>Awesome Blue</td>\n",
       "      <td>128.0</td>\n",
       "      <td>5000.0</td>\n",
       "      <td>64</td>\n",
       "      <td>32</td>\n",
       "      <td>16.51</td>\n",
       "      <td>8.0</td>\n",
       "      <td>4.1</td>\n",
       "      <td>1108.0</td>\n",
       "      <td>35999.0</td>\n",
       "    </tr>\n",
       "    <tr>\n",
       "      <th>36</th>\n",
       "      <td>SAMSUNG Galaxy</td>\n",
       "      <td>Awesome Black</td>\n",
       "      <td>128.0</td>\n",
       "      <td>5000.0</td>\n",
       "      <td>48</td>\n",
       "      <td>13</td>\n",
       "      <td>16.26</td>\n",
       "      <td>6.0</td>\n",
       "      <td>4.1</td>\n",
       "      <td>1230.0</td>\n",
       "      <td>28499.0</td>\n",
       "    </tr>\n",
       "    <tr>\n",
       "      <th>37</th>\n",
       "      <td>SAMSUNG Galaxy</td>\n",
       "      <td>Phantom White</td>\n",
       "      <td>128.0</td>\n",
       "      <td>4500.0</td>\n",
       "      <td>50</td>\n",
       "      <td>10</td>\n",
       "      <td>16.76</td>\n",
       "      <td>8.0</td>\n",
       "      <td>4.5</td>\n",
       "      <td>1584.0</td>\n",
       "      <td>84999.0</td>\n",
       "    </tr>\n",
       "    <tr>\n",
       "      <th>38</th>\n",
       "      <td>SAMSUNG Galaxy</td>\n",
       "      <td>Black</td>\n",
       "      <td>128.0</td>\n",
       "      <td>5000.0</td>\n",
       "      <td>50</td>\n",
       "      <td>8</td>\n",
       "      <td>16.76</td>\n",
       "      <td>6.0</td>\n",
       "      <td>4.2</td>\n",
       "      <td>629.0</td>\n",
       "      <td>19499.0</td>\n",
       "    </tr>\n",
       "    <tr>\n",
       "      <th>39</th>\n",
       "      <td>SAMSUNG M32</td>\n",
       "      <td>Slate Black</td>\n",
       "      <td>128.0</td>\n",
       "      <td>5000.0</td>\n",
       "      <td>48</td>\n",
       "      <td>13</td>\n",
       "      <td>16.51</td>\n",
       "      <td>6.0</td>\n",
       "      <td>4.1</td>\n",
       "      <td>3762.0</td>\n",
       "      <td>18989.0</td>\n",
       "    </tr>\n",
       "    <tr>\n",
       "      <th>40</th>\n",
       "      <td>SAMSUNG Galaxy</td>\n",
       "      <td>White</td>\n",
       "      <td>32.0</td>\n",
       "      <td>5000.0</td>\n",
       "      <td>13</td>\n",
       "      <td>5</td>\n",
       "      <td>16.51</td>\n",
       "      <td>3.0</td>\n",
       "      <td>4.0</td>\n",
       "      <td>299.0</td>\n",
       "      <td>11499.0</td>\n",
       "    </tr>\n",
       "    <tr>\n",
       "      <th>41</th>\n",
       "      <td>SAMSUNG Galaxy</td>\n",
       "      <td>Celestial Black</td>\n",
       "      <td>512.0</td>\n",
       "      <td>6000.0</td>\n",
       "      <td>48</td>\n",
       "      <td>8</td>\n",
       "      <td>16.55</td>\n",
       "      <td>4.0</td>\n",
       "      <td>4.3</td>\n",
       "      <td>295.0</td>\n",
       "      <td>11499.0</td>\n",
       "    </tr>\n",
       "    <tr>\n",
       "      <th>42</th>\n",
       "      <td>SAMSUNG M53</td>\n",
       "      <td>Mystique Green</td>\n",
       "      <td>128.0</td>\n",
       "      <td>5000.0</td>\n",
       "      <td>108</td>\n",
       "      <td>108</td>\n",
       "      <td>17.02</td>\n",
       "      <td>6.0</td>\n",
       "      <td>4.2</td>\n",
       "      <td>230.0</td>\n",
       "      <td>25445.0</td>\n",
       "    </tr>\n",
       "    <tr>\n",
       "      <th>43</th>\n",
       "      <td>SAMSUNG Galaxy</td>\n",
       "      <td>Black</td>\n",
       "      <td>64.0</td>\n",
       "      <td>5000.0</td>\n",
       "      <td>48</td>\n",
       "      <td>5</td>\n",
       "      <td>16.51</td>\n",
       "      <td>4.0</td>\n",
       "      <td>4.2</td>\n",
       "      <td>151.0</td>\n",
       "      <td>11499.0</td>\n",
       "    </tr>\n",
       "    <tr>\n",
       "      <th>44</th>\n",
       "      <td>SAMSUNG Galaxy</td>\n",
       "      <td>Awesome Blue</td>\n",
       "      <td>128.0</td>\n",
       "      <td>5000.0</td>\n",
       "      <td>48</td>\n",
       "      <td>13</td>\n",
       "      <td>16.26</td>\n",
       "      <td>6.0</td>\n",
       "      <td>4.1</td>\n",
       "      <td>1230.0</td>\n",
       "      <td>28499.0</td>\n",
       "    </tr>\n",
       "    <tr>\n",
       "      <th>45</th>\n",
       "      <td>SAMSUNG Galaxy</td>\n",
       "      <td>Sky Blue</td>\n",
       "      <td>512.0</td>\n",
       "      <td>6000.0</td>\n",
       "      <td>48</td>\n",
       "      <td>8</td>\n",
       "      <td>16.55</td>\n",
       "      <td>4.0</td>\n",
       "      <td>4.3</td>\n",
       "      <td>295.0</td>\n",
       "      <td>11499.0</td>\n",
       "    </tr>\n",
       "    <tr>\n",
       "      <th>46</th>\n",
       "      <td>SAMSUNG GALAXY</td>\n",
       "      <td>Midnight Blue</td>\n",
       "      <td>128.0</td>\n",
       "      <td>6000.0</td>\n",
       "      <td>50</td>\n",
       "      <td>50</td>\n",
       "      <td>16.76</td>\n",
       "      <td>6.0</td>\n",
       "      <td>4.0</td>\n",
       "      <td>209.0</td>\n",
       "      <td>13490.0</td>\n",
       "    </tr>\n",
       "    <tr>\n",
       "      <th>47</th>\n",
       "      <td>SAMSUNG Galaxy</td>\n",
       "      <td>Black</td>\n",
       "      <td>128.0</td>\n",
       "      <td>6000.0</td>\n",
       "      <td>64</td>\n",
       "      <td>20</td>\n",
       "      <td>16.26</td>\n",
       "      <td>6.0</td>\n",
       "      <td>4.2</td>\n",
       "      <td>3877.0</td>\n",
       "      <td>14990.0</td>\n",
       "    </tr>\n",
       "    <tr>\n",
       "      <th>48</th>\n",
       "      <td>SAMSUNG Galaxy</td>\n",
       "      <td>Light Blue</td>\n",
       "      <td>128.0</td>\n",
       "      <td>6000.0</td>\n",
       "      <td>64</td>\n",
       "      <td>20</td>\n",
       "      <td>16.26</td>\n",
       "      <td>6.0</td>\n",
       "      <td>4.2</td>\n",
       "      <td>3877.0</td>\n",
       "      <td>14533.0</td>\n",
       "    </tr>\n",
       "    <tr>\n",
       "      <th>49</th>\n",
       "      <td>SAMSUNG Galaxy</td>\n",
       "      <td>Awesome Gray</td>\n",
       "      <td>128.0</td>\n",
       "      <td>5000.0</td>\n",
       "      <td>108</td>\n",
       "      <td>32</td>\n",
       "      <td>17.02</td>\n",
       "      <td>8.0</td>\n",
       "      <td>4.2</td>\n",
       "      <td>1129.0</td>\n",
       "      <td>41999.0</td>\n",
       "    </tr>\n",
       "  </tbody>\n",
       "</table>\n",
       "</div>"
      ],
      "text/plain": [
       "              Name           Colour  Storage  Battery  Camera_Pixel  \\\n",
       "0   SAMSUNG Galaxy       Denim Blue     64.0   6000.0            48   \n",
       "1   SAMSUNG Galaxy        Sea Green    512.0   6000.0            48   \n",
       "2   SAMSUNG GALAXY    Midnight Blue    128.0   6000.0            50   \n",
       "3   SAMSUNG Galaxy       Matte Aqua    128.0   5000.0            64   \n",
       "4   SAMSUNG Galaxy       Deep Ocean    128.0   6000.0            50   \n",
       "5   SAMSUNG Galaxy         Lavender    128.0   4500.0            12   \n",
       "6   SAMSUNG Galaxy   Mystique Green    128.0   6000.0            50   \n",
       "7   SAMSUNG Galaxy   Nightsky Green     64.0   6000.0            50   \n",
       "8   SAMSUNG Galaxy   Sunrise Copper     64.0   6000.0            50   \n",
       "9   SAMSUNG Galaxy   Waterfall Blue     64.0   6000.0            50   \n",
       "10  SAMSUNG Galaxy     Copper Blush    128.0   5000.0            50   \n",
       "11  SAMSUNG Galaxy     Forest Green    128.0   5000.0            50   \n",
       "12  SAMSUNG Galaxy        Aqua Blue    128.0   5000.0            50   \n",
       "13  SAMSUNG Galaxy       Denim Blue    128.0   6000.0            48   \n",
       "14  SAMSUNG Galaxy      Denim Black     64.0   6000.0            48   \n",
       "15  SAMSUNG Galaxy      Denim Black    128.0   6000.0            48   \n",
       "16  SAMSUNG Galaxy             Blue    128.0   5000.0            50   \n",
       "17  SAMSUNG Galaxy            White    128.0   4500.0            12   \n",
       "18  SAMSUNG Galaxy     Copper Blush    128.0   5000.0            50   \n",
       "19  SAMSUNG Galaxy            Olive    128.0   4500.0            12   \n",
       "20  SAMSUNG Galaxy   Mystique Green    128.0   6000.0            50   \n",
       "21  SAMSUNG GALAXY   Stardust Brown     64.0   6000.0            50   \n",
       "22  SAMSUNG Galaxy     Emarld Brown    128.0   6000.0            50   \n",
       "23  SAMSUNG Galaxy   Mystique Green    128.0   6000.0            50   \n",
       "24  SAMSUNG Galaxy         Graphite    128.0   4500.0            12   \n",
       "25  SAMSUNG Galaxy       Deep Ocean    128.0   6000.0            50   \n",
       "26  SAMSUNG Galaxy     Emarld Brown    128.0   6000.0            50   \n",
       "27  SAMSUNG Galaxy   Mystique Green    128.0   6000.0            50   \n",
       "28  SAMSUNG Galaxy    Awesome Black    128.0   5000.0            64   \n",
       "29  SAMSUNG Galaxy     Forest Green    128.0   5000.0            50   \n",
       "30  SAMSUNG GALAXY    Midnight Blue     64.0   6000.0            50   \n",
       "31  SAMSUNG Galaxy   Nightsky Green    128.0   6000.0            50   \n",
       "32  SAMSUNG Galaxy         Sky Blue    128.0   5000.0            48   \n",
       "33  SAMSUNG Galaxy             Blue    128.0   5000.0            48   \n",
       "34  SAMSUNG Galaxy            Black    128.0   5000.0            50   \n",
       "35  SAMSUNG Galaxy     Awesome Blue    128.0   5000.0            64   \n",
       "36  SAMSUNG Galaxy    Awesome Black    128.0   5000.0            48   \n",
       "37  SAMSUNG Galaxy    Phantom White    128.0   4500.0            50   \n",
       "38  SAMSUNG Galaxy            Black    128.0   5000.0            50   \n",
       "39     SAMSUNG M32      Slate Black    128.0   5000.0            48   \n",
       "40  SAMSUNG Galaxy            White     32.0   5000.0            13   \n",
       "41  SAMSUNG Galaxy  Celestial Black    512.0   6000.0            48   \n",
       "42     SAMSUNG M53   Mystique Green    128.0   5000.0           108   \n",
       "43  SAMSUNG Galaxy            Black     64.0   5000.0            48   \n",
       "44  SAMSUNG Galaxy     Awesome Blue    128.0   5000.0            48   \n",
       "45  SAMSUNG Galaxy         Sky Blue    512.0   6000.0            48   \n",
       "46  SAMSUNG GALAXY    Midnight Blue    128.0   6000.0            50   \n",
       "47  SAMSUNG Galaxy            Black    128.0   6000.0            64   \n",
       "48  SAMSUNG Galaxy       Light Blue    128.0   6000.0            64   \n",
       "49  SAMSUNG Galaxy     Awesome Gray    128.0   5000.0           108   \n",
       "\n",
       "    Selfie_cam_pixel  Display_size  RAM  Star_ratings  Users_rated    Price  \n",
       "0                 13         16.26  4.0           4.3      97409.0  11999.0  \n",
       "1                  8         16.55  4.0           4.3        295.0  11499.0  \n",
       "2                 50         16.76  6.0           4.0        209.0  13690.0  \n",
       "3                  8         16.76  8.0           4.1       5228.0  22999.0  \n",
       "4                 50         16.76  6.0           4.2       6001.0  16373.0  \n",
       "5                 32         16.26  8.0           4.4      25114.0  54999.0  \n",
       "6                 50         16.74  6.0           4.2       6001.0  16959.0  \n",
       "7                  8         16.76  4.0           4.4      91390.0  11999.0  \n",
       "8                  8         16.76  4.0           4.4      91390.0  11999.0  \n",
       "9                  8         16.76  4.0           4.4      91390.0  11999.0  \n",
       "10                 8         16.76  6.0           4.3        120.0  18499.0  \n",
       "11                 8         16.76  6.0           4.3        120.0  18499.0  \n",
       "12                 8         16.76  6.0           4.3        120.0  18499.0  \n",
       "13                13         16.26  6.0           4.3      61765.0  13999.0  \n",
       "14                13         16.26  4.0           4.3      97409.0  11999.0  \n",
       "15                13         16.26  6.0           4.3      61765.0  13999.0  \n",
       "16                 8         16.76  8.0           4.3        367.0  20999.0  \n",
       "17                32         16.26  8.0           4.4      25114.0  54999.0  \n",
       "18                 8         16.76  4.0           4.2      29004.0  17499.0  \n",
       "19                32         16.26  8.0           4.4      25114.0  54999.0  \n",
       "20                50         16.76  8.0           4.2        555.0  19449.0  \n",
       "21                50         16.76  4.0           4.2        977.0  10790.0  \n",
       "22                50         16.76  8.0           4.2        555.0  19980.0  \n",
       "23                50         16.76  6.0           4.2       6001.0  16585.0  \n",
       "24                32         16.26  8.0           4.4      25114.0  54999.0  \n",
       "25                50         16.76  6.0           4.2       6001.0  16992.0  \n",
       "26                50         16.76  6.0           4.2       6001.0  16649.0  \n",
       "27                50         16.74  6.0           4.2       6001.0  16959.0  \n",
       "28                20         16.26  8.0           4.1        249.0  18989.0  \n",
       "29                 8         16.76  4.0           4.2      29004.0  17499.0  \n",
       "30                50         16.76  4.0           4.2        977.0  10480.0  \n",
       "31                 8         16.76  4.0           4.4      91390.0  12999.0  \n",
       "32                13         16.51  8.0           4.2       1266.0  22989.0  \n",
       "33                 8         16.51  6.0           4.1       1271.0  13700.0  \n",
       "34                 8         16.76  8.0           4.3        367.0  20999.0  \n",
       "35                32         16.51  8.0           4.1       1108.0  35999.0  \n",
       "36                13         16.26  6.0           4.1       1230.0  28499.0  \n",
       "37                10         16.76  8.0           4.5       1584.0  84999.0  \n",
       "38                 8         16.76  6.0           4.2        629.0  19499.0  \n",
       "39                13         16.51  6.0           4.1       3762.0  18989.0  \n",
       "40                 5         16.51  3.0           4.0        299.0  11499.0  \n",
       "41                 8         16.55  4.0           4.3        295.0  11499.0  \n",
       "42               108         17.02  6.0           4.2        230.0  25445.0  \n",
       "43                 5         16.51  4.0           4.2        151.0  11499.0  \n",
       "44                13         16.26  6.0           4.1       1230.0  28499.0  \n",
       "45                 8         16.55  4.0           4.3        295.0  11499.0  \n",
       "46                50         16.76  6.0           4.0        209.0  13490.0  \n",
       "47                20         16.26  6.0           4.2       3877.0  14990.0  \n",
       "48                20         16.26  6.0           4.2       3877.0  14533.0  \n",
       "49                32         17.02  8.0           4.2       1129.0  41999.0  "
      ]
     },
     "execution_count": 108,
     "metadata": {},
     "output_type": "execute_result"
    }
   ],
   "source": [
    "r1.head(50)"
   ]
  },
  {
   "cell_type": "code",
   "execution_count": 109,
   "id": "036ebec0",
   "metadata": {},
   "outputs": [
    {
     "data": {
      "text/html": [
       "<div>\n",
       "<style scoped>\n",
       "    .dataframe tbody tr th:only-of-type {\n",
       "        vertical-align: middle;\n",
       "    }\n",
       "\n",
       "    .dataframe tbody tr th {\n",
       "        vertical-align: top;\n",
       "    }\n",
       "\n",
       "    .dataframe thead th {\n",
       "        text-align: right;\n",
       "    }\n",
       "</style>\n",
       "<table border=\"1\" class=\"dataframe\">\n",
       "  <thead>\n",
       "    <tr style=\"text-align: right;\">\n",
       "      <th></th>\n",
       "      <th>Name</th>\n",
       "      <th>Colour</th>\n",
       "      <th>Storage</th>\n",
       "      <th>Battery</th>\n",
       "      <th>Camera_Pixel</th>\n",
       "      <th>Selfie_cam_pixel</th>\n",
       "      <th>Display_size</th>\n",
       "      <th>RAM</th>\n",
       "      <th>Star_ratings</th>\n",
       "      <th>Users_rated</th>\n",
       "      <th>Price</th>\n",
       "    </tr>\n",
       "  </thead>\n",
       "  <tbody>\n",
       "    <tr>\n",
       "      <th>31</th>\n",
       "      <td>SAMSUNG Galaxy</td>\n",
       "      <td>Nightsky Green</td>\n",
       "      <td>128.0</td>\n",
       "      <td>6000.0</td>\n",
       "      <td>50</td>\n",
       "      <td>8</td>\n",
       "      <td>16.76</td>\n",
       "      <td>4.0</td>\n",
       "      <td>4.4</td>\n",
       "      <td>91390.0</td>\n",
       "      <td>12999.0</td>\n",
       "    </tr>\n",
       "    <tr>\n",
       "      <th>32</th>\n",
       "      <td>SAMSUNG Galaxy</td>\n",
       "      <td>Sky Blue</td>\n",
       "      <td>128.0</td>\n",
       "      <td>5000.0</td>\n",
       "      <td>48</td>\n",
       "      <td>13</td>\n",
       "      <td>16.51</td>\n",
       "      <td>8.0</td>\n",
       "      <td>4.2</td>\n",
       "      <td>1266.0</td>\n",
       "      <td>22989.0</td>\n",
       "    </tr>\n",
       "    <tr>\n",
       "      <th>33</th>\n",
       "      <td>SAMSUNG Galaxy</td>\n",
       "      <td>Blue</td>\n",
       "      <td>128.0</td>\n",
       "      <td>5000.0</td>\n",
       "      <td>48</td>\n",
       "      <td>8</td>\n",
       "      <td>16.51</td>\n",
       "      <td>6.0</td>\n",
       "      <td>4.1</td>\n",
       "      <td>1271.0</td>\n",
       "      <td>13700.0</td>\n",
       "    </tr>\n",
       "    <tr>\n",
       "      <th>34</th>\n",
       "      <td>SAMSUNG Galaxy</td>\n",
       "      <td>Black</td>\n",
       "      <td>128.0</td>\n",
       "      <td>5000.0</td>\n",
       "      <td>50</td>\n",
       "      <td>8</td>\n",
       "      <td>16.76</td>\n",
       "      <td>8.0</td>\n",
       "      <td>4.3</td>\n",
       "      <td>367.0</td>\n",
       "      <td>20999.0</td>\n",
       "    </tr>\n",
       "    <tr>\n",
       "      <th>35</th>\n",
       "      <td>SAMSUNG Galaxy</td>\n",
       "      <td>Awesome Blue</td>\n",
       "      <td>128.0</td>\n",
       "      <td>5000.0</td>\n",
       "      <td>64</td>\n",
       "      <td>32</td>\n",
       "      <td>16.51</td>\n",
       "      <td>8.0</td>\n",
       "      <td>4.1</td>\n",
       "      <td>1108.0</td>\n",
       "      <td>35999.0</td>\n",
       "    </tr>\n",
       "    <tr>\n",
       "      <th>36</th>\n",
       "      <td>SAMSUNG Galaxy</td>\n",
       "      <td>Awesome Black</td>\n",
       "      <td>128.0</td>\n",
       "      <td>5000.0</td>\n",
       "      <td>48</td>\n",
       "      <td>13</td>\n",
       "      <td>16.26</td>\n",
       "      <td>6.0</td>\n",
       "      <td>4.1</td>\n",
       "      <td>1230.0</td>\n",
       "      <td>28499.0</td>\n",
       "    </tr>\n",
       "    <tr>\n",
       "      <th>37</th>\n",
       "      <td>SAMSUNG Galaxy</td>\n",
       "      <td>Phantom White</td>\n",
       "      <td>128.0</td>\n",
       "      <td>4500.0</td>\n",
       "      <td>50</td>\n",
       "      <td>10</td>\n",
       "      <td>16.76</td>\n",
       "      <td>8.0</td>\n",
       "      <td>4.5</td>\n",
       "      <td>1584.0</td>\n",
       "      <td>84999.0</td>\n",
       "    </tr>\n",
       "    <tr>\n",
       "      <th>38</th>\n",
       "      <td>SAMSUNG Galaxy</td>\n",
       "      <td>Black</td>\n",
       "      <td>128.0</td>\n",
       "      <td>5000.0</td>\n",
       "      <td>50</td>\n",
       "      <td>8</td>\n",
       "      <td>16.76</td>\n",
       "      <td>6.0</td>\n",
       "      <td>4.2</td>\n",
       "      <td>629.0</td>\n",
       "      <td>19499.0</td>\n",
       "    </tr>\n",
       "    <tr>\n",
       "      <th>39</th>\n",
       "      <td>SAMSUNG M32</td>\n",
       "      <td>Slate Black</td>\n",
       "      <td>128.0</td>\n",
       "      <td>5000.0</td>\n",
       "      <td>48</td>\n",
       "      <td>13</td>\n",
       "      <td>16.51</td>\n",
       "      <td>6.0</td>\n",
       "      <td>4.1</td>\n",
       "      <td>3762.0</td>\n",
       "      <td>18989.0</td>\n",
       "    </tr>\n",
       "    <tr>\n",
       "      <th>40</th>\n",
       "      <td>SAMSUNG Galaxy</td>\n",
       "      <td>White</td>\n",
       "      <td>32.0</td>\n",
       "      <td>5000.0</td>\n",
       "      <td>13</td>\n",
       "      <td>5</td>\n",
       "      <td>16.51</td>\n",
       "      <td>3.0</td>\n",
       "      <td>4.0</td>\n",
       "      <td>299.0</td>\n",
       "      <td>11499.0</td>\n",
       "    </tr>\n",
       "    <tr>\n",
       "      <th>41</th>\n",
       "      <td>SAMSUNG Galaxy</td>\n",
       "      <td>Celestial Black</td>\n",
       "      <td>512.0</td>\n",
       "      <td>6000.0</td>\n",
       "      <td>48</td>\n",
       "      <td>8</td>\n",
       "      <td>16.55</td>\n",
       "      <td>4.0</td>\n",
       "      <td>4.3</td>\n",
       "      <td>295.0</td>\n",
       "      <td>11499.0</td>\n",
       "    </tr>\n",
       "    <tr>\n",
       "      <th>42</th>\n",
       "      <td>SAMSUNG M53</td>\n",
       "      <td>Mystique Green</td>\n",
       "      <td>128.0</td>\n",
       "      <td>5000.0</td>\n",
       "      <td>108</td>\n",
       "      <td>108</td>\n",
       "      <td>17.02</td>\n",
       "      <td>6.0</td>\n",
       "      <td>4.2</td>\n",
       "      <td>230.0</td>\n",
       "      <td>25445.0</td>\n",
       "    </tr>\n",
       "    <tr>\n",
       "      <th>43</th>\n",
       "      <td>SAMSUNG Galaxy</td>\n",
       "      <td>Black</td>\n",
       "      <td>64.0</td>\n",
       "      <td>5000.0</td>\n",
       "      <td>48</td>\n",
       "      <td>5</td>\n",
       "      <td>16.51</td>\n",
       "      <td>4.0</td>\n",
       "      <td>4.2</td>\n",
       "      <td>151.0</td>\n",
       "      <td>11499.0</td>\n",
       "    </tr>\n",
       "    <tr>\n",
       "      <th>44</th>\n",
       "      <td>SAMSUNG Galaxy</td>\n",
       "      <td>Awesome Blue</td>\n",
       "      <td>128.0</td>\n",
       "      <td>5000.0</td>\n",
       "      <td>48</td>\n",
       "      <td>13</td>\n",
       "      <td>16.26</td>\n",
       "      <td>6.0</td>\n",
       "      <td>4.1</td>\n",
       "      <td>1230.0</td>\n",
       "      <td>28499.0</td>\n",
       "    </tr>\n",
       "    <tr>\n",
       "      <th>45</th>\n",
       "      <td>SAMSUNG Galaxy</td>\n",
       "      <td>Sky Blue</td>\n",
       "      <td>512.0</td>\n",
       "      <td>6000.0</td>\n",
       "      <td>48</td>\n",
       "      <td>8</td>\n",
       "      <td>16.55</td>\n",
       "      <td>4.0</td>\n",
       "      <td>4.3</td>\n",
       "      <td>295.0</td>\n",
       "      <td>11499.0</td>\n",
       "    </tr>\n",
       "    <tr>\n",
       "      <th>46</th>\n",
       "      <td>SAMSUNG GALAXY</td>\n",
       "      <td>Midnight Blue</td>\n",
       "      <td>128.0</td>\n",
       "      <td>6000.0</td>\n",
       "      <td>50</td>\n",
       "      <td>50</td>\n",
       "      <td>16.76</td>\n",
       "      <td>6.0</td>\n",
       "      <td>4.0</td>\n",
       "      <td>209.0</td>\n",
       "      <td>13490.0</td>\n",
       "    </tr>\n",
       "    <tr>\n",
       "      <th>47</th>\n",
       "      <td>SAMSUNG Galaxy</td>\n",
       "      <td>Black</td>\n",
       "      <td>128.0</td>\n",
       "      <td>6000.0</td>\n",
       "      <td>64</td>\n",
       "      <td>20</td>\n",
       "      <td>16.26</td>\n",
       "      <td>6.0</td>\n",
       "      <td>4.2</td>\n",
       "      <td>3877.0</td>\n",
       "      <td>14990.0</td>\n",
       "    </tr>\n",
       "    <tr>\n",
       "      <th>48</th>\n",
       "      <td>SAMSUNG Galaxy</td>\n",
       "      <td>Light Blue</td>\n",
       "      <td>128.0</td>\n",
       "      <td>6000.0</td>\n",
       "      <td>64</td>\n",
       "      <td>20</td>\n",
       "      <td>16.26</td>\n",
       "      <td>6.0</td>\n",
       "      <td>4.2</td>\n",
       "      <td>3877.0</td>\n",
       "      <td>14533.0</td>\n",
       "    </tr>\n",
       "    <tr>\n",
       "      <th>49</th>\n",
       "      <td>SAMSUNG Galaxy</td>\n",
       "      <td>Awesome Gray</td>\n",
       "      <td>128.0</td>\n",
       "      <td>5000.0</td>\n",
       "      <td>108</td>\n",
       "      <td>32</td>\n",
       "      <td>17.02</td>\n",
       "      <td>8.0</td>\n",
       "      <td>4.2</td>\n",
       "      <td>1129.0</td>\n",
       "      <td>41999.0</td>\n",
       "    </tr>\n",
       "    <tr>\n",
       "      <th>50</th>\n",
       "      <td>SAMSUNG Galaxy</td>\n",
       "      <td>Awesome Mint</td>\n",
       "      <td>128.0</td>\n",
       "      <td>5000.0</td>\n",
       "      <td>108</td>\n",
       "      <td>32</td>\n",
       "      <td>17.02</td>\n",
       "      <td>8.0</td>\n",
       "      <td>4.2</td>\n",
       "      <td>1129.0</td>\n",
       "      <td>41999.0</td>\n",
       "    </tr>\n",
       "    <tr>\n",
       "      <th>51</th>\n",
       "      <td>SAMSUNG Galaxy</td>\n",
       "      <td>Phantom Black</td>\n",
       "      <td>128.0</td>\n",
       "      <td>4500.0</td>\n",
       "      <td>50</td>\n",
       "      <td>10</td>\n",
       "      <td>16.76</td>\n",
       "      <td>8.0</td>\n",
       "      <td>4.5</td>\n",
       "      <td>1584.0</td>\n",
       "      <td>84999.0</td>\n",
       "    </tr>\n",
       "    <tr>\n",
       "      <th>52</th>\n",
       "      <td>SAMSUNG Galaxy</td>\n",
       "      <td>Blue</td>\n",
       "      <td>32.0</td>\n",
       "      <td>5000.0</td>\n",
       "      <td>13</td>\n",
       "      <td>5</td>\n",
       "      <td>16.51</td>\n",
       "      <td>3.0</td>\n",
       "      <td>4.0</td>\n",
       "      <td>299.0</td>\n",
       "      <td>11499.0</td>\n",
       "    </tr>\n",
       "    <tr>\n",
       "      <th>53</th>\n",
       "      <td>SAMSUNG GALAXY</td>\n",
       "      <td>Midnight Blue</td>\n",
       "      <td>64.0</td>\n",
       "      <td>5000.0</td>\n",
       "      <td>50</td>\n",
       "      <td>50</td>\n",
       "      <td>16.51</td>\n",
       "      <td>4.0</td>\n",
       "      <td>3.7</td>\n",
       "      <td>113.0</td>\n",
       "      <td>14598.0</td>\n",
       "    </tr>\n",
       "    <tr>\n",
       "      <th>54</th>\n",
       "      <td>SAMSUNG Galaxy</td>\n",
       "      <td>Peach</td>\n",
       "      <td>128.0</td>\n",
       "      <td>5000.0</td>\n",
       "      <td>50</td>\n",
       "      <td>8</td>\n",
       "      <td>16.76</td>\n",
       "      <td>6.0</td>\n",
       "      <td>4.2</td>\n",
       "      <td>629.0</td>\n",
       "      <td>19499.0</td>\n",
       "    </tr>\n",
       "    <tr>\n",
       "      <th>55</th>\n",
       "      <td>SAMSUNG Galaxy</td>\n",
       "      <td>Black</td>\n",
       "      <td>64.0</td>\n",
       "      <td>5000.0</td>\n",
       "      <td>50</td>\n",
       "      <td>8</td>\n",
       "      <td>16.76</td>\n",
       "      <td>4.0</td>\n",
       "      <td>4.1</td>\n",
       "      <td>560.0</td>\n",
       "      <td>14499.0</td>\n",
       "    </tr>\n",
       "    <tr>\n",
       "      <th>56</th>\n",
       "      <td>SAMSUNG Galaxy</td>\n",
       "      <td>Blue</td>\n",
       "      <td>32.0</td>\n",
       "      <td>5000.0</td>\n",
       "      <td>48</td>\n",
       "      <td>5</td>\n",
       "      <td>16.51</td>\n",
       "      <td>3.0</td>\n",
       "      <td>4.2</td>\n",
       "      <td>367.0</td>\n",
       "      <td>9999.0</td>\n",
       "    </tr>\n",
       "    <tr>\n",
       "      <th>57</th>\n",
       "      <td>SAMSUNG Galaxy</td>\n",
       "      <td>Awesome Black</td>\n",
       "      <td>128.0</td>\n",
       "      <td>4500.0</td>\n",
       "      <td>64</td>\n",
       "      <td>32</td>\n",
       "      <td>16.51</td>\n",
       "      <td>6.0</td>\n",
       "      <td>4.3</td>\n",
       "      <td>2087.0</td>\n",
       "      <td>24999.0</td>\n",
       "    </tr>\n",
       "    <tr>\n",
       "      <th>58</th>\n",
       "      <td>SAMSUNG Galaxy</td>\n",
       "      <td>Awesome Violet</td>\n",
       "      <td>128.0</td>\n",
       "      <td>4500.0</td>\n",
       "      <td>64</td>\n",
       "      <td>32</td>\n",
       "      <td>16.51</td>\n",
       "      <td>6.0</td>\n",
       "      <td>4.2</td>\n",
       "      <td>945.0</td>\n",
       "      <td>29490.0</td>\n",
       "    </tr>\n",
       "    <tr>\n",
       "      <th>59</th>\n",
       "      <td>SAMSUNG Galaxy</td>\n",
       "      <td>Gold</td>\n",
       "      <td>256.0</td>\n",
       "      <td>2600.0</td>\n",
       "      <td>8</td>\n",
       "      <td>5</td>\n",
       "      <td>12.70</td>\n",
       "      <td>2.0</td>\n",
       "      <td>4.3</td>\n",
       "      <td>7665.0</td>\n",
       "      <td>7450.0</td>\n",
       "    </tr>\n",
       "    <tr>\n",
       "      <th>60</th>\n",
       "      <td>SAMSUNG Galaxy</td>\n",
       "      <td>Green</td>\n",
       "      <td>64.0</td>\n",
       "      <td>5000.0</td>\n",
       "      <td>50</td>\n",
       "      <td>8</td>\n",
       "      <td>16.76</td>\n",
       "      <td>4.0</td>\n",
       "      <td>4.1</td>\n",
       "      <td>560.0</td>\n",
       "      <td>14499.0</td>\n",
       "    </tr>\n",
       "    <tr>\n",
       "      <th>61</th>\n",
       "      <td>SAMSUNG Galaxy</td>\n",
       "      <td>Phantom White</td>\n",
       "      <td>128.0</td>\n",
       "      <td>3700.0</td>\n",
       "      <td>50</td>\n",
       "      <td>10</td>\n",
       "      <td>15.49</td>\n",
       "      <td>8.0</td>\n",
       "      <td>4.4</td>\n",
       "      <td>35.0</td>\n",
       "      <td>66990.0</td>\n",
       "    </tr>\n",
       "    <tr>\n",
       "      <th>62</th>\n",
       "      <td>SAMSUNG Galaxy</td>\n",
       "      <td>White</td>\n",
       "      <td>64.0</td>\n",
       "      <td>6000.0</td>\n",
       "      <td>48</td>\n",
       "      <td>48</td>\n",
       "      <td>16.51</td>\n",
       "      <td>4.0</td>\n",
       "      <td>4.2</td>\n",
       "      <td>16328.0</td>\n",
       "      <td>11689.0</td>\n",
       "    </tr>\n",
       "    <tr>\n",
       "      <th>63</th>\n",
       "      <td>SAMSUNG Galaxy</td>\n",
       "      <td>Awesome Peach</td>\n",
       "      <td>128.0</td>\n",
       "      <td>5000.0</td>\n",
       "      <td>64</td>\n",
       "      <td>32</td>\n",
       "      <td>16.51</td>\n",
       "      <td>8.0</td>\n",
       "      <td>4.1</td>\n",
       "      <td>1108.0</td>\n",
       "      <td>33499.0</td>\n",
       "    </tr>\n",
       "    <tr>\n",
       "      <th>64</th>\n",
       "      <td>SAMSUNG Galaxy</td>\n",
       "      <td>Awesome White</td>\n",
       "      <td>128.0</td>\n",
       "      <td>5000.0</td>\n",
       "      <td>64</td>\n",
       "      <td>32</td>\n",
       "      <td>16.51</td>\n",
       "      <td>8.0</td>\n",
       "      <td>4.1</td>\n",
       "      <td>1108.0</td>\n",
       "      <td>33499.0</td>\n",
       "    </tr>\n",
       "    <tr>\n",
       "      <th>65</th>\n",
       "      <td>SAMSUNG Galaxy</td>\n",
       "      <td>Mint</td>\n",
       "      <td>128.0</td>\n",
       "      <td>5000.0</td>\n",
       "      <td>48</td>\n",
       "      <td>8</td>\n",
       "      <td>16.76</td>\n",
       "      <td>6.0</td>\n",
       "      <td>4.1</td>\n",
       "      <td>2372.0</td>\n",
       "      <td>17599.0</td>\n",
       "    </tr>\n",
       "    <tr>\n",
       "      <th>66</th>\n",
       "      <td>SAMSUNG Galaxy</td>\n",
       "      <td>Black</td>\n",
       "      <td>128.0</td>\n",
       "      <td>6000.0</td>\n",
       "      <td>48</td>\n",
       "      <td>48</td>\n",
       "      <td>16.51</td>\n",
       "      <td>6.0</td>\n",
       "      <td>4.2</td>\n",
       "      <td>7461.0</td>\n",
       "      <td>13989.0</td>\n",
       "    </tr>\n",
       "    <tr>\n",
       "      <th>67</th>\n",
       "      <td>SAMSUNG Galaxy</td>\n",
       "      <td>Awesome Blue</td>\n",
       "      <td>128.0</td>\n",
       "      <td>5000.0</td>\n",
       "      <td>64</td>\n",
       "      <td>20</td>\n",
       "      <td>16.26</td>\n",
       "      <td>8.0</td>\n",
       "      <td>4.1</td>\n",
       "      <td>249.0</td>\n",
       "      <td>18989.0</td>\n",
       "    </tr>\n",
       "    <tr>\n",
       "      <th>68</th>\n",
       "      <td>SAMSUNG Galaxy</td>\n",
       "      <td>Black</td>\n",
       "      <td>128.0</td>\n",
       "      <td>5000.0</td>\n",
       "      <td>50</td>\n",
       "      <td>8</td>\n",
       "      <td>16.76</td>\n",
       "      <td>6.0</td>\n",
       "      <td>4.1</td>\n",
       "      <td>215.0</td>\n",
       "      <td>16999.0</td>\n",
       "    </tr>\n",
       "    <tr>\n",
       "      <th>69</th>\n",
       "      <td>SAMSUNG Galaxy</td>\n",
       "      <td>Awesome Black</td>\n",
       "      <td>128.0</td>\n",
       "      <td>5000.0</td>\n",
       "      <td>64</td>\n",
       "      <td>64</td>\n",
       "      <td>16.26</td>\n",
       "      <td>6.0</td>\n",
       "      <td>4.1</td>\n",
       "      <td>2507.0</td>\n",
       "      <td>18490.0</td>\n",
       "    </tr>\n",
       "    <tr>\n",
       "      <th>70</th>\n",
       "      <td>SAMSUNG Galaxy</td>\n",
       "      <td>Peach</td>\n",
       "      <td>128.0</td>\n",
       "      <td>5000.0</td>\n",
       "      <td>50</td>\n",
       "      <td>8</td>\n",
       "      <td>16.76</td>\n",
       "      <td>6.0</td>\n",
       "      <td>4.1</td>\n",
       "      <td>215.0</td>\n",
       "      <td>16999.0</td>\n",
       "    </tr>\n",
       "    <tr>\n",
       "      <th>71</th>\n",
       "      <td>SAMSUNG GALAXY</td>\n",
       "      <td>Aqua Green</td>\n",
       "      <td>128.0</td>\n",
       "      <td>6000.0</td>\n",
       "      <td>50</td>\n",
       "      <td>50</td>\n",
       "      <td>16.76</td>\n",
       "      <td>6.0</td>\n",
       "      <td>4.0</td>\n",
       "      <td>209.0</td>\n",
       "      <td>13492.0</td>\n",
       "    </tr>\n",
       "    <tr>\n",
       "      <th>72</th>\n",
       "      <td>SAMSUNG Galaxy</td>\n",
       "      <td>Black</td>\n",
       "      <td>32.0</td>\n",
       "      <td>5000.0</td>\n",
       "      <td>48</td>\n",
       "      <td>5</td>\n",
       "      <td>16.51</td>\n",
       "      <td>3.0</td>\n",
       "      <td>4.2</td>\n",
       "      <td>367.0</td>\n",
       "      <td>9499.0</td>\n",
       "    </tr>\n",
       "    <tr>\n",
       "      <th>73</th>\n",
       "      <td>SAMSUNG M21</td>\n",
       "      <td>Charcoal Black</td>\n",
       "      <td>64.0</td>\n",
       "      <td>6000.0</td>\n",
       "      <td>48</td>\n",
       "      <td>48</td>\n",
       "      <td>16.26</td>\n",
       "      <td>4.0</td>\n",
       "      <td>4.2</td>\n",
       "      <td>1358.0</td>\n",
       "      <td>12889.0</td>\n",
       "    </tr>\n",
       "    <tr>\n",
       "      <th>74</th>\n",
       "      <td>SAMSUNG GALAXY</td>\n",
       "      <td>Aqua Green</td>\n",
       "      <td>128.0</td>\n",
       "      <td>6000.0</td>\n",
       "      <td>50</td>\n",
       "      <td>50</td>\n",
       "      <td>16.76</td>\n",
       "      <td>6.0</td>\n",
       "      <td>4.0</td>\n",
       "      <td>209.0</td>\n",
       "      <td>13492.0</td>\n",
       "    </tr>\n",
       "    <tr>\n",
       "      <th>75</th>\n",
       "      <td>SAMSUNG Galaxy</td>\n",
       "      <td>Awesome Mint</td>\n",
       "      <td>128.0</td>\n",
       "      <td>5000.0</td>\n",
       "      <td>108</td>\n",
       "      <td>32</td>\n",
       "      <td>17.02</td>\n",
       "      <td>8.0</td>\n",
       "      <td>4.2</td>\n",
       "      <td>1129.0</td>\n",
       "      <td>41999.0</td>\n",
       "    </tr>\n",
       "    <tr>\n",
       "      <th>76</th>\n",
       "      <td>SAMSUNG Galaxy</td>\n",
       "      <td>Phantom Black</td>\n",
       "      <td>256.0</td>\n",
       "      <td>3700.0</td>\n",
       "      <td>50</td>\n",
       "      <td>10</td>\n",
       "      <td>15.49</td>\n",
       "      <td>8.0</td>\n",
       "      <td>4.4</td>\n",
       "      <td>35.0</td>\n",
       "      <td>69990.0</td>\n",
       "    </tr>\n",
       "    <tr>\n",
       "      <th>77</th>\n",
       "      <td>SAMSUNG Galaxy</td>\n",
       "      <td>Blue</td>\n",
       "      <td>128.0</td>\n",
       "      <td>5000.0</td>\n",
       "      <td>50</td>\n",
       "      <td>8</td>\n",
       "      <td>16.76</td>\n",
       "      <td>6.0</td>\n",
       "      <td>4.1</td>\n",
       "      <td>215.0</td>\n",
       "      <td>16999.0</td>\n",
       "    </tr>\n",
       "    <tr>\n",
       "      <th>78</th>\n",
       "      <td>SAMSUNG Galaxy</td>\n",
       "      <td>Peach</td>\n",
       "      <td>64.0</td>\n",
       "      <td>5000.0</td>\n",
       "      <td>50</td>\n",
       "      <td>8</td>\n",
       "      <td>16.76</td>\n",
       "      <td>4.0</td>\n",
       "      <td>4.1</td>\n",
       "      <td>560.0</td>\n",
       "      <td>14499.0</td>\n",
       "    </tr>\n",
       "    <tr>\n",
       "      <th>79</th>\n",
       "      <td>SAMSUNG M53</td>\n",
       "      <td>Emerald Brown</td>\n",
       "      <td>128.0</td>\n",
       "      <td>5000.0</td>\n",
       "      <td>108</td>\n",
       "      <td>108</td>\n",
       "      <td>17.02</td>\n",
       "      <td>6.0</td>\n",
       "      <td>4.2</td>\n",
       "      <td>230.0</td>\n",
       "      <td>25500.0</td>\n",
       "    </tr>\n",
       "    <tr>\n",
       "      <th>80</th>\n",
       "      <td>SAMSUNG Galaxy</td>\n",
       "      <td>Laser Green</td>\n",
       "      <td>128.0</td>\n",
       "      <td>7000.0</td>\n",
       "      <td>64</td>\n",
       "      <td>32</td>\n",
       "      <td>17.02</td>\n",
       "      <td>6.0</td>\n",
       "      <td>4.2</td>\n",
       "      <td>91417.0</td>\n",
       "      <td>29999.0</td>\n",
       "    </tr>\n",
       "  </tbody>\n",
       "</table>\n",
       "</div>"
      ],
      "text/plain": [
       "              Name           Colour  Storage  Battery  Camera_Pixel  \\\n",
       "31  SAMSUNG Galaxy   Nightsky Green    128.0   6000.0            50   \n",
       "32  SAMSUNG Galaxy         Sky Blue    128.0   5000.0            48   \n",
       "33  SAMSUNG Galaxy             Blue    128.0   5000.0            48   \n",
       "34  SAMSUNG Galaxy            Black    128.0   5000.0            50   \n",
       "35  SAMSUNG Galaxy     Awesome Blue    128.0   5000.0            64   \n",
       "36  SAMSUNG Galaxy    Awesome Black    128.0   5000.0            48   \n",
       "37  SAMSUNG Galaxy    Phantom White    128.0   4500.0            50   \n",
       "38  SAMSUNG Galaxy            Black    128.0   5000.0            50   \n",
       "39     SAMSUNG M32      Slate Black    128.0   5000.0            48   \n",
       "40  SAMSUNG Galaxy            White     32.0   5000.0            13   \n",
       "41  SAMSUNG Galaxy  Celestial Black    512.0   6000.0            48   \n",
       "42     SAMSUNG M53   Mystique Green    128.0   5000.0           108   \n",
       "43  SAMSUNG Galaxy            Black     64.0   5000.0            48   \n",
       "44  SAMSUNG Galaxy     Awesome Blue    128.0   5000.0            48   \n",
       "45  SAMSUNG Galaxy         Sky Blue    512.0   6000.0            48   \n",
       "46  SAMSUNG GALAXY    Midnight Blue    128.0   6000.0            50   \n",
       "47  SAMSUNG Galaxy            Black    128.0   6000.0            64   \n",
       "48  SAMSUNG Galaxy       Light Blue    128.0   6000.0            64   \n",
       "49  SAMSUNG Galaxy     Awesome Gray    128.0   5000.0           108   \n",
       "50  SAMSUNG Galaxy     Awesome Mint    128.0   5000.0           108   \n",
       "51  SAMSUNG Galaxy    Phantom Black    128.0   4500.0            50   \n",
       "52  SAMSUNG Galaxy             Blue     32.0   5000.0            13   \n",
       "53  SAMSUNG GALAXY    Midnight Blue     64.0   5000.0            50   \n",
       "54  SAMSUNG Galaxy            Peach    128.0   5000.0            50   \n",
       "55  SAMSUNG Galaxy            Black     64.0   5000.0            50   \n",
       "56  SAMSUNG Galaxy             Blue     32.0   5000.0            48   \n",
       "57  SAMSUNG Galaxy    Awesome Black    128.0   4500.0            64   \n",
       "58  SAMSUNG Galaxy   Awesome Violet    128.0   4500.0            64   \n",
       "59  SAMSUNG Galaxy             Gold    256.0   2600.0             8   \n",
       "60  SAMSUNG Galaxy            Green     64.0   5000.0            50   \n",
       "61  SAMSUNG Galaxy    Phantom White    128.0   3700.0            50   \n",
       "62  SAMSUNG Galaxy            White     64.0   6000.0            48   \n",
       "63  SAMSUNG Galaxy    Awesome Peach    128.0   5000.0            64   \n",
       "64  SAMSUNG Galaxy    Awesome White    128.0   5000.0            64   \n",
       "65  SAMSUNG Galaxy             Mint    128.0   5000.0            48   \n",
       "66  SAMSUNG Galaxy            Black    128.0   6000.0            48   \n",
       "67  SAMSUNG Galaxy     Awesome Blue    128.0   5000.0            64   \n",
       "68  SAMSUNG Galaxy            Black    128.0   5000.0            50   \n",
       "69  SAMSUNG Galaxy    Awesome Black    128.0   5000.0            64   \n",
       "70  SAMSUNG Galaxy            Peach    128.0   5000.0            50   \n",
       "71  SAMSUNG GALAXY       Aqua Green    128.0   6000.0            50   \n",
       "72  SAMSUNG Galaxy            Black     32.0   5000.0            48   \n",
       "73     SAMSUNG M21   Charcoal Black     64.0   6000.0            48   \n",
       "74  SAMSUNG GALAXY       Aqua Green    128.0   6000.0            50   \n",
       "75  SAMSUNG Galaxy     Awesome Mint    128.0   5000.0           108   \n",
       "76  SAMSUNG Galaxy    Phantom Black    256.0   3700.0            50   \n",
       "77  SAMSUNG Galaxy             Blue    128.0   5000.0            50   \n",
       "78  SAMSUNG Galaxy            Peach     64.0   5000.0            50   \n",
       "79     SAMSUNG M53    Emerald Brown    128.0   5000.0           108   \n",
       "80  SAMSUNG Galaxy      Laser Green    128.0   7000.0            64   \n",
       "\n",
       "    Selfie_cam_pixel  Display_size  RAM  Star_ratings  Users_rated    Price  \n",
       "31                 8         16.76  4.0           4.4      91390.0  12999.0  \n",
       "32                13         16.51  8.0           4.2       1266.0  22989.0  \n",
       "33                 8         16.51  6.0           4.1       1271.0  13700.0  \n",
       "34                 8         16.76  8.0           4.3        367.0  20999.0  \n",
       "35                32         16.51  8.0           4.1       1108.0  35999.0  \n",
       "36                13         16.26  6.0           4.1       1230.0  28499.0  \n",
       "37                10         16.76  8.0           4.5       1584.0  84999.0  \n",
       "38                 8         16.76  6.0           4.2        629.0  19499.0  \n",
       "39                13         16.51  6.0           4.1       3762.0  18989.0  \n",
       "40                 5         16.51  3.0           4.0        299.0  11499.0  \n",
       "41                 8         16.55  4.0           4.3        295.0  11499.0  \n",
       "42               108         17.02  6.0           4.2        230.0  25445.0  \n",
       "43                 5         16.51  4.0           4.2        151.0  11499.0  \n",
       "44                13         16.26  6.0           4.1       1230.0  28499.0  \n",
       "45                 8         16.55  4.0           4.3        295.0  11499.0  \n",
       "46                50         16.76  6.0           4.0        209.0  13490.0  \n",
       "47                20         16.26  6.0           4.2       3877.0  14990.0  \n",
       "48                20         16.26  6.0           4.2       3877.0  14533.0  \n",
       "49                32         17.02  8.0           4.2       1129.0  41999.0  \n",
       "50                32         17.02  8.0           4.2       1129.0  41999.0  \n",
       "51                10         16.76  8.0           4.5       1584.0  84999.0  \n",
       "52                 5         16.51  3.0           4.0        299.0  11499.0  \n",
       "53                50         16.51  4.0           3.7        113.0  14598.0  \n",
       "54                 8         16.76  6.0           4.2        629.0  19499.0  \n",
       "55                 8         16.76  4.0           4.1        560.0  14499.0  \n",
       "56                 5         16.51  3.0           4.2        367.0   9999.0  \n",
       "57                32         16.51  6.0           4.3       2087.0  24999.0  \n",
       "58                32         16.51  6.0           4.2        945.0  29490.0  \n",
       "59                 5         12.70  2.0           4.3       7665.0   7450.0  \n",
       "60                 8         16.76  4.0           4.1        560.0  14499.0  \n",
       "61                10         15.49  8.0           4.4         35.0  66990.0  \n",
       "62                48         16.51  4.0           4.2      16328.0  11689.0  \n",
       "63                32         16.51  8.0           4.1       1108.0  33499.0  \n",
       "64                32         16.51  8.0           4.1       1108.0  33499.0  \n",
       "65                 8         16.76  6.0           4.1       2372.0  17599.0  \n",
       "66                48         16.51  6.0           4.2       7461.0  13989.0  \n",
       "67                20         16.26  8.0           4.1        249.0  18989.0  \n",
       "68                 8         16.76  6.0           4.1        215.0  16999.0  \n",
       "69                64         16.26  6.0           4.1       2507.0  18490.0  \n",
       "70                 8         16.76  6.0           4.1        215.0  16999.0  \n",
       "71                50         16.76  6.0           4.0        209.0  13492.0  \n",
       "72                 5         16.51  3.0           4.2        367.0   9499.0  \n",
       "73                48         16.26  4.0           4.2       1358.0  12889.0  \n",
       "74                50         16.76  6.0           4.0        209.0  13492.0  \n",
       "75                32         17.02  8.0           4.2       1129.0  41999.0  \n",
       "76                10         15.49  8.0           4.4         35.0  69990.0  \n",
       "77                 8         16.76  6.0           4.1        215.0  16999.0  \n",
       "78                 8         16.76  4.0           4.1        560.0  14499.0  \n",
       "79               108         17.02  6.0           4.2        230.0  25500.0  \n",
       "80                32         17.02  6.0           4.2      91417.0  29999.0  "
      ]
     },
     "execution_count": 109,
     "metadata": {},
     "output_type": "execute_result"
    }
   ],
   "source": [
    "r1.tail(50)"
   ]
  },
  {
   "cell_type": "code",
   "execution_count": 110,
   "id": "d084f0b9",
   "metadata": {},
   "outputs": [],
   "source": [
    "r1.to_csv(\"PROJECT SAMSUNG_flipkart.csv\")"
   ]
  },
  {
   "cell_type": "code",
   "execution_count": null,
   "id": "ced577b9",
   "metadata": {},
   "outputs": [],
   "source": []
  },
  {
   "cell_type": "code",
   "execution_count": null,
   "id": "d29b1316",
   "metadata": {},
   "outputs": [],
   "source": []
  }
 ],
 "metadata": {
  "kernelspec": {
   "display_name": "Python 3 (ipykernel)",
   "language": "python",
   "name": "python3"
  },
  "language_info": {
   "codemirror_mode": {
    "name": "ipython",
    "version": 3
   },
   "file_extension": ".py",
   "mimetype": "text/x-python",
   "name": "python",
   "nbconvert_exporter": "python",
   "pygments_lexer": "ipython3",
   "version": "3.9.12"
  }
 },
 "nbformat": 4,
 "nbformat_minor": 5
}
