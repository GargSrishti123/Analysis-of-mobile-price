{
 "cells": [
  {
   "cell_type": "code",
   "execution_count": 10,
   "id": "e4a99d53",
   "metadata": {},
   "outputs": [],
   "source": [
    "import requests\n",
    "from bs4 import BeautifulSoup\n",
    "import re\n",
    "import pandas as pd"
   ]
  },
  {
   "cell_type": "code",
   "execution_count": 11,
   "id": "93d45a4d",
   "metadata": {},
   "outputs": [],
   "source": [
    "headers={\"User-Agent\": \"Mozilla/5.0 (Windows NT 10.0; Win64; x64) AppleWebKit/537.36 (KHTML, like Gecko) Chrome/106.0.0.0 Safari/537.36\"}"
   ]
  },
  {
   "cell_type": "code",
   "execution_count": 3,
   "id": "1a383405",
   "metadata": {},
   "outputs": [
    {
     "ename": "ConnectionError",
     "evalue": "HTTPSConnectionPool(host='www.amazon.in', port=443): Max retries exceeded with url: /realme-Oxygen-Storage-Processor-Battery/dp/B09FK8MBMJ/ref=sr_1_1?crid=39ABMN7KFEZIO&keywords=realme+mobiles&qid=1667317487&qu=eyJxc2MiOiI2LjU5IiwicXNhIjoiNi4wOSIsInFzcCI6IjQuMDIifQ%3D%3D&sprefix=realme+mobile%2Caps%2C389&sr=8-1 (Caused by NewConnectionError('<urllib3.connection.HTTPSConnection object at 0x000002265D36F100>: Failed to establish a new connection: [Errno 11001] getaddrinfo failed'))",
     "output_type": "error",
     "traceback": [
      "\u001b[1;31m---------------------------------------------------------------------------\u001b[0m",
      "\u001b[1;31mgaierror\u001b[0m                                  Traceback (most recent call last)",
      "File \u001b[1;32mC:\\ProgramData\\Anaconda3\\lib\\site-packages\\urllib3\\connection.py:174\u001b[0m, in \u001b[0;36mHTTPConnection._new_conn\u001b[1;34m(self)\u001b[0m\n\u001b[0;32m    173\u001b[0m \u001b[38;5;28;01mtry\u001b[39;00m:\n\u001b[1;32m--> 174\u001b[0m     conn \u001b[38;5;241m=\u001b[39m connection\u001b[38;5;241m.\u001b[39mcreate_connection(\n\u001b[0;32m    175\u001b[0m         (\u001b[38;5;28mself\u001b[39m\u001b[38;5;241m.\u001b[39m_dns_host, \u001b[38;5;28mself\u001b[39m\u001b[38;5;241m.\u001b[39mport), \u001b[38;5;28mself\u001b[39m\u001b[38;5;241m.\u001b[39mtimeout, \u001b[38;5;241m*\u001b[39m\u001b[38;5;241m*\u001b[39mextra_kw\n\u001b[0;32m    176\u001b[0m     )\n\u001b[0;32m    178\u001b[0m \u001b[38;5;28;01mexcept\u001b[39;00m SocketTimeout:\n",
      "File \u001b[1;32mC:\\ProgramData\\Anaconda3\\lib\\site-packages\\urllib3\\util\\connection.py:72\u001b[0m, in \u001b[0;36mcreate_connection\u001b[1;34m(address, timeout, source_address, socket_options)\u001b[0m\n\u001b[0;32m     68\u001b[0m     \u001b[38;5;28;01mreturn\u001b[39;00m six\u001b[38;5;241m.\u001b[39mraise_from(\n\u001b[0;32m     69\u001b[0m         LocationParseError(\u001b[38;5;124mu\u001b[39m\u001b[38;5;124m\"\u001b[39m\u001b[38;5;124m'\u001b[39m\u001b[38;5;132;01m%s\u001b[39;00m\u001b[38;5;124m'\u001b[39m\u001b[38;5;124m, label empty or too long\u001b[39m\u001b[38;5;124m\"\u001b[39m \u001b[38;5;241m%\u001b[39m host), \u001b[38;5;28;01mNone\u001b[39;00m\n\u001b[0;32m     70\u001b[0m     )\n\u001b[1;32m---> 72\u001b[0m \u001b[38;5;28;01mfor\u001b[39;00m res \u001b[38;5;129;01min\u001b[39;00m \u001b[43msocket\u001b[49m\u001b[38;5;241;43m.\u001b[39;49m\u001b[43mgetaddrinfo\u001b[49m\u001b[43m(\u001b[49m\u001b[43mhost\u001b[49m\u001b[43m,\u001b[49m\u001b[43m \u001b[49m\u001b[43mport\u001b[49m\u001b[43m,\u001b[49m\u001b[43m \u001b[49m\u001b[43mfamily\u001b[49m\u001b[43m,\u001b[49m\u001b[43m \u001b[49m\u001b[43msocket\u001b[49m\u001b[38;5;241;43m.\u001b[39;49m\u001b[43mSOCK_STREAM\u001b[49m\u001b[43m)\u001b[49m:\n\u001b[0;32m     73\u001b[0m     af, socktype, proto, canonname, sa \u001b[38;5;241m=\u001b[39m res\n",
      "File \u001b[1;32mC:\\ProgramData\\Anaconda3\\lib\\socket.py:954\u001b[0m, in \u001b[0;36mgetaddrinfo\u001b[1;34m(host, port, family, type, proto, flags)\u001b[0m\n\u001b[0;32m    953\u001b[0m addrlist \u001b[38;5;241m=\u001b[39m []\n\u001b[1;32m--> 954\u001b[0m \u001b[38;5;28;01mfor\u001b[39;00m res \u001b[38;5;129;01min\u001b[39;00m \u001b[43m_socket\u001b[49m\u001b[38;5;241;43m.\u001b[39;49m\u001b[43mgetaddrinfo\u001b[49m\u001b[43m(\u001b[49m\u001b[43mhost\u001b[49m\u001b[43m,\u001b[49m\u001b[43m \u001b[49m\u001b[43mport\u001b[49m\u001b[43m,\u001b[49m\u001b[43m \u001b[49m\u001b[43mfamily\u001b[49m\u001b[43m,\u001b[49m\u001b[43m \u001b[49m\u001b[38;5;28;43mtype\u001b[39;49m\u001b[43m,\u001b[49m\u001b[43m \u001b[49m\u001b[43mproto\u001b[49m\u001b[43m,\u001b[49m\u001b[43m \u001b[49m\u001b[43mflags\u001b[49m\u001b[43m)\u001b[49m:\n\u001b[0;32m    955\u001b[0m     af, socktype, proto, canonname, sa \u001b[38;5;241m=\u001b[39m res\n",
      "\u001b[1;31mgaierror\u001b[0m: [Errno 11001] getaddrinfo failed",
      "\nDuring handling of the above exception, another exception occurred:\n",
      "\u001b[1;31mNewConnectionError\u001b[0m                        Traceback (most recent call last)",
      "File \u001b[1;32mC:\\ProgramData\\Anaconda3\\lib\\site-packages\\urllib3\\connectionpool.py:703\u001b[0m, in \u001b[0;36mHTTPConnectionPool.urlopen\u001b[1;34m(self, method, url, body, headers, retries, redirect, assert_same_host, timeout, pool_timeout, release_conn, chunked, body_pos, **response_kw)\u001b[0m\n\u001b[0;32m    702\u001b[0m \u001b[38;5;66;03m# Make the request on the httplib connection object.\u001b[39;00m\n\u001b[1;32m--> 703\u001b[0m httplib_response \u001b[38;5;241m=\u001b[39m \u001b[38;5;28;43mself\u001b[39;49m\u001b[38;5;241;43m.\u001b[39;49m\u001b[43m_make_request\u001b[49m\u001b[43m(\u001b[49m\n\u001b[0;32m    704\u001b[0m \u001b[43m    \u001b[49m\u001b[43mconn\u001b[49m\u001b[43m,\u001b[49m\n\u001b[0;32m    705\u001b[0m \u001b[43m    \u001b[49m\u001b[43mmethod\u001b[49m\u001b[43m,\u001b[49m\n\u001b[0;32m    706\u001b[0m \u001b[43m    \u001b[49m\u001b[43murl\u001b[49m\u001b[43m,\u001b[49m\n\u001b[0;32m    707\u001b[0m \u001b[43m    \u001b[49m\u001b[43mtimeout\u001b[49m\u001b[38;5;241;43m=\u001b[39;49m\u001b[43mtimeout_obj\u001b[49m\u001b[43m,\u001b[49m\n\u001b[0;32m    708\u001b[0m \u001b[43m    \u001b[49m\u001b[43mbody\u001b[49m\u001b[38;5;241;43m=\u001b[39;49m\u001b[43mbody\u001b[49m\u001b[43m,\u001b[49m\n\u001b[0;32m    709\u001b[0m \u001b[43m    \u001b[49m\u001b[43mheaders\u001b[49m\u001b[38;5;241;43m=\u001b[39;49m\u001b[43mheaders\u001b[49m\u001b[43m,\u001b[49m\n\u001b[0;32m    710\u001b[0m \u001b[43m    \u001b[49m\u001b[43mchunked\u001b[49m\u001b[38;5;241;43m=\u001b[39;49m\u001b[43mchunked\u001b[49m\u001b[43m,\u001b[49m\n\u001b[0;32m    711\u001b[0m \u001b[43m\u001b[49m\u001b[43m)\u001b[49m\n\u001b[0;32m    713\u001b[0m \u001b[38;5;66;03m# If we're going to release the connection in ``finally:``, then\u001b[39;00m\n\u001b[0;32m    714\u001b[0m \u001b[38;5;66;03m# the response doesn't need to know about the connection. Otherwise\u001b[39;00m\n\u001b[0;32m    715\u001b[0m \u001b[38;5;66;03m# it will also try to release it and we'll have a double-release\u001b[39;00m\n\u001b[0;32m    716\u001b[0m \u001b[38;5;66;03m# mess.\u001b[39;00m\n",
      "File \u001b[1;32mC:\\ProgramData\\Anaconda3\\lib\\site-packages\\urllib3\\connectionpool.py:386\u001b[0m, in \u001b[0;36mHTTPConnectionPool._make_request\u001b[1;34m(self, conn, method, url, timeout, chunked, **httplib_request_kw)\u001b[0m\n\u001b[0;32m    385\u001b[0m \u001b[38;5;28;01mtry\u001b[39;00m:\n\u001b[1;32m--> 386\u001b[0m     \u001b[38;5;28;43mself\u001b[39;49m\u001b[38;5;241;43m.\u001b[39;49m\u001b[43m_validate_conn\u001b[49m\u001b[43m(\u001b[49m\u001b[43mconn\u001b[49m\u001b[43m)\u001b[49m\n\u001b[0;32m    387\u001b[0m \u001b[38;5;28;01mexcept\u001b[39;00m (SocketTimeout, BaseSSLError) \u001b[38;5;28;01mas\u001b[39;00m e:\n\u001b[0;32m    388\u001b[0m     \u001b[38;5;66;03m# Py2 raises this as a BaseSSLError, Py3 raises it as socket timeout.\u001b[39;00m\n",
      "File \u001b[1;32mC:\\ProgramData\\Anaconda3\\lib\\site-packages\\urllib3\\connectionpool.py:1040\u001b[0m, in \u001b[0;36mHTTPSConnectionPool._validate_conn\u001b[1;34m(self, conn)\u001b[0m\n\u001b[0;32m   1039\u001b[0m \u001b[38;5;28;01mif\u001b[39;00m \u001b[38;5;129;01mnot\u001b[39;00m \u001b[38;5;28mgetattr\u001b[39m(conn, \u001b[38;5;124m\"\u001b[39m\u001b[38;5;124msock\u001b[39m\u001b[38;5;124m\"\u001b[39m, \u001b[38;5;28;01mNone\u001b[39;00m):  \u001b[38;5;66;03m# AppEngine might not have  `.sock`\u001b[39;00m\n\u001b[1;32m-> 1040\u001b[0m     \u001b[43mconn\u001b[49m\u001b[38;5;241;43m.\u001b[39;49m\u001b[43mconnect\u001b[49m\u001b[43m(\u001b[49m\u001b[43m)\u001b[49m\n\u001b[0;32m   1042\u001b[0m \u001b[38;5;28;01mif\u001b[39;00m \u001b[38;5;129;01mnot\u001b[39;00m conn\u001b[38;5;241m.\u001b[39mis_verified:\n",
      "File \u001b[1;32mC:\\ProgramData\\Anaconda3\\lib\\site-packages\\urllib3\\connection.py:358\u001b[0m, in \u001b[0;36mHTTPSConnection.connect\u001b[1;34m(self)\u001b[0m\n\u001b[0;32m    356\u001b[0m \u001b[38;5;28;01mdef\u001b[39;00m \u001b[38;5;21mconnect\u001b[39m(\u001b[38;5;28mself\u001b[39m):\n\u001b[0;32m    357\u001b[0m     \u001b[38;5;66;03m# Add certificate verification\u001b[39;00m\n\u001b[1;32m--> 358\u001b[0m     \u001b[38;5;28mself\u001b[39m\u001b[38;5;241m.\u001b[39msock \u001b[38;5;241m=\u001b[39m conn \u001b[38;5;241m=\u001b[39m \u001b[38;5;28;43mself\u001b[39;49m\u001b[38;5;241;43m.\u001b[39;49m\u001b[43m_new_conn\u001b[49m\u001b[43m(\u001b[49m\u001b[43m)\u001b[49m\n\u001b[0;32m    359\u001b[0m     hostname \u001b[38;5;241m=\u001b[39m \u001b[38;5;28mself\u001b[39m\u001b[38;5;241m.\u001b[39mhost\n",
      "File \u001b[1;32mC:\\ProgramData\\Anaconda3\\lib\\site-packages\\urllib3\\connection.py:186\u001b[0m, in \u001b[0;36mHTTPConnection._new_conn\u001b[1;34m(self)\u001b[0m\n\u001b[0;32m    185\u001b[0m \u001b[38;5;28;01mexcept\u001b[39;00m SocketError \u001b[38;5;28;01mas\u001b[39;00m e:\n\u001b[1;32m--> 186\u001b[0m     \u001b[38;5;28;01mraise\u001b[39;00m NewConnectionError(\n\u001b[0;32m    187\u001b[0m         \u001b[38;5;28mself\u001b[39m, \u001b[38;5;124m\"\u001b[39m\u001b[38;5;124mFailed to establish a new connection: \u001b[39m\u001b[38;5;132;01m%s\u001b[39;00m\u001b[38;5;124m\"\u001b[39m \u001b[38;5;241m%\u001b[39m e\n\u001b[0;32m    188\u001b[0m     )\n\u001b[0;32m    190\u001b[0m \u001b[38;5;28;01mreturn\u001b[39;00m conn\n",
      "\u001b[1;31mNewConnectionError\u001b[0m: <urllib3.connection.HTTPSConnection object at 0x000002265D36F100>: Failed to establish a new connection: [Errno 11001] getaddrinfo failed",
      "\nDuring handling of the above exception, another exception occurred:\n",
      "\u001b[1;31mMaxRetryError\u001b[0m                             Traceback (most recent call last)",
      "File \u001b[1;32mC:\\ProgramData\\Anaconda3\\lib\\site-packages\\requests\\adapters.py:440\u001b[0m, in \u001b[0;36mHTTPAdapter.send\u001b[1;34m(self, request, stream, timeout, verify, cert, proxies)\u001b[0m\n\u001b[0;32m    439\u001b[0m \u001b[38;5;28;01mif\u001b[39;00m \u001b[38;5;129;01mnot\u001b[39;00m chunked:\n\u001b[1;32m--> 440\u001b[0m     resp \u001b[38;5;241m=\u001b[39m \u001b[43mconn\u001b[49m\u001b[38;5;241;43m.\u001b[39;49m\u001b[43murlopen\u001b[49m\u001b[43m(\u001b[49m\n\u001b[0;32m    441\u001b[0m \u001b[43m        \u001b[49m\u001b[43mmethod\u001b[49m\u001b[38;5;241;43m=\u001b[39;49m\u001b[43mrequest\u001b[49m\u001b[38;5;241;43m.\u001b[39;49m\u001b[43mmethod\u001b[49m\u001b[43m,\u001b[49m\n\u001b[0;32m    442\u001b[0m \u001b[43m        \u001b[49m\u001b[43murl\u001b[49m\u001b[38;5;241;43m=\u001b[39;49m\u001b[43murl\u001b[49m\u001b[43m,\u001b[49m\n\u001b[0;32m    443\u001b[0m \u001b[43m        \u001b[49m\u001b[43mbody\u001b[49m\u001b[38;5;241;43m=\u001b[39;49m\u001b[43mrequest\u001b[49m\u001b[38;5;241;43m.\u001b[39;49m\u001b[43mbody\u001b[49m\u001b[43m,\u001b[49m\n\u001b[0;32m    444\u001b[0m \u001b[43m        \u001b[49m\u001b[43mheaders\u001b[49m\u001b[38;5;241;43m=\u001b[39;49m\u001b[43mrequest\u001b[49m\u001b[38;5;241;43m.\u001b[39;49m\u001b[43mheaders\u001b[49m\u001b[43m,\u001b[49m\n\u001b[0;32m    445\u001b[0m \u001b[43m        \u001b[49m\u001b[43mredirect\u001b[49m\u001b[38;5;241;43m=\u001b[39;49m\u001b[38;5;28;43;01mFalse\u001b[39;49;00m\u001b[43m,\u001b[49m\n\u001b[0;32m    446\u001b[0m \u001b[43m        \u001b[49m\u001b[43massert_same_host\u001b[49m\u001b[38;5;241;43m=\u001b[39;49m\u001b[38;5;28;43;01mFalse\u001b[39;49;00m\u001b[43m,\u001b[49m\n\u001b[0;32m    447\u001b[0m \u001b[43m        \u001b[49m\u001b[43mpreload_content\u001b[49m\u001b[38;5;241;43m=\u001b[39;49m\u001b[38;5;28;43;01mFalse\u001b[39;49;00m\u001b[43m,\u001b[49m\n\u001b[0;32m    448\u001b[0m \u001b[43m        \u001b[49m\u001b[43mdecode_content\u001b[49m\u001b[38;5;241;43m=\u001b[39;49m\u001b[38;5;28;43;01mFalse\u001b[39;49;00m\u001b[43m,\u001b[49m\n\u001b[0;32m    449\u001b[0m \u001b[43m        \u001b[49m\u001b[43mretries\u001b[49m\u001b[38;5;241;43m=\u001b[39;49m\u001b[38;5;28;43mself\u001b[39;49m\u001b[38;5;241;43m.\u001b[39;49m\u001b[43mmax_retries\u001b[49m\u001b[43m,\u001b[49m\n\u001b[0;32m    450\u001b[0m \u001b[43m        \u001b[49m\u001b[43mtimeout\u001b[49m\u001b[38;5;241;43m=\u001b[39;49m\u001b[43mtimeout\u001b[49m\n\u001b[0;32m    451\u001b[0m \u001b[43m    \u001b[49m\u001b[43m)\u001b[49m\n\u001b[0;32m    453\u001b[0m \u001b[38;5;66;03m# Send the request.\u001b[39;00m\n\u001b[0;32m    454\u001b[0m \u001b[38;5;28;01melse\u001b[39;00m:\n",
      "File \u001b[1;32mC:\\ProgramData\\Anaconda3\\lib\\site-packages\\urllib3\\connectionpool.py:785\u001b[0m, in \u001b[0;36mHTTPConnectionPool.urlopen\u001b[1;34m(self, method, url, body, headers, retries, redirect, assert_same_host, timeout, pool_timeout, release_conn, chunked, body_pos, **response_kw)\u001b[0m\n\u001b[0;32m    783\u001b[0m     e \u001b[38;5;241m=\u001b[39m ProtocolError(\u001b[38;5;124m\"\u001b[39m\u001b[38;5;124mConnection aborted.\u001b[39m\u001b[38;5;124m\"\u001b[39m, e)\n\u001b[1;32m--> 785\u001b[0m retries \u001b[38;5;241m=\u001b[39m \u001b[43mretries\u001b[49m\u001b[38;5;241;43m.\u001b[39;49m\u001b[43mincrement\u001b[49m\u001b[43m(\u001b[49m\n\u001b[0;32m    786\u001b[0m \u001b[43m    \u001b[49m\u001b[43mmethod\u001b[49m\u001b[43m,\u001b[49m\u001b[43m \u001b[49m\u001b[43murl\u001b[49m\u001b[43m,\u001b[49m\u001b[43m \u001b[49m\u001b[43merror\u001b[49m\u001b[38;5;241;43m=\u001b[39;49m\u001b[43me\u001b[49m\u001b[43m,\u001b[49m\u001b[43m \u001b[49m\u001b[43m_pool\u001b[49m\u001b[38;5;241;43m=\u001b[39;49m\u001b[38;5;28;43mself\u001b[39;49m\u001b[43m,\u001b[49m\u001b[43m \u001b[49m\u001b[43m_stacktrace\u001b[49m\u001b[38;5;241;43m=\u001b[39;49m\u001b[43msys\u001b[49m\u001b[38;5;241;43m.\u001b[39;49m\u001b[43mexc_info\u001b[49m\u001b[43m(\u001b[49m\u001b[43m)\u001b[49m\u001b[43m[\u001b[49m\u001b[38;5;241;43m2\u001b[39;49m\u001b[43m]\u001b[49m\n\u001b[0;32m    787\u001b[0m \u001b[43m\u001b[49m\u001b[43m)\u001b[49m\n\u001b[0;32m    788\u001b[0m retries\u001b[38;5;241m.\u001b[39msleep()\n",
      "File \u001b[1;32mC:\\ProgramData\\Anaconda3\\lib\\site-packages\\urllib3\\util\\retry.py:592\u001b[0m, in \u001b[0;36mRetry.increment\u001b[1;34m(self, method, url, response, error, _pool, _stacktrace)\u001b[0m\n\u001b[0;32m    591\u001b[0m \u001b[38;5;28;01mif\u001b[39;00m new_retry\u001b[38;5;241m.\u001b[39mis_exhausted():\n\u001b[1;32m--> 592\u001b[0m     \u001b[38;5;28;01mraise\u001b[39;00m MaxRetryError(_pool, url, error \u001b[38;5;129;01mor\u001b[39;00m ResponseError(cause))\n\u001b[0;32m    594\u001b[0m log\u001b[38;5;241m.\u001b[39mdebug(\u001b[38;5;124m\"\u001b[39m\u001b[38;5;124mIncremented Retry for (url=\u001b[39m\u001b[38;5;124m'\u001b[39m\u001b[38;5;132;01m%s\u001b[39;00m\u001b[38;5;124m'\u001b[39m\u001b[38;5;124m): \u001b[39m\u001b[38;5;132;01m%r\u001b[39;00m\u001b[38;5;124m\"\u001b[39m, url, new_retry)\n",
      "\u001b[1;31mMaxRetryError\u001b[0m: HTTPSConnectionPool(host='www.amazon.in', port=443): Max retries exceeded with url: /realme-Oxygen-Storage-Processor-Battery/dp/B09FK8MBMJ/ref=sr_1_1?crid=39ABMN7KFEZIO&keywords=realme+mobiles&qid=1667317487&qu=eyJxc2MiOiI2LjU5IiwicXNhIjoiNi4wOSIsInFzcCI6IjQuMDIifQ%3D%3D&sprefix=realme+mobile%2Caps%2C389&sr=8-1 (Caused by NewConnectionError('<urllib3.connection.HTTPSConnection object at 0x000002265D36F100>: Failed to establish a new connection: [Errno 11001] getaddrinfo failed'))",
      "\nDuring handling of the above exception, another exception occurred:\n",
      "\u001b[1;31mConnectionError\u001b[0m                           Traceback (most recent call last)",
      "Input \u001b[1;32mIn [3]\u001b[0m, in \u001b[0;36m<cell line: 2>\u001b[1;34m()\u001b[0m\n\u001b[0;32m      1\u001b[0m baseurl\u001b[38;5;241m=\u001b[39m\u001b[38;5;124m\"\u001b[39m\u001b[38;5;124mhttps://www.amazon.in/realme-Oxygen-Storage-Processor-Battery/dp/B09FK8MBMJ/ref=sr_1_1?crid=39ABMN7KFEZIO&keywords=realme+mobiles&qid=1667317487&qu=eyJxc2MiOiI2LjU5IiwicXNhIjoiNi4wOSIsInFzcCI6IjQuMDIifQ\u001b[39m\u001b[38;5;124m%\u001b[39m\u001b[38;5;124m3D\u001b[39m\u001b[38;5;124m%\u001b[39m\u001b[38;5;124m3D&sprefix=realme+mobile\u001b[39m\u001b[38;5;124m%\u001b[39m\u001b[38;5;124m2Caps\u001b[39m\u001b[38;5;124m%\u001b[39m\u001b[38;5;124m2C389&sr=8-1\u001b[39m\u001b[38;5;124m\"\u001b[39m\n\u001b[1;32m----> 2\u001b[0m res1\u001b[38;5;241m=\u001b[39m\u001b[43mrequests\u001b[49m\u001b[38;5;241;43m.\u001b[39;49m\u001b[43mget\u001b[49m\u001b[43m(\u001b[49m\u001b[43mbaseurl\u001b[49m\u001b[43m,\u001b[49m\u001b[43mheaders\u001b[49m\u001b[38;5;241;43m=\u001b[39;49m\u001b[43mheaders\u001b[49m\u001b[43m)\u001b[49m\n\u001b[0;32m      3\u001b[0m \u001b[38;5;28mprint\u001b[39m(res1)\n\u001b[0;32m      4\u001b[0m a\u001b[38;5;241m=\u001b[39mBeautifulSoup(res1\u001b[38;5;241m.\u001b[39mcontent,\u001b[38;5;124m\"\u001b[39m\u001b[38;5;124mhtml.parser\u001b[39m\u001b[38;5;124m\"\u001b[39m)\n",
      "File \u001b[1;32mC:\\ProgramData\\Anaconda3\\lib\\site-packages\\requests\\api.py:75\u001b[0m, in \u001b[0;36mget\u001b[1;34m(url, params, **kwargs)\u001b[0m\n\u001b[0;32m     64\u001b[0m \u001b[38;5;28;01mdef\u001b[39;00m \u001b[38;5;21mget\u001b[39m(url, params\u001b[38;5;241m=\u001b[39m\u001b[38;5;28;01mNone\u001b[39;00m, \u001b[38;5;241m*\u001b[39m\u001b[38;5;241m*\u001b[39mkwargs):\n\u001b[0;32m     65\u001b[0m     \u001b[38;5;124mr\u001b[39m\u001b[38;5;124;03m\"\"\"Sends a GET request.\u001b[39;00m\n\u001b[0;32m     66\u001b[0m \n\u001b[0;32m     67\u001b[0m \u001b[38;5;124;03m    :param url: URL for the new :class:`Request` object.\u001b[39;00m\n\u001b[1;32m   (...)\u001b[0m\n\u001b[0;32m     72\u001b[0m \u001b[38;5;124;03m    :rtype: requests.Response\u001b[39;00m\n\u001b[0;32m     73\u001b[0m \u001b[38;5;124;03m    \"\"\"\u001b[39;00m\n\u001b[1;32m---> 75\u001b[0m     \u001b[38;5;28;01mreturn\u001b[39;00m request(\u001b[38;5;124m'\u001b[39m\u001b[38;5;124mget\u001b[39m\u001b[38;5;124m'\u001b[39m, url, params\u001b[38;5;241m=\u001b[39mparams, \u001b[38;5;241m*\u001b[39m\u001b[38;5;241m*\u001b[39mkwargs)\n",
      "File \u001b[1;32mC:\\ProgramData\\Anaconda3\\lib\\site-packages\\requests\\api.py:61\u001b[0m, in \u001b[0;36mrequest\u001b[1;34m(method, url, **kwargs)\u001b[0m\n\u001b[0;32m     57\u001b[0m \u001b[38;5;66;03m# By using the 'with' statement we are sure the session is closed, thus we\u001b[39;00m\n\u001b[0;32m     58\u001b[0m \u001b[38;5;66;03m# avoid leaving sockets open which can trigger a ResourceWarning in some\u001b[39;00m\n\u001b[0;32m     59\u001b[0m \u001b[38;5;66;03m# cases, and look like a memory leak in others.\u001b[39;00m\n\u001b[0;32m     60\u001b[0m \u001b[38;5;28;01mwith\u001b[39;00m sessions\u001b[38;5;241m.\u001b[39mSession() \u001b[38;5;28;01mas\u001b[39;00m session:\n\u001b[1;32m---> 61\u001b[0m     \u001b[38;5;28;01mreturn\u001b[39;00m session\u001b[38;5;241m.\u001b[39mrequest(method\u001b[38;5;241m=\u001b[39mmethod, url\u001b[38;5;241m=\u001b[39murl, \u001b[38;5;241m*\u001b[39m\u001b[38;5;241m*\u001b[39mkwargs)\n",
      "File \u001b[1;32mC:\\ProgramData\\Anaconda3\\lib\\site-packages\\requests\\sessions.py:529\u001b[0m, in \u001b[0;36mSession.request\u001b[1;34m(self, method, url, params, data, headers, cookies, files, auth, timeout, allow_redirects, proxies, hooks, stream, verify, cert, json)\u001b[0m\n\u001b[0;32m    524\u001b[0m send_kwargs \u001b[38;5;241m=\u001b[39m {\n\u001b[0;32m    525\u001b[0m     \u001b[38;5;124m'\u001b[39m\u001b[38;5;124mtimeout\u001b[39m\u001b[38;5;124m'\u001b[39m: timeout,\n\u001b[0;32m    526\u001b[0m     \u001b[38;5;124m'\u001b[39m\u001b[38;5;124mallow_redirects\u001b[39m\u001b[38;5;124m'\u001b[39m: allow_redirects,\n\u001b[0;32m    527\u001b[0m }\n\u001b[0;32m    528\u001b[0m send_kwargs\u001b[38;5;241m.\u001b[39mupdate(settings)\n\u001b[1;32m--> 529\u001b[0m resp \u001b[38;5;241m=\u001b[39m \u001b[38;5;28mself\u001b[39m\u001b[38;5;241m.\u001b[39msend(prep, \u001b[38;5;241m*\u001b[39m\u001b[38;5;241m*\u001b[39msend_kwargs)\n\u001b[0;32m    531\u001b[0m \u001b[38;5;28;01mreturn\u001b[39;00m resp\n",
      "File \u001b[1;32mC:\\ProgramData\\Anaconda3\\lib\\site-packages\\requests\\sessions.py:645\u001b[0m, in \u001b[0;36mSession.send\u001b[1;34m(self, request, **kwargs)\u001b[0m\n\u001b[0;32m    642\u001b[0m start \u001b[38;5;241m=\u001b[39m preferred_clock()\n\u001b[0;32m    644\u001b[0m \u001b[38;5;66;03m# Send the request\u001b[39;00m\n\u001b[1;32m--> 645\u001b[0m r \u001b[38;5;241m=\u001b[39m adapter\u001b[38;5;241m.\u001b[39msend(request, \u001b[38;5;241m*\u001b[39m\u001b[38;5;241m*\u001b[39mkwargs)\n\u001b[0;32m    647\u001b[0m \u001b[38;5;66;03m# Total elapsed time of the request (approximately)\u001b[39;00m\n\u001b[0;32m    648\u001b[0m elapsed \u001b[38;5;241m=\u001b[39m preferred_clock() \u001b[38;5;241m-\u001b[39m start\n",
      "File \u001b[1;32mC:\\ProgramData\\Anaconda3\\lib\\site-packages\\requests\\adapters.py:519\u001b[0m, in \u001b[0;36mHTTPAdapter.send\u001b[1;34m(self, request, stream, timeout, verify, cert, proxies)\u001b[0m\n\u001b[0;32m    515\u001b[0m     \u001b[38;5;28;01mif\u001b[39;00m \u001b[38;5;28misinstance\u001b[39m(e\u001b[38;5;241m.\u001b[39mreason, _SSLError):\n\u001b[0;32m    516\u001b[0m         \u001b[38;5;66;03m# This branch is for urllib3 v1.22 and later.\u001b[39;00m\n\u001b[0;32m    517\u001b[0m         \u001b[38;5;28;01mraise\u001b[39;00m SSLError(e, request\u001b[38;5;241m=\u001b[39mrequest)\n\u001b[1;32m--> 519\u001b[0m     \u001b[38;5;28;01mraise\u001b[39;00m \u001b[38;5;167;01mConnectionError\u001b[39;00m(e, request\u001b[38;5;241m=\u001b[39mrequest)\n\u001b[0;32m    521\u001b[0m \u001b[38;5;28;01mexcept\u001b[39;00m ClosedPoolError \u001b[38;5;28;01mas\u001b[39;00m e:\n\u001b[0;32m    522\u001b[0m     \u001b[38;5;28;01mraise\u001b[39;00m \u001b[38;5;167;01mConnectionError\u001b[39;00m(e, request\u001b[38;5;241m=\u001b[39mrequest)\n",
      "\u001b[1;31mConnectionError\u001b[0m: HTTPSConnectionPool(host='www.amazon.in', port=443): Max retries exceeded with url: /realme-Oxygen-Storage-Processor-Battery/dp/B09FK8MBMJ/ref=sr_1_1?crid=39ABMN7KFEZIO&keywords=realme+mobiles&qid=1667317487&qu=eyJxc2MiOiI2LjU5IiwicXNhIjoiNi4wOSIsInFzcCI6IjQuMDIifQ%3D%3D&sprefix=realme+mobile%2Caps%2C389&sr=8-1 (Caused by NewConnectionError('<urllib3.connection.HTTPSConnection object at 0x000002265D36F100>: Failed to establish a new connection: [Errno 11001] getaddrinfo failed'))"
     ]
    }
   ],
   "source": [
    "baseurl=\"https://www.amazon.in/realme-Oxygen-Storage-Processor-Battery/dp/B09FK8MBMJ/ref=sr_1_1?crid=39ABMN7KFEZIO&keywords=realme+mobiles&qid=1667317487&qu=eyJxc2MiOiI2LjU5IiwicXNhIjoiNi4wOSIsInFzcCI6IjQuMDIifQ%3D%3D&sprefix=realme+mobile%2Caps%2C389&sr=8-1\"\n",
    "res1=requests.get(baseurl,headers=headers)\n",
    "print(res1)\n",
    "a=BeautifulSoup(res1.content,\"html.parser\")\n",
    "b=a.find('ul',{\"class\":\"a-unordered-list a-vertical a-spacing-mini\"})\n",
    "c=b.text\n",
    "#print(c)\n",
    "d=r'[0-9]+\\s?[M][p]'\n",
    "f=re.findall(d,c)\n",
    "print(f)\n",
    "\n",
    "\n",
    "\n",
    "k=r'[0-9]+\\.[0-9]+\\s?[cm]+'\n",
    "l=re.findall(k,c)\n",
    "print(l)\n",
    "m=r'[0-9]+\\s?[mAh]+'\n",
    "n=re.findall(m,c)\n",
    "print(n)\n",
    "\n",
    "o=a.find('span',{\"class\":\"a-price-whole\"})\n",
    "p=o.text\n",
    "print(p)\n",
    "q=a.find('span',{\"class\":\"a-size-large product-title-word-break\"})\n",
    "r=q.text\n",
    "#print(r)\n",
    "g=r'[0-9]+\\s?[G][B]+'\n",
    "h=re.findall(g,r)\n",
    "print(h)\n",
    "\n",
    "s=r'[R,r][A-Za-z]+\\s?[A-Za-z0-9]+\\s?[A-Za-z0-9]+'\n",
    "t=re.findall(s,r)\n",
    "print(t)\n",
    "\n",
    "u=r'[(][A-Za-z]+\\s?[A-Za-z0-9]+'\n",
    "y=re.findall(u,r)\n",
    "print(y)\n",
    "\n",
    "qq=a.find('tr',{\"class\":\"a-spacing-small po-operating_system\"})\n",
    "rr=qq.text\n",
    "print(rr)\n",
    "\n",
    "os='[A,a][A-Za-z]+\\s?[0-9]+'\n",
    "red=re.findall(os,rr)\n",
    "print(red)\n",
    "\n",
    "\n",
    "gh=a.find(\"tr\",{\"class\":\"a-spacing-small po-cellular_technology\"})\n",
    "#print(gh.text)\n",
    "bh=gh.text\n",
    "g1=r'[0-9]{1}\\s?[G]'\n",
    "h1=re.findall(g1,bh)\n",
    "print(h1)"
   ]
  },
  {
   "cell_type": "code",
   "execution_count": 12,
   "id": "7d0d4a44",
   "metadata": {},
   "outputs": [],
   "source": [
    "def details(baseurl,headers):\n",
    "    res1=requests.get(baseurl,headers=headers)\n",
    "    #print(res1)\n",
    "    a=BeautifulSoup(res1.content,\"html.parser\")\n",
    "    b=a.find('ul',{\"class\":\"a-unordered-list a-vertical a-spacing-mini\"})\n",
    "    c=b.text\n",
    "    #print(c)\n",
    "    d=r'[0-9]+\\s?[M][P]'\n",
    "    f=re.findall(d,c)\n",
    "    print(f)\n",
    "\n",
    "    k=r'[0-9]+\\.[0-9]+\\s?[cm]+'\n",
    "    l=re.findall(k,c)\n",
    "    print(l)\n",
    "    m=r'[0-9]+\\s?[m,M][A][h,H]'\n",
    "    n=re.findall(m,c)\n",
    "    print(n)\n",
    "\n",
    "    o=a.find('span',{\"class\":\"a-price-whole\"})\n",
    "    p=o.text\n",
    "    print(p)\n",
    "    q=a.find('span',{\"class\":\"a-size-large product-title-word-break\"})\n",
    "    r=q.text\n",
    "    #print(r)\n",
    "    \n",
    "    g=r'[0-9]+\\s?[G][B]'\n",
    "    h=re.findall(g,r)\n",
    "    print(h)\n",
    "\n",
    "    s=r'[r,R][eal][A-Za-z]+\\s?[A-Za-z0-9]+\\s?[A-Za-z0-9]+'\n",
    "    t=re.findall(s,r)\n",
    "    print(t)\n",
    "\n",
    "    u=r'[(][A-Za-z]+\\s?[A-Za-z0-9]+'\n",
    "    y=re.findall(u,r)\n",
    "    print(y)\n",
    "    \n",
    "    qq=a.find('tr',{\"class\":\"a-spacing-small po-operating_system\"})\n",
    "    rr=qq.text\n",
    "    #print(rr)\n",
    "\n",
    "    os='[A,a][A-Za-z]+\\s?[0-9]*'\n",
    "    red=re.findall(os,rr)\n",
    "    print(red)\n",
    "    \n",
    "    gh=a.find(\"tr\",{\"class\":\"a-spacing-small po-cellular_technology\"})\n",
    "    #print(gh.text)\n",
    "    bh=gh.text\n",
    "    g1=r'[0-9]{1}\\s?[G]'\n",
    "    h1=re.findall(g1,bh)\n",
    "    print(h1)\n",
    "    \n",
    "    \n",
    "    hn=a.find(\"span\",{\"class\":\"a-icon-alt\"})\n",
    "    st=hn.text\n",
    "    sta=r'[0-9]+[.][0-9]*'\n",
    "    star=re.findall(sta,st)\n",
    "    print(star)\n",
    "\n",
    "    us=a.find('span',{\"id\":\"acrCustomerReviewText\",\"class\":\"a-size-base\"})\n",
    "    ui=us.text\n",
    "    use=r'[0-9]*[,]*[0-9]+'\n",
    "    uss=re.findall(use,ui)\n",
    "    print(uss)\n",
    "    \n",
    "    storage.append(h[1])\n",
    "    camera_px.append(f[0])\n",
    "    self_px.append(f[-1])\n",
    "    colour.append(y[0])\n",
    "    name.append(t[0])\n",
    "    ram.append(h[0])\n",
    "    if h1==[]:\n",
    "        tech.append(\"4G\")\n",
    "    else:\n",
    "        tech.append(h1[0])\n",
    "    if n==[]:\n",
    "        battery.append(\"5000mAH\")\n",
    "    else:\n",
    "        battery.append(n[0])\n",
    "    if l==[]:\n",
    "        display.append(\"16.5 cm\")\n",
    "    else:\n",
    "        display.append(l[0])\n",
    "    price.append(p)\n",
    "    os_sys.append(red[0])\n",
    "    star_rate.append(star[0])\n",
    "    user_rate.append(uss[0])"
   ]
  },
  {
   "cell_type": "code",
   "execution_count": 13,
   "id": "210a4e07",
   "metadata": {},
   "outputs": [],
   "source": [
    "storage=[]\n",
    "camera_px=[]\n",
    "self_px=[]\n",
    "colour=[]\n",
    "name=[]\n",
    "ram=[]\n",
    "tech=[]\n",
    "battery=[]\n",
    "display=[]\n",
    "price=[]\n",
    "os_sys=[]\n",
    "user_rate=[]\n",
    "star_rate=[]"
   ]
  },
  {
   "cell_type": "code",
   "execution_count": 14,
   "id": "666470c2",
   "metadata": {},
   "outputs": [
    {
     "name": "stdout",
     "output_type": "stream",
     "text": [
      "['8MP', '5MP']\n",
      "['16.51 cm']\n",
      "['5000 mAh']\n",
      "7,499.\n",
      "['2GB', '32GB']\n",
      "['realme narzo 50i']\n",
      "['(Mint Green']\n",
      "['Android 11']\n",
      "['4G']\n",
      "['4.0']\n",
      "['27,776']\n"
     ]
    }
   ],
   "source": [
    "b=\"https://www.amazon.in/realme-narzo-Mint-Green-Storage/dp/B09FKDH6FS/ref=sr_1_3?crid=39ABMN7KFEZIO&keywords=realme+mobiles&qid=1667317487&qu=eyJxc2MiOiI2LjU5IiwicXNhIjoiNi4wOSIsInFzcCI6IjQuMDIifQ%3D%3D&sprefix=realme+mobile%2Caps%2C389&sr=8-3\"\n",
    "details(b,headers)"
   ]
  },
  {
   "cell_type": "code",
   "execution_count": 15,
   "id": "64f29c9a",
   "metadata": {},
   "outputs": [
    {
     "name": "stdout",
     "output_type": "stream",
     "text": [
      "['8MP', '5MP']\n",
      "['16.51 cm']\n",
      "['5000 mAh']\n",
      "8,999.\n",
      "['4GB', '64GB']\n",
      "['realme narzo 50i']\n",
      "['(Mint Green']\n",
      "['Android 11']\n",
      "['4G']\n",
      "['4.0']\n",
      "['27,776']\n"
     ]
    }
   ],
   "source": [
    "b1=\"https://www.amazon.in/realme-narzo-Mint-Green-Storage/dp/B09FKBQ3JM/ref=sr_1_2?crid=2JO9KXB3PBRNO&keywords=realme&qid=1667326583&qu=eyJxc2MiOiI2LjM4IiwicXNhIjoiNS44NCIsInFzcCI6IjQuNjgifQ%3D%3D&sprefix=realme%2Caps%2C331&sr=8-2\"\n",
    "details(b1,headers)"
   ]
  },
  {
   "cell_type": "code",
   "execution_count": 16,
   "id": "d6ab38e2",
   "metadata": {},
   "outputs": [
    {
     "name": "stdout",
     "output_type": "stream",
     "text": [
      "['50MP', '2MP', '2MP', '50MP', '16MP']\n",
      "[]\n",
      "['5000mAh']\n",
      "12,999.\n",
      "['4GB', '64GB']\n",
      "['realme narzo 50']\n",
      "['(Speed Black']\n",
      "['Android 11']\n",
      "[]\n",
      "['4.2']\n",
      "['10,853']\n"
     ]
    }
   ],
   "source": [
    "b2=\"https://www.amazon.in/realme-Storage-Processor-Triple-Display/dp/B09RMG1M98/ref=sr_1_3?crid=N7E2C8GJ1IEI&keywords=realme&qid=1667576723&qu=eyJxc2MiOiI2LjM4IiwicXNhIjoiNS44NCIsInFzcCI6IjQuNjgifQ%3D%3D&sprefix=realme+%2Caps%2C864&sr=8-3\"\n",
    "details(b2,headers)"
   ]
  },
  {
   "cell_type": "code",
   "execution_count": 17,
   "id": "1ba3a7dc",
   "metadata": {},
   "outputs": [
    {
     "name": "stdout",
     "output_type": "stream",
     "text": [
      "['50MP', '2MP', '2MP', '50MP', '16MP']\n",
      "[]\n",
      "['5000mAh']\n",
      "15,499.\n",
      "['6GB', '128GB']\n",
      "['realme narzo 50']\n",
      "['(Speed Black']\n",
      "['Android 11']\n",
      "[]\n",
      "['4.2']\n",
      "['10,853']\n"
     ]
    }
   ],
   "source": [
    "b3=\"https://www.amazon.in/realme-Storage-Processor-Triple-Display/dp/B09RMN7HY3/ref=sr_1_4?crid=N7E2C8GJ1IEI&keywords=realme&qid=1667576723&qu=eyJxc2MiOiI2LjM4IiwicXNhIjoiNS44NCIsInFzcCI6IjQuNjgifQ%3D%3D&sprefix=realme+%2Caps%2C864&sr=8-4\"\n",
    "details(b3,headers)"
   ]
  },
  {
   "cell_type": "code",
   "execution_count": 18,
   "id": "123c8634",
   "metadata": {},
   "outputs": [
    {
     "name": "stdout",
     "output_type": "stream",
     "text": [
      "['48MP', '8MP', '2MP', '16MP']\n",
      "['16.3 cm']\n",
      "['5000 mAh']\n",
      "21,990.\n",
      "['6GB', '128GB']\n",
      "['realme Narzo 50']\n",
      "['(Hyper Black']\n",
      "['Android 12']\n",
      "['5G']\n",
      "['4.1']\n",
      "['2,479']\n"
     ]
    }
   ],
   "source": [
    "b4=\"https://www.amazon.in/realme-Storage-Dimensity-Processor-Display/dp/B09ZBG7J7F/ref=sr_1_5?crid=N7E2C8GJ1IEI&keywords=realme&qid=1667576723&qu=eyJxc2MiOiI2LjM4IiwicXNhIjoiNS44NCIsInFzcCI6IjQuNjgifQ%3D%3D&sprefix=realme+%2Caps%2C864&sr=8-5\"\n",
    "details(b4,headers)"
   ]
  },
  {
   "cell_type": "code",
   "execution_count": 19,
   "id": "5b6b3fc5",
   "metadata": {},
   "outputs": [
    {
     "name": "stdout",
     "output_type": "stream",
     "text": [
      "['50MP', '2MP', '2MP', '8MP']\n",
      "['16.51 cm']\n",
      "['6000 mAh']\n",
      "12,499.\n",
      "['4GB', '128 GB']\n",
      "['realme narzo 50A']\n",
      "['(Oxygen Blue']\n",
      "['Android 11']\n",
      "['4G']\n",
      "['4.2']\n",
      "['40,352']\n"
     ]
    }
   ],
   "source": [
    "b5=\"https://www.amazon.in/realme-Oxygen-Storage-Processor-Battery/dp/B09FK8MBMJ/ref=sr_1_6?crid=N7E2C8GJ1IEI&keywords=realme&qid=1667576723&qu=eyJxc2MiOiI2LjM4IiwicXNhIjoiNS44NCIsInFzcCI6IjQuNjgifQ%3D%3D&sprefix=realme+%2Caps%2C864&sr=8-6\"\n",
    "details(b5,headers)"
   ]
  },
  {
   "cell_type": "code",
   "execution_count": 20,
   "id": "f16a4ccf",
   "metadata": {},
   "outputs": [
    {
     "name": "stdout",
     "output_type": "stream",
     "text": [
      "['50MP', '8MP']\n",
      "['16.7 cm']\n",
      "['5000 mAh']\n",
      "12,499.\n",
      "['4GB', '128GB']\n",
      "['realme narzo 50A']\n",
      "['(Flash Black', '(No Charger']\n",
      "['Android 11']\n"
     ]
    },
    {
     "ename": "AttributeError",
     "evalue": "'NoneType' object has no attribute 'text'",
     "output_type": "error",
     "traceback": [
      "\u001b[1;31m---------------------------------------------------------------------------\u001b[0m",
      "\u001b[1;31mAttributeError\u001b[0m                            Traceback (most recent call last)",
      "Input \u001b[1;32mIn [20]\u001b[0m, in \u001b[0;36m<cell line: 2>\u001b[1;34m()\u001b[0m\n\u001b[0;32m      1\u001b[0m b6\u001b[38;5;241m=\u001b[39m\u001b[38;5;124m\"\u001b[39m\u001b[38;5;124mhttps://www.amazon.in/realme-Storage-Display-Charger-Variant/dp/B09WYXDNWW/ref=sr_1_7?crid=N7E2C8GJ1IEI&keywords=realme&qid=1667576723&qu=eyJxc2MiOiI2LjM4IiwicXNhIjoiNS44NCIsInFzcCI6IjQuNjgifQ\u001b[39m\u001b[38;5;124m%\u001b[39m\u001b[38;5;124m3D\u001b[39m\u001b[38;5;124m%\u001b[39m\u001b[38;5;124m3D&sprefix=realme+\u001b[39m\u001b[38;5;124m%\u001b[39m\u001b[38;5;124m2Caps\u001b[39m\u001b[38;5;124m%\u001b[39m\u001b[38;5;124m2C864&sr=8-7\u001b[39m\u001b[38;5;124m\"\u001b[39m\n\u001b[1;32m----> 2\u001b[0m \u001b[43mdetails\u001b[49m\u001b[43m(\u001b[49m\u001b[43mb6\u001b[49m\u001b[43m,\u001b[49m\u001b[43mheaders\u001b[49m\u001b[43m)\u001b[49m\n",
      "Input \u001b[1;32mIn [12]\u001b[0m, in \u001b[0;36mdetails\u001b[1;34m(baseurl, headers)\u001b[0m\n\u001b[0;32m     46\u001b[0m gh\u001b[38;5;241m=\u001b[39ma\u001b[38;5;241m.\u001b[39mfind(\u001b[38;5;124m\"\u001b[39m\u001b[38;5;124mtr\u001b[39m\u001b[38;5;124m\"\u001b[39m,{\u001b[38;5;124m\"\u001b[39m\u001b[38;5;124mclass\u001b[39m\u001b[38;5;124m\"\u001b[39m:\u001b[38;5;124m\"\u001b[39m\u001b[38;5;124ma-spacing-small po-cellular_technology\u001b[39m\u001b[38;5;124m\"\u001b[39m})\n\u001b[0;32m     47\u001b[0m \u001b[38;5;66;03m#print(gh.text)\u001b[39;00m\n\u001b[1;32m---> 48\u001b[0m bh\u001b[38;5;241m=\u001b[39m\u001b[43mgh\u001b[49m\u001b[38;5;241;43m.\u001b[39;49m\u001b[43mtext\u001b[49m\n\u001b[0;32m     49\u001b[0m g1\u001b[38;5;241m=\u001b[39m\u001b[38;5;124mr\u001b[39m\u001b[38;5;124m'\u001b[39m\u001b[38;5;124m[0-9]\u001b[39m\u001b[38;5;132;01m{1}\u001b[39;00m\u001b[38;5;124m\\\u001b[39m\u001b[38;5;124ms?[G]\u001b[39m\u001b[38;5;124m'\u001b[39m\n\u001b[0;32m     50\u001b[0m h1\u001b[38;5;241m=\u001b[39mre\u001b[38;5;241m.\u001b[39mfindall(g1,bh)\n",
      "\u001b[1;31mAttributeError\u001b[0m: 'NoneType' object has no attribute 'text'"
     ]
    }
   ],
   "source": [
    "b6=\"https://www.amazon.in/realme-Storage-Display-Charger-Variant/dp/B09WYXDNWW/ref=sr_1_7?crid=N7E2C8GJ1IEI&keywords=realme&qid=1667576723&qu=eyJxc2MiOiI2LjM4IiwicXNhIjoiNS44NCIsInFzcCI6IjQuNjgifQ%3D%3D&sprefix=realme+%2Caps%2C864&sr=8-7\"\n",
    "details(b6,headers)"
   ]
  },
  {
   "cell_type": "code",
   "execution_count": 21,
   "id": "1c1b7f81",
   "metadata": {},
   "outputs": [
    {
     "name": "stdout",
     "output_type": "stream",
     "text": [
      "['50MP', '8MP']\n",
      "['16.7 cm']\n",
      "['5000 mAh']\n",
      "11,499.\n",
      "['4GB', '64GB']\n",
      "['realme narzo 50A']\n",
      "['(Flash Blue']\n",
      "['Android 11']\n",
      "[]\n",
      "['4.0']\n",
      "['5,677']\n"
     ]
    }
   ],
   "source": [
    "b7=\"https://www.amazon.in/realme-Storage-Display-Charger-Included/dp/B0BG1PN3H7/ref=sr_1_17?crid=N7E2C8GJ1IEI&keywords=realme&qid=1667577994&qu=eyJxc2MiOiI2LjM4IiwicXNhIjoiNS44NCIsInFzcCI6IjQuNjgifQ%3D%3D&sprefix=realme+%2Caps%2C864&sr=8-17\"\n",
    "details(b7,headers)"
   ]
  },
  {
   "cell_type": "code",
   "execution_count": 22,
   "id": "147f1c60",
   "metadata": {},
   "outputs": [
    {
     "name": "stdout",
     "output_type": "stream",
     "text": [
      "['50MP', '2MP', '2MP', '8MP']\n",
      "['16.51 cm']\n",
      "[]\n",
      "11,499.\n",
      "['4GB', '64 GB']\n",
      "['realme narzo 50A']\n",
      "['(Oxygen Blue']\n",
      "['Android 11']\n",
      "['4G']\n",
      "['4.2']\n",
      "['40,352']\n"
     ]
    }
   ],
   "source": [
    "b8=\"https://www.amazon.in/realme-Oxygen-Storage-Processor-Battery/dp/B09FKD67CS/ref=sr_1_9?crid=N7E2C8GJ1IEI&keywords=realme&qid=1667576723&qu=eyJxc2MiOiI2LjM4IiwicXNhIjoiNS44NCIsInFzcCI6IjQuNjgifQ%3D%3D&sprefix=realme+%2Caps%2C864&sr=8-9\"\n",
    "details(b8,headers)"
   ]
  },
  {
   "cell_type": "code",
   "execution_count": 23,
   "id": "d878ebf6",
   "metadata": {},
   "outputs": [
    {
     "name": "stdout",
     "output_type": "stream",
     "text": [
      "['8MP', '5MP']\n",
      "[]\n",
      "['5000mAh']\n",
      "7,999.\n",
      "['3 GB', '32 GB']\n",
      "['realme narzo 50i']\n",
      "['(Dark Blue']\n",
      "['Android 11']\n",
      "[]\n",
      "['4.1']\n",
      "['1,198']\n"
     ]
    }
   ],
   "source": [
    "b9=\"https://www.amazon.in/realme-Storage-Octa-core-Processor-Battery/dp/B0BBMGZ5T4/ref=sr_1_10?crid=N7E2C8GJ1IEI&keywords=realme&qid=1667576723&qu=eyJxc2MiOiI2LjM4IiwicXNhIjoiNS44NCIsInFzcCI6IjQuNjgifQ%3D%3D&sprefix=realme+%2Caps%2C864&sr=8-10\"\n",
    "details(b9,headers)"
   ]
  },
  {
   "cell_type": "code",
   "execution_count": 24,
   "id": "3c7acd99",
   "metadata": {},
   "outputs": [
    {
     "name": "stdout",
     "output_type": "stream",
     "text": [
      "['50MP', '2MP', '2MP', '50MP', '16MP']\n",
      "[]\n",
      "['5000mAh']\n",
      "12,999.\n",
      "['4GB', '64GB']\n",
      "['realme narzo 50']\n",
      "['(Speed Blue']\n",
      "['Android 11']\n",
      "[]\n",
      "['4.2']\n",
      "['10,853']\n"
     ]
    }
   ],
   "source": [
    "b10=\"https://www.amazon.in/realme-Storage-Processor-Triple-Display/dp/B09RMQYHLH/ref=sr_1_12?crid=N7E2C8GJ1IEI&keywords=realme&qid=1667576723&qu=eyJxc2MiOiI2LjM4IiwicXNhIjoiNS44NCIsInFzcCI6IjQuNjgifQ%3D%3D&sprefix=realme+%2Caps%2C864&sr=8-12\"\n",
    "details(b10,headers)"
   ]
  },
  {
   "cell_type": "code",
   "execution_count": 25,
   "id": "874bdad7",
   "metadata": {},
   "outputs": [
    {
     "name": "stdout",
     "output_type": "stream",
     "text": [
      "['50MP', '2MP', '3MP', '8MP']\n",
      "['16.76 cm']\n",
      "['5000 mAh']\n",
      "12,130.\n",
      "['4GB', '64GB']\n",
      "['Realme C35']\n",
      "['(Glowing Green']\n",
      "['Android 11']\n",
      "['4G']\n",
      "['3.9']\n",
      "['548']\n"
     ]
    }
   ],
   "source": [
    "b11=\"https://www.amazon.in/Realme-C35-Glowing-Green-Storage/dp/B09VKQF42Y/ref=sr_1_13?crid=N7E2C8GJ1IEI&keywords=realme&qid=1667576723&qu=eyJxc2MiOiI2LjM4IiwicXNhIjoiNS44NCIsInFzcCI6IjQuNjgifQ%3D%3D&sprefix=realme+%2Caps%2C864&sr=8-13\"\n",
    "details(b11,headers)"
   ]
  },
  {
   "cell_type": "code",
   "execution_count": 26,
   "id": "63026805",
   "metadata": {},
   "outputs": [
    {
     "name": "stdout",
     "output_type": "stream",
     "text": [
      "['8MP', '5MP']\n",
      "['16.51 cm']\n",
      "['5000 mAh']\n",
      "8,999.\n",
      "['4GB', '64GB']\n",
      "['realme narzo 50i']\n",
      "['(Carbon Black']\n",
      "['Android 11']\n",
      "['4G']\n",
      "['4.0']\n",
      "['27,776']\n"
     ]
    }
   ],
   "source": [
    "b12=\"https://www.amazon.in/realme-narzo-Carbon-Black-Storage/dp/B09FKB3446/ref=sr_1_14?crid=N7E2C8GJ1IEI&keywords=realme&qid=1667576723&qu=eyJxc2MiOiI2LjM4IiwicXNhIjoiNS44NCIsInFzcCI6IjQuNjgifQ%3D%3D&sprefix=realme+%2Caps%2C864&sr=8-14\"\n",
    "details(b12,headers)"
   ]
  },
  {
   "cell_type": "code",
   "execution_count": 27,
   "id": "d12135e3",
   "metadata": {},
   "outputs": [
    {
     "name": "stdout",
     "output_type": "stream",
     "text": [
      "['50MP', '8MP']\n",
      "['16.7 cm']\n",
      "['5000 mAh']\n",
      "11,499.\n",
      "['4GB', '64GB']\n",
      "['realme narzo 50A']\n",
      "['(Flash Blue', '(No Charger']\n",
      "['Android 11']\n",
      "[]\n",
      "['4.0']\n",
      "['5,677']\n"
     ]
    }
   ],
   "source": [
    "b13=\"https://www.amazon.in/realme-Storage-Display-Charger-Variant/dp/B09WYW1WWL/ref=sr_1_15?crid=N7E2C8GJ1IEI&keywords=realme&qid=1667576723&qu=eyJxc2MiOiI2LjM4IiwicXNhIjoiNS44NCIsInFzcCI6IjQuNjgifQ%3D%3D&sprefix=realme+%2Caps%2C864&sr=8-15\"\n",
    "details(b13,headers)"
   ]
  },
  {
   "cell_type": "code",
   "execution_count": 28,
   "id": "9308e20d",
   "metadata": {},
   "outputs": [
    {
     "name": "stdout",
     "output_type": "stream",
     "text": [
      "['48MP', '8MP']\n",
      "['16.7 cm', '8.1 mm']\n",
      "['5000mAh']\n",
      "16,990.\n",
      "['4GB', '128GB']\n",
      "['realme narzo 50']\n",
      "['(Hyper Blue']\n",
      "['Android 12']\n",
      "['5G']\n",
      "['4.2']\n",
      "['1,959']\n"
     ]
    }
   ],
   "source": [
    "b14=\"https://www.amazon.in/realme-Storage-Dimensity-Processor-Camera/dp/B09ZBDZXNQ/ref=sr_1_19?crid=N7E2C8GJ1IEI&keywords=realme&qid=1667577994&qu=eyJxc2MiOiI2LjM4IiwicXNhIjoiNS44NCIsInFzcCI6IjQuNjgifQ%3D%3D&sprefix=realme+%2Caps%2C864&sr=8-19\"\n",
    "details(b14,headers)"
   ]
  },
  {
   "cell_type": "code",
   "execution_count": 29,
   "id": "865d9652",
   "metadata": {},
   "outputs": [
    {
     "name": "stdout",
     "output_type": "stream",
     "text": [
      "['8MP', '5MP']\n",
      "['16.51 cm']\n",
      "['5000 mAh']\n",
      "7,499.\n",
      "['2GB', '32GB']\n",
      "['realme narzo 50i']\n",
      "['(Carbon Black']\n",
      "['Android 11']\n",
      "['4G']\n",
      "['4.0']\n",
      "['27,776']\n"
     ]
    }
   ],
   "source": [
    "b15=\"https://www.amazon.in/realme-narzo-Carbon-Black-Storage/dp/B09FKGDJNC/ref=sr_1_20?crid=N7E2C8GJ1IEI&keywords=realme&qid=1667577994&qu=eyJxc2MiOiI2LjM4IiwicXNhIjoiNS44NCIsInFzcCI6IjQuNjgifQ%3D%3D&sprefix=realme+%2Caps%2C864&sr=8-20\"\n",
    "details(b15,headers)"
   ]
  },
  {
   "cell_type": "code",
   "execution_count": 30,
   "id": "78fb77dc",
   "metadata": {},
   "outputs": [
    {
     "name": "stdout",
     "output_type": "stream",
     "text": [
      "['8MP', '5MP']\n",
      "['16.56 cm']\n",
      "['5000 mAh']\n",
      "8,999.\n",
      "['4GB', '64GB']\n",
      "['realme C11 2021']\n",
      "['(Cool Blue', '(RMX3231']\n",
      "['Android 11']\n",
      "['4G']\n",
      "['4.1']\n",
      "['12,095']\n"
     ]
    }
   ],
   "source": [
    "b16=\"https://www.amazon.in/realme-2021-Storage-Medium-RMX3231/dp/B09G69ZB2B/ref=sr_1_18?crid=N7E2C8GJ1IEI&keywords=realme&qid=1667577994&qu=eyJxc2MiOiI2LjM4IiwicXNhIjoiNS44NCIsInFzcCI6IjQuNjgifQ%3D%3D&sprefix=realme+%2Caps%2C864&sr=8-18\"\n",
    "details(b16,headers)"
   ]
  },
  {
   "cell_type": "code",
   "execution_count": 31,
   "id": "77143f00",
   "metadata": {},
   "outputs": [
    {
     "name": "stdout",
     "output_type": "stream",
     "text": [
      "['64MP', '8MP', '2MP', '16MP']\n",
      "['16.76 cm']\n",
      "['5000 mAh']\n",
      "20,990.\n",
      "['6GB', '128GB']\n",
      "['Realme 9 Pro']\n",
      "['(Midnight Black']\n",
      "['Android 12']\n",
      "['5G']\n",
      "['3.9']\n",
      "['276']\n"
     ]
    }
   ],
   "source": [
    "b17=\"https://www.amazon.in/Realme-Midnight-Black-128GB-Storage/dp/B09SVC5CMP/ref=sr_1_20?crid=N7E2C8GJ1IEI&keywords=realme&qid=1667577994&qu=eyJxc2MiOiI2LjM4IiwicXNhIjoiNS44NCIsInFzcCI6IjQuNjgifQ%3D%3D&sprefix=realme+%2Caps%2C864&sr=8-20\"\n",
    "details(b17,headers)"
   ]
  },
  {
   "cell_type": "code",
   "execution_count": 32,
   "id": "1ec182c2",
   "metadata": {},
   "outputs": [
    {
     "name": "stdout",
     "output_type": "stream",
     "text": [
      "['50MP', '2MP', '2MP', '16MP']\n",
      "['16.76 cm']\n",
      "['5000 mAh']\n",
      "14,049.\n",
      "['4GB', '128GB']\n",
      "['Realme 9i']\n",
      "['(Prism Blue']\n",
      "['Android 11']\n",
      "['4G']\n",
      "['4.2']\n",
      "['311']\n"
     ]
    }
   ],
   "source": [
    "b18=\"https://www.amazon.in/Realme-Prism-Blue-128GB-Storage/dp/B09T5ZJLLT/ref=sr_1_21?crid=N7E2C8GJ1IEI&keywords=realme&qid=1667577994&qu=eyJxc2MiOiI2LjM4IiwicXNhIjoiNS44NCIsInFzcCI6IjQuNjgifQ%3D%3D&sprefix=realme+%2Caps%2C864&sr=8-21\"\n",
    "details(b18,headers)"
   ]
  },
  {
   "cell_type": "code",
   "execution_count": 33,
   "id": "d6631968",
   "metadata": {},
   "outputs": [
    {
     "name": "stdout",
     "output_type": "stream",
     "text": [
      "['48MP', '2MP', '2MP', '16MP']\n",
      "['16.51 cm']\n",
      "['5000 mAh']\n",
      "16,525.\n",
      "['6GB', '128GB']\n",
      "['realme 9 5G']\n",
      "['(Stargaze White']\n",
      "['Android 11']\n",
      "['5G']\n",
      "['3.8']\n",
      "['59']\n"
     ]
    }
   ],
   "source": [
    "b19=\"https://www.amazon.in/realme-Stargaze-Dimensity-Processor-Triple/dp/B09WYXVCZV/ref=sr_1_23?crid=N7E2C8GJ1IEI&keywords=realme&qid=1667577994&qu=eyJxc2MiOiI2LjM4IiwicXNhIjoiNS44NCIsInFzcCI6IjQuNjgifQ%3D%3D&sprefix=realme+%2Caps%2C864&sr=8-23\"\n",
    "details(b19,headers)"
   ]
  },
  {
   "cell_type": "code",
   "execution_count": 34,
   "id": "769925cf",
   "metadata": {},
   "outputs": [
    {
     "name": "stdout",
     "output_type": "stream",
     "text": [
      "['50MP', '2MP', '2MP', '8MP']\n",
      "['16.51 cm']\n",
      "[]\n",
      "12,499.\n",
      "['4GB', '128 GB']\n",
      "['realme narzo 50A']\n",
      "['(Oxygen Green']\n",
      "['Android 11']\n",
      "['4G']\n",
      "['4.2']\n",
      "['40,352']\n"
     ]
    }
   ],
   "source": [
    "b20=\"https://www.amazon.in/realme-Oxygen-Storage-Processor-Battery/dp/B09FKDB27R/ref=sr_1_25?crid=N7E2C8GJ1IEI&keywords=realme&qid=1667577994&qu=eyJxc2MiOiI2LjM4IiwicXNhIjoiNS44NCIsInFzcCI6IjQuNjgifQ%3D%3D&sprefix=realme+%2Caps%2C864&sr=8-25\"\n",
    "details(b20,headers)"
   ]
  },
  {
   "cell_type": "code",
   "execution_count": 35,
   "id": "6fc088bf",
   "metadata": {},
   "outputs": [
    {
     "name": "stdout",
     "output_type": "stream",
     "text": [
      "['50MP', '2MP', '3MP', '8MP']\n",
      "['16.76 cm']\n",
      "['5000 mAh']\n",
      "12,599.\n",
      "['4GB', '128GB']\n",
      "['Realme C35']\n",
      "['(Glowing Green']\n",
      "['Android 11']\n",
      "['4G']\n",
      "['3.9']\n",
      "['548']\n"
     ]
    }
   ],
   "source": [
    "b21=\"https://www.amazon.in/Realme-C35-Glowing-Green-Storage/dp/B09VKM96GG/ref=sr_1_26?crid=N7E2C8GJ1IEI&keywords=realme&qid=1667577994&qu=eyJxc2MiOiI2LjM4IiwicXNhIjoiNS44NCIsInFzcCI6IjQuNjgifQ%3D%3D&sprefix=realme+%2Caps%2C864&sr=8-26\"\n",
    "details(b21,headers)"
   ]
  },
  {
   "cell_type": "code",
   "execution_count": 36,
   "id": "cdf78c96",
   "metadata": {},
   "outputs": [
    {
     "name": "stdout",
     "output_type": "stream",
     "text": [
      "['50MP', '2MP', '2MP', '8MP']\n",
      "['16.76 cm']\n",
      "['5000 mAh']\n",
      "16,799.\n",
      "['6GB', '128GB']\n",
      "['Realme 9i 5G']\n",
      "['(Metallica Gold']\n",
      "['Android 12']\n",
      "['5G']\n",
      "['4.1']\n",
      "['508']\n"
     ]
    }
   ],
   "source": [
    "b22=\"https://www.amazon.in/Realme-9i-5G-Metallica-Storage/dp/B0BBQVTQ1S/ref=sr_1_27?crid=N7E2C8GJ1IEI&keywords=realme&qid=1667577994&qu=eyJxc2MiOiI2LjM4IiwicXNhIjoiNS44NCIsInFzcCI6IjQuNjgifQ%3D%3D&sprefix=realme+%2Caps%2C864&sr=8-27\"\n",
    "details(b22,headers)"
   ]
  },
  {
   "cell_type": "code",
   "execution_count": 37,
   "id": "d3b01dc5",
   "metadata": {},
   "outputs": [
    {
     "name": "stdout",
     "output_type": "stream",
     "text": [
      "['50MP', '3MP', '5MP']\n",
      "['16.51 cm']\n",
      "['5000 mAh']\n",
      "10,880.\n",
      "['4GB', '64GB']\n",
      "['Realme C33']\n",
      "['(Aqua Blue']\n",
      "['Android 12']\n",
      "[]\n",
      "['3.0']\n",
      "['23']\n"
     ]
    }
   ],
   "source": [
    "b23=\"https://www.amazon.in/Realme-C33-Aqua-Blue-Storage/dp/B0BDZ98P8F/ref=sr_1_28?crid=N7E2C8GJ1IEI&keywords=realme&qid=1667577994&qu=eyJxc2MiOiI2LjM4IiwicXNhIjoiNS44NCIsInFzcCI6IjQuNjgifQ%3D%3D&sprefix=realme+%2Caps%2C864&sr=8-28\"\n",
    "details(b23,headers)"
   ]
  },
  {
   "cell_type": "code",
   "execution_count": 38,
   "id": "2729cee0",
   "metadata": {},
   "outputs": [
    {
     "name": "stdout",
     "output_type": "stream",
     "text": [
      "['50MP', '2MP', '2MP', '8MP']\n",
      "['16.51 cm']\n",
      "['5000 mAh']\n",
      "11,425.\n",
      "['4GB', '128GB']\n",
      "['Realme C25Y']\n",
      "['(Metal Grey']\n",
      "['Android 11']\n",
      "['4G']\n",
      "['3.8']\n",
      "['278']\n"
     ]
    }
   ],
   "source": [
    "b24=\"https://www.amazon.in/Realme-C25Y-Metal-128GB-Storage/dp/B09J53KSN2/ref=sr_1_29?crid=N7E2C8GJ1IEI&keywords=realme&qid=1667577994&qu=eyJxc2MiOiI2LjM4IiwicXNhIjoiNS44NCIsInFzcCI6IjQuNjgifQ%3D%3D&sprefix=realme+%2Caps%2C864&sr=8-29\"\n",
    "details(b24,headers)"
   ]
  },
  {
   "cell_type": "code",
   "execution_count": 39,
   "id": "874d265c",
   "metadata": {},
   "outputs": [
    {
     "name": "stdout",
     "output_type": "stream",
     "text": [
      "['50MP', '2MP', '2MP', '16MP']\n",
      "['16.76 cm']\n",
      "['5000 mAh']\n",
      "12,780.\n",
      "['4GB', '64GB']\n",
      "['realme 8i']\n",
      "['(Space Black']\n",
      "['Android 11']\n",
      "['4G']\n",
      "['4.2']\n",
      "['702']\n"
     ]
    }
   ],
   "source": [
    "b25=\"https://www.amazon.in/realme-Space-Black-Storage-Medium/dp/B09G6B9NL2/ref=sr_1_34?crid=N7E2C8GJ1IEI&keywords=realme&qid=1667578563&qu=eyJxc2MiOiI2LjM4IiwicXNhIjoiNS44NCIsInFzcCI6IjQuNjgifQ%3D%3D&sprefix=realme+%2Caps%2C864&sr=8-34\"\n",
    "details(b25,headers)"
   ]
  },
  {
   "cell_type": "code",
   "execution_count": 40,
   "id": "ab64613c",
   "metadata": {},
   "outputs": [
    {
     "name": "stdout",
     "output_type": "stream",
     "text": [
      "['50MP', '2MP', '2MP', '8MP']\n",
      "['16.51 cm']\n",
      "[]\n",
      "11,499.\n",
      "['4GB', '64 GB']\n",
      "['realme narzo 50A']\n",
      "['(Oxygen Green']\n",
      "['Android 11']\n",
      "['4G']\n",
      "['4.2']\n",
      "['40,352']\n"
     ]
    }
   ],
   "source": [
    "b26=\"https://www.amazon.in/realme-Oxygen-Storage-Processor-Battery/dp/B09FKCGP9T/ref=sr_1_35?crid=N7E2C8GJ1IEI&keywords=realme&qid=1667578563&qu=eyJxc2MiOiI2LjM4IiwicXNhIjoiNS44NCIsInFzcCI6IjQuNjgifQ%3D%3D&sprefix=realme+%2Caps%2C864&sr=8-35\"\n",
    "details(b26,headers)"
   ]
  },
  {
   "cell_type": "code",
   "execution_count": 41,
   "id": "53082f65",
   "metadata": {},
   "outputs": [
    {
     "name": "stdout",
     "output_type": "stream",
     "text": [
      "['8MP', '5MP']\n",
      "['16.56 cm']\n",
      "['5000 mAh']\n",
      "8,850.\n",
      "['4GB', '64GB']\n",
      "['realme C11 2021']\n",
      "['(Cool Grey', '(RMX3231']\n",
      "['Android 11']\n",
      "['4G']\n",
      "['4.1']\n",
      "['12,095']\n"
     ]
    }
   ],
   "source": [
    "b27=\"https://www.amazon.in/realme-2021-Storage-Medium-RMX3231/dp/B09G5YXDL9/ref=sr_1_37?crid=N7E2C8GJ1IEI&keywords=realme&qid=1667578563&qu=eyJxc2MiOiI2LjM4IiwicXNhIjoiNS44NCIsInFzcCI6IjQuNjgifQ%3D%3D&sprefix=realme+%2Caps%2C864&sr=8-37\"\n",
    "details(b27,headers)"
   ]
  },
  {
   "cell_type": "code",
   "execution_count": 42,
   "id": "3e9517d8",
   "metadata": {},
   "outputs": [
    {
     "name": "stdout",
     "output_type": "stream",
     "text": [
      "['50MP', '2MP', '3MP', '8MP']\n",
      "['16.76 cm']\n",
      "['5000 mAh']\n",
      "11,420.\n",
      "['4GB', '64GB']\n",
      "['Realme C35']\n",
      "['(Glowing Black']\n",
      "['Android 11']\n",
      "['4G']\n",
      "['3.9']\n",
      "['548']\n"
     ]
    }
   ],
   "source": [
    "b28=\"https://www.amazon.in/Realme-C35-Glowing-Black-Storage/dp/B09VKFW9FY/ref=sr_1_34?crid=N7E2C8GJ1IEI&keywords=realme&qid=1667578563&qu=eyJxc2MiOiI2LjM4IiwicXNhIjoiNS44NCIsInFzcCI6IjQuNjgifQ%3D%3D&sprefix=realme+%2Caps%2C864&sr=8-34\"\n",
    "details(b28,headers)"
   ]
  },
  {
   "cell_type": "code",
   "execution_count": 43,
   "id": "f8800e3e",
   "metadata": {},
   "outputs": [
    {
     "name": "stdout",
     "output_type": "stream",
     "text": [
      "['8MP', '5MP']\n",
      "['16.51 cm']\n",
      "['5000 mAh']\n",
      "7,499.\n",
      "['3GB', '32GB']\n",
      "['Realme C30']\n",
      "['(Denim Black']\n",
      "['Android ']\n",
      "[]\n",
      "['3.3']\n",
      "['2']\n"
     ]
    }
   ],
   "source": [
    "b29=\"https://www.amazon.in/Realme-Denim-Black-32GB-Storage/dp/B0B6C8XMSS/ref=sr_1_35?crid=N7E2C8GJ1IEI&keywords=realme&qid=1667578563&qu=eyJxc2MiOiI2LjM4IiwicXNhIjoiNS44NCIsInFzcCI6IjQuNjgifQ%3D%3D&sprefix=realme+%2Caps%2C864&sr=8-35\"\n",
    "details(b29,headers)"
   ]
  },
  {
   "cell_type": "code",
   "execution_count": 44,
   "id": "9bcbce0e",
   "metadata": {},
   "outputs": [
    {
     "name": "stdout",
     "output_type": "stream",
     "text": [
      "['50MP', '3MP', '5MP']\n",
      "['16.51 cm']\n",
      "['5000 mAh']\n",
      "10,880.\n",
      "['4GB', '64GB']\n",
      "['Realme C33']\n",
      "['(Aqua Blue']\n",
      "['Android 12']\n",
      "[]\n",
      "['3.0']\n",
      "['23']\n"
     ]
    }
   ],
   "source": [
    "b30=\"https://www.amazon.in/Realme-Aqua-Blue-32GB-Storage/dp/B0BDZCK8V2/ref=sr_1_36?crid=N7E2C8GJ1IEI&keywords=realme&qid=1667578563&qu=eyJxc2MiOiI2LjM4IiwicXNhIjoiNS44NCIsInFzcCI6IjQuNjgifQ%3D%3D&sprefix=realme+%2Caps%2C864&sr=8-36\"\n",
    "details(b30,headers)"
   ]
  },
  {
   "cell_type": "code",
   "execution_count": 45,
   "id": "02651e2a",
   "metadata": {},
   "outputs": [
    {
     "name": "stdout",
     "output_type": "stream",
     "text": [
      "['48MP', '8MP', '2MP', '16MP']\n",
      "['16.3 cm']\n",
      "['5000 mAh']\n",
      "21,990.\n",
      "['6GB', '128GB']\n",
      "['realme Narzo 50']\n",
      "['(Hyper Blue']\n",
      "['Android 12']\n",
      "[]\n",
      "['4.1']\n",
      "['2,479']\n"
     ]
    }
   ],
   "source": [
    "b31=\"https://www.amazon.in/realme-Storage-Dimensity-Processor-Display/dp/B09ZBFD6TJ/ref=sr_1_37?crid=N7E2C8GJ1IEI&keywords=realme&qid=1667578563&qu=eyJxc2MiOiI2LjM4IiwicXNhIjoiNS44NCIsInFzcCI6IjQuNjgifQ%3D%3D&sprefix=realme+%2Caps%2C864&sr=8-37\"\n",
    "details(b31,headers)"
   ]
  },
  {
   "cell_type": "code",
   "execution_count": 46,
   "id": "260e5632",
   "metadata": {},
   "outputs": [
    {
     "name": "stdout",
     "output_type": "stream",
     "text": [
      "['48MP', '2MP', '2MP', '16MP']\n",
      "['16.51 cm']\n",
      "['5000 mAh']\n",
      "16,999.\n",
      "['6GB', '128GB']\n",
      "['realme narzo 30', 'Racing Silver']\n",
      "['(Racing Silver']\n",
      "['Android 11']\n",
      "['5G']\n",
      "['4.2']\n",
      "['3,032']\n"
     ]
    }
   ],
   "source": [
    "b32=\"https://www.amazon.in/realme-Racing-Storage-Additional-Exchange/dp/B0993YD3KJ/ref=sr_1_38?crid=N7E2C8GJ1IEI&keywords=realme&qid=1667578563&qu=eyJxc2MiOiI2LjM4IiwicXNhIjoiNS44NCIsInFzcCI6IjQuNjgifQ%3D%3D&sprefix=realme+%2Caps%2C864&sr=8-38\"\n",
    "details(b32,headers)"
   ]
  },
  {
   "cell_type": "code",
   "execution_count": 47,
   "id": "5da896e7",
   "metadata": {},
   "outputs": [
    {
     "name": "stdout",
     "output_type": "stream",
     "text": [
      "['50MP', '2MP', '2MP', '8MP']\n",
      "['16.51 cm']\n",
      "['5000 mAh']\n",
      "9,999.\n",
      "['4GB', '64GB']\n",
      "['Realme C25Y']\n",
      "['(Glacier Blue']\n",
      "['Android 11']\n",
      "['4G']\n",
      "['3.9']\n",
      "['245']\n"
     ]
    }
   ],
   "source": [
    "b33=\"https://www.amazon.in/Realme-C25Y-Glacier-Blue-Storage/dp/B09LQKHJ7Z/ref=sr_1_51?crid=N7E2C8GJ1IEI&keywords=realme&qid=1667579490&qu=eyJxc2MiOiI2LjM4IiwicXNhIjoiNS44NCIsInFzcCI6IjQuNjgifQ%3D%3D&sprefix=realme+%2Caps%2C864&sr=8-51\"\n",
    "details(b33,headers)"
   ]
  },
  {
   "cell_type": "code",
   "execution_count": 48,
   "id": "a0beff22",
   "metadata": {},
   "outputs": [
    {
     "name": "stdout",
     "output_type": "stream",
     "text": [
      "['8MP', '5MP']\n",
      "['16.51 cm']\n",
      "['5000 mAh']\n",
      "8,579.\n",
      "['4GB', '64GB']\n",
      "['Realme C30s']\n",
      "['(Stripe Black']\n",
      "['Android 12']\n",
      "[]\n",
      "['5.0']\n",
      "['3']\n"
     ]
    }
   ],
   "source": [
    "b34=\"https://www.amazon.in/Realme-C30s-Stripe-Black-Storage/dp/B0BG2ZS2DQ/ref=sr_1_53?crid=N7E2C8GJ1IEI&keywords=realme&qid=1667579490&qu=eyJxc2MiOiI2LjM4IiwicXNhIjoiNS44NCIsInFzcCI6IjQuNjgifQ%3D%3D&sprefix=realme+%2Caps%2C864&sr=8-53\"\n",
    "details(b34,headers)"
   ]
  },
  {
   "cell_type": "code",
   "execution_count": 49,
   "id": "a062090f",
   "metadata": {},
   "outputs": [
    {
     "name": "stdout",
     "output_type": "stream",
     "text": [
      "['8MP', '5MP']\n",
      "['16.51 cm']\n",
      "['5000 mAh']\n",
      "6,699.\n",
      "['2GB', '32GB']\n",
      "['Realme C30']\n",
      "['(Bamboo Green']\n",
      "['Android 11']\n",
      "[]\n",
      "['3.7']\n",
      "['28']\n"
     ]
    }
   ],
   "source": [
    "b35=\"https://www.amazon.in/Realme-Bamboo-Green-32GB-Storage/dp/B0B56YXWGB/ref=sr_1_50?crid=N7E2C8GJ1IEI&keywords=realme&qid=1667579490&qu=eyJxc2MiOiI2LjM4IiwicXNhIjoiNS44NCIsInFzcCI6IjQuNjgifQ%3D%3D&sprefix=realme+%2Caps%2C864&sr=8-50\"\n",
    "details(b35,headers)"
   ]
  },
  {
   "cell_type": "code",
   "execution_count": 50,
   "id": "8c939527",
   "metadata": {},
   "outputs": [
    {
     "name": "stdout",
     "output_type": "stream",
     "text": [
      "['48MP', '2MP', '2MP', '16MP']\n",
      "['16.51 cm']\n",
      "['5000 mAh']\n",
      "16,798.\n",
      "['6GB', '128GB']\n",
      "['realme 9 5G']\n",
      "['(Supersonic Black']\n",
      "['Android 11']\n",
      "['5G']\n",
      "['4.2']\n",
      "['311']\n"
     ]
    }
   ],
   "source": [
    "b36=\"https://www.amazon.in/realme-Supersonic-Black-128GB-Storage/dp/B0B5TVNJQX/ref=sr_1_51?crid=N7E2C8GJ1IEI&keywords=realme&qid=1667579490&qu=eyJxc2MiOiI2LjM4IiwicXNhIjoiNS44NCIsInFzcCI6IjQuNjgifQ%3D%3D&sprefix=realme+%2Caps%2C864&sr=8-51\"\n",
    "details(b36,headers)"
   ]
  },
  {
   "cell_type": "code",
   "execution_count": 51,
   "id": "d676c116",
   "metadata": {},
   "outputs": [
    {
     "name": "stdout",
     "output_type": "stream",
     "text": [
      "['8MP', '5MP']\n",
      "['16.51 cm']\n",
      "['5000 mAh']\n",
      "6,980.\n",
      "['2GB', '32GB']\n",
      "['realme C11']\n",
      "['(Cool Blue']\n",
      "['Android ']\n",
      "['4G']\n",
      "['4.1']\n",
      "['12,095']\n"
     ]
    }
   ],
   "source": [
    "b37=\"https://www.amazon.in/realme-Cool-Storage-Without-Offers/dp/B096RW6QP6/ref=sr_1_56?crid=N7E2C8GJ1IEI&keywords=realme&qid=1667579490&qu=eyJxc2MiOiI2LjM4IiwicXNhIjoiNS44NCIsInFzcCI6IjQuNjgifQ%3D%3D&sprefix=realme+%2Caps%2C864&sr=8-56\"\n",
    "details(b37,headers)"
   ]
  },
  {
   "cell_type": "code",
   "execution_count": 52,
   "id": "2aef0f3f",
   "metadata": {},
   "outputs": [
    {
     "name": "stdout",
     "output_type": "stream",
     "text": [
      "['48MP', '2MP', '2MP', '16MP']\n",
      "['16.76 cm']\n",
      "['5000 mAh']\n",
      "22,999.\n",
      "['8GB', '128GB']\n",
      "['Realme 9 5G']\n",
      "['(Azure Glow']\n",
      "['Android 11']\n",
      "['5G']\n",
      "['3.6']\n",
      "['41']\n"
     ]
    }
   ],
   "source": [
    "b38=\"https://www.amazon.in/Realme-5G-SE-Azure-Storage/dp/B09W2Q6JFX/ref=sr_1_58?crid=N7E2C8GJ1IEI&keywords=realme&qid=1667579490&qu=eyJxc2MiOiI2LjM4IiwicXNhIjoiNS44NCIsInFzcCI6IjQuNjgifQ%3D%3D&sprefix=realme+%2Caps%2C864&sr=8-58\"\n",
    "details(b38,headers)"
   ]
  },
  {
   "cell_type": "code",
   "execution_count": 53,
   "id": "6f375bd2",
   "metadata": {},
   "outputs": [
    {
     "name": "stdout",
     "output_type": "stream",
     "text": [
      "['64MP', '2MP', '2MP', '16MP']\n",
      "['16.51 cm']\n",
      "['5000 mAh']\n",
      "17,989.\n",
      "['6GB', '128GB']\n",
      "['realme 8s 5G']\n",
      "['(Universe Purple']\n",
      "['Android 11']\n",
      "['5G']\n",
      "['4.1']\n",
      "['4,598']\n"
     ]
    }
   ],
   "source": [
    "b39=\"https://www.amazon.in/realme-Universe-Purple-Storage-Medium/dp/B09G672HNT/ref=sr_1_60?crid=N7E2C8GJ1IEI&keywords=realme&qid=1667579490&qu=eyJxc2MiOiI2LjM4IiwicXNhIjoiNS44NCIsInFzcCI6IjQuNjgifQ%3D%3D&sprefix=realme+%2Caps%2C864&sr=8-60\"\n",
    "details(b39,headers)"
   ]
  },
  {
   "cell_type": "code",
   "execution_count": 54,
   "id": "4d44a669",
   "metadata": {},
   "outputs": [
    {
     "name": "stdout",
     "output_type": "stream",
     "text": [
      "['13MP', '2MP', '3MP', '5MP']\n",
      "['16.56 cm']\n",
      "['5000 mAh']\n",
      "10,600.\n",
      "['4GB', '64GB']\n",
      "['Realme C31']\n",
      "['(Dark Green']\n",
      "['Android 11']\n",
      "['4G']\n",
      "['3.7']\n",
      "['160']\n"
     ]
    }
   ],
   "source": [
    "b40=\"https://www.amazon.in/Realme-C31-Dark-Green-Storage/dp/B09X9J653V/ref=sr_1_59?crid=N7E2C8GJ1IEI&keywords=realme&qid=1667579490&qu=eyJxc2MiOiI2LjM4IiwicXNhIjoiNS44NCIsInFzcCI6IjQuNjgifQ%3D%3D&sprefix=realme+%2Caps%2C864&sr=8-59\"\n",
    "details(b40,headers)"
   ]
  },
  {
   "cell_type": "code",
   "execution_count": 55,
   "id": "01e259ef",
   "metadata": {},
   "outputs": [
    {
     "name": "stdout",
     "output_type": "stream",
     "text": [
      "['50MP', '3MP', '5MP']\n",
      "['16.51 cm']\n",
      "['5000 mAh']\n",
      "10,482.\n",
      "['4GB', '64GB']\n",
      "['Realme C33']\n",
      "['(Night Sea']\n",
      "['Android 12']\n",
      "[]\n",
      "['3.0']\n",
      "['23']\n"
     ]
    }
   ],
   "source": [
    "b41=\"https://www.amazon.in/Realme-C33-Night-64GB-Storage/dp/B0BDZ6CSQ7/ref=sr_1_65?crid=N7E2C8GJ1IEI&keywords=realme&qid=1667579873&qu=eyJxc2MiOiI2LjM4IiwicXNhIjoiNS44NCIsInFzcCI6IjQuNjgifQ%3D%3D&sprefix=realme+%2Caps%2C864&sr=8-65\"\n",
    "details(b41,headers)"
   ]
  },
  {
   "cell_type": "code",
   "execution_count": 56,
   "id": "5c99c020",
   "metadata": {},
   "outputs": [
    {
     "name": "stdout",
     "output_type": "stream",
     "text": [
      "['8MP', '5MP']\n",
      "['16.51 cm']\n",
      "['5000 mAh']\n",
      "8,440.\n",
      "['3GB', '32GB']\n",
      "['Realme C30']\n",
      "['(Lake Blue']\n",
      "['Android 11']\n",
      "[]\n",
      "['3.7']\n",
      "['16']\n"
     ]
    }
   ],
   "source": [
    "b42=\"https://www.amazon.in/Realme-C30-Lake-Blue-Storage/dp/B0B56YFJKY/ref=sr_1_68?crid=N7E2C8GJ1IEI&keywords=realme&qid=1667579873&qu=eyJxc2MiOiI2LjM4IiwicXNhIjoiNS44NCIsInFzcCI6IjQuNjgifQ%3D%3D&sprefix=realme+%2Caps%2C864&sr=8-68\"\n",
    "details(b42,headers)"
   ]
  },
  {
   "cell_type": "code",
   "execution_count": 57,
   "id": "42d5f821",
   "metadata": {},
   "outputs": [
    {
     "name": "stdout",
     "output_type": "stream",
     "text": [
      "['64MP', '8MP', '2MP', '16MP']\n",
      "['16.76 cm']\n",
      "['5000 mAh']\n",
      "18,999.\n",
      "['6GB', '128GB']\n",
      "['Realme 9 Pro']\n",
      "['(Aurora Green']\n",
      "['Android 12']\n",
      "['5G']\n",
      "['3.9']\n",
      "['276']\n"
     ]
    }
   ],
   "source": [
    "b43=\"https://www.amazon.in/Realme-Aurora-Green-128GB-Storage/dp/B09SVBQTYS/ref=sr_1_74?crid=N7E2C8GJ1IEI&keywords=realme&qid=1667579873&qu=eyJxc2MiOiI2LjM4IiwicXNhIjoiNS44NCIsInFzcCI6IjQuNjgifQ%3D%3D&sprefix=realme+%2Caps%2C864&sr=8-74\"\n",
    "details(b43,headers)"
   ]
  },
  {
   "cell_type": "code",
   "execution_count": 58,
   "id": "4404388c",
   "metadata": {},
   "outputs": [
    {
     "name": "stdout",
     "output_type": "stream",
     "text": [
      "['108MP', '8MP', '2MP', '16MP']\n",
      "['16.26 cm']\n",
      "['5000 mAh']\n",
      "16,130.\n",
      "['6GB', '128GB']\n",
      "['realme 9']\n",
      "['(Meteor Black']\n",
      "['Android 11']\n",
      "[]\n",
      "['3.9']\n",
      "['49']\n"
     ]
    }
   ],
   "source": [
    "b44=\"https://www.amazon.in/realme-Meteor-Black-128GB-Storage/dp/B09XZH15W8/ref=sr_1_81?crid=N7E2C8GJ1IEI&keywords=realme&qid=1667580075&qu=eyJxc2MiOiI2LjM4IiwicXNhIjoiNS44NCIsInFzcCI6IjQuNjgifQ%3D%3D&sprefix=realme+%2Caps%2C864&sr=8-81\"\n",
    "details(b44,headers)"
   ]
  },
  {
   "cell_type": "code",
   "execution_count": 59,
   "id": "ab7e136f",
   "metadata": {},
   "outputs": [
    {
     "name": "stdout",
     "output_type": "stream",
     "text": [
      "['50MP', '2MP', '2MP', '16MP']\n",
      "['16.76 cm']\n",
      "['5000 mAh']\n",
      "12,680.\n",
      "['4GB', '64GB']\n",
      "['realme 8i']\n",
      "['(Space Purple']\n",
      "['Android 11']\n",
      "['4G']\n",
      "['4.1']\n",
      "['4,598']\n"
     ]
    }
   ],
   "source": [
    "b45=\"https://www.amazon.in/realme-Space-Purple-Storage-Medium/dp/B09G6D3QMF/ref=sr_1_82?crid=N7E2C8GJ1IEI&keywords=realme&qid=1667580075&qu=eyJxc2MiOiI2LjM4IiwicXNhIjoiNS44NCIsInFzcCI6IjQuNjgifQ%3D%3D&sprefix=realme+%2Caps%2C864&sr=8-82\"\n",
    "details(b45,headers)"
   ]
  },
  {
   "cell_type": "code",
   "execution_count": 60,
   "id": "b4646918",
   "metadata": {},
   "outputs": [
    {
     "name": "stdout",
     "output_type": "stream",
     "text": [
      "['50MP', '2MP', '2MP', '16MP']\n",
      "['16.76 cm']\n",
      "['5000 mAh']\n",
      "12,680.\n",
      "['4GB', '64GB']\n",
      "['realme 8i']\n",
      "['(Space Purple']\n",
      "['Android 11']\n",
      "['4G']\n",
      "['4.1']\n",
      "['4,598']\n"
     ]
    }
   ],
   "source": [
    "b46=\"https://www.amazon.in/realme-Space-Purple-Storage-Medium/dp/B09G6D3QMF/ref=sr_1_82?crid=N7E2C8GJ1IEI&keywords=realme&qid=1667580075&qu=eyJxc2MiOiI2LjM4IiwicXNhIjoiNS44NCIsInFzcCI6IjQuNjgifQ%3D%3D&sprefix=realme+%2Caps%2C864&sr=8-82\"\n",
    "details(b46,headers)"
   ]
  },
  {
   "cell_type": "code",
   "execution_count": 61,
   "id": "0931948d",
   "metadata": {},
   "outputs": [
    {
     "name": "stdout",
     "output_type": "stream",
     "text": [
      "['8MP', '5MP']\n",
      "['16.51 cm']\n",
      "['5000 mAh']\n",
      "8,490.\n",
      "['4GB', '64GB']\n",
      "['Realme C30s']\n",
      "['(Stripe Blue']\n",
      "['Android 12']\n",
      "[]\n",
      "['3.7']\n",
      "['16']\n"
     ]
    }
   ],
   "source": [
    "b47=\"https://www.amazon.in/Realme-C30s-Stripe-Blue-Storage/dp/B0BG31V5K1/ref=sr_1_88?crid=N7E2C8GJ1IEI&keywords=realme&qid=1667580075&qu=eyJxc2MiOiI2LjM4IiwicXNhIjoiNS44NCIsInFzcCI6IjQuNjgifQ%3D%3D&sprefix=realme+%2Caps%2C864&sr=8-88\"\n",
    "details(b47,headers)"
   ]
  },
  {
   "cell_type": "code",
   "execution_count": 62,
   "id": "87eff00c",
   "metadata": {},
   "outputs": [
    {
     "name": "stdout",
     "output_type": "stream",
     "text": [
      "['64MP', '2MP', '2MP', '16MP']\n",
      "['16.51 cm']\n",
      "['5000 mAh']\n",
      "14,989.\n",
      "['6GB', '128GB']\n",
      "['realme 8s 5G']\n",
      "['(Universe Blue']\n",
      "['Android 11']\n",
      "['5G']\n",
      "['4.3']\n",
      "['189']\n"
     ]
    }
   ],
   "source": [
    "b48=\"https://www.amazon.in/realme-Universe-128GB-Storage-Medium/dp/B09G6CBCXX/ref=sr_1_101?crid=N7E2C8GJ1IEI&keywords=realme&qid=1667580341&qu=eyJxc2MiOiI2LjM4IiwicXNhIjoiNS44NCIsInFzcCI6IjQuNjgifQ%3D%3D&sprefix=realme+%2Caps%2C864&sr=8-101\"\n",
    "details(b48,headers)"
   ]
  },
  {
   "cell_type": "code",
   "execution_count": 63,
   "id": "ac049440",
   "metadata": {},
   "outputs": [
    {
     "name": "stdout",
     "output_type": "stream",
     "text": [
      "['8MP', '5MP']\n",
      "['16.51 cm']\n",
      "['5000 mAh']\n",
      "6,645.\n",
      "['2GB', '32GB']\n",
      "['Realme C30']\n",
      "['(Lake Blue']\n",
      "['Android 11']\n",
      "[]\n",
      "['3.7']\n",
      "['28']\n"
     ]
    }
   ],
   "source": [
    "b49=\"https://www.amazon.in/Realme-Lake-Blue-32GB-Storage/dp/B0B56SLZWQ/ref=sr_1_97?crid=N7E2C8GJ1IEI&keywords=realme&qid=1667580341&qu=eyJxc2MiOiI2LjM4IiwicXNhIjoiNS44NCIsInFzcCI6IjQuNjgifQ%3D%3D&sprefix=realme+%2Caps%2C864&sr=8-97\"\n",
    "details(b49,headers)"
   ]
  },
  {
   "cell_type": "code",
   "execution_count": 64,
   "id": "ba43ee2a",
   "metadata": {},
   "outputs": [
    {
     "name": "stdout",
     "output_type": "stream",
     "text": [
      "['50MP', '3MP', '5MP']\n",
      "['16.51 cm']\n",
      "['5000 mAh']\n",
      "10,999.\n",
      "['4GB', '64GB']\n",
      "['Realme C33']\n",
      "['(Sandy Gold']\n",
      "['Android 12']\n",
      "[]\n",
      "['3.0']\n",
      "['23']\n"
     ]
    }
   ],
   "source": [
    "b50=\"https://www.amazon.in/Realme-C33-Sandy-Gold-Storage/dp/B0BFHHBFKL/ref=sr_1_103?crid=N7E2C8GJ1IEI&keywords=realme&qid=1667580341&qu=eyJxc2MiOiI2LjM4IiwicXNhIjoiNS44NCIsInFzcCI6IjQuNjgifQ%3D%3D&sprefix=realme+%2Caps%2C864&sr=8-103\"\n",
    "details(b50,headers)"
   ]
  },
  {
   "cell_type": "code",
   "execution_count": 65,
   "id": "5d0de218",
   "metadata": {},
   "outputs": [
    {
     "data": {
      "text/plain": [
       "50"
      ]
     },
     "execution_count": 65,
     "metadata": {},
     "output_type": "execute_result"
    }
   ],
   "source": [
    "len(storage)"
   ]
  },
  {
   "cell_type": "code",
   "execution_count": 66,
   "id": "489574cc",
   "metadata": {},
   "outputs": [
    {
     "data": {
      "text/plain": [
       "50"
      ]
     },
     "execution_count": 66,
     "metadata": {},
     "output_type": "execute_result"
    }
   ],
   "source": [
    "len(user_rate)"
   ]
  },
  {
   "cell_type": "code",
   "execution_count": null,
   "id": "dc44f1d0",
   "metadata": {},
   "outputs": [],
   "source": []
  },
  {
   "cell_type": "code",
   "execution_count": null,
   "id": "216c341e",
   "metadata": {},
   "outputs": [],
   "source": []
  },
  {
   "cell_type": "code",
   "execution_count": null,
   "id": "22ac0a49",
   "metadata": {},
   "outputs": [],
   "source": []
  },
  {
   "cell_type": "code",
   "execution_count": null,
   "id": "58933bce",
   "metadata": {},
   "outputs": [],
   "source": []
  },
  {
   "cell_type": "code",
   "execution_count": 67,
   "id": "36d93ef9",
   "metadata": {},
   "outputs": [
    {
     "name": "stdout",
     "output_type": "stream",
     "text": [
      "['32GB', '64GB', '64GB', '128GB', '128GB', '128 GB', '64GB', '64 GB', '32 GB', '64GB', '64GB', '64GB', '64GB', '128GB', '32GB', '64GB', '128GB', '128GB', '128GB', '128 GB', '128GB', '128GB', '64GB', '128GB', '64GB', '64 GB', '64GB', '64GB', '32GB', '64GB', '128GB', '128GB', '64GB', '64GB', '32GB', '128GB', '32GB', '128GB', '128GB', '64GB', '64GB', '32GB', '128GB', '128GB', '64GB', '64GB', '64GB', '128GB', '32GB', '64GB']\n",
      "['8MP', '8MP', '50MP', '50MP', '48MP', '50MP', '50MP', '50MP', '8MP', '50MP', '50MP', '8MP', '50MP', '48MP', '8MP', '8MP', '64MP', '50MP', '48MP', '50MP', '50MP', '50MP', '50MP', '50MP', '50MP', '50MP', '8MP', '50MP', '8MP', '50MP', '48MP', '48MP', '50MP', '8MP', '8MP', '48MP', '8MP', '48MP', '64MP', '13MP', '50MP', '8MP', '64MP', '108MP', '50MP', '50MP', '8MP', '64MP', '8MP', '50MP']\n",
      "['5MP', '5MP', '16MP', '16MP', '16MP', '8MP', '8MP', '8MP', '5MP', '16MP', '8MP', '5MP', '8MP', '8MP', '5MP', '5MP', '16MP', '16MP', '16MP', '8MP', '8MP', '8MP', '5MP', '8MP', '16MP', '8MP', '5MP', '8MP', '5MP', '5MP', '16MP', '16MP', '8MP', '5MP', '5MP', '16MP', '5MP', '16MP', '16MP', '5MP', '5MP', '5MP', '16MP', '16MP', '16MP', '16MP', '5MP', '16MP', '5MP', '5MP']\n",
      "['(Mint Green', '(Mint Green', '(Speed Black', '(Speed Black', '(Hyper Black', '(Oxygen Blue', '(Flash Blue', '(Oxygen Blue', '(Dark Blue', '(Speed Blue', '(Glowing Green', '(Carbon Black', '(Flash Blue', '(Hyper Blue', '(Carbon Black', '(Cool Blue', '(Midnight Black', '(Prism Blue', '(Stargaze White', '(Oxygen Green', '(Glowing Green', '(Metallica Gold', '(Aqua Blue', '(Metal Grey', '(Space Black', '(Oxygen Green', '(Cool Grey', '(Glowing Black', '(Denim Black', '(Aqua Blue', '(Hyper Blue', '(Racing Silver', '(Glacier Blue', '(Stripe Black', '(Bamboo Green', '(Supersonic Black', '(Cool Blue', '(Azure Glow', '(Universe Purple', '(Dark Green', '(Night Sea', '(Lake Blue', '(Aurora Green', '(Meteor Black', '(Space Purple', '(Space Purple', '(Stripe Blue', '(Universe Blue', '(Lake Blue', '(Sandy Gold']\n",
      "['realme narzo 50i', 'realme narzo 50i', 'realme narzo 50', 'realme narzo 50', 'realme Narzo 50', 'realme narzo 50A', 'realme narzo 50A', 'realme narzo 50A', 'realme narzo 50i', 'realme narzo 50', 'Realme C35', 'realme narzo 50i', 'realme narzo 50A', 'realme narzo 50', 'realme narzo 50i', 'realme C11 2021', 'Realme 9 Pro', 'Realme 9i', 'realme 9 5G', 'realme narzo 50A', 'Realme C35', 'Realme 9i 5G', 'Realme C33', 'Realme C25Y', 'realme 8i', 'realme narzo 50A', 'realme C11 2021', 'Realme C35', 'Realme C30', 'Realme C33', 'realme Narzo 50', 'realme narzo 30', 'Realme C25Y', 'Realme C30s', 'Realme C30', 'realme 9 5G', 'realme C11', 'Realme 9 5G', 'realme 8s 5G', 'Realme C31', 'Realme C33', 'Realme C30', 'Realme 9 Pro', 'realme 9', 'realme 8i', 'realme 8i', 'Realme C30s', 'realme 8s 5G', 'Realme C30', 'Realme C33']\n",
      "['2GB', '4GB', '4GB', '6GB', '6GB', '4GB', '4GB', '4GB', '3 GB', '4GB', '4GB', '4GB', '4GB', '4GB', '2GB', '4GB', '6GB', '4GB', '6GB', '4GB', '4GB', '6GB', '4GB', '4GB', '4GB', '4GB', '4GB', '4GB', '3GB', '4GB', '6GB', '6GB', '4GB', '4GB', '2GB', '6GB', '2GB', '8GB', '6GB', '4GB', '4GB', '3GB', '6GB', '6GB', '4GB', '4GB', '4GB', '6GB', '2GB', '4GB']\n",
      "['4G', '4G', '4G', '4G', '5G', '4G', '4G', '4G', '4G', '4G', '4G', '4G', '4G', '5G', '4G', '4G', '5G', '4G', '5G', '4G', '4G', '5G', '4G', '4G', '4G', '4G', '4G', '4G', '4G', '4G', '4G', '5G', '4G', '4G', '4G', '5G', '4G', '5G', '5G', '4G', '4G', '4G', '5G', '4G', '4G', '4G', '4G', '5G', '4G', '4G']\n",
      "['5000 mAh', '5000 mAh', '5000mAh', '5000mAh', '5000 mAh', '6000 mAh', '5000 mAh', '5000mAH', '5000mAh', '5000mAh', '5000 mAh', '5000 mAh', '5000 mAh', '5000mAh', '5000 mAh', '5000 mAh', '5000 mAh', '5000 mAh', '5000 mAh', '5000mAH', '5000 mAh', '5000 mAh', '5000 mAh', '5000 mAh', '5000 mAh', '5000mAH', '5000 mAh', '5000 mAh', '5000 mAh', '5000 mAh', '5000 mAh', '5000 mAh', '5000 mAh', '5000 mAh', '5000 mAh', '5000 mAh', '5000 mAh', '5000 mAh', '5000 mAh', '5000 mAh', '5000 mAh', '5000 mAh', '5000 mAh', '5000 mAh', '5000 mAh', '5000 mAh', '5000 mAh', '5000 mAh', '5000 mAh', '5000 mAh']\n",
      "['16.51 cm', '16.51 cm', '16.5 cm', '16.5 cm', '16.3 cm', '16.51 cm', '16.7 cm', '16.51 cm', '16.5 cm', '16.5 cm', '16.76 cm', '16.51 cm', '16.7 cm', '16.7 cm', '16.51 cm', '16.56 cm', '16.76 cm', '16.76 cm', '16.51 cm', '16.51 cm', '16.76 cm', '16.76 cm', '16.51 cm', '16.51 cm', '16.76 cm', '16.51 cm', '16.56 cm', '16.76 cm', '16.51 cm', '16.51 cm', '16.3 cm', '16.51 cm', '16.51 cm', '16.51 cm', '16.51 cm', '16.51 cm', '16.51 cm', '16.76 cm', '16.51 cm', '16.56 cm', '16.51 cm', '16.51 cm', '16.76 cm', '16.26 cm', '16.76 cm', '16.76 cm', '16.51 cm', '16.51 cm', '16.51 cm', '16.51 cm']\n",
      "['7,499.', '8,999.', '12,999.', '15,499.', '21,990.', '12,499.', '11,499.', '11,499.', '7,999.', '12,999.', '12,130.', '8,999.', '11,499.', '16,990.', '7,499.', '8,999.', '20,990.', '14,049.', '16,525.', '12,499.', '12,599.', '16,799.', '10,880.', '11,425.', '12,780.', '11,499.', '8,850.', '11,420.', '7,499.', '10,880.', '21,990.', '16,999.', '9,999.', '8,579.', '6,699.', '16,798.', '6,980.', '22,999.', '17,989.', '10,600.', '10,482.', '8,440.', '18,999.', '16,130.', '12,680.', '12,680.', '8,490.', '14,989.', '6,645.', '10,999.']\n",
      "['Android 11', 'Android 11', 'Android 11', 'Android 11', 'Android 12', 'Android 11', 'Android 11', 'Android 11', 'Android 11', 'Android 11', 'Android 11', 'Android 11', 'Android 11', 'Android 12', 'Android 11', 'Android 11', 'Android 12', 'Android 11', 'Android 11', 'Android 11', 'Android 11', 'Android 12', 'Android 12', 'Android 11', 'Android 11', 'Android 11', 'Android 11', 'Android 11', 'Android ', 'Android 12', 'Android 12', 'Android 11', 'Android 11', 'Android 12', 'Android 11', 'Android 11', 'Android ', 'Android 11', 'Android 11', 'Android 11', 'Android 12', 'Android 11', 'Android 12', 'Android 11', 'Android 11', 'Android 11', 'Android 12', 'Android 11', 'Android 11', 'Android 12']\n",
      "['27,776', '27,776', '10,853', '10,853', '2,479', '40,352', '5,677', '40,352', '1,198', '10,853', '548', '27,776', '5,677', '1,959', '27,776', '12,095', '276', '311', '59', '40,352', '548', '508', '23', '278', '702', '40,352', '12,095', '548', '2', '23', '2,479', '3,032', '245', '3', '28', '311', '12,095', '41', '4,598', '160', '23', '16', '276', '49', '4,598', '4,598', '16', '189', '28', '23']\n",
      "['4.0', '4.0', '4.2', '4.2', '4.1', '4.2', '4.0', '4.2', '4.1', '4.2', '3.9', '4.0', '4.0', '4.2', '4.0', '4.1', '3.9', '4.2', '3.8', '4.2', '3.9', '4.1', '3.0', '3.8', '4.2', '4.2', '4.1', '3.9', '3.3', '3.0', '4.1', '4.2', '3.9', '5.0', '3.7', '4.2', '4.1', '3.6', '4.1', '3.7', '3.0', '3.7', '3.9', '3.9', '4.1', '4.1', '3.7', '4.3', '3.7', '3.0']\n"
     ]
    }
   ],
   "source": [
    "print(storage)\n",
    "print(camera_px)\n",
    "print(self_px)\n",
    "print(colour)\n",
    "print(name)\n",
    "print(ram)\n",
    "print(tech)\n",
    "print(battery)\n",
    "print(display)\n",
    "print(price)\n",
    "print(os_sys)\n",
    "print(user_rate)\n",
    "print(star_rate)"
   ]
  },
  {
   "cell_type": "code",
   "execution_count": 68,
   "id": "a2a9b4a9",
   "metadata": {},
   "outputs": [],
   "source": [
    "colour=[i.replace(\"(\",\"\") for i in colour]"
   ]
  },
  {
   "cell_type": "code",
   "execution_count": 69,
   "id": "3a3b4b4c",
   "metadata": {},
   "outputs": [],
   "source": [
    "ram=[i.replace(\"GB\",\"\") for i in ram]"
   ]
  },
  {
   "cell_type": "code",
   "execution_count": 70,
   "id": "6fd669e6",
   "metadata": {},
   "outputs": [],
   "source": [
    "camera_px=[i.replace(\"MP\",\"\") for i in camera_px]"
   ]
  },
  {
   "cell_type": "code",
   "execution_count": 71,
   "id": "b252dff8",
   "metadata": {},
   "outputs": [],
   "source": [
    "self_px=[i.replace(\"MP\",\"\") for i in self_px]"
   ]
  },
  {
   "cell_type": "code",
   "execution_count": 72,
   "id": "64e1ef9d",
   "metadata": {},
   "outputs": [],
   "source": [
    "tech=[i.replace(\"G\",\"\") for i in tech]"
   ]
  },
  {
   "cell_type": "code",
   "execution_count": 73,
   "id": "8057ec24",
   "metadata": {},
   "outputs": [],
   "source": [
    "battery=[i.replace(\"mAH\",\"\") for i in battery]\n",
    "battery=[i.replace(\"mAh\",\"\") for i in battery]"
   ]
  },
  {
   "cell_type": "code",
   "execution_count": 74,
   "id": "788e3762",
   "metadata": {},
   "outputs": [],
   "source": [
    "price=[i.replace(\".\",\"\") for i in price]"
   ]
  },
  {
   "cell_type": "code",
   "execution_count": 75,
   "id": "14f50164",
   "metadata": {},
   "outputs": [],
   "source": [
    "display=[i.replace(\" cm\",\"\") for i in display]\n"
   ]
  },
  {
   "cell_type": "code",
   "execution_count": 76,
   "id": "a12cc8d8",
   "metadata": {},
   "outputs": [],
   "source": [
    "storage=[i.replace(\"GB\",\" \") for i in storage]"
   ]
  },
  {
   "cell_type": "code",
   "execution_count": 77,
   "id": "b0caaca3",
   "metadata": {},
   "outputs": [],
   "source": [
    "price=[i.replace(\",\",\"\") for i in price]\n",
    "user_rate=[i.replace(\",\",\"\") for i in user_rate]"
   ]
  },
  {
   "cell_type": "code",
   "execution_count": 78,
   "id": "4bb143f8",
   "metadata": {},
   "outputs": [],
   "source": [
    "storage=[float(i) for i in storage]\n",
    "camera_px=[int(i) for i in camera_px]\n",
    "self_px=[int(i) for i in self_px]\n",
    "ram=[float(i) for i in ram]\n",
    "tech=[float(i) for i in tech]\n",
    "battery=[float(i) for i in battery]\n",
    "display=[float(i) for i in display]\n",
    "price=[float(i) for i in price]\n",
    "star_rate=[float(i) for i in star_rate]\n",
    "user_rate=[float(i) for i in user_rate]"
   ]
  },
  {
   "cell_type": "code",
   "execution_count": 79,
   "id": "5237e7a0",
   "metadata": {},
   "outputs": [],
   "source": [
    "r4=pd.DataFrame({\"Name\":name,\"Colour\":colour,\"Storage\":storage,\"Battery\":battery,\n",
    "               \"Camera_Pixel\":camera_px,\"Selfie_cam_pixel\":self_px,\"Display_size\":display,\n",
    "                \"Technology\":tech,\"RAM\":ram,\"Operating_system\":os_sys,\n",
    "               \"Star_ratings\":star_rate,\"Users_rated\":user_rate,\"Price\":price})"
   ]
  },
  {
   "cell_type": "code",
   "execution_count": 80,
   "id": "9ed51313",
   "metadata": {},
   "outputs": [
    {
     "data": {
      "text/html": [
       "<div>\n",
       "<style scoped>\n",
       "    .dataframe tbody tr th:only-of-type {\n",
       "        vertical-align: middle;\n",
       "    }\n",
       "\n",
       "    .dataframe tbody tr th {\n",
       "        vertical-align: top;\n",
       "    }\n",
       "\n",
       "    .dataframe thead th {\n",
       "        text-align: right;\n",
       "    }\n",
       "</style>\n",
       "<table border=\"1\" class=\"dataframe\">\n",
       "  <thead>\n",
       "    <tr style=\"text-align: right;\">\n",
       "      <th></th>\n",
       "      <th>Name</th>\n",
       "      <th>Colour</th>\n",
       "      <th>Storage</th>\n",
       "      <th>Battery</th>\n",
       "      <th>Camera_Pixel</th>\n",
       "      <th>Selfie_cam_pixel</th>\n",
       "      <th>Display_size</th>\n",
       "      <th>Technology</th>\n",
       "      <th>RAM</th>\n",
       "      <th>Operating_system</th>\n",
       "      <th>Star_ratings</th>\n",
       "      <th>Users_rated</th>\n",
       "      <th>Price</th>\n",
       "    </tr>\n",
       "  </thead>\n",
       "  <tbody>\n",
       "    <tr>\n",
       "      <th>0</th>\n",
       "      <td>realme narzo 50i</td>\n",
       "      <td>Mint Green</td>\n",
       "      <td>32.0</td>\n",
       "      <td>5000.0</td>\n",
       "      <td>8</td>\n",
       "      <td>5</td>\n",
       "      <td>16.51</td>\n",
       "      <td>4.0</td>\n",
       "      <td>2.0</td>\n",
       "      <td>Android 11</td>\n",
       "      <td>4.0</td>\n",
       "      <td>27776.0</td>\n",
       "      <td>7499.0</td>\n",
       "    </tr>\n",
       "    <tr>\n",
       "      <th>1</th>\n",
       "      <td>realme narzo 50i</td>\n",
       "      <td>Mint Green</td>\n",
       "      <td>64.0</td>\n",
       "      <td>5000.0</td>\n",
       "      <td>8</td>\n",
       "      <td>5</td>\n",
       "      <td>16.51</td>\n",
       "      <td>4.0</td>\n",
       "      <td>4.0</td>\n",
       "      <td>Android 11</td>\n",
       "      <td>4.0</td>\n",
       "      <td>27776.0</td>\n",
       "      <td>8999.0</td>\n",
       "    </tr>\n",
       "    <tr>\n",
       "      <th>2</th>\n",
       "      <td>realme narzo 50</td>\n",
       "      <td>Speed Black</td>\n",
       "      <td>64.0</td>\n",
       "      <td>5000.0</td>\n",
       "      <td>50</td>\n",
       "      <td>16</td>\n",
       "      <td>16.50</td>\n",
       "      <td>4.0</td>\n",
       "      <td>4.0</td>\n",
       "      <td>Android 11</td>\n",
       "      <td>4.2</td>\n",
       "      <td>10853.0</td>\n",
       "      <td>12999.0</td>\n",
       "    </tr>\n",
       "    <tr>\n",
       "      <th>3</th>\n",
       "      <td>realme narzo 50</td>\n",
       "      <td>Speed Black</td>\n",
       "      <td>128.0</td>\n",
       "      <td>5000.0</td>\n",
       "      <td>50</td>\n",
       "      <td>16</td>\n",
       "      <td>16.50</td>\n",
       "      <td>4.0</td>\n",
       "      <td>6.0</td>\n",
       "      <td>Android 11</td>\n",
       "      <td>4.2</td>\n",
       "      <td>10853.0</td>\n",
       "      <td>15499.0</td>\n",
       "    </tr>\n",
       "    <tr>\n",
       "      <th>4</th>\n",
       "      <td>realme Narzo 50</td>\n",
       "      <td>Hyper Black</td>\n",
       "      <td>128.0</td>\n",
       "      <td>5000.0</td>\n",
       "      <td>48</td>\n",
       "      <td>16</td>\n",
       "      <td>16.30</td>\n",
       "      <td>5.0</td>\n",
       "      <td>6.0</td>\n",
       "      <td>Android 12</td>\n",
       "      <td>4.1</td>\n",
       "      <td>2479.0</td>\n",
       "      <td>21990.0</td>\n",
       "    </tr>\n",
       "    <tr>\n",
       "      <th>5</th>\n",
       "      <td>realme narzo 50A</td>\n",
       "      <td>Oxygen Blue</td>\n",
       "      <td>128.0</td>\n",
       "      <td>6000.0</td>\n",
       "      <td>50</td>\n",
       "      <td>8</td>\n",
       "      <td>16.51</td>\n",
       "      <td>4.0</td>\n",
       "      <td>4.0</td>\n",
       "      <td>Android 11</td>\n",
       "      <td>4.2</td>\n",
       "      <td>40352.0</td>\n",
       "      <td>12499.0</td>\n",
       "    </tr>\n",
       "    <tr>\n",
       "      <th>6</th>\n",
       "      <td>realme narzo 50A</td>\n",
       "      <td>Flash Blue</td>\n",
       "      <td>64.0</td>\n",
       "      <td>5000.0</td>\n",
       "      <td>50</td>\n",
       "      <td>8</td>\n",
       "      <td>16.70</td>\n",
       "      <td>4.0</td>\n",
       "      <td>4.0</td>\n",
       "      <td>Android 11</td>\n",
       "      <td>4.0</td>\n",
       "      <td>5677.0</td>\n",
       "      <td>11499.0</td>\n",
       "    </tr>\n",
       "    <tr>\n",
       "      <th>7</th>\n",
       "      <td>realme narzo 50A</td>\n",
       "      <td>Oxygen Blue</td>\n",
       "      <td>64.0</td>\n",
       "      <td>5000.0</td>\n",
       "      <td>50</td>\n",
       "      <td>8</td>\n",
       "      <td>16.51</td>\n",
       "      <td>4.0</td>\n",
       "      <td>4.0</td>\n",
       "      <td>Android 11</td>\n",
       "      <td>4.2</td>\n",
       "      <td>40352.0</td>\n",
       "      <td>11499.0</td>\n",
       "    </tr>\n",
       "    <tr>\n",
       "      <th>8</th>\n",
       "      <td>realme narzo 50i</td>\n",
       "      <td>Dark Blue</td>\n",
       "      <td>32.0</td>\n",
       "      <td>5000.0</td>\n",
       "      <td>8</td>\n",
       "      <td>5</td>\n",
       "      <td>16.50</td>\n",
       "      <td>4.0</td>\n",
       "      <td>3.0</td>\n",
       "      <td>Android 11</td>\n",
       "      <td>4.1</td>\n",
       "      <td>1198.0</td>\n",
       "      <td>7999.0</td>\n",
       "    </tr>\n",
       "    <tr>\n",
       "      <th>9</th>\n",
       "      <td>realme narzo 50</td>\n",
       "      <td>Speed Blue</td>\n",
       "      <td>64.0</td>\n",
       "      <td>5000.0</td>\n",
       "      <td>50</td>\n",
       "      <td>16</td>\n",
       "      <td>16.50</td>\n",
       "      <td>4.0</td>\n",
       "      <td>4.0</td>\n",
       "      <td>Android 11</td>\n",
       "      <td>4.2</td>\n",
       "      <td>10853.0</td>\n",
       "      <td>12999.0</td>\n",
       "    </tr>\n",
       "    <tr>\n",
       "      <th>10</th>\n",
       "      <td>Realme C35</td>\n",
       "      <td>Glowing Green</td>\n",
       "      <td>64.0</td>\n",
       "      <td>5000.0</td>\n",
       "      <td>50</td>\n",
       "      <td>8</td>\n",
       "      <td>16.76</td>\n",
       "      <td>4.0</td>\n",
       "      <td>4.0</td>\n",
       "      <td>Android 11</td>\n",
       "      <td>3.9</td>\n",
       "      <td>548.0</td>\n",
       "      <td>12130.0</td>\n",
       "    </tr>\n",
       "    <tr>\n",
       "      <th>11</th>\n",
       "      <td>realme narzo 50i</td>\n",
       "      <td>Carbon Black</td>\n",
       "      <td>64.0</td>\n",
       "      <td>5000.0</td>\n",
       "      <td>8</td>\n",
       "      <td>5</td>\n",
       "      <td>16.51</td>\n",
       "      <td>4.0</td>\n",
       "      <td>4.0</td>\n",
       "      <td>Android 11</td>\n",
       "      <td>4.0</td>\n",
       "      <td>27776.0</td>\n",
       "      <td>8999.0</td>\n",
       "    </tr>\n",
       "    <tr>\n",
       "      <th>12</th>\n",
       "      <td>realme narzo 50A</td>\n",
       "      <td>Flash Blue</td>\n",
       "      <td>64.0</td>\n",
       "      <td>5000.0</td>\n",
       "      <td>50</td>\n",
       "      <td>8</td>\n",
       "      <td>16.70</td>\n",
       "      <td>4.0</td>\n",
       "      <td>4.0</td>\n",
       "      <td>Android 11</td>\n",
       "      <td>4.0</td>\n",
       "      <td>5677.0</td>\n",
       "      <td>11499.0</td>\n",
       "    </tr>\n",
       "    <tr>\n",
       "      <th>13</th>\n",
       "      <td>realme narzo 50</td>\n",
       "      <td>Hyper Blue</td>\n",
       "      <td>128.0</td>\n",
       "      <td>5000.0</td>\n",
       "      <td>48</td>\n",
       "      <td>8</td>\n",
       "      <td>16.70</td>\n",
       "      <td>5.0</td>\n",
       "      <td>4.0</td>\n",
       "      <td>Android 12</td>\n",
       "      <td>4.2</td>\n",
       "      <td>1959.0</td>\n",
       "      <td>16990.0</td>\n",
       "    </tr>\n",
       "    <tr>\n",
       "      <th>14</th>\n",
       "      <td>realme narzo 50i</td>\n",
       "      <td>Carbon Black</td>\n",
       "      <td>32.0</td>\n",
       "      <td>5000.0</td>\n",
       "      <td>8</td>\n",
       "      <td>5</td>\n",
       "      <td>16.51</td>\n",
       "      <td>4.0</td>\n",
       "      <td>2.0</td>\n",
       "      <td>Android 11</td>\n",
       "      <td>4.0</td>\n",
       "      <td>27776.0</td>\n",
       "      <td>7499.0</td>\n",
       "    </tr>\n",
       "    <tr>\n",
       "      <th>15</th>\n",
       "      <td>realme C11 2021</td>\n",
       "      <td>Cool Blue</td>\n",
       "      <td>64.0</td>\n",
       "      <td>5000.0</td>\n",
       "      <td>8</td>\n",
       "      <td>5</td>\n",
       "      <td>16.56</td>\n",
       "      <td>4.0</td>\n",
       "      <td>4.0</td>\n",
       "      <td>Android 11</td>\n",
       "      <td>4.1</td>\n",
       "      <td>12095.0</td>\n",
       "      <td>8999.0</td>\n",
       "    </tr>\n",
       "    <tr>\n",
       "      <th>16</th>\n",
       "      <td>Realme 9 Pro</td>\n",
       "      <td>Midnight Black</td>\n",
       "      <td>128.0</td>\n",
       "      <td>5000.0</td>\n",
       "      <td>64</td>\n",
       "      <td>16</td>\n",
       "      <td>16.76</td>\n",
       "      <td>5.0</td>\n",
       "      <td>6.0</td>\n",
       "      <td>Android 12</td>\n",
       "      <td>3.9</td>\n",
       "      <td>276.0</td>\n",
       "      <td>20990.0</td>\n",
       "    </tr>\n",
       "    <tr>\n",
       "      <th>17</th>\n",
       "      <td>Realme 9i</td>\n",
       "      <td>Prism Blue</td>\n",
       "      <td>128.0</td>\n",
       "      <td>5000.0</td>\n",
       "      <td>50</td>\n",
       "      <td>16</td>\n",
       "      <td>16.76</td>\n",
       "      <td>4.0</td>\n",
       "      <td>4.0</td>\n",
       "      <td>Android 11</td>\n",
       "      <td>4.2</td>\n",
       "      <td>311.0</td>\n",
       "      <td>14049.0</td>\n",
       "    </tr>\n",
       "    <tr>\n",
       "      <th>18</th>\n",
       "      <td>realme 9 5G</td>\n",
       "      <td>Stargaze White</td>\n",
       "      <td>128.0</td>\n",
       "      <td>5000.0</td>\n",
       "      <td>48</td>\n",
       "      <td>16</td>\n",
       "      <td>16.51</td>\n",
       "      <td>5.0</td>\n",
       "      <td>6.0</td>\n",
       "      <td>Android 11</td>\n",
       "      <td>3.8</td>\n",
       "      <td>59.0</td>\n",
       "      <td>16525.0</td>\n",
       "    </tr>\n",
       "    <tr>\n",
       "      <th>19</th>\n",
       "      <td>realme narzo 50A</td>\n",
       "      <td>Oxygen Green</td>\n",
       "      <td>128.0</td>\n",
       "      <td>5000.0</td>\n",
       "      <td>50</td>\n",
       "      <td>8</td>\n",
       "      <td>16.51</td>\n",
       "      <td>4.0</td>\n",
       "      <td>4.0</td>\n",
       "      <td>Android 11</td>\n",
       "      <td>4.2</td>\n",
       "      <td>40352.0</td>\n",
       "      <td>12499.0</td>\n",
       "    </tr>\n",
       "  </tbody>\n",
       "</table>\n",
       "</div>"
      ],
      "text/plain": [
       "                Name          Colour  Storage  Battery  Camera_Pixel  \\\n",
       "0   realme narzo 50i      Mint Green     32.0   5000.0             8   \n",
       "1   realme narzo 50i      Mint Green     64.0   5000.0             8   \n",
       "2    realme narzo 50     Speed Black     64.0   5000.0            50   \n",
       "3    realme narzo 50     Speed Black    128.0   5000.0            50   \n",
       "4    realme Narzo 50     Hyper Black    128.0   5000.0            48   \n",
       "5   realme narzo 50A     Oxygen Blue    128.0   6000.0            50   \n",
       "6   realme narzo 50A      Flash Blue     64.0   5000.0            50   \n",
       "7   realme narzo 50A     Oxygen Blue     64.0   5000.0            50   \n",
       "8   realme narzo 50i       Dark Blue     32.0   5000.0             8   \n",
       "9    realme narzo 50      Speed Blue     64.0   5000.0            50   \n",
       "10        Realme C35   Glowing Green     64.0   5000.0            50   \n",
       "11  realme narzo 50i    Carbon Black     64.0   5000.0             8   \n",
       "12  realme narzo 50A      Flash Blue     64.0   5000.0            50   \n",
       "13   realme narzo 50      Hyper Blue    128.0   5000.0            48   \n",
       "14  realme narzo 50i    Carbon Black     32.0   5000.0             8   \n",
       "15   realme C11 2021       Cool Blue     64.0   5000.0             8   \n",
       "16      Realme 9 Pro  Midnight Black    128.0   5000.0            64   \n",
       "17         Realme 9i      Prism Blue    128.0   5000.0            50   \n",
       "18       realme 9 5G  Stargaze White    128.0   5000.0            48   \n",
       "19  realme narzo 50A    Oxygen Green    128.0   5000.0            50   \n",
       "\n",
       "    Selfie_cam_pixel  Display_size  Technology  RAM Operating_system  \\\n",
       "0                  5         16.51         4.0  2.0       Android 11   \n",
       "1                  5         16.51         4.0  4.0       Android 11   \n",
       "2                 16         16.50         4.0  4.0       Android 11   \n",
       "3                 16         16.50         4.0  6.0       Android 11   \n",
       "4                 16         16.30         5.0  6.0       Android 12   \n",
       "5                  8         16.51         4.0  4.0       Android 11   \n",
       "6                  8         16.70         4.0  4.0       Android 11   \n",
       "7                  8         16.51         4.0  4.0       Android 11   \n",
       "8                  5         16.50         4.0  3.0       Android 11   \n",
       "9                 16         16.50         4.0  4.0       Android 11   \n",
       "10                 8         16.76         4.0  4.0       Android 11   \n",
       "11                 5         16.51         4.0  4.0       Android 11   \n",
       "12                 8         16.70         4.0  4.0       Android 11   \n",
       "13                 8         16.70         5.0  4.0       Android 12   \n",
       "14                 5         16.51         4.0  2.0       Android 11   \n",
       "15                 5         16.56         4.0  4.0       Android 11   \n",
       "16                16         16.76         5.0  6.0       Android 12   \n",
       "17                16         16.76         4.0  4.0       Android 11   \n",
       "18                16         16.51         5.0  6.0       Android 11   \n",
       "19                 8         16.51         4.0  4.0       Android 11   \n",
       "\n",
       "    Star_ratings  Users_rated    Price  \n",
       "0            4.0      27776.0   7499.0  \n",
       "1            4.0      27776.0   8999.0  \n",
       "2            4.2      10853.0  12999.0  \n",
       "3            4.2      10853.0  15499.0  \n",
       "4            4.1       2479.0  21990.0  \n",
       "5            4.2      40352.0  12499.0  \n",
       "6            4.0       5677.0  11499.0  \n",
       "7            4.2      40352.0  11499.0  \n",
       "8            4.1       1198.0   7999.0  \n",
       "9            4.2      10853.0  12999.0  \n",
       "10           3.9        548.0  12130.0  \n",
       "11           4.0      27776.0   8999.0  \n",
       "12           4.0       5677.0  11499.0  \n",
       "13           4.2       1959.0  16990.0  \n",
       "14           4.0      27776.0   7499.0  \n",
       "15           4.1      12095.0   8999.0  \n",
       "16           3.9        276.0  20990.0  \n",
       "17           4.2        311.0  14049.0  \n",
       "18           3.8         59.0  16525.0  \n",
       "19           4.2      40352.0  12499.0  "
      ]
     },
     "execution_count": 80,
     "metadata": {},
     "output_type": "execute_result"
    }
   ],
   "source": [
    "r4.head(20)"
   ]
  },
  {
   "cell_type": "code",
   "execution_count": 81,
   "id": "2da602c7",
   "metadata": {},
   "outputs": [],
   "source": [
    "r4.to_csv(\"realme_amazon.csv\")"
   ]
  },
  {
   "cell_type": "code",
   "execution_count": null,
   "id": "56ccab68",
   "metadata": {},
   "outputs": [],
   "source": []
  }
 ],
 "metadata": {
  "kernelspec": {
   "display_name": "Python 3 (ipykernel)",
   "language": "python",
   "name": "python3"
  },
  "language_info": {
   "codemirror_mode": {
    "name": "ipython",
    "version": 3
   },
   "file_extension": ".py",
   "mimetype": "text/x-python",
   "name": "python",
   "nbconvert_exporter": "python",
   "pygments_lexer": "ipython3",
   "version": "3.9.12"
  }
 },
 "nbformat": 4,
 "nbformat_minor": 5
}
