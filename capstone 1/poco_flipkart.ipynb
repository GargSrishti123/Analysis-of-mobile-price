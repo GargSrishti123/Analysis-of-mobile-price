{
 "cells": [
  {
   "cell_type": "code",
   "execution_count": 2,
   "id": "2c5a222e",
   "metadata": {},
   "outputs": [],
   "source": [
    "import re\n",
    "import requests\n",
    "from bs4 import BeautifulSoup\n",
    "import pandas as pd\n"
   ]
  },
  {
   "cell_type": "code",
   "execution_count": 3,
   "id": "a96f64cd",
   "metadata": {},
   "outputs": [],
   "source": [
    "headers={\"User-Agent\": \"Mozilla/5.0 (Windows NT 10.0; Win64; x64) AppleWebKit/537.36 (KHTML, like Gecko) Chrome/106.0.0.0 Safari/537.36\"}"
   ]
  },
  {
   "cell_type": "code",
   "execution_count": 8,
   "id": "401731aa",
   "metadata": {},
   "outputs": [],
   "source": [
    "def details(url,headers):\n",
    "    res=requests.get(url,headers=headers)\n",
    "    print(res)\n",
    "    a=BeautifulSoup(res.content,\"html.parser\")\n",
    "    b=a.find(\"span\",attrs={\"class\":\"B_NuCI\"})\n",
    "    c=b.text\n",
    "    d=r'[p,P][A-Za-z]+\\s?[A-Za-z0-9]+'\n",
    "    e=re.findall(d,c)\n",
    "    print(e)\n",
    "    f=r'[(][A-Za-z]+\\s?[A-Za-z]+'\n",
    "    g=re.findall(f,c)\n",
    "    print(g)\n",
    "\n",
    "    h=a.find(\"div\",attrs={\"class\":\"_2418kt\"})\n",
    "    i=h.text\n",
    "    j=r'[0-9]+\\s?[M][P]+'\n",
    "    k=re.findall(j,i)\n",
    "    print(k)\n",
    "    l=r'[0-9]+\\s?[G][B]+'\n",
    "    m=re.findall(l,i)\n",
    "    print(m)\n",
    "    n=r'[0-9]+\\s?[m,M][A][H,h]'\n",
    "    o=re.findall(n,i)\n",
    "    print(o)\n",
    "    p=r'[0-9]+\\.[0-9]+\\s?[c,C][m,entimeters]+'\n",
    "    q=re.findall(p,i)\n",
    "    print(q)\n",
    "    r=a.find(\"span\",attrs={\"class\":\"_2_R_DZ\"})\n",
    "    s=r.text\n",
    "    use=r'[0-9]*[,]*[0-9]+'\n",
    "    uss=re.findall(use,s)\n",
    "    print(uss)\n",
    "    t=a.find(\"span\",attrs={\"class\":\"_1lRcqv\"})\n",
    "    u=t.text\n",
    "    print(u)\n",
    "    v=a.find(\"div\",attrs={\"class\":\"_30jeq3 _16Jk6d\"})\n",
    "    w=v.text\n",
    "    print(w)\n",
    "    colour.append(f[0])\n",
    "    \n",
    "    \n",
    "    name.append(e[0])\n",
    "    colour.append(g[0])\n",
    "    camera_px.append(k[0])\n",
    "    self_px.append(k[-1])\n",
    "    ram.append(m[0])\n",
    "    storage.append(m[-1])\n",
    "    battery.append(o[0])\n",
    "    display.append(q[0])\n",
    "    user_rate.append(uss[0])\n",
    "    star_rate.append(u)\n",
    "    price.append(w)\n",
    "    \n",
    "\n",
    "    "
   ]
  },
  {
   "cell_type": "code",
   "execution_count": 9,
   "id": "d72ef4aa",
   "metadata": {},
   "outputs": [],
   "source": [
    "name=[]\n",
    "colour=[]\n",
    "camera_px=[]\n",
    "self_px=[]\n",
    "battery=[]\n",
    "ram=[]\n",
    "storage=[]\n",
    "display=[]\n",
    "user_rate=[]\n",
    "star_rate=[]\n",
    "price=[]"
   ]
  },
  {
   "cell_type": "code",
   "execution_count": 10,
   "id": "f3b4f915",
   "metadata": {},
   "outputs": [
    {
     "name": "stdout",
     "output_type": "stream",
     "text": [
      "<Response [200]>\n",
      "['POCO M4', 'Pro 5G']\n",
      "['(Cool Blue']\n",
      "['50MP', '8MP', '16MP']\n",
      "['6 GB', '128 GB']\n",
      "['5000 mAh']\n",
      "['16.76 cm']\n",
      "['33,358', '3,062']\n",
      "4.2\n",
      "₹16,999\n"
     ]
    }
   ],
   "source": [
    "b=\"https://www.flipkart.com/poco-m4-pro-5g-cool-blue-128-gb/p/itm509e4403d0303?pid=MOBGBEU7GKRSHG5M&lid=LSTMOBGBEU7GKRSHG5MWVOWEV&marketplace=FLIPKART&q=POCO+phones&store=tyy%2F4io&srno=s_1_1&otracker=AS_Query_HistoryAutoSuggest_5_0&otracker1=AS_Query_HistoryAutoSuggest_5_0&fm=organic&iid=a2b5a297-fa2f-4bba-8bfc-fa201b1a0429.MOBGBEU7GKRSHG5M.SEARCH&ppt=hp&ppn=homepage&ssid=vrfnh2o21c0000001669125456507&qH=dcc5939a354e55b5\"\n",
    "details(b,headers)"
   ]
  },
  {
   "cell_type": "code",
   "execution_count": 11,
   "id": "8ba86997",
   "metadata": {},
   "outputs": [
    {
     "name": "stdout",
     "output_type": "stream",
     "text": [
      "<Response [200]>\n",
      "['POCO X4', 'Pro 5G']\n",
      "['(Laser Blue']\n",
      "['64MP', '8MP', '2MP', '16MP']\n",
      "['6 GB', '128 GB']\n",
      "['5000 mAh']\n",
      "['16.94 cm']\n",
      "['52,113', '5,290']\n",
      "4.1\n",
      "₹19,999\n"
     ]
    }
   ],
   "source": [
    "b1=\"https://www.flipkart.com/poco-x4-pro-5g-laser-blue-128-gb/p/itmeb324bd268ef4?pid=MOBGCGZZDHZ2HJU8&lid=LSTMOBGCGZZDHZ2HJU8ONUSOK&marketplace=FLIPKART&q=POCO+phones&store=tyy%2F4io&srno=s_1_24&otracker=AS_Query_HistoryAutoSuggest_5_0&otracker1=AS_Query_HistoryAutoSuggest_5_0&fm=organic&iid=a2b5a297-fa2f-4bba-8bfc-fa201b1a0429.MOBGCGZZDHZ2HJU8.SEARCH&ppt=hp&ppn=homepage&ssid=vrfnh2o21c0000001669125456507&qH=dcc5939a354e55b5\"\n",
    "details(b1,headers)"
   ]
  },
  {
   "cell_type": "code",
   "execution_count": 12,
   "id": "75a6b8c0",
   "metadata": {},
   "outputs": [
    {
     "name": "stdout",
     "output_type": "stream",
     "text": [
      "<Response [200]>\n",
      "['POCO M4', 'Pro']\n",
      "['(Cool Blue']\n",
      "['64MP', '8MP', '2MP', '16MP']\n",
      "['8 GB', '128 GB']\n",
      "['5000 mAh']\n",
      "['16.33 cm']\n",
      "['10,988', '957']\n",
      "4.3\n",
      "₹17,999\n"
     ]
    }
   ],
   "source": [
    "b2=\"https://www.flipkart.com/poco-m4-pro-cool-blue-128-gb/p/itm5f8490c5b5c0e?pid=MOBGBTHFXSFUTMWG&lid=LSTMOBGBTHFXSFUTMWGO0KNCJ&marketplace=FLIPKART&q=POCO+phones&store=tyy%2F4io&srno=s_1_23&otracker=AS_Query_HistoryAutoSuggest_5_0&otracker1=AS_Query_HistoryAutoSuggest_5_0&fm=organic&iid=a2b5a297-fa2f-4bba-8bfc-fa201b1a0429.MOBGBTHFXSFUTMWG.SEARCH&ppt=hp&ppn=homepage&ssid=vrfnh2o21c0000001669125456507&qH=dcc5939a354e55b5\"\n",
    "details(b2,headers)"
   ]
  },
  {
   "cell_type": "code",
   "execution_count": 13,
   "id": "7b5123b2",
   "metadata": {},
   "outputs": [
    {
     "name": "stdout",
     "output_type": "stream",
     "text": [
      "<Response [200]>\n",
      "['POCO X4', 'Pro 5G']\n",
      "['(Laser Black']\n",
      "['64MP', '8MP', '2MP', '16MP']\n",
      "['6 GB', '128 GB']\n",
      "['5000 mAh']\n",
      "['16.94 cm']\n",
      "['52,113', '5,290']\n",
      "4.1\n",
      "₹19,999\n"
     ]
    }
   ],
   "source": [
    "b3=\"https://www.flipkart.com/poco-x4-pro-5g-laser-black-128-gb/p/itm30feac36897d8?pid=MOBGCGZZHMGXSYHA&lid=LSTMOBGCGZZHMGXSYHAUPT1FJ&marketplace=FLIPKART&q=POCO+phones&store=tyy%2F4io&srno=s_1_22&otracker=AS_Query_HistoryAutoSuggest_5_0&otracker1=AS_Query_HistoryAutoSuggest_5_0&fm=organic&iid=a2b5a297-fa2f-4bba-8bfc-fa201b1a0429.MOBGCGZZHMGXSYHA.SEARCH&ppt=hp&ppn=homepage&ssid=vrfnh2o21c0000001669125456507&qH=dcc5939a354e55b5\"\n",
    "details(b3,headers)"
   ]
  },
  {
   "cell_type": "code",
   "execution_count": 14,
   "id": "ce3cf6b4",
   "metadata": {},
   "outputs": [
    {
     "name": "stdout",
     "output_type": "stream",
     "text": [
      "<Response [200]>\n",
      "['POCO M4', 'Pro 5G']\n",
      "['(Yellow']\n",
      "['50MP', '8MP', '16MP']\n",
      "['4 GB', '64 GB']\n",
      "['5000 mAh']\n",
      "['16.76 cm']\n",
      "['27,336', '2,419']\n",
      "4.3\n",
      "₹14,999\n"
     ]
    }
   ],
   "source": [
    "b4=\"https://www.flipkart.com/poco-m4-pro-5g-yellow-64-gb/p/itm0c88c16a094e4?pid=MOBGBEU9DCXFYSBV&lid=LSTMOBGBEU9DCXFYSBV1YXBSX&marketplace=FLIPKART&q=POCO+phones&store=tyy%2F4io&srno=s_1_21&otracker=AS_Query_HistoryAutoSuggest_5_0&otracker1=AS_Query_HistoryAutoSuggest_5_0&fm=organic&iid=a2b5a297-fa2f-4bba-8bfc-fa201b1a0429.MOBGBEU9DCXFYSBV.SEARCH&ppt=hp&ppn=homepage&ssid=vrfnh2o21c0000001669125456507&qH=dcc5939a354e55b5\"\n",
    "details(b4,headers)"
   ]
  },
  {
   "cell_type": "code",
   "execution_count": 15,
   "id": "31760aef",
   "metadata": {},
   "outputs": [
    {
     "name": "stdout",
     "output_type": "stream",
     "text": [
      "<Response [200]>\n",
      "['POCO M5', 'Power Black']\n",
      "['(Power Black']\n",
      "['50MP', '2MP', '2MP', '8MP']\n",
      "['4 GB', '64 GB', '512 GB']\n",
      "['5000 mAh']\n",
      "['16.71 cm']\n",
      "['1,719', '123']\n",
      "4.3\n",
      "₹12,499\n"
     ]
    }
   ],
   "source": [
    "b5=\"https://www.flipkart.com/poco-m5-power-black-64-gb/p/itm65951f4147fc4?pid=MOBGHMZEGDGXT2BT&lid=LSTMOBGHMZEGDGXT2BT6YTPRE&marketplace=FLIPKART&q=POCO+phones&store=tyy%2F4io&srno=s_1_20&otracker=AS_Query_HistoryAutoSuggest_5_0&otracker1=AS_Query_HistoryAutoSuggest_5_0&fm=organic&iid=a2b5a297-fa2f-4bba-8bfc-fa201b1a0429.MOBGHMZEGDGXT2BT.SEARCH&ppt=hp&ppn=homepage&ssid=vrfnh2o21c0000001669125456507&qH=dcc5939a354e55b5\"\n",
    "details(b5,headers)"
   ]
  },
  {
   "cell_type": "code",
   "execution_count": 16,
   "id": "d59ac028",
   "metadata": {},
   "outputs": [
    {
     "name": "stdout",
     "output_type": "stream",
     "text": [
      "<Response [200]>\n",
      "['POCO M5']\n",
      "['(Icy Blue']\n",
      "['50MP', '2MP', '2MP', '8MP']\n",
      "['4 GB', '64 GB', '512 GB']\n",
      "['5000 mAh']\n",
      "['16.71 cm']\n",
      "['1,719', '123']\n",
      "4.3\n",
      "₹12,499\n"
     ]
    }
   ],
   "source": [
    "b6=\"https://www.flipkart.com/poco-m5-icy-blue-64-gb/p/itmcc02f8aecb269?pid=MOBGHMZE5ERRQPJH&lid=LSTMOBGHMZE5ERRQPJHGJ37RN&marketplace=FLIPKART&q=POCO+phones&store=tyy%2F4io&srno=s_1_19&otracker=AS_Query_HistoryAutoSuggest_5_0&otracker1=AS_Query_HistoryAutoSuggest_5_0&fm=organic&iid=a2b5a297-fa2f-4bba-8bfc-fa201b1a0429.MOBGHMZE5ERRQPJH.SEARCH&ppt=hp&ppn=homepage&ssid=vrfnh2o21c0000001669125456507&qH=dcc5939a354e55b5\"\n",
    "details(b6,headers)"
   ]
  },
  {
   "cell_type": "code",
   "execution_count": 17,
   "id": "fe8dd9c8",
   "metadata": {
    "scrolled": true
   },
   "outputs": [
    {
     "name": "stdout",
     "output_type": "stream",
     "text": [
      "<Response [200]>\n",
      "['POCO X4', 'Pro 5G']\n",
      "['(Laser Blue']\n",
      "['64MP', '8MP', '2MP', '16MP']\n",
      "['8 GB', '128 GB']\n",
      "['5000 mAh']\n",
      "['16.94 cm']\n",
      "['12,278', '1,293']\n",
      "4.1\n",
      "₹21,999\n"
     ]
    }
   ],
   "source": [
    "b7=\"https://www.flipkart.com/poco-x4-pro-5g-laser-blue-128-gb/p/itm9d60e637a24e9?pid=MOBGCGZZAHHCZGFZ&lid=LSTMOBGCGZZAHHCZGFZUYKRZZ&marketplace=FLIPKART&q=POCO+phones&store=tyy%2F4io&srno=s_1_18&otracker=AS_Query_HistoryAutoSuggest_5_0&otracker1=AS_Query_HistoryAutoSuggest_5_0&fm=organic&iid=a2b5a297-fa2f-4bba-8bfc-fa201b1a0429.MOBGCGZZAHHCZGFZ.SEARCH&ppt=hp&ppn=homepage&ssid=vrfnh2o21c0000001669125456507&qH=dcc5939a354e55b5\"\n",
    "details(b7,headers)"
   ]
  },
  {
   "cell_type": "code",
   "execution_count": 18,
   "id": "32c5fde3",
   "metadata": {},
   "outputs": [
    {
     "name": "stdout",
     "output_type": "stream",
     "text": [
      "<Response [200]>\n",
      "['POCO M4', 'Pro 5G']\n",
      "['(Yellow']\n",
      "['50MP', '8MP', '16MP']\n",
      "['6 GB', '128 GB']\n",
      "['5000 mAh']\n",
      "['16.76 cm']\n",
      "['33,358', '3,062']\n",
      "4.2\n",
      "₹16,999\n"
     ]
    }
   ],
   "source": [
    "b8=\"https://www.flipkart.com/poco-m4-pro-5g-yellow-128-gb/p/itme2c365d979338?pid=MOBGBEU99VVSJWG6&lid=LSTMOBGBEU99VVSJWG6JHNSLR&marketplace=FLIPKART&q=POCO+phones&store=tyy%2F4io&srno=s_1_17&otracker=AS_Query_HistoryAutoSuggest_5_0&otracker1=AS_Query_HistoryAutoSuggest_5_0&fm=organic&iid=a2b5a297-fa2f-4bba-8bfc-fa201b1a0429.MOBGBEU99VVSJWG6.SEARCH&ppt=hp&ppn=homepage&ssid=vrfnh2o21c0000001669125456507&qH=dcc5939a354e55b5\"\n",
    "details(b8,headers)"
   ]
  },
  {
   "cell_type": "code",
   "execution_count": 19,
   "id": "9e5c31c5",
   "metadata": {},
   "outputs": [
    {
     "name": "stdout",
     "output_type": "stream",
     "text": [
      "<Response [200]>\n",
      "['POCO M4']\n",
      "['(Cool Blue']\n",
      "['50MP', '2MP', '8MP']\n",
      "['6 GB', '128 GB', '512 GB']\n",
      "['5000 mAh']\n",
      "['16.71 cm']\n",
      "['19,287', '1,571']\n",
      "4.1\n",
      "₹14,999\n"
     ]
    }
   ],
   "source": [
    "b9=\"https://www.flipkart.com/poco-m4-5g-cool-blue-128-gb/p/itm1603244ab4f2e?pid=MOBGDRGPUMTED5D5&lid=LSTMOBGDRGPUMTED5D5RFUHNY&marketplace=FLIPKART&q=POCO+phones&store=tyy%2F4io&srno=s_1_16&otracker=AS_Query_HistoryAutoSuggest_5_0&otracker1=AS_Query_HistoryAutoSuggest_5_0&fm=organic&iid=a2b5a297-fa2f-4bba-8bfc-fa201b1a0429.MOBGDRGPUMTED5D5.SEARCH&ppt=hp&ppn=homepage&ssid=vrfnh2o21c0000001669125456507&qH=dcc5939a354e55b5\"\n",
    "details(b9,headers)"
   ]
  },
  {
   "cell_type": "code",
   "execution_count": 20,
   "id": "ffe5b118",
   "metadata": {},
   "outputs": [
    {
     "name": "stdout",
     "output_type": "stream",
     "text": [
      "<Response [200]>\n",
      "['POCO M4', 'Pro 5G', 'Power Black']\n",
      "['(Power Black']\n",
      "['50MP', '8MP', '16MP']\n",
      "['6 GB', '128 GB']\n",
      "['5000 mAh']\n",
      "['16.76 cm']\n",
      "['33,358', '3,062']\n",
      "4.2\n",
      "₹16,999\n"
     ]
    }
   ],
   "source": [
    "b10=\"https://www.flipkart.com/poco-m4-pro-5g-power-black-128-gb/p/itm775f526b8e5c0?pid=MOBGBEU7PHVYAJQ8&lid=LSTMOBGBEU7PHVYAJQ8PUFW8X&marketplace=FLIPKART&q=POCO+phones&store=tyy%2F4io&srno=s_1_15&otracker=AS_Query_HistoryAutoSuggest_5_0&otracker1=AS_Query_HistoryAutoSuggest_5_0&fm=organic&iid=a2b5a297-fa2f-4bba-8bfc-fa201b1a0429.MOBGBEU7PHVYAJQ8.SEARCH&ppt=hp&ppn=homepage&ssid=vrfnh2o21c0000001669125456507&qH=dcc5939a354e55b5\"\n",
    "details(b10,headers)"
   ]
  },
  {
   "cell_type": "code",
   "execution_count": 21,
   "id": "ae856813",
   "metadata": {},
   "outputs": [
    {
     "name": "stdout",
     "output_type": "stream",
     "text": [
      "<Response [200]>\n",
      "['POCO M4', 'Pro']\n",
      "['(Yellow']\n",
      "['64MP', '8MP', '2MP', '16MP']\n",
      "['6 GB', '64 GB']\n",
      "['5000 mAh']\n",
      "['16.33 cm']\n",
      "['1,13', ',004', '10,303']\n",
      "4.3\n",
      "₹14,999\n"
     ]
    }
   ],
   "source": [
    "b11=\"https://www.flipkart.com/poco-m4-pro-yellow-64-gb/p/itm1dda9769e7dd9?pid=MOBGBTHFHHZ9XVKM&lid=LSTMOBGBTHFHHZ9XVKMYAEZ7Z&marketplace=FLIPKART&q=POCO+phones&store=tyy%2F4io&srno=s_1_14&otracker=AS_Query_HistoryAutoSuggest_5_0&otracker1=AS_Query_HistoryAutoSuggest_5_0&fm=organic&iid=a2b5a297-fa2f-4bba-8bfc-fa201b1a0429.MOBGBTHFHHZ9XVKM.SEARCH&ppt=hp&ppn=homepage&ssid=vrfnh2o21c0000001669125456507&qH=dcc5939a354e55b5\"\n",
    "details(b11,headers)"
   ]
  },
  {
   "cell_type": "code",
   "execution_count": 22,
   "id": "932cf8d1",
   "metadata": {},
   "outputs": [
    {
     "name": "stdout",
     "output_type": "stream",
     "text": [
      "<Response [200]>\n",
      "['POCO C31']\n",
      "['(Royal Blue']\n",
      "['13MP', '2MP', '2MP', '5MP']\n",
      "['3 GB', '32 GB', '512 GB']\n",
      "['5000 mAh']\n",
      "['16.59 cm']\n",
      "['1,11', ',210', '6,942']\n",
      "4.3\n",
      "₹8,499\n"
     ]
    }
   ],
   "source": [
    "b12=\"https://www.flipkart.com/poco-c31-royal-blue-32-gb/p/itm9656ebd21e0b3?pid=MOBG73E7ZBHHQ3RB&lid=LSTMOBG73E7ZBHHQ3RBPQ3FU1&marketplace=FLIPKART&q=POCO+phones&store=tyy%2F4io&srno=s_1_13&otracker=AS_Query_HistoryAutoSuggest_5_0&otracker1=AS_Query_HistoryAutoSuggest_5_0&fm=organic&iid=a2b5a297-fa2f-4bba-8bfc-fa201b1a0429.MOBG73E7ZBHHQ3RB.SEARCH&ppt=hp&ppn=homepage&ssid=vrfnh2o21c0000001669125456507&qH=dcc5939a354e55b5\"\n",
    "details(b12,headers)"
   ]
  },
  {
   "cell_type": "code",
   "execution_count": 24,
   "id": "714a5c9d",
   "metadata": {},
   "outputs": [
    {
     "name": "stdout",
     "output_type": "stream",
     "text": [
      "<Response [200]>\n",
      "['POCO X4', 'Pro 5G']\n",
      "['(Laser Black']\n",
      "['64MP', '8MP', '2MP', '16MP']\n",
      "['8 GB', '128 GB']\n",
      "['5000 mAh']\n",
      "['16.94 cm']\n",
      "['12,278', '1,293']\n",
      "4.1\n",
      "₹21,999\n"
     ]
    }
   ],
   "source": [
    "b13=\"https://www.flipkart.com/poco-x4-pro-5g-laser-black-128-gb/p/itm6aa3ec25a936c?pid=MOBGCGZZRNHF7NSD&lid=LSTMOBGCGZZRNHF7NSDI19U4J&marketplace=FLIPKART&q=POCO+phones&store=tyy%2F4io&srno=s_1_12&otracker=AS_Query_HistoryAutoSuggest_5_0&otracker1=AS_Query_HistoryAutoSuggest_5_0&fm=organic&iid=a2b5a297-fa2f-4bba-8bfc-fa201b1a0429.MOBGCGZZRNHF7NSD.SEARCH&ppt=hp&ppn=homepage&ssid=vrfnh2o21c0000001669125456507&qH=dcc5939a354e55b5\"\n",
    "details(b13,headers)"
   ]
  },
  {
   "cell_type": "code",
   "execution_count": 25,
   "id": "a2d110ea",
   "metadata": {},
   "outputs": [
    {
     "name": "stdout",
     "output_type": "stream",
     "text": [
      "<Response [200]>\n",
      "['POCO X4', 'Pro 5G']\n",
      "['(Yellow']\n",
      "['64MP', '8MP', '2MP', '16MP']\n",
      "['6 GB', '128 GB']\n",
      "['5000 mAh']\n",
      "['16.94 cm']\n",
      "['52,113', '5,290']\n",
      "4.1\n",
      "₹19,999\n"
     ]
    }
   ],
   "source": [
    "b14=\"https://www.flipkart.com/poco-x4-pro-5g-yellow-128-gb/p/itm2d063bb92f40c?pid=MOBGCGZZ2UGZBAZK&lid=LSTMOBGCGZZ2UGZBAZKZVVXQK&marketplace=FLIPKART&q=POCO+phones&store=tyy%2F4io&srno=s_1_11&otracker=AS_Query_HistoryAutoSuggest_5_0&otracker1=AS_Query_HistoryAutoSuggest_5_0&fm=organic&iid=a2b5a297-fa2f-4bba-8bfc-fa201b1a0429.MOBGCGZZ2UGZBAZK.SEARCH&ppt=hp&ppn=homepage&ssid=vrfnh2o21c0000001669125456507&qH=dcc5939a354e55b5\"\n",
    "details(b14,headers)"
   ]
  },
  {
   "cell_type": "code",
   "execution_count": 26,
   "id": "96aa0579",
   "metadata": {},
   "outputs": [
    {
     "name": "stdout",
     "output_type": "stream",
     "text": [
      "<Response [200]>\n",
      "['POCO M4', 'Pro', 'Power Black']\n",
      "['(Power Black']\n",
      "['64MP', '8MP', '2MP', '16MP']\n",
      "['6 GB', '128 GB']\n",
      "['5000 mAh']\n",
      "['16.33 cm']\n",
      "['1,13', ',004', '10,303']\n",
      "4.3\n",
      "₹16,499\n"
     ]
    }
   ],
   "source": [
    "b15=\"https://www.flipkart.com/poco-m4-pro-power-black-128-gb/p/itm4712e841d3458?pid=MOBGBTHFZ2GUW4MH&lid=LSTMOBGBTHFZ2GUW4MHSCFWBS&marketplace=FLIPKART&q=POCO+phones&store=tyy%2F4io&srno=s_1_10&otracker=AS_Query_HistoryAutoSuggest_5_0&otracker1=AS_Query_HistoryAutoSuggest_5_0&fm=organic&iid=a2b5a297-fa2f-4bba-8bfc-fa201b1a0429.MOBGBTHFZ2GUW4MH.SEARCH&ppt=hp&ppn=homepage&ssid=vrfnh2o21c0000001669125456507&qH=dcc5939a354e55b5\"\n",
    "details(b15,headers)"
   ]
  },
  {
   "cell_type": "code",
   "execution_count": 27,
   "id": "184da41a",
   "metadata": {},
   "outputs": [
    {
     "name": "stdout",
     "output_type": "stream",
     "text": [
      "<Response [200]>\n",
      "['POCO M4', 'Pro']\n",
      "['(Cool Blue']\n",
      "['64MP', '8MP', '2MP', '16MP']\n",
      "['6 GB', '64 GB']\n",
      "['5000 mAh']\n",
      "['16.33 cm']\n",
      "['1,13', ',004', '10,303']\n",
      "4.3\n",
      "₹14,999\n"
     ]
    }
   ],
   "source": [
    "b16=\"https://www.flipkart.com/poco-m4-pro-cool-blue-64-gb/p/itmeded809cd6117?pid=MOBGBTHFRAUEZX6G&lid=LSTMOBGBTHFRAUEZX6GTYEYVK&marketplace=FLIPKART&q=POCO+phones&store=tyy%2F4io&srno=s_1_9&otracker=AS_Query_HistoryAutoSuggest_5_0&otracker1=AS_Query_HistoryAutoSuggest_5_0&fm=organic&iid=a2b5a297-fa2f-4bba-8bfc-fa201b1a0429.MOBGBTHFRAUEZX6G.SEARCH&ppt=hp&ppn=homepage&ssid=vrfnh2o21c0000001669125456507&qH=dcc5939a354e55b5\"\n",
    "details(b16,headers)"
   ]
  },
  {
   "cell_type": "code",
   "execution_count": 28,
   "id": "a809aeb2",
   "metadata": {},
   "outputs": [
    {
     "name": "stdout",
     "output_type": "stream",
     "text": [
      "<Response [200]>\n",
      "['POCO M2', 'Pro']\n",
      "['(Green and']\n",
      "['48MP', '8MP', '5MP', '2MP', '16MP']\n",
      "['4 GB', '64 GB', '512 GB']\n",
      "['5000 mAh']\n",
      "['16.94 cm']\n",
      "['2,47', ',982', '24,411']\n",
      "4.3\n",
      "₹13,999\n"
     ]
    }
   ],
   "source": [
    "b17=\"https://www.flipkart.com/poco-m2-pro-green-greener-64-gb/p/itm5de3b6eb57ab4?pid=MOBFT7MKFHTAPDYD&lid=LSTMOBFT7MKFHTAPDYDNCICXM&marketplace=FLIPKART&q=POCO+phones&store=tyy%2F4io&srno=s_2_48&otracker=AS_Query_HistoryAutoSuggest_5_0&otracker1=AS_Query_HistoryAutoSuggest_5_0&fm=Search&iid=3edd1a34-33a2-484d-9ed0-52f6540e8e9a.MOBFT7MKFHTAPDYD.SEARCH&ppt=sp&ppn=sp&ssid=vrfnh2o21c0000001669125456507&qH=dcc5939a354e55b5\"\n",
    "details(b17,headers)"
   ]
  },
  {
   "cell_type": "code",
   "execution_count": 30,
   "id": "8c785147",
   "metadata": {},
   "outputs": [
    {
     "name": "stdout",
     "output_type": "stream",
     "text": [
      "<Response [200]>\n",
      "['POCO X4', 'Pro 5G']\n",
      "['(Laser Blue']\n",
      "['64MP', '8MP', '2MP', '16MP']\n",
      "['6 GB', '64 GB']\n",
      "['5000 mAh']\n",
      "['16.94 cm']\n",
      "['52,113', '5,290']\n",
      "4.1\n",
      "₹18,999\n"
     ]
    }
   ],
   "source": [
    "b18=\"https://www.flipkart.com/poco-x4-pro-5g-laser-blue-64-gb/p/itm35ba0311d6ecc?pid=MOBGCGZZJTDRN8AH&lid=LSTMOBGCGZZJTDRN8AHNHVPOV&marketplace=FLIPKART&q=POCO+phones&store=tyy%2F4io&srno=s_2_47&otracker=AS_Query_HistoryAutoSuggest_5_0&otracker1=AS_Query_HistoryAutoSuggest_5_0&fm=Search&iid=3edd1a34-33a2-484d-9ed0-52f6540e8e9a.MOBGCGZZJTDRN8AH.SEARCH&ppt=sp&ppn=sp&ssid=vrfnh2o21c0000001669125456507&qH=dcc5939a354e55b5\"\n",
    "details(b18,headers)"
   ]
  },
  {
   "cell_type": "code",
   "execution_count": 31,
   "id": "591919f5",
   "metadata": {},
   "outputs": [
    {
     "name": "stdout",
     "output_type": "stream",
     "text": [
      "<Response [200]>\n",
      "['POCO F4']\n",
      "['(Night Black']\n",
      "['64MP', '8MP', '2MP', '20MP']\n",
      "['6 GB', '128 GB']\n",
      "['4500 mAh']\n",
      "['16.94 cm']\n",
      "['10,725', '1,533']\n",
      "4.3\n",
      "₹27,999\n"
     ]
    }
   ],
   "source": [
    "b19=\"https://www.flipkart.com/poco-f4-5g-night-black-128-gb/p/itmde7b4cceb0e93?pid=MOBGE853HXYJ7R9K&lid=LSTMOBGE853HXYJ7R9KBAM8S5&marketplace=FLIPKART&q=POCO+phones&store=tyy%2F4io&srno=s_2_46&otracker=AS_Query_HistoryAutoSuggest_5_0&otracker1=AS_Query_HistoryAutoSuggest_5_0&fm=Search&iid=3edd1a34-33a2-484d-9ed0-52f6540e8e9a.MOBGE853HXYJ7R9K.SEARCH&ppt=sp&ppn=sp&ssid=vrfnh2o21c0000001669125456507&qH=dcc5939a354e55b5\"\n",
    "details(b19,headers)"
   ]
  },
  {
   "cell_type": "code",
   "execution_count": 32,
   "id": "a1249bc0",
   "metadata": {},
   "outputs": [
    {
     "name": "stdout",
     "output_type": "stream",
     "text": [
      "<Response [200]>\n",
      "['POCO M4', 'Pro 5G']\n",
      "['(Yellow']\n",
      "['50MP', '8MP', '16MP']\n",
      "['8 GB', '128 GB']\n",
      "['5000 mAh']\n",
      "['16.76 cm']\n",
      "['5,539', '498']\n",
      "4.2\n",
      "₹18,999\n"
     ]
    }
   ],
   "source": [
    "b20=\"https://www.flipkart.com/poco-m4-pro-5g-yellow-128-gb/p/itm4d9754f8772b2?pid=MOBGBEU9HJR5YG2U&lid=LSTMOBGBEU9HJR5YG2U03WQDO&marketplace=FLIPKART&q=POCO+phones&store=tyy%2F4io&srno=s_2_45&otracker=AS_Query_HistoryAutoSuggest_5_0&otracker1=AS_Query_HistoryAutoSuggest_5_0&fm=Search&iid=3edd1a34-33a2-484d-9ed0-52f6540e8e9a.MOBGBEU9HJR5YG2U.SEARCH&ppt=sp&ppn=sp&ssid=vrfnh2o21c0000001669125456507&qH=dcc5939a354e55b5\"\n",
    "details(b20,headers)"
   ]
  },
  {
   "cell_type": "code",
   "execution_count": 33,
   "id": "0a7fcdb3",
   "metadata": {},
   "outputs": [
    {
     "name": "stdout",
     "output_type": "stream",
     "text": [
      "<Response [200]>\n",
      "['POCO X4', 'Pro 5G']\n",
      "['(Laser Black']\n",
      "['64MP', '8MP', '2MP', '16MP']\n",
      "['6 GB', '64 GB']\n",
      "['5000 mAh']\n",
      "['16.94 cm']\n",
      "['52,113', '5,290']\n",
      "4.1\n",
      "₹18,999\n"
     ]
    }
   ],
   "source": [
    "b21=\"https://www.flipkart.com/poco-x4-pro-5g-laser-black-64-gb/p/itm11a238067b6f8?pid=MOBGCGZZZDY5FZ7Q&lid=LSTMOBGCGZZZDY5FZ7QNYB4WF&marketplace=FLIPKART&q=POCO+phones&store=tyy%2F4io&srno=s_2_44&otracker=AS_Query_HistoryAutoSuggest_5_0&otracker1=AS_Query_HistoryAutoSuggest_5_0&fm=Search&iid=3edd1a34-33a2-484d-9ed0-52f6540e8e9a.MOBGCGZZZDY5FZ7Q.SEARCH&ppt=sp&ppn=sp&ssid=vrfnh2o21c0000001669125456507&qH=dcc5939a354e55b5\"\n",
    "details(b21,headers)"
   ]
  },
  {
   "cell_type": "code",
   "execution_count": 34,
   "id": "4df9f507",
   "metadata": {},
   "outputs": [
    {
     "name": "stdout",
     "output_type": "stream",
     "text": [
      "<Response [200]>\n",
      "['POCO M5']\n",
      "['(Yellow']\n",
      "['50MP', '2MP', '2MP', '8MP']\n",
      "['6 GB', '128 GB', '512 GB']\n",
      "['5000 mAh']\n",
      "['16.71 cm']\n",
      "['859', '58']\n",
      "4.3\n",
      "₹14,499\n"
     ]
    }
   ],
   "source": [
    "b22=\"https://www.flipkart.com/poco-m5-yellow-128-gb/p/itme4df9ab5b739e?pid=MOBGHMZETTY4N6HK&lid=LSTMOBGHMZETTY4N6HK0UJWED&marketplace=FLIPKART&q=POCO+phones&store=tyy%2F4io&srno=s_2_43&otracker=AS_Query_HistoryAutoSuggest_5_0&otracker1=AS_Query_HistoryAutoSuggest_5_0&fm=Search&iid=3edd1a34-33a2-484d-9ed0-52f6540e8e9a.MOBGHMZETTY4N6HK.SEARCH&ppt=sp&ppn=sp&ssid=vrfnh2o21c0000001669125456507&qH=dcc5939a354e55b5\"\n",
    "details(b22,headers)"
   ]
  },
  {
   "cell_type": "code",
   "execution_count": 35,
   "id": "ab8e4ebd",
   "metadata": {},
   "outputs": [
    {
     "name": "stdout",
     "output_type": "stream",
     "text": [
      "<Response [200]>\n",
      "['POCO X4', 'Pro 5G']\n",
      "['(Yellow']\n",
      "['64MP', '8MP', '2MP', '16MP']\n",
      "['6 GB', '64 GB']\n",
      "['5000 mAh']\n",
      "['16.94 cm']\n",
      "['52,113', '5,290']\n",
      "4.1\n",
      "₹18,999\n"
     ]
    }
   ],
   "source": [
    "b23=\"https://www.flipkart.com/poco-x4-pro-5g-yellow-64-gb/p/itma3f10b7e34e03?pid=MOBGCGZZCGYZFGFE&lid=LSTMOBGCGZZCGYZFGFEEDCTGZ&marketplace=FLIPKART&q=POCO+phones&store=tyy%2F4io&srno=s_2_42&otracker=AS_Query_HistoryAutoSuggest_5_0&otracker1=AS_Query_HistoryAutoSuggest_5_0&fm=Search&iid=3edd1a34-33a2-484d-9ed0-52f6540e8e9a.MOBGCGZZCGYZFGFE.SEARCH&ppt=sp&ppn=sp&ssid=vrfnh2o21c0000001669125456507&qH=dcc5939a354e55b5\"\n",
    "details(b23,headers)"
   ]
  },
  {
   "cell_type": "code",
   "execution_count": 36,
   "id": "1c30d4f9",
   "metadata": {},
   "outputs": [
    {
     "name": "stdout",
     "output_type": "stream",
     "text": [
      "<Response [200]>\n",
      "['POCO M5', 'Power Black']\n",
      "['(Power Black']\n",
      "['50MP', '2MP', '2MP', '8MP']\n",
      "['6 GB', '128 GB', '512 GB']\n",
      "['5000 mAh']\n",
      "['16.71 cm']\n",
      "['859', '58']\n",
      "4.3\n",
      "₹14,499\n"
     ]
    }
   ],
   "source": [
    "b24=\"https://www.flipkart.com/poco-m5-power-black-128-gb/p/itme91ee96e64105?pid=MOBGHMZE7EWP7XR2&lid=LSTMOBGHMZE7EWP7XR2GNRED7&marketplace=FLIPKART&q=POCO+phones&store=tyy%2F4io&srno=s_2_40&otracker=AS_Query_HistoryAutoSuggest_5_0&otracker1=AS_Query_HistoryAutoSuggest_5_0&fm=Search&iid=3edd1a34-33a2-484d-9ed0-52f6540e8e9a.MOBGHMZE7EWP7XR2.SEARCH&ppt=sp&ppn=sp&ssid=vrfnh2o21c0000001669125456507&qH=dcc5939a354e55b5\"\n",
    "details(b24,headers)"
   ]
  },
  {
   "cell_type": "code",
   "execution_count": 37,
   "id": "6d020fb8",
   "metadata": {},
   "outputs": [
    {
     "name": "stdout",
     "output_type": "stream",
     "text": [
      "<Response [200]>\n",
      "['POCO M3']\n",
      "['(Yellow']\n",
      "['48MP', '2MP', '2MP', '8MP']\n",
      "['4 GB', '64 GB', '512 GB']\n",
      "['6000 mAh']\n",
      "['16.59 cm']\n",
      "['1,23', ',929', '8,918']\n",
      "4.3\n",
      "₹11,490\n"
     ]
    }
   ],
   "source": [
    "b25=\"https://www.flipkart.com/poco-m3-yellow-64-gb/p/itmb64ed93540462?pid=MOBG4CGFKYJFZ9HX&lid=LSTMOBG4CGFKYJFZ9HXVMT5QW&marketplace=FLIPKART&q=POCO+phones&store=tyy%2F4io&srno=s_2_39&otracker=AS_Query_HistoryAutoSuggest_5_0&otracker1=AS_Query_HistoryAutoSuggest_5_0&fm=Search&iid=3edd1a34-33a2-484d-9ed0-52f6540e8e9a.MOBG4CGFKYJFZ9HX.SEARCH&ppt=sp&ppn=sp&ssid=vrfnh2o21c0000001669125456507&qH=dcc5939a354e55b5\"\n",
    "details(b25,headers)"
   ]
  },
  {
   "cell_type": "code",
   "execution_count": 38,
   "id": "f1f8fe21",
   "metadata": {},
   "outputs": [
    {
     "name": "stdout",
     "output_type": "stream",
     "text": [
      "<Response [200]>\n",
      "['POCO X4', 'Pro 5G']\n",
      "['(Yellow']\n",
      "['64MP', '8MP', '2MP', '16MP']\n",
      "['8 GB', '128 GB']\n",
      "['5000 mAh']\n",
      "['16.94 cm']\n",
      "['12,278', '1,293']\n",
      "4.1\n",
      "₹21,999\n"
     ]
    }
   ],
   "source": [
    "b26 =\"https://www.flipkart.com/poco-x4-pro-5g-yellow-128-gb/p/itmb83ad4770deb1?pid=MOBGCGZZUJYWASGY&lid=LSTMOBGCGZZUJYWASGYQOQWSS&marketplace=FLIPKART&q=POCO+phones&store=tyy%2F4io&srno=s_2_38&otracker=AS_Query_HistoryAutoSuggest_5_0&otracker1=AS_Query_HistoryAutoSuggest_5_0&fm=Search&iid=3edd1a34-33a2-484d-9ed0-52f6540e8e9a.MOBGCGZZUJYWASGY.SEARCH&ppt=sp&ppn=sp&ssid=vrfnh2o21c0000001669125456507&qH=dcc5939a354e55b5\"\n",
    "details(b26,headers)"
   ]
  },
  {
   "cell_type": "code",
   "execution_count": 39,
   "id": "ff415e25",
   "metadata": {},
   "outputs": [
    {
     "name": "stdout",
     "output_type": "stream",
     "text": [
      "<Response [200]>\n",
      "['POCO M4', 'Pro']\n",
      "['(Yellow']\n",
      "['64MP', '8MP', '2MP', '16MP']\n",
      "['8 GB', '128 GB']\n",
      "['5000 mAh']\n",
      "['16.33 cm']\n",
      "['10,988', '957']\n",
      "4.3\n",
      "₹17,999\n"
     ]
    }
   ],
   "source": [
    "b27=\"https://www.flipkart.com/poco-m4-pro-yellow-128-gb/p/itm2c781ce3142ae?pid=MOBGBTHFVTYQCZQG&lid=LSTMOBGBTHFVTYQCZQGMHTOKH&marketplace=FLIPKART&q=POCO+phones&store=tyy%2F4io&srno=s_2_37&otracker=AS_Query_HistoryAutoSuggest_5_0&otracker1=AS_Query_HistoryAutoSuggest_5_0&fm=Search&iid=3edd1a34-33a2-484d-9ed0-52f6540e8e9a.MOBGBTHFVTYQCZQG.SEARCH&ppt=sp&ppn=sp&ssid=vrfnh2o21c0000001669125456507&qH=dcc5939a354e55b5\"\n",
    "details(b27,headers)"
   ]
  },
  {
   "cell_type": "code",
   "execution_count": 40,
   "id": "3e362f24",
   "metadata": {},
   "outputs": [
    {
     "name": "stdout",
     "output_type": "stream",
     "text": [
      "<Response [200]>\n",
      "['POCO F4']\n",
      "['(Night Black']\n",
      "['64MP', '8MP', '2MP', '20MP']\n",
      "['12 GB', '256 GB']\n",
      "['4500 mAh']\n",
      "['16.94 cm']\n",
      "['2,180', '336']\n",
      "4.4\n",
      "₹33,999\n"
     ]
    }
   ],
   "source": [
    "b28=\"https://www.flipkart.com/poco-f4-5g-night-black-256-gb/p/itm7fa11cfc34d04?pid=MOBGE853H86PEDVG&lid=LSTMOBGE853H86PEDVGZBCM9U&marketplace=FLIPKART&q=POCO+phones&store=tyy%2F4io&srno=s_2_36&otracker=AS_Query_HistoryAutoSuggest_5_0&otracker1=AS_Query_HistoryAutoSuggest_5_0&fm=Search&iid=3edd1a34-33a2-484d-9ed0-52f6540e8e9a.MOBGE853H86PEDVG.SEARCH&ppt=sp&ppn=sp&ssid=vrfnh2o21c0000001669125456507&qH=dcc5939a354e55b5\"\n",
    "details(b28,headers)"
   ]
  },
  {
   "cell_type": "code",
   "execution_count": 41,
   "id": "64602536",
   "metadata": {},
   "outputs": [
    {
     "name": "stdout",
     "output_type": "stream",
     "text": [
      "<Response [200]>\n",
      "['POCO C3']\n",
      "['(Lime Green']\n",
      "['13MP', '2MP', '2MP', '5MP']\n",
      "['3 GB', '32 GB', '512 GB']\n",
      "['5000 mAh']\n",
      "['16.59 cm']\n",
      "['3,97', ',284', '26,555']\n",
      "4.3\n",
      "₹8,499\n"
     ]
    }
   ],
   "source": [
    "b29=\"https://www.flipkart.com/poco-c3-lime-green-32-gb/p/itmdbc41b273ff7c?pid=MOBFVQJ5RMHGCWHF&lid=LSTMOBFVQJ5RMHGCWHFMX2DYL&marketplace=FLIPKART&q=POCO+phones&store=tyy%2F4io&srno=s_2_35&otracker=AS_Query_HistoryAutoSuggest_5_0&otracker1=AS_Query_HistoryAutoSuggest_5_0&fm=Search&iid=3edd1a34-33a2-484d-9ed0-52f6540e8e9a.MOBFVQJ5RMHGCWHF.SEARCH&ppt=sp&ppn=sp&ssid=vrfnh2o21c0000001669125456507&qH=dcc5939a354e55b5\"\n",
    "details(b29,headers)"
   ]
  },
  {
   "cell_type": "code",
   "execution_count": 42,
   "id": "90698183",
   "metadata": {},
   "outputs": [
    {
     "name": "stdout",
     "output_type": "stream",
     "text": [
      "<Response [200]>\n",
      "['POCO M4']\n",
      "['(Yellow']\n",
      "['50MP', '2MP', '8MP']\n",
      "['4 GB', '64 GB', '512 GB']\n",
      "['5000 mAh']\n",
      "['16.71 cm']\n",
      "['39,407', '3,211']\n",
      "4.2\n",
      "₹12,999\n"
     ]
    }
   ],
   "source": [
    "b30=\"https://www.flipkart.com/poco-m4-5g-yellow-64-gb/p/itm5bd9222dd1355?pid=MOBGDRGPBZHUC3VZ&lid=LSTMOBGDRGPBZHUC3VZINBEXT&marketplace=FLIPKART&q=POCO+phones&store=tyy%2F4io&srno=s_2_34&otracker=AS_Query_HistoryAutoSuggest_5_0&otracker1=AS_Query_HistoryAutoSuggest_5_0&fm=Search&iid=3edd1a34-33a2-484d-9ed0-52f6540e8e9a.MOBGDRGPBZHUC3VZ.SEARCH&ppt=sp&ppn=sp&ssid=vrfnh2o21c0000001669125456507&qH=dcc5939a354e55b5\"\n",
    "details(b30,headers)"
   ]
  },
  {
   "cell_type": "code",
   "execution_count": 43,
   "id": "fbb5311c",
   "metadata": {},
   "outputs": [
    {
     "name": "stdout",
     "output_type": "stream",
     "text": [
      "<Response [200]>\n",
      "['POCO M5']\n",
      "['(Yellow']\n",
      "['50MP', '2MP', '2MP', '8MP']\n",
      "['4 GB', '64 GB', '512 GB']\n",
      "['5000 mAh']\n",
      "['16.71 cm']\n",
      "['1,719', '123']\n",
      "4.3\n",
      "₹12,499\n"
     ]
    }
   ],
   "source": [
    "b31=\"https://www.flipkart.com/poco-m5-yellow-64-gb/p/itmb39102de199c5?pid=MOBGHMZEAF8F7HJS&lid=LSTMOBGHMZEAF8F7HJSEXGVHU&marketplace=FLIPKART&q=POCO+phones&store=tyy%2F4io&srno=s_2_33&otracker=AS_Query_HistoryAutoSuggest_5_0&otracker1=AS_Query_HistoryAutoSuggest_5_0&fm=Search&iid=3edd1a34-33a2-484d-9ed0-52f6540e8e9a.MOBGHMZEAF8F7HJS.SEARCH&ppt=sp&ppn=sp&ssid=vrfnh2o21c0000001669125456507&qH=dcc5939a354e55b5\"\n",
    "details(b31,headers)"
   ]
  },
  {
   "cell_type": "code",
   "execution_count": 44,
   "id": "085bd943",
   "metadata": {},
   "outputs": [
    {
     "name": "stdout",
     "output_type": "stream",
     "text": [
      "<Response [200]>\n",
      "['POCO M4', 'Pro 5G', 'Power Black']\n",
      "['(Power Black']\n",
      "['50MP', '8MP', '16MP']\n",
      "['8 GB', '128 GB']\n",
      "['5000 mAh']\n",
      "['16.76 cm']\n",
      "['5,539', '498']\n",
      "4.2\n",
      "₹18,999\n"
     ]
    }
   ],
   "source": [
    "b32=\"https://www.flipkart.com/poco-m4-pro-5g-power-black-128-gb/p/itm6582c30018b6b?pid=MOBGBEU73C6DGJGH&lid=LSTMOBGBEU73C6DGJGHSOUJSP&marketplace=FLIPKART&q=POCO+phones&store=tyy%2F4io&srno=s_2_32&otracker=AS_Query_HistoryAutoSuggest_5_0&otracker1=AS_Query_HistoryAutoSuggest_5_0&fm=Search&iid=3edd1a34-33a2-484d-9ed0-52f6540e8e9a.MOBGBEU73C6DGJGH.SEARCH&ppt=sp&ppn=sp&ssid=vrfnh2o21c0000001669125456507&qH=dcc5939a354e55b5\"\n",
    "details(b32,headers)"
   ]
  },
  {
   "cell_type": "code",
   "execution_count": 45,
   "id": "b22bdfc1",
   "metadata": {},
   "outputs": [
    {
     "name": "stdout",
     "output_type": "stream",
     "text": [
      "<Response [200]>\n",
      "['POCO M5']\n",
      "['(Icy Blue']\n",
      "['50MP', '2MP', '2MP', '8MP']\n",
      "['6 GB', '128 GB', '512 GB']\n",
      "['5000 mAh']\n",
      "['16.71 cm']\n",
      "['859', '58']\n",
      "4.3\n",
      "₹14,499\n"
     ]
    }
   ],
   "source": [
    "b33=\"https://www.flipkart.com/poco-m5-icy-blue-128-gb/p/itmdff67fe6f5687?pid=MOBGHMZEP9EFTVA4&lid=LSTMOBGHMZEP9EFTVA4ZUV3AW&marketplace=FLIPKART&q=POCO+phones&store=tyy%2F4io&srno=s_2_31&otracker=AS_Query_HistoryAutoSuggest_5_0&otracker1=AS_Query_HistoryAutoSuggest_5_0&fm=Search&iid=3edd1a34-33a2-484d-9ed0-52f6540e8e9a.MOBGHMZEP9EFTVA4.SEARCH&ppt=sp&ppn=sp&ssid=vrfnh2o21c0000001669125456507&qH=dcc5939a354e55b5\"\n",
    "details(b33,headers)"
   ]
  },
  {
   "cell_type": "code",
   "execution_count": 46,
   "id": "67183e7d",
   "metadata": {},
   "outputs": [
    {
     "name": "stdout",
     "output_type": "stream",
     "text": [
      "<Response [200]>\n",
      "['POCO M4', 'Power Black']\n",
      "['(Power Black']\n",
      "['50MP', '2MP', '8MP']\n",
      "['4 GB', '64 GB', '512 GB']\n",
      "['5000 mAh']\n",
      "['16.71 cm']\n",
      "['39,407', '3,211']\n",
      "4.2\n",
      "₹12,999\n"
     ]
    }
   ],
   "source": [
    "b34=\"https://www.flipkart.com/poco-m4-5g-power-black-64-gb/p/itmdca739218a8a0?pid=MOBGDRGPZTSHNQ5H&lid=LSTMOBGDRGPZTSHNQ5HUH1I7O&marketplace=FLIPKART&q=POCO+phones&store=tyy%2F4io&srno=s_2_30&otracker=AS_Query_HistoryAutoSuggest_5_0&otracker1=AS_Query_HistoryAutoSuggest_5_0&fm=Search&iid=3edd1a34-33a2-484d-9ed0-52f6540e8e9a.MOBGDRGPZTSHNQ5H.SEARCH&ppt=sp&ppn=sp&ssid=vrfnh2o21c0000001669125456507&qH=dcc5939a354e55b5\"\n",
    "details(b34,headers)"
   ]
  },
  {
   "cell_type": "code",
   "execution_count": 47,
   "id": "08e613e8",
   "metadata": {},
   "outputs": [
    {
     "name": "stdout",
     "output_type": "stream",
     "text": [
      "<Response [200]>\n",
      "['POCO M4', 'Pro 5G']\n",
      "['(Cool Blue']\n",
      "['50MP', '8MP', '16MP']\n",
      "['8 GB', '128 GB']\n",
      "['5000 mAh']\n",
      "['16.76 cm']\n",
      "['5,539', '498']\n",
      "4.2\n",
      "₹18,999\n"
     ]
    }
   ],
   "source": [
    "b35=\"https://www.flipkart.com/poco-m4-pro-5g-cool-blue-128-gb/p/itma0904b0c413a4?pid=MOBGBEU7BGWZNBYY&lid=LSTMOBGBEU7BGWZNBYYXGBTUG&marketplace=FLIPKART&q=POCO+phones&store=tyy%2F4io&srno=s_2_29&otracker=AS_Query_HistoryAutoSuggest_5_0&otracker1=AS_Query_HistoryAutoSuggest_5_0&fm=Search&iid=3edd1a34-33a2-484d-9ed0-52f6540e8e9a.MOBGBEU7BGWZNBYY.SEARCH&ppt=sp&ppn=sp&ssid=vrfnh2o21c0000001669125456507&qH=dcc5939a354e55b5\"\n",
    "details(b35,headers)"
   ]
  },
  {
   "cell_type": "code",
   "execution_count": 48,
   "id": "f4818372",
   "metadata": {},
   "outputs": [
    {
     "name": "stdout",
     "output_type": "stream",
     "text": [
      "<Response [200]>\n",
      "['POCO C31']\n",
      "['(Shadow Gray']\n",
      "['13MP', '2MP', '2MP', '5MP']\n",
      "['3 GB', '32 GB', '512 GB']\n",
      "['5000 mAh']\n",
      "['16.59 cm']\n",
      "['1,11', ',210', '6,942']\n",
      "4.3\n",
      "₹8,499\n"
     ]
    }
   ],
   "source": [
    "b36=\"https://www.flipkart.com/poco-c31-shadow-gray-32-gb/p/itmffefb8bb085e3?pid=MOBG73E7VZH7XHJY&lid=LSTMOBG73E7VZH7XHJYYXFO9I&marketplace=FLIPKART&q=POCO+phones&store=tyy%2F4io&srno=s_2_28&otracker=AS_Query_HistoryAutoSuggest_5_0&otracker1=AS_Query_HistoryAutoSuggest_5_0&fm=Search&iid=3edd1a34-33a2-484d-9ed0-52f6540e8e9a.MOBG73E7VZH7XHJY.SEARCH&ppt=sp&ppn=sp&ssid=vrfnh2o21c0000001669125456507&qH=dcc5939a354e55b5\"\n",
    "details(b36,headers)"
   ]
  },
  {
   "cell_type": "code",
   "execution_count": 49,
   "id": "19395752",
   "metadata": {},
   "outputs": [
    {
     "name": "stdout",
     "output_type": "stream",
     "text": [
      "<Response [200]>\n",
      "['POCO M4']\n",
      "['(Cool Blue']\n",
      "['50MP', '2MP', '8MP']\n",
      "['4 GB', '64 GB', '512 GB']\n",
      "['5000 mAh']\n",
      "['16.71 cm']\n",
      "['39,407', '3,211']\n",
      "4.2\n",
      "₹12,999\n"
     ]
    }
   ],
   "source": [
    "b37=\"https://www.flipkart.com/poco-m4-5g-cool-blue-64-gb/p/itm7b27dd2f5da7e?pid=MOBGDRGPD6YGVHXZ&lid=LSTMOBGDRGPD6YGVHXZQNZP4U&marketplace=FLIPKART&q=POCO+phones&store=tyy%2F4io&srno=s_2_27&otracker=AS_Query_HistoryAutoSuggest_5_0&otracker1=AS_Query_HistoryAutoSuggest_5_0&fm=Search&iid=3edd1a34-33a2-484d-9ed0-52f6540e8e9a.MOBGDRGPD6YGVHXZ.SEARCH&ppt=sp&ppn=sp&ssid=vrfnh2o21c0000001669125456507&qH=dcc5939a354e55b5\"\n",
    "details(b37,headers)"
   ]
  },
  {
   "cell_type": "code",
   "execution_count": 50,
   "id": "8e31410f",
   "metadata": {},
   "outputs": [
    {
     "name": "stdout",
     "output_type": "stream",
     "text": [
      "<Response [200]>\n",
      "['POCO X3']\n",
      "['(Cobalt Blue']\n",
      "['64MP', '13MP', '2MP', '2MP', '20MP']\n",
      "['8 GB', '128 GB', '512 GB']\n",
      "['6000 mAh']\n",
      "['16.94 cm']\n",
      "['38,865', '3,575']\n",
      "4.3\n",
      "₹18,999\n"
     ]
    }
   ],
   "source": [
    "b38=\"https://www.flipkart.com/poco-x3-cobalt-blue-128-gb/p/itmc01355a24b644?pid=MOBFVQJ5XT2BNSS8&lid=LSTMOBFVQJ5XT2BNSS8XEDV3D&marketplace=FLIPKART&q=POCO+phones&store=tyy%2F4io&srno=s_3_72&otracker=AS_Query_HistoryAutoSuggest_5_0&otracker1=AS_Query_HistoryAutoSuggest_5_0&fm=Search&iid=9615b22e-001a-4543-80e2-7824f6a62bd9.MOBFVQJ5XT2BNSS8.SEARCH&ppt=sp&ppn=sp&qH=dcc5939a354e55b5\"\n",
    "details(b38,headers)"
   ]
  },
  {
   "cell_type": "code",
   "execution_count": 51,
   "id": "10432a4a",
   "metadata": {},
   "outputs": [
    {
     "name": "stdout",
     "output_type": "stream",
     "text": [
      "<Response [200]>\n",
      "['POCO F1']\n",
      "['(Rosso Red']\n",
      "['12MP', '5MP', '20MP']\n",
      "['6 GB', '64 GB', '256 GB']\n",
      "['4000 mAh']\n",
      "['15.7 cm']\n",
      "['2,44', ',112', '30,055']\n",
      "4.5\n",
      "₹18,999\n"
     ]
    }
   ],
   "source": [
    "b39=\"https://www.flipkart.com/poco-f1-rosso-red-64-gb/p/itmf9c3nheykcepp?pid=MOBF9A67HZBXF8FH&lid=LSTMOBF9A67HZBXF8FHJP9JRC&marketplace=FLIPKART&q=POCO+phones&store=tyy%2F4io&srno=s_3_71&otracker=AS_Query_HistoryAutoSuggest_5_0&otracker1=AS_Query_HistoryAutoSuggest_5_0&fm=Search&iid=9615b22e-001a-4543-80e2-7824f6a62bd9.MOBF9A67HZBXF8FH.SEARCH&ppt=sp&ppn=sp&qH=dcc5939a354e55b5\"\n",
    "details(b39,headers)"
   ]
  },
  {
   "cell_type": "code",
   "execution_count": 52,
   "id": "a73ef21c",
   "metadata": {},
   "outputs": [
    {
     "name": "stdout",
     "output_type": "stream",
     "text": [
      "<Response [200]>\n",
      "['POCO F1']\n",
      "['(Rosso Red']\n",
      "['12MP', '5MP', '20MP']\n",
      "['6 GB', '64 GB', '256 GB']\n",
      "['4000 mAh']\n",
      "['15.7 cm']\n",
      "['2,44', ',112', '30,055']\n",
      "4.5\n",
      "₹18,999\n"
     ]
    }
   ],
   "source": [
    "b40=\"https://www.flipkart.com/poco-f1-rosso-red-64-gb/p/itmf9c3nheykcepp?pid=MOBF9A67HZBXF8FH&lid=LSTMOBF9A67HZBXF8FHJP9JRC&marketplace=FLIPKART&q=POCO+phones&store=tyy%2F4io&srno=s_3_71&otracker=AS_Query_HistoryAutoSuggest_5_0&otracker1=AS_Query_HistoryAutoSuggest_5_0&fm=Search&iid=9615b22e-001a-4543-80e2-7824f6a62bd9.MOBF9A67HZBXF8FH.SEARCH&ppt=sp&ppn=sp&qH=dcc5939a354e55b5\"\n",
    "details(b40,headers)"
   ]
  },
  {
   "cell_type": "code",
   "execution_count": 53,
   "id": "0427fb8b",
   "metadata": {},
   "outputs": [
    {
     "name": "stdout",
     "output_type": "stream",
     "text": [
      "<Response [200]>\n",
      "['POCO C3']\n",
      "['(Matte Black']\n",
      "['13MP', '2MP', '2MP', '5MP']\n",
      "['4 GB', '64 GB', '512 GB']\n",
      "['5000 mAh']\n",
      "['16.59 cm']\n",
      "['3,04', ',950', '18,490']\n",
      "4.3\n",
      "₹9,499\n"
     ]
    }
   ],
   "source": [
    "b41=\"https://www.flipkart.com/poco-c3-matte-black-64-gb/p/itm4e94ab7e418af?pid=MOBFVQJ5KGSJXCKG&lid=LSTMOBFVQJ5KGSJXCKGJZSRAI&marketplace=FLIPKART&q=POCO+phones&store=tyy%2F4io&srno=s_3_70&otracker=AS_Query_HistoryAutoSuggest_5_0&otracker1=AS_Query_HistoryAutoSuggest_5_0&fm=Search&iid=9615b22e-001a-4543-80e2-7824f6a62bd9.MOBFVQJ5KGSJXCKG.SEARCH&ppt=sp&ppn=sp&qH=dcc5939a354e55b5\"\n",
    "details(b41,headers)"
   ]
  },
  {
   "cell_type": "code",
   "execution_count": 54,
   "id": "e5fa2bf5",
   "metadata": {},
   "outputs": [
    {
     "name": "stdout",
     "output_type": "stream",
     "text": [
      "<Response [200]>\n",
      "['POCO F1', 'phite Black']\n",
      "['(Graphite Black']\n",
      "['12MP', '5MP', '20MP']\n",
      "['6 GB', '64 GB', '256 GB']\n",
      "['4000 mAh']\n",
      "['15.7 cm']\n",
      "['2,44', ',112', '30,055']\n",
      "4.5\n",
      "₹21,999\n"
     ]
    }
   ],
   "source": [
    "b42=\"https://www.flipkart.com/poco-f1-graphite-black-64-gb/p/itmd4d412de1b7c9?pid=MOBF85V7A6PXETAX&lid=LSTMOBF85V7A6PXETAXHPMFLL&marketplace=FLIPKART&q=POCO+phones&store=tyy%2F4io&spotlightTagId=TrendingId_tyy%2F4io&srno=s_3_69&otracker=AS_Query_HistoryAutoSuggest_5_0&otracker1=AS_Query_HistoryAutoSuggest_5_0&fm=Search&iid=9615b22e-001a-4543-80e2-7824f6a62bd9.MOBF85V7A6PXETAX.SEARCH&ppt=sp&ppn=sp&qH=dcc5939a354e55b5\"\n",
    "details(b42,headers)"
   ]
  },
  {
   "cell_type": "code",
   "execution_count": 55,
   "id": "8501d2e6",
   "metadata": {},
   "outputs": [
    {
     "name": "stdout",
     "output_type": "stream",
     "text": [
      "<Response [200]>\n",
      "['POCO F1']\n",
      "['(Steel Blue']\n",
      "['12MP', '5MP', '20MP']\n",
      "['6 GB', '64 GB', '256 GB']\n",
      "['4000 mAh']\n",
      "['15.7 cm']\n",
      "['2,44', ',112', '30,055']\n",
      "4.5\n",
      "₹21,999\n"
     ]
    }
   ],
   "source": [
    "b43=\"https://www.flipkart.com/poco-f1-steel-blue-64-gb/p/itmd4d412de1b7c9?pid=MOBF85V7ZJGSTXGN&lid=LSTMOBF85V7ZJGSTXGNLJF9CD&marketplace=FLIPKART&q=POCO+phones&store=tyy%2F4io&srno=s_3_68&otracker=AS_Query_HistoryAutoSuggest_5_0&otracker1=AS_Query_HistoryAutoSuggest_5_0&fm=Search&iid=9615b22e-001a-4543-80e2-7824f6a62bd9.MOBF85V7ZJGSTXGN.SEARCH&ppt=sp&ppn=sp&qH=dcc5939a354e55b5\"\n",
    "details(b43,headers)"
   ]
  },
  {
   "cell_type": "code",
   "execution_count": 56,
   "id": "645b0ee1",
   "metadata": {},
   "outputs": [
    {
     "name": "stdout",
     "output_type": "stream",
     "text": [
      "<Response [200]>\n",
      "['POCO M2', 'Pro']\n",
      "['(Out of']\n",
      "['48MP', '8MP', '5MP', '2MP', '16MP']\n",
      "['6 GB', '128 GB', '512 GB']\n",
      "['5000 mAh']\n",
      "['16.94 cm']\n",
      "['3,49', ',545', '33,233']\n",
      "4.4\n",
      "₹15,999\n"
     ]
    }
   ],
   "source": [
    "b44=\"https://www.flipkart.com/poco-m2-pro-out-blue-128-gb/p/itm151565feac420?pid=MOBFT7MKCGTQTBBU&lid=LSTMOBFT7MKCGTQTBBUENPL7B&marketplace=FLIPKART&q=POCO+phones&store=tyy%2F4io&srno=s_3_67&otracker=AS_Query_HistoryAutoSuggest_5_0&otracker1=AS_Query_HistoryAutoSuggest_5_0&fm=Search&iid=9615b22e-001a-4543-80e2-7824f6a62bd9.MOBFT7MKCGTQTBBU.SEARCH&ppt=sp&ppn=sp&qH=dcc5939a354e55b5\"\n",
    "details(b44,headers)"
   ]
  },
  {
   "cell_type": "code",
   "execution_count": 57,
   "id": "e15c6798",
   "metadata": {},
   "outputs": [
    {
     "name": "stdout",
     "output_type": "stream",
     "text": [
      "<Response [200]>\n",
      "['POCO M3']\n",
      "['(Cool Blue']\n",
      "['48MP', '2MP', '2MP', '8MP']\n",
      "['6 GB', '64 GB', '512 GB']\n",
      "['6000 mAh']\n",
      "['16.59 cm']\n",
      "['4,79', ',022', '34,713']\n",
      "4.3\n",
      "₹12,999\n"
     ]
    }
   ],
   "source": [
    "b45=\"https://www.flipkart.com/poco-m3-cool-blue-64-gb/p/itmc8ec867cb0472?pid=MOBFZTCUDDCTDN3G&lid=LSTMOBFZTCUDDCTDN3GBFEEP5&marketplace=FLIPKART&q=POCO+phones&store=tyy%2F4io&srno=s_3_66&otracker=AS_Query_HistoryAutoSuggest_5_0&otracker1=AS_Query_HistoryAutoSuggest_5_0&fm=Search&iid=9615b22e-001a-4543-80e2-7824f6a62bd9.MOBFZTCUDDCTDN3G.SEARCH&ppt=sp&ppn=sp&qH=dcc5939a354e55b5\"\n",
    "details(b45,headers)"
   ]
  },
  {
   "cell_type": "code",
   "execution_count": 58,
   "id": "c406b188",
   "metadata": {},
   "outputs": [
    {
     "name": "stdout",
     "output_type": "stream",
     "text": [
      "<Response [200]>\n",
      "['POCO F3', 'Predator Black']\n",
      "['(Predator Black']\n",
      "['64MP', '8MP', '2MP', '16MP']\n",
      "['6 GB', '128 GB']\n",
      "['5065 mAh']\n",
      "['16.94 cm']\n",
      "['4,658', '755']\n",
      "4.3\n",
      "₹28,999\n"
     ]
    }
   ],
   "source": [
    "b46=\"https://www.flipkart.com/poco-f3-gt-5g-predator-black-128-gb/p/itmee0c7a72eb381?pid=MOBG4Z5MPHBK44JY&lid=LSTMOBG4Z5MPHBK44JY7724XP&marketplace=FLIPKART&q=POCO+phones&store=tyy%2F4io&srno=s_3_65&otracker=AS_Query_HistoryAutoSuggest_5_0&otracker1=AS_Query_HistoryAutoSuggest_5_0&fm=Search&iid=9615b22e-001a-4543-80e2-7824f6a62bd9.MOBG4Z5MPHBK44JY.SEARCH&ppt=sp&ppn=sp&qH=dcc5939a354e55b5\"\n",
    "details(b46,headers)"
   ]
  },
  {
   "cell_type": "code",
   "execution_count": 59,
   "id": "428fa922",
   "metadata": {},
   "outputs": [
    {
     "name": "stdout",
     "output_type": "stream",
     "text": [
      "<Response [200]>\n",
      "['POCO M3', 'Pro 5G']\n",
      "['(Yellow']\n",
      "['48MP', '2MP', '2MP', '8MP']\n",
      "['6 GB', '128 GB']\n",
      "['5000 mAh']\n",
      "['16.51 cm']\n",
      "['51,734', '4,394']\n",
      "4.2\n",
      "₹16,499\n"
     ]
    }
   ],
   "source": [
    "b47=\"https://www.flipkart.com/poco-m3-pro-5g-yellow-128-gb/p/itm023855e180d52?pid=MOBG3P55YEAPRX4Q&lid=LSTMOBG3P55YEAPRX4QAVUREF&marketplace=FLIPKART&q=POCO+phones&store=tyy%2F4io&srno=s_3_64&otracker=AS_Query_HistoryAutoSuggest_5_0&otracker1=AS_Query_HistoryAutoSuggest_5_0&fm=Search&iid=9615b22e-001a-4543-80e2-7824f6a62bd9.MOBG3P55YEAPRX4Q.SEARCH&ppt=sp&ppn=sp&qH=dcc5939a354e55b5\"\n",
    "details(b47,headers)"
   ]
  },
  {
   "cell_type": "code",
   "execution_count": 60,
   "id": "35ef59c8",
   "metadata": {},
   "outputs": [
    {
     "name": "stdout",
     "output_type": "stream",
     "text": [
      "<Response [200]>\n",
      "['POCO F3', 'Predator Black']\n",
      "['(Predator Black']\n",
      "['64MP', '8MP', '2MP', '16MP']\n",
      "['8 GB', '128 GB']\n",
      "['5065 mAh']\n",
      "['16.94 cm']\n",
      "['14,744', '1,928']\n",
      "4.3\n",
      "₹28,999\n"
     ]
    }
   ],
   "source": [
    "b48=\"https://www.flipkart.com/poco-f3-gt-5g-predator-black-128-gb/p/itm27a5b8bd59601?pid=MOBG4Z5MBD3VMXTF&lid=LSTMOBG4Z5MBD3VMXTFXHIC8A&marketplace=FLIPKART&q=POCO+phones&store=tyy%2F4io&srno=s_3_63&otracker=AS_Query_HistoryAutoSuggest_5_0&otracker1=AS_Query_HistoryAutoSuggest_5_0&fm=Search&iid=9615b22e-001a-4543-80e2-7824f6a62bd9.MOBG4Z5MBD3VMXTF.SEARCH&ppt=sp&ppn=sp&qH=dcc5939a354e55b5\"\n",
    "details(b48,headers)"
   ]
  },
  {
   "cell_type": "code",
   "execution_count": 61,
   "id": "f63bd3dd",
   "metadata": {},
   "outputs": [
    {
     "name": "stdout",
     "output_type": "stream",
     "text": [
      "<Response [200]>\n",
      "['POCO M3', 'Pro 5G', 'Power Black']\n",
      "['(Power Black']\n",
      "['48MP', '2MP', '2MP', '8MP']\n",
      "['4 GB', '64 GB']\n",
      "['5000 mAh']\n",
      "['16.51 cm']\n",
      "['62,329', '4,833']\n",
      "4.3\n",
      "₹14,499\n"
     ]
    }
   ],
   "source": [
    "b49=\"https://www.flipkart.com/poco-m3-pro-5g-power-black-64-gb/p/itmabfea23908d0d?pid=MOBG3P4Z3ZQSVWZZ&lid=LSTMOBG3P4Z3ZQSVWZZCSY9RF&marketplace=FLIPKART&q=POCO+phones&store=tyy%2F4io&srno=s_3_62&otracker=AS_Query_HistoryAutoSuggest_5_0&otracker1=AS_Query_HistoryAutoSuggest_5_0&fm=Search&iid=9615b22e-001a-4543-80e2-7824f6a62bd9.MOBG3P4Z3ZQSVWZZ.SEARCH&ppt=sp&ppn=sp&qH=dcc5939a354e55b5\"\n",
    "details(b49,headers)"
   ]
  },
  {
   "cell_type": "code",
   "execution_count": 62,
   "id": "766f04e0",
   "metadata": {},
   "outputs": [
    {
     "name": "stdout",
     "output_type": "stream",
     "text": [
      "<Response [200]>\n",
      "['POCO M3', 'Pro 5G', 'Power Black']\n",
      "['(Power Black']\n",
      "['48MP', '2MP', '2MP', '8MP']\n",
      "['6 GB', '128 GB']\n",
      "['5000 mAh']\n",
      "['16.51 cm']\n",
      "['51,734', '4,394']\n",
      "4.2\n",
      "₹16,499\n"
     ]
    }
   ],
   "source": [
    "b50=\"https://www.flipkart.com/poco-m3-pro-5g-power-black-128-gb/p/itme675f0ed3bafb?pid=MOBG3P4ZHGQEHY38&lid=LSTMOBG3P4ZHGQEHY38I9J3IQ&marketplace=FLIPKART&q=POCO+phones&store=tyy%2F4io&srno=s_3_61&otracker=AS_Query_HistoryAutoSuggest_5_0&otracker1=AS_Query_HistoryAutoSuggest_5_0&fm=Search&iid=9615b22e-001a-4543-80e2-7824f6a62bd9.MOBG3P4ZHGQEHY38.SEARCH&ppt=sp&ppn=sp&qH=dcc5939a354e55b5\"\n",
    "details(b50,headers)"
   ]
  },
  {
   "cell_type": "code",
   "execution_count": 63,
   "id": "f3a7cd73",
   "metadata": {},
   "outputs": [
    {
     "name": "stdout",
     "output_type": "stream",
     "text": [
      "<Response [200]>\n",
      "['POCO M3', 'Pro 5G']\n",
      "['(Yellow']\n",
      "['48MP', '2MP', '2MP', '8MP']\n",
      "['4 GB', '64 GB']\n",
      "['5000 mAh']\n",
      "['16.51 cm']\n",
      "['62,329', '4,833']\n",
      "4.3\n",
      "₹14,499\n"
     ]
    }
   ],
   "source": [
    "b51=\"https://www.flipkart.com/poco-m3-pro-5g-yellow-64-gb/p/itm51fb555f11b66?pid=MOBG3P55T4HQZBGC&lid=LSTMOBG3P55T4HQZBGC0XVZM2&marketplace=FLIPKART&q=POCO+phones&store=tyy%2F4io&srno=s_3_60&otracker=AS_Query_HistoryAutoSuggest_5_0&otracker1=AS_Query_HistoryAutoSuggest_5_0&fm=Search&iid=9615b22e-001a-4543-80e2-7824f6a62bd9.MOBG3P55T4HQZBGC.SEARCH&ppt=sp&ppn=sp&qH=dcc5939a354e55b5\"\n",
    "details(b51,headers)"
   ]
  },
  {
   "cell_type": "code",
   "execution_count": 64,
   "id": "f5b89878",
   "metadata": {},
   "outputs": [
    {
     "name": "stdout",
     "output_type": "stream",
     "text": [
      "<Response [200]>\n",
      "['POCO M3', 'Pro 5G']\n",
      "['(Cool Blue']\n",
      "['48MP', '2MP', '2MP', '8MP']\n",
      "['4 GB', '64 GB']\n",
      "['5000 mAh']\n",
      "['16.51 cm']\n",
      "['62,329', '4,833']\n",
      "4.3\n",
      "₹14,499\n"
     ]
    }
   ],
   "source": [
    "b52=\"https://www.flipkart.com/poco-m3-pro-5g-cool-blue-64-gb/p/itm97436286a64b5?pid=MOBG3P4ZGGVECRZK&lid=LSTMOBG3P4ZGGVECRZKTNXMR8&marketplace=FLIPKART&q=POCO+phones&store=tyy%2F4io&srno=s_3_59&otracker=AS_Query_HistoryAutoSuggest_5_0&otracker1=AS_Query_HistoryAutoSuggest_5_0&fm=Search&iid=9615b22e-001a-4543-80e2-7824f6a62bd9.MOBG3P4ZGGVECRZK.SEARCH&ppt=sp&ppn=sp&qH=dcc5939a354e55b5\"\n",
    "details(b52,headers)"
   ]
  },
  {
   "cell_type": "code",
   "execution_count": 65,
   "id": "941ec3de",
   "metadata": {},
   "outputs": [
    {
     "name": "stdout",
     "output_type": "stream",
     "text": [
      "<Response [200]>\n",
      "['POCO M2', 'Pro']\n",
      "['(Green and']\n",
      "['48MP', '8MP', '5MP', '2MP', '16MP']\n",
      "['6 GB', '64 GB', '512 GB']\n",
      "['5000 mAh']\n",
      "['16.94 cm']\n",
      "['3,49', ',545', '33,233']\n",
      "4.4\n",
      "₹14,999\n"
     ]
    }
   ],
   "source": [
    "b53=\"https://www.flipkart.com/poco-m2-pro-green-greener-64-gb/p/itm795e36b373b6f?pid=MOBFT7MK3Q89BGWR&lid=LSTMOBFT7MK3Q89BGWRN4ZHYY&marketplace=FLIPKART&q=POCO+phones&store=tyy%2F4io&srno=s_3_58&otracker=AS_Query_HistoryAutoSuggest_5_0&otracker1=AS_Query_HistoryAutoSuggest_5_0&fm=Search&iid=9615b22e-001a-4543-80e2-7824f6a62bd9.MOBFT7MK3Q89BGWR.SEARCH&ppt=sp&ppn=sp&qH=dcc5939a354e55b5\"\n",
    "details(b53,headers)"
   ]
  },
  {
   "cell_type": "code",
   "execution_count": 66,
   "id": "ce5dbde3",
   "metadata": {},
   "outputs": [
    {
     "name": "stdout",
     "output_type": "stream",
     "text": [
      "<Response [200]>\n",
      "['POCO C3']\n",
      "['(Arctic Blue']\n",
      "['13MP', '2MP', '2MP', '5MP']\n",
      "['4 GB', '64 GB', '512 GB']\n",
      "['5000 mAh']\n",
      "['16.59 cm']\n",
      "['3,04', ',950', '18,490']\n",
      "4.3\n",
      "₹9,499\n"
     ]
    }
   ],
   "source": [
    "b54=\"https://www.flipkart.com/poco-c3-arctic-blue-64-gb/p/itm7f632fdb49b3b?pid=MOBFVQJ5NV9ZSYEF&lid=LSTMOBFVQJ5NV9ZSYEFDNRK58&marketplace=FLIPKART&q=POCO+phones&store=tyy%2F4io&srno=s_3_57&otracker=AS_Query_HistoryAutoSuggest_5_0&otracker1=AS_Query_HistoryAutoSuggest_5_0&fm=Search&iid=9615b22e-001a-4543-80e2-7824f6a62bd9.MOBFVQJ5NV9ZSYEF.SEARCH&ppt=sp&ppn=sp&qH=dcc5939a354e55b5\"\n",
    "details(b54,headers)"
   ]
  },
  {
   "cell_type": "code",
   "execution_count": 67,
   "id": "6e7976da",
   "metadata": {},
   "outputs": [
    {
     "name": "stdout",
     "output_type": "stream",
     "text": [
      "<Response [200]>\n",
      "['POCO F4']\n",
      "['(Nebula Green']\n",
      "['64MP', '8MP', '2MP', '20MP']\n",
      "['6 GB', '128 GB']\n",
      "['4500 mAh']\n",
      "['16.94 cm']\n",
      "['10,725', '1,533']\n",
      "4.3\n",
      "₹27,999\n"
     ]
    }
   ],
   "source": [
    "b55=\"https://www.flipkart.com/poco-f4-5g-nebula-green-128-gb/p/itmff0d134def305?pid=MOBGE853N5EMEHW7&lid=LSTMOBGE853N5EMEHW74T8TXZ&marketplace=FLIPKART&q=POCO+phones&store=tyy%2F4io&srno=s_3_56&otracker=AS_Query_HistoryAutoSuggest_5_0&otracker1=AS_Query_HistoryAutoSuggest_5_0&fm=Search&iid=9615b22e-001a-4543-80e2-7824f6a62bd9.MOBGE853N5EMEHW7.SEARCH&ppt=sp&ppn=sp&qH=dcc5939a354e55b5\"\n",
    "details(b55,headers)"
   ]
  },
  {
   "cell_type": "code",
   "execution_count": 68,
   "id": "f74a32ed",
   "metadata": {},
   "outputs": [
    {
     "name": "stdout",
     "output_type": "stream",
     "text": [
      "<Response [200]>\n",
      "['POCO M3', 'Pro 5G']\n",
      "['(Cool Blue']\n",
      "['48MP', '2MP', '2MP', '8MP']\n",
      "['6 GB', '128 GB']\n",
      "['5000 mAh']\n",
      "['16.51 cm']\n",
      "['51,734', '4,394']\n",
      "4.2\n",
      "₹16,499\n"
     ]
    }
   ],
   "source": [
    "b56=\"https://www.flipkart.com/poco-m3-pro-5g-cool-blue-128-gb/p/itmf923739d27b4b?pid=MOBG3P4ZMCSJNSAY&lid=LSTMOBG3P4ZMCSJNSAYIYDCCL&marketplace=FLIPKART&q=POCO+phones&store=tyy%2F4io&srno=s_3_55&otracker=AS_Query_HistoryAutoSuggest_5_0&otracker1=AS_Query_HistoryAutoSuggest_5_0&fm=Search&iid=9615b22e-001a-4543-80e2-7824f6a62bd9.MOBG3P4ZMCSJNSAY.SEARCH&ppt=sp&ppn=sp&qH=dcc5939a354e55b5\"\n",
    "details(b56,headers)"
   ]
  },
  {
   "cell_type": "code",
   "execution_count": 69,
   "id": "0bd79bad",
   "metadata": {},
   "outputs": [
    {
     "name": "stdout",
     "output_type": "stream",
     "text": [
      "<Response [200]>\n",
      "['POCO F4']\n",
      "['(Nebula Green']\n",
      "['64MP', '8MP', '2MP', '20MP']\n",
      "['12 GB', '256 GB']\n",
      "['4500 mAh']\n",
      "['16.94 cm']\n",
      "['2,180', '336']\n",
      "4.4\n",
      "₹33,999\n"
     ]
    }
   ],
   "source": [
    "b57=\"https://www.flipkart.com/poco-f4-5g-nebula-green-256-gb/p/itm9fdea93035f54?pid=MOBGE853BZW5EDQQ&lid=LSTMOBGE853BZW5EDQQYVP3QS&marketplace=FLIPKART&q=POCO+phones&store=tyy%2F4io&srno=s_3_54&otracker=AS_Query_HistoryAutoSuggest_5_0&otracker1=AS_Query_HistoryAutoSuggest_5_0&fm=Search&iid=9615b22e-001a-4543-80e2-7824f6a62bd9.MOBGE853BZW5EDQQ.SEARCH&ppt=sp&ppn=sp&qH=dcc5939a354e55b5\"\n",
    "details(b57,headers)"
   ]
  },
  {
   "cell_type": "code",
   "execution_count": 70,
   "id": "153ef9a2",
   "metadata": {},
   "outputs": [
    {
     "name": "stdout",
     "output_type": "stream",
     "text": [
      "<Response [200]>\n",
      "['POCO F4']\n",
      "['(Night Black']\n",
      "['64MP', '8MP', '2MP', '20MP']\n",
      "['8 GB', '128 GB']\n",
      "['4500 mAh']\n",
      "['16.94 cm']\n",
      "['3,885', '544']\n",
      "4.3\n",
      "₹29,999\n"
     ]
    }
   ],
   "source": [
    "b58=\"https://www.flipkart.com/poco-f4-5g-night-black-128-gb/p/itm0508208a368c7?pid=MOBGE8538HZHG2UH&lid=LSTMOBGE8538HZHG2UHSO1V4M&marketplace=FLIPKART&q=POCO+phones&store=tyy%2F4io&srno=s_3_53&otracker=AS_Query_HistoryAutoSuggest_5_0&otracker1=AS_Query_HistoryAutoSuggest_5_0&fm=Search&iid=9615b22e-001a-4543-80e2-7824f6a62bd9.MOBGE8538HZHG2UH.SEARCH&ppt=sp&ppn=sp&qH=dcc5939a354e55b5\"\n",
    "details(b58,headers)"
   ]
  },
  {
   "cell_type": "code",
   "execution_count": 71,
   "id": "81986b34",
   "metadata": {},
   "outputs": [
    {
     "name": "stdout",
     "output_type": "stream",
     "text": [
      "<Response [200]>\n",
      "['POCO C3']\n",
      "['(Matte Black']\n",
      "['13MP', '2MP', '2MP', '5MP']\n",
      "['3 GB', '32 GB', '512 GB']\n",
      "['5000 mAh']\n",
      "['16.59 cm']\n",
      "['3,97', ',284', '26,555']\n",
      "4.3\n",
      "₹8,490\n"
     ]
    }
   ],
   "source": [
    "b59=\"https://www.flipkart.com/poco-c3-matte-black-32-gb/p/itm1ee2f6513ac1c?pid=MOBFVQJ5YCRFFXPB&lid=LSTMOBFVQJ5YCRFFXPBDJARUA&marketplace=FLIPKART&q=POCO+phones&store=tyy%2F4io&srno=s_4_96&otracker=AS_Query_HistoryAutoSuggest_5_0&otracker1=AS_Query_HistoryAutoSuggest_5_0&fm=Search&iid=8b309aa9-2a1b-4586-9013-dfbce2b4d4ec.MOBFVQJ5YCRFFXPB.SEARCH&ppt=sp&ppn=sp&qH=dcc5939a354e55b5\"\n",
    "details(b59,headers)"
   ]
  },
  {
   "cell_type": "code",
   "execution_count": 72,
   "id": "40dbf8bc",
   "metadata": {},
   "outputs": [
    {
     "name": "stdout",
     "output_type": "stream",
     "text": [
      "<Response [200]>\n",
      "['POCO X3', 'Pro']\n",
      "['(Golden Bronze']\n",
      "['48MP', '8MP', '2MP', '2MP', '20MP']\n",
      "['6 GB', '128 GB']\n",
      "['5160 mAh']\n",
      "['16.94 cm']\n",
      "['1,35', ',004', '12,012']\n",
      "4.4\n",
      "₹19,999\n"
     ]
    }
   ],
   "source": [
    "b60=\"https://www.flipkart.com/poco-x3-pro-golden-bronze-128-gb/p/itm12c1f1795b3a1?pid=MOBGFKNFWAGCXGP8&lid=LSTMOBGFKNFWAGCXGP8L6ZEG9&marketplace=FLIPKART&q=POCO+phones&store=tyy%2F4io&srno=s_4_95&otracker=AS_Query_HistoryAutoSuggest_5_0&otracker1=AS_Query_HistoryAutoSuggest_5_0&fm=Search&iid=8b309aa9-2a1b-4586-9013-dfbce2b4d4ec.MOBGFKNFWAGCXGP8.SEARCH&ppt=sp&ppn=sp&qH=dcc5939a354e55b5\"\n",
    "details(b60,headers)"
   ]
  },
  {
   "cell_type": "code",
   "execution_count": 73,
   "id": "6c0dbc74",
   "metadata": {},
   "outputs": [
    {
     "name": "stdout",
     "output_type": "stream",
     "text": [
      "<Response [200]>\n",
      "['POCO X2', 'Purple']\n",
      "['(Matrix Purple']\n",
      "['64MP', '8MP', '2MP', '2MP', '20MP', '2MP']\n",
      "['8 GB', '256 GB', '512 GB']\n",
      "['4500 mAh']\n",
      "['16.94 cm']\n",
      "['60,832', '6,987']\n",
      "4.5\n",
      "₹20,999\n"
     ]
    }
   ],
   "source": [
    "b61=\"https://www.flipkart.com/poco-x2-matrix-purple-256-gb/p/itm8d2cf0d1e308d?pid=MOBFZGJ6Y7DCWWUH&lid=LSTMOBFZGJ6Y7DCWWUHIJKPJS&marketplace=FLIPKART&q=POCO+phones&store=tyy%2F4io&srno=s_4_90&otracker=AS_Query_HistoryAutoSuggest_5_0&otracker1=AS_Query_HistoryAutoSuggest_5_0&fm=Search&iid=8b309aa9-2a1b-4586-9013-dfbce2b4d4ec.MOBFZGJ6Y7DCWWUH.SEARCH&ppt=sp&ppn=sp&qH=dcc5939a354e55b5\"\n",
    "details(b61,headers)"
   ]
  },
  {
   "cell_type": "code",
   "execution_count": 74,
   "id": "0883a1e8",
   "metadata": {},
   "outputs": [
    {
     "name": "stdout",
     "output_type": "stream",
     "text": [
      "<Response [200]>\n",
      "['POCO F3']\n",
      "['(Gunmetal Silver']\n",
      "['64MP', '8MP', '2MP', '16MP']\n",
      "['8 GB', '128 GB']\n",
      "['5065 mAh']\n",
      "['16.94 cm']\n",
      "['14,744', '1,928']\n",
      "4.3\n",
      "₹28,999\n"
     ]
    }
   ],
   "source": [
    "b62=\"https://www.flipkart.com/poco-f3-gt-5g-gunmetal-silver-128-gb/p/itm532323246b3c4?pid=MOBG4Z5MGSFQPFQK&lid=LSTMOBG4Z5MGSFQPFQKIIKYEA&marketplace=FLIPKART&q=POCO+phones&store=tyy%2F4io&srno=s_4_89&otracker=AS_Query_HistoryAutoSuggest_5_0&otracker1=AS_Query_HistoryAutoSuggest_5_0&fm=Search&iid=8b309aa9-2a1b-4586-9013-dfbce2b4d4ec.MOBG4Z5MGSFQPFQK.SEARCH&ppt=sp&ppn=sp&qH=dcc5939a354e55b5\"\n",
    "details(b62,headers)"
   ]
  },
  {
   "cell_type": "code",
   "execution_count": 75,
   "id": "fbc4a601",
   "metadata": {},
   "outputs": [
    {
     "name": "stdout",
     "output_type": "stream",
     "text": [
      "<Response [200]>\n",
      "['POCO C3']\n",
      "['(Arctic Blue']\n",
      "['13MP', '2MP', '2MP', '5MP']\n",
      "['3 GB', '32 GB', '512 GB']\n",
      "['5000 mAh']\n",
      "['16.59 cm']\n",
      "['3,97', ',284', '26,555']\n",
      "4.3\n",
      "₹8,349\n"
     ]
    }
   ],
   "source": [
    "b63=\"https://www.flipkart.com/poco-c3-arctic-blue-32-gb/p/itm815e140cbd2a0?pid=MOBFVQJ5PMVMSJHT&lid=LSTMOBFVQJ5PMVMSJHTJJDZXL&marketplace=FLIPKART&q=POCO+phones&store=tyy%2F4io&srno=s_4_88&otracker=AS_Query_HistoryAutoSuggest_5_0&otracker1=AS_Query_HistoryAutoSuggest_5_0&fm=Search&iid=8b309aa9-2a1b-4586-9013-dfbce2b4d4ec.MOBFVQJ5PMVMSJHT.SEARCH&ppt=sp&ppn=sp&qH=dcc5939a354e55b5\"\n",
    "details(b63,headers)"
   ]
  },
  {
   "cell_type": "code",
   "execution_count": 76,
   "id": "72a869cb",
   "metadata": {},
   "outputs": [
    {
     "name": "stdout",
     "output_type": "stream",
     "text": [
      "<Response [200]>\n",
      "['POCO F1']\n",
      "['(Steel Blue']\n",
      "['12MP', '5MP', '20MP']\n",
      "['6 GB', '128 GB', '256 GB']\n",
      "['4000 mAh']\n",
      "['15.7 cm']\n",
      "['2,44', ',112', '30,055']\n",
      "4.5\n",
      "₹24,999\n"
     ]
    }
   ],
   "source": [
    "b64=\"https://www.flipkart.com/poco-f1-steel-blue-128-gb/p/itmf8hu3fb9bjqz4?pid=MOBF85V7KKANFFZX&lid=LSTMOBF85V7KKANFFZXRAN5AB&marketplace=FLIPKART&q=POCO+phones&store=tyy%2F4io&srno=s_4_87&otracker=AS_Query_HistoryAutoSuggest_5_0&otracker1=AS_Query_HistoryAutoSuggest_5_0&fm=Search&iid=8b309aa9-2a1b-4586-9013-dfbce2b4d4ec.MOBF85V7KKANFFZX.SEARCH&ppt=sp&ppn=sp&qH=dcc5939a354e55b5\"\n",
    "details(b64,headers)"
   ]
  },
  {
   "cell_type": "code",
   "execution_count": 77,
   "id": "2bf463d2",
   "metadata": {},
   "outputs": [
    {
     "name": "stdout",
     "output_type": "stream",
     "text": [
      "<Response [200]>\n",
      "['POCO F1']\n",
      "['(Rosso Red']\n",
      "['12MP', '5MP', '20MP']\n",
      "['6 GB', '128 GB', '256 GB']\n",
      "['4000 mAh']\n",
      "['15.7 cm']\n",
      "['2,44', ',112', '30,055']\n",
      "4.5\n",
      "₹24,999\n"
     ]
    }
   ],
   "source": [
    "b65=\"https://www.flipkart.com/poco-f1-rosso-red-128-gb/p/itmf9c3ndhnupfek?pid=MOBF9A67CBJRXFWQ&lid=LSTMOBF9A67CBJRXFWQ6OITSP&marketplace=FLIPKART&q=POCO+phones&store=tyy%2F4io&srno=s_4_86&otracker=AS_Query_HistoryAutoSuggest_5_0&otracker1=AS_Query_HistoryAutoSuggest_5_0&fm=Search&iid=8b309aa9-2a1b-4586-9013-dfbce2b4d4ec.MOBF9A67CBJRXFWQ.SEARCH&ppt=sp&ppn=sp&qH=dcc5939a354e55b5\"\n",
    "details(b65,headers)"
   ]
  },
  {
   "cell_type": "code",
   "execution_count": 78,
   "id": "af4256ce",
   "metadata": {},
   "outputs": [
    {
     "name": "stdout",
     "output_type": "stream",
     "text": [
      "<Response [200]>\n",
      "['POCO M3']\n",
      "['(Yellow']\n",
      "['48MP', '2MP', '2MP', '8MP']\n",
      "['6 GB', '128 GB', '512 GB']\n",
      "['6000 mAh']\n",
      "['16.59 cm']\n",
      "['4,79', ',022', '34,713']\n",
      "4.3\n",
      "₹14,490\n"
     ]
    }
   ],
   "source": [
    "b66=\"https://www.flipkart.com/poco-m3-yellow-128-gb/p/itm8d6c2240709b5?pid=MOBFZTCUWXHKSFHK&lid=LSTMOBFZTCUWXHKSFHKCZQHVK&marketplace=FLIPKART&q=POCO+phones&store=tyy%2F4io&srno=s_4_85&otracker=AS_Query_HistoryAutoSuggest_5_0&otracker1=AS_Query_HistoryAutoSuggest_5_0&fm=Search&iid=8b309aa9-2a1b-4586-9013-dfbce2b4d4ec.MOBFZTCUWXHKSFHK.SEARCH&ppt=sp&ppn=sp&qH=dcc5939a354e55b5\"\n",
    "details(b66,headers)"
   ]
  },
  {
   "cell_type": "code",
   "execution_count": 79,
   "id": "708c5881",
   "metadata": {},
   "outputs": [
    {
     "name": "stdout",
     "output_type": "stream",
     "text": [
      "<Response [200]>\n",
      "['POCO F3']\n",
      "['(Gunmetal Silver']\n",
      "['64MP', '8MP', '2MP', '16MP']\n",
      "['6 GB', '128 GB']\n",
      "['5065 mAh']\n",
      "['16.94 cm']\n",
      "['4,658', '755']\n",
      "4.3\n",
      "₹28,999\n"
     ]
    }
   ],
   "source": [
    "b67=\"https://www.flipkart.com/poco-f3-gt-5g-gunmetal-silver-128-gb/p/itmd54755156f436?pid=MOBG4Z5MVBZ9KZZ6&lid=LSTMOBG4Z5MVBZ9KZZ6EESPKQ&marketplace=FLIPKART&q=POCO+phones&store=tyy%2F4io&srno=s_4_82&otracker=AS_Query_HistoryAutoSuggest_5_0&otracker1=AS_Query_HistoryAutoSuggest_5_0&fm=Search&iid=8b309aa9-2a1b-4586-9013-dfbce2b4d4ec.MOBG4Z5MVBZ9KZZ6.SEARCH&ppt=sp&ppn=sp&qH=dcc5939a354e55b5\"\n",
    "details(b67,headers)"
   ]
  },
  {
   "cell_type": "code",
   "execution_count": 80,
   "id": "b56289a6",
   "metadata": {},
   "outputs": [
    {
     "name": "stdout",
     "output_type": "stream",
     "text": [
      "<Response [200]>\n",
      "['POCO M2']\n",
      "['(Mostly Blue']\n",
      "['13MP', '8MP', '5MP', '2MP', '8MP']\n",
      "['4 GB', '64 GB', '512 GB']\n",
      "['5000 mAh']\n",
      "['16.59 cm']\n",
      "['66,363', '4,594']\n",
      "4.3\n",
      "₹10,989\n"
     ]
    }
   ],
   "source": [
    "b68=\"https://www.flipkart.com/poco-m2-reloaded-mostly-blue-64-gb/p/itmc50149a5b8e51?pid=MOBG25SQQBWTVPZS&lid=LSTMOBG25SQQBWTVPZSXNKQYX&marketplace=FLIPKART&q=POCO+phones&store=tyy%2F4io&srno=s_4_83&otracker=AS_Query_HistoryAutoSuggest_5_0&otracker1=AS_Query_HistoryAutoSuggest_5_0&fm=Search&iid=8b309aa9-2a1b-4586-9013-dfbce2b4d4ec.MOBG25SQQBWTVPZS.SEARCH&ppt=sp&ppn=sp&qH=dcc5939a354e55b5\"\n",
    "details(b68,headers)"
   ]
  },
  {
   "cell_type": "code",
   "execution_count": 81,
   "id": "91fc41a2",
   "metadata": {},
   "outputs": [
    {
     "name": "stdout",
     "output_type": "stream",
     "text": [
      "<Response [200]>\n",
      "['POCO F1']\n",
      "['(Armoured Edition']\n",
      "['12MP', '5MP', '20MP']\n",
      "['8 GB', '256 GB', '256 GB']\n",
      "['4000 mAh']\n",
      "['15.7 cm']\n",
      "['28,194', '3,303']\n",
      "4.5\n",
      "₹30,999\n"
     ]
    }
   ],
   "source": [
    "b69=\"https://www.flipkart.com/poco-f1-armoured-edition-256-gb/p/itmf85v7gng2eg2q?pid=MOBF85V7GGME7ARA&lid=LSTMOBF85V7GGME7ARAJM91D9&marketplace=FLIPKART&q=POCO+phones&store=tyy%2F4io&srno=s_4_80&otracker=AS_Query_HistoryAutoSuggest_5_0&otracker1=AS_Query_HistoryAutoSuggest_5_0&fm=Search&iid=8b309aa9-2a1b-4586-9013-dfbce2b4d4ec.MOBF85V7GGME7ARA.SEARCH&ppt=sp&ppn=sp&qH=dcc5939a354e55b5\"\n",
    "details(b69,headers)"
   ]
  },
  {
   "cell_type": "code",
   "execution_count": 82,
   "id": "4bcd1701",
   "metadata": {},
   "outputs": [
    {
     "name": "stdout",
     "output_type": "stream",
     "text": [
      "<Response [200]>\n",
      "['POCO X2']\n",
      "['(Atlantis Blue']\n",
      "['64MP', '8MP', '2MP', '2MP', '20MP', '2MP']\n",
      "['6 GB', '128 GB', '512 GB']\n",
      "['4500 mAh']\n",
      "['16.94 cm']\n",
      "['2,70', ',796', '29,007']\n",
      "4.5\n",
      "₹15,999\n"
     ]
    }
   ],
   "source": [
    "b70=\"https://www.flipkart.com/poco-x2-atlantis-blue-128-gb/p/itm36af4a9c20dd5?pid=MOBFZGJ6GQRXFZGT&lid=LSTMOBFZGJ6GQRXFZGTUKRV1T&marketplace=FLIPKART&q=POCO+phones&store=tyy%2F4io&srno=s_4_79&otracker=AS_Query_HistoryAutoSuggest_5_0&otracker1=AS_Query_HistoryAutoSuggest_5_0&fm=Search&iid=8b309aa9-2a1b-4586-9013-dfbce2b4d4ec.MOBFZGJ6GQRXFZGT.SEARCH&ppt=sp&ppn=sp&qH=dcc5939a354e55b5\"\n",
    "details(b70,headers)"
   ]
  },
  {
   "cell_type": "code",
   "execution_count": 83,
   "id": "38e5f7db",
   "metadata": {},
   "outputs": [
    {
     "name": "stdout",
     "output_type": "stream",
     "text": [
      "<Response [200]>\n",
      "['POCO X3', 'Pro']\n",
      "['(Golden Bronze']\n",
      "['48MP', '8MP', '2MP', '2MP', '20MP']\n",
      "['8 GB', '128 GB']\n",
      "['5160 mAh']\n",
      "['16.94 cm']\n",
      "['55,611', '5,164']\n",
      "4.3\n",
      "₹21,999\n"
     ]
    }
   ],
   "source": [
    "b71=\"https://www.flipkart.com/poco-x3-pro-golden-bronze-128-gb/p/itm66d2c34094923?pid=MOBGFKNFTRGRYGPY&lid=LSTMOBGFKNFTRGRYGPYUPPYRV&marketplace=FLIPKART&q=POCO+phones&store=tyy%2F4io&srno=s_6_121&otracker=AS_Query_HistoryAutoSuggest_5_0&otracker1=AS_Query_HistoryAutoSuggest_5_0&fm=Search&iid=cf970fb0-a492-49eb-a8f2-3e8365476e52.MOBGFKNFTRGRYGPY.SEARCH&ppt=sp&ppn=sp&qH=dcc5939a354e55b5\"\n",
    "details(b71,headers)"
   ]
  },
  {
   "cell_type": "code",
   "execution_count": 84,
   "id": "52182dc8",
   "metadata": {},
   "outputs": [
    {
     "name": "stdout",
     "output_type": "stream",
     "text": [
      "<Response [200]>\n",
      "['POCO M3', 'Power Black']\n",
      "['(Power Black']\n",
      "['48MP', '2MP', '2MP', '8MP']\n",
      "['6 GB', '128 GB', '512 GB']\n",
      "['6000 mAh']\n",
      "['16.59 cm']\n",
      "['4,79', ',022', '34,713']\n",
      "4.3\n",
      "₹12,999\n"
     ]
    }
   ],
   "source": [
    "b72=\"https://www.flipkart.com/poco-m3-power-black-128-gb/p/itm7396538c49897?pid=MOBFZTCUKKJEYTR4&lid=LSTMOBFZTCUKKJEYTR4IV53IS&marketplace=FLIPKART&q=POCO+phones&store=tyy%2F4io&srno=s_5_119&otracker=AS_Query_HistoryAutoSuggest_5_0&otracker1=AS_Query_HistoryAutoSuggest_5_0&fm=Search&iid=d2dc8f32-aaea-46f7-852f-585c868de925.MOBFZTCUKKJEYTR4.SEARCH&ppt=sp&ppn=sp&qH=dcc5939a354e55b5\"\n",
    "details(b72,headers)"
   ]
  },
  {
   "cell_type": "code",
   "execution_count": 85,
   "id": "0aa75dbc",
   "metadata": {},
   "outputs": [
    {
     "name": "stdout",
     "output_type": "stream",
     "text": [
      "<Response [200]>\n",
      "['POCO X3']\n",
      "['(Shadow Gray']\n",
      "['64MP', '13MP', '2MP', '2MP', '20MP']\n",
      "['6 GB', '128 GB', '512 GB']\n",
      "['6000 mAh']\n",
      "['16.94 cm']\n",
      "['2,54', ',327', '24,174']\n",
      "4.3\n",
      "₹16,999\n"
     ]
    }
   ],
   "source": [
    "b73=\"https://www.flipkart.com/poco-x3-shadow-gray-128-gb/p/itm5d16b79dc1d20?pid=MOBFVQJ5HUBH33YX&lid=LSTMOBFVQJ5HUBH33YXPSSHKS&marketplace=FLIPKART&q=POCO+phones&store=tyy%2F4io&srno=s_5_118&otracker=AS_Query_HistoryAutoSuggest_5_0&otracker1=AS_Query_HistoryAutoSuggest_5_0&fm=Search&iid=d2dc8f32-aaea-46f7-852f-585c868de925.MOBFVQJ5HUBH33YX.SEARCH&ppt=sp&ppn=sp&qH=dcc5939a354e55b5\"\n",
    "details(b73,headers)"
   ]
  },
  {
   "cell_type": "code",
   "execution_count": 87,
   "id": "21401056",
   "metadata": {},
   "outputs": [
    {
     "name": "stdout",
     "output_type": "stream",
     "text": [
      "<Response [200]>\n",
      "['POCO M2']\n",
      "['(Slate Blue']\n",
      "['13MP', '8MP', '5MP', '2MP', '8MP']\n",
      "['6 GB', '128 GB', '512 GB']\n",
      "['5000 mAh']\n",
      "['16.59 cm']\n",
      "['4,06', ',814', '29,651']\n",
      "4.4\n",
      "₹11,499\n"
     ]
    }
   ],
   "source": [
    "b74=\"https://www.flipkart.com/poco-m2-slate-blue-128-gb/p/itmf3c6e76492ff5?pid=MOBFV9V9XZJJ9NUV&lid=LSTMOBFV9V9XZJJ9NUVW6LHR5&marketplace=FLIPKART&q=POCO+phones&store=tyy%2F4io&srno=s_5_117&otracker=AS_Query_HistoryAutoSuggest_5_0&otracker1=AS_Query_HistoryAutoSuggest_5_0&fm=Search&iid=d2dc8f32-aaea-46f7-852f-585c868de925.MOBFV9V9XZJJ9NUV.SEARCH&ppt=sp&ppn=sp&qH=dcc5939a354e55b5\"\n",
    "details(b74,headers)"
   ]
  },
  {
   "cell_type": "code",
   "execution_count": 88,
   "id": "b10e3680",
   "metadata": {},
   "outputs": [
    {
     "name": "stdout",
     "output_type": "stream",
     "text": [
      "<Response [200]>\n",
      "['POCO C3']\n",
      "['(Matte Black']\n",
      "['13MP', '2MP', '2MP', '5MP']\n",
      "['3 GB', '32 GB', '512 GB']\n",
      "['5000 mAh']\n",
      "['16.59 cm']\n",
      "['3,97', ',284', '26,555']\n",
      "4.3\n",
      "₹8,490\n"
     ]
    }
   ],
   "source": [
    "b75=\"https://www.flipkart.com/poco-c3-matte-black-32-gb/p/itm1ee2f6513ac1c?pid=MOBFVQJ5YCRFFXPB&lid=LSTMOBFVQJ5YCRFFXPBPG5BWJ&marketplace=FLIPKART&q=POCO+phones&store=tyy%2F4io&srno=s_5_116&otracker=AS_Query_HistoryAutoSuggest_5_0&otracker1=AS_Query_HistoryAutoSuggest_5_0&fm=Search&iid=d2dc8f32-aaea-46f7-852f-585c868de925.MOBFVQJ5YCRFFXPB.SEARCH&ppt=sp&ppn=sp&qH=dcc5939a354e55b5\"\n",
    "details(b75,headers)"
   ]
  },
  {
   "cell_type": "code",
   "execution_count": 89,
   "id": "e09a99b4",
   "metadata": {},
   "outputs": [
    {
     "name": "stdout",
     "output_type": "stream",
     "text": [
      "<Response [200]>\n",
      "['POCO X3']\n",
      "['(Cobalt Blue']\n",
      "['64MP', '13MP', '2MP', '2MP', '20MP']\n",
      "['6 GB', '128 GB', '512 GB']\n",
      "['6000 mAh']\n",
      "['16.94 cm']\n",
      "['2,54', ',327', '24,174']\n",
      "4.3\n",
      "₹16,999\n"
     ]
    }
   ],
   "source": [
    "b76=\"https://www.flipkart.com/poco-x3-cobalt-blue-128-gb/p/itm5eabfda5f2dd4?pid=MOBFVQJ5TZTF5JHC&lid=LSTMOBFVQJ5TZTF5JHCYYLJOZ&marketplace=FLIPKART&q=POCO+phones&store=tyy%2F4io&srno=s_5_115&otracker=AS_Query_HistoryAutoSuggest_5_0&otracker1=AS_Query_HistoryAutoSuggest_5_0&fm=Search&iid=d2dc8f32-aaea-46f7-852f-585c868de925.MOBFVQJ5TZTF5JHC.SEARCH&ppt=sp&ppn=sp&qH=dcc5939a354e55b5\"\n",
    "details(b76,headers)"
   ]
  },
  {
   "cell_type": "code",
   "execution_count": 90,
   "id": "a008b4a0",
   "metadata": {},
   "outputs": [
    {
     "name": "stdout",
     "output_type": "stream",
     "text": [
      "<Response [200]>\n",
      "['POCO X3', 'Pro']\n",
      "['(Steel Blue']\n",
      "['48MP', '8MP', '2MP', '2MP', '20MP']\n",
      "['8 GB', '128 GB']\n",
      "['5160 mAh']\n",
      "['16.94 cm']\n",
      "['55,611', '5,164']\n",
      "4.3\n",
      "₹21,999\n"
     ]
    }
   ],
   "source": [
    "b77=\"https://www.flipkart.com/poco-x3-pro-steel-blue-128-gb/p/itm527548fcdf883?pid=MOBGFKNF6HFYZWPY&lid=LSTMOBGFKNF6HFYZWPYQIBQSW&marketplace=FLIPKART&q=POCO+phones&store=tyy%2F4io&srno=s_5_114&otracker=AS_Query_HistoryAutoSuggest_5_0&otracker1=AS_Query_HistoryAutoSuggest_5_0&fm=Search&iid=d2dc8f32-aaea-46f7-852f-585c868de925.MOBGFKNF6HFYZWPY.SEARCH&ppt=sp&ppn=sp&qH=dcc5939a354e55b5\"\n",
    "details(b77,headers)"
   ]
  },
  {
   "cell_type": "code",
   "execution_count": 91,
   "id": "2a7ebc6b",
   "metadata": {},
   "outputs": [
    {
     "name": "stdout",
     "output_type": "stream",
     "text": [
      "<Response [200]>\n",
      "['POCO M3']\n",
      "['(Cool Blue']\n",
      "['48MP', '2MP', '2MP', '8MP']\n",
      "['6 GB', '128 GB', '512 GB']\n",
      "['6000 mAh']\n",
      "['16.59 cm']\n",
      "['4,79', ',022', '34,713']\n",
      "4.3\n",
      "₹12,999\n"
     ]
    }
   ],
   "source": [
    "b78=\"https://www.flipkart.com/poco-m3-cool-blue-128-gb/p/itm037b84b46ce23?pid=MOBFZTCUAFE66VCK&lid=LSTMOBFZTCUAFE66VCKMQIQWV&marketplace=FLIPKART&q=POCO+phones&store=tyy%2F4io&srno=s_5_113&otracker=AS_Query_HistoryAutoSuggest_5_0&otracker1=AS_Query_HistoryAutoSuggest_5_0&fm=Search&iid=d2dc8f32-aaea-46f7-852f-585c868de925.MOBFZTCUAFE66VCK.SEARCH&ppt=sp&ppn=sp&qH=dcc5939a354e55b5\"\n",
    "details(b78,headers)"
   ]
  },
  {
   "cell_type": "code",
   "execution_count": 92,
   "id": "593f36d5",
   "metadata": {},
   "outputs": [
    {
     "name": "stdout",
     "output_type": "stream",
     "text": [
      "<Response [200]>\n",
      "['POCO F3', 'Predator Black']\n",
      "['(Predator Black']\n",
      "['64MP', '8MP', '2MP', '16MP']\n",
      "['8 GB', '256 GB']\n",
      "['5065 mAh']\n",
      "['16.94 cm']\n",
      "['14,744', '1,928']\n",
      "4.3\n",
      "₹30,999\n"
     ]
    }
   ],
   "source": [
    "b79=\"https://www.flipkart.com/poco-f3-gt-5g-predator-black-256-gb/p/itm5989c5a449916?pid=MOBG4Z5MAJH2HAH7&lid=LSTMOBG4Z5MAJH2HAH7ZIXGPV&marketplace=FLIPKART&q=POCO+phones&store=tyy%2F4io&srno=s_5_112&otracker=AS_Query_HistoryAutoSuggest_5_0&otracker1=AS_Query_HistoryAutoSuggest_5_0&fm=Search&iid=d2dc8f32-aaea-46f7-852f-585c868de925.MOBG4Z5MAJH2HAH7.SEARCH&ppt=sp&ppn=sp&qH=dcc5939a354e55b5\"\n",
    "details(b79,headers)"
   ]
  },
  {
   "cell_type": "code",
   "execution_count": 93,
   "id": "b9fc205f",
   "metadata": {},
   "outputs": [
    {
     "name": "stdout",
     "output_type": "stream",
     "text": [
      "<Response [200]>\n",
      "['POCO F3']\n",
      "['(Gunmetal Silver']\n",
      "['64MP', '8MP', '2MP', '16MP']\n",
      "['8 GB', '256 GB']\n",
      "['5065 mAh']\n",
      "['16.94 cm']\n",
      "['14,744', '1,928']\n",
      "4.3\n",
      "₹30,999\n"
     ]
    }
   ],
   "source": [
    "b80=\"https://www.flipkart.com/poco-f3-gt-5g-gunmetal-silver-256-gb/p/itm96c80d82a5993?pid=MOBG4Z5MYQTXVHG6&lid=LSTMOBG4Z5MYQTXVHG64FG5TC&marketplace=FLIPKART&q=POCO+phones&store=tyy%2F4io&srno=s_5_111&otracker=AS_Query_HistoryAutoSuggest_5_0&otracker1=AS_Query_HistoryAutoSuggest_5_0&fm=Search&iid=d2dc8f32-aaea-46f7-852f-585c868de925.MOBG4Z5MYQTXVHG6.SEARCH&ppt=sp&ppn=sp&qH=dcc5939a354e55b5\"\n",
    "details(b80,headers)"
   ]
  },
  {
   "cell_type": "code",
   "execution_count": 94,
   "id": "05962455",
   "metadata": {},
   "outputs": [
    {
     "name": "stdout",
     "output_type": "stream",
     "text": [
      "['128 GB', '128 GB', '128 GB', '128 GB', '64 GB', '512 GB', '512 GB', '128 GB', '128 GB', '512 GB', '128 GB', '64 GB', '512 GB', '128 GB', '128 GB', '128 GB', '64 GB', '512 GB', '64 GB', '128 GB', '128 GB', '64 GB', '512 GB', '64 GB', '512 GB', '512 GB', '128 GB', '128 GB', '256 GB', '512 GB', '512 GB', '512 GB', '128 GB', '512 GB', '512 GB', '128 GB', '512 GB', '512 GB', '512 GB', '256 GB', '256 GB', '512 GB', '256 GB', '256 GB', '512 GB', '512 GB', '128 GB', '128 GB', '128 GB', '64 GB', '128 GB', '64 GB', '64 GB', '512 GB', '512 GB', '128 GB', '128 GB', '256 GB', '128 GB', '512 GB', '128 GB', '512 GB', '128 GB', '512 GB', '256 GB', '256 GB', '512 GB', '128 GB', '512 GB', '256 GB', '512 GB', '128 GB', '512 GB', '512 GB', '512 GB', '512 GB', '512 GB', '512 GB', '128 GB', '512 GB', '256 GB', '256 GB']\n",
      "['50MP', '64MP', '64MP', '64MP', '50MP', '50MP', '50MP', '64MP', '50MP', '50MP', '50MP', '64MP', '13MP', '64MP', '64MP', '64MP', '64MP', '48MP', '64MP', '64MP', '50MP', '64MP', '50MP', '64MP', '50MP', '48MP', '64MP', '64MP', '64MP', '13MP', '50MP', '50MP', '50MP', '50MP', '50MP', '50MP', '13MP', '50MP', '64MP', '12MP', '12MP', '13MP', '12MP', '12MP', '48MP', '48MP', '64MP', '48MP', '64MP', '48MP', '48MP', '48MP', '48MP', '48MP', '13MP', '64MP', '48MP', '64MP', '64MP', '13MP', '48MP', '64MP', '64MP', '13MP', '12MP', '12MP', '48MP', '64MP', '13MP', '12MP', '64MP', '48MP', '48MP', '64MP', '64MP', '13MP', '13MP', '64MP', '48MP', '48MP', '64MP', '64MP']\n",
      "['16MP', '16MP', '16MP', '16MP', '16MP', '8MP', '8MP', '16MP', '16MP', '8MP', '16MP', '16MP', '5MP', '16MP', '16MP', '16MP', '16MP', '16MP', '16MP', '20MP', '16MP', '16MP', '8MP', '16MP', '8MP', '8MP', '16MP', '16MP', '20MP', '5MP', '8MP', '8MP', '16MP', '8MP', '8MP', '16MP', '5MP', '8MP', '20MP', '20MP', '20MP', '5MP', '20MP', '20MP', '16MP', '8MP', '16MP', '8MP', '16MP', '8MP', '8MP', '8MP', '8MP', '16MP', '5MP', '20MP', '8MP', '20MP', '20MP', '5MP', '20MP', '2MP', '16MP', '5MP', '20MP', '20MP', '8MP', '16MP', '8MP', '20MP', '2MP', '20MP', '8MP', '20MP', '20MP', '8MP', '5MP', '20MP', '20MP', '8MP', '16MP', '16MP']\n",
      "['[', '(Cool Blue', '[', '(Laser Blue', '[', '(Cool Blue', '[', '(Laser Black', '[', '(Yellow', '[', '(Power Black', '[', '(Icy Blue', '[', '(Laser Blue', '[', '(Yellow', '[', '(Cool Blue', '[', '(Power Black', '[', '(Yellow', '[', '(Royal Blue', '[', '(Laser Black', '[', '(Yellow', '[', '(Power Black', '[', '(Cool Blue', '[', '(Green and', '[', '(Laser Blue', '[', '(Night Black', '[', '(Yellow', '[', '(Laser Black', '[', '(Yellow', '[', '(Yellow', '[', '(Power Black', '[', '(Yellow', '[', '(Yellow', '[', '(Yellow', '[', '(Night Black', '[', '(Lime Green', '[', '(Yellow', '[', '(Yellow', '[', '(Power Black', '[', '(Icy Blue', '[', '(Power Black', '[', '(Cool Blue', '[', '(Shadow Gray', '[', '(Cool Blue', '[', '(Cobalt Blue', '[', '(Rosso Red', '[', '(Rosso Red', '[', '(Matte Black', '[', '(Graphite Black', '[', '(Steel Blue', '[', '(Out of', '[', '(Cool Blue', '[', '(Predator Black', '[', '(Yellow', '[', '(Predator Black', '[', '(Power Black', '[', '(Power Black', '[', '(Yellow', '[', '(Cool Blue', '[', '(Green and', '[', '(Arctic Blue', '[', '(Nebula Green', '[', '(Cool Blue', '[', '(Nebula Green', '[', '(Night Black', '[', '(Matte Black', '[', '(Golden Bronze', '[', '(Matrix Purple', '[', '(Gunmetal Silver', '[', '(Arctic Blue', '[', '(Steel Blue', '[', '(Rosso Red', '[', '(Yellow', '[', '(Gunmetal Silver', '[', '(Mostly Blue', '[', '(Armoured Edition', '[', '(Atlantis Blue', '[', '(Golden Bronze', '[', '(Power Black', '[', '(Shadow Gray', '[', '(Shadow Gray', '[', '(Slate Blue', '[', '(Matte Black', '[', '(Cobalt Blue', '[', '(Steel Blue', '[', '(Cool Blue', '[', '(Predator Black', '[', '(Gunmetal Silver']\n",
      "['POCO M4', 'POCO X4', 'POCO M4', 'POCO X4', 'POCO M4', 'POCO M5', 'POCO M5', 'POCO X4', 'POCO M4', 'POCO M4', 'POCO M4', 'POCO M4', 'POCO C31', 'POCO X4', 'POCO X4', 'POCO M4', 'POCO M4', 'POCO M2', 'POCO X4', 'POCO F4', 'POCO M4', 'POCO X4', 'POCO M5', 'POCO X4', 'POCO M5', 'POCO M3', 'POCO X4', 'POCO M4', 'POCO F4', 'POCO C3', 'POCO M4', 'POCO M5', 'POCO M4', 'POCO M5', 'POCO M4', 'POCO M4', 'POCO C31', 'POCO M4', 'POCO X3', 'POCO F1', 'POCO F1', 'POCO C3', 'POCO F1', 'POCO F1', 'POCO M2', 'POCO M3', 'POCO F3', 'POCO M3', 'POCO F3', 'POCO M3', 'POCO M3', 'POCO M3', 'POCO M3', 'POCO M2', 'POCO C3', 'POCO F4', 'POCO M3', 'POCO F4', 'POCO F4', 'POCO C3', 'POCO X3', 'POCO X2', 'POCO F3', 'POCO C3', 'POCO F1', 'POCO F1', 'POCO M3', 'POCO F3', 'POCO M2', 'POCO F1', 'POCO X2', 'POCO X3', 'POCO M3', 'POCO X3', 'POCO X3', 'POCO M2', 'POCO C3', 'POCO X3', 'POCO X3', 'POCO M3', 'POCO F3', 'POCO F3']\n",
      "['6 GB', '6 GB', '8 GB', '6 GB', '4 GB', '4 GB', '4 GB', '8 GB', '6 GB', '6 GB', '6 GB', '6 GB', '3 GB', '8 GB', '6 GB', '6 GB', '6 GB', '4 GB', '6 GB', '6 GB', '8 GB', '6 GB', '6 GB', '6 GB', '6 GB', '4 GB', '8 GB', '8 GB', '12 GB', '3 GB', '4 GB', '4 GB', '8 GB', '6 GB', '4 GB', '8 GB', '3 GB', '4 GB', '8 GB', '6 GB', '6 GB', '4 GB', '6 GB', '6 GB', '6 GB', '6 GB', '6 GB', '6 GB', '8 GB', '4 GB', '6 GB', '4 GB', '4 GB', '6 GB', '4 GB', '6 GB', '6 GB', '12 GB', '8 GB', '3 GB', '6 GB', '8 GB', '8 GB', '3 GB', '6 GB', '6 GB', '6 GB', '6 GB', '4 GB', '8 GB', '6 GB', '8 GB', '6 GB', '6 GB', '6 GB', '6 GB', '3 GB', '6 GB', '8 GB', '6 GB', '8 GB', '8 GB']\n",
      "['5000 mAh', '5000 mAh', '5000 mAh', '5000 mAh', '5000 mAh', '5000 mAh', '5000 mAh', '5000 mAh', '5000 mAh', '5000 mAh', '5000 mAh', '5000 mAh', '5000 mAh', '5000 mAh', '5000 mAh', '5000 mAh', '5000 mAh', '5000 mAh', '5000 mAh', '4500 mAh', '5000 mAh', '5000 mAh', '5000 mAh', '5000 mAh', '5000 mAh', '6000 mAh', '5000 mAh', '5000 mAh', '4500 mAh', '5000 mAh', '5000 mAh', '5000 mAh', '5000 mAh', '5000 mAh', '5000 mAh', '5000 mAh', '5000 mAh', '5000 mAh', '6000 mAh', '4000 mAh', '4000 mAh', '5000 mAh', '4000 mAh', '4000 mAh', '5000 mAh', '6000 mAh', '5065 mAh', '5000 mAh', '5065 mAh', '5000 mAh', '5000 mAh', '5000 mAh', '5000 mAh', '5000 mAh', '5000 mAh', '4500 mAh', '5000 mAh', '4500 mAh', '4500 mAh', '5000 mAh', '5160 mAh', '4500 mAh', '5065 mAh', '5000 mAh', '4000 mAh', '4000 mAh', '6000 mAh', '5065 mAh', '5000 mAh', '4000 mAh', '4500 mAh', '5160 mAh', '6000 mAh', '6000 mAh', '6000 mAh', '5000 mAh', '5000 mAh', '6000 mAh', '5160 mAh', '6000 mAh', '5065 mAh', '5065 mAh']\n",
      "['16.76 cm', '16.94 cm', '16.33 cm', '16.94 cm', '16.76 cm', '16.71 cm', '16.71 cm', '16.94 cm', '16.76 cm', '16.71 cm', '16.76 cm', '16.33 cm', '16.59 cm', '16.94 cm', '16.94 cm', '16.33 cm', '16.33 cm', '16.94 cm', '16.94 cm', '16.94 cm', '16.76 cm', '16.94 cm', '16.71 cm', '16.94 cm', '16.71 cm', '16.59 cm', '16.94 cm', '16.33 cm', '16.94 cm', '16.59 cm', '16.71 cm', '16.71 cm', '16.76 cm', '16.71 cm', '16.71 cm', '16.76 cm', '16.59 cm', '16.71 cm', '16.94 cm', '15.7 cm', '15.7 cm', '16.59 cm', '15.7 cm', '15.7 cm', '16.94 cm', '16.59 cm', '16.94 cm', '16.51 cm', '16.94 cm', '16.51 cm', '16.51 cm', '16.51 cm', '16.51 cm', '16.94 cm', '16.59 cm', '16.94 cm', '16.51 cm', '16.94 cm', '16.94 cm', '16.59 cm', '16.94 cm', '16.94 cm', '16.94 cm', '16.59 cm', '15.7 cm', '15.7 cm', '16.59 cm', '16.94 cm', '16.59 cm', '15.7 cm', '16.94 cm', '16.94 cm', '16.59 cm', '16.94 cm', '16.94 cm', '16.59 cm', '16.59 cm', '16.94 cm', '16.94 cm', '16.59 cm', '16.94 cm', '16.94 cm']\n",
      "['₹16,999', '₹19,999', '₹17,999', '₹19,999', '₹14,999', '₹12,499', '₹12,499', '₹21,999', '₹16,999', '₹14,999', '₹16,999', '₹14,999', '₹8,499', '₹21,999', '₹19,999', '₹16,499', '₹14,999', '₹13,999', '₹18,999', '₹27,999', '₹18,999', '₹18,999', '₹14,499', '₹18,999', '₹14,499', '₹11,490', '₹21,999', '₹17,999', '₹33,999', '₹8,499', '₹12,999', '₹12,499', '₹18,999', '₹14,499', '₹12,999', '₹18,999', '₹8,499', '₹12,999', '₹18,999', '₹18,999', '₹18,999', '₹9,499', '₹21,999', '₹21,999', '₹15,999', '₹12,999', '₹28,999', '₹16,499', '₹28,999', '₹14,499', '₹16,499', '₹14,499', '₹14,499', '₹14,999', '₹9,499', '₹27,999', '₹16,499', '₹33,999', '₹29,999', '₹8,490', '₹19,999', '₹20,999', '₹28,999', '₹8,349', '₹24,999', '₹24,999', '₹14,490', '₹28,999', '₹10,989', '₹30,999', '₹15,999', '₹21,999', '₹12,999', '₹16,999', '₹16,999', '₹11,499', '₹8,490', '₹16,999', '₹21,999', '₹12,999', '₹30,999', '₹30,999']\n",
      "['4.2', '4.1', '4.3', '4.1', '4.3', '4.3', '4.3', '4.1', '4.2', '4.1', '4.2', '4.3', '4.3', '4.1', '4.1', '4.3', '4.3', '4.3', '4.1', '4.3', '4.2', '4.1', '4.3', '4.1', '4.3', '4.3', '4.1', '4.3', '4.4', '4.3', '4.2', '4.3', '4.2', '4.3', '4.2', '4.2', '4.3', '4.2', '4.3', '4.5', '4.5', '4.3', '4.5', '4.5', '4.4', '4.3', '4.3', '4.2', '4.3', '4.3', '4.2', '4.3', '4.3', '4.4', '4.3', '4.3', '4.2', '4.4', '4.3', '4.3', '4.4', '4.5', '4.3', '4.3', '4.5', '4.5', '4.3', '4.3', '4.3', '4.5', '4.5', '4.3', '4.3', '4.3', '4.3', '4.4', '4.3', '4.3', '4.3', '4.3', '4.3', '4.3']\n",
      "['33,358', '52,113', '10,988', '52,113', '27,336', '1,719', '1,719', '12,278', '33,358', '19,287', '33,358', '1,13', '1,11', '12,278', '52,113', '1,13', '1,13', '2,47', '52,113', '10,725', '5,539', '52,113', '859', '52,113', '859', '1,23', '12,278', '10,988', '2,180', '3,97', '39,407', '1,719', '5,539', '859', '39,407', '5,539', '1,11', '39,407', '38,865', '2,44', '2,44', '3,04', '2,44', '2,44', '3,49', '4,79', '4,658', '51,734', '14,744', '62,329', '51,734', '62,329', '62,329', '3,49', '3,04', '10,725', '51,734', '2,180', '3,885', '3,97', '1,35', '60,832', '14,744', '3,97', '2,44', '2,44', '4,79', '4,658', '66,363', '28,194', '2,70', '55,611', '4,79', '2,54', '2,54', '4,06', '3,97', '2,54', '55,611', '4,79', '14,744', '14,744']\n"
     ]
    }
   ],
   "source": [
    "print(storage)\n",
    "print(camera_px)\n",
    "print(self_px)\n",
    "print(colour)\n",
    "print(name)\n",
    "print(ram)\n",
    "# print(tech)\n",
    "print(battery)\n",
    "print(display)\n",
    "print(price)\n",
    "# print(os_sys)\n",
    "print(star_rate)\n",
    "print(user_rate)"
   ]
  },
  {
   "cell_type": "code",
   "execution_count": 95,
   "id": "49de60a3",
   "metadata": {},
   "outputs": [
    {
     "data": {
      "text/plain": [
       "list"
      ]
     },
     "execution_count": 95,
     "metadata": {},
     "output_type": "execute_result"
    }
   ],
   "source": [
    "type(colour)"
   ]
  },
  {
   "cell_type": "code",
   "execution_count": 96,
   "id": "3e2fd8e7",
   "metadata": {},
   "outputs": [],
   "source": [
    "colour=[i for i in colour if i!='[']"
   ]
  },
  {
   "cell_type": "code",
   "execution_count": 97,
   "id": "5ec3123d",
   "metadata": {},
   "outputs": [
    {
     "data": {
      "text/plain": [
       "82"
      ]
     },
     "execution_count": 97,
     "metadata": {},
     "output_type": "execute_result"
    }
   ],
   "source": [
    "len(colour)"
   ]
  },
  {
   "cell_type": "code",
   "execution_count": 98,
   "id": "f04bb6ca",
   "metadata": {},
   "outputs": [],
   "source": [
    "camera_px=[i.replace(\"MP\",\"\") for i in camera_px]"
   ]
  },
  {
   "cell_type": "code",
   "execution_count": 99,
   "id": "5cb7d6c9",
   "metadata": {},
   "outputs": [],
   "source": [
    "self_px=[i.replace(\"MP\",\"\") for i in self_px]"
   ]
  },
  {
   "cell_type": "code",
   "execution_count": 100,
   "id": "cfb85234",
   "metadata": {},
   "outputs": [],
   "source": [
    "storage=[i.replace(\"GB\",\" \") for i in storage]"
   ]
  },
  {
   "cell_type": "code",
   "execution_count": 101,
   "id": "c9876251",
   "metadata": {},
   "outputs": [],
   "source": [
    "ram=[i.replace(\"GB\",\" \") for i in ram]"
   ]
  },
  {
   "cell_type": "code",
   "execution_count": 102,
   "id": "842b9972",
   "metadata": {},
   "outputs": [],
   "source": [
    "battery=[i.replace(\"mAH\",\"\") for i in battery]\n",
    "battery=[i.replace(\"mAh\",\"\") for i in battery]"
   ]
  },
  {
   "cell_type": "code",
   "execution_count": 103,
   "id": "217479c1",
   "metadata": {},
   "outputs": [],
   "source": [
    "colour=[i.replace(\"(\",\"\") for i in colour]\n"
   ]
  },
  {
   "cell_type": "code",
   "execution_count": 104,
   "id": "c81f0368",
   "metadata": {},
   "outputs": [],
   "source": [
    "price=[i.replace(\"₹\",\"\") for i in price]\n",
    "price=[i.replace(\",\",\"\") for i in price]"
   ]
  },
  {
   "cell_type": "code",
   "execution_count": 105,
   "id": "c5d0418e",
   "metadata": {},
   "outputs": [],
   "source": [
    "display=[i.replace(\" cm\",\"\") for i in display]"
   ]
  },
  {
   "cell_type": "code",
   "execution_count": 106,
   "id": "4be87772",
   "metadata": {},
   "outputs": [],
   "source": [
    "user_rate=[i.replace(\",\",\"\") for i in user_rate]"
   ]
  },
  {
   "cell_type": "code",
   "execution_count": 107,
   "id": "5c9c1062",
   "metadata": {},
   "outputs": [],
   "source": [
    "storage=[float(i) for i in storage]\n",
    "camera_px=[int(i) for i in camera_px]\n",
    "self_px=[int(i) for i in self_px]\n",
    "ram=[float(i) for i in ram]\n",
    "# tech=[float(i) for i in tech]\n",
    "battery=[float(i) for i in battery]\n",
    "display=[float(i) for i in display]\n",
    "price=[float(i) for i in price]\n",
    "star_rate=[float(i) for i in star_rate]\n",
    "user_rate=[float(i) for i in user_rate]"
   ]
  },
  {
   "cell_type": "code",
   "execution_count": 108,
   "id": "acdfc259",
   "metadata": {},
   "outputs": [
    {
     "data": {
      "text/plain": [
       "82"
      ]
     },
     "execution_count": 108,
     "metadata": {},
     "output_type": "execute_result"
    }
   ],
   "source": [
    "len(colour)"
   ]
  },
  {
   "cell_type": "code",
   "execution_count": 109,
   "id": "34bcb5f7",
   "metadata": {},
   "outputs": [],
   "source": [
    "r1=pd.DataFrame({\"Name\":name,\"Colour\":colour,\"Storage\":storage,\"Battery\":battery,\n",
    "               \"Camera_Pixel\":camera_px,\"Selfie_cam_pixel\":self_px,\"Display_size\":display,\n",
    "                \"RAM\":ram,\n",
    "               \"Star_ratings\":star_rate,\"Users_rated\":user_rate,\"Price\":price})"
   ]
  },
  {
   "cell_type": "code",
   "execution_count": 110,
   "id": "0ae0404c",
   "metadata": {},
   "outputs": [
    {
     "data": {
      "text/html": [
       "<div>\n",
       "<style scoped>\n",
       "    .dataframe tbody tr th:only-of-type {\n",
       "        vertical-align: middle;\n",
       "    }\n",
       "\n",
       "    .dataframe tbody tr th {\n",
       "        vertical-align: top;\n",
       "    }\n",
       "\n",
       "    .dataframe thead th {\n",
       "        text-align: right;\n",
       "    }\n",
       "</style>\n",
       "<table border=\"1\" class=\"dataframe\">\n",
       "  <thead>\n",
       "    <tr style=\"text-align: right;\">\n",
       "      <th></th>\n",
       "      <th>Name</th>\n",
       "      <th>Colour</th>\n",
       "      <th>Storage</th>\n",
       "      <th>Battery</th>\n",
       "      <th>Camera_Pixel</th>\n",
       "      <th>Selfie_cam_pixel</th>\n",
       "      <th>Display_size</th>\n",
       "      <th>RAM</th>\n",
       "      <th>Star_ratings</th>\n",
       "      <th>Users_rated</th>\n",
       "      <th>Price</th>\n",
       "    </tr>\n",
       "  </thead>\n",
       "  <tbody>\n",
       "    <tr>\n",
       "      <th>0</th>\n",
       "      <td>POCO M4</td>\n",
       "      <td>Cool Blue</td>\n",
       "      <td>128.0</td>\n",
       "      <td>5000.0</td>\n",
       "      <td>50</td>\n",
       "      <td>16</td>\n",
       "      <td>16.76</td>\n",
       "      <td>6.0</td>\n",
       "      <td>4.2</td>\n",
       "      <td>33358.0</td>\n",
       "      <td>16999.0</td>\n",
       "    </tr>\n",
       "    <tr>\n",
       "      <th>1</th>\n",
       "      <td>POCO X4</td>\n",
       "      <td>Laser Blue</td>\n",
       "      <td>128.0</td>\n",
       "      <td>5000.0</td>\n",
       "      <td>64</td>\n",
       "      <td>16</td>\n",
       "      <td>16.94</td>\n",
       "      <td>6.0</td>\n",
       "      <td>4.1</td>\n",
       "      <td>52113.0</td>\n",
       "      <td>19999.0</td>\n",
       "    </tr>\n",
       "    <tr>\n",
       "      <th>2</th>\n",
       "      <td>POCO M4</td>\n",
       "      <td>Cool Blue</td>\n",
       "      <td>128.0</td>\n",
       "      <td>5000.0</td>\n",
       "      <td>64</td>\n",
       "      <td>16</td>\n",
       "      <td>16.33</td>\n",
       "      <td>8.0</td>\n",
       "      <td>4.3</td>\n",
       "      <td>10988.0</td>\n",
       "      <td>17999.0</td>\n",
       "    </tr>\n",
       "    <tr>\n",
       "      <th>3</th>\n",
       "      <td>POCO X4</td>\n",
       "      <td>Laser Black</td>\n",
       "      <td>128.0</td>\n",
       "      <td>5000.0</td>\n",
       "      <td>64</td>\n",
       "      <td>16</td>\n",
       "      <td>16.94</td>\n",
       "      <td>6.0</td>\n",
       "      <td>4.1</td>\n",
       "      <td>52113.0</td>\n",
       "      <td>19999.0</td>\n",
       "    </tr>\n",
       "    <tr>\n",
       "      <th>4</th>\n",
       "      <td>POCO M4</td>\n",
       "      <td>Yellow</td>\n",
       "      <td>64.0</td>\n",
       "      <td>5000.0</td>\n",
       "      <td>50</td>\n",
       "      <td>16</td>\n",
       "      <td>16.76</td>\n",
       "      <td>4.0</td>\n",
       "      <td>4.3</td>\n",
       "      <td>27336.0</td>\n",
       "      <td>14999.0</td>\n",
       "    </tr>\n",
       "    <tr>\n",
       "      <th>5</th>\n",
       "      <td>POCO M5</td>\n",
       "      <td>Power Black</td>\n",
       "      <td>512.0</td>\n",
       "      <td>5000.0</td>\n",
       "      <td>50</td>\n",
       "      <td>8</td>\n",
       "      <td>16.71</td>\n",
       "      <td>4.0</td>\n",
       "      <td>4.3</td>\n",
       "      <td>1719.0</td>\n",
       "      <td>12499.0</td>\n",
       "    </tr>\n",
       "    <tr>\n",
       "      <th>6</th>\n",
       "      <td>POCO M5</td>\n",
       "      <td>Icy Blue</td>\n",
       "      <td>512.0</td>\n",
       "      <td>5000.0</td>\n",
       "      <td>50</td>\n",
       "      <td>8</td>\n",
       "      <td>16.71</td>\n",
       "      <td>4.0</td>\n",
       "      <td>4.3</td>\n",
       "      <td>1719.0</td>\n",
       "      <td>12499.0</td>\n",
       "    </tr>\n",
       "    <tr>\n",
       "      <th>7</th>\n",
       "      <td>POCO X4</td>\n",
       "      <td>Laser Blue</td>\n",
       "      <td>128.0</td>\n",
       "      <td>5000.0</td>\n",
       "      <td>64</td>\n",
       "      <td>16</td>\n",
       "      <td>16.94</td>\n",
       "      <td>8.0</td>\n",
       "      <td>4.1</td>\n",
       "      <td>12278.0</td>\n",
       "      <td>21999.0</td>\n",
       "    </tr>\n",
       "    <tr>\n",
       "      <th>8</th>\n",
       "      <td>POCO M4</td>\n",
       "      <td>Yellow</td>\n",
       "      <td>128.0</td>\n",
       "      <td>5000.0</td>\n",
       "      <td>50</td>\n",
       "      <td>16</td>\n",
       "      <td>16.76</td>\n",
       "      <td>6.0</td>\n",
       "      <td>4.2</td>\n",
       "      <td>33358.0</td>\n",
       "      <td>16999.0</td>\n",
       "    </tr>\n",
       "    <tr>\n",
       "      <th>9</th>\n",
       "      <td>POCO M4</td>\n",
       "      <td>Cool Blue</td>\n",
       "      <td>512.0</td>\n",
       "      <td>5000.0</td>\n",
       "      <td>50</td>\n",
       "      <td>8</td>\n",
       "      <td>16.71</td>\n",
       "      <td>6.0</td>\n",
       "      <td>4.1</td>\n",
       "      <td>19287.0</td>\n",
       "      <td>14999.0</td>\n",
       "    </tr>\n",
       "    <tr>\n",
       "      <th>10</th>\n",
       "      <td>POCO M4</td>\n",
       "      <td>Power Black</td>\n",
       "      <td>128.0</td>\n",
       "      <td>5000.0</td>\n",
       "      <td>50</td>\n",
       "      <td>16</td>\n",
       "      <td>16.76</td>\n",
       "      <td>6.0</td>\n",
       "      <td>4.2</td>\n",
       "      <td>33358.0</td>\n",
       "      <td>16999.0</td>\n",
       "    </tr>\n",
       "    <tr>\n",
       "      <th>11</th>\n",
       "      <td>POCO M4</td>\n",
       "      <td>Yellow</td>\n",
       "      <td>64.0</td>\n",
       "      <td>5000.0</td>\n",
       "      <td>64</td>\n",
       "      <td>16</td>\n",
       "      <td>16.33</td>\n",
       "      <td>6.0</td>\n",
       "      <td>4.3</td>\n",
       "      <td>113.0</td>\n",
       "      <td>14999.0</td>\n",
       "    </tr>\n",
       "    <tr>\n",
       "      <th>12</th>\n",
       "      <td>POCO C31</td>\n",
       "      <td>Royal Blue</td>\n",
       "      <td>512.0</td>\n",
       "      <td>5000.0</td>\n",
       "      <td>13</td>\n",
       "      <td>5</td>\n",
       "      <td>16.59</td>\n",
       "      <td>3.0</td>\n",
       "      <td>4.3</td>\n",
       "      <td>111.0</td>\n",
       "      <td>8499.0</td>\n",
       "    </tr>\n",
       "    <tr>\n",
       "      <th>13</th>\n",
       "      <td>POCO X4</td>\n",
       "      <td>Laser Black</td>\n",
       "      <td>128.0</td>\n",
       "      <td>5000.0</td>\n",
       "      <td>64</td>\n",
       "      <td>16</td>\n",
       "      <td>16.94</td>\n",
       "      <td>8.0</td>\n",
       "      <td>4.1</td>\n",
       "      <td>12278.0</td>\n",
       "      <td>21999.0</td>\n",
       "    </tr>\n",
       "    <tr>\n",
       "      <th>14</th>\n",
       "      <td>POCO X4</td>\n",
       "      <td>Yellow</td>\n",
       "      <td>128.0</td>\n",
       "      <td>5000.0</td>\n",
       "      <td>64</td>\n",
       "      <td>16</td>\n",
       "      <td>16.94</td>\n",
       "      <td>6.0</td>\n",
       "      <td>4.1</td>\n",
       "      <td>52113.0</td>\n",
       "      <td>19999.0</td>\n",
       "    </tr>\n",
       "    <tr>\n",
       "      <th>15</th>\n",
       "      <td>POCO M4</td>\n",
       "      <td>Power Black</td>\n",
       "      <td>128.0</td>\n",
       "      <td>5000.0</td>\n",
       "      <td>64</td>\n",
       "      <td>16</td>\n",
       "      <td>16.33</td>\n",
       "      <td>6.0</td>\n",
       "      <td>4.3</td>\n",
       "      <td>113.0</td>\n",
       "      <td>16499.0</td>\n",
       "    </tr>\n",
       "    <tr>\n",
       "      <th>16</th>\n",
       "      <td>POCO M4</td>\n",
       "      <td>Cool Blue</td>\n",
       "      <td>64.0</td>\n",
       "      <td>5000.0</td>\n",
       "      <td>64</td>\n",
       "      <td>16</td>\n",
       "      <td>16.33</td>\n",
       "      <td>6.0</td>\n",
       "      <td>4.3</td>\n",
       "      <td>113.0</td>\n",
       "      <td>14999.0</td>\n",
       "    </tr>\n",
       "    <tr>\n",
       "      <th>17</th>\n",
       "      <td>POCO M2</td>\n",
       "      <td>Green and</td>\n",
       "      <td>512.0</td>\n",
       "      <td>5000.0</td>\n",
       "      <td>48</td>\n",
       "      <td>16</td>\n",
       "      <td>16.94</td>\n",
       "      <td>4.0</td>\n",
       "      <td>4.3</td>\n",
       "      <td>247.0</td>\n",
       "      <td>13999.0</td>\n",
       "    </tr>\n",
       "    <tr>\n",
       "      <th>18</th>\n",
       "      <td>POCO X4</td>\n",
       "      <td>Laser Blue</td>\n",
       "      <td>64.0</td>\n",
       "      <td>5000.0</td>\n",
       "      <td>64</td>\n",
       "      <td>16</td>\n",
       "      <td>16.94</td>\n",
       "      <td>6.0</td>\n",
       "      <td>4.1</td>\n",
       "      <td>52113.0</td>\n",
       "      <td>18999.0</td>\n",
       "    </tr>\n",
       "    <tr>\n",
       "      <th>19</th>\n",
       "      <td>POCO F4</td>\n",
       "      <td>Night Black</td>\n",
       "      <td>128.0</td>\n",
       "      <td>4500.0</td>\n",
       "      <td>64</td>\n",
       "      <td>20</td>\n",
       "      <td>16.94</td>\n",
       "      <td>6.0</td>\n",
       "      <td>4.3</td>\n",
       "      <td>10725.0</td>\n",
       "      <td>27999.0</td>\n",
       "    </tr>\n",
       "    <tr>\n",
       "      <th>20</th>\n",
       "      <td>POCO M4</td>\n",
       "      <td>Yellow</td>\n",
       "      <td>128.0</td>\n",
       "      <td>5000.0</td>\n",
       "      <td>50</td>\n",
       "      <td>16</td>\n",
       "      <td>16.76</td>\n",
       "      <td>8.0</td>\n",
       "      <td>4.2</td>\n",
       "      <td>5539.0</td>\n",
       "      <td>18999.0</td>\n",
       "    </tr>\n",
       "    <tr>\n",
       "      <th>21</th>\n",
       "      <td>POCO X4</td>\n",
       "      <td>Laser Black</td>\n",
       "      <td>64.0</td>\n",
       "      <td>5000.0</td>\n",
       "      <td>64</td>\n",
       "      <td>16</td>\n",
       "      <td>16.94</td>\n",
       "      <td>6.0</td>\n",
       "      <td>4.1</td>\n",
       "      <td>52113.0</td>\n",
       "      <td>18999.0</td>\n",
       "    </tr>\n",
       "    <tr>\n",
       "      <th>22</th>\n",
       "      <td>POCO M5</td>\n",
       "      <td>Yellow</td>\n",
       "      <td>512.0</td>\n",
       "      <td>5000.0</td>\n",
       "      <td>50</td>\n",
       "      <td>8</td>\n",
       "      <td>16.71</td>\n",
       "      <td>6.0</td>\n",
       "      <td>4.3</td>\n",
       "      <td>859.0</td>\n",
       "      <td>14499.0</td>\n",
       "    </tr>\n",
       "    <tr>\n",
       "      <th>23</th>\n",
       "      <td>POCO X4</td>\n",
       "      <td>Yellow</td>\n",
       "      <td>64.0</td>\n",
       "      <td>5000.0</td>\n",
       "      <td>64</td>\n",
       "      <td>16</td>\n",
       "      <td>16.94</td>\n",
       "      <td>6.0</td>\n",
       "      <td>4.1</td>\n",
       "      <td>52113.0</td>\n",
       "      <td>18999.0</td>\n",
       "    </tr>\n",
       "    <tr>\n",
       "      <th>24</th>\n",
       "      <td>POCO M5</td>\n",
       "      <td>Power Black</td>\n",
       "      <td>512.0</td>\n",
       "      <td>5000.0</td>\n",
       "      <td>50</td>\n",
       "      <td>8</td>\n",
       "      <td>16.71</td>\n",
       "      <td>6.0</td>\n",
       "      <td>4.3</td>\n",
       "      <td>859.0</td>\n",
       "      <td>14499.0</td>\n",
       "    </tr>\n",
       "    <tr>\n",
       "      <th>25</th>\n",
       "      <td>POCO M3</td>\n",
       "      <td>Yellow</td>\n",
       "      <td>512.0</td>\n",
       "      <td>6000.0</td>\n",
       "      <td>48</td>\n",
       "      <td>8</td>\n",
       "      <td>16.59</td>\n",
       "      <td>4.0</td>\n",
       "      <td>4.3</td>\n",
       "      <td>123.0</td>\n",
       "      <td>11490.0</td>\n",
       "    </tr>\n",
       "    <tr>\n",
       "      <th>26</th>\n",
       "      <td>POCO X4</td>\n",
       "      <td>Yellow</td>\n",
       "      <td>128.0</td>\n",
       "      <td>5000.0</td>\n",
       "      <td>64</td>\n",
       "      <td>16</td>\n",
       "      <td>16.94</td>\n",
       "      <td>8.0</td>\n",
       "      <td>4.1</td>\n",
       "      <td>12278.0</td>\n",
       "      <td>21999.0</td>\n",
       "    </tr>\n",
       "    <tr>\n",
       "      <th>27</th>\n",
       "      <td>POCO M4</td>\n",
       "      <td>Yellow</td>\n",
       "      <td>128.0</td>\n",
       "      <td>5000.0</td>\n",
       "      <td>64</td>\n",
       "      <td>16</td>\n",
       "      <td>16.33</td>\n",
       "      <td>8.0</td>\n",
       "      <td>4.3</td>\n",
       "      <td>10988.0</td>\n",
       "      <td>17999.0</td>\n",
       "    </tr>\n",
       "    <tr>\n",
       "      <th>28</th>\n",
       "      <td>POCO F4</td>\n",
       "      <td>Night Black</td>\n",
       "      <td>256.0</td>\n",
       "      <td>4500.0</td>\n",
       "      <td>64</td>\n",
       "      <td>20</td>\n",
       "      <td>16.94</td>\n",
       "      <td>12.0</td>\n",
       "      <td>4.4</td>\n",
       "      <td>2180.0</td>\n",
       "      <td>33999.0</td>\n",
       "    </tr>\n",
       "    <tr>\n",
       "      <th>29</th>\n",
       "      <td>POCO C3</td>\n",
       "      <td>Lime Green</td>\n",
       "      <td>512.0</td>\n",
       "      <td>5000.0</td>\n",
       "      <td>13</td>\n",
       "      <td>5</td>\n",
       "      <td>16.59</td>\n",
       "      <td>3.0</td>\n",
       "      <td>4.3</td>\n",
       "      <td>397.0</td>\n",
       "      <td>8499.0</td>\n",
       "    </tr>\n",
       "    <tr>\n",
       "      <th>30</th>\n",
       "      <td>POCO M4</td>\n",
       "      <td>Yellow</td>\n",
       "      <td>512.0</td>\n",
       "      <td>5000.0</td>\n",
       "      <td>50</td>\n",
       "      <td>8</td>\n",
       "      <td>16.71</td>\n",
       "      <td>4.0</td>\n",
       "      <td>4.2</td>\n",
       "      <td>39407.0</td>\n",
       "      <td>12999.0</td>\n",
       "    </tr>\n",
       "    <tr>\n",
       "      <th>31</th>\n",
       "      <td>POCO M5</td>\n",
       "      <td>Yellow</td>\n",
       "      <td>512.0</td>\n",
       "      <td>5000.0</td>\n",
       "      <td>50</td>\n",
       "      <td>8</td>\n",
       "      <td>16.71</td>\n",
       "      <td>4.0</td>\n",
       "      <td>4.3</td>\n",
       "      <td>1719.0</td>\n",
       "      <td>12499.0</td>\n",
       "    </tr>\n",
       "    <tr>\n",
       "      <th>32</th>\n",
       "      <td>POCO M4</td>\n",
       "      <td>Power Black</td>\n",
       "      <td>128.0</td>\n",
       "      <td>5000.0</td>\n",
       "      <td>50</td>\n",
       "      <td>16</td>\n",
       "      <td>16.76</td>\n",
       "      <td>8.0</td>\n",
       "      <td>4.2</td>\n",
       "      <td>5539.0</td>\n",
       "      <td>18999.0</td>\n",
       "    </tr>\n",
       "    <tr>\n",
       "      <th>33</th>\n",
       "      <td>POCO M5</td>\n",
       "      <td>Icy Blue</td>\n",
       "      <td>512.0</td>\n",
       "      <td>5000.0</td>\n",
       "      <td>50</td>\n",
       "      <td>8</td>\n",
       "      <td>16.71</td>\n",
       "      <td>6.0</td>\n",
       "      <td>4.3</td>\n",
       "      <td>859.0</td>\n",
       "      <td>14499.0</td>\n",
       "    </tr>\n",
       "    <tr>\n",
       "      <th>34</th>\n",
       "      <td>POCO M4</td>\n",
       "      <td>Power Black</td>\n",
       "      <td>512.0</td>\n",
       "      <td>5000.0</td>\n",
       "      <td>50</td>\n",
       "      <td>8</td>\n",
       "      <td>16.71</td>\n",
       "      <td>4.0</td>\n",
       "      <td>4.2</td>\n",
       "      <td>39407.0</td>\n",
       "      <td>12999.0</td>\n",
       "    </tr>\n",
       "    <tr>\n",
       "      <th>35</th>\n",
       "      <td>POCO M4</td>\n",
       "      <td>Cool Blue</td>\n",
       "      <td>128.0</td>\n",
       "      <td>5000.0</td>\n",
       "      <td>50</td>\n",
       "      <td>16</td>\n",
       "      <td>16.76</td>\n",
       "      <td>8.0</td>\n",
       "      <td>4.2</td>\n",
       "      <td>5539.0</td>\n",
       "      <td>18999.0</td>\n",
       "    </tr>\n",
       "    <tr>\n",
       "      <th>36</th>\n",
       "      <td>POCO C31</td>\n",
       "      <td>Shadow Gray</td>\n",
       "      <td>512.0</td>\n",
       "      <td>5000.0</td>\n",
       "      <td>13</td>\n",
       "      <td>5</td>\n",
       "      <td>16.59</td>\n",
       "      <td>3.0</td>\n",
       "      <td>4.3</td>\n",
       "      <td>111.0</td>\n",
       "      <td>8499.0</td>\n",
       "    </tr>\n",
       "    <tr>\n",
       "      <th>37</th>\n",
       "      <td>POCO M4</td>\n",
       "      <td>Cool Blue</td>\n",
       "      <td>512.0</td>\n",
       "      <td>5000.0</td>\n",
       "      <td>50</td>\n",
       "      <td>8</td>\n",
       "      <td>16.71</td>\n",
       "      <td>4.0</td>\n",
       "      <td>4.2</td>\n",
       "      <td>39407.0</td>\n",
       "      <td>12999.0</td>\n",
       "    </tr>\n",
       "    <tr>\n",
       "      <th>38</th>\n",
       "      <td>POCO X3</td>\n",
       "      <td>Cobalt Blue</td>\n",
       "      <td>512.0</td>\n",
       "      <td>6000.0</td>\n",
       "      <td>64</td>\n",
       "      <td>20</td>\n",
       "      <td>16.94</td>\n",
       "      <td>8.0</td>\n",
       "      <td>4.3</td>\n",
       "      <td>38865.0</td>\n",
       "      <td>18999.0</td>\n",
       "    </tr>\n",
       "    <tr>\n",
       "      <th>39</th>\n",
       "      <td>POCO F1</td>\n",
       "      <td>Rosso Red</td>\n",
       "      <td>256.0</td>\n",
       "      <td>4000.0</td>\n",
       "      <td>12</td>\n",
       "      <td>20</td>\n",
       "      <td>15.70</td>\n",
       "      <td>6.0</td>\n",
       "      <td>4.5</td>\n",
       "      <td>244.0</td>\n",
       "      <td>18999.0</td>\n",
       "    </tr>\n",
       "    <tr>\n",
       "      <th>40</th>\n",
       "      <td>POCO F1</td>\n",
       "      <td>Rosso Red</td>\n",
       "      <td>256.0</td>\n",
       "      <td>4000.0</td>\n",
       "      <td>12</td>\n",
       "      <td>20</td>\n",
       "      <td>15.70</td>\n",
       "      <td>6.0</td>\n",
       "      <td>4.5</td>\n",
       "      <td>244.0</td>\n",
       "      <td>18999.0</td>\n",
       "    </tr>\n",
       "    <tr>\n",
       "      <th>41</th>\n",
       "      <td>POCO C3</td>\n",
       "      <td>Matte Black</td>\n",
       "      <td>512.0</td>\n",
       "      <td>5000.0</td>\n",
       "      <td>13</td>\n",
       "      <td>5</td>\n",
       "      <td>16.59</td>\n",
       "      <td>4.0</td>\n",
       "      <td>4.3</td>\n",
       "      <td>304.0</td>\n",
       "      <td>9499.0</td>\n",
       "    </tr>\n",
       "    <tr>\n",
       "      <th>42</th>\n",
       "      <td>POCO F1</td>\n",
       "      <td>Graphite Black</td>\n",
       "      <td>256.0</td>\n",
       "      <td>4000.0</td>\n",
       "      <td>12</td>\n",
       "      <td>20</td>\n",
       "      <td>15.70</td>\n",
       "      <td>6.0</td>\n",
       "      <td>4.5</td>\n",
       "      <td>244.0</td>\n",
       "      <td>21999.0</td>\n",
       "    </tr>\n",
       "    <tr>\n",
       "      <th>43</th>\n",
       "      <td>POCO F1</td>\n",
       "      <td>Steel Blue</td>\n",
       "      <td>256.0</td>\n",
       "      <td>4000.0</td>\n",
       "      <td>12</td>\n",
       "      <td>20</td>\n",
       "      <td>15.70</td>\n",
       "      <td>6.0</td>\n",
       "      <td>4.5</td>\n",
       "      <td>244.0</td>\n",
       "      <td>21999.0</td>\n",
       "    </tr>\n",
       "    <tr>\n",
       "      <th>44</th>\n",
       "      <td>POCO M2</td>\n",
       "      <td>Out of</td>\n",
       "      <td>512.0</td>\n",
       "      <td>5000.0</td>\n",
       "      <td>48</td>\n",
       "      <td>16</td>\n",
       "      <td>16.94</td>\n",
       "      <td>6.0</td>\n",
       "      <td>4.4</td>\n",
       "      <td>349.0</td>\n",
       "      <td>15999.0</td>\n",
       "    </tr>\n",
       "    <tr>\n",
       "      <th>45</th>\n",
       "      <td>POCO M3</td>\n",
       "      <td>Cool Blue</td>\n",
       "      <td>512.0</td>\n",
       "      <td>6000.0</td>\n",
       "      <td>48</td>\n",
       "      <td>8</td>\n",
       "      <td>16.59</td>\n",
       "      <td>6.0</td>\n",
       "      <td>4.3</td>\n",
       "      <td>479.0</td>\n",
       "      <td>12999.0</td>\n",
       "    </tr>\n",
       "    <tr>\n",
       "      <th>46</th>\n",
       "      <td>POCO F3</td>\n",
       "      <td>Predator Black</td>\n",
       "      <td>128.0</td>\n",
       "      <td>5065.0</td>\n",
       "      <td>64</td>\n",
       "      <td>16</td>\n",
       "      <td>16.94</td>\n",
       "      <td>6.0</td>\n",
       "      <td>4.3</td>\n",
       "      <td>4658.0</td>\n",
       "      <td>28999.0</td>\n",
       "    </tr>\n",
       "    <tr>\n",
       "      <th>47</th>\n",
       "      <td>POCO M3</td>\n",
       "      <td>Yellow</td>\n",
       "      <td>128.0</td>\n",
       "      <td>5000.0</td>\n",
       "      <td>48</td>\n",
       "      <td>8</td>\n",
       "      <td>16.51</td>\n",
       "      <td>6.0</td>\n",
       "      <td>4.2</td>\n",
       "      <td>51734.0</td>\n",
       "      <td>16499.0</td>\n",
       "    </tr>\n",
       "    <tr>\n",
       "      <th>48</th>\n",
       "      <td>POCO F3</td>\n",
       "      <td>Predator Black</td>\n",
       "      <td>128.0</td>\n",
       "      <td>5065.0</td>\n",
       "      <td>64</td>\n",
       "      <td>16</td>\n",
       "      <td>16.94</td>\n",
       "      <td>8.0</td>\n",
       "      <td>4.3</td>\n",
       "      <td>14744.0</td>\n",
       "      <td>28999.0</td>\n",
       "    </tr>\n",
       "    <tr>\n",
       "      <th>49</th>\n",
       "      <td>POCO M3</td>\n",
       "      <td>Power Black</td>\n",
       "      <td>64.0</td>\n",
       "      <td>5000.0</td>\n",
       "      <td>48</td>\n",
       "      <td>8</td>\n",
       "      <td>16.51</td>\n",
       "      <td>4.0</td>\n",
       "      <td>4.3</td>\n",
       "      <td>62329.0</td>\n",
       "      <td>14499.0</td>\n",
       "    </tr>\n",
       "  </tbody>\n",
       "</table>\n",
       "</div>"
      ],
      "text/plain": [
       "        Name          Colour  Storage  Battery  Camera_Pixel  \\\n",
       "0    POCO M4       Cool Blue    128.0   5000.0            50   \n",
       "1    POCO X4      Laser Blue    128.0   5000.0            64   \n",
       "2    POCO M4       Cool Blue    128.0   5000.0            64   \n",
       "3    POCO X4     Laser Black    128.0   5000.0            64   \n",
       "4    POCO M4          Yellow     64.0   5000.0            50   \n",
       "5    POCO M5     Power Black    512.0   5000.0            50   \n",
       "6    POCO M5        Icy Blue    512.0   5000.0            50   \n",
       "7    POCO X4      Laser Blue    128.0   5000.0            64   \n",
       "8    POCO M4          Yellow    128.0   5000.0            50   \n",
       "9    POCO M4       Cool Blue    512.0   5000.0            50   \n",
       "10   POCO M4     Power Black    128.0   5000.0            50   \n",
       "11   POCO M4          Yellow     64.0   5000.0            64   \n",
       "12  POCO C31      Royal Blue    512.0   5000.0            13   \n",
       "13   POCO X4     Laser Black    128.0   5000.0            64   \n",
       "14   POCO X4          Yellow    128.0   5000.0            64   \n",
       "15   POCO M4     Power Black    128.0   5000.0            64   \n",
       "16   POCO M4       Cool Blue     64.0   5000.0            64   \n",
       "17   POCO M2       Green and    512.0   5000.0            48   \n",
       "18   POCO X4      Laser Blue     64.0   5000.0            64   \n",
       "19   POCO F4     Night Black    128.0   4500.0            64   \n",
       "20   POCO M4          Yellow    128.0   5000.0            50   \n",
       "21   POCO X4     Laser Black     64.0   5000.0            64   \n",
       "22   POCO M5          Yellow    512.0   5000.0            50   \n",
       "23   POCO X4          Yellow     64.0   5000.0            64   \n",
       "24   POCO M5     Power Black    512.0   5000.0            50   \n",
       "25   POCO M3          Yellow    512.0   6000.0            48   \n",
       "26   POCO X4          Yellow    128.0   5000.0            64   \n",
       "27   POCO M4          Yellow    128.0   5000.0            64   \n",
       "28   POCO F4     Night Black    256.0   4500.0            64   \n",
       "29   POCO C3      Lime Green    512.0   5000.0            13   \n",
       "30   POCO M4          Yellow    512.0   5000.0            50   \n",
       "31   POCO M5          Yellow    512.0   5000.0            50   \n",
       "32   POCO M4     Power Black    128.0   5000.0            50   \n",
       "33   POCO M5        Icy Blue    512.0   5000.0            50   \n",
       "34   POCO M4     Power Black    512.0   5000.0            50   \n",
       "35   POCO M4       Cool Blue    128.0   5000.0            50   \n",
       "36  POCO C31     Shadow Gray    512.0   5000.0            13   \n",
       "37   POCO M4       Cool Blue    512.0   5000.0            50   \n",
       "38   POCO X3     Cobalt Blue    512.0   6000.0            64   \n",
       "39   POCO F1       Rosso Red    256.0   4000.0            12   \n",
       "40   POCO F1       Rosso Red    256.0   4000.0            12   \n",
       "41   POCO C3     Matte Black    512.0   5000.0            13   \n",
       "42   POCO F1  Graphite Black    256.0   4000.0            12   \n",
       "43   POCO F1      Steel Blue    256.0   4000.0            12   \n",
       "44   POCO M2          Out of    512.0   5000.0            48   \n",
       "45   POCO M3       Cool Blue    512.0   6000.0            48   \n",
       "46   POCO F3  Predator Black    128.0   5065.0            64   \n",
       "47   POCO M3          Yellow    128.0   5000.0            48   \n",
       "48   POCO F3  Predator Black    128.0   5065.0            64   \n",
       "49   POCO M3     Power Black     64.0   5000.0            48   \n",
       "\n",
       "    Selfie_cam_pixel  Display_size   RAM  Star_ratings  Users_rated    Price  \n",
       "0                 16         16.76   6.0           4.2      33358.0  16999.0  \n",
       "1                 16         16.94   6.0           4.1      52113.0  19999.0  \n",
       "2                 16         16.33   8.0           4.3      10988.0  17999.0  \n",
       "3                 16         16.94   6.0           4.1      52113.0  19999.0  \n",
       "4                 16         16.76   4.0           4.3      27336.0  14999.0  \n",
       "5                  8         16.71   4.0           4.3       1719.0  12499.0  \n",
       "6                  8         16.71   4.0           4.3       1719.0  12499.0  \n",
       "7                 16         16.94   8.0           4.1      12278.0  21999.0  \n",
       "8                 16         16.76   6.0           4.2      33358.0  16999.0  \n",
       "9                  8         16.71   6.0           4.1      19287.0  14999.0  \n",
       "10                16         16.76   6.0           4.2      33358.0  16999.0  \n",
       "11                16         16.33   6.0           4.3        113.0  14999.0  \n",
       "12                 5         16.59   3.0           4.3        111.0   8499.0  \n",
       "13                16         16.94   8.0           4.1      12278.0  21999.0  \n",
       "14                16         16.94   6.0           4.1      52113.0  19999.0  \n",
       "15                16         16.33   6.0           4.3        113.0  16499.0  \n",
       "16                16         16.33   6.0           4.3        113.0  14999.0  \n",
       "17                16         16.94   4.0           4.3        247.0  13999.0  \n",
       "18                16         16.94   6.0           4.1      52113.0  18999.0  \n",
       "19                20         16.94   6.0           4.3      10725.0  27999.0  \n",
       "20                16         16.76   8.0           4.2       5539.0  18999.0  \n",
       "21                16         16.94   6.0           4.1      52113.0  18999.0  \n",
       "22                 8         16.71   6.0           4.3        859.0  14499.0  \n",
       "23                16         16.94   6.0           4.1      52113.0  18999.0  \n",
       "24                 8         16.71   6.0           4.3        859.0  14499.0  \n",
       "25                 8         16.59   4.0           4.3        123.0  11490.0  \n",
       "26                16         16.94   8.0           4.1      12278.0  21999.0  \n",
       "27                16         16.33   8.0           4.3      10988.0  17999.0  \n",
       "28                20         16.94  12.0           4.4       2180.0  33999.0  \n",
       "29                 5         16.59   3.0           4.3        397.0   8499.0  \n",
       "30                 8         16.71   4.0           4.2      39407.0  12999.0  \n",
       "31                 8         16.71   4.0           4.3       1719.0  12499.0  \n",
       "32                16         16.76   8.0           4.2       5539.0  18999.0  \n",
       "33                 8         16.71   6.0           4.3        859.0  14499.0  \n",
       "34                 8         16.71   4.0           4.2      39407.0  12999.0  \n",
       "35                16         16.76   8.0           4.2       5539.0  18999.0  \n",
       "36                 5         16.59   3.0           4.3        111.0   8499.0  \n",
       "37                 8         16.71   4.0           4.2      39407.0  12999.0  \n",
       "38                20         16.94   8.0           4.3      38865.0  18999.0  \n",
       "39                20         15.70   6.0           4.5        244.0  18999.0  \n",
       "40                20         15.70   6.0           4.5        244.0  18999.0  \n",
       "41                 5         16.59   4.0           4.3        304.0   9499.0  \n",
       "42                20         15.70   6.0           4.5        244.0  21999.0  \n",
       "43                20         15.70   6.0           4.5        244.0  21999.0  \n",
       "44                16         16.94   6.0           4.4        349.0  15999.0  \n",
       "45                 8         16.59   6.0           4.3        479.0  12999.0  \n",
       "46                16         16.94   6.0           4.3       4658.0  28999.0  \n",
       "47                 8         16.51   6.0           4.2      51734.0  16499.0  \n",
       "48                16         16.94   8.0           4.3      14744.0  28999.0  \n",
       "49                 8         16.51   4.0           4.3      62329.0  14499.0  "
      ]
     },
     "execution_count": 110,
     "metadata": {},
     "output_type": "execute_result"
    }
   ],
   "source": [
    "r1.head(50)"
   ]
  },
  {
   "cell_type": "code",
   "execution_count": 111,
   "id": "036ebec0",
   "metadata": {},
   "outputs": [
    {
     "data": {
      "text/html": [
       "<div>\n",
       "<style scoped>\n",
       "    .dataframe tbody tr th:only-of-type {\n",
       "        vertical-align: middle;\n",
       "    }\n",
       "\n",
       "    .dataframe tbody tr th {\n",
       "        vertical-align: top;\n",
       "    }\n",
       "\n",
       "    .dataframe thead th {\n",
       "        text-align: right;\n",
       "    }\n",
       "</style>\n",
       "<table border=\"1\" class=\"dataframe\">\n",
       "  <thead>\n",
       "    <tr style=\"text-align: right;\">\n",
       "      <th></th>\n",
       "      <th>Name</th>\n",
       "      <th>Colour</th>\n",
       "      <th>Storage</th>\n",
       "      <th>Battery</th>\n",
       "      <th>Camera_Pixel</th>\n",
       "      <th>Selfie_cam_pixel</th>\n",
       "      <th>Display_size</th>\n",
       "      <th>RAM</th>\n",
       "      <th>Star_ratings</th>\n",
       "      <th>Users_rated</th>\n",
       "      <th>Price</th>\n",
       "    </tr>\n",
       "  </thead>\n",
       "  <tbody>\n",
       "    <tr>\n",
       "      <th>32</th>\n",
       "      <td>POCO M4</td>\n",
       "      <td>Power Black</td>\n",
       "      <td>128.0</td>\n",
       "      <td>5000.0</td>\n",
       "      <td>50</td>\n",
       "      <td>16</td>\n",
       "      <td>16.76</td>\n",
       "      <td>8.0</td>\n",
       "      <td>4.2</td>\n",
       "      <td>5539.0</td>\n",
       "      <td>18999.0</td>\n",
       "    </tr>\n",
       "    <tr>\n",
       "      <th>33</th>\n",
       "      <td>POCO M5</td>\n",
       "      <td>Icy Blue</td>\n",
       "      <td>512.0</td>\n",
       "      <td>5000.0</td>\n",
       "      <td>50</td>\n",
       "      <td>8</td>\n",
       "      <td>16.71</td>\n",
       "      <td>6.0</td>\n",
       "      <td>4.3</td>\n",
       "      <td>859.0</td>\n",
       "      <td>14499.0</td>\n",
       "    </tr>\n",
       "    <tr>\n",
       "      <th>34</th>\n",
       "      <td>POCO M4</td>\n",
       "      <td>Power Black</td>\n",
       "      <td>512.0</td>\n",
       "      <td>5000.0</td>\n",
       "      <td>50</td>\n",
       "      <td>8</td>\n",
       "      <td>16.71</td>\n",
       "      <td>4.0</td>\n",
       "      <td>4.2</td>\n",
       "      <td>39407.0</td>\n",
       "      <td>12999.0</td>\n",
       "    </tr>\n",
       "    <tr>\n",
       "      <th>35</th>\n",
       "      <td>POCO M4</td>\n",
       "      <td>Cool Blue</td>\n",
       "      <td>128.0</td>\n",
       "      <td>5000.0</td>\n",
       "      <td>50</td>\n",
       "      <td>16</td>\n",
       "      <td>16.76</td>\n",
       "      <td>8.0</td>\n",
       "      <td>4.2</td>\n",
       "      <td>5539.0</td>\n",
       "      <td>18999.0</td>\n",
       "    </tr>\n",
       "    <tr>\n",
       "      <th>36</th>\n",
       "      <td>POCO C31</td>\n",
       "      <td>Shadow Gray</td>\n",
       "      <td>512.0</td>\n",
       "      <td>5000.0</td>\n",
       "      <td>13</td>\n",
       "      <td>5</td>\n",
       "      <td>16.59</td>\n",
       "      <td>3.0</td>\n",
       "      <td>4.3</td>\n",
       "      <td>111.0</td>\n",
       "      <td>8499.0</td>\n",
       "    </tr>\n",
       "    <tr>\n",
       "      <th>37</th>\n",
       "      <td>POCO M4</td>\n",
       "      <td>Cool Blue</td>\n",
       "      <td>512.0</td>\n",
       "      <td>5000.0</td>\n",
       "      <td>50</td>\n",
       "      <td>8</td>\n",
       "      <td>16.71</td>\n",
       "      <td>4.0</td>\n",
       "      <td>4.2</td>\n",
       "      <td>39407.0</td>\n",
       "      <td>12999.0</td>\n",
       "    </tr>\n",
       "    <tr>\n",
       "      <th>38</th>\n",
       "      <td>POCO X3</td>\n",
       "      <td>Cobalt Blue</td>\n",
       "      <td>512.0</td>\n",
       "      <td>6000.0</td>\n",
       "      <td>64</td>\n",
       "      <td>20</td>\n",
       "      <td>16.94</td>\n",
       "      <td>8.0</td>\n",
       "      <td>4.3</td>\n",
       "      <td>38865.0</td>\n",
       "      <td>18999.0</td>\n",
       "    </tr>\n",
       "    <tr>\n",
       "      <th>39</th>\n",
       "      <td>POCO F1</td>\n",
       "      <td>Rosso Red</td>\n",
       "      <td>256.0</td>\n",
       "      <td>4000.0</td>\n",
       "      <td>12</td>\n",
       "      <td>20</td>\n",
       "      <td>15.70</td>\n",
       "      <td>6.0</td>\n",
       "      <td>4.5</td>\n",
       "      <td>244.0</td>\n",
       "      <td>18999.0</td>\n",
       "    </tr>\n",
       "    <tr>\n",
       "      <th>40</th>\n",
       "      <td>POCO F1</td>\n",
       "      <td>Rosso Red</td>\n",
       "      <td>256.0</td>\n",
       "      <td>4000.0</td>\n",
       "      <td>12</td>\n",
       "      <td>20</td>\n",
       "      <td>15.70</td>\n",
       "      <td>6.0</td>\n",
       "      <td>4.5</td>\n",
       "      <td>244.0</td>\n",
       "      <td>18999.0</td>\n",
       "    </tr>\n",
       "    <tr>\n",
       "      <th>41</th>\n",
       "      <td>POCO C3</td>\n",
       "      <td>Matte Black</td>\n",
       "      <td>512.0</td>\n",
       "      <td>5000.0</td>\n",
       "      <td>13</td>\n",
       "      <td>5</td>\n",
       "      <td>16.59</td>\n",
       "      <td>4.0</td>\n",
       "      <td>4.3</td>\n",
       "      <td>304.0</td>\n",
       "      <td>9499.0</td>\n",
       "    </tr>\n",
       "    <tr>\n",
       "      <th>42</th>\n",
       "      <td>POCO F1</td>\n",
       "      <td>Graphite Black</td>\n",
       "      <td>256.0</td>\n",
       "      <td>4000.0</td>\n",
       "      <td>12</td>\n",
       "      <td>20</td>\n",
       "      <td>15.70</td>\n",
       "      <td>6.0</td>\n",
       "      <td>4.5</td>\n",
       "      <td>244.0</td>\n",
       "      <td>21999.0</td>\n",
       "    </tr>\n",
       "    <tr>\n",
       "      <th>43</th>\n",
       "      <td>POCO F1</td>\n",
       "      <td>Steel Blue</td>\n",
       "      <td>256.0</td>\n",
       "      <td>4000.0</td>\n",
       "      <td>12</td>\n",
       "      <td>20</td>\n",
       "      <td>15.70</td>\n",
       "      <td>6.0</td>\n",
       "      <td>4.5</td>\n",
       "      <td>244.0</td>\n",
       "      <td>21999.0</td>\n",
       "    </tr>\n",
       "    <tr>\n",
       "      <th>44</th>\n",
       "      <td>POCO M2</td>\n",
       "      <td>Out of</td>\n",
       "      <td>512.0</td>\n",
       "      <td>5000.0</td>\n",
       "      <td>48</td>\n",
       "      <td>16</td>\n",
       "      <td>16.94</td>\n",
       "      <td>6.0</td>\n",
       "      <td>4.4</td>\n",
       "      <td>349.0</td>\n",
       "      <td>15999.0</td>\n",
       "    </tr>\n",
       "    <tr>\n",
       "      <th>45</th>\n",
       "      <td>POCO M3</td>\n",
       "      <td>Cool Blue</td>\n",
       "      <td>512.0</td>\n",
       "      <td>6000.0</td>\n",
       "      <td>48</td>\n",
       "      <td>8</td>\n",
       "      <td>16.59</td>\n",
       "      <td>6.0</td>\n",
       "      <td>4.3</td>\n",
       "      <td>479.0</td>\n",
       "      <td>12999.0</td>\n",
       "    </tr>\n",
       "    <tr>\n",
       "      <th>46</th>\n",
       "      <td>POCO F3</td>\n",
       "      <td>Predator Black</td>\n",
       "      <td>128.0</td>\n",
       "      <td>5065.0</td>\n",
       "      <td>64</td>\n",
       "      <td>16</td>\n",
       "      <td>16.94</td>\n",
       "      <td>6.0</td>\n",
       "      <td>4.3</td>\n",
       "      <td>4658.0</td>\n",
       "      <td>28999.0</td>\n",
       "    </tr>\n",
       "    <tr>\n",
       "      <th>47</th>\n",
       "      <td>POCO M3</td>\n",
       "      <td>Yellow</td>\n",
       "      <td>128.0</td>\n",
       "      <td>5000.0</td>\n",
       "      <td>48</td>\n",
       "      <td>8</td>\n",
       "      <td>16.51</td>\n",
       "      <td>6.0</td>\n",
       "      <td>4.2</td>\n",
       "      <td>51734.0</td>\n",
       "      <td>16499.0</td>\n",
       "    </tr>\n",
       "    <tr>\n",
       "      <th>48</th>\n",
       "      <td>POCO F3</td>\n",
       "      <td>Predator Black</td>\n",
       "      <td>128.0</td>\n",
       "      <td>5065.0</td>\n",
       "      <td>64</td>\n",
       "      <td>16</td>\n",
       "      <td>16.94</td>\n",
       "      <td>8.0</td>\n",
       "      <td>4.3</td>\n",
       "      <td>14744.0</td>\n",
       "      <td>28999.0</td>\n",
       "    </tr>\n",
       "    <tr>\n",
       "      <th>49</th>\n",
       "      <td>POCO M3</td>\n",
       "      <td>Power Black</td>\n",
       "      <td>64.0</td>\n",
       "      <td>5000.0</td>\n",
       "      <td>48</td>\n",
       "      <td>8</td>\n",
       "      <td>16.51</td>\n",
       "      <td>4.0</td>\n",
       "      <td>4.3</td>\n",
       "      <td>62329.0</td>\n",
       "      <td>14499.0</td>\n",
       "    </tr>\n",
       "    <tr>\n",
       "      <th>50</th>\n",
       "      <td>POCO M3</td>\n",
       "      <td>Power Black</td>\n",
       "      <td>128.0</td>\n",
       "      <td>5000.0</td>\n",
       "      <td>48</td>\n",
       "      <td>8</td>\n",
       "      <td>16.51</td>\n",
       "      <td>6.0</td>\n",
       "      <td>4.2</td>\n",
       "      <td>51734.0</td>\n",
       "      <td>16499.0</td>\n",
       "    </tr>\n",
       "    <tr>\n",
       "      <th>51</th>\n",
       "      <td>POCO M3</td>\n",
       "      <td>Yellow</td>\n",
       "      <td>64.0</td>\n",
       "      <td>5000.0</td>\n",
       "      <td>48</td>\n",
       "      <td>8</td>\n",
       "      <td>16.51</td>\n",
       "      <td>4.0</td>\n",
       "      <td>4.3</td>\n",
       "      <td>62329.0</td>\n",
       "      <td>14499.0</td>\n",
       "    </tr>\n",
       "    <tr>\n",
       "      <th>52</th>\n",
       "      <td>POCO M3</td>\n",
       "      <td>Cool Blue</td>\n",
       "      <td>64.0</td>\n",
       "      <td>5000.0</td>\n",
       "      <td>48</td>\n",
       "      <td>8</td>\n",
       "      <td>16.51</td>\n",
       "      <td>4.0</td>\n",
       "      <td>4.3</td>\n",
       "      <td>62329.0</td>\n",
       "      <td>14499.0</td>\n",
       "    </tr>\n",
       "    <tr>\n",
       "      <th>53</th>\n",
       "      <td>POCO M2</td>\n",
       "      <td>Green and</td>\n",
       "      <td>512.0</td>\n",
       "      <td>5000.0</td>\n",
       "      <td>48</td>\n",
       "      <td>16</td>\n",
       "      <td>16.94</td>\n",
       "      <td>6.0</td>\n",
       "      <td>4.4</td>\n",
       "      <td>349.0</td>\n",
       "      <td>14999.0</td>\n",
       "    </tr>\n",
       "    <tr>\n",
       "      <th>54</th>\n",
       "      <td>POCO C3</td>\n",
       "      <td>Arctic Blue</td>\n",
       "      <td>512.0</td>\n",
       "      <td>5000.0</td>\n",
       "      <td>13</td>\n",
       "      <td>5</td>\n",
       "      <td>16.59</td>\n",
       "      <td>4.0</td>\n",
       "      <td>4.3</td>\n",
       "      <td>304.0</td>\n",
       "      <td>9499.0</td>\n",
       "    </tr>\n",
       "    <tr>\n",
       "      <th>55</th>\n",
       "      <td>POCO F4</td>\n",
       "      <td>Nebula Green</td>\n",
       "      <td>128.0</td>\n",
       "      <td>4500.0</td>\n",
       "      <td>64</td>\n",
       "      <td>20</td>\n",
       "      <td>16.94</td>\n",
       "      <td>6.0</td>\n",
       "      <td>4.3</td>\n",
       "      <td>10725.0</td>\n",
       "      <td>27999.0</td>\n",
       "    </tr>\n",
       "    <tr>\n",
       "      <th>56</th>\n",
       "      <td>POCO M3</td>\n",
       "      <td>Cool Blue</td>\n",
       "      <td>128.0</td>\n",
       "      <td>5000.0</td>\n",
       "      <td>48</td>\n",
       "      <td>8</td>\n",
       "      <td>16.51</td>\n",
       "      <td>6.0</td>\n",
       "      <td>4.2</td>\n",
       "      <td>51734.0</td>\n",
       "      <td>16499.0</td>\n",
       "    </tr>\n",
       "    <tr>\n",
       "      <th>57</th>\n",
       "      <td>POCO F4</td>\n",
       "      <td>Nebula Green</td>\n",
       "      <td>256.0</td>\n",
       "      <td>4500.0</td>\n",
       "      <td>64</td>\n",
       "      <td>20</td>\n",
       "      <td>16.94</td>\n",
       "      <td>12.0</td>\n",
       "      <td>4.4</td>\n",
       "      <td>2180.0</td>\n",
       "      <td>33999.0</td>\n",
       "    </tr>\n",
       "    <tr>\n",
       "      <th>58</th>\n",
       "      <td>POCO F4</td>\n",
       "      <td>Night Black</td>\n",
       "      <td>128.0</td>\n",
       "      <td>4500.0</td>\n",
       "      <td>64</td>\n",
       "      <td>20</td>\n",
       "      <td>16.94</td>\n",
       "      <td>8.0</td>\n",
       "      <td>4.3</td>\n",
       "      <td>3885.0</td>\n",
       "      <td>29999.0</td>\n",
       "    </tr>\n",
       "    <tr>\n",
       "      <th>59</th>\n",
       "      <td>POCO C3</td>\n",
       "      <td>Matte Black</td>\n",
       "      <td>512.0</td>\n",
       "      <td>5000.0</td>\n",
       "      <td>13</td>\n",
       "      <td>5</td>\n",
       "      <td>16.59</td>\n",
       "      <td>3.0</td>\n",
       "      <td>4.3</td>\n",
       "      <td>397.0</td>\n",
       "      <td>8490.0</td>\n",
       "    </tr>\n",
       "    <tr>\n",
       "      <th>60</th>\n",
       "      <td>POCO X3</td>\n",
       "      <td>Golden Bronze</td>\n",
       "      <td>128.0</td>\n",
       "      <td>5160.0</td>\n",
       "      <td>48</td>\n",
       "      <td>20</td>\n",
       "      <td>16.94</td>\n",
       "      <td>6.0</td>\n",
       "      <td>4.4</td>\n",
       "      <td>135.0</td>\n",
       "      <td>19999.0</td>\n",
       "    </tr>\n",
       "    <tr>\n",
       "      <th>61</th>\n",
       "      <td>POCO X2</td>\n",
       "      <td>Matrix Purple</td>\n",
       "      <td>512.0</td>\n",
       "      <td>4500.0</td>\n",
       "      <td>64</td>\n",
       "      <td>2</td>\n",
       "      <td>16.94</td>\n",
       "      <td>8.0</td>\n",
       "      <td>4.5</td>\n",
       "      <td>60832.0</td>\n",
       "      <td>20999.0</td>\n",
       "    </tr>\n",
       "    <tr>\n",
       "      <th>62</th>\n",
       "      <td>POCO F3</td>\n",
       "      <td>Gunmetal Silver</td>\n",
       "      <td>128.0</td>\n",
       "      <td>5065.0</td>\n",
       "      <td>64</td>\n",
       "      <td>16</td>\n",
       "      <td>16.94</td>\n",
       "      <td>8.0</td>\n",
       "      <td>4.3</td>\n",
       "      <td>14744.0</td>\n",
       "      <td>28999.0</td>\n",
       "    </tr>\n",
       "    <tr>\n",
       "      <th>63</th>\n",
       "      <td>POCO C3</td>\n",
       "      <td>Arctic Blue</td>\n",
       "      <td>512.0</td>\n",
       "      <td>5000.0</td>\n",
       "      <td>13</td>\n",
       "      <td>5</td>\n",
       "      <td>16.59</td>\n",
       "      <td>3.0</td>\n",
       "      <td>4.3</td>\n",
       "      <td>397.0</td>\n",
       "      <td>8349.0</td>\n",
       "    </tr>\n",
       "    <tr>\n",
       "      <th>64</th>\n",
       "      <td>POCO F1</td>\n",
       "      <td>Steel Blue</td>\n",
       "      <td>256.0</td>\n",
       "      <td>4000.0</td>\n",
       "      <td>12</td>\n",
       "      <td>20</td>\n",
       "      <td>15.70</td>\n",
       "      <td>6.0</td>\n",
       "      <td>4.5</td>\n",
       "      <td>244.0</td>\n",
       "      <td>24999.0</td>\n",
       "    </tr>\n",
       "    <tr>\n",
       "      <th>65</th>\n",
       "      <td>POCO F1</td>\n",
       "      <td>Rosso Red</td>\n",
       "      <td>256.0</td>\n",
       "      <td>4000.0</td>\n",
       "      <td>12</td>\n",
       "      <td>20</td>\n",
       "      <td>15.70</td>\n",
       "      <td>6.0</td>\n",
       "      <td>4.5</td>\n",
       "      <td>244.0</td>\n",
       "      <td>24999.0</td>\n",
       "    </tr>\n",
       "    <tr>\n",
       "      <th>66</th>\n",
       "      <td>POCO M3</td>\n",
       "      <td>Yellow</td>\n",
       "      <td>512.0</td>\n",
       "      <td>6000.0</td>\n",
       "      <td>48</td>\n",
       "      <td>8</td>\n",
       "      <td>16.59</td>\n",
       "      <td>6.0</td>\n",
       "      <td>4.3</td>\n",
       "      <td>479.0</td>\n",
       "      <td>14490.0</td>\n",
       "    </tr>\n",
       "    <tr>\n",
       "      <th>67</th>\n",
       "      <td>POCO F3</td>\n",
       "      <td>Gunmetal Silver</td>\n",
       "      <td>128.0</td>\n",
       "      <td>5065.0</td>\n",
       "      <td>64</td>\n",
       "      <td>16</td>\n",
       "      <td>16.94</td>\n",
       "      <td>6.0</td>\n",
       "      <td>4.3</td>\n",
       "      <td>4658.0</td>\n",
       "      <td>28999.0</td>\n",
       "    </tr>\n",
       "    <tr>\n",
       "      <th>68</th>\n",
       "      <td>POCO M2</td>\n",
       "      <td>Mostly Blue</td>\n",
       "      <td>512.0</td>\n",
       "      <td>5000.0</td>\n",
       "      <td>13</td>\n",
       "      <td>8</td>\n",
       "      <td>16.59</td>\n",
       "      <td>4.0</td>\n",
       "      <td>4.3</td>\n",
       "      <td>66363.0</td>\n",
       "      <td>10989.0</td>\n",
       "    </tr>\n",
       "    <tr>\n",
       "      <th>69</th>\n",
       "      <td>POCO F1</td>\n",
       "      <td>Armoured Edition</td>\n",
       "      <td>256.0</td>\n",
       "      <td>4000.0</td>\n",
       "      <td>12</td>\n",
       "      <td>20</td>\n",
       "      <td>15.70</td>\n",
       "      <td>8.0</td>\n",
       "      <td>4.5</td>\n",
       "      <td>28194.0</td>\n",
       "      <td>30999.0</td>\n",
       "    </tr>\n",
       "    <tr>\n",
       "      <th>70</th>\n",
       "      <td>POCO X2</td>\n",
       "      <td>Atlantis Blue</td>\n",
       "      <td>512.0</td>\n",
       "      <td>4500.0</td>\n",
       "      <td>64</td>\n",
       "      <td>2</td>\n",
       "      <td>16.94</td>\n",
       "      <td>6.0</td>\n",
       "      <td>4.5</td>\n",
       "      <td>270.0</td>\n",
       "      <td>15999.0</td>\n",
       "    </tr>\n",
       "    <tr>\n",
       "      <th>71</th>\n",
       "      <td>POCO X3</td>\n",
       "      <td>Golden Bronze</td>\n",
       "      <td>128.0</td>\n",
       "      <td>5160.0</td>\n",
       "      <td>48</td>\n",
       "      <td>20</td>\n",
       "      <td>16.94</td>\n",
       "      <td>8.0</td>\n",
       "      <td>4.3</td>\n",
       "      <td>55611.0</td>\n",
       "      <td>21999.0</td>\n",
       "    </tr>\n",
       "    <tr>\n",
       "      <th>72</th>\n",
       "      <td>POCO M3</td>\n",
       "      <td>Power Black</td>\n",
       "      <td>512.0</td>\n",
       "      <td>6000.0</td>\n",
       "      <td>48</td>\n",
       "      <td>8</td>\n",
       "      <td>16.59</td>\n",
       "      <td>6.0</td>\n",
       "      <td>4.3</td>\n",
       "      <td>479.0</td>\n",
       "      <td>12999.0</td>\n",
       "    </tr>\n",
       "    <tr>\n",
       "      <th>73</th>\n",
       "      <td>POCO X3</td>\n",
       "      <td>Shadow Gray</td>\n",
       "      <td>512.0</td>\n",
       "      <td>6000.0</td>\n",
       "      <td>64</td>\n",
       "      <td>20</td>\n",
       "      <td>16.94</td>\n",
       "      <td>6.0</td>\n",
       "      <td>4.3</td>\n",
       "      <td>254.0</td>\n",
       "      <td>16999.0</td>\n",
       "    </tr>\n",
       "    <tr>\n",
       "      <th>74</th>\n",
       "      <td>POCO X3</td>\n",
       "      <td>Shadow Gray</td>\n",
       "      <td>512.0</td>\n",
       "      <td>6000.0</td>\n",
       "      <td>64</td>\n",
       "      <td>20</td>\n",
       "      <td>16.94</td>\n",
       "      <td>6.0</td>\n",
       "      <td>4.3</td>\n",
       "      <td>254.0</td>\n",
       "      <td>16999.0</td>\n",
       "    </tr>\n",
       "    <tr>\n",
       "      <th>75</th>\n",
       "      <td>POCO M2</td>\n",
       "      <td>Slate Blue</td>\n",
       "      <td>512.0</td>\n",
       "      <td>5000.0</td>\n",
       "      <td>13</td>\n",
       "      <td>8</td>\n",
       "      <td>16.59</td>\n",
       "      <td>6.0</td>\n",
       "      <td>4.4</td>\n",
       "      <td>406.0</td>\n",
       "      <td>11499.0</td>\n",
       "    </tr>\n",
       "    <tr>\n",
       "      <th>76</th>\n",
       "      <td>POCO C3</td>\n",
       "      <td>Matte Black</td>\n",
       "      <td>512.0</td>\n",
       "      <td>5000.0</td>\n",
       "      <td>13</td>\n",
       "      <td>5</td>\n",
       "      <td>16.59</td>\n",
       "      <td>3.0</td>\n",
       "      <td>4.3</td>\n",
       "      <td>397.0</td>\n",
       "      <td>8490.0</td>\n",
       "    </tr>\n",
       "    <tr>\n",
       "      <th>77</th>\n",
       "      <td>POCO X3</td>\n",
       "      <td>Cobalt Blue</td>\n",
       "      <td>512.0</td>\n",
       "      <td>6000.0</td>\n",
       "      <td>64</td>\n",
       "      <td>20</td>\n",
       "      <td>16.94</td>\n",
       "      <td>6.0</td>\n",
       "      <td>4.3</td>\n",
       "      <td>254.0</td>\n",
       "      <td>16999.0</td>\n",
       "    </tr>\n",
       "    <tr>\n",
       "      <th>78</th>\n",
       "      <td>POCO X3</td>\n",
       "      <td>Steel Blue</td>\n",
       "      <td>128.0</td>\n",
       "      <td>5160.0</td>\n",
       "      <td>48</td>\n",
       "      <td>20</td>\n",
       "      <td>16.94</td>\n",
       "      <td>8.0</td>\n",
       "      <td>4.3</td>\n",
       "      <td>55611.0</td>\n",
       "      <td>21999.0</td>\n",
       "    </tr>\n",
       "    <tr>\n",
       "      <th>79</th>\n",
       "      <td>POCO M3</td>\n",
       "      <td>Cool Blue</td>\n",
       "      <td>512.0</td>\n",
       "      <td>6000.0</td>\n",
       "      <td>48</td>\n",
       "      <td>8</td>\n",
       "      <td>16.59</td>\n",
       "      <td>6.0</td>\n",
       "      <td>4.3</td>\n",
       "      <td>479.0</td>\n",
       "      <td>12999.0</td>\n",
       "    </tr>\n",
       "    <tr>\n",
       "      <th>80</th>\n",
       "      <td>POCO F3</td>\n",
       "      <td>Predator Black</td>\n",
       "      <td>256.0</td>\n",
       "      <td>5065.0</td>\n",
       "      <td>64</td>\n",
       "      <td>16</td>\n",
       "      <td>16.94</td>\n",
       "      <td>8.0</td>\n",
       "      <td>4.3</td>\n",
       "      <td>14744.0</td>\n",
       "      <td>30999.0</td>\n",
       "    </tr>\n",
       "    <tr>\n",
       "      <th>81</th>\n",
       "      <td>POCO F3</td>\n",
       "      <td>Gunmetal Silver</td>\n",
       "      <td>256.0</td>\n",
       "      <td>5065.0</td>\n",
       "      <td>64</td>\n",
       "      <td>16</td>\n",
       "      <td>16.94</td>\n",
       "      <td>8.0</td>\n",
       "      <td>4.3</td>\n",
       "      <td>14744.0</td>\n",
       "      <td>30999.0</td>\n",
       "    </tr>\n",
       "  </tbody>\n",
       "</table>\n",
       "</div>"
      ],
      "text/plain": [
       "        Name            Colour  Storage  Battery  Camera_Pixel  \\\n",
       "32   POCO M4       Power Black    128.0   5000.0            50   \n",
       "33   POCO M5          Icy Blue    512.0   5000.0            50   \n",
       "34   POCO M4       Power Black    512.0   5000.0            50   \n",
       "35   POCO M4         Cool Blue    128.0   5000.0            50   \n",
       "36  POCO C31       Shadow Gray    512.0   5000.0            13   \n",
       "37   POCO M4         Cool Blue    512.0   5000.0            50   \n",
       "38   POCO X3       Cobalt Blue    512.0   6000.0            64   \n",
       "39   POCO F1         Rosso Red    256.0   4000.0            12   \n",
       "40   POCO F1         Rosso Red    256.0   4000.0            12   \n",
       "41   POCO C3       Matte Black    512.0   5000.0            13   \n",
       "42   POCO F1    Graphite Black    256.0   4000.0            12   \n",
       "43   POCO F1        Steel Blue    256.0   4000.0            12   \n",
       "44   POCO M2            Out of    512.0   5000.0            48   \n",
       "45   POCO M3         Cool Blue    512.0   6000.0            48   \n",
       "46   POCO F3    Predator Black    128.0   5065.0            64   \n",
       "47   POCO M3            Yellow    128.0   5000.0            48   \n",
       "48   POCO F3    Predator Black    128.0   5065.0            64   \n",
       "49   POCO M3       Power Black     64.0   5000.0            48   \n",
       "50   POCO M3       Power Black    128.0   5000.0            48   \n",
       "51   POCO M3            Yellow     64.0   5000.0            48   \n",
       "52   POCO M3         Cool Blue     64.0   5000.0            48   \n",
       "53   POCO M2         Green and    512.0   5000.0            48   \n",
       "54   POCO C3       Arctic Blue    512.0   5000.0            13   \n",
       "55   POCO F4      Nebula Green    128.0   4500.0            64   \n",
       "56   POCO M3         Cool Blue    128.0   5000.0            48   \n",
       "57   POCO F4      Nebula Green    256.0   4500.0            64   \n",
       "58   POCO F4       Night Black    128.0   4500.0            64   \n",
       "59   POCO C3       Matte Black    512.0   5000.0            13   \n",
       "60   POCO X3     Golden Bronze    128.0   5160.0            48   \n",
       "61   POCO X2     Matrix Purple    512.0   4500.0            64   \n",
       "62   POCO F3   Gunmetal Silver    128.0   5065.0            64   \n",
       "63   POCO C3       Arctic Blue    512.0   5000.0            13   \n",
       "64   POCO F1        Steel Blue    256.0   4000.0            12   \n",
       "65   POCO F1         Rosso Red    256.0   4000.0            12   \n",
       "66   POCO M3            Yellow    512.0   6000.0            48   \n",
       "67   POCO F3   Gunmetal Silver    128.0   5065.0            64   \n",
       "68   POCO M2       Mostly Blue    512.0   5000.0            13   \n",
       "69   POCO F1  Armoured Edition    256.0   4000.0            12   \n",
       "70   POCO X2     Atlantis Blue    512.0   4500.0            64   \n",
       "71   POCO X3     Golden Bronze    128.0   5160.0            48   \n",
       "72   POCO M3       Power Black    512.0   6000.0            48   \n",
       "73   POCO X3       Shadow Gray    512.0   6000.0            64   \n",
       "74   POCO X3       Shadow Gray    512.0   6000.0            64   \n",
       "75   POCO M2        Slate Blue    512.0   5000.0            13   \n",
       "76   POCO C3       Matte Black    512.0   5000.0            13   \n",
       "77   POCO X3       Cobalt Blue    512.0   6000.0            64   \n",
       "78   POCO X3        Steel Blue    128.0   5160.0            48   \n",
       "79   POCO M3         Cool Blue    512.0   6000.0            48   \n",
       "80   POCO F3    Predator Black    256.0   5065.0            64   \n",
       "81   POCO F3   Gunmetal Silver    256.0   5065.0            64   \n",
       "\n",
       "    Selfie_cam_pixel  Display_size   RAM  Star_ratings  Users_rated    Price  \n",
       "32                16         16.76   8.0           4.2       5539.0  18999.0  \n",
       "33                 8         16.71   6.0           4.3        859.0  14499.0  \n",
       "34                 8         16.71   4.0           4.2      39407.0  12999.0  \n",
       "35                16         16.76   8.0           4.2       5539.0  18999.0  \n",
       "36                 5         16.59   3.0           4.3        111.0   8499.0  \n",
       "37                 8         16.71   4.0           4.2      39407.0  12999.0  \n",
       "38                20         16.94   8.0           4.3      38865.0  18999.0  \n",
       "39                20         15.70   6.0           4.5        244.0  18999.0  \n",
       "40                20         15.70   6.0           4.5        244.0  18999.0  \n",
       "41                 5         16.59   4.0           4.3        304.0   9499.0  \n",
       "42                20         15.70   6.0           4.5        244.0  21999.0  \n",
       "43                20         15.70   6.0           4.5        244.0  21999.0  \n",
       "44                16         16.94   6.0           4.4        349.0  15999.0  \n",
       "45                 8         16.59   6.0           4.3        479.0  12999.0  \n",
       "46                16         16.94   6.0           4.3       4658.0  28999.0  \n",
       "47                 8         16.51   6.0           4.2      51734.0  16499.0  \n",
       "48                16         16.94   8.0           4.3      14744.0  28999.0  \n",
       "49                 8         16.51   4.0           4.3      62329.0  14499.0  \n",
       "50                 8         16.51   6.0           4.2      51734.0  16499.0  \n",
       "51                 8         16.51   4.0           4.3      62329.0  14499.0  \n",
       "52                 8         16.51   4.0           4.3      62329.0  14499.0  \n",
       "53                16         16.94   6.0           4.4        349.0  14999.0  \n",
       "54                 5         16.59   4.0           4.3        304.0   9499.0  \n",
       "55                20         16.94   6.0           4.3      10725.0  27999.0  \n",
       "56                 8         16.51   6.0           4.2      51734.0  16499.0  \n",
       "57                20         16.94  12.0           4.4       2180.0  33999.0  \n",
       "58                20         16.94   8.0           4.3       3885.0  29999.0  \n",
       "59                 5         16.59   3.0           4.3        397.0   8490.0  \n",
       "60                20         16.94   6.0           4.4        135.0  19999.0  \n",
       "61                 2         16.94   8.0           4.5      60832.0  20999.0  \n",
       "62                16         16.94   8.0           4.3      14744.0  28999.0  \n",
       "63                 5         16.59   3.0           4.3        397.0   8349.0  \n",
       "64                20         15.70   6.0           4.5        244.0  24999.0  \n",
       "65                20         15.70   6.0           4.5        244.0  24999.0  \n",
       "66                 8         16.59   6.0           4.3        479.0  14490.0  \n",
       "67                16         16.94   6.0           4.3       4658.0  28999.0  \n",
       "68                 8         16.59   4.0           4.3      66363.0  10989.0  \n",
       "69                20         15.70   8.0           4.5      28194.0  30999.0  \n",
       "70                 2         16.94   6.0           4.5        270.0  15999.0  \n",
       "71                20         16.94   8.0           4.3      55611.0  21999.0  \n",
       "72                 8         16.59   6.0           4.3        479.0  12999.0  \n",
       "73                20         16.94   6.0           4.3        254.0  16999.0  \n",
       "74                20         16.94   6.0           4.3        254.0  16999.0  \n",
       "75                 8         16.59   6.0           4.4        406.0  11499.0  \n",
       "76                 5         16.59   3.0           4.3        397.0   8490.0  \n",
       "77                20         16.94   6.0           4.3        254.0  16999.0  \n",
       "78                20         16.94   8.0           4.3      55611.0  21999.0  \n",
       "79                 8         16.59   6.0           4.3        479.0  12999.0  \n",
       "80                16         16.94   8.0           4.3      14744.0  30999.0  \n",
       "81                16         16.94   8.0           4.3      14744.0  30999.0  "
      ]
     },
     "execution_count": 111,
     "metadata": {},
     "output_type": "execute_result"
    }
   ],
   "source": [
    "r1.tail(50)"
   ]
  },
  {
   "cell_type": "code",
   "execution_count": 112,
   "id": "d084f0b9",
   "metadata": {},
   "outputs": [],
   "source": [
    "r1.to_csv(\"PROJECT POCO_flipkart.csv\")"
   ]
  },
  {
   "cell_type": "code",
   "execution_count": null,
   "id": "ced577b9",
   "metadata": {},
   "outputs": [],
   "source": []
  },
  {
   "cell_type": "code",
   "execution_count": null,
   "id": "d29b1316",
   "metadata": {},
   "outputs": [],
   "source": []
  }
 ],
 "metadata": {
  "kernelspec": {
   "display_name": "Python 3 (ipykernel)",
   "language": "python",
   "name": "python3"
  },
  "language_info": {
   "codemirror_mode": {
    "name": "ipython",
    "version": 3
   },
   "file_extension": ".py",
   "mimetype": "text/x-python",
   "name": "python",
   "nbconvert_exporter": "python",
   "pygments_lexer": "ipython3",
   "version": "3.9.12"
  }
 },
 "nbformat": 4,
 "nbformat_minor": 5
}
