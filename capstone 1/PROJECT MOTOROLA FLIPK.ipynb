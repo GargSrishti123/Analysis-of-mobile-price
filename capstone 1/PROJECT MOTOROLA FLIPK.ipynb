{
 "cells": [
  {
   "cell_type": "code",
   "execution_count": 1,
   "id": "2c5a222e",
   "metadata": {},
   "outputs": [],
   "source": [
    "import re\n",
    "import requests\n",
    "from bs4 import BeautifulSoup\n",
    "import pandas as pd\n"
   ]
  },
  {
   "cell_type": "code",
   "execution_count": 2,
   "id": "a96f64cd",
   "metadata": {},
   "outputs": [],
   "source": [
    "headers={\"User-Agent\": \"Mozilla/5.0 (Windows NT 10.0; Win64; x64) AppleWebKit/537.36 (KHTML, like Gecko) Chrome/106.0.0.0 Safari/537.36\"}"
   ]
  },
  {
   "cell_type": "code",
   "execution_count": 6,
   "id": "401731aa",
   "metadata": {},
   "outputs": [],
   "source": [
    "def details(url,headers):\n",
    "    res=requests.get(url,headers=headers)\n",
    "    print(res)\n",
    "    a=BeautifulSoup(res.content,\"html.parser\")\n",
    "    b=a.find(\"span\",attrs={\"class\":\"B_NuCI\"})\n",
    "    c=b.text\n",
    "    d=r'[m,M][A-Za-z]+\\s?[A-Za-z0-9]+'\n",
    "    e=re.findall(d,c)\n",
    "    print(e)\n",
    "    f=r'[(][A-Za-z]+\\s?[A-Za-z]+'\n",
    "    g=re.findall(f,c)\n",
    "    print(g)\n",
    "\n",
    "    h=a.find(\"div\",attrs={\"class\":\"_2418kt\"})\n",
    "    i=h.text\n",
    "    j=r'[0-9]+\\s?[M][P]+'\n",
    "    k=re.findall(j,i)\n",
    "    print(k)\n",
    "    l=r'[0-9]+\\s?[G][B]+'\n",
    "    m=re.findall(l,i)\n",
    "    print(m)\n",
    "    n=r'[0-9]+\\s?[m,M][A][H,h]'\n",
    "    o=re.findall(n,i)\n",
    "    print(o)\n",
    "    p=r'[0-9]+\\.[0-9]+\\s?[c,C][m,entimeters]+'\n",
    "    q=re.findall(p,i)\n",
    "    print(q)\n",
    "    r=a.find(\"span\",attrs={\"class\":\"_2_R_DZ\"})\n",
    "    s=r.text\n",
    "    use=r'[0-9]*[,]*[0-9]+'\n",
    "    uss=re.findall(use,s)\n",
    "    print(uss)\n",
    "    t=a.find(\"span\",attrs={\"class\":\"_1lRcqv\"})\n",
    "    u=t.text\n",
    "    print(u)\n",
    "    v=a.find(\"div\",attrs={\"class\":\"_30jeq3 _16Jk6d\"})\n",
    "    w=v.text\n",
    "    print(w)\n",
    "    colour.append(f[0])\n",
    "    \n",
    "    \n",
    "    name.append(e[0])\n",
    "    colour.append(g[0])\n",
    "    camera_px.append(k[0])\n",
    "    self_px.append(k[-1])\n",
    "    ram.append(m[0])\n",
    "    storage.append(m[-1])\n",
    "    battery.append(o[0])\n",
    "    display.append(q[0])\n",
    "    user_rate.append(uss[0])\n",
    "    star_rate.append(u)\n",
    "    price.append(w)\n",
    "    \n",
    "\n",
    "    "
   ]
  },
  {
   "cell_type": "code",
   "execution_count": 7,
   "id": "d72ef4aa",
   "metadata": {},
   "outputs": [],
   "source": [
    "name=[]\n",
    "colour=[]\n",
    "camera_px=[]\n",
    "self_px=[]\n",
    "battery=[]\n",
    "ram=[]\n",
    "storage=[]\n",
    "display=[]\n",
    "user_rate=[]\n",
    "star_rate=[]\n",
    "price=[]"
   ]
  },
  {
   "cell_type": "code",
   "execution_count": 8,
   "id": "f3b4f915",
   "metadata": {},
   "outputs": [
    {
     "name": "stdout",
     "output_type": "stream",
     "text": [
      "<Response [200]>\n",
      "['MOTOROLA e40']\n",
      "['(Carbon Gray']\n",
      "['48MP', '2MP', '2MP', '8MP']\n",
      "['4 GB', '64 GB']\n",
      "['5000 mAh']\n",
      "['16.51 cm']\n",
      "['44,238', '4,506']\n",
      "4.1\n",
      "₹9,999\n"
     ]
    }
   ],
   "source": [
    "b=\"https://www.flipkart.com/motorola-e40-carbon-gray-64-gb/p/itm0ca635007c9e2?pid=MOBG2EMWUMUFGSZE&lid=LSTMOBG2EMWUMUFGSZEJNGZMU&marketplace=FLIPKART&q=motorola+mobiles&store=tyy%2F4io&srno=s_1_1&otracker=AS_QueryStore_OrganicAutoSuggest_1_8_na_na_ps&otracker1=AS_QueryStore_OrganicAutoSuggest_1_8_na_na_ps&fm=Search&iid=920bf3ff-9367-4376-8e33-d10fb7357403.MOBG2EMWUMUFGSZE.SEARCH&ppt=sp&ppn=sp&ssid=bjm1ljza0g0000001668766177353&qH=63c7eed1de4a5737\"\n",
    "details(b,headers)"
   ]
  },
  {
   "cell_type": "code",
   "execution_count": 8,
   "id": "8ba86997",
   "metadata": {},
   "outputs": [
    {
     "name": "stdout",
     "output_type": "stream",
     "text": [
      "<Response [200]>\n",
      "['POCO M4', 'Pro 5G', 'RAM']\n",
      "['(Cool Blue']\n",
      "['50MP', '8MP', '16MP']\n",
      "['6 GB', '128 GB']\n",
      "['5000 mAh']\n",
      "['16.76 cm']\n",
      "['33,358', '3,062']\n",
      "4.2\n",
      "₹14,999\n"
     ]
    }
   ],
   "source": [
    "b1=\"https://www.flipkart.com/poco-m4-pro-5g-cool-blue-128-gb/p/itm509e4403d0303?pid=MOBGBEU7GKRSHG5M&lid=LSTMOBGBEU7GKRSHG5MWVOWEV&marketplace=FLIPKART&q=POCO+phones&store=tyy%2F4io&srno=s_1_2&otracker=search&otracker1=search&fm=Search&iid=09aba04e-ca8e-438b-8b57-6e504442c804.MOBGBEU7GKRSHG5M.SEARCH&ppt=sp&ppn=sp&ssid=ihl1oj26i80000001668705210329&qH=dcc5939a354e55b5\"\n",
    "details(b1,headers)"
   ]
  },
  {
   "cell_type": "code",
   "execution_count": 9,
   "id": "75a6b8c0",
   "metadata": {},
   "outputs": [
    {
     "name": "stdout",
     "output_type": "stream",
     "text": [
      "<Response [200]>\n",
      "['MOTOROLA e40']\n",
      "['(Pink Clay']\n",
      "['48MP', '2MP', '2MP', '8MP']\n",
      "['4 GB', '64 GB']\n",
      "['5000 mAh']\n",
      "['16.51 cm']\n",
      "['44,238', '4,506']\n",
      "4.1\n",
      "₹9,999\n"
     ]
    }
   ],
   "source": [
    "b2=\"https://www.flipkart.com/motorola-e40-pink-clay-64-gb/p/itm5d6f2871d1bbf?pid=MOBG2EMW2ZUR4BFG&lid=LSTMOBG2EMW2ZUR4BFGEC0C0J&marketplace=FLIPKART&q=motorola+mobiles&store=tyy%2F4io&srno=s_1_2&otracker=AS_QueryStore_OrganicAutoSuggest_1_8_na_na_ps&otracker1=AS_QueryStore_OrganicAutoSuggest_1_8_na_na_ps&fm=Search&iid=920bf3ff-9367-4376-8e33-d10fb7357403.MOBG2EMW2ZUR4BFG.SEARCH&ppt=sp&ppn=sp&ssid=bjm1ljza0g0000001668766177353&qH=63c7eed1de4a5737\"\n",
    "details(b2,headers)"
   ]
  },
  {
   "cell_type": "code",
   "execution_count": 10,
   "id": "7b5123b2",
   "metadata": {},
   "outputs": [
    {
     "name": "stdout",
     "output_type": "stream",
     "text": [
      "<Response [200]>\n",
      "['MOTOROLA g82', 'Meterorite Grey']\n",
      "['(Meterorite Grey']\n",
      "['50MP', '8MP', '2MP', '16MP']\n",
      "['6 GB', '128 GB']\n",
      "['5000 mAh']\n",
      "['16.76 cm']\n",
      "['4,028', '556']\n",
      "4.1\n",
      "₹21,499\n"
     ]
    }
   ],
   "source": [
    "b3=\"https://www.flipkart.com/motorola-g82-5g-meterorite-grey-128-gb/p/itmed601beb0febc?pid=MOBGBEU7RTZFGZUQ&lid=LSTMOBGBEU7RTZFGZUQ85TLRN&marketplace=FLIPKART&q=motorola+mobiles&store=tyy%2F4io&srno=s_1_24&otracker=AS_QueryStore_OrganicAutoSuggest_1_8_na_na_ps&otracker1=AS_QueryStore_OrganicAutoSuggest_1_8_na_na_ps&fm=Search&iid=920bf3ff-9367-4376-8e33-d10fb7357403.MOBGBEU7RTZFGZUQ.SEARCH&ppt=sp&ppn=sp&ssid=bjm1ljza0g0000001668766177353&qH=63c7eed1de4a5737\"\n",
    "details(b3,headers)"
   ]
  },
  {
   "cell_type": "code",
   "execution_count": 11,
   "id": "ce3cf6b4",
   "metadata": {},
   "outputs": [
    {
     "name": "stdout",
     "output_type": "stream",
     "text": [
      "<Response [200]>\n",
      "['MOTOROLA G62']\n",
      "['(Frosted Blue']\n",
      "['50MP', '8MP', '2MP', '16MP']\n",
      "['8 GB', '128 GB']\n",
      "['5000 mAh']\n",
      "['16.64 cm']\n",
      "['1,218', '133']\n",
      "4.1\n",
      "₹19,999\n"
     ]
    }
   ],
   "source": [
    "b4=\"https://www.flipkart.com/motorola-g62-5g-frosted-blue-128-gb/p/itm914ff5c9b9aaf?pid=MOBGEDT5BYG68GNS&lid=LSTMOBGEDT5BYG68GNSY1UN7J&marketplace=FLIPKART&q=motorola+mobiles&store=tyy%2F4io&srno=s_1_23&otracker=AS_QueryStore_OrganicAutoSuggest_1_8_na_na_ps&otracker1=AS_QueryStore_OrganicAutoSuggest_1_8_na_na_ps&fm=Search&iid=920bf3ff-9367-4376-8e33-d10fb7357403.MOBGEDT5BYG68GNS.SEARCH&ppt=sp&ppn=sp&ssid=bjm1ljza0g0000001668766177353&qH=63c7eed1de4a5737\"\n",
    "details(b4,headers)"
   ]
  },
  {
   "cell_type": "code",
   "execution_count": 12,
   "id": "31760aef",
   "metadata": {},
   "outputs": [
    {
     "name": "stdout",
     "output_type": "stream",
     "text": [
      "<Response [200]>\n",
      "['Moto G71']\n",
      "['(Arctic Blue']\n",
      "['50MP', '8MP', '2MP', '16MP']\n",
      "['6 GB', '128 GB']\n",
      "['5000 mAh']\n",
      "['16.26 cm']\n",
      "['20,077', '2,332']\n",
      "4.2\n",
      "₹16,999\n"
     ]
    }
   ],
   "source": [
    "b5=\"https://www.flipkart.com/moto-g71-5g-arctic-blue-128-gb/p/itm725289299f711?pid=MOBG6FWDJKXCTBV4&lid=LSTMOBG6FWDJKXCTBV49C7SLF&marketplace=FLIPKART&q=motorola+mobiles&store=tyy%2F4io&srno=s_1_22&otracker=AS_QueryStore_OrganicAutoSuggest_1_8_na_na_ps&otracker1=AS_QueryStore_OrganicAutoSuggest_1_8_na_na_ps&fm=Search&iid=920bf3ff-9367-4376-8e33-d10fb7357403.MOBG6FWDJKXCTBV4.SEARCH&ppt=sp&ppn=sp&ssid=bjm1ljza0g0000001668766177353&qH=63c7eed1de4a5737\"\n",
    "details(b5,headers)"
   ]
  },
  {
   "cell_type": "code",
   "execution_count": 13,
   "id": "d59ac028",
   "metadata": {},
   "outputs": [
    {
     "name": "stdout",
     "output_type": "stream",
     "text": [
      "<Response [200]>\n",
      "['MOTOROLA G62', 'Midnight Gray']\n",
      "['(Midnight Gray']\n",
      "['50MP', '8MP', '2MP', '16MP']\n",
      "['8 GB', '128 GB']\n",
      "['5000 mAh']\n",
      "['16.64 cm']\n",
      "['1,218', '133']\n",
      "4.1\n",
      "₹19,999\n"
     ]
    }
   ],
   "source": [
    "b6=\"https://www.flipkart.com/motorola-g62-5g-midnight-gray-128-gb/p/itm88e51821facb9?pid=MOBGEDT83FAAATHZ&lid=LSTMOBGEDT83FAAATHZJBOUXL&marketplace=FLIPKART&q=motorola+mobiles&store=tyy%2F4io&srno=s_1_21&otracker=AS_QueryStore_OrganicAutoSuggest_1_8_na_na_ps&otracker1=AS_QueryStore_OrganicAutoSuggest_1_8_na_na_ps&fm=Search&iid=920bf3ff-9367-4376-8e33-d10fb7357403.MOBGEDT83FAAATHZ.SEARCH&ppt=sp&ppn=sp&ssid=bjm1ljza0g0000001668766177353&qH=63c7eed1de4a5737\"\n",
    "details(b6,headers)"
   ]
  },
  {
   "cell_type": "code",
   "execution_count": 14,
   "id": "fe8dd9c8",
   "metadata": {
    "scrolled": true
   },
   "outputs": [
    {
     "name": "stdout",
     "output_type": "stream",
     "text": [
      "<Response [200]>\n",
      "['MOTOROLA G51']\n",
      "['(Indigo Blue']\n",
      "['50MP', '8MP', '2MP', '13MP']\n",
      "['4 GB', '64 GB']\n",
      "['5000 mAh']\n",
      "['17.27 cm']\n",
      "['15,080', '1,879']\n",
      "4.1\n",
      "₹14,999\n"
     ]
    }
   ],
   "source": [
    "b7=\"https://www.flipkart.com/motorola-g51-5g-indigo-blue-64-gb/p/itm10bffefca5860?pid=MOBG6FWDKAUMSGZ6&lid=LSTMOBG6FWDKAUMSGZ6KZOI5N&marketplace=FLIPKART&q=motorola+mobiles&store=tyy%2F4io&srno=s_1_20&otracker=AS_QueryStore_OrganicAutoSuggest_1_8_na_na_ps&otracker1=AS_QueryStore_OrganicAutoSuggest_1_8_na_na_ps&fm=Search&iid=920bf3ff-9367-4376-8e33-d10fb7357403.MOBG6FWDKAUMSGZ6.SEARCH&ppt=sp&ppn=sp&ssid=bjm1ljza0g0000001668766177353&qH=63c7eed1de4a5737\"\n",
    "details(b7,headers)"
   ]
  },
  {
   "cell_type": "code",
   "execution_count": 15,
   "id": "32c5fde3",
   "metadata": {},
   "outputs": [
    {
     "name": "stdout",
     "output_type": "stream",
     "text": [
      "<Response [200]>\n",
      "['MOTOROLA g52', 'Metallic White']\n",
      "['(Metallic White']\n",
      "['50MP', '8MP', '2MP', '16MP']\n",
      "['4 GB', '64 GB']\n",
      "['5000 mAh']\n",
      "['16.76 cm']\n",
      "['7,260', '936']\n",
      "4.2\n",
      "₹14,499\n"
     ]
    }
   ],
   "source": [
    "b8=\"https://www.flipkart.com/motorola-g52-metallic-white-64-gb/p/itm1efa717b16445?pid=MOBGAKFYZGXJRBTK&lid=LSTMOBGAKFYZGXJRBTKEM0ZJZ&marketplace=FLIPKART&q=motorola+mobiles&store=tyy%2F4io&srno=s_1_19&otracker=AS_QueryStore_OrganicAutoSuggest_1_8_na_na_ps&otracker1=AS_QueryStore_OrganicAutoSuggest_1_8_na_na_ps&fm=Search&iid=920bf3ff-9367-4376-8e33-d10fb7357403.MOBGAKFYZGXJRBTK.SEARCH&ppt=sp&ppn=sp&ssid=bjm1ljza0g0000001668766177353&qH=63c7eed1de4a5737\"\n",
    "details(b8,headers)"
   ]
  },
  {
   "cell_type": "code",
   "execution_count": 16,
   "id": "9e5c31c5",
   "metadata": {},
   "outputs": [
    {
     "name": "stdout",
     "output_type": "stream",
     "text": [
      "<Response [200]>\n",
      "['MOTOROLA g52']\n",
      "['(Charcoal Grey']\n",
      "['50MP', '8MP', '2MP', '16MP']\n",
      "['4 GB', '64 GB']\n",
      "['5000 mAh']\n",
      "['16.76 cm']\n",
      "['7,260', '936']\n",
      "4.2\n",
      "₹14,499\n"
     ]
    }
   ],
   "source": [
    "b9=\"https://www.flipkart.com/motorola-g52-charcoal-grey-64-gb/p/itm8a96aeaed01c9?pid=MOBGAKFYTDHBAVV3&lid=LSTMOBGAKFYTDHBAVV3DIHRE1&marketplace=FLIPKART&q=motorola+mobiles&store=tyy%2F4io&srno=s_1_18&otracker=AS_QueryStore_OrganicAutoSuggest_1_8_na_na_ps&otracker1=AS_QueryStore_OrganicAutoSuggest_1_8_na_na_ps&fm=Search&iid=920bf3ff-9367-4376-8e33-d10fb7357403.MOBGAKFYTDHBAVV3.SEARCH&ppt=sp&ppn=sp&ssid=bjm1ljza0g0000001668766177353&qH=63c7eed1de4a5737\"\n",
    "details(b9,headers)"
   ]
  },
  {
   "cell_type": "code",
   "execution_count": 17,
   "id": "ffe5b118",
   "metadata": {},
   "outputs": [
    {
     "name": "stdout",
     "output_type": "stream",
     "text": [
      "<Response [200]>\n",
      "['MOTOROLA G62']\n",
      "['(Frosted Blue']\n",
      "['50MP', '8MP', '2MP', '16MP']\n",
      "['6 GB', '128 GB']\n",
      "['5000 mAh']\n",
      "['16.64 cm']\n",
      "['4,637', '487']\n",
      "4.1\n",
      "₹17,999\n"
     ]
    }
   ],
   "source": [
    "b10=\"https://www.flipkart.com/motorola-g62-5g-frosted-blue-128-gb/p/itm556a0153d9a10?pid=MOBGEDT5YQ2YFVTQ&lid=LSTMOBGEDT5YQ2YFVTQQ0KAIT&marketplace=FLIPKART&q=motorola+mobiles&store=tyy%2F4io&srno=s_1_17&otracker=AS_QueryStore_OrganicAutoSuggest_1_8_na_na_ps&otracker1=AS_QueryStore_OrganicAutoSuggest_1_8_na_na_ps&fm=Search&iid=920bf3ff-9367-4376-8e33-d10fb7357403.MOBGEDT5YQ2YFVTQ.SEARCH&ppt=sp&ppn=sp&ssid=bjm1ljza0g0000001668766177353&qH=63c7eed1de4a5737\"\n",
    "details(b10,headers)"
   ]
  },
  {
   "cell_type": "code",
   "execution_count": 18,
   "id": "ae856813",
   "metadata": {},
   "outputs": [
    {
     "name": "stdout",
     "output_type": "stream",
     "text": [
      "<Response [200]>\n",
      "['MOTOROLA g52', 'Metallic White']\n",
      "['(Metallic White']\n",
      "['50MP', '8MP', '2MP', '16MP']\n",
      "['6 GB', '128 GB']\n",
      "['5000 mAh']\n",
      "['16.76 cm']\n",
      "['15,194', '1,967']\n",
      "4.2\n",
      "₹16,499\n"
     ]
    }
   ],
   "source": [
    "b11=\"https://www.flipkart.com/motorola-g52-metallic-white-128-gb/p/itm469efad765b98?pid=MOBGAKFYDDSNZGR8&lid=LSTMOBGAKFYDDSNZGR8W6QBUV&marketplace=FLIPKART&q=motorola+mobiles&store=tyy%2F4io&srno=s_1_16&otracker=AS_QueryStore_OrganicAutoSuggest_1_8_na_na_ps&otracker1=AS_QueryStore_OrganicAutoSuggest_1_8_na_na_ps&fm=Search&iid=920bf3ff-9367-4376-8e33-d10fb7357403.MOBGAKFYDDSNZGR8.SEARCH&ppt=sp&ppn=sp&ssid=bjm1ljza0g0000001668766177353&qH=63c7eed1de4a5737\"\n",
    "details(b11,headers)"
   ]
  },
  {
   "cell_type": "code",
   "execution_count": 20,
   "id": "932cf8d1",
   "metadata": {},
   "outputs": [
    {
     "name": "stdout",
     "output_type": "stream",
     "text": [
      "<Response [200]>\n",
      "['MOTOROLA e32s', 'Misty Silver']\n",
      "['(Misty Silver']\n",
      "['16MP', '2MP', '2MP', '8MP']\n",
      "['3 GB', '32 GB']\n",
      "['5000 mAh']\n",
      "['16.51 cm']\n",
      "['112', '19']\n",
      "3.7\n",
      "₹7,995\n"
     ]
    }
   ],
   "source": [
    "b12=\"https://www.flipkart.com/motorola-e32s-misty-silver-32-gb/p/itmafb0a6b7ffa25?pid=MOBGDTTY7VAXSTYP&lid=LSTMOBGDTTY7VAXSTYPE2XZPW&marketplace=FLIPKART&q=motorola+mobiles&store=tyy%2F4io&srno=s_1_14&otracker=AS_QueryStore_OrganicAutoSuggest_1_8_na_na_ps&otracker1=AS_QueryStore_OrganicAutoSuggest_1_8_na_na_ps&fm=Search&iid=920bf3ff-9367-4376-8e33-d10fb7357403.MOBGDTTY7VAXSTYP.SEARCH&ppt=sp&ppn=sp&ssid=bjm1ljza0g0000001668766177353&qH=63c7eed1de4a5737\"\n",
    "details(b12,headers)"
   ]
  },
  {
   "cell_type": "code",
   "execution_count": 19,
   "id": "714a5c9d",
   "metadata": {},
   "outputs": [
    {
     "name": "stdout",
     "output_type": "stream",
     "text": [
      "<Response [200]>\n",
      "['MOTOROLA G60']\n",
      "['(Soft Silver']\n",
      "['108MP', '8MP', '2MP', '32MP']\n",
      "['6 GB', '128 GB']\n",
      "['6000 mAh']\n",
      "['17.22 cm']\n",
      "['1,27', ',376', '12,912']\n",
      "4.2\n",
      "₹15,999\n"
     ]
    }
   ],
   "source": [
    "b13=\"https://www.flipkart.com/motorola-g60-soft-silver-128-gb/p/itm7d158ff189510?pid=MOBG9CJ6G5GCFAH4&lid=LSTMOBG9CJ6G5GCFAH4CCXVXL&marketplace=FLIPKART&q=motorola+mobiles&store=tyy%2F4io&srno=s_1_15&otracker=AS_QueryStore_OrganicAutoSuggest_1_8_na_na_ps&otracker1=AS_QueryStore_OrganicAutoSuggest_1_8_na_na_ps&fm=Search&iid=920bf3ff-9367-4376-8e33-d10fb7357403.MOBG9CJ6G5GCFAH4.SEARCH&ppt=sp&ppn=sp&ssid=bjm1ljza0g0000001668766177353&qH=63c7eed1de4a5737\"\n",
    "details(b13,headers)"
   ]
  },
  {
   "cell_type": "code",
   "execution_count": 21,
   "id": "a2d110ea",
   "metadata": {},
   "outputs": [
    {
     "name": "stdout",
     "output_type": "stream",
     "text": [
      "<Response [200]>\n",
      "['MOTOROLA G32', 'Mineral Gray']\n",
      "['(Mineral Gray']\n",
      "['50MP', '8MP', '2MP', '16MP']\n",
      "['4 GB', '64 GB']\n",
      "['5000 mAh']\n",
      "['16.64 cm']\n",
      "['8,289', '772']\n",
      "4.2\n",
      "₹12,999\n"
     ]
    }
   ],
   "source": [
    "b14=\"https://www.flipkart.com/motorola-g32-mineral-gray-64-gb/p/itmdcfa4c4022714?pid=MOBGEA3CZ8Z7HWCY&lid=LSTMOBGEA3CZ8Z7HWCYPHBSGA&marketplace=FLIPKART&q=motorola+mobiles&store=tyy%2F4io&srno=s_1_12&otracker=AS_QueryStore_OrganicAutoSuggest_1_8_na_na_ps&otracker1=AS_QueryStore_OrganicAutoSuggest_1_8_na_na_ps&fm=Search&iid=920bf3ff-9367-4376-8e33-d10fb7357403.MOBGEA3CZ8Z7HWCY.SEARCH&ppt=sp&ppn=sp&ssid=bjm1ljza0g0000001668766177353&qH=63c7eed1de4a5737\"\n",
    "details(b14,headers)"
   ]
  },
  {
   "cell_type": "code",
   "execution_count": 22,
   "id": "96aa0579",
   "metadata": {},
   "outputs": [
    {
     "name": "stdout",
     "output_type": "stream",
     "text": [
      "<Response [200]>\n",
      "['MOTOROLA g31']\n",
      "['(Baby Blue']\n",
      "['50MP', '8MP', '2MP', '13MP']\n",
      "['4 GB', '64 GB']\n",
      "['5000 mAh']\n",
      "['16.26 cm']\n",
      "['29,792', '3,493']\n",
      "4.2\n",
      "₹10,499\n"
     ]
    }
   ],
   "source": [
    "b15=\"https://www.flipkart.com/motorola-g31-baby-blue-64-gb/p/itm79b9c53dd7e64?pid=MOBG3E8WH8DCRM8H&lid=LSTMOBG3E8WH8DCRM8H2NM88Z&marketplace=FLIPKART&q=motorola+mobiles&store=tyy%2F4io&srno=s_1_11&otracker=AS_QueryStore_OrganicAutoSuggest_1_8_na_na_ps&otracker1=AS_QueryStore_OrganicAutoSuggest_1_8_na_na_ps&fm=Search&iid=920bf3ff-9367-4376-8e33-d10fb7357403.MOBG3E8WH8DCRM8H.SEARCH&ppt=sp&ppn=sp&ssid=bjm1ljza0g0000001668766177353&qH=63c7eed1de4a5737\"\n",
    "details(b15,headers)"
   ]
  },
  {
   "cell_type": "code",
   "execution_count": 23,
   "id": "184da41a",
   "metadata": {},
   "outputs": [
    {
     "name": "stdout",
     "output_type": "stream",
     "text": [
      "<Response [200]>\n",
      "['MOTOROLA g31', 'Meteorite Grey']\n",
      "['(Meteorite Grey']\n",
      "['50MP', '8MP', '2MP', '13MP']\n",
      "['4 GB', '64 GB']\n",
      "['5000 mAh']\n",
      "['16.26 cm']\n",
      "['29,792', '3,493']\n",
      "4.2\n",
      "₹10,499\n"
     ]
    }
   ],
   "source": [
    "b16=\"https://www.flipkart.com/motorola-g31-meteorite-grey-64-gb/p/itmbdda30a7812a0?pid=MOBG3E8WK7736ZH5&lid=LSTMOBG3E8WK7736ZH5PDBHI4&marketplace=FLIPKART&q=motorola+mobiles&store=tyy%2F4io&srno=s_1_10&otracker=AS_QueryStore_OrganicAutoSuggest_1_8_na_na_ps&otracker1=AS_QueryStore_OrganicAutoSuggest_1_8_na_na_ps&fm=Search&iid=920bf3ff-9367-4376-8e33-d10fb7357403.MOBG3E8WK7736ZH5.SEARCH&ppt=sp&ppn=sp&ssid=bjm1ljza0g0000001668766177353&qH=63c7eed1de4a5737\"\n",
    "details(b16,headers)"
   ]
  },
  {
   "cell_type": "code",
   "execution_count": 24,
   "id": "a809aeb2",
   "metadata": {},
   "outputs": [
    {
     "name": "stdout",
     "output_type": "stream",
     "text": [
      "<Response [200]>\n",
      "['MOTOROLA g52']\n",
      "['(Charcoal Grey']\n",
      "['50MP', '8MP', '2MP', '16MP']\n",
      "['6 GB', '128 GB']\n",
      "['5000 mAh']\n",
      "['16.76 cm']\n",
      "['15,194', '1,967']\n",
      "4.2\n",
      "₹16,499\n"
     ]
    }
   ],
   "source": [
    "b17=\"https://www.flipkart.com/motorola-g52-charcoal-grey-128-gb/p/itmea9ebe003e26c?pid=MOBGAKFYFCZJ8JVY&lid=LSTMOBGAKFYFCZJ8JVYO1OB2T&marketplace=FLIPKART&q=motorola+mobiles&store=tyy%2F4io&srno=s_1_6&otracker=AS_QueryStore_OrganicAutoSuggest_1_8_na_na_ps&otracker1=AS_QueryStore_OrganicAutoSuggest_1_8_na_na_ps&fm=Search&iid=920bf3ff-9367-4376-8e33-d10fb7357403.MOBGAKFYFCZJ8JVY.SEARCH&ppt=sp&ppn=sp&ssid=bjm1ljza0g0000001668766177353&qH=63c7eed1de4a5737\"\n",
    "details(b17,headers)"
   ]
  },
  {
   "cell_type": "code",
   "execution_count": 25,
   "id": "8c785147",
   "metadata": {},
   "outputs": [
    {
     "name": "stdout",
     "output_type": "stream",
     "text": [
      "<Response [200]>\n",
      "['MOTOROLA G62', 'Midnight Gray']\n",
      "['(Midnight Gray']\n",
      "['50MP', '8MP', '2MP', '16MP']\n",
      "['6 GB', '128 GB']\n",
      "['5000 mAh']\n",
      "['16.64 cm']\n",
      "['4,637', '487']\n",
      "4.1\n",
      "₹17,999\n"
     ]
    }
   ],
   "source": [
    "b18=\"https://www.flipkart.com/motorola-g62-5g-midnight-gray-128-gb/p/itm37da299ffb2d0?pid=MOBGEDT5ZZMZQZSJ&lid=LSTMOBGEDT5ZZMZQZSJFXDZSQ&marketplace=FLIPKART&q=motorola+mobiles&store=tyy%2F4io&srno=s_1_5&otracker=AS_QueryStore_OrganicAutoSuggest_1_8_na_na_ps&otracker1=AS_QueryStore_OrganicAutoSuggest_1_8_na_na_ps&fm=Search&iid=920bf3ff-9367-4376-8e33-d10fb7357403.MOBGEDT5ZZMZQZSJ.SEARCH&ppt=sp&ppn=sp&ssid=bjm1ljza0g0000001668766177353&qH=63c7eed1de4a5737\"\n",
    "details(b18,headers)"
   ]
  },
  {
   "cell_type": "code",
   "execution_count": 26,
   "id": "591919f5",
   "metadata": {},
   "outputs": [
    {
     "name": "stdout",
     "output_type": "stream",
     "text": [
      "<Response [200]>\n",
      "['MOTOROLA Edge']\n",
      "['(Starlight White']\n",
      "['200MP', '50MP', '12MP', '60MP']\n",
      "['12 GB', '256 GB']\n",
      "['4610 mAh']\n",
      "['16.94 cm']\n",
      "['87', '25']\n",
      "4.1\n",
      "₹59,999\n"
     ]
    }
   ],
   "source": [
    "b19=\"https://www.flipkart.com/motorola-edge-30-ultra-starlight-white-256-gb/p/itm055386afc6641?pid=MOBGGAPR2KCFCTPT&lid=LSTMOBGGAPR2KCFCTPTRBTVPX&marketplace=FLIPKART&q=motorola+mobiles&store=tyy%2F4io&srno=s_2_48&otracker=AS_QueryStore_OrganicAutoSuggest_1_8_na_na_ps&otracker1=AS_QueryStore_OrganicAutoSuggest_1_8_na_na_ps&fm=search-autosuggest&iid=8f411afb-96b5-4a3e-91b0-02d15c041262.MOBGGAPR2KCFCTPT.SEARCH&ppt=sp&ppn=sp&ssid=bjm1ljza0g0000001668766177353&qH=63c7eed1de4a5737\"\n",
    "details(b19,headers)"
   ]
  },
  {
   "cell_type": "code",
   "execution_count": 27,
   "id": "a1249bc0",
   "metadata": {},
   "outputs": [
    {
     "name": "stdout",
     "output_type": "stream",
     "text": [
      "<Response [200]>\n",
      "['MOTOROLA G40', 'mic Gray']\n",
      "['(Dynamic Gray']\n",
      "['64MP', '8MP', '2MP', '16MP']\n",
      "['6 GB', '128 GB']\n",
      "['6000 mAh']\n",
      "['17.22 cm']\n",
      "['54,656', '5,916']\n",
      "4.2\n",
      "₹13,499\n"
     ]
    }
   ],
   "source": [
    "b20=\"https://www.flipkart.com/motorola-g40-fusion-dynamic-gray-128-gb/p/itm0da1b05fa3a9e?pid=MOBFWSF8XAZVCJHZ&lid=LSTMOBFWSF8XAZVCJHZYTOUM6&marketplace=FLIPKART&q=motorola+mobiles&store=tyy%2F4io&srno=s_2_47&otracker=AS_QueryStore_OrganicAutoSuggest_1_8_na_na_ps&otracker1=AS_QueryStore_OrganicAutoSuggest_1_8_na_na_ps&fm=search-autosuggest&iid=8f411afb-96b5-4a3e-91b0-02d15c041262.MOBFWSF8XAZVCJHZ.SEARCH&ppt=sp&ppn=sp&ssid=bjm1ljza0g0000001668766177353&qH=63c7eed1de4a5737\"\n",
    "details(b20,headers)"
   ]
  },
  {
   "cell_type": "code",
   "execution_count": 28,
   "id": "0a7fcdb3",
   "metadata": {},
   "outputs": [
    {
     "name": "stdout",
     "output_type": "stream",
     "text": [
      "<Response [200]>\n",
      "['MOTOROLA G40', 'mpagne']\n",
      "['(Frosted Champagne']\n",
      "['64MP', '8MP', '2MP', '16MP']\n",
      "['4 GB', '64 GB']\n",
      "['6000 mAh']\n",
      "['17.22 cm']\n",
      "['32,732', '3,692']\n",
      "4.2\n",
      "₹14,499\n"
     ]
    }
   ],
   "source": [
    "b21=\"https://www.flipkart.com/motorola-g40-fusion-frosted-champagne-64-gb/p/itmaa22c25971ee0?pid=MOBFWSF8KRVUGH9W&lid=LSTMOBFWSF8KRVUGH9WJ4EGIM&marketplace=FLIPKART&q=motorola+mobiles&store=tyy%2F4io&srno=s_2_46&otracker=AS_QueryStore_OrganicAutoSuggest_1_8_na_na_ps&otracker1=AS_QueryStore_OrganicAutoSuggest_1_8_na_na_ps&fm=search-autosuggest&iid=8f411afb-96b5-4a3e-91b0-02d15c041262.MOBFWSF8KRVUGH9W.SEARCH&ppt=sp&ppn=sp&ssid=bjm1ljza0g0000001668766177353&qH=63c7eed1de4a5737\"\n",
    "details(b21,headers)"
   ]
  },
  {
   "cell_type": "code",
   "execution_count": 29,
   "id": "4df9f507",
   "metadata": {},
   "outputs": [
    {
     "name": "stdout",
     "output_type": "stream",
     "text": [
      "<Response [200]>\n",
      "['MOTOROLA G60', 'mic Gray']\n",
      "['(Dynamic Gray']\n",
      "['108MP', '8MP', '2MP', '32MP']\n",
      "['6 GB', '128 GB']\n",
      "['6000 mAh']\n",
      "['17.27 cm']\n",
      "['1,27', ',376', '12,912']\n",
      "4.2\n",
      "₹15,999\n"
     ]
    }
   ],
   "source": [
    "b22=\"https://www.flipkart.com/motorola-g60-dynamic-gray-128-gb/p/itmf1d5d2978289e?pid=MOBFWSF8U37QFQGK&lid=LSTMOBFWSF8U37QFQGKBPO1B1&marketplace=FLIPKART&q=motorola+mobiles&store=tyy%2F4io&srno=s_2_45&otracker=AS_QueryStore_OrganicAutoSuggest_1_8_na_na_ps&otracker1=AS_QueryStore_OrganicAutoSuggest_1_8_na_na_ps&fm=search-autosuggest&iid=8f411afb-96b5-4a3e-91b0-02d15c041262.MOBFWSF8U37QFQGK.SEARCH&ppt=sp&ppn=sp&ssid=bjm1ljza0g0000001668766177353&qH=63c7eed1de4a5737\"\n",
    "details(b22,headers)"
   ]
  },
  {
   "cell_type": "code",
   "execution_count": 31,
   "id": "ab8e4ebd",
   "metadata": {},
   "outputs": [
    {
     "name": "stdout",
     "output_type": "stream",
     "text": [
      "<Response [200]>\n",
      "['MOTOROLA g82']\n",
      "['(White Lily']\n",
      "['50MP', '8MP', '2MP', '16MP']\n",
      "['8 GB', '128 GB']\n",
      "['5000 mAh']\n",
      "['16.76 cm']\n",
      "['2,414', '310']\n",
      "4.1\n",
      "₹22,999\n"
     ]
    }
   ],
   "source": [
    "b23=\"https://www.flipkart.com/motorola-g82-5g-white-lily-128-gb/p/itm08f3db37545ae?pid=MOBGBEU7KZR9AGHS&lid=LSTMOBGBEU7KZR9AGHSRHP3ZF&marketplace=FLIPKART&q=motorola+mobiles&store=tyy%2F4io&srno=s_2_44&otracker=AS_QueryStore_OrganicAutoSuggest_1_8_na_na_ps&otracker1=AS_QueryStore_OrganicAutoSuggest_1_8_na_na_ps&fm=search-autosuggest&iid=8f411afb-96b5-4a3e-91b0-02d15c041262.MOBGBEU7KZR9AGHS.SEARCH&ppt=sp&ppn=sp&ssid=bjm1ljza0g0000001668766177353&qH=63c7eed1de4a5737\"\n",
    "details(b23,headers)"
   ]
  },
  {
   "cell_type": "code",
   "execution_count": 32,
   "id": "1c30d4f9",
   "metadata": {},
   "outputs": [
    {
     "name": "stdout",
     "output_type": "stream",
     "text": [
      "<Response [200]>\n",
      "['MOTOROLA edge', 'Meteor Grey']\n",
      "['(Meteor Grey']\n",
      "['50MP', '50MP', '2MP', '32MP']\n",
      "['6 GB', '128 GB']\n",
      "['4020 mAh']\n",
      "['16.64 cm']\n",
      "['5,218', '780']\n",
      "4.2\n",
      "₹27,999\n"
     ]
    }
   ],
   "source": [
    "b24=\"https://www.flipkart.com/motorola-edge-30-meteor-grey-128-gb/p/itma02c4f5bca2df?pid=MOBGDCYGCZCYGYYZ&lid=LSTMOBGDCYGCZCYGYYZDNNWFQ&marketplace=FLIPKART&q=motorola+mobiles&store=tyy%2F4io&srno=s_2_43&otracker=AS_QueryStore_OrganicAutoSuggest_1_8_na_na_ps&otracker1=AS_QueryStore_OrganicAutoSuggest_1_8_na_na_ps&fm=search-autosuggest&iid=8f411afb-96b5-4a3e-91b0-02d15c041262.MOBGDCYGCZCYGYYZ.SEARCH&ppt=sp&ppn=sp&ssid=bjm1ljza0g0000001668766177353&qH=63c7eed1de4a5737\"\n",
    "details(b24,headers)"
   ]
  },
  {
   "cell_type": "code",
   "execution_count": 33,
   "id": "6d020fb8",
   "metadata": {},
   "outputs": [
    {
     "name": "stdout",
     "output_type": "stream",
     "text": [
      "<Response [200]>\n",
      "['MOTOROLA edge']\n",
      "['(Aurora Green']\n",
      "['50MP', '50MP', '2MP', '32MP']\n",
      "['6 GB', '128 GB']\n",
      "['4020 mAh']\n",
      "['16.64 cm']\n",
      "['5,218', '780']\n",
      "4.2\n",
      "₹27,999\n"
     ]
    }
   ],
   "source": [
    "b25=\"https://www.flipkart.com/motorola-edge-30-aurora-green-128-gb/p/itm819f84fdde956?pid=MOBGDCYGSKMGHQTA&lid=LSTMOBGDCYGSKMGHQTAR12ZUJ&marketplace=FLIPKART&q=motorola+mobiles&store=tyy%2F4io&srno=s_2_42&otracker=AS_QueryStore_OrganicAutoSuggest_1_8_na_na_ps&otracker1=AS_QueryStore_OrganicAutoSuggest_1_8_na_na_ps&fm=search-autosuggest&iid=8f411afb-96b5-4a3e-91b0-02d15c041262.MOBGDCYGSKMGHQTA.SEARCH&ppt=sp&ppn=sp&ssid=bjm1ljza0g0000001668766177353&qH=63c7eed1de4a5737\"\n",
    "details(b25,headers)"
   ]
  },
  {
   "cell_type": "code",
   "execution_count": 34,
   "id": "f1f8fe21",
   "metadata": {},
   "outputs": [
    {
     "name": "stdout",
     "output_type": "stream",
     "text": [
      "<Response [200]>\n",
      "['MOTOROLA Edge']\n",
      "['(Solar Gold']\n",
      "['50MP', '13MP', '2MP', '32MP']\n",
      "['8 GB', '128 GB']\n",
      "['4400 mAh']\n",
      "['16.64 cm']\n",
      "['1,332', '251']\n",
      "4.3\n",
      "₹39,999\n"
     ]
    }
   ],
   "source": [
    "b26 =\"https://www.flipkart.com/motorola-edge-30-fusion-solar-gold-128-gb/p/itm68ac494d3a503?pid=MOBGFGM2RYYQQASG&lid=LSTMOBGFGM2RYYQQASGOISHT1&marketplace=FLIPKART&q=motorola+mobiles&store=tyy%2F4io&srno=s_2_39&otracker=AS_QueryStore_OrganicAutoSuggest_1_8_na_na_ps&otracker1=AS_QueryStore_OrganicAutoSuggest_1_8_na_na_ps&fm=search-autosuggest&iid=8f411afb-96b5-4a3e-91b0-02d15c041262.MOBGFGM2RYYQQASG.SEARCH&ppt=sp&ppn=sp&ssid=bjm1ljza0g0000001668766177353&qH=63c7eed1de4a5737\"\n",
    "details(b26,headers)"
   ]
  },
  {
   "cell_type": "code",
   "execution_count": 35,
   "id": "ff415e25",
   "metadata": {},
   "outputs": [
    {
     "name": "stdout",
     "output_type": "stream",
     "text": [
      "<Response [200]>\n",
      "['MOTOROLA e32s']\n",
      "['(Slate Gray']\n",
      "['16MP', '2MP', '8MP', '2MP']\n",
      "['3 GB', '32 GB']\n",
      "['5000 mAh']\n",
      "['16.51 cm']\n",
      "['112', '19']\n",
      "3.7\n",
      "₹7,949\n"
     ]
    }
   ],
   "source": [
    "b27=\"https://www.flipkart.com/motorola-e32s-slate-gray-32-gb/p/itmafb0a6b7ffa25?pid=MOBGJMTHFESJUQBT&lid=LSTMOBGJMTHFESJUQBTTMRIPJ&marketplace=FLIPKART&q=motorola+mobiles&store=tyy%2F4io&srno=s_2_38&otracker=AS_QueryStore_OrganicAutoSuggest_1_8_na_na_ps&otracker1=AS_QueryStore_OrganicAutoSuggest_1_8_na_na_ps&fm=search-autosuggest&iid=8f411afb-96b5-4a3e-91b0-02d15c041262.MOBGJMTHFESJUQBT.SEARCH&ppt=sp&ppn=sp&ssid=bjm1ljza0g0000001668766177353&qH=63c7eed1de4a5737\"\n",
    "details(b27,headers)"
   ]
  },
  {
   "cell_type": "code",
   "execution_count": 36,
   "id": "3e362f24",
   "metadata": {},
   "outputs": [
    {
     "name": "stdout",
     "output_type": "stream",
     "text": [
      "<Response [200]>\n",
      "['Moto G71']\n",
      "['(Neptune Green']\n",
      "['50MP', '8MP', '2MP', '16MP']\n",
      "['6 GB', '128 GB']\n",
      "['5000 mAh']\n",
      "['16.26 cm']\n",
      "['20,077', '2,332']\n",
      "4.2\n",
      "₹16,999\n"
     ]
    }
   ],
   "source": [
    "b28=\"https://www.flipkart.com/moto-g71-5g-neptune-green-128-gb/p/itmf4001ad9b6a40?pid=MOBG6FWD9GYP3VWJ&lid=LSTMOBG6FWD9GYP3VWJKQ1E41&marketplace=FLIPKART&q=motorola+mobiles&store=tyy%2F4io&srno=s_2_37&otracker=AS_QueryStore_OrganicAutoSuggest_1_8_na_na_ps&otracker1=AS_QueryStore_OrganicAutoSuggest_1_8_na_na_ps&fm=search-autosuggest&iid=8f411afb-96b5-4a3e-91b0-02d15c041262.MOBG6FWD9GYP3VWJ.SEARCH&ppt=sp&ppn=sp&ssid=bjm1ljza0g0000001668766177353&qH=63c7eed1de4a5737\"\n",
    "details(b28,headers)"
   ]
  },
  {
   "cell_type": "code",
   "execution_count": 37,
   "id": "64602536",
   "metadata": {},
   "outputs": [
    {
     "name": "stdout",
     "output_type": "stream",
     "text": [
      "<Response [200]>\n",
      "['MOTOROLA Edge', 'mic grey']\n",
      "['(Cosmic grey']\n",
      "['50MP', '13MP', '2MP', '32MP']\n",
      "['8 GB', '128 GB']\n",
      "['4400 mAh']\n",
      "['16.64 cm']\n",
      "['1,332', '251']\n",
      "4.3\n",
      "₹39,999\n"
     ]
    }
   ],
   "source": [
    "b29=\"https://www.flipkart.com/motorola-edge-30-fusion-cosmic-grey-128-gb/p/itmcc103ec39dbdf?pid=MOBGFGM2XEFCJYQF&lid=LSTMOBGFGM2XEFCJYQFLXCJS0&marketplace=FLIPKART&q=motorola+mobiles&store=tyy%2F4io&srno=s_2_36&otracker=AS_QueryStore_OrganicAutoSuggest_1_8_na_na_ps&otracker1=AS_QueryStore_OrganicAutoSuggest_1_8_na_na_ps&fm=search-autosuggest&iid=8f411afb-96b5-4a3e-91b0-02d15c041262.MOBGFGM2XEFCJYQF.SEARCH&ppt=sp&ppn=sp&ssid=bjm1ljza0g0000001668766177353&qH=63c7eed1de4a5737\"\n",
    "details(b29,headers)"
   ]
  },
  {
   "cell_type": "code",
   "execution_count": 38,
   "id": "90698183",
   "metadata": {},
   "outputs": [
    {
     "name": "stdout",
     "output_type": "stream",
     "text": [
      "<Response [200]>\n",
      "['MOTOROLA g42', 'Metallic Rose']\n",
      "['(Metallic Rose']\n",
      "['50MP', '8MP', '2MP', '16MP']\n",
      "['4 GB', '64 GB']\n",
      "['5000 mAh']\n",
      "['16.43 cm']\n",
      "['1,992', '270']\n",
      "4.1\n",
      "₹11,999\n"
     ]
    }
   ],
   "source": [
    "b30=\"https://www.flipkart.com/motorola-g42-metallic-rose-64-gb/p/itmd8464bfa8cd7c?pid=MOBGBUPWBYU5N6JM&lid=LSTMOBGBUPWBYU5N6JM1HNVM7&marketplace=FLIPKART&q=motorola+mobiles&store=tyy%2F4io&srno=s_2_35&otracker=AS_QueryStore_OrganicAutoSuggest_1_8_na_na_ps&otracker1=AS_QueryStore_OrganicAutoSuggest_1_8_na_na_ps&fm=search-autosuggest&iid=8f411afb-96b5-4a3e-91b0-02d15c041262.MOBGBUPWBYU5N6JM.SEARCH&ppt=sp&ppn=sp&ssid=bjm1ljza0g0000001668766177353&qH=63c7eed1de4a5737\"\n",
    "details(b30,headers)"
   ]
  },
  {
   "cell_type": "code",
   "execution_count": 40,
   "id": "fbb5311c",
   "metadata": {},
   "outputs": [
    {
     "name": "stdout",
     "output_type": "stream",
     "text": [
      "<Response [200]>\n",
      "['Moto G5']\n",
      "['(Lunar Grey']\n",
      "['12MP', '5MP']\n",
      "['4 GB', '32 GB', '128 GB']\n",
      "['3000 mAh']\n",
      "['13.21 cm']\n",
      "['2,18', ',330', '41,382']\n",
      "4.3\n",
      "₹16,999\n"
     ]
    }
   ],
   "source": [
    "b31=\"https://www.flipkart.com/moto-g5-plus-lunar-grey-32-gb/p/itmes2zjvwfncxxr?pid=MOBEQHMGMAUXS5BF&lid=LSTMOBEQHMGMAUXS5BFN9JAPR&marketplace=FLIPKART&q=motorola+mobiles&store=tyy%2F4io&srno=s_3_72&otracker=AS_QueryStore_OrganicAutoSuggest_1_8_na_na_ps&otracker1=AS_QueryStore_OrganicAutoSuggest_1_8_na_na_ps&fm=search-autosuggest&iid=25696b7d-772f-47b6-98c2-85df549f332c.MOBEQHMGMAUXS5BF.SEARCH&ppt=sp&ppn=sp&qH=63c7eed1de4a5737\"\n",
    "details(b31,headers)"
   ]
  },
  {
   "cell_type": "code",
   "execution_count": 41,
   "id": "085bd943",
   "metadata": {},
   "outputs": [
    {
     "name": "stdout",
     "output_type": "stream",
     "text": [
      "<Response [200]>\n",
      "['MOTOROLA G40', 'mic Gray']\n",
      "['(Dynamic Gray']\n",
      "['64MP', '8MP', '2MP', '16MP']\n",
      "['4 GB', '64 GB']\n",
      "['6000 mAh']\n",
      "['17.22 cm']\n",
      "['32,732', '3,692']\n",
      "4.2\n",
      "₹14,499\n"
     ]
    }
   ],
   "source": [
    "b32=\"https://www.flipkart.com/motorola-g40-fusion-dynamic-gray-64-gb/p/itm689c3821fea61?pid=MOBFWSF8XRR9GKCV&lid=LSTMOBFWSF8XRR9GKCV9FW79F&marketplace=FLIPKART&q=motorola+mobiles&store=tyy%2F4io&srno=s_3_71&otracker=AS_QueryStore_OrganicAutoSuggest_1_8_na_na_ps&otracker1=AS_QueryStore_OrganicAutoSuggest_1_8_na_na_ps&fm=search-autosuggest&iid=25696b7d-772f-47b6-98c2-85df549f332c.MOBFWSF8XRR9GKCV.SEARCH&ppt=sp&ppn=sp&qH=63c7eed1de4a5737\"\n",
    "details(b32,headers)"
   ]
  },
  {
   "cell_type": "code",
   "execution_count": 42,
   "id": "b22bdfc1",
   "metadata": {},
   "outputs": [
    {
     "name": "stdout",
     "output_type": "stream",
     "text": [
      "<Response [200]>\n",
      "['Moto E6s']\n",
      "['(Rich Cranberry']\n",
      "['13MP', '2MP', '8MP']\n",
      "['4 GB', '64 GB', '512 GB']\n",
      "['3000 mAh']\n",
      "['15.49 cm']\n",
      "['79,003', '6,619']\n",
      "4.1\n",
      "₹7,499\n"
     ]
    }
   ],
   "source": [
    "b33=\"https://www.flipkart.com/moto-e6s-rich-cranberry-64-gb/p/itm2238d013359f9?pid=MOBFGB3JGJHNTDGS&lid=LSTMOBFGB3JGJHNTDGSDA1QKX&marketplace=FLIPKART&q=motorola+mobiles&store=tyy%2F4io&srno=s_3_69&otracker=AS_QueryStore_OrganicAutoSuggest_1_8_na_na_ps&otracker1=AS_QueryStore_OrganicAutoSuggest_1_8_na_na_ps&fm=search-autosuggest&iid=25696b7d-772f-47b6-98c2-85df549f332c.MOBFGB3JGJHNTDGS.SEARCH&ppt=sp&ppn=sp&qH=63c7eed1de4a5737\"\n",
    "details(b33,headers)"
   ]
  },
  {
   "cell_type": "code",
   "execution_count": 43,
   "id": "67183e7d",
   "metadata": {},
   "outputs": [
    {
     "name": "stdout",
     "output_type": "stream",
     "text": [
      "<Response [200]>\n",
      "['MOTOROLA Edge']\n",
      "['(Iridescent Cloud']\n",
      "['108MP', '16MP', '8MP', '32MP']\n",
      "['8 GB', '128 GB']\n",
      "['4500 mAh']\n",
      "['17.02 cm']\n",
      "['3,053', '566']\n",
      "4\n",
      "₹29,999\n"
     ]
    }
   ],
   "source": [
    "b34=\"https://www.flipkart.com/motorola-edge-20-pro-5g-iridescent-cloud-128-gb/p/itmad3fd92aa07dd?pid=MOBGYK5F9DAXGRKN&lid=LSTMOBGYK5F9DAXGRKNA11NQ0&marketplace=FLIPKART&q=motorola+mobiles&store=tyy%2F4io&srno=s_3_68&otracker=AS_QueryStore_OrganicAutoSuggest_1_8_na_na_ps&otracker1=AS_QueryStore_OrganicAutoSuggest_1_8_na_na_ps&fm=search-autosuggest&iid=25696b7d-772f-47b6-98c2-85df549f332c.MOBGYK5F9DAXGRKN.SEARCH&ppt=sp&ppn=sp&qH=63c7eed1de4a5737\"\n",
    "details(b34,headers)"
   ]
  },
  {
   "cell_type": "code",
   "execution_count": 44,
   "id": "08e613e8",
   "metadata": {},
   "outputs": [
    {
     "name": "stdout",
     "output_type": "stream",
     "text": [
      "<Response [200]>\n",
      "['MOTOROLA G8']\n",
      "['(Royal Blue']\n",
      "['16MP', '2MP', '2MP', '8MP']\n",
      "['4 GB', '64 GB', '256 GB']\n",
      "['5000 mAh']\n",
      "['16.51 cm']\n",
      "['63,777', '5,647']\n",
      "4.3\n",
      "₹9,999\n"
     ]
    }
   ],
   "source": [
    "b35=\"https://www.flipkart.com/motorola-g8-power-lite-royal-blue-64-gb/p/itm8a408329ff3d2?pid=MOBFZ5EXNSGJJ2ZR&lid=LSTMOBFZ5EXNSGJJ2ZRBFFMHB&marketplace=FLIPKART&q=motorola+mobiles&store=tyy%2F4io&srno=s_3_67&otracker=AS_QueryStore_OrganicAutoSuggest_1_8_na_na_ps&otracker1=AS_QueryStore_OrganicAutoSuggest_1_8_na_na_ps&fm=search-autosuggest&iid=25696b7d-772f-47b6-98c2-85df549f332c.MOBFZ5EXNSGJJ2ZR.SEARCH&ppt=sp&ppn=sp&qH=63c7eed1de4a5737\"\n",
    "details(b35,headers)"
   ]
  },
  {
   "cell_type": "code",
   "execution_count": 45,
   "id": "f4818372",
   "metadata": {},
   "outputs": [
    {
     "name": "stdout",
     "output_type": "stream",
     "text": [
      "<Response [200]>\n",
      "['Motorola One', 'Macro']\n",
      "['(Space Blue']\n",
      "['13MP', '2MP', '2MP', '8MP']\n",
      "['4 GB', '64 GB', '512 GB']\n",
      "['4000 mAh']\n",
      "['15.75 cm']\n",
      "['22,691', '2,283']\n",
      "4.3\n",
      "₹11,999\n"
     ]
    }
   ],
   "source": [
    "b36=\"https://www.flipkart.com/motorola-one-macro-space-blue-64-gb/p/itmb428fd48ecb0f?pid=MOBFGB3JCDRXHJ8T&lid=LSTMOBFGB3JCDRXHJ8THSNCMP&marketplace=FLIPKART&q=motorola+mobiles&store=tyy%2F4io&srno=s_3_66&otracker=AS_QueryStore_OrganicAutoSuggest_1_8_na_na_ps&otracker1=AS_QueryStore_OrganicAutoSuggest_1_8_na_na_ps&fm=search-autosuggest&iid=25696b7d-772f-47b6-98c2-85df549f332c.MOBFGB3JCDRXHJ8T.SEARCH&ppt=sp&ppn=sp&qH=63c7eed1de4a5737\"\n",
    "details(b36,headers)"
   ]
  },
  {
   "cell_type": "code",
   "execution_count": 46,
   "id": "19395752",
   "metadata": {},
   "outputs": [
    {
     "name": "stdout",
     "output_type": "stream",
     "text": [
      "<Response [200]>\n",
      "['MOTOROLA e32']\n",
      "['(Eco Black']\n",
      "['50MP', '2MP', '8MP']\n",
      "['4 GB', '64 GB']\n",
      "['5000 mAh']\n",
      "['16.51 cm']\n",
      "['52', '8']\n",
      "4.1\n",
      "₹9,999\n"
     ]
    }
   ],
   "source": [
    "b37=\"https://www.flipkart.com/motorola-e32-eco-black-64-gb/p/itm3241677bdd2b2?pid=MOBGEA3CV8HZHAAN&lid=LSTMOBGEA3CV8HZHAANRWUKFJ&marketplace=FLIPKART&q=motorola+mobiles&store=tyy%2F4io&srno=s_3_65&otracker=AS_QueryStore_OrganicAutoSuggest_1_8_na_na_ps&otracker1=AS_QueryStore_OrganicAutoSuggest_1_8_na_na_ps&fm=search-autosuggest&iid=25696b7d-772f-47b6-98c2-85df549f332c.MOBGEA3CV8HZHAAN.SEARCH&ppt=sp&ppn=sp&qH=63c7eed1de4a5737\"\n",
    "details(b37,headers)"
   ]
  },
  {
   "cell_type": "code",
   "execution_count": 47,
   "id": "8e31410f",
   "metadata": {},
   "outputs": [
    {
     "name": "stdout",
     "output_type": "stream",
     "text": [
      "<Response [200]>\n",
      "['MOTOROLA Edge']\n",
      "['(Frosted Pearl']\n",
      "['108MP', '8MP', '16MP', '32MP']\n",
      "['8 GB', '128 GB']\n",
      "['4000 mAh']\n",
      "['17.02 cm']\n",
      "['8,825', '1,291']\n",
      "4.1\n",
      "₹27,999\n"
     ]
    }
   ],
   "source": [
    "b38=\"https://www.flipkart.com/motorola-edge-20-5g-frosted-pearl-128-gb/p/itm82ddb896fce7f?pid=MOBGYK55HBGMBW25&lid=LSTMOBGYK55HBGMBW25J2VJML&marketplace=FLIPKART&q=motorola+mobiles&store=tyy%2F4io&srno=s_3_64&otracker=AS_QueryStore_OrganicAutoSuggest_1_8_na_na_ps&otracker1=AS_QueryStore_OrganicAutoSuggest_1_8_na_na_ps&fm=search-autosuggest&iid=25696b7d-772f-47b6-98c2-85df549f332c.MOBGYK55HBGMBW25.SEARCH&ppt=sp&ppn=sp&qH=63c7eed1de4a5737\"\n",
    "details(b38,headers)"
   ]
  },
  {
   "cell_type": "code",
   "execution_count": 48,
   "id": "10432a4a",
   "metadata": {},
   "outputs": [
    {
     "name": "stdout",
     "output_type": "stream",
     "text": [
      "<Response [200]>\n",
      "['MOTOROLA G8']\n",
      "['(Arctic Blue']\n",
      "['16MP', '2MP', '2MP', '8MP']\n",
      "['4 GB', '64 GB', '256 GB']\n",
      "['5000 mAh']\n",
      "['16.51 cm']\n",
      "['63,777', '5,647']\n",
      "4.3\n",
      "₹9,999\n"
     ]
    }
   ],
   "source": [
    "b39=\"https://www.flipkart.com/motorola-g8-power-lite-arctic-blue-64-gb/p/itm9d7b62a81c100?pid=MOBFZ5EXDKHFV832&lid=LSTMOBFZ5EXDKHFV832SY9PU2&marketplace=FLIPKART&q=motorola+mobiles&store=tyy%2F4io&srno=s_3_63&otracker=AS_QueryStore_OrganicAutoSuggest_1_8_na_na_ps&otracker1=AS_QueryStore_OrganicAutoSuggest_1_8_na_na_ps&fm=search-autosuggest&iid=25696b7d-772f-47b6-98c2-85df549f332c.MOBFZ5EXDKHFV832.SEARCH&ppt=sp&ppn=sp&qH=63c7eed1de4a5737\"\n",
    "details(b39,headers)"
   ]
  },
  {
   "cell_type": "code",
   "execution_count": 49,
   "id": "a73ef21c",
   "metadata": {},
   "outputs": [
    {
     "name": "stdout",
     "output_type": "stream",
     "text": [
      "<Response [200]>\n",
      "['MOTOROLA Edge']\n",
      "['(Frosted Onyx']\n",
      "['108MP', '8MP', '16MP', '32MP']\n",
      "['8 GB', '128 GB']\n",
      "['4000 mAh']\n",
      "['17.02 cm']\n",
      "['8,825', '1,291']\n",
      "4.1\n",
      "₹27,999\n"
     ]
    }
   ],
   "source": [
    "b40=\"https://www.flipkart.com/motorola-edge-20-5g-frosted-onyx-128-gb/p/itm3d9e9c080a1bf?pid=MOBG6W3K2HHNFCJU&lid=LSTMOBG6W3K2HHNFCJUEICNX0&marketplace=FLIPKART&q=motorola+mobiles&store=tyy%2F4io&srno=s_3_62&otracker=AS_QueryStore_OrganicAutoSuggest_1_8_na_na_ps&otracker1=AS_QueryStore_OrganicAutoSuggest_1_8_na_na_ps&fm=search-autosuggest&iid=25696b7d-772f-47b6-98c2-85df549f332c.MOBG6W3K2HHNFCJU.SEARCH&ppt=sp&ppn=sp&qH=63c7eed1de4a5737\"\n",
    "details(b40,headers)"
   ]
  },
  {
   "cell_type": "code",
   "execution_count": 50,
   "id": "0427fb8b",
   "metadata": {},
   "outputs": [
    {
     "name": "stdout",
     "output_type": "stream",
     "text": [
      "<Response [200]>\n",
      "['MOTOROLA g82', 'Meterorite Grey']\n",
      "['(Meterorite Grey']\n",
      "['50MP', '8MP', '2MP', '16MP']\n",
      "['8 GB', '128 GB']\n",
      "['5000 mAh']\n",
      "['16.76 cm']\n",
      "['2,414', '310']\n",
      "4.1\n",
      "₹22,999\n"
     ]
    }
   ],
   "source": [
    "b41=\"https://www.flipkart.com/motorola-g82-5g-meterorite-grey-128-gb/p/itm5bb1479d09678?pid=MOBGBEU7M8JS7BUA&lid=LSTMOBGBEU7M8JS7BUA3SOKIL&marketplace=FLIPKART&q=motorola+mobiles&store=tyy%2F4io&srno=s_3_61&otracker=AS_QueryStore_OrganicAutoSuggest_1_8_na_na_ps&otracker1=AS_QueryStore_OrganicAutoSuggest_1_8_na_na_ps&fm=search-autosuggest&iid=25696b7d-772f-47b6-98c2-85df549f332c.MOBGBEU7M8JS7BUA.SEARCH&ppt=sp&ppn=sp&qH=63c7eed1de4a5737\"\n",
    "details(b41,headers)"
   ]
  },
  {
   "cell_type": "code",
   "execution_count": 51,
   "id": "e5fa2bf5",
   "metadata": {},
   "outputs": [
    {
     "name": "stdout",
     "output_type": "stream",
     "text": [
      "<Response [200]>\n",
      "['MOTOROLA Edge']\n",
      "['(Stardust White']\n",
      "['50MP', '50MP', '2MP', '60MP']\n",
      "['8 GB', '128 GB']\n",
      "['4800 mAh']\n",
      "['17.02 cm']\n",
      "['842', '157']\n",
      "4\n",
      "₹39,999\n"
     ]
    }
   ],
   "source": [
    "b42=\"https://www.flipkart.com/motorola-edge-30-pro-stardust-white-128-gb/p/itmc60ad815a2cbd?pid=MOBG9CKYEEUCNHUM&lid=LSTMOBG9CKYEEUCNHUMRMSVG4&marketplace=FLIPKART&q=motorola+mobiles&store=tyy%2F4io&srno=s_3_60&otracker=AS_QueryStore_OrganicAutoSuggest_1_8_na_na_ps&otracker1=AS_QueryStore_OrganicAutoSuggest_1_8_na_na_ps&fm=search-autosuggest&iid=25696b7d-772f-47b6-98c2-85df549f332c.MOBG9CKYEEUCNHUM.SEARCH&ppt=sp&ppn=sp&qH=63c7eed1de4a5737\"\n",
    "details(b42,headers)"
   ]
  },
  {
   "cell_type": "code",
   "execution_count": 52,
   "id": "8501d2e6",
   "metadata": {},
   "outputs": [
    {
     "name": "stdout",
     "output_type": "stream",
     "text": [
      "<Response [200]>\n",
      "['MOTOROLA Edge']\n",
      "['(Electric Graphite']\n",
      "['108MP', '8MP', '2MP', '32MP']\n",
      "['8 GB', '128 GB']\n",
      "['5000 mAh']\n",
      "['16.94 cm']\n",
      "['11,500', '1,440']\n",
      "4.1\n",
      "₹20,999\n"
     ]
    }
   ],
   "source": [
    "b43=\"https://www.flipkart.com/motorola-edge-20-fusion-5g-electric-graphite-128-gb/p/itm9c497fb2ea3f0?pid=MOBGYK4MZG9UNZYH&lid=LSTMOBGYK4MZG9UNZYHYTIQG7&marketplace=FLIPKART&q=motorola+mobiles&store=tyy%2F4io&srno=s_3_59&otracker=AS_QueryStore_OrganicAutoSuggest_1_8_na_na_ps&otracker1=AS_QueryStore_OrganicAutoSuggest_1_8_na_na_ps&fm=search-autosuggest&iid=25696b7d-772f-47b6-98c2-85df549f332c.MOBGYK4MZG9UNZYH.SEARCH&ppt=sp&ppn=sp&qH=63c7eed1de4a5737\"\n",
    "details(b43,headers)"
   ]
  },
  {
   "cell_type": "code",
   "execution_count": 53,
   "id": "645b0ee1",
   "metadata": {},
   "outputs": [
    {
     "name": "stdout",
     "output_type": "stream",
     "text": [
      "<Response [200]>\n",
      "['MOTOROLA e32s']\n",
      "['(Slate Gray']\n",
      "['16MP', '2MP', '2MP', '8MP']\n",
      "['4 GB', '64 GB']\n",
      "['5000 mAh']\n",
      "['16.51 cm']\n",
      "['1,213', '146']\n",
      "3.9\n",
      "₹9,999\n"
     ]
    }
   ],
   "source": [
    "b44=\"https://www.flipkart.com/motorola-e32s-slate-gray-64-gb/p/itm29b98cb0a76f3?pid=MOBGDTTYGHAVEKEF&lid=LSTMOBGDTTYGHAVEKEFY0GE3D&marketplace=FLIPKART&q=motorola+mobiles&store=tyy%2F4io&srno=s_3_58&otracker=AS_QueryStore_OrganicAutoSuggest_1_8_na_na_ps&otracker1=AS_QueryStore_OrganicAutoSuggest_1_8_na_na_ps&fm=search-autosuggest&iid=25696b7d-772f-47b6-98c2-85df549f332c.MOBGDTTYGHAVEKEF.SEARCH&ppt=sp&ppn=sp&qH=63c7eed1de4a5737\"\n",
    "details(b44,headers)"
   ]
  },
  {
   "cell_type": "code",
   "execution_count": 54,
   "id": "e15c6798",
   "metadata": {},
   "outputs": [
    {
     "name": "stdout",
     "output_type": "stream",
     "text": [
      "<Response [200]>\n",
      "['MOTOROLA Edge', 'mos Blue']\n",
      "['(Cosmos Blue']\n",
      "['50MP', '50MP', '2MP', '60MP']\n",
      "['8 GB', '128 GB']\n",
      "['4800 mAh']\n",
      "['17.02 cm']\n",
      "['842', '157']\n",
      "4\n",
      "₹39,999\n"
     ]
    }
   ],
   "source": [
    "b45=\"https://www.flipkart.com/motorola-edge-30-pro-cosmos-blue-128-gb/p/itm98bcbdae6fe78?pid=MOBG9CKYHGJGWCXX&lid=LSTMOBG9CKYHGJGWCXXU848SO&marketplace=FLIPKART&q=motorola+mobiles&store=tyy%2F4io&srno=s_3_57&otracker=AS_QueryStore_OrganicAutoSuggest_1_8_na_na_ps&otracker1=AS_QueryStore_OrganicAutoSuggest_1_8_na_na_ps&fm=search-autosuggest&iid=25696b7d-772f-47b6-98c2-85df549f332c.MOBG9CKYHGJGWCXX.SEARCH&ppt=sp&ppn=sp&qH=63c7eed1de4a5737\"\n",
    "details(b45,headers)"
   ]
  },
  {
   "cell_type": "code",
   "execution_count": 55,
   "id": "c406b188",
   "metadata": {},
   "outputs": [
    {
     "name": "stdout",
     "output_type": "stream",
     "text": [
      "<Response [200]>\n",
      "['MOTOROLA Edge']\n",
      "['(Cyber Teal']\n",
      "['108MP', '8MP', '2MP', '32MP']\n",
      "['8 GB', '128 GB']\n",
      "['5000 mAh']\n",
      "['17.0 cm']\n",
      "['11,500', '1,440']\n",
      "4.1\n",
      "₹20,999\n"
     ]
    }
   ],
   "source": [
    "b46=\"https://www.flipkart.com/motorola-edge-20-fusion-5g-cyber-teal-128-gb/p/itm43d77afc0695d?pid=MOBGYK4MMFJDFGJE&lid=LSTMOBGYK4MMFJDFGJEAAHKWA&marketplace=FLIPKART&q=motorola+mobiles&store=tyy%2F4io&srno=s_3_56&otracker=AS_QueryStore_OrganicAutoSuggest_1_8_na_na_ps&otracker1=AS_QueryStore_OrganicAutoSuggest_1_8_na_na_ps&fm=search-autosuggest&iid=25696b7d-772f-47b6-98c2-85df549f332c.MOBGYK4MMFJDFGJE.SEARCH&ppt=sp&ppn=sp&qH=63c7eed1de4a5737\"\n",
    "details(b46,headers)"
   ]
  },
  {
   "cell_type": "code",
   "execution_count": 56,
   "id": "428fa922",
   "metadata": {},
   "outputs": [
    {
     "name": "stdout",
     "output_type": "stream",
     "text": [
      "<Response [200]>\n",
      "['MOTOROLA e32s', 'Misty Silver']\n",
      "['(Misty Silver']\n",
      "['16MP', '2MP', '2MP', '8MP']\n",
      "['4 GB', '64 GB']\n",
      "['5000 mAh']\n",
      "['16.51 cm']\n",
      "['1,213', '146']\n",
      "3.9\n",
      "₹9,999\n"
     ]
    }
   ],
   "source": [
    "b47=\"https://www.flipkart.com/motorola-e32s-misty-silver-64-gb/p/itm4a778f5441c0b?pid=MOBGDTTYWATKV2TV&lid=LSTMOBGDTTYWATKV2TVVYF83A&marketplace=FLIPKART&q=motorola+mobiles&store=tyy%2F4io&srno=s_3_55&otracker=AS_QueryStore_OrganicAutoSuggest_1_8_na_na_ps&otracker1=AS_QueryStore_OrganicAutoSuggest_1_8_na_na_ps&fm=search-autosuggest&iid=25696b7d-772f-47b6-98c2-85df549f332c.MOBGDTTYWATKV2TV.SEARCH&ppt=sp&ppn=sp&qH=63c7eed1de4a5737\"\n",
    "details(b47,headers)"
   ]
  },
  {
   "cell_type": "code",
   "execution_count": 57,
   "id": "35ef59c8",
   "metadata": {},
   "outputs": [
    {
     "name": "stdout",
     "output_type": "stream",
     "text": [
      "<Response [200]>\n",
      "['MOTOROLA Edge']\n",
      "['(Starlight White']\n",
      "['200MP', '50MP', '12MP', '60MP']\n",
      "['8 GB', '128 GB']\n",
      "['4610 mAh']\n",
      "['16.94 cm']\n",
      "['836', '180']\n",
      "4.4\n",
      "₹54,999\n"
     ]
    }
   ],
   "source": [
    "b48=\"https://www.flipkart.com/motorola-edge-30-ultra-starlight-white-128-gb/p/itmfa7c7c01456e6?pid=MOBGFGM2GRYGBEPH&lid=LSTMOBGFGM2GRYGBEPHL5ASGI&marketplace=FLIPKART&q=motorola+mobiles&store=tyy%2F4io&srno=s_3_54&otracker=AS_QueryStore_OrganicAutoSuggest_1_8_na_na_ps&otracker1=AS_QueryStore_OrganicAutoSuggest_1_8_na_na_ps&fm=search-autosuggest&iid=25696b7d-772f-47b6-98c2-85df549f332c.MOBGFGM2GRYGBEPH.SEARCH&ppt=sp&ppn=sp&qH=63c7eed1de4a5737\"\n",
    "details(b48,headers)"
   ]
  },
  {
   "cell_type": "code",
   "execution_count": 58,
   "id": "f63bd3dd",
   "metadata": {},
   "outputs": [
    {
     "name": "stdout",
     "output_type": "stream",
     "text": [
      "<Response [200]>\n",
      "['MOTOROLA Edge']\n",
      "['(Interstellar Black']\n",
      "['200MP', '50MP', '12MP', '60MP']\n",
      "['8 GB', '128 GB']\n",
      "['4610 mAh']\n",
      "['16.94 cm']\n",
      "['836', '180']\n",
      "4.4\n",
      "₹54,999\n"
     ]
    }
   ],
   "source": [
    "b49=\"https://www.flipkart.com/motorola-edge-30-ultra-interstellar-black-128-gb/p/itm36c69ef9d1313?pid=MOBGFGM2PHKKGB78&lid=LSTMOBGFGM2PHKKGB78NUNL0L&marketplace=FLIPKART&q=motorola+mobiles&store=tyy%2F4io&srno=s_3_53&otracker=AS_QueryStore_OrganicAutoSuggest_1_8_na_na_ps&otracker1=AS_QueryStore_OrganicAutoSuggest_1_8_na_na_ps&fm=search-autosuggest&iid=25696b7d-772f-47b6-98c2-85df549f332c.MOBGFGM2PHKKGB78.SEARCH&ppt=sp&ppn=sp&qH=63c7eed1de4a5737\"\n",
    "details(b49,headers)"
   ]
  },
  {
   "cell_type": "code",
   "execution_count": 59,
   "id": "766f04e0",
   "metadata": {},
   "outputs": [
    {
     "name": "stdout",
     "output_type": "stream",
     "text": [
      "<Response [200]>\n",
      "['MOTOROLA e32']\n",
      "['(Arctic Blue']\n",
      "['50MP', '2MP', '8MP']\n",
      "['4 GB', '64 GB']\n",
      "['5000 mAh']\n",
      "['16.51 cm']\n",
      "['52', '8']\n",
      "4.1\n",
      "₹9,999\n"
     ]
    }
   ],
   "source": [
    "b50=\"https://www.flipkart.com/motorola-e32-arctic-blue-64-gb/p/itmcba3acdbd70d4?pid=MOBGEA3CAXGEKDRQ&lid=LSTMOBGEA3CAXGEKDRQJRNCCR&marketplace=FLIPKART&q=motorola+mobiles&store=tyy%2F4io&srno=s_3_52&otracker=AS_QueryStore_OrganicAutoSuggest_1_8_na_na_ps&otracker1=AS_QueryStore_OrganicAutoSuggest_1_8_na_na_ps&fm=search-autosuggest&iid=25696b7d-772f-47b6-98c2-85df549f332c.MOBGEA3CAXGEKDRQ.SEARCH&ppt=sp&ppn=sp&qH=63c7eed1de4a5737\"\n",
    "details(b50,headers)"
   ]
  },
  {
   "cell_type": "code",
   "execution_count": 60,
   "id": "f3a7cd73",
   "metadata": {},
   "outputs": [
    {
     "name": "stdout",
     "output_type": "stream",
     "text": [
      "<Response [200]>\n",
      "['MOTOROLA One', 'Moonlight White']\n",
      "['(Moonlight White']\n",
      "['64MP', '8MP', '5MP', '2MP', '16MP']\n",
      "['6 GB', '128 GB']\n",
      "['5000 mAh']\n",
      "['16.51 cm']\n",
      "['1,01', ',036', '11,100']\n",
      "4.4\n",
      "₹16,999\n"
     ]
    }
   ],
   "source": [
    "b51=\"https://www.flipkart.com/motorola-one-fusion-moonlight-white-128-gb/p/itm07749a481ee89?pid=MOBFRFXHHWBM6BRR&lid=LSTMOBFRFXHHWBM6BRRSNES2A&marketplace=FLIPKART&q=motorola+mobiles&store=tyy%2F4io&srno=s_4_96&otracker=AS_QueryStore_OrganicAutoSuggest_1_8_na_na_ps&otracker1=AS_QueryStore_OrganicAutoSuggest_1_8_na_na_ps&fm=search-autosuggest&iid=39d8e65a-1aad-456d-af0c-03a6cdc31a83.MOBFRFXHHWBM6BRR.SEARCH&ppt=sp&ppn=sp&qH=63c7eed1de4a5737\"\n",
    "details(b51,headers)"
   ]
  },
  {
   "cell_type": "code",
   "execution_count": 61,
   "id": "f5b89878",
   "metadata": {},
   "outputs": [
    {
     "name": "stdout",
     "output_type": "stream",
     "text": [
      "<Response [200]>\n",
      "['MOTOROLA E7']\n",
      "['(Coral Red']\n",
      "['13MP', '2MP', '5MP']\n",
      "['2 GB', '32 GB']\n",
      "['5000 mAh']\n",
      "['16.54 cm']\n",
      "['10,337', '1,007']\n",
      "4.1\n",
      "₹6,999\n"
     ]
    }
   ],
   "source": [
    "b52=\"https://www.flipkart.com/motorola-e7-power-coral-red-32-gb/p/itmb3068464c205f?pid=MOBFVH62DJM66ZNG&lid=LSTMOBFVH62DJM66ZNGV3JX9E&marketplace=FLIPKART&q=motorola+mobiles&store=tyy%2F4io&srno=s_4_95&otracker=AS_QueryStore_OrganicAutoSuggest_1_8_na_na_ps&otracker1=AS_QueryStore_OrganicAutoSuggest_1_8_na_na_ps&fm=search-autosuggest&iid=39d8e65a-1aad-456d-af0c-03a6cdc31a83.MOBFVH62DJM66ZNG.SEARCH&ppt=sp&ppn=sp&qH=63c7eed1de4a5737\"\n",
    "details(b52,headers)"
   ]
  },
  {
   "cell_type": "code",
   "execution_count": 62,
   "id": "941ec3de",
   "metadata": {},
   "outputs": [
    {
     "name": "stdout",
     "output_type": "stream",
     "text": [
      "<Response [200]>\n",
      "['MOTOROLA One']\n",
      "['(Twilight Blue']\n",
      "['64MP', '8MP', '5MP', '2MP', '16MP']\n",
      "['6 GB', '128 GB']\n",
      "['5000 mAh']\n",
      "['16.51 cm']\n",
      "['1,01', ',036', '11,100']\n",
      "4.4\n",
      "₹16,999\n"
     ]
    }
   ],
   "source": [
    "b53=\"https://www.flipkart.com/motorola-one-fusion-twilight-blue-128-gb/p/itm9c0e4b9b56acd?pid=MOBFRFXHZRMXDDNZ&lid=LSTMOBFRFXHZRMXDDNZW6P8X2&marketplace=FLIPKART&q=motorola+mobiles&store=tyy%2F4io&srno=s_4_94&otracker=AS_QueryStore_OrganicAutoSuggest_1_8_na_na_ps&otracker1=AS_QueryStore_OrganicAutoSuggest_1_8_na_na_ps&fm=search-autosuggest&iid=39d8e65a-1aad-456d-af0c-03a6cdc31a83.MOBFRFXHZRMXDDNZ.SEARCH&ppt=sp&ppn=sp&qH=63c7eed1de4a5737\"\n",
    "details(b53,headers)"
   ]
  },
  {
   "cell_type": "code",
   "execution_count": 63,
   "id": "ce5dbde3",
   "metadata": {},
   "outputs": [
    {
     "name": "stdout",
     "output_type": "stream",
     "text": [
      "<Response [200]>\n",
      "['Moto G']\n",
      "['(Volcanic Grey']\n",
      "['48MP', '8MP', '2MP', '16MP']\n",
      "['6 GB', '128 GB']\n",
      "['5000 mAh']\n",
      "['16.94 cm']\n",
      "['14,790', '1,640']\n",
      "4.2\n",
      "₹24,999\n"
     ]
    }
   ],
   "source": [
    "b54=\"https://www.flipkart.com/moto-g-5g-volcanic-grey-128-gb/p/itm5bafe435ec358?pid=MOBFTZE7GER2URWX&lid=LSTMOBFTZE7GER2URWX3EE630&marketplace=FLIPKART&q=motorola+mobiles&store=tyy%2F4io&srno=s_4_93&otracker=AS_QueryStore_OrganicAutoSuggest_1_8_na_na_ps&otracker1=AS_QueryStore_OrganicAutoSuggest_1_8_na_na_ps&fm=search-autosuggest&iid=39d8e65a-1aad-456d-af0c-03a6cdc31a83.MOBFTZE7GER2URWX.SEARCH&ppt=sp&ppn=sp&qH=63c7eed1de4a5737\"\n",
    "details(b54,headers)"
   ]
  },
  {
   "cell_type": "code",
   "execution_count": 64,
   "id": "6e7976da",
   "metadata": {},
   "outputs": [
    {
     "name": "stdout",
     "output_type": "stream",
     "text": [
      "<Response [200]>\n",
      "['Moto G']\n",
      "['(Frosted Silver']\n",
      "['48MP', '8MP', '2MP', '16MP']\n",
      "['6 GB', '128 GB']\n",
      "['5000 mAh']\n",
      "['16.94 cm']\n",
      "['14,790', '1,640']\n",
      "4.2\n",
      "₹24,999\n"
     ]
    }
   ],
   "source": [
    "b55=\"https://www.flipkart.com/moto-g-5g-frosted-silver-128-gb/p/itmd01e39924e78a?pid=MOBFTZE7GSGZFGZN&lid=LSTMOBFTZE7GSGZFGZNXBDWYY&marketplace=FLIPKART&q=motorola+mobiles&store=tyy%2F4io&srno=s_4_92&otracker=AS_QueryStore_OrganicAutoSuggest_1_8_na_na_ps&otracker1=AS_QueryStore_OrganicAutoSuggest_1_8_na_na_ps&fm=search-autosuggest&iid=39d8e65a-1aad-456d-af0c-03a6cdc31a83.MOBFTZE7GSGZFGZN.SEARCH&ppt=sp&ppn=sp&qH=63c7eed1de4a5737\"\n",
    "details(b55,headers)"
   ]
  },
  {
   "cell_type": "code",
   "execution_count": 65,
   "id": "f74a32ed",
   "metadata": {},
   "outputs": [
    {
     "name": "stdout",
     "output_type": "stream",
     "text": [
      "<Response [200]>\n",
      "['MOTOROLA G10']\n",
      "['(Aurora Grey']\n",
      "['48MP', '8MP', '2MP', '2MP', '8MP']\n",
      "['4 GB', '64 GB']\n",
      "['6000 mAh']\n",
      "['16.54 cm']\n",
      "['61,000', '5,308']\n",
      "4.1\n",
      "₹10,499\n"
     ]
    }
   ],
   "source": [
    "b56=\"https://www.flipkart.com/motorola-g10-power-aurora-grey-64-gb/p/itm34b1df7be8de4?pid=MOBFVXJ47NGGDKKX&lid=LSTMOBFVXJ47NGGDKKXZDO4ES&marketplace=FLIPKART&q=motorola+mobiles&store=tyy%2F4io&srno=s_4_91&otracker=AS_QueryStore_OrganicAutoSuggest_1_8_na_na_ps&otracker1=AS_QueryStore_OrganicAutoSuggest_1_8_na_na_ps&fm=search-autosuggest&iid=39d8e65a-1aad-456d-af0c-03a6cdc31a83.MOBFVXJ47NGGDKKX.SEARCH&ppt=sp&ppn=sp&qH=63c7eed1de4a5737\"\n",
    "details(b56,headers)"
   ]
  },
  {
   "cell_type": "code",
   "execution_count": 66,
   "id": "0bd79bad",
   "metadata": {},
   "outputs": [
    {
     "name": "stdout",
     "output_type": "stream",
     "text": [
      "<Response [200]>\n",
      "['MOTOROLA E7', 'Misty Blue']\n",
      "['(Misty Blue']\n",
      "['48MP', '2MP', '8MP']\n",
      "['4 GB', '64 GB', '512 GB']\n",
      "['5000 mAh']\n",
      "['16.51 cm']\n",
      "['48,518', '4,219']\n",
      "4.2\n",
      "₹9,499\n"
     ]
    }
   ],
   "source": [
    "b57=\"https://www.flipkart.com/motorola-e7-plus-misty-blue-64-gb/p/itm9a59be77f1cd2?pid=MOBFTYWW8QWUYDZU&lid=LSTMOBFTYWW8QWUYDZUPJIZFF&marketplace=FLIPKART&q=motorola+mobiles&store=tyy%2F4io&srno=s_4_90&otracker=AS_QueryStore_OrganicAutoSuggest_1_8_na_na_ps&otracker1=AS_QueryStore_OrganicAutoSuggest_1_8_na_na_ps&fm=search-autosuggest&iid=39d8e65a-1aad-456d-af0c-03a6cdc31a83.MOBFTYWW8QWUYDZU.SEARCH&ppt=sp&ppn=sp&qH=63c7eed1de4a5737\"\n",
    "details(b57,headers)"
   ]
  },
  {
   "cell_type": "code",
   "execution_count": 67,
   "id": "153ef9a2",
   "metadata": {},
   "outputs": [
    {
     "name": "stdout",
     "output_type": "stream",
     "text": [
      "<Response [200]>\n",
      "['MOTOROLA e22s']\n",
      "['(Eco Black']\n",
      "['16MP', '2MP', '8MP']\n",
      "['4 GB', '64 GB']\n",
      "['5000 mAh']\n",
      "['16.51 cm']\n",
      "['13', '0']\n",
      "4\n",
      "₹8,999\n"
     ]
    }
   ],
   "source": [
    "b58=\"https://www.flipkart.com/motorola-e22s-eco-black-64-gb/p/itm3f549884340a4?pid=MOBGGDUHYAMJVF5U&lid=LSTMOBGGDUHYAMJVF5U1IPQCL&marketplace=FLIPKART&q=motorola+mobiles&store=tyy%2F4io&srno=s_4_89&otracker=AS_QueryStore_OrganicAutoSuggest_1_8_na_na_ps&otracker1=AS_QueryStore_OrganicAutoSuggest_1_8_na_na_ps&fm=search-autosuggest&iid=39d8e65a-1aad-456d-af0c-03a6cdc31a83.MOBGGDUHYAMJVF5U.SEARCH&ppt=sp&ppn=sp&qH=63c7eed1de4a5737\"\n",
    "details(b58,headers)"
   ]
  },
  {
   "cell_type": "code",
   "execution_count": 68,
   "id": "81986b34",
   "metadata": {},
   "outputs": [
    {
     "name": "stdout",
     "output_type": "stream",
     "text": [
      "<Response [200]>\n",
      "['MOTOROLA G51']\n",
      "['(Bright Silver']\n",
      "['50MP', '8MP', '2MP', '13MP']\n",
      "['4 GB', '64 GB']\n",
      "['5000 mAh']\n",
      "['17.27 cm']\n",
      "['15,080', '1,879']\n",
      "4.1\n",
      "₹14,999\n"
     ]
    }
   ],
   "source": [
    "b59=\"https://www.flipkart.com/motorola-g51-5g-bright-silver-64-gb/p/itmff62c3fc08a2c?pid=MOBG6FWDYCHRRHD6&lid=LSTMOBG6FWDYCHRRHD6HMH1O2&marketplace=FLIPKART&q=motorola+mobiles&store=tyy%2F4io&srno=s_4_88&otracker=AS_QueryStore_OrganicAutoSuggest_1_8_na_na_ps&otracker1=AS_QueryStore_OrganicAutoSuggest_1_8_na_na_ps&fm=search-autosuggest&iid=39d8e65a-1aad-456d-af0c-03a6cdc31a83.MOBG6FWDYCHRRHD6.SEARCH&ppt=sp&ppn=sp&qH=63c7eed1de4a5737\"\n",
    "details(b59,headers)"
   ]
  },
  {
   "cell_type": "code",
   "execution_count": 69,
   "id": "40dbf8bc",
   "metadata": {},
   "outputs": [
    {
     "name": "stdout",
     "output_type": "stream",
     "text": [
      "<Response [200]>\n",
      "['MOTOROLA E7']\n",
      "['(Tahiti Blue']\n",
      "['13MP', '2MP', '5MP']\n",
      "['4 GB', '64 GB']\n",
      "['5000 mAh']\n",
      "['16.54 cm']\n",
      "['83,358', '7,445']\n",
      "4.1\n",
      "₹8,999\n"
     ]
    }
   ],
   "source": [
    "b60=\"https://www.flipkart.com/motorola-e7-power-tahiti-blue-64-gb/p/itm93e064e6c1650?pid=MOBFVH62332YBPYH&lid=LSTMOBFVH62332YBPYHSG4GTN&marketplace=FLIPKART&q=motorola+mobiles&store=tyy%2F4io&srno=s_4_87&otracker=AS_QueryStore_OrganicAutoSuggest_1_8_na_na_ps&otracker1=AS_QueryStore_OrganicAutoSuggest_1_8_na_na_ps&fm=search-autosuggest&iid=39d8e65a-1aad-456d-af0c-03a6cdc31a83.MOBFVH62332YBPYH.SEARCH&ppt=sp&ppn=sp&qH=63c7eed1de4a5737\"\n",
    "details(b60,headers)"
   ]
  },
  {
   "cell_type": "code",
   "execution_count": 70,
   "id": "6c0dbc74",
   "metadata": {},
   "outputs": [
    {
     "name": "stdout",
     "output_type": "stream",
     "text": [
      "<Response [200]>\n",
      "['MOTOROLA Edge']\n",
      "['(Cyber Teal']\n",
      "['108MP', '8MP', '2MP', '32MP']\n",
      "['6 GB', '128 GB']\n",
      "['5000 mAh']\n",
      "['16.94 cm']\n",
      "['18,884', '2,546']\n",
      "4\n",
      "₹18,999\n"
     ]
    }
   ],
   "source": [
    "b61=\"https://www.flipkart.com/motorola-edge-20-fusion-5g-cyber-teal-128-gb/p/itm638d8c580d653?pid=MOBG4RBEYVQGPYPC&lid=LSTMOBG4RBEYVQGPYPCX9N2WY&marketplace=FLIPKART&q=motorola+mobiles&store=tyy%2F4io&srno=s_4_85&otracker=AS_QueryStore_OrganicAutoSuggest_1_8_na_na_ps&otracker1=AS_QueryStore_OrganicAutoSuggest_1_8_na_na_ps&fm=search-autosuggest&iid=39d8e65a-1aad-456d-af0c-03a6cdc31a83.MOBG4RBEYVQGPYPC.SEARCH&ppt=sp&ppn=sp&qH=63c7eed1de4a5737\"\n",
    "details(b61,headers)"
   ]
  },
  {
   "cell_type": "code",
   "execution_count": 71,
   "id": "0883a1e8",
   "metadata": {},
   "outputs": [
    {
     "name": "stdout",
     "output_type": "stream",
     "text": [
      "<Response [200]>\n",
      "['MOTOROLA G60', 'mpagne']\n",
      "['(Frosted Champagne']\n",
      "['108MP', '8MP', '2MP', '32MP']\n",
      "['6 GB', '128 GB']\n",
      "['6000 mAh']\n",
      "['17.22 cm']\n",
      "['1,27', ',376', '12,912']\n",
      "4.2\n",
      "₹15,999\n"
     ]
    }
   ],
   "source": [
    "b62=\"https://www.flipkart.com/motorola-g60-frosted-champagne-128-gb/p/itm9154ecfab780b?pid=MOBFWSF8KAWGYV9A&lid=LSTMOBFWSF8KAWGYV9ABTQCZJ&marketplace=FLIPKART&q=motorola+mobiles&store=tyy%2F4io&srno=s_4_84&otracker=AS_QueryStore_OrganicAutoSuggest_1_8_na_na_ps&otracker1=AS_QueryStore_OrganicAutoSuggest_1_8_na_na_ps&fm=search-autosuggest&iid=39d8e65a-1aad-456d-af0c-03a6cdc31a83.MOBFWSF8KAWGYV9A.SEARCH&ppt=sp&ppn=sp&qH=63c7eed1de4a5737\"\n",
    "details(b62,headers)"
   ]
  },
  {
   "cell_type": "code",
   "execution_count": 72,
   "id": "fbc4a601",
   "metadata": {},
   "outputs": [
    {
     "name": "stdout",
     "output_type": "stream",
     "text": [
      "<Response [200]>\n",
      "['MOTOROLA G9']\n",
      "['(Sapphire Blue']\n",
      "['48MP', '2MP', '2MP', '8MP']\n",
      "['4 GB', '64 GB', '512 GB']\n",
      "['5000 mAh']\n",
      "['16.51 cm']\n",
      "['46,823', '4,733']\n",
      "4.2\n",
      "₹11,499\n"
     ]
    }
   ],
   "source": [
    "b63=\"https://www.flipkart.com/motorola-g9-sapphire-blue-64-gb/p/itm483cb18471531?pid=MOBFTYWWS6RYZRZH&lid=LSTMOBFTYWWS6RYZRZHHL0ZN0&marketplace=FLIPKART&q=motorola+mobiles&store=tyy%2F4io&srno=s_4_83&otracker=AS_QueryStore_OrganicAutoSuggest_1_8_na_na_ps&otracker1=AS_QueryStore_OrganicAutoSuggest_1_8_na_na_ps&fm=search-autosuggest&iid=39d8e65a-1aad-456d-af0c-03a6cdc31a83.MOBFTYWWS6RYZRZH.SEARCH&ppt=sp&ppn=sp&qH=63c7eed1de4a5737\"\n",
    "details(b63,headers)"
   ]
  },
  {
   "cell_type": "code",
   "execution_count": 73,
   "id": "72a869cb",
   "metadata": {},
   "outputs": [
    {
     "name": "stdout",
     "output_type": "stream",
     "text": [
      "<Response [200]>\n",
      "['MOTOROLA Edge']\n",
      "['(Electric Graphite']\n",
      "['108MP', '8MP', '2MP', '32MP']\n",
      "['8 GB', '128 GB']\n",
      "['5000 mAh']\n",
      "['16.94 cm']\n",
      "['11,500', '1,440']\n",
      "4.1\n",
      "₹20,999\n"
     ]
    }
   ],
   "source": [
    "b64=\"https://www.flipkart.com/motorola-edge-20-fusion-5g-electric-graphite-128-gb/p/itm9c497fb2ea3f0?pid=MOBGYK4MZG9UNZYH&lid=LSTMOBGYK4MZG9UNZYHYTIQG7&marketplace=FLIPKART&q=motorola+mobiles&store=tyy%2F4io&srno=s_4_82&otracker=AS_QueryStore_OrganicAutoSuggest_1_8_na_na_ps&otracker1=AS_QueryStore_OrganicAutoSuggest_1_8_na_na_ps&fm=search-autosuggest&iid=39d8e65a-1aad-456d-af0c-03a6cdc31a83.MOBGYK4MZG9UNZYH.SEARCH&ppt=sp&ppn=sp&qH=63c7eed1de4a5737\"\n",
    "details(b64,headers)"
   ]
  },
  {
   "cell_type": "code",
   "execution_count": 74,
   "id": "2bf463d2",
   "metadata": {},
   "outputs": [
    {
     "name": "stdout",
     "output_type": "stream",
     "text": [
      "<Response [200]>\n",
      "['MOTOROLA Edge']\n",
      "['(Cyber Teal']\n",
      "['108MP', '8MP', '2MP', '32MP']\n",
      "['8 GB', '128 GB']\n",
      "['5000 mAh']\n",
      "['17.0 cm']\n",
      "['11,500', '1,440']\n",
      "4.1\n",
      "₹20,999\n"
     ]
    }
   ],
   "source": [
    "b65=\"https://www.flipkart.com/motorola-edge-20-fusion-5g-cyber-teal-128-gb/p/itm43d77afc0695d?pid=MOBGYK4MMFJDFGJE&lid=LSTMOBGYK4MMFJDFGJEAAHKWA&marketplace=FLIPKART&q=motorola+mobiles&store=tyy%2F4io&srno=s_4_81&otracker=AS_QueryStore_OrganicAutoSuggest_1_8_na_na_ps&otracker1=AS_QueryStore_OrganicAutoSuggest_1_8_na_na_ps&fm=search-autosuggest&iid=39d8e65a-1aad-456d-af0c-03a6cdc31a83.MOBGYK4MMFJDFGJE.SEARCH&ppt=sp&ppn=sp&qH=63c7eed1de4a5737\"\n",
    "details(b65,headers)"
   ]
  },
  {
   "cell_type": "code",
   "execution_count": 75,
   "id": "af4256ce",
   "metadata": {},
   "outputs": [
    {
     "name": "stdout",
     "output_type": "stream",
     "text": [
      "<Response [200]>\n",
      "['MOTOROLA G30']\n",
      "['(Dark Pearl']\n",
      "['64MP', '8MP', '2MP', '2MP', '13MP']\n",
      "['4 GB', '64 GB']\n",
      "['5000 mAh']\n",
      "['16.54 cm']\n",
      "['36,135', '3,545']\n",
      "4.1\n",
      "₹10,999\n"
     ]
    }
   ],
   "source": [
    "b66=\"https://www.flipkart.com/motorola-g30-dark-pearl-64-gb/p/itme5ae7fa01f345?pid=MOBFVXGZWDHJHQGZ&lid=LSTMOBFVXGZWDHJHQGZBI5YJU&marketplace=FLIPKART&q=motorola+mobiles&store=tyy%2F4io&srno=s_4_80&otracker=AS_QueryStore_OrganicAutoSuggest_1_8_na_na_ps&otracker1=AS_QueryStore_OrganicAutoSuggest_1_8_na_na_ps&fm=search-autosuggest&iid=39d8e65a-1aad-456d-af0c-03a6cdc31a83.MOBFVXGZWDHJHQGZ.SEARCH&ppt=sp&ppn=sp&qH=63c7eed1de4a5737\"\n",
    "details(b66,headers)"
   ]
  },
  {
   "cell_type": "code",
   "execution_count": 76,
   "id": "708c5881",
   "metadata": {},
   "outputs": [
    {
     "name": "stdout",
     "output_type": "stream",
     "text": [
      "<Response [200]>\n",
      "['Moto G']\n",
      "['(Black']\n",
      "['13MP', '5MP']\n",
      "['2 GB', '16 GB', '32 GB']\n",
      "['2470 mAh']\n",
      "['12.7 cm']\n",
      "['997', '228']\n",
      "4.2\n",
      "₹16,999\n"
     ]
    }
   ],
   "source": [
    "b67=\"https://www.flipkart.com/virat-fanbox-moto-g-turbo-kohli-black-16-gb/p/itmehqsy7axhvhhk?pid=MOBEHQSYMXZBY5CG&lid=LSTMOBEHQSYMXZBY5CGTQD4DM&marketplace=FLIPKART&q=motorola+mobiles&store=tyy%2F4io&srno=s_4_79&otracker=AS_QueryStore_OrganicAutoSuggest_1_8_na_na_ps&otracker1=AS_QueryStore_OrganicAutoSuggest_1_8_na_na_ps&fm=search-autosuggest&iid=39d8e65a-1aad-456d-af0c-03a6cdc31a83.MOBEHQSYMXZBY5CG.SEARCH&ppt=sp&ppn=sp&qH=63c7eed1de4a5737\"\n",
    "details(b67,headers)"
   ]
  },
  {
   "cell_type": "code",
   "execution_count": 78,
   "id": "b56289a6",
   "metadata": {},
   "outputs": [
    {
     "name": "stdout",
     "output_type": "stream",
     "text": [
      "<Response [200]>\n",
      "['MOTOROLA Razr']\n",
      "['(Black']\n",
      "['16MP', '5MP']\n",
      "['6 GB', '128 GB']\n",
      "['2510 mAh']\n",
      "['15.75 cm']\n",
      "['194', '14']\n",
      "3.7\n",
      "₹1,49,999\n"
     ]
    }
   ],
   "source": [
    "b68=\"https://www.flipkart.com/motorola-razr-black-128-gb/p/itm4c4bee7d49861?pid=MOBFZZC4AWRCPCQY&lid=LSTMOBFZZC4AWRCPCQYMRFCGL&marketplace=FLIPKART&q=motorola+mobiles&store=tyy%2F4io&srno=s_4_77&otracker=AS_QueryStore_OrganicAutoSuggest_1_8_na_na_ps&otracker1=AS_QueryStore_OrganicAutoSuggest_1_8_na_na_ps&fm=search-autosuggest&iid=39d8e65a-1aad-456d-af0c-03a6cdc31a83.MOBFZZC4AWRCPCQY.SEARCH&ppt=sp&ppn=sp&qH=63c7eed1de4a5737\"\n",
    "details(b68,headers)"
   ]
  },
  {
   "cell_type": "code",
   "execution_count": 79,
   "id": "91fc41a2",
   "metadata": {},
   "outputs": [
    {
     "name": "stdout",
     "output_type": "stream",
     "text": [
      "<Response [200]>\n",
      "['MOTOROLA G9']\n",
      "['(Electric Violet']\n",
      "['64MP', '2MP', '2MP', '16MP']\n",
      "['4 GB', '64 GB', '512 GB']\n",
      "['6000 mAh']\n",
      "['17.22 cm']\n",
      "['32,029', '3,136']\n",
      "4.1\n",
      "₹11,999\n"
     ]
    }
   ],
   "source": [
    "b69=\"https://www.flipkart.com/motorola-g9-power-electric-violet-64-gb/p/itma226347832eac?pid=MOBFT8M8BJUYZGGC&lid=LSTMOBFT8M8BJUYZGGCNFV0KK&marketplace=FLIPKART&q=motorola+mobiles&store=tyy%2F4io&srno=s_4_76&otracker=AS_QueryStore_OrganicAutoSuggest_1_8_na_na_ps&otracker1=AS_QueryStore_OrganicAutoSuggest_1_8_na_na_ps&fm=search-autosuggest&iid=39d8e65a-1aad-456d-af0c-03a6cdc31a83.MOBFT8M8BJUYZGGC.SEARCH&ppt=sp&ppn=sp&qH=63c7eed1de4a5737\"\n",
    "details(b69,headers)"
   ]
  },
  {
   "cell_type": "code",
   "execution_count": 80,
   "id": "4bcd1701",
   "metadata": {},
   "outputs": [
    {
     "name": "stdout",
     "output_type": "stream",
     "text": [
      "<Response [200]>\n",
      "['MOTOROLA g22', 'mic Black']\n",
      "['(Cosmic Black']\n",
      "['50MP', '8MP', '2MP', '2MP', '16MP']\n",
      "['4 GB', '64 GB']\n",
      "['5000 mAh']\n",
      "['16.51 cm']\n",
      "['23,584', '2,876']\n",
      "3.7\n",
      "₹9,999\n"
     ]
    }
   ],
   "source": [
    "b70=\"https://www.flipkart.com/motorola-g22-cosmic-black-64-gb/p/itmc196f70400bb2?pid=MOBGAKFYXQJPR654&lid=LSTMOBGAKFYXQJPR654EWNCJR&marketplace=FLIPKART&q=motorola+mobiles&store=tyy%2F4io&srno=s_4_75&otracker=AS_QueryStore_OrganicAutoSuggest_1_8_na_na_ps&otracker1=AS_QueryStore_OrganicAutoSuggest_1_8_na_na_ps&fm=search-autosuggest&iid=39d8e65a-1aad-456d-af0c-03a6cdc31a83.MOBGAKFYXQJPR654.SEARCH&ppt=sp&ppn=sp&qH=63c7eed1de4a5737\"\n",
    "details(b70,headers)"
   ]
  },
  {
   "cell_type": "code",
   "execution_count": 81,
   "id": "38e5f7db",
   "metadata": {},
   "outputs": [
    {
     "name": "stdout",
     "output_type": "stream",
     "text": [
      "<Response [200]>\n",
      "['Moto E4']\n",
      "['(Oxford Blue']\n",
      "['13MP', '5MP']\n",
      "['3 GB', '32 GB', '128 GB']\n",
      "['5000 mAh']\n",
      "['13.97 cm']\n",
      "['4,83', ',359', '82,923']\n",
      "4.1\n",
      "₹9,999\n"
     ]
    }
   ],
   "source": [
    "b71=\"https://www.flipkart.com/moto-e4-plus-oxford-blue-32-gb/p/itmexzbwxp3jstrg?pid=MOBEXHBZHWTSRKDZ&lid=LSTMOBEXHBZHWTSRKDZH4FBKP&marketplace=FLIPKART&q=motorola+mobiles&store=tyy%2F4io&srno=s_4_74&otracker=AS_QueryStore_OrganicAutoSuggest_1_8_na_na_ps&otracker1=AS_QueryStore_OrganicAutoSuggest_1_8_na_na_ps&fm=search-autosuggest&iid=39d8e65a-1aad-456d-af0c-03a6cdc31a83.MOBEXHBZHWTSRKDZ.SEARCH&ppt=sp&ppn=sp&qH=63c7eed1de4a5737\"\n",
    "details(b71,headers)"
   ]
  },
  {
   "cell_type": "code",
   "execution_count": 82,
   "id": "52182dc8",
   "metadata": {},
   "outputs": [
    {
     "name": "stdout",
     "output_type": "stream",
     "text": [
      "<Response [200]>\n",
      "['Moto E4']\n",
      "['(Fine Gold']\n",
      "['13MP', '5MP']\n",
      "['3 GB', '32 GB', '128 GB']\n",
      "['5000 mAh']\n",
      "['13.97 cm']\n",
      "['4,83', ',359', '82,923']\n",
      "4.1\n",
      "₹9,999\n"
     ]
    }
   ],
   "source": [
    "b72=\"https://www.flipkart.com/moto-e4-plus-fine-gold-32-gb/p/itmexzbwxp3jstrg?pid=MOBEU9WRZFNJUNF8&lid=LSTMOBEU9WRZFNJUNF8VJM9UD&marketplace=FLIPKART&q=motorola+mobiles&store=tyy%2F4io&srno=s_4_73&otracker=AS_QueryStore_OrganicAutoSuggest_1_8_na_na_ps&otracker1=AS_QueryStore_OrganicAutoSuggest_1_8_na_na_ps&fm=search-autosuggest&iid=39d8e65a-1aad-456d-af0c-03a6cdc31a83.MOBEU9WRZFNJUNF8.SEARCH&ppt=sp&ppn=sp&qH=63c7eed1de4a5737\"\n",
    "details(b72,headers)"
   ]
  },
  {
   "cell_type": "code",
   "execution_count": 83,
   "id": "0aa75dbc",
   "metadata": {},
   "outputs": [
    {
     "name": "stdout",
     "output_type": "stream",
     "text": [
      "<Response [200]>\n",
      "['Moto X']\n",
      "['(Black Leather']\n",
      "['13MP', '2MP']\n",
      "['2 GB', '16 GB']\n",
      "['2300 mAh']\n",
      "['13.21 cm']\n",
      "['6,219', '1,179']\n",
      "4.2\n",
      "₹23,999\n"
     ]
    }
   ],
   "source": [
    "b73=\"https://www.flipkart.com/moto-x-2nd-generation-black-leather-16-gb/p/itmevt7pswhqcw2y?pid=MOBDZ7WZFXPXWFE8&lid=LSTMOBDZ7WZFXPXWFE86AXC5L&marketplace=FLIPKART&q=motorola+mobiles&store=tyy%2F4io&srno=s_5_108&otracker=AS_QueryStore_OrganicAutoSuggest_1_8_na_na_ps&otracker1=AS_QueryStore_OrganicAutoSuggest_1_8_na_na_ps&fm=search-autosuggest&iid=c8457f83-1f4d-432f-8ba5-6720accff92b.MOBDZ7WZFXPXWFE8.SEARCH&ppt=sp&ppn=sp&qH=63c7eed1de4a5737\"\n",
    "details(b73,headers)"
   ]
  },
  {
   "cell_type": "code",
   "execution_count": 84,
   "id": "21401056",
   "metadata": {},
   "outputs": [
    {
     "name": "stdout",
     "output_type": "stream",
     "text": [
      "<Response [200]>\n",
      "['Moto E6s']\n",
      "['(Polished Graphite']\n",
      "['13MP', '2MP', '8MP']\n",
      "['4 GB', '64 GB', '512 GB']\n",
      "['3000 mAh']\n",
      "['15.49 cm']\n",
      "['79,003', '6,619']\n",
      "4.1\n",
      "₹7,499\n"
     ]
    }
   ],
   "source": [
    "b74=\"https://www.flipkart.com/moto-e6s-polished-graphite-64-gb/p/itm13d6688c18a87?pid=MOBFGB3JBBGZGG58&lid=LSTMOBFGB3JBBGZGG58SIVC3B&marketplace=FLIPKART&q=motorola+mobiles&store=tyy%2F4io&srno=s_5_107&otracker=AS_QueryStore_OrganicAutoSuggest_1_8_na_na_ps&otracker1=AS_QueryStore_OrganicAutoSuggest_1_8_na_na_ps&fm=search-autosuggest&iid=c8457f83-1f4d-432f-8ba5-6720accff92b.MOBFGB3JBBGZGG58.SEARCH&ppt=sp&ppn=sp&qH=63c7eed1de4a5737\"\n",
    "details(b74,headers)"
   ]
  },
  {
   "cell_type": "code",
   "execution_count": 85,
   "id": "b10e3680",
   "metadata": {},
   "outputs": [
    {
     "name": "stdout",
     "output_type": "stream",
     "text": [
      "<Response [200]>\n",
      "['MOTOROLA Edge', 'merald']\n",
      "['(Frosted Emerald']\n",
      "['108MP', '8MP', '16MP', '32MP']\n",
      "['8 GB', '128 GB']\n",
      "['4000 mAh']\n",
      "['17.02 cm']\n",
      "['8,825', '1,291']\n",
      "4.1\n",
      "₹27,999\n"
     ]
    }
   ],
   "source": [
    "b75=\"https://www.flipkart.com/motorola-edge-20-5g-frosted-emerald-128-gb/p/itm8f91196e54e6e?pid=MOBGYK55KQWBAM7G&lid=LSTMOBGYK55KQWBAM7GGJQFPM&marketplace=FLIPKART&q=motorola+mobiles&store=tyy%2F4io&srno=s_5_106&otracker=AS_QueryStore_OrganicAutoSuggest_1_8_na_na_ps&otracker1=AS_QueryStore_OrganicAutoSuggest_1_8_na_na_ps&fm=search-autosuggest&iid=c8457f83-1f4d-432f-8ba5-6720accff92b.MOBGYK55KQWBAM7G.SEARCH&ppt=sp&ppn=sp&qH=63c7eed1de4a5737\"\n",
    "details(b75,headers)"
   ]
  },
  {
   "cell_type": "code",
   "execution_count": 86,
   "id": "e09a99b4",
   "metadata": {},
   "outputs": [
    {
     "name": "stdout",
     "output_type": "stream",
     "text": [
      "<Response [200]>\n",
      "['MOTOROLA Edge', 'Midnight Sky']\n",
      "['(Midnight Sky']\n",
      "['108MP', '16MP', '8MP', '32MP']\n",
      "['8 GB', '128 GB']\n",
      "['4500 mAh']\n",
      "['17.02 cm']\n",
      "['3,053', '566']\n",
      "4\n",
      "₹29,999\n"
     ]
    }
   ],
   "source": [
    "b76=\"https://www.flipkart.com/motorola-edge-20-pro-5g-midnight-sky-128-gb/p/itmf48a9ee95c2e2?pid=MOBGYK5FC23JMY6B&lid=LSTMOBGYK5FC23JMY6BN1WB5R&marketplace=FLIPKART&q=motorola+mobiles&store=tyy%2F4io&srno=s_5_105&otracker=AS_QueryStore_OrganicAutoSuggest_1_8_na_na_ps&otracker1=AS_QueryStore_OrganicAutoSuggest_1_8_na_na_ps&fm=search-autosuggest&iid=c8457f83-1f4d-432f-8ba5-6720accff92b.MOBGYK5FC23JMY6B.SEARCH&ppt=sp&ppn=sp&qH=63c7eed1de4a5737\"\n",
    "details(b76,headers)"
   ]
  },
  {
   "cell_type": "code",
   "execution_count": 87,
   "id": "a008b4a0",
   "metadata": {},
   "outputs": [
    {
     "name": "stdout",
     "output_type": "stream",
     "text": [
      "<Response [200]>\n",
      "['MOTOROLA G10']\n",
      "['(Breeze Blue']\n",
      "['48MP', '8MP', '2MP', '2MP', '8MP']\n",
      "['4 GB', '64 GB']\n",
      "['6000 mAh']\n",
      "['16.54 cm']\n",
      "['61,000', '5,308']\n",
      "4.1\n",
      "₹10,499\n"
     ]
    }
   ],
   "source": [
    "b77=\"https://www.flipkart.com/motorola-g10-power-breeze-blue-64-gb/p/itm8e2997ef47ea5?pid=MOBFVXJ4HJ3TCPUJ&lid=LSTMOBFVXJ4HJ3TCPUJYINLRU&marketplace=FLIPKART&q=motorola+mobiles&store=tyy%2F4io&srno=s_5_104&otracker=AS_QueryStore_OrganicAutoSuggest_1_8_na_na_ps&otracker1=AS_QueryStore_OrganicAutoSuggest_1_8_na_na_ps&fm=search-autosuggest&iid=c8457f83-1f4d-432f-8ba5-6720accff92b.MOBFVXJ4HJ3TCPUJ.SEARCH&ppt=sp&ppn=sp&qH=63c7eed1de4a5737\"\n",
    "details(b77,headers)"
   ]
  },
  {
   "cell_type": "code",
   "execution_count": 88,
   "id": "2a7ebc6b",
   "metadata": {},
   "outputs": [
    {
     "name": "stdout",
     "output_type": "stream",
     "text": [
      "<Response [200]>\n",
      "['MOTOROLA Edge']\n",
      "['(Interstellar Black']\n",
      "['200MP', '50MP', '12MP', '60MP']\n",
      "['12 GB', '256 GB']\n",
      "['4610 mAh']\n",
      "['16.94 cm']\n",
      "['87', '25']\n",
      "4.1\n",
      "₹59,999\n"
     ]
    }
   ],
   "source": [
    "b78=\"https://www.flipkart.com/motorola-edge-30-ultra-interstellar-black-256-gb/p/itm54434f08345f3?pid=MOBGGAPRC96YFDSH&lid=LSTMOBGGAPRC96YFDSHW153R4&marketplace=FLIPKART&q=motorola+mobiles&store=tyy%2F4io&srno=s_5_99&otracker=AS_QueryStore_OrganicAutoSuggest_1_8_na_na_ps&otracker1=AS_QueryStore_OrganicAutoSuggest_1_8_na_na_ps&fm=search-autosuggest&iid=c8457f83-1f4d-432f-8ba5-6720accff92b.MOBGGAPRC96YFDSH.SEARCH&ppt=sp&ppn=sp&qH=63c7eed1de4a5737\"\n",
    "details(b78,headers)"
   ]
  },
  {
   "cell_type": "code",
   "execution_count": 89,
   "id": "593f36d5",
   "metadata": {},
   "outputs": [
    {
     "name": "stdout",
     "output_type": "stream",
     "text": [
      "<Response [200]>\n",
      "['Moto X4']\n",
      "['(Sterling Blue']\n",
      "['12MP', '8MP', '16MP']\n",
      "['4 GB', '64 GB']\n",
      "['3000 mAh']\n",
      "['13.21 cm']\n",
      "['21,119', '3,788']\n",
      "4.3\n",
      "₹23,999\n"
     ]
    }
   ],
   "source": [
    "b79=\"https://www.flipkart.com/moto-x4-sterling-blue-64-gb/p/itmezjzdhfvzc5jj?pid=MOBEZ9U3KMSV2Z6T&lid=LSTMOBEZ9U3KMSV2Z6TKMJ0H7&marketplace=FLIPKART&q=motorola+mobiles&store=tyy%2F4io&srno=s_5_100&otracker=AS_QueryStore_OrganicAutoSuggest_1_8_na_na_ps&otracker1=AS_QueryStore_OrganicAutoSuggest_1_8_na_na_ps&fm=search-autosuggest&iid=c8457f83-1f4d-432f-8ba5-6720accff92b.MOBEZ9U3KMSV2Z6T.SEARCH&ppt=sp&ppn=sp&qH=63c7eed1de4a5737\"\n",
    "details(b79,headers)"
   ]
  },
  {
   "cell_type": "code",
   "execution_count": 90,
   "id": "b9fc205f",
   "metadata": {},
   "outputs": [
    {
     "name": "stdout",
     "output_type": "stream",
     "text": [
      "<Response [200]>\n",
      "['Motorola One', 'Macro']\n",
      "['(Ultra Violet']\n",
      "['13MP', '2MP', '2MP', '8MP']\n",
      "['4 GB', '64 GB', '512 GB']\n",
      "['4000 mAh']\n",
      "['15.75 cm']\n",
      "['22,691', '2,283']\n",
      "4.3\n",
      "₹11,999\n"
     ]
    }
   ],
   "source": [
    "b80=\"https://www.flipkart.com/motorola-one-macro-ultra-violet-64-gb/p/itm11ac43f5cf7d9?pid=MOBFMRF3TZGJFKJR&lid=LSTMOBFMRF3TZGJFKJRWPAV4C&marketplace=FLIPKART&q=motorola+mobiles&store=tyy%2F4io&srno=s_5_97&otracker=AS_QueryStore_OrganicAutoSuggest_1_8_na_na_ps&otracker1=AS_QueryStore_OrganicAutoSuggest_1_8_na_na_ps&fm=search-autosuggest&iid=c8457f83-1f4d-432f-8ba5-6720accff92b.MOBFMRF3TZGJFKJR.SEARCH&ppt=sp&ppn=sp&qH=63c7eed1de4a5737\"\n",
    "details(b80,headers)"
   ]
  },
  {
   "cell_type": "code",
   "execution_count": 91,
   "id": "05962455",
   "metadata": {},
   "outputs": [
    {
     "name": "stdout",
     "output_type": "stream",
     "text": [
      "['64 GB', '64 GB', '128 GB', '128 GB', '128 GB', '128 GB', '64 GB', '64 GB', '64 GB', '128 GB', '128 GB', '128 GB', '32 GB', '64 GB', '64 GB', '64 GB', '128 GB', '128 GB', '256 GB', '128 GB', '64 GB', '128 GB', '128 GB', '128 GB', '128 GB', '128 GB', '128 GB', '32 GB', '128 GB', '128 GB', '64 GB', '128 GB', '128 GB', '64 GB', '512 GB', '128 GB', '256 GB', '512 GB', '64 GB', '128 GB', '256 GB', '128 GB', '128 GB', '128 GB', '128 GB', '64 GB', '128 GB', '128 GB', '64 GB', '128 GB', '128 GB', '64 GB', '128 GB', '32 GB', '128 GB', '128 GB', '128 GB', '64 GB', '512 GB', '64 GB', '64 GB', '64 GB', '128 GB', '128 GB', '512 GB', '128 GB', '128 GB', '64 GB', '32 GB', '128 GB', '512 GB', '64 GB', '128 GB', '128 GB', '16 GB', '512 GB', '128 GB', '128 GB', '64 GB', '256 GB', '64 GB', '512 GB']\n",
      "['48MP', '48MP', '50MP', '50MP', '50MP', '50MP', '50MP', '50MP', '50MP', '50MP', '50MP', '108MP', '16MP', '50MP', '50MP', '50MP', '50MP', '50MP', '200MP', '64MP', '64MP', '108MP', '108MP', '50MP', '50MP', '50MP', '50MP', '16MP', '50MP', '50MP', '50MP', '50MP', '12MP', '64MP', '13MP', '108MP', '16MP', '13MP', '50MP', '108MP', '16MP', '108MP', '50MP', '50MP', '108MP', '16MP', '50MP', '108MP', '16MP', '200MP', '200MP', '50MP', '64MP', '13MP', '64MP', '48MP', '48MP', '48MP', '48MP', '16MP', '50MP', '13MP', '108MP', '108MP', '48MP', '108MP', '108MP', '64MP', '13MP', '16MP', '64MP', '50MP', '13MP', '13MP', '13MP', '13MP', '108MP', '108MP', '48MP', '200MP', '12MP', '13MP']\n",
      "['8MP', '8MP', '16MP', '16MP', '16MP', '16MP', '13MP', '16MP', '16MP', '16MP', '16MP', '32MP', '8MP', '16MP', '13MP', '13MP', '16MP', '16MP', '60MP', '16MP', '16MP', '32MP', '32MP', '16MP', '32MP', '32MP', '32MP', '2MP', '16MP', '32MP', '16MP', '16MP', '5MP', '16MP', '8MP', '32MP', '8MP', '8MP', '8MP', '32MP', '8MP', '32MP', '16MP', '60MP', '32MP', '8MP', '60MP', '32MP', '8MP', '60MP', '60MP', '8MP', '16MP', '5MP', '16MP', '16MP', '16MP', '8MP', '8MP', '8MP', '13MP', '5MP', '32MP', '32MP', '8MP', '32MP', '32MP', '13MP', '5MP', '5MP', '16MP', '16MP', '5MP', '5MP', '2MP', '8MP', '32MP', '32MP', '8MP', '60MP', '16MP', '8MP']\n",
      "['[', '(Carbon Gray', '[', '(Pink Clay', '[', '(Meterorite Grey', '[', '(Frosted Blue', '[', '(Arctic Blue', '[', '(Midnight Gray', '[', '(Indigo Blue', '[', '(Metallic White', '[', '(Charcoal Grey', '[', '(Frosted Blue', '[', '(Metallic White', '[', '(Soft Silver', '[', '(Misty Silver', '[', '(Mineral Gray', '[', '(Baby Blue', '[', '(Meteorite Grey', '[', '(Charcoal Grey', '[', '(Midnight Gray', '[', '(Starlight White', '[', '(Dynamic Gray', '[', '(Frosted Champagne', '[', '(Dynamic Gray', '[', '(Dynamic Gray', '[', '(White Lily', '[', '(Meteor Grey', '[', '(Aurora Green', '[', '(Solar Gold', '[', '(Slate Gray', '[', '(Neptune Green', '[', '(Cosmic grey', '[', '(Metallic Rose', '[', '(White Lily', '[', '(Lunar Grey', '[', '(Dynamic Gray', '[', '(Rich Cranberry', '[', '(Iridescent Cloud', '[', '(Royal Blue', '[', '(Space Blue', '[', '(Eco Black', '[', '(Frosted Pearl', '[', '(Arctic Blue', '[', '(Frosted Onyx', '[', '(Meterorite Grey', '[', '(Stardust White', '[', '(Electric Graphite', '[', '(Slate Gray', '[', '(Cosmos Blue', '[', '(Cyber Teal', '[', '(Misty Silver', '[', '(Starlight White', '[', '(Interstellar Black', '[', '(Arctic Blue', '[', '(Moonlight White', '[', '(Coral Red', '[', '(Twilight Blue', '[', '(Volcanic Grey', '[', '(Frosted Silver', '[', '(Aurora Grey', '[', '(Misty Blue', '[', '(Eco Black', '[', '(Bright Silver', '[', '(Tahiti Blue', '[', '(Cyber Teal', '[', '(Frosted Champagne', '[', '(Sapphire Blue', '[', '(Electric Graphite', '[', '(Cyber Teal', '[', '(Dark Pearl', '[', '(Black', '[', '[', '(Black', '[', '(Electric Violet', '[', '(Cosmic Black', '[', '(Oxford Blue', '[', '(Fine Gold', '[', '(Black Leather', '[', '(Polished Graphite', '[', '(Frosted Emerald', '[', '(Midnight Sky', '[', '(Breeze Blue', '[', '(Interstellar Black', '[', '(Sterling Blue', '[', '(Ultra Violet']\n",
      "['MOTOROLA e40', 'MOTOROLA e40', 'MOTOROLA g82', 'MOTOROLA G62', 'Moto G71', 'MOTOROLA G62', 'MOTOROLA G51', 'MOTOROLA g52', 'MOTOROLA g52', 'MOTOROLA G62', 'MOTOROLA g52', 'MOTOROLA G60', 'MOTOROLA e32s', 'MOTOROLA G32', 'MOTOROLA g31', 'MOTOROLA g31', 'MOTOROLA g52', 'MOTOROLA G62', 'MOTOROLA Edge', 'MOTOROLA G40', 'MOTOROLA G40', 'MOTOROLA G60', 'MOTOROLA G60', 'MOTOROLA g82', 'MOTOROLA edge', 'MOTOROLA edge', 'MOTOROLA Edge', 'MOTOROLA e32s', 'Moto G71', 'MOTOROLA Edge', 'MOTOROLA g42', 'MOTOROLA g82', 'Moto G5', 'MOTOROLA G40', 'Moto E6s', 'MOTOROLA Edge', 'MOTOROLA G8', 'Motorola One', 'MOTOROLA e32', 'MOTOROLA Edge', 'MOTOROLA G8', 'MOTOROLA Edge', 'MOTOROLA g82', 'MOTOROLA Edge', 'MOTOROLA Edge', 'MOTOROLA e32s', 'MOTOROLA Edge', 'MOTOROLA Edge', 'MOTOROLA e32s', 'MOTOROLA Edge', 'MOTOROLA Edge', 'MOTOROLA e32', 'MOTOROLA One', 'MOTOROLA E7', 'MOTOROLA One', 'Moto G', 'Moto G', 'MOTOROLA G10', 'MOTOROLA E7', 'MOTOROLA e22s', 'MOTOROLA G51', 'MOTOROLA E7', 'MOTOROLA Edge', 'MOTOROLA G60', 'MOTOROLA G9', 'MOTOROLA Edge', 'MOTOROLA Edge', 'MOTOROLA G30', 'Moto G', 'MOTOROLA Razr', 'MOTOROLA G9', 'MOTOROLA g22', 'Moto E4', 'Moto E4', 'Moto X', 'Moto E6s', 'MOTOROLA Edge', 'MOTOROLA Edge', 'MOTOROLA G10', 'MOTOROLA Edge', 'Moto X4', 'Motorola One']\n",
      "['4 GB', '4 GB', '6 GB', '8 GB', '6 GB', '8 GB', '4 GB', '4 GB', '4 GB', '6 GB', '6 GB', '6 GB', '3 GB', '4 GB', '4 GB', '4 GB', '6 GB', '6 GB', '12 GB', '6 GB', '4 GB', '6 GB', '6 GB', '8 GB', '6 GB', '6 GB', '8 GB', '3 GB', '6 GB', '8 GB', '4 GB', '8 GB', '4 GB', '4 GB', '4 GB', '8 GB', '4 GB', '4 GB', '4 GB', '8 GB', '4 GB', '8 GB', '8 GB', '8 GB', '8 GB', '4 GB', '8 GB', '8 GB', '4 GB', '8 GB', '8 GB', '4 GB', '6 GB', '2 GB', '6 GB', '6 GB', '6 GB', '4 GB', '4 GB', '4 GB', '4 GB', '4 GB', '6 GB', '6 GB', '4 GB', '8 GB', '8 GB', '4 GB', '2 GB', '6 GB', '4 GB', '4 GB', '3 GB', '3 GB', '2 GB', '4 GB', '8 GB', '8 GB', '4 GB', '12 GB', '4 GB', '4 GB']\n",
      "['5000 mAh', '5000 mAh', '5000 mAh', '5000 mAh', '5000 mAh', '5000 mAh', '5000 mAh', '5000 mAh', '5000 mAh', '5000 mAh', '5000 mAh', '6000 mAh', '5000 mAh', '5000 mAh', '5000 mAh', '5000 mAh', '5000 mAh', '5000 mAh', '4610 mAh', '6000 mAh', '6000 mAh', '6000 mAh', '6000 mAh', '5000 mAh', '4020 mAh', '4020 mAh', '4400 mAh', '5000 mAh', '5000 mAh', '4400 mAh', '5000 mAh', '5000 mAh', '3000 mAh', '6000 mAh', '3000 mAh', '4500 mAh', '5000 mAh', '4000 mAh', '5000 mAh', '4000 mAh', '5000 mAh', '4000 mAh', '5000 mAh', '4800 mAh', '5000 mAh', '5000 mAh', '4800 mAh', '5000 mAh', '5000 mAh', '4610 mAh', '4610 mAh', '5000 mAh', '5000 mAh', '5000 mAh', '5000 mAh', '5000 mAh', '5000 mAh', '6000 mAh', '5000 mAh', '5000 mAh', '5000 mAh', '5000 mAh', '5000 mAh', '6000 mAh', '5000 mAh', '5000 mAh', '5000 mAh', '5000 mAh', '2470 mAh', '2510 mAh', '6000 mAh', '5000 mAh', '5000 mAh', '5000 mAh', '2300 mAh', '3000 mAh', '4000 mAh', '4500 mAh', '6000 mAh', '4610 mAh', '3000 mAh', '4000 mAh']\n",
      "['16.51 cm', '16.51 cm', '16.76 cm', '16.64 cm', '16.26 cm', '16.64 cm', '17.27 cm', '16.76 cm', '16.76 cm', '16.64 cm', '16.76 cm', '17.22 cm', '16.51 cm', '16.64 cm', '16.26 cm', '16.26 cm', '16.76 cm', '16.64 cm', '16.94 cm', '17.22 cm', '17.22 cm', '17.27 cm', '17.27 cm', '16.76 cm', '16.64 cm', '16.64 cm', '16.64 cm', '16.51 cm', '16.26 cm', '16.64 cm', '16.43 cm', '16.76 cm', '13.21 cm', '17.22 cm', '15.49 cm', '17.02 cm', '16.51 cm', '15.75 cm', '16.51 cm', '17.02 cm', '16.51 cm', '17.02 cm', '16.76 cm', '17.02 cm', '16.94 cm', '16.51 cm', '17.02 cm', '17.0 cm', '16.51 cm', '16.94 cm', '16.94 cm', '16.51 cm', '16.51 cm', '16.54 cm', '16.51 cm', '16.94 cm', '16.94 cm', '16.54 cm', '16.51 cm', '16.51 cm', '17.27 cm', '16.54 cm', '16.94 cm', '17.22 cm', '16.51 cm', '16.94 cm', '17.0 cm', '16.54 cm', '12.7 cm', '15.75 cm', '17.22 cm', '16.51 cm', '13.97 cm', '13.97 cm', '13.21 cm', '15.49 cm', '17.02 cm', '17.02 cm', '16.54 cm', '16.94 cm', '13.21 cm', '15.75 cm']\n",
      "['₹9,999', '₹9,999', '₹21,499', '₹19,999', '₹16,999', '₹19,999', '₹14,999', '₹14,499', '₹14,499', '₹17,999', '₹16,499', '₹15,999', '₹7,995', '₹12,999', '₹10,499', '₹10,499', '₹16,499', '₹17,999', '₹59,999', '₹13,499', '₹14,499', '₹15,999', '₹15,999', '₹22,999', '₹27,999', '₹27,999', '₹39,999', '₹7,949', '₹16,999', '₹39,999', '₹11,999', '₹22,999', '₹16,999', '₹14,499', '₹7,499', '₹29,999', '₹9,999', '₹11,999', '₹9,999', '₹27,999', '₹9,999', '₹27,999', '₹22,999', '₹39,999', '₹20,999', '₹9,999', '₹39,999', '₹20,999', '₹9,999', '₹54,999', '₹54,999', '₹9,999', '₹16,999', '₹6,999', '₹16,999', '₹24,999', '₹24,999', '₹10,499', '₹9,499', '₹8,999', '₹14,999', '₹8,999', '₹18,999', '₹15,999', '₹11,499', '₹20,999', '₹20,999', '₹10,999', '₹16,999', '₹1,49,999', '₹11,999', '₹9,999', '₹9,999', '₹9,999', '₹23,999', '₹7,499', '₹27,999', '₹29,999', '₹10,499', '₹59,999', '₹23,999', '₹11,999']\n",
      "['4.1', '4.1', '4.1', '4.1', '4.2', '4.1', '4.1', '4.2', '4.2', '4.1', '4.2', '4.2', '3.7', '4.2', '4.2', '4.2', '4.2', '4.1', '4.1', '4.2', '4.2', '4.2', '4.2', '4.1', '4.2', '4.2', '4.3', '3.7', '4.2', '4.3', '4.1', '4.1', '4.3', '4.2', '4.1', '4', '4.3', '4.3', '4.1', '4.1', '4.3', '4.1', '4.1', '4', '4.1', '3.9', '4', '4.1', '3.9', '4.4', '4.4', '4.1', '4.4', '4.1', '4.4', '4.2', '4.2', '4.1', '4.2', '4', '4.1', '4.1', '4', '4.2', '4.2', '4.1', '4.1', '4.1', '4.2', '3.7', '4.1', '3.7', '4.1', '4.1', '4.2', '4.1', '4.1', '4', '4.1', '4.1', '4.3', '4.3']\n",
      "['44,238', '44,238', '4,028', '1,218', '20,077', '1,218', '15,080', '7,260', '7,260', '4,637', '15,194', '1,27', '112', '8,289', '29,792', '29,792', '15,194', '4,637', '87', '54,656', '32,732', '1,27', '1,27', '2,414', '5,218', '5,218', '1,332', '112', '20,077', '1,332', '1,992', '2,414', '2,18', '32,732', '79,003', '3,053', '63,777', '22,691', '52', '8,825', '63,777', '8,825', '2,414', '842', '11,500', '1,213', '842', '11,500', '1,213', '836', '836', '52', '1,01', '10,337', '1,01', '14,790', '14,790', '61,000', '48,518', '13', '15,080', '83,358', '18,884', '1,27', '46,823', '11,500', '11,500', '36,135', '997', '194', '32,029', '23,584', '4,83', '4,83', '6,219', '79,003', '8,825', '3,053', '61,000', '87', '21,119', '22,691']\n"
     ]
    }
   ],
   "source": [
    "print(storage)\n",
    "print(camera_px)\n",
    "print(self_px)\n",
    "print(colour)\n",
    "print(name)\n",
    "print(ram)\n",
    "# print(tech)\n",
    "print(battery)\n",
    "print(display)\n",
    "print(price)\n",
    "# print(os_sys)\n",
    "print(star_rate)\n",
    "print(user_rate)"
   ]
  },
  {
   "cell_type": "code",
   "execution_count": 92,
   "id": "49de60a3",
   "metadata": {},
   "outputs": [
    {
     "data": {
      "text/plain": [
       "list"
      ]
     },
     "execution_count": 92,
     "metadata": {},
     "output_type": "execute_result"
    }
   ],
   "source": [
    "type(colour)"
   ]
  },
  {
   "cell_type": "code",
   "execution_count": 93,
   "id": "3e2fd8e7",
   "metadata": {},
   "outputs": [],
   "source": [
    "colour=[i for i in colour if i!='[']"
   ]
  },
  {
   "cell_type": "code",
   "execution_count": 94,
   "id": "5ec3123d",
   "metadata": {},
   "outputs": [
    {
     "data": {
      "text/plain": [
       "82"
      ]
     },
     "execution_count": 94,
     "metadata": {},
     "output_type": "execute_result"
    }
   ],
   "source": [
    "len(colour)"
   ]
  },
  {
   "cell_type": "code",
   "execution_count": 95,
   "id": "f04bb6ca",
   "metadata": {},
   "outputs": [],
   "source": [
    "camera_px=[i.replace(\"MP\",\"\") for i in camera_px]"
   ]
  },
  {
   "cell_type": "code",
   "execution_count": 96,
   "id": "5cb7d6c9",
   "metadata": {},
   "outputs": [],
   "source": [
    "self_px=[i.replace(\"MP\",\"\") for i in self_px]"
   ]
  },
  {
   "cell_type": "code",
   "execution_count": 97,
   "id": "cfb85234",
   "metadata": {},
   "outputs": [],
   "source": [
    "storage=[i.replace(\"GB\",\" \") for i in storage]"
   ]
  },
  {
   "cell_type": "code",
   "execution_count": 98,
   "id": "c9876251",
   "metadata": {},
   "outputs": [],
   "source": [
    "ram=[i.replace(\"GB\",\" \") for i in ram]"
   ]
  },
  {
   "cell_type": "code",
   "execution_count": 99,
   "id": "842b9972",
   "metadata": {},
   "outputs": [],
   "source": [
    "battery=[i.replace(\"mAH\",\"\") for i in battery]\n",
    "battery=[i.replace(\"mAh\",\"\") for i in battery]"
   ]
  },
  {
   "cell_type": "code",
   "execution_count": 100,
   "id": "217479c1",
   "metadata": {},
   "outputs": [],
   "source": [
    "colour=[i.replace(\"(\",\"\") for i in colour]\n"
   ]
  },
  {
   "cell_type": "code",
   "execution_count": 101,
   "id": "c81f0368",
   "metadata": {},
   "outputs": [],
   "source": [
    "price=[i.replace(\"₹\",\"\") for i in price]\n",
    "price=[i.replace(\",\",\"\") for i in price]"
   ]
  },
  {
   "cell_type": "code",
   "execution_count": 102,
   "id": "c5d0418e",
   "metadata": {},
   "outputs": [],
   "source": [
    "display=[i.replace(\" cm\",\"\") for i in display]"
   ]
  },
  {
   "cell_type": "code",
   "execution_count": 103,
   "id": "4be87772",
   "metadata": {},
   "outputs": [],
   "source": [
    "user_rate=[i.replace(\",\",\"\") for i in user_rate]"
   ]
  },
  {
   "cell_type": "code",
   "execution_count": 104,
   "id": "5c9c1062",
   "metadata": {},
   "outputs": [],
   "source": [
    "storage=[float(i) for i in storage]\n",
    "camera_px=[int(i) for i in camera_px]\n",
    "self_px=[int(i) for i in self_px]\n",
    "ram=[float(i) for i in ram]\n",
    "# tech=[float(i) for i in tech]\n",
    "battery=[float(i) for i in battery]\n",
    "display=[float(i) for i in display]\n",
    "price=[float(i) for i in price]\n",
    "star_rate=[float(i) for i in star_rate]\n",
    "user_rate=[float(i) for i in user_rate]"
   ]
  },
  {
   "cell_type": "code",
   "execution_count": 105,
   "id": "acdfc259",
   "metadata": {},
   "outputs": [
    {
     "data": {
      "text/plain": [
       "82"
      ]
     },
     "execution_count": 105,
     "metadata": {},
     "output_type": "execute_result"
    }
   ],
   "source": [
    "len(colour)"
   ]
  },
  {
   "cell_type": "code",
   "execution_count": 106,
   "id": "34bcb5f7",
   "metadata": {},
   "outputs": [],
   "source": [
    "r1=pd.DataFrame({\"Name\":name,\"Colour\":colour,\"Storage\":storage,\"Battery\":battery,\n",
    "               \"Camera_Pixel\":camera_px,\"Selfie_cam_pixel\":self_px,\"Display_size\":display,\n",
    "                \"RAM\":ram,\n",
    "               \"Star_ratings\":star_rate,\"Users_rated\":user_rate,\"Price\":price})"
   ]
  },
  {
   "cell_type": "code",
   "execution_count": 107,
   "id": "0ae0404c",
   "metadata": {},
   "outputs": [
    {
     "data": {
      "text/html": [
       "<div>\n",
       "<style scoped>\n",
       "    .dataframe tbody tr th:only-of-type {\n",
       "        vertical-align: middle;\n",
       "    }\n",
       "\n",
       "    .dataframe tbody tr th {\n",
       "        vertical-align: top;\n",
       "    }\n",
       "\n",
       "    .dataframe thead th {\n",
       "        text-align: right;\n",
       "    }\n",
       "</style>\n",
       "<table border=\"1\" class=\"dataframe\">\n",
       "  <thead>\n",
       "    <tr style=\"text-align: right;\">\n",
       "      <th></th>\n",
       "      <th>Name</th>\n",
       "      <th>Colour</th>\n",
       "      <th>Storage</th>\n",
       "      <th>Battery</th>\n",
       "      <th>Camera_Pixel</th>\n",
       "      <th>Selfie_cam_pixel</th>\n",
       "      <th>Display_size</th>\n",
       "      <th>RAM</th>\n",
       "      <th>Star_ratings</th>\n",
       "      <th>Users_rated</th>\n",
       "      <th>Price</th>\n",
       "    </tr>\n",
       "  </thead>\n",
       "  <tbody>\n",
       "    <tr>\n",
       "      <th>0</th>\n",
       "      <td>MOTOROLA e40</td>\n",
       "      <td>Carbon Gray</td>\n",
       "      <td>64.0</td>\n",
       "      <td>5000.0</td>\n",
       "      <td>48</td>\n",
       "      <td>8</td>\n",
       "      <td>16.51</td>\n",
       "      <td>4.0</td>\n",
       "      <td>4.1</td>\n",
       "      <td>44238.0</td>\n",
       "      <td>9999.0</td>\n",
       "    </tr>\n",
       "    <tr>\n",
       "      <th>1</th>\n",
       "      <td>MOTOROLA e40</td>\n",
       "      <td>Pink Clay</td>\n",
       "      <td>64.0</td>\n",
       "      <td>5000.0</td>\n",
       "      <td>48</td>\n",
       "      <td>8</td>\n",
       "      <td>16.51</td>\n",
       "      <td>4.0</td>\n",
       "      <td>4.1</td>\n",
       "      <td>44238.0</td>\n",
       "      <td>9999.0</td>\n",
       "    </tr>\n",
       "    <tr>\n",
       "      <th>2</th>\n",
       "      <td>MOTOROLA g82</td>\n",
       "      <td>Meterorite Grey</td>\n",
       "      <td>128.0</td>\n",
       "      <td>5000.0</td>\n",
       "      <td>50</td>\n",
       "      <td>16</td>\n",
       "      <td>16.76</td>\n",
       "      <td>6.0</td>\n",
       "      <td>4.1</td>\n",
       "      <td>4028.0</td>\n",
       "      <td>21499.0</td>\n",
       "    </tr>\n",
       "    <tr>\n",
       "      <th>3</th>\n",
       "      <td>MOTOROLA G62</td>\n",
       "      <td>Frosted Blue</td>\n",
       "      <td>128.0</td>\n",
       "      <td>5000.0</td>\n",
       "      <td>50</td>\n",
       "      <td>16</td>\n",
       "      <td>16.64</td>\n",
       "      <td>8.0</td>\n",
       "      <td>4.1</td>\n",
       "      <td>1218.0</td>\n",
       "      <td>19999.0</td>\n",
       "    </tr>\n",
       "    <tr>\n",
       "      <th>4</th>\n",
       "      <td>Moto G71</td>\n",
       "      <td>Arctic Blue</td>\n",
       "      <td>128.0</td>\n",
       "      <td>5000.0</td>\n",
       "      <td>50</td>\n",
       "      <td>16</td>\n",
       "      <td>16.26</td>\n",
       "      <td>6.0</td>\n",
       "      <td>4.2</td>\n",
       "      <td>20077.0</td>\n",
       "      <td>16999.0</td>\n",
       "    </tr>\n",
       "    <tr>\n",
       "      <th>5</th>\n",
       "      <td>MOTOROLA G62</td>\n",
       "      <td>Midnight Gray</td>\n",
       "      <td>128.0</td>\n",
       "      <td>5000.0</td>\n",
       "      <td>50</td>\n",
       "      <td>16</td>\n",
       "      <td>16.64</td>\n",
       "      <td>8.0</td>\n",
       "      <td>4.1</td>\n",
       "      <td>1218.0</td>\n",
       "      <td>19999.0</td>\n",
       "    </tr>\n",
       "    <tr>\n",
       "      <th>6</th>\n",
       "      <td>MOTOROLA G51</td>\n",
       "      <td>Indigo Blue</td>\n",
       "      <td>64.0</td>\n",
       "      <td>5000.0</td>\n",
       "      <td>50</td>\n",
       "      <td>13</td>\n",
       "      <td>17.27</td>\n",
       "      <td>4.0</td>\n",
       "      <td>4.1</td>\n",
       "      <td>15080.0</td>\n",
       "      <td>14999.0</td>\n",
       "    </tr>\n",
       "    <tr>\n",
       "      <th>7</th>\n",
       "      <td>MOTOROLA g52</td>\n",
       "      <td>Metallic White</td>\n",
       "      <td>64.0</td>\n",
       "      <td>5000.0</td>\n",
       "      <td>50</td>\n",
       "      <td>16</td>\n",
       "      <td>16.76</td>\n",
       "      <td>4.0</td>\n",
       "      <td>4.2</td>\n",
       "      <td>7260.0</td>\n",
       "      <td>14499.0</td>\n",
       "    </tr>\n",
       "    <tr>\n",
       "      <th>8</th>\n",
       "      <td>MOTOROLA g52</td>\n",
       "      <td>Charcoal Grey</td>\n",
       "      <td>64.0</td>\n",
       "      <td>5000.0</td>\n",
       "      <td>50</td>\n",
       "      <td>16</td>\n",
       "      <td>16.76</td>\n",
       "      <td>4.0</td>\n",
       "      <td>4.2</td>\n",
       "      <td>7260.0</td>\n",
       "      <td>14499.0</td>\n",
       "    </tr>\n",
       "    <tr>\n",
       "      <th>9</th>\n",
       "      <td>MOTOROLA G62</td>\n",
       "      <td>Frosted Blue</td>\n",
       "      <td>128.0</td>\n",
       "      <td>5000.0</td>\n",
       "      <td>50</td>\n",
       "      <td>16</td>\n",
       "      <td>16.64</td>\n",
       "      <td>6.0</td>\n",
       "      <td>4.1</td>\n",
       "      <td>4637.0</td>\n",
       "      <td>17999.0</td>\n",
       "    </tr>\n",
       "    <tr>\n",
       "      <th>10</th>\n",
       "      <td>MOTOROLA g52</td>\n",
       "      <td>Metallic White</td>\n",
       "      <td>128.0</td>\n",
       "      <td>5000.0</td>\n",
       "      <td>50</td>\n",
       "      <td>16</td>\n",
       "      <td>16.76</td>\n",
       "      <td>6.0</td>\n",
       "      <td>4.2</td>\n",
       "      <td>15194.0</td>\n",
       "      <td>16499.0</td>\n",
       "    </tr>\n",
       "    <tr>\n",
       "      <th>11</th>\n",
       "      <td>MOTOROLA G60</td>\n",
       "      <td>Soft Silver</td>\n",
       "      <td>128.0</td>\n",
       "      <td>6000.0</td>\n",
       "      <td>108</td>\n",
       "      <td>32</td>\n",
       "      <td>17.22</td>\n",
       "      <td>6.0</td>\n",
       "      <td>4.2</td>\n",
       "      <td>127.0</td>\n",
       "      <td>15999.0</td>\n",
       "    </tr>\n",
       "    <tr>\n",
       "      <th>12</th>\n",
       "      <td>MOTOROLA e32s</td>\n",
       "      <td>Misty Silver</td>\n",
       "      <td>32.0</td>\n",
       "      <td>5000.0</td>\n",
       "      <td>16</td>\n",
       "      <td>8</td>\n",
       "      <td>16.51</td>\n",
       "      <td>3.0</td>\n",
       "      <td>3.7</td>\n",
       "      <td>112.0</td>\n",
       "      <td>7995.0</td>\n",
       "    </tr>\n",
       "    <tr>\n",
       "      <th>13</th>\n",
       "      <td>MOTOROLA G32</td>\n",
       "      <td>Mineral Gray</td>\n",
       "      <td>64.0</td>\n",
       "      <td>5000.0</td>\n",
       "      <td>50</td>\n",
       "      <td>16</td>\n",
       "      <td>16.64</td>\n",
       "      <td>4.0</td>\n",
       "      <td>4.2</td>\n",
       "      <td>8289.0</td>\n",
       "      <td>12999.0</td>\n",
       "    </tr>\n",
       "    <tr>\n",
       "      <th>14</th>\n",
       "      <td>MOTOROLA g31</td>\n",
       "      <td>Baby Blue</td>\n",
       "      <td>64.0</td>\n",
       "      <td>5000.0</td>\n",
       "      <td>50</td>\n",
       "      <td>13</td>\n",
       "      <td>16.26</td>\n",
       "      <td>4.0</td>\n",
       "      <td>4.2</td>\n",
       "      <td>29792.0</td>\n",
       "      <td>10499.0</td>\n",
       "    </tr>\n",
       "    <tr>\n",
       "      <th>15</th>\n",
       "      <td>MOTOROLA g31</td>\n",
       "      <td>Meteorite Grey</td>\n",
       "      <td>64.0</td>\n",
       "      <td>5000.0</td>\n",
       "      <td>50</td>\n",
       "      <td>13</td>\n",
       "      <td>16.26</td>\n",
       "      <td>4.0</td>\n",
       "      <td>4.2</td>\n",
       "      <td>29792.0</td>\n",
       "      <td>10499.0</td>\n",
       "    </tr>\n",
       "    <tr>\n",
       "      <th>16</th>\n",
       "      <td>MOTOROLA g52</td>\n",
       "      <td>Charcoal Grey</td>\n",
       "      <td>128.0</td>\n",
       "      <td>5000.0</td>\n",
       "      <td>50</td>\n",
       "      <td>16</td>\n",
       "      <td>16.76</td>\n",
       "      <td>6.0</td>\n",
       "      <td>4.2</td>\n",
       "      <td>15194.0</td>\n",
       "      <td>16499.0</td>\n",
       "    </tr>\n",
       "    <tr>\n",
       "      <th>17</th>\n",
       "      <td>MOTOROLA G62</td>\n",
       "      <td>Midnight Gray</td>\n",
       "      <td>128.0</td>\n",
       "      <td>5000.0</td>\n",
       "      <td>50</td>\n",
       "      <td>16</td>\n",
       "      <td>16.64</td>\n",
       "      <td>6.0</td>\n",
       "      <td>4.1</td>\n",
       "      <td>4637.0</td>\n",
       "      <td>17999.0</td>\n",
       "    </tr>\n",
       "    <tr>\n",
       "      <th>18</th>\n",
       "      <td>MOTOROLA Edge</td>\n",
       "      <td>Starlight White</td>\n",
       "      <td>256.0</td>\n",
       "      <td>4610.0</td>\n",
       "      <td>200</td>\n",
       "      <td>60</td>\n",
       "      <td>16.94</td>\n",
       "      <td>12.0</td>\n",
       "      <td>4.1</td>\n",
       "      <td>87.0</td>\n",
       "      <td>59999.0</td>\n",
       "    </tr>\n",
       "    <tr>\n",
       "      <th>19</th>\n",
       "      <td>MOTOROLA G40</td>\n",
       "      <td>Dynamic Gray</td>\n",
       "      <td>128.0</td>\n",
       "      <td>6000.0</td>\n",
       "      <td>64</td>\n",
       "      <td>16</td>\n",
       "      <td>17.22</td>\n",
       "      <td>6.0</td>\n",
       "      <td>4.2</td>\n",
       "      <td>54656.0</td>\n",
       "      <td>13499.0</td>\n",
       "    </tr>\n",
       "    <tr>\n",
       "      <th>20</th>\n",
       "      <td>MOTOROLA G40</td>\n",
       "      <td>Frosted Champagne</td>\n",
       "      <td>64.0</td>\n",
       "      <td>6000.0</td>\n",
       "      <td>64</td>\n",
       "      <td>16</td>\n",
       "      <td>17.22</td>\n",
       "      <td>4.0</td>\n",
       "      <td>4.2</td>\n",
       "      <td>32732.0</td>\n",
       "      <td>14499.0</td>\n",
       "    </tr>\n",
       "    <tr>\n",
       "      <th>21</th>\n",
       "      <td>MOTOROLA G60</td>\n",
       "      <td>Dynamic Gray</td>\n",
       "      <td>128.0</td>\n",
       "      <td>6000.0</td>\n",
       "      <td>108</td>\n",
       "      <td>32</td>\n",
       "      <td>17.27</td>\n",
       "      <td>6.0</td>\n",
       "      <td>4.2</td>\n",
       "      <td>127.0</td>\n",
       "      <td>15999.0</td>\n",
       "    </tr>\n",
       "    <tr>\n",
       "      <th>22</th>\n",
       "      <td>MOTOROLA G60</td>\n",
       "      <td>Dynamic Gray</td>\n",
       "      <td>128.0</td>\n",
       "      <td>6000.0</td>\n",
       "      <td>108</td>\n",
       "      <td>32</td>\n",
       "      <td>17.27</td>\n",
       "      <td>6.0</td>\n",
       "      <td>4.2</td>\n",
       "      <td>127.0</td>\n",
       "      <td>15999.0</td>\n",
       "    </tr>\n",
       "    <tr>\n",
       "      <th>23</th>\n",
       "      <td>MOTOROLA g82</td>\n",
       "      <td>White Lily</td>\n",
       "      <td>128.0</td>\n",
       "      <td>5000.0</td>\n",
       "      <td>50</td>\n",
       "      <td>16</td>\n",
       "      <td>16.76</td>\n",
       "      <td>8.0</td>\n",
       "      <td>4.1</td>\n",
       "      <td>2414.0</td>\n",
       "      <td>22999.0</td>\n",
       "    </tr>\n",
       "    <tr>\n",
       "      <th>24</th>\n",
       "      <td>MOTOROLA edge</td>\n",
       "      <td>Meteor Grey</td>\n",
       "      <td>128.0</td>\n",
       "      <td>4020.0</td>\n",
       "      <td>50</td>\n",
       "      <td>32</td>\n",
       "      <td>16.64</td>\n",
       "      <td>6.0</td>\n",
       "      <td>4.2</td>\n",
       "      <td>5218.0</td>\n",
       "      <td>27999.0</td>\n",
       "    </tr>\n",
       "    <tr>\n",
       "      <th>25</th>\n",
       "      <td>MOTOROLA edge</td>\n",
       "      <td>Aurora Green</td>\n",
       "      <td>128.0</td>\n",
       "      <td>4020.0</td>\n",
       "      <td>50</td>\n",
       "      <td>32</td>\n",
       "      <td>16.64</td>\n",
       "      <td>6.0</td>\n",
       "      <td>4.2</td>\n",
       "      <td>5218.0</td>\n",
       "      <td>27999.0</td>\n",
       "    </tr>\n",
       "    <tr>\n",
       "      <th>26</th>\n",
       "      <td>MOTOROLA Edge</td>\n",
       "      <td>Solar Gold</td>\n",
       "      <td>128.0</td>\n",
       "      <td>4400.0</td>\n",
       "      <td>50</td>\n",
       "      <td>32</td>\n",
       "      <td>16.64</td>\n",
       "      <td>8.0</td>\n",
       "      <td>4.3</td>\n",
       "      <td>1332.0</td>\n",
       "      <td>39999.0</td>\n",
       "    </tr>\n",
       "    <tr>\n",
       "      <th>27</th>\n",
       "      <td>MOTOROLA e32s</td>\n",
       "      <td>Slate Gray</td>\n",
       "      <td>32.0</td>\n",
       "      <td>5000.0</td>\n",
       "      <td>16</td>\n",
       "      <td>2</td>\n",
       "      <td>16.51</td>\n",
       "      <td>3.0</td>\n",
       "      <td>3.7</td>\n",
       "      <td>112.0</td>\n",
       "      <td>7949.0</td>\n",
       "    </tr>\n",
       "    <tr>\n",
       "      <th>28</th>\n",
       "      <td>Moto G71</td>\n",
       "      <td>Neptune Green</td>\n",
       "      <td>128.0</td>\n",
       "      <td>5000.0</td>\n",
       "      <td>50</td>\n",
       "      <td>16</td>\n",
       "      <td>16.26</td>\n",
       "      <td>6.0</td>\n",
       "      <td>4.2</td>\n",
       "      <td>20077.0</td>\n",
       "      <td>16999.0</td>\n",
       "    </tr>\n",
       "    <tr>\n",
       "      <th>29</th>\n",
       "      <td>MOTOROLA Edge</td>\n",
       "      <td>Cosmic grey</td>\n",
       "      <td>128.0</td>\n",
       "      <td>4400.0</td>\n",
       "      <td>50</td>\n",
       "      <td>32</td>\n",
       "      <td>16.64</td>\n",
       "      <td>8.0</td>\n",
       "      <td>4.3</td>\n",
       "      <td>1332.0</td>\n",
       "      <td>39999.0</td>\n",
       "    </tr>\n",
       "    <tr>\n",
       "      <th>30</th>\n",
       "      <td>MOTOROLA g42</td>\n",
       "      <td>Metallic Rose</td>\n",
       "      <td>64.0</td>\n",
       "      <td>5000.0</td>\n",
       "      <td>50</td>\n",
       "      <td>16</td>\n",
       "      <td>16.43</td>\n",
       "      <td>4.0</td>\n",
       "      <td>4.1</td>\n",
       "      <td>1992.0</td>\n",
       "      <td>11999.0</td>\n",
       "    </tr>\n",
       "    <tr>\n",
       "      <th>31</th>\n",
       "      <td>MOTOROLA g82</td>\n",
       "      <td>White Lily</td>\n",
       "      <td>128.0</td>\n",
       "      <td>5000.0</td>\n",
       "      <td>50</td>\n",
       "      <td>16</td>\n",
       "      <td>16.76</td>\n",
       "      <td>8.0</td>\n",
       "      <td>4.1</td>\n",
       "      <td>2414.0</td>\n",
       "      <td>22999.0</td>\n",
       "    </tr>\n",
       "    <tr>\n",
       "      <th>32</th>\n",
       "      <td>Moto G5</td>\n",
       "      <td>Lunar Grey</td>\n",
       "      <td>128.0</td>\n",
       "      <td>3000.0</td>\n",
       "      <td>12</td>\n",
       "      <td>5</td>\n",
       "      <td>13.21</td>\n",
       "      <td>4.0</td>\n",
       "      <td>4.3</td>\n",
       "      <td>218.0</td>\n",
       "      <td>16999.0</td>\n",
       "    </tr>\n",
       "    <tr>\n",
       "      <th>33</th>\n",
       "      <td>MOTOROLA G40</td>\n",
       "      <td>Dynamic Gray</td>\n",
       "      <td>64.0</td>\n",
       "      <td>6000.0</td>\n",
       "      <td>64</td>\n",
       "      <td>16</td>\n",
       "      <td>17.22</td>\n",
       "      <td>4.0</td>\n",
       "      <td>4.2</td>\n",
       "      <td>32732.0</td>\n",
       "      <td>14499.0</td>\n",
       "    </tr>\n",
       "    <tr>\n",
       "      <th>34</th>\n",
       "      <td>Moto E6s</td>\n",
       "      <td>Rich Cranberry</td>\n",
       "      <td>512.0</td>\n",
       "      <td>3000.0</td>\n",
       "      <td>13</td>\n",
       "      <td>8</td>\n",
       "      <td>15.49</td>\n",
       "      <td>4.0</td>\n",
       "      <td>4.1</td>\n",
       "      <td>79003.0</td>\n",
       "      <td>7499.0</td>\n",
       "    </tr>\n",
       "    <tr>\n",
       "      <th>35</th>\n",
       "      <td>MOTOROLA Edge</td>\n",
       "      <td>Iridescent Cloud</td>\n",
       "      <td>128.0</td>\n",
       "      <td>4500.0</td>\n",
       "      <td>108</td>\n",
       "      <td>32</td>\n",
       "      <td>17.02</td>\n",
       "      <td>8.0</td>\n",
       "      <td>4.0</td>\n",
       "      <td>3053.0</td>\n",
       "      <td>29999.0</td>\n",
       "    </tr>\n",
       "    <tr>\n",
       "      <th>36</th>\n",
       "      <td>MOTOROLA G8</td>\n",
       "      <td>Royal Blue</td>\n",
       "      <td>256.0</td>\n",
       "      <td>5000.0</td>\n",
       "      <td>16</td>\n",
       "      <td>8</td>\n",
       "      <td>16.51</td>\n",
       "      <td>4.0</td>\n",
       "      <td>4.3</td>\n",
       "      <td>63777.0</td>\n",
       "      <td>9999.0</td>\n",
       "    </tr>\n",
       "    <tr>\n",
       "      <th>37</th>\n",
       "      <td>Motorola One</td>\n",
       "      <td>Space Blue</td>\n",
       "      <td>512.0</td>\n",
       "      <td>4000.0</td>\n",
       "      <td>13</td>\n",
       "      <td>8</td>\n",
       "      <td>15.75</td>\n",
       "      <td>4.0</td>\n",
       "      <td>4.3</td>\n",
       "      <td>22691.0</td>\n",
       "      <td>11999.0</td>\n",
       "    </tr>\n",
       "    <tr>\n",
       "      <th>38</th>\n",
       "      <td>MOTOROLA e32</td>\n",
       "      <td>Eco Black</td>\n",
       "      <td>64.0</td>\n",
       "      <td>5000.0</td>\n",
       "      <td>50</td>\n",
       "      <td>8</td>\n",
       "      <td>16.51</td>\n",
       "      <td>4.0</td>\n",
       "      <td>4.1</td>\n",
       "      <td>52.0</td>\n",
       "      <td>9999.0</td>\n",
       "    </tr>\n",
       "    <tr>\n",
       "      <th>39</th>\n",
       "      <td>MOTOROLA Edge</td>\n",
       "      <td>Frosted Pearl</td>\n",
       "      <td>128.0</td>\n",
       "      <td>4000.0</td>\n",
       "      <td>108</td>\n",
       "      <td>32</td>\n",
       "      <td>17.02</td>\n",
       "      <td>8.0</td>\n",
       "      <td>4.1</td>\n",
       "      <td>8825.0</td>\n",
       "      <td>27999.0</td>\n",
       "    </tr>\n",
       "    <tr>\n",
       "      <th>40</th>\n",
       "      <td>MOTOROLA G8</td>\n",
       "      <td>Arctic Blue</td>\n",
       "      <td>256.0</td>\n",
       "      <td>5000.0</td>\n",
       "      <td>16</td>\n",
       "      <td>8</td>\n",
       "      <td>16.51</td>\n",
       "      <td>4.0</td>\n",
       "      <td>4.3</td>\n",
       "      <td>63777.0</td>\n",
       "      <td>9999.0</td>\n",
       "    </tr>\n",
       "    <tr>\n",
       "      <th>41</th>\n",
       "      <td>MOTOROLA Edge</td>\n",
       "      <td>Frosted Onyx</td>\n",
       "      <td>128.0</td>\n",
       "      <td>4000.0</td>\n",
       "      <td>108</td>\n",
       "      <td>32</td>\n",
       "      <td>17.02</td>\n",
       "      <td>8.0</td>\n",
       "      <td>4.1</td>\n",
       "      <td>8825.0</td>\n",
       "      <td>27999.0</td>\n",
       "    </tr>\n",
       "    <tr>\n",
       "      <th>42</th>\n",
       "      <td>MOTOROLA g82</td>\n",
       "      <td>Meterorite Grey</td>\n",
       "      <td>128.0</td>\n",
       "      <td>5000.0</td>\n",
       "      <td>50</td>\n",
       "      <td>16</td>\n",
       "      <td>16.76</td>\n",
       "      <td>8.0</td>\n",
       "      <td>4.1</td>\n",
       "      <td>2414.0</td>\n",
       "      <td>22999.0</td>\n",
       "    </tr>\n",
       "    <tr>\n",
       "      <th>43</th>\n",
       "      <td>MOTOROLA Edge</td>\n",
       "      <td>Stardust White</td>\n",
       "      <td>128.0</td>\n",
       "      <td>4800.0</td>\n",
       "      <td>50</td>\n",
       "      <td>60</td>\n",
       "      <td>17.02</td>\n",
       "      <td>8.0</td>\n",
       "      <td>4.0</td>\n",
       "      <td>842.0</td>\n",
       "      <td>39999.0</td>\n",
       "    </tr>\n",
       "    <tr>\n",
       "      <th>44</th>\n",
       "      <td>MOTOROLA Edge</td>\n",
       "      <td>Electric Graphite</td>\n",
       "      <td>128.0</td>\n",
       "      <td>5000.0</td>\n",
       "      <td>108</td>\n",
       "      <td>32</td>\n",
       "      <td>16.94</td>\n",
       "      <td>8.0</td>\n",
       "      <td>4.1</td>\n",
       "      <td>11500.0</td>\n",
       "      <td>20999.0</td>\n",
       "    </tr>\n",
       "    <tr>\n",
       "      <th>45</th>\n",
       "      <td>MOTOROLA e32s</td>\n",
       "      <td>Slate Gray</td>\n",
       "      <td>64.0</td>\n",
       "      <td>5000.0</td>\n",
       "      <td>16</td>\n",
       "      <td>8</td>\n",
       "      <td>16.51</td>\n",
       "      <td>4.0</td>\n",
       "      <td>3.9</td>\n",
       "      <td>1213.0</td>\n",
       "      <td>9999.0</td>\n",
       "    </tr>\n",
       "    <tr>\n",
       "      <th>46</th>\n",
       "      <td>MOTOROLA Edge</td>\n",
       "      <td>Cosmos Blue</td>\n",
       "      <td>128.0</td>\n",
       "      <td>4800.0</td>\n",
       "      <td>50</td>\n",
       "      <td>60</td>\n",
       "      <td>17.02</td>\n",
       "      <td>8.0</td>\n",
       "      <td>4.0</td>\n",
       "      <td>842.0</td>\n",
       "      <td>39999.0</td>\n",
       "    </tr>\n",
       "    <tr>\n",
       "      <th>47</th>\n",
       "      <td>MOTOROLA Edge</td>\n",
       "      <td>Cyber Teal</td>\n",
       "      <td>128.0</td>\n",
       "      <td>5000.0</td>\n",
       "      <td>108</td>\n",
       "      <td>32</td>\n",
       "      <td>17.00</td>\n",
       "      <td>8.0</td>\n",
       "      <td>4.1</td>\n",
       "      <td>11500.0</td>\n",
       "      <td>20999.0</td>\n",
       "    </tr>\n",
       "    <tr>\n",
       "      <th>48</th>\n",
       "      <td>MOTOROLA e32s</td>\n",
       "      <td>Misty Silver</td>\n",
       "      <td>64.0</td>\n",
       "      <td>5000.0</td>\n",
       "      <td>16</td>\n",
       "      <td>8</td>\n",
       "      <td>16.51</td>\n",
       "      <td>4.0</td>\n",
       "      <td>3.9</td>\n",
       "      <td>1213.0</td>\n",
       "      <td>9999.0</td>\n",
       "    </tr>\n",
       "    <tr>\n",
       "      <th>49</th>\n",
       "      <td>MOTOROLA Edge</td>\n",
       "      <td>Starlight White</td>\n",
       "      <td>128.0</td>\n",
       "      <td>4610.0</td>\n",
       "      <td>200</td>\n",
       "      <td>60</td>\n",
       "      <td>16.94</td>\n",
       "      <td>8.0</td>\n",
       "      <td>4.4</td>\n",
       "      <td>836.0</td>\n",
       "      <td>54999.0</td>\n",
       "    </tr>\n",
       "  </tbody>\n",
       "</table>\n",
       "</div>"
      ],
      "text/plain": [
       "             Name             Colour  Storage  Battery  Camera_Pixel  \\\n",
       "0    MOTOROLA e40        Carbon Gray     64.0   5000.0            48   \n",
       "1    MOTOROLA e40          Pink Clay     64.0   5000.0            48   \n",
       "2    MOTOROLA g82    Meterorite Grey    128.0   5000.0            50   \n",
       "3    MOTOROLA G62       Frosted Blue    128.0   5000.0            50   \n",
       "4        Moto G71        Arctic Blue    128.0   5000.0            50   \n",
       "5    MOTOROLA G62      Midnight Gray    128.0   5000.0            50   \n",
       "6    MOTOROLA G51        Indigo Blue     64.0   5000.0            50   \n",
       "7    MOTOROLA g52     Metallic White     64.0   5000.0            50   \n",
       "8    MOTOROLA g52      Charcoal Grey     64.0   5000.0            50   \n",
       "9    MOTOROLA G62       Frosted Blue    128.0   5000.0            50   \n",
       "10   MOTOROLA g52     Metallic White    128.0   5000.0            50   \n",
       "11   MOTOROLA G60        Soft Silver    128.0   6000.0           108   \n",
       "12  MOTOROLA e32s       Misty Silver     32.0   5000.0            16   \n",
       "13   MOTOROLA G32       Mineral Gray     64.0   5000.0            50   \n",
       "14   MOTOROLA g31          Baby Blue     64.0   5000.0            50   \n",
       "15   MOTOROLA g31     Meteorite Grey     64.0   5000.0            50   \n",
       "16   MOTOROLA g52      Charcoal Grey    128.0   5000.0            50   \n",
       "17   MOTOROLA G62      Midnight Gray    128.0   5000.0            50   \n",
       "18  MOTOROLA Edge    Starlight White    256.0   4610.0           200   \n",
       "19   MOTOROLA G40       Dynamic Gray    128.0   6000.0            64   \n",
       "20   MOTOROLA G40  Frosted Champagne     64.0   6000.0            64   \n",
       "21   MOTOROLA G60       Dynamic Gray    128.0   6000.0           108   \n",
       "22   MOTOROLA G60       Dynamic Gray    128.0   6000.0           108   \n",
       "23   MOTOROLA g82         White Lily    128.0   5000.0            50   \n",
       "24  MOTOROLA edge        Meteor Grey    128.0   4020.0            50   \n",
       "25  MOTOROLA edge       Aurora Green    128.0   4020.0            50   \n",
       "26  MOTOROLA Edge         Solar Gold    128.0   4400.0            50   \n",
       "27  MOTOROLA e32s         Slate Gray     32.0   5000.0            16   \n",
       "28       Moto G71      Neptune Green    128.0   5000.0            50   \n",
       "29  MOTOROLA Edge        Cosmic grey    128.0   4400.0            50   \n",
       "30   MOTOROLA g42      Metallic Rose     64.0   5000.0            50   \n",
       "31   MOTOROLA g82         White Lily    128.0   5000.0            50   \n",
       "32        Moto G5         Lunar Grey    128.0   3000.0            12   \n",
       "33   MOTOROLA G40       Dynamic Gray     64.0   6000.0            64   \n",
       "34       Moto E6s     Rich Cranberry    512.0   3000.0            13   \n",
       "35  MOTOROLA Edge   Iridescent Cloud    128.0   4500.0           108   \n",
       "36    MOTOROLA G8         Royal Blue    256.0   5000.0            16   \n",
       "37   Motorola One         Space Blue    512.0   4000.0            13   \n",
       "38   MOTOROLA e32          Eco Black     64.0   5000.0            50   \n",
       "39  MOTOROLA Edge      Frosted Pearl    128.0   4000.0           108   \n",
       "40    MOTOROLA G8        Arctic Blue    256.0   5000.0            16   \n",
       "41  MOTOROLA Edge       Frosted Onyx    128.0   4000.0           108   \n",
       "42   MOTOROLA g82    Meterorite Grey    128.0   5000.0            50   \n",
       "43  MOTOROLA Edge     Stardust White    128.0   4800.0            50   \n",
       "44  MOTOROLA Edge  Electric Graphite    128.0   5000.0           108   \n",
       "45  MOTOROLA e32s         Slate Gray     64.0   5000.0            16   \n",
       "46  MOTOROLA Edge        Cosmos Blue    128.0   4800.0            50   \n",
       "47  MOTOROLA Edge         Cyber Teal    128.0   5000.0           108   \n",
       "48  MOTOROLA e32s       Misty Silver     64.0   5000.0            16   \n",
       "49  MOTOROLA Edge    Starlight White    128.0   4610.0           200   \n",
       "\n",
       "    Selfie_cam_pixel  Display_size   RAM  Star_ratings  Users_rated    Price  \n",
       "0                  8         16.51   4.0           4.1      44238.0   9999.0  \n",
       "1                  8         16.51   4.0           4.1      44238.0   9999.0  \n",
       "2                 16         16.76   6.0           4.1       4028.0  21499.0  \n",
       "3                 16         16.64   8.0           4.1       1218.0  19999.0  \n",
       "4                 16         16.26   6.0           4.2      20077.0  16999.0  \n",
       "5                 16         16.64   8.0           4.1       1218.0  19999.0  \n",
       "6                 13         17.27   4.0           4.1      15080.0  14999.0  \n",
       "7                 16         16.76   4.0           4.2       7260.0  14499.0  \n",
       "8                 16         16.76   4.0           4.2       7260.0  14499.0  \n",
       "9                 16         16.64   6.0           4.1       4637.0  17999.0  \n",
       "10                16         16.76   6.0           4.2      15194.0  16499.0  \n",
       "11                32         17.22   6.0           4.2        127.0  15999.0  \n",
       "12                 8         16.51   3.0           3.7        112.0   7995.0  \n",
       "13                16         16.64   4.0           4.2       8289.0  12999.0  \n",
       "14                13         16.26   4.0           4.2      29792.0  10499.0  \n",
       "15                13         16.26   4.0           4.2      29792.0  10499.0  \n",
       "16                16         16.76   6.0           4.2      15194.0  16499.0  \n",
       "17                16         16.64   6.0           4.1       4637.0  17999.0  \n",
       "18                60         16.94  12.0           4.1         87.0  59999.0  \n",
       "19                16         17.22   6.0           4.2      54656.0  13499.0  \n",
       "20                16         17.22   4.0           4.2      32732.0  14499.0  \n",
       "21                32         17.27   6.0           4.2        127.0  15999.0  \n",
       "22                32         17.27   6.0           4.2        127.0  15999.0  \n",
       "23                16         16.76   8.0           4.1       2414.0  22999.0  \n",
       "24                32         16.64   6.0           4.2       5218.0  27999.0  \n",
       "25                32         16.64   6.0           4.2       5218.0  27999.0  \n",
       "26                32         16.64   8.0           4.3       1332.0  39999.0  \n",
       "27                 2         16.51   3.0           3.7        112.0   7949.0  \n",
       "28                16         16.26   6.0           4.2      20077.0  16999.0  \n",
       "29                32         16.64   8.0           4.3       1332.0  39999.0  \n",
       "30                16         16.43   4.0           4.1       1992.0  11999.0  \n",
       "31                16         16.76   8.0           4.1       2414.0  22999.0  \n",
       "32                 5         13.21   4.0           4.3        218.0  16999.0  \n",
       "33                16         17.22   4.0           4.2      32732.0  14499.0  \n",
       "34                 8         15.49   4.0           4.1      79003.0   7499.0  \n",
       "35                32         17.02   8.0           4.0       3053.0  29999.0  \n",
       "36                 8         16.51   4.0           4.3      63777.0   9999.0  \n",
       "37                 8         15.75   4.0           4.3      22691.0  11999.0  \n",
       "38                 8         16.51   4.0           4.1         52.0   9999.0  \n",
       "39                32         17.02   8.0           4.1       8825.0  27999.0  \n",
       "40                 8         16.51   4.0           4.3      63777.0   9999.0  \n",
       "41                32         17.02   8.0           4.1       8825.0  27999.0  \n",
       "42                16         16.76   8.0           4.1       2414.0  22999.0  \n",
       "43                60         17.02   8.0           4.0        842.0  39999.0  \n",
       "44                32         16.94   8.0           4.1      11500.0  20999.0  \n",
       "45                 8         16.51   4.0           3.9       1213.0   9999.0  \n",
       "46                60         17.02   8.0           4.0        842.0  39999.0  \n",
       "47                32         17.00   8.0           4.1      11500.0  20999.0  \n",
       "48                 8         16.51   4.0           3.9       1213.0   9999.0  \n",
       "49                60         16.94   8.0           4.4        836.0  54999.0  "
      ]
     },
     "execution_count": 107,
     "metadata": {},
     "output_type": "execute_result"
    }
   ],
   "source": [
    "r1.head(50)"
   ]
  },
  {
   "cell_type": "code",
   "execution_count": 108,
   "id": "036ebec0",
   "metadata": {},
   "outputs": [
    {
     "data": {
      "text/html": [
       "<div>\n",
       "<style scoped>\n",
       "    .dataframe tbody tr th:only-of-type {\n",
       "        vertical-align: middle;\n",
       "    }\n",
       "\n",
       "    .dataframe tbody tr th {\n",
       "        vertical-align: top;\n",
       "    }\n",
       "\n",
       "    .dataframe thead th {\n",
       "        text-align: right;\n",
       "    }\n",
       "</style>\n",
       "<table border=\"1\" class=\"dataframe\">\n",
       "  <thead>\n",
       "    <tr style=\"text-align: right;\">\n",
       "      <th></th>\n",
       "      <th>Name</th>\n",
       "      <th>Colour</th>\n",
       "      <th>Storage</th>\n",
       "      <th>Battery</th>\n",
       "      <th>Camera_Pixel</th>\n",
       "      <th>Selfie_cam_pixel</th>\n",
       "      <th>Display_size</th>\n",
       "      <th>RAM</th>\n",
       "      <th>Star_ratings</th>\n",
       "      <th>Users_rated</th>\n",
       "      <th>Price</th>\n",
       "    </tr>\n",
       "  </thead>\n",
       "  <tbody>\n",
       "    <tr>\n",
       "      <th>32</th>\n",
       "      <td>Moto G5</td>\n",
       "      <td>Lunar Grey</td>\n",
       "      <td>128.0</td>\n",
       "      <td>3000.0</td>\n",
       "      <td>12</td>\n",
       "      <td>5</td>\n",
       "      <td>13.21</td>\n",
       "      <td>4.0</td>\n",
       "      <td>4.3</td>\n",
       "      <td>218.0</td>\n",
       "      <td>16999.0</td>\n",
       "    </tr>\n",
       "    <tr>\n",
       "      <th>33</th>\n",
       "      <td>MOTOROLA G40</td>\n",
       "      <td>Dynamic Gray</td>\n",
       "      <td>64.0</td>\n",
       "      <td>6000.0</td>\n",
       "      <td>64</td>\n",
       "      <td>16</td>\n",
       "      <td>17.22</td>\n",
       "      <td>4.0</td>\n",
       "      <td>4.2</td>\n",
       "      <td>32732.0</td>\n",
       "      <td>14499.0</td>\n",
       "    </tr>\n",
       "    <tr>\n",
       "      <th>34</th>\n",
       "      <td>Moto E6s</td>\n",
       "      <td>Rich Cranberry</td>\n",
       "      <td>512.0</td>\n",
       "      <td>3000.0</td>\n",
       "      <td>13</td>\n",
       "      <td>8</td>\n",
       "      <td>15.49</td>\n",
       "      <td>4.0</td>\n",
       "      <td>4.1</td>\n",
       "      <td>79003.0</td>\n",
       "      <td>7499.0</td>\n",
       "    </tr>\n",
       "    <tr>\n",
       "      <th>35</th>\n",
       "      <td>MOTOROLA Edge</td>\n",
       "      <td>Iridescent Cloud</td>\n",
       "      <td>128.0</td>\n",
       "      <td>4500.0</td>\n",
       "      <td>108</td>\n",
       "      <td>32</td>\n",
       "      <td>17.02</td>\n",
       "      <td>8.0</td>\n",
       "      <td>4.0</td>\n",
       "      <td>3053.0</td>\n",
       "      <td>29999.0</td>\n",
       "    </tr>\n",
       "    <tr>\n",
       "      <th>36</th>\n",
       "      <td>MOTOROLA G8</td>\n",
       "      <td>Royal Blue</td>\n",
       "      <td>256.0</td>\n",
       "      <td>5000.0</td>\n",
       "      <td>16</td>\n",
       "      <td>8</td>\n",
       "      <td>16.51</td>\n",
       "      <td>4.0</td>\n",
       "      <td>4.3</td>\n",
       "      <td>63777.0</td>\n",
       "      <td>9999.0</td>\n",
       "    </tr>\n",
       "    <tr>\n",
       "      <th>37</th>\n",
       "      <td>Motorola One</td>\n",
       "      <td>Space Blue</td>\n",
       "      <td>512.0</td>\n",
       "      <td>4000.0</td>\n",
       "      <td>13</td>\n",
       "      <td>8</td>\n",
       "      <td>15.75</td>\n",
       "      <td>4.0</td>\n",
       "      <td>4.3</td>\n",
       "      <td>22691.0</td>\n",
       "      <td>11999.0</td>\n",
       "    </tr>\n",
       "    <tr>\n",
       "      <th>38</th>\n",
       "      <td>MOTOROLA e32</td>\n",
       "      <td>Eco Black</td>\n",
       "      <td>64.0</td>\n",
       "      <td>5000.0</td>\n",
       "      <td>50</td>\n",
       "      <td>8</td>\n",
       "      <td>16.51</td>\n",
       "      <td>4.0</td>\n",
       "      <td>4.1</td>\n",
       "      <td>52.0</td>\n",
       "      <td>9999.0</td>\n",
       "    </tr>\n",
       "    <tr>\n",
       "      <th>39</th>\n",
       "      <td>MOTOROLA Edge</td>\n",
       "      <td>Frosted Pearl</td>\n",
       "      <td>128.0</td>\n",
       "      <td>4000.0</td>\n",
       "      <td>108</td>\n",
       "      <td>32</td>\n",
       "      <td>17.02</td>\n",
       "      <td>8.0</td>\n",
       "      <td>4.1</td>\n",
       "      <td>8825.0</td>\n",
       "      <td>27999.0</td>\n",
       "    </tr>\n",
       "    <tr>\n",
       "      <th>40</th>\n",
       "      <td>MOTOROLA G8</td>\n",
       "      <td>Arctic Blue</td>\n",
       "      <td>256.0</td>\n",
       "      <td>5000.0</td>\n",
       "      <td>16</td>\n",
       "      <td>8</td>\n",
       "      <td>16.51</td>\n",
       "      <td>4.0</td>\n",
       "      <td>4.3</td>\n",
       "      <td>63777.0</td>\n",
       "      <td>9999.0</td>\n",
       "    </tr>\n",
       "    <tr>\n",
       "      <th>41</th>\n",
       "      <td>MOTOROLA Edge</td>\n",
       "      <td>Frosted Onyx</td>\n",
       "      <td>128.0</td>\n",
       "      <td>4000.0</td>\n",
       "      <td>108</td>\n",
       "      <td>32</td>\n",
       "      <td>17.02</td>\n",
       "      <td>8.0</td>\n",
       "      <td>4.1</td>\n",
       "      <td>8825.0</td>\n",
       "      <td>27999.0</td>\n",
       "    </tr>\n",
       "    <tr>\n",
       "      <th>42</th>\n",
       "      <td>MOTOROLA g82</td>\n",
       "      <td>Meterorite Grey</td>\n",
       "      <td>128.0</td>\n",
       "      <td>5000.0</td>\n",
       "      <td>50</td>\n",
       "      <td>16</td>\n",
       "      <td>16.76</td>\n",
       "      <td>8.0</td>\n",
       "      <td>4.1</td>\n",
       "      <td>2414.0</td>\n",
       "      <td>22999.0</td>\n",
       "    </tr>\n",
       "    <tr>\n",
       "      <th>43</th>\n",
       "      <td>MOTOROLA Edge</td>\n",
       "      <td>Stardust White</td>\n",
       "      <td>128.0</td>\n",
       "      <td>4800.0</td>\n",
       "      <td>50</td>\n",
       "      <td>60</td>\n",
       "      <td>17.02</td>\n",
       "      <td>8.0</td>\n",
       "      <td>4.0</td>\n",
       "      <td>842.0</td>\n",
       "      <td>39999.0</td>\n",
       "    </tr>\n",
       "    <tr>\n",
       "      <th>44</th>\n",
       "      <td>MOTOROLA Edge</td>\n",
       "      <td>Electric Graphite</td>\n",
       "      <td>128.0</td>\n",
       "      <td>5000.0</td>\n",
       "      <td>108</td>\n",
       "      <td>32</td>\n",
       "      <td>16.94</td>\n",
       "      <td>8.0</td>\n",
       "      <td>4.1</td>\n",
       "      <td>11500.0</td>\n",
       "      <td>20999.0</td>\n",
       "    </tr>\n",
       "    <tr>\n",
       "      <th>45</th>\n",
       "      <td>MOTOROLA e32s</td>\n",
       "      <td>Slate Gray</td>\n",
       "      <td>64.0</td>\n",
       "      <td>5000.0</td>\n",
       "      <td>16</td>\n",
       "      <td>8</td>\n",
       "      <td>16.51</td>\n",
       "      <td>4.0</td>\n",
       "      <td>3.9</td>\n",
       "      <td>1213.0</td>\n",
       "      <td>9999.0</td>\n",
       "    </tr>\n",
       "    <tr>\n",
       "      <th>46</th>\n",
       "      <td>MOTOROLA Edge</td>\n",
       "      <td>Cosmos Blue</td>\n",
       "      <td>128.0</td>\n",
       "      <td>4800.0</td>\n",
       "      <td>50</td>\n",
       "      <td>60</td>\n",
       "      <td>17.02</td>\n",
       "      <td>8.0</td>\n",
       "      <td>4.0</td>\n",
       "      <td>842.0</td>\n",
       "      <td>39999.0</td>\n",
       "    </tr>\n",
       "    <tr>\n",
       "      <th>47</th>\n",
       "      <td>MOTOROLA Edge</td>\n",
       "      <td>Cyber Teal</td>\n",
       "      <td>128.0</td>\n",
       "      <td>5000.0</td>\n",
       "      <td>108</td>\n",
       "      <td>32</td>\n",
       "      <td>17.00</td>\n",
       "      <td>8.0</td>\n",
       "      <td>4.1</td>\n",
       "      <td>11500.0</td>\n",
       "      <td>20999.0</td>\n",
       "    </tr>\n",
       "    <tr>\n",
       "      <th>48</th>\n",
       "      <td>MOTOROLA e32s</td>\n",
       "      <td>Misty Silver</td>\n",
       "      <td>64.0</td>\n",
       "      <td>5000.0</td>\n",
       "      <td>16</td>\n",
       "      <td>8</td>\n",
       "      <td>16.51</td>\n",
       "      <td>4.0</td>\n",
       "      <td>3.9</td>\n",
       "      <td>1213.0</td>\n",
       "      <td>9999.0</td>\n",
       "    </tr>\n",
       "    <tr>\n",
       "      <th>49</th>\n",
       "      <td>MOTOROLA Edge</td>\n",
       "      <td>Starlight White</td>\n",
       "      <td>128.0</td>\n",
       "      <td>4610.0</td>\n",
       "      <td>200</td>\n",
       "      <td>60</td>\n",
       "      <td>16.94</td>\n",
       "      <td>8.0</td>\n",
       "      <td>4.4</td>\n",
       "      <td>836.0</td>\n",
       "      <td>54999.0</td>\n",
       "    </tr>\n",
       "    <tr>\n",
       "      <th>50</th>\n",
       "      <td>MOTOROLA Edge</td>\n",
       "      <td>Interstellar Black</td>\n",
       "      <td>128.0</td>\n",
       "      <td>4610.0</td>\n",
       "      <td>200</td>\n",
       "      <td>60</td>\n",
       "      <td>16.94</td>\n",
       "      <td>8.0</td>\n",
       "      <td>4.4</td>\n",
       "      <td>836.0</td>\n",
       "      <td>54999.0</td>\n",
       "    </tr>\n",
       "    <tr>\n",
       "      <th>51</th>\n",
       "      <td>MOTOROLA e32</td>\n",
       "      <td>Arctic Blue</td>\n",
       "      <td>64.0</td>\n",
       "      <td>5000.0</td>\n",
       "      <td>50</td>\n",
       "      <td>8</td>\n",
       "      <td>16.51</td>\n",
       "      <td>4.0</td>\n",
       "      <td>4.1</td>\n",
       "      <td>52.0</td>\n",
       "      <td>9999.0</td>\n",
       "    </tr>\n",
       "    <tr>\n",
       "      <th>52</th>\n",
       "      <td>MOTOROLA One</td>\n",
       "      <td>Moonlight White</td>\n",
       "      <td>128.0</td>\n",
       "      <td>5000.0</td>\n",
       "      <td>64</td>\n",
       "      <td>16</td>\n",
       "      <td>16.51</td>\n",
       "      <td>6.0</td>\n",
       "      <td>4.4</td>\n",
       "      <td>101.0</td>\n",
       "      <td>16999.0</td>\n",
       "    </tr>\n",
       "    <tr>\n",
       "      <th>53</th>\n",
       "      <td>MOTOROLA E7</td>\n",
       "      <td>Coral Red</td>\n",
       "      <td>32.0</td>\n",
       "      <td>5000.0</td>\n",
       "      <td>13</td>\n",
       "      <td>5</td>\n",
       "      <td>16.54</td>\n",
       "      <td>2.0</td>\n",
       "      <td>4.1</td>\n",
       "      <td>10337.0</td>\n",
       "      <td>6999.0</td>\n",
       "    </tr>\n",
       "    <tr>\n",
       "      <th>54</th>\n",
       "      <td>MOTOROLA One</td>\n",
       "      <td>Twilight Blue</td>\n",
       "      <td>128.0</td>\n",
       "      <td>5000.0</td>\n",
       "      <td>64</td>\n",
       "      <td>16</td>\n",
       "      <td>16.51</td>\n",
       "      <td>6.0</td>\n",
       "      <td>4.4</td>\n",
       "      <td>101.0</td>\n",
       "      <td>16999.0</td>\n",
       "    </tr>\n",
       "    <tr>\n",
       "      <th>55</th>\n",
       "      <td>Moto G</td>\n",
       "      <td>Volcanic Grey</td>\n",
       "      <td>128.0</td>\n",
       "      <td>5000.0</td>\n",
       "      <td>48</td>\n",
       "      <td>16</td>\n",
       "      <td>16.94</td>\n",
       "      <td>6.0</td>\n",
       "      <td>4.2</td>\n",
       "      <td>14790.0</td>\n",
       "      <td>24999.0</td>\n",
       "    </tr>\n",
       "    <tr>\n",
       "      <th>56</th>\n",
       "      <td>Moto G</td>\n",
       "      <td>Frosted Silver</td>\n",
       "      <td>128.0</td>\n",
       "      <td>5000.0</td>\n",
       "      <td>48</td>\n",
       "      <td>16</td>\n",
       "      <td>16.94</td>\n",
       "      <td>6.0</td>\n",
       "      <td>4.2</td>\n",
       "      <td>14790.0</td>\n",
       "      <td>24999.0</td>\n",
       "    </tr>\n",
       "    <tr>\n",
       "      <th>57</th>\n",
       "      <td>MOTOROLA G10</td>\n",
       "      <td>Aurora Grey</td>\n",
       "      <td>64.0</td>\n",
       "      <td>6000.0</td>\n",
       "      <td>48</td>\n",
       "      <td>8</td>\n",
       "      <td>16.54</td>\n",
       "      <td>4.0</td>\n",
       "      <td>4.1</td>\n",
       "      <td>61000.0</td>\n",
       "      <td>10499.0</td>\n",
       "    </tr>\n",
       "    <tr>\n",
       "      <th>58</th>\n",
       "      <td>MOTOROLA E7</td>\n",
       "      <td>Misty Blue</td>\n",
       "      <td>512.0</td>\n",
       "      <td>5000.0</td>\n",
       "      <td>48</td>\n",
       "      <td>8</td>\n",
       "      <td>16.51</td>\n",
       "      <td>4.0</td>\n",
       "      <td>4.2</td>\n",
       "      <td>48518.0</td>\n",
       "      <td>9499.0</td>\n",
       "    </tr>\n",
       "    <tr>\n",
       "      <th>59</th>\n",
       "      <td>MOTOROLA e22s</td>\n",
       "      <td>Eco Black</td>\n",
       "      <td>64.0</td>\n",
       "      <td>5000.0</td>\n",
       "      <td>16</td>\n",
       "      <td>8</td>\n",
       "      <td>16.51</td>\n",
       "      <td>4.0</td>\n",
       "      <td>4.0</td>\n",
       "      <td>13.0</td>\n",
       "      <td>8999.0</td>\n",
       "    </tr>\n",
       "    <tr>\n",
       "      <th>60</th>\n",
       "      <td>MOTOROLA G51</td>\n",
       "      <td>Bright Silver</td>\n",
       "      <td>64.0</td>\n",
       "      <td>5000.0</td>\n",
       "      <td>50</td>\n",
       "      <td>13</td>\n",
       "      <td>17.27</td>\n",
       "      <td>4.0</td>\n",
       "      <td>4.1</td>\n",
       "      <td>15080.0</td>\n",
       "      <td>14999.0</td>\n",
       "    </tr>\n",
       "    <tr>\n",
       "      <th>61</th>\n",
       "      <td>MOTOROLA E7</td>\n",
       "      <td>Tahiti Blue</td>\n",
       "      <td>64.0</td>\n",
       "      <td>5000.0</td>\n",
       "      <td>13</td>\n",
       "      <td>5</td>\n",
       "      <td>16.54</td>\n",
       "      <td>4.0</td>\n",
       "      <td>4.1</td>\n",
       "      <td>83358.0</td>\n",
       "      <td>8999.0</td>\n",
       "    </tr>\n",
       "    <tr>\n",
       "      <th>62</th>\n",
       "      <td>MOTOROLA Edge</td>\n",
       "      <td>Cyber Teal</td>\n",
       "      <td>128.0</td>\n",
       "      <td>5000.0</td>\n",
       "      <td>108</td>\n",
       "      <td>32</td>\n",
       "      <td>16.94</td>\n",
       "      <td>6.0</td>\n",
       "      <td>4.0</td>\n",
       "      <td>18884.0</td>\n",
       "      <td>18999.0</td>\n",
       "    </tr>\n",
       "    <tr>\n",
       "      <th>63</th>\n",
       "      <td>MOTOROLA G60</td>\n",
       "      <td>Frosted Champagne</td>\n",
       "      <td>128.0</td>\n",
       "      <td>6000.0</td>\n",
       "      <td>108</td>\n",
       "      <td>32</td>\n",
       "      <td>17.22</td>\n",
       "      <td>6.0</td>\n",
       "      <td>4.2</td>\n",
       "      <td>127.0</td>\n",
       "      <td>15999.0</td>\n",
       "    </tr>\n",
       "    <tr>\n",
       "      <th>64</th>\n",
       "      <td>MOTOROLA G9</td>\n",
       "      <td>Sapphire Blue</td>\n",
       "      <td>512.0</td>\n",
       "      <td>5000.0</td>\n",
       "      <td>48</td>\n",
       "      <td>8</td>\n",
       "      <td>16.51</td>\n",
       "      <td>4.0</td>\n",
       "      <td>4.2</td>\n",
       "      <td>46823.0</td>\n",
       "      <td>11499.0</td>\n",
       "    </tr>\n",
       "    <tr>\n",
       "      <th>65</th>\n",
       "      <td>MOTOROLA Edge</td>\n",
       "      <td>Electric Graphite</td>\n",
       "      <td>128.0</td>\n",
       "      <td>5000.0</td>\n",
       "      <td>108</td>\n",
       "      <td>32</td>\n",
       "      <td>16.94</td>\n",
       "      <td>8.0</td>\n",
       "      <td>4.1</td>\n",
       "      <td>11500.0</td>\n",
       "      <td>20999.0</td>\n",
       "    </tr>\n",
       "    <tr>\n",
       "      <th>66</th>\n",
       "      <td>MOTOROLA Edge</td>\n",
       "      <td>Cyber Teal</td>\n",
       "      <td>128.0</td>\n",
       "      <td>5000.0</td>\n",
       "      <td>108</td>\n",
       "      <td>32</td>\n",
       "      <td>17.00</td>\n",
       "      <td>8.0</td>\n",
       "      <td>4.1</td>\n",
       "      <td>11500.0</td>\n",
       "      <td>20999.0</td>\n",
       "    </tr>\n",
       "    <tr>\n",
       "      <th>67</th>\n",
       "      <td>MOTOROLA G30</td>\n",
       "      <td>Dark Pearl</td>\n",
       "      <td>64.0</td>\n",
       "      <td>5000.0</td>\n",
       "      <td>64</td>\n",
       "      <td>13</td>\n",
       "      <td>16.54</td>\n",
       "      <td>4.0</td>\n",
       "      <td>4.1</td>\n",
       "      <td>36135.0</td>\n",
       "      <td>10999.0</td>\n",
       "    </tr>\n",
       "    <tr>\n",
       "      <th>68</th>\n",
       "      <td>Moto G</td>\n",
       "      <td>Black</td>\n",
       "      <td>32.0</td>\n",
       "      <td>2470.0</td>\n",
       "      <td>13</td>\n",
       "      <td>5</td>\n",
       "      <td>12.70</td>\n",
       "      <td>2.0</td>\n",
       "      <td>4.2</td>\n",
       "      <td>997.0</td>\n",
       "      <td>16999.0</td>\n",
       "    </tr>\n",
       "    <tr>\n",
       "      <th>69</th>\n",
       "      <td>MOTOROLA Razr</td>\n",
       "      <td>Black</td>\n",
       "      <td>128.0</td>\n",
       "      <td>2510.0</td>\n",
       "      <td>16</td>\n",
       "      <td>5</td>\n",
       "      <td>15.75</td>\n",
       "      <td>6.0</td>\n",
       "      <td>3.7</td>\n",
       "      <td>194.0</td>\n",
       "      <td>149999.0</td>\n",
       "    </tr>\n",
       "    <tr>\n",
       "      <th>70</th>\n",
       "      <td>MOTOROLA G9</td>\n",
       "      <td>Electric Violet</td>\n",
       "      <td>512.0</td>\n",
       "      <td>6000.0</td>\n",
       "      <td>64</td>\n",
       "      <td>16</td>\n",
       "      <td>17.22</td>\n",
       "      <td>4.0</td>\n",
       "      <td>4.1</td>\n",
       "      <td>32029.0</td>\n",
       "      <td>11999.0</td>\n",
       "    </tr>\n",
       "    <tr>\n",
       "      <th>71</th>\n",
       "      <td>MOTOROLA g22</td>\n",
       "      <td>Cosmic Black</td>\n",
       "      <td>64.0</td>\n",
       "      <td>5000.0</td>\n",
       "      <td>50</td>\n",
       "      <td>16</td>\n",
       "      <td>16.51</td>\n",
       "      <td>4.0</td>\n",
       "      <td>3.7</td>\n",
       "      <td>23584.0</td>\n",
       "      <td>9999.0</td>\n",
       "    </tr>\n",
       "    <tr>\n",
       "      <th>72</th>\n",
       "      <td>Moto E4</td>\n",
       "      <td>Oxford Blue</td>\n",
       "      <td>128.0</td>\n",
       "      <td>5000.0</td>\n",
       "      <td>13</td>\n",
       "      <td>5</td>\n",
       "      <td>13.97</td>\n",
       "      <td>3.0</td>\n",
       "      <td>4.1</td>\n",
       "      <td>483.0</td>\n",
       "      <td>9999.0</td>\n",
       "    </tr>\n",
       "    <tr>\n",
       "      <th>73</th>\n",
       "      <td>Moto E4</td>\n",
       "      <td>Fine Gold</td>\n",
       "      <td>128.0</td>\n",
       "      <td>5000.0</td>\n",
       "      <td>13</td>\n",
       "      <td>5</td>\n",
       "      <td>13.97</td>\n",
       "      <td>3.0</td>\n",
       "      <td>4.1</td>\n",
       "      <td>483.0</td>\n",
       "      <td>9999.0</td>\n",
       "    </tr>\n",
       "    <tr>\n",
       "      <th>74</th>\n",
       "      <td>Moto X</td>\n",
       "      <td>Black Leather</td>\n",
       "      <td>16.0</td>\n",
       "      <td>2300.0</td>\n",
       "      <td>13</td>\n",
       "      <td>2</td>\n",
       "      <td>13.21</td>\n",
       "      <td>2.0</td>\n",
       "      <td>4.2</td>\n",
       "      <td>6219.0</td>\n",
       "      <td>23999.0</td>\n",
       "    </tr>\n",
       "    <tr>\n",
       "      <th>75</th>\n",
       "      <td>Moto E6s</td>\n",
       "      <td>Polished Graphite</td>\n",
       "      <td>512.0</td>\n",
       "      <td>3000.0</td>\n",
       "      <td>13</td>\n",
       "      <td>8</td>\n",
       "      <td>15.49</td>\n",
       "      <td>4.0</td>\n",
       "      <td>4.1</td>\n",
       "      <td>79003.0</td>\n",
       "      <td>7499.0</td>\n",
       "    </tr>\n",
       "    <tr>\n",
       "      <th>76</th>\n",
       "      <td>MOTOROLA Edge</td>\n",
       "      <td>Frosted Emerald</td>\n",
       "      <td>128.0</td>\n",
       "      <td>4000.0</td>\n",
       "      <td>108</td>\n",
       "      <td>32</td>\n",
       "      <td>17.02</td>\n",
       "      <td>8.0</td>\n",
       "      <td>4.1</td>\n",
       "      <td>8825.0</td>\n",
       "      <td>27999.0</td>\n",
       "    </tr>\n",
       "    <tr>\n",
       "      <th>77</th>\n",
       "      <td>MOTOROLA Edge</td>\n",
       "      <td>Midnight Sky</td>\n",
       "      <td>128.0</td>\n",
       "      <td>4500.0</td>\n",
       "      <td>108</td>\n",
       "      <td>32</td>\n",
       "      <td>17.02</td>\n",
       "      <td>8.0</td>\n",
       "      <td>4.0</td>\n",
       "      <td>3053.0</td>\n",
       "      <td>29999.0</td>\n",
       "    </tr>\n",
       "    <tr>\n",
       "      <th>78</th>\n",
       "      <td>MOTOROLA G10</td>\n",
       "      <td>Breeze Blue</td>\n",
       "      <td>64.0</td>\n",
       "      <td>6000.0</td>\n",
       "      <td>48</td>\n",
       "      <td>8</td>\n",
       "      <td>16.54</td>\n",
       "      <td>4.0</td>\n",
       "      <td>4.1</td>\n",
       "      <td>61000.0</td>\n",
       "      <td>10499.0</td>\n",
       "    </tr>\n",
       "    <tr>\n",
       "      <th>79</th>\n",
       "      <td>MOTOROLA Edge</td>\n",
       "      <td>Interstellar Black</td>\n",
       "      <td>256.0</td>\n",
       "      <td>4610.0</td>\n",
       "      <td>200</td>\n",
       "      <td>60</td>\n",
       "      <td>16.94</td>\n",
       "      <td>12.0</td>\n",
       "      <td>4.1</td>\n",
       "      <td>87.0</td>\n",
       "      <td>59999.0</td>\n",
       "    </tr>\n",
       "    <tr>\n",
       "      <th>80</th>\n",
       "      <td>Moto X4</td>\n",
       "      <td>Sterling Blue</td>\n",
       "      <td>64.0</td>\n",
       "      <td>3000.0</td>\n",
       "      <td>12</td>\n",
       "      <td>16</td>\n",
       "      <td>13.21</td>\n",
       "      <td>4.0</td>\n",
       "      <td>4.3</td>\n",
       "      <td>21119.0</td>\n",
       "      <td>23999.0</td>\n",
       "    </tr>\n",
       "    <tr>\n",
       "      <th>81</th>\n",
       "      <td>Motorola One</td>\n",
       "      <td>Ultra Violet</td>\n",
       "      <td>512.0</td>\n",
       "      <td>4000.0</td>\n",
       "      <td>13</td>\n",
       "      <td>8</td>\n",
       "      <td>15.75</td>\n",
       "      <td>4.0</td>\n",
       "      <td>4.3</td>\n",
       "      <td>22691.0</td>\n",
       "      <td>11999.0</td>\n",
       "    </tr>\n",
       "  </tbody>\n",
       "</table>\n",
       "</div>"
      ],
      "text/plain": [
       "             Name              Colour  Storage  Battery  Camera_Pixel  \\\n",
       "32        Moto G5          Lunar Grey    128.0   3000.0            12   \n",
       "33   MOTOROLA G40        Dynamic Gray     64.0   6000.0            64   \n",
       "34       Moto E6s      Rich Cranberry    512.0   3000.0            13   \n",
       "35  MOTOROLA Edge    Iridescent Cloud    128.0   4500.0           108   \n",
       "36    MOTOROLA G8          Royal Blue    256.0   5000.0            16   \n",
       "37   Motorola One          Space Blue    512.0   4000.0            13   \n",
       "38   MOTOROLA e32           Eco Black     64.0   5000.0            50   \n",
       "39  MOTOROLA Edge       Frosted Pearl    128.0   4000.0           108   \n",
       "40    MOTOROLA G8         Arctic Blue    256.0   5000.0            16   \n",
       "41  MOTOROLA Edge        Frosted Onyx    128.0   4000.0           108   \n",
       "42   MOTOROLA g82     Meterorite Grey    128.0   5000.0            50   \n",
       "43  MOTOROLA Edge      Stardust White    128.0   4800.0            50   \n",
       "44  MOTOROLA Edge   Electric Graphite    128.0   5000.0           108   \n",
       "45  MOTOROLA e32s          Slate Gray     64.0   5000.0            16   \n",
       "46  MOTOROLA Edge         Cosmos Blue    128.0   4800.0            50   \n",
       "47  MOTOROLA Edge          Cyber Teal    128.0   5000.0           108   \n",
       "48  MOTOROLA e32s        Misty Silver     64.0   5000.0            16   \n",
       "49  MOTOROLA Edge     Starlight White    128.0   4610.0           200   \n",
       "50  MOTOROLA Edge  Interstellar Black    128.0   4610.0           200   \n",
       "51   MOTOROLA e32         Arctic Blue     64.0   5000.0            50   \n",
       "52   MOTOROLA One     Moonlight White    128.0   5000.0            64   \n",
       "53    MOTOROLA E7           Coral Red     32.0   5000.0            13   \n",
       "54   MOTOROLA One       Twilight Blue    128.0   5000.0            64   \n",
       "55         Moto G       Volcanic Grey    128.0   5000.0            48   \n",
       "56         Moto G      Frosted Silver    128.0   5000.0            48   \n",
       "57   MOTOROLA G10         Aurora Grey     64.0   6000.0            48   \n",
       "58    MOTOROLA E7          Misty Blue    512.0   5000.0            48   \n",
       "59  MOTOROLA e22s           Eco Black     64.0   5000.0            16   \n",
       "60   MOTOROLA G51       Bright Silver     64.0   5000.0            50   \n",
       "61    MOTOROLA E7         Tahiti Blue     64.0   5000.0            13   \n",
       "62  MOTOROLA Edge          Cyber Teal    128.0   5000.0           108   \n",
       "63   MOTOROLA G60   Frosted Champagne    128.0   6000.0           108   \n",
       "64    MOTOROLA G9       Sapphire Blue    512.0   5000.0            48   \n",
       "65  MOTOROLA Edge   Electric Graphite    128.0   5000.0           108   \n",
       "66  MOTOROLA Edge          Cyber Teal    128.0   5000.0           108   \n",
       "67   MOTOROLA G30          Dark Pearl     64.0   5000.0            64   \n",
       "68         Moto G               Black     32.0   2470.0            13   \n",
       "69  MOTOROLA Razr               Black    128.0   2510.0            16   \n",
       "70    MOTOROLA G9     Electric Violet    512.0   6000.0            64   \n",
       "71   MOTOROLA g22        Cosmic Black     64.0   5000.0            50   \n",
       "72        Moto E4         Oxford Blue    128.0   5000.0            13   \n",
       "73        Moto E4           Fine Gold    128.0   5000.0            13   \n",
       "74         Moto X       Black Leather     16.0   2300.0            13   \n",
       "75       Moto E6s   Polished Graphite    512.0   3000.0            13   \n",
       "76  MOTOROLA Edge     Frosted Emerald    128.0   4000.0           108   \n",
       "77  MOTOROLA Edge        Midnight Sky    128.0   4500.0           108   \n",
       "78   MOTOROLA G10         Breeze Blue     64.0   6000.0            48   \n",
       "79  MOTOROLA Edge  Interstellar Black    256.0   4610.0           200   \n",
       "80        Moto X4       Sterling Blue     64.0   3000.0            12   \n",
       "81   Motorola One        Ultra Violet    512.0   4000.0            13   \n",
       "\n",
       "    Selfie_cam_pixel  Display_size   RAM  Star_ratings  Users_rated     Price  \n",
       "32                 5         13.21   4.0           4.3        218.0   16999.0  \n",
       "33                16         17.22   4.0           4.2      32732.0   14499.0  \n",
       "34                 8         15.49   4.0           4.1      79003.0    7499.0  \n",
       "35                32         17.02   8.0           4.0       3053.0   29999.0  \n",
       "36                 8         16.51   4.0           4.3      63777.0    9999.0  \n",
       "37                 8         15.75   4.0           4.3      22691.0   11999.0  \n",
       "38                 8         16.51   4.0           4.1         52.0    9999.0  \n",
       "39                32         17.02   8.0           4.1       8825.0   27999.0  \n",
       "40                 8         16.51   4.0           4.3      63777.0    9999.0  \n",
       "41                32         17.02   8.0           4.1       8825.0   27999.0  \n",
       "42                16         16.76   8.0           4.1       2414.0   22999.0  \n",
       "43                60         17.02   8.0           4.0        842.0   39999.0  \n",
       "44                32         16.94   8.0           4.1      11500.0   20999.0  \n",
       "45                 8         16.51   4.0           3.9       1213.0    9999.0  \n",
       "46                60         17.02   8.0           4.0        842.0   39999.0  \n",
       "47                32         17.00   8.0           4.1      11500.0   20999.0  \n",
       "48                 8         16.51   4.0           3.9       1213.0    9999.0  \n",
       "49                60         16.94   8.0           4.4        836.0   54999.0  \n",
       "50                60         16.94   8.0           4.4        836.0   54999.0  \n",
       "51                 8         16.51   4.0           4.1         52.0    9999.0  \n",
       "52                16         16.51   6.0           4.4        101.0   16999.0  \n",
       "53                 5         16.54   2.0           4.1      10337.0    6999.0  \n",
       "54                16         16.51   6.0           4.4        101.0   16999.0  \n",
       "55                16         16.94   6.0           4.2      14790.0   24999.0  \n",
       "56                16         16.94   6.0           4.2      14790.0   24999.0  \n",
       "57                 8         16.54   4.0           4.1      61000.0   10499.0  \n",
       "58                 8         16.51   4.0           4.2      48518.0    9499.0  \n",
       "59                 8         16.51   4.0           4.0         13.0    8999.0  \n",
       "60                13         17.27   4.0           4.1      15080.0   14999.0  \n",
       "61                 5         16.54   4.0           4.1      83358.0    8999.0  \n",
       "62                32         16.94   6.0           4.0      18884.0   18999.0  \n",
       "63                32         17.22   6.0           4.2        127.0   15999.0  \n",
       "64                 8         16.51   4.0           4.2      46823.0   11499.0  \n",
       "65                32         16.94   8.0           4.1      11500.0   20999.0  \n",
       "66                32         17.00   8.0           4.1      11500.0   20999.0  \n",
       "67                13         16.54   4.0           4.1      36135.0   10999.0  \n",
       "68                 5         12.70   2.0           4.2        997.0   16999.0  \n",
       "69                 5         15.75   6.0           3.7        194.0  149999.0  \n",
       "70                16         17.22   4.0           4.1      32029.0   11999.0  \n",
       "71                16         16.51   4.0           3.7      23584.0    9999.0  \n",
       "72                 5         13.97   3.0           4.1        483.0    9999.0  \n",
       "73                 5         13.97   3.0           4.1        483.0    9999.0  \n",
       "74                 2         13.21   2.0           4.2       6219.0   23999.0  \n",
       "75                 8         15.49   4.0           4.1      79003.0    7499.0  \n",
       "76                32         17.02   8.0           4.1       8825.0   27999.0  \n",
       "77                32         17.02   8.0           4.0       3053.0   29999.0  \n",
       "78                 8         16.54   4.0           4.1      61000.0   10499.0  \n",
       "79                60         16.94  12.0           4.1         87.0   59999.0  \n",
       "80                16         13.21   4.0           4.3      21119.0   23999.0  \n",
       "81                 8         15.75   4.0           4.3      22691.0   11999.0  "
      ]
     },
     "execution_count": 108,
     "metadata": {},
     "output_type": "execute_result"
    }
   ],
   "source": [
    "r1.tail(50)"
   ]
  },
  {
   "cell_type": "code",
   "execution_count": 111,
   "id": "d084f0b9",
   "metadata": {},
   "outputs": [],
   "source": [
    "r1.to_csv(\"PROJECT MOTOROLA_flipkart.csv\")"
   ]
  },
  {
   "cell_type": "code",
   "execution_count": null,
   "id": "ced577b9",
   "metadata": {},
   "outputs": [],
   "source": []
  },
  {
   "cell_type": "code",
   "execution_count": null,
   "id": "d29b1316",
   "metadata": {},
   "outputs": [],
   "source": []
  }
 ],
 "metadata": {
  "kernelspec": {
   "display_name": "Python 3 (ipykernel)",
   "language": "python",
   "name": "python3"
  },
  "language_info": {
   "codemirror_mode": {
    "name": "ipython",
    "version": 3
   },
   "file_extension": ".py",
   "mimetype": "text/x-python",
   "name": "python",
   "nbconvert_exporter": "python",
   "pygments_lexer": "ipython3",
   "version": "3.9.12"
  }
 },
 "nbformat": 4,
 "nbformat_minor": 5
}
