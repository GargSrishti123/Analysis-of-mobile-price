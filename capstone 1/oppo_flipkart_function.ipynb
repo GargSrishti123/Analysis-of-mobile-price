{
 "cells": [
  {
   "cell_type": "code",
   "execution_count": 197,
   "id": "2c5a222e",
   "metadata": {},
   "outputs": [],
   "source": [
    "import re\n",
    "import requests\n",
    "from bs4 import BeautifulSoup\n",
    "import pandas as pd"
   ]
  },
  {
   "cell_type": "code",
   "execution_count": 198,
   "id": "a96f64cd",
   "metadata": {},
   "outputs": [],
   "source": [
    "headers={\"User-Agent\": \"Mozilla/5.0 (Windows NT 10.0; Win64; x64) AppleWebKit/537.36 (KHTML, like Gecko) Chrome/106.0.0.0 Safari/537.36\"}"
   ]
  },
  {
   "cell_type": "code",
   "execution_count": 199,
   "id": "d1199108",
   "metadata": {},
   "outputs": [
    {
     "name": "stdout",
     "output_type": "stream",
     "text": [
      "<Response [200]>\n",
      "['OPPO K10']\n",
      "['(Black Carbon']\n",
      "['50MP', '2MP', '2MP', '16MP']\n",
      "['8 GB', '128 GB']\n",
      "['5000 mAh']\n",
      "['16.74 cm']\n",
      "['4,812', '406']\n",
      "4.3\n",
      "₹16,990\n"
     ]
    }
   ],
   "source": [
    "url=\"https://www.flipkart.com/oppo-k10-black-carbon-128-gb/p/itm6205e7e72fe0c?pid=MOBGCFUHRXHPKEFH&lid=LSTMOBGCFUHRXHPKEFHTTMTG5&marketplace=FLIPKART&q=oppo+mobiles&store=tyy%2F4io&srno=s_1_3&otracker=search&otracker1=search&fm=Search&iid=d1ff6ec1-4353-47d7-8290-7a1f9ff0619f.MOBGCFUHRXHPKEFH.SEARCH&ppt=sp&ppn=sp&ssid=uam9kjyt0w0000001668584504253&qH=d3378adaa542146e\"\n",
    "res=requests.get(url,headers=headers)\n",
    "print(res)\n",
    "a=BeautifulSoup(res.content,\"html.parser\")\n",
    "b=a.find(\"span\",attrs={\"class\":\"B_NuCI\"})\n",
    "c=b.text\n",
    "d=r'[o,O][A-Za-z]+\\s?[A-Za-z0-9]+'\n",
    "e=re.findall(d,c)\n",
    "print(e)\n",
    "f=r'[(][A-Za-z]+\\s?[A-Za-z]+'\n",
    "g=re.findall(f,c)\n",
    "print(g)\n",
    "\n",
    "h=a.find(\"div\",attrs={\"class\":\"_2418kt\"})\n",
    "i=h.text\n",
    "j=r'[0-9]+\\s?[M][P]+'\n",
    "k=re.findall(j,i)\n",
    "print(k)\n",
    "l=r'[0-9]+\\s?[G][B]+'\n",
    "m=re.findall(l,i)\n",
    "print(m)\n",
    "n=r'[0-9]+\\s?[m,M][A][H,h]'\n",
    "o=re.findall(n,i)\n",
    "print(o)\n",
    "p=r'[0-9]+\\.[0-9]+\\s?[c,C][m,entimeters]+'\n",
    "q=re.findall(p,i)\n",
    "print(q)\n",
    "r=a.find(\"span\",attrs={\"class\":\"_2_R_DZ\"})\n",
    "s=r.text\n",
    "use=r'[0-9]*[,]*[0-9]+'\n",
    "uss=re.findall(use,s)\n",
    "print(uss)\n",
    "t=a.find(\"span\",attrs={\"class\":\"_1lRcqv\"})\n",
    "u=t.text\n",
    "print(u)\n",
    "v=a.find(\"div\",attrs={\"class\":\"_30jeq3 _16Jk6d\"})\n",
    "w=v.text\n",
    "print(w)\n"
   ]
  },
  {
   "cell_type": "code",
   "execution_count": 200,
   "id": "401731aa",
   "metadata": {},
   "outputs": [],
   "source": [
    "def details(url,headers):\n",
    "    res=requests.get(url,headers=headers)\n",
    "    print(res)\n",
    "    a=BeautifulSoup(res.content,\"html.parser\")\n",
    "    b=a.find(\"span\",attrs={\"class\":\"B_NuCI\"})\n",
    "    c=b.text\n",
    "    d=r'[o,O][A-Za-z]+\\s?[A-Za-z0-9]+'\n",
    "    e=re.findall(d,c)\n",
    "    print(e)\n",
    "    f=r'[(][A-Za-z]+\\s?[A-Za-z]+'\n",
    "    g=re.findall(f,c)\n",
    "    print(g)\n",
    "\n",
    "    h=a.find(\"div\",attrs={\"class\":\"_2418kt\"})\n",
    "    i=h.text\n",
    "    j=r'[0-9]+\\s?[M][P]+'\n",
    "    k=re.findall(j,i)\n",
    "    print(k)\n",
    "    l=r'[0-9]+\\s?[G][B]+'\n",
    "    m=re.findall(l,i)\n",
    "    print(m)\n",
    "    n=r'[0-9]+\\s?[m,M][A][H,h]'\n",
    "    o=re.findall(n,i)\n",
    "    print(o)\n",
    "    p=r'[0-9]+\\.[0-9]+\\s?[c,C][m,entimeters]+'\n",
    "    q=re.findall(p,i)\n",
    "    print(q)\n",
    "    r=a.find(\"span\",attrs={\"class\":\"_2_R_DZ\"})\n",
    "    s=r.text\n",
    "    use=r'[0-9]*[,]*[0-9]+'\n",
    "    uss=re.findall(use,s)\n",
    "    print(uss)\n",
    "    t=a.find(\"span\",attrs={\"class\":\"_1lRcqv\"})\n",
    "    u=t.text\n",
    "    print(u)\n",
    "    v=a.find(\"div\",attrs={\"class\":\"_30jeq3 _16Jk6d\"})\n",
    "    w=v.text\n",
    "    print(w)\n",
    "    colour.append(f[0])\n",
    "    \n",
    "    \n",
    "    name.append(e[0])\n",
    "    colour.append(g[0])\n",
    "    camera_px.append(k[0])\n",
    "    self_px.append(k[-1])\n",
    "    ram.append(m[0])\n",
    "    storage.append(m[1])\n",
    "    battery.append(o[0])\n",
    "    display.append(q[0])\n",
    "    user_rate.append(uss[0])\n",
    "    star_rate.append(u)\n",
    "    price.append(w)\n",
    "    \n",
    "\n",
    "    "
   ]
  },
  {
   "cell_type": "code",
   "execution_count": 201,
   "id": "d72ef4aa",
   "metadata": {},
   "outputs": [],
   "source": [
    "name=[]\n",
    "colour=[]\n",
    "camera_px=[]\n",
    "self_px=[]\n",
    "battery=[]\n",
    "ram=[]\n",
    "storage=[]\n",
    "display=[]\n",
    "user_rate=[]\n",
    "star_rate=[]\n",
    "price=[]"
   ]
  },
  {
   "cell_type": "code",
   "execution_count": 202,
   "id": "f3b4f915",
   "metadata": {},
   "outputs": [
    {
     "name": "stdout",
     "output_type": "stream",
     "text": [
      "<Response [200]>\n",
      "['OPPO K10']\n",
      "['(Black Carbon']\n",
      "['50MP', '2MP', '2MP', '16MP']\n",
      "['6 GB', '128 GB']\n",
      "['5000 mAh']\n",
      "['16.74 cm']\n",
      "['77,222', '5,653']\n",
      "4.4\n",
      "₹13,990\n"
     ]
    }
   ],
   "source": [
    "b=\"https://www.flipkart.com/oppo-k10-black-carbon-128-gb/p/itm6205e7e72fe0c?pid=MOBGCFUHMDFSCM9W&lid=LSTMOBGCFUHMDFSCM9WSL0U8O&marketplace=FLIPKART&q=oppo+mobiles&store=tyy%2F4io&srno=s_1_1&otracker=search&otracker1=search&fm=organic&iid=d6f0a722-6065-46c3-9b2b-ee5da375e8b7.MOBGCFUHMDFSCM9W.SEARCH&ppt=hp&ppn=homepage&ssid=rl0pjbza0g0000001668611579955&qH=d3378adaa542146e\"\n",
    "details(b,headers)"
   ]
  },
  {
   "cell_type": "code",
   "execution_count": 203,
   "id": "8ba86997",
   "metadata": {},
   "outputs": [
    {
     "name": "stdout",
     "output_type": "stream",
     "text": [
      "<Response [200]>\n",
      "['OPPO K10']\n",
      "['(Blue Flame']\n",
      "['50MP', '2MP', '2MP', '16MP']\n",
      "['6 GB', '128 GB']\n",
      "['5000 mAh']\n",
      "['16.74 cm']\n",
      "['77,222', '5,653']\n",
      "4.4\n",
      "₹13,990\n"
     ]
    }
   ],
   "source": [
    "b1=\"https://www.flipkart.com/oppo-k10-blue-flame-128-gb/p/itm6205e7e72fe0c?pid=MOBGCFUHQAG5GDQS&lid=LSTMOBGCFUHQAG5GDQSSCVTKH&marketplace=FLIPKART&q=oppo+mobiles&store=tyy%2F4io&srno=s_1_2&otracker=search&otracker1=search&fm=organic&iid=d6f0a722-6065-46c3-9b2b-ee5da375e8b7.MOBGCFUHQAG5GDQS.SEARCH&ppt=hp&ppn=homepage&ssid=rl0pjbza0g0000001668611579955&qH=d3378adaa542146e\"\n",
    "details(b1,headers)"
   ]
  },
  {
   "cell_type": "code",
   "execution_count": 204,
   "id": "75a6b8c0",
   "metadata": {},
   "outputs": [
    {
     "name": "stdout",
     "output_type": "stream",
     "text": [
      "<Response [200]>\n",
      "['OPPO K10']\n",
      "['(Black Carbon']\n",
      "['50MP', '2MP', '2MP', '16MP']\n",
      "['8 GB', '128 GB']\n",
      "['5000 mAh']\n",
      "['16.74 cm']\n",
      "['4,812', '406']\n",
      "4.3\n",
      "₹16,990\n"
     ]
    }
   ],
   "source": [
    "b2=\"https://www.flipkart.com/oppo-k10-black-carbon-128-gb/p/itm6205e7e72fe0c?pid=MOBGCFUHRXHPKEFH&lid=LSTMOBGCFUHRXHPKEFHTTMTG5&marketplace=FLIPKART&q=oppo+mobiles&store=tyy%2F4io&srno=s_1_3&otracker=search&otracker1=search&fm=organic&iid=d6f0a722-6065-46c3-9b2b-ee5da375e8b7.MOBGCFUHRXHPKEFH.SEARCH&ppt=hp&ppn=homepage&ssid=rl0pjbza0g0000001668611579955&qH=d3378adaa542146e\"\n",
    "details(b2,headers)"
   ]
  },
  {
   "cell_type": "code",
   "execution_count": 205,
   "id": "7b5123b2",
   "metadata": {},
   "outputs": [
    {
     "name": "stdout",
     "output_type": "stream",
     "text": [
      "<Response [200]>\n",
      "['OPPO F19']\n",
      "['(Space Silver']\n",
      "['48MP', '8MP', '2MP', '2MP', '16MP']\n",
      "['8 GB', '128 GB', '256 GB']\n",
      "['4310 mAh']\n",
      "['16.33 cm']\n",
      "['18,344', '1,866']\n",
      "4.3\n",
      "₹17,990\n"
     ]
    }
   ],
   "source": [
    "b3=\"https://www.flipkart.com/oppo-f19-pro-5g-space-silver-128-gb/p/itmd90acf0f30ad6?pid=MOBGFUZ4ARZ5SPGT&lid=LSTMOBGFUZ4ARZ5SPGT9BXTWL&marketplace=FLIPKART&q=oppo+mobiles&store=tyy%2F4io&srno=s_1_4&otracker=search&otracker1=search&fm=organic&iid=d6f0a722-6065-46c3-9b2b-ee5da375e8b7.MOBGFUZ4ARZ5SPGT.SEARCH&ppt=hp&ppn=homepage&ssid=rl0pjbza0g0000001668611579955&qH=d3378adaa542146e\"\n",
    "details(b3,headers)"
   ]
  },
  {
   "cell_type": "code",
   "execution_count": 206,
   "id": "ce3cf6b4",
   "metadata": {},
   "outputs": [
    {
     "name": "stdout",
     "output_type": "stream",
     "text": [
      "<Response [200]>\n",
      "['OPPO F19']\n",
      "['(Midnight Blue']\n",
      "['48MP', '2MP', '2MP', '16MP']\n",
      "['6 GB', '128 GB', '256 GB']\n",
      "['5000 mAh']\n",
      "['16.33 cm']\n",
      "['19,142', '1,417']\n",
      "4.3\n",
      "₹14,990\n"
     ]
    }
   ],
   "source": [
    "b4=\"https://www.flipkart.com/oppo-f19-midnight-blue-128-gb/p/itm82f60569dc6db?pid=MOBGFGWNEYV3NZBV&lid=LSTMOBGFGWNEYV3NZBVFZZVNZ&marketplace=FLIPKART&q=oppo+mobiles&store=tyy%2F4io&srno=s_1_5&otracker=search&otracker1=search&fm=organic&iid=d6f0a722-6065-46c3-9b2b-ee5da375e8b7.MOBGFGWNEYV3NZBV.SEARCH&ppt=hp&ppn=homepage&ssid=rl0pjbza0g0000001668611579955&qH=d3378adaa542146e\"\n",
    "details(b4,headers)"
   ]
  },
  {
   "cell_type": "code",
   "execution_count": 207,
   "id": "31760aef",
   "metadata": {},
   "outputs": [
    {
     "name": "stdout",
     "output_type": "stream",
     "text": [
      "<Response [200]>\n",
      "['OPPO K10']\n",
      "['(Midnight Black']\n",
      "['48MP', '2MP', '8MP']\n",
      "['8 GB', '128 GB']\n",
      "['5000 mAh']\n",
      "['16.66 cm']\n",
      "['45,063', '3,397']\n",
      "4.4\n",
      "₹17,499\n"
     ]
    }
   ],
   "source": [
    "b5=\"https://www.flipkart.com/oppo-k10-5g-midnight-black-128-gb/p/itm28cf887931942?pid=MOBGETEKHMT7HMR7&lid=LSTMOBGETEKHMT7HMR7WHUWBT&marketplace=FLIPKART&q=oppo+mobiles&store=tyy%2F4io&srno=s_1_6&otracker=search&otracker1=search&fm=organic&iid=d6f0a722-6065-46c3-9b2b-ee5da375e8b7.MOBGETEKHMT7HMR7.SEARCH&ppt=hp&ppn=homepage&ssid=rl0pjbza0g0000001668611579955&qH=d3378adaa542146e\"\n",
    "details(b5,headers)"
   ]
  },
  {
   "cell_type": "code",
   "execution_count": 208,
   "id": "d59ac028",
   "metadata": {},
   "outputs": [
    {
     "name": "stdout",
     "output_type": "stream",
     "text": [
      "<Response [200]>\n",
      "['OPPO K10', 'Ocean Blue']\n",
      "['(Ocean Blue']\n",
      "['48MP', '2MP', '8MP']\n",
      "['8 GB', '128 GB']\n",
      "['5000 mAh']\n",
      "['16.66 cm']\n",
      "['45,063', '3,397']\n",
      "4.4\n",
      "₹17,499\n"
     ]
    }
   ],
   "source": [
    "b6=\"https://www.flipkart.com/oppo-k10-5g-ocean-blue-128-gb/p/itm28cf887931942?pid=MOBGEWUYZ2Z9FSQG&lid=LSTMOBGEWUYZ2Z9FSQGC2YHFU&marketplace=FLIPKART&q=oppo+mobiles&store=tyy%2F4io&srno=s_1_7&otracker=search&otracker1=search&fm=organic&iid=d6f0a722-6065-46c3-9b2b-ee5da375e8b7.MOBGEWUYZ2Z9FSQG.SEARCH&ppt=hp&ppn=homepage&ssid=rl0pjbza0g0000001668611579955&qH=d3378adaa542146e\"\n",
    "details(b6,headers)"
   ]
  },
  {
   "cell_type": "code",
   "execution_count": 209,
   "id": "fe8dd9c8",
   "metadata": {},
   "outputs": [
    {
     "name": "stdout",
     "output_type": "stream",
     "text": [
      "<Response [200]>\n",
      "['OPPO K10']\n",
      "['(Midnight Black']\n",
      "['48MP', '2MP', '8MP']\n",
      "['6 GB', '128 GB']\n",
      "['5000 mAh']\n",
      "['16.66 cm']\n",
      "['10,078', '715']\n",
      "4.4\n",
      "₹16,499\n"
     ]
    }
   ],
   "source": [
    "b7=\"https://www.flipkart.com/oppo-k10-5g-midnight-black-128-gb/p/itm28cf887931942?pid=MOBGGFFKW3NGUZXC&lid=LSTMOBGGFFKW3NGUZXCQQRHTS&marketplace=FLIPKART&q=oppo+mobiles&store=tyy%2F4io&srno=s_1_8&otracker=search&otracker1=search&fm=organic&iid=d6f0a722-6065-46c3-9b2b-ee5da375e8b7.MOBGGFFKW3NGUZXC.SEARCH&ppt=hp&ppn=homepage&ssid=rl0pjbza0g0000001668611579955&qH=d3378adaa542146e\"\n",
    "details(b7,headers)"
   ]
  },
  {
   "cell_type": "code",
   "execution_count": 210,
   "id": "32c5fde3",
   "metadata": {},
   "outputs": [
    {
     "name": "stdout",
     "output_type": "stream",
     "text": [
      "<Response [200]>\n",
      "['OPPO F19']\n",
      "['(Prism Black']\n",
      "['48MP', '2MP', '2MP', '16MP']\n",
      "['6 GB', '128 GB', '256 GB']\n",
      "['5000 mAh']\n",
      "['16.33 cm']\n",
      "['19,142', '1,417']\n",
      "4.3\n",
      "₹14,990\n"
     ]
    }
   ],
   "source": [
    "b8=\"https://www.flipkart.com/oppo-f19-prism-black-128-gb/p/itm82f60569dc6db?pid=MOBGFGWNUZXAM7QY&lid=LSTMOBGFGWNUZXAM7QYB6Z1TY&marketplace=FLIPKART&q=oppo+mobiles&store=tyy%2F4io&srno=s_1_9&otracker=search&otracker1=search&fm=organic&iid=d6f0a722-6065-46c3-9b2b-ee5da375e8b7.MOBGFGWNUZXAM7QY.SEARCH&ppt=hp&ppn=homepage&ssid=rl0pjbza0g0000001668611579955&qH=d3378adaa542146e\"\n",
    "details(b8,headers)"
   ]
  },
  {
   "cell_type": "code",
   "execution_count": 211,
   "id": "9e5c31c5",
   "metadata": {},
   "outputs": [
    {
     "name": "stdout",
     "output_type": "stream",
     "text": [
      "<Response [200]>\n",
      "['OPPO A16E']\n",
      "['(Midnight Black']\n",
      "['13MP', '5MP']\n",
      "['3 GB', '32 GB']\n",
      "['4230 mAh']\n",
      "['16.56 cm']\n",
      "['451', '15']\n",
      "4.3\n",
      "₹8,999\n"
     ]
    }
   ],
   "source": [
    "b9=\"https://www.flipkart.com/oppo-a16e-midnight-black-32-gb/p/itm85a06b75b1e08?pid=MOBGCNHPSJHEJQZZ&lid=LSTMOBGCNHPSJHEJQZZ1WLTMN&marketplace=FLIPKART&q=oppo+mobiles&store=tyy%2F4io&srno=s_1_10&otracker=search&otracker1=search&fm=organic&iid=d6f0a722-6065-46c3-9b2b-ee5da375e8b7.MOBGCNHPSJHEJQZZ.SEARCH&ppt=hp&ppn=homepage&ssid=rl0pjbza0g0000001668611579955&qH=d3378adaa542146e\"\n",
    "details(b9,headers)"
   ]
  },
  {
   "cell_type": "code",
   "execution_count": 212,
   "id": "ffe5b118",
   "metadata": {},
   "outputs": [
    {
     "name": "stdout",
     "output_type": "stream",
     "text": [
      "<Response [200]>\n",
      "['OPPO Reno8']\n",
      "['(Shimmer Black']\n",
      "['50MP', '8MP', '2MP', '32MP']\n",
      "['8 GB', '128 GB']\n",
      "['4500 mAh']\n",
      "['16.33 cm']\n",
      "['28,512', '3,789']\n",
      "4.3\n",
      "₹29,999\n"
     ]
    }
   ],
   "source": [
    "b10=\"https://www.flipkart.com/oppo-reno8-5g-shimmer-black-128-gb/p/itmba1bc0bf67ccc?pid=MOBGFPE5BHY8QGEH&lid=LSTMOBGFPE5BHY8QGEHQDYOMR&marketplace=FLIPKART&q=oppo+mobiles&store=tyy%2F4io&srno=s_1_11&otracker=search&otracker1=search&fm=organic&iid=d6f0a722-6065-46c3-9b2b-ee5da375e8b7.MOBGFPE5BHY8QGEH.SEARCH&ppt=hp&ppn=homepage&ssid=rl0pjbza0g0000001668611579955&qH=d3378adaa542146e\"\n",
    "details(b10,headers)"
   ]
  },
  {
   "cell_type": "code",
   "execution_count": 213,
   "id": "ae856813",
   "metadata": {},
   "outputs": [
    {
     "name": "stdout",
     "output_type": "stream",
     "text": [
      "<Response [200]>\n",
      "['OPPO Reno8', 'old']\n",
      "['(Shimmer Gold']\n",
      "['50MP', '8MP', '2MP', '32MP']\n",
      "['8 GB', '128 GB']\n",
      "['4500 mAh']\n",
      "['16.33 cm']\n",
      "['28,512', '3,789']\n",
      "4.3\n",
      "₹29,999\n"
     ]
    }
   ],
   "source": [
    "b11=\"https://www.flipkart.com/oppo-reno8-5g-shimmer-gold-128-gb/p/itmba1bc0bf67ccc?pid=MOBGFPE5ZNPQQWXV&lid=LSTMOBGFPE5ZNPQQWXVA0ROSN&marketplace=FLIPKART&q=oppo+mobiles&store=tyy%2F4io&srno=s_1_12&otracker=search&otracker1=search&fm=organic&iid=d6f0a722-6065-46c3-9b2b-ee5da375e8b7.MOBGFPE5ZNPQQWXV.SEARCH&ppt=hp&ppn=homepage&ssid=rl0pjbza0g0000001668611579955&qH=d3378adaa542146e\"\n",
    "details(b11,headers)"
   ]
  },
  {
   "cell_type": "code",
   "execution_count": 214,
   "id": "932cf8d1",
   "metadata": {},
   "outputs": [
    {
     "name": "stdout",
     "output_type": "stream",
     "text": [
      "<Response [200]>\n",
      "['OPPO A16E']\n",
      "['(Blue']\n",
      "['13MP', '5MP']\n",
      "['4 GB', '64 GB']\n",
      "['4230 mAh']\n",
      "['16.56 cm']\n",
      "['1,285', '53']\n",
      "4.2\n",
      "₹10,989\n"
     ]
    }
   ],
   "source": [
    "b12=\"https://www.flipkart.com/oppo-a16e-blue-64-gb/p/itm85a06b75b1e08?pid=MOBGCNHP2TBYJE7U&lid=LSTMOBGCNHP2TBYJE7USJDAVR&marketplace=FLIPKART&q=oppo+mobiles&store=tyy%2F4io&srno=s_1_13&otracker=search&otracker1=search&fm=organic&iid=d6f0a722-6065-46c3-9b2b-ee5da375e8b7.MOBGCNHP2TBYJE7U.SEARCH&ppt=hp&ppn=homepage&ssid=rl0pjbza0g0000001668611579955&qH=d3378adaa542146e\"\n",
    "details(b12,headers)"
   ]
  },
  {
   "cell_type": "code",
   "execution_count": 215,
   "id": "714a5c9d",
   "metadata": {},
   "outputs": [
    {
     "name": "stdout",
     "output_type": "stream",
     "text": [
      "<Response [200]>\n",
      "['OPPO A15S']\n",
      "['(Fancy white']\n",
      "['13MP']\n",
      "['4 GB', '128 GB']\n",
      "['4230 mAh']\n",
      "['16.56 cm']\n",
      "['5,247', '284']\n",
      "4.3\n",
      "₹11,165\n"
     ]
    }
   ],
   "source": [
    "b13=\"https://www.flipkart.com/oppo-a15s-fancy-white-128-gb/p/itm8a26d15bdd39c?pid=MOBG22NMSYBGYYUG&lid=LSTMOBG22NMSYBGYYUGW1EUI8&marketplace=FLIPKART&q=oppo+mobiles&store=tyy%2F4io&srno=s_1_15&otracker=search&otracker1=search&fm=organic&iid=d6f0a722-6065-46c3-9b2b-ee5da375e8b7.MOBG22NMSYBGYYUG.SEARCH&ppt=hp&ppn=homepage&ssid=rl0pjbza0g0000001668611579955&qH=d3378adaa542146e\"\n",
    "details(b13,headers)"
   ]
  },
  {
   "cell_type": "code",
   "execution_count": 216,
   "id": "a2d110ea",
   "metadata": {},
   "outputs": [
    {
     "name": "stdout",
     "output_type": "stream",
     "text": [
      "<Response [200]>\n",
      "['OPPO A16E']\n",
      "['(White']\n",
      "['13MP', '5MP']\n",
      "['4 GB', '64 GB']\n",
      "['4230 mAh']\n",
      "['16.56 cm']\n",
      "['1,285', '53']\n",
      "4.2\n",
      "₹9,999\n"
     ]
    }
   ],
   "source": [
    "b14=\"https://www.flipkart.com/oppo-a16e-white-64-gb/p/itm85a06b75b1e08?pid=MOBGCNHPZCJMEHBH&lid=LSTMOBGCNHPZCJMEHBHJK77SY&marketplace=FLIPKART&q=oppo+mobiles&store=tyy%2F4io&srno=s_1_16&otracker=search&otracker1=search&fm=organic&iid=d6f0a722-6065-46c3-9b2b-ee5da375e8b7.MOBGCNHPZCJMEHBH.SEARCH&ppt=hp&ppn=homepage&ssid=rl0pjbza0g0000001668611579955&qH=d3378adaa542146e\"\n",
    "details(b14,headers)"
   ]
  },
  {
   "cell_type": "code",
   "execution_count": 217,
   "id": "96aa0579",
   "metadata": {},
   "outputs": [
    {
     "name": "stdout",
     "output_type": "stream",
     "text": [
      "<Response [200]>\n",
      "['OPPO A17']\n",
      "['(Midnight Black']\n",
      "['50MP', '3MP', '3MP', '5MP']\n",
      "['4 GB', '64 GB']\n",
      "['5000 mAh']\n",
      "['16.66 cm']\n",
      "['808', '33']\n",
      "4.4\n",
      "₹12,499\n"
     ]
    }
   ],
   "source": [
    "b15=\"https://www.flipkart.com/oppo-a17-midnight-black-64-gb/p/itm972be448027ca?pid=MOBGGFG3KEZHSGZA&lid=LSTMOBGGFG3KEZHSGZAID0ABM&marketplace=FLIPKART&q=oppo+mobiles&store=tyy%2F4io&srno=s_1_17&otracker=search&otracker1=search&fm=organic&iid=d6f0a722-6065-46c3-9b2b-ee5da375e8b7.MOBGGFG3KEZHSGZA.SEARCH&ppt=hp&ppn=homepage&ssid=rl0pjbza0g0000001668611579955&qH=d3378adaa542146e\"\n",
    "details(b15,headers)"
   ]
  },
  {
   "cell_type": "code",
   "execution_count": 218,
   "id": "184da41a",
   "metadata": {},
   "outputs": [
    {
     "name": "stdout",
     "output_type": "stream",
     "text": [
      "<Response [200]>\n",
      "['OPPO A16E']\n",
      "['(White']\n",
      "['13MP', '5MP']\n",
      "['3 GB', '32 GB']\n",
      "['4230 mAh']\n",
      "['16.56 cm']\n",
      "['451', '15']\n",
      "4.3\n",
      "₹8,999\n"
     ]
    }
   ],
   "source": [
    "b16=\"https://www.flipkart.com/oppo-a16e-white-32-gb/p/itm85a06b75b1e08?pid=MOBGCNHPFUD7NYRZ&lid=LSTMOBGCNHPFUD7NYRZLXAVI5&marketplace=FLIPKART&q=oppo+mobiles&store=tyy%2F4io&srno=s_1_18&otracker=search&otracker1=search&fm=organic&iid=d6f0a722-6065-46c3-9b2b-ee5da375e8b7.MOBGCNHPFUD7NYRZ.SEARCH&ppt=hp&ppn=homepage&ssid=rl0pjbza0g0000001668611579955&qH=d3378adaa542146e\"\n",
    "details(b16,headers)"
   ]
  },
  {
   "cell_type": "code",
   "execution_count": 219,
   "id": "a809aeb2",
   "metadata": {},
   "outputs": [
    {
     "name": "stdout",
     "output_type": "stream",
     "text": [
      "<Response [200]>\n",
      "['OPPO A54']\n",
      "['(Starry Blue']\n",
      "['13MP', '2MP', '2MP', '16MP']\n",
      "['4 GB', '64 GB', '256 GB']\n",
      "['5000 mAh']\n",
      "['16.54 cm']\n",
      "['10,603', '656']\n",
      "4.4\n",
      "₹12,499\n"
     ]
    }
   ],
   "source": [
    "b17=\"https://www.flipkart.com/oppo-a54-starry-blue-64-gb/p/itm2c71eaacf710e?pid=MOBG23KTBRGUKRFG&lid=LSTMOBG23KTBRGUKRFGNYPTF9&marketplace=FLIPKART&q=oppo+mobiles&store=tyy%2F4io&srno=s_1_19&otracker=search&otracker1=search&fm=organic&iid=d6f0a722-6065-46c3-9b2b-ee5da375e8b7.MOBG23KTBRGUKRFG.SEARCH&ppt=hp&ppn=homepage&ssid=rl0pjbza0g0000001668611579955&qH=d3378adaa542146e\"\n",
    "details(b17,headers)"
   ]
  },
  {
   "cell_type": "code",
   "execution_count": 220,
   "id": "8c785147",
   "metadata": {},
   "outputs": [
    {
     "name": "stdout",
     "output_type": "stream",
     "text": [
      "<Response [200]>\n",
      "['OPPO A54']\n",
      "['(Crystal Black']\n",
      "['13MP', '2MP', '2MP', '16MP']\n",
      "['4 GB', '128 GB', '256 GB']\n",
      "['5000 mAh']\n",
      "['16.54 cm']\n",
      "['10,603', '656']\n",
      "4.4\n",
      "₹14,990\n"
     ]
    }
   ],
   "source": [
    "b18=\"https://www.flipkart.com/oppo-a54-crystal-black-128-gb/p/itm2c71eaacf710e?pid=MOBG23KTWRH6WH7P&lid=LSTMOBG23KTWRH6WH7PWZI4SX&marketplace=FLIPKART&q=oppo+mobiles&store=tyy%2F4io&srno=s_1_20&otracker=search&otracker1=search&fm=organic&iid=d6f0a722-6065-46c3-9b2b-ee5da375e8b7.MOBG23KTWRH6WH7P.SEARCH&ppt=hp&ppn=homepage&ssid=rl0pjbza0g0000001668611579955&qH=d3378adaa542146e\"\n",
    "details(b18,headers)"
   ]
  },
  {
   "cell_type": "code",
   "execution_count": 221,
   "id": "591919f5",
   "metadata": {},
   "outputs": [
    {
     "name": "stdout",
     "output_type": "stream",
     "text": [
      "<Response [200]>\n",
      "['OPPO A16']\n",
      "['(Crystal Black']\n",
      "['13MP', '8MP']\n",
      "['4 GB', '64 GB']\n",
      "['5000 mAh']\n",
      "['16.56 cm']\n",
      "['3,512', '250']\n",
      "4.3\n",
      "₹12,990\n"
     ]
    }
   ],
   "source": [
    "b19=\"https://www.flipkart.com/oppo-a16-crystal-black-64-gb/p/itmd17bb9a1b2cd3?pid=MOBG8496FBNXD9SJ&lid=LSTMOBG8496FBNXD9SJ5QQ4VP&marketplace=FLIPKART&q=oppo+mobiles&store=tyy%2F4io&srno=s_1_21&otracker=search&otracker1=search&fm=organic&iid=d6f0a722-6065-46c3-9b2b-ee5da375e8b7.MOBG8496FBNXD9SJ.SEARCH&ppt=hp&ppn=homepage&ssid=rl0pjbza0g0000001668611579955&qH=d3378adaa542146e\"\n",
    "details(b19,headers)"
   ]
  },
  {
   "cell_type": "code",
   "execution_count": 222,
   "id": "a1249bc0",
   "metadata": {},
   "outputs": [
    {
     "name": "stdout",
     "output_type": "stream",
     "text": [
      "<Response [200]>\n",
      "['OPPO A16']\n",
      "['(Pearl Blue']\n",
      "['13MP', '8MP']\n",
      "['4 GB', '64 GB']\n",
      "['5000 mAh']\n",
      "['16.56 cm']\n",
      "['3,512', '250']\n",
      "4.3\n",
      "₹12,990\n"
     ]
    }
   ],
   "source": [
    "b20=\"https://www.flipkart.com/oppo-a16-pearl-blue-64-gb/p/itmd17bb9a1b2cd3?pid=MOBG8496ZCYHF2XH&lid=LSTMOBG8496ZCYHF2XHHNK4NC&marketplace=FLIPKART&q=oppo+mobiles&store=tyy%2F4io&srno=s_1_22&otracker=search&otracker1=search&fm=organic&iid=d6f0a722-6065-46c3-9b2b-ee5da375e8b7.MOBG8496ZCYHF2XH.SEARCH&ppt=hp&ppn=homepage&ssid=rl0pjbza0g0000001668611579955&qH=d3378adaa542146e\"\n",
    "details(b20,headers)"
   ]
  },
  {
   "cell_type": "code",
   "execution_count": 223,
   "id": "0a7fcdb3",
   "metadata": {},
   "outputs": [
    {
     "name": "stdout",
     "output_type": "stream",
     "text": [
      "<Response [200]>\n",
      "['OPPO A57', 'owing Green']\n",
      "['(Glowing Green']\n",
      "['13MP', '2MP', '8MP']\n",
      "['4 GB', '64 GB']\n",
      "['5000 mAh']\n",
      "['16.66 cm']\n",
      "['1,789', '96']\n",
      "4.4\n",
      "₹13,999\n"
     ]
    }
   ],
   "source": [
    "b21=\"https://www.flipkart.com/oppo-a57-glowing-green-64-gb/p/itma242c097cc9a1?pid=MOBGFBTZZYMMXHEN&lid=LSTMOBGFBTZZYMMXHENWJ4WAZ&marketplace=FLIPKART&q=oppo+mobiles&store=tyy%2F4io&srno=s_1_23&otracker=search&otracker1=search&fm=organic&iid=d6f0a722-6065-46c3-9b2b-ee5da375e8b7.MOBGFBTZZYMMXHEN.SEARCH&ppt=hp&ppn=homepage&ssid=rl0pjbza0g0000001668611579955&qH=d3378adaa542146e\"\n",
    "details(b21,headers)"
   ]
  },
  {
   "cell_type": "code",
   "execution_count": 224,
   "id": "4df9f507",
   "metadata": {},
   "outputs": [
    {
     "name": "stdout",
     "output_type": "stream",
     "text": [
      "<Response [200]>\n",
      "['OPPO A74']\n",
      "['(Fantastic Purple']\n",
      "['48MP', '2MP', '2MP', '8MP']\n",
      "['6 GB', '128 GB']\n",
      "['5000 mAh']\n",
      "['16.48 cm']\n",
      "['1,035', '94']\n",
      "4.3\n",
      "₹17,399\n"
     ]
    }
   ],
   "source": [
    "b22=\"https://www.flipkart.com/oppo-a74-5g-fantastic-purple-128-gb/p/itm53ee8fb563c7e?pid=MOBG2HZCJBHTVF9M&lid=LSTMOBG2HZCJBHTVF9MMVRRQN&marketplace=FLIPKART&q=oppo+mobiles&store=tyy%2F4io&srno=s_1_24&otracker=search&otracker1=search&fm=organic&iid=d6f0a722-6065-46c3-9b2b-ee5da375e8b7.MOBG2HZCJBHTVF9M.SEARCH&ppt=hp&ppn=homepage&ssid=rl0pjbza0g0000001668611579955&qH=d3378adaa542146e\"\n",
    "details(b22,headers)"
   ]
  },
  {
   "cell_type": "code",
   "execution_count": 225,
   "id": "ab8e4ebd",
   "metadata": {},
   "outputs": [
    {
     "name": "stdout",
     "output_type": "stream",
     "text": [
      "<Response [200]>\n",
      "['OPPO A77s', 'Orange']\n",
      "['(Sunset Orange']\n",
      "['50MP', '2MP', '8MP']\n",
      "['8 GB', '128 GB']\n",
      "['5000 mAh']\n",
      "['16.66 cm']\n",
      "['16', '1']\n",
      "4.6\n",
      "₹17,999\n"
     ]
    }
   ],
   "source": [
    "b23=\"https://www.flipkart.com/oppo-a77s-sunset-orange-128-gb/p/itm6a9c2e59a3011?pid=MOBGGJVS26EFZYYX&lid=LSTMOBGGJVS26EFZYYXZMQNLI&marketplace=FLIPKART&q=oppo+mobiles&store=tyy%2F4io&srno=s_2_25&otracker=search&otracker1=search&fm=Search&iid=5ec190ed-eb40-490d-8e94-d1e5032068cf.MOBGGJVS26EFZYYX.SEARCH&ppt=sp&ppn=sp&qH=d3378adaa542146e\"\n",
    "details(b23,headers)"
   ]
  },
  {
   "cell_type": "code",
   "execution_count": 226,
   "id": "1c30d4f9",
   "metadata": {},
   "outputs": [
    {
     "name": "stdout",
     "output_type": "stream",
     "text": [
      "<Response [200]>\n",
      "['OPPO F17']\n",
      "['(Metallic White']\n",
      "['48MP', '8MP', '2MP', '2MP', '16MP', '2MP']\n",
      "['8 GB', '128 GB', '256 GB']\n",
      "['4015 mAh']\n",
      "['16.33 cm']\n",
      "['28,266', '2,432']\n",
      "4.3\n",
      "₹17,990\n"
     ]
    }
   ],
   "source": [
    "b24=\"https://www.flipkart.com/oppo-f17-pro-metallic-white-128-gb/p/itm4e2fc7ddc621c?pid=MOBFVYVXYXFSV2CH&lid=LSTMOBFVYVXYXFSV2CH3AZVSO&marketplace=FLIPKART&q=oppo+mobiles&store=tyy%2F4io&srno=s_2_26&otracker=search&otracker1=search&fm=Search&iid=5ec190ed-eb40-490d-8e94-d1e5032068cf.MOBFVYVXYXFSV2CH.SEARCH&ppt=sp&ppn=sp&qH=d3378adaa542146e\"\n",
    "details(b24,headers)"
   ]
  },
  {
   "cell_type": "code",
   "execution_count": 227,
   "id": "6d020fb8",
   "metadata": {},
   "outputs": [
    {
     "name": "stdout",
     "output_type": "stream",
     "text": [
      "<Response [200]>\n",
      "['OPPO A57', 'owing Black']\n",
      "['(Glowing Black']\n",
      "['13MP', '2MP', '8MP']\n",
      "['4 GB', '64 GB']\n",
      "['5000 mAh']\n",
      "['16.66 cm']\n",
      "['1,789', '96']\n",
      "4.4\n",
      "₹13,999\n"
     ]
    }
   ],
   "source": [
    "b25=\"https://www.flipkart.com/oppo-a57-glowing-black-64-gb/p/itma242c097cc9a1?pid=MOBGFBTZMUEZZZZB&lid=LSTMOBGFBTZMUEZZZZB3VGGNP&marketplace=FLIPKART&q=oppo+mobiles&store=tyy%2F4io&srno=s_2_27&otracker=search&otracker1=search&fm=Search&iid=5ec190ed-eb40-490d-8e94-d1e5032068cf.MOBGFBTZMUEZZZZB.SEARCH&ppt=sp&ppn=sp&qH=d3378adaa542146e\"\n",
    "details(b25,headers)"
   ]
  },
  {
   "cell_type": "code",
   "execution_count": 228,
   "id": "f1f8fe21",
   "metadata": {},
   "outputs": [
    {
     "name": "stdout",
     "output_type": "stream",
     "text": [
      "<Response [200]>\n",
      "['OPPO A12']\n",
      "['(Deep Blue']\n",
      "['13MP', '2MP', '5MP']\n",
      "['3 GB', '32 GB', '256 GB']\n",
      "['4230 mAh']\n",
      "['15.8 cm']\n",
      "['74,712', '4,495']\n",
      "4.4\n",
      "₹9,990\n"
     ]
    }
   ],
   "source": [
    "b26=\"https://www.flipkart.com/oppo-a12-deep-blue-32-gb/p/itmfc859cdf39e01?pid=MOBFZCPFHAT4RCE8&lid=LSTMOBFZCPFHAT4RCE8CIDDGJ&marketplace=FLIPKART&q=oppo+mobiles&store=tyy%2F4io&srno=s_2_28&otracker=search&otracker1=search&fm=Search&iid=5ec190ed-eb40-490d-8e94-d1e5032068cf.MOBFZCPFHAT4RCE8.SEARCH&ppt=sp&ppn=sp&qH=d3378adaa542146e\"\n",
    "details(b26,headers)"
   ]
  },
  {
   "cell_type": "code",
   "execution_count": 229,
   "id": "ff415e25",
   "metadata": {},
   "outputs": [
    {
     "name": "stdout",
     "output_type": "stream",
     "text": [
      "<Response [200]>\n",
      "['OPPO F21SPRO', 'Orange']\n",
      "['(Orange']\n",
      "['64MP', '2MP', '32MP', '2MP']\n",
      "['8 GB', '128 GB']\n",
      "['4500 mAh']\n",
      "['16.33 cm']\n",
      "['6', '0']\n",
      "4.3\n",
      "₹21,989\n"
     ]
    }
   ],
   "source": [
    "b27=\"https://www.flipkart.com/oppo-f21spro-orange-128-gb/p/itm8307821173fa9?pid=MOBGG43FGSZYCYB9&lid=LSTMOBGG43FGSZYCYB9HDIB7K&marketplace=FLIPKART&q=oppo+mobiles&store=tyy%2F4io&srno=s_2_29&otracker=search&otracker1=search&fm=Search&iid=5ec190ed-eb40-490d-8e94-d1e5032068cf.MOBGG43FGSZYCYB9.SEARCH&ppt=sp&ppn=sp&qH=d3378adaa542146e\"\n",
    "details(b27,headers)"
   ]
  },
  {
   "cell_type": "code",
   "execution_count": 230,
   "id": "3e362f24",
   "metadata": {},
   "outputs": [
    {
     "name": "stdout",
     "output_type": "stream",
     "text": [
      "<Response [200]>\n",
      "['OPPO A77']\n",
      "['(Sky Blue']\n",
      "['50MP', '2MP', '8MP']\n",
      "['4 GB', '64 GB']\n",
      "['5000 mAh']\n",
      "['16.66 cm']\n",
      "['126', '6']\n",
      "4.4\n",
      "₹15,499\n"
     ]
    }
   ],
   "source": [
    "b28=\"https://www.flipkart.com/oppo-a77-sky-blue-64-gb/p/itme5841383d98bb?pid=MOBGGMJ9PD5CGGHA&lid=LSTMOBGGMJ9PD5CGGHANA61VP&marketplace=FLIPKART&q=oppo+mobiles&store=tyy%2F4io&srno=s_2_30&otracker=search&otracker1=search&fm=Search&iid=5ec190ed-eb40-490d-8e94-d1e5032068cf.MOBGGMJ9PD5CGGHA.SEARCH&ppt=sp&ppn=sp&qH=d3378adaa542146e\"\n",
    "details(b28,headers)"
   ]
  },
  {
   "cell_type": "code",
   "execution_count": 231,
   "id": "64602536",
   "metadata": {},
   "outputs": [
    {
     "name": "stdout",
     "output_type": "stream",
     "text": [
      "<Response [200]>\n",
      "['OPPO Reno8']\n",
      "['(Glazed Black']\n",
      "['50MP', '8MP', '2MP', '32MP']\n",
      "['12 GB', '256 GB']\n",
      "['4500 mAh']\n",
      "['17.02 cm']\n",
      "['1,822', '237']\n",
      "4.4\n",
      "₹45,999\n"
     ]
    }
   ],
   "source": [
    "b29=\"https://www.flipkart.com/oppo-reno8-pro-5g-glazed-black-256-gb/p/itm30b1eb50ca71f?pid=MOBGFPE5YNUF6NDV&lid=LSTMOBGFPE5YNUF6NDVRHBY1J&marketplace=FLIPKART&q=oppo+mobiles&store=tyy%2F4io&srno=s_2_31&otracker=search&otracker1=search&fm=Search&iid=5ec190ed-eb40-490d-8e94-d1e5032068cf.MOBGFPE5YNUF6NDV.SEARCH&ppt=sp&ppn=sp&qH=d3378adaa542146e\"\n",
    "details(b29,headers)"
   ]
  },
  {
   "cell_type": "code",
   "execution_count": 232,
   "id": "90698183",
   "metadata": {},
   "outputs": [
    {
     "name": "stdout",
     "output_type": "stream",
     "text": [
      "<Response [200]>\n",
      "['OPPO F17']\n",
      "['(Magic Blue']\n",
      "['48MP', '8MP', '2MP', '2MP', '16MP', '2MP']\n",
      "['8 GB', '128 GB', '256 GB']\n",
      "['4015 mAh']\n",
      "['16.33 cm']\n",
      "['28,266', '2,432']\n",
      "4.3\n",
      "₹17,990\n"
     ]
    }
   ],
   "source": [
    "b30=\"https://www.flipkart.com/oppo-f17-pro-magic-blue-128-gb/p/itm4e2fc7ddc621c?pid=MOBFVYVXA567AXNY&lid=LSTMOBFVYVXA567AXNYXT3HBZ&marketplace=FLIPKART&q=oppo+mobiles&store=tyy%2F4io&srno=s_2_32&otracker=search&otracker1=search&fm=Search&iid=5ec190ed-eb40-490d-8e94-d1e5032068cf.MOBFVYVXA567AXNY.SEARCH&ppt=sp&ppn=sp&qH=d3378adaa542146e\"\n",
    "details(b30,headers)"
   ]
  },
  {
   "cell_type": "code",
   "execution_count": 233,
   "id": "fbb5311c",
   "metadata": {},
   "outputs": [
    {
     "name": "stdout",
     "output_type": "stream",
     "text": [
      "<Response [200]>\n",
      "['OPPO F21', 'osmic Black']\n",
      "['(Cosmic Black']\n",
      "['64MP']\n",
      "['8 GB', '128 GB']\n",
      "['4500 mAh']\n",
      "['16.33 cm']\n",
      "['1,564', '138']\n",
      "4.3\n",
      "₹21,999\n"
     ]
    }
   ],
   "source": [
    "b31=\"https://www.flipkart.com/oppo-f21-pro-cosmic-black-128-gb/p/itm2e204aa2f6ac7?pid=MOBGDECYGAZSHC9N&lid=LSTMOBGDECYGAZSHC9NSDPFGB&marketplace=FLIPKART&q=oppo+mobiles&store=tyy%2F4io&srno=s_2_34&otracker=search&otracker1=search&fm=Search&iid=5ec190ed-eb40-490d-8e94-d1e5032068cf.MOBGDECYGAZSHC9N.SEARCH&ppt=sp&ppn=sp&qH=d3378adaa542146e\"\n",
    "details(b31,headers)"
   ]
  },
  {
   "cell_type": "code",
   "execution_count": 234,
   "id": "085bd943",
   "metadata": {},
   "outputs": [
    {
     "name": "stdout",
     "output_type": "stream",
     "text": [
      "<Response [200]>\n",
      "['OPPO A54', 'oonlight Gold']\n",
      "['(Moonlight Gold']\n",
      "['13MP', '2MP', '2MP', '16MP']\n",
      "['6 GB', '128 GB', '256 GB']\n",
      "['5000 mAh']\n",
      "['16.54 cm']\n",
      "['3,939', '225']\n",
      "4.3\n",
      "₹15,990\n"
     ]
    }
   ],
   "source": [
    "b32=\"https://www.flipkart.com/oppo-a54-moonlight-gold-128-gb/p/itm2c71eaacf710e?pid=MOBG23KTD7YWGYMZ&lid=LSTMOBG23KTD7YWGYMZXCBXBG&marketplace=FLIPKART&q=oppo+mobiles&store=tyy%2F4io&srno=s_2_35&otracker=search&otracker1=search&fm=Search&iid=5ec190ed-eb40-490d-8e94-d1e5032068cf.MOBG23KTD7YWGYMZ.SEARCH&ppt=sp&ppn=sp&qH=d3378adaa542146e\"\n",
    "details(b32,headers)"
   ]
  },
  {
   "cell_type": "code",
   "execution_count": 235,
   "id": "b22bdfc1",
   "metadata": {},
   "outputs": [
    {
     "name": "stdout",
     "output_type": "stream",
     "text": [
      "<Response [200]>\n",
      "['OPPO A96']\n",
      "['(Starry Black']\n",
      "['50MP', '2MP', '16MP']\n",
      "['8 GB', '128 GB']\n",
      "['5000 mAh']\n",
      "['16.74 cm']\n",
      "['831', '78']\n",
      "4.3\n",
      "₹17,999\n"
     ]
    }
   ],
   "source": [
    "b33=\"https://www.flipkart.com/oppo-a96-starry-black-128-gb/p/itm38b834a3d879e?pid=MOBGCFJTBBRWUHBF&lid=LSTMOBGCFJTBBRWUHBFA8HYO6&marketplace=FLIPKART&q=oppo+mobiles&store=tyy%2F4io&srno=s_2_36&otracker=search&otracker1=search&fm=Search&iid=5ec190ed-eb40-490d-8e94-d1e5032068cf.MOBGCFJTBBRWUHBF.SEARCH&ppt=sp&ppn=sp&qH=d3378adaa542146e\"\n",
    "details(b33,headers)"
   ]
  },
  {
   "cell_type": "code",
   "execution_count": 236,
   "id": "67183e7d",
   "metadata": {},
   "outputs": [
    {
     "name": "stdout",
     "output_type": "stream",
     "text": [
      "<Response [200]>\n",
      "['OPPO Reno7']\n",
      "['(Startrails Blue']\n",
      "['64MP', '8MP', '2MP', '32MP']\n",
      "['8 GB', '256 GB']\n",
      "['4500 mAh']\n",
      "['16.33 cm']\n",
      "['15,896', '2,063']\n",
      "4.2\n",
      "₹28,999\n"
     ]
    }
   ],
   "source": [
    "b34=\"https://www.flipkart.com/oppo-reno7-5g-startrails-blue-256-gb/p/itm6110d8481be93?pid=MOBGB5WXUMEN6HDZ&lid=LSTMOBGB5WXUMEN6HDZ4IB1CN&marketplace=FLIPKART&q=oppo+mobiles&store=tyy%2F4io&srno=s_2_37&otracker=search&otracker1=search&fm=Search&iid=5ec190ed-eb40-490d-8e94-d1e5032068cf.MOBGB5WXUMEN6HDZ.SEARCH&ppt=sp&ppn=sp&qH=d3378adaa542146e\"\n",
    "details(b34,headers)"
   ]
  },
  {
   "cell_type": "code",
   "execution_count": 237,
   "id": "08e613e8",
   "metadata": {},
   "outputs": [
    {
     "name": "stdout",
     "output_type": "stream",
     "text": [
      "<Response [200]>\n",
      "['OPPO A55']\n",
      "['(Starry Black']\n",
      "['50MP', '2MP', '2MP', '16MP']\n",
      "['4 GB', '64 GB', '256 GB']\n",
      "['5000 mAh']\n",
      "['16.54 cm']\n",
      "['648', '62']\n",
      "4.2\n",
      "₹14,490\n"
     ]
    }
   ],
   "source": [
    "b35=\"https://www.flipkart.com/oppo-a55-starry-black-64-gb/p/itmfd07b94a9a543?pid=MOBG84AZTSAMHC2E&lid=LSTMOBG84AZTSAMHC2EA7RE4J&marketplace=FLIPKART&q=oppo+mobiles&store=tyy%2F4io&srno=s_2_38&otracker=search&otracker1=search&fm=Search&iid=5ec190ed-eb40-490d-8e94-d1e5032068cf.MOBG84AZTSAMHC2E.SEARCH&ppt=sp&ppn=sp&qH=d3378adaa542146e\"\n",
    "details(b35,headers)"
   ]
  },
  {
   "cell_type": "code",
   "execution_count": 238,
   "id": "f4818372",
   "metadata": {},
   "outputs": [
    {
     "name": "stdout",
     "output_type": "stream",
     "text": [
      "<Response [200]>\n",
      "['OPPO Reno7']\n",
      "['(Starry Black']\n",
      "['64MP', '8MP', '2MP', '32MP']\n",
      "['8 GB', '256 GB']\n",
      "['4500 mAh']\n",
      "['16.33 cm']\n",
      "['15,896', '2,063']\n",
      "4.2\n",
      "₹28,999\n"
     ]
    }
   ],
   "source": [
    "b36=\"https://www.flipkart.com/oppo-reno7-5g-starry-black-256-gb/p/itm6110d8481be93?pid=MOBGB5WXJWMEHYG8&lid=LSTMOBGB5WXJWMEHYG8RFVJSZ&marketplace=FLIPKART&q=oppo+mobiles&store=tyy%2F4io&srno=s_2_39&otracker=search&otracker1=search&fm=Search&iid=5ec190ed-eb40-490d-8e94-d1e5032068cf.MOBGB5WXJWMEHYG8.SEARCH&ppt=sp&ppn=sp&qH=d3378adaa542146e\"\n",
    "details(b36,headers)"
   ]
  },
  {
   "cell_type": "code",
   "execution_count": 239,
   "id": "19395752",
   "metadata": {},
   "outputs": [
    {
     "name": "stdout",
     "output_type": "stream",
     "text": [
      "<Response [200]>\n",
      "['OPPO A74']\n",
      "['(Fluid Black']\n",
      "['48MP', '2MP', '2MP', '8MP']\n",
      "['6 GB', '128 GB']\n",
      "['5000 mAh']\n",
      "['16.48 cm']\n",
      "['1,716', '135']\n",
      "4.3\n",
      "₹18,490\n"
     ]
    }
   ],
   "source": [
    "b37=\"https://www.flipkart.com/oppo-a74-5g-black-fluid-black-128-gb/p/itm93519bec12f5e?pid=MOBG2J3Y57FYB8MA&lid=LSTMOBG2J3Y57FYB8MAZ8CNSO&marketplace=FLIPKART&q=oppo+mobiles&store=tyy%2F4io&srno=s_2_40&otracker=search&otracker1=search&fm=Search&iid=5ec190ed-eb40-490d-8e94-d1e5032068cf.MOBG2J3Y57FYB8MA.SEARCH&ppt=sp&ppn=sp&qH=d3378adaa542146e\"\n",
    "details(b37,headers)"
   ]
  },
  {
   "cell_type": "code",
   "execution_count": 240,
   "id": "8e31410f",
   "metadata": {},
   "outputs": [
    {
     "name": "stdout",
     "output_type": "stream",
     "text": [
      "<Response [200]>\n",
      "['OPPO Reno7']\n",
      "['(Starlight Black']\n",
      "['50MP', '8MP', '2MP', '32MP']\n",
      "['12 GB', '256 GB']\n",
      "['4500 mAh']\n",
      "['16.51 cm']\n",
      "['7,070', '958']\n",
      "4.3\n",
      "₹34,999\n"
     ]
    }
   ],
   "source": [
    "b38=\"https://www.flipkart.com/oppo-reno7-pro-5g-starlight-black-256-gb/p/itm9a6b0ca45fe90?pid=MOBGBYH5H33KFUFY&lid=LSTMOBGBYH5H33KFUFYJBGMJQ&marketplace=FLIPKART&q=oppo+mobiles&store=tyy%2F4io&srno=s_2_41&otracker=search&otracker1=search&fm=Search&iid=5ec190ed-eb40-490d-8e94-d1e5032068cf.MOBGBYH5H33KFUFY.SEARCH&ppt=sp&ppn=sp&qH=d3378adaa542146e\"\n",
    "details(b38,headers)"
   ]
  },
  {
   "cell_type": "code",
   "execution_count": 241,
   "id": "10432a4a",
   "metadata": {},
   "outputs": [
    {
     "name": "stdout",
     "output_type": "stream",
     "text": [
      "<Response [200]>\n",
      "['OPPO A12']\n",
      "['(Black']\n",
      "['13MP', '2MP', '5MP']\n",
      "['3 GB', '32 GB', '256 GB']\n",
      "['4230 mAh']\n",
      "['15.8 cm']\n",
      "['74,712', '4,495']\n",
      "4.4\n",
      "₹9,990\n"
     ]
    }
   ],
   "source": [
    "b39=\"https://www.flipkart.com/oppo-a12-black-32-gb/p/itmfc859cdf39e01?pid=MOBFSDDJSMYQY6RS&lid=LSTMOBFSDDJSMYQY6RSCQ8BHN&marketplace=FLIPKART&q=oppo+mobiles&store=tyy%2F4io&srno=s_2_42&otracker=search&otracker1=search&fm=Search&iid=5ec190ed-eb40-490d-8e94-d1e5032068cf.MOBFSDDJSMYQY6RS.SEARCH&ppt=sp&ppn=sp&qH=d3378adaa542146e\"\n",
    "details(b39,headers)"
   ]
  },
  {
   "cell_type": "code",
   "execution_count": 242,
   "id": "a73ef21c",
   "metadata": {},
   "outputs": [
    {
     "name": "stdout",
     "output_type": "stream",
     "text": [
      "<Response [200]>\n",
      "['OPPO A12']\n",
      "['(Blue']\n",
      "['13MP', '2MP', '5MP']\n",
      "['3 GB', '32 GB', '256 GB']\n",
      "['4230 mAh']\n",
      "['15.8 cm']\n",
      "['74,712', '4,495']\n",
      "4.4\n",
      "₹9,990\n"
     ]
    }
   ],
   "source": [
    "b40=\"https://www.flipkart.com/oppo-a12-blue-32-gb/p/itmfc859cdf39e01?pid=MOBFSDDJUUE7MQGG&lid=LSTMOBFSDDJUUE7MQGGZKZAWH&marketplace=FLIPKART&q=oppo+mobiles&store=tyy%2F4io&srno=s_2_43&otracker=search&otracker1=search&fm=Search&iid=5ec190ed-eb40-490d-8e94-d1e5032068cf.MOBFSDDJUUE7MQGG.SEARCH&ppt=sp&ppn=sp&qH=d3378adaa542146e\"\n",
    "details(b40,headers)"
   ]
  },
  {
   "cell_type": "code",
   "execution_count": 243,
   "id": "0427fb8b",
   "metadata": {},
   "outputs": [
    {
     "name": "stdout",
     "output_type": "stream",
     "text": [
      "<Response [200]>\n",
      "['OPPO A12', 'owing Silver']\n",
      "['(Flowing Silver']\n",
      "['13MP', '2MP', '5MP']\n",
      "['3 GB', '32 GB', '256 GB']\n",
      "['4230 mAh']\n",
      "['15.8 cm']\n",
      "['74,712', '4,495']\n",
      "4.4\n",
      "₹9,990\n"
     ]
    }
   ],
   "source": [
    "b41=\"https://www.flipkart.com/oppo-a12-flowing-silver-32-gb/p/itmfc859cdf39e01?pid=MOBFZCPF4HDCZKVY&lid=LSTMOBFZCPF4HDCZKVYIH8PZX&marketplace=FLIPKART&q=oppo+mobiles&store=tyy%2F4io&srno=s_2_44&otracker=search&otracker1=search&fm=Search&iid=5ec190ed-eb40-490d-8e94-d1e5032068cf.MOBFZCPF4HDCZKVY.SEARCH&ppt=sp&ppn=sp&qH=d3378adaa542146e\"\n",
    "details(b41,headers)"
   ]
  },
  {
   "cell_type": "code",
   "execution_count": 244,
   "id": "e5fa2bf5",
   "metadata": {},
   "outputs": [
    {
     "name": "stdout",
     "output_type": "stream",
     "text": [
      "<Response [200]>\n",
      "['OPPO F19']\n",
      "['(Fluid Black']\n",
      "['48MP', '8MP', '2MP', '2MP', '16MP']\n",
      "['8 GB', '128 GB', '256 GB']\n",
      "['4310 mAh']\n",
      "['16.33 cm']\n",
      "['18,344', '1,866']\n",
      "4.3\n",
      "₹17,990\n"
     ]
    }
   ],
   "source": [
    "b42=\"https://www.flipkart.com/oppo-f19-pro-5g-fluid-black-128-gb/p/itmd90acf0f30ad6?pid=MOBGFUZ4XC4VCJAY&lid=LSTMOBGFUZ4XC4VCJAYUVMETX&marketplace=FLIPKART&q=oppo+mobiles&store=tyy%2F4io&srno=s_2_45&otracker=search&otracker1=search&fm=Search&iid=5ec190ed-eb40-490d-8e94-d1e5032068cf.MOBGFUZ4XC4VCJAY.SEARCH&ppt=sp&ppn=sp&qH=d3378adaa542146e\"\n",
    "details(b42,headers)"
   ]
  },
  {
   "cell_type": "code",
   "execution_count": 245,
   "id": "8501d2e6",
   "metadata": {},
   "outputs": [
    {
     "name": "stdout",
     "output_type": "stream",
     "text": [
      "<Response [200]>\n",
      "['OPPO A55']\n",
      "['(Mint Green']\n",
      "['50MP', '2MP', '2MP', '16MP']\n",
      "['4 GB', '64 GB', '256 GB']\n",
      "['5000 mAh']\n",
      "['16.54 cm']\n",
      "['648', '62']\n",
      "4.2\n",
      "₹14,490\n"
     ]
    }
   ],
   "source": [
    "b43=\"https://www.flipkart.com/oppo-a55-mint-green-64-gb/p/itmfd07b94a9a543?pid=MOBG84AZBTWYEVS5&lid=LSTMOBG84AZBTWYEVS5C1WQYP&marketplace=FLIPKART&q=oppo+mobiles&store=tyy%2F4io&srno=s_2_46&otracker=search&otracker1=search&fm=Search&iid=5ec190ed-eb40-490d-8e94-d1e5032068cf.MOBG84AZBTWYEVS5.SEARCH&ppt=sp&ppn=sp&qH=d3378adaa542146e\"\n",
    "details(b43,headers)"
   ]
  },
  {
   "cell_type": "code",
   "execution_count": 246,
   "id": "645b0ee1",
   "metadata": {},
   "outputs": [
    {
     "name": "stdout",
     "output_type": "stream",
     "text": [
      "<Response [200]>\n",
      "['OPPO A33', 'oonlight Black']\n",
      "['(Moonlight Black']\n",
      "['13MP', '2MP', '2MP', '8MP']\n",
      "['3 GB', '32 GB', '256 GB']\n",
      "['5000 mAh']\n",
      "['16.51 cm']\n",
      "['50,957', '3,339']\n",
      "4.4\n",
      "₹10,490\n"
     ]
    }
   ],
   "source": [
    "b44=\"https://www.flipkart.com/oppo-a33-moonlight-black-32-gb/p/itmec568a00f8945?pid=MOBFWQBWVGZYRGSR&lid=LSTMOBFWQBWVGZYRGSRWDNHUV&marketplace=FLIPKART&q=oppo+mobiles&store=tyy%2F4io&srno=s_2_47&otracker=search&otracker1=search&fm=Search&iid=5ec190ed-eb40-490d-8e94-d1e5032068cf.MOBFWQBWVGZYRGSR.SEARCH&ppt=sp&ppn=sp&qH=d3378adaa542146e\"\n",
    "details(b44,headers)"
   ]
  },
  {
   "cell_type": "code",
   "execution_count": 247,
   "id": "e15c6798",
   "metadata": {},
   "outputs": [
    {
     "name": "stdout",
     "output_type": "stream",
     "text": [
      "<Response [200]>\n",
      "['OPPO A54']\n",
      "['(Crystal Black']\n",
      "['13MP', '2MP', '2MP', '16MP']\n",
      "['4 GB', '64 GB', '256 GB']\n",
      "['5000 mAh']\n",
      "['16.54 cm']\n",
      "['10,603', '656']\n",
      "4.4\n",
      "₹13,990\n"
     ]
    }
   ],
   "source": [
    "b45=\"https://www.flipkart.com/oppo-a54-crystal-black-64-gb/p/itm2c71eaacf710e?pid=MOBG23KTZH7ZDZUA&lid=LSTMOBG23KTZH7ZDZUALV9JCK&marketplace=FLIPKART&q=oppo+mobiles&store=tyy%2F4io&srno=s_2_48&otracker=search&otracker1=search&fm=Search&iid=5ec190ed-eb40-490d-8e94-d1e5032068cf.MOBG23KTZH7ZDZUA.SEARCH&ppt=sp&ppn=sp&qH=d3378adaa542146e\"\n",
    "details(b45,headers)"
   ]
  },
  {
   "cell_type": "code",
   "execution_count": 248,
   "id": "c406b188",
   "metadata": {},
   "outputs": [
    {
     "name": "stdout",
     "output_type": "stream",
     "text": [
      "<Response [200]>\n",
      "['OPPO A77s']\n",
      "['(Starry Black']\n",
      "['50MP', '2MP', '8MP']\n",
      "['8 GB', '128 GB']\n",
      "['5000 mAh']\n",
      "['16.66 cm']\n",
      "['16', '1']\n",
      "4.6\n",
      "₹17,999\n"
     ]
    }
   ],
   "source": [
    "b46=\"https://www.flipkart.com/oppo-a77s-starry-black-128-gb/p/itm6a9c2e59a3011?pid=MOBGGJVSPNECBJJS&lid=LSTMOBGGJVSPNECBJJSAEZQTM&marketplace=FLIPKART&q=oppo+mobiles&store=tyy%2F4io&srno=s_3_49&otracker=search&otracker1=search&fm=Search&iid=082f0cf9-0a0f-4b8d-9521-792b67da406f.MOBGGJVSPNECBJJS.SEARCH&ppt=sp&ppn=sp&qH=d3378adaa542146e\"\n",
    "details(b46,headers)"
   ]
  },
  {
   "cell_type": "code",
   "execution_count": 249,
   "id": "428fa922",
   "metadata": {},
   "outputs": [
    {
     "name": "stdout",
     "output_type": "stream",
     "text": [
      "<Response [200]>\n",
      "['OPPO A55', 'ow Blue']\n",
      "['(Rainbow Blue']\n",
      "['50MP', '2MP', '2MP', '16MP']\n",
      "['4 GB', '64 GB', '256 GB']\n",
      "['5000 mAh']\n",
      "['16.54 cm']\n",
      "['648', '62']\n",
      "4.2\n",
      "₹14,490\n"
     ]
    }
   ],
   "source": [
    "b47=\"https://www.flipkart.com/oppo-a55-rainbow-blue-64-gb/p/itmfd07b94a9a543?pid=MOBG84AZFGQD7FPV&lid=LSTMOBG84AZFGQD7FPVAG201E&marketplace=FLIPKART&q=oppo+mobiles&store=tyy%2F4io&srno=s_3_50&otracker=search&otracker1=search&fm=Search&iid=082f0cf9-0a0f-4b8d-9521-792b67da406f.MOBG84AZFGQD7FPV.SEARCH&ppt=sp&ppn=sp&qH=d3378adaa542146e\"\n",
    "details(b47,headers)"
   ]
  },
  {
   "cell_type": "code",
   "execution_count": 250,
   "id": "35ef59c8",
   "metadata": {},
   "outputs": [
    {
     "name": "stdout",
     "output_type": "stream",
     "text": [
      "<Response [200]>\n",
      "['OPPO A16', 'oyal Gold']\n",
      "['(Royal Gold']\n",
      "['13MP', '8MP']\n",
      "['4 GB', '64 GB']\n",
      "['5000 mAh']\n",
      "['16.56 cm']\n",
      "['3,512', '250']\n",
      "4.3\n",
      "₹12,990\n"
     ]
    }
   ],
   "source": [
    "b48=\"https://www.flipkart.com/oppo-a16-royal-gold-64-gb/p/itm1697095e47798?pid=MOBG8496ZPJBSHHZ&lid=LSTMOBG8496ZPJBSHHZC7BD2H&marketplace=FLIPKART&q=oppo+mobiles&store=tyy%2F4io&srno=s_3_53&otracker=search&otracker1=search&fm=Search&iid=082f0cf9-0a0f-4b8d-9521-792b67da406f.MOBG8496ZPJBSHHZ.SEARCH&ppt=sp&ppn=sp&qH=d3378adaa542146e\"\n",
    "details(b48,headers)"
   ]
  },
  {
   "cell_type": "code",
   "execution_count": 251,
   "id": "f63bd3dd",
   "metadata": {},
   "outputs": [
    {
     "name": "stdout",
     "output_type": "stream",
     "text": [
      "<Response [200]>\n",
      "['OPPO A53s']\n",
      "['(Crystal Blue']\n",
      "['13MP', '2MP', '2MP', '8MP']\n",
      "['6 GB', '128 GB']\n",
      "['5000 mAh']\n",
      "['16.56 cm']\n",
      "['68,250', '4,787']\n",
      "4.4\n",
      "₹15,990\n"
     ]
    }
   ],
   "source": [
    "b49=\"https://www.flipkart.com/oppo-a53s-5g-crystal-blue-128-gb/p/itm7dd84770173a5?pid=MOBG25PGC3KZKETA&lid=LSTMOBG25PGC3KZKETA7MPWGP&marketplace=FLIPKART&q=oppo+mobiles&store=tyy%2F4io&srno=s_3_55&otracker=search&otracker1=search&fm=Search&iid=082f0cf9-0a0f-4b8d-9521-792b67da406f.MOBG25PGC3KZKETA.SEARCH&ppt=sp&ppn=sp&qH=d3378adaa542146e\"\n",
    "details(b49,headers)"
   ]
  },
  {
   "cell_type": "code",
   "execution_count": 252,
   "id": "766f04e0",
   "metadata": {},
   "outputs": [
    {
     "name": "stdout",
     "output_type": "stream",
     "text": [
      "<Response [200]>\n",
      "['OPPO A16k']\n",
      "['(Blue']\n",
      "['13MP', '5MP']\n",
      "['3 GB', '32 GB']\n",
      "['4230 mAh']\n",
      "['16.56 cm']\n",
      "['606', '37']\n",
      "4.3\n",
      "₹9,989\n"
     ]
    }
   ],
   "source": [
    "b50=\"https://www.flipkart.com/oppo-a16k-blue-32-gb/p/itmc4f804c2f1190?pid=MOBGAGNZABB4ZKZN&lid=LSTMOBGAGNZABB4ZKZND0FJPT&marketplace=FLIPKART&q=oppo+mobiles&store=tyy%2F4io&srno=s_3_57&otracker=search&otracker1=search&fm=Search&iid=082f0cf9-0a0f-4b8d-9521-792b67da406f.MOBGAGNZABB4ZKZN.SEARCH&ppt=sp&ppn=sp&qH=d3378adaa542146e\"\n",
    "details(b50,headers)"
   ]
  },
  {
   "cell_type": "code",
   "execution_count": 253,
   "id": "f3a7cd73",
   "metadata": {},
   "outputs": [
    {
     "name": "stdout",
     "output_type": "stream",
     "text": [
      "<Response [200]>\n",
      "['OPPO F21', 'ow Spectrum']\n",
      "['(Rainbow Spectrum']\n",
      "['16MP']\n",
      "['8 GB', '128 GB']\n",
      "['4500 mAh']\n",
      "['16.33 cm']\n",
      "['848', '80']\n",
      "4.2\n",
      "₹25,999\n"
     ]
    }
   ],
   "source": [
    "b51=\"https://www.flipkart.com/oppo-f21-pro-5g-rainbow-spectrum-128-gb/p/itma96607a9e5e44?pid=MOBGDED4GZDTGE8M&lid=LSTMOBGDED4GZDTGE8MQCOQCL&marketplace=FLIPKART&q=oppo+mobiles&store=tyy%2F4io&srno=s_3_59&otracker=search&otracker1=search&fm=Search&iid=082f0cf9-0a0f-4b8d-9521-792b67da406f.MOBGDED4GZDTGE8M.SEARCH&ppt=sp&ppn=sp&qH=d3378adaa542146e\"\n",
    "details(b51,headers)"
   ]
  },
  {
   "cell_type": "code",
   "execution_count": 254,
   "id": "f5b89878",
   "metadata": {},
   "outputs": [
    {
     "name": "stdout",
     "output_type": "stream",
     "text": [
      "<Response [200]>\n",
      "['OPPO A53', 'oonlight Black']\n",
      "['(Moonlight Black']\n",
      "['13MP', '2MP', '2MP', '16MP']\n",
      "['6 GB', '128 GB', '256 GB']\n",
      "['5000 mAh']\n",
      "['16.51 cm']\n",
      "['55,480', '3,479']\n",
      "4.4\n",
      "₹13,990\n"
     ]
    }
   ],
   "source": [
    "b52=\"https://www.flipkart.com/oppo-a53-moonlight-black-128-gb/p/itmf59942b768c29?pid=MOBGFBXGGBT7R94Y&lid=LSTMOBGFBXGGBT7R94Y7EF2EV&marketplace=FLIPKART&q=oppo+mobiles&store=tyy%2F4io&srno=s_3_61&otracker=search&otracker1=search&fm=Search&iid=082f0cf9-0a0f-4b8d-9521-792b67da406f.MOBGFBXGGBT7R94Y.SEARCH&ppt=sp&ppn=sp&qH=d3378adaa542146e\"\n",
    "details(b52,headers)"
   ]
  },
  {
   "cell_type": "code",
   "execution_count": 255,
   "id": "941ec3de",
   "metadata": {},
   "outputs": [
    {
     "name": "stdout",
     "output_type": "stream",
     "text": [
      "<Response [200]>\n",
      "['OPPO Reno6', 'ora']\n",
      "['(Aurora']\n",
      "['64MP', '8MP', '2MP', '32MP']\n",
      "['8 GB', '128 GB']\n",
      "['4300 mAh']\n",
      "['16.33 cm']\n",
      "['53,232', '6,866']\n",
      "4.3\n",
      "₹29,990\n"
     ]
    }
   ],
   "source": [
    "b53=\"https://www.flipkart.com/oppo-reno6-5g-aurora-128-gb/p/itmca351c97388b3?pid=MOBG4GFGHHZYUZW8&lid=LSTMOBG4GFGHHZYUZW8J7UKH1&marketplace=FLIPKART&q=oppo+mobiles&store=tyy%2F4io&srno=s_3_66&otracker=search&otracker1=search&fm=Search&iid=082f0cf9-0a0f-4b8d-9521-792b67da406f.MOBG4GFGHHZYUZW8.SEARCH&ppt=sp&ppn=sp&qH=d3378adaa542146e\"\n",
    "details(b53,headers)"
   ]
  },
  {
   "cell_type": "code",
   "execution_count": 256,
   "id": "ce5dbde3",
   "metadata": {},
   "outputs": [
    {
     "name": "stdout",
     "output_type": "stream",
     "text": [
      "<Response [200]>\n",
      "['OPPO A15S']\n",
      "['(Fancy White']\n",
      "['13MP']\n",
      "['4 GB', '64 GB']\n",
      "['4230 mAh']\n",
      "['16.56 cm']\n",
      "['5,247', '284']\n",
      "4.3\n",
      "₹11,399\n"
     ]
    }
   ],
   "source": [
    "b54=\"https://www.flipkart.com/oppo-a15s-fancy-white-64-gb/p/itm8a26d15bdd39c?pid=MOBFYQJNKZKFYBAA&lid=LSTMOBFYQJNKZKFYBAAM4TQVQ&marketplace=FLIPKART&q=oppo+mobiles&store=tyy%2F4io&srno=s_3_72&otracker=search&otracker1=search&fm=Search&iid=082f0cf9-0a0f-4b8d-9521-792b67da406f.MOBFYQJNKZKFYBAA.SEARCH&ppt=sp&ppn=sp&qH=d3378adaa542146e\"\n",
    "details(b54,headers)"
   ]
  },
  {
   "cell_type": "code",
   "execution_count": 257,
   "id": "a815e9fc",
   "metadata": {},
   "outputs": [
    {
     "name": "stdout",
     "output_type": "stream",
     "text": [
      "<Response [200]>\n",
      "['OPPO F19']\n",
      "['(Crystal Silver']\n",
      "['48MP', '8MP', '2MP', '2MP', '16MP']\n",
      "['8 GB', '256 GB', '256 GB']\n",
      "['4310 mAh']\n",
      "['16.33 cm']\n",
      "['9,194', '755']\n",
      "4.3\n",
      "₹22,990\n"
     ]
    }
   ],
   "source": [
    "b55=\"https://www.flipkart.com/oppo-f19-pro-crystal-silver-256-gb/p/itmf3153ba8dbf1a?pid=MOBGYV9VFD8HTPZ4&lid=LSTMOBGYV9VFD8HTPZ4JCFN5Y&marketplace=FLIPKART&q=oppo+mobiles&store=tyy%2F4io&srno=s_3_70&otracker=search&otracker1=search&fm=Search&iid=082f0cf9-0a0f-4b8d-9521-792b67da406f.MOBGYV9VFD8HTPZ4.SEARCH&ppt=sp&ppn=sp&qH=d3378adaa542146e\"\n",
    "details(b55,headers)"
   ]
  },
  {
   "cell_type": "code",
   "execution_count": 258,
   "id": "ded903c2",
   "metadata": {},
   "outputs": [
    {
     "name": "stdout",
     "output_type": "stream",
     "text": [
      "<Response [200]>\n",
      "['OPPO F9']\n",
      "['(Stellar Purple']\n",
      "['16MP', '2MP', '16MP']\n",
      "['4 GB', '64 GB', '256 GB']\n",
      "['3500 mAh']\n",
      "['16.0 cm']\n",
      "['40,554', '4,395']\n",
      "4.5\n",
      "₹21,990\n"
     ]
    }
   ],
   "source": [
    "b56=\"https://www.flipkart.com/oppo-f9-stellar-purple-64-gb/p/itmf8whxzsyhhetm?pid=MOBF8WHXTX8VXSHH&lid=LSTMOBF8WHXTX8VXSHHJD1VQW&marketplace=FLIPKART&q=oppo+mobiles&store=tyy%2F4io&srno=s_5_97&otracker=search&otracker1=search&fm=Search&iid=769a9698-2d11-4a9c-aa85-0a041a965c65.MOBF8WHXTX8VXSHH.SEARCH&ppt=sp&ppn=sp&ssid=uok0smur400000001668692872219&qH=d3378adaa542146e\"\n",
    "details(b56,headers)"
   ]
  },
  {
   "cell_type": "code",
   "execution_count": 259,
   "id": "ff8c9884",
   "metadata": {},
   "outputs": [
    {
     "name": "stdout",
     "output_type": "stream",
     "text": [
      "<Response [200]>\n",
      "['OPPO A5s']\n",
      "['(Blue']\n",
      "['13MP', '2MP', '8MP']\n",
      "['4 GB', '64 GB', '256 GB']\n",
      "['4230 mAh']\n",
      "['15.75 cm']\n",
      "['41,794', '2,540']\n",
      "4.4\n",
      "₹15,990\n"
     ]
    }
   ],
   "source": [
    "b57=\"https://www.flipkart.com/oppo-a5s-blue-64-gb/p/itmffhgzsqaczrn4?pid=MOBFU76GG2GGT5AE&lid=LSTMOBFU76GG2GGT5AEJSSRPA&marketplace=FLIPKART&q=oppo+mobiles&store=tyy%2F4io&srno=s_5_98&otracker=search&otracker1=search&fm=Search&iid=769a9698-2d11-4a9c-aa85-0a041a965c65.MOBFU76GG2GGT5AE.SEARCH&ppt=sp&ppn=sp&ssid=uok0smur400000001668692872219&qH=d3378adaa542146e\"\n",
    "details(b57,headers)"
   ]
  },
  {
   "cell_type": "code",
   "execution_count": 260,
   "id": "85a5f6f5",
   "metadata": {},
   "outputs": [
    {
     "name": "stdout",
     "output_type": "stream",
     "text": [
      "<Response [200]>\n",
      "['OPPO F21S', 'old']\n",
      "['(Dawnlight Gold']\n",
      "['64MP', '2MP', '2MP', '32MP', '2MP']\n",
      "['8 GB', '128 GB']\n",
      "['4500 mAh']\n",
      "['16.33 cm']\n",
      "['97', '7']\n",
      "4.1\n",
      "₹21,989\n"
     ]
    }
   ],
   "source": [
    "b58=\"https://www.flipkart.com/oppo-f21s-pro-dawnlight-gold-128-gb/p/itmb30ebf8ca5fcb?pid=MOBGG5ACPX8XZ87Z&lid=LSTMOBGG5ACPX8XZ87Z3AFHO0&marketplace=FLIPKART&q=oppo+mobiles&store=tyy%2F4io&srno=s_5_99&otracker=search&otracker1=search&fm=Search&iid=769a9698-2d11-4a9c-aa85-0a041a965c65.MOBGG5ACPX8XZ87Z.SEARCH&ppt=sp&ppn=sp&ssid=uok0smur400000001668692872219&qH=d3378adaa542146e\"\n",
    "details(b58,headers)"
   ]
  },
  {
   "cell_type": "code",
   "execution_count": 261,
   "id": "7d5b75f0",
   "metadata": {},
   "outputs": [
    {
     "name": "stdout",
     "output_type": "stream",
     "text": [
      "<Response [200]>\n",
      "['OPPO A5s']\n",
      "['(Blue']\n",
      "['13MP', '2MP', '8MP']\n",
      "['2 GB', '32 GB', '256 GB']\n",
      "['4230 mAh']\n",
      "['15.75 cm']\n",
      "['33,996', '2,458']\n",
      "4.3\n",
      "₹12,990\n"
     ]
    }
   ],
   "source": [
    "b59=\"https://www.flipkart.com/oppo-a5s-blue-32-gb/p/itmffhgzsqaczrn4?pid=MOBFGHYFHHRNZAZF&lid=LSTMOBFGHYFHHRNZAZFYOVTB9&marketplace=FLIPKART&q=oppo+mobiles&store=tyy%2F4io&srno=s_5_101&otracker=search&otracker1=search&fm=Search&iid=769a9698-2d11-4a9c-aa85-0a041a965c65.MOBFGHYFHHRNZAZF.SEARCH&ppt=sp&ppn=sp&ssid=uok0smur400000001668692872219&qH=d3378adaa542146e\"\n",
    "details(b59,headers)"
   ]
  },
  {
   "cell_type": "code",
   "execution_count": 262,
   "id": "a18ec445",
   "metadata": {},
   "outputs": [
    {
     "name": "stdout",
     "output_type": "stream",
     "text": [
      "<Response [200]>\n",
      "['OPPO A5s']\n",
      "['(Green']\n",
      "['13MP', '2MP', '8MP']\n",
      "['4 GB', '64 GB', '256 GB']\n",
      "['4230 mAh']\n",
      "['15.75 cm']\n",
      "['41,794', '2,540']\n",
      "4.4\n",
      "₹15,990\n"
     ]
    }
   ],
   "source": [
    "b60=\"https://www.flipkart.com/oppo-a5s-green-64-gb/p/itmffhgzsqaczrn4?pid=MOBFHHSQXFJWC2SH&lid=LSTMOBFHHSQXFJWC2SHXCVWQA&marketplace=FLIPKART&q=oppo+mobiles&store=tyy%2F4io&srno=s_5_102&otracker=search&otracker1=search&fm=Search&iid=769a9698-2d11-4a9c-aa85-0a041a965c65.MOBFHHSQXFJWC2SH.SEARCH&ppt=sp&ppn=sp&ssid=uok0smur400000001668692872219&qH=d3378adaa542146e\"\n",
    "details(b60,headers)"
   ]
  },
  {
   "cell_type": "code",
   "execution_count": 263,
   "id": "68c45b6a",
   "metadata": {},
   "outputs": [
    {
     "name": "stdout",
     "output_type": "stream",
     "text": [
      "<Response [200]>\n",
      "['OPPO A5s']\n",
      "['(Black']\n",
      "['13MP', '2MP', '8MP']\n",
      "['4 GB', '64 GB', '256 GB']\n",
      "['4230 mAh']\n",
      "['15.75 cm']\n",
      "['41,794', '2,540']\n",
      "4.4\n",
      "₹15,990\n"
     ]
    }
   ],
   "source": [
    "b61=\"https://www.flipkart.com/oppo-a5s-black-64-gb/p/itmffhgzsqaczrn4?pid=MOBFTP8PY7ZEZEWQ&lid=LSTMOBFTP8PY7ZEZEWQXWLWEX&marketplace=FLIPKART&q=oppo+mobiles&store=tyy%2F4io&srno=s_5_103&otracker=search&otracker1=search&fm=Search&iid=769a9698-2d11-4a9c-aa85-0a041a965c65.MOBFTP8PY7ZEZEWQ.SEARCH&ppt=sp&ppn=sp&ssid=uok0smur400000001668692872219&qH=d3378adaa542146e\"\n",
    "details(b61,headers)"
   ]
  },
  {
   "cell_type": "code",
   "execution_count": 264,
   "id": "39cfb534",
   "metadata": {},
   "outputs": [
    {
     "name": "stdout",
     "output_type": "stream",
     "text": [
      "<Response [200]>\n",
      "['OPPO A5', 'or Black']\n",
      "['(Mirror Black']\n",
      "['12MP', '8MP', '2MP', '2MP', '8MP']\n",
      "['3 GB', '64 GB']\n",
      "['5000 mAh']\n",
      "['16.51 cm']\n",
      "['3,046', '236']\n",
      "4.4\n",
      "₹14,990\n"
     ]
    }
   ],
   "source": [
    "b62=\"https://www.flipkart.com/oppo-a5-2020-mirror-black-64-gb/p/itm44cc5daff0ba1?pid=MOBFKCS5MRHGTGJD&lid=LSTMOBFKCS5MRHGTGJDERZYQD&marketplace=FLIPKART&q=oppo+mobiles&store=tyy%2F4io&srno=s_5_106&otracker=search&otracker1=search&fm=Search&iid=769a9698-2d11-4a9c-aa85-0a041a965c65.MOBFKCS5MRHGTGJD.SEARCH&ppt=sp&ppn=sp&ssid=uok0smur400000001668692872219&qH=d3378adaa542146e\"\n",
    "details(b62,headers)"
   ]
  },
  {
   "cell_type": "code",
   "execution_count": 265,
   "id": "ddbf491f",
   "metadata": {},
   "outputs": [
    {
     "name": "stdout",
     "output_type": "stream",
     "text": [
      "<Response [200]>\n",
      "['OPPO A5s']\n",
      "['(Red']\n",
      "['13MP', '2MP', '8MP']\n",
      "['2 GB', '32 GB', '256 GB']\n",
      "['4230 mAh']\n",
      "['15.75 cm']\n",
      "['33,996', '2,458']\n",
      "4.3\n",
      "₹12,990\n"
     ]
    }
   ],
   "source": [
    "b63=\"https://www.flipkart.com/oppo-a5s-red-32-gb/p/itmffhgzsqaczrn4?pid=MOBFFHGZAYCCZZDF&lid=LSTMOBFFHGZAYCCZZDFA2ER9I&marketplace=FLIPKART&q=oppo+mobiles&store=tyy%2F4io&srno=s_5_105&otracker=search&otracker1=search&fm=Search&iid=769a9698-2d11-4a9c-aa85-0a041a965c65.MOBFFHGZAYCCZZDF.SEARCH&ppt=sp&ppn=sp&ssid=uok0smur400000001668692872219&qH=d3378adaa542146e\"\n",
    "details(b63,headers)"
   ]
  },
  {
   "cell_type": "code",
   "execution_count": 266,
   "id": "cf93d644",
   "metadata": {},
   "outputs": [
    {
     "name": "stdout",
     "output_type": "stream",
     "text": [
      "<Response [200]>\n",
      "['OPPO R17']\n",
      "['(Emerald Green']\n",
      "['12MP', '20MP', '25MP']\n",
      "['8 GB', '128 GB']\n",
      "['3700 mAh']\n",
      "['16.26 cm']\n",
      "['552', '74']\n",
      "4.2\n",
      "₹49,990\n"
     ]
    }
   ],
   "source": [
    "b64=\"https://www.flipkart.com/oppo-r17-pro-emerald-green-128-gb/p/itmfbc9gwtdfcfbf?pid=MOBFBC9GUZ8VGMGE&lid=LSTMOBFBC9GUZ8VGMGEICVOYN&marketplace=FLIPKART&q=oppo+mobiles&store=tyy%2F4io&srno=s_5_107&otracker=search&otracker1=search&fm=Search&iid=769a9698-2d11-4a9c-aa85-0a041a965c65.MOBFBC9GUZ8VGMGE.SEARCH&ppt=sp&ppn=sp&ssid=uok0smur400000001668692872219&qH=d3378adaa542146e\"\n",
    "details(b64,headers)"
   ]
  },
  {
   "cell_type": "code",
   "execution_count": 267,
   "id": "e0db7967",
   "metadata": {},
   "outputs": [
    {
     "name": "stdout",
     "output_type": "stream",
     "text": [
      "<Response [200]>\n",
      "['OPPO F21s']\n",
      "['(Starlight Black']\n",
      "['64MP', '2MP', '2MP', '32MP', '2MP']\n",
      "['8 GB', '128 GB']\n",
      "['4500 mAh']\n",
      "['16.33 cm']\n",
      "['97', '7']\n",
      "4.1\n",
      "₹21,979\n"
     ]
    }
   ],
   "source": [
    "b65=\"https://www.flipkart.com/oppo-f21s-pro-starlight-black-128-gb/p/itm247d51c8851b6?pid=MOBGG59C5JAUVA9X&lid=LSTMOBGG59C5JAUVA9XQURMOD&marketplace=FLIPKART&q=oppo+mobiles&store=tyy%2F4io&srno=s_5_109&otracker=search&otracker1=search&fm=Search&iid=769a9698-2d11-4a9c-aa85-0a041a965c65.MOBGG59C5JAUVA9X.SEARCH&ppt=sp&ppn=sp&ssid=uok0smur400000001668692872219&qH=d3378adaa542146e\"\n",
    "details(b65,headers)"
   ]
  },
  {
   "cell_type": "code",
   "execution_count": 268,
   "id": "26b6e540",
   "metadata": {},
   "outputs": [
    {
     "name": "stdout",
     "output_type": "stream",
     "text": [
      "<Response [200]>\n",
      "['OPPO Find', 'ordeaux Red']\n",
      "['(Bordeaux Red']\n",
      "['16MP', '20MP', '25MP']\n",
      "['8 GB', '256 GB']\n",
      "['3730 mAh']\n",
      "['16.26 cm']\n",
      "['449', '81']\n",
      "4.6\n",
      "₹60,990\n"
     ]
    }
   ],
   "source": [
    "b66=\"https://www.flipkart.com/oppo-find-x-bordeaux-red-256-gb/p/itmf7yjbm75hdpm4?pid=MOBF7YJBYWVJKSPD&lid=LSTMOBF7YJBYWVJKSPDMEGGAZ&marketplace=FLIPKART&q=oppo+mobiles&store=tyy%2F4io&srno=s_5_110&otracker=search&otracker1=search&fm=Search&iid=769a9698-2d11-4a9c-aa85-0a041a965c65.MOBF7YJBYWVJKSPD.SEARCH&ppt=sp&ppn=sp&ssid=uok0smur400000001668692872219&qH=d3378adaa542146e\"\n",
    "details(b66,headers)"
   ]
  },
  {
   "cell_type": "code",
   "execution_count": 269,
   "id": "741b1d28",
   "metadata": {},
   "outputs": [
    {
     "name": "stdout",
     "output_type": "stream",
     "text": [
      "<Response [200]>\n",
      "['OPPO A77', 'Orange']\n",
      "['(Sunset Orange']\n",
      "['50MP', '2MP', '8MP']\n",
      "['4 GB', '128 GB']\n",
      "['5000 mAh']\n",
      "['16.66 cm']\n",
      "['126', '6']\n",
      "4.4\n",
      "₹15,999\n"
     ]
    }
   ],
   "source": [
    "b67=\"https://www.flipkart.com/oppo-a77-sunset-orange-128-gb/p/itme5841383d98bb?pid=MOBGHFT5PKS2676B&lid=LSTMOBGHFT5PKS2676BJWDADA&marketplace=FLIPKART&q=oppo+mobiles&store=tyy%2F4io&srno=s_5_111&otracker=search&otracker1=search&fm=Search&iid=769a9698-2d11-4a9c-aa85-0a041a965c65.MOBGHFT5PKS2676B.SEARCH&ppt=sp&ppn=sp&ssid=uok0smur400000001668692872219&qH=d3378adaa542146e\"\n",
    "details(b67,headers)"
   ]
  },
  {
   "cell_type": "code",
   "execution_count": 270,
   "id": "96b5214a",
   "metadata": {},
   "outputs": [
    {
     "name": "stdout",
     "output_type": "stream",
     "text": [
      "<Response [200]>\n",
      "['OPPO K1']\n",
      "['(Astral Blue']\n",
      "['16MP', '2MP', '25MP']\n",
      "['4 GB', '64 GB', '256 GB']\n",
      "['3600 mAh']\n",
      "['16.28 cm']\n",
      "['75,275', '7,629']\n",
      "4.5\n",
      "₹18,990\n"
     ]
    }
   ],
   "source": [
    "b68=\"https://www.flipkart.com/oppo-k1-astral-blue-64-gb/p/itmfdy9keddxqvbt?pid=MOBFDY9KYGDFFENC&lid=LSTMOBFDY9KYGDFFENCTI5SPP&marketplace=FLIPKART&q=oppo+mobiles&store=tyy%2F4io&srno=s_5_113&otracker=search&otracker1=search&fm=Search&iid=769a9698-2d11-4a9c-aa85-0a041a965c65.MOBFDY9KYGDFFENC.SEARCH&ppt=sp&ppn=sp&ssid=uok0smur400000001668692872219&qH=d3378adaa542146e\"\n",
    "details(b68,headers)"
   ]
  },
  {
   "cell_type": "code",
   "execution_count": 271,
   "id": "1198d8bc",
   "metadata": {},
   "outputs": [
    {
     "name": "stdout",
     "output_type": "stream",
     "text": [
      "<Response [200]>\n",
      "['OPPO K1']\n",
      "['(Piano Black']\n",
      "['16MP', '2MP', '25MP']\n",
      "['6 GB', '64 GB', '256 GB']\n",
      "['3600 mAh']\n",
      "['16.28 cm']\n",
      "['1,774', '145']\n",
      "4.4\n",
      "₹20,990\n"
     ]
    }
   ],
   "source": [
    "b69=\"https://www.flipkart.com/oppo-k1-piano-black-64-gb/p/itmfdy9keddxqvbt?pid=MOBFS6UC2X5REFC3&lid=LSTMOBFS6UC2X5REFC3X0IDXP&marketplace=FLIPKART&q=oppo+mobiles&store=tyy%2F4io&srno=s_5_114&otracker=search&otracker1=search&fm=Search&iid=769a9698-2d11-4a9c-aa85-0a041a965c65.MOBFS6UC2X5REFC3.SEARCH&ppt=sp&ppn=sp&ssid=uok0smur400000001668692872219&qH=d3378adaa542146e\"\n",
    "details(b69,headers)"
   ]
  },
  {
   "cell_type": "code",
   "execution_count": 272,
   "id": "99979ac0",
   "metadata": {},
   "outputs": [
    {
     "name": "stdout",
     "output_type": "stream",
     "text": [
      "<Response [200]>\n",
      "['OPPO A5', 'ond Blue']\n",
      "['(Diamond Blue']\n",
      "['13MP', '2MP', '8MP']\n",
      "['4 GB', '64 GB', '256 GB']\n",
      "['4230 mAh']\n",
      "['15.75 cm']\n",
      "['14,378', '1,102']\n",
      "4.4\n",
      "₹15,990\n"
     ]
    }
   ],
   "source": [
    "b70=\"https://www.flipkart.com/oppo-a5-diamond-blue-64-gb/p/itmf8dm8gktg5efp?pid=MOBFFDHHJSMHCYTM&lid=LSTMOBFFDHHJSMHCYTMBD9MAW&marketplace=FLIPKART&q=oppo+mobiles&store=tyy%2F4io&srno=s_5_115&otracker=search&otracker1=search&fm=Search&iid=769a9698-2d11-4a9c-aa85-0a041a965c65.MOBFFDHHJSMHCYTM.SEARCH&ppt=sp&ppn=sp&ssid=uok0smur400000001668692872219&qH=d3378adaa542146e\"\n",
    "details(b70,headers)"
   ]
  },
  {
   "cell_type": "code",
   "execution_count": 273,
   "id": "0b3461cb",
   "metadata": {},
   "outputs": [
    {
     "name": "stdout",
     "output_type": "stream",
     "text": [
      "<Response [200]>\n",
      "['OPPO A7', 'old']\n",
      "['(Glaring Gold']\n",
      "['13MP', '2MP', '16MP']\n",
      "['4 GB', '64 GB', '256 GB']\n",
      "['4230 mAh']\n",
      "['15.75 cm']\n",
      "['20,843', '1,452']\n",
      "4.4\n",
      "₹18,990\n"
     ]
    }
   ],
   "source": [
    "b71=\"https://www.flipkart.com/oppo-a7-glaring-gold-64-gb/p/itmfb37gqa44nrzq?pid=MOBFB37G2GV8TZJY&lid=LSTMOBFB37G2GV8TZJYOVLRGE&marketplace=FLIPKART&q=oppo+mobiles&store=tyy%2F4io&srno=s_5_119&otracker=search&otracker1=search&fm=Search&iid=769a9698-2d11-4a9c-aa85-0a041a965c65.MOBFB37G2GV8TZJY.SEARCH&ppt=sp&ppn=sp&ssid=uok0smur400000001668692872219&qH=d3378adaa542146e\"\n",
    "details(b71,headers)"
   ]
  },
  {
   "cell_type": "code",
   "execution_count": 274,
   "id": "2aa2104e",
   "metadata": {},
   "outputs": [
    {
     "name": "stdout",
     "output_type": "stream",
     "text": [
      "<Response [200]>\n",
      "['OPPO A7']\n",
      "['(Glaze Blue']\n",
      "['13MP', '2MP', '16MP']\n",
      "['4 GB', '64 GB', '256 GB']\n",
      "['4230 mAh']\n",
      "['15.75 cm']\n",
      "['20,843', '1,452']\n",
      "4.4\n",
      "₹18,990\n"
     ]
    }
   ],
   "source": [
    "b72=\"https://www.flipkart.com/oppo-a7-glaze-blue-64-gb/p/itmfb37gqa44nrzq?pid=MOBFB37GDP8NJYXS&lid=LSTMOBFB37GDP8NJYXSQT7TY3&marketplace=FLIPKART&q=oppo+mobiles&store=tyy%2F4io&srno=s_5_120&otracker=search&otracker1=search&fm=Search&iid=769a9698-2d11-4a9c-aa85-0a041a965c65.MOBFB37GDP8NJYXS.SEARCH&ppt=sp&ppn=sp&ssid=uok0smur400000001668692872219&qH=d3378adaa542146e\"\n",
    "details(b72,headers)"
   ]
  },
  {
   "cell_type": "code",
   "execution_count": 275,
   "id": "3d520ce3",
   "metadata": {},
   "outputs": [
    {
     "name": "stdout",
     "output_type": "stream",
     "text": [
      "<Response [200]>\n",
      "['OPPO F11', 'ora Green']\n",
      "['(Aurora Green']\n",
      "['48MP', '5MP', '16MP']\n",
      "['6 GB', '128 GB', '256 GB']\n",
      "['4000 mAh']\n",
      "['16.51 cm']\n",
      "['1,28', ',124', '12,031']\n",
      "4.5\n",
      "₹29,990\n"
     ]
    }
   ],
   "source": [
    "b73=\"https://www.flipkart.com/oppo-f11-pro-aurora-green-128-gb/p/itmfe6k2gurv2a3p?pid=MOBFG9WZGHSPTFPV&lid=LSTMOBFG9WZGHSPTFPVWKBCEC&marketplace=FLIPKART&q=oppo+mobiles&store=tyy%2F4io&srno=s_6_123&otracker=search&otracker1=search&fm=Search&iid=528451e3-1d58-4705-ad4e-014316c42aeb.MOBFG9WZGHSPTFPV.SEARCH&ppt=sp&ppn=sp&qH=d3378adaa542146e\"\n",
    "details(b73,headers)"
   ]
  },
  {
   "cell_type": "code",
   "execution_count": 276,
   "id": "0ad8d606",
   "metadata": {},
   "outputs": [
    {
     "name": "stdout",
     "output_type": "stream",
     "text": [
      "<Response [200]>\n",
      "['OPPO F11']\n",
      "['(Thunder Black']\n",
      "['48MP', '5MP', '16MP']\n",
      "['6 GB', '64 GB', '256 GB']\n",
      "['4000 mAh']\n",
      "['16.51 cm']\n",
      "['1,28', ',124', '12,031']\n",
      "4.5\n",
      "₹28,990\n"
     ]
    }
   ],
   "source": [
    "b74=\"https://www.flipkart.com/oppo-f11-pro-thunder-black-64-gb/p/itmfe6k2gurv2a3p?pid=MOBFE6K2KQDSWAM8&lid=LSTMOBFE6K2KQDSWAM8NJIBNV&marketplace=FLIPKART&q=oppo+mobiles&store=tyy%2F4io&srno=s_6_124&otracker=search&otracker1=search&fm=Search&iid=528451e3-1d58-4705-ad4e-014316c42aeb.MOBFE6K2KQDSWAM8.SEARCH&ppt=sp&ppn=sp&qH=d3378adaa542146e\"\n",
    "details(b74,headers)"
   ]
  },
  {
   "cell_type": "code",
   "execution_count": 277,
   "id": "d7d7ae67",
   "metadata": {},
   "outputs": [
    {
     "name": "stdout",
     "output_type": "stream",
     "text": [
      "<Response [200]>\n",
      "['OPPO F11', 'ora Green']\n",
      "['(Aurora Green']\n",
      "['48MP', '5MP', '16MP']\n",
      "['6 GB', '64 GB', '256 GB']\n",
      "['4000 mAh']\n",
      "['16.51 cm']\n",
      "['1,28', ',124', '12,031']\n",
      "4.5\n",
      "₹28,990\n"
     ]
    }
   ],
   "source": [
    "b75=\"https://www.flipkart.com/oppo-f11-pro-aurora-green-64-gb/p/itmfe6k2gurv2a3p?pid=MOBFE6KFGD6YT27Z&lid=LSTMOBFE6KFGD6YT27ZWDYUV3&marketplace=FLIPKART&q=oppo+mobiles&store=tyy%2F4io&srno=s_6_125&otracker=search&otracker1=search&fm=Search&iid=528451e3-1d58-4705-ad4e-014316c42aeb.MOBFE6KFGD6YT27Z.SEARCH&ppt=sp&ppn=sp&qH=d3378adaa542146e\"\n",
    "details(b75,headers)"
   ]
  },
  {
   "cell_type": "code",
   "execution_count": 278,
   "id": "308a8aa7",
   "metadata": {},
   "outputs": [
    {
     "name": "stdout",
     "output_type": "stream",
     "text": [
      "<Response [200]>\n",
      "['OPPO F11']\n",
      "['(Thunder Black']\n",
      "['48MP', '5MP', '16MP']\n",
      "['6 GB', '128 GB', '256 GB']\n",
      "['4000 mAh']\n",
      "['16.51 cm']\n",
      "['1,28', ',124', '12,031']\n",
      "4.5\n",
      "₹29,990\n"
     ]
    }
   ],
   "source": [
    "b76=\"https://www.flipkart.com/oppo-f11-pro-thunder-black-128-gb/p/itmfe6k2gurv2a3p?pid=MOBFG9WZ3D5KMAUX&lid=LSTMOBFG9WZ3D5KMAUX5XFFCC&marketplace=FLIPKART&q=oppo+mobiles&store=tyy%2F4io&srno=s_6_126&otracker=search&otracker1=search&fm=Search&iid=528451e3-1d58-4705-ad4e-014316c42aeb.MOBFG9WZ3D5KMAUX.SEARCH&ppt=sp&ppn=sp&qH=d3378adaa542146e\"\n",
    "details(b76,headers)"
   ]
  },
  {
   "cell_type": "code",
   "execution_count": 279,
   "id": "b5f16826",
   "metadata": {},
   "outputs": [
    {
     "name": "stdout",
     "output_type": "stream",
     "text": [
      "<Response [200]>\n",
      "['OPPO F17', 'Orange']\n",
      "['(Dynamic Orange']\n",
      "['16MP', '8MP', '2MP', '2MP', '16MP']\n",
      "['6 GB', '128 GB']\n",
      "['4015 mAh']\n",
      "['16.36 cm']\n",
      "['7,178', '540']\n",
      "4.3\n",
      "₹17,989\n"
     ]
    }
   ],
   "source": [
    "b77=\"https://www.flipkart.com/oppo-f17-dynamic-orange-128-gb/p/itm428055529feac?pid=MOBFVDAS9S43UBQF&lid=LSTMOBFVDAS9S43UBQFC49XPS&marketplace=FLIPKART&q=oppo+mobiles&store=tyy%2F4io&srno=s_6_127&otracker=search&otracker1=search&fm=Search&iid=528451e3-1d58-4705-ad4e-014316c42aeb.MOBFVDAS9S43UBQF.SEARCH&ppt=sp&ppn=sp&qH=d3378adaa542146e\"\n",
    "details(b77,headers)"
   ]
  },
  {
   "cell_type": "code",
   "execution_count": 280,
   "id": "6dd53e70",
   "metadata": {},
   "outputs": [
    {
     "name": "stdout",
     "output_type": "stream",
     "text": [
      "<Response [200]>\n",
      "['OPPO Reno2']\n",
      "['(Lake Green']\n",
      "['48MP', '8MP', '2MP', '2MP', '16MP']\n",
      "['6 GB', '256 GB']\n",
      "['4000 mAh']\n",
      "['16.51 cm']\n",
      "['81,874', '7,207']\n",
      "4.5\n",
      "₹19,990\n"
     ]
    }
   ],
   "source": [
    "b78=\"https://www.flipkart.com/oppo-reno2-f-lake-green-256-gb/p/itm8413e7eb0b195?pid=MOBFTX93YUHYFXBQ&lid=LSTMOBFTX93YUHYFXBQDZ5VVE&marketplace=FLIPKART&q=oppo+mobiles&store=tyy%2F4io&srno=s_6_128&otracker=search&otracker1=search&fm=Search&iid=528451e3-1d58-4705-ad4e-014316c42aeb.MOBFTX93YUHYFXBQ.SEARCH&ppt=sp&ppn=sp&qH=d3378adaa542146e\"\n",
    "details(b78,headers)"
   ]
  },
  {
   "cell_type": "code",
   "execution_count": 281,
   "id": "ce18450e",
   "metadata": {},
   "outputs": [
    {
     "name": "stdout",
     "output_type": "stream",
     "text": [
      "<Response [200]>\n",
      "['OPPO A9']\n",
      "['(Marine Green']\n",
      "['48MP', '8MP', '2MP', '2MP', '16MP']\n",
      "['4 GB', '128 GB', '256 GB']\n",
      "['5000 mAh']\n",
      "['16.51 cm']\n",
      "['1,01', ',935', '9,086']\n",
      "4.4\n",
      "₹18,990\n"
     ]
    }
   ],
   "source": [
    "b79=\"https://www.flipkart.com/oppo-a9-2020-marine-green-128-gb/p/itm32799ab1d45b4?pid=MOBFKCS5G9MSXBVF&lid=LSTMOBFKCS5G9MSXBVFCFOU3T&marketplace=FLIPKART&q=oppo+mobiles&store=tyy%2F4io&srno=s_6_129&otracker=search&otracker1=search&fm=Search&iid=528451e3-1d58-4705-ad4e-014316c42aeb.MOBFKCS5G9MSXBVF.SEARCH&ppt=sp&ppn=sp&qH=d3378adaa542146e\"\n",
    "details(b79,headers)"
   ]
  },
  {
   "cell_type": "code",
   "execution_count": 282,
   "id": "54e39762",
   "metadata": {},
   "outputs": [
    {
     "name": "stdout",
     "output_type": "stream",
     "text": [
      "<Response [200]>\n",
      "['OPPO A9']\n",
      "['(Space Purple']\n",
      "['48MP', '8MP', '2MP', '2MP', '16MP']\n",
      "['4 GB', '128 GB', '256 GB']\n",
      "['5000 mAh']\n",
      "['16.51 cm']\n",
      "['1,01', ',935', '9,086']\n",
      "4.4\n",
      "₹18,990\n"
     ]
    }
   ],
   "source": [
    "b80=\"https://www.flipkart.com/oppo-a9-2020-space-purple-128-gb/p/itm32799ab1d45b4?pid=MOBFKCS5VUXWHR5H&lid=LSTMOBFKCS5VUXWHR5HRJ7UUM&marketplace=FLIPKART&q=oppo+mobiles&store=tyy%2F4io&srno=s_6_130&otracker=search&otracker1=search&fm=Search&iid=528451e3-1d58-4705-ad4e-014316c42aeb.MOBFKCS5VUXWHR5H.SEARCH&ppt=sp&ppn=sp&qH=d3378adaa542146e\"\n",
    "details(b80,headers)"
   ]
  },
  {
   "cell_type": "code",
   "execution_count": 283,
   "id": "55182eaf",
   "metadata": {},
   "outputs": [
    {
     "name": "stdout",
     "output_type": "stream",
     "text": [
      "<Response [200]>\n",
      "['OPPO A9']\n",
      "['(Marine Green']\n",
      "['48MP', '8MP', '2MP', '2MP', '16MP']\n",
      "['8 GB', '128 GB', '256 GB']\n",
      "['5000 mAh']\n",
      "['16.51 cm']\n",
      "['61,836', '5,266']\n",
      "4.3\n",
      "₹21,990\n"
     ]
    }
   ],
   "source": [
    "b81=\"https://www.flipkart.com/oppo-a9-2020-marine-green-128-gb/p/itm32799ab1d45b4?pid=MOBFKCS5D7SUGZG5&lid=LSTMOBFKCS5D7SUGZG5ZKND4B&marketplace=FLIPKART&q=oppo+mobiles&store=tyy%2F4io&srno=s_6_131&otracker=search&otracker1=search&fm=Search&iid=528451e3-1d58-4705-ad4e-014316c42aeb.MOBFKCS5D7SUGZG5.SEARCH&ppt=sp&ppn=sp&qH=d3378adaa542146e\"\n",
    "details(b81,headers)"
   ]
  },
  {
   "cell_type": "code",
   "execution_count": 284,
   "id": "0e121768",
   "metadata": {},
   "outputs": [
    {
     "name": "stdout",
     "output_type": "stream",
     "text": [
      "<Response [200]>\n",
      "['OPPO A9']\n",
      "['(Space Purple']\n",
      "['48MP', '8MP', '2MP', '2MP', '16MP']\n",
      "['8 GB', '128 GB', '256 GB']\n",
      "['5000 mAh']\n",
      "['16.51 cm']\n",
      "['61,836', '5,266']\n",
      "4.3\n",
      "₹21,990\n"
     ]
    }
   ],
   "source": [
    "b82=\"https://www.flipkart.com/oppo-a9-2020-space-purple-128-gb/p/itm32799ab1d45b4?pid=MOBFKCS5NYHG8KWD&lid=LSTMOBFKCS5NYHG8KWDOXUMEK&marketplace=FLIPKART&q=oppo+mobiles&store=tyy%2F4io&srno=s_6_132&otracker=search&otracker1=search&fm=Search&iid=528451e3-1d58-4705-ad4e-014316c42aeb.MOBFKCS5NYHG8KWD.SEARCH&ppt=sp&ppn=sp&qH=d3378adaa542146e\"\n",
    "details(b82,headers)"
   ]
  },
  {
   "cell_type": "code",
   "execution_count": 285,
   "id": "24d670e6",
   "metadata": {},
   "outputs": [
    {
     "name": "stdout",
     "output_type": "stream",
     "text": [
      "<Response [200]>\n",
      "['OPPO Reno2']\n",
      "['(Sky White']\n",
      "['48MP', '8MP', '2MP', '2MP', '16MP']\n",
      "['8 GB', '128 GB']\n",
      "['4000 mAh']\n",
      "['16.51 cm']\n",
      "['4,665', '397']\n",
      "4.4\n",
      "₹28,990\n"
     ]
    }
   ],
   "source": [
    "b83=\"https://www.flipkart.com/oppo-reno2-f-sky-white-128-gb/p/itm8413e7eb0b195?pid=MOBFH274NFFY7AZW&lid=LSTMOBFH274NFFY7AZWVZPASS&marketplace=FLIPKART&q=oppo+mobiles&store=tyy%2F4io&srno=s_6_144&otracker=search&otracker1=search&fm=Search&iid=528451e3-1d58-4705-ad4e-014316c42aeb.MOBFH274NFFY7AZW.SEARCH&ppt=sp&ppn=sp&qH=d3378adaa542146e\"\n",
    "details(b83,headers)"
   ]
  },
  {
   "cell_type": "code",
   "execution_count": 286,
   "id": "54d38bd3",
   "metadata": {},
   "outputs": [
    {
     "name": "stdout",
     "output_type": "stream",
     "text": [
      "<Response [200]>\n",
      "['OPPO A9']\n",
      "['(Vanilla Mint']\n",
      "['48MP', '8MP', '2MP', '2MP', '16MP']\n",
      "['8 GB', '128 GB', '256 GB']\n",
      "['5000 mAh']\n",
      "['16.56 cm']\n",
      "['61,836', '5,266']\n",
      "4.3\n",
      "₹21,990\n"
     ]
    }
   ],
   "source": [
    "b84=\"https://www.flipkart.com/oppo-a9-2020-vanilla-mint-128-gb/p/itm32799ab1d45b4?pid=MOBFMEVEHZWUJYFD&lid=LSTMOBFMEVEHZWUJYFDLVGVKW&marketplace=FLIPKART&q=oppo+mobiles&store=tyy%2F4io&srno=s_6_133&otracker=search&otracker1=search&fm=Search&iid=528451e3-1d58-4705-ad4e-014316c42aeb.MOBFMEVEHZWUJYFD.SEARCH&ppt=sp&ppn=sp&qH=d3378adaa542146e\"\n",
    "details(b84,headers)"
   ]
  },
  {
   "cell_type": "code",
   "execution_count": 287,
   "id": "23b0a8e8",
   "metadata": {},
   "outputs": [
    {
     "name": "stdout",
     "output_type": "stream",
     "text": [
      "<Response [200]>\n",
      "['OPPO A9']\n",
      "['(Vanilla Mint']\n",
      "['48MP', '8MP', '2MP', '2MP', '16MP']\n",
      "['4 GB', '128 GB', '256 GB']\n",
      "['5000 mAh']\n",
      "['16.56 cm']\n",
      "['1,01', ',935', '9,086']\n",
      "4.4\n",
      "₹18,990\n"
     ]
    }
   ],
   "source": [
    "b85=\"https://www.flipkart.com/oppo-a9-2020-vanilla-mint-128-gb/p/itm32799ab1d45b4?pid=MOBFMEVEMTTF8WDF&lid=LSTMOBFMEVEMTTF8WDFVDCVDK&marketplace=FLIPKART&q=oppo+mobiles&store=tyy%2F4io&srno=s_6_134&otracker=search&otracker1=search&fm=Search&iid=528451e3-1d58-4705-ad4e-014316c42aeb.MOBFMEVEMTTF8WDF.SEARCH&ppt=sp&ppn=sp&qH=d3378adaa542146e\"\n",
    "details(b85,headers)"
   ]
  },
  {
   "cell_type": "code",
   "execution_count": 288,
   "id": "f607d4c3",
   "metadata": {},
   "outputs": [
    {
     "name": "stdout",
     "output_type": "stream",
     "text": [
      "<Response [200]>\n",
      "['OPPO F15']\n",
      "['(Lightening Black']\n",
      "['48MP', '8MP', '2MP', '2MP', '16MP']\n",
      "['8 GB', '128 GB', '256 GB']\n",
      "['4000 mAh']\n",
      "['16.26 cm']\n",
      "['22,604', '1,945']\n",
      "4.4\n",
      "₹22,990\n"
     ]
    }
   ],
   "source": [
    "b86=\"https://www.flipkart.com/oppo-f15-lightening-black-128-gb/p/itm56d35565691ea?pid=MOBFNSUQXECJZ5XA&lid=LSTMOBFNSUQXECJZ5XA8CIY3V&marketplace=FLIPKART&q=oppo+mobiles&store=tyy%2F4io&srno=s_6_135&otracker=search&otracker1=search&fm=Search&iid=528451e3-1d58-4705-ad4e-014316c42aeb.MOBFNSUQXECJZ5XA.SEARCH&ppt=sp&ppn=sp&qH=d3378adaa542146e\"\n",
    "details(b86,headers)"
   ]
  },
  {
   "cell_type": "code",
   "execution_count": 289,
   "id": "0e836ca3",
   "metadata": {},
   "outputs": [
    {
     "name": "stdout",
     "output_type": "stream",
     "text": [
      "<Response [200]>\n",
      "['OPPO F15']\n",
      "['(Blazing Blue']\n",
      "['48MP', '8MP', '2MP', '2MP', '16MP']\n",
      "['4 GB', '128 GB', '256 GB']\n",
      "['4000 mAh']\n",
      "['16.26 cm']\n",
      "['41,712', '3,481']\n",
      "4.4\n",
      "₹20,990\n"
     ]
    }
   ],
   "source": [
    "b87=\"https://www.flipkart.com/oppo-f15-blazing-blue-128-gb/p/itm56d35565691ea?pid=MOBFRJMHZUWBRZVH&lid=LSTMOBFRJMHZUWBRZVHPWRTYL&marketplace=FLIPKART&q=oppo+mobiles&store=tyy%2F4io&srno=s_6_137&otracker=search&otracker1=search&fm=Search&iid=528451e3-1d58-4705-ad4e-014316c42aeb.MOBFRJMHZUWBRZVH.SEARCH&ppt=sp&ppn=sp&qH=d3378adaa542146e\"\n",
    "details(b87,headers)"
   ]
  },
  {
   "cell_type": "code",
   "execution_count": 290,
   "id": "d642f966",
   "metadata": {},
   "outputs": [
    {
     "name": "stdout",
     "output_type": "stream",
     "text": [
      "<Response [200]>\n",
      "['OPPO F15', 'orn White']\n",
      "['(Unicorn White']\n",
      "['48MP', '8MP', '2MP', '2MP', '16MP']\n",
      "['4 GB', '128 GB', '256 GB']\n",
      "['4000 mAh']\n",
      "['16.26 cm']\n",
      "['41,712', '3,481']\n",
      "4.4\n",
      "₹20,990\n"
     ]
    }
   ],
   "source": [
    "b88=\"https://www.flipkart.com/oppo-f15-unicorn-white-128-gb/p/itm56d35565691ea?pid=MOBFNSUQ2GTFGFZW&lid=LSTMOBFNSUQ2GTFGFZWZFTEKP&marketplace=FLIPKART&q=oppo+mobiles&store=tyy%2F4io&srno=s_6_139&otracker=search&otracker1=search&fm=Search&iid=528451e3-1d58-4705-ad4e-014316c42aeb.MOBFNSUQ2GTFGFZW.SEARCH&ppt=sp&ppn=sp&qH=d3378adaa542146e\"\n",
    "details(b88,headers)"
   ]
  },
  {
   "cell_type": "code",
   "execution_count": 291,
   "id": "d117ab23",
   "metadata": {},
   "outputs": [
    {
     "name": "stdout",
     "output_type": "stream",
     "text": [
      "<Response [200]>\n",
      "['OPPO Reno3']\n",
      "['(Midnight Black']\n",
      "['64MP', '13MP', '8MP', '2MP', '44MP', '2MP', '44MP']\n",
      "['8 GB', '256 GB', '256 GB']\n",
      "['4025 mAh']\n",
      "['16.26 cm']\n",
      "['4,683', '457']\n",
      "4.4\n",
      "₹35,990\n"
     ]
    }
   ],
   "source": [
    "b89=\"https://www.flipkart.com/oppo-reno3-pro-midnight-black-256-gb/p/itm05804cb14fc19?pid=MOBFRGHWFS6F97JW&lid=LSTMOBFRGHWFS6F97JW5FVCOV&marketplace=FLIPKART&q=oppo+mobiles&store=tyy%2F4io&srno=s_6_141&otracker=search&otracker1=search&fm=Search&iid=528451e3-1d58-4705-ad4e-014316c42aeb.MOBFRGHWFS6F97JW.SEARCH&ppt=sp&ppn=sp&qH=d3378adaa542146e\"\n",
    "details(b89,headers)"
   ]
  },
  {
   "cell_type": "code",
   "execution_count": 292,
   "id": "05962455",
   "metadata": {},
   "outputs": [
    {
     "name": "stdout",
     "output_type": "stream",
     "text": [
      "['128 GB', '128 GB', '128 GB', '128 GB', '128 GB', '128 GB', '128 GB', '128 GB', '128 GB', '32 GB', '128 GB', '128 GB', '64 GB', '128 GB', '64 GB', '64 GB', '32 GB', '64 GB', '128 GB', '64 GB', '64 GB', '64 GB', '128 GB', '128 GB', '128 GB', '64 GB', '32 GB', '128 GB', '64 GB', '256 GB', '128 GB', '128 GB', '128 GB', '128 GB', '256 GB', '64 GB', '256 GB', '128 GB', '256 GB', '32 GB', '32 GB', '32 GB', '128 GB', '64 GB', '32 GB', '64 GB', '128 GB', '64 GB', '64 GB', '128 GB', '32 GB', '128 GB', '128 GB', '128 GB', '64 GB', '256 GB', '64 GB', '64 GB', '128 GB', '32 GB', '64 GB', '64 GB', '64 GB', '32 GB', '128 GB', '128 GB', '256 GB', '128 GB', '64 GB', '64 GB', '64 GB', '64 GB', '64 GB', '128 GB', '64 GB', '64 GB', '128 GB', '128 GB', '256 GB', '128 GB', '128 GB', '128 GB', '128 GB', '128 GB', '128 GB', '128 GB', '128 GB', '128 GB', '128 GB', '256 GB']\n",
      "['50MP', '50MP', '50MP', '48MP', '48MP', '48MP', '48MP', '48MP', '48MP', '13MP', '50MP', '50MP', '13MP', '13MP', '13MP', '50MP', '13MP', '13MP', '13MP', '13MP', '13MP', '13MP', '48MP', '50MP', '48MP', '13MP', '13MP', '64MP', '50MP', '50MP', '48MP', '64MP', '13MP', '50MP', '64MP', '50MP', '64MP', '48MP', '50MP', '13MP', '13MP', '13MP', '48MP', '50MP', '13MP', '13MP', '50MP', '50MP', '13MP', '13MP', '13MP', '16MP', '13MP', '64MP', '13MP', '48MP', '16MP', '13MP', '64MP', '13MP', '13MP', '13MP', '12MP', '13MP', '12MP', '64MP', '16MP', '50MP', '16MP', '16MP', '13MP', '13MP', '13MP', '48MP', '48MP', '48MP', '48MP', '16MP', '48MP', '48MP', '48MP', '48MP', '48MP', '48MP', '48MP', '48MP', '48MP', '48MP', '48MP', '64MP']\n",
      "['16MP', '16MP', '16MP', '16MP', '16MP', '8MP', '8MP', '8MP', '16MP', '5MP', '32MP', '32MP', '5MP', '13MP', '5MP', '5MP', '5MP', '16MP', '16MP', '8MP', '8MP', '8MP', '8MP', '8MP', '2MP', '8MP', '5MP', '2MP', '8MP', '32MP', '2MP', '64MP', '16MP', '16MP', '32MP', '16MP', '32MP', '8MP', '32MP', '5MP', '5MP', '5MP', '16MP', '16MP', '8MP', '16MP', '8MP', '16MP', '8MP', '8MP', '5MP', '16MP', '16MP', '32MP', '13MP', '16MP', '16MP', '8MP', '2MP', '8MP', '8MP', '8MP', '8MP', '8MP', '25MP', '2MP', '25MP', '8MP', '25MP', '25MP', '8MP', '16MP', '16MP', '16MP', '16MP', '16MP', '16MP', '16MP', '16MP', '16MP', '16MP', '16MP', '16MP', '16MP', '16MP', '16MP', '16MP', '16MP', '16MP', '44MP']\n",
      "['[', '(Black Carbon', '[', '(Blue Flame', '[', '(Black Carbon', '[', '(Space Silver', '[', '(Midnight Blue', '[', '(Midnight Black', '[', '(Ocean Blue', '[', '(Midnight Black', '[', '(Prism Black', '[', '(Midnight Black', '[', '(Shimmer Black', '[', '(Shimmer Gold', '[', '(Blue', '[', '(Fancy white', '[', '(White', '[', '(Midnight Black', '[', '(White', '[', '(Starry Blue', '[', '(Crystal Black', '[', '(Crystal Black', '[', '(Pearl Blue', '[', '(Glowing Green', '[', '(Fantastic Purple', '[', '(Sunset Orange', '[', '(Metallic White', '[', '(Glowing Black', '[', '(Deep Blue', '[', '(Orange', '[', '(Sky Blue', '[', '(Glazed Black', '[', '(Magic Blue', '[', '(Cosmic Black', '[', '(Moonlight Gold', '[', '(Starry Black', '[', '(Startrails Blue', '[', '(Starry Black', '[', '(Starry Black', '[', '(Fluid Black', '[', '(Starlight Black', '[', '(Black', '[', '(Blue', '[', '(Flowing Silver', '[', '(Fluid Black', '[', '(Mint Green', '[', '(Moonlight Black', '[', '(Crystal Black', '[', '(Starry Black', '[', '(Rainbow Blue', '[', '(Royal Gold', '[', '(Crystal Blue', '[', '(Blue', '[', '(Rainbow Spectrum', '[', '(Moonlight Black', '[', '(Aurora', '[', '(Fancy White', '[', '(Crystal Silver', '[', '(Stellar Purple', '[', '(Blue', '[', '(Dawnlight Gold', '[', '(Blue', '[', '(Green', '[', '(Black', '[', '(Mirror Black', '[', '(Red', '[', '(Emerald Green', '[', '(Starlight Black', '[', '(Bordeaux Red', '[', '(Sunset Orange', '[', '(Astral Blue', '[', '(Piano Black', '[', '(Diamond Blue', '[', '(Glaring Gold', '[', '(Glaze Blue', '[', '(Aurora Green', '[', '(Thunder Black', '[', '(Aurora Green', '[', '(Thunder Black', '[', '(Dynamic Orange', '[', '(Lake Green', '[', '(Marine Green', '[', '(Space Purple', '[', '(Marine Green', '[', '(Space Purple', '[', '(Sky White', '[', '(Vanilla Mint', '[', '(Vanilla Mint', '[', '(Lightening Black', '[', '(Blazing Blue', '[', '(Unicorn White', '[', '(Midnight Black']\n",
      "['OPPO K10', 'OPPO K10', 'OPPO K10', 'OPPO F19', 'OPPO F19', 'OPPO K10', 'OPPO K10', 'OPPO K10', 'OPPO F19', 'OPPO A16E', 'OPPO Reno8', 'OPPO Reno8', 'OPPO A16E', 'OPPO A15S', 'OPPO A16E', 'OPPO A17', 'OPPO A16E', 'OPPO A54', 'OPPO A54', 'OPPO A16', 'OPPO A16', 'OPPO A57', 'OPPO A74', 'OPPO A77s', 'OPPO F17', 'OPPO A57', 'OPPO A12', 'OPPO F21SPRO', 'OPPO A77', 'OPPO Reno8', 'OPPO F17', 'OPPO F21', 'OPPO A54', 'OPPO A96', 'OPPO Reno7', 'OPPO A55', 'OPPO Reno7', 'OPPO A74', 'OPPO Reno7', 'OPPO A12', 'OPPO A12', 'OPPO A12', 'OPPO F19', 'OPPO A55', 'OPPO A33', 'OPPO A54', 'OPPO A77s', 'OPPO A55', 'OPPO A16', 'OPPO A53s', 'OPPO A16k', 'OPPO F21', 'OPPO A53', 'OPPO Reno6', 'OPPO A15S', 'OPPO F19', 'OPPO F9', 'OPPO A5s', 'OPPO F21S', 'OPPO A5s', 'OPPO A5s', 'OPPO A5s', 'OPPO A5', 'OPPO A5s', 'OPPO R17', 'OPPO F21s', 'OPPO Find', 'OPPO A77', 'OPPO K1', 'OPPO K1', 'OPPO A5', 'OPPO A7', 'OPPO A7', 'OPPO F11', 'OPPO F11', 'OPPO F11', 'OPPO F11', 'OPPO F17', 'OPPO Reno2', 'OPPO A9', 'OPPO A9', 'OPPO A9', 'OPPO A9', 'OPPO Reno2', 'OPPO A9', 'OPPO A9', 'OPPO F15', 'OPPO F15', 'OPPO F15', 'OPPO Reno3']\n",
      "['6 GB', '6 GB', '8 GB', '8 GB', '6 GB', '8 GB', '8 GB', '6 GB', '6 GB', '3 GB', '8 GB', '8 GB', '4 GB', '4 GB', '4 GB', '4 GB', '3 GB', '4 GB', '4 GB', '4 GB', '4 GB', '4 GB', '6 GB', '8 GB', '8 GB', '4 GB', '3 GB', '8 GB', '4 GB', '12 GB', '8 GB', '8 GB', '6 GB', '8 GB', '8 GB', '4 GB', '8 GB', '6 GB', '12 GB', '3 GB', '3 GB', '3 GB', '8 GB', '4 GB', '3 GB', '4 GB', '8 GB', '4 GB', '4 GB', '6 GB', '3 GB', '8 GB', '6 GB', '8 GB', '4 GB', '8 GB', '4 GB', '4 GB', '8 GB', '2 GB', '4 GB', '4 GB', '3 GB', '2 GB', '8 GB', '8 GB', '8 GB', '4 GB', '4 GB', '6 GB', '4 GB', '4 GB', '4 GB', '6 GB', '6 GB', '6 GB', '6 GB', '6 GB', '6 GB', '4 GB', '4 GB', '8 GB', '8 GB', '8 GB', '8 GB', '4 GB', '8 GB', '4 GB', '4 GB', '8 GB']\n",
      "['5000 mAh', '5000 mAh', '5000 mAh', '4310 mAh', '5000 mAh', '5000 mAh', '5000 mAh', '5000 mAh', '5000 mAh', '4230 mAh', '4500 mAh', '4500 mAh', '4230 mAh', '4230 mAh', '4230 mAh', '5000 mAh', '4230 mAh', '5000 mAh', '5000 mAh', '5000 mAh', '5000 mAh', '5000 mAh', '5000 mAh', '5000 mAh', '4015 mAh', '5000 mAh', '4230 mAh', '4500 mAh', '5000 mAh', '4500 mAh', '4015 mAh', '4500 mAh', '5000 mAh', '5000 mAh', '4500 mAh', '5000 mAh', '4500 mAh', '5000 mAh', '4500 mAh', '4230 mAh', '4230 mAh', '4230 mAh', '4310 mAh', '5000 mAh', '5000 mAh', '5000 mAh', '5000 mAh', '5000 mAh', '5000 mAh', '5000 mAh', '4230 mAh', '4500 mAh', '5000 mAh', '4300 mAh', '4230 mAh', '4310 mAh', '3500 mAh', '4230 mAh', '4500 mAh', '4230 mAh', '4230 mAh', '4230 mAh', '5000 mAh', '4230 mAh', '3700 mAh', '4500 mAh', '3730 mAh', '5000 mAh', '3600 mAh', '3600 mAh', '4230 mAh', '4230 mAh', '4230 mAh', '4000 mAh', '4000 mAh', '4000 mAh', '4000 mAh', '4015 mAh', '4000 mAh', '5000 mAh', '5000 mAh', '5000 mAh', '5000 mAh', '4000 mAh', '5000 mAh', '5000 mAh', '4000 mAh', '4000 mAh', '4000 mAh', '4025 mAh']\n",
      "['16.74 cm', '16.74 cm', '16.74 cm', '16.33 cm', '16.33 cm', '16.66 cm', '16.66 cm', '16.66 cm', '16.33 cm', '16.56 cm', '16.33 cm', '16.33 cm', '16.56 cm', '16.56 cm', '16.56 cm', '16.66 cm', '16.56 cm', '16.54 cm', '16.54 cm', '16.56 cm', '16.56 cm', '16.66 cm', '16.48 cm', '16.66 cm', '16.33 cm', '16.66 cm', '15.8 cm', '16.33 cm', '16.66 cm', '17.02 cm', '16.33 cm', '16.33 cm', '16.54 cm', '16.74 cm', '16.33 cm', '16.54 cm', '16.33 cm', '16.48 cm', '16.51 cm', '15.8 cm', '15.8 cm', '15.8 cm', '16.33 cm', '16.54 cm', '16.51 cm', '16.54 cm', '16.66 cm', '16.54 cm', '16.56 cm', '16.56 cm', '16.56 cm', '16.33 cm', '16.51 cm', '16.33 cm', '16.56 cm', '16.33 cm', '16.0 cm', '15.75 cm', '16.33 cm', '15.75 cm', '15.75 cm', '15.75 cm', '16.51 cm', '15.75 cm', '16.26 cm', '16.33 cm', '16.26 cm', '16.66 cm', '16.28 cm', '16.28 cm', '15.75 cm', '15.75 cm', '15.75 cm', '16.51 cm', '16.51 cm', '16.51 cm', '16.51 cm', '16.36 cm', '16.51 cm', '16.51 cm', '16.51 cm', '16.51 cm', '16.51 cm', '16.51 cm', '16.56 cm', '16.56 cm', '16.26 cm', '16.26 cm', '16.26 cm', '16.26 cm']\n",
      "['₹13,990', '₹13,990', '₹16,990', '₹17,990', '₹14,990', '₹17,499', '₹17,499', '₹16,499', '₹14,990', '₹8,999', '₹29,999', '₹29,999', '₹10,989', '₹11,165', '₹9,999', '₹12,499', '₹8,999', '₹12,499', '₹14,990', '₹12,990', '₹12,990', '₹13,999', '₹17,399', '₹17,999', '₹17,990', '₹13,999', '₹9,990', '₹21,989', '₹15,499', '₹45,999', '₹17,990', '₹21,999', '₹15,990', '₹17,999', '₹28,999', '₹14,490', '₹28,999', '₹18,490', '₹34,999', '₹9,990', '₹9,990', '₹9,990', '₹17,990', '₹14,490', '₹10,490', '₹13,990', '₹17,999', '₹14,490', '₹12,990', '₹15,990', '₹9,989', '₹25,999', '₹13,990', '₹29,990', '₹11,399', '₹22,990', '₹21,990', '₹15,990', '₹21,989', '₹12,990', '₹15,990', '₹15,990', '₹14,990', '₹12,990', '₹49,990', '₹21,979', '₹60,990', '₹15,999', '₹18,990', '₹20,990', '₹15,990', '₹18,990', '₹18,990', '₹29,990', '₹28,990', '₹28,990', '₹29,990', '₹17,989', '₹19,990', '₹18,990', '₹18,990', '₹21,990', '₹21,990', '₹28,990', '₹21,990', '₹18,990', '₹22,990', '₹20,990', '₹20,990', '₹35,990']\n",
      "['4.4', '4.4', '4.3', '4.3', '4.3', '4.4', '4.4', '4.4', '4.3', '4.3', '4.3', '4.3', '4.2', '4.3', '4.2', '4.4', '4.3', '4.4', '4.4', '4.3', '4.3', '4.4', '4.3', '4.6', '4.3', '4.4', '4.4', '4.3', '4.4', '4.4', '4.3', '4.3', '4.3', '4.3', '4.2', '4.2', '4.2', '4.3', '4.3', '4.4', '4.4', '4.4', '4.3', '4.2', '4.4', '4.4', '4.6', '4.2', '4.3', '4.4', '4.3', '4.2', '4.4', '4.3', '4.3', '4.3', '4.5', '4.4', '4.1', '4.3', '4.4', '4.4', '4.4', '4.3', '4.2', '4.1', '4.6', '4.4', '4.5', '4.4', '4.4', '4.4', '4.4', '4.5', '4.5', '4.5', '4.5', '4.3', '4.5', '4.4', '4.4', '4.3', '4.3', '4.4', '4.3', '4.4', '4.4', '4.4', '4.4', '4.4']\n",
      "['77,222', '77,222', '4,812', '18,344', '19,142', '45,063', '45,063', '10,078', '19,142', '451', '28,512', '28,512', '1,285', '5,247', '1,285', '808', '451', '10,603', '10,603', '3,512', '3,512', '1,789', '1,035', '16', '28,266', '1,789', '74,712', '6', '126', '1,822', '28,266', '1,564', '3,939', '831', '15,896', '648', '15,896', '1,716', '7,070', '74,712', '74,712', '74,712', '18,344', '648', '50,957', '10,603', '16', '648', '3,512', '68,250', '606', '848', '55,480', '53,232', '5,247', '9,194', '40,554', '41,794', '97', '33,996', '41,794', '41,794', '3,046', '33,996', '552', '97', '449', '126', '75,275', '1,774', '14,378', '20,843', '20,843', '1,28', '1,28', '1,28', '1,28', '7,178', '81,874', '1,01', '1,01', '61,836', '61,836', '4,665', '61,836', '1,01', '22,604', '41,712', '41,712', '4,683']\n"
     ]
    }
   ],
   "source": [
    "print(storage)\n",
    "print(camera_px)\n",
    "print(self_px)\n",
    "print(colour)\n",
    "print(name)\n",
    "print(ram)\n",
    "# print(tech)\n",
    "print(battery)\n",
    "print(display)\n",
    "print(price)\n",
    "# print(os_sys)\n",
    "print(star_rate)\n",
    "print(user_rate)"
   ]
  },
  {
   "cell_type": "code",
   "execution_count": 293,
   "id": "49de60a3",
   "metadata": {},
   "outputs": [
    {
     "data": {
      "text/plain": [
       "list"
      ]
     },
     "execution_count": 293,
     "metadata": {},
     "output_type": "execute_result"
    }
   ],
   "source": [
    "type(colour)"
   ]
  },
  {
   "cell_type": "code",
   "execution_count": 294,
   "id": "3e2fd8e7",
   "metadata": {},
   "outputs": [],
   "source": [
    "colour=[i for i in colour if i!='[']"
   ]
  },
  {
   "cell_type": "code",
   "execution_count": 295,
   "id": "769b9d6f",
   "metadata": {},
   "outputs": [
    {
     "data": {
      "text/plain": [
       "90"
      ]
     },
     "execution_count": 295,
     "metadata": {},
     "output_type": "execute_result"
    }
   ],
   "source": [
    "len(user_rate)"
   ]
  },
  {
   "cell_type": "code",
   "execution_count": 296,
   "id": "5ec3123d",
   "metadata": {},
   "outputs": [
    {
     "data": {
      "text/plain": [
       "90"
      ]
     },
     "execution_count": 296,
     "metadata": {},
     "output_type": "execute_result"
    }
   ],
   "source": [
    "len(colour)"
   ]
  },
  {
   "cell_type": "code",
   "execution_count": 297,
   "id": "f04bb6ca",
   "metadata": {},
   "outputs": [],
   "source": [
    "camera_px=[i.replace(\"MP\",\"\") for i in camera_px]"
   ]
  },
  {
   "cell_type": "code",
   "execution_count": 298,
   "id": "5cb7d6c9",
   "metadata": {},
   "outputs": [],
   "source": [
    "self_px=[i.replace(\"MP\",\"\") for i in self_px]"
   ]
  },
  {
   "cell_type": "code",
   "execution_count": 299,
   "id": "cfb85234",
   "metadata": {},
   "outputs": [],
   "source": [
    "storage=[i.replace(\"GB\",\" \") for i in storage]"
   ]
  },
  {
   "cell_type": "code",
   "execution_count": 300,
   "id": "c9876251",
   "metadata": {},
   "outputs": [],
   "source": [
    "ram=[i.replace(\"GB\",\" \") for i in ram]"
   ]
  },
  {
   "cell_type": "code",
   "execution_count": 301,
   "id": "842b9972",
   "metadata": {},
   "outputs": [],
   "source": [
    "battery=[i.replace(\"mAH\",\"\") for i in battery]\n",
    "battery=[i.replace(\"mAh\",\"\") for i in battery]"
   ]
  },
  {
   "cell_type": "code",
   "execution_count": 302,
   "id": "217479c1",
   "metadata": {},
   "outputs": [],
   "source": [
    "colour=[i.replace(\"(\",\"\") for i in colour]\n"
   ]
  },
  {
   "cell_type": "code",
   "execution_count": 303,
   "id": "c81f0368",
   "metadata": {},
   "outputs": [],
   "source": [
    "price=[i.replace(\"₹\",\"\") for i in price]\n",
    "price=[i.replace(\",\",\"\") for i in price]"
   ]
  },
  {
   "cell_type": "code",
   "execution_count": 304,
   "id": "c5d0418e",
   "metadata": {},
   "outputs": [],
   "source": [
    "display=[i.replace(\" cm\",\"\") for i in display]"
   ]
  },
  {
   "cell_type": "code",
   "execution_count": 305,
   "id": "4be87772",
   "metadata": {},
   "outputs": [],
   "source": [
    "user_rate=[i.replace(\",\",\"\") for i in user_rate]"
   ]
  },
  {
   "cell_type": "code",
   "execution_count": 306,
   "id": "5c9c1062",
   "metadata": {},
   "outputs": [],
   "source": [
    "storage=[float(i) for i in storage]\n",
    "camera_px=[int(i) for i in camera_px]\n",
    "self_px=[int(i) for i in self_px]\n",
    "ram=[float(i) for i in ram]\n",
    "# tech=[float(i) for i in tech]\n",
    "battery=[float(i) for i in battery]\n",
    "display=[float(i) for i in display]\n",
    "price=[float(i) for i in price]\n",
    "star_rate=[float(i) for i in star_rate]\n",
    "user_rate=[float(i) for i in user_rate]"
   ]
  },
  {
   "cell_type": "code",
   "execution_count": 307,
   "id": "acdfc259",
   "metadata": {},
   "outputs": [
    {
     "data": {
      "text/plain": [
       "90"
      ]
     },
     "execution_count": 307,
     "metadata": {},
     "output_type": "execute_result"
    }
   ],
   "source": [
    "len(colour)"
   ]
  },
  {
   "cell_type": "code",
   "execution_count": 308,
   "id": "34bcb5f7",
   "metadata": {},
   "outputs": [],
   "source": [
    "r1=pd.DataFrame({\"Name\":name,\"Colour\":colour,\"Storage\":storage,\"Battery\":battery,\n",
    "               \"Camera_Pixel\":camera_px,\"Selfie_cam_pixel\":self_px,\"Display_size\":display,\n",
    "                \"RAM\":ram,\n",
    "               \"Star_ratings\":star_rate,\"Users_rated\":user_rate,\"Price\":price})"
   ]
  },
  {
   "cell_type": "code",
   "execution_count": 311,
   "id": "0ae0404c",
   "metadata": {},
   "outputs": [
    {
     "data": {
      "text/html": [
       "<div>\n",
       "<style scoped>\n",
       "    .dataframe tbody tr th:only-of-type {\n",
       "        vertical-align: middle;\n",
       "    }\n",
       "\n",
       "    .dataframe tbody tr th {\n",
       "        vertical-align: top;\n",
       "    }\n",
       "\n",
       "    .dataframe thead th {\n",
       "        text-align: right;\n",
       "    }\n",
       "</style>\n",
       "<table border=\"1\" class=\"dataframe\">\n",
       "  <thead>\n",
       "    <tr style=\"text-align: right;\">\n",
       "      <th></th>\n",
       "      <th>Name</th>\n",
       "      <th>Colour</th>\n",
       "      <th>Storage</th>\n",
       "      <th>Battery</th>\n",
       "      <th>Camera_Pixel</th>\n",
       "      <th>Selfie_cam_pixel</th>\n",
       "      <th>Display_size</th>\n",
       "      <th>RAM</th>\n",
       "      <th>Star_ratings</th>\n",
       "      <th>Users_rated</th>\n",
       "      <th>Price</th>\n",
       "    </tr>\n",
       "  </thead>\n",
       "  <tbody>\n",
       "    <tr>\n",
       "      <th>0</th>\n",
       "      <td>OPPO K10</td>\n",
       "      <td>Black Carbon</td>\n",
       "      <td>128.0</td>\n",
       "      <td>5000.0</td>\n",
       "      <td>50</td>\n",
       "      <td>16</td>\n",
       "      <td>16.74</td>\n",
       "      <td>6.0</td>\n",
       "      <td>4.4</td>\n",
       "      <td>77222.0</td>\n",
       "      <td>13990.0</td>\n",
       "    </tr>\n",
       "    <tr>\n",
       "      <th>1</th>\n",
       "      <td>OPPO K10</td>\n",
       "      <td>Blue Flame</td>\n",
       "      <td>128.0</td>\n",
       "      <td>5000.0</td>\n",
       "      <td>50</td>\n",
       "      <td>16</td>\n",
       "      <td>16.74</td>\n",
       "      <td>6.0</td>\n",
       "      <td>4.4</td>\n",
       "      <td>77222.0</td>\n",
       "      <td>13990.0</td>\n",
       "    </tr>\n",
       "    <tr>\n",
       "      <th>2</th>\n",
       "      <td>OPPO K10</td>\n",
       "      <td>Black Carbon</td>\n",
       "      <td>128.0</td>\n",
       "      <td>5000.0</td>\n",
       "      <td>50</td>\n",
       "      <td>16</td>\n",
       "      <td>16.74</td>\n",
       "      <td>8.0</td>\n",
       "      <td>4.3</td>\n",
       "      <td>4812.0</td>\n",
       "      <td>16990.0</td>\n",
       "    </tr>\n",
       "    <tr>\n",
       "      <th>3</th>\n",
       "      <td>OPPO F19</td>\n",
       "      <td>Space Silver</td>\n",
       "      <td>128.0</td>\n",
       "      <td>4310.0</td>\n",
       "      <td>48</td>\n",
       "      <td>16</td>\n",
       "      <td>16.33</td>\n",
       "      <td>8.0</td>\n",
       "      <td>4.3</td>\n",
       "      <td>18344.0</td>\n",
       "      <td>17990.0</td>\n",
       "    </tr>\n",
       "    <tr>\n",
       "      <th>4</th>\n",
       "      <td>OPPO F19</td>\n",
       "      <td>Midnight Blue</td>\n",
       "      <td>128.0</td>\n",
       "      <td>5000.0</td>\n",
       "      <td>48</td>\n",
       "      <td>16</td>\n",
       "      <td>16.33</td>\n",
       "      <td>6.0</td>\n",
       "      <td>4.3</td>\n",
       "      <td>19142.0</td>\n",
       "      <td>14990.0</td>\n",
       "    </tr>\n",
       "    <tr>\n",
       "      <th>...</th>\n",
       "      <td>...</td>\n",
       "      <td>...</td>\n",
       "      <td>...</td>\n",
       "      <td>...</td>\n",
       "      <td>...</td>\n",
       "      <td>...</td>\n",
       "      <td>...</td>\n",
       "      <td>...</td>\n",
       "      <td>...</td>\n",
       "      <td>...</td>\n",
       "      <td>...</td>\n",
       "    </tr>\n",
       "    <tr>\n",
       "      <th>85</th>\n",
       "      <td>OPPO A9</td>\n",
       "      <td>Vanilla Mint</td>\n",
       "      <td>128.0</td>\n",
       "      <td>5000.0</td>\n",
       "      <td>48</td>\n",
       "      <td>16</td>\n",
       "      <td>16.56</td>\n",
       "      <td>4.0</td>\n",
       "      <td>4.4</td>\n",
       "      <td>101.0</td>\n",
       "      <td>18990.0</td>\n",
       "    </tr>\n",
       "    <tr>\n",
       "      <th>86</th>\n",
       "      <td>OPPO F15</td>\n",
       "      <td>Lightening Black</td>\n",
       "      <td>128.0</td>\n",
       "      <td>4000.0</td>\n",
       "      <td>48</td>\n",
       "      <td>16</td>\n",
       "      <td>16.26</td>\n",
       "      <td>8.0</td>\n",
       "      <td>4.4</td>\n",
       "      <td>22604.0</td>\n",
       "      <td>22990.0</td>\n",
       "    </tr>\n",
       "    <tr>\n",
       "      <th>87</th>\n",
       "      <td>OPPO F15</td>\n",
       "      <td>Blazing Blue</td>\n",
       "      <td>128.0</td>\n",
       "      <td>4000.0</td>\n",
       "      <td>48</td>\n",
       "      <td>16</td>\n",
       "      <td>16.26</td>\n",
       "      <td>4.0</td>\n",
       "      <td>4.4</td>\n",
       "      <td>41712.0</td>\n",
       "      <td>20990.0</td>\n",
       "    </tr>\n",
       "    <tr>\n",
       "      <th>88</th>\n",
       "      <td>OPPO F15</td>\n",
       "      <td>Unicorn White</td>\n",
       "      <td>128.0</td>\n",
       "      <td>4000.0</td>\n",
       "      <td>48</td>\n",
       "      <td>16</td>\n",
       "      <td>16.26</td>\n",
       "      <td>4.0</td>\n",
       "      <td>4.4</td>\n",
       "      <td>41712.0</td>\n",
       "      <td>20990.0</td>\n",
       "    </tr>\n",
       "    <tr>\n",
       "      <th>89</th>\n",
       "      <td>OPPO Reno3</td>\n",
       "      <td>Midnight Black</td>\n",
       "      <td>256.0</td>\n",
       "      <td>4025.0</td>\n",
       "      <td>64</td>\n",
       "      <td>44</td>\n",
       "      <td>16.26</td>\n",
       "      <td>8.0</td>\n",
       "      <td>4.4</td>\n",
       "      <td>4683.0</td>\n",
       "      <td>35990.0</td>\n",
       "    </tr>\n",
       "  </tbody>\n",
       "</table>\n",
       "<p>90 rows × 11 columns</p>\n",
       "</div>"
      ],
      "text/plain": [
       "          Name            Colour  Storage  Battery  Camera_Pixel  \\\n",
       "0     OPPO K10      Black Carbon    128.0   5000.0            50   \n",
       "1     OPPO K10        Blue Flame    128.0   5000.0            50   \n",
       "2     OPPO K10      Black Carbon    128.0   5000.0            50   \n",
       "3     OPPO F19      Space Silver    128.0   4310.0            48   \n",
       "4     OPPO F19     Midnight Blue    128.0   5000.0            48   \n",
       "..         ...               ...      ...      ...           ...   \n",
       "85     OPPO A9      Vanilla Mint    128.0   5000.0            48   \n",
       "86    OPPO F15  Lightening Black    128.0   4000.0            48   \n",
       "87    OPPO F15      Blazing Blue    128.0   4000.0            48   \n",
       "88    OPPO F15     Unicorn White    128.0   4000.0            48   \n",
       "89  OPPO Reno3    Midnight Black    256.0   4025.0            64   \n",
       "\n",
       "    Selfie_cam_pixel  Display_size  RAM  Star_ratings  Users_rated    Price  \n",
       "0                 16         16.74  6.0           4.4      77222.0  13990.0  \n",
       "1                 16         16.74  6.0           4.4      77222.0  13990.0  \n",
       "2                 16         16.74  8.0           4.3       4812.0  16990.0  \n",
       "3                 16         16.33  8.0           4.3      18344.0  17990.0  \n",
       "4                 16         16.33  6.0           4.3      19142.0  14990.0  \n",
       "..               ...           ...  ...           ...          ...      ...  \n",
       "85                16         16.56  4.0           4.4        101.0  18990.0  \n",
       "86                16         16.26  8.0           4.4      22604.0  22990.0  \n",
       "87                16         16.26  4.0           4.4      41712.0  20990.0  \n",
       "88                16         16.26  4.0           4.4      41712.0  20990.0  \n",
       "89                44         16.26  8.0           4.4       4683.0  35990.0  \n",
       "\n",
       "[90 rows x 11 columns]"
      ]
     },
     "execution_count": 311,
     "metadata": {},
     "output_type": "execute_result"
    }
   ],
   "source": [
    "r1"
   ]
  },
  {
   "cell_type": "code",
   "execution_count": 310,
   "id": "036ebec0",
   "metadata": {},
   "outputs": [],
   "source": [
    "r1.to_csv(\"oppo_flipkart.csv\")"
   ]
  },
  {
   "cell_type": "code",
   "execution_count": 313,
   "id": "e6385626",
   "metadata": {},
   "outputs": [
    {
     "data": {
      "text/plain": [
       "0"
      ]
     },
     "execution_count": 313,
     "metadata": {},
     "output_type": "execute_result"
    }
   ],
   "source": [
    "r1.duplicated().sum()"
   ]
  },
  {
   "cell_type": "code",
   "execution_count": null,
   "id": "10c80947",
   "metadata": {},
   "outputs": [],
   "source": []
  }
 ],
 "metadata": {
  "kernelspec": {
   "display_name": "Python 3 (ipykernel)",
   "language": "python",
   "name": "python3"
  },
  "language_info": {
   "codemirror_mode": {
    "name": "ipython",
    "version": 3
   },
   "file_extension": ".py",
   "mimetype": "text/x-python",
   "name": "python",
   "nbconvert_exporter": "python",
   "pygments_lexer": "ipython3",
   "version": "3.9.12"
  }
 },
 "nbformat": 4,
 "nbformat_minor": 5
}
