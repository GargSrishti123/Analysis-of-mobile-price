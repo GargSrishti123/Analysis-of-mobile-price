{
 "cells": [
  {
   "cell_type": "code",
   "execution_count": 1,
   "id": "3c9b7f65",
   "metadata": {},
   "outputs": [],
   "source": [
    "import requests\n",
    "from bs4 import BeautifulSoup\n",
    "import re\n",
    "import pandas as pd"
   ]
  },
  {
   "cell_type": "code",
   "execution_count": 2,
   "id": "2bae489c",
   "metadata": {},
   "outputs": [],
   "source": [
    "headers={\"User-Agent\": \"Mozilla/5.0 (Windows NT 10.0; Win64; x64) AppleWebKit/537.36 (KHTML, like Gecko) Chrome/106.0.0.0 Safari/537.36\"}"
   ]
  },
  {
   "cell_type": "code",
   "execution_count": 3,
   "id": "a96087f3",
   "metadata": {},
   "outputs": [
    {
     "name": "stdout",
     "output_type": "stream",
     "text": [
      "<Response [200]>\n",
      "['8MP', '5MP']\n",
      "['2GB', '32GB', '512GB']\n",
      "['0G', '2G', '2G', '2G', '4G', '4G']\n",
      "['16.56cm']\n",
      "['5000 mAh']\n",
      "6,499.\n",
      "['Redmi A1 ', 'RAM', 'rage', 'ry ', 're Design ', 'roid 12 ']\n",
      "['(Light Blue']\n",
      "   OS    Android Go  \n",
      "['Android Go']\n"
     ]
    }
   ],
   "source": [
    "url=\"https://www.amazon.in/Redmi-Storage-Battery-Leather-Texture/dp/B0BBN4DZBD/ref=sr_1_5?crid=U2L18QSJ4N5W&keywords=redmi&qid=1666789647&qu=eyJxc2MiOiI2LjM2IiwicXNhIjoiNS45MCIsInFzcCI6IjUuMDQifQ%3D%3D&sprefix=%2Caps%2C284&sr=8-5\"\n",
    "res=requests.get(url,headers=headers)\n",
    "print(res)\n",
    "a=BeautifulSoup(res.content,\"html.parser\")\n",
    "b=a.find('ul',{\"class\":\"a-unordered-list a-vertical a-spacing-mini\"})\n",
    "c=b.text\n",
    "#print(c)\n",
    "d=r'[0-9]+\\s?[M][P]'\n",
    "f=re.findall(d,c)\n",
    "print(f)\n",
    "g=r'[0-9]+[G][B]+'\n",
    "h=re.findall(g,c)\n",
    "print(h)\n",
    "\n",
    "\n",
    "k=r'[0-9]+\\.[0-9]+\\s?[cm,centimeters]+'\n",
    "l=re.findall(k,c)\n",
    "print(l)\n",
    "m=r'[0-9]+\\s?[m][A][H,h]'\n",
    "n=re.findall(m,c)\n",
    "print(n)\n",
    "o=a.find('span',{\"class\":\"a-price-whole\"})\n",
    "p=o.text\n",
    "print(p)\n",
    "\n",
    "q=a.find('span',{\"class\":\"a-size-large product-title-word-break\"})\n",
    "r=q.text\n",
    "#print(r)\n",
    "\n",
    "s=r'[r,R][A-Za-z]+\\s?[A-Za-z0-9]*\\s?[A-Za-z0-9]*'\n",
    "t=re.findall(s,r)\n",
    "print(t)\n",
    "\n",
    "u=r'[(][A-Za-z]+\\s?[A-Za-z0-9]+'\n",
    "y=re.findall(u,r)\n",
    "print(y)\n",
    "\n",
    "qq=a.find('tr',{\"class\":\"a-spacing-small po-operating_system\"})\n",
    "rr=qq.text\n",
    "print(rr)\n",
    "\n",
    "os=r'[a-mA-M][A-Za-z]+\\s?[0-9A-Za-z]+'\n",
    "red=re.findall(os,rr)\n",
    "print(red)"
   ]
  },
  {
   "cell_type": "code",
   "execution_count": 3,
   "id": "dfbabd6e",
   "metadata": {},
   "outputs": [],
   "source": [
    "def details(baseurl,headers):\n",
    "    res1=requests.get(baseurl,headers=headers)\n",
    "    #print(res1)\n",
    "    a=BeautifulSoup(res1.content,\"html.parser\")\n",
    "    b=a.find('ul',{\"class\":\"a-unordered-list a-vertical a-spacing-mini\"})\n",
    "    c=b.text\n",
    "    #print(c)\n",
    "    d=r'[0-9]+\\s?[M][P]+'\n",
    "    f=re.findall(d,c)\n",
    "    print(f)\n",
    "    g=r'[0-9]+[G][B]+'\n",
    "    h=re.findall(g,c)\n",
    "    print(h)\n",
    "\n",
    "    k=r'[0-9]+\\.[0-9]+\\s?[cm,centimeters]+'\n",
    "    l=re.findall(k,c)\n",
    "    print(l)\n",
    "    m=r'[0-9]+\\s?[m,M][A][H,h]'\n",
    "    n=re.findall(m,c)\n",
    "    print(n)\n",
    "\n",
    "    o=a.find('span',{\"class\":\"a-price-whole\"})\n",
    "    p=o.text\n",
    "    print(p)\n",
    "    q=a.find('span',{\"class\":\"a-size-large product-title-word-break\"})\n",
    "    r=q.text\n",
    "    #print(r)\n",
    "\n",
    "    s=r'[r,R][A-Za-z]+\\s?[A-Za-z0-9]*\\s?[A-Za-z0-9]*'\n",
    "    t=re.findall(s,r)\n",
    "    print(t)\n",
    "\n",
    "    u=r'[(][A-Za-z]+\\s?[A-Za-z0-9]+'\n",
    "    y=re.findall(u,r)\n",
    "    print(y)\n",
    "    \n",
    "    qq=a.find('tr',{\"class\":\"a-spacing-small po-operating_system\"})\n",
    "    rr=qq.text\n",
    "    #print(rr)\n",
    "\n",
    "    os=r'[a-mA-M][A-Za-z]+\\s?[0-9A-Za-z]+'\n",
    "    red=re.findall(os,rr)\n",
    "    print(red)\n",
    "    \n",
    "    gh=a.find(\"tr\",{\"class\":\"a-spacing-small po-cellular_technology\"})\n",
    "    #print(gh.text)\n",
    "    bh=gh.text\n",
    "    g1=r'[0-9]{1}\\s?[G]'\n",
    "    h1=re.findall(g1,bh)\n",
    "    print(h1)\n",
    "    \n",
    "    hn=a.find(\"span\",{\"class\":\"a-icon-alt\"})\n",
    "    st=hn.text\n",
    "    sta=r'[0-9]+[.][0-9]*'\n",
    "    star=re.findall(sta,st)\n",
    "    print(star)\n",
    "\n",
    "    us=a.find('span',{\"id\":\"acrCustomerReviewText\",\"class\":\"a-size-base\"})\n",
    "    ui=us.text\n",
    "    use=r'[0-9]*[,]*[0-9]+'\n",
    "    uss=re.findall(use,ui)\n",
    "    print(uss)\n",
    "    \n",
    "    storage.append(h[1])\n",
    "    colour.append(y[0])\n",
    "    name.append(t[0])\n",
    "    ram.append(h[0])\n",
    "    if h1==[]:\n",
    "        tech.append(\"4G\")\n",
    "    else:\n",
    "        tech.append(h1[0])\n",
    "    if n==[]:\n",
    "        battery.append(\"5000mAh\")\n",
    "    else:\n",
    "        battery.append(n[0])\n",
    "    display.append(l[0])\n",
    "    price.append(p)\n",
    "    os_sys.append(red[0])\n",
    "    star_rate.append(star[0])\n",
    "    user_rate.append(uss[0])\n",
    "    \n",
    "    \n",
    "    if f==[]:\n",
    "        camera_px.append(\"50MP\")\n",
    "        self_px.append(\"8MP\")\n",
    "    else:\n",
    "        camera_px.append(f[0])\n",
    "        self_px.append(f[-1])"
   ]
  },
  {
   "cell_type": "code",
   "execution_count": 4,
   "id": "0e1be689",
   "metadata": {},
   "outputs": [],
   "source": [
    "storage=[]\n",
    "camera_px=[]\n",
    "self_px=[]\n",
    "colour=[]\n",
    "name=[]\n",
    "ram=[]\n",
    "tech=[]\n",
    "battery=[]\n",
    "display=[]\n",
    "price=[]\n",
    "os_sys=[]\n",
    "star_rate=[]\n",
    "user_rate=[]"
   ]
  },
  {
   "cell_type": "code",
   "execution_count": 5,
   "id": "9ac50489",
   "metadata": {},
   "outputs": [
    {
     "name": "stdout",
     "output_type": "stream",
     "text": [
      "['50MP', '2MP', '2MP', '8MP']\n",
      "['4GB', '64GB', '512GB']\n",
      "['16.71centimeters', '2.2 st']\n",
      "['5000 mAh']\n",
      "13,999.\n",
      "['Redmi 11 Prime', 'reen', 'RAM 128GB ROM', 'rime Design ', 'rformance Helio G99', 'riple Cam ']\n",
      "['(Playful Green']\n",
      "['MIUI 13']\n",
      "['4G']\n",
      "['4.3']\n",
      "['86']\n"
     ]
    }
   ],
   "source": [
    "b=\"https://www.amazon.in/Redmi-Playful-Design-Performance-Triple/dp/B0BBGWXNPX/ref=sr_1_omk_2?crid=33DCUSMJ8KJJT&keywords=redmi&qid=1666548541&qu=eyJxc2MiOiI2LjM1IiwicXNhIjoiNS44OSIsInFzcCI6IjUuMDYifQ%3D%3D&sprefix=redmi%2Caps%2C250&sr=8-2&th=1\"\n",
    "details(b,headers)"
   ]
  },
  {
   "cell_type": "code",
   "execution_count": 6,
   "id": "a3dc202f",
   "metadata": {},
   "outputs": [
    {
     "name": "stdout",
     "output_type": "stream",
     "text": [
      "['50MP', '8MP', '16 MP']\n",
      "['8GB', '128GB']\n",
      "['6.6 inc', '3.5mm,']\n",
      "['5000mAh']\n",
      "19,999.\n",
      "['Redmi Note 11T', 'RAM', 'ROM', 'ro Fast Charging', 'rger Included ', 'rs', 'remium Free']\n",
      "['(Matte Black']\n",
      "['Android 11', 'MIUI 12']\n",
      "['5G']\n",
      "['4.1']\n",
      "['27,690']\n"
     ]
    }
   ],
   "source": [
    "b1=\"https://www.amazon.in/Redmi-Note-11T-5G-Dimensity/dp/B09LJ12YNK/ref=sr_1_18?crid=U2L18QSJ4N5W&keywords=redmi&qid=1666793296&qu=eyJxc2MiOiI2LjM2IiwicXNhIjoiNS45MCIsInFzcCI6IjUuMDQifQ%3D%3D&sprefix=%2Caps%2C284&sr=8-18\"\n",
    "details(b1,headers)"
   ]
  },
  {
   "cell_type": "code",
   "execution_count": 7,
   "id": "8d794ff7",
   "metadata": {},
   "outputs": [
    {
     "name": "stdout",
     "output_type": "stream",
     "text": [
      "['13 MP', '5 MP']\n",
      "['2GB', '32GB']\n",
      "['16.58 centimeters']\n",
      "['5000 mAH']\n",
      "6,999.\n",
      "['Redmi 9A Sport', 'rbon Black', 'RAM', 'rage', 're Helio G25', 'rocessor ', 'ry  ']\n",
      "['(Carbon Black']\n",
      "['MIUI 12']\n",
      "[]\n",
      "['4.2']\n",
      "['304,361']\n"
     ]
    }
   ],
   "source": [
    "b2=\"https://www.amazon.in/Redmi-Activ-Coral-Green-Storage/dp/B09GFLFMPS/ref=sr_1_omk_2?crid=1XTZPQAO5YLKY&keywords=redmi&qid=1666789097&qu=eyJxc2MiOiI2LjM2IiwicXNhIjoiNS45MCIsInFzcCI6IjUuMDQifQ%3D%3D&sprefix=redmi%2Caps%2C364&sr=8-2\"\n",
    "details(b2,headers)"
   ]
  },
  {
   "cell_type": "code",
   "execution_count": 8,
   "id": "abd619bf",
   "metadata": {},
   "outputs": [
    {
     "name": "stdout",
     "output_type": "stream",
     "text": [
      "['13 MP', '5 MP']\n",
      "['2GB', '32GB']\n",
      "['16.58 centimeters']\n",
      "['5000 mAH']\n",
      "6,999.\n",
      "['Redmi 9A Sport', 'ral Green', 'RAM', 'rage', 're Helio G25', 'rocessor ', 'ry  ']\n",
      "['(Coral Green']\n",
      "['MIUI 12']\n",
      "[]\n",
      "['4.2']\n",
      "['304,361']\n"
     ]
    }
   ],
   "source": [
    "b3=\"https://www.amazon.in/Redmi-9A-Sport-Octa-core-Processor/dp/B09GFLXVH9/ref=sr_1_1?crid=1XTZPQAO5YLKY&keywords=redmi&qid=1666789097&qu=eyJxc2MiOiI2LjM2IiwicXNhIjoiNS45MCIsInFzcCI6IjUuMDQifQ%3D%3D&sprefix=redmi%2Caps%2C364&sr=8-1\"\n",
    "details(b3,headers)"
   ]
  },
  {
   "cell_type": "code",
   "execution_count": 9,
   "id": "6e45bb81",
   "metadata": {},
   "outputs": [
    {
     "name": "stdout",
     "output_type": "stream",
     "text": [
      "['2 MP', '5 MP']\n",
      "['4GB', '64GB']\n",
      "['16.58 centimeters']\n",
      "['5000 mAH']\n",
      "7,999.\n",
      "['Redmi 9 Activ', 'rbon Black', 'RAM', 'rage', 're Helio G35', 'ry  ']\n",
      "['(Carbon Black']\n",
      "['MIUI 12', 'Android MIUI']\n",
      "[]\n",
      "['4.2']\n",
      "['304,361']\n"
     ]
    }
   ],
   "source": [
    "b4=\"https://www.amazon.in/Redmi-Activ-Carbon-Black-Storage/dp/B09GFPVD9Y/ref=sr_1_3?crid=1XTZPQAO5YLKY&keywords=redmi&qid=1666789097&qu=eyJxc2MiOiI2LjM2IiwicXNhIjoiNS45MCIsInFzcCI6IjUuMDQifQ%3D%3D&sprefix=redmi%2Caps%2C364&sr=8-3\"\n",
    "details(b4,headers)"
   ]
  },
  {
   "cell_type": "code",
   "execution_count": 10,
   "id": "705ac8ff",
   "metadata": {},
   "outputs": [
    {
     "name": "stdout",
     "output_type": "stream",
     "text": [
      "['13MP', '5MP']\n",
      "['4GB', '64GB', '512GB']\n",
      "['15.58 centimeters', '6.53 inc']\n",
      "['5000 mAh']\n",
      "8,999.\n",
      "['Redmi 10A ', 'rcoal Black', 'RAM', 'rage', 're Helio G25', 'ry ', 'rint Sensor ', 'RAM with RAM']\n",
      "['(Charcoal Black']\n",
      "['MIUI 12']\n",
      "['4G']\n",
      "['3.9']\n",
      "['8,999']\n"
     ]
    }
   ],
   "source": [
    "b5=\"https://www.amazon.in/Redmi-Charcoal-Storage-Battery-Booster/dp/B09XB8GFBQ/ref=sr_1_4?crid=1XTZPQAO5YLKY&keywords=redmi&qid=1666789097&qu=eyJxc2MiOiI2LjM2IiwicXNhIjoiNS45MCIsInFzcCI6IjUuMDQifQ%3D%3D&sprefix=redmi%2Caps%2C364&sr=8-4&th=1\"\n",
    "details(b5,headers)"
   ]
  },
  {
   "cell_type": "code",
   "execution_count": 11,
   "id": "d03db62f",
   "metadata": {},
   "outputs": [
    {
     "name": "stdout",
     "output_type": "stream",
     "text": [
      "['8MP', '5MP']\n",
      "['2GB', '32GB', '512GB']\n",
      "['16.56cm']\n",
      "['5000 mAh']\n",
      "6,499.\n",
      "['Redmi A1 ', 'RAM', 'rage', 'ry ', 're Design ', 'roid 12 ']\n",
      "['(Light Blue']\n",
      "['Android Go']\n",
      "['4G']\n",
      "['4.0']\n",
      "['3,898']\n"
     ]
    }
   ],
   "source": [
    "b6=\"https://www.amazon.in/Redmi-Storage-Battery-Leather-Texture/dp/B0BBN4DZBD/ref=sr_1_5?crid=U2L18QSJ4N5W&keywords=redmi&qid=1666789647&qu=eyJxc2MiOiI2LjM2IiwicXNhIjoiNS45MCIsInFzcCI6IjUuMDQifQ%3D%3D&sprefix=%2Caps%2C284&sr=8-5\"\n",
    "details(b6,headers)"
   ]
  },
  {
   "cell_type": "code",
   "execution_count": 12,
   "id": "b890c804",
   "metadata": {
    "scrolled": true
   },
   "outputs": [
    {
     "name": "stdout",
     "output_type": "stream",
     "text": [
      "[]\n",
      "['4GB', '64GB']\n",
      "['6.5 inc']\n",
      "['6000mAh']\n",
      "12,999.\n",
      "['Redmi 10 Prime', 'ral White 4GB', 'RAM 64GB ROM', 'RAM Upto 2GB']\n",
      "['(Astral White']\n",
      "['MIUI 12', 'Android MIUI']\n",
      "[]\n",
      "['4.1']\n",
      "['59,699']\n"
     ]
    }
   ],
   "source": [
    "b7=\"https://www.amazon.in/Redmi-10-Prime-extendable-Adaptive/dp/B09CTY7TGF/ref=sr_1_6?crid=U2L18QSJ4N5W&keywords=redmi&qid=1666789647&qu=eyJxc2MiOiI2LjM2IiwicXNhIjoiNS45MCIsInFzcCI6IjUuMDQifQ%3D%3D&sprefix=%2Caps%2C284&sr=8-6\"\n",
    "details(b7,headers)\n",
    "# enter 50 and then 8"
   ]
  },
  {
   "cell_type": "code",
   "execution_count": 13,
   "id": "82ef91e1",
   "metadata": {},
   "outputs": [
    {
     "name": "stdout",
     "output_type": "stream",
     "text": [
      "['50MP', '8MP', '16 MP']\n",
      "['6GB', '128GB']\n",
      "['6.6 inc', '3.5 mm,']\n",
      "['5000mAh']\n",
      "16,999.\n",
      "['Redmi Note 11T', 'rdust White', 'RAM', 'ROM', 'ro Fast Charging', 'rger Included ', 'rs', 'remium Free']\n",
      "['(Stardust White']\n",
      "['Android 11', 'MIUI 12']\n",
      "['5G']\n",
      "['4.1']\n",
      "['27,690']\n"
     ]
    }
   ],
   "source": [
    "b8=\"https://www.amazon.in/Redmi-Note-11T-5G-Dimensity/dp/B09LHZSMRR/ref=sr_1_7?crid=U2L18QSJ4N5W&keywords=redmi&qid=1666792453&qu=eyJxc2MiOiI2LjM2IiwicXNhIjoiNS45MCIsInFzcCI6IjUuMDQifQ%3D%3D&sprefix=%2Caps%2C284&sr=8-7\"\n",
    "details(b8,headers)"
   ]
  },
  {
   "cell_type": "code",
   "execution_count": 14,
   "id": "6226a2d3",
   "metadata": {},
   "outputs": [
    {
     "name": "stdout",
     "output_type": "stream",
     "text": [
      "['8MP', '5MP']\n",
      "['2GB', '32GB', '512GB']\n",
      "['16.56cm']\n",
      "['5000 mAh']\n",
      "6,499.\n",
      "['Redmi A1 ', 'reen', 'RAM 32GB ROM', 'ry ', 're Design ', 'roid 12 ']\n",
      "['(Light Green']\n",
      "['Android Go']\n",
      "['4G']\n",
      "['4.0']\n",
      "['3,898']\n"
     ]
    }
   ],
   "source": [
    "b9=\"https://www.amazon.in/Redmi-Battery-Leather-Texture-Android/dp/B0BBN3WF7V/ref=sr_1_20?crid=U2L18QSJ4N5W&keywords=redmi&qid=1666793296&qu=eyJxc2MiOiI2LjM2IiwicXNhIjoiNS45MCIsInFzcCI6IjUuMDQifQ%3D%3D&sprefix=%2Caps%2C284&sr=8-20\"\n",
    "details(b9,headers)"
   ]
  },
  {
   "cell_type": "code",
   "execution_count": 15,
   "id": "739df41b",
   "metadata": {},
   "outputs": [
    {
     "name": "stdout",
     "output_type": "stream",
     "text": [
      "['50 MP', '8MP', '2MP', '13 MP']\n",
      "['4GB', '64GB', '512GB']\n",
      "['16.33 centimeters', '6.43 inc', '2.2 st']\n",
      "['5000 mAh']\n",
      "12,999.\n",
      "['Redmi Note 11', 'rizon Blue', 'RAM', 'rage', 'ragon', 'rger Included ', 'remium Free']\n",
      "['(Horizon Blue']\n",
      "['MIUI 13']\n",
      "[]\n",
      "['4.1']\n",
      "['45,285']\n"
     ]
    }
   ],
   "source": [
    "b10=\"https://www.amazon.in/Redmi-Horizon-Qualcomm%C2%AE-SnapdragonTM-Included/dp/B09QSBXK96/ref=sr_1_10?crid=U2L18QSJ4N5W&keywords=redmi&qid=1666792453&qu=eyJxc2MiOiI2LjM2IiwicXNhIjoiNS45MCIsInFzcCI6IjUuMDQifQ%3D%3D&sprefix=%2Caps%2C284&sr=8-10\"\n",
    "details(b10,headers)"
   ]
  },
  {
   "cell_type": "code",
   "execution_count": 16,
   "id": "050ca0d7",
   "metadata": {},
   "outputs": [
    {
     "name": "stdout",
     "output_type": "stream",
     "text": [
      "['64 MP', '8MP', '2MP', '13 MP']\n",
      "['6GB', '64GB', '512GB']\n",
      "['16.33 centimeters', '6.43 inc', '2.2 st']\n",
      "['5000 mAh']\n",
      "14,999.\n",
      "['Redmi Note 10S', 'RAM', 'rage', 'ra ', 'ree Screen Replacement', 'rime only', 'rger Included ']\n",
      "['(Deep Sea', '(Prime only']\n",
      "['Android 11']\n",
      "['4G']\n",
      "['4.2']\n",
      "['214,826']\n"
     ]
    }
   ],
   "source": [
    "b11=\"https://www.amazon.in/Redmi-Storage-Super-Amoled-Display/dp/B0948NNY3W/ref=sr_1_11?crid=U2L18QSJ4N5W&keywords=redmi&qid=1666792453&qu=eyJxc2MiOiI2LjM2IiwicXNhIjoiNS45MCIsInFzcCI6IjUuMDQifQ%3D%3D&sprefix=%2Caps%2C284&sr=8-11\"\n",
    "details(b11,headers)"
   ]
  },
  {
   "cell_type": "code",
   "execution_count": 17,
   "id": "e7c7e700",
   "metadata": {},
   "outputs": [
    {
     "name": "stdout",
     "output_type": "stream",
     "text": [
      "['13MP', '5MP']\n",
      "['4GB', '64GB', '512GB']\n",
      "['15.58 centimeters', '6.53 inc']\n",
      "['5000 mAh']\n",
      "8,499.\n",
      "['Redmi 10A ', 'RAM', 'rage', 're Helio G25', 'ry ', 'rint Sensor ', 'RAM with RAM']\n",
      "['(Sea Blue']\n",
      "['MIUI 12']\n",
      "['4G']\n",
      "['3.9']\n",
      "['8,999']\n"
     ]
    }
   ],
   "source": [
    "b12=\"https://www.amazon.in/Redmi-Storage-Battery-Finger-Booster/dp/B09XB7DPW1/ref=sr_1_12?crid=U2L18QSJ4N5W&keywords=redmi&qid=1666792453&qu=eyJxc2MiOiI2LjM2IiwicXNhIjoiNS45MCIsInFzcCI6IjUuMDQifQ%3D%3D&sprefix=%2Caps%2C284&sr=8-12\"\n",
    "details(b12,headers)"
   ]
  },
  {
   "cell_type": "code",
   "execution_count": 18,
   "id": "9a1fa1ac",
   "metadata": {},
   "outputs": [
    {
     "name": "stdout",
     "output_type": "stream",
     "text": [
      "['13 MP', '5 MP']\n",
      "['2GB', '32GB']\n",
      "['16.58 centimeters']\n",
      "['5000 mAH']\n",
      "6,999.\n",
      "['Redmi 9A Sport', 'rbon Black', 'RAM', 'rage', 're Helio G25', 'rocessor ', 'ry  ']\n",
      "['(Carbon Black']\n",
      "['MIUI 12']\n",
      "[]\n",
      "['4.2']\n",
      "['304,361']\n"
     ]
    }
   ],
   "source": [
    "b13=\"https://www.amazon.in/Redmi-9A-Sport-Octa-core-Processor/dp/B09GFQQFRF/ref=sr_1_13?crid=U2L18QSJ4N5W&keywords=redmi&qid=1666792453&qu=eyJxc2MiOiI2LjM2IiwicXNhIjoiNS45MCIsInFzcCI6IjUuMDQifQ%3D%3D&sprefix=%2Caps%2C284&sr=8-13\"\n",
    "details(b13,headers)"
   ]
  },
  {
   "cell_type": "code",
   "execution_count": 19,
   "id": "ad74171d",
   "metadata": {},
   "outputs": [
    {
     "name": "stdout",
     "output_type": "stream",
     "text": [
      "['13MP', '5MP']\n",
      "['6GB', '8GB', '128GB', '512GB']\n",
      "['15.58 centimeters', '6.53 inc']\n",
      "['5000 mAh']\n",
      "10,499.\n",
      "['Redmi 10A Sport', 'RAM', 'rage', 'ry ', 'rint Sensor ', 'RAM with RAM']\n",
      "['(Sea Blue']\n",
      "['MIUI 12']\n",
      "['4G']\n",
      "['3.7']\n",
      "['481']\n"
     ]
    }
   ],
   "source": [
    "b14=\"https://www.amazon.in/Redmi-Storage-Battery-Finger-Booster/dp/B0B6PT926Y/ref=sr_1_14?crid=U2L18QSJ4N5W&keywords=redmi&qid=1666792453&qu=eyJxc2MiOiI2LjM2IiwicXNhIjoiNS45MCIsInFzcCI6IjUuMDQifQ%3D%3D&sprefix=%2Caps%2C284&sr=8-14\"\n",
    "details(b14,headers)"
   ]
  },
  {
   "cell_type": "code",
   "execution_count": 20,
   "id": "d1718a1e",
   "metadata": {},
   "outputs": [
    {
     "name": "stdout",
     "output_type": "stream",
     "text": [
      "['50 MP', '8MP', '2MP', '13 MP']\n",
      "['4GB', '64GB', '512GB']\n",
      "['16.33 centimeters', '6.43 inc', '2.2 st']\n",
      "['5000 mAh']\n",
      "12,999.\n",
      "['Redmi Note 11', 'RAM', 'rage', 'ragon', 'rger Included ', 'remium Free']\n",
      "['(Space Black']\n",
      "['MIUI 13']\n",
      "['4G']\n",
      "['4.1']\n",
      "['45,285']\n"
     ]
    }
   ],
   "source": [
    "b15=\"https://www.amazon.in/Redmi-Storage-Qualcomm%C2%AE-SnapdragonTM-Included/dp/B09QS8V5N8/ref=sr_1_16?crid=U2L18QSJ4N5W&keywords=redmi&qid=1666792453&qu=eyJxc2MiOiI2LjM2IiwicXNhIjoiNS45MCIsInFzcCI6IjUuMDQifQ%3D%3D&sprefix=%2Caps%2C284&sr=8-16\"\n",
    "details(b15,headers)"
   ]
  },
  {
   "cell_type": "code",
   "execution_count": 21,
   "id": "b91d05e5",
   "metadata": {},
   "outputs": [
    {
     "name": "stdout",
     "output_type": "stream",
     "text": [
      "['50MP', '8MP']\n",
      "['4GB', '64GB', '512GB']\n",
      "['16.71centimeters', '2.2 st']\n",
      "['5000 mAh']\n",
      "13,999.\n",
      "['Redmi 11 Prime', 'reen', 'RAM 64GB ROM', 'rime Design ']\n",
      "['(Meadow Green']\n",
      "['MIUI 13']\n",
      "['5G']\n",
      "['3.8']\n",
      "['1,077']\n"
     ]
    }
   ],
   "source": [
    "b16=\"https://www.amazon.in/Redmi-Meadow-Design-Dimensity-5000mAh/dp/B0BBFJ9M3X/ref=sr_1_19?crid=U2L18QSJ4N5W&keywords=redmi&qid=1666793296&qu=eyJxc2MiOiI2LjM2IiwicXNhIjoiNS45MCIsInFzcCI6IjUuMDQifQ%3D%3D&sprefix=%2Caps%2C284&sr=8-19\"\n",
    "details(b16,headers)"
   ]
  },
  {
   "cell_type": "code",
   "execution_count": 22,
   "id": "b3d43345",
   "metadata": {},
   "outputs": [
    {
     "name": "stdout",
     "output_type": "stream",
     "text": [
      "[]\n",
      "['6GB', '128GB']\n",
      "['6.5 inc']\n",
      "['6000mAh']\n",
      "12,999.\n",
      "['Redmi 10 Prime', 'RAM 128GB ROM', 'RAM Upto 2GB']\n",
      "['(Phantom Black']\n",
      "['MIUI 12', 'Android MIUI']\n",
      "[]\n",
      "['4.1']\n",
      "['59,699']\n"
     ]
    }
   ],
   "source": [
    "b17=\"https://www.amazon.in/Redmi-10-Prime-extendable-Adaptive/dp/B09CV13RWF/ref=sr_1_22?crid=U2L18QSJ4N5W&keywords=redmi&qid=1666793296&qu=eyJxc2MiOiI2LjM2IiwicXNhIjoiNS45MCIsInFzcCI6IjUuMDQifQ%3D%3D&sprefix=%2Caps%2C284&sr=8-22\"\n",
    "details(b17,headers)"
   ]
  },
  {
   "cell_type": "code",
   "execution_count": 23,
   "id": "cfe0439b",
   "metadata": {},
   "outputs": [
    {
     "name": "stdout",
     "output_type": "stream",
     "text": [
      "['13MP', '5MP']\n",
      "['4GB', '64GB', '512GB']\n",
      "['15.58 centimeters', '6.53 inc']\n",
      "['5000 mAh']\n",
      "8,999.\n",
      "['Redmi 10A ', 'rey', 'RAM', 'rage', 're Helio G25', 'ry ', 'rint Sensor ', 'RAM with RAM']\n",
      "['(Slate Grey']\n",
      "['MIUI 12']\n",
      "[]\n",
      "['3.9']\n",
      "['8,999']\n"
     ]
    }
   ],
   "source": [
    "b18=\"https://www.amazon.in/Redmi-Storage-Battery-Finger-Booster/dp/B09XB7SRQ5/ref=sr_1_23?crid=U2L18QSJ4N5W&keywords=redmi&qid=1666793296&qu=eyJxc2MiOiI2LjM2IiwicXNhIjoiNS45MCIsInFzcCI6IjUuMDQifQ%3D%3D&sprefix=%2Caps%2C284&sr=8-23\"\n",
    "details(b18,headers)"
   ]
  },
  {
   "cell_type": "code",
   "execution_count": 24,
   "id": "2eab3b20",
   "metadata": {},
   "outputs": [
    {
     "name": "stdout",
     "output_type": "stream",
     "text": [
      "['50 MP', '8MP', '2MP', '13 MP']\n",
      "['6GB', '128GB', '512GB']\n",
      "['16.33 centimeters', '6.43 inc', '2.2 st']\n",
      "['5000 mAh']\n",
      "14,499.\n",
      "['Redmi Note 11', 'RAM', 'rage', 'ragon', 'rger Included ', 'remium Free']\n",
      "['(Space Black']\n",
      "['MIUI 13']\n",
      "[]\n",
      "['4.1']\n",
      "['45,285']\n"
     ]
    }
   ],
   "source": [
    "b19=\"https://www.amazon.in/Redmi-Storage-Qualcomm%C2%AE-SnapdragonTM-Included/dp/B09QSB9RMH/ref=sr_1_25?crid=U2L18QSJ4N5W&keywords=redmi&qid=1666793296&qu=eyJxc2MiOiI2LjM2IiwicXNhIjoiNS45MCIsInFzcCI6IjUuMDQifQ%3D%3D&sprefix=%2Caps%2C284&sr=8-25\"\n",
    "details(b19,headers)"
   ]
  },
  {
   "cell_type": "code",
   "execution_count": 25,
   "id": "d996e315",
   "metadata": {},
   "outputs": [
    {
     "name": "stdout",
     "output_type": "stream",
     "text": [
      "['50MP', '8MP']\n",
      "['4GB', '64GB', '512GB']\n",
      "['16.71centimeters', '2.2 st']\n",
      "['5000 mAh']\n",
      "13,999.\n",
      "['Redmi 11 Prime', 'RAM', 'rage', 'rime Design ']\n",
      "['(Thunder Black']\n",
      "['MIUI 13']\n",
      "['5G']\n",
      "['3.8']\n",
      "['1,077']\n"
     ]
    }
   ],
   "source": [
    "b20=\"https://www.amazon.in/Redmi-Thunder-Storage-Dimensity-5000mAh/dp/B0BBFJLP21/ref=sr_1_26?crid=U2L18QSJ4N5W&keywords=redmi&qid=1666793296&qu=eyJxc2MiOiI2LjM2IiwicXNhIjoiNS45MCIsInFzcCI6IjUuMDQifQ%3D%3D&sprefix=%2Caps%2C284&sr=8-26\"\n",
    "details(b20,headers)"
   ]
  },
  {
   "cell_type": "code",
   "execution_count": 26,
   "id": "2730e923",
   "metadata": {},
   "outputs": [
    {
     "name": "stdout",
     "output_type": "stream",
     "text": [
      "['50 MP', '2MP', '5 MP']\n",
      "['8GB', '128GB', '512GB']\n",
      "['17.01 centimeters', '6.7 inc', '2.2 st']\n",
      "['6000 mAh']\n",
      "12,499.\n",
      "['Redmi 10 Power', 'RAM', 'rage']\n",
      "['(Power Black']\n",
      "['MIUI 13']\n",
      "[]\n",
      "['4.1']\n",
      "['278']\n"
     ]
    }
   ],
   "source": [
    "b21=\"https://www.amazon.in/Redmi-Power-Black-128GB-Storage/dp/B09Y64H8VS/ref=sr_1_35?crid=U2L18QSJ4N5W&keywords=redmi&qid=1666794142&qu=eyJxc2MiOiI2LjM2IiwicXNhIjoiNS45MCIsInFzcCI6IjUuMDQifQ%3D%3D&sprefix=%2Caps%2C284&sr=8-35\"\n",
    "details(b21,headers)"
   ]
  },
  {
   "cell_type": "code",
   "execution_count": 27,
   "id": "3c4c70c7",
   "metadata": {},
   "outputs": [
    {
     "name": "stdout",
     "output_type": "stream",
     "text": [
      "['50 MP', '8MP', '2MP', '13 MP']\n",
      "['4GB', '64GB', '512GB']\n",
      "['16.33 centimeters', '6.43 inc', '2.2 st']\n",
      "['5000 mAh']\n",
      "11,999.\n",
      "['Renewed', 'Redmi Note 11', 'rburst White', 'RAM', 'rage', 'ragon', 'rger Included ']\n",
      "['(Renewed', '(Starburst White']\n",
      "['MIUI 11']\n",
      "['4G']\n",
      "['3.9']\n",
      "['14']\n"
     ]
    }
   ],
   "source": [
    "b22=\"https://www.amazon.in/Redmi-Starburst-Qualcomm%C2%AE-SnapdragonTM-Included/dp/B0B4VMQXG2/ref=sr_1_37?crid=U2L18QSJ4N5W&keywords=redmi&qid=1666794142&qu=eyJxc2MiOiI2LjM2IiwicXNhIjoiNS45MCIsInFzcCI6IjUuMDQifQ%3D%3D&sprefix=%2Caps%2C284&sr=8-37\"\n",
    "details(b22,headers)"
   ]
  },
  {
   "cell_type": "code",
   "execution_count": 28,
   "id": "e114a527",
   "metadata": {},
   "outputs": [
    {
     "name": "stdout",
     "output_type": "stream",
     "text": [
      "['108 MP', '8MP', '2MP', '5MP', '16 MP']\n",
      "['6GB', '128GB', '512GB']\n",
      "['16.9 centimeters', '6.67 inc', '2.2 st']\n",
      "['5020 mAH']\n",
      "17,999.\n",
      "['Redmi Note 10', 'ro Max ', 'RAM', 'rage', 'ra']\n",
      "['(Glacial Blue']\n",
      "['Android']\n",
      "['4G']\n",
      "['4.1']\n",
      "['45,333']\n"
     ]
    }
   ],
   "source": [
    "b23=\"https://www.amazon.in/Test-Exclusive_2020_1158-Multi-3GB-Storage/dp/B089MTVYZF/ref=sr_1_38?crid=U2L18QSJ4N5W&keywords=redmi&qid=1666794142&qu=eyJxc2MiOiI2LjM2IiwicXNhIjoiNS45MCIsInFzcCI6IjUuMDQifQ%3D%3D&sprefix=%2Caps%2C284&sr=8-38\"\n",
    "details(b23,headers)"
   ]
  },
  {
   "cell_type": "code",
   "execution_count": 29,
   "id": "66df8e0c",
   "metadata": {},
   "outputs": [
    {
     "name": "stdout",
     "output_type": "stream",
     "text": [
      "['50MP', '8MP']\n",
      "['4GB', '64GB', '512GB']\n",
      "['16.71centimeters', '2.2 st']\n",
      "['5000 mAh']\n",
      "13,999.\n",
      "['Redmi 11 Prime', 'rome Silver', 'RAM 64GB ROM', 'rime Design ']\n",
      "['(Chrome Silver']\n",
      "['MIUI 13']\n",
      "['5G']\n",
      "['3.8']\n",
      "['1,077']\n"
     ]
    }
   ],
   "source": [
    "b24=\"https://www.amazon.in/Redmi-Chrome-Silver-Dimensity-5000mAh/dp/B0BBFKYH4N/ref=sr_1_51?crid=U2L18QSJ4N5W&keywords=redmi&qid=1666794475&qu=eyJxc2MiOiI2LjM2IiwicXNhIjoiNS45MCIsInFzcCI6IjUuMDQifQ%3D%3D&sprefix=%2Caps%2C284&sr=8-51\"\n",
    "details(b24,headers)"
   ]
  },
  {
   "cell_type": "code",
   "execution_count": 30,
   "id": "be1d407d",
   "metadata": {},
   "outputs": [
    {
     "name": "stdout",
     "output_type": "stream",
     "text": [
      "['108 MP', '8MP', '2MP', '5MP', '16 MP']\n",
      "['6GB', '128GB', '512GB']\n",
      "['16.9 centimeters', '6.67 inc', '2.2 st']\n",
      "['5020 mAH']\n",
      "17,999.\n",
      "['Redmi Note 10', 'ro Max ', 'rk Nebula', 'RAM', 'rage', 'ra ']\n",
      "['(Dark Nebula']\n",
      "['Android']\n",
      "['4G']\n",
      "['4.1']\n",
      "['45,333']\n"
     ]
    }
   ],
   "source": [
    "b25=\"https://www.amazon.in/Redmi-Nebula-Storage-108MP-Display/dp/B09CZBXX6H/ref=sr_1_49?crid=U2L18QSJ4N5W&keywords=redmi&qid=1666794475&qu=eyJxc2MiOiI2LjM2IiwicXNhIjoiNS45MCIsInFzcCI6IjUuMDQifQ%3D%3D&sprefix=%2Caps%2C284&sr=8-49\"\n",
    "details(b25,headers)"
   ]
  },
  {
   "cell_type": "code",
   "execution_count": 31,
   "id": "bef69184",
   "metadata": {},
   "outputs": [
    {
     "name": "stdout",
     "output_type": "stream",
     "text": [
      "['108 MP', '8MP', '2MP', '16 MP']\n",
      "['6GB', '128GB', '512GB']\n",
      "['16.33 centimeters', '6.43 inc', '2.2 st', '3.5 mm,']\n",
      "['5000 mAh']\n",
      "17,499.\n",
      "['Redmi Note 11S', 'RAM', 'rage', 'ra ', 'rger Included ', 'rs', 'remium Free']\n",
      "['(Space Black']\n",
      "['MIUI 13']\n",
      "['4G']\n",
      "['4.1']\n",
      "['4,189']\n"
     ]
    }
   ],
   "source": [
    "b26=\"https://www.amazon.in/Redmi-Storage-Included-Additional-Exchange/dp/B09QXJR7X2/ref=sr_1_52?crid=U2L18QSJ4N5W&keywords=redmi&qid=1666794475&qu=eyJxc2MiOiI2LjM2IiwicXNhIjoiNS45MCIsInFzcCI6IjUuMDQifQ%3D%3D&sprefix=%2Caps%2C284&sr=8-52\"\n",
    "details(b26,headers)"
   ]
  },
  {
   "cell_type": "code",
   "execution_count": 32,
   "id": "5572b3da",
   "metadata": {},
   "outputs": [
    {
     "name": "stdout",
     "output_type": "stream",
     "text": [
      "['48MP', '16MP']\n",
      "['4GB', '64GB', '512GB']\n",
      "['16.9418 centimeters']\n",
      "['5020mAH']\n",
      "13,880.\n",
      "['Redmi Note 9', 'ro ', 'rstellar Black', 'RAM', 'rage', 'ragon 720G ', 'ree Capable ']\n",
      "['(Interstellar Black']\n",
      "['Android 10']\n",
      "['4G']\n",
      "['4.3']\n",
      "['130,966']\n"
     ]
    }
   ],
   "source": [
    "b27=\"https://www.amazon.in/Redmi-Note-Pro-Interstellar-Snapdragon/dp/B077PWBC78/ref=sr_1_53?crid=U2L18QSJ4N5W&keywords=redmi&qid=1666794475&qu=eyJxc2MiOiI2LjM2IiwicXNhIjoiNS45MCIsInFzcCI6IjUuMDQifQ%3D%3D&sprefix=%2Caps%2C284&sr=8-53\"\n",
    "details(b27,headers)"
   ]
  },
  {
   "cell_type": "code",
   "execution_count": 33,
   "id": "d54eb465",
   "metadata": {},
   "outputs": [
    {
     "name": "stdout",
     "output_type": "stream",
     "text": [
      "['108 MP', '8MP', '2MP', '5MP', '16 MP']\n",
      "['6GB', '128GB', '512GB']\n",
      "['16.9 centimeters', '6.67 inc', '2.2 st']\n",
      "['5020 mAH']\n",
      "17,999.\n",
      "['Redmi Note 10', 'ro Max ', 'ronze', 'RAM', 'rage', 'ra ']\n",
      "['(Vintage Bronze']\n",
      "['Android']\n",
      "['4G']\n",
      "['4.1']\n",
      "['45,333']\n"
     ]
    }
   ],
   "source": [
    "b27=\"https://www.amazon.in/Test-Exclusive_2020_1159-Multi-3GB-Storage/dp/B089MVC43X/ref=sr_1_70?crid=U2L18QSJ4N5W&keywords=redmi&qid=1666794773&qu=eyJxc2MiOiI2LjM2IiwicXNhIjoiNS45MCIsInFzcCI6IjUuMDQifQ%3D%3D&sprefix=%2Caps%2C284&sr=8-70\"\n",
    "details(b27,headers)"
   ]
  },
  {
   "cell_type": "code",
   "execution_count": 34,
   "id": "da182e8b",
   "metadata": {},
   "outputs": [
    {
     "name": "stdout",
     "output_type": "stream",
     "text": [
      "['2MP', '5MP']\n",
      "['4GB', '64GB', '512GB']\n",
      "['16.58 centimeters']\n",
      "['5000mAH']\n",
      "10,990.\n",
      "['Redmi 9 ', 'rty Orange', 'RAM', 'rage', 're Processor ']\n",
      "['(Sporty Orange']\n",
      "['Android 10']\n",
      "['4G']\n",
      "['4.2']\n",
      "['304,361']\n"
     ]
    }
   ],
   "source": [
    "b28=\"https://www.amazon.in/Redmi-Sporty-Orange-64GB-Storage/dp/B08696W3B3/ref=sr_1_47?crid=XLPA9PLOKWOC&keywords=REDMI+PHONES&qid=1667494220&qu=eyJxc2MiOiI2LjQ0IiwicXNhIjoiNi4xMyIsInFzcCI6IjUuMDIifQ%3D%3D&sprefix=redmi+phones%2Caps%2C365&sr=8-47\"\n",
    "details(b28,headers)"
   ]
  },
  {
   "cell_type": "code",
   "execution_count": 35,
   "id": "19080169",
   "metadata": {},
   "outputs": [],
   "source": [
    "# replace renewed with redmi note 11 in names "
   ]
  },
  {
   "cell_type": "code",
   "execution_count": 36,
   "id": "19dd6236",
   "metadata": {},
   "outputs": [
    {
     "name": "stdout",
     "output_type": "stream",
     "text": [
      "['Redmi 11 Prime', 'Redmi Note 11T', 'Redmi 9A Sport', 'Redmi 9A Sport', 'Redmi 9 Activ', 'Redmi 10A ', 'Redmi A1 ', 'Redmi 10 Prime', 'Redmi Note 11T', 'Redmi A1 ', 'Redmi Note 11', 'Redmi Note 10S', 'Redmi 10A ', 'Redmi 9A Sport', 'Redmi 10A Sport', 'Redmi Note 11', 'Redmi 11 Prime', 'Redmi 10 Prime', 'Redmi 10A ', 'Redmi Note 11', 'Redmi 11 Prime', 'Redmi 10 Power', 'Renewed', 'Redmi Note 10', 'Redmi 11 Prime', 'Redmi Note 10', 'Redmi Note 11S', 'Redmi Note 9', 'Redmi Note 10', 'Redmi 9 ']\n"
     ]
    }
   ],
   "source": [
    "print(name)"
   ]
  },
  {
   "cell_type": "code",
   "execution_count": 37,
   "id": "a1245ac5",
   "metadata": {},
   "outputs": [],
   "source": [
    "name=[i.replace('Renewed','Redmi Note 11') for i in name]"
   ]
  },
  {
   "cell_type": "code",
   "execution_count": 38,
   "id": "91a01da3",
   "metadata": {},
   "outputs": [
    {
     "name": "stdout",
     "output_type": "stream",
     "text": [
      "30\n"
     ]
    }
   ],
   "source": [
    "print(len(name))"
   ]
  },
  {
   "cell_type": "code",
   "execution_count": 39,
   "id": "b0d0d55f",
   "metadata": {},
   "outputs": [
    {
     "name": "stdout",
     "output_type": "stream",
     "text": [
      "['64GB', '128GB', '32GB', '32GB', '64GB', '64GB', '32GB', '64GB', '128GB', '32GB', '64GB', '64GB', '64GB', '32GB', '8GB', '64GB', '64GB', '128GB', '64GB', '128GB', '64GB', '128GB', '64GB', '128GB', '64GB', '128GB', '128GB', '64GB', '128GB', '64GB']\n"
     ]
    }
   ],
   "source": [
    "print(storage)"
   ]
  },
  {
   "cell_type": "code",
   "execution_count": 40,
   "id": "0c667a0e",
   "metadata": {},
   "outputs": [],
   "source": [
    "storage=[i.replace(\"GB\",\" \") for i in storage]"
   ]
  },
  {
   "cell_type": "code",
   "execution_count": 41,
   "id": "64c4d8c1",
   "metadata": {},
   "outputs": [
    {
     "name": "stdout",
     "output_type": "stream",
     "text": [
      "30\n"
     ]
    }
   ],
   "source": [
    "print(len(storage))"
   ]
  },
  {
   "cell_type": "code",
   "execution_count": 42,
   "id": "c779063a",
   "metadata": {},
   "outputs": [
    {
     "name": "stdout",
     "output_type": "stream",
     "text": [
      "['50MP', '50MP', '13 MP', '13 MP', '2 MP', '13MP', '8MP', '50MP', '50MP', '8MP', '50 MP', '64 MP', '13MP', '13 MP', '13MP', '50 MP', '50MP', '50MP', '13MP', '50 MP', '50MP', '50 MP', '50 MP', '108 MP', '50MP', '108 MP', '108 MP', '48MP', '108 MP', '2MP']\n"
     ]
    }
   ],
   "source": [
    "print(camera_px)"
   ]
  },
  {
   "cell_type": "code",
   "execution_count": 43,
   "id": "c9ccb4d5",
   "metadata": {},
   "outputs": [],
   "source": [
    "camera_px=[i.replace(\"MP\",\"\") for i in camera_px]"
   ]
  },
  {
   "cell_type": "code",
   "execution_count": 44,
   "id": "80497115",
   "metadata": {},
   "outputs": [],
   "source": [
    "camera_px=[i.replace(\"2\",\"13\") for i in camera_px]"
   ]
  },
  {
   "cell_type": "code",
   "execution_count": 45,
   "id": "fabe900c",
   "metadata": {},
   "outputs": [
    {
     "name": "stdout",
     "output_type": "stream",
     "text": [
      "['8MP', '16 MP', '5 MP', '5 MP', '5 MP', '5MP', '5MP', '8MP', '16 MP', '5MP', '13 MP', '13 MP', '5MP', '5 MP', '5MP', '13 MP', '8MP', '8MP', '5MP', '13 MP', '8MP', '5 MP', '13 MP', '16 MP', '8MP', '16 MP', '16 MP', '16MP', '16 MP', '5MP']\n"
     ]
    }
   ],
   "source": [
    "print(self_px)"
   ]
  },
  {
   "cell_type": "code",
   "execution_count": 46,
   "id": "dc2fe093",
   "metadata": {},
   "outputs": [],
   "source": [
    "self_px=[i.replace(\"MP\",\"\") for i in self_px]"
   ]
  },
  {
   "cell_type": "code",
   "execution_count": 47,
   "id": "4a5440e3",
   "metadata": {},
   "outputs": [],
   "source": [
    "ram=[i.replace(\"GB\",\"\") for i in ram]"
   ]
  },
  {
   "cell_type": "code",
   "execution_count": 48,
   "id": "b456897d",
   "metadata": {},
   "outputs": [],
   "source": [
    "tech=[i.replace(\"G\",\"\") for i in tech]"
   ]
  },
  {
   "cell_type": "code",
   "execution_count": 49,
   "id": "42095b94",
   "metadata": {},
   "outputs": [],
   "source": [
    "battery=[i.replace(\"mAH\",\"\") for i in battery]"
   ]
  },
  {
   "cell_type": "code",
   "execution_count": 50,
   "id": "2a8be87b",
   "metadata": {},
   "outputs": [],
   "source": [
    "battery=[i.replace(\"mAh\",\"\") for i in battery]"
   ]
  },
  {
   "cell_type": "code",
   "execution_count": 51,
   "id": "9c75fe83",
   "metadata": {},
   "outputs": [],
   "source": [
    "colour=[i.replace(\"(\",\"\") for i in colour]"
   ]
  },
  {
   "cell_type": "code",
   "execution_count": 52,
   "id": "72feadcf",
   "metadata": {},
   "outputs": [],
   "source": [
    "price=[i.replace(\".\",\"\") for i in price]"
   ]
  },
  {
   "cell_type": "code",
   "execution_count": 53,
   "id": "d750acfc",
   "metadata": {},
   "outputs": [],
   "source": [
    "display=[i.replace(\"centimeters\",\"\") for i in display]"
   ]
  },
  {
   "cell_type": "code",
   "execution_count": 54,
   "id": "2a758e88",
   "metadata": {},
   "outputs": [],
   "source": [
    "display=[i.replace(\"6.6 inc\",\"16.71\") for i in display]"
   ]
  },
  {
   "cell_type": "code",
   "execution_count": 55,
   "id": "20446ef7",
   "metadata": {},
   "outputs": [],
   "source": [
    "display=[i.replace(\"6.5 inc\",\"16.5\") for i in display]"
   ]
  },
  {
   "cell_type": "code",
   "execution_count": 56,
   "id": "6ceb75aa",
   "metadata": {},
   "outputs": [],
   "source": [
    "display=[i.replace(\"cm\",\"\") for i in display]"
   ]
  },
  {
   "cell_type": "code",
   "execution_count": 57,
   "id": "414cfa9f",
   "metadata": {},
   "outputs": [],
   "source": [
    "price=[i.replace(\",\",\"\") for i in price]"
   ]
  },
  {
   "cell_type": "code",
   "execution_count": 58,
   "id": "b64993d9",
   "metadata": {},
   "outputs": [],
   "source": [
    "user_rate=[i.replace(\",\",\"\") for i in user_rate]"
   ]
  },
  {
   "cell_type": "code",
   "execution_count": 59,
   "id": "c71de607",
   "metadata": {},
   "outputs": [
    {
     "name": "stdout",
     "output_type": "stream",
     "text": [
      "['13999', '19999', '6999', '6999', '7999', '8999', '6499', '12999', '16999', '6499', '12999', '14999', '8499', '6999', '10499', '12999', '13999', '12999', '8999', '14499', '13999', '12499', '11999', '17999', '13999', '17999', '17499', '13880', '17999', '10990']\n"
     ]
    }
   ],
   "source": [
    "print(price)"
   ]
  },
  {
   "cell_type": "code",
   "execution_count": 60,
   "id": "df3cfee0",
   "metadata": {},
   "outputs": [],
   "source": [
    "storage=[int(i) for i in storage]"
   ]
  },
  {
   "cell_type": "code",
   "execution_count": 61,
   "id": "4c332d4d",
   "metadata": {},
   "outputs": [],
   "source": [
    "camera_px=[int(i) for i in camera_px]"
   ]
  },
  {
   "cell_type": "code",
   "execution_count": 62,
   "id": "1a327d62",
   "metadata": {},
   "outputs": [],
   "source": [
    "self_px=[int(i) for i in self_px]"
   ]
  },
  {
   "cell_type": "code",
   "execution_count": 63,
   "id": "4a7a9230",
   "metadata": {},
   "outputs": [],
   "source": [
    "ram=[float(i) for i in ram]\n",
    "tech=[float(i) for i in tech]\n",
    "battery=[float(i) for i in battery]\n",
    "display=[float(i) for i in display]\n",
    "price=[float(i) for i in price]\n",
    "star_rate=[float(i) for i in star_rate]\n",
    "user_rate=[float(i) for i in user_rate]"
   ]
  },
  {
   "cell_type": "code",
   "execution_count": null,
   "id": "8f342e95",
   "metadata": {},
   "outputs": [],
   "source": []
  },
  {
   "cell_type": "code",
   "execution_count": null,
   "id": "5cf31965",
   "metadata": {},
   "outputs": [],
   "source": []
  },
  {
   "cell_type": "code",
   "execution_count": 64,
   "id": "650bb43c",
   "metadata": {},
   "outputs": [
    {
     "name": "stdout",
     "output_type": "stream",
     "text": [
      "[64, 128, 32, 32, 64, 64, 32, 64, 128, 32, 64, 64, 64, 32, 8, 64, 64, 128, 64, 128, 64, 128, 64, 128, 64, 128, 128, 64, 128, 64]\n",
      "[50, 50, 13, 13, 13, 13, 8, 50, 50, 8, 50, 64, 13, 13, 13, 50, 50, 50, 13, 50, 50, 50, 50, 108, 50, 108, 108, 48, 108, 13]\n",
      "[8, 16, 5, 5, 5, 5, 5, 8, 16, 5, 13, 13, 5, 5, 5, 13, 8, 8, 5, 13, 8, 5, 13, 16, 8, 16, 16, 16, 16, 5]\n",
      "['Playful Green', 'Matte Black', 'Carbon Black', 'Coral Green', 'Carbon Black', 'Charcoal Black', 'Light Blue', 'Astral White', 'Stardust White', 'Light Green', 'Horizon Blue', 'Deep Sea', 'Sea Blue', 'Carbon Black', 'Sea Blue', 'Space Black', 'Meadow Green', 'Phantom Black', 'Slate Grey', 'Space Black', 'Thunder Black', 'Power Black', 'Renewed', 'Glacial Blue', 'Chrome Silver', 'Dark Nebula', 'Space Black', 'Interstellar Black', 'Vintage Bronze', 'Sporty Orange']\n",
      "['Redmi 11 Prime', 'Redmi Note 11T', 'Redmi 9A Sport', 'Redmi 9A Sport', 'Redmi 9 Activ', 'Redmi 10A ', 'Redmi A1 ', 'Redmi 10 Prime', 'Redmi Note 11T', 'Redmi A1 ', 'Redmi Note 11', 'Redmi Note 10S', 'Redmi 10A ', 'Redmi 9A Sport', 'Redmi 10A Sport', 'Redmi Note 11', 'Redmi 11 Prime', 'Redmi 10 Prime', 'Redmi 10A ', 'Redmi Note 11', 'Redmi 11 Prime', 'Redmi 10 Power', 'Redmi Note 11', 'Redmi Note 10', 'Redmi 11 Prime', 'Redmi Note 10', 'Redmi Note 11S', 'Redmi Note 9', 'Redmi Note 10', 'Redmi 9 ']\n",
      "[4.0, 8.0, 2.0, 2.0, 4.0, 4.0, 2.0, 4.0, 6.0, 2.0, 4.0, 6.0, 4.0, 2.0, 6.0, 4.0, 4.0, 6.0, 4.0, 6.0, 4.0, 8.0, 4.0, 6.0, 4.0, 6.0, 6.0, 4.0, 6.0, 4.0]\n",
      "[4.0, 5.0, 4.0, 4.0, 4.0, 4.0, 4.0, 4.0, 5.0, 4.0, 4.0, 4.0, 4.0, 4.0, 4.0, 4.0, 5.0, 4.0, 4.0, 4.0, 5.0, 4.0, 4.0, 4.0, 5.0, 4.0, 4.0, 4.0, 4.0, 4.0]\n",
      "[5000.0, 5000.0, 5000.0, 5000.0, 5000.0, 5000.0, 5000.0, 6000.0, 5000.0, 5000.0, 5000.0, 5000.0, 5000.0, 5000.0, 5000.0, 5000.0, 5000.0, 6000.0, 5000.0, 5000.0, 5000.0, 6000.0, 5000.0, 5020.0, 5000.0, 5020.0, 5000.0, 5020.0, 5020.0, 5000.0]\n",
      "[16.71, 16.71, 16.58, 16.58, 16.58, 15.58, 16.56, 16.5, 16.71, 16.56, 16.33, 16.33, 15.58, 16.58, 15.58, 16.33, 16.71, 16.5, 15.58, 16.33, 16.71, 17.01, 16.33, 16.9, 16.71, 16.9, 16.33, 16.9418, 16.9, 16.58]\n",
      "[13999.0, 19999.0, 6999.0, 6999.0, 7999.0, 8999.0, 6499.0, 12999.0, 16999.0, 6499.0, 12999.0, 14999.0, 8499.0, 6999.0, 10499.0, 12999.0, 13999.0, 12999.0, 8999.0, 14499.0, 13999.0, 12499.0, 11999.0, 17999.0, 13999.0, 17999.0, 17499.0, 13880.0, 17999.0, 10990.0]\n",
      "['MIUI 13', 'Android 11', 'MIUI 12', 'MIUI 12', 'MIUI 12', 'MIUI 12', 'Android Go', 'MIUI 12', 'Android 11', 'Android Go', 'MIUI 13', 'Android 11', 'MIUI 12', 'MIUI 12', 'MIUI 12', 'MIUI 13', 'MIUI 13', 'MIUI 12', 'MIUI 12', 'MIUI 13', 'MIUI 13', 'MIUI 13', 'MIUI 11', 'Android', 'MIUI 13', 'Android', 'MIUI 13', 'Android 10', 'Android', 'Android 10']\n",
      "[4.3, 4.1, 4.2, 4.2, 4.2, 3.9, 4.0, 4.1, 4.1, 4.0, 4.1, 4.2, 3.9, 4.2, 3.7, 4.1, 3.8, 4.1, 3.9, 4.1, 3.8, 4.1, 3.9, 4.1, 3.8, 4.1, 4.1, 4.3, 4.1, 4.2]\n",
      "[86.0, 27690.0, 304361.0, 304361.0, 304361.0, 8999.0, 3898.0, 59699.0, 27690.0, 3898.0, 45285.0, 214826.0, 8999.0, 304361.0, 481.0, 45285.0, 1077.0, 59699.0, 8999.0, 45285.0, 1077.0, 278.0, 14.0, 45333.0, 1077.0, 45333.0, 4189.0, 130966.0, 45333.0, 304361.0]\n"
     ]
    }
   ],
   "source": [
    "print(storage)\n",
    "print(camera_px)\n",
    "print(self_px)\n",
    "print(colour)\n",
    "print(name)\n",
    "print(ram)\n",
    "print(tech)\n",
    "print(battery)\n",
    "print(display)\n",
    "print(price)\n",
    "print(os_sys)\n",
    "print(star_rate)\n",
    "print(user_rate)"
   ]
  },
  {
   "cell_type": "code",
   "execution_count": null,
   "id": "87781b33",
   "metadata": {},
   "outputs": [],
   "source": []
  },
  {
   "cell_type": "code",
   "execution_count": 65,
   "id": "789878dd",
   "metadata": {},
   "outputs": [],
   "source": [
    "r1=pd.DataFrame({\"Name\":name,\"Colour\":colour,\"Storage\":storage,\"Battery\":battery,\n",
    "               \"Camera_Pixel\":camera_px,\"Selfie_cam_pixel\":self_px,\"Display_size\":display,\n",
    "                \"Technology\":tech,\"RAM\":ram,\"Operating_system\":os_sys,\n",
    "               \"Star_ratings\":star_rate,\"Users_rated\":user_rate,\"Price\":price})"
   ]
  },
  {
   "cell_type": "code",
   "execution_count": 66,
   "id": "97023271",
   "metadata": {},
   "outputs": [
    {
     "data": {
      "text/html": [
       "<div>\n",
       "<style scoped>\n",
       "    .dataframe tbody tr th:only-of-type {\n",
       "        vertical-align: middle;\n",
       "    }\n",
       "\n",
       "    .dataframe tbody tr th {\n",
       "        vertical-align: top;\n",
       "    }\n",
       "\n",
       "    .dataframe thead th {\n",
       "        text-align: right;\n",
       "    }\n",
       "</style>\n",
       "<table border=\"1\" class=\"dataframe\">\n",
       "  <thead>\n",
       "    <tr style=\"text-align: right;\">\n",
       "      <th></th>\n",
       "      <th>Name</th>\n",
       "      <th>Colour</th>\n",
       "      <th>Storage</th>\n",
       "      <th>Battery</th>\n",
       "      <th>Camera_Pixel</th>\n",
       "      <th>Selfie_cam_pixel</th>\n",
       "      <th>Display_size</th>\n",
       "      <th>Technology</th>\n",
       "      <th>RAM</th>\n",
       "      <th>Operating_system</th>\n",
       "      <th>Star_ratings</th>\n",
       "      <th>Users_rated</th>\n",
       "      <th>Price</th>\n",
       "    </tr>\n",
       "  </thead>\n",
       "  <tbody>\n",
       "    <tr>\n",
       "      <th>0</th>\n",
       "      <td>Redmi 11 Prime</td>\n",
       "      <td>Playful Green</td>\n",
       "      <td>64</td>\n",
       "      <td>5000.0</td>\n",
       "      <td>50</td>\n",
       "      <td>8</td>\n",
       "      <td>16.71</td>\n",
       "      <td>4.0</td>\n",
       "      <td>4.0</td>\n",
       "      <td>MIUI 13</td>\n",
       "      <td>4.3</td>\n",
       "      <td>86.0</td>\n",
       "      <td>13999.0</td>\n",
       "    </tr>\n",
       "    <tr>\n",
       "      <th>1</th>\n",
       "      <td>Redmi Note 11T</td>\n",
       "      <td>Matte Black</td>\n",
       "      <td>128</td>\n",
       "      <td>5000.0</td>\n",
       "      <td>50</td>\n",
       "      <td>16</td>\n",
       "      <td>16.71</td>\n",
       "      <td>5.0</td>\n",
       "      <td>8.0</td>\n",
       "      <td>Android 11</td>\n",
       "      <td>4.1</td>\n",
       "      <td>27690.0</td>\n",
       "      <td>19999.0</td>\n",
       "    </tr>\n",
       "    <tr>\n",
       "      <th>2</th>\n",
       "      <td>Redmi 9A Sport</td>\n",
       "      <td>Carbon Black</td>\n",
       "      <td>32</td>\n",
       "      <td>5000.0</td>\n",
       "      <td>13</td>\n",
       "      <td>5</td>\n",
       "      <td>16.58</td>\n",
       "      <td>4.0</td>\n",
       "      <td>2.0</td>\n",
       "      <td>MIUI 12</td>\n",
       "      <td>4.2</td>\n",
       "      <td>304361.0</td>\n",
       "      <td>6999.0</td>\n",
       "    </tr>\n",
       "    <tr>\n",
       "      <th>3</th>\n",
       "      <td>Redmi 9A Sport</td>\n",
       "      <td>Coral Green</td>\n",
       "      <td>32</td>\n",
       "      <td>5000.0</td>\n",
       "      <td>13</td>\n",
       "      <td>5</td>\n",
       "      <td>16.58</td>\n",
       "      <td>4.0</td>\n",
       "      <td>2.0</td>\n",
       "      <td>MIUI 12</td>\n",
       "      <td>4.2</td>\n",
       "      <td>304361.0</td>\n",
       "      <td>6999.0</td>\n",
       "    </tr>\n",
       "    <tr>\n",
       "      <th>4</th>\n",
       "      <td>Redmi 9 Activ</td>\n",
       "      <td>Carbon Black</td>\n",
       "      <td>64</td>\n",
       "      <td>5000.0</td>\n",
       "      <td>13</td>\n",
       "      <td>5</td>\n",
       "      <td>16.58</td>\n",
       "      <td>4.0</td>\n",
       "      <td>4.0</td>\n",
       "      <td>MIUI 12</td>\n",
       "      <td>4.2</td>\n",
       "      <td>304361.0</td>\n",
       "      <td>7999.0</td>\n",
       "    </tr>\n",
       "    <tr>\n",
       "      <th>5</th>\n",
       "      <td>Redmi 10A</td>\n",
       "      <td>Charcoal Black</td>\n",
       "      <td>64</td>\n",
       "      <td>5000.0</td>\n",
       "      <td>13</td>\n",
       "      <td>5</td>\n",
       "      <td>15.58</td>\n",
       "      <td>4.0</td>\n",
       "      <td>4.0</td>\n",
       "      <td>MIUI 12</td>\n",
       "      <td>3.9</td>\n",
       "      <td>8999.0</td>\n",
       "      <td>8999.0</td>\n",
       "    </tr>\n",
       "    <tr>\n",
       "      <th>6</th>\n",
       "      <td>Redmi A1</td>\n",
       "      <td>Light Blue</td>\n",
       "      <td>32</td>\n",
       "      <td>5000.0</td>\n",
       "      <td>8</td>\n",
       "      <td>5</td>\n",
       "      <td>16.56</td>\n",
       "      <td>4.0</td>\n",
       "      <td>2.0</td>\n",
       "      <td>Android Go</td>\n",
       "      <td>4.0</td>\n",
       "      <td>3898.0</td>\n",
       "      <td>6499.0</td>\n",
       "    </tr>\n",
       "    <tr>\n",
       "      <th>7</th>\n",
       "      <td>Redmi 10 Prime</td>\n",
       "      <td>Astral White</td>\n",
       "      <td>64</td>\n",
       "      <td>6000.0</td>\n",
       "      <td>50</td>\n",
       "      <td>8</td>\n",
       "      <td>16.50</td>\n",
       "      <td>4.0</td>\n",
       "      <td>4.0</td>\n",
       "      <td>MIUI 12</td>\n",
       "      <td>4.1</td>\n",
       "      <td>59699.0</td>\n",
       "      <td>12999.0</td>\n",
       "    </tr>\n",
       "    <tr>\n",
       "      <th>8</th>\n",
       "      <td>Redmi Note 11T</td>\n",
       "      <td>Stardust White</td>\n",
       "      <td>128</td>\n",
       "      <td>5000.0</td>\n",
       "      <td>50</td>\n",
       "      <td>16</td>\n",
       "      <td>16.71</td>\n",
       "      <td>5.0</td>\n",
       "      <td>6.0</td>\n",
       "      <td>Android 11</td>\n",
       "      <td>4.1</td>\n",
       "      <td>27690.0</td>\n",
       "      <td>16999.0</td>\n",
       "    </tr>\n",
       "    <tr>\n",
       "      <th>9</th>\n",
       "      <td>Redmi A1</td>\n",
       "      <td>Light Green</td>\n",
       "      <td>32</td>\n",
       "      <td>5000.0</td>\n",
       "      <td>8</td>\n",
       "      <td>5</td>\n",
       "      <td>16.56</td>\n",
       "      <td>4.0</td>\n",
       "      <td>2.0</td>\n",
       "      <td>Android Go</td>\n",
       "      <td>4.0</td>\n",
       "      <td>3898.0</td>\n",
       "      <td>6499.0</td>\n",
       "    </tr>\n",
       "    <tr>\n",
       "      <th>10</th>\n",
       "      <td>Redmi Note 11</td>\n",
       "      <td>Horizon Blue</td>\n",
       "      <td>64</td>\n",
       "      <td>5000.0</td>\n",
       "      <td>50</td>\n",
       "      <td>13</td>\n",
       "      <td>16.33</td>\n",
       "      <td>4.0</td>\n",
       "      <td>4.0</td>\n",
       "      <td>MIUI 13</td>\n",
       "      <td>4.1</td>\n",
       "      <td>45285.0</td>\n",
       "      <td>12999.0</td>\n",
       "    </tr>\n",
       "    <tr>\n",
       "      <th>11</th>\n",
       "      <td>Redmi Note 10S</td>\n",
       "      <td>Deep Sea</td>\n",
       "      <td>64</td>\n",
       "      <td>5000.0</td>\n",
       "      <td>64</td>\n",
       "      <td>13</td>\n",
       "      <td>16.33</td>\n",
       "      <td>4.0</td>\n",
       "      <td>6.0</td>\n",
       "      <td>Android 11</td>\n",
       "      <td>4.2</td>\n",
       "      <td>214826.0</td>\n",
       "      <td>14999.0</td>\n",
       "    </tr>\n",
       "    <tr>\n",
       "      <th>12</th>\n",
       "      <td>Redmi 10A</td>\n",
       "      <td>Sea Blue</td>\n",
       "      <td>64</td>\n",
       "      <td>5000.0</td>\n",
       "      <td>13</td>\n",
       "      <td>5</td>\n",
       "      <td>15.58</td>\n",
       "      <td>4.0</td>\n",
       "      <td>4.0</td>\n",
       "      <td>MIUI 12</td>\n",
       "      <td>3.9</td>\n",
       "      <td>8999.0</td>\n",
       "      <td>8499.0</td>\n",
       "    </tr>\n",
       "    <tr>\n",
       "      <th>13</th>\n",
       "      <td>Redmi 9A Sport</td>\n",
       "      <td>Carbon Black</td>\n",
       "      <td>32</td>\n",
       "      <td>5000.0</td>\n",
       "      <td>13</td>\n",
       "      <td>5</td>\n",
       "      <td>16.58</td>\n",
       "      <td>4.0</td>\n",
       "      <td>2.0</td>\n",
       "      <td>MIUI 12</td>\n",
       "      <td>4.2</td>\n",
       "      <td>304361.0</td>\n",
       "      <td>6999.0</td>\n",
       "    </tr>\n",
       "    <tr>\n",
       "      <th>14</th>\n",
       "      <td>Redmi 10A Sport</td>\n",
       "      <td>Sea Blue</td>\n",
       "      <td>8</td>\n",
       "      <td>5000.0</td>\n",
       "      <td>13</td>\n",
       "      <td>5</td>\n",
       "      <td>15.58</td>\n",
       "      <td>4.0</td>\n",
       "      <td>6.0</td>\n",
       "      <td>MIUI 12</td>\n",
       "      <td>3.7</td>\n",
       "      <td>481.0</td>\n",
       "      <td>10499.0</td>\n",
       "    </tr>\n",
       "  </tbody>\n",
       "</table>\n",
       "</div>"
      ],
      "text/plain": [
       "               Name          Colour  Storage  Battery  Camera_Pixel  \\\n",
       "0    Redmi 11 Prime   Playful Green       64   5000.0            50   \n",
       "1    Redmi Note 11T     Matte Black      128   5000.0            50   \n",
       "2    Redmi 9A Sport    Carbon Black       32   5000.0            13   \n",
       "3    Redmi 9A Sport     Coral Green       32   5000.0            13   \n",
       "4     Redmi 9 Activ    Carbon Black       64   5000.0            13   \n",
       "5        Redmi 10A   Charcoal Black       64   5000.0            13   \n",
       "6         Redmi A1       Light Blue       32   5000.0             8   \n",
       "7    Redmi 10 Prime    Astral White       64   6000.0            50   \n",
       "8    Redmi Note 11T  Stardust White      128   5000.0            50   \n",
       "9         Redmi A1      Light Green       32   5000.0             8   \n",
       "10    Redmi Note 11    Horizon Blue       64   5000.0            50   \n",
       "11   Redmi Note 10S        Deep Sea       64   5000.0            64   \n",
       "12       Redmi 10A         Sea Blue       64   5000.0            13   \n",
       "13   Redmi 9A Sport    Carbon Black       32   5000.0            13   \n",
       "14  Redmi 10A Sport        Sea Blue        8   5000.0            13   \n",
       "\n",
       "    Selfie_cam_pixel  Display_size  Technology  RAM Operating_system  \\\n",
       "0                  8         16.71         4.0  4.0          MIUI 13   \n",
       "1                 16         16.71         5.0  8.0       Android 11   \n",
       "2                  5         16.58         4.0  2.0          MIUI 12   \n",
       "3                  5         16.58         4.0  2.0          MIUI 12   \n",
       "4                  5         16.58         4.0  4.0          MIUI 12   \n",
       "5                  5         15.58         4.0  4.0          MIUI 12   \n",
       "6                  5         16.56         4.0  2.0       Android Go   \n",
       "7                  8         16.50         4.0  4.0          MIUI 12   \n",
       "8                 16         16.71         5.0  6.0       Android 11   \n",
       "9                  5         16.56         4.0  2.0       Android Go   \n",
       "10                13         16.33         4.0  4.0          MIUI 13   \n",
       "11                13         16.33         4.0  6.0       Android 11   \n",
       "12                 5         15.58         4.0  4.0          MIUI 12   \n",
       "13                 5         16.58         4.0  2.0          MIUI 12   \n",
       "14                 5         15.58         4.0  6.0          MIUI 12   \n",
       "\n",
       "    Star_ratings  Users_rated    Price  \n",
       "0            4.3         86.0  13999.0  \n",
       "1            4.1      27690.0  19999.0  \n",
       "2            4.2     304361.0   6999.0  \n",
       "3            4.2     304361.0   6999.0  \n",
       "4            4.2     304361.0   7999.0  \n",
       "5            3.9       8999.0   8999.0  \n",
       "6            4.0       3898.0   6499.0  \n",
       "7            4.1      59699.0  12999.0  \n",
       "8            4.1      27690.0  16999.0  \n",
       "9            4.0       3898.0   6499.0  \n",
       "10           4.1      45285.0  12999.0  \n",
       "11           4.2     214826.0  14999.0  \n",
       "12           3.9       8999.0   8499.0  \n",
       "13           4.2     304361.0   6999.0  \n",
       "14           3.7        481.0  10499.0  "
      ]
     },
     "execution_count": 66,
     "metadata": {},
     "output_type": "execute_result"
    }
   ],
   "source": [
    "r1.head(15)"
   ]
  },
  {
   "cell_type": "code",
   "execution_count": 67,
   "id": "9c10649e",
   "metadata": {},
   "outputs": [
    {
     "data": {
      "text/plain": [
       "Name                 object\n",
       "Colour               object\n",
       "Storage               int64\n",
       "Battery             float64\n",
       "Camera_Pixel          int64\n",
       "Selfie_cam_pixel      int64\n",
       "Display_size        float64\n",
       "Technology          float64\n",
       "RAM                 float64\n",
       "Operating_system     object\n",
       "Star_ratings        float64\n",
       "Users_rated         float64\n",
       "Price               float64\n",
       "dtype: object"
      ]
     },
     "execution_count": 67,
     "metadata": {},
     "output_type": "execute_result"
    }
   ],
   "source": [
    "r1.dtypes"
   ]
  },
  {
   "cell_type": "code",
   "execution_count": 68,
   "id": "75f375a7",
   "metadata": {},
   "outputs": [],
   "source": [
    "r1.to_csv(\"redmi_amazon.csv\")"
   ]
  },
  {
   "cell_type": "code",
   "execution_count": null,
   "id": "5dee7725",
   "metadata": {},
   "outputs": [],
   "source": []
  }
 ],
 "metadata": {
  "kernelspec": {
   "display_name": "Python 3 (ipykernel)",
   "language": "python",
   "name": "python3"
  },
  "language_info": {
   "codemirror_mode": {
    "name": "ipython",
    "version": 3
   },
   "file_extension": ".py",
   "mimetype": "text/x-python",
   "name": "python",
   "nbconvert_exporter": "python",
   "pygments_lexer": "ipython3",
   "version": "3.9.12"
  }
 },
 "nbformat": 4,
 "nbformat_minor": 5
}
