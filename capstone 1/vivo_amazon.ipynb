{
 "cells": [
  {
   "cell_type": "code",
   "execution_count": 1,
   "id": "66ec229b",
   "metadata": {},
   "outputs": [],
   "source": [
    "# colour,names"
   ]
  },
  {
   "cell_type": "code",
   "execution_count": 1,
   "id": "13dffb4a",
   "metadata": {},
   "outputs": [],
   "source": [
    "import requests\n",
    "from bs4 import BeautifulSoup\n",
    "import re\n",
    "import pandas as pd"
   ]
  },
  {
   "cell_type": "code",
   "execution_count": 2,
   "id": "5ea1259c",
   "metadata": {},
   "outputs": [],
   "source": [
    "headers={\"User-Agent\": \"Mozilla/5.0 (Windows NT 10.0; Win64; x64) AppleWebKit/537.36 (KHTML, like Gecko) Chrome/106.0.0.0 Safari/537.36\"}"
   ]
  },
  {
   "cell_type": "code",
   "execution_count": 4,
   "id": "a27c8bae",
   "metadata": {},
   "outputs": [
    {
     "name": "stdout",
     "output_type": "stream",
     "text": [
      "['64MP', '8MP', '2MP', '50MP', '8MP']\n",
      "[]\n",
      "['16.36 cm', '3.5mm']\n",
      "['4200 mAh', '5mm']\n"
     ]
    },
    {
     "ename": "AttributeError",
     "evalue": "'NoneType' object has no attribute 'text'",
     "output_type": "error",
     "traceback": [
      "\u001b[1;31m---------------------------------------------------------------------------\u001b[0m",
      "\u001b[1;31mAttributeError\u001b[0m                            Traceback (most recent call last)",
      "Input \u001b[1;32mIn [4]\u001b[0m, in \u001b[0;36m<cell line: 22>\u001b[1;34m()\u001b[0m\n\u001b[0;32m     19\u001b[0m \u001b[38;5;28mprint\u001b[39m(n)\n\u001b[0;32m     21\u001b[0m o\u001b[38;5;241m=\u001b[39ma\u001b[38;5;241m.\u001b[39mfind(\u001b[38;5;124m'\u001b[39m\u001b[38;5;124mspan\u001b[39m\u001b[38;5;124m'\u001b[39m,{\u001b[38;5;124m\"\u001b[39m\u001b[38;5;124mclass\u001b[39m\u001b[38;5;124m\"\u001b[39m:\u001b[38;5;124m\"\u001b[39m\u001b[38;5;124ma-price-whole\u001b[39m\u001b[38;5;124m\"\u001b[39m})\n\u001b[1;32m---> 22\u001b[0m p\u001b[38;5;241m=\u001b[39m\u001b[43mo\u001b[49m\u001b[38;5;241;43m.\u001b[39;49m\u001b[43mtext\u001b[49m\n\u001b[0;32m     23\u001b[0m \u001b[38;5;28mprint\u001b[39m(p)\n\u001b[0;32m     24\u001b[0m q\u001b[38;5;241m=\u001b[39ma\u001b[38;5;241m.\u001b[39mfind(\u001b[38;5;124m'\u001b[39m\u001b[38;5;124mspan\u001b[39m\u001b[38;5;124m'\u001b[39m,{\u001b[38;5;124m\"\u001b[39m\u001b[38;5;124mclass\u001b[39m\u001b[38;5;124m\"\u001b[39m:\u001b[38;5;124m\"\u001b[39m\u001b[38;5;124ma-size-large product-title-word-break\u001b[39m\u001b[38;5;124m\"\u001b[39m})\n",
      "\u001b[1;31mAttributeError\u001b[0m: 'NoneType' object has no attribute 'text'"
     ]
    }
   ],
   "source": [
    "baseurl=\"https://www.amazon.in/Vivo-Sunshine-Gold-128GB-Storage/dp/B09DK8WZ12/ref=sr_1_19?crid=1B1LPWKU6GFCA&keywords=vivo&qid=1667403580&qu=eyJxc2MiOiI2Ljg2IiwicXNhIjoiNi41NyIsInFzcCI6IjYuMTEifQ%3D%3D&sprefix=%2Caps%2C1062&sr=8-19\"\n",
    "res1=requests.get(baseurl,headers=headers)\n",
    "#print(res1)\n",
    "a=BeautifulSoup(res1.content,\"html.parser\")\n",
    "b=a.find('ul',{\"class\":\"a-unordered-list a-vertical a-spacing-mini\"})\n",
    "c=b.text\n",
    "#print(c)\n",
    "d=r'[0-9]+\\s?[M][P]'\n",
    "f=re.findall(d,c)\n",
    "print(f)\n",
    "g=r'[0-9]+[GB]+'\n",
    "h=re.findall(g,c)\n",
    "print(h)\n",
    "k=r'[0-9]+\\.[0-9]+\\s?[cm]+'\n",
    "l=re.findall(k,c)\n",
    "print(l)\n",
    "m=r'[0-9]+\\s?[mAh]+'\n",
    "n=re.findall(m,c)\n",
    "print(n)\n",
    "\n",
    "o=a.find('span',{\"class\":\"a-price-whole\"})\n",
    "p=o.text\n",
    "print(p)\n",
    "q=a.find('span',{\"class\":\"a-size-large product-title-word-break\"})\n",
    "r=q.text\n",
    "#print(r)\n",
    "\n",
    "s=r'[V,v][A-Za-z]+\\s?[A-Za-z0-9]+'\n",
    "t=re.findall(s,r)\n",
    "print(t)\n",
    "\n",
    "u=r'[(]*[A-Za-z]+\\s?[A-Za-z0-9]+'\n",
    "y=re.findall(u,r)\n",
    "print(y)\n",
    "\n",
    "qq=a.find('tr',{\"class\":\"a-spacing-small po-operating_system\"})\n",
    "rr=qq.text\n",
    "print(rr)\n",
    "\n",
    "os='[A,a][A-Za-z]+\\s?[0-9]+'\n",
    "red=re.findall(os,rr)\n",
    "print(red)"
   ]
  },
  {
   "cell_type": "code",
   "execution_count": 14,
   "id": "d709de80",
   "metadata": {},
   "outputs": [],
   "source": [
    "def details(baseurl,headers):\n",
    "    res1=requests.get(baseurl,headers=headers)\n",
    "    #print(res1)\n",
    "    a=BeautifulSoup(res1.content,\"html.parser\")\n",
    "    b=a.find('ul',{\"class\":\"a-unordered-list a-vertical a-spacing-mini\"})\n",
    "    c=b.text\n",
    "    #print(c)\n",
    "    d=r'[0-9]+\\s?[M][P]'\n",
    "    f=re.findall(d,c)\n",
    "    print(f)\n",
    "\n",
    "    k=r'[0-9]+\\.[0-9]+\\s?[cm]+'\n",
    "    l=re.findall(k,c)\n",
    "    print(l)\n",
    "    m=r'[0-9]+\\s?[m,M][A][h,H]'\n",
    "    n=re.findall(m,c)\n",
    "    print(n)\n",
    "\n",
    "    o=a.find('span',{\"class\":\"a-price-whole\"})\n",
    "    p=o.text\n",
    "    print(p)\n",
    "    q=a.find('span',{\"class\":\"a-size-large product-title-word-break\"})\n",
    "    r=q.text\n",
    "    #print(r)\n",
    "    \n",
    "    g=r'[0-9]+\\s?[G][B]'\n",
    "    h=re.findall(g,r)\n",
    "    print(h)\n",
    "\n",
    "    s=r'[v,V][A-Za-z]+\\s?[A-Za-z0-9]+'\n",
    "    t=re.findall(s,r)\n",
    "    print(t)\n",
    "\n",
    "    u=r'[(]*[A-Za-z]+\\s?[A-Za-z0-9]+'\n",
    "    y=re.findall(u,r)\n",
    "    print(y)\n",
    "    \n",
    "    qq=a.find('tr',{\"class\":\"a-spacing-small po-operating_system\"})\n",
    "    rr=qq.text\n",
    "    #print(rr)\n",
    "\n",
    "    os='[A,a,f,F][A-Za-z]+\\s?[a-zA-Z0-9]*\\s?[0-9]*'\n",
    "    red=re.findall(os,rr)\n",
    "    print(red)\n",
    "    \n",
    "    gh=a.find(\"tr\",{\"class\":\"a-spacing-small po-cellular_technology\"})\n",
    "    #print(gh.text)\n",
    "    bh=gh.text\n",
    "    g1=r'[0-9]{1}\\s?[G]'\n",
    "    h1=re.findall(g1,bh)\n",
    "    print(h1)\n",
    "    \n",
    "    hn=a.find(\"span\",{\"class\":\"a-icon-alt\"})\n",
    "    st=hn.text\n",
    "    sta=r'[0-9]+[.][0-9]*'\n",
    "    star=re.findall(sta,st)\n",
    "    print(star)\n",
    "\n",
    "    us=a.find('span',{\"id\":\"acrCustomerReviewText\",\"class\":\"a-size-base\"})\n",
    "    ui=us.text\n",
    "    use=r'[0-9]*[,]*[0-9]+'\n",
    "    uss=re.findall(use,ui)\n",
    "    print(uss)\n",
    "    \n",
    "    storage.append(h[1])\n",
    "    camera_px.append(f[0])\n",
    "    self_px.append(f[-1])\n",
    "    colour.append(y[1])\n",
    "    name.append(t[0])\n",
    "    ram.append(h[0])\n",
    "    tech.append(h1[0])\n",
    "    if n==[]:\n",
    "        battery.append(\"5000mAh\")\n",
    "    else:\n",
    "        battery.append(n[0])\n",
    "    display.append(l[0])\n",
    "    price.append(p)\n",
    "    os_sys.append(red[0])\n",
    "    star_rate.append(star[0])\n",
    "    user_rate.append(uss[0])\n",
    "    "
   ]
  },
  {
   "cell_type": "code",
   "execution_count": 15,
   "id": "8e436905",
   "metadata": {},
   "outputs": [],
   "source": [
    "def details1(baseurl,headers):\n",
    "    res1=requests.get(baseurl,headers=headers)\n",
    "    #print(res1)\n",
    "    a=BeautifulSoup(res1.content,\"html.parser\")\n",
    "    b=a.find('ul',{\"class\":\"a-unordered-list a-vertical a-spacing-mini\"})\n",
    "    c=b.text\n",
    "    #print(c)\n",
    "    d=r'[0-9]+\\s?[M][P]'\n",
    "    f=re.findall(d,c)\n",
    "    print(f)\n",
    "\n",
    "    k=r'[0-9]+\\.[0-9]+\\s?[cm]+'\n",
    "    l=re.findall(k,c)\n",
    "    print(l)\n",
    "    m=r'[0-9]+\\s?[m,M][A][h,H]'\n",
    "    n=re.findall(m,c)\n",
    "    print(n)\n",
    "\n",
    "    o=a.find('span',{\"class\":\"a-price-whole\"})\n",
    "    p=o.text\n",
    "    print(p)\n",
    "    q=a.find('span',{\"class\":\"a-size-large product-title-word-break\"})\n",
    "    r=q.text\n",
    "    #print(r)\n",
    "    \n",
    "    g=r'[0-9]+\\s?[G][B]'\n",
    "    h=re.findall(g,r)\n",
    "    print(h)\n",
    "\n",
    "    s=r'[v,V][A-Za-z]+\\s?[A-Za-z0-9]+'\n",
    "    t=re.findall(s,r)\n",
    "    print(t)\n",
    "\n",
    "    u=r'[(]*[A-Za-z]+\\s?[A-Za-z0-9]+'\n",
    "    y=re.findall(u,r)\n",
    "    print(y)\n",
    "    \n",
    "    qq=a.find('tr',{\"class\":\"a-spacing-small po-operating_system\"})\n",
    "    rr=qq.text\n",
    "    #print(rr)\n",
    "\n",
    "    os='[A,a,f,F][A-Za-z]+\\s?[a-zA-Z0-9]*\\s?[0-9]*'\n",
    "    red=re.findall(os,rr)\n",
    "    print(red)\n",
    "    \n",
    "    gh=a.find(\"tr\",{\"class\":\"a-spacing-small po-cellular_technology\"})\n",
    "    #print(gh.text)\n",
    "    bh=gh.text\n",
    "    g1=r'[0-9]{1}\\s?[G]'\n",
    "    h1=re.findall(g1,bh)\n",
    "    print(h1)\n",
    "    \n",
    "    hn=a.find(\"span\",{\"class\":\"a-icon-alt\"})\n",
    "    st=hn.text\n",
    "    sta=r'[0-9]+[.][0-9]*'\n",
    "    star=re.findall(sta,st)\n",
    "    print(star)\n",
    "\n",
    "    us=a.find('span',{\"id\":\"acrCustomerReviewText\",\"class\":\"a-size-base\"})\n",
    "    ui=us.text\n",
    "    use=r'[0-9]*[,]*[0-9]+'\n",
    "    uss=re.findall(use,ui)\n",
    "    print(uss)\n",
    "    \n",
    "    storage.append(h[1])\n",
    "    camera_px.append(f[0])\n",
    "    self_px.append(f[-1])\n",
    "    colour.append(y[3])\n",
    "    name.append(t[0])\n",
    "    ram.append(h[0])\n",
    "    tech.append(h1[0])\n",
    "    if n==[]:\n",
    "        battery.append(\"5000mAh\")\n",
    "    else:\n",
    "        battery.append(n[0])\n",
    "    display.append(l[0])\n",
    "    price.append(p)\n",
    "    os_sys.append(red[0])\n",
    "    star_rate.append(star[0])\n",
    "    user_rate.append(uss[0])\n",
    "    "
   ]
  },
  {
   "cell_type": "code",
   "execution_count": 16,
   "id": "b7103978",
   "metadata": {},
   "outputs": [],
   "source": [
    "def details2(baseurl,headers):\n",
    "    res1=requests.get(baseurl,headers=headers)\n",
    "    #print(res1)\n",
    "    a=BeautifulSoup(res1.content,\"html.parser\")\n",
    "    b=a.find('ul',{\"class\":\"a-unordered-list a-vertical a-spacing-mini\"})\n",
    "    c=b.text\n",
    "    #print(c)\n",
    "    d=r'[0-9]+\\s?[M][P]'\n",
    "    f=re.findall(d,c)\n",
    "    print(f)\n",
    "\n",
    "    k=r'[0-9]+\\.[0-9]+\\s?[cm]+'\n",
    "    l=re.findall(k,c)\n",
    "    print(l)\n",
    "    m=r'[0-9]+\\s?[m,M][A][h,H]'\n",
    "    n=re.findall(m,c)\n",
    "    print(n)\n",
    "\n",
    "    o=a.find('span',{\"class\":\"a-price-whole\"})\n",
    "    p=o.text\n",
    "    print(p)\n",
    "    q=a.find('span',{\"class\":\"a-size-large product-title-word-break\"})\n",
    "    r=q.text\n",
    "    #print(r)\n",
    "    \n",
    "    g=r'[0-9]+\\s?[G][B]'\n",
    "    h=re.findall(g,r)\n",
    "    print(h)\n",
    "\n",
    "    s=r'[v,V][A-Za-z]+\\s?[A-Za-z0-9]+'\n",
    "    t=re.findall(s,r)\n",
    "    print(t)\n",
    "\n",
    "    u=r'[(]*[A-Za-z]+\\s?[A-Za-z0-9]+'\n",
    "    y=re.findall(u,r)\n",
    "    print(y)\n",
    "    \n",
    "    qq=a.find('tr',{\"class\":\"a-spacing-small po-operating_system\"})\n",
    "    rr=qq.text\n",
    "    #print(rr)\n",
    "\n",
    "    os='[A,a,f,F][A-Za-z]+\\s?[a-zA-Z0-9]*\\s?[0-9]*'\n",
    "    red=re.findall(os,rr)\n",
    "    print(red)\n",
    "    \n",
    "    gh=a.find(\"tr\",{\"class\":\"a-spacing-small po-cellular_technology\"})\n",
    "    #print(gh.text)\n",
    "    bh=gh.text\n",
    "    g1=r'[0-9]{1}\\s?[G]'\n",
    "    h1=re.findall(g1,bh)\n",
    "    print(h1)\n",
    "    \n",
    "    hn=a.find(\"span\",{\"class\":\"a-icon-alt\"})\n",
    "    st=hn.text\n",
    "    sta=r'[0-9]+[.][0-9]*'\n",
    "    star=re.findall(sta,st)\n",
    "    print(star)\n",
    "\n",
    "    us=a.find('span',{\"id\":\"acrCustomerReviewText\",\"class\":\"a-size-base\"})\n",
    "    ui=us.text\n",
    "    use=r'[0-9]*[,]*[0-9]+'\n",
    "    uss=re.findall(use,ui)\n",
    "    print(uss)\n",
    "    \n",
    "    storage.append(h[1])\n",
    "    camera_px.append(f[0])\n",
    "    self_px.append(f[-1])\n",
    "    colour.append(y[2])\n",
    "    name.append(t[0])\n",
    "    ram.append(h[0])\n",
    "    tech.append(h1[0])\n",
    "    if n==[]:\n",
    "        battery.append(\"5000mAh\")\n",
    "    else:\n",
    "        battery.append(n[0])\n",
    "    display.append(l[0])\n",
    "    price.append(p)\n",
    "    os_sys.append(red[0])\n",
    "    star_rate.append(star[0])\n",
    "    user_rate.append(uss[0])\n",
    "    "
   ]
  },
  {
   "cell_type": "code",
   "execution_count": 17,
   "id": "ffff5b1d",
   "metadata": {},
   "outputs": [],
   "source": [
    "storage=[]\n",
    "camera_px=[]\n",
    "self_px=[]\n",
    "colour=[]\n",
    "name=[]\n",
    "ram=[]\n",
    "tech=[]\n",
    "battery=[]\n",
    "display=[]\n",
    "price=[]\n",
    "os_sys=[]\n",
    "star_rate=[]\n",
    "user_rate=[]"
   ]
  },
  {
   "cell_type": "code",
   "execution_count": 18,
   "id": "60e55be8",
   "metadata": {},
   "outputs": [
    {
     "name": "stdout",
     "output_type": "stream",
     "text": [
      "['50MP', '2MP', '8MP']\n",
      "['16.63 cm']\n",
      "['5000mAh']\n",
      "16,499.\n",
      "['6GB', '128GB']\n",
      "['vivo Y22']\n",
      "['vivo Y22', '(Starlit Blue', 'GB RAM', 'GB Storage', 'with No', 'Cost EMI', 'Additional Exchange', 'Offers']\n",
      "['FunTouch OS 12']\n",
      "['4G']\n",
      "['3.6']\n",
      "['28']\n"
     ]
    }
   ],
   "source": [
    "b=\"https://www.amazon.in/Starlit-Storage-Additional-Exchange-Offers/dp/B07WGPKRJ7/ref=sr_1_1?crid=1B1LPWKU6GFCA&keywords=vivo&qid=1667402006&qu=eyJxc2MiOiI2Ljg2IiwicXNhIjoiNi41NyIsInFzcCI6IjYuMTEifQ%3D%3D&sprefix=%2Caps%2C1062&sr=8-1\"\n",
    "details(b,headers)"
   ]
  },
  {
   "cell_type": "code",
   "execution_count": 19,
   "id": "ecff767f",
   "metadata": {},
   "outputs": [
    {
     "name": "stdout",
     "output_type": "stream",
     "text": [
      "['13MP', '2MP', '8MP']\n",
      "['16.55 cm', '3.5mm']\n",
      "[]\n",
      "9,499.\n",
      "['3GB', '32GB']\n",
      "['vivo Y15s']\n",
      "['vivo Y15s', 'Mystic Blue', 'GB RAM', 'GB ROM', 'with No', 'Cost EMI', 'Additional Exchange', 'Offers']\n",
      "['FunTouch OS 10']\n",
      "['2G']\n",
      "['4.1']\n",
      "['456']\n"
     ]
    }
   ],
   "source": [
    "b1=\"https://www.amazon.in/vivo-Mystic-Additional-Exchange-Offers/dp/B09NKRP2F3/ref=sr_1_omk_2?crid=1B1LPWKU6GFCA&keywords=vivo&qid=1667402006&qu=eyJxc2MiOiI2Ljg2IiwicXNhIjoiNi41NyIsInFzcCI6IjYuMTEifQ%3D%3D&sprefix=%2Caps%2C1062&sr=8-2\"\n",
    "details(b1,headers)"
   ]
  },
  {
   "cell_type": "code",
   "execution_count": 20,
   "id": "165e2881",
   "metadata": {},
   "outputs": [
    {
     "name": "stdout",
     "output_type": "stream",
     "text": [
      "['13MP', '2MP', '8MP']\n",
      "['16.55cm']\n",
      "['5000mAh']\n",
      "12,634.\n",
      "['4GB', '64GB']\n",
      "['Vivo Y21']\n",
      "['Vivo Y21', '(Midnight Blue', 'GB RAM', 'GB Storage', 'Without Offers']\n",
      "['Android 11 ', 'ased Oxygen ']\n",
      "['4G']\n",
      "['4.1']\n",
      "['4,282']\n"
     ]
    }
   ],
   "source": [
    "b2=\"https://www.amazon.in/Vivo-Y21-Midnight-Storage-Without/dp/B08ZJS2DYK/ref=sr_1_3?crid=1B1LPWKU6GFCA&keywords=vivo&qid=1667402006&qu=eyJxc2MiOiI2Ljg2IiwicXNhIjoiNi41NyIsInFzcCI6IjYuMTEifQ%3D%3D&sprefix=%2Caps%2C1062&sr=8-3\"\n",
    "details(b2,headers)"
   ]
  },
  {
   "cell_type": "code",
   "execution_count": 22,
   "id": "4b506b05",
   "metadata": {},
   "outputs": [
    {
     "name": "stdout",
     "output_type": "stream",
     "text": [
      "['64MP', '8MP', '32MP']\n",
      "['16.35cm']\n",
      "['4000mAh']\n"
     ]
    },
    {
     "ename": "AttributeError",
     "evalue": "'NoneType' object has no attribute 'text'",
     "output_type": "error",
     "traceback": [
      "\u001b[1;31m---------------------------------------------------------------------------\u001b[0m",
      "\u001b[1;31mAttributeError\u001b[0m                            Traceback (most recent call last)",
      "Input \u001b[1;32mIn [22]\u001b[0m, in \u001b[0;36m<cell line: 2>\u001b[1;34m()\u001b[0m\n\u001b[0;32m      1\u001b[0m b3\u001b[38;5;241m=\u001b[39m\u001b[38;5;124m\"\u001b[39m\u001b[38;5;124mhttps://www.amazon.in/Vivo-V21e-8GB-RAM-128GB/dp/B08ZMTXWZD/ref=sr_1_4?crid=1B1LPWKU6GFCA&keywords=vivo&qid=1667402006&qu=eyJxc2MiOiI2Ljg2IiwicXNhIjoiNi41NyIsInFzcCI6IjYuMTEifQ\u001b[39m\u001b[38;5;124m%\u001b[39m\u001b[38;5;124m3D\u001b[39m\u001b[38;5;124m%\u001b[39m\u001b[38;5;124m3D&sprefix=\u001b[39m\u001b[38;5;124m%\u001b[39m\u001b[38;5;124m2Caps\u001b[39m\u001b[38;5;124m%\u001b[39m\u001b[38;5;124m2C1062&sr=8-4\u001b[39m\u001b[38;5;124m\"\u001b[39m\n\u001b[1;32m----> 2\u001b[0m \u001b[43mdetails\u001b[49m\u001b[43m(\u001b[49m\u001b[43mb3\u001b[49m\u001b[43m,\u001b[49m\u001b[43mheaders\u001b[49m\u001b[43m)\u001b[49m\n",
      "Input \u001b[1;32mIn [14]\u001b[0m, in \u001b[0;36mdetails\u001b[1;34m(baseurl, headers)\u001b[0m\n\u001b[0;32m     17\u001b[0m \u001b[38;5;28mprint\u001b[39m(n)\n\u001b[0;32m     19\u001b[0m o\u001b[38;5;241m=\u001b[39ma\u001b[38;5;241m.\u001b[39mfind(\u001b[38;5;124m'\u001b[39m\u001b[38;5;124mspan\u001b[39m\u001b[38;5;124m'\u001b[39m,{\u001b[38;5;124m\"\u001b[39m\u001b[38;5;124mclass\u001b[39m\u001b[38;5;124m\"\u001b[39m:\u001b[38;5;124m\"\u001b[39m\u001b[38;5;124ma-price-whole\u001b[39m\u001b[38;5;124m\"\u001b[39m})\n\u001b[1;32m---> 20\u001b[0m p\u001b[38;5;241m=\u001b[39m\u001b[43mo\u001b[49m\u001b[38;5;241;43m.\u001b[39;49m\u001b[43mtext\u001b[49m\n\u001b[0;32m     21\u001b[0m \u001b[38;5;28mprint\u001b[39m(p)\n\u001b[0;32m     22\u001b[0m q\u001b[38;5;241m=\u001b[39ma\u001b[38;5;241m.\u001b[39mfind(\u001b[38;5;124m'\u001b[39m\u001b[38;5;124mspan\u001b[39m\u001b[38;5;124m'\u001b[39m,{\u001b[38;5;124m\"\u001b[39m\u001b[38;5;124mclass\u001b[39m\u001b[38;5;124m\"\u001b[39m:\u001b[38;5;124m\"\u001b[39m\u001b[38;5;124ma-size-large product-title-word-break\u001b[39m\u001b[38;5;124m\"\u001b[39m})\n",
      "\u001b[1;31mAttributeError\u001b[0m: 'NoneType' object has no attribute 'text'"
     ]
    }
   ],
   "source": [
    "b3=\"https://www.amazon.in/Vivo-V21e-8GB-RAM-128GB/dp/B08ZMTXWZD/ref=sr_1_4?crid=1B1LPWKU6GFCA&keywords=vivo&qid=1667402006&qu=eyJxc2MiOiI2Ljg2IiwicXNhIjoiNi41NyIsInFzcCI6IjYuMTEifQ%3D%3D&sprefix=%2Caps%2C1062&sr=8-4\"\n",
    "details(b3,headers)"
   ]
  },
  {
   "cell_type": "code",
   "execution_count": 23,
   "id": "ecc67ead",
   "metadata": {},
   "outputs": [
    {
     "name": "stdout",
     "output_type": "stream",
     "text": [
      "['50MP', '2MP', '2MP', '16MP']\n",
      "['16.71cm']\n",
      "['5000mAh']\n",
      "17,990.\n",
      "['8GB', '128GB']\n",
      "['Vivo Y33T']\n",
      "['Vivo Y33T', '(Mirror Black', 'GB RAM', 'GB ROM', 'with No', 'Cost EMI', 'Additional Exchange', 'Offers']\n",
      "['Funtouch OS 12', 'ased on ', 'Android 11']\n",
      "['4G']\n",
      "['4.2']\n",
      "['1,117']\n"
     ]
    }
   ],
   "source": [
    "b4=\"https://www.amazon.in/Vivo-Mirror-Additional-Exchange-Offers/dp/B09QGR3576/ref=sr_1_5?crid=1B1LPWKU6GFCA&keywords=vivo&qid=1667402006&qu=eyJxc2MiOiI2Ljg2IiwicXNhIjoiNi41NyIsInFzcCI6IjYuMTEifQ%3D%3D&sprefix=%2Caps%2C1062&sr=8-5\"\n",
    "details(b4,headers)"
   ]
  },
  {
   "cell_type": "code",
   "execution_count": 24,
   "id": "d2280f2b",
   "metadata": {},
   "outputs": [
    {
     "name": "stdout",
     "output_type": "stream",
     "text": [
      "['13MP', '2MP', '8MP']\n",
      "['16.55cm']\n",
      "['5000mAh']\n",
      "13,218.\n",
      "['4GB', '64GB']\n",
      "['Vivo Y21']\n",
      "['Vivo Y21', '(Diamond Glow', 'GB RAM', 'GB Storage', 'Without Offers']\n",
      "['Android 11 ', 'Funtouch OS 11']\n",
      "['4G']\n",
      "['4.1']\n",
      "['4,282']\n"
     ]
    }
   ],
   "source": [
    "b5=\"https://www.amazon.in/Vivo-Y21-Diamond-Storage-Without/dp/B08ZJJ3FCN/ref=sr_1_6?crid=1B1LPWKU6GFCA&keywords=vivo&qid=1667402006&qu=eyJxc2MiOiI2Ljg2IiwicXNhIjoiNi41NyIsInFzcCI6IjYuMTEifQ%3D%3D&sprefix=%2Caps%2C1062&sr=8-6\"\n",
    "details(b5,headers)"
   ]
  },
  {
   "cell_type": "code",
   "execution_count": 25,
   "id": "3d116038",
   "metadata": {},
   "outputs": [
    {
     "name": "stdout",
     "output_type": "stream",
     "text": [
      "['13MP', '2MP', '5MP']\n",
      "['16.55 cm']\n",
      "['5000mAh']\n",
      "12,499.\n",
      "['4GB', '64GB']\n",
      "['vivo Y16']\n",
      "['vivo Y16', '(Drizzling Gold', 'GB RAM', 'GB Storage', 'with No', 'Cost EMI', 'Additional Exchange', 'Offers']\n",
      "['FunTouch OS 12']\n",
      "['4G']\n",
      "['3.4']\n",
      "['21']\n"
     ]
    }
   ],
   "source": [
    "b6=\"https://www.amazon.in/Drizzling-Storage-Additional-Exchange-Offers/dp/B07WHQ4S68/ref=sr_1_7?crid=1B1LPWKU6GFCA&keywords=vivo&qid=1667402006&qu=eyJxc2MiOiI2Ljg2IiwicXNhIjoiNi41NyIsInFzcCI6IjYuMTEifQ%3D%3D&sprefix=%2Caps%2C1062&sr=8-7\"\n",
    "details(b6,headers)"
   ]
  },
  {
   "cell_type": "code",
   "execution_count": 26,
   "id": "1a95dc10",
   "metadata": {},
   "outputs": [
    {
     "name": "stdout",
     "output_type": "stream",
     "text": [
      "['50MP', '2MP', '2MP', '16MP']\n",
      "['16.72 cm']\n",
      "['5000mAh']\n",
      "18,499.\n",
      "['8GB', '128GB']\n",
      "['vivo Y35']\n",
      "['vivo Y35', '(Agate Black', 'GB RAM', 'GB Storage', 'with No', 'Cost EMI', 'Additional Exchange', 'Offers']\n",
      "['FunTouch OS 12']\n",
      "['4G']\n",
      "['4.1']\n",
      "['90']\n"
     ]
    }
   ],
   "source": [
    "b7=\"https://www.amazon.in/Agate-Storage-Additional-Exchange-Offers/dp/B07WGPL32C/ref=sr_1_8?crid=1B1LPWKU6GFCA&keywords=vivo&qid=1667402006&qu=eyJxc2MiOiI2Ljg2IiwicXNhIjoiNi41NyIsInFzcCI6IjYuMTEifQ%3D%3D&sprefix=%2Caps%2C1062&sr=8-8\"\n",
    "details(b7,headers)"
   ]
  },
  {
   "cell_type": "code",
   "execution_count": 27,
   "id": "0bfa0291",
   "metadata": {},
   "outputs": [
    {
     "name": "stdout",
     "output_type": "stream",
     "text": [
      "['50MP', '8MP', '2MP', '44MP']\n",
      "['16.71cm']\n",
      "['4050mAh']\n",
      "20,990.\n",
      "['8GB', '128GB']\n",
      "['Vivo Y75', 'ves']\n",
      "['Vivo Y75', '(Dancing Waves', 'GB RAM', 'GB ROM', 'with No', 'Cost EMI', 'Additional Exchange', 'Offers']\n",
      "['Funtouch OS 12']\n",
      "['4G']\n",
      "['4.0']\n",
      "['165']\n"
     ]
    }
   ],
   "source": [
    "b8=\"https://www.amazon.in/Vivo-Dancing-Additional-Exchange-Offers/dp/B07WGNQJFR/ref=sr_1_9?crid=1B1LPWKU6GFCA&keywords=vivo&qid=1667402006&qu=eyJxc2MiOiI2Ljg2IiwicXNhIjoiNi41NyIsInFzcCI6IjYuMTEifQ%3D%3D&sprefix=%2Caps%2C1062&sr=8-9\"\n",
    "details(b8,headers)"
   ]
  },
  {
   "cell_type": "code",
   "execution_count": 28,
   "id": "15a2d218",
   "metadata": {},
   "outputs": [
    {
     "name": "stdout",
     "output_type": "stream",
     "text": [
      "['13MP', '2MP', '5MP']\n",
      "['16.55 cm']\n",
      "['5000mAh']\n",
      "12,499.\n",
      "['4GB', '64GB']\n",
      "['vivo Y16']\n",
      "['vivo Y16', '(Stellar Black', 'GB RAM', 'GB Storage', 'with No', 'Cost EMI', 'Additional Exchange', 'Offers']\n",
      "['FunTouch OS 12']\n",
      "['4G']\n",
      "['3.4']\n",
      "['21']\n"
     ]
    }
   ],
   "source": [
    "b9=\"https://www.amazon.in/Stellar-Storage-Additional-Exchange-Offers/dp/B07WJWN6R6/ref=sr_1_10?crid=1B1LPWKU6GFCA&keywords=vivo&qid=1667402006&qu=eyJxc2MiOiI2Ljg2IiwicXNhIjoiNi41NyIsInFzcCI6IjYuMTEifQ%3D%3D&sprefix=%2Caps%2C1062&sr=8-10\"\n",
    "details(b9,headers)"
   ]
  },
  {
   "cell_type": "code",
   "execution_count": 29,
   "id": "3defb261",
   "metadata": {},
   "outputs": [
    {
     "name": "stdout",
     "output_type": "stream",
     "text": [
      "['50MP', '2MP', '8MP']\n",
      "['16.63 cm']\n",
      "['5000mAh']\n",
      "16,499.\n",
      "['6GB', '128GB']\n",
      "['vivo Y22', 'verse Green']\n",
      "['vivo Y22', '(Metaverse Green', 'GB RAM', 'GB Storage', 'with No', 'Cost EMI', 'Additional Exchange', 'Offers']\n",
      "['FunTouch OS 12']\n",
      "['4G']\n",
      "['3.6']\n",
      "['28']\n"
     ]
    }
   ],
   "source": [
    "b10=\"https://www.amazon.in/Y22-Metaverse-Storage-Additional-Exchange/dp/B07WHSG2TL/ref=sr_1_12?crid=1B1LPWKU6GFCA&keywords=vivo&qid=1667402006&qu=eyJxc2MiOiI2Ljg2IiwicXNhIjoiNi41NyIsInFzcCI6IjYuMTEifQ%3D%3D&sprefix=%2Caps%2C1062&sr=8-12\"\n",
    "details(b10,headers)"
   ]
  },
  {
   "cell_type": "code",
   "execution_count": 30,
   "id": "c3df5501",
   "metadata": {},
   "outputs": [
    {
     "name": "stdout",
     "output_type": "stream",
     "text": [
      "['13MP', '2MP', '8MP']\n",
      "['16.55 cm']\n",
      "[]\n",
      "9,499.\n",
      "['3GB', '32GB']\n",
      "['Vivo Y15s', 've Green']\n",
      "['Vivo Y15s', 'Wave Green', 'GB RAM', 'GB ROM', 'with No', 'Cost EMI', 'Additional Exchange', 'Offers']\n",
      "['FunTouch OS 10']\n",
      "['2G']\n",
      "['4.1']\n",
      "['456']\n"
     ]
    }
   ],
   "source": [
    "b11=\"https://www.amazon.in/Vivo-Green-Additional-Exchange-Offers/dp/B09NKRP3DG/ref=sr_1_13?crid=1B1LPWKU6GFCA&keywords=vivo&qid=1667402006&qu=eyJxc2MiOiI2Ljg2IiwicXNhIjoiNi41NyIsInFzcCI6IjYuMTEifQ%3D%3D&sprefix=%2Caps%2C1062&sr=8-13\"\n",
    "details(b11,headers)"
   ]
  },
  {
   "cell_type": "code",
   "execution_count": 31,
   "id": "403ef1ef",
   "metadata": {},
   "outputs": [
    {
     "name": "stdout",
     "output_type": "stream",
     "text": [
      "['13MP', '2MP', '8MP']\n",
      "['16.55 cm']\n",
      "['5000mAh']\n",
      "10,499.\n",
      "['3GB', '64GB']\n",
      "['vivo Y15C']\n",
      "['vivo Y15C', '(Mystic Blue', 'GB RAM', 'GB Storage', 'with No', 'Cost EMI', 'Additional Exchange', 'Offers']\n",
      "['Funtouch OS 12', 'ased on ', 'Android 12']\n",
      "['4G']\n",
      "['3.5']\n",
      "['293']\n"
     ]
    }
   ],
   "source": [
    "b12=\"https://www.amazon.in/Mystic-Storage-Additional-Exchange-Offers/dp/B07WFNZX33/ref=sr_1_14?crid=1B1LPWKU6GFCA&keywords=vivo&qid=1667402006&qu=eyJxc2MiOiI2Ljg2IiwicXNhIjoiNi41NyIsInFzcCI6IjYuMTEifQ%3D%3D&sprefix=%2Caps%2C1062&sr=8-14\"\n",
    "details(b12,headers)"
   ]
  },
  {
   "cell_type": "code",
   "execution_count": 32,
   "id": "993501f3",
   "metadata": {},
   "outputs": [
    {
     "name": "stdout",
     "output_type": "stream",
     "text": [
      "['8MP', '5MP']\n",
      "['16.53cm']\n",
      "['5000mAh']\n",
      "7,999.\n",
      "['2GB', '32GB']\n",
      "['Vivo Y01']\n",
      "['Vivo Y01', '(Sapphire Blue', 'GB RAM', 'GB ROM', 'with No', 'Cost EMI', 'Additional Exchange', 'Offers']\n",
      "['FunTouch OS 10']\n",
      "['4G']\n",
      "['3.8']\n",
      "['95']\n"
     ]
    }
   ],
   "source": [
    "b13=\"https://www.amazon.in/Vivo-Sapphire-Additional-Exchange-Offers/dp/B07WJTB9BR/ref=sr_1_15?crid=1B1LPWKU6GFCA&keywords=vivo&qid=1667402006&qu=eyJxc2MiOiI2Ljg2IiwicXNhIjoiNi41NyIsInFzcCI6IjYuMTEifQ%3D%3D&sprefix=%2Caps%2C1062&sr=8-15\"\n",
    "details(b13,headers)"
   ]
  },
  {
   "cell_type": "code",
   "execution_count": 33,
   "id": "dc08d51d",
   "metadata": {},
   "outputs": [
    {
     "name": "stdout",
     "output_type": "stream",
     "text": [
      "['64MP', '8MP', '2MP', '50MP', '8MP']\n",
      "['16.36 cm', '3.5mm']\n",
      "['4200 mAh']\n",
      "29,699.\n",
      "['8GB', '128GB']\n",
      "['Vivo V23']\n",
      "['Vivo V23', '(Stardust Black', 'GB RAM', 'GB Storage']\n",
      "['Android 12 ']\n",
      "['5G']\n",
      "['4.0']\n",
      "['287']\n"
     ]
    }
   ],
   "source": [
    "b14=\"https://www.amazon.in/Vivo-Stardust-Black-128GB-Storage/dp/B09DKBXCMZ/ref=sr_1_16?crid=1B1LPWKU6GFCA&keywords=vivo&qid=1667402006&qu=eyJxc2MiOiI2Ljg2IiwicXNhIjoiNi41NyIsInFzcCI6IjYuMTEifQ%3D%3D&sprefix=%2Caps%2C1062&sr=8-16\"\n",
    "details(b14,headers)"
   ]
  },
  {
   "cell_type": "code",
   "execution_count": 34,
   "id": "63ec017b",
   "metadata": {},
   "outputs": [
    {
     "name": "stdout",
     "output_type": "stream",
     "text": [
      "['50MP', '2MP', '2MP', '16MP']\n",
      "['16.72 cm']\n",
      "['5000mAh']\n",
      "18,499.\n",
      "['8GB', '128GB']\n",
      "['vivo Y35']\n",
      "['vivo Y35', '(Dawn Gold', 'GB RAM', 'GB Storage', 'with No', 'Cost EMI', 'Additional Exchange', 'Offers']\n",
      "['FunTouch OS 12']\n",
      "['4G']\n",
      "['4.1']\n",
      "['90']\n"
     ]
    }
   ],
   "source": [
    "b15=\"https://www.amazon.in/128GB-Storage-Additional-Exchange-Offers/dp/B07WHSQDKX/ref=sxin_35_hcs-la-eu-tqprod?content-id=amzn1.sym.be7a97ad-899d-4252-8053-aa900d2b273d%3Aamzn1.sym.be7a97ad-899d-4252-8053-aa900d2b273d&crid=1B1LPWKU6GFCA&cv_ct_cx=vivo&keywords=vivo&pd_rd_i=B07WHSQDKX&pd_rd_r=bb11e510-a122-4f65-bfd3-97b4a97ff0f6&pd_rd_w=hzVyi&pd_rd_wg=CHJyz&pf_rd_p=be7a97ad-899d-4252-8053-aa900d2b273d&pf_rd_r=697XW167QWH961JR9C9X&qid=1667402006&qu=eyJxc2MiOiI2Ljg2IiwicXNhIjoiNi41NyIsInFzcCI6IjYuMTEifQ%3D%3D&sprefix=%2Caps%2C1062&sr=1-1-ca1238e8-4946-4218-b362-7c3431ea8df6\"\n",
    "details(b15,headers)"
   ]
  },
  {
   "cell_type": "code",
   "execution_count": 35,
   "id": "7fc5cd84",
   "metadata": {},
   "outputs": [],
   "source": [
    "# b16=\"https://www.amazon.in/Vivo-Sunshine-Gold-128GB-Storage/dp/B09DK8WZ12/ref=sr_1_19?crid=1B1LPWKU6GFCA&keywords=vivo&qid=1667403580&qu=eyJxc2MiOiI2Ljg2IiwicXNhIjoiNi41NyIsInFzcCI6IjYuMTEifQ%3D%3D&sprefix=%2Caps%2C1062&sr=8-19\"\n",
    "# details(b16,headers)"
   ]
  },
  {
   "cell_type": "code",
   "execution_count": 36,
   "id": "363c4966",
   "metadata": {},
   "outputs": [
    {
     "name": "stdout",
     "output_type": "stream",
     "text": [
      "['50MP', '2MP', '2MP', '8MP']\n",
      "['16.71cm']\n",
      "['5000mAh']\n",
      "15,490.\n",
      "['4GB', '128GB']\n",
      "['Vivo Y21T']\n",
      "['Vivo Y21T', '(PearlWhite', 'GB RAM', 'GB ROM', 'with No', 'Cost EMI', 'Additional Exchange', 'Offers']\n",
      "['Funtouch OS 12', 'ased on ', 'Android 11']\n",
      "['4G']\n",
      "['4.2']\n",
      "['524']\n"
     ]
    }
   ],
   "source": [
    "b17=\"https://www.amazon.in/Vivo-PearlWhite-Additional-Exchange-Offers/dp/B09Q577SMW/ref=sr_1_20?crid=1B1LPWKU6GFCA&keywords=vivo&qid=1667403580&qu=eyJxc2MiOiI2Ljg2IiwicXNhIjoiNi41NyIsInFzcCI6IjYuMTEifQ%3D%3D&sprefix=%2Caps%2C1062&sr=8-20\"\n",
    "details(b17,headers)"
   ]
  },
  {
   "cell_type": "code",
   "execution_count": 37,
   "id": "d2955587",
   "metadata": {},
   "outputs": [
    {
     "name": "stdout",
     "output_type": "stream",
     "text": [
      "['64MP', '8MP', '32MP']\n",
      "['16.35cm']\n",
      "['4000mAh']\n"
     ]
    },
    {
     "ename": "AttributeError",
     "evalue": "'NoneType' object has no attribute 'text'",
     "output_type": "error",
     "traceback": [
      "\u001b[1;31m---------------------------------------------------------------------------\u001b[0m",
      "\u001b[1;31mAttributeError\u001b[0m                            Traceback (most recent call last)",
      "Input \u001b[1;32mIn [37]\u001b[0m, in \u001b[0;36m<cell line: 2>\u001b[1;34m()\u001b[0m\n\u001b[0;32m      1\u001b[0m b18\u001b[38;5;241m=\u001b[39m\u001b[38;5;124m\"\u001b[39m\u001b[38;5;124mhttps://www.amazon.in/Vivo-V21e-8GB-RAM-128GB/dp/B08ZMTXWZD/ref=sr_1_21?crid=1B1LPWKU6GFCA&keywords=vivo&qid=1667403580&qu=eyJxc2MiOiI2Ljg2IiwicXNhIjoiNi41NyIsInFzcCI6IjYuMTEifQ\u001b[39m\u001b[38;5;124m%\u001b[39m\u001b[38;5;124m3D\u001b[39m\u001b[38;5;124m%\u001b[39m\u001b[38;5;124m3D&sprefix=\u001b[39m\u001b[38;5;124m%\u001b[39m\u001b[38;5;124m2Caps\u001b[39m\u001b[38;5;124m%\u001b[39m\u001b[38;5;124m2C1062&sr=8-21\u001b[39m\u001b[38;5;124m\"\u001b[39m\n\u001b[1;32m----> 2\u001b[0m \u001b[43mdetails\u001b[49m\u001b[43m(\u001b[49m\u001b[43mb18\u001b[49m\u001b[43m,\u001b[49m\u001b[43mheaders\u001b[49m\u001b[43m)\u001b[49m\n",
      "Input \u001b[1;32mIn [14]\u001b[0m, in \u001b[0;36mdetails\u001b[1;34m(baseurl, headers)\u001b[0m\n\u001b[0;32m     17\u001b[0m \u001b[38;5;28mprint\u001b[39m(n)\n\u001b[0;32m     19\u001b[0m o\u001b[38;5;241m=\u001b[39ma\u001b[38;5;241m.\u001b[39mfind(\u001b[38;5;124m'\u001b[39m\u001b[38;5;124mspan\u001b[39m\u001b[38;5;124m'\u001b[39m,{\u001b[38;5;124m\"\u001b[39m\u001b[38;5;124mclass\u001b[39m\u001b[38;5;124m\"\u001b[39m:\u001b[38;5;124m\"\u001b[39m\u001b[38;5;124ma-price-whole\u001b[39m\u001b[38;5;124m\"\u001b[39m})\n\u001b[1;32m---> 20\u001b[0m p\u001b[38;5;241m=\u001b[39m\u001b[43mo\u001b[49m\u001b[38;5;241;43m.\u001b[39;49m\u001b[43mtext\u001b[49m\n\u001b[0;32m     21\u001b[0m \u001b[38;5;28mprint\u001b[39m(p)\n\u001b[0;32m     22\u001b[0m q\u001b[38;5;241m=\u001b[39ma\u001b[38;5;241m.\u001b[39mfind(\u001b[38;5;124m'\u001b[39m\u001b[38;5;124mspan\u001b[39m\u001b[38;5;124m'\u001b[39m,{\u001b[38;5;124m\"\u001b[39m\u001b[38;5;124mclass\u001b[39m\u001b[38;5;124m\"\u001b[39m:\u001b[38;5;124m\"\u001b[39m\u001b[38;5;124ma-size-large product-title-word-break\u001b[39m\u001b[38;5;124m\"\u001b[39m})\n",
      "\u001b[1;31mAttributeError\u001b[0m: 'NoneType' object has no attribute 'text'"
     ]
    }
   ],
   "source": [
    "b18=\"https://www.amazon.in/Vivo-V21e-8GB-RAM-128GB/dp/B08ZMTXWZD/ref=sr_1_21?crid=1B1LPWKU6GFCA&keywords=vivo&qid=1667403580&qu=eyJxc2MiOiI2Ljg2IiwicXNhIjoiNi41NyIsInFzcCI6IjYuMTEifQ%3D%3D&sprefix=%2Caps%2C1062&sr=8-21\"\n",
    "details(b18,headers)"
   ]
  },
  {
   "cell_type": "code",
   "execution_count": 38,
   "id": "80983b25",
   "metadata": {},
   "outputs": [
    {
     "name": "stdout",
     "output_type": "stream",
     "text": [
      "['13MP', '2MP', '8MP']\n",
      "['16.53cm']\n",
      "['5000mAh']\n",
      "13,499.\n",
      "['4GB', '64GB']\n",
      "['Vivo Y21G']\n",
      "['Vivo Y21G', '(Midnight Blue', 'GB RAM', 'GB ROM', 'with No', 'Cost EMI', 'Additional Exchange', 'Offers']\n",
      "['Funtouch OS 12', 'ased on ', 'Android 11']\n",
      "['4G']\n",
      "['4.1']\n",
      "['4,282']\n"
     ]
    }
   ],
   "source": [
    "b19=\"https://www.amazon.in/Vivo-Midnight-Additional-Exchange-Offers/dp/B07WHPXV46/ref=sr_1_17?crid=1B1LPWKU6GFCA&keywords=vivo&qid=1667403580&qu=eyJxc2MiOiI2Ljg2IiwicXNhIjoiNi41NyIsInFzcCI6IjYuMTEifQ%3D%3D&sprefix=%2Caps%2C1062&sr=8-17\"\n",
    "details(b19,headers)"
   ]
  },
  {
   "cell_type": "code",
   "execution_count": 39,
   "id": "9c2272c9",
   "metadata": {},
   "outputs": [
    {
     "name": "stdout",
     "output_type": "stream",
     "text": [
      "['50MP', '2MP', '8MP']\n",
      "['16.63 cm']\n",
      "['5000mAh']\n",
      "14,499.\n",
      "['4GB', '64GB']\n",
      "['vivo Y22', 'verse Green']\n",
      "['vivo Y22', '(Metaverse Green', 'GB RAM', 'GB Storage', 'with No', 'Cost EMI', 'Additional Exchange', 'Offers']\n",
      "['FunTouch OS 12']\n",
      "['4G']\n",
      "['3.6']\n",
      "['28']\n"
     ]
    }
   ],
   "source": [
    "b20=\"https://www.amazon.in/Metaverse-Storage-Additional-Exchange-Offers/dp/B07WHSRJ86/ref=sr_1_18?crid=1B1LPWKU6GFCA&keywords=vivo&qid=1667403580&qu=eyJxc2MiOiI2Ljg2IiwicXNhIjoiNi41NyIsInFzcCI6IjYuMTEifQ%3D%3D&sprefix=%2Caps%2C1062&sr=8-18\"\n",
    "details(b20,headers)"
   ]
  },
  {
   "cell_type": "code",
   "execution_count": 40,
   "id": "43cb3447",
   "metadata": {},
   "outputs": [
    {
     "name": "stdout",
     "output_type": "stream",
     "text": [
      "['64MP', '8MP', '2MP', '44MP']\n",
      "['16.65cm']\n",
      "['4000mAh']\n",
      "28,500.\n",
      "['8GB', '128GB']\n",
      "['Vivo V21']\n",
      "['Vivo V21', '(Sunset Dazzle', 'GB RAM', 'GB Storage', 'Without Offer']\n",
      "['Android 11 ', 'Funtouch OS 11']\n",
      "['5G']\n",
      "['4.2']\n",
      "['1,870']\n"
     ]
    }
   ],
   "source": [
    "b21=\"https://www.amazon.in/Vivo-V21-8GB-RAM-128GB/dp/B08ZJS5T4V/ref=sr_1_19?crid=1B1LPWKU6GFCA&keywords=vivo&qid=1667403580&qu=eyJxc2MiOiI2Ljg2IiwicXNhIjoiNi41NyIsInFzcCI6IjYuMTEifQ%3D%3D&sprefix=%2Caps%2C1062&sr=8-19\"\n",
    "details(b21,headers)"
   ]
  },
  {
   "cell_type": "code",
   "execution_count": 41,
   "id": "9e5c2a4e",
   "metadata": {},
   "outputs": [
    {
     "name": "stdout",
     "output_type": "stream",
     "text": [
      "['8MP', '5MP']\n",
      "['16.53cm']\n",
      "['5000mAh']\n",
      "7,999.\n",
      "['2GB', '32GB']\n",
      "['Vivo Y01']\n",
      "['Vivo Y01', '(Elegant Black', 'GB RAM', 'GB ROM', 'with No', 'Cost EMI', 'Additional Exchange', 'Offers']\n",
      "['FunTouch OS 10']\n",
      "['4G']\n",
      "['3.8']\n",
      "['95']\n"
     ]
    }
   ],
   "source": [
    "b22=\"https://www.amazon.in/Vivo-Elegant-Additional-Exchange-Offers/dp/B07WDKLZPL/ref=sr_1_20?crid=1B1LPWKU6GFCA&keywords=vivo&qid=1667403580&qu=eyJxc2MiOiI2Ljg2IiwicXNhIjoiNi41NyIsInFzcCI6IjYuMTEifQ%3D%3D&sprefix=%2Caps%2C1062&sr=8-20\"\n",
    "details(b22,headers)"
   ]
  },
  {
   "cell_type": "code",
   "execution_count": 42,
   "id": "c05dc393",
   "metadata": {},
   "outputs": [
    {
     "name": "stdout",
     "output_type": "stream",
     "text": [
      "['50MP', '8MP', '2MP', '44MP']\n",
      "['16.71cm']\n",
      "['4050mAh']\n",
      "20,990.\n",
      "['8GB', '128GB']\n",
      "['Vivo Y75']\n",
      "['Vivo Y75', '(Moonlight Shadow', 'GB RAM', 'GB ROM', 'with No', 'Cost EMI', 'Additional Exchange', 'Offers']\n",
      "['Funtouch OS 12']\n",
      "['4G']\n",
      "['4.0']\n",
      "['165']\n"
     ]
    }
   ],
   "source": [
    "b23=\"https://www.amazon.in/Vivo-Moonlight-Shadow-Additional-Exchange/dp/B07WHQCCL3/ref=sr_1_21?crid=1B1LPWKU6GFCA&keywords=vivo&qid=1667403580&qu=eyJxc2MiOiI2Ljg2IiwicXNhIjoiNi41NyIsInFzcCI6IjYuMTEifQ%3D%3D&sprefix=%2Caps%2C1062&sr=8-21\"\n",
    "details(b23,headers)"
   ]
  },
  {
   "cell_type": "code",
   "execution_count": 43,
   "id": "86134558",
   "metadata": {},
   "outputs": [
    {
     "name": "stdout",
     "output_type": "stream",
     "text": [
      "['48MP', '8MP', '2MP', '2MP', '32MP']\n",
      "['16.20 c']\n",
      "[]\n",
      "12,999.\n",
      "['8GB', '128GB']\n",
      "['Vivo S1']\n",
      "['(Renewed', 'Vivo S1', 'Pro', '(Mystic Black', 'GB RAM', 'GB Storage', 'with No', 'Cost EMI', 'Additional Exchange', 'Offers']\n",
      "['Android 9']\n",
      "['4G']\n",
      "['2.9']\n",
      "['8']\n"
     ]
    }
   ],
   "source": [
    "b24=\"https://www.amazon.in/Renewed-Vivo-Storage-Additional-Exchange/dp/B08BWX1X55/ref=sr_1_25?crid=1B1LPWKU6GFCA&keywords=vivo&qid=1667403580&qu=eyJxc2MiOiI2Ljg2IiwicXNhIjoiNi41NyIsInFzcCI6IjYuMTEifQ%3D%3D&sprefix=%2Caps%2C1062&sr=8-25\"\n",
    "details1(b24,headers)"
   ]
  },
  {
   "cell_type": "code",
   "execution_count": 44,
   "id": "cdefa573",
   "metadata": {},
   "outputs": [
    {
     "name": "stdout",
     "output_type": "stream",
     "text": [
      "['13MP', '2MP', '8MP']\n",
      "['16.53cm']\n",
      "['5000mAh']\n",
      "13,499.\n",
      "['4GB', '64GB']\n",
      "['Vivo Y21G']\n",
      "['Vivo Y21G', '(Diamond Glow', 'GB RAM', 'GB ROM', 'with No', 'Cost EMI', 'Additional Exchange', 'Offers']\n",
      "['Funtouch OS 12', 'ased on ', 'Android 11']\n",
      "['4G']\n",
      "['4.1']\n",
      "['4,282']\n"
     ]
    }
   ],
   "source": [
    "b25=\"https://www.amazon.in/Vivo-Diamond-Additional-Exchange-Offers/dp/B07WHSKKR9/ref=sr_1_36?crid=1B1LPWKU6GFCA&keywords=vivo&qid=1667404535&qu=eyJxc2MiOiI2Ljg2IiwicXNhIjoiNi41NyIsInFzcCI6IjYuMTEifQ%3D%3D&sprefix=%2Caps%2C1062&sr=8-36\"\n",
    "details(b25,headers)"
   ]
  },
  {
   "cell_type": "code",
   "execution_count": 45,
   "id": "bcfb374c",
   "metadata": {},
   "outputs": [
    {
     "name": "stdout",
     "output_type": "stream",
     "text": [
      "['5 MP', '8 MP']\n",
      "['16.74 c']\n",
      "['4000 mAH']\n",
      "21,890.\n",
      "['8GB', '128GB']\n",
      "['Vivo NEX']\n",
      "['Vivo NEX', '(Black', 'GB RAM', 'GB Storage']\n",
      "['Android 8']\n",
      "['4G']\n",
      "['4.5']\n",
      "['1,303']\n"
     ]
    }
   ],
   "source": [
    "b26=\"https://www.amazon.in/Vivo-NEX-Black-128GB-Storage/dp/B07F6CQRKG/ref=sr_1_37?crid=1B1LPWKU6GFCA&keywords=vivo&qid=1667404535&qu=eyJxc2MiOiI2Ljg2IiwicXNhIjoiNi41NyIsInFzcCI6IjYuMTEifQ%3D%3D&sprefix=%2Caps%2C1062&sr=8-37\"\n",
    "details(b26,headers)"
   ]
  },
  {
   "cell_type": "code",
   "execution_count": 46,
   "id": "a6c08252",
   "metadata": {},
   "outputs": [
    {
     "name": "stdout",
     "output_type": "stream",
     "text": [
      "['50MP', '2MP', '2MP', '8MP']\n",
      "['16.71cm']\n",
      "['5000mAh']\n",
      "14,499.\n",
      "['4GB', '128GB']\n",
      "['Vivo Y21T']\n",
      "['Vivo Y21T', '(Midnight Blue', 'GB RAM', 'GB ROM', 'with No', 'Cost EMI', 'Additional Exchange', 'Offers']\n",
      "['Funtouch OS 12', 'ased on ', 'Android 11']\n",
      "['4G']\n",
      "['4.2']\n",
      "['524']\n"
     ]
    }
   ],
   "source": [
    "b27=\"https://www.amazon.in/Vivo-Midnight-Additional-Exchange-Offers/dp/B09Q5Z5M9D/ref=sr_1_33?crid=1B1LPWKU6GFCA&keywords=vivo&qid=1667404535&qu=eyJxc2MiOiI2Ljg2IiwicXNhIjoiNi41NyIsInFzcCI6IjYuMTEifQ%3D%3D&sprefix=%2Caps%2C1062&sr=8-33\"\n",
    "details(b27,headers)"
   ]
  },
  {
   "cell_type": "code",
   "execution_count": 47,
   "id": "414b3e67",
   "metadata": {},
   "outputs": [
    {
     "name": "stdout",
     "output_type": "stream",
     "text": [
      "['64MP', '8MP', '2MP', '44MP']\n",
      "['16.65cm']\n",
      "['4000mAh']\n",
      "26,990.\n",
      "['8GB', '128GB']\n",
      "['Vivo V21']\n",
      "['Vivo V21', '(Arctic White', 'GB RAM', 'GB Storage', 'Without Offer']\n",
      "['Android 11 ', 'Funtouch OS 11']\n",
      "['5G']\n",
      "['4.2']\n",
      "['1,870']\n"
     ]
    }
   ],
   "source": [
    "b28=\"https://www.amazon.in/VIVO-V21-8GB-RAM-128GB/dp/B09DK3NC6H/ref=sr_1_42?crid=1B1LPWKU6GFCA&keywords=vivo&qid=1667404535&qu=eyJxc2MiOiI2Ljg2IiwicXNhIjoiNi41NyIsInFzcCI6IjYuMTEifQ%3D%3D&sprefix=%2Caps%2C1062&sr=8-42\"\n",
    "details(b28,headers)"
   ]
  },
  {
   "cell_type": "code",
   "execution_count": 48,
   "id": "529357ad",
   "metadata": {},
   "outputs": [
    {
     "name": "stdout",
     "output_type": "stream",
     "text": [
      "['64MP', '2MP', '2MP', '16MP']\n",
      "['16.71cm']\n",
      "['5000mAh']\n",
      "19,999.\n",
      "['8GB', '128GB']\n",
      "['Vivo Y53s']\n",
      "['Vivo Y53s', '(Deap Sea', 'Blue', 'GB RAM', 'GB Storage', 'Without Offers']\n",
      "['Android 11 ', 'Funtouch OS 11']\n",
      "['4G']\n",
      "['4.2']\n",
      "['2,090']\n"
     ]
    }
   ],
   "source": [
    "b29=\"https://www.amazon.in/Vivo-Y53s-8GB-RAM-128GB/dp/B08ZJT3JKC/ref=sr_1_44?crid=1B1LPWKU6GFCA&keywords=vivo&qid=1667404535&qu=eyJxc2MiOiI2Ljg2IiwicXNhIjoiNi41NyIsInFzcCI6IjYuMTEifQ%3D%3D&sprefix=%2Caps%2C1062&sr=8-44\"\n",
    "details(b29,headers)"
   ]
  },
  {
   "cell_type": "code",
   "execution_count": 49,
   "id": "f0326d3d",
   "metadata": {},
   "outputs": [
    {
     "name": "stdout",
     "output_type": "stream",
     "text": [
      "['64MP', '8MP', '2MP', '44MP']\n",
      "['16.65cm']\n",
      "['4000mAh']\n",
      "26,990.\n",
      "['8GB', '128GB']\n",
      "['Vivo V21']\n",
      "['Vivo V21', '(Arctic White', 'GB RAM', 'GB Storage', 'Without Offer']\n",
      "['Android 11 ', 'Funtouch OS 11']\n",
      "['5G']\n",
      "['4.2']\n",
      "['1,870']\n"
     ]
    }
   ],
   "source": [
    "b31=\"https://www.amazon.in/Vivo-V21-8GB-RAM-128GB/dp/B08ZJR16NR/ref=sr_1_53?crid=1B1LPWKU6GFCA&keywords=vivo&qid=1667405077&qu=eyJxc2MiOiI2Ljg2IiwicXNhIjoiNi41NyIsInFzcCI6IjYuMTEifQ%3D%3D&sprefix=%2Caps%2C1062&sr=8-53\"\n",
    "details(b31,headers)"
   ]
  },
  {
   "cell_type": "code",
   "execution_count": 50,
   "id": "d7930cdf",
   "metadata": {},
   "outputs": [
    {
     "name": "stdout",
     "output_type": "stream",
     "text": [
      "['64MP', '2MP', '2MP', '16MP']\n",
      "['16.37cm']\n",
      "['4000mAh']\n",
      "19,999.\n",
      "['8GB', '128GB']\n",
      "['Vivo Y73']\n",
      "['Vivo Y73', '(Roman Black', 'GB RAM', 'GB Storage', 'Without Offers']\n",
      "['Android 11 ', 'Funtouch OS 11']\n",
      "['4G']\n",
      "['4.3']\n",
      "['2,643']\n"
     ]
    }
   ],
   "source": [
    "b32=\"https://www.amazon.in/Vivo-Y73-8GB-RAM-128GB/dp/B08ZMSP53L/ref=sr_1_54?crid=1B1LPWKU6GFCA&keywords=vivo&qid=1667405077&qu=eyJxc2MiOiI2Ljg2IiwicXNhIjoiNi41NyIsInFzcCI6IjYuMTEifQ%3D%3D&sprefix=%2Caps%2C1062&sr=8-54\"\n",
    "details(b32,headers)"
   ]
  },
  {
   "cell_type": "code",
   "execution_count": 51,
   "id": "86298d6a",
   "metadata": {},
   "outputs": [
    {
     "name": "stdout",
     "output_type": "stream",
     "text": [
      "['50MP', '12MP', '12MP', '8MP', '32MP']\n",
      "['16.66 cm']\n",
      "['4450 mAh']\n",
      "37,999.\n",
      "['8GB', '128GB']\n",
      "['vivo X70']\n",
      "['(Renewed', 'vivo X70', 'Pro', '(Cosmic Black', 'GB RAM', 'GB Storage']\n",
      "['Android 11 ']\n",
      "['5G']\n",
      "['5.0']\n",
      "['1']\n"
     ]
    }
   ],
   "source": [
    "b33=\"https://www.amazon.in/Renewed-X70-Cosmic-Black-Storage/dp/B0B33VLFR5/ref=sr_1_57?crid=1B1LPWKU6GFCA&keywords=vivo&qid=1667405077&qu=eyJxc2MiOiI2Ljg2IiwicXNhIjoiNi41NyIsInFzcCI6IjYuMTEifQ%3D%3D&sprefix=%2Caps%2C1062&sr=8-57\"\n",
    "details1(b33,headers)"
   ]
  },
  {
   "cell_type": "code",
   "execution_count": 52,
   "id": "de23e6b3",
   "metadata": {},
   "outputs": [
    {
     "name": "stdout",
     "output_type": "stream",
     "text": [
      "['16MP', '8MP', '2MP', '16MP']\n",
      "['16.58 c']\n",
      "['5000mAH']\n",
      "15,000.\n",
      "['4GB', '64GB']\n",
      "['Vivo U20']\n",
      "['Vivo U20', '(Blazing Blue', 'Snapdragon 675', 'AIE', 'GB RAM', 'GB Storage']\n",
      "['Android 9']\n",
      "['4G']\n",
      "['4.3']\n",
      "['26,270']\n"
     ]
    }
   ],
   "source": [
    "b34=\"https://www.amazon.in/Vivo-Blazing-Blue-Snapdragon-Storage/dp/B081RTYX3M/ref=sr_1_59?crid=1B1LPWKU6GFCA&keywords=vivo&qid=1667405077&qu=eyJxc2MiOiI2Ljg2IiwicXNhIjoiNi41NyIsInFzcCI6IjYuMTEifQ%3D%3D&sprefix=%2Caps%2C1062&sr=8-59\"\n",
    "details(b34,headers)"
   ]
  },
  {
   "cell_type": "code",
   "execution_count": 53,
   "id": "8e8fef19",
   "metadata": {},
   "outputs": [
    {
     "name": "stdout",
     "output_type": "stream",
     "text": [
      "['48MP', '8MP', '2MP', '48MP', '16 MP']\n",
      "['16.71 c']\n",
      "['5000mAH']\n",
      "17,900.\n",
      "['8GB', '128GB']\n",
      "['Vivo Y51']\n",
      "['Vivo Y51', '(Titanium Sapphire', 'GB RAM', 'GB ROM', 'Without Offers']\n",
      "['Android  ']\n",
      "['4G']\n",
      "['4.3']\n",
      "['1,276']\n"
     ]
    }
   ],
   "source": [
    "b36=\"https://www.amazon.in/Test-Exclusive243_Sep19/dp/B07X9YM9HV/ref=sr_1_68?crid=1B1LPWKU6GFCA&keywords=vivo&qid=1667412005&qu=eyJxc2MiOiI2Ljg2IiwicXNhIjoiNi41NyIsInFzcCI6IjYuMTEifQ%3D%3D&sprefix=%2Caps%2C1062&sr=8-68\"\n",
    "details(b36,headers)"
   ]
  },
  {
   "cell_type": "code",
   "execution_count": 54,
   "id": "4b7d9a8e",
   "metadata": {},
   "outputs": [
    {
     "name": "stdout",
     "output_type": "stream",
     "text": [
      "['13MP', '2MP', '2MP', '8MP']\n",
      "['16.55cm']\n",
      "['5000mAh']\n",
      "17,990.\n",
      "['6GB', '64GB', '6GB', '64GB']\n",
      "['VIVO Y20T']\n",
      "['VIVO Y20T', '(Purist Blue', 'GB RAM', 'GB Storage', 'Without Offers', '(Y20T', 'GB RAM', 'GB ROM']\n",
      "['Android 11', 'ased Funtouch ']\n",
      "['4G']\n",
      "['4.3']\n",
      "['249']\n"
     ]
    }
   ],
   "source": [
    "b37=\"https://www.amazon.in/VIVO-Y20T-6GB-RAM-64GB/dp/B09DJY1TBV/ref=sr_1_69?crid=1B1LPWKU6GFCA&keywords=vivo&qid=1667412005&qu=eyJxc2MiOiI2Ljg2IiwicXNhIjoiNi41NyIsInFzcCI6IjYuMTEifQ%3D%3D&sprefix=%2Caps%2C1062&sr=8-69\"\n",
    "details(b37,headers)"
   ]
  },
  {
   "cell_type": "code",
   "execution_count": 55,
   "id": "3576b7a1",
   "metadata": {},
   "outputs": [
    {
     "name": "stdout",
     "output_type": "stream",
     "text": [
      "['13MP', '2MP', '8MP']\n",
      "['15.80 c']\n",
      "['4030mAH']\n",
      "13,000.\n",
      "['3GB', '64GB']\n",
      "['Vivo Y93']\n",
      "['Vivo Y93', '(Nebula Purple', 'GB RAM', 'GB Storage']\n",
      "['Android 8']\n",
      "['4G']\n",
      "['4.2']\n",
      "['888']\n"
     ]
    }
   ],
   "source": [
    "b38=\"https://www.amazon.in/Vivo-1814-Storage-Additional-Exchange/dp/B07KXCJYN5/ref=sr_1_84?crid=1B1LPWKU6GFCA&keywords=vivo&qid=1667412558&qu=eyJxc2MiOiI2Ljg2IiwicXNhIjoiNi41NyIsInFzcCI6IjYuMTEifQ%3D%3D&sprefix=%2Caps%2C1062&sr=8-84\"\n",
    "details(b38,headers)"
   ]
  },
  {
   "cell_type": "code",
   "execution_count": 56,
   "id": "4e172d80",
   "metadata": {},
   "outputs": [],
   "source": [
    "# b39=\"https://www.amazon.in/Vivo-Y33s-Middday-Stoarge-Without/dp/B08ZJVFNJB/ref=sr_1_87?crid=1B1LPWKU6GFCA&keywords=vivo&qid=1667412558&qu=eyJxc2MiOiI2Ljg2IiwicXNhIjoiNi41NyIsInFzcCI6IjYuMTEifQ%3D%3D&sprefix=%2Caps%2C1062&sr=8-87\"\n",
    "# details(b39,headers)"
   ]
  },
  {
   "cell_type": "code",
   "execution_count": 57,
   "id": "0e6bc6e0",
   "metadata": {},
   "outputs": [
    {
     "name": "stdout",
     "output_type": "stream",
     "text": [
      "['64MP', '8MP', '2MP', '44MP', '8MP']\n",
      "['16.37 c']\n",
      "['4000mAH']\n",
      "28,000.\n",
      "['8GB', '128GB']\n",
      "['Vivo V20']\n",
      "['Vivo V20', 'Pro', '(Sunset Melody', 'GB RAM', 'GB Storage', 'Without Offers']\n",
      "['Android 11 ']\n",
      "['5G', '4G']\n",
      "['4.3']\n",
      "['3,600']\n"
     ]
    }
   ],
   "source": [
    "b40=\"https://www.amazon.in/Test-Exclusive289_Sep19/dp/B07X9YM9JG/ref=sr_1_92?crid=1B1LPWKU6GFCA&keywords=vivo&qid=1667412558&qu=eyJxc2MiOiI2Ljg2IiwicXNhIjoiNi41NyIsInFzcCI6IjYuMTEifQ%3D%3D&sprefix=%2Caps%2C1062&sr=8-92&th=1\"\n",
    "details2(b40,headers)"
   ]
  },
  {
   "cell_type": "code",
   "execution_count": 58,
   "id": "48e02aed",
   "metadata": {},
   "outputs": [
    {
     "name": "stdout",
     "output_type": "stream",
     "text": [
      "['48MP', '2MP', '2MP', '16MP']\n",
      "['16.71 c']\n",
      "['5000mAH']\n",
      "35,999.\n",
      "['6GB', '128GB']\n",
      "['Vivo Y31']\n",
      "['Vivo Y31', '(Ocean Blue', 'GB', 'GB Storage', 'with No', 'Cost EMI', 'Additional Exchange', 'Offers']\n",
      "['Funtouch OS 11', 'ased on ', 'Android 11']\n",
      "['4G']\n",
      "['4.2']\n",
      "['1,591']\n"
     ]
    }
   ],
   "source": [
    "b41=\"https://www.amazon.in/Vivo-Y31-Storage-Additional-Exchange/dp/B08LRGCNDV/ref=sr_1_101?crid=1B1LPWKU6GFCA&keywords=vivo&qid=1667412896&qu=eyJxc2MiOiI2Ljg2IiwicXNhIjoiNi41NyIsInFzcCI6IjYuMTEifQ%3D%3D&sprefix=%2Caps%2C1062&sr=8-101\"\n",
    "details(b41,headers)"
   ]
  },
  {
   "cell_type": "code",
   "execution_count": 59,
   "id": "4f340850",
   "metadata": {},
   "outputs": [
    {
     "name": "stdout",
     "output_type": "stream",
     "text": [
      "['2MP', '8MP']\n",
      "['16.71cm']\n",
      "[]\n",
      "23,990.\n",
      "['8GB', '128GB']\n",
      "['Vivo Y72']\n",
      "['Vivo Y72', '(Prism Magic', 'GB RAM', 'GB Storage', 'Without Offers']\n",
      "['Android 11 ', 'Funtouch OS 11']\n",
      "['5G']\n",
      "['4.1']\n",
      "['1,438']\n"
     ]
    }
   ],
   "source": [
    "b42=\"https://www.amazon.in/Vivo-Y72-8GB-RAM-128GB/dp/B08ZMTB48B/ref=sr_1_103?crid=1B1LPWKU6GFCA&keywords=vivo&qid=1667412896&qu=eyJxc2MiOiI2Ljg2IiwicXNhIjoiNi41NyIsInFzcCI6IjYuMTEifQ%3D%3D&sprefix=%2Caps%2C1062&sr=8-103\"\n",
    "details(b42,headers)"
   ]
  },
  {
   "cell_type": "code",
   "execution_count": 60,
   "id": "068cfb67",
   "metadata": {},
   "outputs": [
    {
     "name": "stdout",
     "output_type": "stream",
     "text": [
      "['108MP', '8MP', '2MP', '50MP', '8MP']\n",
      "['16.66 cm', '3.5mm']\n",
      "['4300 mAh']\n",
      "37,679.\n",
      "['8GB', '128GB']\n",
      "['Vivo V23']\n",
      "['Vivo V23', 'Pro 5G', '(Sunshine Gold', 'GB RAM', 'GB Storage']\n",
      "['Android 12 ']\n",
      "['5G']\n",
      "['3.9']\n",
      "['85']\n"
     ]
    }
   ],
   "source": [
    "b43=\"https://www.amazon.in/Vivo-Sunshine-Gold-256GB-Storage/dp/B09DKF15WD/ref=sr_1_120?crid=1B1LPWKU6GFCA&keywords=vivo&qid=1667413195&qu=eyJxc2MiOiI2Ljg2IiwicXNhIjoiNi41NyIsInFzcCI6IjYuMTEifQ%3D%3D&sprefix=%2Caps%2C1062&sr=8-120\"\n",
    "details2(b43,headers)"
   ]
  },
  {
   "cell_type": "code",
   "execution_count": 61,
   "id": "21f681ca",
   "metadata": {},
   "outputs": [
    {
     "name": "stdout",
     "output_type": "stream",
     "text": [
      "['13MP', '2MP', '8MP']\n",
      "['15.80 c']\n",
      "['4030mAH']\n",
      "9,600.\n",
      "['2GB', '32GB']\n",
      "['Vivo Y91']\n",
      "['Vivo Y91', '(Ocean Blue', 'GB RAM', 'GB Storage']\n",
      "['Android 8']\n",
      "['4G']\n",
      "['4.2']\n",
      "['280']\n"
     ]
    }
   ],
   "source": [
    "b44=\"https://www.amazon.in/Vivo-1816-Storage-Additional-Exchange/dp/B07KX1S5ZD/ref=sr_1_130?crid=1B1LPWKU6GFCA&keywords=vivo&qid=1667413294&qu=eyJxc2MiOiI2Ljg2IiwicXNhIjoiNi41NyIsInFzcCI6IjYuMTEifQ%3D%3D&sprefix=%2Caps%2C1062&sr=8-130\"\n",
    "details(b44,headers)"
   ]
  },
  {
   "cell_type": "code",
   "execution_count": 62,
   "id": "d941ec47",
   "metadata": {},
   "outputs": [
    {
     "name": "stdout",
     "output_type": "stream",
     "text": [
      "['48MP', '5MP', '2MP', '32MP']\n",
      "['16.37 c']\n",
      "['4100mAH']\n",
      "19,000.\n",
      "['8GB', '128GB']\n",
      "['Vivo V20']\n",
      "['Vivo V20', 'SE', '(Aquamarine Green', 'GB RAM', 'GB ROM', 'Without Offers']\n",
      "['Android  ']\n",
      "['4G']\n",
      "['4.6']\n",
      "['67']\n"
     ]
    }
   ],
   "source": [
    "b45=\"https://www.amazon.in/Test-TST_Exclusive1056-Exclusive-1056/dp/B08444SXZJ/ref=sr_1_134?crid=1B1LPWKU6GFCA&keywords=vivo&qid=1667413294&qu=eyJxc2MiOiI2Ljg2IiwicXNhIjoiNi41NyIsInFzcCI6IjYuMTEifQ%3D%3D&sprefix=%2Caps%2C1062&sr=8-134\"\n",
    "details2(b45,headers)"
   ]
  },
  {
   "cell_type": "code",
   "execution_count": 63,
   "id": "290dba8d",
   "metadata": {},
   "outputs": [
    {
     "name": "stdout",
     "output_type": "stream",
     "text": [
      "['32MP', '8MP', '5MP']\n",
      "['16.23cm']\n",
      "[]\n",
      "28,000.\n",
      "['6GB', '128GB']\n",
      "['Vivo V15']\n",
      "['Vivo V15', 'Pro', '(Ruby Red', 'GB RAM', 'GB Storage']\n",
      "['Android 9']\n",
      "['4G']\n",
      "['4.3']\n",
      "['9,312']\n"
     ]
    }
   ],
   "source": [
    "b46=\"https://www.amazon.in/Vivo-Storage-Additional-Exchange-Offers/dp/B07KX1KY4N/ref=sr_1_145?crid=1B1LPWKU6GFCA&keywords=vivo&qid=1667413548&qu=eyJxc2MiOiI2Ljg2IiwicXNhIjoiNi41NyIsInFzcCI6IjYuMTEifQ%3D%3D&sprefix=%2Caps%2C1062&sr=8-145\"\n",
    "details2(b46,headers)"
   ]
  },
  {
   "cell_type": "code",
   "execution_count": 64,
   "id": "93992d7d",
   "metadata": {},
   "outputs": [
    {
     "name": "stdout",
     "output_type": "stream",
     "text": [
      "['13MP', '2MP', '20MP']\n",
      "['15.798 c']\n",
      "['4030mAH']\n",
      "15,000.\n",
      "['4GB', '64GB']\n",
      "['Vivo Y95']\n",
      "['Vivo Y95', '(Starry Black', 'GB RAM', 'GB Storage']\n",
      "['Android 8']\n",
      "['4G']\n",
      "['4.2']\n",
      "['1,330']\n"
     ]
    }
   ],
   "source": [
    "b47=\"https://www.amazon.in/Vivo-Y95-Storage-Additional-Exchange/dp/B07KMHK4SB/ref=sr_1_146?crid=1B1LPWKU6GFCA&keywords=vivo&qid=1667413548&qu=eyJxc2MiOiI2Ljg2IiwicXNhIjoiNi41NyIsInFzcCI6IjYuMTEifQ%3D%3D&sprefix=%2Caps%2C1062&sr=8-146\"\n",
    "details(b47,headers)"
   ]
  },
  {
   "cell_type": "code",
   "execution_count": 65,
   "id": "254bc7ab",
   "metadata": {},
   "outputs": [
    {
     "name": "stdout",
     "output_type": "stream",
     "text": [
      "['13MP', '8MP', '2MP', '16MP']\n",
      "['16.15 c']\n",
      "['5000mAH']\n",
      "12,500.\n",
      "['4GB', '64GB']\n",
      "['Vivo Y15']\n",
      "['Vivo Y15', '(Burgundy Red', 'GB RAM', 'GB Storage']\n",
      "['Android 9']\n",
      "['4G']\n",
      "['4.2']\n",
      "['6,326']\n"
     ]
    }
   ],
   "source": [
    "b48=\"https://www.amazon.in/Vivo-Burgundy-Storage-Additional-Exchange/dp/B07S7DJYWC/ref=sr_1_153?crid=1B1LPWKU6GFCA&keywords=vivo&qid=1667413548&qu=eyJxc2MiOiI2Ljg2IiwicXNhIjoiNi41NyIsInFzcCI6IjYuMTEifQ%3D%3D&sprefix=%2Caps%2C1062&sr=8-153\"\n",
    "details(b48,headers)"
   ]
  },
  {
   "cell_type": "code",
   "execution_count": 66,
   "id": "7b8c5233",
   "metadata": {},
   "outputs": [
    {
     "name": "stdout",
     "output_type": "stream",
     "text": [
      "['2MP', '8MP']\n",
      "['16.15 c']\n",
      "['5000mAH']\n",
      "11,500.\n",
      "['3GB', '64GB']\n",
      "['Vivo Y12']\n",
      "['Vivo Y12', '(Burgundy Red', 'GB RAM', 'GB Storage', 'Without Offer']\n",
      "['Android 9']\n",
      "['4G']\n",
      "['3.6']\n",
      "['37']\n"
     ]
    }
   ],
   "source": [
    "b49=\"https://www.amazon.in/Vivo-Burgundy-Storage-Without-Offer/dp/B07PTLD8SX/ref=sr_1_154?crid=1B1LPWKU6GFCA&keywords=vivo&qid=1667413548&qu=eyJxc2MiOiI2Ljg2IiwicXNhIjoiNi41NyIsInFzcCI6IjYuMTEifQ%3D%3D&sprefix=%2Caps%2C1062&sr=8-154\"\n",
    "details(b49,headers)"
   ]
  },
  {
   "cell_type": "code",
   "execution_count": 67,
   "id": "3a72c960",
   "metadata": {},
   "outputs": [],
   "source": [
    "# replace pro with ruby red\n",
    "# 'SE', '(Aquamarine Green'\n",
    "# pro with mystic black"
   ]
  },
  {
   "cell_type": "code",
   "execution_count": 68,
   "id": "62bb2071",
   "metadata": {},
   "outputs": [
    {
     "data": {
      "text/plain": [
       "44"
      ]
     },
     "execution_count": 68,
     "metadata": {},
     "output_type": "execute_result"
    }
   ],
   "source": [
    "len(storage)"
   ]
  },
  {
   "cell_type": "code",
   "execution_count": 69,
   "id": "e48e30d1",
   "metadata": {},
   "outputs": [
    {
     "name": "stdout",
     "output_type": "stream",
     "text": [
      "['128GB', '32GB', '64GB', '128GB', '64GB', '64GB', '128GB', '128GB', '64GB', '128GB', '32GB', '64GB', '32GB', '128GB', '128GB', '128GB', '64GB', '64GB', '128GB', '32GB', '128GB', '128GB', '64GB', '128GB', '128GB', '128GB', '128GB', '128GB', '128GB', '128GB', '64GB', '128GB', '64GB', '64GB', '128GB', '128GB', '128GB', '128GB', '32GB', '128GB', '128GB', '64GB', '64GB', '64GB']\n",
      "['50MP', '13MP', '13MP', '50MP', '13MP', '13MP', '50MP', '50MP', '13MP', '50MP', '13MP', '13MP', '8MP', '64MP', '50MP', '50MP', '13MP', '50MP', '64MP', '8MP', '50MP', '48MP', '13MP', '5 MP', '50MP', '64MP', '64MP', '64MP', '64MP', '50MP', '16MP', '48MP', '13MP', '13MP', '64MP', '48MP', '2MP', '108MP', '13MP', '48MP', '32MP', '13MP', '13MP', '2MP']\n",
      "['8MP', '8MP', '8MP', '16MP', '8MP', '5MP', '16MP', '44MP', '5MP', '8MP', '8MP', '8MP', '5MP', '8MP', '16MP', '8MP', '8MP', '8MP', '44MP', '5MP', '44MP', '32MP', '8MP', '8 MP', '8MP', '44MP', '16MP', '44MP', '16MP', '32MP', '16MP', '16 MP', '8MP', '8MP', '8MP', '16MP', '8MP', '8MP', '8MP', '32MP', '5MP', '20MP', '16MP', '8MP']\n",
      "['(Starlit Blue', 'Mystic Blue', '(Midnight Blue', '(Mirror Black', '(Diamond Glow', '(Drizzling Gold', '(Agate Black', '(Dancing Waves', '(Stellar Black', '(Metaverse Green', 'Wave Green', '(Mystic Blue', '(Sapphire Blue', '(Stardust Black', '(Dawn Gold', '(PearlWhite', '(Midnight Blue', '(Metaverse Green', '(Sunset Dazzle', '(Elegant Black', '(Moonlight Shadow', '(Mystic Black', '(Diamond Glow', '(Black', '(Midnight Blue', '(Arctic White', '(Deap Sea', '(Arctic White', '(Roman Black', '(Cosmic Black', '(Blazing Blue', '(Titanium Sapphire', '(Purist Blue', '(Nebula Purple', '(Sunset Melody', '(Ocean Blue', '(Prism Magic', '(Sunshine Gold', '(Ocean Blue', '(Aquamarine Green', '(Ruby Red', '(Starry Black', '(Burgundy Red', '(Burgundy Red']\n",
      "['vivo Y22', 'vivo Y15s', 'Vivo Y21', 'Vivo Y33T', 'Vivo Y21', 'vivo Y16', 'vivo Y35', 'Vivo Y75', 'vivo Y16', 'vivo Y22', 'Vivo Y15s', 'vivo Y15C', 'Vivo Y01', 'Vivo V23', 'vivo Y35', 'Vivo Y21T', 'Vivo Y21G', 'vivo Y22', 'Vivo V21', 'Vivo Y01', 'Vivo Y75', 'Vivo S1', 'Vivo Y21G', 'Vivo NEX', 'Vivo Y21T', 'Vivo V21', 'Vivo Y53s', 'Vivo V21', 'Vivo Y73', 'vivo X70', 'Vivo U20', 'Vivo Y51', 'VIVO Y20T', 'Vivo Y93', 'Vivo V20', 'Vivo Y31', 'Vivo Y72', 'Vivo V23', 'Vivo Y91', 'Vivo V20', 'Vivo V15', 'Vivo Y95', 'Vivo Y15', 'Vivo Y12']\n",
      "['6GB', '3GB', '4GB', '8GB', '4GB', '4GB', '8GB', '8GB', '4GB', '6GB', '3GB', '3GB', '2GB', '8GB', '8GB', '4GB', '4GB', '4GB', '8GB', '2GB', '8GB', '8GB', '4GB', '8GB', '4GB', '8GB', '8GB', '8GB', '8GB', '8GB', '4GB', '8GB', '6GB', '3GB', '8GB', '6GB', '8GB', '8GB', '2GB', '8GB', '6GB', '4GB', '4GB', '3GB']\n",
      "['4G', '2G', '4G', '4G', '4G', '4G', '4G', '4G', '4G', '4G', '2G', '4G', '4G', '5G', '4G', '4G', '4G', '4G', '5G', '4G', '4G', '4G', '4G', '4G', '4G', '5G', '4G', '5G', '4G', '5G', '4G', '4G', '4G', '4G', '5G', '4G', '5G', '5G', '4G', '4G', '4G', '4G', '4G', '4G']\n",
      "['5000mAh', '5000mAh', '5000mAh', '5000mAh', '5000mAh', '5000mAh', '5000mAh', '4050mAh', '5000mAh', '5000mAh', '5000mAh', '5000mAh', '5000mAh', '4200 mAh', '5000mAh', '5000mAh', '5000mAh', '5000mAh', '4000mAh', '5000mAh', '4050mAh', '5000mAh', '5000mAh', '4000 mAH', '5000mAh', '4000mAh', '5000mAh', '4000mAh', '4000mAh', '4450 mAh', '5000mAH', '5000mAH', '5000mAh', '4030mAH', '4000mAH', '5000mAH', '5000mAh', '4300 mAh', '4030mAH', '4100mAH', '5000mAh', '4030mAH', '5000mAH', '5000mAH']\n",
      "['16.63 cm', '16.55 cm', '16.55cm', '16.71cm', '16.55cm', '16.55 cm', '16.72 cm', '16.71cm', '16.55 cm', '16.63 cm', '16.55 cm', '16.55 cm', '16.53cm', '16.36 cm', '16.72 cm', '16.71cm', '16.53cm', '16.63 cm', '16.65cm', '16.53cm', '16.71cm', '16.20 c', '16.53cm', '16.74 c', '16.71cm', '16.65cm', '16.71cm', '16.65cm', '16.37cm', '16.66 cm', '16.58 c', '16.71 c', '16.55cm', '15.80 c', '16.37 c', '16.71 c', '16.71cm', '16.66 cm', '15.80 c', '16.37 c', '16.23cm', '15.798 c', '16.15 c', '16.15 c']\n",
      "['16,499.', '9,499.', '12,634.', '17,990.', '13,218.', '12,499.', '18,499.', '20,990.', '12,499.', '16,499.', '9,499.', '10,499.', '7,999.', '29,699.', '18,499.', '15,490.', '13,499.', '14,499.', '28,500.', '7,999.', '20,990.', '12,999.', '13,499.', '21,890.', '14,499.', '26,990.', '19,999.', '26,990.', '19,999.', '37,999.', '15,000.', '17,900.', '17,990.', '13,000.', '28,000.', '35,999.', '23,990.', '37,679.', '9,600.', '19,000.', '28,000.', '15,000.', '12,500.', '11,500.']\n",
      "['FunTouch OS 12', 'FunTouch OS 10', 'Android 11 ', 'Funtouch OS 12', 'Android 11 ', 'FunTouch OS 12', 'FunTouch OS 12', 'Funtouch OS 12', 'FunTouch OS 12', 'FunTouch OS 12', 'FunTouch OS 10', 'Funtouch OS 12', 'FunTouch OS 10', 'Android 12 ', 'FunTouch OS 12', 'Funtouch OS 12', 'Funtouch OS 12', 'FunTouch OS 12', 'Android 11 ', 'FunTouch OS 10', 'Funtouch OS 12', 'Android 9', 'Funtouch OS 12', 'Android 8', 'Funtouch OS 12', 'Android 11 ', 'Android 11 ', 'Android 11 ', 'Android 11 ', 'Android 11 ', 'Android 9', 'Android  ', 'Android 11', 'Android 8', 'Android 11 ', 'Funtouch OS 11', 'Android 11 ', 'Android 12 ', 'Android 8', 'Android  ', 'Android 9', 'Android 8', 'Android 9', 'Android 9']\n",
      "['3.6', '4.1', '4.1', '4.2', '4.1', '3.4', '4.1', '4.0', '3.4', '3.6', '4.1', '3.5', '3.8', '4.0', '4.1', '4.2', '4.1', '3.6', '4.2', '3.8', '4.0', '2.9', '4.1', '4.5', '4.2', '4.2', '4.2', '4.2', '4.3', '5.0', '4.3', '4.3', '4.3', '4.2', '4.3', '4.2', '4.1', '3.9', '4.2', '4.6', '4.3', '4.2', '4.2', '3.6']\n",
      "['28', '456', '4,282', '1,117', '4,282', '21', '90', '165', '21', '28', '456', '293', '95', '287', '90', '524', '4,282', '28', '1,870', '95', '165', '8', '4,282', '1,303', '524', '1,870', '2,090', '1,870', '2,643', '1', '26,270', '1,276', '249', '888', '3,600', '1,591', '1,438', '85', '280', '67', '9,312', '1,330', '6,326', '37']\n"
     ]
    }
   ],
   "source": [
    "print(storage)\n",
    "print(camera_px)\n",
    "print(self_px)\n",
    "print(colour)\n",
    "print(name)\n",
    "print(ram)\n",
    "print(tech)\n",
    "print(battery)\n",
    "print(display)\n",
    "print(price)\n",
    "print(os_sys)\n",
    "print(star_rate)\n",
    "print(user_rate)"
   ]
  },
  {
   "cell_type": "code",
   "execution_count": 70,
   "id": "b17b0c8c",
   "metadata": {},
   "outputs": [
    {
     "data": {
      "text/plain": [
       "44"
      ]
     },
     "execution_count": 70,
     "metadata": {},
     "output_type": "execute_result"
    }
   ],
   "source": [
    "len(price)"
   ]
  },
  {
   "cell_type": "code",
   "execution_count": 71,
   "id": "0eebd875",
   "metadata": {},
   "outputs": [
    {
     "data": {
      "text/plain": [
       "44"
      ]
     },
     "execution_count": 71,
     "metadata": {},
     "output_type": "execute_result"
    }
   ],
   "source": [
    "len(name)"
   ]
  },
  {
   "cell_type": "code",
   "execution_count": 72,
   "id": "7c2add84",
   "metadata": {},
   "outputs": [
    {
     "name": "stdout",
     "output_type": "stream",
     "text": [
      "['(Starlit Blue', 'Mystic Blue', '(Midnight Blue', '(Mirror Black', '(Diamond Glow', '(Drizzling Gold', '(Agate Black', '(Dancing Waves', '(Stellar Black', '(Metaverse Green', 'Wave Green', '(Mystic Blue', '(Sapphire Blue', '(Stardust Black', '(Dawn Gold', '(PearlWhite', '(Midnight Blue', '(Metaverse Green', '(Sunset Dazzle', '(Elegant Black', '(Moonlight Shadow', '(Mystic Black', '(Diamond Glow', '(Black', '(Midnight Blue', '(Arctic White', '(Deap Sea', '(Arctic White', '(Roman Black', '(Cosmic Black', '(Blazing Blue', '(Titanium Sapphire', '(Purist Blue', '(Nebula Purple', '(Sunset Melody', '(Ocean Blue', '(Prism Magic', '(Sunshine Gold', '(Ocean Blue', '(Aquamarine Green', '(Ruby Red', '(Starry Black', '(Burgundy Red', '(Burgundy Red']\n"
     ]
    }
   ],
   "source": [
    "print(colour)"
   ]
  },
  {
   "cell_type": "code",
   "execution_count": 73,
   "id": "5698cbc7",
   "metadata": {},
   "outputs": [],
   "source": [
    "colour=[i.replace(\"(\",\"\") for i in colour]"
   ]
  },
  {
   "cell_type": "code",
   "execution_count": 74,
   "id": "014e3aad",
   "metadata": {},
   "outputs": [
    {
     "name": "stdout",
     "output_type": "stream",
     "text": [
      "['50MP', '13MP', '13MP', '50MP', '13MP', '13MP', '50MP', '50MP', '13MP', '50MP', '13MP', '13MP', '8MP', '64MP', '50MP', '50MP', '13MP', '50MP', '64MP', '8MP', '50MP', '48MP', '13MP', '5 MP', '50MP', '64MP', '64MP', '64MP', '64MP', '50MP', '16MP', '48MP', '13MP', '13MP', '64MP', '48MP', '2MP', '108MP', '13MP', '48MP', '32MP', '13MP', '13MP', '2MP']\n"
     ]
    }
   ],
   "source": [
    "print(camera_px)"
   ]
  },
  {
   "cell_type": "code",
   "execution_count": 75,
   "id": "117e95cf",
   "metadata": {},
   "outputs": [],
   "source": [
    "ram=[i.replace(\"GB\",\"\") for i in ram]"
   ]
  },
  {
   "cell_type": "code",
   "execution_count": 76,
   "id": "f2a896c6",
   "metadata": {},
   "outputs": [],
   "source": [
    "camera_px=[i.replace(\"MP\",\"\") for i in camera_px]"
   ]
  },
  {
   "cell_type": "code",
   "execution_count": 77,
   "id": "c6885c8f",
   "metadata": {},
   "outputs": [
    {
     "name": "stdout",
     "output_type": "stream",
     "text": [
      "['8MP', '8MP', '8MP', '16MP', '8MP', '5MP', '16MP', '44MP', '5MP', '8MP', '8MP', '8MP', '5MP', '8MP', '16MP', '8MP', '8MP', '8MP', '44MP', '5MP', '44MP', '32MP', '8MP', '8 MP', '8MP', '44MP', '16MP', '44MP', '16MP', '32MP', '16MP', '16 MP', '8MP', '8MP', '8MP', '16MP', '8MP', '8MP', '8MP', '32MP', '5MP', '20MP', '16MP', '8MP']\n"
     ]
    }
   ],
   "source": [
    "print(self_px)"
   ]
  },
  {
   "cell_type": "code",
   "execution_count": 78,
   "id": "d8f383b5",
   "metadata": {},
   "outputs": [],
   "source": [
    "self_px=[i.replace(\"MP\",\"\") for i in self_px]"
   ]
  },
  {
   "cell_type": "code",
   "execution_count": 79,
   "id": "baa4ab40",
   "metadata": {},
   "outputs": [],
   "source": [
    "tech=[i.replace(\"G\",\"\") for i in tech]"
   ]
  },
  {
   "cell_type": "code",
   "execution_count": 80,
   "id": "e1c9459d",
   "metadata": {},
   "outputs": [],
   "source": [
    "battery=[i.replace(\"mAH\",\"\") for i in battery]\n",
    "battery=[i.replace(\"mAh\",\"\") for i in battery]"
   ]
  },
  {
   "cell_type": "code",
   "execution_count": 81,
   "id": "6b6a41c7",
   "metadata": {},
   "outputs": [],
   "source": [
    "price=[i.replace(\".\",\"\") for i in price]"
   ]
  },
  {
   "cell_type": "code",
   "execution_count": 82,
   "id": "170630c9",
   "metadata": {},
   "outputs": [
    {
     "name": "stdout",
     "output_type": "stream",
     "text": [
      "['16.63 cm', '16.55 cm', '16.55cm', '16.71cm', '16.55cm', '16.55 cm', '16.72 cm', '16.71cm', '16.55 cm', '16.63 cm', '16.55 cm', '16.55 cm', '16.53cm', '16.36 cm', '16.72 cm', '16.71cm', '16.53cm', '16.63 cm', '16.65cm', '16.53cm', '16.71cm', '16.20 c', '16.53cm', '16.74 c', '16.71cm', '16.65cm', '16.71cm', '16.65cm', '16.37cm', '16.66 cm', '16.58 c', '16.71 c', '16.55cm', '15.80 c', '16.37 c', '16.71 c', '16.71cm', '16.66 cm', '15.80 c', '16.37 c', '16.23cm', '15.798 c', '16.15 c', '16.15 c']\n"
     ]
    }
   ],
   "source": [
    "print(display)"
   ]
  },
  {
   "cell_type": "code",
   "execution_count": 83,
   "id": "fad6eceb",
   "metadata": {},
   "outputs": [],
   "source": [
    "display=[i.replace(\"cm\",\"\") for i in display]\n",
    "display=[i.replace(\"c\",\"\") for i in display]\n",
    "display=[i.replace(\" \",\"\") for i in display]"
   ]
  },
  {
   "cell_type": "code",
   "execution_count": 84,
   "id": "1d9bec69",
   "metadata": {},
   "outputs": [],
   "source": [
    "storage=[i.replace(\"GB\",\" \") for i in storage]"
   ]
  },
  {
   "cell_type": "code",
   "execution_count": 85,
   "id": "138abc43",
   "metadata": {},
   "outputs": [],
   "source": [
    "price=[i.replace(\",\",\"\") for i in price]\n",
    "user_rate=[i.replace(\",\",\"\") for i in user_rate]"
   ]
  },
  {
   "cell_type": "code",
   "execution_count": 86,
   "id": "5829481f",
   "metadata": {},
   "outputs": [],
   "source": [
    "storage=[float(i) for i in storage]\n",
    "camera_px=[int(i) for i in camera_px]\n",
    "self_px=[int(i) for i in self_px]\n",
    "ram=[float(i) for i in ram]\n",
    "tech=[float(i) for i in tech]\n",
    "battery=[float(i) for i in battery]\n",
    "display=[float(i) for i in display]\n",
    "price=[float(i) for i in price]\n",
    "star_rate=[float(i) for i in star_rate]\n",
    "user_rate=[float(i) for i in user_rate]"
   ]
  },
  {
   "cell_type": "code",
   "execution_count": 87,
   "id": "93129b30",
   "metadata": {},
   "outputs": [
    {
     "name": "stdout",
     "output_type": "stream",
     "text": [
      "[128.0, 32.0, 64.0, 128.0, 64.0, 64.0, 128.0, 128.0, 64.0, 128.0, 32.0, 64.0, 32.0, 128.0, 128.0, 128.0, 64.0, 64.0, 128.0, 32.0, 128.0, 128.0, 64.0, 128.0, 128.0, 128.0, 128.0, 128.0, 128.0, 128.0, 64.0, 128.0, 64.0, 64.0, 128.0, 128.0, 128.0, 128.0, 32.0, 128.0, 128.0, 64.0, 64.0, 64.0]\n",
      "[50, 13, 13, 50, 13, 13, 50, 50, 13, 50, 13, 13, 8, 64, 50, 50, 13, 50, 64, 8, 50, 48, 13, 5, 50, 64, 64, 64, 64, 50, 16, 48, 13, 13, 64, 48, 2, 108, 13, 48, 32, 13, 13, 2]\n",
      "[8, 8, 8, 16, 8, 5, 16, 44, 5, 8, 8, 8, 5, 8, 16, 8, 8, 8, 44, 5, 44, 32, 8, 8, 8, 44, 16, 44, 16, 32, 16, 16, 8, 8, 8, 16, 8, 8, 8, 32, 5, 20, 16, 8]\n",
      "['Starlit Blue', 'Mystic Blue', 'Midnight Blue', 'Mirror Black', 'Diamond Glow', 'Drizzling Gold', 'Agate Black', 'Dancing Waves', 'Stellar Black', 'Metaverse Green', 'Wave Green', 'Mystic Blue', 'Sapphire Blue', 'Stardust Black', 'Dawn Gold', 'PearlWhite', 'Midnight Blue', 'Metaverse Green', 'Sunset Dazzle', 'Elegant Black', 'Moonlight Shadow', 'Mystic Black', 'Diamond Glow', 'Black', 'Midnight Blue', 'Arctic White', 'Deap Sea', 'Arctic White', 'Roman Black', 'Cosmic Black', 'Blazing Blue', 'Titanium Sapphire', 'Purist Blue', 'Nebula Purple', 'Sunset Melody', 'Ocean Blue', 'Prism Magic', 'Sunshine Gold', 'Ocean Blue', 'Aquamarine Green', 'Ruby Red', 'Starry Black', 'Burgundy Red', 'Burgundy Red']\n",
      "['vivo Y22', 'vivo Y15s', 'Vivo Y21', 'Vivo Y33T', 'Vivo Y21', 'vivo Y16', 'vivo Y35', 'Vivo Y75', 'vivo Y16', 'vivo Y22', 'Vivo Y15s', 'vivo Y15C', 'Vivo Y01', 'Vivo V23', 'vivo Y35', 'Vivo Y21T', 'Vivo Y21G', 'vivo Y22', 'Vivo V21', 'Vivo Y01', 'Vivo Y75', 'Vivo S1', 'Vivo Y21G', 'Vivo NEX', 'Vivo Y21T', 'Vivo V21', 'Vivo Y53s', 'Vivo V21', 'Vivo Y73', 'vivo X70', 'Vivo U20', 'Vivo Y51', 'VIVO Y20T', 'Vivo Y93', 'Vivo V20', 'Vivo Y31', 'Vivo Y72', 'Vivo V23', 'Vivo Y91', 'Vivo V20', 'Vivo V15', 'Vivo Y95', 'Vivo Y15', 'Vivo Y12']\n",
      "[6.0, 3.0, 4.0, 8.0, 4.0, 4.0, 8.0, 8.0, 4.0, 6.0, 3.0, 3.0, 2.0, 8.0, 8.0, 4.0, 4.0, 4.0, 8.0, 2.0, 8.0, 8.0, 4.0, 8.0, 4.0, 8.0, 8.0, 8.0, 8.0, 8.0, 4.0, 8.0, 6.0, 3.0, 8.0, 6.0, 8.0, 8.0, 2.0, 8.0, 6.0, 4.0, 4.0, 3.0]\n",
      "[4.0, 2.0, 4.0, 4.0, 4.0, 4.0, 4.0, 4.0, 4.0, 4.0, 2.0, 4.0, 4.0, 5.0, 4.0, 4.0, 4.0, 4.0, 5.0, 4.0, 4.0, 4.0, 4.0, 4.0, 4.0, 5.0, 4.0, 5.0, 4.0, 5.0, 4.0, 4.0, 4.0, 4.0, 5.0, 4.0, 5.0, 5.0, 4.0, 4.0, 4.0, 4.0, 4.0, 4.0]\n",
      "[5000.0, 5000.0, 5000.0, 5000.0, 5000.0, 5000.0, 5000.0, 4050.0, 5000.0, 5000.0, 5000.0, 5000.0, 5000.0, 4200.0, 5000.0, 5000.0, 5000.0, 5000.0, 4000.0, 5000.0, 4050.0, 5000.0, 5000.0, 4000.0, 5000.0, 4000.0, 5000.0, 4000.0, 4000.0, 4450.0, 5000.0, 5000.0, 5000.0, 4030.0, 4000.0, 5000.0, 5000.0, 4300.0, 4030.0, 4100.0, 5000.0, 4030.0, 5000.0, 5000.0]\n",
      "[16.63, 16.55, 16.55, 16.71, 16.55, 16.55, 16.72, 16.71, 16.55, 16.63, 16.55, 16.55, 16.53, 16.36, 16.72, 16.71, 16.53, 16.63, 16.65, 16.53, 16.71, 16.2, 16.53, 16.74, 16.71, 16.65, 16.71, 16.65, 16.37, 16.66, 16.58, 16.71, 16.55, 15.8, 16.37, 16.71, 16.71, 16.66, 15.8, 16.37, 16.23, 15.798, 16.15, 16.15]\n",
      "[16499.0, 9499.0, 12634.0, 17990.0, 13218.0, 12499.0, 18499.0, 20990.0, 12499.0, 16499.0, 9499.0, 10499.0, 7999.0, 29699.0, 18499.0, 15490.0, 13499.0, 14499.0, 28500.0, 7999.0, 20990.0, 12999.0, 13499.0, 21890.0, 14499.0, 26990.0, 19999.0, 26990.0, 19999.0, 37999.0, 15000.0, 17900.0, 17990.0, 13000.0, 28000.0, 35999.0, 23990.0, 37679.0, 9600.0, 19000.0, 28000.0, 15000.0, 12500.0, 11500.0]\n",
      "['FunTouch OS 12', 'FunTouch OS 10', 'Android 11 ', 'Funtouch OS 12', 'Android 11 ', 'FunTouch OS 12', 'FunTouch OS 12', 'Funtouch OS 12', 'FunTouch OS 12', 'FunTouch OS 12', 'FunTouch OS 10', 'Funtouch OS 12', 'FunTouch OS 10', 'Android 12 ', 'FunTouch OS 12', 'Funtouch OS 12', 'Funtouch OS 12', 'FunTouch OS 12', 'Android 11 ', 'FunTouch OS 10', 'Funtouch OS 12', 'Android 9', 'Funtouch OS 12', 'Android 8', 'Funtouch OS 12', 'Android 11 ', 'Android 11 ', 'Android 11 ', 'Android 11 ', 'Android 11 ', 'Android 9', 'Android  ', 'Android 11', 'Android 8', 'Android 11 ', 'Funtouch OS 11', 'Android 11 ', 'Android 12 ', 'Android 8', 'Android  ', 'Android 9', 'Android 8', 'Android 9', 'Android 9']\n",
      "[3.6, 4.1, 4.1, 4.2, 4.1, 3.4, 4.1, 4.0, 3.4, 3.6, 4.1, 3.5, 3.8, 4.0, 4.1, 4.2, 4.1, 3.6, 4.2, 3.8, 4.0, 2.9, 4.1, 4.5, 4.2, 4.2, 4.2, 4.2, 4.3, 5.0, 4.3, 4.3, 4.3, 4.2, 4.3, 4.2, 4.1, 3.9, 4.2, 4.6, 4.3, 4.2, 4.2, 3.6]\n",
      "[28.0, 456.0, 4282.0, 1117.0, 4282.0, 21.0, 90.0, 165.0, 21.0, 28.0, 456.0, 293.0, 95.0, 287.0, 90.0, 524.0, 4282.0, 28.0, 1870.0, 95.0, 165.0, 8.0, 4282.0, 1303.0, 524.0, 1870.0, 2090.0, 1870.0, 2643.0, 1.0, 26270.0, 1276.0, 249.0, 888.0, 3600.0, 1591.0, 1438.0, 85.0, 280.0, 67.0, 9312.0, 1330.0, 6326.0, 37.0]\n"
     ]
    }
   ],
   "source": [
    "print(storage)\n",
    "print(camera_px)\n",
    "print(self_px)\n",
    "print(colour)\n",
    "print(name)\n",
    "print(ram)\n",
    "print(tech)\n",
    "print(battery)\n",
    "print(display)\n",
    "print(price)\n",
    "print(os_sys)\n",
    "print(star_rate)\n",
    "print(user_rate)"
   ]
  },
  {
   "cell_type": "code",
   "execution_count": 88,
   "id": "08ed4a74",
   "metadata": {},
   "outputs": [],
   "source": [
    "r2=pd.DataFrame({\"Name\":name,\"Colour\":colour,\"Storage\":storage,\"Battery\":battery,\n",
    "               \"Camera_Pixel\":camera_px,\"Selfie_cam_pixel\":self_px,\"Display_size\":display,\n",
    "                \"Technology\":tech,\"RAM\":ram,\"Operating_system\":os_sys,\n",
    "               \"Star_ratings\":star_rate,\"Users_rated\":user_rate,\"Price\":price})"
   ]
  },
  {
   "cell_type": "code",
   "execution_count": 89,
   "id": "0cfc4689",
   "metadata": {},
   "outputs": [
    {
     "data": {
      "text/html": [
       "<div>\n",
       "<style scoped>\n",
       "    .dataframe tbody tr th:only-of-type {\n",
       "        vertical-align: middle;\n",
       "    }\n",
       "\n",
       "    .dataframe tbody tr th {\n",
       "        vertical-align: top;\n",
       "    }\n",
       "\n",
       "    .dataframe thead th {\n",
       "        text-align: right;\n",
       "    }\n",
       "</style>\n",
       "<table border=\"1\" class=\"dataframe\">\n",
       "  <thead>\n",
       "    <tr style=\"text-align: right;\">\n",
       "      <th></th>\n",
       "      <th>Name</th>\n",
       "      <th>Colour</th>\n",
       "      <th>Storage</th>\n",
       "      <th>Battery</th>\n",
       "      <th>Camera_Pixel</th>\n",
       "      <th>Selfie_cam_pixel</th>\n",
       "      <th>Display_size</th>\n",
       "      <th>Technology</th>\n",
       "      <th>RAM</th>\n",
       "      <th>Operating_system</th>\n",
       "      <th>Star_ratings</th>\n",
       "      <th>Users_rated</th>\n",
       "      <th>Price</th>\n",
       "    </tr>\n",
       "  </thead>\n",
       "  <tbody>\n",
       "    <tr>\n",
       "      <th>0</th>\n",
       "      <td>vivo Y22</td>\n",
       "      <td>Starlit Blue</td>\n",
       "      <td>128.0</td>\n",
       "      <td>5000.0</td>\n",
       "      <td>50</td>\n",
       "      <td>8</td>\n",
       "      <td>16.63</td>\n",
       "      <td>4.0</td>\n",
       "      <td>6.0</td>\n",
       "      <td>FunTouch OS 12</td>\n",
       "      <td>3.6</td>\n",
       "      <td>28.0</td>\n",
       "      <td>16499.0</td>\n",
       "    </tr>\n",
       "    <tr>\n",
       "      <th>1</th>\n",
       "      <td>vivo Y15s</td>\n",
       "      <td>Mystic Blue</td>\n",
       "      <td>32.0</td>\n",
       "      <td>5000.0</td>\n",
       "      <td>13</td>\n",
       "      <td>8</td>\n",
       "      <td>16.55</td>\n",
       "      <td>2.0</td>\n",
       "      <td>3.0</td>\n",
       "      <td>FunTouch OS 10</td>\n",
       "      <td>4.1</td>\n",
       "      <td>456.0</td>\n",
       "      <td>9499.0</td>\n",
       "    </tr>\n",
       "    <tr>\n",
       "      <th>2</th>\n",
       "      <td>Vivo Y21</td>\n",
       "      <td>Midnight Blue</td>\n",
       "      <td>64.0</td>\n",
       "      <td>5000.0</td>\n",
       "      <td>13</td>\n",
       "      <td>8</td>\n",
       "      <td>16.55</td>\n",
       "      <td>4.0</td>\n",
       "      <td>4.0</td>\n",
       "      <td>Android 11</td>\n",
       "      <td>4.1</td>\n",
       "      <td>4282.0</td>\n",
       "      <td>12634.0</td>\n",
       "    </tr>\n",
       "    <tr>\n",
       "      <th>3</th>\n",
       "      <td>Vivo Y33T</td>\n",
       "      <td>Mirror Black</td>\n",
       "      <td>128.0</td>\n",
       "      <td>5000.0</td>\n",
       "      <td>50</td>\n",
       "      <td>16</td>\n",
       "      <td>16.71</td>\n",
       "      <td>4.0</td>\n",
       "      <td>8.0</td>\n",
       "      <td>Funtouch OS 12</td>\n",
       "      <td>4.2</td>\n",
       "      <td>1117.0</td>\n",
       "      <td>17990.0</td>\n",
       "    </tr>\n",
       "    <tr>\n",
       "      <th>4</th>\n",
       "      <td>Vivo Y21</td>\n",
       "      <td>Diamond Glow</td>\n",
       "      <td>64.0</td>\n",
       "      <td>5000.0</td>\n",
       "      <td>13</td>\n",
       "      <td>8</td>\n",
       "      <td>16.55</td>\n",
       "      <td>4.0</td>\n",
       "      <td>4.0</td>\n",
       "      <td>Android 11</td>\n",
       "      <td>4.1</td>\n",
       "      <td>4282.0</td>\n",
       "      <td>13218.0</td>\n",
       "    </tr>\n",
       "    <tr>\n",
       "      <th>5</th>\n",
       "      <td>vivo Y16</td>\n",
       "      <td>Drizzling Gold</td>\n",
       "      <td>64.0</td>\n",
       "      <td>5000.0</td>\n",
       "      <td>13</td>\n",
       "      <td>5</td>\n",
       "      <td>16.55</td>\n",
       "      <td>4.0</td>\n",
       "      <td>4.0</td>\n",
       "      <td>FunTouch OS 12</td>\n",
       "      <td>3.4</td>\n",
       "      <td>21.0</td>\n",
       "      <td>12499.0</td>\n",
       "    </tr>\n",
       "    <tr>\n",
       "      <th>6</th>\n",
       "      <td>vivo Y35</td>\n",
       "      <td>Agate Black</td>\n",
       "      <td>128.0</td>\n",
       "      <td>5000.0</td>\n",
       "      <td>50</td>\n",
       "      <td>16</td>\n",
       "      <td>16.72</td>\n",
       "      <td>4.0</td>\n",
       "      <td>8.0</td>\n",
       "      <td>FunTouch OS 12</td>\n",
       "      <td>4.1</td>\n",
       "      <td>90.0</td>\n",
       "      <td>18499.0</td>\n",
       "    </tr>\n",
       "    <tr>\n",
       "      <th>7</th>\n",
       "      <td>Vivo Y75</td>\n",
       "      <td>Dancing Waves</td>\n",
       "      <td>128.0</td>\n",
       "      <td>4050.0</td>\n",
       "      <td>50</td>\n",
       "      <td>44</td>\n",
       "      <td>16.71</td>\n",
       "      <td>4.0</td>\n",
       "      <td>8.0</td>\n",
       "      <td>Funtouch OS 12</td>\n",
       "      <td>4.0</td>\n",
       "      <td>165.0</td>\n",
       "      <td>20990.0</td>\n",
       "    </tr>\n",
       "    <tr>\n",
       "      <th>8</th>\n",
       "      <td>vivo Y16</td>\n",
       "      <td>Stellar Black</td>\n",
       "      <td>64.0</td>\n",
       "      <td>5000.0</td>\n",
       "      <td>13</td>\n",
       "      <td>5</td>\n",
       "      <td>16.55</td>\n",
       "      <td>4.0</td>\n",
       "      <td>4.0</td>\n",
       "      <td>FunTouch OS 12</td>\n",
       "      <td>3.4</td>\n",
       "      <td>21.0</td>\n",
       "      <td>12499.0</td>\n",
       "    </tr>\n",
       "    <tr>\n",
       "      <th>9</th>\n",
       "      <td>vivo Y22</td>\n",
       "      <td>Metaverse Green</td>\n",
       "      <td>128.0</td>\n",
       "      <td>5000.0</td>\n",
       "      <td>50</td>\n",
       "      <td>8</td>\n",
       "      <td>16.63</td>\n",
       "      <td>4.0</td>\n",
       "      <td>6.0</td>\n",
       "      <td>FunTouch OS 12</td>\n",
       "      <td>3.6</td>\n",
       "      <td>28.0</td>\n",
       "      <td>16499.0</td>\n",
       "    </tr>\n",
       "  </tbody>\n",
       "</table>\n",
       "</div>"
      ],
      "text/plain": [
       "        Name           Colour  Storage  Battery  Camera_Pixel  \\\n",
       "0   vivo Y22     Starlit Blue    128.0   5000.0            50   \n",
       "1  vivo Y15s      Mystic Blue     32.0   5000.0            13   \n",
       "2   Vivo Y21    Midnight Blue     64.0   5000.0            13   \n",
       "3  Vivo Y33T     Mirror Black    128.0   5000.0            50   \n",
       "4   Vivo Y21     Diamond Glow     64.0   5000.0            13   \n",
       "5   vivo Y16   Drizzling Gold     64.0   5000.0            13   \n",
       "6   vivo Y35      Agate Black    128.0   5000.0            50   \n",
       "7   Vivo Y75    Dancing Waves    128.0   4050.0            50   \n",
       "8   vivo Y16    Stellar Black     64.0   5000.0            13   \n",
       "9   vivo Y22  Metaverse Green    128.0   5000.0            50   \n",
       "\n",
       "   Selfie_cam_pixel  Display_size  Technology  RAM Operating_system  \\\n",
       "0                 8         16.63         4.0  6.0   FunTouch OS 12   \n",
       "1                 8         16.55         2.0  3.0   FunTouch OS 10   \n",
       "2                 8         16.55         4.0  4.0      Android 11    \n",
       "3                16         16.71         4.0  8.0   Funtouch OS 12   \n",
       "4                 8         16.55         4.0  4.0      Android 11    \n",
       "5                 5         16.55         4.0  4.0   FunTouch OS 12   \n",
       "6                16         16.72         4.0  8.0   FunTouch OS 12   \n",
       "7                44         16.71         4.0  8.0   Funtouch OS 12   \n",
       "8                 5         16.55         4.0  4.0   FunTouch OS 12   \n",
       "9                 8         16.63         4.0  6.0   FunTouch OS 12   \n",
       "\n",
       "   Star_ratings  Users_rated    Price  \n",
       "0           3.6         28.0  16499.0  \n",
       "1           4.1        456.0   9499.0  \n",
       "2           4.1       4282.0  12634.0  \n",
       "3           4.2       1117.0  17990.0  \n",
       "4           4.1       4282.0  13218.0  \n",
       "5           3.4         21.0  12499.0  \n",
       "6           4.1         90.0  18499.0  \n",
       "7           4.0        165.0  20990.0  \n",
       "8           3.4         21.0  12499.0  \n",
       "9           3.6         28.0  16499.0  "
      ]
     },
     "execution_count": 89,
     "metadata": {},
     "output_type": "execute_result"
    }
   ],
   "source": [
    "r2.head(10)"
   ]
  },
  {
   "cell_type": "code",
   "execution_count": 78,
   "id": "51f1c176",
   "metadata": {},
   "outputs": [
    {
     "data": {
      "text/plain": [
       "Name                 object\n",
       "Colour               object\n",
       "Storage             float64\n",
       "Battery             float64\n",
       "Camera_Pixel          int64\n",
       "Selfie_cam_pixel      int64\n",
       "Display_size        float64\n",
       "Technology          float64\n",
       "RAM                 float64\n",
       "Operating_system     object\n",
       "Star_ratings        float64\n",
       "Users_rated         float64\n",
       "Price               float64\n",
       "dtype: object"
      ]
     },
     "execution_count": 78,
     "metadata": {},
     "output_type": "execute_result"
    }
   ],
   "source": [
    "r2.dtypes"
   ]
  },
  {
   "cell_type": "code",
   "execution_count": 90,
   "id": "4cd841f2",
   "metadata": {},
   "outputs": [],
   "source": [
    "r2.to_csv(\"vivo_amazon.csv\")"
   ]
  },
  {
   "cell_type": "code",
   "execution_count": null,
   "id": "1f5cb9b2",
   "metadata": {},
   "outputs": [],
   "source": []
  },
  {
   "cell_type": "code",
   "execution_count": 88,
   "id": "3e7e4c2b",
   "metadata": {},
   "outputs": [
    {
     "ename": "NameError",
     "evalue": "name 'r1' is not defined",
     "output_type": "error",
     "traceback": [
      "\u001b[1;31m---------------------------------------------------------------------------\u001b[0m",
      "\u001b[1;31mNameError\u001b[0m                                 Traceback (most recent call last)",
      "Input \u001b[1;32mIn [88]\u001b[0m, in \u001b[0;36m<cell line: 1>\u001b[1;34m()\u001b[0m\n\u001b[1;32m----> 1\u001b[0m t\u001b[38;5;241m=\u001b[39mpd\u001b[38;5;241m.\u001b[39mconcat[\u001b[43mr1\u001b[49m,r2]\n",
      "\u001b[1;31mNameError\u001b[0m: name 'r1' is not defined"
     ]
    }
   ],
   "source": [
    "t=pd.concat[r1,r2]"
   ]
  },
  {
   "cell_type": "code",
   "execution_count": null,
   "id": "352bc0e0",
   "metadata": {},
   "outputs": [],
   "source": []
  }
 ],
 "metadata": {
  "kernelspec": {
   "display_name": "Python 3 (ipykernel)",
   "language": "python",
   "name": "python3"
  },
  "language_info": {
   "codemirror_mode": {
    "name": "ipython",
    "version": 3
   },
   "file_extension": ".py",
   "mimetype": "text/x-python",
   "name": "python",
   "nbconvert_exporter": "python",
   "pygments_lexer": "ipython3",
   "version": "3.9.12"
  }
 },
 "nbformat": 4,
 "nbformat_minor": 5
}
