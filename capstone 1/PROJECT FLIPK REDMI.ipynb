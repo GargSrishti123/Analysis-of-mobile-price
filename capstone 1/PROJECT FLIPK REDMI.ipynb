{
 "cells": [
  {
   "cell_type": "code",
   "execution_count": 54,
   "id": "2c5a222e",
   "metadata": {},
   "outputs": [],
   "source": [
    "import re\n",
    "import requests\n",
    "from bs4 import BeautifulSoup\n",
    "import pandas as pd"
   ]
  },
  {
   "cell_type": "code",
   "execution_count": 55,
   "id": "a96f64cd",
   "metadata": {},
   "outputs": [],
   "source": [
    "headers={\"User-Agent\": \"Mozilla/5.0 (Windows NT 10.0; Win64; x64) AppleWebKit/537.36 (KHTML, like Gecko) Chrome/106.0.0.0 Safari/537.36\"}"
   ]
  },
  {
   "cell_type": "code",
   "execution_count": 70,
   "id": "de83ddfe",
   "metadata": {},
   "outputs": [
    {
     "name": "stdout",
     "output_type": "stream",
     "text": [
      "<Response [200]>\n"
     ]
    },
    {
     "ename": "AttributeError",
     "evalue": "'NoneType' object has no attribute 'text'",
     "output_type": "error",
     "traceback": [
      "\u001b[1;31m---------------------------------------------------------------------------\u001b[0m",
      "\u001b[1;31mAttributeError\u001b[0m                            Traceback (most recent call last)",
      "Input \u001b[1;32mIn [70]\u001b[0m, in \u001b[0;36m<cell line: 6>\u001b[1;34m()\u001b[0m\n\u001b[0;32m      4\u001b[0m a\u001b[38;5;241m=\u001b[39mBeautifulSoup(res\u001b[38;5;241m.\u001b[39mcontent,\u001b[38;5;124m\"\u001b[39m\u001b[38;5;124mhtml.parser\u001b[39m\u001b[38;5;124m\"\u001b[39m)\n\u001b[0;32m      5\u001b[0m b\u001b[38;5;241m=\u001b[39ma\u001b[38;5;241m.\u001b[39mfind(\u001b[38;5;124m\"\u001b[39m\u001b[38;5;124mdiv\u001b[39m\u001b[38;5;124m\"\u001b[39m,attrs\u001b[38;5;241m=\u001b[39m{\u001b[38;5;124m\"\u001b[39m\u001b[38;5;124mclass\u001b[39m\u001b[38;5;124m\"\u001b[39m:\u001b[38;5;124m\"\u001b[39m\u001b[38;5;124m_4rR01T\u001b[39m\u001b[38;5;124m\"\u001b[39m})\n\u001b[1;32m----> 6\u001b[0m c\u001b[38;5;241m=\u001b[39m\u001b[43mb\u001b[49m\u001b[38;5;241;43m.\u001b[39;49m\u001b[43mtext\u001b[49m\n\u001b[0;32m      7\u001b[0m d\u001b[38;5;241m=\u001b[39m\u001b[38;5;124mr\u001b[39m\u001b[38;5;124m'\u001b[39m\u001b[38;5;124m[R,r,P][A-Za-z]+\u001b[39m\u001b[38;5;124m\\\u001b[39m\u001b[38;5;124ms?[A-Za-z0-9]+\u001b[39m\u001b[38;5;124m'\u001b[39m\n\u001b[0;32m      8\u001b[0m e\u001b[38;5;241m=\u001b[39mre\u001b[38;5;241m.\u001b[39mfindall(d,c)\n",
      "\u001b[1;31mAttributeError\u001b[0m: 'NoneType' object has no attribute 'text'"
     ]
    }
   ],
   "source": [
    "url=\"https://www.flipkart.com/redmi-10-pacific-blue-64-gb/p/itm0f2a6a2112b75?pid=MOBGC9GYCHQZK9GW&lid=LSTMOBGC9GYCHQZK9GW8N0WII&marketplace=FLIPKART&q=redmi+phones&store=tyy%2F4io&srno=s_1_1&otracker=search&otracker1=search&fm=organic&iid=fbb61592-62e4-4eea-9309-f2caa1f72ae3.MOBGC9GYCHQZK9GW.SEARCH&ppt=hp&ppn=homepage&ssid=4omn663vxs0000001668671177714&qH=a8a05b27fa56e036\"\n",
    "res=requests.get(url,headers=headers)\n",
    "print(res)\n",
    "a=BeautifulSoup(res.content,\"html.parser\")\n",
    "b=a.find(\"div\",attrs={\"class\":\"_4rR01T\"})\n",
    "#c=b.text\n",
    "d=r'[R,r,P][A-Za-z]+\\s?[A-Za-z0-9]+'\n",
    "e=re.findall(d,c)\n",
    "print(e)\n",
    "f=r'[(][A-Za-z]+\\s?[A-Za-z]+'\n",
    "g=re.findall(f,c)\n",
    "print(g)\n",
    "h=a.find(\"div\",attrs={\"class\":\"_2418kt\"})\n",
    "i=h.text\n",
    "j=r'[0-9]+\\s?[M][P]+'\n",
    "k=re.findall(j,i)\n",
    "print(k)\n",
    "l=r'[0-9]+\\s?[G][B]+'\n",
    "m=re.findall(l,i)\n",
    "print(m)\n",
    "n=r'[0-9]+\\s?[m,M][A][H,h]'\n",
    "o=re.findall(n,i)\n",
    "print(o)\n",
    "p=r'[0-9]+\\.[0-9]+\\s?[c,C][m,entimeters]+'\n",
    "q=re.findall(p,i)\n",
    "print(q)\n",
    "r=a.find(\"span\",attrs={\"class\":\"_2_R_DZ\"})\n",
    "s=r.text\n",
    "use=r'[0-9]*[,]*[0-9]+'\n",
    "uss=re.findall(use,s)\n",
    "print(uss)\n",
    "t=a.find(\"span\",attrs={\"class\":\"_1lRcqv\"})\n",
    "u=t.text\n",
    "print(u)\n",
    "v=a.find(\"div\",attrs={\"class\":\"_30jeq3 _16Jk6d\"})\n",
    "w=v.text\n",
    "print(w)\n"
   ]
  },
  {
   "cell_type": "code",
   "execution_count": null,
   "id": "d1199108",
   "metadata": {},
   "outputs": [],
   "source": []
  },
  {
   "cell_type": "code",
   "execution_count": 71,
   "id": "401731aa",
   "metadata": {},
   "outputs": [],
   "source": [
    "def details(url,headers):\n",
    "    res=requests.get(url,headers=headers)\n",
    "    print(res)\n",
    "    a=BeautifulSoup(res.content,\"html.parser\")\n",
    "    b=a.find(\"span\",attrs={\"class\":\"B_NuCI\"})\n",
    "    c=b.text\n",
    "    d=r'[r,R,P][A-Za-z]+\\s?[A-Za-z0-9]+'\n",
    "    e=re.findall(d,c)\n",
    "    print(e)\n",
    "    f=r'[(][A-Za-z]+\\s?[A-Za-z]+'\n",
    "    g=re.findall(f,c)\n",
    "    print(g)\n",
    "\n",
    "    h=a.find(\"div\",attrs={\"class\":\"_2418kt\"})\n",
    "    i=h.text\n",
    "    j=r'[0-9]+\\s?[M][P]+'\n",
    "    k=re.findall(j,i)\n",
    "    print(k)\n",
    "    l=r'[0-9]+\\s?[G][B]+'\n",
    "    m=re.findall(l,i)\n",
    "    print(m)\n",
    "    n=r'[0-9]+\\s?[m,M][A][H,h]'\n",
    "    o=re.findall(n,i)\n",
    "    print(o)\n",
    "    p=r'[0-9]+\\.[0-9]+\\s?[c,C][m,entimeters]+'\n",
    "    q=re.findall(p,i)\n",
    "    print(q)\n",
    "    r=a.find(\"span\",attrs={\"class\":\"_2_R_DZ\"})\n",
    "    s=r.text\n",
    "    use=r'[0-9]*[,]*[0-9]+'\n",
    "    uss=re.findall(use,s)\n",
    "    print(uss)\n",
    "    t=a.find(\"span\",attrs={\"class\":\"_1lRcqv\"})\n",
    "    u=t.text\n",
    "    print(u)\n",
    "    v=a.find(\"div\",attrs={\"class\":\"_30jeq3 _16Jk6d\"})\n",
    "    w=v.text\n",
    "    print(w)\n",
    "    colour.append(f[0])\n",
    "    \n",
    "    \n",
    "    name.append(e[0])\n",
    "    colour.append(g[0])\n",
    "    camera_px.append(k[0])\n",
    "    self_px.append(k[-1])\n",
    "    ram.append(m[0])\n",
    "    storage.append(m[-1])\n",
    "    battery.append(o[0])\n",
    "    display.append(q[0])\n",
    "    user_rate.append(uss[0])\n",
    "    star_rate.append(u)\n",
    "    price.append(w)\n",
    "    \n",
    "\n",
    "    "
   ]
  },
  {
   "cell_type": "code",
   "execution_count": 72,
   "id": "d72ef4aa",
   "metadata": {},
   "outputs": [],
   "source": [
    "name=[]\n",
    "colour=[]\n",
    "camera_px=[]\n",
    "self_px=[]\n",
    "battery=[]\n",
    "ram=[]\n",
    "storage=[]\n",
    "display=[]\n",
    "user_rate=[]\n",
    "star_rate=[]\n",
    "price=[]"
   ]
  },
  {
   "cell_type": "code",
   "execution_count": 73,
   "id": "f3b4f915",
   "metadata": {},
   "outputs": [
    {
     "name": "stdout",
     "output_type": "stream",
     "text": [
      "<Response [200]>\n",
      "['REDMI 9i', 'RAM']\n",
      "['(Metallic Blue']\n",
      "['13MP', '5MP']\n",
      "['4 GB', '64 GB', '512 GB']\n",
      "['5000 mAh']\n",
      "['16.59 cm']\n",
      "['1,83', ',897', '10,641']\n",
      "4.3\n",
      "₹7,999\n"
     ]
    }
   ],
   "source": [
    "b=\"https://www.flipkart.com/redmi-9i-sport-metallic-blue-64-gb/p/itmeb95d0b4616cc?pid=MOBG6WQWQZZMGQCU&lid=LSTMOBG6WQWQZZMGQCUXA6EPW&marketplace=FLIPKART&q=redmi+phones&store=tyy%2F4io&srno=s_1_2&otracker=search&otracker1=search&fm=organic&iid=fbb61592-62e4-4eea-9309-f2caa1f72ae3.MOBG6WQWQZZMGQCU.SEARCH&ppt=hp&ppn=homepage&ssid=4omn663vxs0000001668671177714&qH=a8a05b27fa56e036\"\n",
    "details(b,headers)"
   ]
  },
  {
   "cell_type": "code",
   "execution_count": 74,
   "id": "8ba86997",
   "metadata": {},
   "outputs": [
    {
     "name": "stdout",
     "output_type": "stream",
     "text": [
      "<Response [200]>\n",
      "['REDMI 10', 'ribbean Green', 'RAM']\n",
      "['(Caribbean Green']\n",
      "['50MP', '2MP', '5MP']\n",
      "['4 GB', '64 GB']\n",
      "['6000 mAh']\n",
      "['17.02 cm']\n",
      "['1,41', ',524', '9,302']\n",
      "4.3\n",
      "₹9,999\n"
     ]
    }
   ],
   "source": [
    "b1=\"https://www.flipkart.com/redmi-10-caribbean-green-64-gb/p/itmbfb8dfcdd6e10?pid=MOBGC9GYQGGKWEU3&lid=LSTMOBGC9GYQGGKWEU3QIYEXM&marketplace=FLIPKART&q=redmi+phones&store=tyy%2F4io&srno=s_1_3&otracker=search&otracker1=search&fm=organic&iid=fbb61592-62e4-4eea-9309-f2caa1f72ae3.MOBGC9GYQGGKWEU3.SEARCH&ppt=hp&ppn=homepage&ssid=4omn663vxs0000001668671177714&qH=a8a05b27fa56e036\"\n",
    "details(b1,headers)"
   ]
  },
  {
   "cell_type": "code",
   "execution_count": 75,
   "id": "75a6b8c0",
   "metadata": {},
   "outputs": [
    {
     "name": "stdout",
     "output_type": "stream",
     "text": [
      "<Response [200]>\n",
      "['REDMI 10', 'Pacific Blue', 'RAM']\n",
      "['(Pacific Blue']\n",
      "['50MP', '2MP', '5MP']\n",
      "['4 GB', '64 GB']\n",
      "['6000 mAh']\n",
      "['17.02 cm']\n",
      "['1,41', ',524', '9,302']\n",
      "4.3\n",
      "₹9,999\n"
     ]
    }
   ],
   "source": [
    "b2=\"https://www.flipkart.com/redmi-10-pacific-blue-64-gb/p/itm0f2a6a2112b75?pid=MOBGC9GYCHQZK9GW&lid=LSTMOBGC9GYCHQZK9GW8N0WII&marketplace=FLIPKART&q=redmi+phones&store=tyy%2F4io&srno=s_1_1&otracker=search&otracker1=search&fm=organic&iid=fbb61592-62e4-4eea-9309-f2caa1f72ae3.MOBGC9GYCHQZK9GW.SEARCH&ppt=hp&ppn=homepage&ssid=4omn663vxs0000001668671177714&qH=a8a05b27fa56e036\"\n",
    "details(b2,headers)"
   ]
  },
  {
   "cell_type": "code",
   "execution_count": 76,
   "id": "7b5123b2",
   "metadata": {},
   "outputs": [
    {
     "name": "stdout",
     "output_type": "stream",
     "text": [
      "<Response [200]>\n",
      "['REDMI 10', 'RAM']\n",
      "['(Midnight Black']\n",
      "['50MP', '2MP', '5MP']\n",
      "['4 GB', '64 GB']\n",
      "['6000 mAh']\n",
      "['17.02 cm']\n",
      "['1,41', ',524', '9,302']\n",
      "4.3\n",
      "₹9,999\n"
     ]
    }
   ],
   "source": [
    "b3=\"https://www.flipkart.com/redmi-10-midnight-black-64-gb/p/itmd93641e4ebb47?pid=MOBGC9GYEBH3GZ4E&lid=LSTMOBGC9GYEBH3GZ4ESWAKTT&marketplace=FLIPKART&q=redmi+phones&store=tyy%2F4io&srno=s_1_4&otracker=search&otracker1=search&fm=organic&iid=fbb61592-62e4-4eea-9309-f2caa1f72ae3.MOBGC9GYEBH3GZ4E.SEARCH&ppt=hp&ppn=homepage&ssid=4omn663vxs0000001668671177714&qH=a8a05b27fa56e036\"\n",
    "details(b3,headers)"
   ]
  },
  {
   "cell_type": "code",
   "execution_count": 77,
   "id": "ce3cf6b4",
   "metadata": {},
   "outputs": [
    {
     "name": "stdout",
     "output_type": "stream",
     "text": [
      "<Response [200]>\n",
      "['REDMI 9i', 'ral Green', 'RAM']\n",
      "['(Coral Green']\n",
      "['13MP', '5MP']\n",
      "['4 GB', '64 GB', '512 GB']\n",
      "['5000 mAh']\n",
      "['16.59 cm']\n",
      "['1,83', ',897', '10,641']\n",
      "4.3\n",
      "₹7,999\n"
     ]
    }
   ],
   "source": [
    "b4=\"https://www.flipkart.com/redmi-9i-sport-coral-green-64-gb/p/itmb5e8d8186b602?pid=MOBG6WQWJRFZ5WDG&lid=LSTMOBG6WQWJRFZ5WDGJDTSKF&marketplace=FLIPKART&q=redmi+phones&store=tyy%2F4io&srno=s_1_5&otracker=search&otracker1=search&fm=organic&iid=fbb61592-62e4-4eea-9309-f2caa1f72ae3.MOBG6WQWJRFZ5WDG.SEARCH&ppt=hp&ppn=homepage&ssid=4omn663vxs0000001668671177714&qH=a8a05b27fa56e036\"\n",
    "details(b4,headers)"
   ]
  },
  {
   "cell_type": "code",
   "execution_count": 78,
   "id": "31760aef",
   "metadata": {},
   "outputs": [
    {
     "name": "stdout",
     "output_type": "stream",
     "text": [
      "<Response [200]>\n",
      "['REDMI 10', 'Prime', 'Phantom Black', 'RAM']\n",
      "['(Phantom Black']\n",
      "['50MP', '8MP', '2MP', '2MP', '8MP']\n",
      "['6 GB', '128 GB', '512 GB']\n",
      "['6000 mAh']\n",
      "['16.51 cm']\n",
      "['45']\n",
      "4.1\n",
      "₹12,999\n"
     ]
    }
   ],
   "source": [
    "b5=\"https://www.flipkart.com/redmi-10-prime-phantom-black-128-gb/p/itm9377b4c936baa?pid=MOBG6RGPPXQFYJ4R&lid=LSTMOBG6RGPPXQFYJ4RW9POLT&marketplace=FLIPKART&q=redmi+phones&store=tyy%2F4io&srno=s_1_6&otracker=search&otracker1=search&fm=organic&iid=fbb61592-62e4-4eea-9309-f2caa1f72ae3.MOBG6RGPPXQFYJ4R.SEARCH&ppt=hp&ppn=homepage&ssid=4omn663vxs0000001668671177714&qH=a8a05b27fa56e036\"\n",
    "details(b5,headers)"
   ]
  },
  {
   "cell_type": "code",
   "execution_count": 79,
   "id": "d59ac028",
   "metadata": {},
   "outputs": [
    {
     "name": "stdout",
     "output_type": "stream",
     "text": [
      "<Response [200]>\n",
      "['REDMI 9', 'ral Green', 'RAM']\n",
      "['(Coral Green']\n",
      "['13MP', '2MP', '5MP']\n",
      "['4 GB', '64 GB', '512 GB']\n",
      "['5000 mAh']\n",
      "['16.59 cm']\n",
      "['7,087', '502']\n",
      "4.2\n",
      "₹8,483\n"
     ]
    }
   ],
   "source": [
    "b6=\"https://www.flipkart.com/redmi-9-activ-coral-green-64-gb/p/itm329ae4068c8e8?pid=MOBG7FNG6HBQCPGY&lid=LSTMOBG7FNG6HBQCPGYODGH52&marketplace=FLIPKART&q=redmi+phones&store=tyy%2F4io&srno=s_1_7&otracker=search&otracker1=search&fm=organic&iid=fbb61592-62e4-4eea-9309-f2caa1f72ae3.MOBG7FNG6HBQCPGY.SEARCH&ppt=hp&ppn=homepage&ssid=4omn663vxs0000001668671177714&qH=a8a05b27fa56e036\"\n",
    "details(b6,headers)"
   ]
  },
  {
   "cell_type": "code",
   "execution_count": 80,
   "id": "fe8dd9c8",
   "metadata": {},
   "outputs": [
    {
     "name": "stdout",
     "output_type": "stream",
     "text": [
      "<Response [200]>\n",
      "['REDMI 9', 'ral Green', 'RAM']\n",
      "['(Coral Green']\n",
      "['13MP', '2MP', '5MP']\n",
      "['4 GB', '64 GB', '512 GB']\n",
      "['5000 mAh']\n",
      "['16.59 cm']\n",
      "['7,087', '502']\n",
      "4.2\n",
      "₹8,483\n"
     ]
    }
   ],
   "source": [
    "b7=\"https://www.flipkart.com/redmi-9-activ-coral-green-64-gb/p/itm329ae4068c8e8?pid=MOBG7FNG6HBQCPGY&lid=LSTMOBG7FNG6HBQCPGYODGH52&marketplace=FLIPKART&q=redmi+phones&store=tyy%2F4io&srno=s_1_7&otracker=search&otracker1=search&fm=organic&iid=fbb61592-62e4-4eea-9309-f2caa1f72ae3.MOBG7FNG6HBQCPGY.SEARCH&ppt=hp&ppn=homepage&ssid=4omn663vxs0000001668671177714&qH=a8a05b27fa56e036\"\n",
    "details(b7,headers)"
   ]
  },
  {
   "cell_type": "code",
   "execution_count": 81,
   "id": "32c5fde3",
   "metadata": {},
   "outputs": [
    {
     "name": "stdout",
     "output_type": "stream",
     "text": [
      "<Response [200]>\n",
      "['REDMI 9i', 'rbon Black', 'RAM']\n",
      "['(Carbon Black']\n",
      "['13MP', '5MP']\n",
      "['4 GB', '64 GB', '512 GB']\n",
      "['5000 mAh']\n",
      "['16.59 cm']\n",
      "['1,83', ',897', '10,641']\n",
      "4.3\n",
      "₹7,999\n"
     ]
    }
   ],
   "source": [
    "b8=\"https://www.flipkart.com/redmi-9i-sport-carbon-black-64-gb/p/itm17ed463dc779a?pid=MOBG6WQWRGRRDBH6&lid=LSTMOBG6WQWRGRRDBH6MSMKC8&marketplace=FLIPKART&q=redmi+phones&store=tyy%2F4io&srno=s_1_8&otracker=search&otracker1=search&fm=organic&iid=fbb61592-62e4-4eea-9309-f2caa1f72ae3.MOBG6WQWRGRRDBH6.SEARCH&ppt=hp&ppn=homepage&ssid=4omn663vxs0000001668671177714&qH=a8a05b27fa56e036\"\n",
    "details(b8,headers)"
   ]
  },
  {
   "cell_type": "code",
   "execution_count": 82,
   "id": "9e5c31c5",
   "metadata": {},
   "outputs": [
    {
     "name": "stdout",
     "output_type": "stream",
     "text": [
      "<Response [200]>\n",
      "['REDMI 9', 'Purple', 'RAM']\n",
      "['(Metallic Purple']\n",
      "['13MP', '2MP', '5MP']\n",
      "['4 GB', '64 GB', '512 GB']\n",
      "['5000 mAh']\n",
      "['16.59 cm']\n",
      "['7,087', '502']\n",
      "4.2\n",
      "₹8,449\n"
     ]
    }
   ],
   "source": [
    "b9=\"https://www.flipkart.com/redmi-9-activ-metallic-purple-64-gb/p/itm329ae4068c8e8?pid=MOBG7F5HVHHNVXGK&lid=LSTMOBG7F5HVHHNVXGKTV6F9K&marketplace=FLIPKART&q=redmi+phones&store=tyy%2F4io&srno=s_1_9&otracker=search&otracker1=search&fm=organic&iid=fbb61592-62e4-4eea-9309-f2caa1f72ae3.MOBG7F5HVHHNVXGK.SEARCH&ppt=hp&ppn=homepage&ssid=4omn663vxs0000001668671177714&qH=a8a05b27fa56e036\"\n",
    "details(b9,headers)"
   ]
  },
  {
   "cell_type": "code",
   "execution_count": 83,
   "id": "ffe5b118",
   "metadata": {},
   "outputs": [
    {
     "name": "stdout",
     "output_type": "stream",
     "text": [
      "<Response [200]>\n",
      "['REDMI 9', 'rbon Black', 'RAM']\n",
      "['(Carbon Black']\n",
      "['13MP', '2MP', '5MP']\n",
      "['4 GB', '64 GB', '512 GB']\n",
      "['5000 mAh']\n",
      "['16.59 cm']\n",
      "['7,087', '502']\n",
      "4.2\n",
      "₹8,114\n"
     ]
    }
   ],
   "source": [
    "b10=\"https://www.flipkart.com/redmi-9-activ-carbon-black-64-gb/p/itm329ae4068c8e8?pid=MOBG78A4FDDGCXGX&lid=LSTMOBG78A4FDDGCXGX0VY86J&marketplace=FLIPKART&q=redmi+phones&store=tyy%2F4io&srno=s_1_10&otracker=search&otracker1=search&fm=organic&iid=fbb61592-62e4-4eea-9309-f2caa1f72ae3.MOBG78A4FDDGCXGX.SEARCH&ppt=hp&ppn=homepage&ssid=4omn663vxs0000001668671177714&qH=a8a05b27fa56e036\"\n",
    "details(b10,headers)"
   ]
  },
  {
   "cell_type": "code",
   "execution_count": 84,
   "id": "ae856813",
   "metadata": {},
   "outputs": [
    {
     "name": "stdout",
     "output_type": "stream",
     "text": [
      "<Response [200]>\n",
      "['REDMI 10', 'RAM']\n",
      "['(Midnight Black']\n",
      "['50MP', '2MP', '5MP']\n",
      "['6 GB', '128 GB']\n",
      "['6000 mAh']\n",
      "['17.02 cm']\n",
      "['18,768', '1,423']\n",
      "4.2\n",
      "₹11,999\n"
     ]
    }
   ],
   "source": [
    "b11=\"https://www.flipkart.com/redmi-10-midnight-black-128-gb/p/itm68b3d276eda8c?pid=MOBGC9GYX2QQXKWK&lid=LSTMOBGC9GYX2QQXKWKZPFGVJ&marketplace=FLIPKART&q=redmi+phones&store=tyy%2F4io&srno=s_1_11&otracker=search&otracker1=search&fm=organic&iid=fbb61592-62e4-4eea-9309-f2caa1f72ae3.MOBGC9GYX2QQXKWK.SEARCH&ppt=hp&ppn=homepage&ssid=4omn663vxs0000001668671177714&qH=a8a05b27fa56e036\"\n",
    "details(b11,headers)"
   ]
  },
  {
   "cell_type": "code",
   "execution_count": 85,
   "id": "932cf8d1",
   "metadata": {},
   "outputs": [
    {
     "name": "stdout",
     "output_type": "stream",
     "text": [
      "<Response [200]>\n",
      "['Redmi 9A', 'RAM']\n",
      "['(Metallic Blue']\n",
      "['13MP', '5MP']\n",
      "['2 GB', '32 GB', '512 GB']\n",
      "['5000 mAh']\n",
      "['16.59 cm']\n",
      "['22,510', '1,731']\n",
      "4.2\n",
      "₹6,879\n"
     ]
    }
   ],
   "source": [
    "b12=\"https://www.flipkart.com/redmi-9a-sport-metallic-blue-32-gb/p/itm53bc6ebfe147b?pid=MOBG7GY6GGZ8XZGM&lid=LSTMOBG7GY6GGZ8XZGMRADVZI&marketplace=FLIPKART&q=redmi+phones&store=tyy%2F4io&srno=s_1_12&otracker=search&otracker1=search&fm=organic&iid=fbb61592-62e4-4eea-9309-f2caa1f72ae3.MOBG7GY6GGZ8XZGM.SEARCH&ppt=hp&ppn=homepage&ssid=4omn663vxs0000001668671177714&qH=a8a05b27fa56e036\"\n",
    "details(b12,headers)"
   ]
  },
  {
   "cell_type": "code",
   "execution_count": 86,
   "id": "714a5c9d",
   "metadata": {},
   "outputs": [
    {
     "name": "stdout",
     "output_type": "stream",
     "text": [
      "<Response [200]>\n",
      "['Redmi 9A', 'rbon Black', 'RAM']\n",
      "['(Carbon Black']\n",
      "['13MP', '5MP']\n",
      "['2 GB', '32 GB', '512 GB']\n",
      "['5000 mAh']\n",
      "['16.59 cm']\n",
      "['22,510', '1,731']\n",
      "4.2\n",
      "₹6,895\n"
     ]
    }
   ],
   "source": [
    "b13=\"https://www.flipkart.com/redmi-9a-sport-carbon-black-32-gb/p/itm53bc6ebfe147b?pid=MOBG7DGGNP5N2RXH&lid=LSTMOBG7DGGNP5N2RXHPHGAZG&marketplace=FLIPKART&q=redmi+phones&store=tyy%2F4io&srno=s_1_13&otracker=search&otracker1=search&fm=organic&iid=fbb61592-62e4-4eea-9309-f2caa1f72ae3.MOBG7DGGNP5N2RXH.SEARCH&ppt=hp&ppn=homepage&ssid=4omn663vxs0000001668671177714&qH=a8a05b27fa56e036\"\n",
    "details(b13,headers)"
   ]
  },
  {
   "cell_type": "code",
   "execution_count": 87,
   "id": "a2d110ea",
   "metadata": {},
   "outputs": [
    {
     "name": "stdout",
     "output_type": "stream",
     "text": [
      "<Response [200]>\n",
      "['REDMI 10', 'Prime', 'ral White', 'RAM']\n",
      "['(Astral White']\n",
      "['50MP', '8MP', '2MP', '2MP', '8MP']\n",
      "['6 GB', '128 GB', '512 GB']\n",
      "['6000 mAh']\n",
      "['16.51 cm']\n",
      "['7,308', '538']\n",
      "4.2\n",
      "₹12,999\n"
     ]
    }
   ],
   "source": [
    "b14=\"https://www.flipkart.com/redmi-10-prime-astral-white-128-gb/p/itm9377b4c936baa?pid=MOBG6RGJGTKTUVD9&lid=LSTMOBG6RGJGTKTUVD9EOROMH&marketplace=FLIPKART&q=redmi+phones&store=tyy%2F4io&srno=s_1_14&otracker=search&otracker1=search&fm=organic&iid=fbb61592-62e4-4eea-9309-f2caa1f72ae3.MOBG6RGJGTKTUVD9.SEARCH&ppt=hp&ppn=homepage&ssid=4omn663vxs0000001668671177714&qH=a8a05b27fa56e036\"\n",
    "details(b14,headers)"
   ]
  },
  {
   "cell_type": "code",
   "execution_count": 88,
   "id": "96aa0579",
   "metadata": {},
   "outputs": [
    {
     "name": "stdout",
     "output_type": "stream",
     "text": [
      "<Response [200]>\n",
      "['REDMI Note', 'Pro', 'ronze', 'RAM']\n",
      "['(Vintage Bronze']\n",
      "['64MP', '8MP', '5MP', '2MP', '16MP']\n",
      "['6 GB', '128 GB', '512 GB']\n",
      "['5020 mAh']\n",
      "['16.94 cm']\n",
      "['40,233', '3,754']\n",
      "4.3\n",
      "₹15,999\n"
     ]
    }
   ],
   "source": [
    "b15=\"https://www.flipkart.com/redmi-note-10-pro-vintage-bronze-128-gb/p/itmb4b28cb04dce7?pid=MOBGB725PZQYDN4D&lid=LSTMOBGB725PZQYDN4D6D3DUF&marketplace=FLIPKART&q=redmi+phones&store=tyy%2F4io&srno=s_1_15&otracker=search&otracker1=search&fm=organic&iid=fbb61592-62e4-4eea-9309-f2caa1f72ae3.MOBGB725PZQYDN4D.SEARCH&ppt=hp&ppn=homepage&ssid=4omn663vxs0000001668671177714&qH=a8a05b27fa56e036\"\n",
    "details(b15,headers)"
   ]
  },
  {
   "cell_type": "code",
   "execution_count": 89,
   "id": "184da41a",
   "metadata": {},
   "outputs": [
    {
     "name": "stdout",
     "output_type": "stream",
     "text": [
      "<Response [200]>\n",
      "['REDMI 10', 'Pacific Blue', 'RAM']\n",
      "['(Pacific Blue']\n",
      "['50MP', '2MP', '5MP']\n",
      "['6 GB', '128 GB']\n",
      "['6000 mAh']\n",
      "['17.02 cm']\n",
      "['18,768', '1,423']\n",
      "4.2\n",
      "₹11,999\n"
     ]
    }
   ],
   "source": [
    "b16=\"https://www.flipkart.com/redmi-10-pacific-blue-128-gb/p/itmeee56f3526c69?pid=MOBGC9GYMXA2XAH4&lid=LSTMOBGC9GYMXA2XAH4ZHA04T&marketplace=FLIPKART&q=redmi+phones&store=tyy%2F4io&srno=s_1_16&otracker=search&otracker1=search&fm=organic&iid=fbb61592-62e4-4eea-9309-f2caa1f72ae3.MOBGC9GYMXA2XAH4.SEARCH&ppt=hp&ppn=homepage&ssid=4omn663vxs0000001668671177714&qH=a8a05b27fa56e036\"\n",
    "details(b16,headers)"
   ]
  },
  {
   "cell_type": "code",
   "execution_count": 131,
   "id": "a809aeb2",
   "metadata": {},
   "outputs": [
    {
     "name": "stdout",
     "output_type": "stream",
     "text": [
      "<Response [200]>\n",
      "['OPPO A54']\n",
      "['(Starry Blue']\n",
      "['13MP', '2MP', '2MP', '16MP']\n",
      "['4 GB', '64 GB', '256 GB']\n",
      "['5000 mAh']\n",
      "['16.54 cm']\n",
      "['10,593', '654']\n",
      "4.4\n",
      "₹12,499\n"
     ]
    }
   ],
   "source": [
    "b17=\"https://www.flipkart.com/oppo-a54-starry-blue-64-gb/p/itm2c71eaacf710e?pid=MOBG23KTBRGUKRFG&lid=LSTMOBG23KTBRGUKRFGNYPTF9&marketplace=FLIPKART&q=oppo+mobiles&store=tyy%2F4io&srno=s_1_19&otracker=search&otracker1=search&fm=organic&iid=d6f0a722-6065-46c3-9b2b-ee5da375e8b7.MOBG23KTBRGUKRFG.SEARCH&ppt=hp&ppn=homepage&ssid=rl0pjbza0g0000001668611579955&qH=d3378adaa542146e\"\n",
    "details(b17,headers)"
   ]
  },
  {
   "cell_type": "code",
   "execution_count": 90,
   "id": "8c785147",
   "metadata": {},
   "outputs": [
    {
     "name": "stdout",
     "output_type": "stream",
     "text": [
      "<Response [200]>\n",
      "['REDMI Note', 'Purple', 'RAM']\n",
      "['(Thunder Purple']\n",
      "['64MP', '8MP', '2MP', '2MP', '13MP']\n",
      "['6 GB', '64 GB', '512 GB']\n",
      "['5000 mAh']\n",
      "['16.33 cm']\n",
      "['19,967', '1,150']\n",
      "4.3\n",
      "₹12,999\n"
     ]
    }
   ],
   "source": [
    "b18=\"https://www.flipkart.com/redmi-note-11-se-thunder-purple-64-gb/p/itmce37fc2eb4f23?pid=MOBGHBKHFEZDAGRK&lid=LSTMOBGHBKHFEZDAGRK96PWO1&marketplace=FLIPKART&q=redmi+phones&store=tyy%2F4io&srno=s_1_17&otracker=search&otracker1=search&fm=organic&iid=fbb61592-62e4-4eea-9309-f2caa1f72ae3.MOBGHBKHFEZDAGRK.SEARCH&ppt=hp&ppn=homepage&ssid=4omn663vxs0000001668671177714&qH=a8a05b27fa56e036\"\n",
    "details(b18,headers)"
   ]
  },
  {
   "cell_type": "code",
   "execution_count": 91,
   "id": "591919f5",
   "metadata": {},
   "outputs": [
    {
     "name": "stdout",
     "output_type": "stream",
     "text": [
      "<Response [200]>\n",
      "['REDMI Note', 'rost Blue', 'RAM']\n",
      "['(Bifrost Blue']\n",
      "['64MP', '8MP', '2MP', '2MP', '13MP']\n",
      "['6 GB', '64 GB', '512 GB']\n",
      "['5000 mAh']\n",
      "['16.33 cm']\n",
      "['19,967', '1,150']\n",
      "4.3\n",
      "₹12,999\n"
     ]
    }
   ],
   "source": [
    "b19=\"https://www.flipkart.com/redmi-note-11-se-bifrost-blue-64-gb/p/itm932a7d75da56c?pid=MOBGHBKHGMBWQCHE&lid=LSTMOBGHBKHGMBWQCHESERT3C&marketplace=FLIPKART&q=redmi+phones&store=tyy%2F4io&srno=s_1_18&otracker=search&otracker1=search&fm=organic&iid=fbb61592-62e4-4eea-9309-f2caa1f72ae3.MOBGHBKHGMBWQCHE.SEARCH&ppt=hp&ppn=homepage&ssid=4omn663vxs0000001668671177714&qH=a8a05b27fa56e036\"\n",
    "details(b19,headers)"
   ]
  },
  {
   "cell_type": "code",
   "execution_count": 92,
   "id": "a1249bc0",
   "metadata": {},
   "outputs": [
    {
     "name": "stdout",
     "output_type": "stream",
     "text": [
      "<Response [200]>\n",
      "['REDMI 10', 'ribbean Green', 'RAM']\n",
      "['(Caribbean Green']\n",
      "['50MP', '2MP', '5MP']\n",
      "['6 GB', '128 GB']\n",
      "['6000 mAh']\n",
      "['17.02 cm']\n",
      "['18,768', '1,423']\n",
      "4.2\n",
      "₹11,999\n"
     ]
    }
   ],
   "source": [
    "b20=\"https://www.flipkart.com/redmi-10-caribbean-green-128-gb/p/itm2389889c22bf0?pid=MOBGC9GYQVJHKH76&lid=LSTMOBGC9GYQVJHKH76ZPAFEC&marketplace=FLIPKART&q=redmi+phones&store=tyy%2F4io&srno=s_1_19&otracker=search&otracker1=search&fm=organic&iid=fbb61592-62e4-4eea-9309-f2caa1f72ae3.MOBGC9GYQVJHKH76.SEARCH&ppt=hp&ppn=homepage&ssid=4omn663vxs0000001668671177714&qH=a8a05b27fa56e036\"\n",
    "details(b20,headers)"
   ]
  },
  {
   "cell_type": "code",
   "execution_count": 93,
   "id": "0a7fcdb3",
   "metadata": {},
   "outputs": [
    {
     "name": "stdout",
     "output_type": "stream",
     "text": [
      "<Response [200]>\n",
      "['REDMI Note', 'RAM']\n",
      "['(Space Black']\n",
      "['64MP', '8MP', '2MP', '2MP', '13MP']\n",
      "['6 GB', '64 GB', '512 GB']\n",
      "['5000 mAh']\n",
      "['16.33 cm']\n",
      "['19,967', '1,150']\n",
      "4.3\n",
      "₹12,999\n"
     ]
    }
   ],
   "source": [
    "b21=\"https://www.flipkart.com/redmi-note-11-se-space-black-64-gb/p/itm59254e5b85149?pid=MOBGHBKHSZKHJPQH&lid=LSTMOBGHBKHSZKHJPQHLEULZD&marketplace=FLIPKART&q=redmi+phones&store=tyy%2F4io&srno=s_1_20&otracker=search&otracker1=search&fm=organic&iid=fbb61592-62e4-4eea-9309-f2caa1f72ae3.MOBGHBKHSZKHJPQH.SEARCH&ppt=hp&ppn=homepage&ssid=4omn663vxs0000001668671177714&qH=a8a05b27fa56e036\"\n",
    "details(b21,headers)"
   ]
  },
  {
   "cell_type": "code",
   "execution_count": 94,
   "id": "4df9f507",
   "metadata": {},
   "outputs": [
    {
     "name": "stdout",
     "output_type": "stream",
     "text": [
      "<Response [200]>\n",
      "['REDMI 10A', 'rcoal Black', 'RAM']\n",
      "['(Charcoal Black']\n",
      "['13MP']\n",
      "['4 GB', '64 GB']\n",
      "['5000 mAh']\n",
      "['16.59 cm']\n",
      "['3,940', '260']\n",
      "4.2\n",
      "₹8,688\n"
     ]
    }
   ],
   "source": [
    "b22=\"https://www.flipkart.com/redmi-10a-charcoal-black-64-gb/p/itmab0d50e81ec2e?pid=MOBGDRJ2N7HM7GZA&lid=LSTMOBGDRJ2N7HM7GZAICOUKE&marketplace=FLIPKART&q=redmi+phones&store=tyy%2F4io&srno=s_1_21&otracker=search&otracker1=search&fm=organic&iid=fbb61592-62e4-4eea-9309-f2caa1f72ae3.MOBGDRJ2N7HM7GZA.SEARCH&ppt=hp&ppn=homepage&ssid=4omn663vxs0000001668671177714&qH=a8a05b27fa56e036\"\n",
    "details(b22,headers)"
   ]
  },
  {
   "cell_type": "code",
   "execution_count": 95,
   "id": "ab8e4ebd",
   "metadata": {},
   "outputs": [
    {
     "name": "stdout",
     "output_type": "stream",
     "text": [
      "<Response [200]>\n",
      "['REDMI Note', 'RAM']\n",
      "['(Cosmic White']\n",
      "['64MP', '8MP', '2MP', '2MP', '13MP']\n",
      "['6 GB', '64 GB', '512 GB']\n",
      "['5000 mAh']\n",
      "['16.33 cm']\n",
      "['19,967', '1,150']\n",
      "4.3\n",
      "₹12,999\n"
     ]
    }
   ],
   "source": [
    "b23=\"https://www.flipkart.com/redmi-note-11-se-cosmic-white-64-gb/p/itm894dab106a9b1?pid=MOBGHBKHJFCAHP7C&lid=LSTMOBGHBKHJFCAHP7CNCDBBV&marketplace=FLIPKART&q=redmi+phones&store=tyy%2F4io&srno=s_1_23&otracker=search&otracker1=search&fm=organic&iid=fbb61592-62e4-4eea-9309-f2caa1f72ae3.MOBGHBKHJFCAHP7C.SEARCH&ppt=hp&ppn=homepage&ssid=4omn663vxs0000001668671177714&qH=a8a05b27fa56e036\"\n",
    "details(b23,headers)"
   ]
  },
  {
   "cell_type": "code",
   "execution_count": 96,
   "id": "1c30d4f9",
   "metadata": {},
   "outputs": [
    {
     "name": "stdout",
     "output_type": "stream",
     "text": [
      "<Response [200]>\n",
      "['REDMI 9i', 'RAM']\n",
      "['(Midnight Black']\n",
      "['13MP', '5MP']\n",
      "['4 GB', '64 GB', '512 GB']\n",
      "['5000 mAh']\n",
      "['16.59 cm']\n",
      "['5,73', ',911', '33,953']\n",
      "4.3\n",
      "₹8,999\n"
     ]
    }
   ],
   "source": [
    "b24=\"https://www.flipkart.com/redmi-9i-midnight-black-64-gb/p/itm9e3af42cbac00?pid=MOBFV8RYKWQ3HACE&lid=LSTMOBFV8RYKWQ3HACE8DXISG&marketplace=FLIPKART&q=redmi+phones&store=tyy%2F4io&srno=s_1_22&otracker=search&otracker1=search&fm=organic&iid=fbb61592-62e4-4eea-9309-f2caa1f72ae3.MOBFV8RYKWQ3HACE.SEARCH&ppt=hp&ppn=homepage&ssid=4omn663vxs0000001668671177714&qH=a8a05b27fa56e036\"\n",
    "details(b24,headers)"
   ]
  },
  {
   "cell_type": "code",
   "execution_count": 97,
   "id": "6d020fb8",
   "metadata": {},
   "outputs": [
    {
     "name": "stdout",
     "output_type": "stream",
     "text": [
      "<Response [200]>\n",
      "['REDMI 9', 'rbon Black', 'RAM']\n",
      "['(Carbon Black']\n",
      "['13MP', '2MP', '5MP']\n",
      "['6 GB', '128 GB', '512 GB']\n",
      "['5000 mAh']\n",
      "['16.59 cm']\n",
      "['3,961', '265']\n",
      "4.2\n",
      "₹10,499\n"
     ]
    }
   ],
   "source": [
    "b25=\"https://www.flipkart.com/redmi-9-activ-carbon-black-128-gb/p/itm90f778d87bade?pid=MOBG7FNGXYZDS6YY&lid=LSTMOBG7FNGXYZDS6YY15FXE6&marketplace=FLIPKART&q=redmi+phones&store=tyy%2F4io&srno=s_1_24&otracker=search&otracker1=search&fm=organic&iid=fbb61592-62e4-4eea-9309-f2caa1f72ae3.MOBG7FNGXYZDS6YY.SEARCH&ppt=hp&ppn=homepage&ssid=4omn663vxs0000001668671177714&qH=a8a05b27fa56e036\"\n",
    "details(b25,headers)"
   ]
  },
  {
   "cell_type": "code",
   "execution_count": 98,
   "id": "f1f8fe21",
   "metadata": {},
   "outputs": [
    {
     "name": "stdout",
     "output_type": "stream",
     "text": [
      "<Response [200]>\n",
      "['REDMI 10A', 'rey', 'RAM']\n",
      "['(Slate grey']\n",
      "['13MP']\n",
      "['4 GB', '64 GB']\n",
      "['5000 mAh']\n",
      "['16.59 cm']\n",
      "['5,167', '333']\n",
      "4.1\n",
      "₹8,663\n"
     ]
    }
   ],
   "source": [
    "b26=\"https://www.flipkart.com/redmi-10a-slate-grey-64-gb/p/itm755830dd54ae1?pid=MOBGDRGV2UAGZYZG&lid=LSTMOBGDRGV2UAGZYZGL1T686&marketplace=FLIPKART&q=redmi+phones&store=tyy%2F4io&srno=s_2_25&otracker=search&otracker1=search&fm=Search&iid=0b99c635-ed21-431c-9421-caf9899ee085.MOBGDRGV2UAGZYZG.SEARCH&ppt=sp&ppn=sp&qH=a8a05b27fa56e036\"\n",
    "details(b26,headers)"
   ]
  },
  {
   "cell_type": "code",
   "execution_count": 99,
   "id": "ff415e25",
   "metadata": {},
   "outputs": [
    {
     "name": "stdout",
     "output_type": "stream",
     "text": [
      "<Response [200]>\n",
      "['REDMI 10A', 'rcoal Black', 'RAM']\n",
      "['(Charcoal Black']\n",
      "['13MP']\n",
      "['3 GB', '32 GB']\n",
      "['5000 mAh']\n",
      "['16.59 cm']\n",
      "['1,139', '82']\n",
      "4.1\n",
      "₹7,789\n"
     ]
    }
   ],
   "source": [
    "b27=\"https://www.flipkart.com/redmi-10a-charcoal-black-32-gb/p/itm755830dd54ae1?pid=MOBGDRGHYWAAZDVD&lid=LSTMOBGDRGHYWAAZDVDUANHUR&marketplace=FLIPKART&q=redmi+phones&store=tyy%2F4io&srno=s_2_26&otracker=search&otracker1=search&fm=Search&iid=0b99c635-ed21-431c-9421-caf9899ee085.MOBGDRGHYWAAZDVD.SEARCH&ppt=sp&ppn=sp&qH=a8a05b27fa56e036\"\n",
    "details(b27,headers)"
   ]
  },
  {
   "cell_type": "code",
   "execution_count": 100,
   "id": "3e362f24",
   "metadata": {},
   "outputs": [
    {
     "name": "stdout",
     "output_type": "stream",
     "text": [
      "<Response [200]>\n",
      "['REDMI 10A', 'RAM']\n",
      "['(Sea Blue']\n",
      "['13MP']\n",
      "['4 GB', '64 GB']\n",
      "['5000 mAh']\n",
      "['16.59 cm']\n",
      "['3,940', '260']\n",
      "4.2\n",
      "₹8,603\n"
     ]
    }
   ],
   "source": [
    "b28=\"https://www.flipkart.com/redmi-10a-sea-blue-64-gb/p/itmab0d50e81ec2e?pid=MOBGE9E3TSXTNGHG&lid=LSTMOBGE9E3TSXTNGHGU1WQNG&marketplace=FLIPKART&q=redmi+phones&store=tyy%2F4io&srno=s_2_27&otracker=search&otracker1=search&fm=Search&iid=0b99c635-ed21-431c-9421-caf9899ee085.MOBGE9E3TSXTNGHG.SEARCH&ppt=sp&ppn=sp&qH=a8a05b27fa56e036\"\n",
    "details(b28,headers)"
   ]
  },
  {
   "cell_type": "code",
   "execution_count": 101,
   "id": "64602536",
   "metadata": {},
   "outputs": [
    {
     "name": "stdout",
     "output_type": "stream",
     "text": [
      "<Response [200]>\n",
      "['REDMI Note', 'Pro Max', 'ronze', 'RAM']\n",
      "['(Vintage Bronze']\n",
      "['108MP', '16MP']\n",
      "['6 GB', '128 GB', '512 GB']\n",
      "['5020 mAh']\n",
      "['16.94 cm']\n",
      "['15,462', '1,140']\n",
      "4.3\n",
      "₹17,999\n"
     ]
    }
   ],
   "source": [
    "b29=\"https://www.flipkart.com/redmi-note-10-pro-max-vintage-bronze-128-gb/p/itm02a7f06662d36?pid=MOBGB725DAFRFAVC&lid=LSTMOBGB725DAFRFAVCGJNXDL&marketplace=FLIPKART&q=redmi+phones&store=tyy%2F4io&srno=s_2_28&otracker=search&otracker1=search&fm=Search&iid=0b99c635-ed21-431c-9421-caf9899ee085.MOBGB725DAFRFAVC.SEARCH&ppt=sp&ppn=sp&qH=a8a05b27fa56e036\"\n",
    "details(b29,headers)"
   ]
  },
  {
   "cell_type": "code",
   "execution_count": 102,
   "id": "90698183",
   "metadata": {},
   "outputs": [
    {
     "name": "stdout",
     "output_type": "stream",
     "text": [
      "<Response [200]>\n",
      "['REDMI Note', 'Pro Max', 'rk Nebula', 'RAM']\n",
      "['(Dark Nebula']\n",
      "['108MP', '16MP']\n",
      "['6 GB', '128 GB', '512 GB']\n",
      "['5020 mAh']\n",
      "['16.94 cm']\n",
      "['15,462', '1,140']\n",
      "4.3\n",
      "₹17,999\n"
     ]
    }
   ],
   "source": [
    "b30=\"https://www.flipkart.com/redmi-note-10-pro-max-dark-nebula-128-gb/p/itm32dc939d5a40f?pid=MOBGF8VJY8ZFKPMK&lid=LSTMOBGF8VJY8ZFKPMKMYA2IZ&marketplace=FLIPKART&q=redmi+phones&store=tyy%2F4io&srno=s_2_29&otracker=search&otracker1=search&fm=Search&iid=0b99c635-ed21-431c-9421-caf9899ee085.MOBGF8VJY8ZFKPMK.SEARCH&ppt=sp&ppn=sp&qH=a8a05b27fa56e036\"\n",
    "details(b30,headers)"
   ]
  },
  {
   "cell_type": "code",
   "execution_count": 103,
   "id": "fbb5311c",
   "metadata": {},
   "outputs": [
    {
     "name": "stdout",
     "output_type": "stream",
     "text": [
      "<Response [200]>\n",
      "['REDMI 9', 'rbon Black', 'RAM']\n",
      "['(Carbon Black']\n",
      "['13MP']\n",
      "['4 GB', '64 GB']\n",
      "['5000 mAh']\n",
      "['16.59 cm']\n",
      "['7,087', '502']\n",
      "4.2\n",
      "₹8,690\n"
     ]
    }
   ],
   "source": [
    "b31=\"https://www.flipkart.com/redmi-9-activ-carbon-black-64-gb/p/itm329ae4068c8e8?pid=MOBGJFMMUM7MWSGS&lid=LSTMOBGJFMMUM7MWSGST6CPMQ&marketplace=FLIPKART&q=redmi+phones&store=tyy%2F4io&srno=s_2_30&otracker=search&otracker1=search&fm=Search&iid=0b99c635-ed21-431c-9421-caf9899ee085.MOBGJFMMUM7MWSGS.SEARCH&ppt=sp&ppn=sp&qH=a8a05b27fa56e036\"\n",
    "details(b31,headers)"
   ]
  },
  {
   "cell_type": "code",
   "execution_count": 104,
   "id": "085bd943",
   "metadata": {},
   "outputs": [
    {
     "name": "stdout",
     "output_type": "stream",
     "text": [
      "<Response [200]>\n",
      "['REDMI 9', 'Purple', 'RAM']\n",
      "['(Metallic Purple']\n",
      "['13MP', '2MP', '5MP']\n",
      "['6 GB', '128 GB', '512 GB']\n",
      "['5000 mAh']\n",
      "['16.59 cm']\n",
      "['3,961', '265']\n",
      "4.2\n",
      "₹10,499\n"
     ]
    }
   ],
   "source": [
    "b32=\"https://www.flipkart.com/redmi-9-activ-metallic-purple-128-gb/p/itm402b05b1ff23f?pid=MOBG7F5HFKDM23Q8&lid=LSTMOBG7F5HFKDM23Q81VKLPB&marketplace=FLIPKART&q=redmi+phones&store=tyy%2F4io&srno=s_2_31&otracker=search&otracker1=search&fm=Search&iid=0b99c635-ed21-431c-9421-caf9899ee085.MOBG7F5HFKDM23Q8.SEARCH&ppt=sp&ppn=sp&qH=a8a05b27fa56e036\"\n",
    "details(b32,headers)"
   ]
  },
  {
   "cell_type": "code",
   "execution_count": 105,
   "id": "b22bdfc1",
   "metadata": {},
   "outputs": [
    {
     "name": "stdout",
     "output_type": "stream",
     "text": [
      "<Response [200]>\n",
      "['REDMI 10A', 'rcoal Black', 'RAM']\n",
      "['(Charcoal Black']\n",
      "['13MP']\n",
      "['4 GB', '64 GB']\n",
      "['5000 mAh']\n",
      "['16.59 cm']\n",
      "['3,940', '260']\n",
      "4.2\n",
      "₹8,524\n"
     ]
    }
   ],
   "source": [
    "b33=\"https://www.flipkart.com/redmi-10a-charcoal-black-64-gb/p/itmab0d50e81ec2e?pid=MOBGDRJ2N7HM7GZA&lid=LSTMOBGDRJ2N7HM7GZAITSAKP&marketplace=FLIPKART&q=redmi+phones&store=tyy%2F4io&srno=s_2_32&otracker=search&otracker1=search&fm=Search&iid=0b99c635-ed21-431c-9421-caf9899ee085.MOBGDRJ2N7HM7GZA.SEARCH&ppt=sp&ppn=sp&qH=a8a05b27fa56e036\"\n",
    "details(b33,headers)"
   ]
  },
  {
   "cell_type": "code",
   "execution_count": 106,
   "id": "67183e7d",
   "metadata": {},
   "outputs": [
    {
     "name": "stdout",
     "output_type": "stream",
     "text": [
      "<Response [200]>\n",
      "['REDMI 9', 'ral Green', 'RAM']\n",
      "['(Coral Green']\n",
      "['13MP', '2MP', '5MP']\n",
      "['6 GB', '128 GB', '512 GB']\n",
      "['5000 mAh']\n",
      "['16.59 cm']\n",
      "['3,961', '265']\n",
      "4.2\n",
      "₹10,499\n"
     ]
    }
   ],
   "source": [
    "b34=\"https://www.flipkart.com/redmi-9-activ-coral-green-128-gb/p/itm25310a61a8d78?pid=MOBG7FNGKTZMF2FQ&lid=LSTMOBG7FNGKTZMF2FQ9YJJV0&marketplace=FLIPKART&q=redmi+phones&store=tyy%2F4io&srno=s_2_33&otracker=search&otracker1=search&fm=Search&iid=0b99c635-ed21-431c-9421-caf9899ee085.MOBG7FNGKTZMF2FQ.SEARCH&ppt=sp&ppn=sp&qH=a8a05b27fa56e036\"\n",
    "details(b34,headers)"
   ]
  },
  {
   "cell_type": "code",
   "execution_count": 107,
   "id": "08e613e8",
   "metadata": {},
   "outputs": [
    {
     "name": "stdout",
     "output_type": "stream",
     "text": [
      "<Response [200]>\n",
      "['REDMI 10', 'Prime', 'rost Blue', 'RAM']\n",
      "['(Bifrost Blue']\n",
      "['50MP', '8MP', '2MP', '2MP', '8MP']\n",
      "['4 GB', '64 GB', '512 GB']\n",
      "['6000 mAh']\n",
      "['16.51 cm']\n",
      "['11,186', '840']\n",
      "4.2\n",
      "₹12,499\n"
     ]
    }
   ],
   "source": [
    "b35=\"https://www.flipkart.com/redmi-10-prime-bifrost-blue-64-gb/p/itm4281c35aec89a?pid=MOBG6RGHNFKZUPRE&lid=LSTMOBG6RGHNFKZUPREQ7BEF0&marketplace=FLIPKART&q=redmi+phones&store=tyy%2F4io&srno=s_2_34&otracker=search&otracker1=search&fm=Search&iid=0b99c635-ed21-431c-9421-caf9899ee085.MOBG6RGHNFKZUPRE.SEARCH&ppt=sp&ppn=sp&qH=a8a05b27fa56e036\"\n",
    "details(b35,headers)"
   ]
  },
  {
   "cell_type": "code",
   "execution_count": 108,
   "id": "f4818372",
   "metadata": {},
   "outputs": [
    {
     "name": "stdout",
     "output_type": "stream",
     "text": [
      "<Response [200]>\n",
      "['REDMI 9i', 'RAM']\n",
      "['(Sea Blue']\n",
      "['13MP', '5MP']\n",
      "['4 GB', '64 GB', '512 GB']\n",
      "['5000 mAh']\n",
      "['16.59 cm']\n",
      "['5,73', ',911', '33,953']\n",
      "4.3\n",
      "₹8,999\n"
     ]
    }
   ],
   "source": [
    "b36=\"https://www.flipkart.com/redmi-9i-sea-blue-64-gb/p/itm1c59f8befb365?pid=MOBFV8RYTHGA8BY9&lid=LSTMOBFV8RYTHGA8BY99BCEHG&marketplace=FLIPKART&q=redmi+phones&store=tyy%2F4io&srno=s_2_35&otracker=search&otracker1=search&fm=Search&iid=0b99c635-ed21-431c-9421-caf9899ee085.MOBFV8RYTHGA8BY9.SEARCH&ppt=sp&ppn=sp&qH=a8a05b27fa56e036\"\n",
    "details(b36,headers)"
   ]
  },
  {
   "cell_type": "code",
   "execution_count": 109,
   "id": "19395752",
   "metadata": {},
   "outputs": [
    {
     "name": "stdout",
     "output_type": "stream",
     "text": [
      "<Response [200]>\n",
      "['REDMI Note', 'Pro Max', 'rk Night', 'RAM']\n",
      "['(Dark Night']\n",
      "['108MP', '16MP']\n",
      "['6 GB', '128 GB', '512 GB']\n",
      "['5020 mAh']\n",
      "['16.94 cm']\n",
      "['15,462', '1,140']\n",
      "4.3\n",
      "₹17,999\n"
     ]
    }
   ],
   "source": [
    "b37=\"https://www.flipkart.com/redmi-note-10-pro-max-dark-night-128-gb/p/itm3b34df1da19de?pid=MOBGB7255D2JWWKM&lid=LSTMOBGB7255D2JWWKMBHBQUP&marketplace=FLIPKART&q=redmi+phones&store=tyy%2F4io&srno=s_2_36&otracker=search&otracker1=search&fm=Search&iid=0b99c635-ed21-431c-9421-caf9899ee085.MOBGB7255D2JWWKM.SEARCH&ppt=sp&ppn=sp&qH=a8a05b27fa56e036\"\n",
    "details(b37,headers)"
   ]
  },
  {
   "cell_type": "code",
   "execution_count": 110,
   "id": "8e31410f",
   "metadata": {},
   "outputs": [
    {
     "name": "stdout",
     "output_type": "stream",
     "text": [
      "<Response [200]>\n",
      "['REDMI Note', 'reen', 'RAM']\n",
      "['(Aqua Green']\n",
      "['48MP', '8MP', '2MP', '2MP', '13MP']\n",
      "['4 GB', '64 GB', '512 GB']\n",
      "['5000 mAh']\n",
      "['16.33 cm']\n",
      "['13,251', '1,069']\n",
      "4.3\n",
      "₹12,990\n"
     ]
    }
   ],
   "source": [
    "b38=\"https://www.flipkart.com/redmi-note-10-aqua-green-64-gb/p/itm1820ea99832a9?pid=MOBGF47C9VZTMQPM&lid=LSTMOBGF47C9VZTMQPMZCUFQC&marketplace=FLIPKART&q=redmi+phones&store=tyy%2F4io&srno=s_2_37&otracker=search&otracker1=search&fm=Search&iid=0b99c635-ed21-431c-9421-caf9899ee085.MOBGF47C9VZTMQPM.SEARCH&ppt=sp&ppn=sp&qH=a8a05b27fa56e036\"\n",
    "details(b38,headers)"
   ]
  },
  {
   "cell_type": "code",
   "execution_count": 111,
   "id": "10432a4a",
   "metadata": {},
   "outputs": [
    {
     "name": "stdout",
     "output_type": "stream",
     "text": [
      "<Response [200]>\n",
      "['Redmi 9A', 'rbon Black', 'RAM']\n",
      "['(Carbon Black']\n",
      "['13MP', '5MP']\n",
      "['2 GB', '32 GB', '512 GB']\n",
      "['5000 mAh']\n",
      "['16.59 cm']\n",
      "['22,510', '1,731']\n",
      "4.2\n",
      "₹6,729\n"
     ]
    }
   ],
   "source": [
    "b39=\"https://www.flipkart.com/redmi-9a-sport-carbon-black-32-gb/p/itm53bc6ebfe147b?pid=MOBG7DGGNP5N2RXH&lid=LSTMOBG7DGGNP5N2RXH2YVA8O&marketplace=FLIPKART&q=redmi+phones&store=tyy%2F4io&srno=s_2_38&otracker=search&otracker1=search&fm=Search&iid=0b99c635-ed21-431c-9421-caf9899ee085.MOBG7DGGNP5N2RXH.SEARCH&ppt=sp&ppn=sp&qH=a8a05b27fa56e036\"\n",
    "details(b39,headers)"
   ]
  },
  {
   "cell_type": "code",
   "execution_count": 112,
   "id": "a73ef21c",
   "metadata": {},
   "outputs": [
    {
     "name": "stdout",
     "output_type": "stream",
     "text": [
      "<Response [200]>\n",
      "['Redmi 9A', 'ral Green', 'RAM']\n",
      "['(Coral Green']\n",
      "['13MP', '5MP']\n",
      "['2 GB', '32 GB', '512 GB']\n",
      "['5000 mAh']\n",
      "['16.59 cm']\n",
      "['22,510', '1,731']\n",
      "4.2\n",
      "₹6,669\n"
     ]
    }
   ],
   "source": [
    "b40=\"https://www.flipkart.com/redmi-9a-sport-coral-green-32-gb/p/itm53bc6ebfe147b?pid=MOBG7CHHZ2MUWAZ4&lid=LSTMOBG7CHHZ2MUWAZ4CUYCKA&marketplace=FLIPKART&q=redmi+phones&store=tyy%2F4io&srno=s_2_39&otracker=search&otracker1=search&fm=Search&iid=0b99c635-ed21-431c-9421-caf9899ee085.MOBG7CHHZ2MUWAZ4.SEARCH&ppt=sp&ppn=sp&qH=a8a05b27fa56e036\"\n",
    "details(b40,headers)"
   ]
  },
  {
   "cell_type": "code",
   "execution_count": 113,
   "id": "0427fb8b",
   "metadata": {},
   "outputs": [
    {
     "name": "stdout",
     "output_type": "stream",
     "text": [
      "<Response [200]>\n",
      "['REDMI A1', 'RAM']\n",
      "['(Light Blue']\n",
      "['5MP', '8MP']\n",
      "['2 GB', '32 GB']\n",
      "['5000 mAh']\n",
      "['16.56 cm']\n",
      "['639', '40']\n",
      "4.2\n",
      "₹6,796\n"
     ]
    }
   ],
   "source": [
    "b41=\"https://www.flipkart.com/redmi-a1-light-blue-32-gb/p/itmc25a41ed1907d?pid=MOBGHWHWHABHZSQM&lid=LSTMOBGHWHWHABHZSQMZ0UKTV&marketplace=FLIPKART&q=redmi+phones&store=tyy%2F4io&srno=s_2_40&otracker=search&otracker1=search&fm=Search&iid=0b99c635-ed21-431c-9421-caf9899ee085.MOBGHWHWHABHZSQM.SEARCH&ppt=sp&ppn=sp&qH=a8a05b27fa56e036\"\n",
    "details(b41,headers)"
   ]
  },
  {
   "cell_type": "code",
   "execution_count": 114,
   "id": "e5fa2bf5",
   "metadata": {},
   "outputs": [
    {
     "name": "stdout",
     "output_type": "stream",
     "text": [
      "<Response [200]>\n",
      "['REDMI 10', 'Prime 2022', 'Phantom Black', 'RAM']\n",
      "['(Phantom Black']\n",
      "['50MP']\n",
      "['4 GB', '64 GB']\n",
      "['6000 mAh']\n",
      "['16.51 cm']\n",
      "['2,678', '185']\n",
      "4.2\n",
      "₹11,984\n"
     ]
    }
   ],
   "source": [
    "b42=\"https://www.flipkart.com/redmi-10-prime-2022-phantom-black-64-gb/p/itmfb9b8e3166a46?pid=MOBGEGDXGZ7KQSYZ&lid=LSTMOBGEGDXGZ7KQSYZNFUDGX&marketplace=FLIPKART&q=redmi+phones&store=tyy%2F4io&srno=s_2_41&otracker=search&otracker1=search&fm=Search&iid=0b99c635-ed21-431c-9421-caf9899ee085.MOBGEGDXGZ7KQSYZ.SEARCH&ppt=sp&ppn=sp&qH=a8a05b27fa56e036\"\n",
    "details(b42,headers)"
   ]
  },
  {
   "cell_type": "code",
   "execution_count": 115,
   "id": "8501d2e6",
   "metadata": {},
   "outputs": [
    {
     "name": "stdout",
     "output_type": "stream",
     "text": [
      "<Response [200]>\n",
      "['REDMI Note', 'rizon Blue', 'RAM']\n",
      "['(Horizon Blue']\n",
      "['50MP']\n",
      "['4 GB', '64 GB']\n",
      "['50 mAh']\n",
      "['16.26 cm']\n",
      "['83', '8']\n",
      "4.3\n",
      "₹12,999\n"
     ]
    }
   ],
   "source": [
    "b43=\"https://www.flipkart.com/redmi-note-11-horizon-blue-64-gb/p/itme81102bba3838?pid=MOBGBH9G4HGUWHYB&lid=LSTMOBGBH9G4HGUWHYBNMX1PC&marketplace=FLIPKART&q=redmi+phones&store=tyy%2F4io&srno=s_2_42&otracker=search&otracker1=search&fm=Search&iid=0b99c635-ed21-431c-9421-caf9899ee085.MOBGBH9G4HGUWHYB.SEARCH&ppt=sp&ppn=sp&qH=a8a05b27fa56e036\"\n",
    "details(b43,headers)"
   ]
  },
  {
   "cell_type": "code",
   "execution_count": 116,
   "id": "645b0ee1",
   "metadata": {},
   "outputs": [
    {
     "name": "stdout",
     "output_type": "stream",
     "text": [
      "<Response [200]>\n",
      "['REDMI 10', 'Prime', 'rost Blue', 'RAM']\n",
      "['(Bifrost Blue']\n",
      "['50MP', '8MP', '2MP', '2MP', '8MP']\n",
      "['6 GB', '128 GB', '512 GB']\n",
      "['6000 mAh']\n",
      "['16.51 cm']\n",
      "['7,308', '538']\n",
      "4.2\n",
      "₹16,999\n"
     ]
    }
   ],
   "source": [
    "b44=\"https://www.flipkart.com/redmi-10-prime-bifrost-blue-128-gb/p/itm9377b4c936baa?pid=MOBG6PB47FHHGTZN&lid=LSTMOBG6PB47FHHGTZNLGCWAD&marketplace=FLIPKART&q=redmi+phones&store=tyy%2F4io&srno=s_2_43&otracker=search&otracker1=search&fm=Search&iid=0b99c635-ed21-431c-9421-caf9899ee085.MOBG6PB47FHHGTZN.SEARCH&ppt=sp&ppn=sp&qH=a8a05b27fa56e036\"\n",
    "details(b44,headers)"
   ]
  },
  {
   "cell_type": "code",
   "execution_count": 117,
   "id": "e15c6798",
   "metadata": {},
   "outputs": [
    {
     "name": "stdout",
     "output_type": "stream",
     "text": [
      "<Response [200]>\n",
      "['REDMI Note', 'RAM']\n",
      "['(Metallic Blue']\n",
      "['48MP', '2MP', '2MP', '8MP']\n",
      "['4 GB', '64 GB']\n",
      "['5000 mAh']\n",
      "['16.66 cm']\n",
      "['42,543', '3,073']\n",
      "4.3\n",
      "₹14,999\n"
     ]
    }
   ],
   "source": [
    "b45=\"https://www.flipkart.com/redmi-note-10t-5g-metallic-blue-64-gb/p/itm7a558068a9f23?pid=MOBGC7QFTGDSWQZN&lid=LSTMOBGC7QFTGDSWQZNQOXYJA&marketplace=FLIPKART&q=redmi+phones&store=tyy%2F4io&srno=s_2_44&otracker=search&otracker1=search&fm=Search&iid=0b99c635-ed21-431c-9421-caf9899ee085.MOBGC7QFTGDSWQZN.SEARCH&ppt=sp&ppn=sp&qH=a8a05b27fa56e036\"\n",
    "details(b45,headers)"
   ]
  },
  {
   "cell_type": "code",
   "execution_count": 118,
   "id": "c406b188",
   "metadata": {},
   "outputs": [
    {
     "name": "stdout",
     "output_type": "stream",
     "text": [
      "<Response [200]>\n",
      "['REDMI Note', 'romium White', 'RAM']\n",
      "['(Chromium White']\n",
      "['48MP', '2MP', '2MP', '8MP']\n",
      "['4 GB', '64 GB']\n",
      "['5000 mAh']\n",
      "['16.66 cm']\n",
      "['42,543', '3,073']\n",
      "4.3\n",
      "₹14,999\n"
     ]
    }
   ],
   "source": [
    "b46=\"https://www.flipkart.com/redmi-note-10t-5g-chromium-white-64-gb/p/itm6fcb4fcb76fb4?pid=MOBGC7QFEXHCY6NH&lid=LSTMOBGC7QFEXHCY6NHMP7RMC&marketplace=FLIPKART&q=redmi+phones&store=tyy%2F4io&srno=s_2_45&otracker=search&otracker1=search&fm=Search&iid=0b99c635-ed21-431c-9421-caf9899ee085.MOBGC7QFEXHCY6NH.SEARCH&ppt=sp&ppn=sp&qH=a8a05b27fa56e036\"\n",
    "details(b46,headers)"
   ]
  },
  {
   "cell_type": "code",
   "execution_count": 119,
   "id": "428fa922",
   "metadata": {},
   "outputs": [
    {
     "name": "stdout",
     "output_type": "stream",
     "text": [
      "<Response [200]>\n",
      "['REDMI Note', 'reen', 'RAM']\n",
      "['(Mint Green']\n",
      "['48MP', '2MP', '2MP', '8MP']\n",
      "['6 GB', '128 GB']\n",
      "['5000 mAh']\n",
      "['16.66 cm']\n",
      "['29,121', '2,252']\n",
      "4.2\n",
      "₹16,999\n"
     ]
    }
   ],
   "source": [
    "b47=\"https://www.flipkart.com/redmi-note-10t-5g-mint-green-128-gb/p/itm9aa44a6740f67?pid=MOBGC7QFT9EAHMFF&lid=LSTMOBGC7QFT9EAHMFFJ6VSAP&marketplace=FLIPKART&q=redmi+phones&store=tyy%2F4io&srno=s_2_46&otracker=search&otracker1=search&fm=Search&iid=0b99c635-ed21-431c-9421-caf9899ee085.MOBGC7QFT9EAHMFF.SEARCH&ppt=sp&ppn=sp&qH=a8a05b27fa56e036\"\n",
    "details(b47,headers)"
   ]
  },
  {
   "cell_type": "code",
   "execution_count": 120,
   "id": "35ef59c8",
   "metadata": {},
   "outputs": [
    {
     "name": "stdout",
     "output_type": "stream",
     "text": [
      "<Response [200]>\n",
      "['REDMI NOTE', 'rora Blue', 'RAM']\n",
      "['(Aurora Blue']\n",
      "['48MP']\n",
      "['4 GB', '64 GB']\n",
      "['5020 mAh']\n",
      "['16.94 cm']\n",
      "['2,057', '164']\n",
      "4.3\n",
      "₹13,250\n"
     ]
    }
   ],
   "source": [
    "b48=\"https://www.flipkart.com/redmi-note-10-lite-aurora-blue-64-gb/p/itm35fcbefde1d7e?pid=MOBG8YVCGGBWKX5T&lid=LSTMOBG8YVCGGBWKX5TIOUONV&marketplace=FLIPKART&q=redmi+phones&store=tyy%2F4io&srno=s_2_47&otracker=search&otracker1=search&fm=Search&iid=0b99c635-ed21-431c-9421-caf9899ee085.MOBG8YVCGGBWKX5T.SEARCH&ppt=sp&ppn=sp&qH=a8a05b27fa56e036\"\n",
    "details(b48,headers)"
   ]
  },
  {
   "cell_type": "code",
   "execution_count": 121,
   "id": "f63bd3dd",
   "metadata": {},
   "outputs": [
    {
     "name": "stdout",
     "output_type": "stream",
     "text": [
      "<Response [200]>\n",
      "['REDMI NOTE', 'rora Blue', 'RAM']\n",
      "['(Aurora Blue']\n",
      "['48MP']\n",
      "['6 GB', '128 GB']\n",
      "['5020 mAh']\n",
      "['16.94 cm']\n",
      "['804', '65']\n",
      "4.3\n",
      "₹15,989\n"
     ]
    }
   ],
   "source": [
    "b49=\"https://www.flipkart.com/redmi-note-10-lite-aurora-blue-128-gb/p/itm35fcbefde1d7e?pid=MOBG8YVAGZVXE86F&lid=LSTMOBG8YVAGZVXE86FB15B1P&marketplace=FLIPKART&q=redmi+phones&store=tyy%2F4io&srno=s_2_48&otracker=search&otracker1=search&fm=Search&iid=0b99c635-ed21-431c-9421-caf9899ee085.MOBG8YVAGZVXE86F.SEARCH&ppt=sp&ppn=sp&qH=a8a05b27fa56e036\"\n",
    "details(b49,headers)"
   ]
  },
  {
   "cell_type": "code",
   "execution_count": 166,
   "id": "766f04e0",
   "metadata": {},
   "outputs": [
    {
     "name": "stdout",
     "output_type": "stream",
     "text": [
      "<Response [200]>\n",
      "['OPPO A16k']\n",
      "['(Blue']\n",
      "['13MP', '5MP']\n",
      "['3 GB', '32 GB']\n",
      "['4230 mAh']\n",
      "['16.56 cm']\n",
      "['604', '37']\n",
      "4.3\n",
      "₹9,989\n"
     ]
    }
   ],
   "source": [
    "b50=\"https://www.flipkart.com/oppo-a16k-blue-32-gb/p/itmc4f804c2f1190?pid=MOBGAGNZABB4ZKZN&lid=LSTMOBGAGNZABB4ZKZND0FJPT&marketplace=FLIPKART&q=oppo+mobiles&store=tyy%2F4io&srno=s_3_57&otracker=search&otracker1=search&fm=Search&iid=082f0cf9-0a0f-4b8d-9521-792b67da406f.MOBGAGNZABB4ZKZN.SEARCH&ppt=sp&ppn=sp&qH=d3378adaa542146e\"\n",
    "details(b50,headers)"
   ]
  },
  {
   "cell_type": "code",
   "execution_count": 122,
   "id": "f3a7cd73",
   "metadata": {},
   "outputs": [
    {
     "name": "stdout",
     "output_type": "stream",
     "text": [
      "<Response [200]>\n",
      "['REDMI Note', 'rizon Blue', 'RAM']\n",
      "['(Horizon Blue']\n",
      "['108MP']\n",
      "['8 GB', '128 GB']\n",
      "['5000 mAh']\n",
      "['16.33 cm']\n",
      "['650', '64']\n",
      "4.1\n",
      "₹16,249\n"
     ]
    }
   ],
   "source": [
    "b51=\"https://www.flipkart.com/redmi-note-11s-horizon-blue-128-gb/p/itmb8642d8e0f169?pid=MOBGHXQY3A3VP79H&lid=LSTMOBGHXQY3A3VP79HFFGCSF&marketplace=FLIPKART&q=redmi+phones&store=tyy%2F4io&srno=s_3_72&otracker=search&otracker1=search&fm=Search&iid=77427425-c4b9-4c51-ae34-f364f1b0169f.MOBGHXQY3A3VP79H.SEARCH&ppt=sp&ppn=sp&qH=a8a05b27fa56e036\"\n",
    "details(b51,headers)"
   ]
  },
  {
   "cell_type": "code",
   "execution_count": 123,
   "id": "f5b89878",
   "metadata": {},
   "outputs": [
    {
     "name": "stdout",
     "output_type": "stream",
     "text": [
      "<Response [200]>\n",
      "['REDMI 10A', 'PORT', 'REY', 'RAM']\n",
      "['(SLATE GREY']\n",
      "['13MP']\n",
      "['6 GB', '128 GB']\n",
      "['5000 mAh']\n",
      "['16.59 cm']\n",
      "['335', '26']\n",
      "3.9\n",
      "₹11,345\n"
     ]
    }
   ],
   "source": [
    "b52=\"https://www.flipkart.com/redmi-10a-sport-slate-grey-128-gb/p/itm6482ef8ffd222?pid=MOBGGZ2TZSWN4PFY&lid=LSTMOBGGZ2TZSWN4PFYQHY02I&marketplace=FLIPKART&q=redmi+phones&store=tyy%2F4io&srno=s_3_71&otracker=search&otracker1=search&fm=Search&iid=77427425-c4b9-4c51-ae34-f364f1b0169f.MOBGGZ2TZSWN4PFY.SEARCH&ppt=sp&ppn=sp&qH=a8a05b27fa56e036\"\n",
    "details(b52,headers)"
   ]
  },
  {
   "cell_type": "code",
   "execution_count": 124,
   "id": "941ec3de",
   "metadata": {},
   "outputs": [
    {
     "name": "stdout",
     "output_type": "stream",
     "text": [
      "<Response [200]>\n",
      "['REDMI 10A', 'PORT', 'RAM']\n",
      "['(SEA BLUE']\n",
      "['13MP']\n",
      "['6 GB', '128 GB']\n",
      "['5000 mAh']\n",
      "['16.59 cm']\n",
      "['335', '26']\n",
      "3.9\n",
      "₹10,989\n"
     ]
    }
   ],
   "source": [
    "b53=\"https://www.flipkart.com/redmi-10a-sport-sea-blue-128-gb/p/itm6482ef8ffd222?pid=MOBGGZ35ZEJHNG83&lid=LSTMOBGGZ35ZEJHNG83LRYDRT&marketplace=FLIPKART&q=redmi+phones&store=tyy%2F4io&srno=s_3_70&otracker=search&otracker1=search&fm=Search&iid=77427425-c4b9-4c51-ae34-f364f1b0169f.MOBGGZ35ZEJHNG83.SEARCH&ppt=sp&ppn=sp&qH=a8a05b27fa56e036\"\n",
    "details(b53,headers)"
   ]
  },
  {
   "cell_type": "code",
   "execution_count": 125,
   "id": "ce5dbde3",
   "metadata": {},
   "outputs": [
    {
     "name": "stdout",
     "output_type": "stream",
     "text": [
      "<Response [200]>\n",
      "['REDMI Note', 'raphite Black', 'RAM']\n",
      "['(Graphite Black']\n",
      "['48MP', '2MP', '2MP', '8MP']\n",
      "['4 GB', '64 GB']\n",
      "['5000 mAh']\n",
      "['16.66 cm']\n",
      "['42,543', '3,073']\n",
      "4.3\n",
      "₹14,999\n"
     ]
    }
   ],
   "source": [
    "b54=\"https://www.flipkart.com/redmi-note-10t-5g-graphite-black-64-gb/p/itmf94ef48e3c622?pid=MOBGC7QFUMCGQSS8&lid=LSTMOBGC7QFUMCGQSS8XSHYCW&marketplace=FLIPKART&q=redmi+phones&store=tyy%2F4io&srno=s_3_69&otracker=search&otracker1=search&fm=Search&iid=77427425-c4b9-4c51-ae34-f364f1b0169f.MOBGC7QFUMCGQSS8.SEARCH&ppt=sp&ppn=sp&qH=a8a05b27fa56e036\"\n",
    "details(b54,headers)"
   ]
  },
  {
   "cell_type": "code",
   "execution_count": 127,
   "id": "6a5d25f9",
   "metadata": {},
   "outputs": [
    {
     "name": "stdout",
     "output_type": "stream",
     "text": [
      "<Response [200]>\n",
      "['REDMI A1', 'RAM']\n",
      "['(Light Blue']\n",
      "['8MP', '5MP']\n",
      "['3 GB', '32 GB', '512 GB']\n",
      "['5000 mAh']\n",
      "['16.56 cm']\n",
      "['145', '13']\n",
      "4\n",
      "₹8,499\n"
     ]
    }
   ],
   "source": [
    "b55=\"https://www.flipkart.com/redmi-a1-light-blue-32-gb/p/itmae4738195e03c?pid=MOBGGYBAGFD4H23B&lid=LSTMOBGGYBAGFD4H23BH7AGDY&marketplace=FLIPKART&q=redmi+phones&store=tyy%2F4io&srno=s_3_68&otracker=search&otracker1=search&fm=Search&iid=77427425-c4b9-4c51-ae34-f364f1b0169f.MOBGGYBAGFD4H23B.SEARCH&ppt=sp&ppn=sp&qH=a8a05b27fa56e036\"\n",
    "details(b55,headers)"
   ]
  },
  {
   "cell_type": "code",
   "execution_count": 128,
   "id": "ae98204d",
   "metadata": {},
   "outputs": [
    {
     "name": "stdout",
     "output_type": "stream",
     "text": [
      "<Response [200]>\n",
      "['REDMI 9', 'Prime', 'RAM']\n",
      "['(Space Blue']\n",
      "['13MP', '8MP', '5MP', '2MP', '8MP']\n",
      "['4 GB', '64 GB', '512 GB']\n",
      "['5020 mAh']\n",
      "['16.59 cm']\n",
      "['2,26', ',067', '15,257']\n",
      "4.4\n",
      "₹11,490\n"
     ]
    }
   ],
   "source": [
    "b56=\"https://www.flipkart.com/redmi-9-prime-space-blue-64-gb/p/itme138a7bc1c7f5?pid=MOBFUT9M84NDDYQN&lid=LSTMOBFUT9M84NDDYQNZHTMGP&marketplace=FLIPKART&q=redmi+phones&store=tyy%2F4io&srno=s_3_67&otracker=search&otracker1=search&fm=Search&iid=77427425-c4b9-4c51-ae34-f364f1b0169f.MOBFUT9M84NDDYQN.SEARCH&ppt=sp&ppn=sp&qH=a8a05b27fa56e036\"\n",
    "details(b56,headers)"
   ]
  },
  {
   "cell_type": "code",
   "execution_count": 129,
   "id": "75743415",
   "metadata": {},
   "outputs": [
    {
     "name": "stdout",
     "output_type": "stream",
     "text": [
      "<Response [200]>\n",
      "['REDMI Note', 'reen', 'RAM']\n",
      "['(Mint Green']\n",
      "['48MP', '2MP', '2MP', '8MP']\n",
      "['4 GB', '64 GB']\n",
      "['5000 mAh']\n",
      "['16.66 cm']\n",
      "['42,543', '3,073']\n",
      "4.3\n",
      "₹14,999\n"
     ]
    }
   ],
   "source": [
    "b57=\"https://www.flipkart.com/redmi-note-10t-5g-mint-green-64-gb/p/itm66267253b4a39?pid=MOBGC7QFNGX5K3RE&lid=LSTMOBGC7QFNGX5K3RETHQOEQ&marketplace=FLIPKART&q=redmi+phones&store=tyy%2F4io&srno=s_3_66&otracker=search&otracker1=search&fm=Search&iid=77427425-c4b9-4c51-ae34-f364f1b0169f.MOBGC7QFNGX5K3RE.SEARCH&ppt=sp&ppn=sp&qH=a8a05b27fa56e036\"\n",
    "details(b57,headers)"
   ]
  },
  {
   "cell_type": "code",
   "execution_count": 130,
   "id": "7003b6c5",
   "metadata": {},
   "outputs": [
    {
     "name": "stdout",
     "output_type": "stream",
     "text": [
      "<Response [200]>\n",
      "['Redmi Note', 'rburst White', 'RAM']\n",
      "['(Starburst White']\n",
      "['50MP']\n",
      "['6 GB', '128 GB']\n",
      "['5000 mAh']\n",
      "['16.33 cm']\n",
      "['7,929', '638']\n",
      "4.2\n",
      "₹15,958\n"
     ]
    }
   ],
   "source": [
    "b58=\"https://www.flipkart.com/redmi-note-11-starburst-white-128-gb/p/itm2a388ca843b21?pid=MOBGBGAYPKGYBUA2&lid=LSTMOBGBGAYPKGYBUA2VN50OM&marketplace=FLIPKART&q=redmi+phones&store=tyy%2F4io&srno=s_3_65&otracker=search&otracker1=search&fm=Search&iid=77427425-c4b9-4c51-ae34-f364f1b0169f.MOBGBGAYPKGYBUA2.SEARCH&ppt=sp&ppn=sp&qH=a8a05b27fa56e036\"\n",
    "details(b58,headers)"
   ]
  },
  {
   "cell_type": "code",
   "execution_count": 131,
   "id": "19ebd7c0",
   "metadata": {},
   "outputs": [
    {
     "name": "stdout",
     "output_type": "stream",
     "text": [
      "<Response [200]>\n",
      "['Redmi Note', 'RAM']\n",
      "['(Space Black']\n",
      "['50MP']\n",
      "['6 GB', '128 GB']\n",
      "['5000 mAh']\n",
      "['16.33 cm']\n",
      "['7,929', '638']\n",
      "4.2\n",
      "₹15,518\n"
     ]
    }
   ],
   "source": [
    "b59=\"https://www.flipkart.com/redmi-note-11-space-black-128-gb/p/itm2a388ca843b21?pid=MOBGBHCK9HJQZNBK&lid=LSTMOBGBHCK9HJQZNBKRPPZRZ&marketplace=FLIPKART&q=redmi+phones&store=tyy%2F4io&srno=s_3_64&otracker=search&otracker1=search&fm=Search&iid=77427425-c4b9-4c51-ae34-f364f1b0169f.MOBGBHCK9HJQZNBK.SEARCH&ppt=sp&ppn=sp&qH=a8a05b27fa56e036\"\n",
    "details(b59,headers)"
   ]
  },
  {
   "cell_type": "code",
   "execution_count": 132,
   "id": "7df49eb5",
   "metadata": {},
   "outputs": [
    {
     "name": "stdout",
     "output_type": "stream",
     "text": [
      "<Response [200]>\n",
      "['REDMI K50i', 'RAM']\n",
      "['(Stealth Black']\n",
      "['64MP']\n",
      "['6 GB', '128 GB']\n",
      "['5080 mAh']\n",
      "['16.76 cm']\n",
      "['607', '87']\n",
      "4.2\n",
      "₹23,990\n"
     ]
    }
   ],
   "source": [
    "b60=\"https://www.flipkart.com/redmi-k50i-5g-stealth-black-128-gb/p/itm7e8559c2fbde8?pid=MOBGGHCWCNXRPZVT&lid=LSTMOBGGHCWCNXRPZVTSR8S5V&marketplace=FLIPKART&q=redmi+phones&store=tyy%2F4io&srno=s_3_63&otracker=search&otracker1=search&fm=Search&iid=77427425-c4b9-4c51-ae34-f364f1b0169f.MOBGGHCWCNXRPZVT.SEARCH&ppt=sp&ppn=sp&qH=a8a05b27fa56e036\"\n",
    "details(b60,headers)"
   ]
  },
  {
   "cell_type": "code",
   "execution_count": 133,
   "id": "cceb6198",
   "metadata": {},
   "outputs": [
    {
     "name": "stdout",
     "output_type": "stream",
     "text": [
      "<Response [200]>\n",
      "['REDMI 10', 'Prime', 'ral White', 'RAM']\n",
      "['(Astral White']\n",
      "['50MP', '8MP', '2MP', '2MP', '8MP']\n",
      "['4 GB', '64 GB', '512 GB']\n",
      "['6000 mAh']\n",
      "['16.51 cm']\n",
      "['11,186', '840']\n",
      "4.2\n",
      "₹11,499\n"
     ]
    }
   ],
   "source": [
    "b61=\"https://www.flipkart.com/redmi-10-prime-astral-white-64-gb/p/itm4281c35aec89a?pid=MOBG6PFKNMNNKZVS&lid=LSTMOBG6PFKNMNNKZVSPPGNDJ&marketplace=FLIPKART&q=redmi+phones&store=tyy%2F4io&srno=s_3_62&otracker=search&otracker1=search&fm=Search&iid=77427425-c4b9-4c51-ae34-f364f1b0169f.MOBG6PFKNMNNKZVS.SEARCH&ppt=sp&ppn=sp&qH=a8a05b27fa56e036\"\n",
    "details(b61,headers)"
   ]
  },
  {
   "cell_type": "code",
   "execution_count": 134,
   "id": "e5dd703c",
   "metadata": {},
   "outputs": [
    {
     "name": "stdout",
     "output_type": "stream",
     "text": [
      "<Response [200]>\n",
      "['REDMI A1', 'reen', 'RAM']\n",
      "['(Light Green']\n",
      "['8MP', '5MP']\n",
      "['2 GB', '32 GB', '512 GB']\n",
      "['5000 mAh']\n",
      "['16.56 cm']\n",
      "['332', '21']\n",
      "4.2\n",
      "₹7,499\n"
     ]
    }
   ],
   "source": [
    "b62=\"https://www.flipkart.com/redmi-a1-light-green-32-gb/p/itmecc9e7ba0a1df?pid=MOBGGYBAHSAJVKHP&lid=LSTMOBGGYBAHSAJVKHPK58JXH&marketplace=FLIPKART&q=redmi+phones&store=tyy%2F4io&srno=s_3_61&otracker=search&otracker1=search&fm=Search&iid=77427425-c4b9-4c51-ae34-f364f1b0169f.MOBGGYBAHSAJVKHP.SEARCH&ppt=sp&ppn=sp&qH=a8a05b27fa56e036\"\n",
    "details(b62,headers)"
   ]
  },
  {
   "cell_type": "code",
   "execution_count": 135,
   "id": "486070fa",
   "metadata": {},
   "outputs": [
    {
     "name": "stdout",
     "output_type": "stream",
     "text": [
      "<Response [200]>\n",
      "['REDMI A1', 'RAM']\n",
      "['(Black']\n",
      "['8MP', '5MP']\n",
      "['3 GB', '32 GB', '512 GB']\n",
      "['5000 mAh']\n",
      "['16.56 cm']\n",
      "['145', '13']\n",
      "4\n",
      "₹8,499\n"
     ]
    }
   ],
   "source": [
    "b63=\"https://www.flipkart.com/redmi-a1-black-32-gb/p/itm7c286db936fbd?pid=MOBGGYBACTBNBYEG&lid=LSTMOBGGYBACTBNBYEGVXVVQL&marketplace=FLIPKART&q=redmi+phones&store=tyy%2F4io&srno=s_3_60&otracker=search&otracker1=search&fm=Search&iid=77427425-c4b9-4c51-ae34-f364f1b0169f.MOBGGYBACTBNBYEG.SEARCH&ppt=sp&ppn=sp&qH=a8a05b27fa56e036\"\n",
    "details(b63,headers)"
   ]
  },
  {
   "cell_type": "code",
   "execution_count": 136,
   "id": "933067d6",
   "metadata": {},
   "outputs": [
    {
     "name": "stdout",
     "output_type": "stream",
     "text": [
      "<Response [200]>\n",
      "['REDMI Note', 'RAM']\n",
      "['(Space Black']\n",
      "['50MP']\n",
      "['8 GB', '128 GB']\n",
      "['5000 mAh']\n",
      "['16.33 cm']\n",
      "['650', '64']\n",
      "4.1\n",
      "₹16,210\n"
     ]
    }
   ],
   "source": [
    "b64=\"https://www.flipkart.com/redmi-note-11s-space-black-128-gb/p/itmd5a2c088fa559?pid=MOBGHTCCFYX7ZRPN&lid=LSTMOBGHTCCFYX7ZRPNKNVPBX&marketplace=FLIPKART&q=redmi+phones&store=tyy%2F4io&srno=s_3_59&otracker=search&otracker1=search&fm=Search&iid=77427425-c4b9-4c51-ae34-f364f1b0169f.MOBGHTCCFYX7ZRPN.SEARCH&ppt=sp&ppn=sp&qH=a8a05b27fa56e036\"\n",
    "details(b64,headers)"
   ]
  },
  {
   "cell_type": "code",
   "execution_count": 137,
   "id": "cbd8ddb3",
   "metadata": {},
   "outputs": [
    {
     "name": "stdout",
     "output_type": "stream",
     "text": [
      "<Response [200]>\n",
      "['REDMI 9', 'Prime', 'rise Flare', 'RAM']\n",
      "['(Sunrise Flare']\n",
      "['13MP', '8MP', '5MP', '2MP', '8MP']\n",
      "['4 GB', '64 GB', '512 GB']\n",
      "['5020 mAh']\n",
      "['16.59 cm']\n",
      "['2,26', ',067', '15,257']\n",
      "4.4\n",
      "₹11,490\n"
     ]
    }
   ],
   "source": [
    "b65=\"https://www.flipkart.com/redmi-9-prime-sunrise-flare-64-gb/p/itmbd255e5962722?pid=MOBFUTBVDZHZSG2P&lid=LSTMOBFUTBVDZHZSG2P9OTEQO&marketplace=FLIPKART&q=redmi+phones&store=tyy%2F4io&srno=s_3_58&otracker=search&otracker1=search&fm=Search&iid=77427425-c4b9-4c51-ae34-f364f1b0169f.MOBFUTBVDZHZSG2P.SEARCH&ppt=sp&ppn=sp&qH=a8a05b27fa56e036\"\n",
    "details(b65,headers)"
   ]
  },
  {
   "cell_type": "code",
   "execution_count": 138,
   "id": "bce1a22e",
   "metadata": {},
   "outputs": [
    {
     "name": "stdout",
     "output_type": "stream",
     "text": [
      "<Response [200]>\n",
      "['REDMI Note', 'rizon Blue', 'RAM']\n",
      "['(Horizon Blue']\n",
      "['108MP']\n",
      "['6 GB', '128 GB']\n",
      "['5000 mAh']\n",
      "['16.33 cm']\n",
      "['1,782', '154']\n",
      "4.2\n",
      "₹15,653\n"
     ]
    }
   ],
   "source": [
    "b66=\"https://www.flipkart.com/redmi-note-11s-horizon-blue-128-gb/p/itmb8642d8e0f169?pid=MOBGBWYM4APMCKSQ&lid=LSTMOBGBWYM4APMCKSQKBQ3AC&marketplace=FLIPKART&q=redmi+phones&store=tyy%2F4io&srno=s_3_57&otracker=search&otracker1=search&fm=Search&iid=77427425-c4b9-4c51-ae34-f364f1b0169f.MOBGBWYM4APMCKSQ.SEARCH&ppt=sp&ppn=sp&qH=a8a05b27fa56e036\"\n",
    "details(b66,headers)"
   ]
  },
  {
   "cell_type": "code",
   "execution_count": 139,
   "id": "8bdaac97",
   "metadata": {},
   "outputs": [
    {
     "name": "stdout",
     "output_type": "stream",
     "text": [
      "<Response [200]>\n",
      "['REDMI Note', 'Polar White', 'RAM']\n",
      "['(Polar White']\n",
      "['108MP']\n",
      "['6 GB', '128 GB']\n",
      "['5000 mAh']\n",
      "['16.33 cm']\n",
      "['1,782', '154']\n",
      "4.2\n",
      "₹16,489\n"
     ]
    }
   ],
   "source": [
    "b67=\"https://www.flipkart.com/redmi-note-11s-polar-white-128-gb/p/itmb8642d8e0f169?pid=MOBGBWYMPKUZ5BVM&lid=LSTMOBGBWYMPKUZ5BVMLPUTRP&marketplace=FLIPKART&q=redmi+phones&store=tyy%2F4io&srno=s_3_56&otracker=search&otracker1=search&fm=Search&iid=77427425-c4b9-4c51-ae34-f364f1b0169f.MOBGBWYMPKUZ5BVM.SEARCH&ppt=sp&ppn=sp&qH=a8a05b27fa56e036\"\n",
    "details(b67,headers)"
   ]
  },
  {
   "cell_type": "code",
   "execution_count": 140,
   "id": "c16d5daa",
   "metadata": {},
   "outputs": [
    {
     "name": "stdout",
     "output_type": "stream",
     "text": [
      "<Response [200]>\n",
      "['REDMI Note', 'Polar White', 'RAM']\n",
      "['(Polar White']\n",
      "['108MP']\n",
      "['8 GB', '128 GB']\n",
      "['5000 mAh']\n",
      "['16.33 cm']\n",
      "['650', '64']\n",
      "4.1\n",
      "₹16,364\n"
     ]
    }
   ],
   "source": [
    "b68=\"https://www.flipkart.com/redmi-note-11s-polar-white-128-gb/p/itmb8642d8e0f169?pid=MOBGBWYMGFUXYGXR&lid=LSTMOBGBWYMGFUXYGXR06WMEQ&marketplace=FLIPKART&q=redmi+phones&store=tyy%2F4io&srno=s_3_55&otracker=search&otracker1=search&fm=Search&iid=77427425-c4b9-4c51-ae34-f364f1b0169f.MOBGBWYMGFUXYGXR.SEARCH&ppt=sp&ppn=sp&qH=a8a05b27fa56e036\"\n",
    "details(b68,headers)"
   ]
  },
  {
   "cell_type": "code",
   "execution_count": 141,
   "id": "d705dc93",
   "metadata": {},
   "outputs": [
    {
     "name": "stdout",
     "output_type": "stream",
     "text": [
      "<Response [200]>\n",
      "['REDMI Note', 'romium White', 'RAM']\n",
      "['(Chromium White']\n",
      "['48MP', '2MP', '2MP', '8MP']\n",
      "['4 GB', '64 GB']\n",
      "['5000 mAh']\n",
      "['16.66 cm']\n",
      "['42,543', '3,073']\n",
      "4.3\n",
      "₹14,999\n"
     ]
    }
   ],
   "source": [
    "b69=\"https://www.flipkart.com/redmi-note-10t-5g-chromium-white-64-gb/p/itm6fcb4fcb76fb4?pid=MOBGC7QFEXHCY6NH&lid=LSTMOBGC7QFEXHCY6NHMP7RMC&marketplace=FLIPKART&q=redmi+phones&store=tyy%2F4io&srno=s_3_54&otracker=search&otracker1=search&fm=Search&iid=77427425-c4b9-4c51-ae34-f364f1b0169f.MOBGC7QFEXHCY6NH.SEARCH&ppt=sp&ppn=sp&qH=a8a05b27fa56e036\"\n",
    "details(b69,headers)"
   ]
  },
  {
   "cell_type": "code",
   "execution_count": 142,
   "id": "56f90417",
   "metadata": {},
   "outputs": [
    {
     "name": "stdout",
     "output_type": "stream",
     "text": [
      "<Response [200]>\n",
      "['Redmi Note', 'rburst White', 'RAM']\n",
      "['(Starburst White']\n",
      "['50MP']\n",
      "['4 GB', '64 GB']\n",
      "['5000 mAh']\n",
      "['16.33 cm']\n",
      "['8,229', '760']\n",
      "4.2\n",
      "₹13,097\n"
     ]
    }
   ],
   "source": [
    "b70=\"https://www.flipkart.com/redmi-note-11-starburst-white-64-gb/p/itm2a388ca843b21?pid=MOBGHXQY3QFVDXFP&lid=LSTMOBGHXQY3QFVDXFPWXNP86&marketplace=FLIPKART&q=redmi+phones&store=tyy%2F4io&srno=s_3_52&otracker=search&otracker1=search&fm=Search&iid=77427425-c4b9-4c51-ae34-f364f1b0169f.MOBGHXQY3QFVDXFP.SEARCH&ppt=sp&ppn=sp&qH=a8a05b27fa56e036\"\n",
    "details(b70,headers)"
   ]
  },
  {
   "cell_type": "code",
   "execution_count": 143,
   "id": "ef13d672",
   "metadata": {},
   "outputs": [
    {
     "name": "stdout",
     "output_type": "stream",
     "text": [
      "<Response [200]>\n",
      "['REDMI Note', 'rdust White', 'RAM']\n",
      "['(Stardust White']\n",
      "['50MP']\n",
      "['6 GB', '128 GB']\n",
      "['5000 mAh']\n",
      "['16.76 cm']\n",
      "['4,932', '406']\n",
      "4.2\n",
      "₹16,270\n"
     ]
    }
   ],
   "source": [
    "b71=\"https://www.flipkart.com/redmi-note-11t-5g-stardust-white-128-gb/p/itm0dd08e65983e7?pid=MOBG9G37CUVZYMTW&lid=LSTMOBG9G37CUVZYMTWWDFDIR&marketplace=FLIPKART&q=redmi+phones&store=tyy%2F4io&srno=s_3_51&otracker=search&otracker1=search&fm=Search&iid=77427425-c4b9-4c51-ae34-f364f1b0169f.MOBG9G37CUVZYMTW.SEARCH&ppt=sp&ppn=sp&qH=a8a05b27fa56e036\"\n",
    "details(b71,headers)"
   ]
  },
  {
   "cell_type": "code",
   "execution_count": 144,
   "id": "8095ac21",
   "metadata": {},
   "outputs": [
    {
     "name": "stdout",
     "output_type": "stream",
     "text": [
      "<Response [200]>\n",
      "['REDMI Note', 'RAM']\n",
      "['(Deep Sea']\n",
      "['64MP', '8MP', '2MP', '2MP', '13MP']\n",
      "['6 GB', '64 GB', '512 GB']\n",
      "['5000 mAh']\n",
      "['16.33 cm']\n",
      "['80,647', '5,469']\n",
      "4.4\n",
      "₹14,999\n"
     ]
    }
   ],
   "source": [
    "b72=\"https://www.flipkart.com/redmi-note-10s-deep-sea-blue-64-gb/p/itmdd3b943d713b8?pid=MOBGAHD8GWKMFWFG&lid=LSTMOBGAHD8GWKMFWFGQXE9RS&marketplace=FLIPKART&q=redmi+phones&store=tyy%2F4io&srno=s_3_50&otracker=search&otracker1=search&fm=Search&iid=77427425-c4b9-4c51-ae34-f364f1b0169f.MOBGAHD8GWKMFWFG.SEARCH&ppt=sp&ppn=sp&qH=a8a05b27fa56e036\"\n",
    "details(b72,headers)"
   ]
  },
  {
   "cell_type": "code",
   "execution_count": 145,
   "id": "f0198a09",
   "metadata": {},
   "outputs": [
    {
     "name": "stdout",
     "output_type": "stream",
     "text": [
      "<Response [200]>\n",
      "['REDMI Note', 'RAM']\n",
      "['(Deep Sea']\n",
      "['64MP', '8MP', '2MP', '2MP', '13MP']\n",
      "['6 GB', '64 GB', '512 GB']\n",
      "['5000 mAh']\n",
      "['16.33 cm']\n",
      "['80,647', '5,469']\n",
      "4.4\n",
      "₹14,999\n"
     ]
    }
   ],
   "source": [
    "b73=\"https://www.flipkart.com/redmi-note-10s-deep-sea-blue-64-gb/p/itmdd3b943d713b8?pid=MOBGAHD8GWKMFWFG&lid=LSTMOBGAHD8GWKMFWFGQXE9RS&marketplace=FLIPKART&q=redmi+phones&store=tyy%2F4io&srno=s_3_50&otracker=search&otracker1=search&fm=Search&iid=77427425-c4b9-4c51-ae34-f364f1b0169f.MOBGAHD8GWKMFWFG.SEARCH&ppt=sp&ppn=sp&qH=a8a05b27fa56e036\"\n",
    "details(b73,headers)"
   ]
  },
  {
   "cell_type": "code",
   "execution_count": 146,
   "id": "d6f37f9b",
   "metadata": {},
   "outputs": [
    {
     "name": "stdout",
     "output_type": "stream",
     "text": [
      "<Response [200]>\n",
      "['REDMI Note', 'RAM']\n",
      "['(Shadow Black']\n",
      "['48MP', '8MP', '2MP', '2MP', '13MP']\n",
      "['4 GB', '64 GB', '512 GB']\n",
      "['5020 mAh']\n",
      "['16.59 cm']\n",
      "['1,22', ',988', '9,412']\n",
      "4.3\n",
      "₹11,999\n"
     ]
    }
   ],
   "source": [
    "b74=\"https://www.flipkart.com/redmi-note-9-shadow-black-64-gb/p/itm70628269ecd57?pid=MOBFXEPZM4DX89AQ&lid=LSTMOBFXEPZM4DX89AQYNDC7A&marketplace=FLIPKART&q=redmi+phones&store=tyy%2F4io&srno=s_3_49&otracker=search&otracker1=search&fm=Search&iid=77427425-c4b9-4c51-ae34-f364f1b0169f.MOBFXEPZM4DX89AQ.SEARCH&ppt=sp&ppn=sp&qH=a8a05b27fa56e036\"\n",
    "details(b74,headers)"
   ]
  },
  {
   "cell_type": "code",
   "execution_count": 149,
   "id": "c9f38f6e",
   "metadata": {},
   "outputs": [
    {
     "name": "stdout",
     "output_type": "stream",
     "text": [
      "<Response [200]>\n",
      "['REDMI Note', 'rizon Blue', 'RAM']\n",
      "['(Horizon Blue']\n",
      "['108MP']\n",
      "['8 GB', '128 GB']\n",
      "['5000 mAh']\n",
      "['16.33 cm']\n",
      "['650', '64']\n",
      "4.1\n",
      "₹16,450\n"
     ]
    }
   ],
   "source": [
    "b75=\"https://www.flipkart.com/redmi-note-11s-horizon-blue-128-gb/p/itmb8642d8e0f169?pid=MOBGBWYMQMZVT8XC&lid=LSTMOBGBWYMQMZVT8XCCJO9YE&marketplace=FLIPKART&q=redmi+phones&store=tyy%2F4io&srno=s_4_73&otracker=search&otracker1=search&fm=Search&iid=1ebf3eeb-0a80-458e-9791-5d48f374d68b.MOBGBWYMQMZVT8XC.SEARCH&ppt=sp&ppn=sp&qH=a8a05b27fa56e036\"\n",
    "details(b75,headers)"
   ]
  },
  {
   "cell_type": "code",
   "execution_count": 150,
   "id": "fdac7e87",
   "metadata": {},
   "outputs": [
    {
     "name": "stdout",
     "output_type": "stream",
     "text": [
      "<Response [200]>\n",
      "['REDMI 10', 'Prime 2022', 'Phantom Black', 'RAM']\n",
      "['(Phantom Black']\n",
      "['50MP']\n",
      "['4 GB', '64 GB']\n",
      "['6000 mAh']\n",
      "['16.51 cm']\n",
      "['2,678', '185']\n",
      "4.2\n",
      "₹11,982\n"
     ]
    }
   ],
   "source": [
    "b76=\"https://www.flipkart.com/redmi-10-prime-2022-phantom-black-64-gb/p/itmfb9b8e3166a46?pid=MOBGEGDXGZ7KQSYZ&lid=LSTMOBGEGDXGZ7KQSYZFNSEWI&marketplace=FLIPKART&q=redmi+phones&store=tyy%2F4io&srno=s_4_74&otracker=search&otracker1=search&fm=Search&iid=1ebf3eeb-0a80-458e-9791-5d48f374d68b.MOBGEGDXGZ7KQSYZ.SEARCH&ppt=sp&ppn=sp&qH=a8a05b27fa56e036\"\n",
    "details(b76,headers)"
   ]
  },
  {
   "cell_type": "code",
   "execution_count": 151,
   "id": "586802a7",
   "metadata": {},
   "outputs": [
    {
     "name": "stdout",
     "output_type": "stream",
     "text": [
      "<Response [200]>\n",
      "['Redmi Note', 'rizon Blue', 'RAM']\n",
      "['(Horizon Blue']\n",
      "['50MP']\n",
      "['6 GB', '128 GB']\n",
      "['5000 mAh']\n",
      "['16.33 cm']\n",
      "['7,929', '638']\n",
      "4.2\n",
      "₹15,889\n"
     ]
    }
   ],
   "source": [
    "b77=\"https://www.flipkart.com/redmi-note-11-horizon-blue-128-gb/p/itm2a388ca843b21?pid=MOBGHXQYMX4SPNJM&lid=LSTMOBGHXQYMX4SPNJMS0QKWQ&marketplace=FLIPKART&q=redmi+phones&store=tyy%2F4io&srno=s_4_77&otracker=search&otracker1=search&fm=Search&iid=1ebf3eeb-0a80-458e-9791-5d48f374d68b.MOBGHXQYMX4SPNJM.SEARCH&ppt=sp&ppn=sp&qH=a8a05b27fa56e036\"\n",
    "details(b77,headers)"
   ]
  },
  {
   "cell_type": "code",
   "execution_count": 152,
   "id": "acf8fe60",
   "metadata": {},
   "outputs": [
    {
     "name": "stdout",
     "output_type": "stream",
     "text": [
      "<Response [200]>\n",
      "['Redmi Note', 'rburst White', 'RAM']\n",
      "['(Starburst White']\n",
      "['50MP']\n",
      "['4 GB', '64 GB']\n",
      "['5000 mAh']\n",
      "['16.33 cm']\n",
      "['8,229', '760']\n",
      "4.2\n",
      "₹13,999\n"
     ]
    }
   ],
   "source": [
    "b78=\"https://www.flipkart.com/redmi-note-11-starburst-white-64-gb/p/itm2a388ca843b21?pid=MOBGBGARKRPMV86Z&lid=LSTMOBGBGARKRPMV86ZORONZP&marketplace=FLIPKART&q=redmi+phones&store=tyy%2F4io&srno=s_4_78&otracker=search&otracker1=search&fm=Search&iid=1ebf3eeb-0a80-458e-9791-5d48f374d68b.MOBGBGARKRPMV86Z.SEARCH&ppt=sp&ppn=sp&qH=a8a05b27fa56e036\"\n",
    "details(b78,headers)"
   ]
  },
  {
   "cell_type": "code",
   "execution_count": 153,
   "id": "7552d976",
   "metadata": {},
   "outputs": [
    {
     "name": "stdout",
     "output_type": "stream",
     "text": [
      "<Response [200]>\n",
      "['REDMI Note', 'RAM']\n",
      "['(Glacier White']\n",
      "['48MP']\n",
      "['6 GB', '128 GB']\n",
      "['5020 mAh']\n",
      "['16.94 cm']\n",
      "['804', '65']\n",
      "4.3\n",
      "₹14,850\n"
     ]
    }
   ],
   "source": [
    "b79=\"https://www.flipkart.com/redmi-note-10-lite-glacier-white-128-gb/p/itm35fcbefde1d7e?pid=MOBG8YUHANE7SFRH&lid=LSTMOBG8YUHANE7SFRHN2CTQ4&marketplace=FLIPKART&q=redmi+phones&store=tyy%2F4io&srno=s_4_87&otracker=search&otracker1=search&fm=Search&iid=1ebf3eeb-0a80-458e-9791-5d48f374d68b.MOBG8YUHANE7SFRH.SEARCH&ppt=sp&ppn=sp&qH=a8a05b27fa56e036\"\n",
    "details(b79,headers)"
   ]
  },
  {
   "cell_type": "code",
   "execution_count": 154,
   "id": "5a32e464",
   "metadata": {},
   "outputs": [
    {
     "name": "stdout",
     "output_type": "stream",
     "text": [
      "<Response [200]>\n",
      "['REDMI 11', 'Prime', 'RAM']\n",
      "['(FlashyBlack']\n",
      "['50MP']\n",
      "['6 GB', '128 GB']\n",
      "['5000 mAh']\n",
      "['16.71 cm']\n",
      "['3', '0']\n",
      "5\n",
      "₹16,390\n"
     ]
    }
   ],
   "source": [
    "b80=\"https://www.flipkart.com/redmi-11-prime-flashyblack-128-gb/p/itm728f661535347?pid=MOBGHXG2ZQTCNFFX&lid=LSTMOBGHXG2ZQTCNFFXAGC40O&marketplace=FLIPKART&q=redmi+phones&store=tyy%2F4io&srno=s_4_96&otracker=search&otracker1=search&fm=Search&iid=1ebf3eeb-0a80-458e-9791-5d48f374d68b.MOBGHXG2ZQTCNFFX.SEARCH&ppt=sp&ppn=sp&qH=a8a05b27fa56e036\"\n",
    "details(b80,headers)"
   ]
  },
  {
   "cell_type": "code",
   "execution_count": 155,
   "id": "05962455",
   "metadata": {},
   "outputs": [
    {
     "name": "stdout",
     "output_type": "stream",
     "text": [
      "['512 GB', '64 GB', '64 GB', '64 GB', '512 GB', '512 GB', '512 GB', '512 GB', '512 GB', '512 GB', '512 GB', '128 GB', '512 GB', '512 GB', '512 GB', '512 GB', '128 GB', '512 GB', '512 GB', '128 GB', '512 GB', '64 GB', '512 GB', '512 GB', '512 GB', '64 GB', '32 GB', '64 GB', '512 GB', '512 GB', '64 GB', '512 GB', '64 GB', '512 GB', '512 GB', '512 GB', '512 GB', '512 GB', '512 GB', '512 GB', '32 GB', '64 GB', '64 GB', '512 GB', '64 GB', '64 GB', '128 GB', '64 GB', '128 GB', '128 GB', '128 GB', '128 GB', '64 GB', '512 GB', '512 GB', '512 GB', '64 GB', '128 GB', '128 GB', '128 GB', '512 GB', '512 GB', '512 GB', '128 GB', '512 GB', '128 GB', '128 GB', '128 GB', '64 GB', '64 GB', '128 GB', '512 GB', '512 GB', '512 GB', '128 GB', '64 GB', '128 GB', '64 GB', '128 GB', '128 GB']\n",
      "['13MP', '50MP', '50MP', '50MP', '13MP', '50MP', '13MP', '13MP', '13MP', '13MP', '13MP', '50MP', '13MP', '13MP', '50MP', '64MP', '50MP', '64MP', '64MP', '50MP', '64MP', '13MP', '64MP', '13MP', '13MP', '13MP', '13MP', '13MP', '108MP', '108MP', '13MP', '13MP', '13MP', '13MP', '50MP', '13MP', '108MP', '48MP', '13MP', '13MP', '5MP', '50MP', '50MP', '50MP', '48MP', '48MP', '48MP', '48MP', '48MP', '108MP', '13MP', '13MP', '48MP', '8MP', '8MP', '13MP', '48MP', '50MP', '50MP', '64MP', '50MP', '8MP', '8MP', '50MP', '13MP', '108MP', '108MP', '108MP', '48MP', '50MP', '50MP', '64MP', '64MP', '48MP', '108MP', '50MP', '50MP', '50MP', '48MP', '50MP']\n",
      "['5MP', '5MP', '5MP', '5MP', '5MP', '8MP', '5MP', '5MP', '5MP', '5MP', '5MP', '5MP', '5MP', '5MP', '8MP', '16MP', '5MP', '13MP', '13MP', '5MP', '13MP', '13MP', '13MP', '5MP', '5MP', '13MP', '13MP', '13MP', '16MP', '16MP', '13MP', '5MP', '13MP', '5MP', '8MP', '5MP', '16MP', '13MP', '5MP', '5MP', '8MP', '50MP', '50MP', '8MP', '8MP', '8MP', '8MP', '48MP', '48MP', '108MP', '13MP', '13MP', '8MP', '5MP', '5MP', '8MP', '8MP', '50MP', '50MP', '64MP', '8MP', '5MP', '5MP', '50MP', '8MP', '108MP', '108MP', '108MP', '8MP', '50MP', '50MP', '13MP', '13MP', '13MP', '108MP', '50MP', '50MP', '50MP', '48MP', '50MP']\n",
      "['[', '(Metallic Blue', '[', '(Caribbean Green', '[', '(Pacific Blue', '[', '(Midnight Black', '[', '(Coral Green', '[', '(Phantom Black', '[', '(Coral Green', '[', '(Coral Green', '[', '(Carbon Black', '[', '(Metallic Purple', '[', '(Carbon Black', '[', '(Midnight Black', '[', '(Metallic Blue', '[', '(Carbon Black', '[', '(Astral White', '[', '(Vintage Bronze', '[', '(Pacific Blue', '[', '(Thunder Purple', '[', '(Bifrost Blue', '[', '(Caribbean Green', '[', '(Space Black', '[', '(Charcoal Black', '[', '(Cosmic White', '[', '(Midnight Black', '[', '(Carbon Black', '[', '(Slate grey', '[', '(Charcoal Black', '[', '(Sea Blue', '[', '(Vintage Bronze', '[', '(Dark Nebula', '[', '(Carbon Black', '[', '(Metallic Purple', '[', '(Charcoal Black', '[', '(Coral Green', '[', '(Bifrost Blue', '[', '(Sea Blue', '[', '(Dark Night', '[', '(Aqua Green', '[', '(Carbon Black', '[', '(Coral Green', '[', '(Light Blue', '[', '(Phantom Black', '[', '(Horizon Blue', '[', '(Bifrost Blue', '[', '(Metallic Blue', '[', '(Chromium White', '[', '(Mint Green', '[', '(Aurora Blue', '[', '(Aurora Blue', '[', '(Horizon Blue', '[', '(SLATE GREY', '[', '(SEA BLUE', '[', '(Graphite Black', '[', '(Light Blue', '[', '(Light Blue', '[', '(Space Blue', '[', '(Mint Green', '[', '(Starburst White', '[', '(Space Black', '[', '(Stealth Black', '[', '(Astral White', '[', '(Light Green', '[', '(Black', '[', '(Space Black', '[', '(Sunrise Flare', '[', '(Horizon Blue', '[', '(Polar White', '[', '(Polar White', '[', '(Chromium White', '[', '(Starburst White', '[', '(Stardust White', '[', '(Deep Sea', '[', '(Deep Sea', '[', '(Shadow Black', '[', '(Horizon Blue', '[', '(Phantom Black', '[', '(Horizon Blue', '[', '(Starburst White', '[', '(Glacier White', '[', '(FlashyBlack']\n",
      "['REDMI 9i', 'REDMI 10', 'REDMI 10', 'REDMI 10', 'REDMI 9i', 'REDMI 10', 'REDMI 9', 'REDMI 9', 'REDMI 9i', 'REDMI 9', 'REDMI 9', 'REDMI 10', 'Redmi 9A', 'Redmi 9A', 'REDMI 10', 'REDMI Note', 'REDMI 10', 'REDMI Note', 'REDMI Note', 'REDMI 10', 'REDMI Note', 'REDMI 10A', 'REDMI Note', 'REDMI 9i', 'REDMI 9', 'REDMI 10A', 'REDMI 10A', 'REDMI 10A', 'REDMI Note', 'REDMI Note', 'REDMI 9', 'REDMI 9', 'REDMI 10A', 'REDMI 9', 'REDMI 10', 'REDMI 9i', 'REDMI Note', 'REDMI Note', 'Redmi 9A', 'Redmi 9A', 'REDMI A1', 'REDMI 10', 'REDMI Note', 'REDMI 10', 'REDMI Note', 'REDMI Note', 'REDMI Note', 'REDMI NOTE', 'REDMI NOTE', 'REDMI Note', 'REDMI 10A', 'REDMI 10A', 'REDMI Note', 'REDMI A1', 'REDMI A1', 'REDMI 9', 'REDMI Note', 'Redmi Note', 'Redmi Note', 'REDMI K50i', 'REDMI 10', 'REDMI A1', 'REDMI A1', 'REDMI Note', 'REDMI 9', 'REDMI Note', 'REDMI Note', 'REDMI Note', 'REDMI Note', 'Redmi Note', 'REDMI Note', 'REDMI Note', 'REDMI Note', 'REDMI Note', 'REDMI Note', 'REDMI 10', 'Redmi Note', 'Redmi Note', 'REDMI Note', 'REDMI 11']\n",
      "['4 GB', '4 GB', '4 GB', '4 GB', '4 GB', '6 GB', '4 GB', '4 GB', '4 GB', '4 GB', '4 GB', '6 GB', '2 GB', '2 GB', '6 GB', '6 GB', '6 GB', '6 GB', '6 GB', '6 GB', '6 GB', '4 GB', '6 GB', '4 GB', '6 GB', '4 GB', '3 GB', '4 GB', '6 GB', '6 GB', '4 GB', '6 GB', '4 GB', '6 GB', '4 GB', '4 GB', '6 GB', '4 GB', '2 GB', '2 GB', '2 GB', '4 GB', '4 GB', '6 GB', '4 GB', '4 GB', '6 GB', '4 GB', '6 GB', '8 GB', '6 GB', '6 GB', '4 GB', '3 GB', '3 GB', '4 GB', '4 GB', '6 GB', '6 GB', '6 GB', '4 GB', '2 GB', '3 GB', '8 GB', '4 GB', '6 GB', '6 GB', '8 GB', '4 GB', '4 GB', '6 GB', '6 GB', '6 GB', '4 GB', '8 GB', '4 GB', '6 GB', '4 GB', '6 GB', '6 GB']\n",
      "['5000 mAh', '6000 mAh', '6000 mAh', '6000 mAh', '5000 mAh', '6000 mAh', '5000 mAh', '5000 mAh', '5000 mAh', '5000 mAh', '5000 mAh', '6000 mAh', '5000 mAh', '5000 mAh', '6000 mAh', '5020 mAh', '6000 mAh', '5000 mAh', '5000 mAh', '6000 mAh', '5000 mAh', '5000 mAh', '5000 mAh', '5000 mAh', '5000 mAh', '5000 mAh', '5000 mAh', '5000 mAh', '5020 mAh', '5020 mAh', '5000 mAh', '5000 mAh', '5000 mAh', '5000 mAh', '6000 mAh', '5000 mAh', '5020 mAh', '5000 mAh', '5000 mAh', '5000 mAh', '5000 mAh', '6000 mAh', '50 mAh', '6000 mAh', '5000 mAh', '5000 mAh', '5000 mAh', '5020 mAh', '5020 mAh', '5000 mAh', '5000 mAh', '5000 mAh', '5000 mAh', '5000 mAh', '5000 mAh', '5020 mAh', '5000 mAh', '5000 mAh', '5000 mAh', '5080 mAh', '6000 mAh', '5000 mAh', '5000 mAh', '5000 mAh', '5020 mAh', '5000 mAh', '5000 mAh', '5000 mAh', '5000 mAh', '5000 mAh', '5000 mAh', '5000 mAh', '5000 mAh', '5020 mAh', '5000 mAh', '6000 mAh', '5000 mAh', '5000 mAh', '5020 mAh', '5000 mAh']\n",
      "['16.59 cm', '17.02 cm', '17.02 cm', '17.02 cm', '16.59 cm', '16.51 cm', '16.59 cm', '16.59 cm', '16.59 cm', '16.59 cm', '16.59 cm', '17.02 cm', '16.59 cm', '16.59 cm', '16.51 cm', '16.94 cm', '17.02 cm', '16.33 cm', '16.33 cm', '17.02 cm', '16.33 cm', '16.59 cm', '16.33 cm', '16.59 cm', '16.59 cm', '16.59 cm', '16.59 cm', '16.59 cm', '16.94 cm', '16.94 cm', '16.59 cm', '16.59 cm', '16.59 cm', '16.59 cm', '16.51 cm', '16.59 cm', '16.94 cm', '16.33 cm', '16.59 cm', '16.59 cm', '16.56 cm', '16.51 cm', '16.26 cm', '16.51 cm', '16.66 cm', '16.66 cm', '16.66 cm', '16.94 cm', '16.94 cm', '16.33 cm', '16.59 cm', '16.59 cm', '16.66 cm', '16.56 cm', '16.56 cm', '16.59 cm', '16.66 cm', '16.33 cm', '16.33 cm', '16.76 cm', '16.51 cm', '16.56 cm', '16.56 cm', '16.33 cm', '16.59 cm', '16.33 cm', '16.33 cm', '16.33 cm', '16.66 cm', '16.33 cm', '16.76 cm', '16.33 cm', '16.33 cm', '16.59 cm', '16.33 cm', '16.51 cm', '16.33 cm', '16.33 cm', '16.94 cm', '16.71 cm']\n",
      "['₹7,999', '₹9,999', '₹9,999', '₹9,999', '₹7,999', '₹12,999', '₹8,483', '₹8,483', '₹7,999', '₹8,449', '₹8,114', '₹11,999', '₹6,879', '₹6,895', '₹12,999', '₹15,999', '₹11,999', '₹12,999', '₹12,999', '₹11,999', '₹12,999', '₹8,688', '₹12,999', '₹8,999', '₹10,499', '₹8,663', '₹7,789', '₹8,603', '₹17,999', '₹17,999', '₹8,690', '₹10,499', '₹8,524', '₹10,499', '₹12,499', '₹8,999', '₹17,999', '₹12,990', '₹6,729', '₹6,669', '₹6,796', '₹11,984', '₹12,999', '₹16,999', '₹14,999', '₹14,999', '₹16,999', '₹13,250', '₹15,989', '₹16,249', '₹11,345', '₹10,989', '₹14,999', '₹8,499', '₹8,499', '₹11,490', '₹14,999', '₹15,958', '₹15,518', '₹23,990', '₹11,499', '₹7,499', '₹8,499', '₹16,210', '₹11,490', '₹15,653', '₹16,489', '₹16,364', '₹14,999', '₹13,097', '₹16,270', '₹14,999', '₹14,999', '₹11,999', '₹16,450', '₹11,982', '₹15,889', '₹13,999', '₹14,850', '₹16,390']\n",
      "['4.3', '4.3', '4.3', '4.3', '4.3', '4.1', '4.2', '4.2', '4.3', '4.2', '4.2', '4.2', '4.2', '4.2', '4.2', '4.3', '4.2', '4.3', '4.3', '4.2', '4.3', '4.2', '4.3', '4.3', '4.2', '4.1', '4.1', '4.2', '4.3', '4.3', '4.2', '4.2', '4.2', '4.2', '4.2', '4.3', '4.3', '4.3', '4.2', '4.2', '4.2', '4.2', '4.3', '4.2', '4.3', '4.3', '4.2', '4.3', '4.3', '4.1', '3.9', '3.9', '4.3', '4', '4', '4.4', '4.3', '4.2', '4.2', '4.2', '4.2', '4.2', '4', '4.1', '4.4', '4.2', '4.2', '4.1', '4.3', '4.2', '4.2', '4.4', '4.4', '4.3', '4.1', '4.2', '4.2', '4.2', '4.3', '5']\n",
      "['1,83', '1,41', '1,41', '1,41', '1,83', '45', '7,087', '7,087', '1,83', '7,087', '7,087', '18,768', '22,510', '22,510', '7,308', '40,233', '18,768', '19,967', '19,967', '18,768', '19,967', '3,940', '19,967', '5,73', '3,961', '5,167', '1,139', '3,940', '15,462', '15,462', '7,087', '3,961', '3,940', '3,961', '11,186', '5,73', '15,462', '13,251', '22,510', '22,510', '639', '2,678', '83', '7,308', '42,543', '42,543', '29,121', '2,057', '804', '650', '335', '335', '42,543', '145', '145', '2,26', '42,543', '7,929', '7,929', '607', '11,186', '332', '145', '650', '2,26', '1,782', '1,782', '650', '42,543', '8,229', '4,932', '80,647', '80,647', '1,22', '650', '2,678', '7,929', '8,229', '804', '3']\n"
     ]
    }
   ],
   "source": [
    "print(storage)\n",
    "print(camera_px)\n",
    "print(self_px)\n",
    "print(colour)\n",
    "print(name)\n",
    "print(ram)\n",
    "# print(tech)\n",
    "print(battery)\n",
    "print(display)\n",
    "print(price)\n",
    "# print(os_sys)\n",
    "print(star_rate)\n",
    "print(user_rate)"
   ]
  },
  {
   "cell_type": "code",
   "execution_count": 156,
   "id": "49de60a3",
   "metadata": {},
   "outputs": [
    {
     "data": {
      "text/plain": [
       "list"
      ]
     },
     "execution_count": 156,
     "metadata": {},
     "output_type": "execute_result"
    }
   ],
   "source": [
    "type(colour)"
   ]
  },
  {
   "cell_type": "code",
   "execution_count": 157,
   "id": "3e2fd8e7",
   "metadata": {},
   "outputs": [],
   "source": [
    "colour=[i for i in colour if i!='[']"
   ]
  },
  {
   "cell_type": "code",
   "execution_count": 158,
   "id": "5ec3123d",
   "metadata": {},
   "outputs": [
    {
     "data": {
      "text/plain": [
       "80"
      ]
     },
     "execution_count": 158,
     "metadata": {},
     "output_type": "execute_result"
    }
   ],
   "source": [
    "len(colour)"
   ]
  },
  {
   "cell_type": "code",
   "execution_count": 159,
   "id": "f04bb6ca",
   "metadata": {},
   "outputs": [],
   "source": [
    "camera_px=[i.replace(\"MP\",\"\") for i in camera_px]"
   ]
  },
  {
   "cell_type": "code",
   "execution_count": 160,
   "id": "5cb7d6c9",
   "metadata": {},
   "outputs": [],
   "source": [
    "self_px=[i.replace(\"MP\",\"\") for i in self_px]"
   ]
  },
  {
   "cell_type": "code",
   "execution_count": 161,
   "id": "cfb85234",
   "metadata": {},
   "outputs": [],
   "source": [
    "storage=[i.replace(\"GB\",\" \") for i in storage]"
   ]
  },
  {
   "cell_type": "code",
   "execution_count": 162,
   "id": "c9876251",
   "metadata": {},
   "outputs": [],
   "source": [
    "ram=[i.replace(\"GB\",\" \") for i in ram]"
   ]
  },
  {
   "cell_type": "code",
   "execution_count": 163,
   "id": "842b9972",
   "metadata": {},
   "outputs": [],
   "source": [
    "battery=[i.replace(\"mAH\",\"\") for i in battery]\n",
    "battery=[i.replace(\"mAh\",\"\") for i in battery]"
   ]
  },
  {
   "cell_type": "code",
   "execution_count": 164,
   "id": "217479c1",
   "metadata": {},
   "outputs": [],
   "source": [
    "colour=[i.replace(\"(\",\"\") for i in colour]\n"
   ]
  },
  {
   "cell_type": "code",
   "execution_count": 165,
   "id": "c81f0368",
   "metadata": {},
   "outputs": [],
   "source": [
    "price=[i.replace(\"₹\",\"\") for i in price]\n",
    "price=[i.replace(\",\",\"\") for i in price]"
   ]
  },
  {
   "cell_type": "code",
   "execution_count": 166,
   "id": "c5d0418e",
   "metadata": {},
   "outputs": [],
   "source": [
    "display=[i.replace(\" cm\",\"\") for i in display]"
   ]
  },
  {
   "cell_type": "code",
   "execution_count": 167,
   "id": "4be87772",
   "metadata": {},
   "outputs": [],
   "source": [
    "user_rate=[i.replace(\",\",\"\") for i in user_rate]"
   ]
  },
  {
   "cell_type": "code",
   "execution_count": 168,
   "id": "5c9c1062",
   "metadata": {},
   "outputs": [],
   "source": [
    "storage=[float(i) for i in storage]\n",
    "camera_px=[int(i) for i in camera_px]\n",
    "self_px=[int(i) for i in self_px]\n",
    "ram=[float(i) for i in ram]\n",
    "# tech=[float(i) for i in tech]\n",
    "battery=[float(i) for i in battery]\n",
    "display=[float(i) for i in display]\n",
    "price=[float(i) for i in price]\n",
    "star_rate=[float(i) for i in star_rate]\n",
    "user_rate=[float(i) for i in user_rate]"
   ]
  },
  {
   "cell_type": "code",
   "execution_count": 169,
   "id": "acdfc259",
   "metadata": {},
   "outputs": [
    {
     "data": {
      "text/plain": [
       "80"
      ]
     },
     "execution_count": 169,
     "metadata": {},
     "output_type": "execute_result"
    }
   ],
   "source": [
    "len(colour)"
   ]
  },
  {
   "cell_type": "code",
   "execution_count": 172,
   "id": "34bcb5f7",
   "metadata": {},
   "outputs": [],
   "source": [
    "r1=pd.DataFrame({\"Name\":name,\"Colour\":colour,\"Storage\":storage,\"Battery\":battery,\n",
    "               \"Camera_Pixel\":camera_px,\"Selfie_cam_pixel\":self_px,\"Display_size\":display,\n",
    "                \"RAM\":ram,\n",
    "               \"Star_ratings\":star_rate,\"Users_rated\":user_rate,\"Price\":price})"
   ]
  },
  {
   "cell_type": "code",
   "execution_count": 177,
   "id": "0ae0404c",
   "metadata": {},
   "outputs": [
    {
     "data": {
      "text/html": [
       "<div>\n",
       "<style scoped>\n",
       "    .dataframe tbody tr th:only-of-type {\n",
       "        vertical-align: middle;\n",
       "    }\n",
       "\n",
       "    .dataframe tbody tr th {\n",
       "        vertical-align: top;\n",
       "    }\n",
       "\n",
       "    .dataframe thead th {\n",
       "        text-align: right;\n",
       "    }\n",
       "</style>\n",
       "<table border=\"1\" class=\"dataframe\">\n",
       "  <thead>\n",
       "    <tr style=\"text-align: right;\">\n",
       "      <th></th>\n",
       "      <th>Name</th>\n",
       "      <th>Colour</th>\n",
       "      <th>Storage</th>\n",
       "      <th>Battery</th>\n",
       "      <th>Camera_Pixel</th>\n",
       "      <th>Selfie_cam_pixel</th>\n",
       "      <th>Display_size</th>\n",
       "      <th>RAM</th>\n",
       "      <th>Star_ratings</th>\n",
       "      <th>Users_rated</th>\n",
       "      <th>Price</th>\n",
       "    </tr>\n",
       "  </thead>\n",
       "  <tbody>\n",
       "    <tr>\n",
       "      <th>0</th>\n",
       "      <td>REDMI 9i</td>\n",
       "      <td>Metallic Blue</td>\n",
       "      <td>512.0</td>\n",
       "      <td>5000.0</td>\n",
       "      <td>13</td>\n",
       "      <td>5</td>\n",
       "      <td>16.59</td>\n",
       "      <td>4.0</td>\n",
       "      <td>4.3</td>\n",
       "      <td>183.0</td>\n",
       "      <td>7999.0</td>\n",
       "    </tr>\n",
       "    <tr>\n",
       "      <th>1</th>\n",
       "      <td>REDMI 10</td>\n",
       "      <td>Caribbean Green</td>\n",
       "      <td>64.0</td>\n",
       "      <td>6000.0</td>\n",
       "      <td>50</td>\n",
       "      <td>5</td>\n",
       "      <td>17.02</td>\n",
       "      <td>4.0</td>\n",
       "      <td>4.3</td>\n",
       "      <td>141.0</td>\n",
       "      <td>9999.0</td>\n",
       "    </tr>\n",
       "    <tr>\n",
       "      <th>2</th>\n",
       "      <td>REDMI 10</td>\n",
       "      <td>Pacific Blue</td>\n",
       "      <td>64.0</td>\n",
       "      <td>6000.0</td>\n",
       "      <td>50</td>\n",
       "      <td>5</td>\n",
       "      <td>17.02</td>\n",
       "      <td>4.0</td>\n",
       "      <td>4.3</td>\n",
       "      <td>141.0</td>\n",
       "      <td>9999.0</td>\n",
       "    </tr>\n",
       "    <tr>\n",
       "      <th>3</th>\n",
       "      <td>REDMI 10</td>\n",
       "      <td>Midnight Black</td>\n",
       "      <td>64.0</td>\n",
       "      <td>6000.0</td>\n",
       "      <td>50</td>\n",
       "      <td>5</td>\n",
       "      <td>17.02</td>\n",
       "      <td>4.0</td>\n",
       "      <td>4.3</td>\n",
       "      <td>141.0</td>\n",
       "      <td>9999.0</td>\n",
       "    </tr>\n",
       "    <tr>\n",
       "      <th>4</th>\n",
       "      <td>REDMI 9i</td>\n",
       "      <td>Coral Green</td>\n",
       "      <td>512.0</td>\n",
       "      <td>5000.0</td>\n",
       "      <td>13</td>\n",
       "      <td>5</td>\n",
       "      <td>16.59</td>\n",
       "      <td>4.0</td>\n",
       "      <td>4.3</td>\n",
       "      <td>183.0</td>\n",
       "      <td>7999.0</td>\n",
       "    </tr>\n",
       "    <tr>\n",
       "      <th>...</th>\n",
       "      <td>...</td>\n",
       "      <td>...</td>\n",
       "      <td>...</td>\n",
       "      <td>...</td>\n",
       "      <td>...</td>\n",
       "      <td>...</td>\n",
       "      <td>...</td>\n",
       "      <td>...</td>\n",
       "      <td>...</td>\n",
       "      <td>...</td>\n",
       "      <td>...</td>\n",
       "    </tr>\n",
       "    <tr>\n",
       "      <th>75</th>\n",
       "      <td>REDMI 10</td>\n",
       "      <td>Phantom Black</td>\n",
       "      <td>64.0</td>\n",
       "      <td>6000.0</td>\n",
       "      <td>50</td>\n",
       "      <td>50</td>\n",
       "      <td>16.51</td>\n",
       "      <td>4.0</td>\n",
       "      <td>4.2</td>\n",
       "      <td>2678.0</td>\n",
       "      <td>11982.0</td>\n",
       "    </tr>\n",
       "    <tr>\n",
       "      <th>76</th>\n",
       "      <td>Redmi Note</td>\n",
       "      <td>Horizon Blue</td>\n",
       "      <td>128.0</td>\n",
       "      <td>5000.0</td>\n",
       "      <td>50</td>\n",
       "      <td>50</td>\n",
       "      <td>16.33</td>\n",
       "      <td>6.0</td>\n",
       "      <td>4.2</td>\n",
       "      <td>7929.0</td>\n",
       "      <td>15889.0</td>\n",
       "    </tr>\n",
       "    <tr>\n",
       "      <th>77</th>\n",
       "      <td>Redmi Note</td>\n",
       "      <td>Starburst White</td>\n",
       "      <td>64.0</td>\n",
       "      <td>5000.0</td>\n",
       "      <td>50</td>\n",
       "      <td>50</td>\n",
       "      <td>16.33</td>\n",
       "      <td>4.0</td>\n",
       "      <td>4.2</td>\n",
       "      <td>8229.0</td>\n",
       "      <td>13999.0</td>\n",
       "    </tr>\n",
       "    <tr>\n",
       "      <th>78</th>\n",
       "      <td>REDMI Note</td>\n",
       "      <td>Glacier White</td>\n",
       "      <td>128.0</td>\n",
       "      <td>5020.0</td>\n",
       "      <td>48</td>\n",
       "      <td>48</td>\n",
       "      <td>16.94</td>\n",
       "      <td>6.0</td>\n",
       "      <td>4.3</td>\n",
       "      <td>804.0</td>\n",
       "      <td>14850.0</td>\n",
       "    </tr>\n",
       "    <tr>\n",
       "      <th>79</th>\n",
       "      <td>REDMI 11</td>\n",
       "      <td>FlashyBlack</td>\n",
       "      <td>128.0</td>\n",
       "      <td>5000.0</td>\n",
       "      <td>50</td>\n",
       "      <td>50</td>\n",
       "      <td>16.71</td>\n",
       "      <td>6.0</td>\n",
       "      <td>5.0</td>\n",
       "      <td>3.0</td>\n",
       "      <td>16390.0</td>\n",
       "    </tr>\n",
       "  </tbody>\n",
       "</table>\n",
       "<p>80 rows × 11 columns</p>\n",
       "</div>"
      ],
      "text/plain": [
       "          Name           Colour  Storage  Battery  Camera_Pixel  \\\n",
       "0     REDMI 9i    Metallic Blue    512.0   5000.0            13   \n",
       "1     REDMI 10  Caribbean Green     64.0   6000.0            50   \n",
       "2     REDMI 10     Pacific Blue     64.0   6000.0            50   \n",
       "3     REDMI 10   Midnight Black     64.0   6000.0            50   \n",
       "4     REDMI 9i      Coral Green    512.0   5000.0            13   \n",
       "..         ...              ...      ...      ...           ...   \n",
       "75    REDMI 10    Phantom Black     64.0   6000.0            50   \n",
       "76  Redmi Note     Horizon Blue    128.0   5000.0            50   \n",
       "77  Redmi Note  Starburst White     64.0   5000.0            50   \n",
       "78  REDMI Note    Glacier White    128.0   5020.0            48   \n",
       "79    REDMI 11      FlashyBlack    128.0   5000.0            50   \n",
       "\n",
       "    Selfie_cam_pixel  Display_size  RAM  Star_ratings  Users_rated    Price  \n",
       "0                  5         16.59  4.0           4.3        183.0   7999.0  \n",
       "1                  5         17.02  4.0           4.3        141.0   9999.0  \n",
       "2                  5         17.02  4.0           4.3        141.0   9999.0  \n",
       "3                  5         17.02  4.0           4.3        141.0   9999.0  \n",
       "4                  5         16.59  4.0           4.3        183.0   7999.0  \n",
       "..               ...           ...  ...           ...          ...      ...  \n",
       "75                50         16.51  4.0           4.2       2678.0  11982.0  \n",
       "76                50         16.33  6.0           4.2       7929.0  15889.0  \n",
       "77                50         16.33  4.0           4.2       8229.0  13999.0  \n",
       "78                48         16.94  6.0           4.3        804.0  14850.0  \n",
       "79                50         16.71  6.0           5.0          3.0  16390.0  \n",
       "\n",
       "[80 rows x 11 columns]"
      ]
     },
     "execution_count": 177,
     "metadata": {},
     "output_type": "execute_result"
    }
   ],
   "source": [
    "r1"
   ]
  },
  {
   "cell_type": "code",
   "execution_count": null,
   "id": "036ebec0",
   "metadata": {},
   "outputs": [],
   "source": []
  },
  {
   "cell_type": "code",
   "execution_count": null,
   "id": "0436effd",
   "metadata": {},
   "outputs": [],
   "source": []
  },
  {
   "cell_type": "code",
   "execution_count": null,
   "id": "71848337",
   "metadata": {},
   "outputs": [],
   "source": []
  }
 ],
 "metadata": {
  "kernelspec": {
   "display_name": "Python 3 (ipykernel)",
   "language": "python",
   "name": "python3"
  },
  "language_info": {
   "codemirror_mode": {
    "name": "ipython",
    "version": 3
   },
   "file_extension": ".py",
   "mimetype": "text/x-python",
   "name": "python",
   "nbconvert_exporter": "python",
   "pygments_lexer": "ipython3",
   "version": "3.9.12"
  }
 },
 "nbformat": 4,
 "nbformat_minor": 5
}
